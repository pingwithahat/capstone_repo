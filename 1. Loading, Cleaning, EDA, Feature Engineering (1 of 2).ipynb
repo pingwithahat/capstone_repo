{
 "cells": [
  {
   "cell_type": "markdown",
   "id": "35c49b23",
   "metadata": {},
   "source": [
    "# Loading, Cleaning, EDA, Feature Engineering"
   ]
  },
  {
   "cell_type": "markdown",
   "id": "c8f3d9e9",
   "metadata": {},
   "source": [
    "## Introduction"
   ]
  },
  {
   "cell_type": "markdown",
   "id": "11e46d14",
   "metadata": {},
   "source": [
    "### Problem Statement"
   ]
  },
  {
   "cell_type": "markdown",
   "id": "c1e83dc9",
   "metadata": {},
   "source": [
    "With the development of technology, detecting chess cheaters by the hardware that they carry has become harder. It is estimated to cost chess tournaments 10x more to be able to detect the hardware cheaters are using than the cost of the cheating hardware itself. Because of this, the development of statistical methods to predict when a player is cheating at chess (i.e. using a chess engine to know what the best move in the position is) is paramount to preserving the integrity of chess competitions.\n",
    "\n",
    "\n",
    "Predicting if someone is cheating is, at its root, a classification problem. The scope of this project is to develop methods which are able to predict if white (i.e. the player of the white pieces) or black (i.e. the player of the black pieces) is cheating. The ideal scenario would be to have a dataset with games where humans are playing against each other, labelled with if white, black or neither were cheating. Unfortunately, such datasets are not available to the public - chess cheaters are reluctant to identify themselves publicly and chess platforms with sophisticated cheater-detection methods do not share their own datasets to minimise the risk of cheaters learning how they are being detected.\n",
    "\n",
    "\n",
    "To circumvent this issue, games were collected where humans played against a chess engine and the engines were labelled 'cheaters'. Games were also collected where titled chess players (high-rated players) played against one another and were assumed to be games where neither player was cheating.\n",
    "\n",
    "\n",
    "The games were collected from the website 'FICS games’ (www.ficsgames.org), the free chess database.\n"
   ]
  },
  {
   "cell_type": "markdown",
   "id": "3f3459f3",
   "metadata": {},
   "source": [
    "-----"
   ]
  },
  {
   "cell_type": "markdown",
   "id": "dbc7e755",
   "metadata": {},
   "source": [
    "### Data Collection"
   ]
  },
  {
   "cell_type": "markdown",
   "id": "e19d2c80",
   "metadata": {},
   "source": [
    "Games were downloaded as pgn files and converted to json files (using a script edited from https://github.com/Assios/pgn-to-json). "
   ]
  },
  {
   "cell_type": "markdown",
   "id": "97adaabe",
   "metadata": {},
   "source": [
    "----"
   ]
  },
  {
   "cell_type": "markdown",
   "id": "3e811dda",
   "metadata": {},
   "source": [
    "## Loading and Cleaning"
   ]
  },
  {
   "cell_type": "code",
   "execution_count": null,
   "id": "79217c70",
   "metadata": {
    "ExecuteTime": {
     "end_time": "2022-11-07T08:39:51.418876Z",
     "start_time": "2022-11-07T08:39:49.348734Z"
    }
   },
   "outputs": [],
   "source": [
    "import sys\n",
    "import numpy as np\n",
    "import pandas as pd\n",
    "import matplotlib.pyplot as plt\n",
    "import chess\n",
    "import io\n",
    "# import chess.pgn\n",
    "from io import StringIO\n",
    "import seaborn as sns\n",
    "\n",
    "import plotly.express as px\n",
    "import plotly.graph_objects as go\n",
    "\n",
    "import joblib\n",
    "import re"
   ]
  },
  {
   "cell_type": "code",
   "execution_count": null,
   "id": "704224b5",
   "metadata": {
    "ExecuteTime": {
     "end_time": "2022-11-07T08:39:51.718409Z",
     "start_time": "2022-11-07T08:39:51.419875Z"
    }
   },
   "outputs": [],
   "source": [
    "import detecting_cheaters_in_chess_helpers as hp"
   ]
  },
  {
   "cell_type": "code",
   "execution_count": null,
   "id": "be634b33",
   "metadata": {
    "ExecuteTime": {
     "end_time": "2022-11-07T08:39:51.750420Z",
     "start_time": "2022-11-07T08:39:51.719376Z"
    }
   },
   "outputs": [],
   "source": [
    "%matplotlib inline\n",
    "%config InlineBackend.figure_format = 'svg'"
   ]
  },
  {
   "cell_type": "markdown",
   "id": "e0f92de0",
   "metadata": {},
   "source": [
    "----"
   ]
  },
  {
   "cell_type": "markdown",
   "id": "87b085bd",
   "metadata": {
    "heading_collapsed": true
   },
   "source": [
    "### Loading in Human vs Computer"
   ]
  },
  {
   "cell_type": "code",
   "execution_count": null,
   "id": "53efc201",
   "metadata": {
    "ExecuteTime": {
     "end_time": "2022-11-07T08:39:53.933056Z",
     "start_time": "2022-11-07T08:39:51.751809Z"
    },
    "hidden": true
   },
   "outputs": [],
   "source": [
    "raw_pickle_list = [joblib.load(f'./data/raw/{year}_CvH.pkl') for \\\n",
    "         year in np.arange(2021, 2019, -1)] # load the pickles from 2022 to 2018 inclusive"
   ]
  },
  {
   "cell_type": "code",
   "execution_count": null,
   "id": "b79ecf7b",
   "metadata": {
    "ExecuteTime": {
     "end_time": "2022-11-07T08:39:55.042155Z",
     "start_time": "2022-11-07T08:39:53.934053Z"
    },
    "hidden": true,
    "scrolled": true
   },
   "outputs": [],
   "source": [
    "# first pass grouping and concatenation\n",
    "big_df = hp.concatenate_cleaned_pickles(raw_pickle_list)"
   ]
  },
  {
   "cell_type": "code",
   "execution_count": null,
   "id": "2e6d5cae",
   "metadata": {
    "ExecuteTime": {
     "end_time": "2022-11-07T08:39:55.607639Z",
     "start_time": "2022-11-07T08:39:55.043127Z"
    },
    "hidden": true
   },
   "outputs": [],
   "source": [
    "X, y = hp.X_y_split_simple(big_df)\n",
    "\n",
    "y = hp.y_convert_to_ints(y)"
   ]
  },
  {
   "cell_type": "code",
   "execution_count": null,
   "id": "c670e937",
   "metadata": {
    "ExecuteTime": {
     "end_time": "2022-11-07T08:39:55.623597Z",
     "start_time": "2022-11-07T08:39:55.609634Z"
    },
    "hidden": true
   },
   "outputs": [],
   "source": [
    "X_ = X.drop(columns=['emt', 'moves'])"
   ]
  },
  {
   "cell_type": "markdown",
   "id": "1c68d2c8",
   "metadata": {
    "hidden": true
   },
   "source": [
    "----"
   ]
  },
  {
   "cell_type": "markdown",
   "id": "fe9fb146",
   "metadata": {
    "heading_collapsed": true
   },
   "source": [
    "### Loading in Human vs Human"
   ]
  },
  {
   "cell_type": "code",
   "execution_count": null,
   "id": "df9964dc",
   "metadata": {
    "ExecuteTime": {
     "end_time": "2022-11-07T08:40:00.321344Z",
     "start_time": "2022-11-07T08:39:55.624594Z"
    },
    "hidden": true
   },
   "outputs": [],
   "source": [
    "raw_pickle_list_titled = [pd.read_json(\n",
    "    f'./data/raw/json/Titled/ficsgamesdb_{year}_titled_movetimes_26{val}.json') \\\n",
    "                   for year, val in zip(np.arange(2021, 2016, -1), [4827, 5091, 5092, 5093, 5094])]"
   ]
  },
  {
   "cell_type": "code",
   "execution_count": null,
   "id": "4bf5a715",
   "metadata": {
    "ExecuteTime": {
     "end_time": "2022-11-07T08:40:01.642466Z",
     "start_time": "2022-11-07T08:40:00.322342Z"
    },
    "hidden": true,
    "scrolled": true
   },
   "outputs": [],
   "source": [
    "titled_df = hp.concatenate_cleaned_pickles(raw_pickle_list_titled)"
   ]
  },
  {
   "cell_type": "code",
   "execution_count": null,
   "id": "04ee8a56",
   "metadata": {
    "ExecuteTime": {
     "end_time": "2022-11-07T08:40:01.658423Z",
     "start_time": "2022-11-07T08:40:01.645458Z"
    },
    "hidden": true
   },
   "outputs": [],
   "source": [
    "X_titled, y_titled = hp.X_y_split_simple(titled_df)"
   ]
  },
  {
   "cell_type": "code",
   "execution_count": null,
   "id": "d858863a",
   "metadata": {
    "ExecuteTime": {
     "end_time": "2022-11-07T08:40:01.674407Z",
     "start_time": "2022-11-07T08:40:01.659420Z"
    },
    "hidden": true
   },
   "outputs": [],
   "source": [
    "y_titled.head(2)"
   ]
  },
  {
   "cell_type": "code",
   "execution_count": null,
   "id": "365e834d",
   "metadata": {
    "ExecuteTime": {
     "end_time": "2022-11-07T08:40:02.372592Z",
     "start_time": "2022-11-07T08:40:01.675434Z"
    },
    "hidden": true
   },
   "outputs": [],
   "source": [
    "y_titled = hp.y_convert_to_ints(y_titled)"
   ]
  },
  {
   "cell_type": "markdown",
   "id": "cf084ede",
   "metadata": {
    "hidden": true
   },
   "source": [
    "Dropping emt and moves:"
   ]
  },
  {
   "cell_type": "code",
   "execution_count": null,
   "id": "a81ae10e",
   "metadata": {
    "ExecuteTime": {
     "end_time": "2022-11-07T08:40:02.388462Z",
     "start_time": "2022-11-07T08:40:02.373589Z"
    },
    "hidden": true
   },
   "outputs": [],
   "source": [
    "X_titled_ = X_titled.drop(columns=['emt', 'moves'])"
   ]
  },
  {
   "cell_type": "code",
   "execution_count": null,
   "id": "8c6e53ee",
   "metadata": {
    "ExecuteTime": {
     "end_time": "2022-11-07T08:40:02.404419Z",
     "start_time": "2022-11-07T08:40:02.389458Z"
    },
    "hidden": true
   },
   "outputs": [],
   "source": [
    "X_titled_.head()"
   ]
  },
  {
   "cell_type": "markdown",
   "id": "ec5e461e",
   "metadata": {
    "hidden": true
   },
   "source": [
    "----"
   ]
  },
  {
   "cell_type": "markdown",
   "id": "a6ab253b",
   "metadata": {
    "heading_collapsed": true
   },
   "source": [
    "### Joining Cheater vs Human and Human vs Human"
   ]
  },
  {
   "cell_type": "code",
   "execution_count": null,
   "id": "fdaa8a0c",
   "metadata": {
    "ExecuteTime": {
     "end_time": "2022-11-07T08:40:02.452374Z",
     "start_time": "2022-11-07T08:40:02.405416Z"
    },
    "hidden": true
   },
   "outputs": [],
   "source": [
    "X_CvH_HvH = pd.concat([X_, X_titled_]).reset_index(drop=True)\n",
    "y_CvH_HvH = pd.concat([y, y_titled]).reset_index(drop=True)"
   ]
  },
  {
   "cell_type": "markdown",
   "id": "3e665f81",
   "metadata": {
    "hidden": true
   },
   "source": [
    "----"
   ]
  },
  {
   "cell_type": "markdown",
   "id": "23d277f0",
   "metadata": {},
   "source": [
    "## EDA"
   ]
  },
  {
   "cell_type": "markdown",
   "id": "8a30ac89",
   "metadata": {
    "heading_collapsed": true
   },
   "source": [
    "### Looking at CvH games"
   ]
  },
  {
   "cell_type": "code",
   "execution_count": null,
   "id": "63095388",
   "metadata": {
    "ExecuteTime": {
     "end_time": "2022-11-07T08:40:13.141503Z",
     "start_time": "2022-11-07T08:40:02.453351Z"
    },
    "hidden": true
   },
   "outputs": [],
   "source": [
    "df_2022_2018_C_distinv = joblib.load(\n",
    "    './data/preprocessed/df_2022_2018_C_distinv.pkl')\n",
    "df_2022_2018_H_distinv = joblib.load(\n",
    "    './data/preprocessed/df_2022_2018_H_distinv.pkl')"
   ]
  },
  {
   "cell_type": "code",
   "execution_count": null,
   "id": "b6b07fb9",
   "metadata": {
    "ExecuteTime": {
     "end_time": "2022-11-07T08:40:14.038500Z",
     "start_time": "2022-11-07T08:40:13.142473Z"
    },
    "hidden": true
   },
   "outputs": [],
   "source": [
    "# cheaters (rated and unrated)\n",
    "fig = px.histogram(\n",
    "    data_frame=df_2022_2018_C_distinv,\n",
    "    x='CheaterElo',\n",
    "    nbins=(int(df_2022_2018_C_distinv.CheaterElo.describe()['max'] - \\\n",
    "          df_2022_2018_C_distinv.CheaterElo.describe()['min'])),\n",
    "    title='Distribution of Cheater ELO'\n",
    "    \n",
    "    )\n",
    "\n",
    "fig.show()"
   ]
  },
  {
   "cell_type": "code",
   "execution_count": null,
   "id": "58a600c7",
   "metadata": {
    "ExecuteTime": {
     "end_time": "2022-11-07T08:40:14.213040Z",
     "start_time": "2022-11-07T08:40:14.039499Z"
    },
    "hidden": true
   },
   "outputs": [],
   "source": [
    "# non-cheaters (rated and unrated)\n",
    "fig = px.histogram(\n",
    "    data_frame=df_2022_2018_H_distinv,\n",
    "    x='NonCheaterElo',\n",
    "    nbins=(int(df_2022_2018_H_distinv.NonCheaterElo.describe()['max'] - \\\n",
    "          df_2022_2018_H_distinv.NonCheaterElo.describe()['min'])),\n",
    "    title='Distribution of Non-Cheater ELO'\n",
    "    \n",
    "    )\n",
    "\n",
    "fig.show()"
   ]
  },
  {
   "cell_type": "markdown",
   "id": "69ddf0a3",
   "metadata": {
    "hidden": true
   },
   "source": [
    "The spike at 1720-1721 above is probably because there are still unrated games in this dataframe. One's elo doesn't change due to an unrated game which could lead to anomalies like above. It could also be such a spike because that is the elo assigned to new players when they play their first game. Many of these should probably be eliminated from the dataset to minimise the distribution skew.\n",
    "\n",
    "\n",
    "Another thing to investigate is how much is the change in any individual player's elo affecting this distribution i.e. how different would it be if the data was grouped by unique players and their respective elo was averaged across all their games, OR their last elo (date-wise) was used?"
   ]
  },
  {
   "cell_type": "code",
   "execution_count": null,
   "id": "f4bca076",
   "metadata": {
    "ExecuteTime": {
     "end_time": "2022-11-07T08:40:14.354666Z",
     "start_time": "2022-11-07T08:40:14.214037Z"
    },
    "hidden": true
   },
   "outputs": [],
   "source": [
    "# both rated and unrated\n",
    "print('Rated and Unrated:')\n",
    "display(df_2022_2018_C_distinv.CheaterElo.describe().to_frame().T)\n",
    "\n",
    "# # only rated\n",
    "df_2022_2018_C_distinv_rated = df_2022_2018_C_distinv[[' rated' in x for x in df_2022_2018_C_distinv.Event]]\n",
    "print('Rated:')\n",
    "display(df_2022_2018_C_distinv.CheaterElo.describe().to_frame().T)\n",
    "\n",
    "# # only unrated\n",
    "df_2022_2018_C_distinv_unrated = df_2022_2018_C_distinv[['unrated' in x for x in df_2022_2018_C_distinv.Event]]\n",
    "print('Unrated:')\n",
    "display(df_2022_2018_C_distinv_unrated.CheaterElo.describe().to_frame().T)"
   ]
  },
  {
   "cell_type": "code",
   "execution_count": null,
   "id": "e947a5ea",
   "metadata": {
    "ExecuteTime": {
     "end_time": "2022-11-07T08:40:14.481332Z",
     "start_time": "2022-11-07T08:40:14.356661Z"
    },
    "hidden": true
   },
   "outputs": [],
   "source": [
    "# both rated and unrated\n",
    "print('Rated and Unrated:')\n",
    "display(df_2022_2018_H_distinv.NonCheaterElo.describe().to_frame().T)\n",
    "\n",
    "# # only rated\n",
    "df_2022_2018_H_distinv_rated = df_2022_2018_H_distinv[[' rated' in x for x in df_2022_2018_H_distinv.Event]]\n",
    "print('Rated:')\n",
    "display(df_2022_2018_H_distinv.NonCheaterElo.describe().to_frame().T)\n",
    "\n",
    "# # only unrated\n",
    "df_2022_2018_H_distinv_unrated = df_2022_2018_H_distinv[['unrated' in x for x in df_2022_2018_H_distinv.Event]]\n",
    "print('Unrated:')\n",
    "display(df_2022_2018_H_distinv_unrated.NonCheaterElo.describe().to_frame().T)"
   ]
  },
  {
   "cell_type": "code",
   "execution_count": null,
   "id": "2ea52e6d",
   "metadata": {
    "ExecuteTime": {
     "end_time": "2022-11-07T08:40:14.702748Z",
     "start_time": "2022-11-07T08:40:14.482330Z"
    },
    "hidden": true
   },
   "outputs": [],
   "source": [
    "fig = go.Figure()\n",
    "fig.add_trace(go.Histogram(x=df_2022_2018_C_distinv_rated['CheaterElo'],\n",
    "                          name='Cheater'))\n",
    "fig.add_trace(go.Histogram(x=df_2022_2018_H_distinv_rated['NonCheaterElo'],\n",
    "                          name='Non-cheater'))\n",
    "\n",
    "fig.update_layout(barmode='overlay',\n",
    "                 title=f'Distribution of Cheater and Non-Cheater Elo in Rated Games',\n",
    "                 xaxis_title='Elo',\n",
    "                 yaxis_title='Count')\n",
    "fig.update_traces(opacity=0.75)\n",
    "\n",
    "fig.show()\n",
    "\n",
    "\n",
    "fig = go.Figure()\n",
    "fig.add_trace(go.Histogram(x=df_2022_2018_C_distinv_unrated['CheaterElo'],\n",
    "                          name='Cheater'))\n",
    "fig.add_trace(go.Histogram(x=df_2022_2018_H_distinv_unrated['NonCheaterElo'],\n",
    "                          name='Non-cheater'))\n",
    "\n",
    "fig.update_layout(barmode='overlay',\n",
    "                 title=f'Distribution of Cheater and Non-Cheater Elo in Unrated Games',\n",
    "                 xaxis_title='Elo',\n",
    "                 yaxis_title='Count')\n",
    "fig.update_traces(opacity=0.75)\n",
    "\n",
    "\n",
    "fig.show()"
   ]
  },
  {
   "cell_type": "markdown",
   "id": "d6d8165a",
   "metadata": {
    "hidden": true
   },
   "source": [
    "----"
   ]
  },
  {
   "cell_type": "markdown",
   "id": "b22716e3",
   "metadata": {
    "hidden": true
   },
   "source": [
    "#### Investigating rated-cheater's bimodal distribution causes"
   ]
  },
  {
   "cell_type": "markdown",
   "id": "c68661b7",
   "metadata": {
    "hidden": true
   },
   "source": [
    "##### Event"
   ]
  },
  {
   "cell_type": "code",
   "execution_count": null,
   "id": "1f600fb3",
   "metadata": {
    "ExecuteTime": {
     "end_time": "2022-11-07T08:40:14.955082Z",
     "start_time": "2022-11-07T08:40:14.704743Z"
    },
    "hidden": true
   },
   "outputs": [],
   "source": [
    "# cheaters (rated)\n",
    "fig = px.histogram(\n",
    "    data_frame=df_2022_2018_C_distinv_rated,\n",
    "    x='CheaterElo',\n",
    "    nbins=(int(df_2022_2018_C_distinv.CheaterElo.describe()['max'] - \\\n",
    "          df_2022_2018_C_distinv.CheaterElo.describe()['min'])),\n",
    "    title='Distribution of Cheater ELO',\n",
    "    color='Event'\n",
    "    \n",
    "    )\n",
    "\n",
    "fig.show()"
   ]
  },
  {
   "cell_type": "markdown",
   "id": "82f468bf",
   "metadata": {
    "hidden": true
   },
   "source": [
    "----"
   ]
  },
  {
   "cell_type": "markdown",
   "id": "60cd1cd1",
   "metadata": {
    "heading_collapsed": true
   },
   "source": [
    "### Looking at Titled"
   ]
  },
  {
   "cell_type": "code",
   "execution_count": null,
   "id": "28c36598",
   "metadata": {
    "ExecuteTime": {
     "end_time": "2022-11-07T08:40:21.683337Z",
     "start_time": "2022-11-07T08:40:14.957079Z"
    },
    "hidden": true
   },
   "outputs": [],
   "source": [
    "df_2021_2017_titled_distinv = joblib.load(\n",
    "    './data/preprocessed/2021_2017_titled_distinv.pkl')"
   ]
  },
  {
   "cell_type": "code",
   "execution_count": null,
   "id": "11984a1a",
   "metadata": {
    "ExecuteTime": {
     "end_time": "2022-11-07T08:40:21.878822Z",
     "start_time": "2022-11-07T08:40:21.685332Z"
    },
    "hidden": true
   },
   "outputs": [],
   "source": [
    "df_2021_2017_titled_distinv = hp.drop_no_move_games(df_2021_2017_titled_distinv)"
   ]
  },
  {
   "cell_type": "code",
   "execution_count": null,
   "id": "b2623bf8",
   "metadata": {
    "ExecuteTime": {
     "end_time": "2022-11-07T08:40:21.910737Z",
     "start_time": "2022-11-07T08:40:21.881816Z"
    },
    "hidden": true
   },
   "outputs": [],
   "source": [
    "hp.any_missing_emt(df_2021_2017_titled_distinv)"
   ]
  },
  {
   "cell_type": "code",
   "execution_count": null,
   "id": "a734c366",
   "metadata": {
    "ExecuteTime": {
     "end_time": "2022-11-07T08:40:21.942653Z",
     "start_time": "2022-11-07T08:40:21.912732Z"
    },
    "hidden": true
   },
   "outputs": [],
   "source": [
    "df_2021_2017_titled_distinv.head(1)"
   ]
  },
  {
   "cell_type": "markdown",
   "id": "8e843094",
   "metadata": {
    "hidden": true
   },
   "source": [
    "#### Elo distribution for all games (rated and unrated)"
   ]
  },
  {
   "cell_type": "code",
   "execution_count": null,
   "id": "3cf1c68b",
   "metadata": {
    "ExecuteTime": {
     "end_time": "2022-11-07T08:40:22.068323Z",
     "start_time": "2022-11-07T08:40:21.944648Z"
    },
    "hidden": true
   },
   "outputs": [],
   "source": [
    "BlackElo_=df_2021_2017_titled_distinv[['Event', 'Date', 'BlackElo', 'BlackRD']].rename(columns={\n",
    "    'BlackElo': 'Elo',\n",
    "    'BlackRD': 'RD'})\n",
    "WhiteElo_=df_2021_2017_titled_distinv[['Event', 'Date', 'WhiteElo', 'WhiteRD']].rename(columns={\n",
    "    'WhiteElo': 'Elo',\n",
    "    'WhiteRD': 'RD'})\n",
    "\n",
    "Titled_Elos = pd.concat([BlackElo_, WhiteElo_]).reset_index()\n",
    "\n",
    "Titled_Elos.head()"
   ]
  },
  {
   "cell_type": "code",
   "execution_count": null,
   "id": "ac8576d0",
   "metadata": {
    "ExecuteTime": {
     "end_time": "2022-11-07T08:40:22.319658Z",
     "start_time": "2022-11-07T08:40:22.073309Z"
    },
    "hidden": true
   },
   "outputs": [],
   "source": [
    "# fig = px.histogram(\n",
    "#     data_frame=Titled_Elos,\n",
    "#     x='Elo',\n",
    "#     nbins=(int(Titled_Elos.Elo.describe()['max'] - \\\n",
    "#           Titled_Elos.Elo.describe()['min'])),\n",
    "#     title='Distribution of Titled PLayer ELO'\n",
    "    \n",
    "#     )\n",
    "\n",
    "# fig.show()\n",
    "\n",
    "fig = px.histogram(\n",
    "    data_frame=Titled_Elos,\n",
    "    x='Elo',\n",
    "#     nbins=(int(Titled_Elos.Elo.describe()['max'] - \\\n",
    "#           Titled_Elos.Elo.describe()['min'])),\n",
    "    title='Distribution of Titled PLayer ELO'\n",
    "    \n",
    "    )\n",
    "\n",
    "fig.show()"
   ]
  },
  {
   "cell_type": "code",
   "execution_count": null,
   "id": "97db4c74",
   "metadata": {
    "ExecuteTime": {
     "end_time": "2022-11-07T08:40:22.822333Z",
     "start_time": "2022-11-07T08:40:22.320655Z"
    },
    "hidden": true
   },
   "outputs": [],
   "source": [
    "fig = px.histogram(\n",
    "    data_frame=Titled_Elos[[' rated' in event for event in Titled_Elos.Event]],\n",
    "    x='Elo',\n",
    "#     nbins=(int(Titled_Elos.Elo.describe()['max'] - \\\n",
    "#           Titled_Elos.Elo.describe()['min'])),\n",
    "    title='Distribution of Titled PLayer ELO in Rated Games'\n",
    "    \n",
    "    )\n",
    "\n",
    "fig.show()\n",
    "\n",
    "fig = px.histogram(\n",
    "    data_frame=Titled_Elos[['unrated' in event for event in Titled_Elos.Event]],\n",
    "    x='Elo',\n",
    "#     nbins=(int(Titled_Elos.Elo.describe()['max'] - \\\n",
    "#           Titled_Elos.Elo.describe()['min'])),\n",
    "    title='Distribution of Titled PLayer ELO in Unrated Games'\n",
    "    \n",
    "    )\n",
    "\n",
    "fig.show()"
   ]
  },
  {
   "cell_type": "markdown",
   "id": "1f4d448d",
   "metadata": {
    "hidden": true
   },
   "source": [
    "---"
   ]
  },
  {
   "cell_type": "code",
   "execution_count": null,
   "id": "f8edb9be",
   "metadata": {
    "hidden": true
   },
   "outputs": [],
   "source": []
  },
  {
   "cell_type": "code",
   "execution_count": null,
   "id": "9309ec95",
   "metadata": {
    "ExecuteTime": {
     "end_time": "2022-11-07T08:40:22.870206Z",
     "start_time": "2022-11-07T08:40:22.824329Z"
    },
    "hidden": true
   },
   "outputs": [],
   "source": [
    "df_2021_2017_titled_distinv_rated = hp.keep_rated_games(df_2021_2017_titled_distinv)\n",
    "\n",
    "df_2021_2017_titled_distinv_rated.shape # (58478, 18)"
   ]
  },
  {
   "cell_type": "code",
   "execution_count": null,
   "id": "6c3a3873",
   "metadata": {
    "ExecuteTime": {
     "end_time": "2022-11-07T08:40:23.388839Z",
     "start_time": "2022-11-07T08:40:22.886164Z"
    },
    "hidden": true
   },
   "outputs": [],
   "source": [
    "df_2021_2017_titled_distinv_rated = hp.get_abs_elo_diff(df_2021_2017_titled_distinv_rated)"
   ]
  },
  {
   "cell_type": "code",
   "execution_count": null,
   "id": "d32f63af",
   "metadata": {
    "ExecuteTime": {
     "end_time": "2022-11-07T08:40:23.416766Z",
     "start_time": "2022-11-07T08:40:23.390833Z"
    },
    "hidden": true
   },
   "outputs": [],
   "source": [
    "HvH_elo_diff = df_2021_2017_titled_distinv_rated.abs_elo_diff.describe().to_frame().rename(\n",
    "    columns={'abs_elo_diff': 'rated_HvH_abs_elo_df'}\n",
    ")\n",
    "\n",
    "HvH_elo_diff\n",
    "\n",
    "# count \t58478.000000\n",
    "# mean \t198.632631\n",
    "# std \t134.015483\n",
    "# min \t0.000000\n",
    "# 25% \t92.000000\n",
    "# 50% \t180.000000\n",
    "# 75% \t283.000000\n",
    "# max \t1168.000000"
   ]
  },
  {
   "cell_type": "markdown",
   "id": "291c3f15",
   "metadata": {
    "hidden": true
   },
   "source": [
    "----"
   ]
  },
  {
   "cell_type": "markdown",
   "id": "7d3061bd",
   "metadata": {},
   "source": [
    "## Creating Features"
   ]
  },
  {
   "cell_type": "markdown",
   "id": "ecdc6e06",
   "metadata": {
    "heading_collapsed": true
   },
   "source": [
    "### Using Engine Evaluations "
   ]
  },
  {
   "cell_type": "markdown",
   "id": "95be89eb",
   "metadata": {
    "heading_collapsed": true,
    "hidden": true
   },
   "source": [
    "#### Getting Evaluations"
   ]
  },
  {
   "cell_type": "markdown",
   "id": "ec991adf",
   "metadata": {
    "heading_collapsed": true,
    "hidden": true
   },
   "source": [
    "##### Settings and functions"
   ]
  },
  {
   "cell_type": "code",
   "execution_count": null,
   "id": "7e492cea",
   "metadata": {
    "ExecuteTime": {
     "end_time": "2022-11-07T08:40:23.431725Z",
     "start_time": "2022-11-07T08:40:23.418760Z"
    },
    "code_folding": [
     0
    ],
    "hidden": true
   },
   "outputs": [],
   "source": [
    "# engine = chess.engine.SimpleEngine.popen_uci('./stockfish_15_win_x64_ssse/stockfish_15_x64_ssse.exe')\n",
    "\n",
    "# engine.configure({\"Hash\": 4096})\n",
    "\n",
    "# engine.configure({\"Threads\": 8})\n",
    "\n",
    "# # engine.configure({\"MultiPV\": 5})\n",
    "\n",
    "# engine.configure({\"Skill level\": 20})\n",
    "\n",
    "# engine.configure({\"Debug Log File\": \\\n",
    "#                   'C:/Users/Emanuel/Desktop/data/capstone/preprocessed/evaluations/log.txt'})\n",
    "\n",
    "# engine.configure({\"Move Overhead\": 100})\n",
    "\n",
    "# engine.configure({\"Slow Mover\": 20})\n",
    "\n",
    "# limit = chess.engine.Limit(time=0.1, depth=25)"
   ]
  },
  {
   "cell_type": "code",
   "execution_count": null,
   "id": "66d17dd0",
   "metadata": {
    "ExecuteTime": {
     "end_time": "2022-11-07T08:40:23.447683Z",
     "start_time": "2022-11-07T08:40:23.433720Z"
    },
    "code_folding": [
     0
    ],
    "hidden": true
   },
   "outputs": [],
   "source": [
    "# def evaluate_game(game):\n",
    "#     # Loop for moves in a single game\n",
    "#     evaluations_ = []\n",
    "#     board=chess.Board()\n",
    "#     for move in game:\n",
    "#         evalution_ = engine.analyse(board, limit, multipv='5')\n",
    "#         board.push_san(move)\n",
    "\n",
    "#         evaluations_.append(evalution_)\n",
    "    \n",
    "    \n",
    "#     return evaluations_"
   ]
  },
  {
   "cell_type": "code",
   "execution_count": null,
   "id": "d418036a",
   "metadata": {
    "ExecuteTime": {
     "end_time": "2022-11-07T08:40:23.462645Z",
     "start_time": "2022-11-07T08:40:23.449678Z"
    },
    "code_folding": [
     0
    ],
    "hidden": true
   },
   "outputs": [],
   "source": [
    "# def evaluate_games(df, save_rate=1000, path='./'): # risky to use function on many games in case something goes wrong\n",
    "#     list_of_evaluations = []\n",
    "#     game_count = 0\n",
    "    \n",
    "#     for game in zip(df.moves):    \n",
    "#         try:\n",
    "#             game_eval_ = evaluate_game(game[0])\n",
    "#             list_of_evaluations.append(game_eval_)\n",
    "\n",
    "#             game_count+=1\n",
    "\n",
    "#             if game_count%save_rate==0:\n",
    "#                 print(f'{game_count} games completed\\nSaving now...')\n",
    "#                 joblib.dump(list_of_evaluations, \n",
    "#                             f'{path}{game_count}_.pkl',\n",
    "#                            compress=3)\n",
    "#                 t=time.localtime()[0:6]\n",
    "#                 print(f'Saved at {t[0]}/{t[1]}/{t[2]} {t[3]}:{t[4]}:{t[5]}')\n",
    "#             elif game_count%100==0:\n",
    "#                 print(f'{game_count}')\n",
    "#                 t=time.localtime()[0:6]\n",
    "#                 print(f'At {t[0]}/{t[1]}/{t[2]} {t[3]}:{t[4]}:{t[5]}')\n",
    "#             else:\n",
    "#                 pass\n",
    "    \n",
    "#         except KeyboardInterrupt:\n",
    "#             print('Keyboard Interrupt')\n",
    "#             print(f'{game_count}')\n",
    "#             return list_of_evaluations\n",
    "# #             break\n",
    "    \n",
    "#         except:\n",
    "#             list_of_evaluations.append(['Error occured'])\n",
    "\n",
    "#             game_count+=1        \n",
    "\n",
    "#             print(f'Error occured on game {game_count}')\n",
    "        \n",
    "#     return list_of_evaluations"
   ]
  },
  {
   "cell_type": "code",
   "execution_count": null,
   "id": "7eb7b1fa",
   "metadata": {
    "ExecuteTime": {
     "end_time": "2022-11-07T08:40:23.494560Z",
     "start_time": "2022-11-07T08:40:23.464639Z"
    },
    "code_folding": [
     0
    ],
    "hidden": true,
    "scrolled": true
   },
   "outputs": [],
   "source": [
    "# ## Evaluating multiple games, starting at 0, with try-except\n",
    "\n",
    "# df_=\n",
    "# list_of_evaluations = []\n",
    "# game_count = 0\n",
    "# path='C:/Users/Emanuel/Desktop/data/capstone/preprocessed/evaluations/'\n",
    "# for game in zip(df_.moves):\n",
    "#     try:\n",
    "#         game_eval_ = evaluate_game(game[0])\n",
    "#         list_of_evaluations.append(game_eval_)\n",
    "\n",
    "#         game_count+=1\n",
    "\n",
    "#         if game_count%1000==0:\n",
    "#             print(f'{game_count} games completed\\nSaving now...')\n",
    "#             joblib.dump(list_of_evaluations, \n",
    "#                         f'{path}{game_count}_.pkl',\n",
    "#                        compress=3)\n",
    "#             t=time.localtime()[0:6]\n",
    "#             print(f'Saved at {t[0]}/{t[1]}/{t[2]} {t[3]}:{t[4]}:{t[5]}')\n",
    "#         elif game_count%100==0:\n",
    "#             print(f'{game_count}')\n",
    "#             t=time.localtime()[0:6]\n",
    "#             print(f'At {t[0]}/{t[1]}/{t[2]} {t[3]}:{t[4]}:{t[5]}')\n",
    "#         else:\n",
    "#             pass\n",
    "        \n",
    "#     except KeyboardInterrupt:\n",
    "#         print('Keyboard Interrupt')\n",
    "#         print(f'{game_count}')\n",
    "#         break\n",
    "        \n",
    "#     except:\n",
    "#         list_of_evaluations.append(['Error occured'])\n",
    "                \n",
    "#         game_count+=1\n",
    "        \n",
    "#         print(f'Error occured on game {game_count}')"
   ]
  },
  {
   "cell_type": "markdown",
   "id": "3fc62b41",
   "metadata": {
    "hidden": true
   },
   "source": [
    "-----"
   ]
  },
  {
   "cell_type": "markdown",
   "id": "bbadc1a4",
   "metadata": {
    "heading_collapsed": true,
    "hidden": true
   },
   "source": [
    "#### Using Evaluations to Make Features"
   ]
  },
  {
   "cell_type": "markdown",
   "id": "1083a312",
   "metadata": {
    "heading_collapsed": true,
    "hidden": true
   },
   "source": [
    "##### Loading in "
   ]
  },
  {
   "cell_type": "code",
   "execution_count": null,
   "id": "a040e77f",
   "metadata": {
    "ExecuteTime": {
     "end_time": "2022-11-07T08:41:59.026314Z",
     "start_time": "2022-11-07T08:40:23.496555Z"
    },
    "hidden": true
   },
   "outputs": [],
   "source": [
    "base_clean_titled = joblib.load('data/cleaned/Titled/base_clean_titled.pkl')\n",
    "base_clean_CvH = joblib.load('data/cleaned/CvH/base_clean_CvH.pkl')"
   ]
  },
  {
   "cell_type": "markdown",
   "id": "afe55944",
   "metadata": {
    "hidden": true
   },
   "source": [
    "-----"
   ]
  },
  {
   "cell_type": "markdown",
   "id": "74e08cfa",
   "metadata": {
    "heading_collapsed": true,
    "hidden": true
   },
   "source": [
    "##### Top recommendation checking"
   ]
  },
  {
   "cell_type": "code",
   "execution_count": null,
   "id": "2841a645",
   "metadata": {
    "ExecuteTime": {
     "end_time": "2022-11-07T08:42:43.928442Z",
     "start_time": "2022-11-07T08:41:59.027312Z"
    },
    "hidden": true
   },
   "outputs": [],
   "source": [
    "# titled\n",
    "base_clean_titled = hp.convert_all_game_moves_to_uci(base_clean_titled)\n",
    "base_clean_titled = hp.get_eval_top_move_for_all_games(base_clean_titled)\n",
    "base_clean_titled = hp.percent_of_top_moves_played_in_all_games_by_white_and_black(base_clean_titled)"
   ]
  },
  {
   "cell_type": "code",
   "execution_count": null,
   "id": "62b961bf",
   "metadata": {
    "ExecuteTime": {
     "end_time": "2022-11-07T08:43:30.409543Z",
     "start_time": "2022-11-07T08:42:43.930437Z"
    },
    "hidden": true
   },
   "outputs": [],
   "source": [
    "# CvH\n",
    "base_clean_CvH = hp.convert_all_game_moves_to_uci(base_clean_CvH)\n",
    "base_clean_CvH = hp.get_eval_top_move_for_all_games(base_clean_CvH)\n",
    "base_clean_CvH = hp.percent_of_top_moves_played_in_all_games_by_white_and_black(base_clean_CvH)"
   ]
  },
  {
   "cell_type": "markdown",
   "id": "2705ac0f",
   "metadata": {
    "hidden": true
   },
   "source": [
    "-----"
   ]
  },
  {
   "cell_type": "markdown",
   "id": "48ca74eb",
   "metadata": {},
   "source": [
    "### Calculating Average Time Per Move"
   ]
  },
  {
   "cell_type": "code",
   "execution_count": null,
   "id": "f90e05e7",
   "metadata": {
    "ExecuteTime": {
     "end_time": "2022-11-07T08:44:26.952933Z",
     "start_time": "2022-11-07T08:43:30.410513Z"
    }
   },
   "outputs": [],
   "source": [
    "incltopmove_titled = joblib.load('data/cleaned/Titled/incl_top_move_perc_titled.pkl')\n",
    "incltopmove_CvH = joblib.load('data/cleaned/CvH/incl_top_move_perc_CvH.pkl')"
   ]
  },
  {
   "cell_type": "code",
   "execution_count": null,
   "id": "6c519f13",
   "metadata": {
    "ExecuteTime": {
     "end_time": "2022-11-07T08:44:27.079135Z",
     "start_time": "2022-11-07T08:44:26.961910Z"
    }
   },
   "outputs": [],
   "source": [
    "incltopmove_titled = hp.drop_no_move_games(incltopmove_titled, min_game_len=2)\n",
    "incltopmove_CvH = hp.drop_no_move_games(incltopmove_CvH, min_game_len=2)"
   ]
  },
  {
   "cell_type": "code",
   "execution_count": null,
   "id": "7f721e10",
   "metadata": {
    "ExecuteTime": {
     "end_time": "2022-11-07T08:44:32.132968Z",
     "start_time": "2022-11-07T08:44:27.081130Z"
    }
   },
   "outputs": [],
   "source": [
    "incltopmove_titled = hp.separate_all_white_and_black_average_emts(incltopmove_titled)\n",
    "incltopmove_CvH = hp.separate_all_white_and_black_average_emts(incltopmove_CvH)"
   ]
  },
  {
   "cell_type": "markdown",
   "id": "9c501e22",
   "metadata": {},
   "source": [
    "-----"
   ]
  }
 ],
 "metadata": {
  "kernelspec": {
   "display_name": "capstone_env",
   "language": "python",
   "name": "capstone_env"
  },
  "language_info": {
   "codemirror_mode": {
    "name": "ipython",
    "version": 3
   },
   "file_extension": ".py",
   "mimetype": "text/x-python",
   "name": "python",
   "nbconvert_exporter": "python",
   "pygments_lexer": "ipython3",
   "version": "3.9.13"
  },
  "toc": {
   "base_numbering": 1,
   "nav_menu": {},
   "number_sections": true,
   "sideBar": true,
   "skip_h1_title": false,
   "title_cell": "Table of Contents",
   "title_sidebar": "Contents",
   "toc_cell": false,
   "toc_position": {},
   "toc_section_display": true,
   "toc_window_display": true
  }
 },
 "nbformat": 4,
 "nbformat_minor": 5
}
