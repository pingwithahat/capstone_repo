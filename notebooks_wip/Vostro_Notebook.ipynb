{
 "cells": [
  {
   "cell_type": "markdown",
   "id": "c3f1d298",
   "metadata": {},
   "source": [
    "# EDA Contents "
   ]
  },
  {
   "cell_type": "markdown",
   "id": "461f60f6",
   "metadata": {
    "heading_collapsed": true
   },
   "source": [
    "## 'Placeholder'"
   ]
  },
  {
   "cell_type": "markdown",
   "id": "d564d563",
   "metadata": {},
   "source": [
    "# WIP"
   ]
  },
  {
   "cell_type": "markdown",
   "id": "2360f76e",
   "metadata": {},
   "source": [
    "## Imports"
   ]
  },
  {
   "cell_type": "markdown",
   "id": "b95471d2",
   "metadata": {},
   "source": [
    "### Main"
   ]
  },
  {
   "cell_type": "code",
   "execution_count": 1,
   "id": "86a6145f",
   "metadata": {
    "ExecuteTime": {
     "end_time": "2022-11-07T00:56:31.238535Z",
     "start_time": "2022-11-07T00:56:29.631497Z"
    }
   },
   "outputs": [],
   "source": [
    "import sys\n",
    "import numpy as np\n",
    "import pandas as pd\n",
    "import matplotlib.pyplot as plt\n",
    "import chess\n",
    "import io\n",
    "import sys\n",
    "# import chess.pgn\n",
    "from io import StringIO\n",
    "\n",
    "import plotly.express as px\n",
    "import plotly.graph_objects as go\n",
    "\n",
    "import joblib\n",
    "from tempfile import mkdtemp\n",
    "import re\n",
    "\n",
    "from sklearn.preprocessing import OneHotEncoder, StandardScaler, MinMaxScaler\n",
    "from sklearn.model_selection import train_test_split, cross_val_score, GridSearchCV \n",
    "from sklearn.linear_model import LogisticRegression\n",
    "from sklearn.svm import SVC\n",
    "from sklearn.tree import DecisionTreeClassifier, plot_tree\n",
    "from sklearn.neighbors import KNeighborsClassifier\n",
    "from sklearn.decomposition import PCA\n",
    "from tempfile import mkdtemp\n",
    "from sklearn.pipeline import Pipeline\n",
    "# from sklearn.pipeline import FeatureUnion\n",
    "from sklearn.compose import ColumnTransformer, make_column_selector\n",
    "from sklearn.metrics import classification_report, plot_confusion_matrix, confusion_matrix,\\\n",
    "                            make_scorer, accuracy_score, f1_score\n",
    "from sklearn.ensemble import RandomForestClassifier\n",
    "from xgboost import XGBClassifier\n",
    "\n",
    "\n",
    "from stockfish import Stockfish"
   ]
  },
  {
   "cell_type": "code",
   "execution_count": 2,
   "id": "e4167a91",
   "metadata": {
    "ExecuteTime": {
     "end_time": "2022-11-07T00:56:31.253498Z",
     "start_time": "2022-11-07T00:56:31.239505Z"
    }
   },
   "outputs": [],
   "source": [
    "import warnings\n",
    "warnings.filterwarnings(\"ignore\")"
   ]
  },
  {
   "cell_type": "code",
   "execution_count": 3,
   "id": "d55197e7",
   "metadata": {
    "ExecuteTime": {
     "end_time": "2022-11-07T00:56:31.284413Z",
     "start_time": "2022-11-07T00:56:31.254465Z"
    }
   },
   "outputs": [],
   "source": [
    "%matplotlib inline\n",
    "%config InlineBackend.figure_format = 'svg'\n",
    "# plt.style.use('seaborn')"
   ]
  },
  {
   "cell_type": "markdown",
   "id": "1d1ac632",
   "metadata": {},
   "source": [
    "---"
   ]
  },
  {
   "cell_type": "markdown",
   "id": "304c08f5",
   "metadata": {},
   "source": [
    "### Helpers"
   ]
  },
  {
   "cell_type": "code",
   "execution_count": 4,
   "id": "25c37d45",
   "metadata": {
    "ExecuteTime": {
     "end_time": "2022-11-07T00:56:31.300343Z",
     "start_time": "2022-11-07T00:56:31.286392Z"
    }
   },
   "outputs": [],
   "source": [
    "# import sys\n",
    "# sys.modules.pop('detecting_cheaters_in_chess_helpers')"
   ]
  },
  {
   "cell_type": "code",
   "execution_count": 5,
   "id": "006946c6",
   "metadata": {
    "ExecuteTime": {
     "end_time": "2022-11-07T00:56:31.347249Z",
     "start_time": "2022-11-07T00:56:31.330291Z"
    }
   },
   "outputs": [],
   "source": [
    "import detecting_cheaters_in_chess_helpers as hp"
   ]
  },
  {
   "cell_type": "markdown",
   "id": "45666345",
   "metadata": {},
   "source": [
    "['Event', 'Site', 'Date', 'Round', 'White', 'Black', 'Result',\n",
    "       'BlackClock', 'BlackElo', 'BlackIsComp', 'BlackRD', 'ECO',\n",
    "       'FICSGamesDBGameNo', 'PlyCount', 'Time', 'TimeControl', 'WhiteClock',\n",
    "       'WhiteElo', 'WhiteRD', 'emt', 'moves', 'WhiteIsComp', 'NoComp']"
   ]
  },
  {
   "cell_type": "markdown",
   "id": "6b49e909",
   "metadata": {},
   "source": [
    "-----"
   ]
  },
  {
   "cell_type": "markdown",
   "id": "3fb256ae",
   "metadata": {
    "heading_collapsed": true
   },
   "source": [
    "## DFs, Pickles, Checks"
   ]
  },
  {
   "cell_type": "markdown",
   "id": "4eff8b12",
   "metadata": {
    "hidden": true
   },
   "source": [
    "### Many pickles (or json)"
   ]
  },
  {
   "cell_type": "markdown",
   "id": "da1f7f2f",
   "metadata": {
    "heading_collapsed": true,
    "hidden": true
   },
   "source": [
    "#### 2022"
   ]
  },
  {
   "cell_type": "code",
   "execution_count": null,
   "id": "775f6370",
   "metadata": {
    "ExecuteTime": {
     "end_time": "2022-10-23T15:16:03.282605Z",
     "start_time": "2022-10-23T15:16:03.267645Z"
    },
    "hidden": true
   },
   "outputs": [],
   "source": [
    "# raw_2022_list = [pd.read_json(\n",
    "#     f'C:/Users/MaNiL/Desktop/data/capstone/raw/json/2022/ficsgamesdb_20220{num-17}_CvH_movetimes_2648{num}.json') for num in \\\n",
    "#                 range(18, 27)]"
   ]
  },
  {
   "cell_type": "code",
   "execution_count": null,
   "id": "c79b60e8",
   "metadata": {
    "ExecuteTime": {
     "end_time": "2022-10-23T15:16:03.298563Z",
     "start_time": "2022-10-23T15:16:03.283602Z"
    },
    "hidden": true
   },
   "outputs": [],
   "source": [
    "# raw_2022_list[0].head(1)"
   ]
  },
  {
   "cell_type": "code",
   "execution_count": null,
   "id": "60258d3a",
   "metadata": {
    "ExecuteTime": {
     "end_time": "2022-10-23T15:16:03.314642Z",
     "start_time": "2022-10-23T15:16:03.299560Z"
    },
    "hidden": true
   },
   "outputs": [],
   "source": [
    "# raw_2022 = pd.concat(raw_2022_list).reset_index(drop=True)\n",
    "# raw_2022.shape"
   ]
  },
  {
   "cell_type": "code",
   "execution_count": null,
   "id": "7dc21035",
   "metadata": {
    "ExecuteTime": {
     "end_time": "2022-10-23T15:16:03.329603Z",
     "start_time": "2022-10-23T15:16:03.315640Z"
    },
    "hidden": true
   },
   "outputs": [],
   "source": [
    "# # pickle 2022\n",
    "# joblib.dump(raw_2022, 'C:/Users/MaNiL/Desktop/data/capstone/preprocessed/2022_CvH.pkl')"
   ]
  },
  {
   "cell_type": "markdown",
   "id": "e12b0909",
   "metadata": {
    "heading_collapsed": true,
    "hidden": true
   },
   "source": [
    "#### 2021 and 2020"
   ]
  },
  {
   "cell_type": "code",
   "execution_count": null,
   "id": "fdda8d6d",
   "metadata": {
    "ExecuteTime": {
     "end_time": "2022-10-23T15:16:03.344562Z",
     "start_time": "2022-10-23T15:16:03.330600Z"
    },
    "hidden": true
   },
   "outputs": [],
   "source": [
    "# raw_2021 = joblib.load('./data/2021_CvH.pkl')"
   ]
  },
  {
   "cell_type": "code",
   "execution_count": null,
   "id": "081c7354",
   "metadata": {
    "ExecuteTime": {
     "end_time": "2022-10-23T15:16:03.360520Z",
     "start_time": "2022-10-23T15:16:03.347555Z"
    },
    "hidden": true
   },
   "outputs": [],
   "source": [
    "# raw_2020 = joblib.load('./data/2020_CvH.pkl')"
   ]
  },
  {
   "cell_type": "markdown",
   "id": "1eb2f2d1",
   "metadata": {
    "heading_collapsed": true,
    "hidden": true
   },
   "source": [
    "#### 2019 and 2018"
   ]
  },
  {
   "cell_type": "code",
   "execution_count": null,
   "id": "f7dcb01f",
   "metadata": {
    "ExecuteTime": {
     "end_time": "2022-10-23T15:16:03.376477Z",
     "start_time": "2022-10-23T15:16:03.361517Z"
    },
    "hidden": true
   },
   "outputs": [],
   "source": [
    "# raw_2019_2018_list = [pd.read_json(\n",
    "#     f'C:/Users/MaNiL/Desktop/data/capstone/raw/json/{year}/ficsgamesdb_{year}_CvH_movetimes_2648{val}.json')\\\n",
    "#                       for year, val in zip(['2019', '2018'], ['15', '16'])]"
   ]
  },
  {
   "cell_type": "code",
   "execution_count": null,
   "id": "d2248213",
   "metadata": {
    "ExecuteTime": {
     "end_time": "2022-10-23T15:16:03.392435Z",
     "start_time": "2022-10-23T15:16:03.377475Z"
    },
    "hidden": true
   },
   "outputs": [],
   "source": [
    "# raw_2019_2018_list[0].head(1)"
   ]
  },
  {
   "cell_type": "code",
   "execution_count": null,
   "id": "7e3a67bc",
   "metadata": {
    "ExecuteTime": {
     "end_time": "2022-10-23T15:16:03.408393Z",
     "start_time": "2022-10-23T15:16:03.393433Z"
    },
    "hidden": true,
    "scrolled": true
   },
   "outputs": [],
   "source": [
    "# raw_2019_2018_list[1].head(1)"
   ]
  },
  {
   "cell_type": "code",
   "execution_count": null,
   "id": "514ef614",
   "metadata": {
    "ExecuteTime": {
     "end_time": "2022-10-23T15:16:03.424379Z",
     "start_time": "2022-10-23T15:16:03.409389Z"
    },
    "hidden": true
   },
   "outputs": [],
   "source": [
    "# raw_2019_2018 = pd.concat(raw_2019_2018_list).reset_index(drop=True)"
   ]
  },
  {
   "cell_type": "code",
   "execution_count": null,
   "id": "142106a4",
   "metadata": {
    "ExecuteTime": {
     "end_time": "2022-10-23T15:16:03.440334Z",
     "start_time": "2022-10-23T15:16:03.425352Z"
    },
    "hidden": true
   },
   "outputs": [],
   "source": [
    "# # # pickle 2019 and 2018\n",
    "# joblib.dump(raw_2019_2018_list[0], 'C:/Users/MaNiL/Desktop/data/capstone/preprocessed/2019_CvH.pkl')\n",
    "# joblib.dump(raw_2019_2018_list[1], 'C:/Users/MaNiL/Desktop/data/capstone/preprocessed/2018_CvH.pkl')"
   ]
  },
  {
   "cell_type": "code",
   "execution_count": null,
   "id": "1190cc9d",
   "metadata": {
    "hidden": true
   },
   "outputs": [],
   "source": []
  },
  {
   "cell_type": "markdown",
   "id": "380373e4",
   "metadata": {
    "heading_collapsed": true,
    "hidden": true
   },
   "source": [
    "### Mass concatenation"
   ]
  },
  {
   "cell_type": "code",
   "execution_count": null,
   "id": "b007b681",
   "metadata": {
    "ExecuteTime": {
     "end_time": "2022-10-23T15:16:03.456294Z",
     "start_time": "2022-10-23T15:16:03.441304Z"
    },
    "hidden": true
   },
   "outputs": [],
   "source": [
    "# raw_2022\n",
    "# raw_2021\n",
    "# raw_2020\n",
    "# raw_2019_2018"
   ]
  },
  {
   "cell_type": "code",
   "execution_count": null,
   "id": "fef25f65",
   "metadata": {
    "hidden": true
   },
   "outputs": [],
   "source": []
  },
  {
   "cell_type": "code",
   "execution_count": null,
   "id": "5ee552ce",
   "metadata": {
    "ExecuteTime": {
     "end_time": "2022-10-23T15:16:03.472222Z",
     "start_time": "2022-10-23T15:16:03.458259Z"
    },
    "hidden": true
   },
   "outputs": [],
   "source": [
    "# # on vostro laptop\n",
    "# raw_pickle_list = [joblib.load(f'C:/Users/MaNiL/Desktop/data/capstone/preprocessed/{year}_CvH.pkl') for \\\n",
    "#          year in np.arange(2022, 2017, -1)] # load the pickles from 2022 to 2018 inclusive"
   ]
  },
  {
   "cell_type": "code",
   "execution_count": null,
   "id": "690e92e6",
   "metadata": {
    "ExecuteTime": {
     "end_time": "2022-10-23T15:16:03.488209Z",
     "start_time": "2022-10-23T15:16:03.473219Z"
    },
    "hidden": true
   },
   "outputs": [],
   "source": [
    "# sum([df_.shape[0] for df_ in raw_pickle_list])==pd.concat(raw_pickle_list).shape[0]"
   ]
  },
  {
   "cell_type": "code",
   "execution_count": null,
   "id": "1a071d2a",
   "metadata": {
    "ExecuteTime": {
     "end_time": "2022-10-23T15:16:03.504160Z",
     "start_time": "2022-10-23T15:16:03.489177Z"
    },
    "hidden": true
   },
   "outputs": [],
   "source": [
    "# big_df = hp.concatenate_cleaned_pickles(raw_pickle_list)"
   ]
  },
  {
   "cell_type": "code",
   "execution_count": null,
   "id": "dbbfe97d",
   "metadata": {
    "ExecuteTime": {
     "end_time": "2022-10-23T15:16:03.520124Z",
     "start_time": "2022-10-23T15:16:03.505133Z"
    },
    "hidden": true
   },
   "outputs": [],
   "source": [
    "# X, y = hp.X_y_split_simple(big_df)\n",
    "\n",
    "# y = hp.y_convert_to_ohe_vec(y)"
   ]
  },
  {
   "cell_type": "code",
   "execution_count": null,
   "id": "d839489b",
   "metadata": {
    "ExecuteTime": {
     "end_time": "2022-10-23T15:16:03.535621Z",
     "start_time": "2022-10-23T15:16:03.521091Z"
    },
    "hidden": true
   },
   "outputs": [],
   "source": [
    "# y.head()"
   ]
  },
  {
   "cell_type": "markdown",
   "id": "6734689f",
   "metadata": {
    "hidden": true
   },
   "source": [
    "-----"
   ]
  },
  {
   "cell_type": "markdown",
   "id": "01efeb74",
   "metadata": {
    "heading_collapsed": true,
    "hidden": true
   },
   "source": [
    "### Mass concatenation test"
   ]
  },
  {
   "cell_type": "markdown",
   "id": "d81b78d3",
   "metadata": {
    "heading_collapsed": true,
    "hidden": true
   },
   "source": [
    "#### Only 2022"
   ]
  },
  {
   "cell_type": "code",
   "execution_count": null,
   "id": "cbd064ae",
   "metadata": {
    "ExecuteTime": {
     "end_time": "2022-10-23T15:16:03.551576Z",
     "start_time": "2022-10-23T15:16:03.536585Z"
    },
    "hidden": true
   },
   "outputs": [],
   "source": [
    "# raw_2022 = joblib.load('C:/Users/MaNiL/Desktop/data/capstone/preprocessed/2022_CvH.pkl')"
   ]
  },
  {
   "cell_type": "code",
   "execution_count": null,
   "id": "b04e6383",
   "metadata": {
    "ExecuteTime": {
     "end_time": "2022-10-23T15:16:03.567530Z",
     "start_time": "2022-10-23T15:16:03.552543Z"
    },
    "hidden": true
   },
   "outputs": [],
   "source": [
    "# raw_2022 = hp.change_comp_columns(raw_2022)"
   ]
  },
  {
   "cell_type": "code",
   "execution_count": null,
   "id": "af994e71",
   "metadata": {
    "ExecuteTime": {
     "end_time": "2022-10-23T15:16:03.583460Z",
     "start_time": "2022-10-23T15:16:03.568500Z"
    },
    "hidden": true
   },
   "outputs": [],
   "source": [
    "# raw_2022 = raw_2022.drop(columns=['Taco'])\n",
    "# KeyError: \"['Taco'] not found in axis\"\n"
   ]
  },
  {
   "cell_type": "code",
   "execution_count": null,
   "id": "d77e4dcb",
   "metadata": {
    "ExecuteTime": {
     "end_time": "2022-10-23T15:16:03.599445Z",
     "start_time": "2022-10-23T15:16:03.584458Z"
    },
    "hidden": true
   },
   "outputs": [],
   "source": [
    "# def X_y_split_simple(df):\n",
    "#     X_ = df.drop(columns=['WhiteIsComp', 'BlackIsComp', 'NoComp'])\n",
    "#     y_ = df.loc[:,['WhiteIsComp', 'BlackIsComp', 'NoComp']]\n",
    "#     return X_, y_"
   ]
  },
  {
   "cell_type": "code",
   "execution_count": null,
   "id": "5d66e6b5",
   "metadata": {
    "ExecuteTime": {
     "end_time": "2022-10-23T15:16:03.615402Z",
     "start_time": "2022-10-23T15:16:03.600414Z"
    },
    "hidden": true,
    "scrolled": true
   },
   "outputs": [],
   "source": [
    "# X_, y_ = hp.X_y_split_simple(raw_2022)"
   ]
  },
  {
   "cell_type": "code",
   "execution_count": null,
   "id": "4916dacd",
   "metadata": {
    "ExecuteTime": {
     "end_time": "2022-10-23T15:16:03.630930Z",
     "start_time": "2022-10-23T15:16:03.616372Z"
    },
    "hidden": true
   },
   "outputs": [],
   "source": [
    "# y_.head()"
   ]
  },
  {
   "cell_type": "code",
   "execution_count": null,
   "id": "dad8a107",
   "metadata": {
    "ExecuteTime": {
     "end_time": "2022-10-23T15:16:03.646859Z",
     "start_time": "2022-10-23T15:16:03.636913Z"
    },
    "hidden": true
   },
   "outputs": [],
   "source": [
    "# y_ = hp.y_convert_to_ohe_vec(y_)\n",
    "# y_.head()"
   ]
  },
  {
   "cell_type": "code",
   "execution_count": null,
   "id": "450db16e",
   "metadata": {
    "ExecuteTime": {
     "end_time": "2022-10-23T15:16:03.662841Z",
     "start_time": "2022-10-23T15:16:03.647856Z"
    },
    "hidden": true
   },
   "outputs": [],
   "source": [
    "# y_.shape"
   ]
  },
  {
   "cell_type": "code",
   "execution_count": null,
   "id": "1bcccfd8",
   "metadata": {
    "hidden": true
   },
   "outputs": [],
   "source": []
  },
  {
   "cell_type": "code",
   "execution_count": null,
   "id": "caafaf2e",
   "metadata": {
    "ExecuteTime": {
     "end_time": "2022-10-23T15:16:03.678796Z",
     "start_time": "2022-10-23T15:16:03.663814Z"
    },
    "hidden": true
   },
   "outputs": [],
   "source": [
    "# def y_convert_to_ohe_vec(y):\n",
    "#     '''\n",
    "#     Note: Loss will have to be 'categorical_crossentropy' if y's are one-hot-encoded, 'sparse_categorical_crossentropy' if y's are integers.\n",
    "    \n",
    "#     If all games contain a cheater, return integers for y where:\n",
    "#         0 indicates white was cheating\n",
    "#         1 indicates black was cheating\n",
    "        \n",
    "#     If any games contain no cheaters, return one-hot-encoded arrays for y where:\n",
    "#         [1,0,0] indicates white was cheating\n",
    "#         [0,1,0] indicates black was cheating\n",
    "#         [0,0,1] indicates no-one was cheating\n",
    "        \n",
    "        \n",
    "#     Have a check for explicit 'options=3' where user can input options value, or check len(y.columns)==3\n",
    "#     '''\n",
    "#     if len(y.columns)==3:\n",
    "#         if all(y.NoComp==0):\n",
    "#             y_ = pd.DataFrame(np.where(y.WhiteIsComp==1, 0, 1), columns=['0_WhiteIsComp_1_BlackIsComp'])\n",
    "#             return y_\n",
    "#         else:\n",
    "#             y_ = pd.DataFrame([[row] for row in y.values], columns=['WhiteIsComp_BlackIsComp_NoComp'])\n",
    "#             return y_        \n",
    "#     else:\n",
    "#         return(print('Function only currently supporting y having WhiteIsComp, BlackIsComp, and NoComp'))"
   ]
  },
  {
   "cell_type": "code",
   "execution_count": null,
   "id": "6967ce46",
   "metadata": {
    "ExecuteTime": {
     "end_time": "2022-10-23T15:16:03.694731Z",
     "start_time": "2022-10-23T15:16:03.679771Z"
    },
    "hidden": true
   },
   "outputs": [],
   "source": [
    "# all(y_.NoComp==0)"
   ]
  },
  {
   "cell_type": "code",
   "execution_count": null,
   "id": "b139b70f",
   "metadata": {
    "ExecuteTime": {
     "end_time": "2022-10-23T15:16:03.710715Z",
     "start_time": "2022-10-23T15:16:03.695729Z"
    },
    "hidden": true
   },
   "outputs": [],
   "source": [
    "# (y_.WhiteIsComp==1).head()"
   ]
  },
  {
   "cell_type": "code",
   "execution_count": null,
   "id": "4d4314e1",
   "metadata": {
    "ExecuteTime": {
     "end_time": "2022-10-23T15:16:03.726646Z",
     "start_time": "2022-10-23T15:16:03.711686Z"
    },
    "hidden": true
   },
   "outputs": [],
   "source": [
    "# np.where(y_.WhiteIsComp==1, 0, 1)"
   ]
  },
  {
   "cell_type": "code",
   "execution_count": null,
   "id": "0ca641b5",
   "metadata": {
    "ExecuteTime": {
     "end_time": "2022-10-23T15:16:03.742591Z",
     "start_time": "2022-10-23T15:16:03.727639Z"
    },
    "hidden": true
   },
   "outputs": [],
   "source": [
    "# y_t = y_.copy()\n",
    "# y_t['0_WhiteIsComp_1_BlackIsComp'] = np.where(y_t.WhiteIsComp==1, 0, 1)"
   ]
  },
  {
   "cell_type": "code",
   "execution_count": null,
   "id": "2e9d0dd3",
   "metadata": {
    "ExecuteTime": {
     "end_time": "2022-10-23T15:16:03.758564Z",
     "start_time": "2022-10-23T15:16:03.744587Z"
    },
    "hidden": true
   },
   "outputs": [],
   "source": [
    "# y_t.head(5)"
   ]
  },
  {
   "cell_type": "code",
   "execution_count": null,
   "id": "97369f8f",
   "metadata": {
    "ExecuteTime": {
     "end_time": "2022-10-23T15:16:03.774534Z",
     "start_time": "2022-10-23T15:16:03.759546Z"
    },
    "hidden": true
   },
   "outputs": [],
   "source": [
    "# y_tt = pd.DataFrame(np.where(y_.WhiteIsComp==1, 0, 1), columns=['0_WhiteIsComp_1_BlackIsComp'])\n",
    "# y_tt"
   ]
  },
  {
   "cell_type": "code",
   "execution_count": null,
   "id": "a10f94a5",
   "metadata": {
    "ExecuteTime": {
     "end_time": "2022-10-23T15:16:03.790491Z",
     "start_time": "2022-10-23T15:16:03.775504Z"
    },
    "hidden": true
   },
   "outputs": [],
   "source": [
    "# for row in y_.values:\n",
    "#     print(row)\n",
    "\n",
    "# pd.DataFrame([[row] for row in y_.values], columns=['WhiteIsComp_BlackIsComp_NoComp'])"
   ]
  },
  {
   "cell_type": "code",
   "execution_count": null,
   "id": "3bdf19aa",
   "metadata": {
    "ExecuteTime": {
     "end_time": "2022-10-23T15:16:03.805451Z",
     "start_time": "2022-10-23T15:16:03.791461Z"
    },
    "hidden": true
   },
   "outputs": [],
   "source": [
    "# y_test_ = y_convert_to_ohe_vec(y_)\n",
    "# y_test_"
   ]
  },
  {
   "cell_type": "markdown",
   "id": "8be12628",
   "metadata": {
    "hidden": true
   },
   "source": [
    "-----"
   ]
  },
  {
   "cell_type": "markdown",
   "id": "62fe6ef9",
   "metadata": {
    "heading_collapsed": true,
    "hidden": true
   },
   "source": [
    "#### Only 2021 and 2020"
   ]
  },
  {
   "cell_type": "code",
   "execution_count": null,
   "id": "eeb2361c",
   "metadata": {
    "ExecuteTime": {
     "end_time": "2022-10-23T15:16:03.820411Z",
     "start_time": "2022-10-23T15:16:03.806421Z"
    },
    "hidden": true
   },
   "outputs": [],
   "source": [
    "# only have these two years on one-drive\n",
    "# raw_p = [raw_2021, raw_2020]"
   ]
  },
  {
   "cell_type": "code",
   "execution_count": null,
   "id": "35061b1e",
   "metadata": {
    "ExecuteTime": {
     "end_time": "2022-10-23T15:16:03.836366Z",
     "start_time": "2022-10-23T15:16:03.821381Z"
    },
    "hidden": true
   },
   "outputs": [],
   "source": [
    "# df_2021_2020 = pd.concat(list_cleaned_p).reset_index(drop=True)"
   ]
  },
  {
   "cell_type": "code",
   "execution_count": null,
   "id": "423199bd",
   "metadata": {
    "ExecuteTime": {
     "end_time": "2022-10-23T15:16:03.852326Z",
     "start_time": "2022-10-23T15:16:03.837339Z"
    },
    "hidden": true
   },
   "outputs": [],
   "source": [
    "# df_2021_2020.head(2)"
   ]
  },
  {
   "cell_type": "code",
   "execution_count": null,
   "id": "5e0ffba1",
   "metadata": {
    "ExecuteTime": {
     "end_time": "2022-10-23T15:16:03.868256Z",
     "start_time": "2022-10-23T15:16:03.853296Z"
    },
    "hidden": true
   },
   "outputs": [],
   "source": [
    "# sns.pairplot(df_2021_2020)\n",
    "# plt.show()"
   ]
  },
  {
   "cell_type": "code",
   "execution_count": null,
   "id": "c7326814",
   "metadata": {
    "ExecuteTime": {
     "end_time": "2022-10-23T15:16:03.884241Z",
     "start_time": "2022-10-23T15:16:03.870251Z"
    },
    "hidden": true
   },
   "outputs": [],
   "source": [
    "# X = df_2021_2020.drop(columns=['WhiteIsComp', 'BlackIsComp', 'NoComp'])\n",
    "# y = df_2021_2020.loc[:,['WhiteIsComp', 'BlackIsComp', 'NoComp']]"
   ]
  },
  {
   "cell_type": "code",
   "execution_count": null,
   "id": "612cd65f",
   "metadata": {
    "ExecuteTime": {
     "end_time": "2022-10-23T15:16:03.900196Z",
     "start_time": "2022-10-23T15:16:03.885211Z"
    },
    "hidden": true,
    "scrolled": true
   },
   "outputs": [],
   "source": [
    "# X.head(2)"
   ]
  },
  {
   "cell_type": "code",
   "execution_count": null,
   "id": "ab0a4899",
   "metadata": {
    "ExecuteTime": {
     "end_time": "2022-10-23T15:16:03.915158Z",
     "start_time": "2022-10-23T15:16:03.901168Z"
    },
    "hidden": true
   },
   "outputs": [],
   "source": [
    "# # %%timeit\n",
    "# test_=X.copy()\n",
    "\n",
    "# # test_[['TimeControl_Base', 'TimeControl_Inc']]=[\n",
    "# #     (str.split(x, sep='+')[0], str.split(x, sep='+')[1]) for x in X.TimeControl.values] # 117 ms ± 1.82 ms per loop (mean ± std. dev. of 7 runs, 10 loops each)\n",
    "\n",
    "\n",
    "# # test_[['TimeControl_Base', 'TimeControl_Inc']]=[\n",
    "# #     (str.split(x, sep='+')) for x in X.TimeControl.values] # 110 ms ± 14.6 ms per loop (mean ± std. dev. of 7 runs, 10 loops each)\n",
    "\n",
    "\n",
    "# test_[['TimeControl_Base', 'TimeControl_Inc']]=[\n",
    "#     (int(str.split(x, sep='+')[0]), int(str.split(x, sep='+')[1])) for x in X.TimeControl.values]\n",
    "\n",
    "\n",
    "# test_"
   ]
  },
  {
   "cell_type": "markdown",
   "id": "8cfda3f7",
   "metadata": {
    "hidden": true
   },
   "source": [
    "-----"
   ]
  },
  {
   "cell_type": "markdown",
   "id": "ee4a40d7",
   "metadata": {
    "heading_collapsed": true,
    "hidden": true
   },
   "source": [
    "#### 2022 to 2018 inclusive"
   ]
  },
  {
   "cell_type": "code",
   "execution_count": null,
   "id": "3483494f",
   "metadata": {
    "ExecuteTime": {
     "end_time": "2022-11-03T14:08:37.660784Z",
     "start_time": "2022-11-03T14:08:37.641776Z"
    },
    "hidden": true
   },
   "outputs": [],
   "source": [
    "# # on vostro laptop\n",
    "# raw_p = [joblib.load(f'C:/Users/MaNiL/Desktop/data/capstone/raw/pickles/{year}_CvH.pkl') for \\\n",
    "#          year in np.arange(2022, 2017, -1)] # load the pickles from 2022 to 2018 inclusive"
   ]
  },
  {
   "cell_type": "code",
   "execution_count": null,
   "id": "7ed9cf43",
   "metadata": {
    "ExecuteTime": {
     "end_time": "2022-11-03T14:08:37.912792Z",
     "start_time": "2022-11-03T14:08:37.894784Z"
    },
    "hidden": true
   },
   "outputs": [],
   "source": [
    "# list_cleaned_p = hp.clean_pickles(raw_p)"
   ]
  },
  {
   "cell_type": "code",
   "execution_count": null,
   "id": "8a412bc7",
   "metadata": {
    "ExecuteTime": {
     "end_time": "2022-11-03T14:08:38.210897Z",
     "start_time": "2022-11-03T14:08:38.204898Z"
    },
    "hidden": true
   },
   "outputs": [],
   "source": [
    "# sum([df_.shape[0] for df_ in list_cleaned_p])"
   ]
  },
  {
   "cell_type": "code",
   "execution_count": null,
   "id": "1c07a819",
   "metadata": {
    "ExecuteTime": {
     "end_time": "2022-11-03T14:08:38.834740Z",
     "start_time": "2022-11-03T14:08:38.829742Z"
    },
    "hidden": true
   },
   "outputs": [],
   "source": [
    "# pd.concat(list_cleaned_p).shape"
   ]
  },
  {
   "cell_type": "code",
   "execution_count": null,
   "id": "ed575835",
   "metadata": {
    "ExecuteTime": {
     "end_time": "2022-11-03T14:08:39.765310Z",
     "start_time": "2022-11-03T14:08:39.751349Z"
    },
    "hidden": true
   },
   "outputs": [],
   "source": [
    "# sum([df_.shape[0] for df_ in list_cleaned_p])==pd.concat(list_cleaned_p).shape[0]"
   ]
  },
  {
   "cell_type": "code",
   "execution_count": null,
   "id": "6cc150ef",
   "metadata": {
    "ExecuteTime": {
     "end_time": "2022-11-03T14:08:40.127674Z",
     "start_time": "2022-11-03T14:08:40.112668Z"
    },
    "hidden": true
   },
   "outputs": [],
   "source": [
    "# raw_p[0].head(1)\n",
    "# raw_p[0].columns"
   ]
  },
  {
   "cell_type": "code",
   "execution_count": null,
   "id": "8836416f",
   "metadata": {
    "ExecuteTime": {
     "end_time": "2022-11-03T14:08:45.776115Z",
     "start_time": "2022-11-03T14:08:45.758110Z"
    },
    "hidden": true
   },
   "outputs": [],
   "source": [
    "# df_2022_2018_CvH_raw = hp.concatenate_cleaned_pickles(\n",
    "#     raw_p, list_of_cols=['Event', 'Site', 'Round', 'BlackClock',\n",
    "#                          'FICSGamesDBGameNo', 'Time', 'WhiteClock'])\n",
    "\n",
    "# # Shape pre-drop: (198779, 17)\n",
    "# # Dropping duplicates...\n",
    "# # Shape post-drop: (198539, 17)\n",
    "# #  Duplicates dropped: 240"
   ]
  },
  {
   "cell_type": "code",
   "execution_count": null,
   "id": "dfa0cd50",
   "metadata": {
    "ExecuteTime": {
     "end_time": "2022-10-24T14:56:26.094124Z",
     "start_time": "2022-10-24T14:56:26.080153Z"
    },
    "hidden": true
   },
   "outputs": [],
   "source": [
    "# df_2022_2018_CvH_raw_test = hp.concatenate_cleaned_pickles(\n",
    "#     raw_p, list_of_cols=['Event', 'Site', 'Round', 'BlackClock',\n",
    "#                          'Time', 'WhiteClock'])\n",
    "\n",
    "# # Shape pre-drop: (198779, 18)\n",
    "# # Dropping duplicates...\n",
    "# # Shape post-drop: (198779, 18)\n",
    "# #  Duplicates dropped: 0"
   ]
  },
  {
   "cell_type": "code",
   "execution_count": null,
   "id": "e4788670",
   "metadata": {
    "ExecuteTime": {
     "end_time": "2022-10-24T14:57:53.948354Z",
     "start_time": "2022-10-24T14:57:53.931655Z"
    },
    "hidden": true
   },
   "outputs": [],
   "source": [
    "# df_2022_2018_CvH_raw_test = hp.concatenate_cleaned_pickles(\n",
    "#     raw_p, list_of_cols=['FICSGamesDBGameNo'])\n",
    "\n",
    "# Shape pre-drop: (198779, 23)\n",
    "# Dropping duplicates...\n",
    "# Shape post-drop: (198768, 23)\n",
    "#  Duplicates dropped: 11"
   ]
  },
  {
   "cell_type": "markdown",
   "id": "532c8d1c",
   "metadata": {
    "hidden": true
   },
   "source": [
    "Depending on what columns you drop, there are a different number of duplicates found. This could be investigated further in future."
   ]
  },
  {
   "cell_type": "code",
   "execution_count": null,
   "id": "ab748cd6",
   "metadata": {
    "hidden": true
   },
   "outputs": [],
   "source": []
  },
  {
   "cell_type": "markdown",
   "id": "07871c57",
   "metadata": {
    "hidden": true
   },
   "source": [
    "The below reappears later on in the notebook but I put it here just to remind myself that for some analysis I do keep Event."
   ]
  },
  {
   "cell_type": "code",
   "execution_count": null,
   "id": "587faed7",
   "metadata": {
    "ExecuteTime": {
     "end_time": "2022-10-25T16:26:38.935998Z",
     "start_time": "2022-10-25T16:26:36.426966Z"
    },
    "hidden": true
   },
   "outputs": [],
   "source": [
    "# df_2022_2018_CvH_raw = hp.concatenate_cleaned_pickles(\n",
    "#     raw_p, list_of_cols=['Site', 'Round', 'BlackClock',\n",
    "#                          'FICSGamesDBGameNo', 'Time', 'WhiteClock'])\n",
    "\n",
    "# # All PlyCount values match the length of moves-list\n",
    "# # Shape pre-drop: (198779, 18)\n",
    "# # Dropping duplicates...\n",
    "# # Shape post-drop: (198539, 18)\n",
    "# #  Duplicates dropped: 240"
   ]
  },
  {
   "cell_type": "code",
   "execution_count": null,
   "id": "6f257c82",
   "metadata": {
    "ExecuteTime": {
     "end_time": "2022-10-25T16:32:36.898685Z",
     "start_time": "2022-10-25T16:29:35.393241Z"
    },
    "hidden": true
   },
   "outputs": [],
   "source": [
    "# joblib.dump(df_2022_2018_CvH_raw,\n",
    "#            'C:/Users/MaNiL/Desktop/data/capstone/preprocessed/2022_2018_CvH_distinv_withevent.pkl',\n",
    "#            compress=9)"
   ]
  },
  {
   "cell_type": "code",
   "execution_count": null,
   "id": "8bdd3676",
   "metadata": {
    "hidden": true
   },
   "outputs": [],
   "source": []
  },
  {
   "cell_type": "code",
   "execution_count": null,
   "id": "074c9b47",
   "metadata": {
    "hidden": true
   },
   "outputs": [],
   "source": []
  },
  {
   "cell_type": "markdown",
   "id": "aa52c8fe",
   "metadata": {
    "heading_collapsed": true,
    "hidden": true
   },
   "source": [
    "#### Other"
   ]
  },
  {
   "cell_type": "code",
   "execution_count": null,
   "id": "1af46a19",
   "metadata": {
    "ExecuteTime": {
     "end_time": "2022-10-23T15:16:04.008880Z",
     "start_time": "2022-10-23T15:16:03.994917Z"
    },
    "hidden": true
   },
   "outputs": [],
   "source": [
    "# df = pd.read_json(\"data/raw_data/json/ficsgamesdb_search_ignore_colour_test.json\")"
   ]
  },
  {
   "cell_type": "code",
   "execution_count": null,
   "id": "55cf5d51",
   "metadata": {
    "ExecuteTime": {
     "end_time": "2022-10-23T15:16:04.024866Z",
     "start_time": "2022-10-23T15:16:04.009877Z"
    },
    "hidden": true
   },
   "outputs": [],
   "source": [
    "# # should have 271 games, I think I said it would have 300\n",
    "\n",
    "# df_wrong_num_test = pd.read_json('C:/Users/MaNiL/Desktop/data/capstone/raw/json/First_tests/ignore_colour_wrong_number_fed.json')\n",
    "\n",
    "# print(df_wrong_num_test.shape)\n",
    "# hp.chess_checker_function(df_wrong_num_test)\n",
    "# df_wrong_num_test = hp.change_comp_columns(df)\n",
    "# print(df_wrong_num_test.columns)\n",
    "# hp.chess_nan_checker(df_wrong_num_test)"
   ]
  },
  {
   "cell_type": "code",
   "execution_count": null,
   "id": "85fff6a9",
   "metadata": {
    "ExecuteTime": {
     "end_time": "2022-10-23T15:16:04.040341Z",
     "start_time": "2022-10-23T15:16:04.025835Z"
    },
    "hidden": true
   },
   "outputs": [],
   "source": [
    "# df = pd.read_json(\"C:/Users/MaNiL/Desktop/data/capstone/raw/json/Standard_2021_all_ratings/ficsgamesdb_2021_standard_movetimes_264828.json\")\n",
    "\n",
    "# joblib.dump(df, './data/2021_all_ratings.pkl')"
   ]
  },
  {
   "cell_type": "code",
   "execution_count": null,
   "id": "bde3d0d8",
   "metadata": {
    "ExecuteTime": {
     "end_time": "2022-10-23T15:16:04.055273Z",
     "start_time": "2022-10-23T15:16:04.041310Z"
    },
    "hidden": true
   },
   "outputs": [],
   "source": [
    "# df = joblib.load('./data/2021_CvH.pkl')\n",
    "\n",
    "# # df = joblib.load('C:/Users/Emanuel/OneDrive/My Documents/')\n",
    "\n",
    "# # df = joblib.load('C:/Users/MaNiL/Desktop/data/capstone/preprocessed/2021_CvH.pkl')"
   ]
  },
  {
   "cell_type": "code",
   "execution_count": null,
   "id": "504ece3b",
   "metadata": {
    "ExecuteTime": {
     "end_time": "2022-10-23T15:16:04.071230Z",
     "start_time": "2022-10-23T15:16:04.056270Z"
    },
    "hidden": true
   },
   "outputs": [],
   "source": [
    "# hp.chess_checker_function(df)"
   ]
  },
  {
   "cell_type": "code",
   "execution_count": null,
   "id": "fbd271b0",
   "metadata": {
    "ExecuteTime": {
     "end_time": "2022-10-23T15:16:04.087188Z",
     "start_time": "2022-10-23T15:16:04.072228Z"
    },
    "hidden": true,
    "scrolled": true
   },
   "outputs": [],
   "source": [
    "# df.info()"
   ]
  },
  {
   "cell_type": "code",
   "execution_count": null,
   "id": "5b4576d6",
   "metadata": {
    "ExecuteTime": {
     "end_time": "2022-10-23T15:16:04.103145Z",
     "start_time": "2022-10-23T15:16:04.088185Z"
    },
    "hidden": true,
    "scrolled": true
   },
   "outputs": [],
   "source": [
    "# nocomp_df = hp.change_comp_columns(df)\n",
    "# print(nocomp_df.columns)"
   ]
  },
  {
   "cell_type": "markdown",
   "id": "c5c5c9c5",
   "metadata": {
    "hidden": true
   },
   "source": [
    "['Event', 'Site', 'Date', 'Round', 'White', 'Black', 'Result',\n",
    "       'BlackClock', 'BlackElo', 'BlackIsComp', 'BlackRD', 'ECO',\n",
    "       'FICSGamesDBGameNo', 'PlyCount', 'Time', 'TimeControl', 'WhiteClock',\n",
    "       'WhiteElo', 'WhiteRD', 'emt', 'moves', 'WhiteIsComp', 'NoComp']"
   ]
  },
  {
   "cell_type": "code",
   "execution_count": null,
   "id": "8e956fb9",
   "metadata": {
    "ExecuteTime": {
     "end_time": "2022-10-23T15:16:04.119102Z",
     "start_time": "2022-10-23T15:16:04.104143Z"
    },
    "hidden": true
   },
   "outputs": [],
   "source": [
    "# nocomp_df.head(1)"
   ]
  },
  {
   "cell_type": "code",
   "execution_count": null,
   "id": "8120559f",
   "metadata": {
    "ExecuteTime": {
     "end_time": "2022-10-23T15:16:04.135060Z",
     "start_time": "2022-10-23T15:16:04.120100Z"
    },
    "hidden": true
   },
   "outputs": [],
   "source": [
    "# hp.chess_nan_checker(nocomp_df)"
   ]
  },
  {
   "cell_type": "markdown",
   "id": "0b7e899b",
   "metadata": {
    "hidden": true
   },
   "source": [
    "-----"
   ]
  },
  {
   "cell_type": "markdown",
   "id": "fc835592",
   "metadata": {
    "heading_collapsed": true,
    "hidden": true
   },
   "source": [
    "### Some Cleaning & Inv"
   ]
  },
  {
   "cell_type": "markdown",
   "id": "2f1e57ad",
   "metadata": {
    "heading_collapsed": true,
    "hidden": true
   },
   "source": [
    "#### Separating Standard Games (not imposed in cleaning yet)"
   ]
  },
  {
   "cell_type": "code",
   "execution_count": null,
   "id": "c71b664d",
   "metadata": {
    "ExecuteTime": {
     "end_time": "2022-10-23T15:16:04.151018Z",
     "start_time": "2022-10-23T15:16:04.136057Z"
    },
    "hidden": true
   },
   "outputs": [],
   "source": [
    "# Unique events\n",
    "\n",
    "# nocomp_df[['Event']].head()\n",
    "\n",
    "# nocomp_df['Event'].unique()"
   ]
  },
  {
   "cell_type": "code",
   "execution_count": null,
   "id": "53911d3e",
   "metadata": {
    "ExecuteTime": {
     "end_time": "2022-10-23T15:16:04.166975Z",
     "start_time": "2022-10-23T15:16:04.152015Z"
    },
    "hidden": true
   },
   "outputs": [],
   "source": [
    "# nocomp_df = joblib.load('C:/Users/Emanuel/Desktop/data/capstone/raw/2021_CvH.pkl')\n",
    "# nocomp_df = hp.change_comp_columns(nocomp_df)"
   ]
  },
  {
   "cell_type": "code",
   "execution_count": null,
   "id": "d240f712",
   "metadata": {
    "ExecuteTime": {
     "end_time": "2022-10-23T15:16:04.182932Z",
     "start_time": "2022-10-23T15:16:04.167972Z"
    },
    "hidden": true,
    "scrolled": true
   },
   "outputs": [],
   "source": [
    "# nocomp_df.head(3)"
   ]
  },
  {
   "cell_type": "code",
   "execution_count": null,
   "id": "09d52888",
   "metadata": {
    "ExecuteTime": {
     "end_time": "2022-10-23T15:16:04.198918Z",
     "start_time": "2022-10-23T15:16:04.183929Z"
    },
    "hidden": true
   },
   "outputs": [],
   "source": [
    "# nocomp_df[['Event']].groupby(['Event']).value_counts().sort_values()"
   ]
  },
  {
   "cell_type": "code",
   "execution_count": null,
   "id": "ec790cd1",
   "metadata": {
    "ExecuteTime": {
     "end_time": "2022-10-23T15:16:04.214847Z",
     "start_time": "2022-10-23T15:16:04.199886Z"
    },
    "hidden": true,
    "scrolled": true
   },
   "outputs": [],
   "source": [
    "# test_ = nocomp_df[['Event', 'TimeControl', 'Time', 'Result', 'White', 'WhiteIsComp', 'Black', 'BlackIsComp', 'NoComp']]\n",
    "# test_.head()"
   ]
  },
  {
   "cell_type": "code",
   "execution_count": null,
   "id": "de98ebae",
   "metadata": {
    "ExecuteTime": {
     "end_time": "2022-10-23T15:16:04.230414Z",
     "start_time": "2022-10-23T15:16:04.215844Z"
    },
    "hidden": true
   },
   "outputs": [],
   "source": [
    "# 900/60"
   ]
  },
  {
   "cell_type": "code",
   "execution_count": null,
   "id": "dbc9b33f",
   "metadata": {
    "ExecuteTime": {
     "end_time": "2022-10-23T15:16:04.246371Z",
     "start_time": "2022-10-23T15:16:04.231384Z"
    },
    "hidden": true
   },
   "outputs": [],
   "source": [
    "# event_control = test_.groupby(['Event', 'TimeControl']).count().reset_index().loc[:, ['Event', 'TimeControl']]\n",
    "# event_control"
   ]
  },
  {
   "cell_type": "code",
   "execution_count": null,
   "id": "41653e93",
   "metadata": {
    "ExecuteTime": {
     "end_time": "2022-10-23T15:16:04.262329Z",
     "start_time": "2022-10-23T15:16:04.247341Z"
    },
    "hidden": true
   },
   "outputs": [],
   "source": [
    "# # event_control[ ['standard game' in event_control['Event'].values] ] # doesn't work\n",
    "\n",
    "# # ['standard game' in x for x in event_control['Event'].values]\n",
    "\n",
    "# standard_games = event_control[['standard game' in x for x in event_control['Event'].values]]\n",
    "# display(standard_games.head())\n",
    "# display(standard_games.TimeControl.unique())\n",
    "# standard_games_times = standard_games.TimeControl.unique()"
   ]
  },
  {
   "cell_type": "code",
   "execution_count": null,
   "id": "78ba0c10",
   "metadata": {
    "ExecuteTime": {
     "end_time": "2022-10-23T15:16:04.278286Z",
     "start_time": "2022-10-23T15:16:04.263298Z"
    },
    "hidden": true
   },
   "outputs": [],
   "source": [
    "# blitz_games = event_control[['blitz game' in x for x in event_control['Event'].values]]\n",
    "# display(blitz_games.head())\n",
    "# display(blitz_games.TimeControl.unique())\n",
    "# blitz_games_times = blitz_games.TimeControl.unique()"
   ]
  },
  {
   "cell_type": "code",
   "execution_count": null,
   "id": "575a8ab3",
   "metadata": {
    "ExecuteTime": {
     "end_time": "2022-10-23T15:16:04.294244Z",
     "start_time": "2022-10-23T15:16:04.279257Z"
    },
    "hidden": true
   },
   "outputs": [],
   "source": [
    "# any([b_time in standard_games_times for b_time in blitz_games_times]) # False\n",
    "\n",
    "# # '900+1' in standard_games_times # True"
   ]
  },
  {
   "cell_type": "code",
   "execution_count": null,
   "id": "45007964",
   "metadata": {
    "ExecuteTime": {
     "end_time": "2022-10-23T15:16:04.310201Z",
     "start_time": "2022-10-23T15:16:04.295213Z"
    },
    "hidden": true
   },
   "outputs": [],
   "source": [
    "# standard_game_times_sort = standard_games_times.copy()\n",
    "# standard_game_times_sort=[str.split(x, sep='+') for x in standard_game_times_sort]\n",
    "# standard_game_times_sort = pd.DataFrame([[int(row[0]), int(row[1])] for \\\n",
    "#                                          row in standard_game_times_sort]).sort_values(\n",
    "#     by=0,\n",
    "#     axis=0,\n",
    "#     ascending=False).reset_index(drop=True).rename(columns={1: 'inc'})\n",
    "# standard_game_times_sort.head()"
   ]
  },
  {
   "cell_type": "code",
   "execution_count": null,
   "id": "df708a01",
   "metadata": {
    "ExecuteTime": {
     "end_time": "2022-10-23T15:16:04.326130Z",
     "start_time": "2022-10-23T15:16:04.311170Z"
    },
    "hidden": true,
    "scrolled": true
   },
   "outputs": [],
   "source": [
    "# standard_game_times_sort"
   ]
  },
  {
   "cell_type": "code",
   "execution_count": null,
   "id": "0bdf6ffd",
   "metadata": {
    "ExecuteTime": {
     "end_time": "2022-10-23T15:16:04.341624Z",
     "start_time": "2022-10-23T15:16:04.327127Z"
    },
    "hidden": true
   },
   "outputs": [],
   "source": [
    "# blitz_games_times_sort = blitz_games_times.copy()\n",
    "# blitz_games_times_sort=[str.split(x, sep='+') for x in blitz_games_times_sort]\n",
    "# blitz_games_times_sort = pd.DataFrame([[int(row[0]), int(row[1])] for \\\n",
    "#                                          row in blitz_games_times_sort]).sort_values(\n",
    "#     by=0,\n",
    "#     axis=0,\n",
    "#     ascending=False).reset_index(drop=True).rename(columns={1: 'inc'})\n",
    "# blitz_games_times_sort.head()"
   ]
  },
  {
   "cell_type": "code",
   "execution_count": null,
   "id": "c2871889",
   "metadata": {
    "ExecuteTime": {
     "end_time": "2022-10-23T15:16:04.357583Z",
     "start_time": "2022-10-23T15:16:04.342594Z"
    },
    "hidden": true
   },
   "outputs": [],
   "source": [
    "# s_b_merged = pd.merge(standard_game_times_sort, blitz_games_times_sort, how='outer', on=0, suffixes=('_s', '_b'))"
   ]
  },
  {
   "cell_type": "code",
   "execution_count": null,
   "id": "c039c160",
   "metadata": {
    "ExecuteTime": {
     "end_time": "2022-10-23T15:16:04.373539Z",
     "start_time": "2022-10-23T15:16:04.358550Z"
    },
    "hidden": true
   },
   "outputs": [],
   "source": [
    "# s_b_merged"
   ]
  },
  {
   "cell_type": "code",
   "execution_count": null,
   "id": "9231e940",
   "metadata": {
    "ExecuteTime": {
     "end_time": "2022-10-23T15:16:04.389469Z",
     "start_time": "2022-10-23T15:16:04.374508Z"
    },
    "hidden": true,
    "scrolled": true
   },
   "outputs": [],
   "source": [
    "# for row in s_b_merged.values:\n",
    "#     print(row)"
   ]
  },
  {
   "cell_type": "code",
   "execution_count": null,
   "id": "2faae9d6",
   "metadata": {
    "ExecuteTime": {
     "end_time": "2022-10-23T15:16:04.405457Z",
     "start_time": "2022-10-23T15:16:04.390465Z"
    },
    "hidden": true
   },
   "outputs": [],
   "source": [
    "# np.c_[standard_games_times, blitz_games_times]\n"
   ]
  },
  {
   "cell_type": "code",
   "execution_count": null,
   "id": "92dbde28",
   "metadata": {
    "ExecuteTime": {
     "end_time": "2022-10-23T15:16:04.420414Z",
     "start_time": "2022-10-23T15:16:04.406423Z"
    },
    "hidden": true
   },
   "outputs": [],
   "source": [
    "# nocomp_df['TimeControl'].values"
   ]
  },
  {
   "cell_type": "code",
   "execution_count": null,
   "id": "1a5a21ff",
   "metadata": {
    "ExecuteTime": {
     "end_time": "2022-10-23T15:16:04.435375Z",
     "start_time": "2022-10-23T15:16:04.421383Z"
    },
    "hidden": true
   },
   "outputs": [],
   "source": [
    "# nocomp_df[['3600' in x for x in nocomp_df['TimeControl'].values]].shape # (250, 23)"
   ]
  },
  {
   "cell_type": "code",
   "execution_count": null,
   "id": "1218f2c5",
   "metadata": {
    "ExecuteTime": {
     "end_time": "2022-10-23T15:16:04.451330Z",
     "start_time": "2022-10-23T15:16:04.436343Z"
    },
    "hidden": true
   },
   "outputs": [],
   "source": [
    "# only 250 games in 2021_CvH were started as 60+ minutes; it is possible that games went on for longer than 60 \n",
    "# minutes"
   ]
  },
  {
   "cell_type": "code",
   "execution_count": null,
   "id": "0bc23bba",
   "metadata": {
    "hidden": true
   },
   "outputs": [],
   "source": []
  },
  {
   "cell_type": "markdown",
   "id": "cf783c56",
   "metadata": {
    "hidden": true
   },
   "source": [
    "-----"
   ]
  },
  {
   "cell_type": "markdown",
   "id": "fe339160",
   "metadata": {
    "heading_collapsed": true,
    "hidden": true
   },
   "source": [
    "#### Unique players investigation"
   ]
  },
  {
   "cell_type": "code",
   "execution_count": null,
   "id": "8f52607a",
   "metadata": {
    "hidden": true
   },
   "outputs": [],
   "source": []
  },
  {
   "cell_type": "code",
   "execution_count": null,
   "id": "feec036a",
   "metadata": {
    "hidden": true
   },
   "outputs": [],
   "source": []
  },
  {
   "cell_type": "code",
   "execution_count": null,
   "id": "b0a3c039",
   "metadata": {
    "hidden": true
   },
   "outputs": [],
   "source": []
  },
  {
   "cell_type": "code",
   "execution_count": null,
   "id": "def6088d",
   "metadata": {
    "hidden": true
   },
   "outputs": [],
   "source": []
  },
  {
   "cell_type": "code",
   "execution_count": null,
   "id": "31fb5592",
   "metadata": {
    "hidden": true
   },
   "outputs": [],
   "source": []
  },
  {
   "cell_type": "code",
   "execution_count": null,
   "id": "5af72d84",
   "metadata": {
    "hidden": true
   },
   "outputs": [],
   "source": []
  },
  {
   "cell_type": "code",
   "execution_count": null,
   "id": "c9652114",
   "metadata": {
    "hidden": true
   },
   "outputs": [],
   "source": []
  },
  {
   "cell_type": "markdown",
   "id": "9f304cb3",
   "metadata": {
    "hidden": true
   },
   "source": [
    "----"
   ]
  },
  {
   "cell_type": "markdown",
   "id": "6bfa7ee3",
   "metadata": {
    "heading_collapsed": true,
    "hidden": true
   },
   "source": [
    "#### Get rid of draws "
   ]
  },
  {
   "cell_type": "code",
   "execution_count": null,
   "id": "555f87d4",
   "metadata": {
    "ExecuteTime": {
     "end_time": "2022-10-23T15:16:04.467290Z",
     "start_time": "2022-10-23T15:16:04.452300Z"
    },
    "hidden": true
   },
   "outputs": [],
   "source": [
    "# nocomp_df['Result'].unique()"
   ]
  },
  {
   "cell_type": "code",
   "execution_count": null,
   "id": "6ff121f9",
   "metadata": {
    "ExecuteTime": {
     "end_time": "2022-10-23T15:16:04.483217Z",
     "start_time": "2022-10-23T15:16:04.468257Z"
    },
    "hidden": true
   },
   "outputs": [],
   "source": [
    "# nocomp_df[['WhiteIsComp', 'BlackIsComp','Result']]"
   ]
  },
  {
   "cell_type": "code",
   "execution_count": null,
   "id": "7af1307b",
   "metadata": {
    "ExecuteTime": {
     "end_time": "2022-10-23T15:16:04.514162Z",
     "start_time": "2022-10-23T15:16:04.497180Z"
    },
    "hidden": true
   },
   "outputs": [],
   "source": [
    "# nocomp_df['Result']=='1-0'"
   ]
  },
  {
   "cell_type": "code",
   "execution_count": null,
   "id": "c6de8b39",
   "metadata": {
    "ExecuteTime": {
     "end_time": "2022-10-23T15:16:04.530126Z",
     "start_time": "2022-10-23T15:16:04.515132Z"
    },
    "hidden": true
   },
   "outputs": [],
   "source": [
    "# ## filters\n",
    "\n",
    "# # Computer wins as white \n",
    "# comp_w_w = ((nocomp_df['Result']=='1-0')&(nocomp_df['WhiteIsComp']==1))\n",
    "# # Computer wins as black\n",
    "# comp_b_w = ((nocomp_df['Result']=='0-1')&(nocomp_df['BlackIsComp']==1))\n",
    "# # Draw\n",
    "# no_draw = (nocomp_df['Result']!='1/2-1/2')"
   ]
  },
  {
   "cell_type": "code",
   "execution_count": null,
   "id": "4e1d2da0",
   "metadata": {
    "ExecuteTime": {
     "end_time": "2022-10-23T15:16:04.546077Z",
     "start_time": "2022-10-23T15:16:04.531089Z"
    },
    "hidden": true
   },
   "outputs": [],
   "source": [
    "# right_result_df = nocomp_df[comp_w_w |\n",
    "#                             comp_b_w]"
   ]
  },
  {
   "cell_type": "code",
   "execution_count": null,
   "id": "eb15bff4",
   "metadata": {
    "ExecuteTime": {
     "end_time": "2022-10-23T15:16:04.562006Z",
     "start_time": "2022-10-23T15:16:04.547047Z"
    },
    "hidden": true
   },
   "outputs": [],
   "source": [
    "# right_result_df.shape # (28013, 23)"
   ]
  },
  {
   "cell_type": "code",
   "execution_count": null,
   "id": "3bcc6b30",
   "metadata": {
    "ExecuteTime": {
     "end_time": "2022-10-23T15:16:04.577991Z",
     "start_time": "2022-10-23T15:16:04.563004Z"
    },
    "hidden": true
   },
   "outputs": [],
   "source": [
    "# any(right_result_df['Result']=='1/2-1/2') # no draws"
   ]
  },
  {
   "cell_type": "code",
   "execution_count": null,
   "id": "fb0eda9e",
   "metadata": {
    "ExecuteTime": {
     "end_time": "2022-10-23T15:16:04.592951Z",
     "start_time": "2022-10-23T15:16:04.578961Z"
    },
    "hidden": true
   },
   "outputs": [],
   "source": [
    "# no_draws_df.shape"
   ]
  },
  {
   "cell_type": "markdown",
   "id": "802a364c",
   "metadata": {
    "hidden": true
   },
   "source": [
    "-----"
   ]
  },
  {
   "cell_type": "markdown",
   "id": "33b448b6",
   "metadata": {
    "heading_collapsed": true,
    "hidden": true
   },
   "source": [
    "#### Get rid of lightning games"
   ]
  },
  {
   "cell_type": "code",
   "execution_count": null,
   "id": "b077424b",
   "metadata": {
    "ExecuteTime": {
     "end_time": "2022-10-23T15:16:06.933254Z",
     "start_time": "2022-10-23T15:16:04.593921Z"
    },
    "hidden": true
   },
   "outputs": [],
   "source": [
    "df_2018 = joblib.load('./data/raw/2018_CvH.pkl')"
   ]
  },
  {
   "cell_type": "code",
   "execution_count": null,
   "id": "35fc59e7",
   "metadata": {
    "ExecuteTime": {
     "end_time": "2022-10-23T15:16:06.949184Z",
     "start_time": "2022-10-23T15:16:06.934225Z"
    },
    "hidden": true
   },
   "outputs": [],
   "source": [
    "df_2018.shape"
   ]
  },
  {
   "cell_type": "code",
   "execution_count": null,
   "id": "f76cb9f9",
   "metadata": {
    "ExecuteTime": {
     "end_time": "2022-10-23T15:16:06.980130Z",
     "start_time": "2022-10-23T15:16:06.950182Z"
    },
    "hidden": true
   },
   "outputs": [],
   "source": [
    "df_2018.tail()"
   ]
  },
  {
   "cell_type": "code",
   "execution_count": null,
   "id": "f47f5927",
   "metadata": {
    "ExecuteTime": {
     "end_time": "2022-10-23T15:16:06.996091Z",
     "start_time": "2022-10-23T15:16:06.981099Z"
    },
    "hidden": true
   },
   "outputs": [],
   "source": [
    "df_2018['Event'].unique()"
   ]
  },
  {
   "cell_type": "code",
   "execution_count": null,
   "id": "b0071b25",
   "metadata": {
    "ExecuteTime": {
     "end_time": "2022-10-23T15:16:07.012045Z",
     "start_time": "2022-10-23T15:16:06.997056Z"
    },
    "hidden": true
   },
   "outputs": [],
   "source": [
    "df_2018['Event'].values"
   ]
  },
  {
   "cell_type": "code",
   "execution_count": null,
   "id": "532c4198",
   "metadata": {
    "ExecuteTime": {
     "end_time": "2022-10-23T15:16:07.027004Z",
     "start_time": "2022-10-23T15:16:07.013014Z"
    },
    "hidden": true
   },
   "outputs": [],
   "source": [
    "'lightning game' in df_2018['Event'].values"
   ]
  },
  {
   "cell_type": "code",
   "execution_count": null,
   "id": "9bfdfcac",
   "metadata": {
    "ExecuteTime": {
     "end_time": "2022-10-23T15:16:07.042958Z",
     "start_time": "2022-10-23T15:16:07.027974Z"
    },
    "hidden": true
   },
   "outputs": [],
   "source": [
    "'lightning game' in df_2018[['Event']]"
   ]
  },
  {
   "cell_type": "code",
   "execution_count": null,
   "id": "17e87cf7",
   "metadata": {
    "ExecuteTime": {
     "end_time": "2022-10-23T15:16:07.058891Z",
     "start_time": "2022-10-23T15:16:07.043931Z"
    },
    "hidden": true
   },
   "outputs": [],
   "source": [
    "['lightning game' in df_2018['Event'].values]"
   ]
  },
  {
   "cell_type": "code",
   "execution_count": null,
   "id": "69055ec8",
   "metadata": {
    "ExecuteTime": {
     "end_time": "2022-10-23T15:31:03.853991Z",
     "start_time": "2022-10-23T15:31:03.839031Z"
    },
    "hidden": true
   },
   "outputs": [],
   "source": [
    "[row for row in df_2018['Event'] if 'lightning game' in row];"
   ]
  },
  {
   "cell_type": "code",
   "execution_count": null,
   "id": "03113a37",
   "metadata": {
    "ExecuteTime": {
     "end_time": "2022-10-23T15:16:07.122755Z",
     "start_time": "2022-10-23T15:16:07.091803Z"
    },
    "hidden": true
   },
   "outputs": [],
   "source": [
    "# %%timeit # Muninn: 1.85 ms ± 19.9 µs per loop (mean ± std. dev. of 7 runs, 1,000 loops each)\n",
    "\n",
    "df_2018_lightning = df_2018[['lightning game' in row for row in df_2018.Event]] # (20,22)"
   ]
  },
  {
   "cell_type": "code",
   "execution_count": null,
   "id": "d64d6692",
   "metadata": {
    "ExecuteTime": {
     "end_time": "2022-10-23T15:16:07.138678Z",
     "start_time": "2022-10-23T15:16:07.123718Z"
    },
    "hidden": true
   },
   "outputs": [],
   "source": [
    "# # %%timeit # Muninn: 2.1 ms ± 29.9 µs per loop (mean ± std. dev. of 7 runs, 100 loops each)\n",
    "\n",
    "# # lightning_check = df_2018.apply(lambda x: x if 'lightning game' in x[['Event']] else np.NaN, axis=1)\n",
    "# lightning_check = df_2018['Event'].apply(lambda x: True if 'lightning game' in x else False)\n",
    "# df_2018[lightning_check] # (20, 22)"
   ]
  },
  {
   "cell_type": "code",
   "execution_count": null,
   "id": "b8bc6830",
   "metadata": {
    "ExecuteTime": {
     "end_time": "2022-10-23T15:16:07.154639Z",
     "start_time": "2022-10-23T15:16:07.139675Z"
    },
    "hidden": true
   },
   "outputs": [],
   "source": [
    "df_2018_lightning['TimeControl'];"
   ]
  },
  {
   "cell_type": "code",
   "execution_count": null,
   "id": "e29cfb66",
   "metadata": {
    "hidden": true
   },
   "outputs": [],
   "source": []
  },
  {
   "cell_type": "code",
   "execution_count": null,
   "id": "95eecc4e",
   "metadata": {
    "hidden": true
   },
   "outputs": [],
   "source": []
  },
  {
   "cell_type": "code",
   "execution_count": null,
   "id": "03c3fafb",
   "metadata": {
    "hidden": true
   },
   "outputs": [],
   "source": []
  },
  {
   "cell_type": "code",
   "execution_count": null,
   "id": "d3a0314c",
   "metadata": {
    "hidden": true
   },
   "outputs": [],
   "source": []
  },
  {
   "cell_type": "code",
   "execution_count": null,
   "id": "8e11e6de",
   "metadata": {
    "hidden": true
   },
   "outputs": [],
   "source": []
  },
  {
   "cell_type": "code",
   "execution_count": null,
   "id": "31190758",
   "metadata": {
    "hidden": true
   },
   "outputs": [],
   "source": []
  },
  {
   "cell_type": "markdown",
   "id": "a6626f48",
   "metadata": {
    "hidden": true
   },
   "source": [
    "----"
   ]
  },
  {
   "cell_type": "markdown",
   "id": "b7235712",
   "metadata": {
    "heading_collapsed": true,
    "hidden": true
   },
   "source": [
    "#### Get rid of redundant columns"
   ]
  },
  {
   "cell_type": "code",
   "execution_count": null,
   "id": "be6f5a22",
   "metadata": {
    "ExecuteTime": {
     "end_time": "2022-10-23T15:16:07.170620Z",
     "start_time": "2022-10-23T15:16:07.155632Z"
    },
    "hidden": true
   },
   "outputs": [],
   "source": [
    "# right_result_df.columns"
   ]
  },
  {
   "cell_type": "code",
   "execution_count": null,
   "id": "9434428b",
   "metadata": {
    "ExecuteTime": {
     "end_time": "2022-10-23T15:16:07.186578Z",
     "start_time": "2022-10-23T15:16:07.171590Z"
    },
    "hidden": true
   },
   "outputs": [],
   "source": [
    "# all(right_result_df['WhiteClock']==right_result_df['BlackClock'])"
   ]
  },
  {
   "cell_type": "code",
   "execution_count": null,
   "id": "7d618a98",
   "metadata": {
    "ExecuteTime": {
     "end_time": "2022-10-23T15:16:07.202535Z",
     "start_time": "2022-10-23T15:16:07.187547Z"
    },
    "hidden": true
   },
   "outputs": [],
   "source": [
    "# df_clean = right_result_df.drop(columns=[\n",
    "#     'Event', 'Site', 'Date', 'Round', 'White', 'Black', 'BlackClock', 'FICSGamesDBGameNo', 'Time', 'WhiteClock',\n",
    "#     'Result'\n",
    "# ])"
   ]
  },
  {
   "cell_type": "code",
   "execution_count": null,
   "id": "81c2ec03",
   "metadata": {
    "ExecuteTime": {
     "end_time": "2022-10-23T15:16:07.218492Z",
     "start_time": "2022-10-23T15:16:07.203505Z"
    },
    "hidden": true
   },
   "outputs": [],
   "source": [
    "# df_clean"
   ]
  },
  {
   "cell_type": "code",
   "execution_count": null,
   "id": "525035a1",
   "metadata": {
    "hidden": true
   },
   "outputs": [],
   "source": []
  },
  {
   "cell_type": "markdown",
   "id": "f08dec87",
   "metadata": {
    "hidden": true
   },
   "source": [
    "------"
   ]
  },
  {
   "cell_type": "markdown",
   "id": "d30918e4",
   "metadata": {
    "heading_collapsed": true,
    "hidden": true
   },
   "source": [
    "#### Function to 'clean' any pickle"
   ]
  },
  {
   "cell_type": "markdown",
   "id": "dc6a1f22",
   "metadata": {
    "hidden": true
   },
   "source": [
    "For now, some columns (and row values) remain for initial modelling."
   ]
  },
  {
   "cell_type": "code",
   "execution_count": null,
   "id": "7f6547f9",
   "metadata": {
    "ExecuteTime": {
     "end_time": "2022-10-23T15:16:07.234449Z",
     "start_time": "2022-10-23T15:16:07.220459Z"
    },
    "hidden": true
   },
   "outputs": [],
   "source": [
    "# def clean_pickle(pickle_df):\n",
    "#     hp.chess_checker_function(pickle_df)\n",
    "#     temp_ = hp.change_comp_columns(pickle_df)\n",
    "#     hp.chess_nan_checker(temp_)\n",
    "#     # Computer wins as white \n",
    "#     comp_w_w = ((temp_['Result']=='1-0')&(temp_['WhiteIsComp']==1))\n",
    "#     # Computer wins as black\n",
    "#     comp_b_w = ((temp_['Result']=='0-1')&(temp_['BlackIsComp']==1))\n",
    "#     temp_ = temp_[\n",
    "#         ((temp_['Result']=='1-0')&(temp_['WhiteIsComp']==1))|\n",
    "#         ((temp_['Result']=='0-1')&(temp_['BlackIsComp']==1))]\n",
    "    \n",
    "    \n",
    "#     col_to_drop = [\n",
    "#         'Event', 'Site', 'Date', 'Round', 'White', 'Black', 'BlackClock', 'FICSGamesDBGameNo', 'Time', 'WhiteClock',\n",
    "#         'Result'\n",
    "#         ]\n",
    "    \n",
    "#     temp_ = temp_.drop(columns=col_to_drop)\n",
    "#     print(f'Dropped columns: {col_to_drop}')\n",
    "#     return temp_"
   ]
  },
  {
   "cell_type": "code",
   "execution_count": null,
   "id": "162a6cd5",
   "metadata": {
    "ExecuteTime": {
     "end_time": "2022-10-23T15:16:07.250407Z",
     "start_time": "2022-10-23T15:16:07.235419Z"
    },
    "hidden": true
   },
   "outputs": [],
   "source": [
    "# def clean_pickles(list_of_pickle_df):\n",
    "#     list_of_cleaned_pickle_df = []\n",
    "#     for pickle_df in list_of_pickle_df:\n",
    "#         list_of_cleaned_pickle_df.append(clean_pickle(pickle_df))\n",
    "        \n",
    "#     return list_of_cleaned_pickle_df"
   ]
  },
  {
   "cell_type": "code",
   "execution_count": null,
   "id": "dab7488b",
   "metadata": {
    "ExecuteTime": {
     "end_time": "2022-10-23T15:16:07.266336Z",
     "start_time": "2022-10-23T15:16:07.251377Z"
    },
    "hidden": true
   },
   "outputs": [],
   "source": [
    "# raw_2021 = joblib.load('./data/2021_CvH.pkl')"
   ]
  },
  {
   "cell_type": "code",
   "execution_count": null,
   "id": "be3f025b",
   "metadata": {
    "ExecuteTime": {
     "end_time": "2022-10-23T15:16:07.282293Z",
     "start_time": "2022-10-23T15:16:07.267334Z"
    },
    "hidden": true
   },
   "outputs": [],
   "source": [
    "# raw_2020 = joblib.load('./data/2020_CvH.pkl')"
   ]
  },
  {
   "cell_type": "code",
   "execution_count": null,
   "id": "f6658df3",
   "metadata": {
    "ExecuteTime": {
     "end_time": "2022-10-23T15:16:07.297254Z",
     "start_time": "2022-10-23T15:16:07.283291Z"
    },
    "hidden": true
   },
   "outputs": [],
   "source": [
    "# cleaned_2021 = clean_pickle(raw_2021)"
   ]
  },
  {
   "cell_type": "code",
   "execution_count": null,
   "id": "9b904923",
   "metadata": {
    "ExecuteTime": {
     "end_time": "2022-10-23T15:16:07.313211Z",
     "start_time": "2022-10-23T15:16:07.298251Z"
    },
    "hidden": true
   },
   "outputs": [],
   "source": [
    "# raw_p = [raw_2021, raw_2020]"
   ]
  },
  {
   "cell_type": "code",
   "execution_count": null,
   "id": "afd45aee",
   "metadata": {
    "ExecuteTime": {
     "end_time": "2022-10-23T15:16:07.329169Z",
     "start_time": "2022-10-23T15:16:07.314208Z"
    },
    "hidden": true
   },
   "outputs": [],
   "source": [
    "# list_cleaned_p = clean_pickles(raw_p)"
   ]
  },
  {
   "cell_type": "code",
   "execution_count": null,
   "id": "a137f9ea",
   "metadata": {
    "ExecuteTime": {
     "end_time": "2022-10-23T15:16:07.345126Z",
     "start_time": "2022-10-23T15:16:07.330166Z"
    },
    "hidden": true
   },
   "outputs": [],
   "source": [
    "# type(list_cleaned_p)"
   ]
  },
  {
   "cell_type": "code",
   "execution_count": null,
   "id": "82ccc920",
   "metadata": {
    "ExecuteTime": {
     "end_time": "2022-10-23T15:16:07.361110Z",
     "start_time": "2022-10-23T15:16:07.346123Z"
    },
    "hidden": true
   },
   "outputs": [],
   "source": [
    "# display(list_cleaned_p[0].head(2))\n",
    "# display(list_cleaned_p[0].shape)"
   ]
  },
  {
   "cell_type": "code",
   "execution_count": null,
   "id": "42924168",
   "metadata": {
    "ExecuteTime": {
     "end_time": "2022-10-23T15:16:07.377068Z",
     "start_time": "2022-10-23T15:16:07.362080Z"
    },
    "hidden": true
   },
   "outputs": [],
   "source": [
    "# display(list_cleaned_p[1].head(2))\n",
    "# display(list_cleaned_p[1].shape)"
   ]
  },
  {
   "cell_type": "code",
   "execution_count": null,
   "id": "f5e05afb",
   "metadata": {
    "ExecuteTime": {
     "end_time": "2022-10-23T15:16:07.393030Z",
     "start_time": "2022-10-23T15:16:07.378038Z"
    },
    "hidden": true
   },
   "outputs": [],
   "source": [
    "# list_cleaned_p[0].shape[0]+list_cleaned_p[1].shape[0]"
   ]
  },
  {
   "cell_type": "code",
   "execution_count": null,
   "id": "c4ea5438",
   "metadata": {
    "ExecuteTime": {
     "end_time": "2022-10-23T15:16:07.408956Z",
     "start_time": "2022-10-23T15:16:07.393995Z"
    },
    "hidden": true
   },
   "outputs": [],
   "source": [
    "# pd.concat(list_cleaned_p).shape"
   ]
  },
  {
   "cell_type": "code",
   "execution_count": null,
   "id": "128f679e",
   "metadata": {
    "ExecuteTime": {
     "end_time": "2022-10-23T15:16:07.424940Z",
     "start_time": "2022-10-23T15:16:07.409952Z"
    },
    "hidden": true
   },
   "outputs": [],
   "source": [
    "# list_cleaned_p[0].shape[0]+list_cleaned_p[1].shape[0]==pd.concat(list_cleaned_p).shape[0]"
   ]
  },
  {
   "cell_type": "code",
   "execution_count": null,
   "id": "71dea156",
   "metadata": {
    "hidden": true
   },
   "outputs": [],
   "source": []
  },
  {
   "cell_type": "markdown",
   "id": "d032a860",
   "metadata": {
    "hidden": true
   },
   "source": [
    "-----"
   ]
  },
  {
   "cell_type": "markdown",
   "id": "5621978a",
   "metadata": {
    "heading_collapsed": true,
    "hidden": true
   },
   "source": [
    "### Doing CvH checks on 'non-filtered' dataframe"
   ]
  },
  {
   "cell_type": "markdown",
   "id": "ddf7b977",
   "metadata": {
    "heading_collapsed": true,
    "hidden": true
   },
   "source": [
    "#### Load in data"
   ]
  },
  {
   "cell_type": "code",
   "execution_count": null,
   "id": "bfae570b",
   "metadata": {
    "ExecuteTime": {
     "end_time": "2022-11-03T18:17:00.672131Z",
     "start_time": "2022-11-03T18:16:55.244581Z"
    },
    "hidden": true
   },
   "outputs": [],
   "source": [
    "# on vostro laptop\n",
    "raw_p = [joblib.load(f'C:/Users/MaNiL/Desktop/data/capstone/raw/pickles/{year}_CvH.pkl') for \\\n",
    "         year in np.arange(2022, 2017, -1)] # load the pickles from 2022 to 2018 inclusive"
   ]
  },
  {
   "cell_type": "markdown",
   "id": "3f5f5247",
   "metadata": {
    "heading_collapsed": true,
    "hidden": true
   },
   "source": [
    "#### Concatenate and clean"
   ]
  },
  {
   "cell_type": "code",
   "execution_count": null,
   "id": "1f158253",
   "metadata": {
    "ExecuteTime": {
     "end_time": "2022-11-03T18:17:00.688015Z",
     "start_time": "2022-11-03T18:17:00.674036Z"
    },
    "hidden": true
   },
   "outputs": [],
   "source": [
    "# df_2022_2018_CvH_raw_test = hp.concatenate_cleaned_pickles(\n",
    "#     raw_p, list_of_cols=['FICSGamesDBGameNo'])\n",
    "\n",
    "# Shape pre-drop: (198779, 23)\n",
    "# Dropping duplicates...\n",
    "# Shape post-drop: (198768, 23)\n",
    "#  Duplicates dropped: 11"
   ]
  },
  {
   "cell_type": "code",
   "execution_count": null,
   "id": "514886a4",
   "metadata": {
    "ExecuteTime": {
     "end_time": "2022-11-03T18:17:00.704023Z",
     "start_time": "2022-11-03T18:17:00.691015Z"
    },
    "hidden": true
   },
   "outputs": [],
   "source": [
    "# display(raw_p[0].Date.mean())\n",
    "# display(type(raw_p[0].Date.mean()))\n",
    "# mean_year_=raw_p[0].Date.mean()\n",
    "# mean_year_.year\n",
    "\n",
    "# raw_p[0].Date.mean().year\n",
    "\n",
    "[df_.Date.mean().year for df_ in raw_p] # [2022, 2021, 2020, 2019, 2018]"
   ]
  },
  {
   "cell_type": "code",
   "execution_count": null,
   "id": "8cd96a73",
   "metadata": {
    "ExecuteTime": {
     "end_time": "2022-11-03T15:02:59.426789Z",
     "start_time": "2022-11-03T15:02:59.408686Z"
    },
    "code_folding": [
     0
    ],
    "hidden": true
   },
   "outputs": [],
   "source": [
    "# test_tuple_ = (True, True, False)\n",
    "\n",
    "# a,b,c = test_tuple_\n",
    "# print(a)\n",
    "# print(b)\n",
    "# print(c)"
   ]
  },
  {
   "cell_type": "code",
   "execution_count": null,
   "id": "d6eaf231",
   "metadata": {
    "ExecuteTime": {
     "end_time": "2022-11-03T15:30:33.824562Z",
     "start_time": "2022-11-03T15:30:33.775562Z"
    },
    "code_folding": [
     0,
     1,
     26,
     40,
     49,
     67,
     90,
     133,
     143,
     150,
     169,
     203,
     216,
     230,
     259,
     267,
     278
    ],
    "hidden": true
   },
   "outputs": [],
   "source": [
    "# def chess_checker_function(df):\n",
    "#     expected_schema = {\n",
    "#         'Event': 'object',\n",
    "#         'Site': 'object',\n",
    "#         'Date': 'datetime64[ns]',\n",
    "#         'Round': 'object',\n",
    "#         'White': 'object',\n",
    "#         'Black': 'object',\n",
    "#         'Result': 'object',\n",
    "#         'BlackClock': 'object',\n",
    "#         'BlackElo':  'int64',\n",
    "#         'BlackIsComp': 'object',\n",
    "#         'BlackRD': 'float64',\n",
    "#         'ECO': 'object',\n",
    "#         'FICSGamesDBGameNo':  'int64',\n",
    "#         'PlyCount':  'int64',\n",
    "#         'Time': 'object',\n",
    "#         'TimeControl': 'object',\n",
    "#         'WhiteClock': 'object',\n",
    "#         'WhiteElo':  'int64',\n",
    "#         'WhiteRD': 'float64',\n",
    "#         'emt': 'object',\n",
    "#         'moves': 'object',\n",
    "#         'WhiteIsComp': 'object'  \n",
    "#     }\n",
    "\n",
    "#     def check_comp_columns(df):\n",
    "#         if 'BlackIsComp' not in df.columns:\n",
    "#             print('BlackIsComp not present; correting with NaNs')\n",
    "#             df['BlackIsComp'] = np.NaN\n",
    "#         else:\n",
    "#             pass\n",
    "\n",
    "#         if 'WhiteIsComp' not in df.columns:\n",
    "#             print('WhiteIsComp not present; correcting with NaNs')\n",
    "#             df['WhiteIsComp'] = np.NaN\n",
    "#         else:\n",
    "#             pass\n",
    "#         return df\n",
    "       \n",
    "#     def schema_checker(df, cols):\n",
    "#         missing_cols = [i for i in cols if i not in df.columns]\n",
    "#         if len(missing_cols)!=0:\n",
    "#             for col in [f'Column {i} not found' for i in missing_cols]:\n",
    "#                 print(col)\n",
    "#             return False\n",
    "#         else:\n",
    "#             return True\n",
    "\n",
    "#     def dtype_checker(df, schema):\n",
    "#         wrong_dtypes = [[i, j, df[i].dtype] for i, j in schema.items() if i in df.columns and df[i].dtype!=j]\n",
    "#         if len(wrong_dtypes)!=0:\n",
    "#             for row in [f'Column {k[0]} does not match datatype {k[1]}, is actually {k[2]}' for k in wrong_dtypes]:\n",
    "#                 print(row)\n",
    "#             return False\n",
    "#         else:\n",
    "#             return True\n",
    "        \n",
    "# #     print(f'For year: {df.Date.iloc[-10].year}')\n",
    "#     print(f'For year: {df.Date.mean().year}')\n",
    "#     df = check_comp_columns(df)\n",
    "#     schema_check = schema_checker(df, expected_schema.keys())\n",
    "#     dtype_check = dtype_checker(df, expected_schema)\n",
    "#     print(f'Expected columns present: {schema_check} \\nExpected dtypes present: {dtype_check}')\n",
    "#     return df\n",
    "\n",
    "\n",
    "# def change_comp_columns(df):\n",
    "#     '''\n",
    "#     Expects there to be WhiteIsComp and BlackIsComp columns, and that 'Yes' indicates which colour is the computer.\n",
    "#     '''\n",
    "   \n",
    "#     ## check number of unique in blackiscomp and whiteiscomp (should be 2)\n",
    "#     assert all([df[x].nunique(dropna=False)<3 for x in ['WhiteIsComp', 'BlackIsComp']]), 'More than two unique values in a XIsComp column (including nan)'\n",
    "    \n",
    "# #     ## check one of the unique values are 'Yes'\n",
    "# #     assert all(['Yes' in nocomp_df[x].unique() for x in ['WhiteIsComp', 'BlackIsComp']]), 'Missing \"Yes\" in one of the XIsComp column'\n",
    "\n",
    "#     ## assign 1 and 0 to blackiscomp and whiteiscomp\n",
    "\n",
    "#     df['WhiteIsComp'] = np.where(df['WhiteIsComp']=='Yes', np.int8(1), np.int8(0))\n",
    "#     df['BlackIsComp'] = np.where(df['BlackIsComp']=='Yes', np.int8(1), np.int8(0))\n",
    "\n",
    "#     ## make new 'nocomp' column which depends on blackiscomp==1 and whiteiscomp==1\n",
    "\n",
    "#     df['NoComp'] = np.where(next(zip(df['WhiteIsComp'], df['BlackIsComp']))==(0, 0), np.int8(1), np.int8(0))\n",
    "    \n",
    "#     return df\n",
    "\n",
    "\n",
    "# def chess_nan_checker(df, list_of_cols=['BlackIsComp', 'WhiteIsComp']): \n",
    "#     '''\n",
    "#     checks for nan values in the dataframe\n",
    "\n",
    "#     Args:\n",
    "#         df (DataFrame): Pandas dataframe\n",
    "#         list_of_cols (List): List of strings indicating what columns to ignore\n",
    "\n",
    "#     Returns:\n",
    "#         summary (String): returns a summary of nan values\n",
    "#     '''\n",
    "\n",
    "#     assert all([col in df.columns for col in list_of_cols]), f'Passed dataframe does not contain {list_of_cols}'   \n",
    "    \n",
    "#     # are there any nan values?\n",
    "#     no_nan = all(\n",
    "#         df[[x for x in df.columns if x not in list_of_cols]].notna()\n",
    "#     ) # returns True if all values are not NaN\n",
    "#     if no_nan == True:\n",
    "#         return print(f\"This dataframe has 0 NaN values in columns: {list(df[[x for x in df.columns if x not in list_of_cols]].columns)}\")\n",
    "        \n",
    "#     # how many?\n",
    "#     nan_series = df.isna().sum()\n",
    "#     nan_num = nan_series.sum()\n",
    "\n",
    "#     # which variables do they come from\n",
    "#     nan_cols = list(nan_series[nan_series > 0].index)\n",
    "\n",
    "#     # any variables with more than 50% of data missing?\n",
    "#     big_nan_cols = list(nan_series[nan_series/len(df) > 0.5])\n",
    "    \n",
    "#     #summary can be all the info about nans\n",
    "#     summary = f'This dataframe has {nan_num} NaN values'\n",
    "\n",
    "#     if len(nan_cols) > 0:\n",
    "#         summary += f'\\nThe NaN values come from: {nan_cols}'\n",
    "\n",
    "#     if len(big_nan_cols) > 0:\n",
    "#         summary += f'\\nMore than 50% of the data is missing from: {big_nan_cols}'\n",
    "\n",
    "#     return print(summary)\n",
    "\n",
    "\n",
    "# def drop_no_move_games(df):\n",
    "#     if any([val_==[] for val_ in df.moves]):\n",
    "#         print(f'Some games have no moves \\nDropping those games...')\n",
    "#         temp_ = df[[val_!=[] for val_ in df.moves]].reset_index(drop=True)\n",
    "#         return temp_\n",
    "#     else:\n",
    "#         print('All games have moves')\n",
    "#         return df\n",
    "\n",
    "\n",
    "# def any_missing_emt(df):\n",
    "#     if any([val_==[] for val_ in df.emt]):\n",
    "#         return(print('Some games missing emt values...'))\n",
    "#     else:\n",
    "#         return(print('No games missing emt values'))\n",
    "\n",
    "\n",
    "# def keep_decisive_results(df):\n",
    "# #     temp_ = df.copy()\n",
    "#     # Computer wins as white \n",
    "#     comp_w_w = ((df['Result']=='1-0')&(df['WhiteIsComp']==1))\n",
    "#     # Computer wins as black\n",
    "#     comp_b_w = ((df['Result']=='0-1')&(df['BlackIsComp']==1))\n",
    "#     # No cheater, no draw\n",
    "#     no_comp_wb_w = ((df['Result']!='1/2-1/2')&(df['NoComp']==1))\n",
    "# #     temp_ = temp_[\n",
    "# #         ((temp_['Result']=='1-0')&(temp_['WhiteIsComp']==1))|\n",
    "# #         ((temp_['Result']=='0-1')&(temp_['BlackIsComp']==1))|\n",
    "# #         ((temp_['Result']!='1/2-1/2')&(temp_['NoComp']==1))].reset_index(drop=True)\n",
    "#     df = df[\n",
    "#         comp_w_w|\n",
    "#         comp_b_w|\n",
    "#         no_comp_wb_w].reset_index(drop=True)\n",
    "#     return df\n",
    "    \n",
    "\n",
    "# def drop_uneeded_cols(df=None, list_of_cols=None, what_cols=False):\n",
    "#     '''\n",
    "#     By default, this will drop:\n",
    "#     'Event', 'Site', 'Date', 'Round', 'White', 'Black', 'BlackClock', 'FICSGamesDBGameNo', 'Time', 'WhiteClock',\n",
    "#         'Result'\n",
    "    \n",
    "#     Set list_of_cols='None' to drop no columns.\n",
    "            \n",
    "#     Assert that df is dataframe\n",
    "    \n",
    "#     '''\n",
    "    \n",
    "#     col_to_drop = [\n",
    "#     'Event', 'Site', 'Date', 'Round', 'White', 'Black', 'BlackClock', 'FICSGamesDBGameNo', 'Time', 'WhiteClock',\n",
    "#     'Result'\n",
    "#     ]\n",
    "    \n",
    "#     if what_cols==True:\n",
    "        \n",
    "#         return(print(f' Default columns to drop are: {col_to_drop}'))\n",
    "#     elif list_of_cols=='None' and df is not None:\n",
    "#         print(f'Dropping no columns...')\n",
    "#         return temp_\n",
    "#     elif list_of_cols is not None and df is not None:\n",
    "#         temp_ = df.drop(columns=list_of_cols)\n",
    "#         print(f'Dropped columns: {list_of_cols}\\n')\n",
    "#         return temp_\n",
    "#     else:\n",
    "#         assert isinstance(df, pd.DataFrame), \"Passed df must be a df\"\n",
    "#         temp_ = df.drop(columns=col_to_drop)\n",
    "#         print(f'Dropped columns: {col_to_drop}\\n')\n",
    "#         return temp_\n",
    "    \n",
    "\n",
    "# def split_timeformat(df):\n",
    "#     '''\n",
    "#     Expects there to be a TimeControl column\n",
    "#     '''\n",
    "    \n",
    "#     df[['TimeControl_Base', 'TimeControl_Inc']]=[\n",
    "#     (int(str.split(x, sep='+')[0]), int(str.split(x, sep='+')[1])) for x in df.TimeControl.values]\n",
    "# #     temp_[['TimeControl_Base', 'TimeControl_Inc']]=[\n",
    "# #     (int(str.split(x, sep='+')[0]), int(str.split(x, sep='+')[1])) for x in temp_.TimeControl]\n",
    "#     df = df.drop(columns=['TimeControl'])\n",
    "#     return df\n",
    "   \n",
    "\n",
    "# def does_plycount_match_moves(df):\n",
    "#     '''\n",
    "#     This checks that the number in the PlyCount cell matches the length of the moves list\n",
    "    \n",
    "#     Should assert that df is df, PlyCount is a column and one of ints, moves is a column  and one of lists\n",
    "#     '''\n",
    "#     if all([len(row[0])==row[1] for row in zip(df.moves, df.PlyCount)]):\n",
    "#         print('All PlyCount values match the length of moves-list')\n",
    "#         return True\n",
    "#     else:\n",
    "#         print('Not all PlyCount values match the length of moves-list')\n",
    "#         return False    \n",
    "\n",
    "    \n",
    "# def clean_pickle(pickle_df, list_of_cols=None, filtering_steps=(True, True, True)):\n",
    "#     '''\n",
    "#     This will clean a pickled df\n",
    "    \n",
    "#     Deafult value for filtering_steps will do all of them\n",
    "    \n",
    "#     Pass a tuple for filtering_steps, their order being for dropping no move games, keeping decisive results and dropping uneeded columns\n",
    "    \n",
    "#     ....\n",
    "    \n",
    "#     '''\n",
    "#     drop_no_move_game_, keep_decisive_results_, drop_uneeded_cols_ = filtering_steps\n",
    "    \n",
    "#     chess_checker_function(pickle_df)\n",
    "#     temp_ = change_comp_columns(pickle_df)\n",
    "#     chess_nan_checker(temp_)\n",
    "#     if drop_no_move_game_:\n",
    "#         temp_ = drop_no_move_games(temp_)\n",
    "#     does_plycount_match_moves(temp_)\n",
    "#     any_missing_emt(temp_)\n",
    "#     if keep_decisive_results_:\n",
    "#         temp_ = keep_decisive_results(temp_)\n",
    "#         print(f'Keeping decisive results...')\n",
    "#     if drop_uneeded_cols_:\n",
    "#         temp_ = drop_uneeded_cols(temp_, list_of_cols)\n",
    "#     temp_ = split_timeformat(temp_)\n",
    "#     return temp_\n",
    "\n",
    "\n",
    "# def clean_pickles(list_of_pickle_df, list_of_cols=None, filtering_steps=(True, True, True)):\n",
    "#     list_of_cleaned_pickle_df = []\n",
    "#     for pickle_df in list_of_pickle_df:\n",
    "#         list_of_cleaned_pickle_df.append(clean_pickle(pickle_df, list_of_cols, filtering_steps))\n",
    "        \n",
    "#     return list_of_cleaned_pickle_df\n",
    "\n",
    "\n",
    "# def drop_duplicates(df):\n",
    "#     pre_shape = df.shape\n",
    "#     print(f'Shape pre-drop: {pre_shape}')\n",
    "#     print(f'Dropping duplicates...')\n",
    "#     df = df[~df.duplicated(subset=[col for col in df.columns if col not in ['emt', 'moves']])]\n",
    "#     post_shape = df.shape\n",
    "#     print(f'Shape post-drop: {post_shape}\\n Duplicates dropped: {pre_shape[0]-post_shape[0]}')\n",
    "#     df = df.reset_index(drop=True)\n",
    "#     return df\n",
    "\n",
    "\n",
    "# def concatenate_cleaned_pickles(list_of_pickle_df, list_of_cols=None,\n",
    "#                                 filtering_steps=(True, True, True) , drop_dups=True):\n",
    "#     temp_ = pd.concat(clean_pickles(list_of_pickle_df, list_of_cols, filtering_steps)).reset_index(drop=True)\n",
    "#     does_plycount_match_moves(temp_)\n",
    "#     if drop_dups==True:\n",
    "#         temp_ = drop_duplicates(temp_)\n",
    "#         return temp_\n",
    "#     else:\n",
    "#         print('Not dropping duplicates...')\n",
    "#         return temp_ \n",
    "    \n"
   ]
  },
  {
   "cell_type": "code",
   "execution_count": null,
   "id": "2e467b01",
   "metadata": {
    "ExecuteTime": {
     "end_time": "2022-11-03T18:20:26.627536Z",
     "start_time": "2022-11-03T18:20:24.664675Z"
    },
    "hidden": true
   },
   "outputs": [],
   "source": [
    "df_2022_2018_CvH_raw = hp.concatenate_cleaned_pickles(\n",
    "    raw_p, list_of_cols=['FICSGamesDBGameNo'], filtering_steps=(True, False, True))"
   ]
  },
  {
   "cell_type": "code",
   "execution_count": null,
   "id": "44249f81",
   "metadata": {
    "ExecuteTime": {
     "end_time": "2022-11-03T18:26:55.649662Z",
     "start_time": "2022-11-03T18:26:55.627661Z"
    },
    "hidden": true
   },
   "outputs": [],
   "source": [
    "display(df_2022_2018_CvH_raw.shape)\n",
    "df_2022_2018_CvH_raw.head(2)"
   ]
  },
  {
   "cell_type": "markdown",
   "id": "031c515f",
   "metadata": {
    "heading_collapsed": true,
    "hidden": true
   },
   "source": [
    "#### Distribution of computers beating people:"
   ]
  },
  {
   "cell_type": "code",
   "execution_count": null,
   "id": "1844c1bd",
   "metadata": {
    "ExecuteTime": {
     "end_time": "2022-11-03T18:31:51.131613Z",
     "start_time": "2022-11-03T18:31:51.123651Z"
    },
    "hidden": true
   },
   "outputs": [],
   "source": [
    "# df_2022_2018_CvH_raw.Result=='1-0'\n",
    "df_2022_2018_CvH_raw['WhiteIsComp']==1"
   ]
  },
  {
   "cell_type": "code",
   "execution_count": null,
   "id": "b9dfe91d",
   "metadata": {
    "ExecuteTime": {
     "end_time": "2022-11-03T18:35:17.615623Z",
     "start_time": "2022-11-03T18:35:17.571544Z"
    },
    "hidden": true
   },
   "outputs": [],
   "source": [
    "# rated and unrated\n",
    "\n",
    "# df_2022_2018_CvH_raw[\n",
    "#     ((df_2022_2018_CvH_raw['WhiteIsComp']==1) & (df_2022_2018_CvH_raw['Result']=='1-0'))|\n",
    "#     ((df_2022_2018_CvH_raw['BlackIsComp']==1) & (df_2022_2018_CvH_raw['Result']=='0-1'))\n",
    "# ]\n",
    "\n",
    "who_wins_more=(((df_2022_2018_CvH_raw['WhiteIsComp']==1) & (df_2022_2018_CvH_raw['Result']=='1-0'))|\\\n",
    "               ((df_2022_2018_CvH_raw['BlackIsComp']==1) & (df_2022_2018_CvH_raw['Result']=='0-1'))).value_counts(\n",
    "    normalize=True)*100\n",
    "who_wins_more"
   ]
  },
  {
   "cell_type": "code",
   "execution_count": null,
   "id": "a4063424",
   "metadata": {
    "ExecuteTime": {
     "end_time": "2022-11-03T18:36:03.985301Z",
     "start_time": "2022-11-03T18:36:03.839178Z"
    },
    "hidden": true
   },
   "outputs": [],
   "source": [
    "# rated\n",
    "\n",
    "df_2022_2018_CvH_raw_rated = hp.keep_rated_games(df_2022_2018_CvH_raw)\n",
    "\n",
    "df_2022_2018_CvH_raw_rated.shape # (318979, 23)\n",
    "\n",
    "who_wins_more_rated=(((\n",
    "    df_2022_2018_CvH_raw_rated['WhiteIsComp']==1) & (df_2022_2018_CvH_raw_rated['Result']=='1-0'))|\\\n",
    "    ((df_2022_2018_CvH_raw_rated['BlackIsComp']==1) & (df_2022_2018_CvH_raw_rated['Result']=='0-1'))).value_counts(\n",
    "    normalize=True)*100\n",
    "who_wins_more_rated"
   ]
  },
  {
   "cell_type": "markdown",
   "id": "c3dd1fce",
   "metadata": {
    "hidden": true
   },
   "source": [
    "About 61% of all games have the computer beat the human, in both rated&unrated as well as just in rated."
   ]
  },
  {
   "cell_type": "markdown",
   "id": "e1eed5fb",
   "metadata": {
    "hidden": true
   },
   "source": [
    "-----"
   ]
  },
  {
   "cell_type": "code",
   "execution_count": null,
   "id": "dfd4587f",
   "metadata": {
    "ExecuteTime": {
     "end_time": "2022-11-03T18:30:23.818483Z",
     "start_time": "2022-11-03T18:30:23.805554Z"
    },
    "hidden": true
   },
   "outputs": [],
   "source": [
    "# are more duplicates dropped when more columns are dropped?"
   ]
  },
  {
   "cell_type": "code",
   "execution_count": null,
   "id": "f1fb2d5d",
   "metadata": {
    "ExecuteTime": {
     "end_time": "2022-11-03T18:41:37.798145Z",
     "start_time": "2022-11-03T18:41:37.495098Z"
    },
    "hidden": true
   },
   "outputs": [],
   "source": [
    "df_2022_2018_CvH_less_columns = df_2022_2018_CvH_raw.drop(columns=[\n",
    "    'Site', 'Date', 'Round', 'Time', 'WhiteClock', 'BlackClock'])\n",
    "df_2022_2018_CvH_less_columns = hp.drop_duplicates(df_2022_2018_CvH_less_columns)\n",
    "df_2022_2018_CvH_less_columns.head(1)"
   ]
  },
  {
   "cell_type": "code",
   "execution_count": null,
   "id": "ab2f7781",
   "metadata": {
    "ExecuteTime": {
     "end_time": "2022-11-03T18:44:53.313982Z",
     "start_time": "2022-11-03T18:44:53.298879Z"
    },
    "hidden": true
   },
   "outputs": [],
   "source": [
    "# df_2022_2018_CvH_less_columns.NoComp.mean() # 0.0 - all games have a computer"
   ]
  },
  {
   "cell_type": "code",
   "execution_count": null,
   "id": "071c88f6",
   "metadata": {
    "ExecuteTime": {
     "end_time": "2022-11-03T18:42:01.402880Z",
     "start_time": "2022-11-03T18:42:01.352822Z"
    },
    "hidden": true
   },
   "outputs": [],
   "source": [
    "who_wins_more_rated_less_columns=(((\n",
    "    df_2022_2018_CvH_less_columns['WhiteIsComp']==1) & (df_2022_2018_CvH_less_columns['Result']=='1-0'))|\\\n",
    "    ((df_2022_2018_CvH_less_columns['BlackIsComp']==1) & (df_2022_2018_CvH_less_columns['Result']=='0-1'))).value_counts(\n",
    "    normalize=True)*100\n",
    "who_wins_more_rated_less_columns"
   ]
  },
  {
   "cell_type": "markdown",
   "id": "6912ed2d",
   "metadata": {
    "hidden": true
   },
   "source": [
    "Still about 61% of games have the computer beat the human. "
   ]
  },
  {
   "cell_type": "code",
   "execution_count": null,
   "id": "35cd1545",
   "metadata": {
    "hidden": true
   },
   "outputs": [],
   "source": []
  },
  {
   "cell_type": "code",
   "execution_count": null,
   "id": "5f552efe",
   "metadata": {
    "hidden": true
   },
   "outputs": [],
   "source": []
  },
  {
   "cell_type": "markdown",
   "id": "3b95b025",
   "metadata": {
    "hidden": true
   },
   "source": [
    "-----"
   ]
  },
  {
   "cell_type": "markdown",
   "id": "977e2b1a",
   "metadata": {},
   "source": [
    "## First Pass Modelling"
   ]
  },
  {
   "cell_type": "markdown",
   "id": "f3d0dec9",
   "metadata": {},
   "source": [
    "### Load and functional cleaning"
   ]
  },
  {
   "cell_type": "code",
   "execution_count": null,
   "id": "4d9bcf46",
   "metadata": {
    "ExecuteTime": {
     "end_time": "2022-10-24T15:15:16.748577Z",
     "start_time": "2022-10-24T15:15:08.187018Z"
    }
   },
   "outputs": [],
   "source": [
    "# # on vostro laptop\n",
    "# raw_pickle_list = [joblib.load(f'C:/Users/MaNiL/Desktop/data/capstone/raw/pickles/{year}_CvH.pkl') for \\\n",
    "#          year in np.arange(2022, 2017, -1)] # load the pickles from 2022 to 2018 inclusive"
   ]
  },
  {
   "cell_type": "code",
   "execution_count": null,
   "id": "b452e30a",
   "metadata": {
    "ExecuteTime": {
     "end_time": "2022-10-23T15:16:07.456854Z",
     "start_time": "2022-10-23T15:16:07.441867Z"
    }
   },
   "outputs": [],
   "source": [
    "# # on Muninn\n",
    "# raw_pickle_list = [joblib.load(f'C:/Users/Emanuel/Desktop/data/capstone/raw/{year}_CvH.pkl') for \\\n",
    "#          year in np.arange(2022, 2017, -1)] # load the pickles from 2022 to 2018 inclusive"
   ]
  },
  {
   "cell_type": "code",
   "execution_count": null,
   "id": "dd14ae6b",
   "metadata": {
    "ExecuteTime": {
     "end_time": "2022-10-23T15:16:07.471815Z",
     "start_time": "2022-10-23T15:16:07.457825Z"
    }
   },
   "outputs": [],
   "source": [
    "# # using cloud-available data (currently only 2021 and 2020)\n",
    "# raw_pickle_list = [joblib.load(f'./data/{year}_CvH.pkl') for \\\n",
    "#          year in np.arange(2021, 2019, -1)] # load the pickles from 2022 to 2018 inclusive"
   ]
  },
  {
   "cell_type": "markdown",
   "id": "869b9935",
   "metadata": {},
   "source": [
    "Shape sanity check:"
   ]
  },
  {
   "cell_type": "code",
   "execution_count": null,
   "id": "1908d5c2",
   "metadata": {
    "ExecuteTime": {
     "end_time": "2022-10-24T15:15:16.986097Z",
     "start_time": "2022-10-24T15:15:16.750577Z"
    }
   },
   "outputs": [],
   "source": [
    "# sum([df_.shape[0] for df_ in raw_pickle_list])==pd.concat(raw_pickle_list).shape[0]"
   ]
  },
  {
   "cell_type": "code",
   "execution_count": null,
   "id": "153b2763",
   "metadata": {
    "ExecuteTime": {
     "end_time": "2022-10-24T15:16:49.868237Z",
     "start_time": "2022-10-24T15:16:49.862251Z"
    }
   },
   "outputs": [],
   "source": [
    "# big_df = hp.concatenate_cleaned_pickles(raw_pickle_list)\n",
    "\n",
    "\n",
    "# # Shape pre-drop: (198779, 13)\n",
    "# # Dropping duplicates...\n",
    "# # Shape post-drop: (198521, 13)\n",
    "# #  Duplicates dropped: 258"
   ]
  },
  {
   "cell_type": "code",
   "execution_count": null,
   "id": "362c3397",
   "metadata": {},
   "outputs": [],
   "source": []
  },
  {
   "cell_type": "code",
   "execution_count": null,
   "id": "3d26ec24",
   "metadata": {
    "ExecuteTime": {
     "end_time": "2022-10-23T15:16:07.519687Z",
     "start_time": "2022-10-23T15:16:07.504699Z"
    }
   },
   "outputs": [],
   "source": [
    "# on Muninn\n",
    "# joblib.dump(big_df, 'C:/Users/Emanuel/Desktop/data/capstone/preprocessed/2022_2018_CvH.pkl', compress=7)\n",
    "\n",
    "# big_df = joblib.load('C:/Users/Emanuel/Desktop/data/capstone/preprocessed/2022_2018_CvH.pkl')"
   ]
  },
  {
   "cell_type": "code",
   "execution_count": 119,
   "id": "e29335d1",
   "metadata": {
    "ExecuteTime": {
     "end_time": "2022-11-07T03:43:32.856191Z",
     "start_time": "2022-11-07T03:43:27.969353Z"
    }
   },
   "outputs": [],
   "source": [
    "# on cloud\n",
    "big_df = joblib.load('./data/preprocessed/2022_2018_CvH.pkl')"
   ]
  },
  {
   "cell_type": "code",
   "execution_count": null,
   "id": "dc6f0c2c",
   "metadata": {},
   "outputs": [],
   "source": []
  },
  {
   "cell_type": "code",
   "execution_count": 120,
   "id": "bd802aaf",
   "metadata": {
    "ExecuteTime": {
     "end_time": "2022-11-07T03:43:34.442161Z",
     "start_time": "2022-11-07T03:43:32.858185Z"
    }
   },
   "outputs": [
    {
     "name": "stdout",
     "output_type": "stream",
     "text": [
      "All games have a cheater\n"
     ]
    }
   ],
   "source": [
    "X, y = hp.X_y_split_simple(big_df)\n",
    "\n",
    "y = hp.y_convert_to_ints(y)"
   ]
  },
  {
   "cell_type": "markdown",
   "id": "6f6f9b53",
   "metadata": {},
   "source": [
    "------"
   ]
  },
  {
   "cell_type": "markdown",
   "id": "176e14c0",
   "metadata": {},
   "source": [
    "### Base Models (no cross-validation)"
   ]
  },
  {
   "cell_type": "markdown",
   "id": "b35439e1",
   "metadata": {
    "heading_collapsed": true
   },
   "source": [
    "#### Further cleaning (no 'emt' or 'moves')"
   ]
  },
  {
   "cell_type": "code",
   "execution_count": null,
   "id": "f725a812",
   "metadata": {
    "ExecuteTime": {
     "end_time": "2022-11-03T19:59:55.353485Z",
     "start_time": "2022-11-03T19:59:55.334520Z"
    },
    "hidden": true
   },
   "outputs": [],
   "source": [
    "y.head()"
   ]
  },
  {
   "cell_type": "code",
   "execution_count": null,
   "id": "d5e83833",
   "metadata": {
    "ExecuteTime": {
     "end_time": "2022-11-03T19:22:58.089533Z",
     "start_time": "2022-11-03T19:22:58.065565Z"
    },
    "hidden": true
   },
   "outputs": [],
   "source": [
    "y.value_counts(normalize=True)*100\n",
    "\n",
    "# WhiteIsComp_BlackIsComp_NoComp\n",
    "# 1                                 50.196201\n",
    "# 0                                 49.803799"
   ]
  },
  {
   "cell_type": "code",
   "execution_count": null,
   "id": "704ef33e",
   "metadata": {
    "ExecuteTime": {
     "end_time": "2022-11-03T19:22:58.293467Z",
     "start_time": "2022-11-03T19:22:58.285467Z"
    },
    "hidden": true
   },
   "outputs": [],
   "source": [
    "y.value_counts();\n",
    "\n",
    "# WhiteIsComp_BlackIsComp_NoComp\n",
    "# 1                              99650\n",
    "# 0                              98871"
   ]
  },
  {
   "cell_type": "markdown",
   "id": "e74f72b8",
   "metadata": {
    "hidden": true
   },
   "source": [
    "Knowing the distribution of the target is important when considering model performance."
   ]
  },
  {
   "cell_type": "code",
   "execution_count": null,
   "id": "731c7a46",
   "metadata": {
    "ExecuteTime": {
     "end_time": "2022-11-03T19:22:58.731687Z",
     "start_time": "2022-11-03T19:22:58.708617Z"
    },
    "hidden": true
   },
   "outputs": [],
   "source": [
    "X.head(2)"
   ]
  },
  {
   "cell_type": "code",
   "execution_count": null,
   "id": "446455d9",
   "metadata": {
    "ExecuteTime": {
     "end_time": "2022-11-03T19:22:58.965580Z",
     "start_time": "2022-11-03T19:22:58.957569Z"
    },
    "hidden": true
   },
   "outputs": [],
   "source": [
    "X.shape # (198779, 10)"
   ]
  },
  {
   "cell_type": "code",
   "execution_count": null,
   "id": "b5b808a3",
   "metadata": {
    "ExecuteTime": {
     "end_time": "2022-11-03T19:22:59.186774Z",
     "start_time": "2022-11-03T19:22:59.164841Z"
    },
    "hidden": true
   },
   "outputs": [],
   "source": [
    "unique_openings = X.ECO.unique()\n",
    "len(unique_openings) # 494"
   ]
  },
  {
   "cell_type": "markdown",
   "id": "d26589e6",
   "metadata": {
    "hidden": true
   },
   "source": [
    "Openings (ECO) will be one hot encoded. "
   ]
  },
  {
   "cell_type": "markdown",
   "id": "92af38f6",
   "metadata": {
    "hidden": true
   },
   "source": [
    "Removing emt and moves for now but feature engineering can be done to them in future (after base models). "
   ]
  },
  {
   "cell_type": "code",
   "execution_count": null,
   "id": "57cf0269",
   "metadata": {
    "ExecuteTime": {
     "end_time": "2022-11-03T20:02:45.299274Z",
     "start_time": "2022-11-03T20:02:45.281226Z"
    },
    "hidden": true
   },
   "outputs": [],
   "source": [
    "X_ = X.drop(columns=['emt', 'moves'])"
   ]
  },
  {
   "cell_type": "code",
   "execution_count": null,
   "id": "8a06c35d",
   "metadata": {
    "ExecuteTime": {
     "end_time": "2022-11-03T20:00:02.904469Z",
     "start_time": "2022-11-03T20:00:02.879451Z"
    },
    "hidden": true
   },
   "outputs": [],
   "source": [
    "X_.head()"
   ]
  },
  {
   "cell_type": "markdown",
   "id": "5c549e3d",
   "metadata": {
    "hidden": true
   },
   "source": [
    "-----"
   ]
  },
  {
   "cell_type": "markdown",
   "id": "6bf5d8cb",
   "metadata": {
    "heading_collapsed": true
   },
   "source": [
    "#### Test Train Split"
   ]
  },
  {
   "cell_type": "code",
   "execution_count": null,
   "id": "53f82baf",
   "metadata": {
    "ExecuteTime": {
     "end_time": "2022-11-03T19:23:14.574097Z",
     "start_time": "2022-11-03T19:23:14.565097Z"
    },
    "hidden": true
   },
   "outputs": [],
   "source": [
    "y.head()"
   ]
  },
  {
   "cell_type": "code",
   "execution_count": null,
   "id": "a28441d0",
   "metadata": {
    "ExecuteTime": {
     "end_time": "2022-11-03T20:02:53.608176Z",
     "start_time": "2022-11-03T20:02:53.200654Z"
    },
    "hidden": true
   },
   "outputs": [],
   "source": [
    "X_train, X_test, y_train, y_test = train_test_split(X_, y, test_size=0.2, random_state=22,\n",
    "                                                                     stratify=y)"
   ]
  },
  {
   "cell_type": "code",
   "execution_count": null,
   "id": "10078af5",
   "metadata": {
    "ExecuteTime": {
     "end_time": "2022-11-03T20:02:53.623184Z",
     "start_time": "2022-11-03T20:02:53.609201Z"
    },
    "hidden": true
   },
   "outputs": [],
   "source": [
    "y_train_ = np.reshape(y_train.values, (-1,))\n",
    "y_test_ = np.reshape(y_test.values, (-1,))"
   ]
  },
  {
   "cell_type": "code",
   "execution_count": null,
   "id": "166aea35",
   "metadata": {
    "ExecuteTime": {
     "end_time": "2022-10-23T20:10:37.536159Z",
     "start_time": "2022-10-23T20:10:37.522195Z"
    },
    "hidden": true
   },
   "outputs": [],
   "source": [
    "# X_remainder, X_test, y_remainder, y_test = train_test_split(X_, y, test_size=0.2, random_state=22,\n",
    "#                                                                      stratify=y)\n",
    "\n",
    "# X_train, X_validation, y_train, y_validation = train_test_split(X_remainder, y_remainder, train_size=0.7,\n",
    "#                                                                random_state=22, stratify=y_remainder)"
   ]
  },
  {
   "cell_type": "code",
   "execution_count": null,
   "id": "dda832f6",
   "metadata": {
    "ExecuteTime": {
     "end_time": "2022-10-23T20:10:37.550961Z",
     "start_time": "2022-10-23T20:10:37.537964Z"
    },
    "hidden": true
   },
   "outputs": [],
   "source": [
    "# validation is 30%"
   ]
  },
  {
   "cell_type": "markdown",
   "id": "9ff5eeef",
   "metadata": {
    "hidden": true
   },
   "source": [
    "------"
   ]
  },
  {
   "cell_type": "markdown",
   "id": "f8894c33",
   "metadata": {
    "heading_collapsed": true
   },
   "source": [
    "#### OHE ECO"
   ]
  },
  {
   "cell_type": "code",
   "execution_count": null,
   "id": "ed9af5a8",
   "metadata": {
    "ExecuteTime": {
     "end_time": "2022-11-03T20:02:58.647975Z",
     "start_time": "2022-11-03T20:02:58.642013Z"
    },
    "hidden": true
   },
   "outputs": [],
   "source": [
    "ohe = OneHotEncoder(sparse=False, dtype=np.int8(), handle_unknown='ignore')"
   ]
  },
  {
   "cell_type": "code",
   "execution_count": null,
   "id": "64b5aa7c",
   "metadata": {
    "ExecuteTime": {
     "end_time": "2022-11-03T19:24:19.205604Z",
     "start_time": "2022-11-03T19:24:19.196569Z"
    },
    "hidden": true
   },
   "outputs": [],
   "source": [
    "# ohe.fit(X_train[['ECO']])\n",
    "# X_train_ECO_ohe = ohe.transform(X_train[['ECO']])"
   ]
  },
  {
   "cell_type": "code",
   "execution_count": null,
   "id": "a804b6d6",
   "metadata": {
    "ExecuteTime": {
     "end_time": "2022-11-03T19:24:19.349486Z",
     "start_time": "2022-11-03T19:24:19.337478Z"
    },
    "hidden": true
   },
   "outputs": [],
   "source": [
    "# X_test_ECO_ohe = ohe.transform(X_test[['ECO']])"
   ]
  },
  {
   "cell_type": "code",
   "execution_count": null,
   "id": "6b2f37a1",
   "metadata": {
    "ExecuteTime": {
     "end_time": "2022-11-03T19:24:19.505013Z",
     "start_time": "2022-11-03T19:24:19.495016Z"
    },
    "hidden": true
   },
   "outputs": [],
   "source": [
    "# X_train_ECO_ohe.shape # (55151, 477)"
   ]
  },
  {
   "cell_type": "code",
   "execution_count": null,
   "id": "d97f1a25",
   "metadata": {
    "ExecuteTime": {
     "end_time": "2022-11-03T19:24:19.676285Z",
     "start_time": "2022-11-03T19:24:19.657211Z"
    },
    "hidden": true
   },
   "outputs": [],
   "source": [
    "# ohe.get_feature_names_out()[0:10]"
   ]
  },
  {
   "cell_type": "code",
   "execution_count": null,
   "id": "9afc9503",
   "metadata": {
    "ExecuteTime": {
     "end_time": "2022-11-03T19:24:19.817726Z",
     "start_time": "2022-11-03T19:24:19.806725Z"
    },
    "hidden": true
   },
   "outputs": [],
   "source": [
    "# pd.DataFrame(X_train_ECO_ohe, columns=ohe.get_feature_names_out()).head()"
   ]
  },
  {
   "cell_type": "code",
   "execution_count": null,
   "id": "20f662cd",
   "metadata": {
    "ExecuteTime": {
     "end_time": "2022-11-03T19:24:19.972042Z",
     "start_time": "2022-11-03T19:24:19.963039Z"
    },
    "hidden": true
   },
   "outputs": [],
   "source": [
    "# X_train[['ECO']].head()"
   ]
  },
  {
   "cell_type": "code",
   "execution_count": null,
   "id": "f1de584c",
   "metadata": {
    "ExecuteTime": {
     "end_time": "2022-11-03T19:24:20.126703Z",
     "start_time": "2022-11-03T19:24:20.120709Z"
    },
    "hidden": true
   },
   "outputs": [],
   "source": [
    "# X_train_ = pd.merge(\n",
    "#     left=X_train.drop(columns=['ECO']).reset_index(drop=True),\n",
    "#     right=pd.DataFrame(X_train_ECO_ohe, columns=ohe.get_feature_names_out()),\n",
    "#     how='left',\n",
    "#     left_index=True,\n",
    "#     right_index=True)\n",
    "# # X_train_.head()"
   ]
  },
  {
   "cell_type": "code",
   "execution_count": null,
   "id": "24274c85",
   "metadata": {
    "ExecuteTime": {
     "end_time": "2022-11-03T20:03:01.206916Z",
     "start_time": "2022-11-03T20:03:00.950436Z"
    },
    "hidden": true
   },
   "outputs": [],
   "source": [
    "X_train_ = pd.merge(\n",
    "    left=X_train.drop(columns=['ECO']).reset_index(drop=True),\n",
    "    right=pd.DataFrame(ohe.fit_transform(X_train[['ECO']]), columns=ohe.get_feature_names_out()),\n",
    "    how='left',\n",
    "    left_index=True,\n",
    "    right_index=True)"
   ]
  },
  {
   "cell_type": "code",
   "execution_count": null,
   "id": "4cba568e",
   "metadata": {
    "ExecuteTime": {
     "end_time": "2022-11-03T19:24:21.064497Z",
     "start_time": "2022-11-03T19:24:21.049456Z"
    },
    "hidden": true
   },
   "outputs": [],
   "source": [
    "X_train_.head()"
   ]
  },
  {
   "cell_type": "code",
   "execution_count": null,
   "id": "fd065f4c",
   "metadata": {
    "ExecuteTime": {
     "end_time": "2022-11-03T20:03:02.874601Z",
     "start_time": "2022-11-03T20:03:02.800558Z"
    },
    "hidden": true
   },
   "outputs": [],
   "source": [
    "X_test_ = pd.merge(\n",
    "    left=X_test.drop(columns=['ECO']).reset_index(drop=True),\n",
    "    right=pd.DataFrame(ohe.transform(X_test[['ECO']]), columns=ohe.get_feature_names_out()),\n",
    "    how='left',\n",
    "    left_index=True,\n",
    "    right_index=True)"
   ]
  },
  {
   "cell_type": "code",
   "execution_count": null,
   "id": "4eb9f700",
   "metadata": {
    "ExecuteTime": {
     "end_time": "2022-11-03T19:24:22.114788Z",
     "start_time": "2022-11-03T19:24:22.099796Z"
    },
    "hidden": true
   },
   "outputs": [],
   "source": [
    "X_test_.head() # 5 rows × 499 columns"
   ]
  },
  {
   "cell_type": "markdown",
   "id": "59a98550",
   "metadata": {
    "hidden": true
   },
   "source": [
    "-----"
   ]
  },
  {
   "cell_type": "markdown",
   "id": "c90a21cf",
   "metadata": {
    "heading_collapsed": true
   },
   "source": [
    "#### Scaling"
   ]
  },
  {
   "cell_type": "code",
   "execution_count": null,
   "id": "6bd2a19b",
   "metadata": {
    "ExecuteTime": {
     "end_time": "2022-11-04T14:03:51.028394Z",
     "start_time": "2022-11-04T14:03:51.022424Z"
    },
    "hidden": true
   },
   "outputs": [],
   "source": [
    "stan_scal = StandardScaler()"
   ]
  },
  {
   "cell_type": "code",
   "execution_count": null,
   "id": "f4f5a79b",
   "metadata": {
    "ExecuteTime": {
     "end_time": "2022-11-04T14:03:51.517595Z",
     "start_time": "2022-11-04T14:03:51.417290Z"
    },
    "hidden": true
   },
   "outputs": [],
   "source": [
    "X_train_scaled=X_train_.copy()\n",
    "\n",
    "X_train_scaled[['BlackElo', 'BlackRD',\n",
    "                'PlyCount', 'WhiteElo',\n",
    "                'WhiteRD', 'TimeControl_Base', 'TimeControl_Inc']] = stan_scal.fit_transform(X_train_[[\n",
    "    'BlackElo', 'BlackRD', 'PlyCount', 'WhiteElo', 'WhiteRD', 'TimeControl_Base', 'TimeControl_Inc']])\n",
    "\n",
    "X_test_scaled=X_test_.copy()\n",
    "\n",
    "X_test_scaled[['BlackElo', 'BlackRD',\n",
    "                'PlyCount', 'WhiteElo',\n",
    "                'WhiteRD', 'TimeControl_Base', 'TimeControl_Inc']] = stan_scal.transform(X_test_[[\n",
    "    'BlackElo', 'BlackRD', 'PlyCount', 'WhiteElo', 'WhiteRD', 'TimeControl_Base', 'TimeControl_Inc']])\n",
    "\n"
   ]
  },
  {
   "cell_type": "code",
   "execution_count": null,
   "id": "ce1d8efd",
   "metadata": {
    "ExecuteTime": {
     "end_time": "2022-11-04T14:03:52.280991Z",
     "start_time": "2022-11-04T14:03:52.246926Z"
    },
    "hidden": true
   },
   "outputs": [],
   "source": [
    "display(X_train_scaled.head()) # 5 rows × 499 columns\n",
    "display(X_test_scaled.head()) # 5 rows × 499 columns"
   ]
  },
  {
   "cell_type": "markdown",
   "id": "070dcb37",
   "metadata": {
    "hidden": true
   },
   "source": [
    "-----"
   ]
  },
  {
   "cell_type": "markdown",
   "id": "e92e4b74",
   "metadata": {
    "heading_collapsed": true
   },
   "source": [
    "#### Logistic Regression"
   ]
  },
  {
   "cell_type": "code",
   "execution_count": null,
   "id": "ec47bd0d",
   "metadata": {
    "ExecuteTime": {
     "end_time": "2022-10-23T15:19:38.106514Z",
     "start_time": "2022-10-23T15:19:38.099539Z"
    },
    "hidden": true
   },
   "outputs": [],
   "source": [
    "# logreg = LogisticRegression(penalty='l2', max_iter=10000,\n",
    "#                            solver='lbfgs', C=1.0) # default settings"
   ]
  },
  {
   "cell_type": "code",
   "execution_count": null,
   "id": "2d80e924",
   "metadata": {
    "ExecuteTime": {
     "end_time": "2022-10-23T15:19:38.778138Z",
     "start_time": "2022-10-23T15:19:38.759161Z"
    },
    "hidden": true
   },
   "outputs": [],
   "source": [
    "# y_train.values.shape"
   ]
  },
  {
   "cell_type": "code",
   "execution_count": null,
   "id": "dad97357",
   "metadata": {
    "ExecuteTime": {
     "end_time": "2022-10-23T15:20:08.094754Z",
     "start_time": "2022-10-23T15:19:53.188411Z"
    },
    "hidden": true
   },
   "outputs": [],
   "source": [
    "# np.reshape(y_train.values, (-1,)).shape # (159023,)\n",
    "\n",
    "# logreg.fit(X_train_scaled, np.reshape(y_train.values, (-1,)))\n",
    "\n",
    "# joblib.dump(logreg, 'C:/Users/Emanuel/Desktop/data/capstone/pickles/first_logreg.pkl', compress=7)"
   ]
  },
  {
   "cell_type": "code",
   "execution_count": 116,
   "id": "6307c8e2",
   "metadata": {
    "ExecuteTime": {
     "end_time": "2022-11-07T03:42:58.058140Z",
     "start_time": "2022-11-07T03:42:58.039230Z"
    },
    "hidden": true
   },
   "outputs": [],
   "source": [
    "logreg = joblib.load('data/pickled_models/first/first_logreg.pkl')"
   ]
  },
  {
   "cell_type": "code",
   "execution_count": null,
   "id": "f31c5503",
   "metadata": {
    "ExecuteTime": {
     "end_time": "2022-10-23T15:20:41.158550Z",
     "start_time": "2022-10-23T15:20:41.148542Z"
    },
    "hidden": true
   },
   "outputs": [],
   "source": [
    "# display(y_train.head())\n",
    "# display(y_test.head())"
   ]
  },
  {
   "cell_type": "code",
   "execution_count": 117,
   "id": "78d68a88",
   "metadata": {
    "ExecuteTime": {
     "end_time": "2022-11-07T03:43:04.060256Z",
     "start_time": "2022-11-07T03:43:04.046297Z"
    },
    "hidden": true
   },
   "outputs": [
    {
     "ename": "NameError",
     "evalue": "name 'y_train' is not defined",
     "output_type": "error",
     "traceback": [
      "\u001b[1;31m---------------------------------------------------------------------------\u001b[0m",
      "\u001b[1;31mNameError\u001b[0m                                 Traceback (most recent call last)",
      "Cell \u001b[1;32mIn [117], line 1\u001b[0m\n\u001b[1;32m----> 1\u001b[0m y_train_ \u001b[38;5;241m=\u001b[39m np\u001b[38;5;241m.\u001b[39mreshape(y_train\u001b[38;5;241m.\u001b[39mvalues, (\u001b[38;5;241m-\u001b[39m\u001b[38;5;241m1\u001b[39m,))\n\u001b[0;32m      2\u001b[0m y_test_ \u001b[38;5;241m=\u001b[39m np\u001b[38;5;241m.\u001b[39mreshape(y_test\u001b[38;5;241m.\u001b[39mvalues, (\u001b[38;5;241m-\u001b[39m\u001b[38;5;241m1\u001b[39m,))\n",
      "\u001b[1;31mNameError\u001b[0m: name 'y_train' is not defined"
     ]
    }
   ],
   "source": [
    "y_train_ = np.reshape(y_train.values, (-1,))\n",
    "y_test_ = np.reshape(y_test.values, (-1,))"
   ]
  },
  {
   "cell_type": "code",
   "execution_count": null,
   "id": "3629ec28",
   "metadata": {
    "ExecuteTime": {
     "end_time": "2022-10-23T15:20:43.539568Z",
     "start_time": "2022-10-23T15:20:43.522582Z"
    },
    "hidden": true
   },
   "outputs": [],
   "source": [
    "y_train_.shape"
   ]
  },
  {
   "cell_type": "code",
   "execution_count": null,
   "id": "52e6041a",
   "metadata": {
    "ExecuteTime": {
     "end_time": "2022-10-23T15:23:04.234590Z",
     "start_time": "2022-10-23T15:23:04.222663Z"
    },
    "hidden": true
   },
   "outputs": [],
   "source": [
    "# print(f'The accuracy score on the training data is: {logreg.score(X_train_scaled, y_train_)}')\n",
    "# print(f'The accuracy score on the testing data is: {logreg.score(X_test_scaled, y_test_)}')"
   ]
  },
  {
   "cell_type": "code",
   "execution_count": null,
   "id": "4f99ce21",
   "metadata": {
    "ExecuteTime": {
     "end_time": "2022-10-23T15:20:53.921400Z",
     "start_time": "2022-10-23T15:20:53.904445Z"
    },
    "hidden": true
   },
   "outputs": [],
   "source": [
    "# plot_confusion_matrix(logreg, X_test_scaled, y_test_)\n",
    "\n",
    "# logreg_y_pred = logreg.predict(X_test_scaled)\n",
    "# print(classification_report(y_test_, logreg_y_pred))"
   ]
  },
  {
   "cell_type": "code",
   "execution_count": null,
   "id": "78c31e93",
   "metadata": {
    "ExecuteTime": {
     "end_time": "2022-10-23T15:20:56.083257Z",
     "start_time": "2022-10-23T15:20:56.079268Z"
    },
    "hidden": true
   },
   "outputs": [],
   "source": [
    "# logreg_results = pd.DataFrame(\n",
    "#     classification_report(\n",
    "#         y_test_, logreg_y_pred, output_dict=True)).loc[\n",
    "#     ['precision', 'recall', 'f1-score'],\n",
    "#     ['0', '1', 'accuracy']]"
   ]
  },
  {
   "cell_type": "code",
   "execution_count": null,
   "id": "07c51871",
   "metadata": {
    "ExecuteTime": {
     "end_time": "2022-10-23T15:20:56.752260Z",
     "start_time": "2022-10-23T15:20:56.738289Z"
    },
    "hidden": true
   },
   "outputs": [],
   "source": [
    "# log_reg_coefficients = pd.DataFrame(\n",
    "#     data=logreg.coef_, columns=logreg.feature_names_in_)\n",
    "# log_reg_coefficients.T.sort_values(by=0, ascending=False)"
   ]
  },
  {
   "cell_type": "code",
   "execution_count": null,
   "id": "a3a6248c",
   "metadata": {
    "ExecuteTime": {
     "end_time": "2022-10-23T15:22:32.621782Z",
     "start_time": "2022-10-23T15:22:31.997452Z"
    },
    "hidden": true
   },
   "outputs": [],
   "source": [
    "logreg_report, logreg_results, logreg_coefficients = hp.class_model_eval_logreg(\n",
    "    logreg, X_train_scaled, X_test_scaled, y_train_, y_test_)"
   ]
  },
  {
   "cell_type": "code",
   "execution_count": null,
   "id": "99a1b05f",
   "metadata": {
    "ExecuteTime": {
     "end_time": "2022-10-23T15:22:47.364153Z",
     "start_time": "2022-10-23T15:22:47.341215Z"
    },
    "hidden": true
   },
   "outputs": [],
   "source": [
    "log_reg_coefficients = pd.DataFrame(\n",
    "    data=abs(logreg.coef_), columns=logreg.feature_names_in_)\n",
    "\n",
    "log_reg_coefficients.T.rename(columns={0: 'coefficient_weights'}).sort_values(\n",
    "    by='coefficient_weights', ascending=False).head(15)"
   ]
  },
  {
   "cell_type": "markdown",
   "id": "2f32361a",
   "metadata": {
    "hidden": true
   },
   "source": [
    "Should look into these openings ?"
   ]
  },
  {
   "cell_type": "markdown",
   "id": "1ef1f770",
   "metadata": {
    "hidden": true
   },
   "source": [
    "------"
   ]
  },
  {
   "cell_type": "markdown",
   "id": "92dd7f99",
   "metadata": {
    "heading_collapsed": true
   },
   "source": [
    "#### KNN"
   ]
  },
  {
   "cell_type": "code",
   "execution_count": null,
   "id": "093761c5",
   "metadata": {
    "ExecuteTime": {
     "end_time": "2022-11-03T19:28:51.781636Z",
     "start_time": "2022-11-03T19:28:51.767603Z"
    },
    "hidden": true
   },
   "outputs": [],
   "source": [
    "# knn = KNeighborsClassifier(n_neighbors=5, weights='uniform',\n",
    "#                           n_jobs=-1)"
   ]
  },
  {
   "cell_type": "code",
   "execution_count": null,
   "id": "6dbfefcd",
   "metadata": {
    "ExecuteTime": {
     "end_time": "2022-11-03T19:32:53.080527Z",
     "start_time": "2022-11-03T19:32:52.565718Z"
    },
    "hidden": true
   },
   "outputs": [],
   "source": [
    "# knn.fit(X_train_scaled, y_train_)"
   ]
  },
  {
   "cell_type": "code",
   "execution_count": null,
   "id": "42869b7f",
   "metadata": {
    "ExecuteTime": {
     "end_time": "2022-11-03T19:45:19.623097Z",
     "start_time": "2022-11-03T19:45:19.609083Z"
    },
    "hidden": true
   },
   "outputs": [],
   "source": [
    "# joblib.dump(knn,\n",
    "#            './data/pickled_models/first_knn.pkl',\n",
    "#            compress=9)qw"
   ]
  },
  {
   "cell_type": "code",
   "execution_count": null,
   "id": "b9de96f4",
   "metadata": {
    "ExecuteTime": {
     "end_time": "2022-11-03T20:03:17.505064Z",
     "start_time": "2022-11-03T20:03:16.599916Z"
    },
    "hidden": true
   },
   "outputs": [],
   "source": [
    "knn = joblib.load('./data/pickled_models/first_knn.pkl')"
   ]
  },
  {
   "cell_type": "code",
   "execution_count": null,
   "id": "f1a3d61e",
   "metadata": {
    "ExecuteTime": {
     "end_time": "2022-11-03T20:11:42.303929Z",
     "start_time": "2022-11-03T20:11:42.294890Z"
    },
    "hidden": true
   },
   "outputs": [],
   "source": [
    "# knn_report, knn_model_results = \\\n",
    "#     hp.class_model_eval_logreg(\n",
    "#         knn, X_train_scaled, X_test_scaled, y_train_, y_test_,\n",
    "#         has_coeffs=False)"
   ]
  },
  {
   "cell_type": "code",
   "execution_count": null,
   "id": "0b617140",
   "metadata": {
    "ExecuteTime": {
     "end_time": "2022-11-03T20:11:46.777852Z",
     "start_time": "2022-11-03T20:11:46.764885Z"
    },
    "hidden": true
   },
   "outputs": [],
   "source": [
    "# print(knn_report)\n",
    "# knn_model_results"
   ]
  },
  {
   "cell_type": "code",
   "execution_count": null,
   "id": "9dec7cc5",
   "metadata": {
    "ExecuteTime": {
     "end_time": "2022-11-03T20:11:58.247529Z",
     "start_time": "2022-11-03T20:11:58.229556Z"
    },
    "hidden": true
   },
   "outputs": [],
   "source": [
    "# joblib.dump([knn_report, knn_model_results],\n",
    "#            './data/pickled_models/first_knn_report-results.pkl',\n",
    "#            compress=9)"
   ]
  },
  {
   "cell_type": "code",
   "execution_count": null,
   "id": "c15252a3",
   "metadata": {
    "ExecuteTime": {
     "end_time": "2022-11-03T20:12:31.051431Z",
     "start_time": "2022-11-03T20:12:31.032448Z"
    },
    "hidden": true
   },
   "outputs": [],
   "source": [
    "knn_results = joblib.load('./data/pickled_models/first_knn_report-results.pkl')"
   ]
  },
  {
   "cell_type": "code",
   "execution_count": null,
   "id": "15d9da58",
   "metadata": {
    "ExecuteTime": {
     "end_time": "2022-11-03T20:15:50.101091Z",
     "start_time": "2022-11-03T20:15:31.643994Z"
    },
    "hidden": true
   },
   "outputs": [],
   "source": [
    "print(knn_results[0])\n",
    "plot_confusion_matrix(knn, X_test_, y_test_)\n",
    "plt.show()"
   ]
  },
  {
   "cell_type": "code",
   "execution_count": null,
   "id": "5e26d876",
   "metadata": {
    "ExecuteTime": {
     "end_time": "2022-11-03T19:29:23.688440Z",
     "start_time": "2022-11-03T19:29:23.675404Z"
    },
    "hidden": true
   },
   "outputs": [],
   "source": [
    "# display(X_train_scaled.head()) # 5 rows × 499 columns\n",
    "# display(X_test_scaled.head()) # 5 rows × 499 columns\n",
    "\n",
    "# y_train_\n",
    "# y_test_"
   ]
  },
  {
   "cell_type": "code",
   "execution_count": null,
   "id": "af490c4c",
   "metadata": {
    "hidden": true
   },
   "outputs": [],
   "source": []
  },
  {
   "cell_type": "markdown",
   "id": "20ff9e60",
   "metadata": {
    "hidden": true
   },
   "source": [
    "-----"
   ]
  },
  {
   "cell_type": "markdown",
   "id": "40fa1700",
   "metadata": {
    "heading_collapsed": true
   },
   "source": [
    "#### Decision Tree"
   ]
  },
  {
   "cell_type": "code",
   "execution_count": null,
   "id": "99ebe1c1",
   "metadata": {
    "ExecuteTime": {
     "end_time": "2022-11-03T19:50:47.420650Z",
     "start_time": "2022-11-03T19:50:47.384680Z"
    },
    "hidden": true
   },
   "outputs": [],
   "source": [
    "display(X_train_.shape) # (158816, 499)\n",
    "X_train_.head()"
   ]
  },
  {
   "cell_type": "code",
   "execution_count": null,
   "id": "e86ba613",
   "metadata": {
    "ExecuteTime": {
     "end_time": "2022-11-03T19:51:11.140108Z",
     "start_time": "2022-11-03T19:51:11.132096Z"
    },
    "hidden": true
   },
   "outputs": [],
   "source": [
    "display(y_train_.shape)\n",
    "display(y_train.shape)"
   ]
  },
  {
   "cell_type": "code",
   "execution_count": null,
   "id": "e5b2a9e8",
   "metadata": {
    "ExecuteTime": {
     "end_time": "2022-11-03T19:48:33.045606Z",
     "start_time": "2022-11-03T19:48:31.800505Z"
    },
    "hidden": true
   },
   "outputs": [],
   "source": [
    "dt = DecisionTreeClassifier(max_features='sqrt')\n",
    "\n",
    "dt.fit(X_train_, y_train_)"
   ]
  },
  {
   "cell_type": "code",
   "execution_count": null,
   "id": "36c111ac",
   "metadata": {
    "ExecuteTime": {
     "end_time": "2022-11-03T20:09:05.176967Z",
     "start_time": "2022-11-03T20:09:04.409889Z"
    },
    "hidden": true
   },
   "outputs": [],
   "source": [
    "# joblib.dump(dt,\n",
    "#            './data/pickled_models/first_dt.pkl',\n",
    "#            compress=9)"
   ]
  },
  {
   "cell_type": "code",
   "execution_count": null,
   "id": "da86da07",
   "metadata": {
    "ExecuteTime": {
     "end_time": "2022-11-03T20:09:04.408889Z",
     "start_time": "2022-11-03T20:09:04.379926Z"
    },
    "hidden": true
   },
   "outputs": [],
   "source": [
    "dt = joblib.load('./data/pickled_models/first_dt.pkl')"
   ]
  },
  {
   "cell_type": "code",
   "execution_count": null,
   "id": "5152785b",
   "metadata": {
    "ExecuteTime": {
     "end_time": "2022-11-03T20:09:06.035892Z",
     "start_time": "2022-11-03T20:09:05.178891Z"
    },
    "hidden": true
   },
   "outputs": [],
   "source": [
    "dt_report, dt_model_results = \\\n",
    "    hp.class_model_eval_logreg(\n",
    "        dt, X_train_, X_test_, y_train_, y_test_, has_coeffs=False)"
   ]
  },
  {
   "cell_type": "code",
   "execution_count": null,
   "id": "482fcb12",
   "metadata": {
    "hidden": true
   },
   "outputs": [],
   "source": []
  },
  {
   "cell_type": "markdown",
   "id": "32077069",
   "metadata": {
    "hidden": true
   },
   "source": [
    "------"
   ]
  },
  {
   "cell_type": "markdown",
   "id": "47a3ae12",
   "metadata": {},
   "source": [
    "#### Random Forest"
   ]
  },
  {
   "cell_type": "code",
   "execution_count": null,
   "id": "a16393b7",
   "metadata": {
    "ExecuteTime": {
     "end_time": "2022-10-23T15:23:47.633217Z",
     "start_time": "2022-10-23T15:23:47.620278Z"
    }
   },
   "outputs": [],
   "source": [
    "# random_forest = RandomForestClassifier(n_estimators=100) # default values\n",
    "# random_forest.fit(X_train_, y_train)\n",
    " "
   ]
  },
  {
   "cell_type": "code",
   "execution_count": null,
   "id": "acaa0d91",
   "metadata": {
    "ExecuteTime": {
     "end_time": "2022-10-23T15:23:47.805453Z",
     "start_time": "2022-10-23T15:23:47.795478Z"
    }
   },
   "outputs": [],
   "source": [
    "# joblib.dump(random_forest, './models/first_pass/first_randfor.pkl', compress=7)"
   ]
  },
  {
   "cell_type": "code",
   "execution_count": null,
   "id": "52189e34",
   "metadata": {
    "ExecuteTime": {
     "end_time": "2022-10-23T15:23:48.534645Z",
     "start_time": "2022-10-23T15:23:47.955422Z"
    }
   },
   "outputs": [],
   "source": [
    "random_forest = joblib.load('./models/first_pass/first_randfor.pkl')"
   ]
  },
  {
   "cell_type": "code",
   "execution_count": null,
   "id": "3bbfe6a8",
   "metadata": {
    "ExecuteTime": {
     "end_time": "2022-10-23T15:23:48.565551Z",
     "start_time": "2022-10-23T15:23:48.536612Z"
    }
   },
   "outputs": [],
   "source": [
    "X_train_"
   ]
  },
  {
   "cell_type": "code",
   "execution_count": null,
   "id": "7b912b5b",
   "metadata": {
    "ExecuteTime": {
     "end_time": "2022-10-23T15:24:28.250845Z",
     "start_time": "2022-10-23T15:23:48.566532Z"
    }
   },
   "outputs": [],
   "source": [
    "decision_tree_train_scores = []\n",
    "for sub_tree in random_forest.estimators_:\n",
    "    decision_tree_train_scores.append(sub_tree.score(X_train_, y_train))\n",
    "    \n",
    "print(\"Performance on fitted data:\")\n",
    "print(f\"Average Decision Tree: {np.mean(decision_tree_train_scores)}\")\n",
    "print(f\"Random Forest: {random_forest.score(X_train_, y_train)}\")"
   ]
  },
  {
   "cell_type": "code",
   "execution_count": null,
   "id": "7db263c2",
   "metadata": {
    "ExecuteTime": {
     "end_time": "2022-10-23T15:24:38.454388Z",
     "start_time": "2022-10-23T15:24:28.251842Z"
    }
   },
   "outputs": [],
   "source": [
    "decision_tree_test_scores = []\n",
    "for sub_tree in random_forest.estimators_:\n",
    "    decision_tree_test_scores.append(sub_tree.score(X_test_, y_test))\n",
    "\n",
    "print(\"Performance on Test data:\")\n",
    "print(f\"Average Decision Tree: {np.mean(decision_tree_test_scores)}\")\n",
    "print(f\"Random Forest: {random_forest.score(X_test_, y_test)}\")"
   ]
  },
  {
   "cell_type": "code",
   "execution_count": null,
   "id": "ae89f8a2",
   "metadata": {
    "ExecuteTime": {
     "end_time": "2022-10-23T15:24:38.486336Z",
     "start_time": "2022-10-23T15:24:38.455413Z"
    }
   },
   "outputs": [],
   "source": [
    "feature_df = pd.DataFrame(\n",
    "{\"feature_importance\": random_forest.feature_importances_},\n",
    "index=X_train_.columns)\n",
    "\n",
    "feature_df.sort_values(by='feature_importance', ascending=False).head(15)"
   ]
  },
  {
   "cell_type": "markdown",
   "id": "d261bb1a",
   "metadata": {},
   "source": [
    "-----"
   ]
  },
  {
   "cell_type": "markdown",
   "id": "cc6e2efa",
   "metadata": {
    "heading_collapsed": true
   },
   "source": [
    "#### XGBoost"
   ]
  },
  {
   "cell_type": "code",
   "execution_count": null,
   "id": "704f65c8",
   "metadata": {
    "ExecuteTime": {
     "end_time": "2022-11-03T20:18:11.713518Z",
     "start_time": "2022-11-03T20:18:11.709520Z"
    },
    "hidden": true
   },
   "outputs": [],
   "source": [
    "XGB = XGBClassifier(n_jobs=-1)"
   ]
  },
  {
   "cell_type": "code",
   "execution_count": null,
   "id": "c450080a",
   "metadata": {
    "ExecuteTime": {
     "end_time": "2022-11-03T20:18:32.070761Z",
     "start_time": "2022-11-03T20:18:15.749766Z"
    },
    "hidden": true
   },
   "outputs": [],
   "source": [
    "XGB.fit(X_train_, y_train_)"
   ]
  },
  {
   "cell_type": "code",
   "execution_count": null,
   "id": "1f97fd27",
   "metadata": {
    "ExecuteTime": {
     "end_time": "2022-11-03T20:18:32.148753Z",
     "start_time": "2022-11-03T20:18:32.071760Z"
    },
    "hidden": true
   },
   "outputs": [],
   "source": [
    "joblib.dump(XGB,\n",
    "           './data/pickled_models/first_xgb.pkl',\n",
    "           compress=9)"
   ]
  },
  {
   "cell_type": "code",
   "execution_count": null,
   "id": "7f5bfc74",
   "metadata": {
    "ExecuteTime": {
     "end_time": "2022-11-03T20:18:46.906570Z",
     "start_time": "2022-11-03T20:18:45.782742Z"
    },
    "hidden": true
   },
   "outputs": [],
   "source": [
    "xgb_report, xgb_model_results = hp.class_model_eval_logreg(XGB, X_train_, X_test_, y_train_, y_test_,\n",
    "                                                          has_coeffs=False)"
   ]
  },
  {
   "cell_type": "code",
   "execution_count": null,
   "id": "6999fb0c",
   "metadata": {
    "hidden": true
   },
   "outputs": [],
   "source": []
  },
  {
   "cell_type": "code",
   "execution_count": null,
   "id": "120cadf1",
   "metadata": {
    "hidden": true
   },
   "outputs": [],
   "source": []
  },
  {
   "cell_type": "markdown",
   "id": "5067eef5",
   "metadata": {
    "hidden": true
   },
   "source": [
    "-----"
   ]
  },
  {
   "cell_type": "markdown",
   "id": "00b40f5d",
   "metadata": {
    "heading_collapsed": true
   },
   "source": [
    "## Loading in human-only games"
   ]
  },
  {
   "cell_type": "markdown",
   "id": "3764901c",
   "metadata": {
    "heading_collapsed": true,
    "hidden": true
   },
   "source": [
    "###### Reminder of shapes:"
   ]
  },
  {
   "cell_type": "code",
   "execution_count": null,
   "id": "992b41f1",
   "metadata": {
    "ExecuteTime": {
     "end_time": "2022-10-23T15:24:38.502291Z",
     "start_time": "2022-10-23T15:24:38.487303Z"
    },
    "hidden": true
   },
   "outputs": [],
   "source": [
    "# the (non-emt&moves df shapes)\n",
    "display(X_.shape)\n",
    "display(y.value_counts())"
   ]
  },
  {
   "cell_type": "code",
   "execution_count": null,
   "id": "36fe71e5",
   "metadata": {
    "ExecuteTime": {
     "end_time": "2022-10-23T15:24:38.518220Z",
     "start_time": "2022-10-23T15:24:38.503261Z"
    },
    "hidden": true
   },
   "outputs": [],
   "source": [
    "# joblib.load('./data/2022_2018_CvH.pkl').shape # (198779, 13)"
   ]
  },
  {
   "cell_type": "markdown",
   "id": "06106846",
   "metadata": {
    "hidden": true
   },
   "source": [
    "----"
   ]
  },
  {
   "cell_type": "markdown",
   "id": "f16efe5c",
   "metadata": {
    "heading_collapsed": true,
    "hidden": true
   },
   "source": [
    "### Looking at 2021_all_ratings"
   ]
  },
  {
   "cell_type": "code",
   "execution_count": null,
   "id": "a6fd8826",
   "metadata": {
    "ExecuteTime": {
     "end_time": "2022-10-23T15:24:38.533181Z",
     "start_time": "2022-10-23T15:24:38.519218Z"
    },
    "hidden": true
   },
   "outputs": [],
   "source": [
    "# big_df = joblib.load('C:/Users/Emanuel/Desktop/data/capstone/raw/2021_all_ratings.pkl')"
   ]
  },
  {
   "cell_type": "code",
   "execution_count": null,
   "id": "cb659f1c",
   "metadata": {
    "ExecuteTime": {
     "end_time": "2022-10-23T15:24:38.549137Z",
     "start_time": "2022-10-23T15:24:38.534178Z"
    },
    "hidden": true
   },
   "outputs": [],
   "source": [
    "# display(big_df.head(1))\n",
    "# big_df.shape"
   ]
  },
  {
   "cell_type": "code",
   "execution_count": null,
   "id": "0ac77ae4",
   "metadata": {
    "ExecuteTime": {
     "end_time": "2022-10-23T15:24:38.565120Z",
     "start_time": "2022-10-23T15:24:38.550134Z"
    },
    "hidden": true
   },
   "outputs": [],
   "source": [
    "# big_df = hp.clean_pickle(big_df)"
   ]
  },
  {
   "cell_type": "code",
   "execution_count": null,
   "id": "f54501b5",
   "metadata": {
    "ExecuteTime": {
     "end_time": "2022-10-23T15:24:38.581080Z",
     "start_time": "2022-10-23T15:24:38.566093Z"
    },
    "hidden": true
   },
   "outputs": [],
   "source": [
    "# big_df.shape"
   ]
  },
  {
   "cell_type": "code",
   "execution_count": null,
   "id": "45b0fe50",
   "metadata": {
    "ExecuteTime": {
     "end_time": "2022-10-23T15:24:38.597037Z",
     "start_time": "2022-10-23T15:24:38.583047Z"
    },
    "hidden": true
   },
   "outputs": [],
   "source": [
    "# big_df.head(2)"
   ]
  },
  {
   "cell_type": "code",
   "execution_count": null,
   "id": "384bcc41",
   "metadata": {
    "ExecuteTime": {
     "end_time": "2022-10-23T15:24:38.612992Z",
     "start_time": "2022-10-23T15:24:38.598007Z"
    },
    "hidden": true
   },
   "outputs": [],
   "source": [
    "# big_df[big_df['NoComp']==0]"
   ]
  },
  {
   "cell_type": "code",
   "execution_count": null,
   "id": "34c4ff8d",
   "metadata": {
    "ExecuteTime": {
     "end_time": "2022-10-23T15:24:38.628924Z",
     "start_time": "2022-10-23T15:24:38.613964Z"
    },
    "hidden": true
   },
   "outputs": [],
   "source": [
    "# X, y = hp.X_y_split_simple(big_df)\n",
    "\n",
    "# y = hp.y_convert_to_ohe_vec(y)"
   ]
  },
  {
   "cell_type": "markdown",
   "id": "268a24fa",
   "metadata": {
    "hidden": true
   },
   "source": [
    "There are still cheaters in 2021_all_ratings. Another download will be looked at."
   ]
  },
  {
   "cell_type": "markdown",
   "id": "3c4e000e",
   "metadata": {
    "hidden": true
   },
   "source": [
    "-----"
   ]
  },
  {
   "cell_type": "markdown",
   "id": "d6129811",
   "metadata": {
    "hidden": true
   },
   "source": [
    "### Looking at titled years"
   ]
  },
  {
   "cell_type": "markdown",
   "id": "1a74a960",
   "metadata": {
    "heading_collapsed": true,
    "hidden": true
   },
   "source": [
    "#### Loading titled years as raw_pickle_list"
   ]
  },
  {
   "cell_type": "code",
   "execution_count": null,
   "id": "f6bf9817",
   "metadata": {
    "ExecuteTime": {
     "end_time": "2022-10-24T20:17:09.414902Z",
     "start_time": "2022-10-24T20:17:04.441883Z"
    },
    "hidden": true
   },
   "outputs": [],
   "source": [
    "# # on Muninn\n",
    "# raw_pickle_list = [pd.read_json(\n",
    "#     f'C:/Users/Emanuel/Desktop/data/capstone/raw/json/Titled/ficsgamesdb_{year}_titled_movetimes_26{val}.json') \\\n",
    "#                    for year, val in zip(np.arange(2021, 2016, -1), [4827, 5091, 5092, 5093, 5094])]"
   ]
  },
  {
   "cell_type": "code",
   "execution_count": null,
   "id": "2e4e510d",
   "metadata": {
    "ExecuteTime": {
     "end_time": "2022-10-24T20:16:46.470020Z",
     "start_time": "2022-10-24T20:16:46.374248Z"
    },
    "hidden": true
   },
   "outputs": [],
   "source": [
    "# sum([df_.shape[0] for df_ in raw_pickle_list])==pd.concat(raw_pickle_list).shape[0]"
   ]
  },
  {
   "cell_type": "code",
   "execution_count": null,
   "id": "c3fe41be",
   "metadata": {
    "ExecuteTime": {
     "end_time": "2022-10-24T20:16:55.249754Z",
     "start_time": "2022-10-24T20:16:54.382969Z"
    },
    "hidden": true,
    "scrolled": true
   },
   "outputs": [],
   "source": [
    "# big_df = hp.concatenate_cleaned_pickles(raw_pickle_list)"
   ]
  },
  {
   "cell_type": "code",
   "execution_count": null,
   "id": "4ff972ee",
   "metadata": {
    "ExecuteTime": {
     "end_time": "2022-10-23T15:24:43.953837Z",
     "start_time": "2022-10-23T15:24:43.938877Z"
    },
    "hidden": true
   },
   "outputs": [],
   "source": [
    "# joblib.dump(big_df, 'C:/Users/Emanuel/Desktop/data/capstone/preprocessed/2021_2017_titled.pkl', compress=7)"
   ]
  },
  {
   "cell_type": "markdown",
   "id": "eb8f7089",
   "metadata": {
    "hidden": true
   },
   "source": [
    "----"
   ]
  },
  {
   "cell_type": "markdown",
   "id": "4567591e",
   "metadata": {
    "heading_collapsed": true,
    "hidden": true
   },
   "source": [
    "##### pickle-list-checking-years"
   ]
  },
  {
   "cell_type": "code",
   "execution_count": null,
   "id": "0817ec3e",
   "metadata": {
    "ExecuteTime": {
     "end_time": "2022-10-23T15:24:43.985780Z",
     "start_time": "2022-10-23T15:24:43.978770Z"
    },
    "hidden": true
   },
   "outputs": [],
   "source": [
    "# for i in range(len(raw_pickle_list)):\n",
    "#     print(raw_pickle_list[i].Date.iloc[-10].year)\n",
    "    "
   ]
  },
  {
   "cell_type": "code",
   "execution_count": null,
   "id": "01daa56d",
   "metadata": {
    "ExecuteTime": {
     "end_time": "2022-10-23T15:24:44.159250Z",
     "start_time": "2022-10-23T15:24:44.155264Z"
    },
    "hidden": true
   },
   "outputs": [],
   "source": [
    "# raw_pickle_list[0].columns"
   ]
  },
  {
   "cell_type": "code",
   "execution_count": null,
   "id": "a93f7e4c",
   "metadata": {
    "ExecuteTime": {
     "end_time": "2022-10-23T15:24:44.332024Z",
     "start_time": "2022-10-23T15:24:44.315067Z"
    },
    "hidden": true
   },
   "outputs": [],
   "source": [
    "# df_2020 = raw_pickle_list[1]"
   ]
  },
  {
   "cell_type": "code",
   "execution_count": null,
   "id": "711cf174",
   "metadata": {
    "ExecuteTime": {
     "end_time": "2022-10-23T15:24:44.474124Z",
     "start_time": "2022-10-23T15:24:44.462174Z"
    },
    "hidden": true
   },
   "outputs": [],
   "source": [
    "# df_2019_in_2020_data = df_2020[[row.year==2019 for row in df_2020.Date]] # 38x22\n",
    "# df_2019_in_2020_data.head(1)"
   ]
  },
  {
   "cell_type": "code",
   "execution_count": null,
   "id": "e9b06ea8",
   "metadata": {
    "ExecuteTime": {
     "end_time": "2022-10-23T15:24:44.632295Z",
     "start_time": "2022-10-23T15:24:44.629278Z"
    },
    "hidden": true
   },
   "outputs": [],
   "source": [
    "# df_2019 = raw_pickle_list[2]"
   ]
  },
  {
   "cell_type": "code",
   "execution_count": null,
   "id": "598ef824",
   "metadata": {
    "ExecuteTime": {
     "end_time": "2022-10-23T15:24:44.789995Z",
     "start_time": "2022-10-23T15:24:44.781023Z"
    },
    "hidden": true
   },
   "outputs": [],
   "source": [
    "# df_2019.tail(2)"
   ]
  },
  {
   "cell_type": "code",
   "execution_count": null,
   "id": "03043c97",
   "metadata": {
    "ExecuteTime": {
     "end_time": "2022-10-23T15:24:44.963383Z",
     "start_time": "2022-10-23T15:24:44.957371Z"
    },
    "hidden": true
   },
   "outputs": [],
   "source": [
    "# df_2019.Date.iloc[-1].year"
   ]
  },
  {
   "cell_type": "code",
   "execution_count": null,
   "id": "967f7226",
   "metadata": {
    "ExecuteTime": {
     "end_time": "2022-10-23T15:24:45.121449Z",
     "start_time": "2022-10-23T15:24:45.115465Z"
    },
    "hidden": true
   },
   "outputs": [],
   "source": [
    "# df_2018 = raw_pickle_list[2]"
   ]
  },
  {
   "cell_type": "code",
   "execution_count": null,
   "id": "0276451a",
   "metadata": {
    "ExecuteTime": {
     "end_time": "2022-10-23T15:24:45.295554Z",
     "start_time": "2022-10-23T15:24:45.286553Z"
    },
    "hidden": true
   },
   "outputs": [],
   "source": [
    "df_2017 = raw_pickle_list[-1]"
   ]
  },
  {
   "cell_type": "code",
   "execution_count": null,
   "id": "af6bcb77",
   "metadata": {
    "ExecuteTime": {
     "end_time": "2022-10-23T15:24:45.469836Z",
     "start_time": "2022-10-23T15:24:45.454877Z"
    },
    "hidden": true
   },
   "outputs": [],
   "source": [
    "df_2017['WhiteRD'].value_counts()"
   ]
  },
  {
   "cell_type": "code",
   "execution_count": null,
   "id": "72a863ce",
   "metadata": {
    "ExecuteTime": {
     "end_time": "2022-10-23T15:24:45.659299Z",
     "start_time": "2022-10-23T15:24:45.635398Z"
    },
    "hidden": true
   },
   "outputs": [],
   "source": [
    "df_2017[['BlackRD', 'WhiteRD']]"
   ]
  },
  {
   "cell_type": "code",
   "execution_count": null,
   "id": "cd8c95fe",
   "metadata": {
    "ExecuteTime": {
     "end_time": "2022-10-23T15:24:45.943279Z",
     "start_time": "2022-10-23T15:24:45.769719Z"
    },
    "hidden": true
   },
   "outputs": [],
   "source": [
    "df_2017[(df_2017['BlackRD']=='na') | (df_2017['WhiteRD']=='na')]; # 10720 rows × 22 columns\n",
    "['unrated' in row for row in df_2017[(df_2017['BlackRD']=='na') | (df_2017['WhiteRD']=='na')]['Event']];\n",
    "\n",
    "df_2017[(df_2017['BlackRD']=='na') | (df_2017['WhiteRD']=='na')][\n",
    "    ['unrated' in row for row in df_2017[(df_2017['BlackRD']=='na') | (df_2017['WhiteRD']=='na')]['Event']]\n",
    "];\n",
    "\n",
    "df_2017[['unrated' in row for row in df_2017['Event']]]\n",
    "#.describe()"
   ]
  },
  {
   "cell_type": "code",
   "execution_count": null,
   "id": "d2eb7216",
   "metadata": {
    "ExecuteTime": {
     "end_time": "2022-10-23T15:24:45.975170Z",
     "start_time": "2022-10-23T15:24:45.949239Z"
    },
    "hidden": true
   },
   "outputs": [],
   "source": [
    "(df_2017[['WhiteRD']]=='na' )"
   ]
  },
  {
   "cell_type": "code",
   "execution_count": null,
   "id": "ea7eab67",
   "metadata": {
    "hidden": true
   },
   "outputs": [],
   "source": []
  },
  {
   "cell_type": "markdown",
   "id": "ad5a39b5",
   "metadata": {
    "hidden": true
   },
   "source": [
    "-----"
   ]
  },
  {
   "cell_type": "markdown",
   "id": "123cfcb7",
   "metadata": {
    "heading_collapsed": true,
    "hidden": true
   },
   "source": [
    "#### Loading preprocessed titled pickle and functional cleaning"
   ]
  },
  {
   "cell_type": "code",
   "execution_count": null,
   "id": "8faca889",
   "metadata": {
    "ExecuteTime": {
     "end_time": "2022-10-23T20:20:24.561228Z",
     "start_time": "2022-10-23T20:20:21.716256Z"
    },
    "hidden": true
   },
   "outputs": [],
   "source": [
    "titled_df = joblib.load('./data/preprocessed/2021_2017_titled.pkl')"
   ]
  },
  {
   "cell_type": "code",
   "execution_count": null,
   "id": "6c447e8d",
   "metadata": {
    "ExecuteTime": {
     "end_time": "2022-10-23T20:20:24.577228Z",
     "start_time": "2022-10-23T20:20:24.563228Z"
    },
    "hidden": true
   },
   "outputs": [],
   "source": [
    "titled_df.head(2)"
   ]
  },
  {
   "cell_type": "code",
   "execution_count": null,
   "id": "3010adcf",
   "metadata": {
    "ExecuteTime": {
     "end_time": "2022-10-23T15:24:58.748592Z",
     "start_time": "2022-10-23T15:24:58.733631Z"
    },
    "hidden": true
   },
   "outputs": [],
   "source": [
    "titled_df.shape; # (87869, 13)"
   ]
  },
  {
   "cell_type": "code",
   "execution_count": null,
   "id": "d2c92310",
   "metadata": {
    "hidden": true
   },
   "outputs": [],
   "source": []
  },
  {
   "cell_type": "markdown",
   "id": "0047e6e7",
   "metadata": {
    "hidden": true
   },
   "source": [
    "----"
   ]
  },
  {
   "cell_type": "code",
   "execution_count": null,
   "id": "c7a151c3",
   "metadata": {
    "ExecuteTime": {
     "end_time": "2022-10-23T20:20:25.967172Z",
     "start_time": "2022-10-23T20:20:25.942171Z"
    },
    "hidden": true
   },
   "outputs": [],
   "source": [
    "X_titled, y_titled = hp.X_y_split_simple(titled_df)"
   ]
  },
  {
   "cell_type": "code",
   "execution_count": null,
   "id": "2937834d",
   "metadata": {
    "ExecuteTime": {
     "end_time": "2022-10-23T20:20:26.542463Z",
     "start_time": "2022-10-23T20:20:26.520494Z"
    },
    "hidden": true
   },
   "outputs": [],
   "source": [
    "y_titled.head(2)"
   ]
  },
  {
   "cell_type": "code",
   "execution_count": null,
   "id": "c3b67a33",
   "metadata": {
    "ExecuteTime": {
     "end_time": "2022-10-23T20:20:28.199235Z",
     "start_time": "2022-10-23T20:20:26.870224Z"
    },
    "hidden": true
   },
   "outputs": [],
   "source": [
    "y_titled = hp.y_convert_to_ints(y_titled)"
   ]
  },
  {
   "cell_type": "code",
   "execution_count": null,
   "id": "6f8e5c58",
   "metadata": {
    "ExecuteTime": {
     "end_time": "2022-10-23T20:20:29.288842Z",
     "start_time": "2022-10-23T20:20:29.271775Z"
    },
    "hidden": true
   },
   "outputs": [],
   "source": [
    "y_titled.head(2)"
   ]
  },
  {
   "cell_type": "code",
   "execution_count": null,
   "id": "ac8ae75e",
   "metadata": {
    "ExecuteTime": {
     "end_time": "2022-10-23T20:20:29.525332Z",
     "start_time": "2022-10-23T20:20:29.511332Z"
    },
    "hidden": true
   },
   "outputs": [],
   "source": [
    "y_titled.shape # (87869, 1)"
   ]
  },
  {
   "cell_type": "code",
   "execution_count": null,
   "id": "1108c53b",
   "metadata": {
    "ExecuteTime": {
     "end_time": "2022-10-23T20:20:29.743935Z",
     "start_time": "2022-10-23T20:20:29.722905Z"
    },
    "hidden": true,
    "scrolled": true
   },
   "outputs": [],
   "source": [
    "X_titled.head()"
   ]
  },
  {
   "cell_type": "markdown",
   "id": "cf084ede",
   "metadata": {
    "hidden": true
   },
   "source": [
    "Dropping emt and moves:"
   ]
  },
  {
   "cell_type": "code",
   "execution_count": null,
   "id": "a81ae10e",
   "metadata": {
    "ExecuteTime": {
     "end_time": "2022-10-23T20:20:30.492761Z",
     "start_time": "2022-10-23T20:20:30.482755Z"
    },
    "hidden": true
   },
   "outputs": [],
   "source": [
    "X_titled_ = X_titled.drop(columns=['emt', 'moves'])"
   ]
  },
  {
   "cell_type": "code",
   "execution_count": null,
   "id": "8c6e53ee",
   "metadata": {
    "ExecuteTime": {
     "end_time": "2022-10-23T20:20:30.743681Z",
     "start_time": "2022-10-23T20:20:30.725681Z"
    },
    "hidden": true
   },
   "outputs": [],
   "source": [
    "X_titled_.head()"
   ]
  },
  {
   "cell_type": "markdown",
   "id": "704f1251",
   "metadata": {
    "heading_collapsed": true
   },
   "source": [
    "## Join cheater and human-only"
   ]
  },
  {
   "cell_type": "code",
   "execution_count": null,
   "id": "e374ad17",
   "metadata": {
    "ExecuteTime": {
     "end_time": "2022-10-24T11:28:43.948642Z",
     "start_time": "2022-10-24T11:28:43.389614Z"
    },
    "hidden": true
   },
   "outputs": [],
   "source": [
    "X_CvH_HvH = pd.concat([X_, X_titled_]).reset_index(drop=True)\n",
    "y_CvH_HvH = pd.concat([y, y_titled]).reset_index(drop=True)"
   ]
  },
  {
   "cell_type": "code",
   "execution_count": null,
   "id": "343bd13f",
   "metadata": {
    "ExecuteTime": {
     "end_time": "2022-10-24T11:28:43.950645Z",
     "start_time": "2022-10-24T11:28:43.950645Z"
    },
    "hidden": true
   },
   "outputs": [],
   "source": [
    "# joblib.dump(X_CvH_HvH, 'C:/Users/MaNiL/Desktop/data/capstone/preprocessed/X_CvH_HvH.pkl', compress=9)\n",
    "\n",
    "# joblib.dump(y_CvH_HvH, 'C:/Users/MaNiL/Desktop/data/capstone/preprocessed/y_CvH_HvH.pkl', compress=9)"
   ]
  },
  {
   "cell_type": "code",
   "execution_count": null,
   "id": "6974e171",
   "metadata": {
    "ExecuteTime": {
     "end_time": "2022-11-04T11:08:36.687013Z",
     "start_time": "2022-11-04T11:08:36.536942Z"
    },
    "hidden": true
   },
   "outputs": [],
   "source": [
    "X_CvH_HvH = joblib.load('./data/preprocessed/X_CvH_HvH.pkl')\n",
    "y_CvH_HvH = joblib.load('./data/preprocessed/y_CvH_HvH.pkl')"
   ]
  },
  {
   "cell_type": "code",
   "execution_count": null,
   "id": "ecf5df24",
   "metadata": {
    "ExecuteTime": {
     "end_time": "2022-11-04T11:08:36.983541Z",
     "start_time": "2022-11-04T11:08:36.958558Z"
    },
    "hidden": true
   },
   "outputs": [],
   "source": [
    "X_CvH_HvH"
   ]
  },
  {
   "cell_type": "code",
   "execution_count": null,
   "id": "4b0c88d3",
   "metadata": {
    "ExecuteTime": {
     "end_time": "2022-11-04T11:08:37.359030Z",
     "start_time": "2022-11-04T11:08:37.339011Z"
    },
    "hidden": true
   },
   "outputs": [],
   "source": [
    "y_CvH_HvH"
   ]
  },
  {
   "cell_type": "markdown",
   "id": "c01a55bc",
   "metadata": {
    "hidden": true
   },
   "source": [
    "-----"
   ]
  },
  {
   "cell_type": "markdown",
   "id": "eff60351",
   "metadata": {},
   "source": [
    "## Second Pass Modelling"
   ]
  },
  {
   "cell_type": "markdown",
   "id": "ec1c2f7f",
   "metadata": {
    "heading_collapsed": true
   },
   "source": [
    "### Train Test Split"
   ]
  },
  {
   "cell_type": "code",
   "execution_count": null,
   "id": "4a7459fb",
   "metadata": {
    "ExecuteTime": {
     "end_time": "2022-10-23T15:25:32.219784Z",
     "start_time": "2022-10-23T15:25:31.333723Z"
    },
    "hidden": true
   },
   "outputs": [],
   "source": [
    "X_CvH_HvH_train, X_CvH_HvH_test, y_CvH_HvH_train, y_CvH_HvH_test = train_test_split(\n",
    "    X_CvH_HvH, y_CvH_HvH, test_size=0.2, random_state=22, stratify=y_CvH_HvH)"
   ]
  },
  {
   "cell_type": "code",
   "execution_count": null,
   "id": "1dcde683",
   "metadata": {
    "hidden": true
   },
   "outputs": [],
   "source": []
  },
  {
   "cell_type": "code",
   "execution_count": null,
   "id": "866418a0",
   "metadata": {
    "hidden": true
   },
   "outputs": [],
   "source": []
  },
  {
   "cell_type": "markdown",
   "id": "13e40a32",
   "metadata": {
    "hidden": true
   },
   "source": [
    "------"
   ]
  },
  {
   "cell_type": "markdown",
   "id": "6dd3338a",
   "metadata": {
    "heading_collapsed": true
   },
   "source": [
    "### OHE ECO"
   ]
  },
  {
   "cell_type": "code",
   "execution_count": null,
   "id": "20014505",
   "metadata": {
    "ExecuteTime": {
     "end_time": "2022-10-23T15:25:37.660089Z",
     "start_time": "2022-10-23T15:25:37.648123Z"
    },
    "hidden": true
   },
   "outputs": [],
   "source": [
    "# ohe_CvH_HvH = OneHotEncoder(sparse=False, dtype=np.int8(), handle_unknown='ignore')"
   ]
  },
  {
   "cell_type": "code",
   "execution_count": null,
   "id": "1dca2f8d",
   "metadata": {
    "ExecuteTime": {
     "end_time": "2022-10-23T15:25:38.146717Z",
     "start_time": "2022-10-23T15:25:38.136719Z"
    },
    "hidden": true
   },
   "outputs": [],
   "source": [
    "# def OHE_ECO(X_train, X_test):\n",
    "#     ohe_ = OneHotEncoder(sparse=False, dtype=np.int8(), handle_unknown='ignore')\n",
    "#     X_train_temp_ = pd.merge(\n",
    "#         left=X_train.drop(columns=['ECO']).reset_index(drop=True),\n",
    "#         right=pd.DataFrame(ohe_.fit_transform(X_train[['ECO']]),\n",
    "#                            columns=ohe_.get_feature_names_out()),\n",
    "#         how='left',\n",
    "#         left_index=True,\n",
    "#         right_index=True)\n",
    "    \n",
    "#     X_test_temp_ = pd.merge(\n",
    "#         left=X_test.drop(columns=['ECO']).reset_index(drop=True),\n",
    "#         right=pd.DataFrame(ohe_.transform(X_test[['ECO']]),\n",
    "#                            columns=ohe_.get_feature_names_out()),\n",
    "#         how='left',\n",
    "#         left_index=True,\n",
    "#         right_index=True)\n",
    "#     return X_train_temp_, X_test_temp_, ohe_"
   ]
  },
  {
   "cell_type": "code",
   "execution_count": null,
   "id": "b4a74f57",
   "metadata": {
    "ExecuteTime": {
     "end_time": "2022-10-23T15:25:39.622378Z",
     "start_time": "2022-10-23T15:25:38.702836Z"
    },
    "hidden": true
   },
   "outputs": [],
   "source": [
    "X_CvH_HvH_train_, X_CvH_HvH_test_, ohe_CvH_HvH = hp.OHE_ECO(X_CvH_HvH_train, X_CvH_HvH_test)"
   ]
  },
  {
   "cell_type": "code",
   "execution_count": null,
   "id": "3825f0ad",
   "metadata": {
    "ExecuteTime": {
     "end_time": "2022-10-23T15:25:39.637229Z",
     "start_time": "2022-10-23T15:25:39.623267Z"
    },
    "hidden": true
   },
   "outputs": [],
   "source": [
    "X_CvH_HvH_train_.shape"
   ]
  },
  {
   "cell_type": "code",
   "execution_count": null,
   "id": "52a556e5",
   "metadata": {
    "ExecuteTime": {
     "end_time": "2022-10-23T15:25:39.653213Z",
     "start_time": "2022-10-23T15:25:39.638252Z"
    },
    "hidden": true
   },
   "outputs": [],
   "source": [
    "X_CvH_HvH_test_.shape"
   ]
  },
  {
   "cell_type": "code",
   "execution_count": null,
   "id": "f5545e1a",
   "metadata": {
    "hidden": true
   },
   "outputs": [],
   "source": []
  },
  {
   "cell_type": "markdown",
   "id": "f195f97e",
   "metadata": {
    "hidden": true
   },
   "source": [
    "------"
   ]
  },
  {
   "cell_type": "markdown",
   "id": "96c6e5b9",
   "metadata": {
    "heading_collapsed": true
   },
   "source": [
    "### Scale data"
   ]
  },
  {
   "cell_type": "code",
   "execution_count": null,
   "id": "f35369c6",
   "metadata": {
    "ExecuteTime": {
     "end_time": "2022-10-23T15:25:44.891720Z",
     "start_time": "2022-10-23T15:25:44.873740Z"
    },
    "hidden": true
   },
   "outputs": [],
   "source": [
    "stan_scal_CvH_HvH = StandardScaler()"
   ]
  },
  {
   "cell_type": "code",
   "execution_count": null,
   "id": "f11b4077",
   "metadata": {
    "ExecuteTime": {
     "end_time": "2022-10-23T15:25:51.109065Z",
     "start_time": "2022-10-23T15:25:45.083604Z"
    },
    "hidden": true
   },
   "outputs": [],
   "source": [
    "any([any(X_CvH_HvH_train_[col].isna()) for col in X_CvH_HvH_train_.columns]) # Should be False"
   ]
  },
  {
   "cell_type": "markdown",
   "id": "8d5ceb86",
   "metadata": {
    "heading_collapsed": true,
    "hidden": true
   },
   "source": [
    "#### Imputing some BlackRD and WhiteRD values"
   ]
  },
  {
   "cell_type": "code",
   "execution_count": null,
   "id": "8ea9334f",
   "metadata": {
    "ExecuteTime": {
     "end_time": "2022-10-23T15:26:00.662489Z",
     "start_time": "2022-10-23T15:26:00.653487Z"
    },
    "hidden": true
   },
   "outputs": [],
   "source": [
    "# X_CvH_HvH_train_.info(verbose=True)"
   ]
  },
  {
   "cell_type": "code",
   "execution_count": null,
   "id": "41e8a034",
   "metadata": {
    "ExecuteTime": {
     "end_time": "2022-10-23T15:25:51.201786Z",
     "start_time": "2022-10-23T15:25:51.140949Z"
    },
    "hidden": true
   },
   "outputs": [],
   "source": [
    "X_CvH_HvH_train_scaled=X_CvH_HvH_train_.copy()\n",
    "X_CvH_HvH_test_scaled=X_CvH_HvH_test_.copy()"
   ]
  },
  {
   "cell_type": "code",
   "execution_count": null,
   "id": "bf48a62c",
   "metadata": {
    "ExecuteTime": {
     "end_time": "2022-10-23T15:25:51.831441Z",
     "start_time": "2022-10-23T15:25:51.203781Z"
    },
    "hidden": true
   },
   "outputs": [],
   "source": [
    "X_CvH_HvH_train_scaled[['BlackRD', 'WhiteRD']] = np.array([\n",
    "    [np.int8(0) if y=='na' else y for y in x] for x in X_CvH_HvH_train_scaled[['BlackRD', 'WhiteRD']].values\n",
    "    ]) # 402 ms ± 2.73 ms per loop (mean ± std. dev. of 7 runs, 1 loop each)"
   ]
  },
  {
   "cell_type": "code",
   "execution_count": null,
   "id": "8c9eaf7f",
   "metadata": {
    "ExecuteTime": {
     "end_time": "2022-10-23T15:25:53.161918Z",
     "start_time": "2022-10-23T15:25:51.833426Z"
    },
    "hidden": true
   },
   "outputs": [],
   "source": [
    "X_CvH_HvH_test_scaled[['BlackRD', 'WhiteRD']] = np.array([\n",
    "    [np.int8(0) if y=='na' else y for y in x] for x in X_CvH_HvH_test_scaled[['BlackRD', 'WhiteRD']].values\n",
    "    ]) "
   ]
  },
  {
   "cell_type": "code",
   "execution_count": null,
   "id": "04a946cd",
   "metadata": {
    "hidden": true
   },
   "outputs": [],
   "source": []
  },
  {
   "cell_type": "markdown",
   "id": "2e088f9c",
   "metadata": {
    "hidden": true
   },
   "source": [
    "---"
   ]
  },
  {
   "cell_type": "markdown",
   "id": "c8ad1eb8",
   "metadata": {
    "heading_collapsed": true,
    "hidden": true
   },
   "source": [
    "#### Scaling"
   ]
  },
  {
   "cell_type": "code",
   "execution_count": null,
   "id": "d2d7ef59",
   "metadata": {
    "ExecuteTime": {
     "end_time": "2022-10-23T15:26:34.520886Z",
     "start_time": "2022-10-23T15:26:34.154679Z"
    },
    "hidden": true,
    "scrolled": true
   },
   "outputs": [],
   "source": [
    "X_CvH_HvH_train_scaled[['BlackElo', 'BlackRD',\n",
    "                'PlyCount', 'WhiteElo',\n",
    "                'WhiteRD', 'TimeControl_Base', 'TimeControl_Inc']] = stan_scal_CvH_HvH.fit_transform(\n",
    "    X_CvH_HvH_train_scaled[['BlackElo', 'BlackRD', 'PlyCount', 'WhiteElo',\n",
    "                            'WhiteRD', 'TimeControl_Base', 'TimeControl_Inc']])\n",
    "\n",
    "X_CvH_HvH_test_scaled[['BlackElo', 'BlackRD',\n",
    "                'PlyCount', 'WhiteElo',\n",
    "                'WhiteRD', 'TimeControl_Base', 'TimeControl_Inc']] = stan_scal_CvH_HvH.transform(\n",
    "    X_CvH_HvH_test_scaled[['BlackElo', 'BlackRD', 'PlyCount', 'WhiteElo',\n",
    "                           'WhiteRD', 'TimeControl_Base', 'TimeControl_Inc']])\n",
    "\n"
   ]
  },
  {
   "cell_type": "code",
   "execution_count": null,
   "id": "86137d26",
   "metadata": {
    "ExecuteTime": {
     "end_time": "2022-10-23T15:26:34.535875Z",
     "start_time": "2022-10-23T15:26:34.521883Z"
    },
    "hidden": true
   },
   "outputs": [],
   "source": [
    "# X_CvH_HvH_train_scaled.info(verbose=True)"
   ]
  },
  {
   "cell_type": "code",
   "execution_count": null,
   "id": "eb62ad1b",
   "metadata": {
    "ExecuteTime": {
     "end_time": "2022-10-23T15:26:34.739129Z",
     "start_time": "2022-10-23T15:26:34.725167Z"
    },
    "hidden": true
   },
   "outputs": [],
   "source": [
    "X_CvH_HvH_train_scaled.shape"
   ]
  },
  {
   "cell_type": "code",
   "execution_count": null,
   "id": "43d9ce18",
   "metadata": {
    "ExecuteTime": {
     "end_time": "2022-10-23T15:26:35.038048Z",
     "start_time": "2022-10-23T15:26:35.022093Z"
    },
    "hidden": true
   },
   "outputs": [],
   "source": [
    "X_CvH_HvH_test_scaled.shape"
   ]
  },
  {
   "cell_type": "markdown",
   "id": "d598de8e",
   "metadata": {
    "hidden": true
   },
   "source": [
    "-----"
   ]
  },
  {
   "cell_type": "markdown",
   "id": "b24c3de1",
   "metadata": {
    "heading_collapsed": true
   },
   "source": [
    "### Logistic Regression"
   ]
  },
  {
   "cell_type": "code",
   "execution_count": null,
   "id": "1e29dba3",
   "metadata": {
    "ExecuteTime": {
     "end_time": "2022-10-23T15:27:00.571712Z",
     "start_time": "2022-10-23T15:27:00.553760Z"
    },
    "hidden": true
   },
   "outputs": [],
   "source": [
    "logreg_CvH_HvH = LogisticRegression(penalty='l2', max_iter=10000,\n",
    "                           solver='lbfgs', C=1.0) # default settings"
   ]
  },
  {
   "cell_type": "code",
   "execution_count": null,
   "id": "34fb66ed",
   "metadata": {
    "ExecuteTime": {
     "end_time": "2022-10-23T15:27:00.867152Z",
     "start_time": "2022-10-23T15:27:00.853160Z"
    },
    "hidden": true
   },
   "outputs": [],
   "source": [
    "y_CvH_HvH_train.values.shape"
   ]
  },
  {
   "cell_type": "code",
   "execution_count": null,
   "id": "c25725ec",
   "metadata": {
    "ExecuteTime": {
     "end_time": "2022-10-23T15:27:01.227308Z",
     "start_time": "2022-10-23T15:27:01.213345Z"
    },
    "hidden": true
   },
   "outputs": [],
   "source": [
    "np.reshape(y_CvH_HvH_train.values, (-1,)).shape # (159023,)"
   ]
  },
  {
   "cell_type": "code",
   "execution_count": null,
   "id": "8a5b4e07",
   "metadata": {
    "ExecuteTime": {
     "end_time": "2022-10-23T15:27:01.605230Z",
     "start_time": "2022-10-23T15:27:01.588299Z"
    },
    "hidden": true
   },
   "outputs": [],
   "source": [
    "y_CvH_HvH_train_ = np.reshape(y_CvH_HvH_train.values, (-1,))\n",
    "y_CvH_HvH_test_ = np.reshape(y_CvH_HvH_test.values, (-1,))"
   ]
  },
  {
   "cell_type": "code",
   "execution_count": null,
   "id": "eba0d68a",
   "metadata": {
    "ExecuteTime": {
     "end_time": "2022-10-23T15:27:02.430081Z",
     "start_time": "2022-10-23T15:27:02.413100Z"
    },
    "hidden": true
   },
   "outputs": [],
   "source": [
    "X_CvH_HvH_train_scaled.shape"
   ]
  },
  {
   "cell_type": "code",
   "execution_count": null,
   "id": "b5decddf",
   "metadata": {
    "ExecuteTime": {
     "end_time": "2022-10-23T15:27:03.271225Z",
     "start_time": "2022-10-23T15:27:03.254270Z"
    },
    "hidden": true
   },
   "outputs": [],
   "source": [
    "# logreg_CvH_HvH.fit(X_CvH_HvH_train_scaled, y_CvH_HvH_train_)"
   ]
  },
  {
   "cell_type": "code",
   "execution_count": null,
   "id": "33194e9e",
   "metadata": {
    "ExecuteTime": {
     "end_time": "2022-10-23T15:27:03.509193Z",
     "start_time": "2022-10-23T15:27:03.502211Z"
    },
    "hidden": true
   },
   "outputs": [],
   "source": [
    "# joblib.dump(logreg_CvH_HvH, 'C:/Users/Emanuel/Desktop/data/capstone/pickles/first_logreg_CvH_HvH.pkl', compress=7)"
   ]
  },
  {
   "cell_type": "code",
   "execution_count": null,
   "id": "d908c04f",
   "metadata": {
    "ExecuteTime": {
     "end_time": "2022-10-23T15:27:03.851346Z",
     "start_time": "2022-10-23T15:27:03.839351Z"
    },
    "hidden": true
   },
   "outputs": [],
   "source": [
    "logreg_CvH_HvH = joblib.load('./models/first_pass/first_logreg_CvH_HvH.pkl')"
   ]
  },
  {
   "cell_type": "code",
   "execution_count": null,
   "id": "4c74f458",
   "metadata": {
    "ExecuteTime": {
     "end_time": "2022-10-23T15:27:04.494289Z",
     "start_time": "2022-10-23T15:27:04.479329Z"
    },
    "hidden": true
   },
   "outputs": [],
   "source": [
    "y_CvH_HvH_train_.shape"
   ]
  },
  {
   "cell_type": "code",
   "execution_count": null,
   "id": "846ee243",
   "metadata": {
    "ExecuteTime": {
     "end_time": "2022-10-23T15:16:16.600661Z",
     "start_time": "2022-10-23T15:16:16.600661Z"
    },
    "hidden": true
   },
   "outputs": [],
   "source": [
    "# print(f'The accuracy score on the training data is: {logreg_CvH_HvH.score(X_CvH_HvH_train_scaled, y_CvH_HvH_train_)}')\n",
    "# print(f'The accuracy score on the testing data is: {logreg_CvH_HvH.score(X_CvH_HvH_test_scaled, y_CvH_HvH_test_)}')"
   ]
  },
  {
   "cell_type": "code",
   "execution_count": null,
   "id": "8fb69aba",
   "metadata": {
    "ExecuteTime": {
     "end_time": "2022-10-23T15:16:16.601658Z",
     "start_time": "2022-10-23T15:16:16.601658Z"
    },
    "hidden": true
   },
   "outputs": [],
   "source": [
    "# plot_confusion_matrix(logreg_CvH_HvH, X_CvH_HvH_test_scaled, y_CvH_HvH_test_)\n",
    "\n",
    "# logreg_CvH_HvH_y_pred = logreg_CvH_HvH.predict(X_CvH_HvH_test_scaled)\n",
    "# print(classification_report(y_CvH_HvH_test_, logreg_CvH_HvH_y_pred, digits=4))"
   ]
  },
  {
   "cell_type": "code",
   "execution_count": null,
   "id": "1ec9447b",
   "metadata": {
    "ExecuteTime": {
     "end_time": "2022-10-23T15:16:16.603653Z",
     "start_time": "2022-10-23T15:16:16.603653Z"
    },
    "hidden": true
   },
   "outputs": [],
   "source": [
    "# logreg_CvH_HvH_results = pd.DataFrame(\n",
    "#     classification_report(\n",
    "#         y_CvH_HvH_test_, logreg_CvH_HvH_y_pred, output_dict=True)).loc[\n",
    "#     ['precision', 'recall', 'f1-score'],\n",
    "#     ['0', '1', 'accuracy']]"
   ]
  },
  {
   "cell_type": "code",
   "execution_count": null,
   "id": "5ee1b7b4",
   "metadata": {
    "ExecuteTime": {
     "end_time": "2022-10-23T15:16:16.604650Z",
     "start_time": "2022-10-23T15:16:16.604650Z"
    },
    "hidden": true
   },
   "outputs": [],
   "source": [
    "# logreg_CvH_HvH_coefficients = pd.DataFrame(\n",
    "#     data=abs(logreg_CvH_HvH.coef_), columns=logreg_CvH_HvH.feature_names_in_)\n",
    "\n",
    "# # logreg_CvH_HvH_coefficients.T.head(15)\n",
    "\n",
    "# for col in logreg_CvH_HvH_coefficients.T:\n",
    "#     display(logreg_CvH_HvH_coefficients.T[[col]].sort_values(\n",
    "#     by=col, ascending=False).head(15))"
   ]
  },
  {
   "cell_type": "code",
   "execution_count": null,
   "id": "f2abd045",
   "metadata": {
    "hidden": true
   },
   "outputs": [],
   "source": []
  },
  {
   "cell_type": "code",
   "execution_count": null,
   "id": "ab660bd7",
   "metadata": {
    "ExecuteTime": {
     "end_time": "2022-10-23T15:27:09.207787Z",
     "start_time": "2022-10-23T15:27:08.342636Z"
    },
    "hidden": true
   },
   "outputs": [],
   "source": [
    "logreg_CvH_HvH_report, logreg_CvH_HvH_results, logreg_CvH_HvH_coefficients = hp.class_model_eval_logreg(\n",
    "    logreg_CvH_HvH, X_CvH_HvH_train_scaled,\n",
    "    X_CvH_HvH_test_scaled, y_CvH_HvH_train_,\n",
    "    y_CvH_HvH_test_)"
   ]
  },
  {
   "cell_type": "code",
   "execution_count": null,
   "id": "68453c3e",
   "metadata": {
    "hidden": true
   },
   "outputs": [],
   "source": []
  },
  {
   "cell_type": "code",
   "execution_count": null,
   "id": "c79124bf",
   "metadata": {
    "hidden": true
   },
   "outputs": [],
   "source": []
  },
  {
   "cell_type": "markdown",
   "id": "c2ef5f47",
   "metadata": {
    "hidden": true
   },
   "source": [
    "-----"
   ]
  },
  {
   "cell_type": "markdown",
   "id": "5a7760e3",
   "metadata": {
    "heading_collapsed": true,
    "hidden": true
   },
   "source": [
    "###### Making logreg eval function"
   ]
  },
  {
   "cell_type": "code",
   "execution_count": null,
   "id": "d72e4ce1",
   "metadata": {
    "ExecuteTime": {
     "end_time": "2022-10-23T15:27:22.513513Z",
     "start_time": "2022-10-23T15:27:22.495561Z"
    },
    "hidden": true
   },
   "outputs": [],
   "source": [
    "# def class_model_eval_logreg(class_model_, X_train_, X_test_, y_train_, y_test_, digits_=4):\n",
    "#     # print the accuracy on the training and test set\n",
    "#     print(f'The accuracy score on the training data is: {class_model_.score(X_train_, y_train_)}')\n",
    "#     print(f'The accuracy score on the testing data is: {class_model_.score(X_test_, y_test_)}')\n",
    "    \n",
    "#     # plot the confusion matrix\n",
    "#     plot_confusion_matrix(class_model_, X_test_, y_test_)\n",
    "#     plt.show()\n",
    "    \n",
    "#     # classification report\n",
    "#     class_model_pred = class_model_.predict(X_test_)\n",
    "#     report_ = classification_report(y_test_, class_model_pred, digits=digits_)\n",
    "#     print(report_)\n",
    "    \n",
    "#     # model results\n",
    "#     model_results_ = pd.DataFrame(classification_report(y_test_, class_model_pred,\n",
    "#                                                         digits=digits_, output_dict=True)).loc[\n",
    "#         ['precision', 'recall', 'f1-score'],\n",
    "#         ['0', '1', 'accuracy']]\n",
    "    \n",
    "#     # model coefficients\n",
    "#     model_coeffs_ = pd.DataFrame(data=abs(class_model_.coef_),\n",
    "#                                 columns=class_model_.feature_names_in_).T\n",
    "    \n",
    "#     return report_, model_results_, model_coeffs_\n",
    "    \n",
    "    "
   ]
  },
  {
   "cell_type": "code",
   "execution_count": null,
   "id": "cd50cef8",
   "metadata": {
    "ExecuteTime": {
     "end_time": "2022-10-23T15:27:22.778309Z",
     "start_time": "2022-10-23T15:27:22.774325Z"
    },
    "hidden": true
   },
   "outputs": [],
   "source": [
    "# report_test, model_results_test, model_coeffs_test = class_model_eval_logreg(\n",
    "#     logreg_CvH_HvH, X_CvH_HvH_train_scaled,\n",
    "#     X_CvH_HvH_test_scaled, y_CvH_HvH_train_,\n",
    "#     y_CvH_HvH_test_)"
   ]
  },
  {
   "cell_type": "code",
   "execution_count": null,
   "id": "a36571a2",
   "metadata": {
    "ExecuteTime": {
     "end_time": "2022-10-23T15:27:23.044410Z",
     "start_time": "2022-10-23T15:27:23.037405Z"
    },
    "hidden": true
   },
   "outputs": [],
   "source": [
    "# print(report_test)\n",
    "# display(model_results_test)\n",
    "# display(model_coeffs_test)"
   ]
  },
  {
   "cell_type": "code",
   "execution_count": null,
   "id": "a80a76f8",
   "metadata": {
    "ExecuteTime": {
     "end_time": "2022-10-23T15:27:23.530686Z",
     "start_time": "2022-10-23T15:27:23.513735Z"
    },
    "hidden": true
   },
   "outputs": [],
   "source": [
    "# report_test, model_results_test, model_coeffs_test = hp.class_model_eval_logreg(\n",
    "#     logreg_CvH_HvH, X_CvH_HvH_train_scaled,\n",
    "#     X_CvH_HvH_test_scaled, y_CvH_HvH_train_,\n",
    "#     y_CvH_HvH_test_)"
   ]
  },
  {
   "cell_type": "code",
   "execution_count": null,
   "id": "3fa0a328",
   "metadata": {
    "hidden": true
   },
   "outputs": [],
   "source": []
  },
  {
   "cell_type": "markdown",
   "id": "3b5dad73",
   "metadata": {
    "hidden": true
   },
   "source": [
    "-----"
   ]
  },
  {
   "cell_type": "markdown",
   "id": "17fb5200",
   "metadata": {
    "heading_collapsed": true
   },
   "source": [
    "## Investigating distribution and variance of Elo, RD, etc."
   ]
  },
  {
   "cell_type": "markdown",
   "id": "1bc29cff",
   "metadata": {
    "hidden": true
   },
   "source": [
    "### Looking at CvH games"
   ]
  },
  {
   "cell_type": "markdown",
   "id": "3ab32f9d",
   "metadata": {
    "heading_collapsed": true,
    "hidden": true
   },
   "source": [
    "#### Create / Load DataFrame"
   ]
  },
  {
   "cell_type": "code",
   "execution_count": null,
   "id": "460b128b",
   "metadata": {
    "ExecuteTime": {
     "end_time": "2022-10-25T14:22:28.751915Z",
     "start_time": "2022-10-25T14:22:23.366896Z"
    },
    "hidden": true
   },
   "outputs": [],
   "source": [
    "# df_2022_2018_CvH = joblib.load('./data/preprocessed/2022_2018_CvH.pkl')"
   ]
  },
  {
   "cell_type": "code",
   "execution_count": null,
   "id": "35911447",
   "metadata": {
    "ExecuteTime": {
     "end_time": "2022-10-25T14:22:28.783361Z",
     "start_time": "2022-10-25T14:22:28.753804Z"
    },
    "hidden": true
   },
   "outputs": [],
   "source": [
    "# df_2022_2018_CvH.head(1)"
   ]
  },
  {
   "cell_type": "markdown",
   "id": "49cdd7f7",
   "metadata": {
    "hidden": true
   },
   "source": [
    "This pickle does not contain the player names. I may as well go back and use a df which does contain names to see if there are any additional relationships. "
   ]
  },
  {
   "cell_type": "code",
   "execution_count": null,
   "id": "99dc2729",
   "metadata": {
    "ExecuteTime": {
     "end_time": "2022-10-24T14:49:02.618421Z",
     "start_time": "2022-10-24T14:48:54.919854Z"
    },
    "hidden": true
   },
   "outputs": [],
   "source": [
    "# # on vostro laptop\n",
    "# raw_p = [joblib.load(f'C:/Users/MaNiL/Desktop/data/capstone/raw/pickles/{year}_CvH.pkl') for \\\n",
    "#          year in np.arange(2022, 2017, -1)] # load the pickles from 2022 to 2018 inclusive"
   ]
  },
  {
   "cell_type": "code",
   "execution_count": null,
   "id": "d6c257fc",
   "metadata": {
    "ExecuteTime": {
     "end_time": "2022-10-24T14:50:56.112673Z",
     "start_time": "2022-10-24T14:50:56.104673Z"
    },
    "hidden": true
   },
   "outputs": [],
   "source": [
    "# raw_p[0].head(1)\n",
    "# raw_p[0].columns"
   ]
  },
  {
   "cell_type": "code",
   "execution_count": null,
   "id": "7cc6ce7f",
   "metadata": {
    "ExecuteTime": {
     "end_time": "2022-10-24T15:02:25.605635Z",
     "start_time": "2022-10-24T15:02:24.339063Z"
    },
    "hidden": true
   },
   "outputs": [],
   "source": [
    "# df_2022_2018_CvH_raw = hp.concatenate_cleaned_pickles(\n",
    "#     raw_p, list_of_cols=['Event', 'Site', 'Round', 'BlackClock',\n",
    "#                          'FICSGamesDBGameNo', 'Time', 'WhiteClock'])\n",
    "\n",
    "# Shape pre-drop: (198779, 17)\n",
    "# Dropping duplicates...\n",
    "# Shape post-drop: (198539, 17)\n",
    "#  Duplicates dropped: 240"
   ]
  },
  {
   "cell_type": "code",
   "execution_count": null,
   "id": "d267912a",
   "metadata": {
    "ExecuteTime": {
     "end_time": "2022-10-25T16:32:36.898685Z",
     "start_time": "2022-10-25T16:29:35.393241Z"
    },
    "hidden": true
   },
   "outputs": [],
   "source": [
    "# joblib.dump(df_2022_2018_CvH_raw,\n",
    "#            'C:/Users/MaNiL/Desktop/data/capstone/preprocessed/pickles/2022_2018_CvH_distinv.pkl',\n",
    "#            compress=9)"
   ]
  },
  {
   "cell_type": "markdown",
   "id": "29f4b82c",
   "metadata": {
    "hidden": true
   },
   "source": [
    "----"
   ]
  },
  {
   "cell_type": "code",
   "execution_count": null,
   "id": "34c9a800",
   "metadata": {
    "ExecuteTime": {
     "end_time": "2022-10-25T16:26:36.407179Z",
     "start_time": "2022-10-25T16:25:53.031777Z"
    },
    "hidden": true
   },
   "outputs": [],
   "source": [
    "# # on vostro laptop\n",
    "# raw_p = [joblib.load(f'C:/Users/MaNiL/Desktop/data/capstone/raw/pickles/{year}_CvH.pkl') for \\\n",
    "#          year in np.arange(2022, 2017, -1)] # load the pickles from 2022 to 2018 inclusive"
   ]
  },
  {
   "cell_type": "code",
   "execution_count": null,
   "id": "0c59a046",
   "metadata": {
    "ExecuteTime": {
     "end_time": "2022-10-25T16:28:21.029825Z",
     "start_time": "2022-10-25T16:28:20.996773Z"
    },
    "hidden": true
   },
   "outputs": [],
   "source": [
    "# raw_p[0].head(1)\n",
    "# raw_p[0].columns"
   ]
  },
  {
   "cell_type": "code",
   "execution_count": null,
   "id": "d510d978",
   "metadata": {
    "ExecuteTime": {
     "end_time": "2022-10-25T16:26:38.935998Z",
     "start_time": "2022-10-25T16:26:36.426966Z"
    },
    "hidden": true
   },
   "outputs": [],
   "source": [
    "# df_2022_2018_CvH_raw = hp.concatenate_cleaned_pickles(\n",
    "#     raw_p, list_of_cols=['Site', 'Round', 'BlackClock',\n",
    "#                          'FICSGamesDBGameNo', 'Time', 'WhiteClock'])\n",
    "\n",
    "# # All PlyCount values match the length of moves-list\n",
    "# # Shape pre-drop: (198779, 18)\n",
    "# # Dropping duplicates...\n",
    "# # Shape post-drop: (198539, 18)\n",
    "# #  Duplicates dropped: 240"
   ]
  },
  {
   "cell_type": "code",
   "execution_count": null,
   "id": "24671371",
   "metadata": {
    "ExecuteTime": {
     "end_time": "2022-10-25T16:32:36.898685Z",
     "start_time": "2022-10-25T16:29:35.393241Z"
    },
    "hidden": true
   },
   "outputs": [],
   "source": [
    "# joblib.dump(df_2022_2018_CvH_raw,\n",
    "#            'C:/Users/MaNiL/Desktop/data/capstone/preprocessed/2022_2018_CvH_distinv_withevent.pkl',\n",
    "#            compress=9)"
   ]
  },
  {
   "cell_type": "markdown",
   "id": "f0fe1d7f",
   "metadata": {
    "hidden": true
   },
   "source": [
    "-----"
   ]
  },
  {
   "cell_type": "code",
   "execution_count": null,
   "id": "28bc7eb8",
   "metadata": {
    "ExecuteTime": {
     "end_time": "2022-10-25T14:22:34.942383Z",
     "start_time": "2022-10-25T14:22:28.785276Z"
    },
    "hidden": true
   },
   "outputs": [],
   "source": [
    "# # df without event info \n",
    "# df_2022_2018_CvH_distinv = joblib.load(\n",
    "#     './data/preprocessed/2022_2018_CvH_distinv.pkl')"
   ]
  },
  {
   "cell_type": "code",
   "execution_count": null,
   "id": "49774f09",
   "metadata": {
    "ExecuteTime": {
     "end_time": "2022-11-01T23:00:44.728487Z",
     "start_time": "2022-11-01T23:00:41.568759Z"
    },
    "hidden": true
   },
   "outputs": [],
   "source": [
    "# # df with event info to separate rated and unrated\n",
    "\n",
    "# df_2022_2018_CvH_distinv = joblib.load(\n",
    "#     './data/preprocessed/2022_2018_CvH_distinv_withevent.pkl')"
   ]
  },
  {
   "cell_type": "code",
   "execution_count": null,
   "id": "4c984d3b",
   "metadata": {
    "ExecuteTime": {
     "end_time": "2022-11-01T23:00:55.161316Z",
     "start_time": "2022-11-01T23:00:55.146330Z"
    },
    "hidden": true
   },
   "outputs": [],
   "source": [
    "# df_2022_2018_CvH_distinv.head(1)"
   ]
  },
  {
   "cell_type": "markdown",
   "id": "07fcee9f",
   "metadata": {
    "hidden": true
   },
   "source": [
    "-----"
   ]
  },
  {
   "cell_type": "markdown",
   "id": "2b80020c",
   "metadata": {
    "hidden": true
   },
   "source": [
    "#### Isolating Cheaters"
   ]
  },
  {
   "cell_type": "markdown",
   "id": "1c84b624",
   "metadata": {
    "heading_collapsed": true,
    "hidden": true
   },
   "source": [
    "##### Some tinkering"
   ]
  },
  {
   "cell_type": "code",
   "execution_count": null,
   "id": "eca8d531",
   "metadata": {
    "hidden": true
   },
   "outputs": [],
   "source": [
    "# if white is comp:\n",
    "\n",
    "## store all except ['Black', 'BlackElo', 'BlackIsComp', 'BlackRD', 'WhiteIsComp', 'NoComp']\n",
    "## which is same as storing ['Date', 'ECO', 'PlyCount', 'White', 'WhiteElo', 'WhiteRD', 'emt', 'moves',\n",
    "# 'TimeControl_Base', 'TimeControl_Inc']\n",
    "# is there a speed difference in doing a \"col for col not in [...]\" compared to just  calling cols I want?\n",
    "\n",
    "# if black is comp:\n",
    "\n",
    "## store all except ['White', 'WhiteElo', 'BlackIsComp', 'WhiteRD', 'WhiteIsComp', 'NoComp']\n",
    "## which is same as storing ['Date', 'ECO', 'PlyCount', 'Black', 'BlackElo', 'BlackRD', 'emt', 'moves',\n",
    "# 'TimeControl_Base', 'TimeControl_Inc']\n",
    "\n"
   ]
  },
  {
   "cell_type": "code",
   "execution_count": null,
   "id": "22696fa7",
   "metadata": {
    "ExecuteTime": {
     "end_time": "2022-10-24T22:56:42.236635Z",
     "start_time": "2022-10-24T22:56:42.223669Z"
    },
    "hidden": true
   },
   "outputs": [],
   "source": [
    "# # %%timeit #1min 17s ± 882 ms per loop (mean ± std. dev. of 7 runs, 1 loop each)\n",
    "\n",
    "# testing = [row[1][['Date', 'ECO', 'PlyCount', 'White',\n",
    "#                   'WhiteElo', 'WhiteRD', 'emt', 'moves',\n",
    "#                   'TimeControl_Base', 'TimeControl_Inc']] if row[1]['WhiteIsComp']==1 else\\\n",
    "#            row[1][['Date', 'ECO', 'PlyCount', 'Black',\n",
    "#                   'BlackElo', 'BlackRD', 'emt', 'moves',\n",
    "#                   'TimeControl_Base', 'TimeControl_Inc']] if row[1]['BlackIsComp']==1 else \\\n",
    "#            None for row in df_2022_2018_CvH_distinv.iterrows()]"
   ]
  },
  {
   "cell_type": "code",
   "execution_count": null,
   "id": "78641e96",
   "metadata": {
    "ExecuteTime": {
     "end_time": "2022-10-25T12:34:53.190889Z",
     "start_time": "2022-10-25T12:34:53.184889Z"
    },
    "code_folding": [],
    "hidden": true
   },
   "outputs": [],
   "source": [
    "# # %%timeit # ~ 53\n",
    "\n",
    "# testing = pd.DataFrame([row[1][['Date', 'ECO', 'PlyCount', 'White',\n",
    "#                   'WhiteElo', 'WhiteRD', 'emt', 'moves',\n",
    "#                   'TimeControl_Base', 'TimeControl_Inc']] if row[1]['WhiteIsComp']==1 else\\\n",
    "#            row[1][['Date', 'ECO', 'PlyCount', 'Black',\n",
    "#                   'BlackElo', 'BlackRD', 'emt', 'moves',\n",
    "#                   'TimeControl_Base', 'TimeControl_Inc']] if row[1]['BlackIsComp']==1 else \\\n",
    "#            None for row in df_2022_2018_CvH_distinv.iterrows()])"
   ]
  },
  {
   "cell_type": "code",
   "execution_count": null,
   "id": "95a299e4",
   "metadata": {
    "ExecuteTime": {
     "end_time": "2022-10-25T12:50:21.073590Z",
     "start_time": "2022-10-25T12:50:21.060617Z"
    },
    "hidden": true
   },
   "outputs": [],
   "source": [
    "# testing = pd.DataFrame()"
   ]
  },
  {
   "cell_type": "code",
   "execution_count": null,
   "id": "9595436e",
   "metadata": {
    "ExecuteTime": {
     "end_time": "2022-10-25T12:50:18.654120Z",
     "start_time": "2022-10-25T12:50:18.638149Z"
    },
    "code_folding": [],
    "hidden": true
   },
   "outputs": [],
   "source": [
    "# # %%timeit # ~ 1m 20seconds\n",
    "\n",
    "# testing[['Date', 'ECO', 'PlyCount', 'Cheater',\n",
    "#          'CheaterElo', 'CheaterRD', 'emt', 'moves',\n",
    "#          'TimeControl_Base', 'TimeControl_Inc']] =\\\n",
    "#     [row[1][['Date', 'ECO', 'PlyCount', 'White',\n",
    "#              'WhiteElo', 'WhiteRD', 'emt', 'moves',\n",
    "#              'TimeControl_Base', 'TimeControl_Inc']].rename({\n",
    "#     'White': 'Cheater',\n",
    "#     'WhiteElo': 'CheaterElo',\n",
    "#     'WhiteRD': 'CheaterRD'}) if row[1]['WhiteIsComp']==1 else\\\n",
    "#      row[1][['Date', 'ECO', 'PlyCount', 'Black',\n",
    "#              'BlackElo', 'BlackRD', 'emt', 'moves',\n",
    "#              'TimeControl_Base', 'TimeControl_Inc']].rename({\n",
    "#     'Black': 'Cheater',\n",
    "#     'BlackElo': 'CheaterElo',\n",
    "#     'BlackRD': 'CheaterRD'}) if row[1]['BlackIsComp']==1 else \\\n",
    "#            None for row in df_2022_2018_CvH_distinv.iterrows()]"
   ]
  },
  {
   "cell_type": "code",
   "execution_count": null,
   "id": "0f4e7f2f",
   "metadata": {
    "ExecuteTime": {
     "end_time": "2022-10-25T12:34:54.077180Z",
     "start_time": "2022-10-25T12:34:54.073182Z"
    },
    "code_folding": [],
    "hidden": true
   },
   "outputs": [],
   "source": [
    "# # %%timeit # ~ 1m 19.7seconds\n",
    "\n",
    "# testing = pd.DataFrame([row[1][['Date', 'ECO', 'PlyCount', 'White',\n",
    "#                   'WhiteElo', 'WhiteRD', 'emt', 'moves',\n",
    "#                   'TimeControl_Base', 'TimeControl_Inc']].rename({\n",
    "#     'WhiteElo': 'CheaterElo',\n",
    "#     'WhiteRD': 'CheaterRD'}) if row[1]['WhiteIsComp']==1 else\\\n",
    "#            row[1][['Date', 'ECO', 'PlyCount', 'Black',\n",
    "#                   'BlackElo', 'BlackRD', 'emt', 'moves',\n",
    "#                   'TimeControl_Base', 'TimeControl_Inc']].rename({\n",
    "#     'BlackElo': 'CheaterElo',\n",
    "#     'BlackRD': 'CheaterRD'}) if row[1]['BlackIsComp']==1 else \\\n",
    "#            None for row in df_2022_2018_CvH_distinv.iterrows()])"
   ]
  },
  {
   "cell_type": "code",
   "execution_count": null,
   "id": "8af4c7e6",
   "metadata": {
    "ExecuteTime": {
     "end_time": "2022-10-25T12:35:41.840917Z",
     "start_time": "2022-10-25T12:35:41.833917Z"
    },
    "hidden": true
   },
   "outputs": [],
   "source": [
    "# # %%timeit # 43 s ± 1.18 s per loop (mean ± std. dev. of 7 runs, 1 loop each)\n",
    "\n",
    "# testing = pd.DataFrame([row[1][['Date', 'ECO', 'PlyCount', 'White',\n",
    "#                   'WhiteElo', 'WhiteRD', 'emt', 'moves',\n",
    "#                   'TimeControl_Base', 'TimeControl_Inc']].values if row[1]['WhiteIsComp']==1 else\\\n",
    "#            row[1][['Date', 'ECO', 'PlyCount', 'Black',\n",
    "#                   'BlackElo', 'BlackRD', 'emt', 'moves',\n",
    "#                   'TimeControl_Base', 'TimeControl_Inc']].values if row[1]['BlackIsComp']==1 else \\\n",
    "#            np.NaN for row in df_2022_2018_CvH_distinv.iterrows()])"
   ]
  },
  {
   "cell_type": "markdown",
   "id": "90f5cd1d",
   "metadata": {
    "heading_collapsed": true,
    "hidden": true
   },
   "source": [
    "##### Isolating cheaters"
   ]
  },
  {
   "cell_type": "code",
   "execution_count": null,
   "id": "77d9caca",
   "metadata": {
    "ExecuteTime": {
     "end_time": "2022-10-25T15:30:03.476204Z",
     "start_time": "2022-10-25T15:30:03.220990Z"
    },
    "hidden": true
   },
   "outputs": [],
   "source": [
    "# # %%timeit #143 ms ± 2.03 ms per loop (mean ± std. dev. of 7 runs, 10 loops each)\n",
    "\n",
    "# white_cheaters = df_2022_2018_CvH_distinv[df_2022_2018_CvH_distinv['WhiteIsComp']==1][\n",
    "#     ['Event', 'Date', 'ECO', 'PlyCount', 'White',\n",
    "#      'WhiteElo', 'WhiteRD', 'emt', 'moves',\n",
    "#      'TimeControl_Base', 'TimeControl_Inc']].rename(columns={'White': 'Cheater',\n",
    "#                                                              'WhiteElo': 'CheaterElo',\n",
    "#                                                              'WhiteRD': 'CheaterRD'})\n",
    "# white_cheaters['0_CheaterWasWhite_1_CheaterWasBlack'] = np.int8(0)\n",
    "\n",
    "# black_cheaters = df_2022_2018_CvH_distinv[df_2022_2018_CvH_distinv['BlackIsComp']==1][\n",
    "#     ['Event', 'Date', 'ECO', 'PlyCount', 'Black',\n",
    "#      'BlackElo', 'BlackRD', 'emt', 'moves',\n",
    "#      'TimeControl_Base', 'TimeControl_Inc']].rename(columns={'Black': 'Cheater',\n",
    "#                                                              'BlackElo': 'CheaterElo',\n",
    "#                                                              'BlackRD': 'CheaterRD'})\n",
    "# black_cheaters['0_CheaterWasWhite_1_CheaterWasBlack'] = np.int8(1)\n",
    "\n",
    "# df_2022_2018_C_distinv = pd.concat([\n",
    "#     white_cheaters,\n",
    "#     black_cheaters]).reset_index(drop=True)"
   ]
  },
  {
   "cell_type": "code",
   "execution_count": null,
   "id": "362ee1ac",
   "metadata": {
    "ExecuteTime": {
     "end_time": "2022-10-25T15:40:39.073204Z",
     "start_time": "2022-10-25T15:40:39.054271Z"
    },
    "hidden": true
   },
   "outputs": [],
   "source": [
    "# df_2022_2018_C_distinv.head(1)"
   ]
  },
  {
   "cell_type": "code",
   "execution_count": null,
   "id": "ac8d90bd",
   "metadata": {
    "ExecuteTime": {
     "end_time": "2022-10-25T15:41:01.761249Z",
     "start_time": "2022-10-25T15:41:01.744249Z"
    },
    "hidden": true
   },
   "outputs": [],
   "source": [
    "# df_2022_2018_C_distinv.Cheater.nunique() # 97"
   ]
  },
  {
   "cell_type": "code",
   "execution_count": null,
   "id": "f73bea96",
   "metadata": {
    "ExecuteTime": {
     "end_time": "2022-10-25T15:41:19.797212Z",
     "start_time": "2022-10-25T15:41:19.771200Z"
    },
    "hidden": true
   },
   "outputs": [],
   "source": [
    "# df_2022_2018_C_distinv.Cheater.unique()"
   ]
  },
  {
   "cell_type": "markdown",
   "id": "b482ea64",
   "metadata": {
    "hidden": true
   },
   "source": [
    "------"
   ]
  },
  {
   "cell_type": "markdown",
   "id": "10d66274",
   "metadata": {
    "heading_collapsed": true,
    "hidden": true
   },
   "source": [
    "#### Isolating Non-cheaters"
   ]
  },
  {
   "cell_type": "code",
   "execution_count": null,
   "id": "80d0e68a",
   "metadata": {
    "ExecuteTime": {
     "end_time": "2022-10-25T15:30:46.994305Z",
     "start_time": "2022-10-25T15:30:46.769150Z"
    },
    "hidden": true
   },
   "outputs": [],
   "source": [
    "# # %%timeit #143 ms ± 2.03 ms per loop (mean ± std. dev. of 7 runs, 10 loops each)\n",
    "\n",
    "# white_non_cheaters = df_2022_2018_CvH_distinv[df_2022_2018_CvH_distinv['WhiteIsComp']==0][\n",
    "#     ['Event', 'Date', 'ECO', 'PlyCount', 'White',\n",
    "#      'WhiteElo', 'WhiteRD', 'emt', 'moves',\n",
    "#      'TimeControl_Base', 'TimeControl_Inc']].rename(columns={'White': 'NonCheater',\n",
    "#                                                              'WhiteElo': 'NonCheaterElo',\n",
    "#                                                              'WhiteRD': 'NonCheaterRD'})\n",
    "# white_non_cheaters['0_HumanWasWhite_1_HumanWasBlack'] = np.int8(0)\n",
    "\n",
    "# black_non_cheaters = df_2022_2018_CvH_distinv[df_2022_2018_CvH_distinv['BlackIsComp']==0][\n",
    "#     ['Event', 'Date', 'ECO', 'PlyCount', 'Black',\n",
    "#      'BlackElo', 'BlackRD', 'emt', 'moves',\n",
    "#      'TimeControl_Base', 'TimeControl_Inc']].rename(columns={'Black': 'NonCheater',\n",
    "#                                                              'BlackElo': 'NonCheaterElo',\n",
    "#                                                              'BlackRD': 'NonCheaterRD'})\n",
    "# black_non_cheaters['0_HumanWasWhite_1_HumanWasBlack'] = np.int8(1)\n",
    "\n",
    "# df_2022_2018_H_distinv = pd.concat([\n",
    "#     white_non_cheaters,\n",
    "#     black_non_cheaters]).reset_index(drop=True)"
   ]
  },
  {
   "cell_type": "code",
   "execution_count": null,
   "id": "2eb2778a",
   "metadata": {
    "ExecuteTime": {
     "end_time": "2022-10-25T15:41:31.064269Z",
     "start_time": "2022-10-25T15:41:31.045320Z"
    },
    "hidden": true,
    "scrolled": true
   },
   "outputs": [],
   "source": [
    "# df_2022_2018_H_distinv.head(1)"
   ]
  },
  {
   "cell_type": "code",
   "execution_count": null,
   "id": "d9958535",
   "metadata": {
    "ExecuteTime": {
     "end_time": "2022-10-25T15:41:50.909474Z",
     "start_time": "2022-10-25T15:41:50.879494Z"
    },
    "hidden": true
   },
   "outputs": [],
   "source": [
    "# df_2022_2018_H_distinv.NonCheater.nunique() # 9399"
   ]
  },
  {
   "cell_type": "markdown",
   "id": "7d23af71",
   "metadata": {
    "hidden": true
   },
   "source": [
    "It is encouraging that there are more unique non-cheaters than there are computers. "
   ]
  },
  {
   "cell_type": "code",
   "execution_count": null,
   "id": "9f889916",
   "metadata": {
    "ExecuteTime": {
     "end_time": "2022-10-25T15:42:32.697306Z",
     "start_time": "2022-10-25T15:42:32.667330Z"
    },
    "hidden": true
   },
   "outputs": [],
   "source": [
    "# df_2022_2018_H_distinv.NonCheater.value_counts().head(30)"
   ]
  },
  {
   "cell_type": "markdown",
   "id": "c53de291",
   "metadata": {
    "hidden": true
   },
   "source": [
    "-------"
   ]
  },
  {
   "cell_type": "markdown",
   "id": "72b5ab3d",
   "metadata": {
    "heading_collapsed": true,
    "hidden": true
   },
   "source": [
    "#### Distributions"
   ]
  },
  {
   "cell_type": "code",
   "execution_count": null,
   "id": "6b8a9936",
   "metadata": {
    "ExecuteTime": {
     "end_time": "2022-10-25T15:52:18.218110Z",
     "start_time": "2022-10-25T15:46:30.240369Z"
    },
    "hidden": true
   },
   "outputs": [],
   "source": [
    "# joblib.dump(df_2022_2018_C_distinv, './data/preprocessed/df_2022_2018_C_distinv.pkl',\n",
    "#            compress=9)\n",
    "# joblib.dump(df_2022_2018_H_distinv, './data/preprocessed/df_2022_2018_H_distinv.pkl',\n",
    "#            compress=9)"
   ]
  },
  {
   "cell_type": "code",
   "execution_count": null,
   "id": "269e4290",
   "metadata": {
    "ExecuteTime": {
     "end_time": "2022-11-01T17:44:12.392609Z",
     "start_time": "2022-11-01T17:43:58.764948Z"
    },
    "hidden": true
   },
   "outputs": [],
   "source": [
    "df_2022_2018_C_distinv = joblib.load(\n",
    "    './data/preprocessed/df_2022_2018_C_distinv.pkl')\n",
    "df_2022_2018_H_distinv = joblib.load(\n",
    "    './data/preprocessed/df_2022_2018_H_distinv.pkl')"
   ]
  },
  {
   "cell_type": "code",
   "execution_count": null,
   "id": "366d4925",
   "metadata": {
    "ExecuteTime": {
     "end_time": "2022-11-01T17:44:12.408614Z",
     "start_time": "2022-11-01T17:44:12.393614Z"
    },
    "hidden": true
   },
   "outputs": [],
   "source": [
    "# df_2022_2018_C_distinv.head(2)\n",
    "df_2022_2018_H_distinv.head(2)"
   ]
  },
  {
   "cell_type": "code",
   "execution_count": null,
   "id": "a6cda0a9",
   "metadata": {
    "hidden": true
   },
   "outputs": [],
   "source": []
  },
  {
   "cell_type": "code",
   "execution_count": null,
   "id": "7c72f420",
   "metadata": {
    "hidden": true
   },
   "outputs": [],
   "source": []
  },
  {
   "cell_type": "code",
   "execution_count": null,
   "id": "00734cba",
   "metadata": {
    "ExecuteTime": {
     "end_time": "2022-11-01T17:45:56.214040Z",
     "start_time": "2022-11-01T17:45:54.875689Z"
    },
    "hidden": true
   },
   "outputs": [],
   "source": [
    "# cheaters (rated and unrated)\n",
    "fig = px.histogram(\n",
    "    data_frame=df_2022_2018_C_distinv,\n",
    "    x='CheaterElo',\n",
    "    nbins=(int(df_2022_2018_C_distinv.CheaterElo.describe()['max'] - \\\n",
    "          df_2022_2018_C_distinv.CheaterElo.describe()['min'])),\n",
    "    title='Distribution of Cheater ELO'\n",
    "    \n",
    "    )\n",
    "\n",
    "fig.show()"
   ]
  },
  {
   "cell_type": "code",
   "execution_count": null,
   "id": "58a600c7",
   "metadata": {
    "ExecuteTime": {
     "end_time": "2022-11-01T17:45:56.324548Z",
     "start_time": "2022-11-01T17:45:56.217040Z"
    },
    "hidden": true
   },
   "outputs": [],
   "source": [
    "# non-cheaters (rated and unrated)\n",
    "fig = px.histogram(\n",
    "    data_frame=df_2022_2018_H_distinv,\n",
    "    x='NonCheaterElo',\n",
    "    nbins=(int(df_2022_2018_H_distinv.NonCheaterElo.describe()['max'] - \\\n",
    "          df_2022_2018_H_distinv.NonCheaterElo.describe()['min'])),\n",
    "    title='Distribution of Non-Cheater ELO'\n",
    "    \n",
    "    )\n",
    "\n",
    "fig.show()"
   ]
  },
  {
   "cell_type": "markdown",
   "id": "69ddf0a3",
   "metadata": {
    "hidden": true
   },
   "source": [
    "The spike at 1720-1721 above is probably because there are still unrated games in this dataframe. One's elo doesn't change due to an unrated game which could lead to anomalies like above. It could also be such a spike because that is the elo assigned to new players when they play their first game. Many of these should probably be eliminated from the dataset to minimise the distribution skew.\n",
    "\n",
    "\n",
    "Another thing to investigate is how much is the change in any individual player's elo affecting this distribution i.e. how different would it be if the data was grouped by unique players and their respective elo was averaged across all their games, OR their last elo (date-wise) was used?"
   ]
  },
  {
   "cell_type": "code",
   "execution_count": null,
   "id": "f4bca076",
   "metadata": {
    "ExecuteTime": {
     "end_time": "2022-11-01T17:51:58.763067Z",
     "start_time": "2022-11-01T17:51:58.584901Z"
    },
    "hidden": true
   },
   "outputs": [],
   "source": [
    "# both rated and unrated\n",
    "print('Rated and Unrated:')\n",
    "display(df_2022_2018_C_distinv.CheaterElo.describe().to_frame().T)\n",
    "\n",
    "# # only rated\n",
    "df_2022_2018_C_distinv_rated = df_2022_2018_C_distinv[[' rated' in x for x in df_2022_2018_C_distinv.Event]]\n",
    "print('Rated:')\n",
    "display(df_2022_2018_C_distinv.CheaterElo.describe().to_frame().T)\n",
    "\n",
    "# # only unrated\n",
    "df_2022_2018_C_distinv_unrated = df_2022_2018_C_distinv[['unrated' in x for x in df_2022_2018_C_distinv.Event]]\n",
    "print('Unrated:')\n",
    "display(df_2022_2018_C_distinv_unrated.CheaterElo.describe().to_frame().T)"
   ]
  },
  {
   "cell_type": "code",
   "execution_count": null,
   "id": "e947a5ea",
   "metadata": {
    "ExecuteTime": {
     "end_time": "2022-11-01T17:52:07.152144Z",
     "start_time": "2022-11-01T17:52:06.977764Z"
    },
    "hidden": true
   },
   "outputs": [],
   "source": [
    "# both rated and unrated\n",
    "print('Rated and Unrated:')\n",
    "display(df_2022_2018_H_distinv.NonCheaterElo.describe().to_frame().T)\n",
    "\n",
    "# # only rated\n",
    "df_2022_2018_H_distinv_rated = df_2022_2018_H_distinv[[' rated' in x for x in df_2022_2018_H_distinv.Event]]\n",
    "print('Rated:')\n",
    "display(df_2022_2018_H_distinv.NonCheaterElo.describe().to_frame().T)\n",
    "\n",
    "# # only unrated\n",
    "df_2022_2018_H_distinv_unrated = df_2022_2018_H_distinv[['unrated' in x for x in df_2022_2018_H_distinv.Event]]\n",
    "print('Unrated:')\n",
    "display(df_2022_2018_H_distinv_unrated.NonCheaterElo.describe().to_frame().T)"
   ]
  },
  {
   "cell_type": "code",
   "execution_count": null,
   "id": "8c2c21d7",
   "metadata": {
    "hidden": true
   },
   "outputs": [],
   "source": []
  },
  {
   "cell_type": "code",
   "execution_count": null,
   "id": "e9db1d44",
   "metadata": {
    "ExecuteTime": {
     "end_time": "2022-10-28T12:40:15.469114Z",
     "start_time": "2022-10-28T12:40:15.458115Z"
    },
    "code_folding": [],
    "hidden": true
   },
   "outputs": [],
   "source": [
    "# # cheaters (unrated)\n",
    "# fig = px.histogram(\n",
    "#     data_frame=df_2022_2018_C_distinv_unrated,\n",
    "#     x='CheaterElo',\n",
    "# #     nbins=(int(df_2022_2018_C_distinv_unrated.CheaterElo.describe()['max'] - \\\n",
    "# #           df_2022_2018_C_distinv_unrated.CheaterElo.describe()['min'])),\n",
    "#     title='Distribution of Cheater ELO in Unrated Games'\n",
    "    \n",
    "#     )\n",
    "\n",
    "# fig.show()\n",
    "\n",
    "# # non-cheaters (unrated)\n",
    "# fig = px.histogram(\n",
    "#     data_frame=df_2022_2018_H_distinv_unrated,\n",
    "#     x='NonCheaterElo',\n",
    "# #     nbins=(int(df_2022_2018_H_distinv_unrated.NonCheaterElo.describe()['max'] - \\\n",
    "# #           df_2022_2018_H_distinv_unrated.NonCheaterElo.describe()['min'])),\n",
    "#     title='Distribution of NonCheater ELO in Unrated Games'\n",
    "    \n",
    "#     )\n",
    "\n",
    "# fig.show()"
   ]
  },
  {
   "cell_type": "code",
   "execution_count": null,
   "id": "4e840b4d",
   "metadata": {
    "hidden": true
   },
   "outputs": [],
   "source": []
  },
  {
   "cell_type": "code",
   "execution_count": null,
   "id": "2ea52e6d",
   "metadata": {
    "ExecuteTime": {
     "end_time": "2022-11-01T17:52:11.814876Z",
     "start_time": "2022-11-01T17:52:11.671717Z"
    },
    "hidden": true
   },
   "outputs": [],
   "source": [
    "fig = go.Figure()\n",
    "fig.add_trace(go.Histogram(x=df_2022_2018_C_distinv_rated['CheaterElo'],\n",
    "                          name='Cheater'))\n",
    "fig.add_trace(go.Histogram(x=df_2022_2018_H_distinv_rated['NonCheaterElo'],\n",
    "                          name='Non-cheater'))\n",
    "\n",
    "fig.update_layout(barmode='overlay',\n",
    "                 title=f'Distribution of Cheater and Non-Cheater Elo in Rated Games',\n",
    "                 xaxis_title='Elo',\n",
    "                 yaxis_title='Count')\n",
    "fig.update_traces(opacity=0.75)\n",
    "\n",
    "fig.show()\n",
    "\n",
    "\n",
    "fig = go.Figure()\n",
    "fig.add_trace(go.Histogram(x=df_2022_2018_C_distinv_unrated['CheaterElo'],\n",
    "                          name='Cheater'))\n",
    "fig.add_trace(go.Histogram(x=df_2022_2018_H_distinv_unrated['NonCheaterElo'],\n",
    "                          name='Non-cheater'))\n",
    "\n",
    "fig.update_layout(barmode='overlay',\n",
    "                 title=f'Distribution of Cheater and Non-Cheater Elo in Unrated Games',\n",
    "                 xaxis_title='Elo',\n",
    "                 yaxis_title='Count')\n",
    "fig.update_traces(opacity=0.75)\n",
    "\n",
    "\n",
    "fig.show()"
   ]
  },
  {
   "cell_type": "code",
   "execution_count": null,
   "id": "41e1bf3a",
   "metadata": {
    "ExecuteTime": {
     "end_time": "2022-10-28T12:40:16.027159Z",
     "start_time": "2022-10-28T12:40:16.015116Z"
    },
    "hidden": true
   },
   "outputs": [],
   "source": [
    "# fig = go.Figure()\n",
    "# fig.add_trace(go.Histogram(x=df_2022_2018_C_distinv_unrated['CheaterElo'],\n",
    "#                           name='Cheater'))\n",
    "# fig.add_trace(go.Histogram(x=df_2022_2018_H_distinv_unrated['NonCheaterElo'],\n",
    "#                           name='Non-cheater'))\n",
    "\n",
    "# fig.update_layout(barmode='overlay',\n",
    "#                  title=f'Distribution of Cheater and Non-Cheater Elo in Unrated Games',\n",
    "#                  xaxis_title='Elo',\n",
    "#                  yaxis_title='Count')\n",
    "# fig.update_traces(opacity=0.75)\n",
    "\n",
    "\n",
    "# fig.show()"
   ]
  },
  {
   "cell_type": "markdown",
   "id": "ecd3211e",
   "metadata": {
    "hidden": true
   },
   "source": [
    "Do the above distributions but across different time controls:"
   ]
  },
  {
   "cell_type": "code",
   "execution_count": null,
   "id": "d89e61ca",
   "metadata": {
    "ExecuteTime": {
     "end_time": "2022-10-28T12:40:16.139231Z",
     "start_time": "2022-10-28T12:40:16.035151Z"
    },
    "hidden": true
   },
   "outputs": [],
   "source": [
    "df_2022_2018_C_distinv_rated_standard = df_2022_2018_C_distinv[[\n",
    "    ' rated standard' in x for x in df_2022_2018_C_distinv.Event]]"
   ]
  },
  {
   "cell_type": "code",
   "execution_count": null,
   "id": "4e67ea7e",
   "metadata": {
    "ExecuteTime": {
     "end_time": "2022-10-28T12:40:16.187150Z",
     "start_time": "2022-10-28T12:40:16.144116Z"
    },
    "hidden": true
   },
   "outputs": [],
   "source": [
    "df_2022_2018_C_distinv_rated_standard.head(1) # 87758 rows "
   ]
  },
  {
   "cell_type": "code",
   "execution_count": null,
   "id": "8bf5a00b",
   "metadata": {
    "ExecuteTime": {
     "end_time": "2022-10-28T12:40:16.296161Z",
     "start_time": "2022-10-28T12:40:16.191146Z"
    },
    "hidden": true
   },
   "outputs": [],
   "source": [
    "df_2022_2018_C_distinv_rated_blitz = df_2022_2018_C_distinv[[\n",
    "    ' rated blitz' in x for x in df_2022_2018_C_distinv.Event]]"
   ]
  },
  {
   "cell_type": "code",
   "execution_count": null,
   "id": "7fc45d9c",
   "metadata": {
    "ExecuteTime": {
     "end_time": "2022-10-28T12:40:16.328149Z",
     "start_time": "2022-10-28T12:40:16.300154Z"
    },
    "hidden": true
   },
   "outputs": [],
   "source": [
    "df_2022_2018_C_distinv_rated_blitz.head(1)"
   ]
  },
  {
   "cell_type": "code",
   "execution_count": null,
   "id": "7b3dc70d",
   "metadata": {
    "hidden": true
   },
   "outputs": [],
   "source": []
  },
  {
   "cell_type": "code",
   "execution_count": null,
   "id": "869f3bda",
   "metadata": {
    "hidden": true
   },
   "outputs": [],
   "source": []
  },
  {
   "cell_type": "markdown",
   "id": "73192f4f",
   "metadata": {
    "heading_collapsed": true,
    "hidden": true
   },
   "source": [
    "##### Grouping by unique cheaters in unrated and rated"
   ]
  },
  {
   "cell_type": "markdown",
   "id": "2d935753",
   "metadata": {
    "hidden": true
   },
   "source": [
    "Grouping by unique cheaters in unrated:"
   ]
  },
  {
   "cell_type": "code",
   "execution_count": null,
   "id": "7ec1d10e",
   "metadata": {
    "ExecuteTime": {
     "end_time": "2022-10-25T20:26:15.086320Z",
     "start_time": "2022-10-25T20:26:15.063406Z"
    },
    "hidden": true
   },
   "outputs": [],
   "source": [
    "df_2022_2018_C_distinv_unrated.head(2)"
   ]
  },
  {
   "cell_type": "code",
   "execution_count": null,
   "id": "67c6c0c9",
   "metadata": {
    "ExecuteTime": {
     "end_time": "2022-10-25T21:07:23.482632Z",
     "start_time": "2022-10-25T21:07:23.447727Z"
    },
    "hidden": true
   },
   "outputs": [],
   "source": [
    "df_2022_2018_C_distinv_unrated[[\n",
    "    'Cheater', 'CheaterElo', 'CheaterRD',\n",
    "    'TimeControl_Base', 'TimeControl_Inc']].groupby(by=[\n",
    "    'Cheater', 'CheaterElo', 'CheaterRD',\n",
    "    'TimeControl_Base', 'TimeControl_Inc']).count()"
   ]
  },
  {
   "cell_type": "code",
   "execution_count": null,
   "id": "4935ef6f",
   "metadata": {
    "ExecuteTime": {
     "end_time": "2022-10-25T21:06:38.865422Z",
     "start_time": "2022-10-25T21:06:38.857448Z"
    },
    "hidden": true
   },
   "outputs": [],
   "source": [
    "df_2022_2018_C_distinv_unrated.Cheater.nunique()"
   ]
  },
  {
   "cell_type": "code",
   "execution_count": null,
   "id": "9635fc8d",
   "metadata": {
    "ExecuteTime": {
     "end_time": "2022-10-25T21:20:02.546778Z",
     "start_time": "2022-10-25T21:20:02.536804Z"
    },
    "hidden": true
   },
   "outputs": [],
   "source": [
    "df_2022_2018_C_distinv_unrated[['Cheater', 'CheaterElo', 'CheaterRD']].groupby(by=[\n",
    "    'Cheater', 'CheaterElo', 'CheaterRD']).value_counts()\n",
    "\n",
    "# df_2022_2018_C_distinv_unrated.value_counts(subset=['Cheater', 'CheaterElo', 'CheaterRD'])"
   ]
  },
  {
   "cell_type": "code",
   "execution_count": null,
   "id": "312f9044",
   "metadata": {
    "ExecuteTime": {
     "end_time": "2022-10-25T21:19:56.275997Z",
     "start_time": "2022-10-25T21:19:56.256464Z"
    },
    "hidden": true
   },
   "outputs": [],
   "source": [
    "df_2022_2018_C_distinv_unrated.value_counts(subset=['Cheater', 'CheaterElo', 'CheaterRD'])"
   ]
  },
  {
   "cell_type": "code",
   "execution_count": null,
   "id": "2ac050b4",
   "metadata": {
    "ExecuteTime": {
     "end_time": "2022-10-25T21:22:01.121897Z",
     "start_time": "2022-10-25T21:22:01.114891Z"
    },
    "hidden": true
   },
   "outputs": [],
   "source": [
    "df_2022_2018_C_distinv_unrated.value_counts(subset=['Cheater', 'CheaterElo'])"
   ]
  },
  {
   "cell_type": "code",
   "execution_count": null,
   "id": "3360f97d",
   "metadata": {
    "ExecuteTime": {
     "end_time": "2022-10-25T21:28:28.776625Z",
     "start_time": "2022-10-25T21:28:28.757676Z"
    },
    "hidden": true
   },
   "outputs": [],
   "source": [
    "df_2022_2018_C_distinv_unrated.value_counts(subset=['Date', 'Cheater', 'CheaterElo']).reset_index()"
   ]
  },
  {
   "cell_type": "code",
   "execution_count": null,
   "id": "cdc5a384",
   "metadata": {
    "ExecuteTime": {
     "end_time": "2022-10-25T21:32:11.877685Z",
     "start_time": "2022-10-25T21:32:11.855740Z"
    },
    "hidden": true
   },
   "outputs": [],
   "source": [
    "df_2022_2018_C_distinv_unrated.value_counts(subset=[\n",
    "    'Date', 'Cheater','CheaterElo']).reset_index().sort_values(by='Date')"
   ]
  },
  {
   "cell_type": "code",
   "execution_count": null,
   "id": "6a3630e9",
   "metadata": {
    "ExecuteTime": {
     "end_time": "2022-10-25T21:30:40.763302Z",
     "start_time": "2022-10-25T21:30:40.748348Z"
    },
    "hidden": true,
    "scrolled": true
   },
   "outputs": [],
   "source": [
    "df_2022_2018_C_distinv_unrated.value_counts(subset=['Cheater']).reset_index()"
   ]
  },
  {
   "cell_type": "code",
   "execution_count": null,
   "id": "81149d7a",
   "metadata": {
    "hidden": true
   },
   "outputs": [],
   "source": []
  },
  {
   "cell_type": "code",
   "execution_count": null,
   "id": "b2ec7b99",
   "metadata": {
    "hidden": true
   },
   "outputs": [],
   "source": []
  },
  {
   "cell_type": "code",
   "execution_count": null,
   "id": "7b72383a",
   "metadata": {
    "hidden": true
   },
   "outputs": [],
   "source": []
  },
  {
   "cell_type": "markdown",
   "id": "9eed72ea",
   "metadata": {
    "hidden": true
   },
   "source": [
    "Grouping by unique cheaters in rated:"
   ]
  },
  {
   "cell_type": "code",
   "execution_count": null,
   "id": "321985fe",
   "metadata": {
    "ExecuteTime": {
     "end_time": "2022-10-25T21:39:11.999891Z",
     "start_time": "2022-10-25T21:39:11.919547Z"
    },
    "hidden": true
   },
   "outputs": [],
   "source": [
    "df_2022_2018_C_distinv_rated.value_counts(subset=[\n",
    "    'Date', 'Cheater','CheaterElo']).reset_index().sort_values(by='Date')"
   ]
  },
  {
   "cell_type": "code",
   "execution_count": null,
   "id": "c1c1f965",
   "metadata": {
    "ExecuteTime": {
     "end_time": "2022-10-25T22:05:28.651909Z",
     "start_time": "2022-10-25T22:05:28.622958Z"
    },
    "hidden": true
   },
   "outputs": [],
   "source": [
    "df_2022_2018_C_distinv_rated.Cheater.value_counts()"
   ]
  },
  {
   "cell_type": "code",
   "execution_count": null,
   "id": "2aaac236",
   "metadata": {
    "ExecuteTime": {
     "end_time": "2022-10-25T22:05:59.442893Z",
     "start_time": "2022-10-25T22:05:59.385020Z"
    },
    "hidden": true
   },
   "outputs": [],
   "source": [
    "df_2022_2018_C_distinv_rated[\n",
    "    df_2022_2018_C_distinv_rated.Cheater=='exeComp'\n",
    "]"
   ]
  },
  {
   "cell_type": "code",
   "execution_count": null,
   "id": "393fadf4",
   "metadata": {
    "hidden": true
   },
   "outputs": [],
   "source": []
  },
  {
   "cell_type": "code",
   "execution_count": null,
   "id": "1fec9b15",
   "metadata": {
    "hidden": true
   },
   "outputs": [],
   "source": []
  },
  {
   "cell_type": "code",
   "execution_count": null,
   "id": "3a250dfc",
   "metadata": {
    "hidden": true
   },
   "outputs": [],
   "source": []
  },
  {
   "cell_type": "code",
   "execution_count": null,
   "id": "3cb1dfed",
   "metadata": {
    "hidden": true
   },
   "outputs": [],
   "source": [
    "# fig = px.histogram(\n",
    "#     data_frame=iris_df,\n",
    "#     x='petal_width',\n",
    "#     nbins=12,\n",
    "#     title='Petal width distribution',\n",
    "#     labels={\n",
    "#         'petal_width': 'Petal width (cm)'\n",
    "#     }\n",
    "#     )\n",
    "\n",
    "\n",
    "\n",
    "# fig.show()"
   ]
  },
  {
   "cell_type": "code",
   "execution_count": null,
   "id": "f2d6d509",
   "metadata": {
    "hidden": true
   },
   "outputs": [],
   "source": []
  },
  {
   "cell_type": "code",
   "execution_count": null,
   "id": "84074f0d",
   "metadata": {
    "hidden": true
   },
   "outputs": [],
   "source": []
  },
  {
   "cell_type": "code",
   "execution_count": null,
   "id": "53475e6d",
   "metadata": {
    "hidden": true
   },
   "outputs": [],
   "source": []
  },
  {
   "cell_type": "code",
   "execution_count": null,
   "id": "b99015e9",
   "metadata": {
    "hidden": true
   },
   "outputs": [],
   "source": []
  },
  {
   "cell_type": "code",
   "execution_count": null,
   "id": "f0abc9d9",
   "metadata": {
    "hidden": true
   },
   "outputs": [],
   "source": [
    "df_2022_2018_C_distinv.CheaterRD.describe()"
   ]
  },
  {
   "cell_type": "code",
   "execution_count": null,
   "id": "d7a86137",
   "metadata": {
    "hidden": true
   },
   "outputs": [],
   "source": [
    "df_2022_2018_H_distinv.NonCheaterRD.describe()"
   ]
  },
  {
   "cell_type": "code",
   "execution_count": null,
   "id": "88e3518b",
   "metadata": {
    "hidden": true
   },
   "outputs": [],
   "source": []
  },
  {
   "cell_type": "code",
   "execution_count": null,
   "id": "1eb1446b",
   "metadata": {
    "hidden": true
   },
   "outputs": [],
   "source": []
  },
  {
   "cell_type": "code",
   "execution_count": null,
   "id": "6d34b090",
   "metadata": {
    "hidden": true
   },
   "outputs": [],
   "source": []
  },
  {
   "cell_type": "code",
   "execution_count": null,
   "id": "3b3bbd0a",
   "metadata": {
    "hidden": true
   },
   "outputs": [],
   "source": []
  },
  {
   "cell_type": "markdown",
   "id": "38d6cf8e",
   "metadata": {
    "heading_collapsed": true,
    "hidden": true
   },
   "source": [
    "#### Looking for the difference in elo between cheater and human: (not done here)"
   ]
  },
  {
   "cell_type": "code",
   "execution_count": null,
   "id": "40cb533c",
   "metadata": {
    "hidden": true
   },
   "outputs": [],
   "source": [
    "# think about comparing this to the difference in elo between titled players"
   ]
  },
  {
   "cell_type": "code",
   "execution_count": null,
   "id": "bd1df7eb",
   "metadata": {
    "hidden": true
   },
   "outputs": [],
   "source": []
  },
  {
   "cell_type": "code",
   "execution_count": null,
   "id": "800dd256",
   "metadata": {
    "hidden": true
   },
   "outputs": [],
   "source": []
  },
  {
   "cell_type": "markdown",
   "id": "ab9723d6",
   "metadata": {
    "hidden": true
   },
   "source": [
    "-----"
   ]
  },
  {
   "cell_type": "markdown",
   "id": "b22716e3",
   "metadata": {
    "heading_collapsed": true,
    "hidden": true
   },
   "source": [
    "#### Investigating rated-cheater's bimodal distribution causes"
   ]
  },
  {
   "cell_type": "code",
   "execution_count": null,
   "id": "7017b36f",
   "metadata": {
    "ExecuteTime": {
     "end_time": "2022-11-01T17:55:37.971285Z",
     "start_time": "2022-11-01T17:55:37.953285Z"
    },
    "hidden": true
   },
   "outputs": [],
   "source": [
    "columns_ = df_2022_2018_C_distinv_rated.columns\n",
    "columns_"
   ]
  },
  {
   "cell_type": "code",
   "execution_count": null,
   "id": "17ae6f73",
   "metadata": {
    "ExecuteTime": {
     "end_time": "2022-11-01T17:56:44.919508Z",
     "start_time": "2022-11-01T17:56:44.912541Z"
    },
    "hidden": true
   },
   "outputs": [],
   "source": [
    "len(columns_)"
   ]
  },
  {
   "cell_type": "markdown",
   "id": "7649912c",
   "metadata": {
    "heading_collapsed": true,
    "hidden": true
   },
   "source": [
    "##### All-at-once"
   ]
  },
  {
   "cell_type": "code",
   "execution_count": null,
   "id": "102f5755",
   "metadata": {
    "ExecuteTime": {
     "end_time": "2022-11-01T17:56:23.353190Z",
     "start_time": "2022-11-01T17:56:23.333205Z"
    },
    "hidden": true
   },
   "outputs": [],
   "source": [
    "from plotly.subplots import make_subplots"
   ]
  },
  {
   "cell_type": "code",
   "execution_count": null,
   "id": "74a41e0b",
   "metadata": {
    "ExecuteTime": {
     "end_time": "2022-11-01T22:25:44.628451Z",
     "start_time": "2022-11-01T22:25:44.611442Z"
    },
    "hidden": true
   },
   "outputs": [],
   "source": [
    "# fig = make_subplots(rows=len(columns_))\n",
    "\n",
    "\n",
    "# for index, col in enumerate(columns_):\n",
    "#     # cheaters (rated)\n",
    "#     fig.add_histogram(\n",
    "#         x=df_2022_2018_C_distinv_rated['CheaterElo'],\n",
    "# #         nbins=(int(df_2022_2018_C_distinv.CheaterElo.describe()['max'] - \\\n",
    "# #               df_2022_2018_C_distinv.CheaterElo.describe()['min'])),\n",
    "# #         title='Distribution of Cheater ELO',\n",
    "#         color=col,\n",
    "#         row=index,\n",
    "#         col=1\n",
    "\n",
    "#         )\n",
    "\n",
    "#     fig.show()"
   ]
  },
  {
   "cell_type": "code",
   "execution_count": null,
   "id": "b715f3f2",
   "metadata": {
    "hidden": true
   },
   "outputs": [],
   "source": []
  },
  {
   "cell_type": "code",
   "execution_count": null,
   "id": "c98f4672",
   "metadata": {
    "ExecuteTime": {
     "end_time": "2022-11-01T17:59:41.141772Z",
     "start_time": "2022-11-01T17:59:41.137805Z"
    },
    "hidden": true
   },
   "outputs": [],
   "source": [
    "# need to use the index for the corerct subplot"
   ]
  },
  {
   "cell_type": "code",
   "execution_count": null,
   "id": "7c488a0a",
   "metadata": {
    "hidden": true
   },
   "outputs": [],
   "source": []
  },
  {
   "cell_type": "code",
   "execution_count": null,
   "id": "97abe8c9",
   "metadata": {
    "ExecuteTime": {
     "end_time": "2022-11-01T22:26:37.042119Z",
     "start_time": "2022-11-01T22:26:37.029081Z"
    },
    "hidden": true
   },
   "outputs": [],
   "source": [
    "\n",
    "# for index, col in enumerate(columns_):\n",
    "#     # cheaters (rated)\n",
    "#     fig = px.histogram(\n",
    "#         data_frame=df_2022_2018_C_distinv_rated,\n",
    "#         x='CheaterElo',\n",
    "#         nbins=(int(df_2022_2018_C_distinv.CheaterElo.describe()['max'] - \\\n",
    "#               df_2022_2018_C_distinv.CheaterElo.describe()['min'])),\n",
    "#         title='Distribution of Cheater ELO',\n",
    "#         color=col\n",
    "\n",
    "#         )\n",
    "\n",
    "#     fig.show()"
   ]
  },
  {
   "cell_type": "markdown",
   "id": "49c5d580",
   "metadata": {
    "hidden": true
   },
   "source": [
    "------"
   ]
  },
  {
   "cell_type": "markdown",
   "id": "c68661b7",
   "metadata": {
    "hidden": true
   },
   "source": [
    "##### Event"
   ]
  },
  {
   "cell_type": "code",
   "execution_count": null,
   "id": "1f600fb3",
   "metadata": {
    "ExecuteTime": {
     "end_time": "2022-11-01T17:52:29.780010Z",
     "start_time": "2022-11-01T17:52:29.632210Z"
    },
    "hidden": true
   },
   "outputs": [],
   "source": [
    "# cheaters (rated)\n",
    "fig = px.histogram(\n",
    "    data_frame=df_2022_2018_C_distinv_rated,\n",
    "    x='CheaterElo',\n",
    "    nbins=(int(df_2022_2018_C_distinv.CheaterElo.describe()['max'] - \\\n",
    "          df_2022_2018_C_distinv.CheaterElo.describe()['min'])),\n",
    "    title='Distribution of Cheater ELO',\n",
    "    color='Event'\n",
    "    \n",
    "    )\n",
    "\n",
    "fig.show()"
   ]
  },
  {
   "cell_type": "markdown",
   "id": "82f468bf",
   "metadata": {
    "hidden": true
   },
   "source": [
    "----"
   ]
  },
  {
   "cell_type": "markdown",
   "id": "aedd72e0",
   "metadata": {
    "heading_collapsed": true,
    "hidden": true
   },
   "source": [
    "##### TimeControl_Base"
   ]
  },
  {
   "cell_type": "code",
   "execution_count": null,
   "id": "02c18042",
   "metadata": {
    "ExecuteTime": {
     "end_time": "2022-11-01T22:28:46.990396Z",
     "start_time": "2022-11-01T22:28:46.804370Z"
    },
    "hidden": true
   },
   "outputs": [],
   "source": [
    "# cheaters (rated)\n",
    "fig = px.histogram(\n",
    "    data_frame=df_2022_2018_C_distinv_rated,\n",
    "    x='CheaterElo',\n",
    "    nbins=(int(df_2022_2018_C_distinv.CheaterElo.describe()['max'] - \\\n",
    "          df_2022_2018_C_distinv.CheaterElo.describe()['min'])),\n",
    "    title='Distribution of Cheater ELO',\n",
    "    color='TimeControl_Base'\n",
    "    \n",
    "    )\n",
    "\n",
    "fig.show()"
   ]
  },
  {
   "cell_type": "code",
   "execution_count": null,
   "id": "ca851a99",
   "metadata": {
    "ExecuteTime": {
     "end_time": "2022-11-02T17:11:10.712558Z",
     "start_time": "2022-11-02T17:11:10.280459Z"
    },
    "hidden": true
   },
   "outputs": [],
   "source": [
    "# cheaters (rated)\n",
    "fig = px.histogram(\n",
    "    data_frame=df_2022_2018_C_distinv_rated,\n",
    "    x='CheaterElo',\n",
    "    nbins=(int(df_2022_2018_C_distinv.CheaterElo.describe()['max'] - \\\n",
    "          df_2022_2018_C_distinv.CheaterElo.describe()['min'])),\n",
    "    title='Distribution of Cheater ELO',\n",
    "    color='TimeControl_Base'\n",
    "    \n",
    "    )\n",
    "\n",
    "fig.show()"
   ]
  },
  {
   "cell_type": "code",
   "execution_count": null,
   "id": "f949480f",
   "metadata": {
    "hidden": true
   },
   "outputs": [],
   "source": []
  },
  {
   "cell_type": "markdown",
   "id": "1de56645",
   "metadata": {
    "hidden": true
   },
   "source": [
    "------"
   ]
  },
  {
   "cell_type": "markdown",
   "id": "d131923b",
   "metadata": {
    "heading_collapsed": true,
    "hidden": true
   },
   "source": [
    "##### By computer program name"
   ]
  },
  {
   "cell_type": "code",
   "execution_count": null,
   "id": "5e042c2f",
   "metadata": {
    "ExecuteTime": {
     "end_time": "2022-11-02T21:15:17.946256Z",
     "start_time": "2022-11-02T21:15:17.912251Z"
    },
    "hidden": true
   },
   "outputs": [],
   "source": [
    "df_2022_2018_C_distinv_rated.head(1)"
   ]
  },
  {
   "cell_type": "code",
   "execution_count": null,
   "id": "65c0e182",
   "metadata": {
    "ExecuteTime": {
     "end_time": "2022-11-02T21:17:01.170358Z",
     "start_time": "2022-11-02T21:17:01.143347Z"
    },
    "hidden": true
   },
   "outputs": [],
   "source": [
    "unique_rated_cheaters = df_2022_2018_C_distinv_rated.Cheater.unique()\n",
    "display(df_2022_2018_C_distinv_rated.Cheater.nunique()) # 91\n",
    "unique_rated_cheaters"
   ]
  },
  {
   "cell_type": "code",
   "execution_count": null,
   "id": "36f3c9cd",
   "metadata": {
    "ExecuteTime": {
     "end_time": "2022-11-02T21:15:45.746240Z",
     "start_time": "2022-11-02T21:15:45.388020Z"
    },
    "hidden": true
   },
   "outputs": [],
   "source": [
    "# cheaters (rated)\n",
    "fig = px.histogram(\n",
    "    data_frame=df_2022_2018_C_distinv_rated,\n",
    "    x='CheaterElo',\n",
    "    nbins=(int(df_2022_2018_C_distinv.CheaterElo.describe()['max'] - \\\n",
    "          df_2022_2018_C_distinv.CheaterElo.describe()['min'])),\n",
    "    title='Distribution of Cheater ELO',\n",
    "    color='Cheater'\n",
    "    \n",
    "    )\n",
    "\n",
    "fig.show()"
   ]
  },
  {
   "cell_type": "markdown",
   "id": "95fc68bb",
   "metadata": {
    "hidden": true
   },
   "source": [
    "megielszmergiel, Hutnik, exeComp, (HappyPawns a litte bit), (Horsian a little bit), Notarious, Abysses, Knightsmasher, feligres, (ArasanX a little bit), BlackDemon, (SpyderChess a little bit), Iczero, (MortimerBlackwell a little bit), (Excalibar a little bit), (birdcostello a little bit), AnderssenA....\n",
    "\n",
    "\n",
    "all mentioned above contributed a 'significant' portion to the bimodal distribution."
   ]
  },
  {
   "cell_type": "markdown",
   "id": "24dac12f",
   "metadata": {
    "hidden": true
   },
   "source": [
    "------"
   ]
  },
  {
   "cell_type": "markdown",
   "id": "da7539a1",
   "metadata": {
    "hidden": true
   },
   "source": [
    "##### Checking after dropping games with no moves and only looking at games that were longer than an hour"
   ]
  },
  {
   "cell_type": "markdown",
   "id": "6928cc4b",
   "metadata": {
    "hidden": true
   },
   "source": [
    "###### Just cheaters"
   ]
  },
  {
   "cell_type": "code",
   "execution_count": null,
   "id": "9ec6aadb",
   "metadata": {
    "ExecuteTime": {
     "end_time": "2022-11-01T22:53:14.558134Z",
     "start_time": "2022-11-01T22:53:14.380751Z"
    },
    "hidden": true
   },
   "outputs": [],
   "source": [
    "how_clean = hp.drop_no_move_games(df_2022_2018_C_distinv_rated)"
   ]
  },
  {
   "cell_type": "code",
   "execution_count": null,
   "id": "6b418740",
   "metadata": {
    "ExecuteTime": {
     "end_time": "2022-11-01T22:53:15.334358Z",
     "start_time": "2022-11-01T22:53:15.284431Z"
    },
    "hidden": true
   },
   "outputs": [],
   "source": [
    "hp.any_missing_emt(how_clean)"
   ]
  },
  {
   "cell_type": "code",
   "execution_count": null,
   "id": "aa50de7c",
   "metadata": {
    "ExecuteTime": {
     "end_time": "2022-11-01T22:53:16.143959Z",
     "start_time": "2022-11-01T22:53:16.123951Z"
    },
    "hidden": true
   },
   "outputs": [],
   "source": [
    "how_clean.head(2)"
   ]
  },
  {
   "cell_type": "code",
   "execution_count": null,
   "id": "cbb1c8ea",
   "metadata": {
    "ExecuteTime": {
     "end_time": "2022-11-01T22:44:06.737556Z",
     "start_time": "2022-11-01T22:44:06.720555Z"
    },
    "hidden": true
   },
   "outputs": [],
   "source": [
    "# display(how_clean.iloc[0].TimeControl_Base)\n",
    "# display(type(how_clean.iloc[0].TimeControl_Base)) # np.int64"
   ]
  },
  {
   "cell_type": "code",
   "execution_count": null,
   "id": "766add2f",
   "metadata": {
    "ExecuteTime": {
     "end_time": "2022-11-01T22:55:30.008148Z",
     "start_time": "2022-11-01T22:55:30.002133Z"
    },
    "hidden": true
   },
   "outputs": [],
   "source": [
    "hour_filter = how_clean['TimeControl_Base']>=3600\n",
    "hour_filter;"
   ]
  },
  {
   "cell_type": "code",
   "execution_count": null,
   "id": "c5a5fb05",
   "metadata": {
    "ExecuteTime": {
     "end_time": "2022-11-01T22:55:42.954437Z",
     "start_time": "2022-11-01T22:55:42.935442Z"
    },
    "hidden": true
   },
   "outputs": [],
   "source": [
    "df_hour_plus = how_clean[hour_filter]\n",
    "\n",
    "df_hour_plus = df_hour_plus.reset_index(names='OldIndex')"
   ]
  },
  {
   "cell_type": "code",
   "execution_count": null,
   "id": "32893dfa",
   "metadata": {
    "ExecuteTime": {
     "end_time": "2022-11-01T22:57:59.980659Z",
     "start_time": "2022-11-01T22:57:59.965658Z"
    },
    "hidden": true
   },
   "outputs": [],
   "source": [
    "df_hour_plus.head(2) # 3454 rows"
   ]
  },
  {
   "cell_type": "code",
   "execution_count": null,
   "id": "3932b908",
   "metadata": {
    "ExecuteTime": {
     "end_time": "2022-11-01T22:58:34.241549Z",
     "start_time": "2022-11-01T22:58:34.190480Z"
    },
    "hidden": true
   },
   "outputs": [],
   "source": [
    "fig = px.histogram(\n",
    "    data_frame=df_hour_plus,\n",
    "    x='CheaterElo',\n",
    "    title='Distribution of Cheater ELO'\n",
    "    \n",
    "    )\n",
    "\n",
    "fig.show()"
   ]
  },
  {
   "cell_type": "markdown",
   "id": "cd27cbc7",
   "metadata": {
    "hidden": true
   },
   "source": [
    "-----"
   ]
  },
  {
   "cell_type": "markdown",
   "id": "7513a837",
   "metadata": {
    "heading_collapsed": true,
    "hidden": true
   },
   "source": [
    "###### CvH"
   ]
  },
  {
   "cell_type": "code",
   "execution_count": null,
   "id": "62ac3031",
   "metadata": {
    "ExecuteTime": {
     "end_time": "2022-11-01T23:02:14.876470Z",
     "start_time": "2022-11-01T23:02:14.707428Z"
    },
    "hidden": true
   },
   "outputs": [],
   "source": [
    "# # df with event info to separate rated and unrated\n",
    "\n",
    "# df_2022_2018_CvH_distinv = joblib.load(\n",
    "#     './data/preprocessed/2022_2018_CvH_distinv_withevent.pkl')\n",
    "\n",
    "df_2022_2018_CvH_distinv = hp.drop_no_move_games(df_2022_2018_CvH_distinv)"
   ]
  },
  {
   "cell_type": "code",
   "execution_count": null,
   "id": "5025c641",
   "metadata": {
    "ExecuteTime": {
     "end_time": "2022-11-01T23:02:28.892845Z",
     "start_time": "2022-11-01T23:02:28.853786Z"
    },
    "hidden": true
   },
   "outputs": [],
   "source": [
    "hp.any_missing_emt(df_2022_2018_CvH_distinv)"
   ]
  },
  {
   "cell_type": "code",
   "execution_count": null,
   "id": "3f1be91c",
   "metadata": {
    "ExecuteTime": {
     "end_time": "2022-11-01T23:28:41.661845Z",
     "start_time": "2022-11-01T23:28:41.628796Z"
    },
    "hidden": true,
    "scrolled": true
   },
   "outputs": [],
   "source": [
    "df_2022_2018_CvH_distinv_rated_hour_plus = df_2022_2018_CvH_distinv[\n",
    "    (df_2022_2018_CvH_distinv['TimeControl_Base']>=3600)*[' rated' in x for x in df_2022_2018_CvH_distinv.Event]]\n",
    "\n",
    "df_2022_2018_CvH_distinv_rated_hour_plus.shape # (3454, 18)"
   ]
  },
  {
   "cell_type": "markdown",
   "id": "ddb7c933",
   "metadata": {
    "hidden": true
   },
   "source": [
    "3454 games are rated between a human and a computer and at least an hour long."
   ]
  },
  {
   "cell_type": "code",
   "execution_count": null,
   "id": "fa453937",
   "metadata": {
    "ExecuteTime": {
     "end_time": "2022-11-01T23:07:57.204753Z",
     "start_time": "2022-11-01T23:07:49.527340Z"
    },
    "hidden": true
   },
   "outputs": [],
   "source": [
    "df_2022_2018_C_distinv = joblib.load(\n",
    "    './data/preprocessed/df_2022_2018_C_distinv.pkl')\n",
    "df_2022_2018_H_distinv = joblib.load(\n",
    "    './data/preprocessed/df_2022_2018_H_distinv.pkl')"
   ]
  },
  {
   "cell_type": "code",
   "execution_count": null,
   "id": "cdfff09f",
   "metadata": {
    "ExecuteTime": {
     "end_time": "2022-11-01T23:10:45.533731Z",
     "start_time": "2022-11-01T23:10:45.198553Z"
    },
    "hidden": true
   },
   "outputs": [],
   "source": [
    "df_2022_2018_C_distinv=hp.drop_no_move_games(df_2022_2018_C_distinv)\n",
    "df_2022_2018_H_distinv=hp.drop_no_move_games(df_2022_2018_H_distinv)"
   ]
  },
  {
   "cell_type": "code",
   "execution_count": null,
   "id": "14bd9db1",
   "metadata": {
    "ExecuteTime": {
     "end_time": "2022-11-01T23:15:13.494502Z",
     "start_time": "2022-11-01T23:15:13.305117Z"
    },
    "hidden": true
   },
   "outputs": [],
   "source": [
    "# # only rated\n",
    "df_2022_2018_C_distinv_rated = df_2022_2018_C_distinv[[' rated' in x for x in df_2022_2018_C_distinv.Event]]\n",
    "\n",
    "# # only unrated\n",
    "# df_2022_2018_C_distinv_unrated = df_2022_2018_C_distinv[['unrated' in x for x in df_2022_2018_C_distinv.Event]]\n",
    "\n",
    "\n",
    "# # only rated\n",
    "df_2022_2018_H_distinv_rated = df_2022_2018_H_distinv[[' rated' in x for x in df_2022_2018_H_distinv.Event]]\n",
    "\n",
    "# # only unrated\n",
    "# df_2022_2018_H_distinv_unrated = df_2022_2018_H_distinv[['unrated' in x for x in df_2022_2018_H_distinv.Event]]"
   ]
  },
  {
   "cell_type": "code",
   "execution_count": null,
   "id": "8eb0645e",
   "metadata": {
    "ExecuteTime": {
     "end_time": "2022-11-02T00:14:22.402947Z",
     "start_time": "2022-11-02T00:14:22.345934Z"
    },
    "hidden": true
   },
   "outputs": [],
   "source": [
    "df_2022_2018_C_distinv_rated_hour_plus = df_2022_2018_C_distinv_rated[\n",
    "    df_2022_2018_C_distinv_rated['TimeControl_Base']>=3600]\n",
    "\n",
    "df_2022_2018_C_distinv_rated_hour_plus = df_2022_2018_C_distinv_rated_hour_plus.reset_index(names='OldIndex')"
   ]
  },
  {
   "cell_type": "code",
   "execution_count": null,
   "id": "539fb1fb",
   "metadata": {
    "ExecuteTime": {
     "end_time": "2022-11-02T00:14:23.010556Z",
     "start_time": "2022-11-02T00:14:22.989549Z"
    },
    "hidden": true
   },
   "outputs": [],
   "source": [
    "df_2022_2018_H_distinv_rated_hour_plus = df_2022_2018_H_distinv_rated[\n",
    "    df_2022_2018_H_distinv_rated['TimeControl_Base']>=3600]\n",
    "\n",
    "df_2022_2018_H_distinv_rated_hour_plus = df_2022_2018_H_distinv_rated_hour_plus.reset_index(names='OldIndex')"
   ]
  },
  {
   "cell_type": "code",
   "execution_count": null,
   "id": "441ae15c",
   "metadata": {
    "ExecuteTime": {
     "end_time": "2022-11-02T00:14:38.623569Z",
     "start_time": "2022-11-02T00:14:38.606570Z"
    },
    "hidden": true
   },
   "outputs": [],
   "source": [
    "# df_2022_2018_H_distinv_rated_hour_plus.head(2)"
   ]
  },
  {
   "cell_type": "code",
   "execution_count": null,
   "id": "04f30c72",
   "metadata": {
    "ExecuteTime": {
     "end_time": "2022-11-02T00:14:39.212025Z",
     "start_time": "2022-11-02T00:14:39.173541Z"
    },
    "hidden": true
   },
   "outputs": [],
   "source": [
    "fig = go.Figure()\n",
    "fig.add_trace(go.Histogram(x=df_2022_2018_C_distinv_rated_hour_plus['CheaterElo'],\n",
    "                          name='Cheater'))\n",
    "fig.add_trace(go.Histogram(x=df_2022_2018_H_distinv_rated_hour_plus['NonCheaterElo'],\n",
    "                          name='Non-cheater'))\n",
    "\n",
    "fig.update_layout(barmode='overlay',\n",
    "                 title=f'Distribution of Cheater and Non-Cheater Elo in Rated Games at Least an Hour',\n",
    "                 xaxis_title='Elo',\n",
    "                 yaxis_title='Count')\n",
    "fig.update_traces(opacity=0.75)\n",
    "\n",
    "fig.show()"
   ]
  },
  {
   "cell_type": "code",
   "execution_count": null,
   "id": "48ecefed",
   "metadata": {
    "ExecuteTime": {
     "end_time": "2022-11-02T00:14:42.443817Z",
     "start_time": "2022-11-02T00:14:42.433788Z"
    },
    "code_folding": [
     0
    ],
    "hidden": true
   },
   "outputs": [],
   "source": [
    "### For unrated games\n",
    "# # fig = go.Figure()\n",
    "# # fig.add_trace(go.Histogram(x=df_2022_2018_C_distinv_unrated['CheaterElo'],\n",
    "# #                           name='Cheater'))\n",
    "# # fig.add_trace(go.Histogram(x=df_2022_2018_H_distinv_unrated['NonCheaterElo'],\n",
    "# #                           name='Non-cheater'))\n",
    "\n",
    "# # fig.update_layout(barmode='overlay',\n",
    "# #                  title=f'Distribution of Cheater and Non-Cheater Elo in Unrated Games',\n",
    "# #                  xaxis_title='Elo',\n",
    "# #                  yaxis_title='Count')\n",
    "# # fig.update_traces(opacity=0.75)\n",
    "\n",
    "\n",
    "# # fig.show()"
   ]
  },
  {
   "cell_type": "markdown",
   "id": "63e1983d",
   "metadata": {
    "hidden": true
   },
   "source": [
    "What is the difference in elo for each match?"
   ]
  },
  {
   "cell_type": "code",
   "execution_count": null,
   "id": "9f41e7f4",
   "metadata": {
    "ExecuteTime": {
     "end_time": "2022-11-02T00:14:43.239771Z",
     "start_time": "2022-11-02T00:14:43.214798Z"
    },
    "hidden": true
   },
   "outputs": [],
   "source": [
    "df_2022_2018_CvH_distinv_rated_hour_plus.head(1)"
   ]
  },
  {
   "cell_type": "code",
   "execution_count": null,
   "id": "a1aa5b35",
   "metadata": {
    "ExecuteTime": {
     "end_time": "2022-11-02T00:05:13.378945Z",
     "start_time": "2022-11-02T00:05:13.370905Z"
    },
    "hidden": true
   },
   "outputs": [],
   "source": [
    "# [row for row in df_2022_2018_CvH_distinv_rated_hour_plus[['BlackElo', 'WhiteElo']].values]\n",
    "# [abs(row[0]-row[1]) for row in df_2022_2018_CvH_distinv_rated_hour_plus[['BlackElo', 'WhiteElo']].values]\n",
    "# [row[0]-row[1] for row in df_2022_2018_CvH_distinv_rated_hour_plus[['WhiteElo', 'BlackElo']].values]"
   ]
  },
  {
   "cell_type": "code",
   "execution_count": null,
   "id": "9970838c",
   "metadata": {
    "ExecuteTime": {
     "end_time": "2022-11-02T00:05:40.133676Z",
     "start_time": "2022-11-02T00:05:40.118637Z"
    },
    "hidden": true
   },
   "outputs": [],
   "source": [
    "def get_abs_elo_diff(df):\n",
    "    '''\n",
    "    Pass in a df with BlackElo and WhiteElo and get back the absolute value of elo difference\n",
    "    '''\n",
    "    \n",
    "    df['abs_elo_diff']=[abs(row[0]-row[1]) for row in df[['WhiteElo', 'BlackElo']].values]\n",
    "    \n",
    "    return df"
   ]
  },
  {
   "cell_type": "code",
   "execution_count": null,
   "id": "6f3454a7",
   "metadata": {
    "ExecuteTime": {
     "end_time": "2022-11-02T00:05:40.308177Z",
     "start_time": "2022-11-02T00:05:40.293165Z"
    },
    "hidden": true
   },
   "outputs": [],
   "source": [
    "def get_rel_elo_diff(df):\n",
    "    '''\n",
    "    Pass in a df with BlackElo and WhiteElo and get back the relative value of elo difference\n",
    "        A positive number means that WhiteElo>BlackElo\n",
    "    '''\n",
    "    \n",
    "    df['abs_elo_diff']=[row[0]-row[1] for row in df[['WhiteElo', 'BlackElo']].values]\n",
    "    \n",
    "    return df"
   ]
  },
  {
   "cell_type": "code",
   "execution_count": null,
   "id": "b65382b7",
   "metadata": {
    "ExecuteTime": {
     "end_time": "2022-11-02T00:05:40.133676Z",
     "start_time": "2022-11-02T00:05:40.118637Z"
    },
    "code_folding": [
     0
    ],
    "hidden": true
   },
   "outputs": [],
   "source": [
    "# def get_abs_elo_diff(df):\n",
    "#     '''\n",
    "#     Pass in a df with BlackElo and WhiteElo and get back the absolute value of elo difference\n",
    "#     '''\n",
    "    \n",
    "#     df['abs_elo_diff']=[abs(row[0]-row[1]) for row in df[['WhiteElo', 'BlackElo']].values]\n",
    "    \n",
    "#     return df\n",
    "\n",
    "\n",
    "# def get_rel_elo_diff(df):\n",
    "#     '''\n",
    "#     Pass in a df with BlackElo and WhiteElo and get back the relative value of elo difference\n",
    "#         A positive number means that WhiteElo>BlackElo\n",
    "#     '''\n",
    "    \n",
    "#     df['abs_elo_diff']=[row[0]-row[1] for row in df[['WhiteElo', 'BlackElo']].values]\n",
    "    \n",
    "#     return df"
   ]
  },
  {
   "cell_type": "code",
   "execution_count": null,
   "id": "42b59edf",
   "metadata": {
    "ExecuteTime": {
     "end_time": "2022-11-02T00:06:23.699189Z",
     "start_time": "2022-11-02T00:06:23.664183Z"
    },
    "hidden": true
   },
   "outputs": [],
   "source": [
    "df_2022_2018_CvH_distinv_rated_hour_plus = get_abs_elo_diff(df_2022_2018_CvH_distinv_rated_hour_plus)"
   ]
  },
  {
   "cell_type": "code",
   "execution_count": null,
   "id": "328638dc",
   "metadata": {
    "ExecuteTime": {
     "end_time": "2022-11-02T00:06:35.718151Z",
     "start_time": "2022-11-02T00:06:35.691152Z"
    },
    "hidden": true
   },
   "outputs": [],
   "source": [
    "df_2022_2018_CvH_distinv_rated_hour_plus.head(2)"
   ]
  },
  {
   "cell_type": "code",
   "execution_count": null,
   "id": "b8e27b2c",
   "metadata": {
    "ExecuteTime": {
     "end_time": "2022-11-02T00:09:15.372193Z",
     "start_time": "2022-11-02T00:09:15.363201Z"
    },
    "hidden": true
   },
   "outputs": [],
   "source": [
    "av_CvH_rated_hour_plus_elo_diff = np.mean(df_2022_2018_CvH_distinv_rated_hour_plus.abs_elo_diff)\n",
    "av_CvH_rated_hour_plus_elo_diff # 166.84308048639258"
   ]
  },
  {
   "cell_type": "code",
   "execution_count": null,
   "id": "fc8a283f",
   "metadata": {
    "ExecuteTime": {
     "end_time": "2022-11-02T16:58:05.340587Z",
     "start_time": "2022-11-02T16:58:05.312568Z"
    },
    "hidden": true
   },
   "outputs": [],
   "source": [
    "CvH_elo_diff = df_2022_2018_CvH_distinv_rated_hour_plus.abs_elo_diff.describe().to_frame().rename(\n",
    "    columns={'abs_elo_diff': 'rated_hour_plus_CvH_abs_elo_diff'}\n",
    ")\n",
    "\n",
    "CvH_elo_diff\n",
    "\n",
    "# count    3454.000000\n",
    "# mean      166.843080\n",
    "# std        97.244919\n",
    "# min         0.000000\n",
    "# 25%        91.000000\n",
    "# 50%       175.000000\n",
    "# 75%       231.000000\n",
    "# max      1254.000000"
   ]
  },
  {
   "cell_type": "markdown",
   "id": "9409ab9c",
   "metadata": {
    "hidden": true
   },
   "source": [
    "-----"
   ]
  },
  {
   "cell_type": "markdown",
   "id": "59b38d2a",
   "metadata": {
    "hidden": true
   },
   "source": [
    "A quick comparison with the titled HvH games that are rated and at least an hour long:"
   ]
  },
  {
   "cell_type": "code",
   "execution_count": null,
   "id": "d4fa678b",
   "metadata": {
    "ExecuteTime": {
     "end_time": "2022-11-02T00:43:06.971253Z",
     "start_time": "2022-11-02T00:43:05.122191Z"
    },
    "hidden": true
   },
   "outputs": [],
   "source": [
    "df_2021_2017_titled_distinv = joblib.load(\n",
    "    './data/preprocessed/2021_2017_titled_distinv.pkl')"
   ]
  },
  {
   "cell_type": "code",
   "execution_count": null,
   "id": "bc986e8a",
   "metadata": {
    "ExecuteTime": {
     "end_time": "2022-11-02T00:43:20.632544Z",
     "start_time": "2022-11-02T00:43:20.559486Z"
    },
    "hidden": true
   },
   "outputs": [],
   "source": [
    "df_2021_2017_titled_distinv = hp.drop_no_move_games(df_2021_2017_titled_distinv)"
   ]
  },
  {
   "cell_type": "code",
   "execution_count": null,
   "id": "58199ecf",
   "metadata": {
    "ExecuteTime": {
     "end_time": "2022-11-02T00:43:26.895321Z",
     "start_time": "2022-11-02T00:43:26.858207Z"
    },
    "hidden": true
   },
   "outputs": [],
   "source": [
    "hp.any_missing_emt(df_2021_2017_titled_distinv)"
   ]
  },
  {
   "cell_type": "code",
   "execution_count": null,
   "id": "985c5521",
   "metadata": {
    "ExecuteTime": {
     "end_time": "2022-11-02T00:43:32.424569Z",
     "start_time": "2022-11-02T00:43:32.385560Z"
    },
    "hidden": true
   },
   "outputs": [],
   "source": [
    "df_2021_2017_titled_distinv_rated = keep_rated_games(df_2021_2017_titled_distinv)\n",
    "\n",
    "df_2021_2017_titled_distinv_rated.shape # (58478, 18)"
   ]
  },
  {
   "cell_type": "code",
   "execution_count": null,
   "id": "840885e3",
   "metadata": {
    "ExecuteTime": {
     "end_time": "2022-11-02T16:11:04.813370Z",
     "start_time": "2022-11-02T16:11:04.385330Z"
    },
    "hidden": true
   },
   "outputs": [],
   "source": [
    "df_2021_2017_titled_distinv_rated = get_abs_elo_diff(df_2021_2017_titled_distinv_rated)"
   ]
  },
  {
   "cell_type": "code",
   "execution_count": null,
   "id": "5ecae312",
   "metadata": {
    "ExecuteTime": {
     "end_time": "2022-11-02T16:58:09.922089Z",
     "start_time": "2022-11-02T16:58:09.881963Z"
    },
    "hidden": true
   },
   "outputs": [],
   "source": [
    "HvH_elo_diff = df_2021_2017_titled_distinv_rated.abs_elo_diff.describe().to_frame().rename(\n",
    "    columns={'abs_elo_diff': 'rated_HvH_abs_elo_df'}\n",
    ")\n",
    "\n",
    "HvH_elo_diff\n",
    "\n",
    "# count \t58478.000000\n",
    "# mean \t198.632631\n",
    "# std \t134.015483\n",
    "# min \t0.000000\n",
    "# 25% \t92.000000\n",
    "# 50% \t180.000000\n",
    "# 75% \t283.000000\n",
    "# max \t1168.000000"
   ]
  },
  {
   "cell_type": "code",
   "execution_count": null,
   "id": "8ba6430a",
   "metadata": {
    "ExecuteTime": {
     "end_time": "2022-11-02T16:49:18.670844Z",
     "start_time": "2022-11-02T16:49:18.630846Z"
    },
    "hidden": true
   },
   "outputs": [],
   "source": [
    "df_2021_2017_titled_distinv_rated.head(1)"
   ]
  },
  {
   "cell_type": "code",
   "execution_count": null,
   "id": "71d3c202",
   "metadata": {
    "ExecuteTime": {
     "end_time": "2022-11-02T16:50:37.341377Z",
     "start_time": "2022-11-02T16:50:37.025342Z"
    },
    "hidden": true
   },
   "outputs": [],
   "source": [
    "# HvH (rated)\n",
    "fig = px.histogram(\n",
    "    data_frame=df_2021_2017_titled_distinv_rated,\n",
    "    x='BlackElo',\n",
    "#     nbins=(int(df_2022_2018_C_distinv.CheaterElo.describe()['max'] - \\\n",
    "#           df_2022_2018_C_distinv.CheaterElo.describe()['min'])),\n",
    "    title='Distribution of Black ELO',\n",
    "    color='Event'\n",
    "    \n",
    "    )\n",
    "\n",
    "fig.show()\n",
    "\n",
    "# HvH (rated)\n",
    "fig = px.histogram(\n",
    "    data_frame=df_2021_2017_titled_distinv_rated,\n",
    "    x='WhiteElo',\n",
    "    nbins=(int(df_2022_2018_C_distinv.CheaterElo.describe()['max'] - \\\n",
    "          df_2022_2018_C_distinv.CheaterElo.describe()['min'])),\n",
    "    title='Distribution of White ELO',\n",
    "    color='Event'\n",
    "    \n",
    "    )\n",
    "\n",
    "fig.show()"
   ]
  },
  {
   "cell_type": "markdown",
   "id": "31e1e342",
   "metadata": {
    "hidden": true
   },
   "source": [
    "-----"
   ]
  },
  {
   "cell_type": "code",
   "execution_count": null,
   "id": "f9d9ecf2",
   "metadata": {
    "ExecuteTime": {
     "end_time": "2022-11-02T16:58:50.441094Z",
     "start_time": "2022-11-02T16:58:50.429141Z"
    },
    "hidden": true
   },
   "outputs": [],
   "source": [
    "pd.concat([\n",
    "    CvH_elo_diff, HvH_elo_diff], axis=1)"
   ]
  },
  {
   "cell_type": "markdown",
   "id": "de21a1c0",
   "metadata": {
    "hidden": true
   },
   "source": [
    "-----"
   ]
  },
  {
   "cell_type": "code",
   "execution_count": null,
   "id": "427af4da",
   "metadata": {
    "ExecuteTime": {
     "end_time": "2022-11-02T00:44:26.171521Z",
     "start_time": "2022-11-02T00:44:26.156549Z"
    },
    "hidden": true
   },
   "outputs": [],
   "source": [
    "df_2021_2017_titled_distinv_rated.TimeControl_Base.unique()"
   ]
  },
  {
   "cell_type": "code",
   "execution_count": null,
   "id": "00d58104",
   "metadata": {
    "ExecuteTime": {
     "end_time": "2022-11-02T00:49:40.193567Z",
     "start_time": "2022-11-02T00:49:40.181568Z"
    },
    "hidden": true
   },
   "outputs": [],
   "source": [
    "df_2021_2017_titled_distinv_rated_hour_plus = keep_time_length_games_greater_than(\n",
    "    df_2021_2017_titled_distinv_rated, 600)\n",
    "df_2021_2017_titled_distinv_rated_hour_plus.shape \n",
    "\n",
    "# 3600 - (0, 18)\n",
    "# 2700 - (52, 18)\n",
    "# 1800 - (52, 18)\n",
    "# 900 - (61, 18)\n",
    "# 600 - (71, 18)\n",
    "# 360 - (73, 18)\n",
    "# 180 - (55160, 18)"
   ]
  },
  {
   "cell_type": "code",
   "execution_count": null,
   "id": "8984fb34",
   "metadata": {
    "hidden": true
   },
   "outputs": [],
   "source": []
  },
  {
   "cell_type": "code",
   "execution_count": null,
   "id": "43df5859",
   "metadata": {
    "ExecuteTime": {
     "end_time": "2022-11-02T00:19:53.145486Z",
     "start_time": "2022-11-02T00:19:53.135478Z"
    },
    "hidden": true
   },
   "outputs": [],
   "source": [
    "def keep_rated_games(df):\n",
    "    df = df[[' rated' in x for x in df.Event]]\n",
    "    \n",
    "    return df"
   ]
  },
  {
   "cell_type": "code",
   "execution_count": null,
   "id": "f67dc9bc",
   "metadata": {
    "ExecuteTime": {
     "end_time": "2022-11-02T00:33:03.680943Z",
     "start_time": "2022-11-02T00:33:03.676942Z"
    },
    "hidden": true
   },
   "outputs": [],
   "source": [
    "def keep_time_length_games_greater_than(df, time_control_base_minimum=3600):\n",
    "    df = df[df['TimeControl_Base']>=time_control_base_minimum]\n",
    "    \n",
    "    return df"
   ]
  },
  {
   "cell_type": "code",
   "execution_count": null,
   "id": "c13ce4bc",
   "metadata": {
    "ExecuteTime": {
     "end_time": "2022-11-02T00:26:48.723844Z",
     "start_time": "2022-11-02T00:26:48.715867Z"
    },
    "code_folding": [
     0
    ],
    "hidden": true
   },
   "outputs": [],
   "source": [
    "# def keep_rated_games(df):\n",
    "#     df = df[[' rated' in x for x in df.Event]]\n",
    "    \n",
    "#     return df\n",
    "\n",
    "\n",
    "# def keep_time_length_games_greater_than(df, time_control_base_minimum):\n",
    "#     df = df[df['TimeControl_Base']>=time_control_base_minimum]\n",
    "    \n",
    "#     return df"
   ]
  },
  {
   "cell_type": "markdown",
   "id": "8fad4690",
   "metadata": {
    "hidden": true
   },
   "source": [
    "-----"
   ]
  },
  {
   "cell_type": "code",
   "execution_count": null,
   "id": "f2802655",
   "metadata": {
    "hidden": true
   },
   "outputs": [],
   "source": []
  },
  {
   "cell_type": "code",
   "execution_count": null,
   "id": "d83a905a",
   "metadata": {
    "hidden": true
   },
   "outputs": [],
   "source": []
  },
  {
   "cell_type": "code",
   "execution_count": null,
   "id": "58591b1d",
   "metadata": {
    "hidden": true
   },
   "outputs": [],
   "source": []
  },
  {
   "cell_type": "markdown",
   "id": "3f3bad14",
   "metadata": {
    "hidden": true
   },
   "source": [
    "------"
   ]
  },
  {
   "cell_type": "markdown",
   "id": "22637f7a",
   "metadata": {
    "heading_collapsed": true,
    "hidden": true
   },
   "source": [
    "### Looking at Titled HvH games"
   ]
  },
  {
   "cell_type": "markdown",
   "id": "3584b63d",
   "metadata": {
    "hidden": true
   },
   "source": [
    "#### Create / Load DataFrame"
   ]
  },
  {
   "cell_type": "code",
   "execution_count": null,
   "id": "8b0d78be",
   "metadata": {
    "ExecuteTime": {
     "end_time": "2022-10-26T21:52:30.830210Z",
     "start_time": "2022-10-26T21:52:26.078046Z"
    },
    "hidden": true
   },
   "outputs": [],
   "source": [
    "# df_2021_2018_HvH = joblib.load('./data/preprocessed/2021_2017_titled.pkl')\n",
    "\n",
    "# df_2021_2018_HvH.head(1)"
   ]
  },
  {
   "cell_type": "markdown",
   "id": "4e68200f",
   "metadata": {
    "hidden": true
   },
   "source": [
    "This pickle does not contain the player names. I may as well go back and use a df which does contain names to see if there are any additional relationships. "
   ]
  },
  {
   "cell_type": "code",
   "execution_count": null,
   "id": "f2b89df7",
   "metadata": {
    "ExecuteTime": {
     "end_time": "2022-10-26T21:52:30.894205Z",
     "start_time": "2022-10-26T21:52:30.879204Z"
    },
    "hidden": true
   },
   "outputs": [],
   "source": [
    "# # on Muninn\n",
    "# raw_p = [pd.read_json(\n",
    "#     f'C:/Users/Emanuel/Desktop/data/capstone/raw/json/Titled/ficsgamesdb_{year}_titled_movetimes_26{val}.json') \\\n",
    "#                    for year, val in zip(np.arange(2021, 2016, -1), [4827, 5091, 5092, 5093, 5094])]"
   ]
  },
  {
   "cell_type": "code",
   "execution_count": null,
   "id": "6205238f",
   "metadata": {
    "ExecuteTime": {
     "end_time": "2022-10-26T21:52:30.910204Z",
     "start_time": "2022-10-26T21:52:30.896204Z"
    },
    "hidden": true
   },
   "outputs": [],
   "source": [
    "# # raw_p[0].head(1)\n",
    "# raw_p[0].columns"
   ]
  },
  {
   "cell_type": "code",
   "execution_count": null,
   "id": "fded398c",
   "metadata": {
    "ExecuteTime": {
     "end_time": "2022-10-26T21:52:30.926204Z",
     "start_time": "2022-10-26T21:52:30.912204Z"
    },
    "hidden": true
   },
   "outputs": [],
   "source": [
    "# df_2021_2017_HvH_raw = hp.concatenate_cleaned_pickles(\n",
    "#     raw_p, list_of_cols=['Event', 'Site', 'Round', 'BlackClock',\n",
    "#                          'FICSGamesDBGameNo', 'Time', 'WhiteClock'])\n",
    "\n",
    "# # All PlyCount values match the length of moves-list\n",
    "# # Shape pre-drop: (88017, 17)\n",
    "# # Dropping duplicates...\n",
    "# # Shape post-drop: (87982, 17)\n",
    "# #  Duplicates dropped: 35"
   ]
  },
  {
   "cell_type": "code",
   "execution_count": null,
   "id": "d42275c4",
   "metadata": {
    "ExecuteTime": {
     "end_time": "2022-10-26T21:52:30.942204Z",
     "start_time": "2022-10-26T21:52:30.928204Z"
    },
    "hidden": true
   },
   "outputs": [],
   "source": [
    "# joblib.dump(df_2021_2017_HvH_raw,\n",
    "#            'C:/Users/Emanuel/Desktop/data/capstone/preprocessed/2021_2017_titled_distinv.pkl',\n",
    "#            compress=9)"
   ]
  },
  {
   "cell_type": "code",
   "execution_count": null,
   "id": "b0cae74a",
   "metadata": {
    "ExecuteTime": {
     "end_time": "2022-11-02T00:43:06.971253Z",
     "start_time": "2022-11-02T00:43:05.122191Z"
    },
    "hidden": true
   },
   "outputs": [],
   "source": [
    "df_2021_2017_titled_distinv = joblib.load(\n",
    "    './data/preprocessed/2021_2017_titled_distinv.pkl')"
   ]
  },
  {
   "cell_type": "code",
   "execution_count": null,
   "id": "11984a1a",
   "metadata": {
    "ExecuteTime": {
     "end_time": "2022-11-02T17:42:41.665075Z",
     "start_time": "2022-11-02T17:42:41.029050Z"
    },
    "hidden": true
   },
   "outputs": [],
   "source": [
    "df_2021_2017_titled_distinv = hp.drop_no_move_games(df_2021_2017_titled_distinv)"
   ]
  },
  {
   "cell_type": "code",
   "execution_count": null,
   "id": "b2623bf8",
   "metadata": {
    "ExecuteTime": {
     "end_time": "2022-11-02T17:42:42.944889Z",
     "start_time": "2022-11-02T17:42:41.985075Z"
    },
    "hidden": true
   },
   "outputs": [],
   "source": [
    "hp.any_missing_emt(df_2021_2017_titled_distinv)"
   ]
  },
  {
   "cell_type": "code",
   "execution_count": null,
   "id": "a734c366",
   "metadata": {
    "ExecuteTime": {
     "end_time": "2022-11-02T17:42:43.300912Z",
     "start_time": "2022-11-02T17:42:43.272918Z"
    },
    "hidden": true
   },
   "outputs": [],
   "source": [
    "df_2021_2017_titled_distinv.head(1)"
   ]
  },
  {
   "cell_type": "markdown",
   "id": "41c509f0",
   "metadata": {
    "hidden": true
   },
   "source": [
    "#### Elo distribution for all games (rated and unrated)"
   ]
  },
  {
   "cell_type": "code",
   "execution_count": null,
   "id": "e78d3266",
   "metadata": {
    "ExecuteTime": {
     "end_time": "2022-11-02T17:42:44.909079Z",
     "start_time": "2022-11-02T17:42:44.889082Z"
    },
    "hidden": true
   },
   "outputs": [],
   "source": [
    "# show distribution for all games, rated, and unrated games"
   ]
  },
  {
   "cell_type": "code",
   "execution_count": null,
   "id": "c42c9206",
   "metadata": {
    "ExecuteTime": {
     "end_time": "2022-11-02T17:42:45.672976Z",
     "start_time": "2022-11-02T17:42:45.581014Z"
    },
    "hidden": true
   },
   "outputs": [],
   "source": [
    "BlackElo_=df_2021_2017_titled_distinv[['Event', 'Date', 'BlackElo', 'BlackRD']].rename(columns={\n",
    "    'BlackElo': 'Elo',\n",
    "    'BlackRD': 'RD'})\n",
    "WhiteElo_=df_2021_2017_titled_distinv[['Event', 'Date', 'WhiteElo', 'WhiteRD']].rename(columns={\n",
    "    'WhiteElo': 'Elo',\n",
    "    'WhiteRD': 'RD'})\n",
    "\n",
    "Titled_Elos = pd.concat([BlackElo_, WhiteElo_]).reset_index()\n",
    "\n",
    "Titled_Elos.head()"
   ]
  },
  {
   "cell_type": "code",
   "execution_count": null,
   "id": "4c6143b2",
   "metadata": {
    "ExecuteTime": {
     "end_time": "2022-11-02T17:42:46.421154Z",
     "start_time": "2022-11-02T17:42:46.385095Z"
    },
    "hidden": true
   },
   "outputs": [],
   "source": [
    "Titled_Elos.Elo.describe().to_frame()"
   ]
  },
  {
   "cell_type": "code",
   "execution_count": null,
   "id": "3b00ad33",
   "metadata": {
    "ExecuteTime": {
     "end_time": "2022-11-02T21:44:17.495151Z",
     "start_time": "2022-11-02T21:44:17.425118Z"
    },
    "hidden": true
   },
   "outputs": [],
   "source": [
    "Titled_Elos[[' rated' in event for event in Titled_Elos.Event]].Elo.describe().to_frame()"
   ]
  },
  {
   "cell_type": "code",
   "execution_count": null,
   "id": "7aa23dac",
   "metadata": {
    "ExecuteTime": {
     "end_time": "2022-11-02T21:44:37.218816Z",
     "start_time": "2022-11-02T21:44:37.160834Z"
    },
    "hidden": true
   },
   "outputs": [],
   "source": [
    "Titled_Elos[['unrated' in event for event in Titled_Elos.Event]].Elo.describe().to_frame()"
   ]
  },
  {
   "cell_type": "code",
   "execution_count": null,
   "id": "be7369a2",
   "metadata": {
    "ExecuteTime": {
     "end_time": "2022-11-02T17:42:47.513431Z",
     "start_time": "2022-11-02T17:42:47.265475Z"
    },
    "hidden": true
   },
   "outputs": [],
   "source": [
    "# fig = px.histogram(\n",
    "#     data_frame=Titled_Elos,\n",
    "#     x='Elo',\n",
    "#     nbins=(int(Titled_Elos.Elo.describe()['max'] - \\\n",
    "#           Titled_Elos.Elo.describe()['min'])),\n",
    "#     title='Distribution of Titled PLayer ELO'\n",
    "    \n",
    "#     )\n",
    "\n",
    "# fig.show()\n",
    "\n",
    "fig = px.histogram(\n",
    "    data_frame=Titled_Elos,\n",
    "    x='Elo',\n",
    "#     nbins=(int(Titled_Elos.Elo.describe()['max'] - \\\n",
    "#           Titled_Elos.Elo.describe()['min'])),\n",
    "    title='Distribution of Titled PLayer ELO'\n",
    "    \n",
    "    )\n",
    "\n",
    "fig.show()"
   ]
  },
  {
   "cell_type": "code",
   "execution_count": null,
   "id": "425c792b",
   "metadata": {
    "hidden": true
   },
   "outputs": [],
   "source": []
  },
  {
   "cell_type": "code",
   "execution_count": null,
   "id": "e37895ce",
   "metadata": {
    "ExecuteTime": {
     "end_time": "2022-11-02T17:33:09.566757Z",
     "start_time": "2022-11-02T17:33:09.270687Z"
    },
    "hidden": true
   },
   "outputs": [],
   "source": [
    "fig = px.histogram(\n",
    "    data_frame=Titled_Elos[[' rated' in event for event in Titled_Elos.Event]],\n",
    "    x='Elo',\n",
    "#     nbins=(int(Titled_Elos.Elo.describe()['max'] - \\\n",
    "#           Titled_Elos.Elo.describe()['min'])),\n",
    "    title='Distribution of Titled PLayer ELO in Rated Games'\n",
    "    \n",
    "    )\n",
    "\n",
    "fig.show()\n",
    "\n",
    "fig = px.histogram(\n",
    "    data_frame=Titled_Elos[['unrated' in event for event in Titled_Elos.Event]],\n",
    "    x='Elo',\n",
    "#     nbins=(int(Titled_Elos.Elo.describe()['max'] - \\\n",
    "#           Titled_Elos.Elo.describe()['min'])),\n",
    "    title='Distribution of Titled PLayer ELO in Unrated Games'\n",
    "    \n",
    "    )\n",
    "\n",
    "fig.show()"
   ]
  },
  {
   "cell_type": "code",
   "execution_count": null,
   "id": "9c03a230",
   "metadata": {
    "hidden": true
   },
   "outputs": [],
   "source": []
  },
  {
   "cell_type": "markdown",
   "id": "4144ffcd",
   "metadata": {
    "hidden": true
   },
   "source": [
    "-----"
   ]
  },
  {
   "cell_type": "markdown",
   "id": "669ee5b9",
   "metadata": {
    "hidden": true
   },
   "source": [
    "#### Isolating rated games"
   ]
  },
  {
   "cell_type": "code",
   "execution_count": null,
   "id": "4d938f58",
   "metadata": {
    "ExecuteTime": {
     "end_time": "2022-11-02T00:43:06.971253Z",
     "start_time": "2022-11-02T00:43:05.122191Z"
    },
    "hidden": true
   },
   "outputs": [],
   "source": [
    "df_2021_2017_titled_distinv = joblib.load(\n",
    "    './data/preprocessed/2021_2017_titled_distinv.pkl')"
   ]
  },
  {
   "cell_type": "code",
   "execution_count": null,
   "id": "3b2577e4",
   "metadata": {
    "ExecuteTime": {
     "end_time": "2022-11-02T17:42:41.665075Z",
     "start_time": "2022-11-02T17:42:41.029050Z"
    },
    "hidden": true
   },
   "outputs": [],
   "source": [
    "df_2021_2017_titled_distinv = hp.drop_no_move_games(df_2021_2017_titled_distinv)"
   ]
  },
  {
   "cell_type": "code",
   "execution_count": null,
   "id": "79301a35",
   "metadata": {
    "ExecuteTime": {
     "end_time": "2022-11-02T17:42:42.944889Z",
     "start_time": "2022-11-02T17:42:41.985075Z"
    },
    "hidden": true
   },
   "outputs": [],
   "source": [
    "hp.any_missing_emt(df_2021_2017_titled_distinv)"
   ]
  },
  {
   "cell_type": "code",
   "execution_count": null,
   "id": "e567b437",
   "metadata": {
    "ExecuteTime": {
     "end_time": "2022-11-02T00:43:32.424569Z",
     "start_time": "2022-11-02T00:43:32.385560Z"
    },
    "hidden": true
   },
   "outputs": [],
   "source": [
    "df_2021_2017_titled_distinv_rated = keep_rated_games(df_2021_2017_titled_distinv)\n",
    "\n",
    "df_2021_2017_titled_distinv_rated.shape # (58478, 18)"
   ]
  },
  {
   "cell_type": "code",
   "execution_count": null,
   "id": "15607a47",
   "metadata": {
    "ExecuteTime": {
     "end_time": "2022-11-02T16:11:04.813370Z",
     "start_time": "2022-11-02T16:11:04.385330Z"
    },
    "hidden": true
   },
   "outputs": [],
   "source": [
    "df_2021_2017_titled_distinv_rated = get_abs_elo_diff(df_2021_2017_titled_distinv_rated)"
   ]
  },
  {
   "cell_type": "code",
   "execution_count": null,
   "id": "e05fbf88",
   "metadata": {
    "ExecuteTime": {
     "end_time": "2022-11-02T16:58:09.922089Z",
     "start_time": "2022-11-02T16:58:09.881963Z"
    },
    "hidden": true
   },
   "outputs": [],
   "source": [
    "HvH_elo_diff = df_2021_2017_titled_distinv_rated.abs_elo_diff.describe().to_frame().rename(\n",
    "    columns={'abs_elo_diff': 'rated_HvH_abs_elo_df'}\n",
    ")\n",
    "\n",
    "HvH_elo_diff\n",
    "\n",
    "# count \t58478.000000\n",
    "# mean \t198.632631\n",
    "# std \t134.015483\n",
    "# min \t0.000000\n",
    "# 25% \t92.000000\n",
    "# 50% \t180.000000\n",
    "# 75% \t283.000000\n",
    "# max \t1168.000000"
   ]
  },
  {
   "cell_type": "code",
   "execution_count": null,
   "id": "f4c16151",
   "metadata": {
    "hidden": true
   },
   "outputs": [],
   "source": []
  },
  {
   "cell_type": "markdown",
   "id": "74be5a01",
   "metadata": {
    "hidden": true
   },
   "source": [
    "----"
   ]
  },
  {
   "cell_type": "markdown",
   "id": "38d43ad6",
   "metadata": {
    "heading_collapsed": true
   },
   "source": [
    "## Checking PlyCount Matches Length of moves"
   ]
  },
  {
   "cell_type": "code",
   "execution_count": null,
   "id": "6290d814",
   "metadata": {
    "hidden": true
   },
   "outputs": [],
   "source": [
    "# Using df_2022_2018_CvH_distinv for now:"
   ]
  },
  {
   "cell_type": "code",
   "execution_count": null,
   "id": "02347bab",
   "metadata": {
    "ExecuteTime": {
     "end_time": "2022-10-24T15:20:51.530108Z",
     "start_time": "2022-10-24T15:20:40.012445Z"
    },
    "hidden": true
   },
   "outputs": [],
   "source": [
    "df_2022_2018_CvH_distinv = joblib.load(\n",
    "    './data/preprocessed/2022_2018_CvH_distinv.pkl')"
   ]
  },
  {
   "cell_type": "code",
   "execution_count": null,
   "id": "aa67d8bc",
   "metadata": {
    "ExecuteTime": {
     "end_time": "2022-10-24T15:21:09.028162Z",
     "start_time": "2022-10-24T15:21:08.985161Z"
    },
    "hidden": true
   },
   "outputs": [],
   "source": [
    "df_2022_2018_CvH_distinv.head(1)"
   ]
  },
  {
   "cell_type": "code",
   "execution_count": null,
   "id": "f7b9b32a",
   "metadata": {
    "ExecuteTime": {
     "end_time": "2022-10-24T15:45:04.093324Z",
     "start_time": "2022-10-24T15:45:04.073351Z"
    },
    "hidden": true
   },
   "outputs": [],
   "source": [
    "type(df_2022_2018_CvH_distinv.iloc[0].moves) # list !!!\n",
    "# len(df_2022_2018_CvH_distinv.iloc[0].moves)"
   ]
  },
  {
   "cell_type": "code",
   "execution_count": null,
   "id": "95611b46",
   "metadata": {
    "ExecuteTime": {
     "end_time": "2022-10-24T16:37:51.109518Z",
     "start_time": "2022-10-24T16:37:51.019435Z"
    },
    "hidden": true
   },
   "outputs": [],
   "source": [
    "# list comprehension to check for each row\n",
    "\n",
    "# fastest method found in testing\n",
    "\n",
    "ply_movelen_check_list = all(\n",
    "    [len(row[0])==row[1] for row in zip(\n",
    "        df_2022_2018_CvH_distinv.moves, df_2022_2018_CvH_distinv.PlyCount)])\n",
    "ply_movelen_check_list"
   ]
  },
  {
   "cell_type": "markdown",
   "id": "2cb5f203",
   "metadata": {
    "hidden": true
   },
   "source": [
    "----"
   ]
  },
  {
   "cell_type": "markdown",
   "id": "e78f7c0d",
   "metadata": {
    "heading_collapsed": true
   },
   "source": [
    "## Extracting emt"
   ]
  },
  {
   "cell_type": "code",
   "execution_count": null,
   "id": "f9215491",
   "metadata": {
    "ExecuteTime": {
     "end_time": "2022-10-30T17:05:45.671885Z",
     "start_time": "2022-10-30T17:05:45.653886Z"
    },
    "hidden": true
   },
   "outputs": [],
   "source": [
    "df_2021_2017_titled_distinv.head(1)"
   ]
  },
  {
   "cell_type": "code",
   "execution_count": null,
   "id": "6e245744",
   "metadata": {
    "ExecuteTime": {
     "end_time": "2022-10-30T23:01:29.078510Z",
     "start_time": "2022-10-30T23:01:29.059463Z"
    },
    "hidden": true
   },
   "outputs": [],
   "source": [
    "sample_emt = df_2021_2017_titled_distinv.emt.sample(20)"
   ]
  },
  {
   "cell_type": "code",
   "execution_count": null,
   "id": "12659fe0",
   "metadata": {
    "ExecuteTime": {
     "end_time": "2022-10-30T23:01:32.911015Z",
     "start_time": "2022-10-30T23:01:32.907022Z"
    },
    "hidden": true
   },
   "outputs": [],
   "source": [
    "# type(sample_emt) # series"
   ]
  },
  {
   "cell_type": "code",
   "execution_count": null,
   "id": "65c9154d",
   "metadata": {
    "ExecuteTime": {
     "end_time": "2022-10-30T21:55:28.934906Z",
     "start_time": "2022-10-30T21:55:28.925928Z"
    },
    "hidden": true
   },
   "outputs": [],
   "source": [
    "# sample_emt.shape # (20,)"
   ]
  },
  {
   "cell_type": "code",
   "execution_count": null,
   "id": "fad18f54",
   "metadata": {
    "ExecuteTime": {
     "end_time": "2022-10-30T21:55:28.996536Z",
     "start_time": "2022-10-30T21:55:28.990568Z"
    },
    "hidden": true
   },
   "outputs": [],
   "source": [
    "# sample_emt.iloc[0][0:]"
   ]
  },
  {
   "cell_type": "code",
   "execution_count": null,
   "id": "933df862",
   "metadata": {
    "ExecuteTime": {
     "end_time": "2022-10-30T21:56:59.139732Z",
     "start_time": "2022-10-30T21:56:59.131732Z"
    },
    "hidden": true
   },
   "outputs": [],
   "source": [
    "# tm = re.search('[0-9]+\\.[0-9]+', sample_emt.iloc[0][0])\n",
    "# display(tm.)\n",
    "# display(tm.group())\n",
    "# display(float(tm.group()))"
   ]
  },
  {
   "cell_type": "code",
   "execution_count": null,
   "id": "08fe604f",
   "metadata": {
    "ExecuteTime": {
     "end_time": "2022-10-30T19:44:54.479569Z",
     "start_time": "2022-10-30T19:44:54.474602Z"
    },
    "hidden": true
   },
   "outputs": [],
   "source": [
    "# [float(re.search('[0-9]+\\.[0-9]+', time_).group()) for time_ in sample_emt.iloc[0]]"
   ]
  },
  {
   "cell_type": "code",
   "execution_count": null,
   "id": "0c3c51bb",
   "metadata": {
    "ExecuteTime": {
     "end_time": "2022-10-30T19:42:34.061790Z",
     "start_time": "2022-10-30T19:42:34.052775Z"
    },
    "hidden": true
   },
   "outputs": [],
   "source": [
    "# def extract_emt_elements(game):\n",
    "#     times_ = [float(re.search('[0-9]+\\.[0-9]+', time_).group()) for time_ in game]\n",
    "#     return times_\n",
    "\n",
    "# def extract_all_emt_elements(series_of_games):\n",
    "#     times_ = [extract_emt_elements(game_) for game_ in series_of_games]\n",
    "#     return times_"
   ]
  },
  {
   "cell_type": "code",
   "execution_count": null,
   "id": "7179b155",
   "metadata": {
    "ExecuteTime": {
     "end_time": "2022-10-30T21:56:18.125912Z",
     "start_time": "2022-10-30T21:56:18.117914Z"
    },
    "hidden": true
   },
   "outputs": [],
   "source": [
    "# extract_emt_elements(sample_emt.iloc[0]);\n",
    "# extract_emt_elements(sample_emt.iloc[0])==\\\n",
    "# [float(re.search('[0-9]+\\.[0-9]+', time_).group()) for time_ in sample_emt.iloc[0]] # True"
   ]
  },
  {
   "cell_type": "code",
   "execution_count": null,
   "id": "392471f5",
   "metadata": {
    "ExecuteTime": {
     "end_time": "2022-10-30T21:56:18.281510Z",
     "start_time": "2022-10-30T21:56:18.272514Z"
    },
    "hidden": true
   },
   "outputs": [],
   "source": [
    "# [type(val) for val in sample_emt]\n",
    "# [extract_emt_elements(val) for val in sample_emt]==extract_all_emt_elements(sample_emt) # True"
   ]
  },
  {
   "cell_type": "code",
   "execution_count": null,
   "id": "dcde009e",
   "metadata": {
    "ExecuteTime": {
     "end_time": "2022-10-30T23:08:16.765769Z",
     "start_time": "2022-10-30T23:08:16.754738Z"
    },
    "hidden": true
   },
   "outputs": [],
   "source": [
    "# extract_all_emt_elements(df_2021_2017_titled_distinv.emt) # works"
   ]
  },
  {
   "cell_type": "code",
   "execution_count": null,
   "id": "fa24354b",
   "metadata": {
    "hidden": true
   },
   "outputs": [],
   "source": []
  },
  {
   "cell_type": "code",
   "execution_count": null,
   "id": "a56e7f25",
   "metadata": {
    "ExecuteTime": {
     "end_time": "2022-10-30T23:32:58.395889Z",
     "start_time": "2022-10-30T23:32:58.347890Z"
    },
    "hidden": true
   },
   "outputs": [],
   "source": [
    "games_missing_moves_and_emt = df_2021_2017_titled_distinv[[row==[] for row in df_2021_2017_titled_distinv.emt]]\n",
    "games_missing_moves_and_emt.head(2)"
   ]
  },
  {
   "cell_type": "code",
   "execution_count": null,
   "id": "73a81b18",
   "metadata": {
    "ExecuteTime": {
     "end_time": "2022-10-30T23:32:00.408464Z",
     "start_time": "2022-10-30T23:32:00.394459Z"
    },
    "hidden": true
   },
   "outputs": [],
   "source": [
    "# get_evaluations(games_missing_moves_and_emt.iloc[0].moves) # []"
   ]
  },
  {
   "cell_type": "code",
   "execution_count": null,
   "id": "c025efb4",
   "metadata": {
    "ExecuteTime": {
     "end_time": "2022-10-30T23:32:18.527429Z",
     "start_time": "2022-10-30T23:32:18.523471Z"
    },
    "hidden": true
   },
   "outputs": [],
   "source": [
    "# get_all_evaluations(games_missing_moves_and_emt.iloc[0:3]) # [[], [], []]"
   ]
  },
  {
   "cell_type": "code",
   "execution_count": null,
   "id": "9fdbafee",
   "metadata": {
    "hidden": true
   },
   "outputs": [],
   "source": []
  },
  {
   "cell_type": "code",
   "execution_count": null,
   "id": "3e20e909",
   "metadata": {
    "ExecuteTime": {
     "end_time": "2022-10-31T00:30:56.680552Z",
     "start_time": "2022-10-31T00:30:56.666483Z"
    },
    "hidden": true
   },
   "outputs": [],
   "source": [
    "extract_all_emt_elements(games_missing_moves_and_emt.iloc[0:3].emt) # [[], [], []]"
   ]
  },
  {
   "cell_type": "code",
   "execution_count": null,
   "id": "c3390ee3",
   "metadata": {
    "ExecuteTime": {
     "end_time": "2022-10-31T00:31:45.076495Z",
     "start_time": "2022-10-31T00:31:45.059491Z"
    },
    "hidden": true
   },
   "outputs": [],
   "source": [
    "extract_emt_elements(games_missing_moves_and_emt.iloc[0].emt)"
   ]
  },
  {
   "cell_type": "code",
   "execution_count": null,
   "id": "e394e7fc",
   "metadata": {
    "ExecuteTime": {
     "end_time": "2022-10-31T00:34:19.094476Z",
     "start_time": "2022-10-31T00:34:19.079512Z"
    },
    "hidden": true
   },
   "outputs": [],
   "source": [
    "how_games_ended(games_missing_moves_and_emt.iloc[0:3].emt) # "
   ]
  },
  {
   "cell_type": "code",
   "execution_count": null,
   "id": "7e92348c",
   "metadata": {
    "hidden": true
   },
   "outputs": [],
   "source": []
  },
  {
   "cell_type": "code",
   "execution_count": null,
   "id": "9bf652a6",
   "metadata": {
    "ExecuteTime": {
     "end_time": "2022-10-31T00:37:17.334240Z",
     "start_time": "2022-10-31T00:37:17.331183Z"
    },
    "hidden": true
   },
   "outputs": [],
   "source": [
    "# remove games where no moves were played !"
   ]
  },
  {
   "cell_type": "code",
   "execution_count": null,
   "id": "75b6511e",
   "metadata": {
    "ExecuteTime": {
     "end_time": "2022-10-31T00:49:44.484148Z",
     "start_time": "2022-10-31T00:49:44.473100Z"
    },
    "hidden": true
   },
   "outputs": [],
   "source": [
    "# df_2021_2017_titled_distinv[[df_2021_2017_titled_distinv.moves!=[]]]\n",
    "# df_2021_2017_titled_distinv[[val_!=[] for val_ in df_2021_2017_titled_distinv.moves]].reset_index(drop=True)"
   ]
  },
  {
   "cell_type": "code",
   "execution_count": null,
   "id": "de176709",
   "metadata": {
    "ExecuteTime": {
     "end_time": "2022-10-31T00:58:20.934694Z",
     "start_time": "2022-10-31T00:58:20.925767Z"
    },
    "hidden": true
   },
   "outputs": [],
   "source": [
    "def drop_no_move_games(df):\n",
    "    if any([val_==[] for val_ in df.moves]):\n",
    "        print(f'Some games have no moves \\nDropping those games...')\n",
    "        temp_ = df[[val_!=[] for val_ in df.moves]].reset_index(drop=True)\n",
    "        return temp_\n",
    "    else:\n",
    "        print('All games have moves')\n",
    "        return df"
   ]
  },
  {
   "cell_type": "code",
   "execution_count": null,
   "id": "ada54c58",
   "metadata": {
    "ExecuteTime": {
     "end_time": "2022-10-31T00:58:31.278750Z",
     "start_time": "2022-10-31T00:58:31.209675Z"
    },
    "hidden": true
   },
   "outputs": [],
   "source": [
    "test_ = drop_no_move_games(df_2021_2017_titled_distinv)\n",
    "test_;"
   ]
  },
  {
   "cell_type": "code",
   "execution_count": null,
   "id": "18d9e698",
   "metadata": {
    "ExecuteTime": {
     "end_time": "2022-10-31T00:52:06.873214Z",
     "start_time": "2022-10-31T00:52:06.701396Z"
    },
    "hidden": true
   },
   "outputs": [],
   "source": [
    "how_games_ended(test_.emt);"
   ]
  },
  {
   "cell_type": "code",
   "execution_count": null,
   "id": "c89ecd18",
   "metadata": {
    "hidden": true
   },
   "outputs": [],
   "source": []
  },
  {
   "cell_type": "code",
   "execution_count": null,
   "id": "1702c394",
   "metadata": {
    "ExecuteTime": {
     "end_time": "2022-10-31T00:52:08.368098Z",
     "start_time": "2022-10-31T00:52:08.353064Z"
    },
    "hidden": true
   },
   "outputs": [],
   "source": [
    "def how_games_ended_confirmed_moves_and_emt(series_of_games_emts):\n",
    "#     series_of_games_emts = [game_ if game_!=[] else ['none'] for game_ in series_of_games_emts]\n",
    "#     endings_ = [re.search('[a-zA-Z]{5}.[a-zA-Z]+.[a-zA-Z]*.[a-zA-Z]*', game_[-1]).group() for game_ in series_of_games_emts]\n",
    "#     endings_ = [re.search('(Black|White).[a-zA-Z]+.[a-zA-Z]*.[a-zA-Z]*', game_[-1]).group() for game_ in series_of_games_emts]\n",
    "    endings_ = [re.search('(Black|White).[a-zA-Z]+.[a-zA-Z]*.[a-zA-Z]*', game_[-1]).group() for game_ in series_of_games_emts]\n",
    "    \n",
    "    return endings_"
   ]
  },
  {
   "cell_type": "code",
   "execution_count": null,
   "id": "d443c4f8",
   "metadata": {
    "ExecuteTime": {
     "end_time": "2022-10-31T01:01:25.849121Z",
     "start_time": "2022-10-31T01:01:25.681636Z"
    },
    "hidden": true
   },
   "outputs": [],
   "source": [
    "how_games_ended_confirmed_moves(test_.emt);"
   ]
  },
  {
   "cell_type": "code",
   "execution_count": null,
   "id": "1292f404",
   "metadata": {
    "ExecuteTime": {
     "end_time": "2022-10-31T00:55:10.992335Z",
     "start_time": "2022-10-31T00:55:10.984345Z"
    },
    "hidden": true
   },
   "outputs": [],
   "source": [
    "def any_missing_emt(df):\n",
    "    if any([val_==[] for val_ in df.emt]):\n",
    "        return(print('Some games missing emt values...'))\n",
    "    else:\n",
    "        return(print('No games missing emt values'))"
   ]
  },
  {
   "cell_type": "code",
   "execution_count": null,
   "id": "6c0324f1",
   "metadata": {
    "ExecuteTime": {
     "end_time": "2022-10-31T00:55:18.743468Z",
     "start_time": "2022-10-31T00:55:18.706485Z"
    },
    "hidden": true
   },
   "outputs": [],
   "source": [
    "any_missing_emt(test_)"
   ]
  },
  {
   "cell_type": "markdown",
   "id": "317a8314",
   "metadata": {
    "hidden": true
   },
   "source": [
    "-----"
   ]
  },
  {
   "cell_type": "markdown",
   "id": "58f1876d",
   "metadata": {
    "heading_collapsed": true
   },
   "source": [
    "## Finding how the game ended"
   ]
  },
  {
   "cell_type": "code",
   "execution_count": null,
   "id": "585de76e",
   "metadata": {
    "ExecuteTime": {
     "end_time": "2022-10-30T18:16:44.896341Z",
     "start_time": "2022-10-30T18:16:44.879292Z"
    },
    "hidden": true
   },
   "outputs": [],
   "source": [
    "sample_emt.iloc[0][-1]"
   ]
  },
  {
   "cell_type": "code",
   "execution_count": null,
   "id": "0eae011b",
   "metadata": {
    "ExecuteTime": {
     "end_time": "2022-10-30T23:37:01.561379Z",
     "start_time": "2022-10-30T23:37:01.553403Z"
    },
    "hidden": true
   },
   "outputs": [],
   "source": [
    "sample_emt.iloc[0][0:2]"
   ]
  },
  {
   "cell_type": "code",
   "execution_count": null,
   "id": "66fbff4b",
   "metadata": {
    "ExecuteTime": {
     "end_time": "2022-10-30T23:50:22.987202Z",
     "start_time": "2022-10-30T23:50:22.978205Z"
    },
    "hidden": true
   },
   "outputs": [],
   "source": [
    "sample_emt.iloc[0][-1]"
   ]
  },
  {
   "cell_type": "code",
   "execution_count": null,
   "id": "76d114dc",
   "metadata": {
    "hidden": true
   },
   "outputs": [],
   "source": []
  },
  {
   "cell_type": "code",
   "execution_count": null,
   "id": "c399c1e8",
   "metadata": {
    "ExecuteTime": {
     "end_time": "2022-10-31T00:35:05.084556Z",
     "start_time": "2022-10-31T00:35:05.079583Z"
    },
    "hidden": true
   },
   "outputs": [],
   "source": [
    "def how_games_ended(series_of_games_emts):\n",
    "#     series_of_games_emts = [game_ if game_!=[] else ['none'] for game_ in series_of_games_emts]\n",
    "#     endings_ = [re.search('[a-zA-Z]{5}.[a-zA-Z]+.[a-zA-Z]*.[a-zA-Z]*', game_[-1]).group() for game_ in series_of_games_emts]\n",
    "#     endings_ = [re.search('(Black|White).[a-zA-Z]+.[a-zA-Z]*.[a-zA-Z]*', game_[-1]).group() for game_ in series_of_games_emts]\n",
    "    endings_ = [re.search('(Black|White).[a-zA-Z]+.[a-zA-Z]*.[a-zA-Z]*', game_[-1]).group() if game_!=[] else [] for game_ in series_of_games_emts]\n",
    "    \n",
    "    return endings_"
   ]
  },
  {
   "cell_type": "code",
   "execution_count": null,
   "id": "8a463776",
   "metadata": {
    "ExecuteTime": {
     "end_time": "2022-10-31T00:42:23.373440Z",
     "start_time": "2022-10-31T00:42:23.358486Z"
    },
    "hidden": true
   },
   "outputs": [],
   "source": [
    "# # display(test_)\n",
    "# display(test_[0])\n",
    "# display(test_[0][-1])"
   ]
  },
  {
   "cell_type": "code",
   "execution_count": null,
   "id": "1a982ec1",
   "metadata": {
    "ExecuteTime": {
     "end_time": "2022-10-31T00:43:11.103804Z",
     "start_time": "2022-10-31T00:43:10.898757Z"
    },
    "hidden": true
   },
   "outputs": [],
   "source": [
    "test_ = df_2021_2017_titled_distinv.copy()\n",
    "test_['endings'] = how_games_ended(test_.emt)\n",
    "test_.head(2)"
   ]
  },
  {
   "cell_type": "code",
   "execution_count": null,
   "id": "2b50c8d8",
   "metadata": {
    "hidden": true
   },
   "outputs": [],
   "source": []
  },
  {
   "cell_type": "code",
   "execution_count": null,
   "id": "cdcb2383",
   "metadata": {
    "ExecuteTime": {
     "end_time": "2022-10-30T23:52:34.400118Z",
     "start_time": "2022-10-30T23:52:21.143617Z"
    },
    "hidden": true
   },
   "outputs": [],
   "source": [
    "allemt = extract_all_emt_elements(df_2021_2017_titled_distinv.emt)"
   ]
  },
  {
   "cell_type": "code",
   "execution_count": null,
   "id": "0c6cbe5d",
   "metadata": {
    "ExecuteTime": {
     "end_time": "2022-10-30T23:53:05.186418Z",
     "start_time": "2022-10-30T23:53:05.097417Z"
    },
    "hidden": true
   },
   "outputs": [],
   "source": [
    "df_ = df_2021_2017_titled_distinv.copy()\n",
    "df_['emt_val'] = allemt"
   ]
  },
  {
   "cell_type": "code",
   "execution_count": null,
   "id": "d094ef3d",
   "metadata": {
    "ExecuteTime": {
     "end_time": "2022-10-30T23:54:19.983914Z",
     "start_time": "2022-10-30T23:54:19.942933Z"
    },
    "hidden": true
   },
   "outputs": [],
   "source": [
    "df_[[val_==[] for val_ in df_.emt_val]].head(2)"
   ]
  },
  {
   "cell_type": "code",
   "execution_count": null,
   "id": "5d5d95e8",
   "metadata": {
    "hidden": true
   },
   "outputs": [],
   "source": []
  },
  {
   "cell_type": "code",
   "execution_count": null,
   "id": "71856f99",
   "metadata": {
    "hidden": true
   },
   "outputs": [],
   "source": []
  },
  {
   "cell_type": "code",
   "execution_count": null,
   "id": "281a5447",
   "metadata": {
    "hidden": true
   },
   "outputs": [],
   "source": []
  },
  {
   "cell_type": "code",
   "execution_count": null,
   "id": "e886ba68",
   "metadata": {
    "ExecuteTime": {
     "end_time": "2022-10-30T23:03:54.030400Z",
     "start_time": "2022-10-30T23:03:54.004391Z"
    },
    "hidden": true
   },
   "outputs": [],
   "source": [
    "any([row==[] for row in df_2021_2017_titled_distinv.emt])"
   ]
  },
  {
   "cell_type": "code",
   "execution_count": null,
   "id": "998b25cf",
   "metadata": {
    "ExecuteTime": {
     "end_time": "2022-10-30T23:02:54.704990Z",
     "start_time": "2022-10-30T23:02:54.687039Z"
    },
    "hidden": true
   },
   "outputs": [],
   "source": [
    "# how_game_ended(sample_emt) # works\n",
    "# how_game_ended(pd.Series(df_2021_2017_titled_distinv.emt)) # list index out of range\n",
    "\n",
    "# test_series_emt_ = df_2021_2017_titled_distinv.emt\n",
    "# how_game_ended(test_series_emt_) # list index out of range"
   ]
  },
  {
   "cell_type": "code",
   "execution_count": null,
   "id": "a41d25de",
   "metadata": {
    "hidden": true
   },
   "outputs": [],
   "source": []
  },
  {
   "cell_type": "code",
   "execution_count": null,
   "id": "d8075abd",
   "metadata": {
    "hidden": true
   },
   "outputs": [],
   "source": []
  },
  {
   "cell_type": "markdown",
   "id": "1657c734",
   "metadata": {
    "hidden": true
   },
   "source": [
    "----"
   ]
  },
  {
   "cell_type": "markdown",
   "id": "e2c549ca",
   "metadata": {
    "heading_collapsed": true
   },
   "source": [
    "## How many rated games between 1600-2857 rating"
   ]
  },
  {
   "cell_type": "markdown",
   "id": "a7aabbb9",
   "metadata": {
    "heading_collapsed": true,
    "hidden": true
   },
   "source": [
    "### CvH"
   ]
  },
  {
   "cell_type": "code",
   "execution_count": null,
   "id": "ce75fa4b",
   "metadata": {
    "ExecuteTime": {
     "end_time": "2022-11-03T20:32:53.001185Z",
     "start_time": "2022-11-03T20:32:46.028358Z"
    },
    "hidden": true
   },
   "outputs": [],
   "source": [
    "# # on vostro laptop\n",
    "# raw_p = [joblib.load(f'C:/Users/MaNiL/Desktop/data/capstone/raw/pickles/{year}_CvH.pkl') for \\\n",
    "#          year in np.arange(2022, 2017, -1)] # load the pickles from 2022 to 2018 inclusive"
   ]
  },
  {
   "cell_type": "code",
   "execution_count": null,
   "id": "bb0c1062",
   "metadata": {
    "hidden": true
   },
   "outputs": [],
   "source": [
    "# hp.drop_uneeded_cols('Event', 'Site', 'Date', 'Round',\n",
    "#                      'White', 'Black', 'BlackClock',\n",
    "#                      'FICSGamesDBGameNo', 'Time', 'WhiteClock', 'Result')"
   ]
  },
  {
   "cell_type": "code",
   "execution_count": null,
   "id": "adae5fb0",
   "metadata": {
    "ExecuteTime": {
     "end_time": "2022-11-03T20:33:01.342515Z",
     "start_time": "2022-11-03T20:32:59.775493Z"
    },
    "hidden": true,
    "scrolled": true
   },
   "outputs": [],
   "source": [
    "df_2022_2018_CvH_elolimit = hp.concatenate_cleaned_pickles(\n",
    "    raw_p, list_of_cols=['Site', 'Date', 'Round',\n",
    "                         'White', 'Black', 'BlackClock',\n",
    "                         'FICSGamesDBGameNo', 'Time', 'WhiteClock', 'Result'],\n",
    "    filtering_steps=(True, True, True))"
   ]
  },
  {
   "cell_type": "code",
   "execution_count": null,
   "id": "46631f73",
   "metadata": {
    "ExecuteTime": {
     "end_time": "2022-11-03T20:34:11.776633Z",
     "start_time": "2022-11-03T20:34:11.724566Z"
    },
    "hidden": true
   },
   "outputs": [],
   "source": [
    "df_2022_2018_CvH_elolimit_rated = hp.keep_rated_games(df_2022_2018_CvH_elolimit)"
   ]
  },
  {
   "cell_type": "code",
   "execution_count": null,
   "id": "a5d988e9",
   "metadata": {
    "ExecuteTime": {
     "end_time": "2022-11-03T20:35:48.071284Z",
     "start_time": "2022-11-03T20:35:48.054173Z"
    },
    "hidden": true
   },
   "outputs": [],
   "source": [
    "# display(df_2022_2018_CvH_elolimit.shape) # (196970, 14)\n",
    "# display(df_2022_2018_CvH_elolimit_rated.shape) # (195556, 14)"
   ]
  },
  {
   "cell_type": "code",
   "execution_count": null,
   "id": "0c1ab5bf",
   "metadata": {
    "ExecuteTime": {
     "end_time": "2022-11-03T20:36:27.086615Z",
     "start_time": "2022-11-03T20:36:27.070546Z"
    },
    "hidden": true
   },
   "outputs": [],
   "source": [
    "df_2022_2018_CvH_elolimit.head(1)"
   ]
  },
  {
   "cell_type": "code",
   "execution_count": null,
   "id": "35d8915e",
   "metadata": {
    "ExecuteTime": {
     "end_time": "2022-11-03T20:42:15.976629Z",
     "start_time": "2022-11-03T20:42:15.921650Z"
    },
    "hidden": true
   },
   "outputs": [],
   "source": [
    "df_2022_2018_CvH_elolimit_rated = df_2022_2018_CvH_elolimit_rated[\n",
    "    (df_2022_2018_CvH_elolimit_rated.WhiteElo>=1600) & (df_2022_2018_CvH_elolimit_rated.WhiteElo<=2857) &\\\n",
    "    (df_2022_2018_CvH_elolimit_rated.BlackElo>=1600) & (df_2022_2018_CvH_elolimit_rated.BlackElo<=2857)]\n",
    "df_2022_2018_CvH_elolimit_rated = df_2022_2018_CvH_elolimit_rated.reset_index(drop=True)\n",
    "display(df_2022_2018_CvH_elolimit_rated.shape) # (169763, 14)\n",
    "df_2022_2018_CvH_elolimit_rated.head(3)"
   ]
  },
  {
   "cell_type": "code",
   "execution_count": null,
   "id": "79564799",
   "metadata": {
    "ExecuteTime": {
     "end_time": "2022-11-03T20:45:03.897967Z",
     "start_time": "2022-11-03T20:45:03.863890Z"
    },
    "hidden": true
   },
   "outputs": [],
   "source": [
    "# checking the max&min elos for white and black\n",
    "\n",
    "df_2022_2018_CvH_elolimit_rated[['WhiteElo', 'BlackElo']].describe().loc[['min', 'max']]"
   ]
  },
  {
   "cell_type": "markdown",
   "id": "82b4b42b",
   "metadata": {
    "hidden": true
   },
   "source": [
    "No game has a player with an elo outside of the defined range."
   ]
  },
  {
   "cell_type": "code",
   "execution_count": null,
   "id": "c4c94247",
   "metadata": {
    "ExecuteTime": {
     "end_time": "2022-11-03T20:44:20.053542Z",
     "start_time": "2022-11-03T20:44:20.040558Z"
    },
    "hidden": true
   },
   "outputs": [],
   "source": [
    "df_2022_2018_CvH_elolimit_rated.WhiteIsComp.value_counts(normalize=True)*100"
   ]
  },
  {
   "cell_type": "code",
   "execution_count": null,
   "id": "92c43cfb",
   "metadata": {
    "hidden": true
   },
   "outputs": [],
   "source": []
  },
  {
   "cell_type": "markdown",
   "id": "0430096f",
   "metadata": {
    "hidden": true
   },
   "source": [
    "-----"
   ]
  },
  {
   "cell_type": "markdown",
   "id": "791ba025",
   "metadata": {
    "hidden": true
   },
   "source": [
    "Looking at df used for eval:"
   ]
  },
  {
   "cell_type": "code",
   "execution_count": null,
   "id": "ec4978a6",
   "metadata": {
    "ExecuteTime": {
     "end_time": "2022-11-03T20:51:59.344952Z",
     "start_time": "2022-11-03T20:51:49.033619Z"
    },
    "hidden": true
   },
   "outputs": [],
   "source": [
    "df_for_CvH_eval = joblib.load('data/preprocessed/evaluations/CvH/df_for_CvH_eval.pkl')"
   ]
  },
  {
   "cell_type": "code",
   "execution_count": null,
   "id": "87c29a69",
   "metadata": {
    "ExecuteTime": {
     "end_time": "2022-11-03T20:49:22.489564Z",
     "start_time": "2022-11-03T20:49:22.469607Z"
    },
    "hidden": true
   },
   "outputs": [],
   "source": [
    "df_for_CvH_eval.head(1)"
   ]
  },
  {
   "cell_type": "code",
   "execution_count": null,
   "id": "fb131778",
   "metadata": {
    "ExecuteTime": {
     "end_time": "2022-11-03T20:52:38.328526Z",
     "start_time": "2022-11-03T20:52:38.275492Z"
    },
    "hidden": true
   },
   "outputs": [],
   "source": [
    "df_for_CvH_eval_elolimit = df_for_CvH_eval[\n",
    "    (df_for_CvH_eval.WhiteElo>=1600) & (df_for_CvH_eval.WhiteElo<=2857) &\\\n",
    "    (df_for_CvH_eval.BlackElo>=1600) & (df_for_CvH_eval.BlackElo<=2857)]\n",
    "# df_2022_2018_CvH_elolimit = df_for_CvH_eval.reset_index(drop=True)\n",
    "display(df_for_CvH_eval.shape) # (195570, 19)\n",
    "df_for_CvH_eval.head(3)"
   ]
  },
  {
   "cell_type": "code",
   "execution_count": null,
   "id": "c31d91f4",
   "metadata": {
    "ExecuteTime": {
     "end_time": "2022-11-03T20:53:43.403033Z",
     "start_time": "2022-11-03T20:53:43.340056Z"
    },
    "hidden": true
   },
   "outputs": [],
   "source": [
    "df_for_CvH_eval_elolimit_rated = hp.keep_rated_games(df_for_CvH_eval_elolimit)\n",
    "df_for_CvH_eval_elolimit_rated.shape # (169773, 19)"
   ]
  },
  {
   "cell_type": "code",
   "execution_count": null,
   "id": "8b4bd232",
   "metadata": {
    "hidden": true
   },
   "outputs": [],
   "source": []
  },
  {
   "cell_type": "markdown",
   "id": "e8eadb5d",
   "metadata": {
    "hidden": true
   },
   "source": [
    "-----"
   ]
  },
  {
   "cell_type": "markdown",
   "id": "8cd44cb1",
   "metadata": {
    "heading_collapsed": true,
    "hidden": true
   },
   "source": [
    "### Titled (HvH)"
   ]
  },
  {
   "cell_type": "code",
   "execution_count": null,
   "id": "f5b1ad5d",
   "metadata": {
    "ExecuteTime": {
     "end_time": "2022-11-03T20:56:01.757542Z",
     "start_time": "2022-11-03T20:55:59.630875Z"
    },
    "hidden": true
   },
   "outputs": [],
   "source": [
    "df_for_titled_eval = joblib.load('data/preprocessed/evaluations/titled/2021_2017_titled_distinv_allmoves.pkl')"
   ]
  },
  {
   "cell_type": "code",
   "execution_count": null,
   "id": "8b085a92",
   "metadata": {
    "ExecuteTime": {
     "end_time": "2022-11-03T20:59:37.078458Z",
     "start_time": "2022-11-03T20:59:37.052393Z"
    },
    "hidden": true
   },
   "outputs": [],
   "source": [
    "df_for_titled_eval_rated = hp.keep_rated_games(df_for_titled_eval)\n",
    "df_for_titled_eval_rated.shape # (58478, 18)"
   ]
  },
  {
   "cell_type": "code",
   "execution_count": null,
   "id": "54484bbf",
   "metadata": {
    "ExecuteTime": {
     "end_time": "2022-11-03T20:59:49.348931Z",
     "start_time": "2022-11-03T20:59:49.316922Z"
    },
    "hidden": true
   },
   "outputs": [],
   "source": [
    "df_for_titled_eval_elolimit_rated = df_for_titled_eval_rated[\n",
    "    (df_for_titled_eval_rated.WhiteElo>=1600) & (df_for_titled_eval_rated.WhiteElo<=2857) &\\\n",
    "    (df_for_titled_eval_rated.BlackElo>=1600) & (df_for_titled_eval_rated.BlackElo<=2857)]\n",
    "# df_2022_2018_CvH_elolimit = df_for_CvH_eval.reset_index(drop=True)\n",
    "display(df_for_titled_eval_elolimit_rated.shape) # (54451, 18)\n",
    "df_for_titled_eval_elolimit_rated.head(2)"
   ]
  },
  {
   "cell_type": "code",
   "execution_count": null,
   "id": "a6fda368",
   "metadata": {
    "ExecuteTime": {
     "end_time": "2022-11-03T21:01:19.710304Z",
     "start_time": "2022-11-03T21:01:19.634239Z"
    },
    "hidden": true
   },
   "outputs": [],
   "source": [
    "hp.drop_duplicates(df_for_titled_eval_elolimit_rated.drop(columns=['Date'])).head(2) # there are no duplicates"
   ]
  },
  {
   "cell_type": "code",
   "execution_count": null,
   "id": "643f2138",
   "metadata": {
    "ExecuteTime": {
     "end_time": "2022-11-03T23:05:36.808781Z",
     "start_time": "2022-11-03T23:05:36.795858Z"
    },
    "hidden": true
   },
   "outputs": [],
   "source": [
    "# df_for_titled_eval_elolimit_rated.iloc[9000:9003]"
   ]
  },
  {
   "cell_type": "code",
   "execution_count": null,
   "id": "0260c29d",
   "metadata": {
    "ExecuteTime": {
     "end_time": "2022-11-03T23:05:37.182126Z",
     "start_time": "2022-11-03T23:05:37.171129Z"
    },
    "hidden": true
   },
   "outputs": [],
   "source": [
    "# df_for_titled_eval.iloc[9000:9003]"
   ]
  },
  {
   "cell_type": "code",
   "execution_count": null,
   "id": "5a2b987c",
   "metadata": {
    "ExecuteTime": {
     "end_time": "2022-11-03T21:05:10.079044Z",
     "start_time": "2022-11-03T21:05:10.041070Z"
    },
    "hidden": true
   },
   "outputs": [],
   "source": [
    "# checking the max&min elos for white and black\n",
    "\n",
    "df_for_titled_eval_elolimit_rated[['WhiteElo', 'BlackElo']].describe().loc[['min', 'max']]"
   ]
  },
  {
   "cell_type": "markdown",
   "id": "e0ce7d5d",
   "metadata": {
    "hidden": true
   },
   "source": [
    "All elos are within the define range."
   ]
  },
  {
   "cell_type": "markdown",
   "id": "62da102a",
   "metadata": {
    "hidden": true
   },
   "source": [
    "-----"
   ]
  },
  {
   "cell_type": "markdown",
   "id": "73926d45",
   "metadata": {
    "hidden": true
   },
   "source": [
    "### Total"
   ]
  },
  {
   "cell_type": "code",
   "execution_count": null,
   "id": "c238df39",
   "metadata": {
    "ExecuteTime": {
     "end_time": "2022-11-03T21:06:53.214921Z",
     "start_time": "2022-11-03T21:06:53.205962Z"
    },
    "hidden": true
   },
   "outputs": [],
   "source": [
    "df_for_titled_eval_elolimit_rated.shape[0] + df_for_CvH_eval_elolimit_rated.shape[0] # 224224"
   ]
  },
  {
   "cell_type": "markdown",
   "id": "ebdfa9ea",
   "metadata": {
    "hidden": true
   },
   "source": [
    "----"
   ]
  },
  {
   "cell_type": "markdown",
   "id": "fb8c1d0c",
   "metadata": {
    "heading_collapsed": true,
    "hidden": true
   },
   "source": [
    "### How many of them are in the first x-thousand?"
   ]
  },
  {
   "cell_type": "code",
   "execution_count": null,
   "id": "3289622f",
   "metadata": {
    "ExecuteTime": {
     "end_time": "2022-11-03T21:20:43.040319Z",
     "start_time": "2022-11-03T21:20:43.024319Z"
    },
    "hidden": true
   },
   "outputs": [],
   "source": [
    "# df_for_CvH_eval\n",
    "# df_for_CvH_eval_elolimit_rated"
   ]
  },
  {
   "cell_type": "code",
   "execution_count": null,
   "id": "f795af07",
   "metadata": {
    "ExecuteTime": {
     "end_time": "2022-11-03T21:29:08.183739Z",
     "start_time": "2022-11-03T21:29:08.170739Z"
    },
    "hidden": true
   },
   "outputs": [],
   "source": [
    "# which of elolimit_rated are in df_for_CvH_eval?\n",
    "\n",
    "cvheer = zip(df_for_CvH_eval_elolimit_rated.index)"
   ]
  },
  {
   "cell_type": "code",
   "execution_count": null,
   "id": "207bc57f",
   "metadata": {
    "ExecuteTime": {
     "end_time": "2022-11-03T21:29:13.980260Z",
     "start_time": "2022-11-03T21:29:13.965261Z"
    },
    "hidden": true
   },
   "outputs": [],
   "source": [
    "# next(cvheer)[0] in df_for_CvH_eval.index # True"
   ]
  },
  {
   "cell_type": "code",
   "execution_count": null,
   "id": "a36f4df5",
   "metadata": {
    "hidden": true
   },
   "outputs": [],
   "source": []
  },
  {
   "cell_type": "code",
   "execution_count": null,
   "id": "b5bca760",
   "metadata": {
    "ExecuteTime": {
     "end_time": "2022-11-03T22:47:18.397275Z",
     "start_time": "2022-11-03T22:47:18.363255Z"
    },
    "hidden": true,
    "scrolled": true
   },
   "outputs": [],
   "source": [
    "eval_so_far = df_for_CvH_eval.iloc[:16508]\n",
    "eval_so_far"
   ]
  },
  {
   "cell_type": "code",
   "execution_count": null,
   "id": "b7d0afd6",
   "metadata": {
    "ExecuteTime": {
     "end_time": "2022-11-03T22:52:14.811004Z",
     "start_time": "2022-11-03T22:52:14.788031Z"
    },
    "hidden": true
   },
   "outputs": [],
   "source": [
    "cvheer_check = [val_[0] in df_for_CvH_eval_elolimit_rated.index for val_ in zip(eval_so_far.index)]"
   ]
  },
  {
   "cell_type": "code",
   "execution_count": null,
   "id": "ab781174",
   "metadata": {
    "ExecuteTime": {
     "end_time": "2022-11-03T22:52:14.954077Z",
     "start_time": "2022-11-03T22:52:14.938070Z"
    },
    "hidden": true
   },
   "outputs": [],
   "source": [
    "eval_so_far[cvheer_check].shape # (15300, 19)"
   ]
  },
  {
   "cell_type": "markdown",
   "id": "60626e2d",
   "metadata": {
    "hidden": true
   },
   "source": [
    "~15300 evaluated CvH games are within elo range"
   ]
  },
  {
   "cell_type": "code",
   "execution_count": null,
   "id": "e74c9482",
   "metadata": {
    "hidden": true
   },
   "outputs": [],
   "source": [
    "# df_for_titled_eval\n",
    "# df_for_titled_eval_elolimit_rated"
   ]
  },
  {
   "cell_type": "code",
   "execution_count": null,
   "id": "9cede2d7",
   "metadata": {
    "ExecuteTime": {
     "end_time": "2022-11-03T22:53:12.698793Z",
     "start_time": "2022-11-03T22:53:12.688751Z"
    },
    "hidden": true
   },
   "outputs": [],
   "source": [
    "t_eval_so_far = df_for_titled_eval.iloc[:9000]"
   ]
  },
  {
   "cell_type": "code",
   "execution_count": null,
   "id": "377f5464",
   "metadata": {
    "ExecuteTime": {
     "end_time": "2022-11-03T22:53:22.207556Z",
     "start_time": "2022-11-03T22:53:22.183488Z"
    },
    "hidden": true
   },
   "outputs": [],
   "source": [
    "hvheer_check = [val_[0] in df_for_titled_eval_elolimit_rated.index for val_ in zip(t_eval_so_far.index)]"
   ]
  },
  {
   "cell_type": "code",
   "execution_count": null,
   "id": "2861c215",
   "metadata": {
    "ExecuteTime": {
     "end_time": "2022-11-03T22:53:37.227005Z",
     "start_time": "2022-11-03T22:53:37.212998Z"
    },
    "hidden": true
   },
   "outputs": [],
   "source": [
    "t_eval_so_far[hvheer_check].shape"
   ]
  },
  {
   "cell_type": "markdown",
   "id": "1eff0976",
   "metadata": {
    "hidden": true
   },
   "source": [
    "~8249 evaluated HvH games are within elo range (as of 22:55 2022/11/03)"
   ]
  },
  {
   "cell_type": "markdown",
   "id": "82ce02be",
   "metadata": {
    "hidden": true
   },
   "source": [
    "-----"
   ]
  },
  {
   "cell_type": "markdown",
   "id": "485c510f",
   "metadata": {
    "hidden": true
   },
   "source": [
    "#### Investigating"
   ]
  },
  {
   "cell_type": "code",
   "execution_count": null,
   "id": "c12f4bcf",
   "metadata": {
    "hidden": true
   },
   "outputs": [],
   "source": []
  },
  {
   "cell_type": "code",
   "execution_count": null,
   "id": "4f888a04",
   "metadata": {
    "hidden": true
   },
   "outputs": [],
   "source": []
  },
  {
   "cell_type": "code",
   "execution_count": null,
   "id": "b7c948ec",
   "metadata": {
    "hidden": true
   },
   "outputs": [],
   "source": []
  },
  {
   "cell_type": "markdown",
   "id": "81c40eca",
   "metadata": {
    "hidden": true
   },
   "source": [
    "-----"
   ]
  },
  {
   "cell_type": "markdown",
   "id": "a4770b41",
   "metadata": {},
   "source": [
    "## Removing elos and retraining (aka Third Pass Modelling)"
   ]
  },
  {
   "cell_type": "markdown",
   "id": "ff37d689",
   "metadata": {},
   "source": [
    "### CvH"
   ]
  },
  {
   "cell_type": "markdown",
   "id": "896682b9",
   "metadata": {
    "heading_collapsed": true
   },
   "source": [
    "#### Data Prep"
   ]
  },
  {
   "cell_type": "code",
   "execution_count": null,
   "id": "f9f9ec34",
   "metadata": {
    "ExecuteTime": {
     "end_time": "2022-11-05T16:05:52.473346Z",
     "start_time": "2022-11-05T16:05:47.924315Z"
    },
    "hidden": true
   },
   "outputs": [],
   "source": [
    "# on cloud\n",
    "big_df = joblib.load('./data/preprocessed/2022_2018_CvH.pkl')"
   ]
  },
  {
   "cell_type": "code",
   "execution_count": null,
   "id": "abdea6c8",
   "metadata": {
    "ExecuteTime": {
     "end_time": "2022-11-05T14:52:28.709517Z",
     "start_time": "2022-11-05T14:52:28.709517Z"
    },
    "hidden": true
   },
   "outputs": [],
   "source": [
    "X, y = hp.X_y_split_simple(big_df)\n",
    "\n",
    "y = hp.y_convert_to_ints(y)"
   ]
  },
  {
   "cell_type": "code",
   "execution_count": null,
   "id": "4e73348f",
   "metadata": {
    "ExecuteTime": {
     "end_time": "2022-11-05T14:52:28.710519Z",
     "start_time": "2022-11-05T14:52:28.710519Z"
    },
    "hidden": true
   },
   "outputs": [],
   "source": [
    "# X_ = X.drop(columns=['emt', 'moves'])\n",
    "X_ = hp.drop_emt_moves(X)"
   ]
  },
  {
   "cell_type": "code",
   "execution_count": null,
   "id": "38c0ce8c",
   "metadata": {
    "ExecuteTime": {
     "end_time": "2022-11-05T14:52:28.712525Z",
     "start_time": "2022-11-05T14:52:28.712525Z"
    },
    "hidden": true
   },
   "outputs": [],
   "source": [
    "X_train, X_test, y_train, y_test = train_test_split(X_, y, test_size=0.2, random_state=22,\n",
    "                                                                     stratify=y)"
   ]
  },
  {
   "cell_type": "code",
   "execution_count": null,
   "id": "e6a35538",
   "metadata": {
    "ExecuteTime": {
     "end_time": "2022-11-05T14:52:28.714560Z",
     "start_time": "2022-11-05T14:52:28.714560Z"
    },
    "hidden": true
   },
   "outputs": [],
   "source": [
    "y_train_, y_test_ = hp.flat_y(y_train, y_test)"
   ]
  },
  {
   "cell_type": "code",
   "execution_count": null,
   "id": "8cc6507d",
   "metadata": {
    "ExecuteTime": {
     "end_time": "2022-11-05T14:40:10.893455Z",
     "start_time": "2022-11-05T14:40:10.880338Z"
    },
    "hidden": true
   },
   "outputs": [],
   "source": [
    "# y_train_.shape # (158816,)\n",
    "# len(y_train_.shape) # 1\n",
    "# len(y_train.shape) # 2\n",
    "# type(y_train_) # np.ndarray\n",
    "# type(y_train) # pd.DataFrame"
   ]
  },
  {
   "cell_type": "code",
   "execution_count": null,
   "id": "88bc9359",
   "metadata": {
    "ExecuteTime": {
     "end_time": "2022-11-05T14:52:28.715511Z",
     "start_time": "2022-11-05T14:52:28.715511Z"
    },
    "hidden": true
   },
   "outputs": [],
   "source": [
    "X_train_, X_test_, ohe_ = hp.OHE_ECO(X_train, X_test)"
   ]
  },
  {
   "cell_type": "code",
   "execution_count": null,
   "id": "a88b0332",
   "metadata": {
    "ExecuteTime": {
     "end_time": "2022-11-05T14:52:28.717509Z",
     "start_time": "2022-11-05T14:52:28.717509Z"
    },
    "hidden": true
   },
   "outputs": [],
   "source": [
    "X_train"
   ]
  },
  {
   "cell_type": "code",
   "execution_count": null,
   "id": "ba83c3b4",
   "metadata": {
    "ExecuteTime": {
     "end_time": "2022-11-05T14:52:28.718517Z",
     "start_time": "2022-11-05T14:52:28.718517Z"
    },
    "hidden": true
   },
   "outputs": [],
   "source": [
    "X_train_.head(3)"
   ]
  },
  {
   "cell_type": "code",
   "execution_count": null,
   "id": "cf0b656f",
   "metadata": {
    "ExecuteTime": {
     "end_time": "2022-11-05T14:52:28.720511Z",
     "start_time": "2022-11-05T14:52:28.720511Z"
    },
    "code_folding": [
     0
    ],
    "hidden": true
   },
   "outputs": [],
   "source": [
    "# def stan_scale(X_train_, X_test_, list_of_cols=None):\n",
    "#     '''\n",
    "#     Will use standard scaler to fit_transform on the train and transform the test\n",
    "    \n",
    "#     Outputs X_train_scaled_, X_test_scaled and stan_scal_\n",
    "#     '''\n",
    "#     assert isinstance(list_of_cols, list), 'list_of_cols must be a list'\n",
    "#     assert list_of_cols is not None, 'list_of_cols cannot be None'\n",
    "    \n",
    "#     X_train_scaled = X_train_.copy()\n",
    "#     X_test_scaled = X_test_.copy()\n",
    "    \n",
    "#     stan_scal_ = StandardScaler()\n",
    "#     X_train_scaled[list_of_cols] = stan_scal_.fit_transform(X_train_scaled[list_of_cols])\n",
    "    \n",
    "#     X_test_scaled[list_of_cols] = stan_scal_.transform(X_test_scaled[list_of_cols])\n",
    "    \n",
    "#     return X_train_scaled, X_test_scaled, stan_scal_"
   ]
  },
  {
   "cell_type": "code",
   "execution_count": null,
   "id": "6069c106",
   "metadata": {
    "ExecuteTime": {
     "end_time": "2022-11-05T14:52:28.721513Z",
     "start_time": "2022-11-05T14:52:28.721513Z"
    },
    "code_folding": [
     0
    ],
    "hidden": true
   },
   "outputs": [],
   "source": [
    "# X_train_scaled, X_test_scaled, stan_scaler = stan_scale(X_train_, X_test_, [\n",
    "#     'BlackElo', 'BlackRD', 'PlyCount', 'WhiteElo', 'WhiteRD', 'TimeControl_Base', 'TimeControl_Inc'\n",
    "# ])"
   ]
  },
  {
   "cell_type": "code",
   "execution_count": null,
   "id": "29a39386",
   "metadata": {
    "ExecuteTime": {
     "end_time": "2022-11-05T14:52:28.723512Z",
     "start_time": "2022-11-05T14:52:28.723512Z"
    },
    "hidden": true
   },
   "outputs": [],
   "source": [
    "# X_train_.head(3)"
   ]
  },
  {
   "cell_type": "code",
   "execution_count": null,
   "id": "1b8b43c1",
   "metadata": {
    "ExecuteTime": {
     "end_time": "2022-11-05T14:52:28.724512Z",
     "start_time": "2022-11-05T14:52:28.724512Z"
    },
    "hidden": true
   },
   "outputs": [],
   "source": [
    "X_train_scaled, X_test_scaled, stan_scaler = hp.stan_scale(X_train_, X_test_, [\n",
    "    'BlackElo', 'BlackRD', 'PlyCount', 'WhiteElo', 'WhiteRD', 'TimeControl_Base', 'TimeControl_Inc'\n",
    "])"
   ]
  },
  {
   "cell_type": "code",
   "execution_count": null,
   "id": "858a4d4b",
   "metadata": {
    "ExecuteTime": {
     "end_time": "2022-11-05T14:52:28.726510Z",
     "start_time": "2022-11-05T14:52:28.726510Z"
    },
    "hidden": true
   },
   "outputs": [],
   "source": [
    "X_train_scaled.head(3)"
   ]
  },
  {
   "cell_type": "code",
   "execution_count": null,
   "id": "454622ca",
   "metadata": {
    "ExecuteTime": {
     "end_time": "2022-11-05T14:52:28.727510Z",
     "start_time": "2022-11-05T14:52:28.727510Z"
    },
    "hidden": true
   },
   "outputs": [],
   "source": [
    "X_train_scaled=X_train_scaled.drop(columns=['BlackElo', 'WhiteElo'])\n",
    "X_test_scaled=X_test_scaled.drop(columns=['BlackElo', 'WhiteElo'])"
   ]
  },
  {
   "cell_type": "code",
   "execution_count": null,
   "id": "79a58f4b",
   "metadata": {
    "ExecuteTime": {
     "end_time": "2022-11-05T14:52:28.729504Z",
     "start_time": "2022-11-05T14:52:28.729504Z"
    },
    "hidden": true
   },
   "outputs": [],
   "source": [
    "X_train_=X_train_.drop(columns=['BlackElo', 'WhiteElo'])\n",
    "X_test_=X_test_.drop(columns=['BlackElo', 'WhiteElo'])"
   ]
  },
  {
   "cell_type": "markdown",
   "id": "1f99b759",
   "metadata": {
    "hidden": true
   },
   "source": [
    "-------"
   ]
  },
  {
   "cell_type": "markdown",
   "id": "6c064ea9",
   "metadata": {
    "heading_collapsed": true
   },
   "source": [
    "#### Logistic Regression"
   ]
  },
  {
   "cell_type": "code",
   "execution_count": null,
   "id": "55ae8421",
   "metadata": {
    "ExecuteTime": {
     "end_time": "2022-11-04T15:19:43.634860Z",
     "start_time": "2022-11-04T15:18:45.389091Z"
    },
    "hidden": true
   },
   "outputs": [],
   "source": [
    "noelo_logreg_CvH = hp.train_default_logreg_model(X_train_scaled, y_train_,\n",
    "                                                 path='./data/pickled_models/', name='noelo_CvH')"
   ]
  },
  {
   "cell_type": "code",
   "execution_count": null,
   "id": "8b3edb16",
   "metadata": {
    "hidden": true
   },
   "outputs": [],
   "source": []
  },
  {
   "cell_type": "code",
   "execution_count": null,
   "id": "910f66ff",
   "metadata": {
    "ExecuteTime": {
     "end_time": "2022-11-04T15:19:43.649867Z",
     "start_time": "2022-11-04T15:19:43.641819Z"
    },
    "hidden": true
   },
   "outputs": [],
   "source": [
    "# joblib.dump(noelo_logreg_CvH, path='./data/pickled_models/noelo_logreg_CvH.pkl', compress=9)"
   ]
  },
  {
   "cell_type": "code",
   "execution_count": null,
   "id": "cc42a3d3",
   "metadata": {
    "ExecuteTime": {
     "end_time": "2022-11-05T10:55:00.376547Z",
     "start_time": "2022-11-05T10:55:00.354564Z"
    },
    "hidden": true
   },
   "outputs": [],
   "source": [
    "noelo_logreg_CvH = joblib.load('./data/pickled_models/noelo_CvH_logreg.pkl')"
   ]
  },
  {
   "cell_type": "code",
   "execution_count": null,
   "id": "84761fcf",
   "metadata": {
    "ExecuteTime": {
     "end_time": "2022-11-04T17:06:37.893011Z",
     "start_time": "2022-11-04T17:06:37.883009Z"
    },
    "hidden": true
   },
   "outputs": [],
   "source": [
    "# X_train_scaled.head(3)"
   ]
  },
  {
   "cell_type": "code",
   "execution_count": null,
   "id": "7dbc2c34",
   "metadata": {
    "ExecuteTime": {
     "end_time": "2022-11-04T17:06:15.428515Z",
     "start_time": "2022-11-04T17:06:14.640144Z"
    },
    "hidden": true
   },
   "outputs": [],
   "source": [
    "noelo_logreg_report, noelo_logreg_results, noelo_logreg_coefficients = hp.class_model_eval_logreg(\n",
    "    noelo_logreg_CvH, X_train_scaled, X_test_scaled, y_train_, y_test_)"
   ]
  },
  {
   "cell_type": "code",
   "execution_count": null,
   "id": "5aeda689",
   "metadata": {
    "ExecuteTime": {
     "end_time": "2022-11-04T15:19:45.519054Z",
     "start_time": "2022-11-04T15:19:45.507950Z"
    },
    "code_folding": [
     0
    ],
    "hidden": true
   },
   "outputs": [],
   "source": [
    "# log_reg_coefficients = pd.DataFrame(\n",
    "#     data=abs(logreg.coef_), columns=logreg.feature_names_in_)\n",
    "\n",
    "# log_reg_coefficients.T.rename(columns={0: 'coefficient_weights'}).sort_values(\n",
    "#     by='coefficient_weights', ascending=False).head(15)"
   ]
  },
  {
   "cell_type": "code",
   "execution_count": null,
   "id": "4f9f1fdd",
   "metadata": {
    "ExecuteTime": {
     "end_time": "2022-11-04T15:19:45.534067Z",
     "start_time": "2022-11-04T15:19:45.525047Z"
    },
    "code_folding": [
     0
    ],
    "hidden": true
   },
   "outputs": [],
   "source": [
    "# def binary_logreg_ranked_coefs(logreg_model, top_n=15):\n",
    "#     '''\n",
    "#     top_n is how many top coefs to show\n",
    "    \n",
    "#     Outputs a dataframe of the top coefficients in a binary logistic regression classification\n",
    "#     '''\n",
    "#     log_reg_coefficients = pd.DataFrame(\n",
    "#         data=abs(logreg_model.coef_), columns=logreg_model.feature_names_in_)\n",
    "\n",
    "#     top_coeffs = log_reg_coefficients.T.rename(columns={0: 'coefficient_weights'}).sort_values(\n",
    "#         by='coefficient_weights', ascending=False)\n",
    "#     display(top_coeffs.head(top_n))\n",
    "    \n",
    "#     return top_coeffs"
   ]
  },
  {
   "cell_type": "code",
   "execution_count": null,
   "id": "97183098",
   "metadata": {
    "ExecuteTime": {
     "end_time": "2022-11-04T17:06:19.481410Z",
     "start_time": "2022-11-04T17:06:19.460392Z"
    },
    "hidden": true
   },
   "outputs": [],
   "source": [
    "top_coeffs = hp.binary_logreg_ranked_coefs(noelo_logreg_CvH)"
   ]
  },
  {
   "cell_type": "markdown",
   "id": "ce772bda",
   "metadata": {
    "hidden": true
   },
   "source": [
    "-------"
   ]
  },
  {
   "cell_type": "markdown",
   "id": "071b2116",
   "metadata": {
    "heading_collapsed": true
   },
   "source": [
    "#### KNN"
   ]
  },
  {
   "cell_type": "code",
   "execution_count": null,
   "id": "6f47dc30",
   "metadata": {
    "hidden": true
   },
   "outputs": [],
   "source": []
  },
  {
   "cell_type": "code",
   "execution_count": null,
   "id": "cb97f9b5",
   "metadata": {
    "ExecuteTime": {
     "end_time": "2022-11-04T15:19:45.580490Z",
     "start_time": "2022-11-04T15:19:45.569777Z"
    },
    "code_folding": [
     0
    ],
    "hidden": true
   },
   "outputs": [],
   "source": [
    "# def train_default_knn_model(X_train_scaled_, y_train_, n_jobs_=-1,\n",
    "#                                path=None, name='', suffix='_knn.pkl', compress_=9):\n",
    "#     '''\n",
    "#     Will train a knn model using default settings except for n_jobs_\n",
    "#     y_train_ must be a vector (i.e. ({any int},) array)\n",
    "#     path is the path to automatically save the model if desired\n",
    "    \n",
    "#     Outputs the model (knn)\n",
    "#     '''\n",
    "    \n",
    "#     knn = KNeighborsClassifier(n_jobs=n_jobs_)\n",
    "#     knn.fit(X_train_scaled_, y_train_)\n",
    "#     if path is not None:\n",
    "#         assert isinstance(name, str), 'path must be a string if given as argument'\n",
    "#         joblib.dump(knn, f'{path}{name}{suffix}', compress=compress_)\n",
    "#         print(f'Saved {name}{suffix} at {path}')\n",
    "#     return knn"
   ]
  },
  {
   "cell_type": "code",
   "execution_count": null,
   "id": "23da262e",
   "metadata": {
    "ExecuteTime": {
     "end_time": "2022-11-04T15:19:58.750072Z",
     "start_time": "2022-11-04T15:19:45.585421Z"
    },
    "code_folding": [],
    "hidden": true
   },
   "outputs": [],
   "source": [
    "# noelo_knn_CvH = hp.train_default_knn_model(X_train_scaled, y_train_,\n",
    "#                                           path='./data/pickled_models/', name='noelo_CvH')"
   ]
  },
  {
   "cell_type": "code",
   "execution_count": null,
   "id": "9f44030a",
   "metadata": {
    "ExecuteTime": {
     "end_time": "2022-11-04T15:59:50.313633Z",
     "start_time": "2022-11-04T15:59:48.253404Z"
    },
    "hidden": true
   },
   "outputs": [],
   "source": [
    "noelo_knn_CvH = joblib.load('./data/pickled_models/noelo_CvH_knn.pkl')"
   ]
  },
  {
   "cell_type": "code",
   "execution_count": null,
   "id": "1da9e0ed",
   "metadata": {
    "ExecuteTime": {
     "end_time": "2022-11-04T15:59:50.922400Z",
     "start_time": "2022-11-04T15:59:50.917339Z"
    },
    "hidden": true
   },
   "outputs": [],
   "source": [
    "# noelo_knn_report, noelo_knn_results = hp.class_model_eval_logreg(noelo_knn_CvH,\n",
    "#                                                                  X_train_scaled, X_test_scaled, y_train_, y_test_,\n",
    "#                                                                  has_coeffs=False)"
   ]
  },
  {
   "cell_type": "code",
   "execution_count": null,
   "id": "b083240b",
   "metadata": {
    "ExecuteTime": {
     "end_time": "2022-11-04T15:33:41.625245Z",
     "start_time": "2022-11-04T15:33:41.611244Z"
    },
    "hidden": true
   },
   "outputs": [],
   "source": [
    "# joblib.dump([noelo_knn_report, noelo_knn_results],\n",
    "#             './data/pickled_models/noelo_CvH_knn_report-results.pkl',\n",
    "#             compress=9)"
   ]
  },
  {
   "cell_type": "code",
   "execution_count": null,
   "id": "7948d0ad",
   "metadata": {
    "ExecuteTime": {
     "end_time": "2022-11-04T15:56:44.248425Z",
     "start_time": "2022-11-04T15:56:44.019303Z"
    },
    "hidden": true
   },
   "outputs": [],
   "source": [
    "# conf_mat.figure_.savefig('./data/plots/noelo_CvH_knn_conf_mat.png',dpi=300)"
   ]
  },
  {
   "cell_type": "code",
   "execution_count": null,
   "id": "dd8ac0c6",
   "metadata": {
    "ExecuteTime": {
     "end_time": "2022-11-04T16:03:40.447855Z",
     "start_time": "2022-11-04T16:03:40.434801Z"
    },
    "hidden": true
   },
   "outputs": [],
   "source": [
    "noelo_knn_report, noelo_knn_results = joblib.load('./data/pickled_models/noelo_CvH_knn_report-results.pkl')"
   ]
  },
  {
   "cell_type": "markdown",
   "id": "f5cf1c03",
   "metadata": {
    "hidden": true
   },
   "source": [
    "![title](./data/plots/noelo_CvH_knn_conf_mat.png)"
   ]
  },
  {
   "cell_type": "code",
   "execution_count": null,
   "id": "2c3804fd",
   "metadata": {
    "ExecuteTime": {
     "end_time": "2022-11-04T16:03:41.705174Z",
     "start_time": "2022-11-04T16:03:41.694204Z"
    },
    "hidden": true
   },
   "outputs": [],
   "source": [
    "print(noelo_knn_report)\n",
    "\n",
    "display(noelo_knn_results)"
   ]
  },
  {
   "cell_type": "markdown",
   "id": "c77c766a",
   "metadata": {
    "hidden": true
   },
   "source": [
    "-------"
   ]
  },
  {
   "cell_type": "markdown",
   "id": "1d2767fd",
   "metadata": {
    "heading_collapsed": true
   },
   "source": [
    "#### Decision Tree"
   ]
  },
  {
   "cell_type": "code",
   "execution_count": null,
   "id": "c6fb9a36",
   "metadata": {
    "ExecuteTime": {
     "end_time": "2022-11-04T17:03:46.450304Z",
     "start_time": "2022-11-04T17:03:46.440213Z"
    },
    "code_folding": [
     0
    ],
    "hidden": true
   },
   "outputs": [],
   "source": [
    "# def train_default_dt_model(X_train_, y_train_, max_features_='sqrt', \n",
    "#                                path=None, name='', suffix='_dt.pkl', compress_=9):\n",
    "#     '''\n",
    "#     Will train a dt model using default settings except for max_features_\n",
    "#     y_train_ must be a vector (i.e. ({any int},) array)\n",
    "#     path is the path to automatically save the model if desired\n",
    "    \n",
    "#     Outputs the model (dt)\n",
    "#     '''\n",
    "    \n",
    "#     dt = DecisionTreeClassifier(max_features=max_features_)\n",
    "#     dt.fit(X_train_, y_train_)\n",
    "#     if path is not None:\n",
    "#         assert isinstance(name, str), 'path must be a string if given as argument'\n",
    "#         joblib.dump(dt, f'{path}{name}{suffix}', compress=compress_)\n",
    "#         print(f'Saved {name}{suffix} at {path}')\n",
    "#     return dt"
   ]
  },
  {
   "cell_type": "code",
   "execution_count": null,
   "id": "02dee20f",
   "metadata": {
    "ExecuteTime": {
     "end_time": "2022-11-04T17:03:46.717235Z",
     "start_time": "2022-11-04T17:03:46.709186Z"
    },
    "hidden": true
   },
   "outputs": [],
   "source": [
    "# noelo_dt_CvH = train_default_dt_model(X_train_, y_train_,\n",
    "#                                      path='./data/pickled_models/', name='noelo_CvH')"
   ]
  },
  {
   "cell_type": "code",
   "execution_count": null,
   "id": "b0ef4de6",
   "metadata": {
    "ExecuteTime": {
     "end_time": "2022-11-04T17:03:47.109003Z",
     "start_time": "2022-11-04T17:03:47.089989Z"
    },
    "hidden": true
   },
   "outputs": [],
   "source": [
    "# noelo_dt_CvH = hp.train_default_dt_model(X_train_scaled, y_train_,\n",
    "#                                      path='./data/pickled_models/', name='noelo_CvH_scaled')"
   ]
  },
  {
   "cell_type": "code",
   "execution_count": null,
   "id": "0a84e8fa",
   "metadata": {
    "ExecuteTime": {
     "end_time": "2022-11-04T17:03:47.487884Z",
     "start_time": "2022-11-04T17:03:47.469884Z"
    },
    "hidden": true
   },
   "outputs": [],
   "source": [
    "# noelo_dt_CvH = hp.train_default_dt_model(X_train_, y_train_,\n",
    "#                                      path='./data/pickled_models/', name='noelo_CvH_unscaled')"
   ]
  },
  {
   "cell_type": "code",
   "execution_count": null,
   "id": "615fa6a2",
   "metadata": {
    "ExecuteTime": {
     "end_time": "2022-11-04T17:02:37.495180Z",
     "start_time": "2022-11-04T17:02:37.448132Z"
    },
    "hidden": true
   },
   "outputs": [],
   "source": [
    "noelo_dt_CvH = joblib.load('./data/pickled_models/noelo_CvH/noelo_CvH_scaled_dt.pkl')"
   ]
  },
  {
   "cell_type": "code",
   "execution_count": null,
   "id": "53a0e1df",
   "metadata": {
    "ExecuteTime": {
     "end_time": "2022-11-05T14:52:28.730513Z",
     "start_time": "2022-11-05T14:52:28.730513Z"
    },
    "hidden": true
   },
   "outputs": [],
   "source": [
    "noelo_dt_CvH_unscaled = joblib.load('./data/pickled_models/noelo_CvH/noelo_CvH_unscaled_dt.pkl')"
   ]
  },
  {
   "cell_type": "code",
   "execution_count": null,
   "id": "058a7fa7",
   "metadata": {
    "ExecuteTime": {
     "end_time": "2022-11-04T17:05:33.197713Z",
     "start_time": "2022-11-04T17:05:33.183557Z"
    },
    "hidden": true
   },
   "outputs": [],
   "source": [
    "# X_train_.head(2)"
   ]
  },
  {
   "cell_type": "code",
   "execution_count": null,
   "id": "aacde6da",
   "metadata": {
    "ExecuteTime": {
     "end_time": "2022-11-04T17:02:45.025065Z",
     "start_time": "2022-11-04T17:02:43.902261Z"
    },
    "hidden": true
   },
   "outputs": [],
   "source": [
    "noelo_dt_report, noelo_dt_model_results = \\\n",
    "    hp.class_model_eval_logreg(\n",
    "        noelo_dt_CvH, X_train_scaled, X_test_scaled, y_train_, y_test_, has_coeffs=False)"
   ]
  },
  {
   "cell_type": "code",
   "execution_count": null,
   "id": "5bc11cbe",
   "metadata": {
    "ExecuteTime": {
     "end_time": "2022-11-04T17:02:48.366156Z",
     "start_time": "2022-11-04T17:02:47.185687Z"
    },
    "hidden": true
   },
   "outputs": [],
   "source": [
    "noelo_dt_unscaled_report, noelo_dt_unscaled_model_results = \\\n",
    "    hp.class_model_eval_logreg(\n",
    "        noelo_dt_CvH_unscaled, X_train_, X_test_, y_train_, y_test_, has_coeffs=False)"
   ]
  },
  {
   "cell_type": "code",
   "execution_count": null,
   "id": "f18f8963",
   "metadata": {
    "hidden": true
   },
   "outputs": [],
   "source": []
  },
  {
   "cell_type": "code",
   "execution_count": null,
   "id": "bf5dc4b3",
   "metadata": {
    "ExecuteTime": {
     "end_time": "2022-11-05T14:52:28.731517Z",
     "start_time": "2022-11-05T14:52:28.731517Z"
    },
    "hidden": true
   },
   "outputs": [],
   "source": [
    "feature_df_dt = hp.tree_feature_importance(noelo_dt_CvH_unscaled, X_train_unscaled)\n",
    "feature_df_dt"
   ]
  },
  {
   "cell_type": "code",
   "execution_count": null,
   "id": "6ad2c7ff",
   "metadata": {
    "ExecuteTime": {
     "end_time": "2022-11-04T17:51:45.008873Z",
     "start_time": "2022-11-04T17:51:44.990873Z"
    },
    "hidden": true
   },
   "outputs": [],
   "source": [
    "# feature_df_dt = pd.DataFrame(\n",
    "#     {\"feature_importance\": noelo_dt_CvH_unscaled.feature_importances_},\n",
    "#     index=X_train_.columns)\n",
    "\n",
    "# feature_df_dt.sort_values(by='feature_importance', ascending=False).head(15)"
   ]
  },
  {
   "cell_type": "code",
   "execution_count": null,
   "id": "570d1143",
   "metadata": {
    "hidden": true
   },
   "outputs": [],
   "source": []
  },
  {
   "cell_type": "markdown",
   "id": "3cb56c46",
   "metadata": {
    "hidden": true
   },
   "source": [
    "-------"
   ]
  },
  {
   "cell_type": "markdown",
   "id": "7abfe4db",
   "metadata": {
    "heading_collapsed": true
   },
   "source": [
    "#### Random Forest"
   ]
  },
  {
   "cell_type": "code",
   "execution_count": null,
   "id": "616f6da2",
   "metadata": {
    "ExecuteTime": {
     "end_time": "2022-11-04T17:38:55.101068Z",
     "start_time": "2022-11-04T17:38:55.082051Z"
    },
    "code_folding": [
     0
    ],
    "hidden": true
   },
   "outputs": [],
   "source": [
    "# def train_default_rf_model(X_train_, y_train_, n_jobs_=-1,\n",
    "#                                path=None, name='', suffix='_rf.pkl', compress_=9):\n",
    "#     '''\n",
    "#     Will train a rf model using default settings except for n_jobs_\n",
    "#     y_train_ must be a vector (i.e. ({any int},) array)\n",
    "#     path is the path to automatically save the model if desired\n",
    "    \n",
    "#     Outputs the model (rf)\n",
    "#     '''\n",
    "    \n",
    "#     rf = RandomForestClassifier(n_jobs=n_jobs_)\n",
    "#     rf.fit(X_train_, y_train_)\n",
    "#     if path is not None:\n",
    "#         assert isinstance(name, str), 'path must be a string if given as argument'\n",
    "#         joblib.dump(rf, f'{path}{name}{suffix}', compress=compress_)\n",
    "#         print(f'Saved {name}{suffix} at {path}')\n",
    "#     return rf"
   ]
  },
  {
   "cell_type": "code",
   "execution_count": null,
   "id": "8630b0c1",
   "metadata": {
    "ExecuteTime": {
     "end_time": "2022-11-04T17:27:44.366225Z",
     "start_time": "2022-11-04T17:27:44.352178Z"
    },
    "hidden": true
   },
   "outputs": [],
   "source": [
    "# noelo_rf_CvH_unscaled = train_default_rf_model(X_train_, y_train_,\n",
    "#                                      path='./data/pickled_models/', name='noelo_CvH_unscaled')"
   ]
  },
  {
   "cell_type": "code",
   "execution_count": null,
   "id": "7c47b152",
   "metadata": {
    "ExecuteTime": {
     "end_time": "2022-11-04T17:21:58.056220Z",
     "start_time": "2022-11-04T17:21:58.042252Z"
    },
    "code_folding": [],
    "hidden": true
   },
   "outputs": [],
   "source": [
    "# noelo_rf_CvH = hp.train_default_rf_model(X_train_scaled, y_train_,\n",
    "#                                      path='./data/pickled_models/', name='noelo_CvH_scaled')"
   ]
  },
  {
   "cell_type": "code",
   "execution_count": null,
   "id": "ee97c237",
   "metadata": {
    "ExecuteTime": {
     "end_time": "2022-11-04T17:21:58.071221Z",
     "start_time": "2022-11-04T17:21:58.059224Z"
    },
    "code_folding": [],
    "hidden": true
   },
   "outputs": [],
   "source": [
    "# noelo_rf_CvH_unscaled = hp.train_default_rf_model(X_train_, y_train_,\n",
    "#                                      path='./data/pickled_models/', name='noelo_CvH_unscaled')"
   ]
  },
  {
   "cell_type": "code",
   "execution_count": null,
   "id": "43ddba64",
   "metadata": {
    "ExecuteTime": {
     "end_time": "2022-11-04T17:21:58.086220Z",
     "start_time": "2022-11-04T17:21:58.073221Z"
    },
    "hidden": true
   },
   "outputs": [],
   "source": [
    "# noelo_rf_CvH_scaled = joblib.load('./data/pickled_models/noelo_CvH_scaled_rf.pkl')"
   ]
  },
  {
   "cell_type": "code",
   "execution_count": null,
   "id": "14113788",
   "metadata": {
    "ExecuteTime": {
     "end_time": "2022-11-04T17:21:58.040254Z",
     "start_time": "2022-11-04T17:21:56.510251Z"
    },
    "hidden": true
   },
   "outputs": [],
   "source": [
    "noelo_rf_CvH_unscaled = joblib.load('./data/pickled_models/noelo_CvH_unscaled_rf.pkl')"
   ]
  },
  {
   "cell_type": "code",
   "execution_count": null,
   "id": "1f273cc6",
   "metadata": {
    "ExecuteTime": {
     "end_time": "2022-11-04T17:05:33.197713Z",
     "start_time": "2022-11-04T17:05:33.183557Z"
    },
    "hidden": true
   },
   "outputs": [],
   "source": [
    "# X_train_.head(2)"
   ]
  },
  {
   "cell_type": "code",
   "execution_count": null,
   "id": "79a59c6f",
   "metadata": {
    "ExecuteTime": {
     "end_time": "2022-11-04T17:25:37.191856Z",
     "start_time": "2022-11-04T17:25:21.573976Z"
    },
    "hidden": true
   },
   "outputs": [],
   "source": [
    "noelo_rf_report, noelo_rf_model_results = \\\n",
    "    hp.class_model_eval_logreg(\n",
    "        noelo_rf_CvH_unscaled, X_train_, X_test_, y_train_, y_test_, has_coeffs=False)"
   ]
  },
  {
   "cell_type": "code",
   "execution_count": null,
   "id": "b46637c3",
   "metadata": {
    "hidden": true
   },
   "outputs": [],
   "source": []
  },
  {
   "cell_type": "code",
   "execution_count": null,
   "id": "0b1a0d50",
   "metadata": {
    "ExecuteTime": {
     "end_time": "2022-11-06T21:24:21.745258Z",
     "start_time": "2022-11-06T21:24:21.735257Z"
    },
    "code_folding": [
     0
    ],
    "hidden": true
   },
   "outputs": [],
   "source": [
    "# def rf_trees_and_forest_strength(rf_model_, X_train_, X_test_, y_train_, y_test_):\n",
    "#     decision_tree_train_scores = []\n",
    "#     decision_tree_test_scores = []\n",
    "    \n",
    "#     for sub_tree in rf_model_.estimators_:\n",
    "#         decision_tree_train_scores.append(sub_tree.score(X_train_, y_train_))\n",
    "#         decision_tree_test_scores.append(sub_tree.score(X_test_, y_test))\n",
    "        \n",
    "#     av_dt_train = np.mean(decision_tree_train_scores)\n",
    "#     av_dt_test = np.mean(decision_tree_test_scores)\n",
    "    \n",
    "#     rf_train = rf_model_.score(X_train_, y_train_)\n",
    "#     rf_test = rf_model_.score(X_test_, y_test_)\n",
    "    \n",
    "    \n",
    "#     print(\"Performance on fitted data:\")\n",
    "#     print(f\"Average Decision Tree: {av_dt_train}\")\n",
    "#     print(f\"Random Forest: {rf_train}\\n\")\n",
    "    \n",
    "        \n",
    "\n",
    "#     print(\"Performance on Test data:\")\n",
    "#     print(f\"Average Decision Tree: {rf_train}\")\n",
    "#     print(f\"Random Forest: {rf_test}\")\n",
    "    \n",
    "#     return (av_dt_train, av_dt_test, rf_train, rf_test)   \n",
    "     "
   ]
  },
  {
   "cell_type": "code",
   "execution_count": null,
   "id": "86f3630e",
   "metadata": {
    "ExecuteTime": {
     "end_time": "2022-11-05T11:45:24.296187Z",
     "start_time": "2022-11-05T11:44:04.701248Z"
    },
    "hidden": true
   },
   "outputs": [],
   "source": [
    "hp.rf_trees_and_forest_strength(noelo_rf_CvH_unscaled, X_train_, X_test_, y_train_, y_test_);"
   ]
  },
  {
   "cell_type": "code",
   "execution_count": null,
   "id": "9ea4ab2e",
   "metadata": {
    "ExecuteTime": {
     "end_time": "2022-11-05T10:57:55.389330Z",
     "start_time": "2022-11-05T10:57:55.251613Z"
    },
    "hidden": true
   },
   "outputs": [],
   "source": [
    "test_feature_df_rf = hp.tree_feature_importance(noelo_rf_CvH_unscaled, X_train_)\n",
    "test_feature_df_rf"
   ]
  },
  {
   "cell_type": "markdown",
   "id": "5068b41e",
   "metadata": {
    "hidden": true
   },
   "source": [
    "-------"
   ]
  },
  {
   "cell_type": "markdown",
   "id": "2eb4c169",
   "metadata": {},
   "source": [
    "#### XGBoost"
   ]
  },
  {
   "cell_type": "code",
   "execution_count": null,
   "id": "7d6715f3",
   "metadata": {},
   "outputs": [],
   "source": []
  },
  {
   "cell_type": "code",
   "execution_count": null,
   "id": "ffb58f51",
   "metadata": {
    "ExecuteTime": {
     "end_time": "2022-11-04T17:39:51.091707Z",
     "start_time": "2022-11-04T17:39:51.081654Z"
    },
    "code_folding": [
     0
    ]
   },
   "outputs": [],
   "source": [
    "# def train_default_xgboost_model(X_train_, y_train_, n_jobs_=-1,\n",
    "#                                path=None, name='', suffix='_xgb.pkl', compress_=9):\n",
    "#     '''\n",
    "#     Will train a xgb model using default settings except j_jobs_\n",
    "#     y_train_ must be a vector (i.e. ({any int},) array)\n",
    "#     path is the path to automatically save the model if desired\n",
    "    \n",
    "#     Outputs the model (xgb)\n",
    "#     '''\n",
    "    \n",
    "#     xgb = XGBClassifier(n_jobs=n_jobs_)\n",
    "#     xgb.fit(X_train_, y_train_)\n",
    "#     if path is not None:\n",
    "#         assert isinstance(name, str), 'path must be a string if given as argument'\n",
    "#         joblib.dump(xgb, f'{path}{name}{suffix}', compress=compress_)\n",
    "#         print(f'Saved {name}{suffix} at {path}')\n",
    "#     return xgb"
   ]
  },
  {
   "cell_type": "code",
   "execution_count": null,
   "id": "d74e2a79",
   "metadata": {
    "ExecuteTime": {
     "end_time": "2022-11-04T17:47:01.514252Z",
     "start_time": "2022-11-04T17:47:01.500175Z"
    }
   },
   "outputs": [],
   "source": [
    "# noelo_xgb_CvH_unscaled = train_default_xgboost_model(X_train_, y_train_,\n",
    "#                                      path='./data/pickled_models/', name='noelo_CvH_unscaled')"
   ]
  },
  {
   "cell_type": "code",
   "execution_count": null,
   "id": "e7469c93",
   "metadata": {
    "ExecuteTime": {
     "end_time": "2022-11-04T17:47:04.595338Z",
     "start_time": "2022-11-04T17:47:04.585436Z"
    }
   },
   "outputs": [],
   "source": [
    "noelo_xgb_CvH_unscaled = joblib.load('./data/pickled_models/noelo_CvH_unscaled_xgb.pkl')"
   ]
  },
  {
   "cell_type": "code",
   "execution_count": null,
   "id": "f5b73ea7",
   "metadata": {
    "ExecuteTime": {
     "end_time": "2022-11-03T20:18:11.713518Z",
     "start_time": "2022-11-03T20:18:11.709520Z"
    }
   },
   "outputs": [],
   "source": [
    "# xgb_report, xgb_model_results = hp.class_model_eval_logreg(XGB, X_train_, X_test_, y_train_, y_test_,\n",
    "#                                                           has_coeffs=False)"
   ]
  },
  {
   "cell_type": "code",
   "execution_count": null,
   "id": "8c423c4b",
   "metadata": {
    "ExecuteTime": {
     "end_time": "2022-11-04T17:47:24.285938Z",
     "start_time": "2022-11-04T17:47:22.193847Z"
    }
   },
   "outputs": [],
   "source": [
    "noelo_xgb_report, noelo_xgb_model_results = \\\n",
    "    hp.class_model_eval_logreg(\n",
    "        noelo_xgb_CvH_unscaled, X_train_, X_test_, y_train_, y_test_, has_coeffs=False)"
   ]
  },
  {
   "cell_type": "code",
   "execution_count": null,
   "id": "f6bbe451",
   "metadata": {},
   "outputs": [],
   "source": []
  },
  {
   "cell_type": "code",
   "execution_count": null,
   "id": "b5109097",
   "metadata": {
    "ExecuteTime": {
     "end_time": "2022-11-05T10:52:05.214043Z",
     "start_time": "2022-11-05T10:52:05.202952Z"
    },
    "code_folding": [
     0
    ]
   },
   "outputs": [],
   "source": [
    "# def tree_feature_importance(class_model_, X_train_, top_n=15):\n",
    "#     '''\n",
    "#     class_model_ should be a model utilising trees\n",
    "#     X_train_ should be (un)scaled as the tree model \n",
    "#     top_n should be an int\n",
    "#     '''\n",
    "#     feature_df_tree = pd.DataFrame({\"feature_importance\": class_model_.feature_importances_}, index=X_train_.columns)\n",
    "#     feature_df_tree = feature_df_tree.sort_values(by='feature_importance', ascending=False).head(top_n)\n",
    "    \n",
    "#     return feature_df_tree\n",
    "    "
   ]
  },
  {
   "cell_type": "code",
   "execution_count": null,
   "id": "94f292aa",
   "metadata": {
    "ExecuteTime": {
     "end_time": "2022-11-05T10:54:24.082957Z",
     "start_time": "2022-11-05T10:54:24.071954Z"
    }
   },
   "outputs": [],
   "source": [
    "test_feature_df_xgb = hp.tree_feature_importance(noelo_xgb_CvH_unscaled, X_train_)\n",
    "test_feature_df_xgb"
   ]
  },
  {
   "cell_type": "code",
   "execution_count": null,
   "id": "f00530f7",
   "metadata": {},
   "outputs": [],
   "source": []
  },
  {
   "cell_type": "markdown",
   "id": "08f066b7",
   "metadata": {},
   "source": [
    "-------"
   ]
  },
  {
   "cell_type": "markdown",
   "id": "34c9b806",
   "metadata": {},
   "source": [
    "### CvH and HvH"
   ]
  },
  {
   "cell_type": "markdown",
   "id": "bf4521ac",
   "metadata": {
    "heading_collapsed": true
   },
   "source": [
    "#### Data Prep"
   ]
  },
  {
   "cell_type": "code",
   "execution_count": null,
   "id": "84a38aef",
   "metadata": {
    "ExecuteTime": {
     "end_time": "2022-11-05T16:06:15.532088Z",
     "start_time": "2022-11-05T16:06:15.422393Z"
    },
    "hidden": true
   },
   "outputs": [],
   "source": [
    "X_CvH_HvH = joblib.load('./data/preprocessed/X_CvH_HvH.pkl')\n",
    "y_CvH_HvH = joblib.load('./data/preprocessed/y_CvH_HvH.pkl')"
   ]
  },
  {
   "cell_type": "code",
   "execution_count": null,
   "id": "568e335a",
   "metadata": {
    "ExecuteTime": {
     "end_time": "2022-11-05T16:06:16.786303Z",
     "start_time": "2022-11-05T16:06:15.881867Z"
    },
    "hidden": true
   },
   "outputs": [],
   "source": [
    "X_CvH_HvH_train, X_CvH_HvH_test, y_CvH_HvH_train, y_CvH_HvH_test = train_test_split(\n",
    "    X_CvH_HvH, y_CvH_HvH, test_size=0.2, random_state=22, stratify=y_CvH_HvH)"
   ]
  },
  {
   "cell_type": "code",
   "execution_count": null,
   "id": "57516b0d",
   "metadata": {
    "ExecuteTime": {
     "end_time": "2022-11-05T16:06:16.802260Z",
     "start_time": "2022-11-05T16:06:16.788269Z"
    },
    "hidden": true
   },
   "outputs": [],
   "source": [
    "y_CvH_HvH_train_, y_CvH_HvH_test_ = hp.flat_y(y_CvH_HvH_train, y_CvH_HvH_test)"
   ]
  },
  {
   "cell_type": "code",
   "execution_count": null,
   "id": "841a707f",
   "metadata": {
    "ExecuteTime": {
     "end_time": "2022-11-05T16:06:16.817221Z",
     "start_time": "2022-11-05T16:06:16.803229Z"
    },
    "hidden": true
   },
   "outputs": [],
   "source": [
    "# ohe_CvH_HvH = OneHotEncoder(sparse=False, dtype=np.int8(), handle_unknown='ignore')"
   ]
  },
  {
   "cell_type": "code",
   "execution_count": null,
   "id": "c41f83a6",
   "metadata": {
    "ExecuteTime": {
     "end_time": "2022-11-05T16:06:17.768473Z",
     "start_time": "2022-11-05T16:06:16.948767Z"
    },
    "hidden": true
   },
   "outputs": [],
   "source": [
    "X_CvH_HvH_train_, X_CvH_HvH_test_, ohe_CvH_HvH = hp.OHE_ECO(X_CvH_HvH_train, X_CvH_HvH_test)"
   ]
  },
  {
   "cell_type": "code",
   "execution_count": null,
   "id": "4d912990",
   "metadata": {
    "ExecuteTime": {
     "end_time": "2022-11-05T16:06:17.832303Z",
     "start_time": "2022-11-05T16:06:17.770440Z"
    },
    "hidden": true
   },
   "outputs": [],
   "source": [
    "X_CvH_HvH_train_ = hp.drop_uneeded_cols(X_CvH_HvH_train_, ['BlackElo', 'WhiteElo'])\n",
    "X_CvH_HvH_test_ = hp.drop_uneeded_cols(X_CvH_HvH_test_, ['BlackElo', 'WhiteElo'])"
   ]
  },
  {
   "cell_type": "code",
   "execution_count": null,
   "id": "e1d013d9",
   "metadata": {
    "ExecuteTime": {
     "end_time": "2022-11-05T16:06:23.890659Z",
     "start_time": "2022-11-05T16:06:17.833272Z"
    },
    "hidden": true
   },
   "outputs": [],
   "source": [
    "any([any(X_CvH_HvH_train_[col].isna()) for col in X_CvH_HvH_train_.columns]) # Should be False"
   ]
  },
  {
   "cell_type": "code",
   "execution_count": null,
   "id": "6ea67e44",
   "metadata": {
    "ExecuteTime": {
     "end_time": "2022-11-05T16:06:23.906617Z",
     "start_time": "2022-11-05T16:06:23.892627Z"
    },
    "hidden": true
   },
   "outputs": [],
   "source": [
    "# X_CvH_HvH_train_.info(verbose=True)"
   ]
  },
  {
   "cell_type": "code",
   "execution_count": null,
   "id": "b682a4d6",
   "metadata": {
    "ExecuteTime": {
     "end_time": "2022-11-05T16:06:25.425885Z",
     "start_time": "2022-11-05T16:06:23.907587Z"
    },
    "hidden": true
   },
   "outputs": [],
   "source": [
    "X_CvH_HvH_train_[['BlackRD', 'WhiteRD']] = np.array([\n",
    "    [np.int8(0) if y=='na' else np.float16(y) for y in x] for x in X_CvH_HvH_train_[['BlackRD', 'WhiteRD']].values\n",
    "    ]) # 402 ms ± 2.73 ms per loop (mean ± std. dev. of 7 runs, 1 loop each)\n",
    "\n",
    "X_CvH_HvH_test_[['BlackRD', 'WhiteRD']] = np.array([\n",
    "    [np.int8(0) if y=='na' else np.float16(y) for y in x] for x in X_CvH_HvH_test_[['BlackRD', 'WhiteRD']].values\n",
    "    ]) "
   ]
  },
  {
   "cell_type": "code",
   "execution_count": null,
   "id": "d1d2a20f",
   "metadata": {
    "ExecuteTime": {
     "end_time": "2022-11-05T16:06:25.504881Z",
     "start_time": "2022-11-05T16:06:25.426884Z"
    },
    "hidden": true
   },
   "outputs": [],
   "source": [
    "display(any([type(val)!=float for val in X_CvH_HvH_train_.BlackRD])) # False\n",
    "display(any([type(val)!=float for val in X_CvH_HvH_train_.WhiteRD])) # False"
   ]
  },
  {
   "cell_type": "code",
   "execution_count": null,
   "id": "85f4f3ae",
   "metadata": {
    "ExecuteTime": {
     "end_time": "2022-11-05T16:06:25.520835Z",
     "start_time": "2022-11-05T16:06:25.506848Z"
    },
    "hidden": true
   },
   "outputs": [],
   "source": [
    "X_CvH_HvH_train_.head(2)"
   ]
  },
  {
   "cell_type": "code",
   "execution_count": null,
   "id": "2716bea5",
   "metadata": {
    "ExecuteTime": {
     "end_time": "2022-11-05T15:41:56.664956Z",
     "start_time": "2022-11-05T15:41:56.650994Z"
    },
    "code_folding": [],
    "hidden": true
   },
   "outputs": [],
   "source": [
    "### Not finished\n",
    "# def impute_RD_values(df=None, X_train=None, X_test=None):\n",
    "#     '''\n",
    "#     '''\n",
    "    "
   ]
  },
  {
   "cell_type": "code",
   "execution_count": null,
   "id": "d436df97",
   "metadata": {
    "ExecuteTime": {
     "end_time": "2022-11-05T16:06:45.873983Z",
     "start_time": "2022-11-05T16:06:45.802175Z"
    },
    "hidden": true
   },
   "outputs": [],
   "source": [
    "X_CvH_HvH_train_scaled, X_CvH_HvH_test_scaled, stan_scal_  = hp.stan_scale(X_CvH_HvH_train_,\n",
    "                                                                           X_CvH_HvH_test_,\n",
    "                                                                          ['BlackRD', 'PlyCount', 'WhiteRD',\n",
    "                                                                          'TimeControl_Base', 'TimeControl_Inc'])"
   ]
  },
  {
   "cell_type": "code",
   "execution_count": null,
   "id": "502dd1d0",
   "metadata": {
    "ExecuteTime": {
     "end_time": "2022-11-05T16:06:46.268015Z",
     "start_time": "2022-11-05T16:06:46.257046Z"
    },
    "hidden": true
   },
   "outputs": [],
   "source": [
    "X_CvH_HvH_train_scaled.shape"
   ]
  },
  {
   "cell_type": "code",
   "execution_count": null,
   "id": "25bb6238",
   "metadata": {
    "ExecuteTime": {
     "end_time": "2022-11-05T16:06:46.710210Z",
     "start_time": "2022-11-05T16:06:46.698242Z"
    },
    "hidden": true
   },
   "outputs": [],
   "source": [
    "X_CvH_HvH_test_scaled.shape"
   ]
  },
  {
   "cell_type": "markdown",
   "id": "056176e1",
   "metadata": {
    "hidden": true
   },
   "source": [
    "----"
   ]
  },
  {
   "cell_type": "markdown",
   "id": "2dbc1d3d",
   "metadata": {
    "heading_collapsed": true
   },
   "source": [
    "#### Logistic Regression"
   ]
  },
  {
   "cell_type": "code",
   "execution_count": null,
   "id": "0712da25",
   "metadata": {
    "ExecuteTime": {
     "end_time": "2022-11-05T16:08:38.082265Z",
     "start_time": "2022-11-05T16:07:07.942204Z"
    },
    "hidden": true,
    "scrolled": true
   },
   "outputs": [],
   "source": [
    "logreg_CvH_HvH_noelo = hp.train_default_logreg_model(X_CvH_HvH_train_scaled,\n",
    "                                                    y_CvH_HvH_train_,\n",
    "                                                    path='./data/pickled_models/noelo_CvH_HvH/',\n",
    "                                                    name='noelo_CvH_HvH')"
   ]
  },
  {
   "cell_type": "code",
   "execution_count": null,
   "id": "0928c8ac",
   "metadata": {
    "ExecuteTime": {
     "end_time": "2022-11-05T16:08:38.098243Z",
     "start_time": "2022-11-05T16:08:38.084252Z"
    },
    "hidden": true
   },
   "outputs": [],
   "source": [
    "logreg_CvH_HvH_noelo = joblib.load('./data/pickled_models/noelo_CvH_HvH/noelo_CvH_HvH_logreg.pkl')"
   ]
  },
  {
   "cell_type": "code",
   "execution_count": null,
   "id": "2ba8f893",
   "metadata": {
    "ExecuteTime": {
     "end_time": "2022-11-05T16:08:38.995014Z",
     "start_time": "2022-11-05T16:08:38.099211Z"
    },
    "hidden": true
   },
   "outputs": [],
   "source": [
    "noelo_logreg_CvH_HvH_report, noelo_logreg_CvH_HvH_results, noelo_logreg_CvH_HvH_coefficients =\\\n",
    "    hp.class_model_eval_logreg(\n",
    "        logreg_CvH_HvH_noelo, X_CvH_HvH_train_scaled,\n",
    "        X_CvH_HvH_test_scaled, y_CvH_HvH_train_,\n",
    "        y_CvH_HvH_test_,\n",
    "        num_class=3)"
   ]
  },
  {
   "cell_type": "code",
   "execution_count": null,
   "id": "77b889f3",
   "metadata": {
    "ExecuteTime": {
     "end_time": "2022-11-05T16:08:39.010972Z",
     "start_time": "2022-11-05T16:08:38.997010Z"
    },
    "hidden": true
   },
   "outputs": [],
   "source": [
    "# noelo_logreg_CvH_HvH_results"
   ]
  },
  {
   "cell_type": "code",
   "execution_count": null,
   "id": "1ff72695",
   "metadata": {
    "ExecuteTime": {
     "end_time": "2022-11-05T16:08:39.025932Z",
     "start_time": "2022-11-05T16:08:39.011970Z"
    },
    "hidden": true
   },
   "outputs": [],
   "source": [
    "noelo_logreg_CvH_HvH_coefficients"
   ]
  },
  {
   "cell_type": "code",
   "execution_count": null,
   "id": "7d1517de",
   "metadata": {
    "ExecuteTime": {
     "end_time": "2022-11-05T16:08:39.056850Z",
     "start_time": "2022-11-05T16:08:39.026930Z"
    },
    "hidden": true,
    "scrolled": true
   },
   "outputs": [],
   "source": [
    "for col in noelo_logreg_CvH_HvH_coefficients:\n",
    "    display(noelo_logreg_CvH_HvH_coefficients[[col]].sort_values(\n",
    "    by=col, ascending=False).head(15))"
   ]
  },
  {
   "cell_type": "code",
   "execution_count": null,
   "id": "189c43f9",
   "metadata": {
    "hidden": true
   },
   "outputs": [],
   "source": []
  },
  {
   "cell_type": "markdown",
   "id": "002e6309",
   "metadata": {
    "hidden": true
   },
   "source": [
    "-----"
   ]
  },
  {
   "cell_type": "markdown",
   "id": "9229e625",
   "metadata": {
    "heading_collapsed": true
   },
   "source": [
    "#### KNN"
   ]
  },
  {
   "cell_type": "code",
   "execution_count": null,
   "id": "c72cfecd",
   "metadata": {
    "hidden": true
   },
   "outputs": [],
   "source": []
  },
  {
   "cell_type": "code",
   "execution_count": null,
   "id": "937718d6",
   "metadata": {
    "ExecuteTime": {
     "end_time": "2022-11-05T16:32:31.558731Z",
     "start_time": "2022-11-05T16:32:31.555767Z"
    },
    "code_folding": [],
    "hidden": true
   },
   "outputs": [],
   "source": [
    "# noelo_CvH_HvH_knn = hp.train_default_knn_model(X_CvH_HvH_train_scaled,\n",
    "#                                                y_CvH_HvH_train_,\n",
    "#                                                path='./data/pickled_models/noelo_CvH_HvH/',\n",
    "#                                                name='noelo_CvH_HvH')"
   ]
  },
  {
   "cell_type": "code",
   "execution_count": null,
   "id": "1d8b2a49",
   "metadata": {
    "ExecuteTime": {
     "end_time": "2022-11-05T16:32:33.902059Z",
     "start_time": "2022-11-05T16:32:32.213954Z"
    },
    "hidden": true
   },
   "outputs": [],
   "source": [
    "noelo_CvH_HvH_knn = joblib.load('./data/pickled_models/noelo_CvH_HvH/noelo_CvH_HvH_knn.pkl')"
   ]
  },
  {
   "cell_type": "code",
   "execution_count": null,
   "id": "95f9b1bd",
   "metadata": {
    "ExecuteTime": {
     "end_time": "2022-11-05T16:32:36.488657Z",
     "start_time": "2022-11-05T16:32:36.482633Z"
    },
    "code_folding": [],
    "hidden": true
   },
   "outputs": [],
   "source": [
    "# noelo_CvH_HvH_knn_report, noelo_CvH_HvH_knn_results, conf_matr_knn = hp.class_model_eval_logreg(\n",
    "#     noelo_CvH_HvH_knn,\n",
    "#     X_CvH_HvH_train_scaled, X_CvH_HvH_test_scaled,\n",
    "#     y_CvH_HvH_train_, y_CvH_HvH_test_,\n",
    "#     has_coeffs=False,\n",
    "#     is_knn_=True,\n",
    "#     num_class=3)"
   ]
  },
  {
   "cell_type": "code",
   "execution_count": null,
   "id": "04d74570",
   "metadata": {
    "ExecuteTime": {
     "end_time": "2022-11-05T16:32:42.177095Z",
     "start_time": "2022-11-05T16:32:42.163133Z"
    },
    "code_folding": [],
    "hidden": true
   },
   "outputs": [],
   "source": [
    "# joblib.dump([noelo_CvH_HvH_knn_report, noelo_CvH_HvH_knn_results],\n",
    "#             './data/pickled_models/noelo_CvH_HvH/noelo_CvH_HvH_knn_report-results.pkl',\n",
    "#             compress=9)"
   ]
  },
  {
   "cell_type": "code",
   "execution_count": null,
   "id": "561902aa",
   "metadata": {
    "ExecuteTime": {
     "end_time": "2022-11-05T16:32:43.671149Z",
     "start_time": "2022-11-05T16:32:43.665141Z"
    },
    "hidden": true
   },
   "outputs": [],
   "source": [
    "# conf_matr_knn.figure_.savefig('./data/plots/noelo_CvH_HvH_knn_conf_mat.png',dpi=300)"
   ]
  },
  {
   "cell_type": "code",
   "execution_count": null,
   "id": "b14775e9",
   "metadata": {
    "ExecuteTime": {
     "end_time": "2022-11-05T16:32:44.271000Z",
     "start_time": "2022-11-05T16:32:44.262024Z"
    },
    "hidden": true
   },
   "outputs": [],
   "source": [
    "noelo_CvH_HvH_knn_report, noelo_CvH_HvH_knn_results = joblib.load('./data/pickled_models/noelo_CvH_HvH/noelo_CvH_HvH_knn_report-results.pkl')"
   ]
  },
  {
   "cell_type": "markdown",
   "id": "67aa82ec",
   "metadata": {
    "hidden": true
   },
   "source": [
    "<img src='./data/plots/noelo_CvH_HvH_knn_conf_mat.png' alt='alt text' />"
   ]
  },
  {
   "cell_type": "code",
   "execution_count": null,
   "id": "aa45fd21",
   "metadata": {
    "ExecuteTime": {
     "end_time": "2022-11-05T16:34:27.376816Z",
     "start_time": "2022-11-05T16:34:27.360835Z"
    },
    "hidden": true
   },
   "outputs": [],
   "source": [
    "print(noelo_CvH_HvH_knn_report)\n",
    "\n",
    "display(noelo_CvH_HvH_knn_results)"
   ]
  },
  {
   "cell_type": "code",
   "execution_count": null,
   "id": "20a990f1",
   "metadata": {
    "hidden": true
   },
   "outputs": [],
   "source": []
  },
  {
   "cell_type": "markdown",
   "id": "b9cd75e1",
   "metadata": {
    "hidden": true
   },
   "source": [
    "-----"
   ]
  },
  {
   "cell_type": "markdown",
   "id": "cc2b3a21",
   "metadata": {
    "heading_collapsed": true
   },
   "source": [
    "#### Decision Tree"
   ]
  },
  {
   "cell_type": "code",
   "execution_count": null,
   "id": "fde0458b",
   "metadata": {
    "hidden": true
   },
   "outputs": [],
   "source": []
  },
  {
   "cell_type": "code",
   "execution_count": null,
   "id": "55917fca",
   "metadata": {
    "ExecuteTime": {
     "end_time": "2022-11-05T16:10:07.620768Z",
     "start_time": "2022-11-05T16:10:03.100143Z"
    },
    "hidden": true
   },
   "outputs": [],
   "source": [
    "noelo_CvH_HvH_dt = hp.train_default_dt_model(X_CvH_HvH_train_,\n",
    "                                             y_CvH_HvH_train_,\n",
    "                                             path='./data/pickled_models/noelo_CvH_HvH/',\n",
    "                                             name='noelo_CvH_HvH')"
   ]
  },
  {
   "cell_type": "code",
   "execution_count": null,
   "id": "a11017a2",
   "metadata": {
    "ExecuteTime": {
     "end_time": "2022-11-05T16:10:07.652656Z",
     "start_time": "2022-11-05T16:10:07.621757Z"
    },
    "hidden": true
   },
   "outputs": [],
   "source": [
    "noelo_CvH_HvH_dt = joblib.load('./data/pickled_models/noelo_CvH_HvH/noelo_CvH_HvH_dt.pkl')"
   ]
  },
  {
   "cell_type": "code",
   "execution_count": null,
   "id": "19275bf2",
   "metadata": {
    "ExecuteTime": {
     "end_time": "2022-11-05T16:10:10.748112Z",
     "start_time": "2022-11-05T16:10:09.625386Z"
    },
    "hidden": true
   },
   "outputs": [],
   "source": [
    "noelo_CvH_HvH_dt_report, noelo_CvH_HvH_dt_results = hp.class_model_eval_logreg(\n",
    "    noelo_CvH_HvH_dt,\n",
    "    X_CvH_HvH_train_, X_CvH_HvH_test_,\n",
    "    y_CvH_HvH_train_, y_CvH_HvH_test_,\n",
    "    has_coeffs=False,\n",
    "    num_class=3)"
   ]
  },
  {
   "cell_type": "code",
   "execution_count": null,
   "id": "eabcbf46",
   "metadata": {
    "ExecuteTime": {
     "end_time": "2022-11-05T16:10:13.803955Z",
     "start_time": "2022-11-05T16:10:13.782014Z"
    },
    "hidden": true
   },
   "outputs": [],
   "source": [
    "hp.tree_feature_importance(noelo_CvH_HvH_dt, X_CvH_HvH_train_)"
   ]
  },
  {
   "cell_type": "code",
   "execution_count": null,
   "id": "3a389d94",
   "metadata": {
    "hidden": true
   },
   "outputs": [],
   "source": []
  },
  {
   "cell_type": "code",
   "execution_count": null,
   "id": "3220500f",
   "metadata": {
    "hidden": true
   },
   "outputs": [],
   "source": []
  },
  {
   "cell_type": "markdown",
   "id": "d7783af1",
   "metadata": {
    "hidden": true
   },
   "source": [
    "-----"
   ]
  },
  {
   "cell_type": "markdown",
   "id": "102457f1",
   "metadata": {},
   "source": [
    "#### Random Forest"
   ]
  },
  {
   "cell_type": "code",
   "execution_count": null,
   "id": "40099cce",
   "metadata": {},
   "outputs": [],
   "source": []
  },
  {
   "cell_type": "code",
   "execution_count": null,
   "id": "f13e2883",
   "metadata": {
    "ExecuteTime": {
     "end_time": "2022-11-05T16:13:47.993194Z",
     "start_time": "2022-11-05T16:10:38.192245Z"
    },
    "code_folding": []
   },
   "outputs": [],
   "source": [
    "noelo_CvH_HvH_rf = hp.train_default_rf_model(X_CvH_HvH_train_,\n",
    "                                             y_CvH_HvH_train_,\n",
    "                                             path='./data/pickled_models/noelo_CvH_HvH/',\n",
    "                                             name='noelo_CvH_HvH')"
   ]
  },
  {
   "cell_type": "code",
   "execution_count": null,
   "id": "1cfc224e",
   "metadata": {
    "ExecuteTime": {
     "end_time": "2022-11-05T16:13:49.463769Z",
     "start_time": "2022-11-05T16:13:47.994191Z"
    }
   },
   "outputs": [],
   "source": [
    "noelo_CvH_HvH_rf = joblib.load('./data/pickled_models/noelo_CvH_HvH/noelo_CvH_HvH_rf.pkl')"
   ]
  },
  {
   "cell_type": "code",
   "execution_count": null,
   "id": "34c337fe",
   "metadata": {
    "ExecuteTime": {
     "end_time": "2022-11-05T16:13:53.912231Z",
     "start_time": "2022-11-05T16:13:49.464800Z"
    }
   },
   "outputs": [],
   "source": [
    "noelo_CvH_HvH_rf_report, noelo_CvH_HvH_rf_results = hp.class_model_eval_logreg(\n",
    "    noelo_CvH_HvH_rf,\n",
    "    X_CvH_HvH_train_, X_CvH_HvH_test_,\n",
    "    y_CvH_HvH_train_, y_CvH_HvH_test_,\n",
    "    has_coeffs=False,\n",
    "    num_class=3)"
   ]
  },
  {
   "cell_type": "code",
   "execution_count": null,
   "id": "c5a1ef43",
   "metadata": {
    "ExecuteTime": {
     "end_time": "2022-11-05T16:13:53.943148Z",
     "start_time": "2022-11-05T16:13:53.914225Z"
    }
   },
   "outputs": [],
   "source": [
    "hp.tree_feature_importance(noelo_CvH_HvH_rf, X_CvH_HvH_train_)"
   ]
  },
  {
   "cell_type": "code",
   "execution_count": null,
   "id": "9f59a8a3",
   "metadata": {
    "ExecuteTime": {
     "end_time": "2022-11-05T16:13:53.959106Z",
     "start_time": "2022-11-05T16:13:53.944145Z"
    }
   },
   "outputs": [],
   "source": [
    "len(noelo_CvH_HvH_rf.estimators_) # 100"
   ]
  },
  {
   "cell_type": "code",
   "execution_count": null,
   "id": "0f78f9cb",
   "metadata": {
    "ExecuteTime": {
     "end_time": "2022-11-05T15:52:52.032343Z",
     "start_time": "2022-11-05T15:48:46.817549Z"
    }
   },
   "outputs": [],
   "source": [
    "hp.rf_trees_and_forest_strength(noelo_CvH_HvH_rf,\n",
    "                                X_CvH_HvH_train_, X_CvH_HvH_test_,\n",
    "                                y_CvH_HvH_train_, y_CvH_HvH_test_)"
   ]
  },
  {
   "cell_type": "code",
   "execution_count": null,
   "id": "0d27fc1f",
   "metadata": {},
   "outputs": [],
   "source": []
  },
  {
   "cell_type": "markdown",
   "id": "b8e2b3e3",
   "metadata": {},
   "source": [
    "-----"
   ]
  },
  {
   "cell_type": "markdown",
   "id": "b26ed601",
   "metadata": {},
   "source": [
    "#### XGBoost"
   ]
  },
  {
   "cell_type": "code",
   "execution_count": null,
   "id": "30059343",
   "metadata": {
    "ExecuteTime": {
     "end_time": "2022-11-05T16:15:25.668348Z",
     "start_time": "2022-11-05T16:13:53.960103Z"
    },
    "code_folding": []
   },
   "outputs": [],
   "source": [
    "noelo_CvH_HvH_xgb = hp.train_default_xgboost_model(X_CvH_HvH_train_,\n",
    "                                                   y_CvH_HvH_train_,\n",
    "                                                   path='./data/pickled_models/noelo_CvH_HvH/',\n",
    "                                                   name='noelo_CvH_HvH')"
   ]
  },
  {
   "cell_type": "code",
   "execution_count": null,
   "id": "910e0220",
   "metadata": {
    "ExecuteTime": {
     "end_time": "2022-11-05T16:15:25.699753Z",
     "start_time": "2022-11-05T16:15:25.669387Z"
    }
   },
   "outputs": [],
   "source": [
    "noelo_CvH_HvH_xgb = joblib.load('./data/pickled_models/noelo_CvH_HvH/noelo_CvH_HvH_xgb.pkl')"
   ]
  },
  {
   "cell_type": "code",
   "execution_count": null,
   "id": "93447a2a",
   "metadata": {
    "ExecuteTime": {
     "end_time": "2022-11-05T16:15:27.844202Z",
     "start_time": "2022-11-05T16:15:25.700751Z"
    }
   },
   "outputs": [],
   "source": [
    "noelo_CvH_HvH_xgb_report, noelo_CvH_HvH_xgb_results = hp.class_model_eval_logreg(\n",
    "    noelo_CvH_HvH_xgb,\n",
    "    X_CvH_HvH_train_, X_CvH_HvH_test_,\n",
    "    y_CvH_HvH_train_, y_CvH_HvH_test_,\n",
    "    has_coeffs=False,\n",
    "    num_class=3)"
   ]
  },
  {
   "cell_type": "code",
   "execution_count": null,
   "id": "59f29ee9",
   "metadata": {
    "ExecuteTime": {
     "end_time": "2022-11-05T16:15:27.859164Z",
     "start_time": "2022-11-05T16:15:27.845201Z"
    }
   },
   "outputs": [],
   "source": [
    "hp.tree_feature_importance(noelo_CvH_HvH_xgb, X_CvH_HvH_train_)"
   ]
  },
  {
   "cell_type": "code",
   "execution_count": null,
   "id": "2b34d55b",
   "metadata": {},
   "outputs": [],
   "source": []
  },
  {
   "cell_type": "markdown",
   "id": "a12a1b45",
   "metadata": {},
   "source": [
    "-----"
   ]
  },
  {
   "cell_type": "markdown",
   "id": "f1701f5d",
   "metadata": {
    "heading_collapsed": true
   },
   "source": [
    "## Using engine evaluations of moves"
   ]
  },
  {
   "cell_type": "markdown",
   "id": "78c17f4a",
   "metadata": {
    "heading_collapsed": true,
    "hidden": true
   },
   "source": [
    "### Getting evaluations"
   ]
  },
  {
   "cell_type": "markdown",
   "id": "1ab0d0f8",
   "metadata": {
    "heading_collapsed": true,
    "hidden": true
   },
   "source": [
    "#### Settings and functions"
   ]
  },
  {
   "cell_type": "code",
   "execution_count": null,
   "id": "6c2d7a37",
   "metadata": {
    "ExecuteTime": {
     "end_time": "2022-11-02T23:45:54.912153Z",
     "start_time": "2022-11-02T23:45:54.457902Z"
    },
    "code_folding": [
     0
    ],
    "hidden": true
   },
   "outputs": [],
   "source": [
    "# engine = chess.engine.SimpleEngine.popen_uci('./stockfish_15_win_x64_ssse/stockfish_15_x64_ssse.exe')\n",
    "\n",
    "# engine.configure({\"Hash\": 4096})\n",
    "\n",
    "# engine.configure({\"Threads\": 8})\n",
    "\n",
    "# # engine.configure({\"MultiPV\": 5})\n",
    "\n",
    "# engine.configure({\"Skill level\": 20})\n",
    "\n",
    "# engine.configure({\"Debug Log File\": \\\n",
    "#                   'C:/Users/Emanuel/Desktop/data/capstone/preprocessed/evaluations/log.txt'})\n",
    "\n",
    "# engine.configure({\"Move Overhead\": 100})\n",
    "\n",
    "# engine.configure({\"Slow Mover\": 20})\n",
    "\n",
    "# limit = chess.engine.Limit(time=0.1, depth=25)"
   ]
  },
  {
   "cell_type": "code",
   "execution_count": null,
   "id": "4c768ef0",
   "metadata": {
    "ExecuteTime": {
     "end_time": "2022-11-02T23:45:56.847777Z",
     "start_time": "2022-11-02T23:45:56.832156Z"
    },
    "code_folding": [
     0
    ],
    "hidden": true
   },
   "outputs": [],
   "source": [
    "# def evaluate_game(game):\n",
    "#     # Loop for moves in a single game\n",
    "#     evaluations_ = []\n",
    "#     board=chess.Board()\n",
    "#     for move in game:\n",
    "#         evalution_ = engine.analyse(board, limit, multipv='5')\n",
    "#         board.push_san(move)\n",
    "\n",
    "#         evaluations_.append(evalution_)\n",
    "    \n",
    "    \n",
    "#     return evaluations_"
   ]
  },
  {
   "cell_type": "code",
   "execution_count": null,
   "id": "e2836924",
   "metadata": {
    "ExecuteTime": {
     "end_time": "2022-11-01T22:05:19.712541Z",
     "start_time": "2022-11-01T22:05:19.699576Z"
    },
    "code_folding": [
     0
    ],
    "hidden": true
   },
   "outputs": [],
   "source": [
    "# def evaluate_games(df, save_rate=1000, path='./'): # risky to use function on many games in case something goes wrong\n",
    "#     list_of_evaluations = []\n",
    "#     game_count = 0\n",
    "    \n",
    "#     for game in zip(df.moves):    \n",
    "#         try:\n",
    "#             game_eval_ = evaluate_game(game[0])\n",
    "#             list_of_evaluations.append(game_eval_)\n",
    "\n",
    "#             game_count+=1\n",
    "\n",
    "#             if game_count%save_rate==0:\n",
    "#                 print(f'{game_count} games completed\\nSaving now...')\n",
    "#                 joblib.dump(list_of_evaluations, \n",
    "#                             f'{path}{game_count}_.pkl',\n",
    "#                            compress=3)\n",
    "#                 t=time.localtime()[0:6]\n",
    "#                 print(f'Saved at {t[0]}/{t[1]}/{t[2]} {t[3]}:{t[4]}:{t[5]}')\n",
    "#             elif game_count%100==0:\n",
    "#                 print(f'{game_count}')\n",
    "#                 t=time.localtime()[0:6]\n",
    "#                 print(f'At {t[0]}/{t[1]}/{t[2]} {t[3]}:{t[4]}:{t[5]}')\n",
    "#             else:\n",
    "#                 pass\n",
    "    \n",
    "#         except KeyboardInterrupt:\n",
    "#             print('Keyboard Interrupt')\n",
    "#             print(f'{game_count}')\n",
    "#             return list_of_evaluations\n",
    "# #             break\n",
    "    \n",
    "#         except:\n",
    "#             list_of_evaluations.append(['Error occured'])\n",
    "\n",
    "#             game_count+=1        \n",
    "\n",
    "#             print(f'Error occured on game {game_count}')\n",
    "        \n",
    "#     return list_of_evaluations"
   ]
  },
  {
   "cell_type": "code",
   "execution_count": null,
   "id": "79362257",
   "metadata": {
    "ExecuteTime": {
     "end_time": "2022-11-01T21:50:58.012508Z",
     "start_time": "2022-11-01T21:50:57.998516Z"
    },
    "code_folding": [
     0
    ],
    "hidden": true,
    "scrolled": true
   },
   "outputs": [],
   "source": [
    "# ## Evaluating multiple games, starting at 0, with try-except\n",
    "\n",
    "# df_=\n",
    "# list_of_evaluations = []\n",
    "# game_count = 0\n",
    "# path='C:/Users/Emanuel/Desktop/data/capstone/preprocessed/evaluations/'\n",
    "# for game in zip(df_.moves):\n",
    "#     try:\n",
    "#         game_eval_ = evaluate_game(game[0])\n",
    "#         list_of_evaluations.append(game_eval_)\n",
    "\n",
    "#         game_count+=1\n",
    "\n",
    "#         if game_count%1000==0:\n",
    "#             print(f'{game_count} games completed\\nSaving now...')\n",
    "#             joblib.dump(list_of_evaluations, \n",
    "#                         f'{path}{game_count}_.pkl',\n",
    "#                        compress=3)\n",
    "#             t=time.localtime()[0:6]\n",
    "#             print(f'Saved at {t[0]}/{t[1]}/{t[2]} {t[3]}:{t[4]}:{t[5]}')\n",
    "#         elif game_count%100==0:\n",
    "#             print(f'{game_count}')\n",
    "#             t=time.localtime()[0:6]\n",
    "#             print(f'At {t[0]}/{t[1]}/{t[2]} {t[3]}:{t[4]}:{t[5]}')\n",
    "#         else:\n",
    "#             pass\n",
    "        \n",
    "#     except KeyboardInterrupt:\n",
    "#         print('Keyboard Interrupt')\n",
    "#         print(f'{game_count}')\n",
    "#         break\n",
    "        \n",
    "#     except:\n",
    "#         list_of_evaluations.append(['Error occured'])\n",
    "                \n",
    "#         game_count+=1\n",
    "        \n",
    "#         print(f'Error occured on game {game_count}')"
   ]
  },
  {
   "cell_type": "markdown",
   "id": "b9990fe0",
   "metadata": {
    "hidden": true
   },
   "source": [
    "----"
   ]
  },
  {
   "cell_type": "markdown",
   "id": "50f7445a",
   "metadata": {
    "hidden": true
   },
   "source": [
    "Remember to check for which games have game errors in evaluation lists"
   ]
  },
  {
   "cell_type": "code",
   "execution_count": null,
   "id": "727e128c",
   "metadata": {
    "hidden": true
   },
   "outputs": [],
   "source": []
  },
  {
   "cell_type": "markdown",
   "id": "cb68c733",
   "metadata": {
    "heading_collapsed": true,
    "hidden": true
   },
   "source": [
    "#### Titled"
   ]
  },
  {
   "cell_type": "code",
   "execution_count": null,
   "id": "fd5be37e",
   "metadata": {
    "ExecuteTime": {
     "end_time": "2022-11-05T23:42:29.443587Z",
     "start_time": "2022-11-05T23:42:26.765977Z"
    },
    "hidden": true
   },
   "outputs": [],
   "source": [
    "df_for_titled_eval = joblib.load(\n",
    "    './data/preprocessed/evaluations/titled/2021_2017_titled_distinv_allmoves.pkl')"
   ]
  },
  {
   "cell_type": "code",
   "execution_count": null,
   "id": "0a045274",
   "metadata": {
    "ExecuteTime": {
     "end_time": "2022-11-05T16:51:25.211536Z",
     "start_time": "2022-11-05T16:51:25.205524Z"
    },
    "hidden": true
   },
   "outputs": [],
   "source": [
    "df_for_titled_eval.shape # (87871, 18)"
   ]
  },
  {
   "cell_type": "code",
   "execution_count": null,
   "id": "dfe5ced3",
   "metadata": {
    "ExecuteTime": {
     "end_time": "2022-11-05T16:51:34.893169Z",
     "start_time": "2022-11-05T16:51:34.865244Z"
    },
    "hidden": true
   },
   "outputs": [],
   "source": [
    "df_for_titled_eval.head(2)"
   ]
  },
  {
   "cell_type": "code",
   "execution_count": null,
   "id": "2a2086f9",
   "metadata": {
    "hidden": true
   },
   "outputs": [],
   "source": []
  },
  {
   "cell_type": "code",
   "execution_count": null,
   "id": "5f3c0ced",
   "metadata": {
    "ExecuteTime": {
     "end_time": "2022-11-05T16:57:01.422703Z",
     "start_time": "2022-11-05T16:57:01.404721Z"
    },
    "code_folding": [
     0
    ],
    "hidden": true
   },
   "outputs": [],
   "source": [
    "# load the eval lists\n",
    "\n",
    "# # 'eval list 1'\n",
    "# el1 = joblib.load('data/preprocessed/evaluations/titled/6000_.pkl')\n",
    "\n",
    "# len(el1) # 6000\n",
    "\n",
    "# type(el1) # list\n",
    "\n",
    "# joblib.dump(el1, 'data/preprocessed/evaluations/titled/6000__.pkl', compress=9)\n",
    "\n",
    "# el2 = joblib.load('data/preprocessed/evaluations/titled/9000_needs_joining.pkl')\n",
    "\n",
    "# len(el2) # 3000\n",
    "\n",
    "# type(el2) # list\n",
    "\n",
    "# el3 = joblib.load('data/preprocessed/evaluations/titled/13115_needs_joining_on_9000_HvH.pkl')\n",
    "\n",
    "# len(el3) # 4115\n",
    "\n",
    "# type(el3) # list\n",
    "\n",
    "# concatenated evaluation list for titled\n",
    "# cel_t = np.r_[el1, el2, el3]\n",
    "\n",
    "# display(len(cel_t)) # 13115\n",
    "# print(len(cel_t)==(len(el1)+len(el2)+len(el3))) # True\n",
    "# display(type(cel_t)) # np.ndarray\n",
    "\n",
    "# joblib.dump(cel_t, './data/preprocessed/evaluations/titled/concatenated_HvH_evaluations.pkl', compress=9)"
   ]
  },
  {
   "cell_type": "code",
   "execution_count": null,
   "id": "ccc8ed48",
   "metadata": {
    "ExecuteTime": {
     "end_time": "2022-11-05T23:48:14.463849Z",
     "start_time": "2022-11-05T23:44:13.835165Z"
    },
    "code_folding": [
     0
    ],
    "hidden": true
   },
   "outputs": [],
   "source": [
    "# el2 = joblib.load('data/preprocessed/evaluations/titled/9000_needs_joining.pkl')\n",
    "\n",
    "# len(el2) # 3000"
   ]
  },
  {
   "cell_type": "code",
   "execution_count": null,
   "id": "0d5cbdc3",
   "metadata": {
    "ExecuteTime": {
     "end_time": "2022-11-06T02:25:43.881088Z",
     "start_time": "2022-11-06T02:17:18.889152Z"
    },
    "hidden": true
   },
   "outputs": [],
   "source": [
    "cel_t = joblib.load('./data/preprocessed/evaluations/titled/concatenated_HvH_evaluations.pkl')"
   ]
  },
  {
   "cell_type": "code",
   "execution_count": null,
   "id": "5e4ae454",
   "metadata": {
    "ExecuteTime": {
     "end_time": "2022-11-06T02:27:50.881172Z",
     "start_time": "2022-11-06T02:25:43.936462Z"
    },
    "hidden": true
   },
   "outputs": [],
   "source": [
    "cel_t_eval = get_best_moves_in_all_games(cel_t)"
   ]
  },
  {
   "cell_type": "code",
   "execution_count": null,
   "id": "c1b5f78d",
   "metadata": {
    "ExecuteTime": {
     "end_time": "2022-11-06T02:27:51.034548Z",
     "start_time": "2022-11-06T02:27:50.893020Z"
    },
    "hidden": true
   },
   "outputs": [],
   "source": [
    "df_for_titled_eval_witheval = df_for_titled_eval.copy()\n",
    "df_for_titled_eval_witheval = df_for_titled_eval_witheval.iloc[0:len(cel_t)]\n",
    "df_for_titled_eval_witheval['eval_'] = cel_t_eval"
   ]
  },
  {
   "cell_type": "code",
   "execution_count": null,
   "id": "26b6e681",
   "metadata": {
    "ExecuteTime": {
     "end_time": "2022-11-06T10:08:17.809750Z",
     "start_time": "2022-11-06T10:06:11.053516Z"
    },
    "hidden": true
   },
   "outputs": [],
   "source": [
    "joblib.dump(df_for_titled_eval_witheval,\n",
    "           'C:/Users/Emanuel/Desktop/data/capstone/preprocessed/evaluations/titled/2021_2017_titled_distinv_allmoves_evals.pkl',\n",
    "           compress=9)"
   ]
  },
  {
   "cell_type": "markdown",
   "id": "4bd59a6a",
   "metadata": {
    "hidden": true
   },
   "source": [
    "----"
   ]
  },
  {
   "cell_type": "markdown",
   "id": "1e4eed77",
   "metadata": {
    "heading_collapsed": true,
    "hidden": true
   },
   "source": [
    "##### Sampling"
   ]
  },
  {
   "cell_type": "code",
   "execution_count": null,
   "id": "2f1181d0",
   "metadata": {
    "ExecuteTime": {
     "end_time": "2022-11-05T23:49:35.561159Z",
     "start_time": "2022-11-05T23:49:35.550188Z"
    },
    "hidden": true
   },
   "outputs": [],
   "source": [
    "sample_eval = el2[0:1000]"
   ]
  },
  {
   "cell_type": "code",
   "execution_count": null,
   "id": "d5c1f050",
   "metadata": {
    "ExecuteTime": {
     "end_time": "2022-11-05T23:49:58.018097Z",
     "start_time": "2022-11-05T23:49:58.004164Z"
    },
    "hidden": true
   },
   "outputs": [],
   "source": [
    "ser_sample_eval = pd.Series(sample_eval)"
   ]
  },
  {
   "cell_type": "code",
   "execution_count": null,
   "id": "325eff66",
   "metadata": {
    "ExecuteTime": {
     "end_time": "2022-11-05T23:50:41.789648Z",
     "start_time": "2022-11-05T23:50:41.775690Z"
    },
    "hidden": true
   },
   "outputs": [],
   "source": [
    "# type(ser_sample_eval) # Series"
   ]
  },
  {
   "cell_type": "code",
   "execution_count": null,
   "id": "3eb3d528",
   "metadata": {
    "ExecuteTime": {
     "end_time": "2022-11-06T00:41:01.180052Z",
     "start_time": "2022-11-06T00:41:01.171058Z"
    },
    "hidden": true
   },
   "outputs": [],
   "source": [
    "ser_sample_eval[[val==['Error ocurred'] for val in ser_sample_eval]] # none of the values are 'Error Ocurred'"
   ]
  },
  {
   "cell_type": "code",
   "execution_count": null,
   "id": "f4301ae0",
   "metadata": {
    "ExecuteTime": {
     "end_time": "2022-11-06T00:41:05.121355Z",
     "start_time": "2022-11-06T00:41:05.102378Z"
    },
    "hidden": true
   },
   "outputs": [],
   "source": [
    "ser_sample_eval[[val=='Error ocurred' for val in ser_sample_eval]] # none of the values are 'Error Ocurred'"
   ]
  },
  {
   "cell_type": "code",
   "execution_count": null,
   "id": "c5dce51e",
   "metadata": {
    "ExecuteTime": {
     "end_time": "2022-11-06T01:35:05.630260Z",
     "start_time": "2022-11-06T01:35:05.617295Z"
    },
    "hidden": true
   },
   "outputs": [],
   "source": [
    "ser_sample_eval[0] # a game\n",
    "type(ser_sample_eval[0]) # a list\n",
    "ser_sample_eval[0][0] # a position\n",
    "type(ser_sample_eval[0][0]) # list\n",
    "ser_sample_eval[0][0][0] # a move-in-position\n",
    "type(ser_sample_eval[0][0][0]) # dict"
   ]
  },
  {
   "cell_type": "code",
   "execution_count": null,
   "id": "9273eb84",
   "metadata": {
    "ExecuteTime": {
     "end_time": "2022-11-06T00:14:25.293373Z",
     "start_time": "2022-11-06T00:14:25.279418Z"
    },
    "hidden": true
   },
   "outputs": [],
   "source": [
    "ser_sample_eval[0][0][0]"
   ]
  },
  {
   "cell_type": "code",
   "execution_count": null,
   "id": "4d6e84ac",
   "metadata": {
    "ExecuteTime": {
     "end_time": "2022-11-06T00:17:00.895518Z",
     "start_time": "2022-11-06T00:17:00.888507Z"
    },
    "hidden": true
   },
   "outputs": [],
   "source": [
    "display(ser_sample_eval[0][0][0]['score'])"
   ]
  },
  {
   "cell_type": "code",
   "execution_count": null,
   "id": "3e603e9a",
   "metadata": {
    "ExecuteTime": {
     "end_time": "2022-11-06T00:19:49.255338Z",
     "start_time": "2022-11-06T00:19:49.248355Z"
    },
    "hidden": true
   },
   "outputs": [],
   "source": [
    "display(ser_sample_eval[0][0][0]['pv'][0]) # Move.from_uci('d2d4')\n",
    "display(type(ser_sample_eval[0][0][0]['pv'][0])) # chess.Move"
   ]
  },
  {
   "cell_type": "code",
   "execution_count": null,
   "id": "875aab59",
   "metadata": {
    "ExecuteTime": {
     "end_time": "2022-11-06T00:19:58.372501Z",
     "start_time": "2022-11-06T00:19:58.357519Z"
    },
    "hidden": true
   },
   "outputs": [],
   "source": [
    "display(chess.Move.uci(ser_sample_eval[0][0][0]['pv'][0])) # 'd2d4'\n",
    "display(type(chess.Move.uci(ser_sample_eval[0][0][0]['pv'][0]))) # str"
   ]
  },
  {
   "cell_type": "markdown",
   "id": "82a20872",
   "metadata": {
    "hidden": true
   },
   "source": [
    "----"
   ]
  },
  {
   "cell_type": "code",
   "execution_count": null,
   "id": "ce5e896f",
   "metadata": {
    "ExecuteTime": {
     "end_time": "2022-11-06T00:22:45.114845Z",
     "start_time": "2022-11-06T00:22:45.101852Z"
    },
    "hidden": true
   },
   "outputs": [],
   "source": [
    "# for one position, extract all moves and scores"
   ]
  },
  {
   "cell_type": "code",
   "execution_count": null,
   "id": "edeca96a",
   "metadata": {
    "ExecuteTime": {
     "end_time": "2022-11-06T00:23:01.609354Z",
     "start_time": "2022-11-06T00:23:01.604367Z"
    },
    "hidden": true
   },
   "outputs": [],
   "source": [
    "pos_ = ser_sample_eval[0][0]"
   ]
  },
  {
   "cell_type": "code",
   "execution_count": null,
   "id": "14b5b401",
   "metadata": {
    "hidden": true
   },
   "outputs": [],
   "source": [
    "chess.Move.uci(move_['pv'][0])"
   ]
  },
  {
   "cell_type": "code",
   "execution_count": null,
   "id": "01fde559",
   "metadata": {
    "ExecuteTime": {
     "end_time": "2022-11-06T00:26:07.995411Z",
     "start_time": "2022-11-06T00:26:07.980423Z"
    },
    "hidden": true
   },
   "outputs": [],
   "source": [
    "top_5_in_pos_ = [[move_['score'], chess.Move.uci(move_['pv'][0])] for move_ in pos_]\n",
    "top_5_in_pos_"
   ]
  },
  {
   "cell_type": "code",
   "execution_count": null,
   "id": "a2f3dce9",
   "metadata": {
    "ExecuteTime": {
     "end_time": "2022-11-06T00:33:00.202201Z",
     "start_time": "2022-11-06T00:33:00.185218Z"
    },
    "code_folding": [
     0
    ],
    "hidden": true
   },
   "outputs": [],
   "source": [
    "def get_5_best_moves_in_pos(pos_):\n",
    "    '''\n",
    "    Extracts the best 5 moves and their respective scores\n",
    "    \n",
    "    pos_ should be a list\n",
    "    \n",
    "    Outputs a list\n",
    "    '''\n",
    "    \n",
    "    top_5_in_pos_ = [[move_['score'], chess.Move.uci(move_['pv'][0])] for move_ in pos_]\n",
    "    \n",
    "    return top_5_in_pos_"
   ]
  },
  {
   "cell_type": "markdown",
   "id": "4850bde8",
   "metadata": {
    "hidden": true
   },
   "source": [
    "----"
   ]
  },
  {
   "cell_type": "code",
   "execution_count": null,
   "id": "4fab7e41",
   "metadata": {
    "ExecuteTime": {
     "end_time": "2022-11-06T00:29:20.872342Z",
     "start_time": "2022-11-06T00:29:20.864391Z"
    },
    "hidden": true
   },
   "outputs": [],
   "source": [
    "# for one game, extract the 5 best moves and scores for each position"
   ]
  },
  {
   "cell_type": "code",
   "execution_count": null,
   "id": "c62bff49",
   "metadata": {
    "ExecuteTime": {
     "end_time": "2022-11-06T00:29:45.215929Z",
     "start_time": "2022-11-06T00:29:45.203962Z"
    },
    "hidden": true
   },
   "outputs": [],
   "source": [
    "game_ = ser_sample_eval[0]"
   ]
  },
  {
   "cell_type": "code",
   "execution_count": null,
   "id": "9326bafc",
   "metadata": {
    "ExecuteTime": {
     "end_time": "2022-11-06T00:30:00.919506Z",
     "start_time": "2022-11-06T00:30:00.909359Z"
    },
    "hidden": true
   },
   "outputs": [],
   "source": [
    "len(game_) # 68"
   ]
  },
  {
   "cell_type": "code",
   "execution_count": null,
   "id": "692032c3",
   "metadata": {
    "ExecuteTime": {
     "end_time": "2022-11-06T00:33:12.918225Z",
     "start_time": "2022-11-06T00:33:12.889303Z"
    },
    "hidden": true
   },
   "outputs": [],
   "source": [
    "top_5_for_pos_in_game = [get_5_best_moves_in_pos(pos_) for pos_ in game_]\n",
    "top_5_for_pos_in_game"
   ]
  },
  {
   "cell_type": "code",
   "execution_count": null,
   "id": "08a5d420",
   "metadata": {
    "ExecuteTime": {
     "end_time": "2022-11-06T00:33:24.237161Z",
     "start_time": "2022-11-06T00:33:24.219180Z"
    },
    "hidden": true
   },
   "outputs": [],
   "source": [
    "len(top_5_for_pos_in_game) # 68"
   ]
  },
  {
   "cell_type": "code",
   "execution_count": null,
   "id": "45740254",
   "metadata": {
    "ExecuteTime": {
     "end_time": "2022-11-06T00:46:09.745063Z",
     "start_time": "2022-11-06T00:46:09.740077Z"
    },
    "code_folding": [
     0
    ],
    "hidden": true
   },
   "outputs": [],
   "source": [
    "def get_5_best_moves_in_game(game_):\n",
    "    '''\n",
    "    Extracts the best 5 moves and their respective scores for every position in the game\n",
    "    \n",
    "    game_ should be a list\n",
    "    \n",
    "    Outputs a list\n",
    "    '''\n",
    "    \n",
    "    top_5_for_pos_in_game_ = [get_5_best_moves_in_pos(pos_) for pos_ in game_]\n",
    "    \n",
    "    return top_5_for_pos_in_game_\n",
    "    "
   ]
  },
  {
   "cell_type": "code",
   "execution_count": null,
   "id": "af279f61",
   "metadata": {
    "ExecuteTime": {
     "end_time": "2022-11-06T00:36:36.531668Z",
     "start_time": "2022-11-06T00:36:36.505770Z"
    },
    "hidden": true
   },
   "outputs": [],
   "source": [
    "best_moves = get_5_best_moves_in_game(ser_sample_eval[0])\n",
    "best_moves"
   ]
  },
  {
   "cell_type": "markdown",
   "id": "e1ed5154",
   "metadata": {
    "hidden": true
   },
   "source": [
    "----"
   ]
  },
  {
   "cell_type": "code",
   "execution_count": null,
   "id": "21af945c",
   "metadata": {
    "ExecuteTime": {
     "end_time": "2022-11-06T00:37:57.933014Z",
     "start_time": "2022-11-06T00:37:57.926034Z"
    },
    "hidden": true
   },
   "outputs": [],
   "source": [
    "# for all games, extract the 5 best moves and scores for each game and position"
   ]
  },
  {
   "cell_type": "code",
   "execution_count": null,
   "id": "8f0db4c2",
   "metadata": {
    "ExecuteTime": {
     "end_time": "2022-11-06T00:40:07.876409Z",
     "start_time": "2022-11-06T00:40:07.442927Z"
    },
    "hidden": true,
    "scrolled": false
   },
   "outputs": [],
   "source": [
    "top_5_for_games = [get_5_best_moves_in_game(game_) for game_ in ser_sample_eval]\n",
    "len(top_5_for_games) # 1000"
   ]
  },
  {
   "cell_type": "code",
   "execution_count": null,
   "id": "6cb64385",
   "metadata": {
    "ExecuteTime": {
     "end_time": "2022-11-06T00:46:52.105902Z",
     "start_time": "2022-11-06T00:46:52.094901Z"
    },
    "code_folding": [
     0
    ],
    "hidden": true
   },
   "outputs": [],
   "source": [
    "def get_5_best_moves_in_all_games(list_of_games_):\n",
    "    '''\n",
    "    Extracts the best 5 moves and their respective scores for every position in each game in list_of_games_\n",
    "    \n",
    "    list_of_games_ should be a list or list-like object\n",
    "    \n",
    "    Outputs a list\n",
    "    '''\n",
    "    \n",
    "    top_5_for_games_ = [get_5_best_moves_in_game(game_) for game_ in list_of_games_]\n",
    "    \n",
    "    return top_5_for_games_\n",
    "    "
   ]
  },
  {
   "cell_type": "code",
   "execution_count": null,
   "id": "074d7585",
   "metadata": {
    "ExecuteTime": {
     "end_time": "2022-11-06T00:47:24.865871Z",
     "start_time": "2022-11-06T00:47:24.456810Z"
    },
    "hidden": true
   },
   "outputs": [],
   "source": [
    "top_5_for_games_ = get_5_best_moves_in_all_games(ser_sample_eval)\n",
    "\n",
    "len(top_5_for_games_)"
   ]
  },
  {
   "cell_type": "code",
   "execution_count": null,
   "id": "b3545dab",
   "metadata": {
    "ExecuteTime": {
     "end_time": "2022-11-06T00:41:22.507744Z",
     "start_time": "2022-11-06T00:41:22.503756Z"
    },
    "hidden": true
   },
   "outputs": [],
   "source": [
    "# test for there being an ['Error occured'] instead of a game"
   ]
  },
  {
   "cell_type": "code",
   "execution_count": null,
   "id": "20077515",
   "metadata": {
    "ExecuteTime": {
     "end_time": "2022-11-06T00:44:31.918013Z",
     "start_time": "2022-11-06T00:44:31.898071Z"
    },
    "hidden": true
   },
   "outputs": [],
   "source": [
    "ser_sample_eval_test = pd.Series(np.r_[ser_sample_eval, ['Error occured']])\n",
    "len(ser_sample_eval_test) # 1001\n",
    "\n",
    "ser_sample_eval_test.iloc[-1] # 'Error occured'"
   ]
  },
  {
   "cell_type": "code",
   "execution_count": null,
   "id": "9b055cf1",
   "metadata": {
    "ExecuteTime": {
     "end_time": "2022-11-06T01:46:44.598161Z",
     "start_time": "2022-11-06T01:46:44.183115Z"
    },
    "hidden": true
   },
   "outputs": [],
   "source": [
    "# %%timeit # 346 ms ± 1.93 ms per loop (mean ± std. dev. of 7 runs, 1 loop each) without type checking\n",
    "top_5_for_games_test = get_5_best_moves_in_all_games(ser_sample_eval_test, is_list_=False)"
   ]
  },
  {
   "cell_type": "code",
   "execution_count": null,
   "id": "97dc9c6f",
   "metadata": {
    "ExecuteTime": {
     "end_time": "2022-11-06T01:46:46.189803Z",
     "start_time": "2022-11-06T01:46:46.184843Z"
    },
    "hidden": true
   },
   "outputs": [],
   "source": [
    "len(top_5_for_games_test) # 1001"
   ]
  },
  {
   "cell_type": "code",
   "execution_count": null,
   "id": "6f651789",
   "metadata": {
    "ExecuteTime": {
     "end_time": "2022-11-06T01:46:46.982378Z",
     "start_time": "2022-11-06T01:46:46.967389Z"
    },
    "hidden": true
   },
   "outputs": [],
   "source": [
    "top_5_for_games_test[-1]"
   ]
  },
  {
   "cell_type": "code",
   "execution_count": null,
   "id": "3d07a57f",
   "metadata": {
    "hidden": true
   },
   "outputs": [],
   "source": []
  },
  {
   "cell_type": "code",
   "execution_count": null,
   "id": "496360d9",
   "metadata": {
    "ExecuteTime": {
     "end_time": "2022-11-06T01:46:54.586905Z",
     "start_time": "2022-11-06T01:46:54.544020Z"
    },
    "hidden": true
   },
   "outputs": [],
   "source": [
    "sample_eval_test = sample_eval.copy()\n",
    "sample_eval_test.append(['Error occured'])\n",
    "len(sample_eval_test) # 1001\n",
    "\n",
    "sample_eval_test[-1] # ['Error occured']"
   ]
  },
  {
   "cell_type": "code",
   "execution_count": null,
   "id": "f405b8b6",
   "metadata": {
    "ExecuteTime": {
     "end_time": "2022-11-06T01:46:55.877956Z",
     "start_time": "2022-11-06T01:46:55.464087Z"
    },
    "hidden": true
   },
   "outputs": [],
   "source": [
    "sample_eval_test = get_5_best_moves_in_all_games(sample_eval_test)"
   ]
  },
  {
   "cell_type": "code",
   "execution_count": null,
   "id": "bda94920",
   "metadata": {
    "ExecuteTime": {
     "end_time": "2022-11-06T01:46:56.375119Z",
     "start_time": "2022-11-06T01:46:56.365155Z"
    },
    "hidden": true
   },
   "outputs": [],
   "source": [
    "sample_eval_test[-1]"
   ]
  },
  {
   "cell_type": "markdown",
   "id": "486b5908",
   "metadata": {
    "hidden": true
   },
   "source": [
    "----"
   ]
  },
  {
   "cell_type": "markdown",
   "id": "2e5f1f3e",
   "metadata": {
    "heading_collapsed": true,
    "hidden": true
   },
   "source": [
    "##### Continuing"
   ]
  },
  {
   "cell_type": "code",
   "execution_count": null,
   "id": "5c65088a",
   "metadata": {
    "hidden": true
   },
   "outputs": [],
   "source": [
    "# make a dataframe and test the extraction in making a new column"
   ]
  },
  {
   "cell_type": "code",
   "execution_count": null,
   "id": "cbaefe92",
   "metadata": {
    "hidden": true
   },
   "outputs": [],
   "source": []
  },
  {
   "cell_type": "code",
   "execution_count": null,
   "id": "17c83319",
   "metadata": {
    "ExecuteTime": {
     "end_time": "2022-11-06T10:42:34.068536Z",
     "start_time": "2022-11-06T10:42:34.061556Z"
    },
    "code_folding": [
     0
    ],
    "hidden": true
   },
   "outputs": [],
   "source": [
    "def get_best_moves_in_pos(pos_):\n",
    "    '''\n",
    "    Extracts the best 5 moves and their respective scores\n",
    "    \n",
    "    pos_ should be a list\n",
    "    \n",
    "    Outputs a list\n",
    "    '''\n",
    "    \n",
    "    top_5_in_pos_ = [[move_['score'], chess.Move.uci(move_['pv'][0])] for move_ in pos_]\n",
    "    \n",
    "    return top_5_in_pos_"
   ]
  },
  {
   "cell_type": "code",
   "execution_count": null,
   "id": "90464ee1",
   "metadata": {
    "ExecuteTime": {
     "end_time": "2022-11-06T10:42:34.332929Z",
     "start_time": "2022-11-06T10:42:34.320937Z"
    },
    "code_folding": [
     0
    ],
    "hidden": true
   },
   "outputs": [],
   "source": [
    "def get_best_moves_in_game(game_):\n",
    "    '''\n",
    "    Extracts the best 5 moves and their respective scores for every position in the game\n",
    "    \n",
    "    game_ should be a list\n",
    "    \n",
    "    Outputs a list\n",
    "    '''\n",
    "    \n",
    "    top_5_for_pos_in_game_ = [get_best_moves_in_pos(pos_) for pos_ in game_]\n",
    "    \n",
    "    return top_5_for_pos_in_game_\n",
    "    "
   ]
  },
  {
   "cell_type": "code",
   "execution_count": null,
   "id": "c0e94858",
   "metadata": {
    "ExecuteTime": {
     "end_time": "2022-11-06T10:42:34.581269Z",
     "start_time": "2022-11-06T10:42:34.562326Z"
    },
    "code_folding": [
     0
    ],
    "hidden": true
   },
   "outputs": [],
   "source": [
    "def get_best_moves_in_all_games(list_of_games_, is_list_=True):\n",
    "    '''\n",
    "    Extracts the best 5 moves and their respective scores for every position in each game in list_of_games_\n",
    "    \n",
    "    list_of_games_ should be a list or series and the input arguments set accordingly\n",
    "    \n",
    "    Outputs a list\n",
    "    '''\n",
    "    \n",
    "    if is_list_:\n",
    "        top_5_for_games_ = [get_best_moves_in_game(game_) if game_!=['Error occured'] else ['Error occured'] for game_ in list_of_games_]\n",
    "    else:\n",
    "        top_5_for_games_ = [get_best_moves_in_game(game_) if game_!='Error occured' else ['Error occured'] for game_ in list_of_games_]\n",
    "    \n",
    "    return top_5_for_games_\n",
    "    "
   ]
  },
  {
   "cell_type": "code",
   "execution_count": null,
   "id": "c9ab88fc",
   "metadata": {
    "ExecuteTime": {
     "end_time": "2022-11-06T00:33:00.202201Z",
     "start_time": "2022-11-06T00:33:00.185218Z"
    },
    "code_folding": [
     0
    ],
    "hidden": true
   },
   "outputs": [],
   "source": [
    "# def get_best_moves_in_pos(pos_):\n",
    "#     '''\n",
    "#     Extracts the best 5 moves and their respective scores\n",
    "    \n",
    "#     pos_ should be a list\n",
    "    \n",
    "#     Outputs a list\n",
    "#     '''\n",
    "    \n",
    "#     top_5_in_pos_ = [[move_['score'], chess.Move.uci(move_['pv'][0])] for move_ in pos_]\n",
    "    \n",
    "#     return top_5_in_pos_\n",
    "\n",
    "# def get_best_moves_in_game(game_):\n",
    "#     '''\n",
    "#     Extracts the best 5 moves and their respective scores for every position in the game\n",
    "    \n",
    "#     game_ should be a list\n",
    "    \n",
    "#     Outputs a list\n",
    "#     '''\n",
    "    \n",
    "#     top_5_for_pos_in_game_ = [get_5_best_moves_in_pos(pos_) for pos_ in game_]\n",
    "    \n",
    "#     return top_5_for_pos_in_game_\n",
    "    \n",
    "\n",
    "# def get_best_moves_in_all_games(list_of_games_, is_list_=True):\n",
    "#     '''\n",
    "#     Extracts the best 5 moves and their respective scores for every position in each game in list_of_games_\n",
    "    \n",
    "#     list_of_games_ should be a list or series and the input arguments set accordingly\n",
    "    \n",
    "#     Outputs a list\n",
    "#     '''\n",
    "    \n",
    "#     if is_list_:\n",
    "#         top_5_for_games_ = [get_5_best_moves_in_game(game_) if game_!=['Error occured'] else ['Error occured'] for game_ in list_of_games_]\n",
    "#     else:\n",
    "#         top_5_for_games_ = [get_5_best_moves_in_game(game_) if game_!='Error occured' else ['Error occured'] for game_ in list_of_games_]\n",
    "    \n",
    "#     return top_5_for_games_\n",
    "    "
   ]
  },
  {
   "cell_type": "code",
   "execution_count": null,
   "id": "539c56e9",
   "metadata": {
    "hidden": true
   },
   "outputs": [],
   "source": []
  },
  {
   "cell_type": "code",
   "execution_count": null,
   "id": "05b39bdc",
   "metadata": {
    "ExecuteTime": {
     "end_time": "2022-11-06T01:49:47.568678Z",
     "start_time": "2022-11-06T01:49:46.242931Z"
    },
    "hidden": true
   },
   "outputs": [],
   "source": [
    "el2_top5s = get_best_moves_in_all_games(el2)"
   ]
  },
  {
   "cell_type": "code",
   "execution_count": null,
   "id": "19ca0b6a",
   "metadata": {
    "ExecuteTime": {
     "end_time": "2022-11-06T01:47:22.689912Z",
     "start_time": "2022-11-06T01:47:22.684958Z"
    },
    "hidden": true
   },
   "outputs": [],
   "source": [
    "len(el2_top5s)"
   ]
  },
  {
   "cell_type": "code",
   "execution_count": null,
   "id": "98391f1c",
   "metadata": {
    "ExecuteTime": {
     "end_time": "2022-11-06T01:47:31.198003Z",
     "start_time": "2022-11-06T01:47:31.034442Z"
    },
    "hidden": true
   },
   "outputs": [],
   "source": [
    "el2_top5s[0:10]"
   ]
  },
  {
   "cell_type": "code",
   "execution_count": null,
   "id": "b149a1ec",
   "metadata": {
    "hidden": true
   },
   "outputs": [],
   "source": []
  },
  {
   "cell_type": "markdown",
   "id": "207727ac",
   "metadata": {
    "hidden": true
   },
   "source": [
    "----"
   ]
  },
  {
   "cell_type": "code",
   "execution_count": null,
   "id": "dcbddb25",
   "metadata": {
    "ExecuteTime": {
     "end_time": "2022-11-06T01:52:10.378122Z",
     "start_time": "2022-11-06T01:52:10.370117Z"
    },
    "hidden": true
   },
   "outputs": [],
   "source": [
    "test1 = el2[0:1500]\n",
    "test2 = el2[1500:]"
   ]
  },
  {
   "cell_type": "code",
   "execution_count": null,
   "id": "7e37a611",
   "metadata": {
    "ExecuteTime": {
     "end_time": "2022-11-06T01:52:30.184940Z",
     "start_time": "2022-11-06T01:52:30.174963Z"
    },
    "hidden": true
   },
   "outputs": [],
   "source": [
    "test_result = np.r_[test1, test2]"
   ]
  },
  {
   "cell_type": "code",
   "execution_count": null,
   "id": "c6aefe49",
   "metadata": {
    "ExecuteTime": {
     "end_time": "2022-11-06T01:53:36.214742Z",
     "start_time": "2022-11-06T01:53:36.159892Z"
    },
    "hidden": true
   },
   "outputs": [],
   "source": [
    "display(len(test_result))\n",
    "test_result[0]\n",
    "display(len(test_result[0]))\n",
    "test_result[1]"
   ]
  },
  {
   "cell_type": "code",
   "execution_count": null,
   "id": "90e4fc43",
   "metadata": {
    "ExecuteTime": {
     "end_time": "2022-11-06T01:56:21.044215Z",
     "start_time": "2022-11-06T01:56:21.028255Z"
    },
    "hidden": true
   },
   "outputs": [],
   "source": [
    "a = [[1, 2, 3], [4, 5, 6]]\n",
    "b = [[7, 8, 9], [10, 11, 12]]\n",
    "\n",
    "c = np.r_[a, b]\n",
    "c"
   ]
  },
  {
   "cell_type": "code",
   "execution_count": null,
   "id": "4996df6e",
   "metadata": {
    "ExecuteTime": {
     "end_time": "2022-11-06T01:58:37.661259Z",
     "start_time": "2022-11-06T01:58:37.646272Z"
    },
    "code_folding": [
     0
    ],
    "hidden": true
   },
   "outputs": [],
   "source": [
    "# a = [[[{}, {}]], [[{}, {}, {}]]]\n",
    "# b = [[[{}, {}]], [[{}, {}, {}]]]\n",
    "\n",
    "# c = np.r_[a, b]\n",
    "# c\n",
    "\n",
    "# # array([[list([{}, {}])],\n",
    "# #        [list([{}, {}, {}])],\n",
    "# #        [list([{}, {}])],\n",
    "# #        [list([{}, {}, {}])]], dtype=object)"
   ]
  },
  {
   "cell_type": "code",
   "execution_count": null,
   "id": "a7f4eab2",
   "metadata": {
    "ExecuteTime": {
     "end_time": "2022-11-06T01:59:09.582239Z",
     "start_time": "2022-11-06T01:59:09.564258Z"
    },
    "code_folding": [
     0
    ],
    "hidden": true
   },
   "outputs": [],
   "source": [
    "# c[0]\n",
    "# # array([list([{}, {}])], dtype=object)"
   ]
  },
  {
   "cell_type": "code",
   "execution_count": null,
   "id": "f318ab96",
   "metadata": {
    "ExecuteTime": {
     "end_time": "2022-11-06T02:00:08.926102Z",
     "start_time": "2022-11-06T02:00:08.909120Z"
    },
    "code_folding": [
     0
    ],
    "hidden": true
   },
   "outputs": [],
   "source": [
    "# ser_sample_eval[0] # a game\n",
    "# type(ser_sample_eval[0]) # a list\n",
    "# ser_sample_eval[0][0] # a position\n",
    "# type(ser_sample_eval[0][0]) # list\n",
    "# ser_sample_eval[0][0][0] # a move-in-position\n",
    "# type(ser_sample_eval[0][0][0]) # dict"
   ]
  },
  {
   "cell_type": "code",
   "execution_count": null,
   "id": "1bcfd0c5",
   "metadata": {
    "hidden": true
   },
   "outputs": [],
   "source": []
  },
  {
   "cell_type": "code",
   "execution_count": null,
   "id": "822d5c84",
   "metadata": {
    "ExecuteTime": {
     "end_time": "2022-11-06T02:15:13.704450Z",
     "start_time": "2022-11-06T02:15:13.692454Z"
    },
    "hidden": true
   },
   "outputs": [],
   "source": [
    "el2_sample = df_for_titled_eval.iloc[6000:9000]"
   ]
  },
  {
   "cell_type": "code",
   "execution_count": null,
   "id": "cd1dd43e",
   "metadata": {
    "ExecuteTime": {
     "end_time": "2022-11-06T02:15:13.966721Z",
     "start_time": "2022-11-06T02:15:13.958742Z"
    },
    "hidden": true
   },
   "outputs": [],
   "source": [
    "el2_sample['eval'] = el2_top5s"
   ]
  },
  {
   "cell_type": "code",
   "execution_count": null,
   "id": "35857b7f",
   "metadata": {
    "ExecuteTime": {
     "end_time": "2022-11-06T02:05:30.398931Z",
     "start_time": "2022-11-06T02:05:30.341085Z"
    },
    "hidden": true
   },
   "outputs": [],
   "source": [
    "el2_sample.iloc[0]"
   ]
  },
  {
   "cell_type": "code",
   "execution_count": null,
   "id": "5f2b5eb3",
   "metadata": {
    "ExecuteTime": {
     "end_time": "2022-11-06T02:06:47.332976Z",
     "start_time": "2022-11-06T02:06:47.314027Z"
    },
    "hidden": true,
    "scrolled": true
   },
   "outputs": [],
   "source": [
    "el2_sample.iloc[0].PlyCount==len(el2_sample.iloc[0].eval)==len(el2_sample.iloc[0].moves) # True\n"
   ]
  },
  {
   "cell_type": "markdown",
   "id": "578c9363",
   "metadata": {
    "hidden": true
   },
   "source": [
    "----"
   ]
  },
  {
   "cell_type": "markdown",
   "id": "38cbfc8c",
   "metadata": {
    "heading_collapsed": true,
    "hidden": true
   },
   "source": [
    "#### CvH"
   ]
  },
  {
   "cell_type": "code",
   "execution_count": null,
   "id": "a935d40f",
   "metadata": {
    "ExecuteTime": {
     "end_time": "2022-11-06T10:11:16.753219Z",
     "start_time": "2022-11-06T10:11:12.096424Z"
    },
    "hidden": true
   },
   "outputs": [],
   "source": [
    "df_for_CvH_eval = joblib.load(\n",
    "    './data/preprocessed/evaluations/CvH/df_for_CvH_eval.pkl')"
   ]
  },
  {
   "cell_type": "code",
   "execution_count": null,
   "id": "17e78cb3",
   "metadata": {
    "ExecuteTime": {
     "end_time": "2022-11-05T16:53:14.976348Z",
     "start_time": "2022-11-05T16:53:14.952388Z"
    },
    "hidden": true
   },
   "outputs": [],
   "source": [
    "df_for_CvH_eval.head(2)"
   ]
  },
  {
   "cell_type": "code",
   "execution_count": null,
   "id": "2e3d7a8e",
   "metadata": {
    "ExecuteTime": {
     "end_time": "2022-11-05T16:56:47.822686Z",
     "start_time": "2022-11-05T16:56:47.789804Z"
    },
    "hidden": true
   },
   "outputs": [],
   "source": [
    "all([' rated' in val for val in df_for_CvH_eval.Event]) # True"
   ]
  },
  {
   "cell_type": "code",
   "execution_count": null,
   "id": "071ea4e9",
   "metadata": {
    "ExecuteTime": {
     "end_time": "2022-11-05T17:31:24.854406Z",
     "start_time": "2022-11-05T17:31:24.846399Z"
    },
    "hidden": true
   },
   "outputs": [],
   "source": [
    "0==0.0"
   ]
  },
  {
   "cell_type": "code",
   "execution_count": null,
   "id": "e5a05f92",
   "metadata": {
    "hidden": true
   },
   "outputs": [],
   "source": []
  },
  {
   "cell_type": "code",
   "execution_count": null,
   "id": "fd27ca82",
   "metadata": {
    "hidden": true
   },
   "outputs": [],
   "source": []
  },
  {
   "cell_type": "code",
   "execution_count": null,
   "id": "fd223f63",
   "metadata": {
    "ExecuteTime": {
     "end_time": "2022-11-05T17:06:04.544772Z",
     "start_time": "2022-11-05T17:06:04.533778Z"
    },
    "hidden": true
   },
   "outputs": [],
   "source": [
    "# load eval lists"
   ]
  },
  {
   "cell_type": "code",
   "execution_count": null,
   "id": "ece7e59d",
   "metadata": {
    "ExecuteTime": {
     "end_time": "2022-11-06T10:24:11.838363Z",
     "start_time": "2022-11-06T10:11:16.754192Z"
    },
    "hidden": true
   },
   "outputs": [],
   "source": [
    "el_1 = joblib.load('data/preprocessed/evaluations/CvH/10000_.pkl') "
   ]
  },
  {
   "cell_type": "code",
   "execution_count": null,
   "id": "0831053d",
   "metadata": {
    "ExecuteTime": {
     "end_time": "2022-11-06T10:24:11.883089Z",
     "start_time": "2022-11-06T10:24:11.858310Z"
    },
    "hidden": true
   },
   "outputs": [],
   "source": [
    "len(el_1)"
   ]
  },
  {
   "cell_type": "code",
   "execution_count": null,
   "id": "56cdc42f",
   "metadata": {
    "ExecuteTime": {
     "end_time": "2022-11-06T10:34:19.230401Z",
     "start_time": "2022-11-06T10:24:11.887078Z"
    },
    "hidden": true
   },
   "outputs": [],
   "source": [
    "el_2 = joblib.load('data/preprocessed/evaluations/CvH/16508_needs_joining_CvH.pkl')"
   ]
  },
  {
   "cell_type": "code",
   "execution_count": null,
   "id": "7840036f",
   "metadata": {
    "ExecuteTime": {
     "end_time": "2022-11-06T10:34:19.290759Z",
     "start_time": "2022-11-06T10:34:19.255413Z"
    },
    "hidden": true
   },
   "outputs": [],
   "source": [
    "len(el_2)"
   ]
  },
  {
   "cell_type": "code",
   "execution_count": null,
   "id": "93053d12",
   "metadata": {
    "ExecuteTime": {
     "end_time": "2022-11-06T10:34:19.321219Z",
     "start_time": "2022-11-06T10:34:19.293737Z"
    },
    "hidden": true
   },
   "outputs": [],
   "source": [
    "# concatenated evaluation list for titled\n",
    "cel_cvh = np.r_[el_1, el_2]"
   ]
  },
  {
   "cell_type": "code",
   "execution_count": null,
   "id": "afe25332",
   "metadata": {
    "ExecuteTime": {
     "end_time": "2022-11-05T23:15:15.950639Z",
     "start_time": "2022-11-05T23:03:09.746379Z"
    },
    "hidden": true
   },
   "outputs": [],
   "source": [
    "# joblib.dump(cel_cvh, './data/preprocessed/evaluations/CvH//concatenated_CvH_HvH_evaluations.pkl', compress=9)"
   ]
  },
  {
   "cell_type": "code",
   "execution_count": null,
   "id": "2df7d57b",
   "metadata": {
    "ExecuteTime": {
     "end_time": "2022-11-05T21:42:20.955299Z",
     "start_time": "2022-11-05T21:42:20.927374Z"
    },
    "hidden": true
   },
   "outputs": [],
   "source": [
    "# display(len(cel_cvh)) # 13115\n",
    "# print(len(cel_cvh)==(len(el_1)+len(el_2))) # True\n",
    "# display(type(cel_cvh)) # np.ndarray"
   ]
  },
  {
   "cell_type": "code",
   "execution_count": null,
   "id": "0d30a50f",
   "metadata": {
    "hidden": true
   },
   "outputs": [],
   "source": []
  },
  {
   "cell_type": "code",
   "execution_count": null,
   "id": "73947627",
   "metadata": {
    "ExecuteTime": {
     "end_time": "2022-11-06T10:43:56.753370Z",
     "start_time": "2022-11-06T10:43:23.766150Z"
    },
    "hidden": true
   },
   "outputs": [],
   "source": [
    "df_for_CvH_eval_witheval = df_for_CvH_eval.copy()\n",
    "df_for_CvH_eval_witheval = df_for_CvH_eval_witheval.iloc[0:len(cel_cvh)]\n",
    "\n",
    "cel_cvh_eval = get_best_moves_in_all_games(cel_cvh)\n",
    "\n",
    "df_for_CvH_eval_witheval['eval_'] = cel_cvh_eval"
   ]
  },
  {
   "cell_type": "code",
   "execution_count": null,
   "id": "a6bedc8d",
   "metadata": {
    "ExecuteTime": {
     "end_time": "2022-11-06T10:46:56.078630Z",
     "start_time": "2022-11-06T10:44:37.077564Z"
    },
    "hidden": true
   },
   "outputs": [],
   "source": [
    "joblib.dump(df_for_CvH_eval_witheval,\n",
    "           'C:/Users/Emanuel/Desktop/data/capstone/preprocessed/evaluations/CvH/df_for_CvH_eval_evals.pkl',\n",
    "           compress=9)"
   ]
  },
  {
   "cell_type": "markdown",
   "id": "932c1eee",
   "metadata": {
    "hidden": true
   },
   "source": [
    "---"
   ]
  },
  {
   "cell_type": "markdown",
   "id": "1e1c2687",
   "metadata": {
    "heading_collapsed": true,
    "hidden": true
   },
   "source": [
    "#### Cleaning"
   ]
  },
  {
   "cell_type": "markdown",
   "id": "f8677acf",
   "metadata": {
    "hidden": true
   },
   "source": [
    "Loading in the dataframes with evaluations:"
   ]
  },
  {
   "cell_type": "code",
   "execution_count": null,
   "id": "04c46053",
   "metadata": {
    "ExecuteTime": {
     "end_time": "2022-11-06T11:32:25.692764Z",
     "start_time": "2022-11-06T11:31:44.438193Z"
    },
    "hidden": true
   },
   "outputs": [],
   "source": [
    "df_for_titled_eval_witheval = joblib.load(\n",
    "    'C:/Users/Emanuel/Desktop/data/capstone/preprocessed/evaluations/titled/2021_2017_titled_distinv_allmoves_evals.pkl')\n",
    "df_for_CvH_eval_witheval = joblib.load(\n",
    "    'C:/Users/Emanuel/Desktop/data/capstone/preprocessed/evaluations/CvH/df_for_CvH_eval_evals.pkl')"
   ]
  },
  {
   "cell_type": "markdown",
   "id": "8505c3b8",
   "metadata": {
    "heading_collapsed": true,
    "hidden": true
   },
   "source": [
    "##### Rating and RD"
   ]
  },
  {
   "cell_type": "code",
   "execution_count": null,
   "id": "06ca1c12",
   "metadata": {
    "ExecuteTime": {
     "end_time": "2022-11-06T11:36:56.006005Z",
     "start_time": "2022-11-06T11:36:55.595104Z"
    },
    "hidden": true
   },
   "outputs": [],
   "source": [
    "all([' rated' in val for val in df_for_titled_eval.Event]) # False - there are some unrated game in there"
   ]
  },
  {
   "cell_type": "code",
   "execution_count": null,
   "id": "08756ac2",
   "metadata": {
    "hidden": true
   },
   "outputs": [],
   "source": [
    "df_for_titled_eval.BlackRD.dtypes"
   ]
  },
  {
   "cell_type": "code",
   "execution_count": null,
   "id": "1f266ddd",
   "metadata": {
    "ExecuteTime": {
     "end_time": "2022-11-05T17:06:42.417655Z",
     "start_time": "2022-11-05T17:06:42.393723Z"
    },
    "hidden": true
   },
   "outputs": [],
   "source": [
    "all([(type(val)==int or type(val)==float) for val in df_for_titled_eval.BlackRD]) # False"
   ]
  },
  {
   "cell_type": "code",
   "execution_count": null,
   "id": "01892e8c",
   "metadata": {
    "ExecuteTime": {
     "end_time": "2022-11-05T17:06:55.088485Z",
     "start_time": "2022-11-05T17:06:55.053579Z"
    },
    "hidden": true
   },
   "outputs": [],
   "source": [
    "all([(type(val)==int or type(val)==float) for val in df_for_titled_eval.WhiteRD]) # False"
   ]
  },
  {
   "cell_type": "code",
   "execution_count": null,
   "id": "1efb7481",
   "metadata": {
    "ExecuteTime": {
     "end_time": "2022-11-05T17:08:23.135403Z",
     "start_time": "2022-11-05T17:08:23.098475Z"
    },
    "hidden": true
   },
   "outputs": [],
   "source": [
    "rated_titled = df_for_titled_eval[[' rated' in val for val in df_for_titled_eval.Event]]"
   ]
  },
  {
   "cell_type": "code",
   "execution_count": null,
   "id": "aa2423fc",
   "metadata": {
    "ExecuteTime": {
     "end_time": "2022-11-05T17:11:22.940487Z",
     "start_time": "2022-11-05T17:11:22.926490Z"
    },
    "hidden": true
   },
   "outputs": [],
   "source": [
    "rated_titled.head(1)"
   ]
  },
  {
   "cell_type": "code",
   "execution_count": null,
   "id": "25aaa6cc",
   "metadata": {
    "ExecuteTime": {
     "end_time": "2022-11-05T17:08:42.973456Z",
     "start_time": "2022-11-05T17:08:42.954481Z"
    },
    "hidden": true
   },
   "outputs": [],
   "source": [
    "all([(type(val)==int or type(val)==float) for val in rated_titled.WhiteRD]) # False"
   ]
  },
  {
   "cell_type": "code",
   "execution_count": null,
   "id": "3ae7a451",
   "metadata": {
    "ExecuteTime": {
     "end_time": "2022-11-05T17:13:14.606572Z",
     "start_time": "2022-11-05T17:13:14.566712Z"
    },
    "hidden": true,
    "scrolled": true
   },
   "outputs": [],
   "source": [
    "rated_titled[[type(val)!=int and type(val)!=float for val in rated_titled.WhiteRD]]"
   ]
  },
  {
   "cell_type": "code",
   "execution_count": null,
   "id": "51a70368",
   "metadata": {
    "ExecuteTime": {
     "end_time": "2022-11-05T17:14:10.192604Z",
     "start_time": "2022-11-05T17:14:10.179663Z"
    },
    "hidden": true
   },
   "outputs": [],
   "source": [
    "any([type(val)==str for val in rated_titled.WhiteRD]) # True"
   ]
  },
  {
   "cell_type": "code",
   "execution_count": null,
   "id": "19ce93a7",
   "metadata": {
    "ExecuteTime": {
     "end_time": "2022-11-05T17:15:38.447149Z",
     "start_time": "2022-11-05T17:15:38.377307Z"
    },
    "hidden": true
   },
   "outputs": [],
   "source": [
    "pd.Series([type(val) for val in rated_titled.WhiteRD]).unique()"
   ]
  },
  {
   "cell_type": "code",
   "execution_count": null,
   "id": "62ac3529",
   "metadata": {
    "ExecuteTime": {
     "end_time": "2022-11-05T17:16:46.260871Z",
     "start_time": "2022-11-05T17:16:46.234918Z"
    },
    "hidden": true
   },
   "outputs": [],
   "source": [
    "any([val=='na' for val in rated_titled.WhiteRD])"
   ]
  },
  {
   "cell_type": "code",
   "execution_count": null,
   "id": "a06d2900",
   "metadata": {
    "ExecuteTime": {
     "end_time": "2022-11-05T17:26:43.051127Z",
     "start_time": "2022-11-05T17:26:43.037117Z"
    },
    "hidden": true
   },
   "outputs": [],
   "source": [
    "# pd.Series([row[0]=='na' or row[1]=='na' for row in df_for_titled_eval[['WhiteRD', 'BlackRD']].values]).value_counts(\n",
    "#     normalize=True)*100\n",
    "\n",
    "# # False    90.519056\n",
    "# # True      9.480944"
   ]
  },
  {
   "cell_type": "markdown",
   "id": "35304206",
   "metadata": {
    "hidden": true
   },
   "source": [
    "Around 9% of all the games have 'na' as a RD value."
   ]
  },
  {
   "cell_type": "code",
   "execution_count": null,
   "id": "5c4b850c",
   "metadata": {
    "ExecuteTime": {
     "end_time": "2022-11-05T17:27:19.815456Z",
     "start_time": "2022-11-05T17:27:19.786505Z"
    },
    "hidden": true
   },
   "outputs": [],
   "source": [
    "# pd.Series([row[0]=='na' or row[1]=='na' for row in rated_titled[['WhiteRD', 'BlackRD']].values]).value_counts(\n",
    "#     normalize=True)*100\n",
    "\n",
    "# # False    91.429255\n",
    "# # True      8.570745"
   ]
  },
  {
   "cell_type": "markdown",
   "id": "6a437fe6",
   "metadata": {
    "hidden": true
   },
   "source": [
    "Even if just looking at the titled games, still about 8.5% have 'na' for a RD value."
   ]
  },
  {
   "cell_type": "code",
   "execution_count": null,
   "id": "6ef04786",
   "metadata": {
    "ExecuteTime": {
     "end_time": "2022-11-05T17:29:11.208136Z",
     "start_time": "2022-11-05T17:29:11.200158Z"
    },
    "hidden": true
   },
   "outputs": [],
   "source": [
    "# any(rated_titled.WhiteRD.isna()) # False"
   ]
  },
  {
   "cell_type": "markdown",
   "id": "ca295991",
   "metadata": {
    "hidden": true
   },
   "source": [
    "It's possible that these games have 'na' for the entries because they are the first games that those players played."
   ]
  },
  {
   "cell_type": "code",
   "execution_count": null,
   "id": "7edaad23",
   "metadata": {
    "ExecuteTime": {
     "end_time": "2022-11-05T17:32:38.807396Z",
     "start_time": "2022-11-05T17:32:38.794403Z"
    },
    "hidden": true
   },
   "outputs": [],
   "source": [
    "# pd.Series([row[0]==0 or row[1]==0 for row in df_for_titled_eval[['WhiteRD', 'BlackRD']].values]).value_counts(\n",
    "#     normalize=True)*100\n",
    "\n",
    "# # False    82.619977\n",
    "# # True     17.380023"
   ]
  },
  {
   "cell_type": "code",
   "execution_count": null,
   "id": "3be74be5",
   "metadata": {
    "ExecuteTime": {
     "end_time": "2022-11-05T17:32:40.451265Z",
     "start_time": "2022-11-05T17:32:40.433313Z"
    },
    "hidden": true
   },
   "outputs": [],
   "source": [
    "# pd.Series([row[0]==0 or row[1]==0 for row in df_for_CvH_eval[['WhiteRD', 'BlackRD']].values]).value_counts(\n",
    "#     normalize=True)*100\n",
    "\n",
    "# # False    71.895485\n",
    "# # True     28.104515"
   ]
  },
  {
   "cell_type": "code",
   "execution_count": null,
   "id": "be075720",
   "metadata": {
    "ExecuteTime": {
     "end_time": "2022-11-05T17:30:51.901342Z",
     "start_time": "2022-11-05T17:30:51.889374Z"
    },
    "hidden": true
   },
   "outputs": [],
   "source": [
    "# pd.Series([row[0]=='na' or row[1]=='na' for row in df_for_CvH_eval[['WhiteRD', 'BlackRD']].values]).value_counts(\n",
    "#     normalize=True)*100\n",
    "\n",
    "# # False    100.0"
   ]
  },
  {
   "cell_type": "markdown",
   "id": "a438af53",
   "metadata": {
    "hidden": true
   },
   "source": [
    "Around 28% of all the CvH games have 0 as a RD value and around 17% of the titled games have 0 as a RD value. Even if all the 'na' RD values are imputed as 0, the % of games that have 0 as a RD value will still be less than 28%. For this reason, the 'na's will be imputed to 0. "
   ]
  },
  {
   "cell_type": "code",
   "execution_count": null,
   "id": "187a19ae",
   "metadata": {
    "hidden": true
   },
   "outputs": [],
   "source": []
  },
  {
   "cell_type": "markdown",
   "id": "07c01dbe",
   "metadata": {
    "hidden": true
   },
   "source": [
    "-----"
   ]
  },
  {
   "cell_type": "markdown",
   "id": "363ccfc6",
   "metadata": {
    "heading_collapsed": true,
    "hidden": true
   },
   "source": [
    "#### Something"
   ]
  },
  {
   "cell_type": "code",
   "execution_count": null,
   "id": "5054186b",
   "metadata": {
    "ExecuteTime": {
     "end_time": "2022-11-06T11:38:05.581311Z",
     "start_time": "2022-11-06T11:38:05.573333Z"
    },
    "hidden": true
   },
   "outputs": [],
   "source": [
    "# pd.Series([' rated' in val for val in df_for_titled_eval_witheval.Event]).value_counts(normalize=True)*100\n",
    "\n",
    "# # True     94.433854\n",
    "# # False     5.566146"
   ]
  },
  {
   "cell_type": "markdown",
   "id": "782b8929",
   "metadata": {
    "hidden": true
   },
   "source": [
    "Around 5% of games are unrated in that titled dataset (pre-cleaning)."
   ]
  },
  {
   "cell_type": "code",
   "execution_count": null,
   "id": "66a8cab0",
   "metadata": {
    "hidden": true
   },
   "outputs": [],
   "source": []
  },
  {
   "cell_type": "markdown",
   "id": "b56550de",
   "metadata": {
    "hidden": true
   },
   "source": [
    "-----"
   ]
  },
  {
   "cell_type": "markdown",
   "id": "25df8be4",
   "metadata": {
    "heading_collapsed": true,
    "hidden": true
   },
   "source": [
    "#### Doing the cleaning"
   ]
  },
  {
   "cell_type": "markdown",
   "id": "5824d8e9",
   "metadata": {
    "ExecuteTime": {
     "end_time": "2022-11-06T11:40:20.908760Z",
     "start_time": "2022-11-06T11:40:20.893800Z"
    },
    "heading_collapsed": true,
    "hidden": true
   },
   "source": [
    "##### Impose elo range 1600<=elo<=2857"
   ]
  },
  {
   "cell_type": "code",
   "execution_count": null,
   "id": "f0c63766",
   "metadata": {
    "ExecuteTime": {
     "end_time": "2022-11-06T11:53:23.853326Z",
     "start_time": "2022-11-06T11:53:23.841358Z"
    },
    "code_folding": [
     0
    ],
    "hidden": true
   },
   "outputs": [],
   "source": [
    "def impose_elo_bounding(df_, lower_bound_=1600, upper_bound_=2857, reset_index_=False):\n",
    "    '''\n",
    "    Given a df_, this will return a dataframe where the games are bounded between the lower and upper bound (i.e. greater than or equal to lower bound and less than or equal to upper bound)\n",
    "    \n",
    "    If reset_index_ is True, the returned dataframe will have had its index reset\n",
    "    '''\n",
    "    \n",
    "    df_elo_bounded_ = df_[\n",
    "        (df_.WhiteElo>=lower_bound_) & (df_.WhiteElo<=upper_bound_) &\\\n",
    "        (df_.BlackElo>=lower_bound_) & (df_.BlackElo<=upper_bound_)]\n",
    "    \n",
    "    if reset_index_:\n",
    "        df_elo_bounded_ = df_elo_bounded_.reset_index(drop=True)\n",
    "        return df_elo_bounded_\n",
    "    else:\n",
    "        return df_elo_bounded_\n",
    " "
   ]
  },
  {
   "cell_type": "code",
   "execution_count": null,
   "id": "b6718301",
   "metadata": {
    "ExecuteTime": {
     "end_time": "2022-11-06T11:53:52.370161Z",
     "start_time": "2022-11-06T11:53:52.333227Z"
    },
    "hidden": true
   },
   "outputs": [],
   "source": [
    "df_for_titled_eval_witheval_bounded = impose_elo_bounding(df_for_titled_eval_witheval, 1600, 2857)\n",
    "df_for_CvH_eval_witheval_bounded = impose_elo_bounding(df_for_CvH_eval_witheval, 1600, 2857)"
   ]
  },
  {
   "cell_type": "code",
   "execution_count": null,
   "id": "23d7a58f",
   "metadata": {
    "ExecuteTime": {
     "end_time": "2022-11-06T11:54:07.039150Z",
     "start_time": "2022-11-06T11:54:06.985294Z"
    },
    "hidden": true
   },
   "outputs": [],
   "source": [
    "df_for_titled_eval_witheval_bounded.head(1)"
   ]
  },
  {
   "cell_type": "code",
   "execution_count": null,
   "id": "2fcd5f29",
   "metadata": {
    "ExecuteTime": {
     "end_time": "2022-11-06T11:54:14.256304Z",
     "start_time": "2022-11-06T11:54:14.175548Z"
    },
    "hidden": true,
    "scrolled": true
   },
   "outputs": [],
   "source": [
    "df_for_CvH_eval_witheval_bounded.head(1)"
   ]
  },
  {
   "cell_type": "markdown",
   "id": "20128fa0",
   "metadata": {
    "hidden": true
   },
   "source": [
    "-----"
   ]
  },
  {
   "cell_type": "markdown",
   "id": "fa28b7c1",
   "metadata": {
    "heading_collapsed": true,
    "hidden": true
   },
   "source": [
    "##### Impute RD values to be 0 if they were 'na'\n"
   ]
  },
  {
   "cell_type": "code",
   "execution_count": null,
   "id": "72fa65f8",
   "metadata": {
    "hidden": true
   },
   "outputs": [],
   "source": [
    "# df_for_titled_eval_witheval_bounded \n",
    "# df_for_CvH_eval_witheval_bounded "
   ]
  },
  {
   "cell_type": "code",
   "execution_count": null,
   "id": "b9755c10",
   "metadata": {
    "ExecuteTime": {
     "end_time": "2022-11-06T12:57:36.913574Z",
     "start_time": "2022-11-06T12:57:36.904599Z"
    },
    "code_folding": [
     0
    ],
    "hidden": true
   },
   "outputs": [],
   "source": [
    "def impute_RD_values(df_):\n",
    "    df=df_.copy()\n",
    "    df[['BlackRD', 'WhiteRD']] = np.array([\n",
    "    [np.int8(0) if y=='na' else np.float16(y) for y in x] for x in df[['BlackRD', 'WhiteRD']].values])\n",
    "    \n",
    "    return df"
   ]
  },
  {
   "cell_type": "code",
   "execution_count": null,
   "id": "1e69278f",
   "metadata": {
    "ExecuteTime": {
     "end_time": "2022-11-06T13:00:04.435532Z",
     "start_time": "2022-11-06T13:00:04.298106Z"
    },
    "hidden": true
   },
   "outputs": [],
   "source": [
    "df_for_titled_eval_witheval_bounded_rdimputed = impute_RD_values(df_for_titled_eval_witheval_bounded)\n",
    "df_for_CvH_eval_witheval_bounded_rdimputed = impute_RD_values(df_for_CvH_eval_witheval_bounded)"
   ]
  },
  {
   "cell_type": "code",
   "execution_count": null,
   "id": "f4c28ba4",
   "metadata": {
    "ExecuteTime": {
     "end_time": "2022-11-06T13:02:45.867901Z",
     "start_time": "2022-11-06T13:02:45.854946Z"
    },
    "hidden": true
   },
   "outputs": [],
   "source": [
    "# display(all([type(val)!=str for val in df_for_titled_eval_witheval_bounded_rdimputed.BlackRD])) # True\n",
    "# display(all([type(val)!=str for val in df_for_titled_eval_witheval_bounded_rdimputed.WhiteRD])) # True\n",
    "\n",
    "# display(all([type(val)!=str for val in df_for_CvH_eval_witheval_bounded_rdimputed.BlackRD])) # True\n",
    "# display(all([type(val)!=str for val in df_for_CvH_eval_witheval_bounded_rdimputed.WhiteRD])) # True"
   ]
  },
  {
   "cell_type": "code",
   "execution_count": null,
   "id": "4e1d2134",
   "metadata": {
    "ExecuteTime": {
     "end_time": "2022-11-06T13:02:28.183736Z",
     "start_time": "2022-11-06T13:02:28.142817Z"
    },
    "hidden": true
   },
   "outputs": [],
   "source": [
    "df_for_titled_eval_witheval_bounded_rdimputed.head(1)\n",
    "# df_for_CvH_eval_witheval_bounded_rdimputed"
   ]
  },
  {
   "cell_type": "code",
   "execution_count": null,
   "id": "a5a6d234",
   "metadata": {
    "hidden": true
   },
   "outputs": [],
   "source": []
  },
  {
   "cell_type": "markdown",
   "id": "0e596dcd",
   "metadata": {
    "hidden": true
   },
   "source": [
    "-----"
   ]
  },
  {
   "cell_type": "markdown",
   "id": "70f7dd6a",
   "metadata": {
    "heading_collapsed": true,
    "hidden": true
   },
   "source": [
    "##### Removing 'Error occured' games\n"
   ]
  },
  {
   "cell_type": "code",
   "execution_count": null,
   "id": "735ff2cf",
   "metadata": {
    "ExecuteTime": {
     "end_time": "2022-11-06T13:08:34.872328Z",
     "start_time": "2022-11-06T13:08:34.860335Z"
    },
    "hidden": true
   },
   "outputs": [],
   "source": [
    "# df_for_titled_eval_witheval_bounded_rdimputed\n",
    "# df_for_CvH_eval_witheval_bounded_rdimputed"
   ]
  },
  {
   "cell_type": "code",
   "execution_count": null,
   "id": "8869ffdb",
   "metadata": {
    "ExecuteTime": {
     "end_time": "2022-11-06T13:15:32.594136Z",
     "start_time": "2022-11-06T13:15:32.584161Z"
    },
    "hidden": true
   },
   "outputs": [],
   "source": [
    "df_for_titled_eval_witheval_bounded_rdimputed = df_for_titled_eval_witheval_bounded_rdimputed.rename(columns={'eval': 'eval_'})\n",
    "df_for_CvH_eval_witheval_bounded_rdimputed = df_for_CvH_eval_witheval_bounded_rdimputed.rename(columns={'eval': 'eval_'})"
   ]
  },
  {
   "cell_type": "code",
   "execution_count": null,
   "id": "fd296bf9",
   "metadata": {
    "ExecuteTime": {
     "end_time": "2022-11-06T13:21:08.967664Z",
     "start_time": "2022-11-06T13:21:08.944748Z"
    },
    "hidden": true
   },
   "outputs": [],
   "source": [
    "any([val==['Error occured'] for val in df_for_titled_eval_witheval_bounded_rdimputed.eval_]) # True - there are some error occureds\n",
    "any([val==['Error occured'] for val in df_for_CvH_eval_witheval_bounded_rdimputed.eval_]) # True - there are some error occureds"
   ]
  },
  {
   "cell_type": "markdown",
   "id": "89d56e13",
   "metadata": {
    "hidden": true
   },
   "source": [
    "There are error occureds in both dfs"
   ]
  },
  {
   "cell_type": "code",
   "execution_count": null,
   "id": "dfd339bc",
   "metadata": {
    "ExecuteTime": {
     "end_time": "2022-11-06T13:23:53.248735Z",
     "start_time": "2022-11-06T13:23:53.208805Z"
    },
    "hidden": true
   },
   "outputs": [],
   "source": [
    "df_for_titled_eval_witheval_bounded_rdimputed_noerroneousevals = \\\n",
    "    df_for_titled_eval_witheval_bounded_rdimputed[\n",
    "        [val!=['Error occured'] for val in df_for_titled_eval_witheval_bounded_rdimputed.eval_]]\n",
    "\n",
    "df_for_CvH_eval_witheval_bounded_rdimputed_noerroneousevals = \\\n",
    "    df_for_CvH_eval_witheval_bounded_rdimputed[\n",
    "        [val!=['Error occured'] for val in df_for_CvH_eval_witheval_bounded_rdimputed.eval_]]\n",
    "    "
   ]
  },
  {
   "cell_type": "code",
   "execution_count": null,
   "id": "971a31fd",
   "metadata": {
    "ExecuteTime": {
     "end_time": "2022-11-06T13:24:24.817620Z",
     "start_time": "2022-11-06T13:24:24.803654Z"
    },
    "hidden": true
   },
   "outputs": [],
   "source": [
    "any([val==['Error occured'] for val in df_for_titled_eval_witheval_bounded_rdimputed_noerroneousevals.eval_]) # False\n",
    "any([val==['Error occured'] for val in df_for_CvH_eval_witheval_bounded_rdimputed_noerroneousevals.eval_]) # False"
   ]
  },
  {
   "cell_type": "code",
   "execution_count": null,
   "id": "052e33c9",
   "metadata": {
    "ExecuteTime": {
     "end_time": "2022-11-06T13:40:37.270658Z",
     "start_time": "2022-11-06T13:38:54.512979Z"
    },
    "hidden": true
   },
   "outputs": [],
   "source": [
    "# joblib.dump(df_for_titled_eval_witheval_bounded_rdimputed_noerroneousevals,\n",
    "#            'E:/data/capstone/cleaned/Titled/base_clean_titled.pkl',\n",
    "#            compress=9)"
   ]
  },
  {
   "cell_type": "code",
   "execution_count": null,
   "id": "84df819b",
   "metadata": {
    "ExecuteTime": {
     "end_time": "2022-11-06T13:42:26.572665Z",
     "start_time": "2022-11-06T13:40:37.272637Z"
    },
    "hidden": true
   },
   "outputs": [],
   "source": [
    "# joblib.dump(df_for_CvH_eval_witheval_bounded_rdimputed_noerroneousevals,\n",
    "#            'E:/data/capstone/cleaned/CvH/base_clean_CvH.pkl',\n",
    "#            compress=9)"
   ]
  },
  {
   "cell_type": "markdown",
   "id": "043e7266",
   "metadata": {
    "hidden": true
   },
   "source": [
    "-----"
   ]
  },
  {
   "cell_type": "markdown",
   "id": "38c1b7cd",
   "metadata": {
    "heading_collapsed": true,
    "hidden": true
   },
   "source": [
    "### Using evaluations to make features"
   ]
  },
  {
   "cell_type": "markdown",
   "id": "99414afa",
   "metadata": {
    "hidden": true
   },
   "source": [
    "#### Loading in "
   ]
  },
  {
   "cell_type": "code",
   "execution_count": null,
   "id": "21d3f15f",
   "metadata": {
    "ExecuteTime": {
     "end_time": "2022-11-06T18:59:53.246846Z",
     "start_time": "2022-11-06T18:59:12.695370Z"
    },
    "hidden": true
   },
   "outputs": [],
   "source": [
    "base_clean_titled = joblib.load('E:/data/capstone/cleaned/Titled/base_clean_titled.pkl')\n",
    "base_clean_CvH = joblib.load('E:/data/capstone/cleaned/CvH/base_clean_CvH.pkl')"
   ]
  },
  {
   "cell_type": "markdown",
   "id": "379be03e",
   "metadata": {
    "hidden": true
   },
   "source": [
    "-----"
   ]
  },
  {
   "cell_type": "markdown",
   "id": "88ccf92b",
   "metadata": {
    "hidden": true
   },
   "source": [
    "#### Top recommendation checking"
   ]
  },
  {
   "cell_type": "markdown",
   "id": "bb569200",
   "metadata": {
    "heading_collapsed": true,
    "hidden": true
   },
   "source": [
    "##### All in one"
   ]
  },
  {
   "cell_type": "code",
   "execution_count": null,
   "id": "2e0ebaae",
   "metadata": {
    "ExecuteTime": {
     "end_time": "2022-11-06T19:00:32.693402Z",
     "start_time": "2022-11-06T18:59:53.247860Z"
    },
    "hidden": true
   },
   "outputs": [],
   "source": [
    "# titled\n",
    "base_clean_titled = hp.convert_all_game_moves_to_uci(base_clean_titled)\n",
    "base_clean_titled = hp.get_eval_top_move_for_all_games(base_clean_titled)\n",
    "base_clean_titled = hp.percent_of_top_moves_played_in_all_games_by_white_and_black(base_clean_titled)"
   ]
  },
  {
   "cell_type": "code",
   "execution_count": null,
   "id": "c637ed31",
   "metadata": {
    "ExecuteTime": {
     "end_time": "2022-11-06T19:01:17.723574Z",
     "start_time": "2022-11-06T19:00:32.694295Z"
    },
    "hidden": true
   },
   "outputs": [],
   "source": [
    "# CvH\n",
    "base_clean_CvH = hp.convert_all_game_moves_to_uci(base_clean_CvH)\n",
    "base_clean_CvH = hp.get_eval_top_move_for_all_games(base_clean_CvH)\n",
    "base_clean_CvH = hp.percent_of_top_moves_played_in_all_games_by_white_and_black(base_clean_CvH)"
   ]
  },
  {
   "cell_type": "code",
   "execution_count": null,
   "id": "c831ed82",
   "metadata": {
    "ExecuteTime": {
     "end_time": "2022-11-06T19:03:05.375814Z",
     "start_time": "2022-11-06T19:01:17.724572Z"
    },
    "hidden": true
   },
   "outputs": [],
   "source": [
    "# joblib.dump(base_clean_titled,\n",
    "#            'E:/data/capstone/cleaned/Titled/incl_top_move_perc_titled.pkl',\n",
    "#            compress=9)"
   ]
  },
  {
   "cell_type": "code",
   "execution_count": null,
   "id": "2a44ef8f",
   "metadata": {
    "ExecuteTime": {
     "end_time": "2022-11-06T19:05:01.534014Z",
     "start_time": "2022-11-06T19:03:05.377809Z"
    },
    "hidden": true
   },
   "outputs": [],
   "source": [
    "# joblib.dump(base_clean_CvH,\n",
    "#            'E:/data/capstone/cleaned/CvH/incl_top_move_perc_CvH.pkl',\n",
    "#            compress=9)"
   ]
  },
  {
   "cell_type": "markdown",
   "id": "559f5d95",
   "metadata": {
    "hidden": true
   },
   "source": [
    "-----"
   ]
  },
  {
   "cell_type": "markdown",
   "id": "2150757d",
   "metadata": {
    "heading_collapsed": true,
    "hidden": true
   },
   "source": [
    "###### Other"
   ]
  },
  {
   "cell_type": "code",
   "execution_count": null,
   "id": "4c088bfa",
   "metadata": {
    "ExecuteTime": {
     "end_time": "2022-11-06T13:45:31.488584Z",
     "start_time": "2022-11-06T13:45:31.273906Z"
    },
    "hidden": true
   },
   "outputs": [],
   "source": [
    "base_clean_titled['eval_'].head()"
   ]
  },
  {
   "cell_type": "code",
   "execution_count": null,
   "id": "48964ee0",
   "metadata": {
    "ExecuteTime": {
     "end_time": "2022-11-06T13:45:31.504568Z",
     "start_time": "2022-11-06T13:45:31.489620Z"
    },
    "hidden": true
   },
   "outputs": [],
   "source": [
    "one_game_ = base_clean_titled.iloc[0]"
   ]
  },
  {
   "cell_type": "code",
   "execution_count": null,
   "id": "71a1a86e",
   "metadata": {
    "ExecuteTime": {
     "end_time": "2022-11-06T13:45:31.519534Z",
     "start_time": "2022-11-06T13:45:31.505541Z"
    },
    "hidden": true
   },
   "outputs": [],
   "source": [
    "one_game_.eval_ # one game\n",
    "len(one_game_.eval_) # 22\n",
    "one_game_.PlyCount # 22\n",
    "one_game_.eval_[0] # one position\n",
    "one_game_.eval_[0][0] # one position's top recommendation\n"
   ]
  },
  {
   "cell_type": "code",
   "execution_count": null,
   "id": "dc567317",
   "metadata": {
    "ExecuteTime": {
     "end_time": "2022-11-06T13:46:07.677490Z",
     "start_time": "2022-11-06T13:46:07.668482Z"
    },
    "hidden": true
   },
   "outputs": [],
   "source": [
    "one_game_.eval_[1][0]"
   ]
  },
  {
   "cell_type": "code",
   "execution_count": null,
   "id": "8711197c",
   "metadata": {
    "ExecuteTime": {
     "end_time": "2022-11-06T14:02:45.887622Z",
     "start_time": "2022-11-06T14:02:45.879639Z"
    },
    "hidden": true
   },
   "outputs": [],
   "source": [
    "one_game_.moves\n",
    "type(one_game_.moves)"
   ]
  },
  {
   "cell_type": "markdown",
   "id": "91f1f915",
   "metadata": {
    "ExecuteTime": {
     "end_time": "2022-11-06T13:52:53.126638Z",
     "start_time": "2022-11-06T13:52:53.110664Z"
    },
    "heading_collapsed": true,
    "hidden": true
   },
   "source": [
    "##### How to turn each 'move' in moves to a uci format"
   ]
  },
  {
   "cell_type": "markdown",
   "id": "1911db3f",
   "metadata": {
    "heading_collapsed": true,
    "hidden": true
   },
   "source": [
    "###### One game"
   ]
  },
  {
   "cell_type": "code",
   "execution_count": null,
   "id": "4ea8242b",
   "metadata": {
    "ExecuteTime": {
     "end_time": "2022-11-06T13:58:56.051743Z",
     "start_time": "2022-11-06T13:58:51.902533Z"
    },
    "code_folding": [
     0
    ],
    "hidden": true
   },
   "outputs": [],
   "source": [
    "# # %%timeit # 511 µs ± 2.61 µs per loop (mean ± std. dev. of 7 runs, 1,000 loops each)\n",
    "# # for one game\n",
    "# board=chess.Board()\n",
    "# uci_moves = []\n",
    "# for move_ in one_game_.moves:\n",
    "#     uci_moves.append(chess.Move.uci(board.push_san(move_)))"
   ]
  },
  {
   "cell_type": "code",
   "execution_count": null,
   "id": "dee03e4c",
   "metadata": {
    "ExecuteTime": {
     "end_time": "2022-11-06T13:59:01.080522Z",
     "start_time": "2022-11-06T13:58:56.952609Z"
    },
    "code_folding": [
     0
    ],
    "hidden": true
   },
   "outputs": [],
   "source": [
    "# %%timeit # 507 µs ± 1.25 µs per loop (mean ± std. dev. of 7 runs, 1,000 loops each)\n",
    "# for one game\n",
    "board=chess.Board()\n",
    "uci_moves_ = [chess.Move.uci(board.push_san(move_[0])) for move_ in zip(one_game_.moves)]"
   ]
  },
  {
   "cell_type": "code",
   "execution_count": null,
   "id": "6f499322",
   "metadata": {
    "ExecuteTime": {
     "end_time": "2022-11-06T14:13:13.617143Z",
     "start_time": "2022-11-06T14:13:13.609164Z"
    },
    "code_folding": [
     0
    ],
    "hidden": true
   },
   "outputs": [],
   "source": [
    "def convert_game_moves_to_uci(game_moves_):\n",
    "    '''\n",
    "    Converts one game's moves to uci format\n",
    "    game_moves_ should be a list (i.e. game.moves)\n",
    "    '''\n",
    "    \n",
    "    board=chess.Board()\n",
    "    uci_moves_ = [chess.Move.uci(board.push_san(move_[0])) for move_ in zip(game_moves_)]\n",
    "    \n",
    "    return uci_moves_"
   ]
  },
  {
   "cell_type": "code",
   "execution_count": null,
   "id": "d8259fbe",
   "metadata": {
    "ExecuteTime": {
     "end_time": "2022-11-06T14:04:18.187436Z",
     "start_time": "2022-11-06T14:04:18.169482Z"
    },
    "hidden": true
   },
   "outputs": [],
   "source": [
    "uci_moves_ = convert_game_moves_to_uci(one_game_.moves)"
   ]
  },
  {
   "cell_type": "code",
   "execution_count": null,
   "id": "4e8b326a",
   "metadata": {
    "ExecuteTime": {
     "end_time": "2022-11-06T14:04:21.428079Z",
     "start_time": "2022-11-06T14:04:21.409100Z"
    },
    "hidden": true
   },
   "outputs": [],
   "source": [
    "uci_moves_"
   ]
  },
  {
   "cell_type": "markdown",
   "id": "76589456",
   "metadata": {
    "hidden": true
   },
   "source": [
    "-----"
   ]
  },
  {
   "cell_type": "markdown",
   "id": "21c28fb7",
   "metadata": {
    "heading_collapsed": true,
    "hidden": true
   },
   "source": [
    "###### All games"
   ]
  },
  {
   "cell_type": "code",
   "execution_count": null,
   "id": "1c17d9c8",
   "metadata": {
    "ExecuteTime": {
     "end_time": "2022-11-06T14:06:40.979603Z",
     "start_time": "2022-11-06T14:06:40.963646Z"
    },
    "hidden": true
   },
   "outputs": [],
   "source": [
    "sample_ = base_clean_titled.iloc[0:10]"
   ]
  },
  {
   "cell_type": "code",
   "execution_count": null,
   "id": "102eaf6a",
   "metadata": {
    "ExecuteTime": {
     "end_time": "2022-11-06T14:06:51.317066Z",
     "start_time": "2022-11-06T14:06:51.295095Z"
    },
    "hidden": true
   },
   "outputs": [],
   "source": [
    "sample_.moves"
   ]
  },
  {
   "cell_type": "code",
   "execution_count": null,
   "id": "18c82e37",
   "metadata": {
    "ExecuteTime": {
     "end_time": "2022-11-06T14:08:51.696094Z",
     "start_time": "2022-11-06T14:08:51.664204Z"
    },
    "hidden": true
   },
   "outputs": [],
   "source": [
    "games_uci_moves = []\n",
    "for game_ in sample_.moves:\n",
    "    games_uci_moves.append(convert_game_moves_to_uci(game_))"
   ]
  },
  {
   "cell_type": "code",
   "execution_count": null,
   "id": "24852e6f",
   "metadata": {
    "ExecuteTime": {
     "end_time": "2022-11-06T14:09:05.559199Z",
     "start_time": "2022-11-06T14:09:05.549194Z"
    },
    "hidden": true
   },
   "outputs": [],
   "source": [
    "games_uci_moves[0];"
   ]
  },
  {
   "cell_type": "code",
   "execution_count": null,
   "id": "d88b1b8b",
   "metadata": {
    "ExecuteTime": {
     "end_time": "2022-11-06T14:12:13.937693Z",
     "start_time": "2022-11-06T14:12:13.913756Z"
    },
    "hidden": true
   },
   "outputs": [],
   "source": [
    "games_uci_moves = [convert_game_moves_to_uci(game_[0]) for game_ in zip(sample_.moves)]"
   ]
  },
  {
   "cell_type": "code",
   "execution_count": null,
   "id": "e4d0e14a",
   "metadata": {
    "ExecuteTime": {
     "end_time": "2022-11-06T14:12:20.493828Z",
     "start_time": "2022-11-06T14:12:20.480833Z"
    },
    "hidden": true
   },
   "outputs": [],
   "source": [
    "games_uci_moves[0];"
   ]
  },
  {
   "cell_type": "code",
   "execution_count": null,
   "id": "462af363",
   "metadata": {
    "ExecuteTime": {
     "end_time": "2022-11-06T14:13:17.680389Z",
     "start_time": "2022-11-06T14:13:17.663462Z"
    },
    "code_folding": [
     0
    ],
    "hidden": true
   },
   "outputs": [],
   "source": [
    "def convert_all_game_moves_to_uci(df_):\n",
    "    '''\n",
    "    This will return a dataframe with a new column of uci_moves\n",
    "    dataframe df_ should have a column of \"moves\"\n",
    "    '''\n",
    "    \n",
    "    df=df_.copy()\n",
    "    df['uci_moves'] = [convert_game_moves_to_uci(game_[0]) for game_ in zip(df.moves)]\n",
    "    \n",
    "    return df"
   ]
  },
  {
   "cell_type": "code",
   "execution_count": null,
   "id": "94568091",
   "metadata": {
    "ExecuteTime": {
     "end_time": "2022-11-06T14:13:40.549889Z",
     "start_time": "2022-11-06T14:13:40.526922Z"
    },
    "hidden": true
   },
   "outputs": [],
   "source": [
    "test_df = convert_all_game_moves_to_uci(sample_)"
   ]
  },
  {
   "cell_type": "code",
   "execution_count": null,
   "id": "48972987",
   "metadata": {
    "ExecuteTime": {
     "end_time": "2022-11-06T14:14:16.346345Z",
     "start_time": "2022-11-06T14:14:16.298232Z"
    },
    "hidden": true
   },
   "outputs": [],
   "source": [
    "test_df.head(1)"
   ]
  },
  {
   "cell_type": "code",
   "execution_count": null,
   "id": "7dbca920",
   "metadata": {
    "hidden": true
   },
   "outputs": [],
   "source": []
  },
  {
   "cell_type": "markdown",
   "id": "a9adb7dc",
   "metadata": {
    "hidden": true
   },
   "source": [
    "-----"
   ]
  },
  {
   "cell_type": "markdown",
   "id": "77a63ee0",
   "metadata": {
    "heading_collapsed": true,
    "hidden": true
   },
   "source": [
    "##### Continuing"
   ]
  },
  {
   "cell_type": "code",
   "execution_count": null,
   "id": "56948852",
   "metadata": {
    "ExecuteTime": {
     "end_time": "2022-11-06T15:10:43.310874Z",
     "start_time": "2022-11-06T15:09:59.111534Z"
    },
    "hidden": true
   },
   "outputs": [],
   "source": [
    "base_clean_titled = convert_all_game_moves_to_uci(base_clean_titled)\n",
    "\n",
    "base_clean_CvH = convert_all_game_moves_to_uci(base_clean_CvH)"
   ]
  },
  {
   "cell_type": "code",
   "execution_count": null,
   "id": "eb718071",
   "metadata": {
    "ExecuteTime": {
     "end_time": "2022-11-06T14:17:42.496520Z",
     "start_time": "2022-11-06T14:17:42.487516Z"
    },
    "hidden": true
   },
   "outputs": [],
   "source": [
    "one_game_.eval_ # one game\n",
    "len(one_game_.eval_) # 22\n",
    "one_game_.PlyCount # 22\n",
    "one_game_.eval_[0] # one position\n",
    "one_game_.eval_[0][0] # one position's top recommendation\n",
    "one_game_.eval_[0][0][1] # one move : 'd2d4'\n",
    "type(one_game_.eval_[0][0][1]) # str\n"
   ]
  },
  {
   "cell_type": "code",
   "execution_count": null,
   "id": "a31c49bb",
   "metadata": {
    "ExecuteTime": {
     "end_time": "2022-11-06T15:10:43.357975Z",
     "start_time": "2022-11-06T15:10:43.311906Z"
    },
    "hidden": true
   },
   "outputs": [],
   "source": [
    "base_clean_titled.head(1)"
   ]
  },
  {
   "cell_type": "markdown",
   "id": "e0fce1a0",
   "metadata": {
    "heading_collapsed": true,
    "hidden": true
   },
   "source": [
    "##### How to extract only the top move recommendation"
   ]
  },
  {
   "cell_type": "markdown",
   "id": "f9c9ca09",
   "metadata": {
    "heading_collapsed": true,
    "hidden": true
   },
   "source": [
    "###### One game\n"
   ]
  },
  {
   "cell_type": "code",
   "execution_count": null,
   "id": "74a74e67",
   "metadata": {
    "ExecuteTime": {
     "end_time": "2022-11-06T14:21:13.729253Z",
     "start_time": "2022-11-06T14:21:13.722272Z"
    },
    "hidden": true
   },
   "outputs": [],
   "source": [
    "top_move_list = []\n",
    "for pos_ in one_game_.eval_:\n",
    "    top_move_list.append(pos_[0][1])"
   ]
  },
  {
   "cell_type": "code",
   "execution_count": null,
   "id": "80116dbc",
   "metadata": {
    "ExecuteTime": {
     "end_time": "2022-11-06T14:23:25.219307Z",
     "start_time": "2022-11-06T14:23:25.212302Z"
    },
    "hidden": true
   },
   "outputs": [],
   "source": [
    "top_move_list;"
   ]
  },
  {
   "cell_type": "code",
   "execution_count": null,
   "id": "a4eafcbb",
   "metadata": {
    "ExecuteTime": {
     "end_time": "2022-11-06T14:22:57.374361Z",
     "start_time": "2022-11-06T14:22:57.363389Z"
    },
    "hidden": true
   },
   "outputs": [],
   "source": [
    "top_move_list_ = [pos_[0][1] for pos_ in one_game_.eval_]"
   ]
  },
  {
   "cell_type": "code",
   "execution_count": null,
   "id": "084fc94c",
   "metadata": {
    "ExecuteTime": {
     "end_time": "2022-11-06T14:23:22.101229Z",
     "start_time": "2022-11-06T14:23:22.092253Z"
    },
    "hidden": true
   },
   "outputs": [],
   "source": [
    "top_move_list_;"
   ]
  },
  {
   "cell_type": "code",
   "execution_count": null,
   "id": "dc7131dc",
   "metadata": {
    "ExecuteTime": {
     "end_time": "2022-11-06T15:09:43.608469Z",
     "start_time": "2022-11-06T15:09:43.595504Z"
    },
    "code_folding": [
     0
    ],
    "hidden": true
   },
   "outputs": [],
   "source": [
    "def get_eval_top_move_for_game(game_eval_):\n",
    "    '''\n",
    "    Extracts the top move for every position in the game's evaluation list\n",
    "    '''\n",
    "    \n",
    "    top_move_list_ = [pos_[0][0][1] for pos_ in zip(game_eval_)]\n",
    "    \n",
    "    return top_move_list_"
   ]
  },
  {
   "cell_type": "code",
   "execution_count": null,
   "id": "57e2242f",
   "metadata": {
    "ExecuteTime": {
     "end_time": "2022-11-06T14:26:07.792131Z",
     "start_time": "2022-11-06T14:26:07.780162Z"
    },
    "hidden": true
   },
   "outputs": [],
   "source": [
    "top_move_list_ = get_eval_top_move_for_game(one_game_.eval_)"
   ]
  },
  {
   "cell_type": "code",
   "execution_count": null,
   "id": "4330d57e",
   "metadata": {
    "ExecuteTime": {
     "end_time": "2022-11-06T14:26:11.355591Z",
     "start_time": "2022-11-06T14:26:11.340603Z"
    },
    "hidden": true
   },
   "outputs": [],
   "source": [
    "top_move_list_;"
   ]
  },
  {
   "cell_type": "markdown",
   "id": "871fb382",
   "metadata": {
    "hidden": true
   },
   "source": [
    "----"
   ]
  },
  {
   "cell_type": "markdown",
   "id": "98b5dcb6",
   "metadata": {
    "heading_collapsed": true,
    "hidden": true
   },
   "source": [
    "###### All games"
   ]
  },
  {
   "cell_type": "code",
   "execution_count": null,
   "id": "832bd678",
   "metadata": {
    "ExecuteTime": {
     "end_time": "2022-11-06T15:09:37.812915Z",
     "start_time": "2022-11-06T15:09:37.804909Z"
    },
    "code_folding": [
     0
    ],
    "hidden": true
   },
   "outputs": [],
   "source": [
    "def get_eval_top_move_for_all_games(df_):\n",
    "    '''\n",
    "    This will return a dataframe with a new column of top_moves\n",
    "    dataframe df_ should have a column of \"eval_\"\n",
    "    '''\n",
    "    \n",
    "    df=df_.copy()\n",
    "    df['top_uci_moves'] = [get_eval_top_move_for_game(game_[0]) for game_ in zip(df.eval_)]\n",
    "    \n",
    "    return df"
   ]
  },
  {
   "cell_type": "code",
   "execution_count": null,
   "id": "dea64ef5",
   "metadata": {
    "ExecuteTime": {
     "end_time": "2022-11-06T14:29:05.474675Z",
     "start_time": "2022-11-06T14:29:05.066823Z"
    },
    "hidden": true
   },
   "outputs": [],
   "source": [
    "test_df = get_eval_top_move_for_all_games(base_clean_titled)"
   ]
  },
  {
   "cell_type": "code",
   "execution_count": null,
   "id": "590a6bd6",
   "metadata": {
    "ExecuteTime": {
     "end_time": "2022-11-06T14:29:10.267312Z",
     "start_time": "2022-11-06T14:29:10.212458Z"
    },
    "hidden": true
   },
   "outputs": [],
   "source": [
    "test_df.head(1)"
   ]
  },
  {
   "cell_type": "markdown",
   "id": "cee08174",
   "metadata": {
    "hidden": true
   },
   "source": [
    "----"
   ]
  },
  {
   "cell_type": "markdown",
   "id": "eb9df649",
   "metadata": {
    "heading_collapsed": true,
    "hidden": true
   },
   "source": [
    "##### Continuing"
   ]
  },
  {
   "cell_type": "code",
   "execution_count": null,
   "id": "a0ff1692",
   "metadata": {
    "ExecuteTime": {
     "end_time": "2022-11-06T15:10:52.095825Z",
     "start_time": "2022-11-06T15:10:51.421477Z"
    },
    "hidden": true
   },
   "outputs": [],
   "source": [
    "base_clean_titled = get_eval_top_move_for_all_games(base_clean_titled)\n",
    "\n",
    "base_clean_CvH = get_eval_top_move_for_all_games(base_clean_CvH)"
   ]
  },
  {
   "cell_type": "code",
   "execution_count": null,
   "id": "4815c826",
   "metadata": {
    "ExecuteTime": {
     "end_time": "2022-11-06T15:10:52.872574Z",
     "start_time": "2022-11-06T15:10:52.818709Z"
    },
    "hidden": true
   },
   "outputs": [],
   "source": [
    "base_clean_titled.head(1)"
   ]
  },
  {
   "cell_type": "code",
   "execution_count": null,
   "id": "e888d1bf",
   "metadata": {
    "hidden": true
   },
   "outputs": [],
   "source": []
  },
  {
   "cell_type": "code",
   "execution_count": null,
   "id": "56bc8739",
   "metadata": {
    "ExecuteTime": {
     "end_time": "2022-11-06T15:11:02.252519Z",
     "start_time": "2022-11-06T15:11:02.247532Z"
    },
    "hidden": true
   },
   "outputs": [],
   "source": [
    "one_game_ = base_clean_titled.iloc[0]"
   ]
  },
  {
   "cell_type": "code",
   "execution_count": null,
   "id": "7a5bc38c",
   "metadata": {
    "ExecuteTime": {
     "end_time": "2022-11-06T15:11:02.548880Z",
     "start_time": "2022-11-06T15:11:02.518930Z"
    },
    "hidden": true
   },
   "outputs": [],
   "source": [
    "one_game_"
   ]
  },
  {
   "cell_type": "markdown",
   "id": "0f319e72",
   "metadata": {
    "hidden": true
   },
   "source": [
    "-----"
   ]
  },
  {
   "cell_type": "markdown",
   "id": "ac4467e4",
   "metadata": {
    "heading_collapsed": true,
    "hidden": true
   },
   "source": [
    "##### How to compare the top move to the move played"
   ]
  },
  {
   "cell_type": "markdown",
   "id": "224c6c80",
   "metadata": {
    "heading_collapsed": true,
    "hidden": true
   },
   "source": [
    "###### One game"
   ]
  },
  {
   "cell_type": "markdown",
   "id": "ed93350d",
   "metadata": {
    "hidden": true
   },
   "source": [
    "First separate white moves and black moves"
   ]
  },
  {
   "cell_type": "code",
   "execution_count": null,
   "id": "ee73d323",
   "metadata": {
    "ExecuteTime": {
     "end_time": "2022-11-06T15:11:09.853283Z",
     "start_time": "2022-11-06T15:11:09.846273Z"
    },
    "code_folding": [
     0,
     8
    ],
    "hidden": true
   },
   "outputs": [],
   "source": [
    "def get_white_moves(list_of_moves):\n",
    "    '''\n",
    "    Will receive a list of a game's moves values\n",
    "    '''\n",
    "    \n",
    "    white_moves = list_of_moves[::2]\n",
    "    return white_moves   \n",
    "\n",
    "def get_black_moves(list_of_moves):\n",
    "    '''\n",
    "    Will receive a list of a game's moves values\n",
    "    '''\n",
    "    \n",
    "    black_moves = list_of_moves[1::2]\n",
    "    return black_moves  "
   ]
  },
  {
   "cell_type": "code",
   "execution_count": null,
   "id": "c3f9ac66",
   "metadata": {
    "ExecuteTime": {
     "end_time": "2022-11-06T15:11:10.165153Z",
     "start_time": "2022-11-06T15:11:10.153166Z"
    },
    "code_folding": [
     0
    ],
    "hidden": true
   },
   "outputs": [],
   "source": [
    "def separate_all_white_and_black_moves(df_, is_uci=False, include_top_moves=False):\n",
    "    '''\n",
    "    This will receive a dataframe with a column of moves or uci_moves\n",
    "    This will output the dataframe with two new columns: white_(uci_)moves and black_(uci_)moves\n",
    "    '''\n",
    "    df=df_.copy()\n",
    "    if is_uci:\n",
    "        df[['white_uci_moves', 'black_uci_moves']]=[[get_white_moves(list_of_moves[0]), get_black_moves(list_of_moves[0])] for list_of_moves in zip(df.uci_moves)]\n",
    "    else:\n",
    "        df[['white_moves', 'black_moves']]=[[get_white_moves(list_of_moves[0]), get_black_moves(list_of_moves[0])] for list_of_moves in zip(df.moves)]\n",
    "    \n",
    "    if include_top_moves:\n",
    "        df[['white_top_uci_moves', 'black_top_uci_moves']]=[[get_white_moves(list_of_moves[0]), get_black_moves(list_of_moves[0])] for list_of_moves in zip(df.top_uci_moves)]\n",
    "    else:\n",
    "        pass\n",
    "\n",
    "    return df"
   ]
  },
  {
   "cell_type": "code",
   "execution_count": null,
   "id": "312f4ea2",
   "metadata": {
    "ExecuteTime": {
     "end_time": "2022-11-06T15:11:13.649345Z",
     "start_time": "2022-11-06T15:11:13.643367Z"
    },
    "hidden": true
   },
   "outputs": [],
   "source": [
    "sample_ = base_clean_titled.iloc[0:10]"
   ]
  },
  {
   "cell_type": "code",
   "execution_count": null,
   "id": "f89c5d61",
   "metadata": {
    "ExecuteTime": {
     "end_time": "2022-11-06T15:11:14.520306Z",
     "start_time": "2022-11-06T15:11:14.467388Z"
    },
    "hidden": true
   },
   "outputs": [],
   "source": [
    "sample_.head(1)"
   ]
  },
  {
   "cell_type": "code",
   "execution_count": null,
   "id": "abb10260",
   "metadata": {
    "ExecuteTime": {
     "end_time": "2022-11-06T15:11:22.847920Z",
     "start_time": "2022-11-06T15:11:22.827972Z"
    },
    "hidden": true
   },
   "outputs": [],
   "source": [
    "sample_ = separate_all_white_and_black_moves(sample_, is_uci=True, include_top_moves=True)"
   ]
  },
  {
   "cell_type": "code",
   "execution_count": null,
   "id": "ae13b86c",
   "metadata": {
    "ExecuteTime": {
     "end_time": "2022-11-06T15:11:23.487616Z",
     "start_time": "2022-11-06T15:11:23.440717Z"
    },
    "hidden": true
   },
   "outputs": [],
   "source": [
    "sample_.head(1)"
   ]
  },
  {
   "cell_type": "code",
   "execution_count": null,
   "id": "e5a0f81c",
   "metadata": {
    "hidden": true
   },
   "outputs": [],
   "source": []
  },
  {
   "cell_type": "code",
   "execution_count": null,
   "id": "7d23da2c",
   "metadata": {
    "ExecuteTime": {
     "end_time": "2022-11-06T15:14:37.241441Z",
     "start_time": "2022-11-06T15:14:37.236428Z"
    },
    "hidden": true
   },
   "outputs": [],
   "source": [
    "one_game_ = sample_.iloc[0]"
   ]
  },
  {
   "cell_type": "code",
   "execution_count": null,
   "id": "f51e3165",
   "metadata": {
    "ExecuteTime": {
     "end_time": "2022-11-06T15:12:17.209288Z",
     "start_time": "2022-11-06T15:12:17.198293Z"
    },
    "hidden": true
   },
   "outputs": [],
   "source": [
    "uci_moves_ = sample_.uci_moves\n",
    "top_moves_ = sample_.top_uci_moves"
   ]
  },
  {
   "cell_type": "code",
   "execution_count": null,
   "id": "270262a3",
   "metadata": {
    "ExecuteTime": {
     "end_time": "2022-11-06T14:37:15.722500Z",
     "start_time": "2022-11-06T14:37:15.718510Z"
    },
    "hidden": true
   },
   "outputs": [],
   "source": [
    "test_ = zip(uci_moves_, top_uci_moves_)"
   ]
  },
  {
   "cell_type": "code",
   "execution_count": null,
   "id": "9d99d9c0",
   "metadata": {
    "ExecuteTime": {
     "end_time": "2022-11-06T14:37:16.251680Z",
     "start_time": "2022-11-06T14:37:16.245695Z"
    },
    "hidden": true
   },
   "outputs": [],
   "source": [
    "move_pair_ = next(test_)\n",
    "display(move_pair_)\n",
    "\n",
    "move_pair_[0]==move_pair_[1]"
   ]
  },
  {
   "cell_type": "code",
   "execution_count": null,
   "id": "b102c6e4",
   "metadata": {
    "ExecuteTime": {
     "end_time": "2022-11-06T14:37:03.465166Z",
     "start_time": "2022-11-06T14:37:03.453170Z"
    },
    "hidden": true
   },
   "outputs": [],
   "source": [
    "move_pair_comparison_ = [move_pair_[0]==move_pair_[1] for move_pair_ in zip(uci_moves_, top_moves_)]"
   ]
  },
  {
   "cell_type": "code",
   "execution_count": null,
   "id": "1505577b",
   "metadata": {
    "ExecuteTime": {
     "end_time": "2022-11-06T14:37:32.507806Z",
     "start_time": "2022-11-06T14:37:32.495841Z"
    },
    "hidden": true
   },
   "outputs": [],
   "source": [
    "move_pair_comparison_\n",
    "type(move_pair_comparison_) # list"
   ]
  },
  {
   "cell_type": "code",
   "execution_count": null,
   "id": "853a2ed7",
   "metadata": {
    "ExecuteTime": {
     "end_time": "2022-11-06T14:41:01.192977Z",
     "start_time": "2022-11-06T14:41:01.183975Z"
    },
    "hidden": true
   },
   "outputs": [],
   "source": [
    "test_=pd.Series(move_pair_comparison_)"
   ]
  },
  {
   "cell_type": "code",
   "execution_count": null,
   "id": "19305efd",
   "metadata": {
    "ExecuteTime": {
     "end_time": "2022-11-06T14:41:51.631483Z",
     "start_time": "2022-11-06T14:41:51.623517Z"
    },
    "hidden": true
   },
   "outputs": [],
   "source": [
    "test__ = test_.value_counts(normalize=True)"
   ]
  },
  {
   "cell_type": "code",
   "execution_count": null,
   "id": "ffba5445",
   "metadata": {
    "ExecuteTime": {
     "end_time": "2022-11-06T14:43:44.755542Z",
     "start_time": "2022-11-06T14:43:44.746566Z"
    },
    "hidden": true
   },
   "outputs": [],
   "source": [
    "type(test__)\n",
    "test__.index\n",
    "test__.loc[True] # 0.45454545454545453\n",
    "np.around(test__.loc[True], 6)"
   ]
  },
  {
   "cell_type": "code",
   "execution_count": null,
   "id": "9cbc1647",
   "metadata": {
    "ExecuteTime": {
     "end_time": "2022-11-06T14:44:40.065841Z",
     "start_time": "2022-11-06T14:44:40.053833Z"
    },
    "hidden": true
   },
   "outputs": [],
   "source": [
    "test_= np.around(pd.Series(move_pair_comparison_).value_counts(normalize=True).loc[True], 6)"
   ]
  },
  {
   "cell_type": "code",
   "execution_count": null,
   "id": "1e248542",
   "metadata": {
    "ExecuteTime": {
     "end_time": "2022-11-06T14:44:43.452855Z",
     "start_time": "2022-11-06T14:44:43.441885Z"
    },
    "hidden": true
   },
   "outputs": [],
   "source": [
    "test_"
   ]
  },
  {
   "cell_type": "code",
   "execution_count": null,
   "id": "35de3f66",
   "metadata": {
    "ExecuteTime": {
     "end_time": "2022-11-06T15:18:46.904781Z",
     "start_time": "2022-11-06T15:18:46.898796Z"
    },
    "code_folding": [
     0,
     12
    ],
    "hidden": true
   },
   "outputs": [],
   "source": [
    "def percent_of_top_moves_played_in_game_by_white(game_):\n",
    "    '''\n",
    "    Expects game_ to have 'white_uci_moves' and 'white_top_uci_moves'\n",
    "    '''\n",
    "    \n",
    "    # Percent Of Top Moves Played By White\n",
    "    move_pair_comparison_ = [move_pair_[0]==move_pair_[1] for move_pair_ in zip(game_.white_uci_moves, game_.white_top_uci_moves)]\n",
    "    potmpbw_ = np.around(pd.Series(move_pair_comparison_).value_counts(normalize=True).loc[True], 6)\n",
    "    \n",
    "    return potmpbw_\n",
    "\n",
    "\n",
    "def percent_of_top_moves_played_in_game_by_black(game_):\n",
    "    '''\n",
    "    Expects game_ to have 'black_uci_moves' and 'black_top_uci_moves'\n",
    "    '''\n",
    "    \n",
    "    # Percent Of Top Moves Played By Black\n",
    "    move_pair_comparison_ = [move_pair_[0]==move_pair_[1] for move_pair_ in zip(game_.black_uci_moves, game_.black_top_uci_moves)]\n",
    "    potmpbb_ = np.around(pd.Series(move_pair_comparison_).value_counts(normalize=True).loc[True], 6)\n",
    "    \n",
    "    return potmpbb_\n"
   ]
  },
  {
   "cell_type": "code",
   "execution_count": null,
   "id": "85b4e346",
   "metadata": {
    "ExecuteTime": {
     "end_time": "2022-11-06T15:15:29.877123Z",
     "start_time": "2022-11-06T15:15:29.864132Z"
    },
    "hidden": true
   },
   "outputs": [],
   "source": [
    "white_test_ = percent_of_top_moves_played_in_game_by_white(one_game_)"
   ]
  },
  {
   "cell_type": "code",
   "execution_count": null,
   "id": "12bd8f2c",
   "metadata": {
    "ExecuteTime": {
     "end_time": "2022-11-06T15:15:32.775450Z",
     "start_time": "2022-11-06T15:15:32.763458Z"
    },
    "hidden": true
   },
   "outputs": [],
   "source": [
    "white_test_"
   ]
  },
  {
   "cell_type": "markdown",
   "id": "09b11015",
   "metadata": {
    "hidden": true
   },
   "source": [
    "----"
   ]
  },
  {
   "cell_type": "markdown",
   "id": "1e2d3ded",
   "metadata": {
    "heading_collapsed": true,
    "hidden": true
   },
   "source": [
    "###### All games"
   ]
  },
  {
   "cell_type": "code",
   "execution_count": null,
   "id": "0dce3d97",
   "metadata": {
    "ExecuteTime": {
     "end_time": "2022-11-06T16:39:50.208938Z",
     "start_time": "2022-11-06T16:39:50.193009Z"
    },
    "hidden": true
   },
   "outputs": [],
   "source": [
    "sample_ = base_clean_titled.iloc[0:10]"
   ]
  },
  {
   "cell_type": "code",
   "execution_count": null,
   "id": "6c2b2df7",
   "metadata": {
    "ExecuteTime": {
     "end_time": "2022-11-06T16:39:51.033081Z",
     "start_time": "2022-11-06T16:39:51.015131Z"
    },
    "hidden": true
   },
   "outputs": [],
   "source": [
    "sample_;"
   ]
  },
  {
   "cell_type": "code",
   "execution_count": null,
   "id": "4e84d17d",
   "metadata": {
    "ExecuteTime": {
     "end_time": "2022-11-06T16:39:51.531821Z",
     "start_time": "2022-11-06T16:39:51.524840Z"
    },
    "hidden": true
   },
   "outputs": [],
   "source": [
    "one_game_ = sample_.iloc[0]"
   ]
  },
  {
   "cell_type": "code",
   "execution_count": null,
   "id": "7687116b",
   "metadata": {
    "ExecuteTime": {
     "end_time": "2022-11-06T16:39:53.231715Z",
     "start_time": "2022-11-06T16:39:53.207750Z"
    },
    "hidden": true
   },
   "outputs": [],
   "source": [
    "one_game_"
   ]
  },
  {
   "cell_type": "markdown",
   "id": "2b6fbd3d",
   "metadata": {
    "hidden": true
   },
   "source": [
    "The function will give the user the option to keep all the calculated column or only keep the final percent of top move played by white and black respectively."
   ]
  },
  {
   "cell_type": "code",
   "execution_count": null,
   "id": "0d971a55",
   "metadata": {
    "ExecuteTime": {
     "end_time": "2022-11-06T16:11:57.057817Z",
     "start_time": "2022-11-06T16:11:57.049838Z"
    },
    "code_folding": [
     0
    ],
    "hidden": true
   },
   "outputs": [],
   "source": [
    "# def percent_of_top_moves_played_in_all_games_by_white_and_black(df_, keep_all_calc_cols=False):\n",
    "#     '''\n",
    "#     Expects df_ to have columns for uci_moves and top_uci_moves\n",
    "    \n",
    "#     If keep_all_calc_cols is True, the returned dataframe will have all the calculated columns\n",
    "#     '''\n",
    "    \n",
    "#     df=df_.copy()\n",
    "    \n",
    "#     # first separate the moves of white and black\n",
    "#     df=separate_all_white_and_black_moves(df, is_uci=True, include_top_moves=True)\n",
    "    \n",
    "#     # find the percentage of top moves played by white\n",
    "#     df['white_played_perc_top_move'] = [percent_of_top_moves_played_in_game_by_white(\n",
    "#         pd.Series(game_[0], index=df.columns)) for game_ in zip(df.values)]\n",
    "    \n",
    "#     # find the percentage of top moves played by white\n",
    "#     df['black_played_perc_top_move'] = [percent_of_top_moves_played_in_game_by_black(\n",
    "#         pd.Series(game_[0], index=df.columns)) for game_ in zip(df.values)]\n",
    "    \n",
    "#     # return is dependent on what columns are wanted\n",
    "#     if keep_all_calc_cols:\n",
    "#         return df\n",
    "#     else:\n",
    "#         df=df.drop(columns=['white_uci_moves', 'white_top_uci_moves', 'black_uci_moves', 'black_top_uci_moves'])\n",
    "#         return df"
   ]
  },
  {
   "cell_type": "code",
   "execution_count": null,
   "id": "2f98f18a",
   "metadata": {
    "ExecuteTime": {
     "end_time": "2022-11-06T16:13:44.086705Z",
     "start_time": "2022-11-06T16:13:44.061771Z"
    },
    "hidden": true
   },
   "outputs": [],
   "source": [
    "sample_test = percent_of_top_moves_played_in_all_games_by_white_and_black(sample_)"
   ]
  },
  {
   "cell_type": "code",
   "execution_count": null,
   "id": "9fd3e9b5",
   "metadata": {
    "ExecuteTime": {
     "end_time": "2022-11-06T16:13:50.483187Z",
     "start_time": "2022-11-06T16:13:50.440302Z"
    },
    "hidden": true
   },
   "outputs": [],
   "source": [
    "sample_test.head(1)"
   ]
  },
  {
   "cell_type": "code",
   "execution_count": null,
   "id": "96e0e611",
   "metadata": {
    "hidden": true
   },
   "outputs": [],
   "source": []
  },
  {
   "cell_type": "code",
   "execution_count": null,
   "id": "8be3840c",
   "metadata": {
    "hidden": true
   },
   "outputs": [],
   "source": []
  },
  {
   "cell_type": "code",
   "execution_count": null,
   "id": "b8212a7d",
   "metadata": {
    "ExecuteTime": {
     "end_time": "2022-11-06T15:11:10.165153Z",
     "start_time": "2022-11-06T15:11:10.153166Z"
    },
    "code_folding": [
     0
    ],
    "hidden": true
   },
   "outputs": [],
   "source": [
    "def separate_all_white_and_black_moves(df_, is_uci=False, include_top_moves=False):\n",
    "    '''\n",
    "    This will receive a dataframe with a column of moves or uci_moves\n",
    "    This will output the dataframe with two new columns: white_(uci_)moves and black_(uci_)moves\n",
    "    '''\n",
    "    df=df_.copy()\n",
    "    if is_uci:\n",
    "        df[['white_uci_moves', 'black_uci_moves']]=[[get_white_moves(list_of_moves[0]), get_black_moves(list_of_moves[0])] for list_of_moves in zip(df.uci_moves)]\n",
    "    else:\n",
    "        df[['white_moves', 'black_moves']]=[[get_white_moves(list_of_moves[0]), get_black_moves(list_of_moves[0])] for list_of_moves in zip(df.moves)]\n",
    "    \n",
    "    if include_top_moves:\n",
    "        df[['white_top_uci_moves', 'black_top_uci_moves']]=[[get_white_moves(list_of_moves[0]), get_black_moves(list_of_moves[0])] for list_of_moves in zip(df.top_uci_moves)]\n",
    "    else:\n",
    "        pass\n",
    "\n",
    "    return df"
   ]
  },
  {
   "cell_type": "code",
   "execution_count": null,
   "id": "1141ea7c",
   "metadata": {
    "ExecuteTime": {
     "end_time": "2022-11-06T17:56:29.581797Z",
     "start_time": "2022-11-06T17:56:29.576810Z"
    },
    "code_folding": [
     0
    ],
    "hidden": true
   },
   "outputs": [],
   "source": [
    "# def percent_of_top_moves_played_in_game_by_white(game_):\n",
    "#     '''\n",
    "#     Expects game_ to have 'white_uci_moves' and 'white_top_uci_moves'\n",
    "#     '''\n",
    "    \n",
    "#     # Percent Of Top Moves Played By White\n",
    "#     move_pair_comparison_ = [move_pair_[0]==move_pair_[1] for move_pair_ in zip(game_.white_uci_moves, game_.white_top_uci_moves)]\n",
    "#     potmpbw_ = np.around(pd.Series(move_pair_comparison_).value_counts(normalize=True).loc[True], 6)\n",
    "    \n",
    "#     return potmpbw_\n",
    "\n",
    "\n",
    "# def percent_of_top_moves_played_in_game_by_black(game_):\n",
    "#     '''\n",
    "#     Expects game_ to have 'black_uci_moves' and 'black_top_uci_moves'\n",
    "#     '''\n",
    "    \n",
    "#     # Percent Of Top Moves Played By Black\n",
    "#     move_pair_comparison_ = [move_pair_[0]==move_pair_[1] for move_pair_ in zip(game_.black_uci_moves, game_.black_top_uci_moves)]\n",
    "#     potmpbb_ = np.around(pd.Series(move_pair_comparison_).value_counts(normalize=True).loc[True], 6)\n",
    "    \n",
    "#     return potmpbb_\n"
   ]
  },
  {
   "cell_type": "code",
   "execution_count": null,
   "id": "8df93aba",
   "metadata": {
    "ExecuteTime": {
     "end_time": "2022-11-06T18:13:05.728756Z",
     "start_time": "2022-11-06T18:13:05.709814Z"
    },
    "code_folding": [
     0,
     19
    ],
    "hidden": true
   },
   "outputs": [],
   "source": [
    "def percent_of_top_moves_played_in_game_by_white(game_):\n",
    "    '''\n",
    "    Expects game_ to have 'white_uci_moves' and 'white_top_uci_moves'\n",
    "    '''\n",
    "    \n",
    "    # Percent Of Top Moves Played By White\n",
    "    move_pair_comparison_ = [move_pair_[0]==move_pair_[1] for move_pair_ in zip(game_.white_uci_moves, game_.white_top_uci_moves)]\n",
    "    potmpbw_ = pd.Series(move_pair_comparison_).value_counts(normalize=True)\n",
    "    if len(potmpbw_)==2:\n",
    "        potmpbw_ = np.around(pd.Series(move_pair_comparison_).value_counts(normalize=True).loc[True], 6)\n",
    "    else:\n",
    "        try:\n",
    "            potmpbw_ = np.around(pd.Series(move_pair_comparison_).value_counts(normalize=True).loc[True], 6) \n",
    "        except:\n",
    "            potmpbw_ = 0\n",
    "\n",
    "    return potmpbw_\n",
    "\n",
    "\n",
    "def percent_of_top_moves_played_in_game_by_black(game_):\n",
    "    '''\n",
    "    Expects game_ to have 'black_uci_moves' and 'black_top_uci_moves'\n",
    "    '''\n",
    "    \n",
    "    # Percent Of Top Moves Played By Black\n",
    "    move_pair_comparison_ = [move_pair_[0]==move_pair_[1] for move_pair_ in zip(game_.black_uci_moves, game_.black_top_uci_moves)]\n",
    "    potmpbb_ = pd.Series(move_pair_comparison_).value_counts(normalize=True)\n",
    "    if len(potmpbb_)==2:\n",
    "        potmpbb_ = np.around(pd.Series(move_pair_comparison_).value_counts(normalize=True).loc[True], 6)\n",
    "    else:\n",
    "        try:\n",
    "            potmpbb_ = np.around(pd.Series(move_pair_comparison_).value_counts(normalize=True).loc[True], 6) \n",
    "        except:\n",
    "            potmpbb_ = 0\n",
    "\n",
    "    return potmpbb_\n",
    "    "
   ]
  },
  {
   "cell_type": "code",
   "execution_count": null,
   "id": "74cbb8f6",
   "metadata": {
    "ExecuteTime": {
     "end_time": "2022-11-06T18:13:06.940942Z",
     "start_time": "2022-11-06T18:13:06.922974Z"
    },
    "code_folding": [
     0
    ],
    "hidden": true
   },
   "outputs": [],
   "source": [
    "def percent_of_top_moves_played_in_game_by_white_and_black(game_):\n",
    "    \n",
    "    potmpbw_ = percent_of_top_moves_played_in_game_by_white(game_)\n",
    "    potmpbb_ = percent_of_top_moves_played_in_game_by_black(game_)\n",
    "    \n",
    "    return potmpbw_, potmpbb_"
   ]
  },
  {
   "cell_type": "code",
   "execution_count": null,
   "id": "00c83c6b",
   "metadata": {
    "ExecuteTime": {
     "end_time": "2022-11-06T18:15:53.588150Z",
     "start_time": "2022-11-06T18:15:53.578177Z"
    },
    "code_folding": [
     0
    ],
    "hidden": true
   },
   "outputs": [],
   "source": [
    "# def percent_of_top_moves_played_in_all_games_by_white_and_black(df_, keep_all_calc_cols=False):\n",
    "#     '''\n",
    "#     Expects df_ to have columns for uci_moves and top_uci_moves\n",
    "    \n",
    "#     If keep_all_calc_cols is True, the returned dataframe will have all the calculated columns\n",
    "#     '''\n",
    "    \n",
    "#     df=df_.copy()\n",
    "    \n",
    "#     # first separate the moves of white and black\n",
    "#     df=separate_all_white_and_black_moves(df, is_uci=True, include_top_moves=True)\n",
    "    \n",
    "#     # find the percentage of top moves played by white\n",
    "#     df['white_played_perc_top_move'] = [percent_of_top_moves_played_in_game_by_white(\n",
    "#         pd.Series(game_[0], index=df.columns)) for game_ in zip(df.values)]\n",
    "    \n",
    "#     # find the percentage of top moves played by white\n",
    "#     df['black_played_perc_top_move'] = [percent_of_top_moves_played_in_game_by_black(\n",
    "#         pd.Series(game_[0], index=df.columns)) for game_ in zip(df.values)]\n",
    "    \n",
    "#     # return is dependent on what columns are wanted\n",
    "#     if keep_all_calc_cols:\n",
    "#         return df\n",
    "#     else:\n",
    "#         df=df.drop(columns=['white_uci_moves', 'white_top_uci_moves', 'black_uci_moves', 'black_top_uci_moves'])\n",
    "#         return df"
   ]
  },
  {
   "cell_type": "code",
   "execution_count": null,
   "id": "379f8bbb",
   "metadata": {
    "ExecuteTime": {
     "end_time": "2022-11-06T18:16:22.090264Z",
     "start_time": "2022-11-06T18:16:22.076301Z"
    },
    "code_folding": [
     0
    ],
    "hidden": true
   },
   "outputs": [],
   "source": [
    "def percent_of_top_moves_played_in_all_games_by_white_and_black(df_, keep_all_calc_cols=False):\n",
    "    '''\n",
    "    Expects df_ to have columns for uci_moves and top_uci_moves\n",
    "    \n",
    "    If keep_all_calc_cols is True, the returned dataframe will have all the calculated columns\n",
    "    '''\n",
    "    \n",
    "    df=df_.copy()\n",
    "    \n",
    "    # first separate the moves of white and black\n",
    "    df=separate_all_white_and_black_moves(df, is_uci=True, include_top_moves=True)\n",
    "    \n",
    "    # find the percentage of top moves played by white and black\n",
    "    df[['white_played_perc_top_move', 'black_played_perc_top_move']] = [\n",
    "    percent_of_top_moves_played_in_game_by_white_and_black(\n",
    "        pd.Series(game_[0], index=df.columns)) for game_ in zip(df.values)]\n",
    "    \n",
    "    # return is dependent on what columns are wanted\n",
    "    if keep_all_calc_cols:\n",
    "        return df\n",
    "    else:\n",
    "        df=df.drop(columns=['white_uci_moves', 'white_top_uci_moves', 'black_uci_moves', 'black_top_uci_moves'])\n",
    "        return df"
   ]
  },
  {
   "cell_type": "code",
   "execution_count": null,
   "id": "c3f9739d",
   "metadata": {
    "ExecuteTime": {
     "end_time": "2022-11-06T18:16:43.395452Z",
     "start_time": "2022-11-06T18:16:24.722938Z"
    },
    "hidden": true,
    "scrolled": true
   },
   "outputs": [],
   "source": [
    "sample_ = base_clean_titled.copy()\n",
    "test_sample_ = percent_of_top_moves_played_in_all_games_by_white_and_black(sample_)"
   ]
  },
  {
   "cell_type": "code",
   "execution_count": null,
   "id": "a5c43a70",
   "metadata": {
    "hidden": true
   },
   "outputs": [],
   "source": []
  },
  {
   "cell_type": "markdown",
   "id": "8a60f346",
   "metadata": {
    "hidden": true
   },
   "source": [
    "-----"
   ]
  },
  {
   "cell_type": "markdown",
   "id": "546dab9b",
   "metadata": {
    "heading_collapsed": true,
    "hidden": true
   },
   "source": [
    "##### Continuing"
   ]
  },
  {
   "cell_type": "code",
   "execution_count": null,
   "id": "f7d768f0",
   "metadata": {
    "ExecuteTime": {
     "end_time": "2022-11-06T18:20:20.133972Z",
     "start_time": "2022-11-06T18:19:39.060865Z"
    },
    "hidden": true
   },
   "outputs": [],
   "source": [
    "base_clean_titled = percent_of_top_moves_played_in_all_games_by_white_and_black(base_clean_titled)\n",
    "\n",
    "base_clean_CvH = percent_of_top_moves_played_in_all_games_by_white_and_black(base_clean_CvH)"
   ]
  },
  {
   "cell_type": "code",
   "execution_count": null,
   "id": "ee724cbb",
   "metadata": {
    "ExecuteTime": {
     "end_time": "2022-11-06T18:26:35.916273Z",
     "start_time": "2022-11-06T18:26:35.860394Z"
    },
    "hidden": true
   },
   "outputs": [],
   "source": [
    "display(base_clean_titled.head(1))\n",
    "display(base_clean_CvH.head(1))"
   ]
  },
  {
   "cell_type": "code",
   "execution_count": null,
   "id": "a5b49856",
   "metadata": {
    "hidden": true
   },
   "outputs": [],
   "source": []
  },
  {
   "cell_type": "markdown",
   "id": "6e2c3c4a",
   "metadata": {
    "hidden": true
   },
   "source": [
    "-----"
   ]
  },
  {
   "cell_type": "code",
   "execution_count": null,
   "id": "0abc688f",
   "metadata": {
    "ExecuteTime": {
     "end_time": "2022-11-06T18:29:59.153427Z",
     "start_time": "2022-11-06T18:28:06.996591Z"
    },
    "hidden": true
   },
   "outputs": [],
   "source": [
    "joblib.dump(base_clean_titled,\n",
    "           'E:/data/capstone/cleaned/Titled/incl_top_move_perc_titled.pkl',\n",
    "           compress=9)"
   ]
  },
  {
   "cell_type": "code",
   "execution_count": null,
   "id": "86d6bf69",
   "metadata": {
    "ExecuteTime": {
     "end_time": "2022-11-06T18:31:58.682159Z",
     "start_time": "2022-11-06T18:29:59.155423Z"
    },
    "hidden": true
   },
   "outputs": [],
   "source": [
    "joblib.dump(base_clean_CvH,\n",
    "           'E:/data/capstone/cleaned/CvH/incl_top_move_perc_CvH.pkl',\n",
    "           compress=9)"
   ]
  },
  {
   "cell_type": "code",
   "execution_count": null,
   "id": "2fec35c6",
   "metadata": {
    "hidden": true
   },
   "outputs": [],
   "source": []
  },
  {
   "cell_type": "markdown",
   "id": "5824e405",
   "metadata": {
    "hidden": true
   },
   "source": [
    "-----"
   ]
  },
  {
   "cell_type": "markdown",
   "id": "de34ba2c",
   "metadata": {
    "heading_collapsed": true
   },
   "source": [
    "## Calculate average time per move"
   ]
  },
  {
   "cell_type": "markdown",
   "id": "ef26349d",
   "metadata": {
    "hidden": true
   },
   "source": [
    "Can either do it by list slicing, or using an enumerator and if-clauses.\n",
    "\n",
    "\n",
    "The titled games will be used to make the function."
   ]
  },
  {
   "cell_type": "code",
   "execution_count": null,
   "id": "b36e3c8a",
   "metadata": {
    "ExecuteTime": {
     "end_time": "2022-11-06T20:30:34.832492Z",
     "start_time": "2022-11-06T20:29:54.510560Z"
    },
    "hidden": true
   },
   "outputs": [],
   "source": [
    "incltopmove_titled = joblib.load('E:/data/capstone/cleaned/Titled/incl_top_move_perc_titled.pkl')\n",
    "incltopmove_CvH = joblib.load('E:/data/capstone/cleaned/CvH/incl_top_move_perc_CvH.pkl')"
   ]
  },
  {
   "cell_type": "code",
   "execution_count": null,
   "id": "6158dd30",
   "metadata": {
    "ExecuteTime": {
     "end_time": "2022-11-06T20:05:55.567037Z",
     "start_time": "2022-11-06T20:05:55.556091Z"
    },
    "hidden": true
   },
   "outputs": [],
   "source": [
    "# hp.any_missing_emt(incltopmove_titled)\n",
    "# hp.any_missing_emt(incltopmove_CvH)\n",
    "\n",
    "# # No games missing emt values\n",
    "# # No games missing emt values"
   ]
  },
  {
   "cell_type": "code",
   "execution_count": null,
   "id": "a6c5b1d2",
   "metadata": {
    "ExecuteTime": {
     "end_time": "2022-11-06T19:05:01.549552Z",
     "start_time": "2022-11-06T19:05:01.535981Z"
    },
    "hidden": true
   },
   "outputs": [],
   "source": [
    "# incltopmove_titled = base_clean_titled.copy()\n",
    "# incltopmove_CvH = base_clean_CvH.copy()"
   ]
  },
  {
   "cell_type": "code",
   "execution_count": null,
   "id": "cf5417ef",
   "metadata": {
    "ExecuteTime": {
     "end_time": "2022-11-06T18:37:49.418130Z",
     "start_time": "2022-11-06T18:37:49.403170Z"
    },
    "hidden": true
   },
   "outputs": [],
   "source": [
    "incltopmove_titled.columns"
   ]
  },
  {
   "cell_type": "code",
   "execution_count": null,
   "id": "ec728c42",
   "metadata": {
    "ExecuteTime": {
     "end_time": "2022-11-06T18:54:54.745167Z",
     "start_time": "2022-11-06T18:54:54.733200Z"
    },
    "code_folding": [
     0
    ],
    "hidden": true
   },
   "outputs": [],
   "source": [
    "# def extract_emt_elements(game_emts):\n",
    "#     times_ = [float(re.search('[0-9]+\\.[0-9]+', time_[0]).group()) for time_ in zip(game_emts)]\n",
    "#     return times_\n",
    "\n",
    "\n",
    "# def extract_all_emt_elements(df_):\n",
    "#     '''\n",
    "#     This will receive a dataframe with a column of emt\n",
    "#     This will output the dataframe a new columns: emt_time\n",
    "#     '''\n",
    "#     df=df_.copy()\n",
    "#     df['emt_time']=[extract_emt_elements(game_[0]) for game_ in zip(df.emt)]\n",
    "#     return df\n",
    "\n",
    "\n",
    "# def get_white_emts(list_of_emts):\n",
    "#     '''\n",
    "#     Will receive a list of a games emt values\n",
    "#     '''\n",
    "    \n",
    "#     white_emts = list_of_emts[::2]\n",
    "#     return white_emts\n",
    "\n",
    "\n",
    "# def get_black_emts(list_of_emts):\n",
    "#     '''\n",
    "#     Will receive a list of a games emt values\n",
    "#     '''\n",
    "    \n",
    "#     black_emts = list_of_emts[1::2]\n",
    "#     return black_emts\n",
    "\n",
    "\n",
    "# def separate_all_white_and_black_emts(df_, keep_all_calc_cols=False):\n",
    "#     '''\n",
    "#     This will receive a dataframe with a column of emt\n",
    "#     If keep_all_calc_cols is True, the returned dataframe will have all the calculated columns\n",
    "#     '''\n",
    "#     df=df_.copy()\n",
    "        \n",
    "#     # first extract all the emt elements\n",
    "#     df=extract_all_emt_elements(df)\n",
    "    \n",
    "#     df[['white_emt', 'black_emt']]=[[get_white_emts(list_of_emts[0]), get_black_emts(list_of_emts[0])] for list_of_emts in zip(df.emt_time)]\n",
    "    \n",
    "#     # return is dependent on what columns are wanted\n",
    "#     if keep_all_calc_cols:\n",
    "#         return df\n",
    "#     else:\n",
    "#         df=df.drop(columns=['emt_time'])\n",
    "#         return df\n",
    "\n",
    "\n",
    "# def separate_all_white_and_black_average_emts(df_, rounded_dp=5, keep_all_calc_cols=False):\n",
    "#     '''\n",
    "#     This will receive a dataframe with a column of emt\n",
    "#     If keep_all_calc_cols is True, the returned dataframe will have all the calculated columns\n",
    "#     '''\n",
    "#     df=df_.copy()\n",
    "    \n",
    "#     # first extract all the emt elements\n",
    "#     df=extract_all_emt_elements(df)\n",
    "    \n",
    "#     df[['av_white_emt', 'av_black_emt']]=[[np.round(np.mean(get_white_emts(list_of_emts[0])), rounded_dp), np.round(np.mean(get_black_emts(list_of_emts[0])), rounded_dp)] for list_of_emts in zip(df.emt_time)]\n",
    "    \n",
    "#     # return is dependent on what columns are wanted\n",
    "#     if keep_all_calc_cols:\n",
    "#         return df\n",
    "#     else:\n",
    "#         df=df.drop(columns=['emt_time'])\n",
    "#         return df"
   ]
  },
  {
   "cell_type": "code",
   "execution_count": null,
   "id": "115853ea",
   "metadata": {
    "hidden": true
   },
   "outputs": [],
   "source": []
  },
  {
   "cell_type": "code",
   "execution_count": null,
   "id": "392cdb9d",
   "metadata": {
    "ExecuteTime": {
     "end_time": "2022-11-06T20:30:34.879103Z",
     "start_time": "2022-11-06T20:30:34.834222Z"
    },
    "hidden": true
   },
   "outputs": [],
   "source": [
    "incltopmove_titled = hp.drop_no_move_games(incltopmove_titled, min_game_len=2)\n",
    "incltopmove_CvH = hp.drop_no_move_games(incltopmove_CvH, min_game_len=2)"
   ]
  },
  {
   "cell_type": "code",
   "execution_count": null,
   "id": "4699029b",
   "metadata": {
    "ExecuteTime": {
     "end_time": "2022-11-06T20:30:38.275490Z",
     "start_time": "2022-11-06T20:30:34.880100Z"
    },
    "hidden": true
   },
   "outputs": [],
   "source": [
    "incltopmove_titled = hp.separate_all_white_and_black_average_emts(incltopmove_titled)\n",
    "incltopmove_CvH = hp.separate_all_white_and_black_average_emts(incltopmove_CvH)"
   ]
  },
  {
   "cell_type": "code",
   "execution_count": null,
   "id": "7f3aac89",
   "metadata": {
    "ExecuteTime": {
     "end_time": "2022-11-06T19:05:55.047010Z",
     "start_time": "2022-11-06T19:05:55.032050Z"
    },
    "hidden": true
   },
   "outputs": [],
   "source": [
    "incltopmove_titled.columns"
   ]
  },
  {
   "cell_type": "code",
   "execution_count": null,
   "id": "4e44d922",
   "metadata": {
    "ExecuteTime": {
     "end_time": "2022-11-06T19:05:55.107903Z",
     "start_time": "2022-11-06T19:05:55.048007Z"
    },
    "hidden": true
   },
   "outputs": [],
   "source": [
    "incltopmove_titled.head(1)"
   ]
  },
  {
   "cell_type": "code",
   "execution_count": null,
   "id": "68172454",
   "metadata": {
    "hidden": true
   },
   "outputs": [],
   "source": []
  },
  {
   "cell_type": "markdown",
   "id": "d726d762",
   "metadata": {
    "hidden": true
   },
   "source": [
    "-----"
   ]
  },
  {
   "cell_type": "code",
   "execution_count": null,
   "id": "945807d5",
   "metadata": {
    "ExecuteTime": {
     "end_time": "2022-11-06T20:11:44.767212Z",
     "start_time": "2022-11-06T20:11:44.735329Z"
    },
    "hidden": true,
    "scrolled": true
   },
   "outputs": [],
   "source": [
    "incltopmove_titled[incltopmove_titled.av_black_emt.isna()].head()"
   ]
  },
  {
   "cell_type": "code",
   "execution_count": null,
   "id": "e4b5496d",
   "metadata": {
    "ExecuteTime": {
     "end_time": "2022-11-06T20:11:39.869701Z",
     "start_time": "2022-11-06T20:11:39.829808Z"
    },
    "hidden": true,
    "scrolled": true
   },
   "outputs": [],
   "source": [
    "incltopmove_CvH[incltopmove_CvH.av_black_emt.isna()].head()"
   ]
  },
  {
   "cell_type": "code",
   "execution_count": null,
   "id": "15870ae9",
   "metadata": {
    "ExecuteTime": {
     "end_time": "2022-11-06T20:25:14.631715Z",
     "start_time": "2022-11-06T20:25:14.614731Z"
    },
    "code_folding": [
     0
    ],
    "hidden": true
   },
   "outputs": [],
   "source": [
    "# def drop_no_move_games(df_, min_game_len=None):\n",
    "#     '''\n",
    "#     Will drop games that have no moves\n",
    "    \n",
    "#     If min_game_len is specified, games with fewer ply than min_game_len will be dropped\n",
    "#     '''\n",
    "    \n",
    "#     df=df_.copy()\n",
    "#     if any([val_==[] for val_ in df.moves]):\n",
    "#         print(f'Some games have no moves \\nDropping those games...')\n",
    "#         df = df[[val_!=[] for val_ in df.moves]].reset_index(drop=True)\n",
    "#     else:\n",
    "#         print('All games have moves')\n",
    "\n",
    "#     if min_game_len is not None:\n",
    "#         assert isinstance(min_game_len, int), \"min_game_len must be an int\"\n",
    "#         assert min_game_len>0, \"min_game_len must be a postive int\"\n",
    "#         pre_shape=df.shape[0]\n",
    "#         df=df[[len(val_)>=min_game_len for val_ in df.moves]].reset_index(drop=True)\n",
    "#         post_shape=df.shape[0]\n",
    "#         if pre_shape!=post_shape:\n",
    "#             print(f'Dropped {pre_shape-post_shape} games')\n",
    "#         else:\n",
    "#             print(f'No games shorter than {min_game_len} ply')\n",
    "#         return df\n",
    "#     else:\n",
    "#         return df"
   ]
  },
  {
   "cell_type": "code",
   "execution_count": null,
   "id": "99729f4c",
   "metadata": {
    "ExecuteTime": {
     "end_time": "2022-11-06T20:25:15.270004Z",
     "start_time": "2022-11-06T20:25:15.243074Z"
    },
    "hidden": true
   },
   "outputs": [],
   "source": [
    "# dummy = drop_no_move_games(incltopmove_titled, min_game_len=2)"
   ]
  },
  {
   "cell_type": "code",
   "execution_count": null,
   "id": "424427b0",
   "metadata": {
    "hidden": true
   },
   "outputs": [],
   "source": []
  },
  {
   "cell_type": "markdown",
   "id": "060df353",
   "metadata": {
    "hidden": true
   },
   "source": [
    "-----"
   ]
  },
  {
   "cell_type": "markdown",
   "id": "8bb72442",
   "metadata": {},
   "source": [
    "## Modelling Using Engineered Features (Fourth Pass Modelling)"
   ]
  },
  {
   "cell_type": "markdown",
   "id": "7802fbf2",
   "metadata": {},
   "source": [
    "### Preloading"
   ]
  },
  {
   "cell_type": "code",
   "execution_count": null,
   "id": "22083622",
   "metadata": {},
   "outputs": [],
   "source": [
    "# incltopmove_titled\n",
    "# incltopmove_CvH "
   ]
  },
  {
   "cell_type": "code",
   "execution_count": null,
   "id": "185949c6",
   "metadata": {
    "ExecuteTime": {
     "end_time": "2022-11-06T20:30:48.921938Z",
     "start_time": "2022-11-06T20:30:48.914957Z"
    },
    "code_folding": []
   },
   "outputs": [],
   "source": [
    "wanted_cols = [\n",
    "    'WhiteElo', 'WhiteRD', 'BlackElo', 'BlackRD', 'white_played_perc_top_move', 'black_played_perc_top_move',\n",
    "    'av_white_emt', 'av_black_emt', 'PlyCount', 'TimeControl_Base', 'TimeControl_Inc', 'ECO', 'WhiteIsComp', \n",
    "    'BlackIsComp', 'NoComp']"
   ]
  },
  {
   "cell_type": "code",
   "execution_count": null,
   "id": "8866238a",
   "metadata": {
    "ExecuteTime": {
     "end_time": "2022-11-06T19:39:30.644276Z",
     "start_time": "2022-11-06T19:39:30.631282Z"
    },
    "code_folding": [
     0
    ]
   },
   "outputs": [],
   "source": [
    "# # prepare titled\n",
    "\n",
    "# display(incltopmove_titled.head(1))\n",
    "# display(incltopmove_titled.columns)\n",
    "\n",
    "# incltopmove_titled_=incltopmove_titled.loc[:, wanted_cols]\n",
    "# display(incltopmove_titled_.head(1))"
   ]
  },
  {
   "cell_type": "code",
   "execution_count": null,
   "id": "5a00fe7b",
   "metadata": {
    "ExecuteTime": {
     "end_time": "2022-11-06T19:39:30.877650Z",
     "start_time": "2022-11-06T19:39:30.866657Z"
    },
    "code_folding": [
     0
    ]
   },
   "outputs": [],
   "source": [
    "# # prepare cvh\n",
    "\n",
    "# incltopmove_CvH_=incltopmove_CvH.loc[:, wanted_cols]\n",
    "# # incltopmove_CvH_.head(1)"
   ]
  },
  {
   "cell_type": "code",
   "execution_count": null,
   "id": "09b93b0e",
   "metadata": {},
   "outputs": [],
   "source": []
  },
  {
   "cell_type": "code",
   "execution_count": null,
   "id": "712461c6",
   "metadata": {
    "ExecuteTime": {
     "end_time": "2022-11-06T20:30:51.769631Z",
     "start_time": "2022-11-06T20:30:51.752677Z"
    }
   },
   "outputs": [],
   "source": [
    "incltopmove_titled_=incltopmove_titled.loc[:, wanted_cols]\n",
    "incltopmove_CvH_=incltopmove_CvH.loc[:, wanted_cols]"
   ]
  },
  {
   "cell_type": "code",
   "execution_count": null,
   "id": "19a62a84",
   "metadata": {
    "ExecuteTime": {
     "end_time": "2022-11-06T20:30:59.778626Z",
     "start_time": "2022-11-06T20:30:59.759676Z"
    }
   },
   "outputs": [],
   "source": [
    "# df for fourth-pass modelling\n",
    "\n",
    "df_ffpm = pd.concat([incltopmove_CvH_, incltopmove_titled_]).reset_index(drop=True)"
   ]
  },
  {
   "cell_type": "code",
   "execution_count": null,
   "id": "d2421725",
   "metadata": {
    "ExecuteTime": {
     "end_time": "2022-11-06T20:31:00.246358Z",
     "start_time": "2022-11-06T20:31:00.222375Z"
    }
   },
   "outputs": [],
   "source": [
    "display(df_ffpm.shape)\n",
    "display(df_ffpm.head(1))"
   ]
  },
  {
   "cell_type": "code",
   "execution_count": null,
   "id": "3c7eb237",
   "metadata": {
    "ExecuteTime": {
     "end_time": "2022-11-06T20:31:01.709447Z",
     "start_time": "2022-11-06T20:31:01.688475Z"
    }
   },
   "outputs": [],
   "source": [
    "display(incltopmove_titled.shape)\n",
    "display(incltopmove_CvH.shape)\n",
    "\n",
    "display(incltopmove_titled.shape[0]+incltopmove_CvH.shape[0])"
   ]
  },
  {
   "cell_type": "code",
   "execution_count": null,
   "id": "4c336fe7",
   "metadata": {
    "ExecuteTime": {
     "end_time": "2022-11-06T20:31:05.740380Z",
     "start_time": "2022-11-06T20:31:04.952486Z"
    }
   },
   "outputs": [],
   "source": [
    "joblib.dump(df_ffpm,\n",
    "           'E:/data/capstone/cleaned/df_for_fourth_pass_modelling.pkl',\n",
    "           compress=9)"
   ]
  },
  {
   "cell_type": "markdown",
   "id": "6726f1d9",
   "metadata": {},
   "source": [
    "----"
   ]
  },
  {
   "cell_type": "markdown",
   "id": "f6e7c082",
   "metadata": {},
   "source": [
    "### Loading"
   ]
  },
  {
   "cell_type": "code",
   "execution_count": 138,
   "id": "913fdfc6",
   "metadata": {
    "ExecuteTime": {
     "end_time": "2022-11-07T05:31:57.359232Z",
     "start_time": "2022-11-07T05:31:57.335268Z"
    }
   },
   "outputs": [],
   "source": [
    "df_ffpm = joblib.load('E:/data/capstone/cleaned/df_for_fourth_pass_modelling.pkl')"
   ]
  },
  {
   "cell_type": "code",
   "execution_count": 139,
   "id": "6e9fc614",
   "metadata": {
    "ExecuteTime": {
     "end_time": "2022-11-07T05:31:57.895593Z",
     "start_time": "2022-11-07T05:31:57.876831Z"
    }
   },
   "outputs": [
    {
     "data": {
      "text/html": [
       "<div>\n",
       "<style scoped>\n",
       "    .dataframe tbody tr th:only-of-type {\n",
       "        vertical-align: middle;\n",
       "    }\n",
       "\n",
       "    .dataframe tbody tr th {\n",
       "        vertical-align: top;\n",
       "    }\n",
       "\n",
       "    .dataframe thead th {\n",
       "        text-align: right;\n",
       "    }\n",
       "</style>\n",
       "<table border=\"1\" class=\"dataframe\">\n",
       "  <thead>\n",
       "    <tr style=\"text-align: right;\">\n",
       "      <th></th>\n",
       "      <th>WhiteElo</th>\n",
       "      <th>WhiteRD</th>\n",
       "      <th>BlackElo</th>\n",
       "      <th>BlackRD</th>\n",
       "      <th>white_played_perc_top_move</th>\n",
       "      <th>black_played_perc_top_move</th>\n",
       "      <th>av_white_emt</th>\n",
       "      <th>av_black_emt</th>\n",
       "      <th>PlyCount</th>\n",
       "      <th>TimeControl_Base</th>\n",
       "      <th>TimeControl_Inc</th>\n",
       "      <th>ECO</th>\n",
       "      <th>WhiteIsComp</th>\n",
       "      <th>BlackIsComp</th>\n",
       "      <th>NoComp</th>\n",
       "    </tr>\n",
       "  </thead>\n",
       "  <tbody>\n",
       "    <tr>\n",
       "      <th>0</th>\n",
       "      <td>2062</td>\n",
       "      <td>0.0</td>\n",
       "      <td>1946</td>\n",
       "      <td>0.0</td>\n",
       "      <td>0.481481</td>\n",
       "      <td>0.307692</td>\n",
       "      <td>6.43074</td>\n",
       "      <td>5.70123</td>\n",
       "      <td>53</td>\n",
       "      <td>300</td>\n",
       "      <td>0</td>\n",
       "      <td>D30</td>\n",
       "      <td>1</td>\n",
       "      <td>0</td>\n",
       "      <td>0</td>\n",
       "    </tr>\n",
       "    <tr>\n",
       "      <th>1</th>\n",
       "      <td>1952</td>\n",
       "      <td>0.0</td>\n",
       "      <td>2056</td>\n",
       "      <td>0.0</td>\n",
       "      <td>0.360000</td>\n",
       "      <td>0.400000</td>\n",
       "      <td>5.84124</td>\n",
       "      <td>5.30484</td>\n",
       "      <td>50</td>\n",
       "      <td>300</td>\n",
       "      <td>0</td>\n",
       "      <td>B50</td>\n",
       "      <td>0</td>\n",
       "      <td>1</td>\n",
       "      <td>0</td>\n",
       "    </tr>\n",
       "    <tr>\n",
       "      <th>2</th>\n",
       "      <td>2050</td>\n",
       "      <td>0.0</td>\n",
       "      <td>1958</td>\n",
       "      <td>0.0</td>\n",
       "      <td>0.565217</td>\n",
       "      <td>0.363636</td>\n",
       "      <td>4.65335</td>\n",
       "      <td>3.18377</td>\n",
       "      <td>45</td>\n",
       "      <td>300</td>\n",
       "      <td>0</td>\n",
       "      <td>C62</td>\n",
       "      <td>1</td>\n",
       "      <td>0</td>\n",
       "      <td>0</td>\n",
       "    </tr>\n",
       "    <tr>\n",
       "      <th>3</th>\n",
       "      <td>1745</td>\n",
       "      <td>0.0</td>\n",
       "      <td>2280</td>\n",
       "      <td>0.0</td>\n",
       "      <td>0.285714</td>\n",
       "      <td>0.619048</td>\n",
       "      <td>7.58914</td>\n",
       "      <td>15.22057</td>\n",
       "      <td>42</td>\n",
       "      <td>900</td>\n",
       "      <td>0</td>\n",
       "      <td>B13</td>\n",
       "      <td>0</td>\n",
       "      <td>1</td>\n",
       "      <td>0</td>\n",
       "    </tr>\n",
       "    <tr>\n",
       "      <th>4</th>\n",
       "      <td>1735</td>\n",
       "      <td>0.0</td>\n",
       "      <td>2279</td>\n",
       "      <td>0.0</td>\n",
       "      <td>0.388889</td>\n",
       "      <td>0.500000</td>\n",
       "      <td>12.53733</td>\n",
       "      <td>17.00678</td>\n",
       "      <td>36</td>\n",
       "      <td>900</td>\n",
       "      <td>0</td>\n",
       "      <td>B01</td>\n",
       "      <td>0</td>\n",
       "      <td>1</td>\n",
       "      <td>0</td>\n",
       "    </tr>\n",
       "  </tbody>\n",
       "</table>\n",
       "</div>"
      ],
      "text/plain": [
       "   WhiteElo  WhiteRD  BlackElo  BlackRD  white_played_perc_top_move  \\\n",
       "0      2062      0.0      1946      0.0                    0.481481   \n",
       "1      1952      0.0      2056      0.0                    0.360000   \n",
       "2      2050      0.0      1958      0.0                    0.565217   \n",
       "3      1745      0.0      2280      0.0                    0.285714   \n",
       "4      1735      0.0      2279      0.0                    0.388889   \n",
       "\n",
       "   black_played_perc_top_move  av_white_emt  av_black_emt  PlyCount  \\\n",
       "0                    0.307692       6.43074       5.70123        53   \n",
       "1                    0.400000       5.84124       5.30484        50   \n",
       "2                    0.363636       4.65335       3.18377        45   \n",
       "3                    0.619048       7.58914      15.22057        42   \n",
       "4                    0.500000      12.53733      17.00678        36   \n",
       "\n",
       "   TimeControl_Base  TimeControl_Inc  ECO  WhiteIsComp  BlackIsComp  NoComp  \n",
       "0               300                0  D30            1            0       0  \n",
       "1               300                0  B50            0            1       0  \n",
       "2               300                0  C62            1            0       0  \n",
       "3               900                0  B13            0            1       0  \n",
       "4               900                0  B01            0            1       0  "
      ]
     },
     "execution_count": 139,
     "metadata": {},
     "output_type": "execute_result"
    }
   ],
   "source": [
    "df_ffpm.head()"
   ]
  },
  {
   "cell_type": "markdown",
   "id": "b7c72370",
   "metadata": {},
   "source": [
    "-------"
   ]
  },
  {
   "cell_type": "markdown",
   "id": "7fa1944f",
   "metadata": {},
   "source": [
    "### No Cross-validation"
   ]
  },
  {
   "cell_type": "markdown",
   "id": "95f539d7",
   "metadata": {},
   "source": [
    "#### X-y split, train-test split, flatten y, OHE, scale"
   ]
  },
  {
   "cell_type": "code",
   "execution_count": 140,
   "id": "102b8c6a",
   "metadata": {
    "ExecuteTime": {
     "end_time": "2022-11-07T05:31:59.432191Z",
     "start_time": "2022-11-07T05:31:59.198785Z"
    }
   },
   "outputs": [
    {
     "name": "stdout",
     "output_type": "stream",
     "text": [
      "Some games contain no cheaters\n"
     ]
    }
   ],
   "source": [
    "X, y = hp.X_y_split_simple(df_ffpm)\n",
    "y = hp.y_convert_to_ints(y)"
   ]
  },
  {
   "cell_type": "code",
   "execution_count": 141,
   "id": "37406f2c",
   "metadata": {
    "ExecuteTime": {
     "end_time": "2022-11-07T05:31:59.557422Z",
     "start_time": "2022-11-07T05:31:59.459119Z"
    }
   },
   "outputs": [],
   "source": [
    "X_train, X_test, y_train, y_test = train_test_split(X, y, train_size=0.8, random_state=22, stratify=y)\n",
    "\n",
    "y_train, y_test = hp.flat_y(y_train, y_test)"
   ]
  },
  {
   "cell_type": "code",
   "execution_count": 142,
   "id": "c1b00e06",
   "metadata": {
    "ExecuteTime": {
     "end_time": "2022-11-07T05:31:59.747807Z",
     "start_time": "2022-11-07T05:31:59.724868Z"
    }
   },
   "outputs": [
    {
     "data": {
      "text/html": [
       "<div>\n",
       "<style scoped>\n",
       "    .dataframe tbody tr th:only-of-type {\n",
       "        vertical-align: middle;\n",
       "    }\n",
       "\n",
       "    .dataframe tbody tr th {\n",
       "        vertical-align: top;\n",
       "    }\n",
       "\n",
       "    .dataframe thead th {\n",
       "        text-align: right;\n",
       "    }\n",
       "</style>\n",
       "<table border=\"1\" class=\"dataframe\">\n",
       "  <thead>\n",
       "    <tr style=\"text-align: right;\">\n",
       "      <th></th>\n",
       "      <th>WhiteElo</th>\n",
       "      <th>WhiteRD</th>\n",
       "      <th>BlackElo</th>\n",
       "      <th>BlackRD</th>\n",
       "      <th>white_played_perc_top_move</th>\n",
       "      <th>black_played_perc_top_move</th>\n",
       "      <th>av_white_emt</th>\n",
       "      <th>av_black_emt</th>\n",
       "      <th>PlyCount</th>\n",
       "      <th>TimeControl_Base</th>\n",
       "      <th>TimeControl_Inc</th>\n",
       "      <th>ECO</th>\n",
       "    </tr>\n",
       "  </thead>\n",
       "  <tbody>\n",
       "    <tr>\n",
       "      <th>9961</th>\n",
       "      <td>2017</td>\n",
       "      <td>26.40625</td>\n",
       "      <td>2151</td>\n",
       "      <td>45.68750</td>\n",
       "      <td>0.360000</td>\n",
       "      <td>0.320000</td>\n",
       "      <td>2.57472</td>\n",
       "      <td>0.09600</td>\n",
       "      <td>50</td>\n",
       "      <td>0</td>\n",
       "      <td>4</td>\n",
       "      <td>A46</td>\n",
       "    </tr>\n",
       "    <tr>\n",
       "      <th>16025</th>\n",
       "      <td>1618</td>\n",
       "      <td>0.00000</td>\n",
       "      <td>1980</td>\n",
       "      <td>0.00000</td>\n",
       "      <td>0.350877</td>\n",
       "      <td>0.491228</td>\n",
       "      <td>3.15007</td>\n",
       "      <td>2.97293</td>\n",
       "      <td>114</td>\n",
       "      <td>180</td>\n",
       "      <td>0</td>\n",
       "      <td>A00</td>\n",
       "    </tr>\n",
       "    <tr>\n",
       "      <th>13959</th>\n",
       "      <td>1930</td>\n",
       "      <td>27.40625</td>\n",
       "      <td>2123</td>\n",
       "      <td>32.40625</td>\n",
       "      <td>0.272727</td>\n",
       "      <td>0.454545</td>\n",
       "      <td>3.34409</td>\n",
       "      <td>0.09545</td>\n",
       "      <td>44</td>\n",
       "      <td>900</td>\n",
       "      <td>0</td>\n",
       "      <td>A50</td>\n",
       "    </tr>\n",
       "    <tr>\n",
       "      <th>15861</th>\n",
       "      <td>2025</td>\n",
       "      <td>0.00000</td>\n",
       "      <td>1781</td>\n",
       "      <td>0.00000</td>\n",
       "      <td>0.488889</td>\n",
       "      <td>0.454545</td>\n",
       "      <td>3.79773</td>\n",
       "      <td>4.04825</td>\n",
       "      <td>89</td>\n",
       "      <td>180</td>\n",
       "      <td>0</td>\n",
       "      <td>B22</td>\n",
       "    </tr>\n",
       "    <tr>\n",
       "      <th>11469</th>\n",
       "      <td>2146</td>\n",
       "      <td>27.90625</td>\n",
       "      <td>2013</td>\n",
       "      <td>18.90625</td>\n",
       "      <td>0.220779</td>\n",
       "      <td>0.118421</td>\n",
       "      <td>3.51770</td>\n",
       "      <td>2.52318</td>\n",
       "      <td>153</td>\n",
       "      <td>300</td>\n",
       "      <td>0</td>\n",
       "      <td>C50</td>\n",
       "    </tr>\n",
       "  </tbody>\n",
       "</table>\n",
       "</div>"
      ],
      "text/plain": [
       "       WhiteElo   WhiteRD  BlackElo   BlackRD  white_played_perc_top_move  \\\n",
       "9961       2017  26.40625      2151  45.68750                    0.360000   \n",
       "16025      1618   0.00000      1980   0.00000                    0.350877   \n",
       "13959      1930  27.40625      2123  32.40625                    0.272727   \n",
       "15861      2025   0.00000      1781   0.00000                    0.488889   \n",
       "11469      2146  27.90625      2013  18.90625                    0.220779   \n",
       "\n",
       "       black_played_perc_top_move  av_white_emt  av_black_emt  PlyCount  \\\n",
       "9961                     0.320000       2.57472       0.09600        50   \n",
       "16025                    0.491228       3.15007       2.97293       114   \n",
       "13959                    0.454545       3.34409       0.09545        44   \n",
       "15861                    0.454545       3.79773       4.04825        89   \n",
       "11469                    0.118421       3.51770       2.52318       153   \n",
       "\n",
       "       TimeControl_Base  TimeControl_Inc  ECO  \n",
       "9961                  0                4  A46  \n",
       "16025               180                0  A00  \n",
       "13959               900                0  A50  \n",
       "15861               180                0  B22  \n",
       "11469               300                0  C50  "
      ]
     },
     "execution_count": 142,
     "metadata": {},
     "output_type": "execute_result"
    }
   ],
   "source": [
    "X_train.head()"
   ]
  },
  {
   "cell_type": "code",
   "execution_count": 143,
   "id": "d17c7f24",
   "metadata": {
    "ExecuteTime": {
     "end_time": "2022-11-07T05:32:00.049141Z",
     "start_time": "2022-11-07T05:31:59.995705Z"
    }
   },
   "outputs": [],
   "source": [
    "X_train, X_test, ohe_ = hp.OHE_ECO(X_train, X_test)"
   ]
  },
  {
   "cell_type": "code",
   "execution_count": 144,
   "id": "65180a85",
   "metadata": {
    "ExecuteTime": {
     "end_time": "2022-11-07T05:32:00.269972Z",
     "start_time": "2022-11-07T05:32:00.256010Z"
    }
   },
   "outputs": [],
   "source": [
    "# X_train.shape # (22031, 440)\n",
    "# X_test.shape # (5508, 440)"
   ]
  },
  {
   "cell_type": "code",
   "execution_count": 145,
   "id": "97c16c9a",
   "metadata": {
    "ExecuteTime": {
     "end_time": "2022-11-07T05:32:00.540481Z",
     "start_time": "2022-11-07T05:32:00.517514Z"
    }
   },
   "outputs": [
    {
     "ename": "NameError",
     "evalue": "name 'wanted_cols' is not defined",
     "output_type": "error",
     "traceback": [
      "\u001b[1;31m---------------------------------------------------------------------------\u001b[0m",
      "\u001b[1;31mNameError\u001b[0m                                 Traceback (most recent call last)",
      "Cell \u001b[1;32mIn [145], line 1\u001b[0m\n\u001b[1;32m----> 1\u001b[0m X_train_scaled, X_test_scaled, stan_scal_ \u001b[38;5;241m=\u001b[39m hp\u001b[38;5;241m.\u001b[39mstan_scale(X_train, X_test, list_of_cols\u001b[38;5;241m=\u001b[39mwanted_cols[:\u001b[38;5;241m-\u001b[39m\u001b[38;5;241m4\u001b[39m])\n",
      "\u001b[1;31mNameError\u001b[0m: name 'wanted_cols' is not defined"
     ]
    }
   ],
   "source": [
    "X_train_scaled, X_test_scaled, stan_scal_ = hp.stan_scale(X_train, X_test, list_of_cols=wanted_cols[:-4])"
   ]
  },
  {
   "cell_type": "code",
   "execution_count": 146,
   "id": "b372d603",
   "metadata": {
    "ExecuteTime": {
     "end_time": "2022-11-07T05:32:00.794803Z",
     "start_time": "2022-11-07T05:32:00.780813Z"
    },
    "code_folding": [
     0
    ]
   },
   "outputs": [],
   "source": [
    "# wanted_cols[:-4]\n",
    "\n",
    "# # ['WhiteElo',\n",
    "# #  'WhiteRD',\n",
    "# #  'BlackElo',\n",
    "# #  'BlackRD',\n",
    "# #  'white_played_perc_top_move',\n",
    "# #  'black_played_perc_top_move',\n",
    "# #  'av_white_emt',\n",
    "# #  'av_black_emt',\n",
    "# #  'PlyCount',\n",
    "# #  'TimeControl_Base',\n",
    "# #  'TimeControl_Inc']"
   ]
  },
  {
   "cell_type": "code",
   "execution_count": 147,
   "id": "2bec1765",
   "metadata": {
    "ExecuteTime": {
     "end_time": "2022-11-07T05:32:01.066053Z",
     "start_time": "2022-11-07T05:32:01.052091Z"
    }
   },
   "outputs": [
    {
     "ename": "NameError",
     "evalue": "name 'X_train_scaled' is not defined",
     "output_type": "error",
     "traceback": [
      "\u001b[1;31m---------------------------------------------------------------------------\u001b[0m",
      "\u001b[1;31mNameError\u001b[0m                                 Traceback (most recent call last)",
      "Cell \u001b[1;32mIn [147], line 1\u001b[0m\n\u001b[1;32m----> 1\u001b[0m X_train_scaled\n",
      "\u001b[1;31mNameError\u001b[0m: name 'X_train_scaled' is not defined"
     ]
    }
   ],
   "source": [
    "X_train_scaled"
   ]
  },
  {
   "cell_type": "markdown",
   "id": "e9e7e635",
   "metadata": {},
   "source": [
    "-----"
   ]
  },
  {
   "cell_type": "markdown",
   "id": "8920b968",
   "metadata": {},
   "source": [
    "#### Logistic Regression"
   ]
  },
  {
   "cell_type": "code",
   "execution_count": 148,
   "id": "f807a4d6",
   "metadata": {
    "ExecuteTime": {
     "end_time": "2022-11-07T05:32:01.857678Z",
     "start_time": "2022-11-07T05:32:01.845742Z"
    }
   },
   "outputs": [],
   "source": [
    "# fp_logreg = hp.train_default_logreg_model(X_train_scaled, y_train,\n",
    "#                                           path='E:/data/capstone/pickled_models/fourth_pass/',\n",
    "#                                           name='fp')"
   ]
  },
  {
   "cell_type": "code",
   "execution_count": 131,
   "id": "c614924e",
   "metadata": {
    "ExecuteTime": {
     "end_time": "2022-11-07T05:31:16.991564Z",
     "start_time": "2022-11-07T05:31:16.973607Z"
    }
   },
   "outputs": [],
   "source": [
    "fp_logreg = joblib.load('E:/data/capstone/pickled_models/fourth_pass/fp_logreg.pkl')"
   ]
  },
  {
   "cell_type": "code",
   "execution_count": 132,
   "id": "161f543a",
   "metadata": {
    "ExecuteTime": {
     "end_time": "2022-11-07T05:31:17.276943Z",
     "start_time": "2022-11-07T05:31:17.260987Z"
    },
    "code_folding": []
   },
   "outputs": [
    {
     "ename": "NameError",
     "evalue": "name 'X_train_scaled' is not defined",
     "output_type": "error",
     "traceback": [
      "\u001b[1;31m---------------------------------------------------------------------------\u001b[0m",
      "\u001b[1;31mNameError\u001b[0m                                 Traceback (most recent call last)",
      "Cell \u001b[1;32mIn [132], line 3\u001b[0m\n\u001b[0;32m      1\u001b[0m fp_logreg_report, fp_logreg_results, fp_logreg_coefficients \u001b[38;5;241m=\u001b[39m\\\n\u001b[0;32m      2\u001b[0m     hp\u001b[38;5;241m.\u001b[39mclass_model_eval_logreg(\n\u001b[1;32m----> 3\u001b[0m         fp_logreg, X_train_scaled, X_test_scaled, y_train, y_test,\n\u001b[0;32m      4\u001b[0m         num_class\u001b[38;5;241m=\u001b[39m\u001b[38;5;241m3\u001b[39m)\n",
      "\u001b[1;31mNameError\u001b[0m: name 'X_train_scaled' is not defined"
     ]
    }
   ],
   "source": [
    "fp_logreg_report, fp_logreg_results, fp_logreg_coefficients =\\\n",
    "    hp.class_model_eval_logreg(\n",
    "        fp_logreg, X_train_scaled, X_test_scaled, y_train, y_test,\n",
    "        num_class=3)"
   ]
  },
  {
   "cell_type": "code",
   "execution_count": 133,
   "id": "e3e53c95",
   "metadata": {
    "ExecuteTime": {
     "end_time": "2022-11-07T05:31:17.530746Z",
     "start_time": "2022-11-07T05:31:17.521803Z"
    }
   },
   "outputs": [],
   "source": [
    "# fp_logreg_coefficients"
   ]
  },
  {
   "cell_type": "code",
   "execution_count": 134,
   "id": "630f27af",
   "metadata": {
    "ExecuteTime": {
     "end_time": "2022-11-07T05:31:17.799062Z",
     "start_time": "2022-11-07T05:31:17.777090Z"
    },
    "scrolled": true
   },
   "outputs": [
    {
     "ename": "NameError",
     "evalue": "name 'fp_logreg_coefficients' is not defined",
     "output_type": "error",
     "traceback": [
      "\u001b[1;31m---------------------------------------------------------------------------\u001b[0m",
      "\u001b[1;31mNameError\u001b[0m                                 Traceback (most recent call last)",
      "Cell \u001b[1;32mIn [134], line 1\u001b[0m\n\u001b[1;32m----> 1\u001b[0m \u001b[38;5;28;01mfor\u001b[39;00m col \u001b[38;5;129;01min\u001b[39;00m fp_logreg_coefficients:\n\u001b[0;32m      2\u001b[0m     display(fp_logreg_coefficients[[col]]\u001b[38;5;241m.\u001b[39msort_values(\n\u001b[0;32m      3\u001b[0m     by\u001b[38;5;241m=\u001b[39mcol, ascending\u001b[38;5;241m=\u001b[39m\u001b[38;5;28;01mFalse\u001b[39;00m)\u001b[38;5;241m.\u001b[39mhead(\u001b[38;5;241m15\u001b[39m))\n",
      "\u001b[1;31mNameError\u001b[0m: name 'fp_logreg_coefficients' is not defined"
     ]
    }
   ],
   "source": [
    "for col in fp_logreg_coefficients:\n",
    "    display(fp_logreg_coefficients[[col]].sort_values(\n",
    "    by=col, ascending=False).head(15))"
   ]
  },
  {
   "cell_type": "code",
   "execution_count": null,
   "id": "5c08953a",
   "metadata": {},
   "outputs": [],
   "source": []
  },
  {
   "cell_type": "markdown",
   "id": "689ad12a",
   "metadata": {},
   "source": [
    "-----"
   ]
  },
  {
   "cell_type": "markdown",
   "id": "3a422fe8",
   "metadata": {},
   "source": [
    "#### Decision Tree"
   ]
  },
  {
   "cell_type": "code",
   "execution_count": null,
   "id": "14cdbe3b",
   "metadata": {
    "ExecuteTime": {
     "end_time": "2022-11-06T20:46:55.656208Z",
     "start_time": "2022-11-06T20:46:55.651248Z"
    }
   },
   "outputs": [],
   "source": [
    "# fp_dt = hp.train_default_dt_model(X_train, y_train,\n",
    "#                                   path='E:/data/capstone/pickled_models/fourth_pass/',\n",
    "#                                   name='fp')"
   ]
  },
  {
   "cell_type": "code",
   "execution_count": null,
   "id": "2004d2a1",
   "metadata": {
    "ExecuteTime": {
     "end_time": "2022-11-06T20:46:52.205439Z",
     "start_time": "2022-11-06T20:46:52.071824Z"
    }
   },
   "outputs": [],
   "source": [
    "fp_dt = hp.train_default_dt_model(X_train, y_train)"
   ]
  },
  {
   "cell_type": "code",
   "execution_count": null,
   "id": "84437ddd",
   "metadata": {
    "ExecuteTime": {
     "end_time": "2022-11-06T20:47:41.981549Z",
     "start_time": "2022-11-06T20:47:41.760110Z"
    },
    "code_folding": []
   },
   "outputs": [],
   "source": [
    "fp_dt_report, fp_dt_results =\\\n",
    "    hp.class_model_eval_logreg(\n",
    "        fp_dt, X_train, X_test, y_train, y_test,\n",
    "        num_class=3, has_coeffs=False)"
   ]
  },
  {
   "cell_type": "code",
   "execution_count": null,
   "id": "636f7f59",
   "metadata": {
    "ExecuteTime": {
     "end_time": "2022-11-06T20:48:43.573144Z",
     "start_time": "2022-11-06T20:48:43.560207Z"
    }
   },
   "outputs": [],
   "source": [
    "hp.tree_feature_importance(fp_dt, X_train)"
   ]
  },
  {
   "cell_type": "markdown",
   "id": "a02f4a12",
   "metadata": {},
   "source": [
    "-----"
   ]
  },
  {
   "cell_type": "markdown",
   "id": "a1c960c4",
   "metadata": {},
   "source": [
    "###### NoElo"
   ]
  },
  {
   "cell_type": "code",
   "execution_count": 135,
   "id": "81f15844",
   "metadata": {
    "ExecuteTime": {
     "end_time": "2022-11-07T05:31:24.727814Z",
     "start_time": "2022-11-07T05:31:24.712824Z"
    }
   },
   "outputs": [],
   "source": [
    "X_train_noelo = X_train.drop(columns=['WhiteElo', 'BlackElo'])\n",
    "X_test_noelo = X_test.drop(columns=['WhiteElo', 'BlackElo'])"
   ]
  },
  {
   "cell_type": "code",
   "execution_count": 136,
   "id": "d56ca111",
   "metadata": {
    "ExecuteTime": {
     "end_time": "2022-11-07T05:31:25.821563Z",
     "start_time": "2022-11-07T05:31:25.677917Z"
    }
   },
   "outputs": [],
   "source": [
    "fp_dt_noelo = hp.train_default_dt_model(X_train_noelo, y_train)"
   ]
  },
  {
   "cell_type": "code",
   "execution_count": 137,
   "id": "aff270c7",
   "metadata": {
    "ExecuteTime": {
     "end_time": "2022-11-07T05:31:26.595490Z",
     "start_time": "2022-11-07T05:31:26.314239Z"
    },
    "code_folding": []
   },
   "outputs": [
    {
     "name": "stdout",
     "output_type": "stream",
     "text": [
      "The accuracy score on the training data is: 1.0\n",
      "The accuracy score on the testing data is: 0.879118878572729\n"
     ]
    },
    {
     "data": {
      "image/svg+xml": [
       "<?xml version=\"1.0\" encoding=\"utf-8\" standalone=\"no\"?>\n",
       "<!DOCTYPE svg PUBLIC \"-//W3C//DTD SVG 1.1//EN\"\n",
       "  \"http://www.w3.org/Graphics/SVG/1.1/DTD/svg11.dtd\">\n",
       "<svg xmlns:xlink=\"http://www.w3.org/1999/xlink\" width=\"371.164225pt\" height=\"313.207321pt\" viewBox=\"0 0 371.164225 313.207321\" xmlns=\"http://www.w3.org/2000/svg\" version=\"1.1\">\n",
       " <metadata>\n",
       "  <rdf:RDF xmlns:dc=\"http://purl.org/dc/elements/1.1/\" xmlns:cc=\"http://creativecommons.org/ns#\" xmlns:rdf=\"http://www.w3.org/1999/02/22-rdf-syntax-ns#\">\n",
       "   <cc:Work>\n",
       "    <dc:type rdf:resource=\"http://purl.org/dc/dcmitype/StillImage\"/>\n",
       "    <dc:date>2022-11-07T05:31:26.499746</dc:date>\n",
       "    <dc:format>image/svg+xml</dc:format>\n",
       "    <dc:creator>\n",
       "     <cc:Agent>\n",
       "      <dc:title>Matplotlib v3.6.0, https://matplotlib.org/</dc:title>\n",
       "     </cc:Agent>\n",
       "    </dc:creator>\n",
       "   </cc:Work>\n",
       "  </rdf:RDF>\n",
       " </metadata>\n",
       " <defs>\n",
       "  <style type=\"text/css\">*{stroke-linejoin: round; stroke-linecap: butt}</style>\n",
       " </defs>\n",
       " <g id=\"figure_1\">\n",
       "  <g id=\"patch_1\">\n",
       "   <path d=\"M 0 313.207321 \n",
       "L 371.164225 313.207321 \n",
       "L 371.164225 0 \n",
       "L 0 0 \n",
       "z\n",
       "\" style=\"fill: #ffffff\"/>\n",
       "  </g>\n",
       "  <g id=\"axes_1\">\n",
       "   <g id=\"patch_2\">\n",
       "    <path d=\"M 34.240625 275.651071 \n",
       "L 300.352625 275.651071 \n",
       "L 300.352625 9.539071 \n",
       "L 34.240625 9.539071 \n",
       "z\n",
       "\" style=\"fill: #ffffff\"/>\n",
       "   </g>\n",
       "   <g clip-path=\"url(#pa02e2192a0)\">\n",
       "    <image xlink:href=\"data:image/png;base64,\n",
       "iVBORw0KGgoAAAANSUhEUgAAAXIAAAFyCAYAAADoJFEJAAAFdUlEQVR4nO3WQU1DURRFUT4pg1rAACCkwUJdIIRR5eCCGWCgKhqKiCbvZoe1FJzRztkOD8frHf/C9XKZnsBCH+fP6Qkscj89AIDbCDlAnJADxAk5QJyQA8QJOUCckAPECTlAnJADxAk5QJyQA8QJOUCckAPECTlAnJADxAk5QJyQA8QJOUCckAPECTlAnJADxAk5QJyQA8QJOUCckAPECTlAnJADxAk5QJyQA8QJOUCckAPECTlAnJADxAk5QJyQA8QJOUCckAPECTlAnJADxAk5QJyQA8QJOUCckAPECTlAnJADxAk5QJyQA8QJOUCckAPECTlAnJADxAk5QJyQA8QJOUCckAPECTlAnJADxAk5QJyQA8QJOUCckAPECTlAnJADxAk5QJyQA8QJOUCckAPECTlAnJADxAk5QJyQA8QJOUCckAPECTlAnJADxAk5QJyQA8QJOUCckAPECTlAnJADxAk5QJyQA8QJOUCckAPECTlAnJADxAk5QJyQA8QJOUCckAPECTlAnJADxAk5QJyQA8QJOUCckAPECTlAnJADxAk5QJyQA8QJOUCckAPECTlAnJADxAk5QJyQA8QJOUCckAPECTlAnJADxAk5QJyQA8QJOUCckAPECTlAnJADxAk5QJyQA8QJOUCckAPECTlAnJADxO22/X56A4v8vL9MT2Ch18fpBazikQPECTlAnJADxAk5QJyQA8QJOUCckAPECTlAnJADxAk5QJyQA8QJOUCckAPECTlAnJADxAk5QJyQA8QJOUCckAPECTlAnJADxAk5QJyQA8QJOUCckAPECTlAnJADxAk5QJyQA8QJOUCckAPECTlAnJADxAk5QJyQA8QJOUCckAPECTlAnJADxAk5QJyQA8QJOUCckAPECTlAnJADxAk5QJyQA8QJOUCckAPECTlAnJADxAk5QJyQA8QJOUCckAPECTlAnJADxAk5QJyQA8QJOUCckAPECTlAnJADxAk5QJyQA8QJOUCckAPECTlAnJADxAk5QJyQA8QJOUCckAPECTlAnJADxAk5QJyQA8QJOUCckAPECTlAnJADxAk5QJyQA8QJOUCckAPECTlAnJADxAk5QJyQA8QJOUCckAPECTlAnJADxAk5QJyQA8QJOUCckAPECTlAnJADxAk5QJyQA8QJOUCckAPECTlAnJADxAk5QJyQA8QJOUCckAPECTlAnJADxAk5QJyQA8QJOUCckAPECTlAnJADxAk5QJyQA8QJOUCckAPECTlA3O779DS9gUWe376mJ7DQ77ZNT2ARjxwgTsgB4oQcIE7IAeKEHCBOyAHihBwgTsgB4oQcIE7IAeKEHCBOyAHihBwgTsgB4oQcIE7IAeKEHCBOyAHihBwgTsgB4oQcIE7IAeKEHCBOyAHihBwgTsgB4oQcIE7IAeKEHCBOyAHihBwgTsgB4oQcIE7IAeKEHCBOyAHihBwgTsgB4oQcIE7IAeKEHCBOyAHihBwgTsgB4oQcIE7IAeKEHCBOyAHihBwgTsgB4oQcIE7IAeKEHCBOyAHihBwgTsgB4oQcIE7IAeKEHCBOyAHihBwgTsgB4oQcIE7IAeKEHCBOyAHihBwgTsgB4oQcIE7IAeKEHCBOyAHihBwgTsgB4oQcIE7IAeKEHCBOyAHihBwgTsgB4oQcIE7IAeKEHCBOyAHihBwgTsgB4oQcIE7IAeKEHCBOyAHihBwgTsgB4oQcIE7IAeKEHCBOyAHihBwgTsgB4oQcIE7IAeKEHCBOyAHihBwgTsgB4oQcIE7IAeKEHCBOyAHihBwgTsgB4oQcIE7IAeKEHCBOyAHihBwgTsgB4oQcIE7IAeKEHCBOyAHihBwgTsgB4v4AobMP7jBc1uUAAAAASUVORK5CYII=\" id=\"imagea7b1fe3b72\" transform=\"scale(1 -1) translate(0 -266.4)\" x=\"34.240625\" y=\"-9.251071\" width=\"266.4\" height=\"266.4\"/>\n",
       "   </g>\n",
       "   <g id=\"matplotlib.axis_1\">\n",
       "    <g id=\"xtick_1\">\n",
       "     <g id=\"line2d_1\">\n",
       "      <defs>\n",
       "       <path id=\"mc57880126f\" d=\"M 0 0 \n",
       "L 0 3.5 \n",
       "\" style=\"stroke: #000000; stroke-width: 0.8\"/>\n",
       "      </defs>\n",
       "      <g>\n",
       "       <use xlink:href=\"#mc57880126f\" x=\"78.592625\" y=\"275.651071\" style=\"stroke: #000000; stroke-width: 0.8\"/>\n",
       "      </g>\n",
       "     </g>\n",
       "     <g id=\"text_1\">\n",
       "      <!-- 0 -->\n",
       "      <g transform=\"translate(75.411375 290.249508) scale(0.1 -0.1)\">\n",
       "       <defs>\n",
       "        <path id=\"DejaVuSans-30\" d=\"M 2034 4250 \n",
       "Q 1547 4250 1301 3770 \n",
       "Q 1056 3291 1056 2328 \n",
       "Q 1056 1369 1301 889 \n",
       "Q 1547 409 2034 409 \n",
       "Q 2525 409 2770 889 \n",
       "Q 3016 1369 3016 2328 \n",
       "Q 3016 3291 2770 3770 \n",
       "Q 2525 4250 2034 4250 \n",
       "z\n",
       "M 2034 4750 \n",
       "Q 2819 4750 3233 4129 \n",
       "Q 3647 3509 3647 2328 \n",
       "Q 3647 1150 3233 529 \n",
       "Q 2819 -91 2034 -91 \n",
       "Q 1250 -91 836 529 \n",
       "Q 422 1150 422 2328 \n",
       "Q 422 3509 836 4129 \n",
       "Q 1250 4750 2034 4750 \n",
       "z\n",
       "\" transform=\"scale(0.015625)\"/>\n",
       "       </defs>\n",
       "       <use xlink:href=\"#DejaVuSans-30\"/>\n",
       "      </g>\n",
       "     </g>\n",
       "    </g>\n",
       "    <g id=\"xtick_2\">\n",
       "     <g id=\"line2d_2\">\n",
       "      <g>\n",
       "       <use xlink:href=\"#mc57880126f\" x=\"167.296625\" y=\"275.651071\" style=\"stroke: #000000; stroke-width: 0.8\"/>\n",
       "      </g>\n",
       "     </g>\n",
       "     <g id=\"text_2\">\n",
       "      <!-- 1 -->\n",
       "      <g transform=\"translate(164.115375 290.249508) scale(0.1 -0.1)\">\n",
       "       <defs>\n",
       "        <path id=\"DejaVuSans-31\" d=\"M 794 531 \n",
       "L 1825 531 \n",
       "L 1825 4091 \n",
       "L 703 3866 \n",
       "L 703 4441 \n",
       "L 1819 4666 \n",
       "L 2450 4666 \n",
       "L 2450 531 \n",
       "L 3481 531 \n",
       "L 3481 0 \n",
       "L 794 0 \n",
       "L 794 531 \n",
       "z\n",
       "\" transform=\"scale(0.015625)\"/>\n",
       "       </defs>\n",
       "       <use xlink:href=\"#DejaVuSans-31\"/>\n",
       "      </g>\n",
       "     </g>\n",
       "    </g>\n",
       "    <g id=\"xtick_3\">\n",
       "     <g id=\"line2d_3\">\n",
       "      <g>\n",
       "       <use xlink:href=\"#mc57880126f\" x=\"256.000625\" y=\"275.651071\" style=\"stroke: #000000; stroke-width: 0.8\"/>\n",
       "      </g>\n",
       "     </g>\n",
       "     <g id=\"text_3\">\n",
       "      <!-- 2 -->\n",
       "      <g transform=\"translate(252.819375 290.249508) scale(0.1 -0.1)\">\n",
       "       <defs>\n",
       "        <path id=\"DejaVuSans-32\" d=\"M 1228 531 \n",
       "L 3431 531 \n",
       "L 3431 0 \n",
       "L 469 0 \n",
       "L 469 531 \n",
       "Q 828 903 1448 1529 \n",
       "Q 2069 2156 2228 2338 \n",
       "Q 2531 2678 2651 2914 \n",
       "Q 2772 3150 2772 3378 \n",
       "Q 2772 3750 2511 3984 \n",
       "Q 2250 4219 1831 4219 \n",
       "Q 1534 4219 1204 4116 \n",
       "Q 875 4013 500 3803 \n",
       "L 500 4441 \n",
       "Q 881 4594 1212 4672 \n",
       "Q 1544 4750 1819 4750 \n",
       "Q 2544 4750 2975 4387 \n",
       "Q 3406 4025 3406 3419 \n",
       "Q 3406 3131 3298 2873 \n",
       "Q 3191 2616 2906 2266 \n",
       "Q 2828 2175 2409 1742 \n",
       "Q 1991 1309 1228 531 \n",
       "z\n",
       "\" transform=\"scale(0.015625)\"/>\n",
       "       </defs>\n",
       "       <use xlink:href=\"#DejaVuSans-32\"/>\n",
       "      </g>\n",
       "     </g>\n",
       "    </g>\n",
       "    <g id=\"text_4\">\n",
       "     <!-- Predicted label -->\n",
       "     <g transform=\"translate(130.144281 303.927633) scale(0.1 -0.1)\">\n",
       "      <defs>\n",
       "       <path id=\"DejaVuSans-50\" d=\"M 1259 4147 \n",
       "L 1259 2394 \n",
       "L 2053 2394 \n",
       "Q 2494 2394 2734 2622 \n",
       "Q 2975 2850 2975 3272 \n",
       "Q 2975 3691 2734 3919 \n",
       "Q 2494 4147 2053 4147 \n",
       "L 1259 4147 \n",
       "z\n",
       "M 628 4666 \n",
       "L 2053 4666 \n",
       "Q 2838 4666 3239 4311 \n",
       "Q 3641 3956 3641 3272 \n",
       "Q 3641 2581 3239 2228 \n",
       "Q 2838 1875 2053 1875 \n",
       "L 1259 1875 \n",
       "L 1259 0 \n",
       "L 628 0 \n",
       "L 628 4666 \n",
       "z\n",
       "\" transform=\"scale(0.015625)\"/>\n",
       "       <path id=\"DejaVuSans-72\" d=\"M 2631 2963 \n",
       "Q 2534 3019 2420 3045 \n",
       "Q 2306 3072 2169 3072 \n",
       "Q 1681 3072 1420 2755 \n",
       "Q 1159 2438 1159 1844 \n",
       "L 1159 0 \n",
       "L 581 0 \n",
       "L 581 3500 \n",
       "L 1159 3500 \n",
       "L 1159 2956 \n",
       "Q 1341 3275 1631 3429 \n",
       "Q 1922 3584 2338 3584 \n",
       "Q 2397 3584 2469 3576 \n",
       "Q 2541 3569 2628 3553 \n",
       "L 2631 2963 \n",
       "z\n",
       "\" transform=\"scale(0.015625)\"/>\n",
       "       <path id=\"DejaVuSans-65\" d=\"M 3597 1894 \n",
       "L 3597 1613 \n",
       "L 953 1613 \n",
       "Q 991 1019 1311 708 \n",
       "Q 1631 397 2203 397 \n",
       "Q 2534 397 2845 478 \n",
       "Q 3156 559 3463 722 \n",
       "L 3463 178 \n",
       "Q 3153 47 2828 -22 \n",
       "Q 2503 -91 2169 -91 \n",
       "Q 1331 -91 842 396 \n",
       "Q 353 884 353 1716 \n",
       "Q 353 2575 817 3079 \n",
       "Q 1281 3584 2069 3584 \n",
       "Q 2775 3584 3186 3129 \n",
       "Q 3597 2675 3597 1894 \n",
       "z\n",
       "M 3022 2063 \n",
       "Q 3016 2534 2758 2815 \n",
       "Q 2500 3097 2075 3097 \n",
       "Q 1594 3097 1305 2825 \n",
       "Q 1016 2553 972 2059 \n",
       "L 3022 2063 \n",
       "z\n",
       "\" transform=\"scale(0.015625)\"/>\n",
       "       <path id=\"DejaVuSans-64\" d=\"M 2906 2969 \n",
       "L 2906 4863 \n",
       "L 3481 4863 \n",
       "L 3481 0 \n",
       "L 2906 0 \n",
       "L 2906 525 \n",
       "Q 2725 213 2448 61 \n",
       "Q 2172 -91 1784 -91 \n",
       "Q 1150 -91 751 415 \n",
       "Q 353 922 353 1747 \n",
       "Q 353 2572 751 3078 \n",
       "Q 1150 3584 1784 3584 \n",
       "Q 2172 3584 2448 3432 \n",
       "Q 2725 3281 2906 2969 \n",
       "z\n",
       "M 947 1747 \n",
       "Q 947 1113 1208 752 \n",
       "Q 1469 391 1925 391 \n",
       "Q 2381 391 2643 752 \n",
       "Q 2906 1113 2906 1747 \n",
       "Q 2906 2381 2643 2742 \n",
       "Q 2381 3103 1925 3103 \n",
       "Q 1469 3103 1208 2742 \n",
       "Q 947 2381 947 1747 \n",
       "z\n",
       "\" transform=\"scale(0.015625)\"/>\n",
       "       <path id=\"DejaVuSans-69\" d=\"M 603 3500 \n",
       "L 1178 3500 \n",
       "L 1178 0 \n",
       "L 603 0 \n",
       "L 603 3500 \n",
       "z\n",
       "M 603 4863 \n",
       "L 1178 4863 \n",
       "L 1178 4134 \n",
       "L 603 4134 \n",
       "L 603 4863 \n",
       "z\n",
       "\" transform=\"scale(0.015625)\"/>\n",
       "       <path id=\"DejaVuSans-63\" d=\"M 3122 3366 \n",
       "L 3122 2828 \n",
       "Q 2878 2963 2633 3030 \n",
       "Q 2388 3097 2138 3097 \n",
       "Q 1578 3097 1268 2742 \n",
       "Q 959 2388 959 1747 \n",
       "Q 959 1106 1268 751 \n",
       "Q 1578 397 2138 397 \n",
       "Q 2388 397 2633 464 \n",
       "Q 2878 531 3122 666 \n",
       "L 3122 134 \n",
       "Q 2881 22 2623 -34 \n",
       "Q 2366 -91 2075 -91 \n",
       "Q 1284 -91 818 406 \n",
       "Q 353 903 353 1747 \n",
       "Q 353 2603 823 3093 \n",
       "Q 1294 3584 2113 3584 \n",
       "Q 2378 3584 2631 3529 \n",
       "Q 2884 3475 3122 3366 \n",
       "z\n",
       "\" transform=\"scale(0.015625)\"/>\n",
       "       <path id=\"DejaVuSans-74\" d=\"M 1172 4494 \n",
       "L 1172 3500 \n",
       "L 2356 3500 \n",
       "L 2356 3053 \n",
       "L 1172 3053 \n",
       "L 1172 1153 \n",
       "Q 1172 725 1289 603 \n",
       "Q 1406 481 1766 481 \n",
       "L 2356 481 \n",
       "L 2356 0 \n",
       "L 1766 0 \n",
       "Q 1100 0 847 248 \n",
       "Q 594 497 594 1153 \n",
       "L 594 3053 \n",
       "L 172 3053 \n",
       "L 172 3500 \n",
       "L 594 3500 \n",
       "L 594 4494 \n",
       "L 1172 4494 \n",
       "z\n",
       "\" transform=\"scale(0.015625)\"/>\n",
       "       <path id=\"DejaVuSans-20\" transform=\"scale(0.015625)\"/>\n",
       "       <path id=\"DejaVuSans-6c\" d=\"M 603 4863 \n",
       "L 1178 4863 \n",
       "L 1178 0 \n",
       "L 603 0 \n",
       "L 603 4863 \n",
       "z\n",
       "\" transform=\"scale(0.015625)\"/>\n",
       "       <path id=\"DejaVuSans-61\" d=\"M 2194 1759 \n",
       "Q 1497 1759 1228 1600 \n",
       "Q 959 1441 959 1056 \n",
       "Q 959 750 1161 570 \n",
       "Q 1363 391 1709 391 \n",
       "Q 2188 391 2477 730 \n",
       "Q 2766 1069 2766 1631 \n",
       "L 2766 1759 \n",
       "L 2194 1759 \n",
       "z\n",
       "M 3341 1997 \n",
       "L 3341 0 \n",
       "L 2766 0 \n",
       "L 2766 531 \n",
       "Q 2569 213 2275 61 \n",
       "Q 1981 -91 1556 -91 \n",
       "Q 1019 -91 701 211 \n",
       "Q 384 513 384 1019 \n",
       "Q 384 1609 779 1909 \n",
       "Q 1175 2209 1959 2209 \n",
       "L 2766 2209 \n",
       "L 2766 2266 \n",
       "Q 2766 2663 2505 2880 \n",
       "Q 2244 3097 1772 3097 \n",
       "Q 1472 3097 1187 3025 \n",
       "Q 903 2953 641 2809 \n",
       "L 641 3341 \n",
       "Q 956 3463 1253 3523 \n",
       "Q 1550 3584 1831 3584 \n",
       "Q 2591 3584 2966 3190 \n",
       "Q 3341 2797 3341 1997 \n",
       "z\n",
       "\" transform=\"scale(0.015625)\"/>\n",
       "       <path id=\"DejaVuSans-62\" d=\"M 3116 1747 \n",
       "Q 3116 2381 2855 2742 \n",
       "Q 2594 3103 2138 3103 \n",
       "Q 1681 3103 1420 2742 \n",
       "Q 1159 2381 1159 1747 \n",
       "Q 1159 1113 1420 752 \n",
       "Q 1681 391 2138 391 \n",
       "Q 2594 391 2855 752 \n",
       "Q 3116 1113 3116 1747 \n",
       "z\n",
       "M 1159 2969 \n",
       "Q 1341 3281 1617 3432 \n",
       "Q 1894 3584 2278 3584 \n",
       "Q 2916 3584 3314 3078 \n",
       "Q 3713 2572 3713 1747 \n",
       "Q 3713 922 3314 415 \n",
       "Q 2916 -91 2278 -91 \n",
       "Q 1894 -91 1617 61 \n",
       "Q 1341 213 1159 525 \n",
       "L 1159 0 \n",
       "L 581 0 \n",
       "L 581 4863 \n",
       "L 1159 4863 \n",
       "L 1159 2969 \n",
       "z\n",
       "\" transform=\"scale(0.015625)\"/>\n",
       "      </defs>\n",
       "      <use xlink:href=\"#DejaVuSans-50\"/>\n",
       "      <use xlink:href=\"#DejaVuSans-72\" x=\"58.552734\"/>\n",
       "      <use xlink:href=\"#DejaVuSans-65\" x=\"97.416016\"/>\n",
       "      <use xlink:href=\"#DejaVuSans-64\" x=\"158.939453\"/>\n",
       "      <use xlink:href=\"#DejaVuSans-69\" x=\"222.416016\"/>\n",
       "      <use xlink:href=\"#DejaVuSans-63\" x=\"250.199219\"/>\n",
       "      <use xlink:href=\"#DejaVuSans-74\" x=\"305.179688\"/>\n",
       "      <use xlink:href=\"#DejaVuSans-65\" x=\"344.388672\"/>\n",
       "      <use xlink:href=\"#DejaVuSans-64\" x=\"405.912109\"/>\n",
       "      <use xlink:href=\"#DejaVuSans-20\" x=\"469.388672\"/>\n",
       "      <use xlink:href=\"#DejaVuSans-6c\" x=\"501.175781\"/>\n",
       "      <use xlink:href=\"#DejaVuSans-61\" x=\"528.958984\"/>\n",
       "      <use xlink:href=\"#DejaVuSans-62\" x=\"590.238281\"/>\n",
       "      <use xlink:href=\"#DejaVuSans-65\" x=\"653.714844\"/>\n",
       "      <use xlink:href=\"#DejaVuSans-6c\" x=\"715.238281\"/>\n",
       "     </g>\n",
       "    </g>\n",
       "   </g>\n",
       "   <g id=\"matplotlib.axis_2\">\n",
       "    <g id=\"ytick_1\">\n",
       "     <g id=\"line2d_4\">\n",
       "      <defs>\n",
       "       <path id=\"mdfd9e8fa4f\" d=\"M 0 0 \n",
       "L -3.5 0 \n",
       "\" style=\"stroke: #000000; stroke-width: 0.8\"/>\n",
       "      </defs>\n",
       "      <g>\n",
       "       <use xlink:href=\"#mdfd9e8fa4f\" x=\"34.240625\" y=\"53.891071\" style=\"stroke: #000000; stroke-width: 0.8\"/>\n",
       "      </g>\n",
       "     </g>\n",
       "     <g id=\"text_5\">\n",
       "      <!-- 0 -->\n",
       "      <g transform=\"translate(20.878125 57.690289) scale(0.1 -0.1)\">\n",
       "       <use xlink:href=\"#DejaVuSans-30\"/>\n",
       "      </g>\n",
       "     </g>\n",
       "    </g>\n",
       "    <g id=\"ytick_2\">\n",
       "     <g id=\"line2d_5\">\n",
       "      <g>\n",
       "       <use xlink:href=\"#mdfd9e8fa4f\" x=\"34.240625\" y=\"142.595071\" style=\"stroke: #000000; stroke-width: 0.8\"/>\n",
       "      </g>\n",
       "     </g>\n",
       "     <g id=\"text_6\">\n",
       "      <!-- 1 -->\n",
       "      <g transform=\"translate(20.878125 146.394289) scale(0.1 -0.1)\">\n",
       "       <use xlink:href=\"#DejaVuSans-31\"/>\n",
       "      </g>\n",
       "     </g>\n",
       "    </g>\n",
       "    <g id=\"ytick_3\">\n",
       "     <g id=\"line2d_6\">\n",
       "      <g>\n",
       "       <use xlink:href=\"#mdfd9e8fa4f\" x=\"34.240625\" y=\"231.299071\" style=\"stroke: #000000; stroke-width: 0.8\"/>\n",
       "      </g>\n",
       "     </g>\n",
       "     <g id=\"text_7\">\n",
       "      <!-- 2 -->\n",
       "      <g transform=\"translate(20.878125 235.098289) scale(0.1 -0.1)\">\n",
       "       <use xlink:href=\"#DejaVuSans-32\"/>\n",
       "      </g>\n",
       "     </g>\n",
       "    </g>\n",
       "    <g id=\"text_8\">\n",
       "     <!-- True label -->\n",
       "     <g transform=\"translate(14.798437 166.894289) rotate(-90) scale(0.1 -0.1)\">\n",
       "      <defs>\n",
       "       <path id=\"DejaVuSans-54\" d=\"M -19 4666 \n",
       "L 3928 4666 \n",
       "L 3928 4134 \n",
       "L 2272 4134 \n",
       "L 2272 0 \n",
       "L 1638 0 \n",
       "L 1638 4134 \n",
       "L -19 4134 \n",
       "L -19 4666 \n",
       "z\n",
       "\" transform=\"scale(0.015625)\"/>\n",
       "       <path id=\"DejaVuSans-75\" d=\"M 544 1381 \n",
       "L 544 3500 \n",
       "L 1119 3500 \n",
       "L 1119 1403 \n",
       "Q 1119 906 1312 657 \n",
       "Q 1506 409 1894 409 \n",
       "Q 2359 409 2629 706 \n",
       "Q 2900 1003 2900 1516 \n",
       "L 2900 3500 \n",
       "L 3475 3500 \n",
       "L 3475 0 \n",
       "L 2900 0 \n",
       "L 2900 538 \n",
       "Q 2691 219 2414 64 \n",
       "Q 2138 -91 1772 -91 \n",
       "Q 1169 -91 856 284 \n",
       "Q 544 659 544 1381 \n",
       "z\n",
       "M 1991 3584 \n",
       "L 1991 3584 \n",
       "z\n",
       "\" transform=\"scale(0.015625)\"/>\n",
       "      </defs>\n",
       "      <use xlink:href=\"#DejaVuSans-54\"/>\n",
       "      <use xlink:href=\"#DejaVuSans-72\" x=\"46.333984\"/>\n",
       "      <use xlink:href=\"#DejaVuSans-75\" x=\"87.447266\"/>\n",
       "      <use xlink:href=\"#DejaVuSans-65\" x=\"150.826172\"/>\n",
       "      <use xlink:href=\"#DejaVuSans-20\" x=\"212.349609\"/>\n",
       "      <use xlink:href=\"#DejaVuSans-6c\" x=\"244.136719\"/>\n",
       "      <use xlink:href=\"#DejaVuSans-61\" x=\"271.919922\"/>\n",
       "      <use xlink:href=\"#DejaVuSans-62\" x=\"333.199219\"/>\n",
       "      <use xlink:href=\"#DejaVuSans-65\" x=\"396.675781\"/>\n",
       "      <use xlink:href=\"#DejaVuSans-6c\" x=\"458.199219\"/>\n",
       "     </g>\n",
       "    </g>\n",
       "   </g>\n",
       "   <g id=\"patch_3\">\n",
       "    <path d=\"M 34.240625 275.651071 \n",
       "L 34.240625 9.539071 \n",
       "\" style=\"fill: none; stroke: #000000; stroke-width: 0.8; stroke-linejoin: miter; stroke-linecap: square\"/>\n",
       "   </g>\n",
       "   <g id=\"patch_4\">\n",
       "    <path d=\"M 300.352625 275.651071 \n",
       "L 300.352625 9.539071 \n",
       "\" style=\"fill: none; stroke: #000000; stroke-width: 0.8; stroke-linejoin: miter; stroke-linecap: square\"/>\n",
       "   </g>\n",
       "   <g id=\"patch_5\">\n",
       "    <path d=\"M 34.240625 275.651071 \n",
       "L 300.352625 275.651071 \n",
       "\" style=\"fill: none; stroke: #000000; stroke-width: 0.8; stroke-linejoin: miter; stroke-linecap: square\"/>\n",
       "   </g>\n",
       "   <g id=\"patch_6\">\n",
       "    <path d=\"M 34.240625 9.539071 \n",
       "L 300.352625 9.539071 \n",
       "\" style=\"fill: none; stroke: #000000; stroke-width: 0.8; stroke-linejoin: miter; stroke-linecap: square\"/>\n",
       "   </g>\n",
       "   <g id=\"text_9\">\n",
       "    <!-- 1311 -->\n",
       "    <g style=\"fill: #440154\" transform=\"translate(65.867625 56.650446) scale(0.1 -0.1)\">\n",
       "     <defs>\n",
       "      <path id=\"DejaVuSans-33\" d=\"M 2597 2516 \n",
       "Q 3050 2419 3304 2112 \n",
       "Q 3559 1806 3559 1356 \n",
       "Q 3559 666 3084 287 \n",
       "Q 2609 -91 1734 -91 \n",
       "Q 1441 -91 1130 -33 \n",
       "Q 819 25 488 141 \n",
       "L 488 750 \n",
       "Q 750 597 1062 519 \n",
       "Q 1375 441 1716 441 \n",
       "Q 2309 441 2620 675 \n",
       "Q 2931 909 2931 1356 \n",
       "Q 2931 1769 2642 2001 \n",
       "Q 2353 2234 1838 2234 \n",
       "L 1294 2234 \n",
       "L 1294 2753 \n",
       "L 1863 2753 \n",
       "Q 2328 2753 2575 2939 \n",
       "Q 2822 3125 2822 3475 \n",
       "Q 2822 3834 2567 4026 \n",
       "Q 2313 4219 1838 4219 \n",
       "Q 1578 4219 1281 4162 \n",
       "Q 984 4106 628 3988 \n",
       "L 628 4550 \n",
       "Q 988 4650 1302 4700 \n",
       "Q 1616 4750 1894 4750 \n",
       "Q 2613 4750 3031 4423 \n",
       "Q 3450 4097 3450 3541 \n",
       "Q 3450 3153 3228 2886 \n",
       "Q 3006 2619 2597 2516 \n",
       "z\n",
       "\" transform=\"scale(0.015625)\"/>\n",
       "     </defs>\n",
       "     <use xlink:href=\"#DejaVuSans-31\"/>\n",
       "     <use xlink:href=\"#DejaVuSans-33\" x=\"63.623047\"/>\n",
       "     <use xlink:href=\"#DejaVuSans-31\" x=\"127.246094\"/>\n",
       "     <use xlink:href=\"#DejaVuSans-31\" x=\"190.869141\"/>\n",
       "    </g>\n",
       "   </g>\n",
       "   <g id=\"text_10\">\n",
       "    <!-- 156 -->\n",
       "    <g style=\"fill: #fde725\" transform=\"translate(157.752875 56.650446) scale(0.1 -0.1)\">\n",
       "     <defs>\n",
       "      <path id=\"DejaVuSans-35\" d=\"M 691 4666 \n",
       "L 3169 4666 \n",
       "L 3169 4134 \n",
       "L 1269 4134 \n",
       "L 1269 2991 \n",
       "Q 1406 3038 1543 3061 \n",
       "Q 1681 3084 1819 3084 \n",
       "Q 2600 3084 3056 2656 \n",
       "Q 3513 2228 3513 1497 \n",
       "Q 3513 744 3044 326 \n",
       "Q 2575 -91 1722 -91 \n",
       "Q 1428 -91 1123 -41 \n",
       "Q 819 9 494 109 \n",
       "L 494 744 \n",
       "Q 775 591 1075 516 \n",
       "Q 1375 441 1709 441 \n",
       "Q 2250 441 2565 725 \n",
       "Q 2881 1009 2881 1497 \n",
       "Q 2881 1984 2565 2268 \n",
       "Q 2250 2553 1709 2553 \n",
       "Q 1456 2553 1204 2497 \n",
       "Q 953 2441 691 2322 \n",
       "L 691 4666 \n",
       "z\n",
       "\" transform=\"scale(0.015625)\"/>\n",
       "      <path id=\"DejaVuSans-36\" d=\"M 2113 2584 \n",
       "Q 1688 2584 1439 2293 \n",
       "Q 1191 2003 1191 1497 \n",
       "Q 1191 994 1439 701 \n",
       "Q 1688 409 2113 409 \n",
       "Q 2538 409 2786 701 \n",
       "Q 3034 994 3034 1497 \n",
       "Q 3034 2003 2786 2293 \n",
       "Q 2538 2584 2113 2584 \n",
       "z\n",
       "M 3366 4563 \n",
       "L 3366 3988 \n",
       "Q 3128 4100 2886 4159 \n",
       "Q 2644 4219 2406 4219 \n",
       "Q 1781 4219 1451 3797 \n",
       "Q 1122 3375 1075 2522 \n",
       "Q 1259 2794 1537 2939 \n",
       "Q 1816 3084 2150 3084 \n",
       "Q 2853 3084 3261 2657 \n",
       "Q 3669 2231 3669 1497 \n",
       "Q 3669 778 3244 343 \n",
       "Q 2819 -91 2113 -91 \n",
       "Q 1303 -91 875 529 \n",
       "Q 447 1150 447 2328 \n",
       "Q 447 3434 972 4092 \n",
       "Q 1497 4750 2381 4750 \n",
       "Q 2619 4750 2861 4703 \n",
       "Q 3103 4656 3366 4563 \n",
       "z\n",
       "\" transform=\"scale(0.015625)\"/>\n",
       "     </defs>\n",
       "     <use xlink:href=\"#DejaVuSans-31\"/>\n",
       "     <use xlink:href=\"#DejaVuSans-35\" x=\"63.623047\"/>\n",
       "     <use xlink:href=\"#DejaVuSans-36\" x=\"127.246094\"/>\n",
       "    </g>\n",
       "   </g>\n",
       "   <g id=\"text_11\">\n",
       "    <!-- 88 -->\n",
       "    <g style=\"fill: #fde725\" transform=\"translate(249.638125 56.650446) scale(0.1 -0.1)\">\n",
       "     <defs>\n",
       "      <path id=\"DejaVuSans-38\" d=\"M 2034 2216 \n",
       "Q 1584 2216 1326 1975 \n",
       "Q 1069 1734 1069 1313 \n",
       "Q 1069 891 1326 650 \n",
       "Q 1584 409 2034 409 \n",
       "Q 2484 409 2743 651 \n",
       "Q 3003 894 3003 1313 \n",
       "Q 3003 1734 2745 1975 \n",
       "Q 2488 2216 2034 2216 \n",
       "z\n",
       "M 1403 2484 \n",
       "Q 997 2584 770 2862 \n",
       "Q 544 3141 544 3541 \n",
       "Q 544 4100 942 4425 \n",
       "Q 1341 4750 2034 4750 \n",
       "Q 2731 4750 3128 4425 \n",
       "Q 3525 4100 3525 3541 \n",
       "Q 3525 3141 3298 2862 \n",
       "Q 3072 2584 2669 2484 \n",
       "Q 3125 2378 3379 2068 \n",
       "Q 3634 1759 3634 1313 \n",
       "Q 3634 634 3220 271 \n",
       "Q 2806 -91 2034 -91 \n",
       "Q 1263 -91 848 271 \n",
       "Q 434 634 434 1313 \n",
       "Q 434 1759 690 2068 \n",
       "Q 947 2378 1403 2484 \n",
       "z\n",
       "M 1172 3481 \n",
       "Q 1172 3119 1398 2916 \n",
       "Q 1625 2713 2034 2713 \n",
       "Q 2441 2713 2670 2916 \n",
       "Q 2900 3119 2900 3481 \n",
       "Q 2900 3844 2670 4047 \n",
       "Q 2441 4250 2034 4250 \n",
       "Q 1625 4250 1398 4047 \n",
       "Q 1172 3844 1172 3481 \n",
       "z\n",
       "\" transform=\"scale(0.015625)\"/>\n",
       "     </defs>\n",
       "     <use xlink:href=\"#DejaVuSans-38\"/>\n",
       "     <use xlink:href=\"#DejaVuSans-38\" x=\"63.623047\"/>\n",
       "    </g>\n",
       "   </g>\n",
       "   <g id=\"text_12\">\n",
       "    <!-- 160 -->\n",
       "    <g style=\"fill: #fde725\" transform=\"translate(69.048875 145.354446) scale(0.1 -0.1)\">\n",
       "     <use xlink:href=\"#DejaVuSans-31\"/>\n",
       "     <use xlink:href=\"#DejaVuSans-36\" x=\"63.623047\"/>\n",
       "     <use xlink:href=\"#DejaVuSans-30\" x=\"127.246094\"/>\n",
       "    </g>\n",
       "   </g>\n",
       "   <g id=\"text_13\">\n",
       "    <!-- 1256 -->\n",
       "    <g style=\"fill: #440154\" transform=\"translate(154.571625 145.354446) scale(0.1 -0.1)\">\n",
       "     <use xlink:href=\"#DejaVuSans-31\"/>\n",
       "     <use xlink:href=\"#DejaVuSans-32\" x=\"63.623047\"/>\n",
       "     <use xlink:href=\"#DejaVuSans-35\" x=\"127.246094\"/>\n",
       "     <use xlink:href=\"#DejaVuSans-36\" x=\"190.869141\"/>\n",
       "    </g>\n",
       "   </g>\n",
       "   <g id=\"text_14\">\n",
       "    <!-- 75 -->\n",
       "    <g style=\"fill: #fde725\" transform=\"translate(249.638125 145.354446) scale(0.1 -0.1)\">\n",
       "     <defs>\n",
       "      <path id=\"DejaVuSans-37\" d=\"M 525 4666 \n",
       "L 3525 4666 \n",
       "L 3525 4397 \n",
       "L 1831 0 \n",
       "L 1172 0 \n",
       "L 2766 4134 \n",
       "L 525 4134 \n",
       "L 525 4666 \n",
       "z\n",
       "\" transform=\"scale(0.015625)\"/>\n",
       "     </defs>\n",
       "     <use xlink:href=\"#DejaVuSans-37\"/>\n",
       "     <use xlink:href=\"#DejaVuSans-35\" x=\"63.623047\"/>\n",
       "    </g>\n",
       "   </g>\n",
       "   <g id=\"text_15\">\n",
       "    <!-- 102 -->\n",
       "    <g style=\"fill: #fde725\" transform=\"translate(69.048875 234.058446) scale(0.1 -0.1)\">\n",
       "     <use xlink:href=\"#DejaVuSans-31\"/>\n",
       "     <use xlink:href=\"#DejaVuSans-30\" x=\"63.623047\"/>\n",
       "     <use xlink:href=\"#DejaVuSans-32\" x=\"127.246094\"/>\n",
       "    </g>\n",
       "   </g>\n",
       "   <g id=\"text_16\">\n",
       "    <!-- 83 -->\n",
       "    <g style=\"fill: #fde725\" transform=\"translate(160.934125 234.058446) scale(0.1 -0.1)\">\n",
       "     <use xlink:href=\"#DejaVuSans-38\"/>\n",
       "     <use xlink:href=\"#DejaVuSans-33\" x=\"63.623047\"/>\n",
       "    </g>\n",
       "   </g>\n",
       "   <g id=\"text_17\">\n",
       "    <!-- 2262 -->\n",
       "    <g style=\"fill: #440154\" transform=\"translate(243.275625 234.058446) scale(0.1 -0.1)\">\n",
       "     <use xlink:href=\"#DejaVuSans-32\"/>\n",
       "     <use xlink:href=\"#DejaVuSans-32\" x=\"63.623047\"/>\n",
       "     <use xlink:href=\"#DejaVuSans-36\" x=\"127.246094\"/>\n",
       "     <use xlink:href=\"#DejaVuSans-32\" x=\"190.869141\"/>\n",
       "    </g>\n",
       "   </g>\n",
       "  </g>\n",
       "  <g id=\"axes_2\">\n",
       "   <g id=\"patch_7\">\n",
       "    <path d=\"M 318.208625 275.651071 \n",
       "L 331.514225 275.651071 \n",
       "L 331.514225 9.539071 \n",
       "L 318.208625 9.539071 \n",
       "z\n",
       "\" style=\"fill: #ffffff\"/>\n",
       "   </g>\n",
       "   <g id=\"patch_8\">\n",
       "    <path clip-path=\"url(#pbbfe586075)\" style=\"fill: #ffffff; stroke: #ffffff; stroke-width: 0.01; stroke-linejoin: miter\"/>\n",
       "   </g>\n",
       "   <image xlink:href=\"data:image/png;base64,\n",
       "iVBORw0KGgoAAAANSUhEUgAAABIAAAFyCAYAAAD4TYq5AAAB8UlEQVR4nO2d2w0CMQwEnUtKowT6L4VQgvkYodHKLmCVfdhJjtOxXut9C6iHAKmqOrUYrLOexQBRK+I0CqZWHDUGiHQNSraPWtmoYTkC7acGm48a59oku6tg17KTPTttU0rXdNRsrp0r1IgC8lHLTTaVI8z+YNemafsyJpvBMSb75jbthVwTJpsKZPI8ElLjXGOAspuWARJeIYz2Q0BGauNaBxS80wbPI+roZ6Q2gWyBdN0fPNiGWl/Rlxqba8KZrdNoqPU11P4JFKwR8jZcKan5Rm3wLqKjNhr1JWza5FGbS200agtb0cyjviaQPwBF28+ca5Pt97kWHUgMKDXZPrGVyWbs94ktdM3XtD6NJtk9EPSziPF85Ask17QVq9HKtT+aGgSEdT8ltlAjHzVwO7JRg5gpqXG9huDUeZI18lGDgIJde6CDVrBrwmQPtR+AhMmmqAW7ZgMCNaLutEJqwa7lziPQtQ8FpNMouWkh17aPGucao5Gwafdo1AIZkx07ancwNWyDpJqWWpFxOxIetIZaB0R1v3EXoQabsGmD5xHnmq1pwZ3W5hrYa9i9X6dR8MzOnUfcfU3nGhjI2Kc13GATniFljzSMTat7IwqcR0ydLdQI+o4WtSRyZmPUbB8uAV3TUeNcg/6qwKgRRk32Gf4vtfqN5qlVmUMAAAAASUVORK5CYII=\" id=\"image0c22b489e3\" transform=\"scale(1 -1) translate(0 -266.4)\" x=\"318.24\" y=\"-9.36\" width=\"12.96\" height=\"266.4\"/>\n",
       "   <g id=\"matplotlib.axis_3\"/>\n",
       "   <g id=\"matplotlib.axis_4\">\n",
       "    <g id=\"ytick_4\">\n",
       "     <g id=\"line2d_7\">\n",
       "      <defs>\n",
       "       <path id=\"m1a959f8143\" d=\"M 0 0 \n",
       "L 3.5 0 \n",
       "\" style=\"stroke: #000000; stroke-width: 0.8\"/>\n",
       "      </defs>\n",
       "      <g>\n",
       "       <use xlink:href=\"#m1a959f8143\" x=\"331.514225\" y=\"254.357243\" style=\"stroke: #000000; stroke-width: 0.8\"/>\n",
       "      </g>\n",
       "     </g>\n",
       "     <g id=\"text_18\">\n",
       "      <!-- 250 -->\n",
       "      <g transform=\"translate(338.514225 258.156462) scale(0.1 -0.1)\">\n",
       "       <use xlink:href=\"#DejaVuSans-32\"/>\n",
       "       <use xlink:href=\"#DejaVuSans-35\" x=\"63.623047\"/>\n",
       "       <use xlink:href=\"#DejaVuSans-30\" x=\"127.246094\"/>\n",
       "      </g>\n",
       "     </g>\n",
       "    </g>\n",
       "    <g id=\"ytick_5\">\n",
       "     <g id=\"line2d_8\">\n",
       "      <g>\n",
       "       <use xlink:href=\"#m1a959f8143\" x=\"331.514225\" y=\"223.93749\" style=\"stroke: #000000; stroke-width: 0.8\"/>\n",
       "      </g>\n",
       "     </g>\n",
       "     <g id=\"text_19\">\n",
       "      <!-- 500 -->\n",
       "      <g transform=\"translate(338.514225 227.736709) scale(0.1 -0.1)\">\n",
       "       <use xlink:href=\"#DejaVuSans-35\"/>\n",
       "       <use xlink:href=\"#DejaVuSans-30\" x=\"63.623047\"/>\n",
       "       <use xlink:href=\"#DejaVuSans-30\" x=\"127.246094\"/>\n",
       "      </g>\n",
       "     </g>\n",
       "    </g>\n",
       "    <g id=\"ytick_6\">\n",
       "     <g id=\"line2d_9\">\n",
       "      <g>\n",
       "       <use xlink:href=\"#m1a959f8143\" x=\"331.514225\" y=\"193.517737\" style=\"stroke: #000000; stroke-width: 0.8\"/>\n",
       "      </g>\n",
       "     </g>\n",
       "     <g id=\"text_20\">\n",
       "      <!-- 750 -->\n",
       "      <g transform=\"translate(338.514225 197.316956) scale(0.1 -0.1)\">\n",
       "       <use xlink:href=\"#DejaVuSans-37\"/>\n",
       "       <use xlink:href=\"#DejaVuSans-35\" x=\"63.623047\"/>\n",
       "       <use xlink:href=\"#DejaVuSans-30\" x=\"127.246094\"/>\n",
       "      </g>\n",
       "     </g>\n",
       "    </g>\n",
       "    <g id=\"ytick_7\">\n",
       "     <g id=\"line2d_10\">\n",
       "      <g>\n",
       "       <use xlink:href=\"#m1a959f8143\" x=\"331.514225\" y=\"163.097984\" style=\"stroke: #000000; stroke-width: 0.8\"/>\n",
       "      </g>\n",
       "     </g>\n",
       "     <g id=\"text_21\">\n",
       "      <!-- 1000 -->\n",
       "      <g transform=\"translate(338.514225 166.897203) scale(0.1 -0.1)\">\n",
       "       <use xlink:href=\"#DejaVuSans-31\"/>\n",
       "       <use xlink:href=\"#DejaVuSans-30\" x=\"63.623047\"/>\n",
       "       <use xlink:href=\"#DejaVuSans-30\" x=\"127.246094\"/>\n",
       "       <use xlink:href=\"#DejaVuSans-30\" x=\"190.869141\"/>\n",
       "      </g>\n",
       "     </g>\n",
       "    </g>\n",
       "    <g id=\"ytick_8\">\n",
       "     <g id=\"line2d_11\">\n",
       "      <g>\n",
       "       <use xlink:href=\"#m1a959f8143\" x=\"331.514225\" y=\"132.678231\" style=\"stroke: #000000; stroke-width: 0.8\"/>\n",
       "      </g>\n",
       "     </g>\n",
       "     <g id=\"text_22\">\n",
       "      <!-- 1250 -->\n",
       "      <g transform=\"translate(338.514225 136.47745) scale(0.1 -0.1)\">\n",
       "       <use xlink:href=\"#DejaVuSans-31\"/>\n",
       "       <use xlink:href=\"#DejaVuSans-32\" x=\"63.623047\"/>\n",
       "       <use xlink:href=\"#DejaVuSans-35\" x=\"127.246094\"/>\n",
       "       <use xlink:href=\"#DejaVuSans-30\" x=\"190.869141\"/>\n",
       "      </g>\n",
       "     </g>\n",
       "    </g>\n",
       "    <g id=\"ytick_9\">\n",
       "     <g id=\"line2d_12\">\n",
       "      <g>\n",
       "       <use xlink:href=\"#m1a959f8143\" x=\"331.514225\" y=\"102.258478\" style=\"stroke: #000000; stroke-width: 0.8\"/>\n",
       "      </g>\n",
       "     </g>\n",
       "     <g id=\"text_23\">\n",
       "      <!-- 1500 -->\n",
       "      <g transform=\"translate(338.514225 106.057697) scale(0.1 -0.1)\">\n",
       "       <use xlink:href=\"#DejaVuSans-31\"/>\n",
       "       <use xlink:href=\"#DejaVuSans-35\" x=\"63.623047\"/>\n",
       "       <use xlink:href=\"#DejaVuSans-30\" x=\"127.246094\"/>\n",
       "       <use xlink:href=\"#DejaVuSans-30\" x=\"190.869141\"/>\n",
       "      </g>\n",
       "     </g>\n",
       "    </g>\n",
       "    <g id=\"ytick_10\">\n",
       "     <g id=\"line2d_13\">\n",
       "      <g>\n",
       "       <use xlink:href=\"#m1a959f8143\" x=\"331.514225\" y=\"71.838725\" style=\"stroke: #000000; stroke-width: 0.8\"/>\n",
       "      </g>\n",
       "     </g>\n",
       "     <g id=\"text_24\">\n",
       "      <!-- 1750 -->\n",
       "      <g transform=\"translate(338.514225 75.637944) scale(0.1 -0.1)\">\n",
       "       <use xlink:href=\"#DejaVuSans-31\"/>\n",
       "       <use xlink:href=\"#DejaVuSans-37\" x=\"63.623047\"/>\n",
       "       <use xlink:href=\"#DejaVuSans-35\" x=\"127.246094\"/>\n",
       "       <use xlink:href=\"#DejaVuSans-30\" x=\"190.869141\"/>\n",
       "      </g>\n",
       "     </g>\n",
       "    </g>\n",
       "    <g id=\"ytick_11\">\n",
       "     <g id=\"line2d_14\">\n",
       "      <g>\n",
       "       <use xlink:href=\"#m1a959f8143\" x=\"331.514225\" y=\"41.418972\" style=\"stroke: #000000; stroke-width: 0.8\"/>\n",
       "      </g>\n",
       "     </g>\n",
       "     <g id=\"text_25\">\n",
       "      <!-- 2000 -->\n",
       "      <g transform=\"translate(338.514225 45.218191) scale(0.1 -0.1)\">\n",
       "       <use xlink:href=\"#DejaVuSans-32\"/>\n",
       "       <use xlink:href=\"#DejaVuSans-30\" x=\"63.623047\"/>\n",
       "       <use xlink:href=\"#DejaVuSans-30\" x=\"127.246094\"/>\n",
       "       <use xlink:href=\"#DejaVuSans-30\" x=\"190.869141\"/>\n",
       "      </g>\n",
       "     </g>\n",
       "    </g>\n",
       "    <g id=\"ytick_12\">\n",
       "     <g id=\"line2d_15\">\n",
       "      <g>\n",
       "       <use xlink:href=\"#m1a959f8143\" x=\"331.514225\" y=\"10.999219\" style=\"stroke: #000000; stroke-width: 0.8\"/>\n",
       "      </g>\n",
       "     </g>\n",
       "     <g id=\"text_26\">\n",
       "      <!-- 2250 -->\n",
       "      <g transform=\"translate(338.514225 14.798438) scale(0.1 -0.1)\">\n",
       "       <use xlink:href=\"#DejaVuSans-32\"/>\n",
       "       <use xlink:href=\"#DejaVuSans-32\" x=\"63.623047\"/>\n",
       "       <use xlink:href=\"#DejaVuSans-35\" x=\"127.246094\"/>\n",
       "       <use xlink:href=\"#DejaVuSans-30\" x=\"190.869141\"/>\n",
       "      </g>\n",
       "     </g>\n",
       "    </g>\n",
       "   </g>\n",
       "   <g id=\"LineCollection_1\"/>\n",
       "   <g id=\"patch_9\">\n",
       "    <path d=\"M 318.208625 275.651071 \n",
       "L 324.861425 275.651071 \n",
       "L 331.514225 275.651071 \n",
       "L 331.514225 9.539071 \n",
       "L 324.861425 9.539071 \n",
       "L 318.208625 9.539071 \n",
       "L 318.208625 275.651071 \n",
       "z\n",
       "\" style=\"fill: none; stroke: #000000; stroke-width: 0.8; stroke-linejoin: miter; stroke-linecap: square\"/>\n",
       "   </g>\n",
       "  </g>\n",
       " </g>\n",
       " <defs>\n",
       "  <clipPath id=\"pa02e2192a0\">\n",
       "   <rect x=\"34.240625\" y=\"9.539071\" width=\"266.112\" height=\"266.112\"/>\n",
       "  </clipPath>\n",
       "  <clipPath id=\"pbbfe586075\">\n",
       "   <rect x=\"318.208625\" y=\"9.539071\" width=\"13.3056\" height=\"266.112\"/>\n",
       "  </clipPath>\n",
       " </defs>\n",
       "</svg>\n"
      ],
      "text/plain": [
       "<Figure size 640x480 with 2 Axes>"
      ]
     },
     "metadata": {},
     "output_type": "display_data"
    },
    {
     "name": "stdout",
     "output_type": "stream",
     "text": [
      "              precision    recall  f1-score   support\n",
      "\n",
      "           0     0.8334    0.8431    0.8382      1555\n",
      "           1     0.8401    0.8424    0.8413      1491\n",
      "           2     0.9328    0.9244    0.9286      2447\n",
      "\n",
      "    accuracy                         0.8791      5493\n",
      "   macro avg     0.8688    0.8700    0.8694      5493\n",
      "weighted avg     0.8795    0.8791    0.8793      5493\n",
      "\n"
     ]
    }
   ],
   "source": [
    "fp_dt_noelo_report, fp_dt_noelo_results =\\\n",
    "    hp.class_model_eval_logreg(\n",
    "        fp_dt_noelo, X_train_noelo, X_test_noelo, y_train, y_test,\n",
    "        num_class=3, has_coeffs=False)"
   ]
  },
  {
   "cell_type": "code",
   "execution_count": null,
   "id": "1fd1067f",
   "metadata": {
    "ExecuteTime": {
     "end_time": "2022-11-06T20:51:34.684209Z",
     "start_time": "2022-11-06T20:51:34.665261Z"
    }
   },
   "outputs": [],
   "source": [
    "hp.tree_feature_importance(fp_dt_noelo, X_train_noelo)"
   ]
  },
  {
   "cell_type": "markdown",
   "id": "500f2a1f",
   "metadata": {},
   "source": [
    "-----"
   ]
  },
  {
   "cell_type": "markdown",
   "id": "802a0dee",
   "metadata": {},
   "source": [
    "#### Random Forest"
   ]
  },
  {
   "cell_type": "code",
   "execution_count": null,
   "id": "84385bc6",
   "metadata": {
    "ExecuteTime": {
     "end_time": "2022-11-06T21:12:20.245234Z",
     "start_time": "2022-11-06T21:12:19.135225Z"
    }
   },
   "outputs": [],
   "source": [
    "fp_rf = hp.train_default_rf_model(X_train, y_train)"
   ]
  },
  {
   "cell_type": "code",
   "execution_count": null,
   "id": "67643d1f",
   "metadata": {
    "ExecuteTime": {
     "end_time": "2022-11-06T21:12:41.499594Z",
     "start_time": "2022-11-06T21:12:41.112544Z"
    }
   },
   "outputs": [],
   "source": [
    "fp_rf_report, fp_rf_results =\\\n",
    "    hp.class_model_eval_logreg(\n",
    "        fp_rf, X_train, X_test, y_train, y_test,\n",
    "        num_class=3, has_coeffs=False)"
   ]
  },
  {
   "cell_type": "code",
   "execution_count": null,
   "id": "dac2a75b",
   "metadata": {
    "ExecuteTime": {
     "end_time": "2022-11-06T21:19:24.030713Z",
     "start_time": "2022-11-06T21:19:16.932256Z"
    }
   },
   "outputs": [],
   "source": [
    "hp.rf_trees_and_forest_strength(fp_rf, X_train, X_test, y_train, y_test);"
   ]
  },
  {
   "cell_type": "code",
   "execution_count": null,
   "id": "8f77ee4c",
   "metadata": {
    "ExecuteTime": {
     "end_time": "2022-11-06T21:22:53.997806Z",
     "start_time": "2022-11-06T21:22:53.965863Z"
    }
   },
   "outputs": [],
   "source": [
    "hp.tree_feature_importance(fp_rf, X_train)"
   ]
  },
  {
   "cell_type": "code",
   "execution_count": null,
   "id": "bc177182",
   "metadata": {
    "ExecuteTime": {
     "end_time": "2022-11-06T21:23:11.133190Z",
     "start_time": "2022-11-06T21:23:11.114242Z"
    }
   },
   "outputs": [],
   "source": [
    "len(fp_rf.estimators_) # 100"
   ]
  },
  {
   "cell_type": "code",
   "execution_count": null,
   "id": "12a10c5c",
   "metadata": {
    "ExecuteTime": {
     "end_time": "2022-11-06T22:00:32.607546Z",
     "start_time": "2022-11-06T22:00:32.603578Z"
    },
    "code_folding": [
     0
    ]
   },
   "outputs": [],
   "source": [
    "# decision_tree_train_scores = []\n",
    "# for sub_tree in fp_rf.estimators_:\n",
    "#     decision_tree_train_scores.append(fp_rf.score(X_train_, y_train))\n",
    "    \n",
    "# print(\"Performance on fitted data:\")\n",
    "# print(f\"Average Decision Tree: {np.mean(decision_tree_train_scores)}\")\n",
    "# print(f\"Random Forest: {fp_rf.score(X_train_, y_train)}\")"
   ]
  },
  {
   "cell_type": "code",
   "execution_count": null,
   "id": "c255e307",
   "metadata": {
    "ExecuteTime": {
     "end_time": "2022-11-06T22:00:34.945761Z",
     "start_time": "2022-11-06T22:00:34.937756Z"
    },
    "code_folding": [
     0
    ]
   },
   "outputs": [],
   "source": [
    "# decision_tree_test_scores = []\n",
    "# for sub_tree in random_forest.estimators_:\n",
    "#     decision_tree_test_scores.append(sub_tree.score(X_test_, y_test))\n",
    "\n",
    "# print(\"Performance on Test data:\")\n",
    "# print(f\"Average Decision Tree: {np.mean(decision_tree_test_scores)}\")\n",
    "# print(f\"Random Forest: {random_forest.score(X_test_, y_test)}\")"
   ]
  },
  {
   "cell_type": "markdown",
   "id": "a0d90620",
   "metadata": {},
   "source": [
    "-----"
   ]
  },
  {
   "cell_type": "markdown",
   "id": "7a8f5f45",
   "metadata": {},
   "source": [
    "###### NoElo"
   ]
  },
  {
   "cell_type": "code",
   "execution_count": 149,
   "id": "a1de7ebd",
   "metadata": {
    "ExecuteTime": {
     "end_time": "2022-11-07T05:33:11.735890Z",
     "start_time": "2022-11-07T05:33:11.714983Z"
    }
   },
   "outputs": [],
   "source": [
    "X_train_noelo = X_train.drop(columns=['WhiteElo', 'BlackElo'])\n",
    "X_test_noelo = X_test.drop(columns=['WhiteElo', 'BlackElo'])"
   ]
  },
  {
   "cell_type": "code",
   "execution_count": 150,
   "id": "8d9babe8",
   "metadata": {
    "ExecuteTime": {
     "end_time": "2022-11-07T05:33:13.903698Z",
     "start_time": "2022-11-07T05:33:12.614131Z"
    }
   },
   "outputs": [],
   "source": [
    "fp_rf_noelo = hp.train_default_rf_model(X_train_noelo, y_train)"
   ]
  },
  {
   "cell_type": "code",
   "execution_count": 151,
   "id": "82e0f450",
   "metadata": {
    "ExecuteTime": {
     "end_time": "2022-11-07T05:33:14.312728Z",
     "start_time": "2022-11-07T05:33:13.904696Z"
    },
    "code_folding": []
   },
   "outputs": [
    {
     "name": "stdout",
     "output_type": "stream",
     "text": [
      "The accuracy score on the training data is: 1.0\n",
      "The accuracy score on the testing data is: 0.9541234298197706\n"
     ]
    },
    {
     "data": {
      "image/svg+xml": [
       "<?xml version=\"1.0\" encoding=\"utf-8\" standalone=\"no\"?>\n",
       "<!DOCTYPE svg PUBLIC \"-//W3C//DTD SVG 1.1//EN\"\n",
       "  \"http://www.w3.org/Graphics/SVG/1.1/DTD/svg11.dtd\">\n",
       "<svg xmlns:xlink=\"http://www.w3.org/1999/xlink\" width=\"371.164225pt\" height=\"310.86825pt\" viewBox=\"0 0 371.164225 310.86825\" xmlns=\"http://www.w3.org/2000/svg\" version=\"1.1\">\n",
       " <metadata>\n",
       "  <rdf:RDF xmlns:dc=\"http://purl.org/dc/elements/1.1/\" xmlns:cc=\"http://creativecommons.org/ns#\" xmlns:rdf=\"http://www.w3.org/1999/02/22-rdf-syntax-ns#\">\n",
       "   <cc:Work>\n",
       "    <dc:type rdf:resource=\"http://purl.org/dc/dcmitype/StillImage\"/>\n",
       "    <dc:date>2022-11-07T05:33:14.203022</dc:date>\n",
       "    <dc:format>image/svg+xml</dc:format>\n",
       "    <dc:creator>\n",
       "     <cc:Agent>\n",
       "      <dc:title>Matplotlib v3.6.0, https://matplotlib.org/</dc:title>\n",
       "     </cc:Agent>\n",
       "    </dc:creator>\n",
       "   </cc:Work>\n",
       "  </rdf:RDF>\n",
       " </metadata>\n",
       " <defs>\n",
       "  <style type=\"text/css\">*{stroke-linejoin: round; stroke-linecap: butt}</style>\n",
       " </defs>\n",
       " <g id=\"figure_1\">\n",
       "  <g id=\"patch_1\">\n",
       "   <path d=\"M 0 310.86825 \n",
       "L 371.164225 310.86825 \n",
       "L 371.164225 0 \n",
       "L 0 0 \n",
       "z\n",
       "\" style=\"fill: #ffffff\"/>\n",
       "  </g>\n",
       "  <g id=\"axes_1\">\n",
       "   <g id=\"patch_2\">\n",
       "    <path d=\"M 34.240625 273.312 \n",
       "L 300.352625 273.312 \n",
       "L 300.352625 7.2 \n",
       "L 34.240625 7.2 \n",
       "z\n",
       "\" style=\"fill: #ffffff\"/>\n",
       "   </g>\n",
       "   <g clip-path=\"url(#paa638cf2de)\">\n",
       "    <image xlink:href=\"data:image/png;base64,\n",
       "iVBORw0KGgoAAAANSUhEUgAAAXIAAAFyCAYAAADoJFEJAAAFbklEQVR4nO3WsU0DURQFUdZ2sEUQ44A2kGiAkL5I3QZdQObEKW2YIpD+06BzKrjR6G4v29v9Afh3Pn++piewyGF6AAB/I+QAcUIOECfkAHFCDhAn5ABxQg4QJ+QAcUIOECfkAHFCDhAn5ABxQg4QJ+QAcUIOECfkAHFCDhAn5ABxQg4QJ+QAcUIOECfkAHFCDhAn5ABxQg4QJ+QAcUIOECfkAHFCDhAn5ABxQg4QJ+QAcUIOECfkAHFCDhAn5ABxQg4QJ+QAcUIOECfkAHFCDhAn5ABxQg4QJ+QAcUIOECfkAHFCDhAn5ABxQg4QJ+QAcUIOECfkAHFCDhAn5ABxQg4QJ+QAcUIOECfkAHFCDhAn5ABxQg4QJ+QAcUIOECfkAHFCDhAn5ABxQg4QJ+QAcUIOECfkAHFCDhAn5ABxQg4QJ+QAcUIOECfkAHFCDhAn5ABxQg4QJ+QAcUIOECfkAHFCDhAn5ABxQg4QJ+QAcUIOECfkAHFCDhAn5ABxQg4QJ+QAcUIOECfkAHFCDhAn5ABxQg4QJ+QAcUIOECfkAHFCDhAn5ABxQg4QJ+QAcUIOECfkAHFCDhAn5ABxQg4QJ+QAcUIOECfkAHFCDhAn5ABxQg4QJ+QAcUIOECfkAHFCDhAn5ABxQg4QJ+QAcUIOEHc67Pv0Bha5fjxPT2Ch18fj9AQW8cgB4oQcIE7IAeKEHCBOyAHihBwgTsgB4oQcIE7IAeKEHCBOyAHihBwgTsgB4oQcIE7IAeKEHCBOyAHihBwgTsgB4oQcIE7IAeKEHCBOyAHihBwgTsgB4oQcIE7IAeKEHCBOyAHihBwgTsgB4oQcIE7IAeKEHCBOyAHihBwgTsgB4oQcIE7IAeKEHCBOyAHihBwgTsgB4oQcIE7IAeKEHCBOyAHihBwgTsgB4oQcIE7IAeKEHCBOyAHihBwgTsgB4oQcIE7IAeKEHCBOyAHihBwgTsgB4oQcIE7IAeKEHCBOyAHihBwgTsgB4oQcIE7IAeKEHCBOyAHihBwgTsgB4oQcIE7IAeKEHCBOyAHihBwgTsgB4oQcIE7IAeKEHCBOyAHihBwgTsgB4oQcIE7IAeKEHCBOyAHihBwgTsgB4oQcIE7IAeKEHCBOyAHihBwgTsgB4oQcIE7IAeKEHCBOyAHihBwgTsgB4oQcIE7IAeKEHCBOyAHihBwgTsgB4oQcIE7IAeKEHCBOyAHihBwgTsgB4oQcIE7IAeKEHCBOyAHihBwgTsgB4oQcIO50uzxNb2CR8/v39AQWuk8PYBmPHCBOyAHihBwgTsgB4oQcIE7IAeKEHCBOyAHihBwgTsgB4oQcIE7IAeKEHCBOyAHihBwgTsgB4oQcIE7IAeKEHCBOyAHihBwgTsgB4oQcIE7IAeKEHCBOyAHihBwgTsgB4oQcIE7IAeKEHCBOyAHihBwgTsgB4oQcIE7IAeKEHCBOyAHihBwgTsgB4oQcIE7IAeKEHCBOyAHihBwgTsgB4oQcIE7IAeKEHCBOyAHihBwgTsgB4oQcIE7IAeKEHCBOyAHihBwgTsgB4oQcIE7IAeKEHCBOyAHihBwgTsgB4oQcIE7IAeKEHCBOyAHihBwgTsgB4oQcIE7IAeKEHCBOyAHihBwgTsgB4oQcIE7IAeKEHCBOyAHihBwgTsgB4oQcIE7IAeKEHCBOyAHihBwgTsgB4oQcIE7IAeKEHCBOyAHihBwgTsgB4oQcIE7IAeKEHCBOyAHihBwgTsgB4oQcIE7IAeKEHCBOyAHihBwgTsgB4oQcIE7IAeKEHCBOyAHihBwgTsgB4oQcIE7IAeKEHCBOyAHihBwgTsgB4oQcIE7IAeKEHCBOyAHifgGvEQz3XBQP0gAAAABJRU5ErkJggg==\" id=\"imageb5c388fc74\" transform=\"scale(1 -1) translate(0 -266.4)\" x=\"34.240625\" y=\"-6.912\" width=\"266.4\" height=\"266.4\"/>\n",
       "   </g>\n",
       "   <g id=\"matplotlib.axis_1\">\n",
       "    <g id=\"xtick_1\">\n",
       "     <g id=\"line2d_1\">\n",
       "      <defs>\n",
       "       <path id=\"m1840db4007\" d=\"M 0 0 \n",
       "L 0 3.5 \n",
       "\" style=\"stroke: #000000; stroke-width: 0.8\"/>\n",
       "      </defs>\n",
       "      <g>\n",
       "       <use xlink:href=\"#m1840db4007\" x=\"78.592625\" y=\"273.312\" style=\"stroke: #000000; stroke-width: 0.8\"/>\n",
       "      </g>\n",
       "     </g>\n",
       "     <g id=\"text_1\">\n",
       "      <!-- 0 -->\n",
       "      <g transform=\"translate(75.411375 287.910437) scale(0.1 -0.1)\">\n",
       "       <defs>\n",
       "        <path id=\"DejaVuSans-30\" d=\"M 2034 4250 \n",
       "Q 1547 4250 1301 3770 \n",
       "Q 1056 3291 1056 2328 \n",
       "Q 1056 1369 1301 889 \n",
       "Q 1547 409 2034 409 \n",
       "Q 2525 409 2770 889 \n",
       "Q 3016 1369 3016 2328 \n",
       "Q 3016 3291 2770 3770 \n",
       "Q 2525 4250 2034 4250 \n",
       "z\n",
       "M 2034 4750 \n",
       "Q 2819 4750 3233 4129 \n",
       "Q 3647 3509 3647 2328 \n",
       "Q 3647 1150 3233 529 \n",
       "Q 2819 -91 2034 -91 \n",
       "Q 1250 -91 836 529 \n",
       "Q 422 1150 422 2328 \n",
       "Q 422 3509 836 4129 \n",
       "Q 1250 4750 2034 4750 \n",
       "z\n",
       "\" transform=\"scale(0.015625)\"/>\n",
       "       </defs>\n",
       "       <use xlink:href=\"#DejaVuSans-30\"/>\n",
       "      </g>\n",
       "     </g>\n",
       "    </g>\n",
       "    <g id=\"xtick_2\">\n",
       "     <g id=\"line2d_2\">\n",
       "      <g>\n",
       "       <use xlink:href=\"#m1840db4007\" x=\"167.296625\" y=\"273.312\" style=\"stroke: #000000; stroke-width: 0.8\"/>\n",
       "      </g>\n",
       "     </g>\n",
       "     <g id=\"text_2\">\n",
       "      <!-- 1 -->\n",
       "      <g transform=\"translate(164.115375 287.910437) scale(0.1 -0.1)\">\n",
       "       <defs>\n",
       "        <path id=\"DejaVuSans-31\" d=\"M 794 531 \n",
       "L 1825 531 \n",
       "L 1825 4091 \n",
       "L 703 3866 \n",
       "L 703 4441 \n",
       "L 1819 4666 \n",
       "L 2450 4666 \n",
       "L 2450 531 \n",
       "L 3481 531 \n",
       "L 3481 0 \n",
       "L 794 0 \n",
       "L 794 531 \n",
       "z\n",
       "\" transform=\"scale(0.015625)\"/>\n",
       "       </defs>\n",
       "       <use xlink:href=\"#DejaVuSans-31\"/>\n",
       "      </g>\n",
       "     </g>\n",
       "    </g>\n",
       "    <g id=\"xtick_3\">\n",
       "     <g id=\"line2d_3\">\n",
       "      <g>\n",
       "       <use xlink:href=\"#m1840db4007\" x=\"256.000625\" y=\"273.312\" style=\"stroke: #000000; stroke-width: 0.8\"/>\n",
       "      </g>\n",
       "     </g>\n",
       "     <g id=\"text_3\">\n",
       "      <!-- 2 -->\n",
       "      <g transform=\"translate(252.819375 287.910437) scale(0.1 -0.1)\">\n",
       "       <defs>\n",
       "        <path id=\"DejaVuSans-32\" d=\"M 1228 531 \n",
       "L 3431 531 \n",
       "L 3431 0 \n",
       "L 469 0 \n",
       "L 469 531 \n",
       "Q 828 903 1448 1529 \n",
       "Q 2069 2156 2228 2338 \n",
       "Q 2531 2678 2651 2914 \n",
       "Q 2772 3150 2772 3378 \n",
       "Q 2772 3750 2511 3984 \n",
       "Q 2250 4219 1831 4219 \n",
       "Q 1534 4219 1204 4116 \n",
       "Q 875 4013 500 3803 \n",
       "L 500 4441 \n",
       "Q 881 4594 1212 4672 \n",
       "Q 1544 4750 1819 4750 \n",
       "Q 2544 4750 2975 4387 \n",
       "Q 3406 4025 3406 3419 \n",
       "Q 3406 3131 3298 2873 \n",
       "Q 3191 2616 2906 2266 \n",
       "Q 2828 2175 2409 1742 \n",
       "Q 1991 1309 1228 531 \n",
       "z\n",
       "\" transform=\"scale(0.015625)\"/>\n",
       "       </defs>\n",
       "       <use xlink:href=\"#DejaVuSans-32\"/>\n",
       "      </g>\n",
       "     </g>\n",
       "    </g>\n",
       "    <g id=\"text_4\">\n",
       "     <!-- Predicted label -->\n",
       "     <g transform=\"translate(130.144281 301.588562) scale(0.1 -0.1)\">\n",
       "      <defs>\n",
       "       <path id=\"DejaVuSans-50\" d=\"M 1259 4147 \n",
       "L 1259 2394 \n",
       "L 2053 2394 \n",
       "Q 2494 2394 2734 2622 \n",
       "Q 2975 2850 2975 3272 \n",
       "Q 2975 3691 2734 3919 \n",
       "Q 2494 4147 2053 4147 \n",
       "L 1259 4147 \n",
       "z\n",
       "M 628 4666 \n",
       "L 2053 4666 \n",
       "Q 2838 4666 3239 4311 \n",
       "Q 3641 3956 3641 3272 \n",
       "Q 3641 2581 3239 2228 \n",
       "Q 2838 1875 2053 1875 \n",
       "L 1259 1875 \n",
       "L 1259 0 \n",
       "L 628 0 \n",
       "L 628 4666 \n",
       "z\n",
       "\" transform=\"scale(0.015625)\"/>\n",
       "       <path id=\"DejaVuSans-72\" d=\"M 2631 2963 \n",
       "Q 2534 3019 2420 3045 \n",
       "Q 2306 3072 2169 3072 \n",
       "Q 1681 3072 1420 2755 \n",
       "Q 1159 2438 1159 1844 \n",
       "L 1159 0 \n",
       "L 581 0 \n",
       "L 581 3500 \n",
       "L 1159 3500 \n",
       "L 1159 2956 \n",
       "Q 1341 3275 1631 3429 \n",
       "Q 1922 3584 2338 3584 \n",
       "Q 2397 3584 2469 3576 \n",
       "Q 2541 3569 2628 3553 \n",
       "L 2631 2963 \n",
       "z\n",
       "\" transform=\"scale(0.015625)\"/>\n",
       "       <path id=\"DejaVuSans-65\" d=\"M 3597 1894 \n",
       "L 3597 1613 \n",
       "L 953 1613 \n",
       "Q 991 1019 1311 708 \n",
       "Q 1631 397 2203 397 \n",
       "Q 2534 397 2845 478 \n",
       "Q 3156 559 3463 722 \n",
       "L 3463 178 \n",
       "Q 3153 47 2828 -22 \n",
       "Q 2503 -91 2169 -91 \n",
       "Q 1331 -91 842 396 \n",
       "Q 353 884 353 1716 \n",
       "Q 353 2575 817 3079 \n",
       "Q 1281 3584 2069 3584 \n",
       "Q 2775 3584 3186 3129 \n",
       "Q 3597 2675 3597 1894 \n",
       "z\n",
       "M 3022 2063 \n",
       "Q 3016 2534 2758 2815 \n",
       "Q 2500 3097 2075 3097 \n",
       "Q 1594 3097 1305 2825 \n",
       "Q 1016 2553 972 2059 \n",
       "L 3022 2063 \n",
       "z\n",
       "\" transform=\"scale(0.015625)\"/>\n",
       "       <path id=\"DejaVuSans-64\" d=\"M 2906 2969 \n",
       "L 2906 4863 \n",
       "L 3481 4863 \n",
       "L 3481 0 \n",
       "L 2906 0 \n",
       "L 2906 525 \n",
       "Q 2725 213 2448 61 \n",
       "Q 2172 -91 1784 -91 \n",
       "Q 1150 -91 751 415 \n",
       "Q 353 922 353 1747 \n",
       "Q 353 2572 751 3078 \n",
       "Q 1150 3584 1784 3584 \n",
       "Q 2172 3584 2448 3432 \n",
       "Q 2725 3281 2906 2969 \n",
       "z\n",
       "M 947 1747 \n",
       "Q 947 1113 1208 752 \n",
       "Q 1469 391 1925 391 \n",
       "Q 2381 391 2643 752 \n",
       "Q 2906 1113 2906 1747 \n",
       "Q 2906 2381 2643 2742 \n",
       "Q 2381 3103 1925 3103 \n",
       "Q 1469 3103 1208 2742 \n",
       "Q 947 2381 947 1747 \n",
       "z\n",
       "\" transform=\"scale(0.015625)\"/>\n",
       "       <path id=\"DejaVuSans-69\" d=\"M 603 3500 \n",
       "L 1178 3500 \n",
       "L 1178 0 \n",
       "L 603 0 \n",
       "L 603 3500 \n",
       "z\n",
       "M 603 4863 \n",
       "L 1178 4863 \n",
       "L 1178 4134 \n",
       "L 603 4134 \n",
       "L 603 4863 \n",
       "z\n",
       "\" transform=\"scale(0.015625)\"/>\n",
       "       <path id=\"DejaVuSans-63\" d=\"M 3122 3366 \n",
       "L 3122 2828 \n",
       "Q 2878 2963 2633 3030 \n",
       "Q 2388 3097 2138 3097 \n",
       "Q 1578 3097 1268 2742 \n",
       "Q 959 2388 959 1747 \n",
       "Q 959 1106 1268 751 \n",
       "Q 1578 397 2138 397 \n",
       "Q 2388 397 2633 464 \n",
       "Q 2878 531 3122 666 \n",
       "L 3122 134 \n",
       "Q 2881 22 2623 -34 \n",
       "Q 2366 -91 2075 -91 \n",
       "Q 1284 -91 818 406 \n",
       "Q 353 903 353 1747 \n",
       "Q 353 2603 823 3093 \n",
       "Q 1294 3584 2113 3584 \n",
       "Q 2378 3584 2631 3529 \n",
       "Q 2884 3475 3122 3366 \n",
       "z\n",
       "\" transform=\"scale(0.015625)\"/>\n",
       "       <path id=\"DejaVuSans-74\" d=\"M 1172 4494 \n",
       "L 1172 3500 \n",
       "L 2356 3500 \n",
       "L 2356 3053 \n",
       "L 1172 3053 \n",
       "L 1172 1153 \n",
       "Q 1172 725 1289 603 \n",
       "Q 1406 481 1766 481 \n",
       "L 2356 481 \n",
       "L 2356 0 \n",
       "L 1766 0 \n",
       "Q 1100 0 847 248 \n",
       "Q 594 497 594 1153 \n",
       "L 594 3053 \n",
       "L 172 3053 \n",
       "L 172 3500 \n",
       "L 594 3500 \n",
       "L 594 4494 \n",
       "L 1172 4494 \n",
       "z\n",
       "\" transform=\"scale(0.015625)\"/>\n",
       "       <path id=\"DejaVuSans-20\" transform=\"scale(0.015625)\"/>\n",
       "       <path id=\"DejaVuSans-6c\" d=\"M 603 4863 \n",
       "L 1178 4863 \n",
       "L 1178 0 \n",
       "L 603 0 \n",
       "L 603 4863 \n",
       "z\n",
       "\" transform=\"scale(0.015625)\"/>\n",
       "       <path id=\"DejaVuSans-61\" d=\"M 2194 1759 \n",
       "Q 1497 1759 1228 1600 \n",
       "Q 959 1441 959 1056 \n",
       "Q 959 750 1161 570 \n",
       "Q 1363 391 1709 391 \n",
       "Q 2188 391 2477 730 \n",
       "Q 2766 1069 2766 1631 \n",
       "L 2766 1759 \n",
       "L 2194 1759 \n",
       "z\n",
       "M 3341 1997 \n",
       "L 3341 0 \n",
       "L 2766 0 \n",
       "L 2766 531 \n",
       "Q 2569 213 2275 61 \n",
       "Q 1981 -91 1556 -91 \n",
       "Q 1019 -91 701 211 \n",
       "Q 384 513 384 1019 \n",
       "Q 384 1609 779 1909 \n",
       "Q 1175 2209 1959 2209 \n",
       "L 2766 2209 \n",
       "L 2766 2266 \n",
       "Q 2766 2663 2505 2880 \n",
       "Q 2244 3097 1772 3097 \n",
       "Q 1472 3097 1187 3025 \n",
       "Q 903 2953 641 2809 \n",
       "L 641 3341 \n",
       "Q 956 3463 1253 3523 \n",
       "Q 1550 3584 1831 3584 \n",
       "Q 2591 3584 2966 3190 \n",
       "Q 3341 2797 3341 1997 \n",
       "z\n",
       "\" transform=\"scale(0.015625)\"/>\n",
       "       <path id=\"DejaVuSans-62\" d=\"M 3116 1747 \n",
       "Q 3116 2381 2855 2742 \n",
       "Q 2594 3103 2138 3103 \n",
       "Q 1681 3103 1420 2742 \n",
       "Q 1159 2381 1159 1747 \n",
       "Q 1159 1113 1420 752 \n",
       "Q 1681 391 2138 391 \n",
       "Q 2594 391 2855 752 \n",
       "Q 3116 1113 3116 1747 \n",
       "z\n",
       "M 1159 2969 \n",
       "Q 1341 3281 1617 3432 \n",
       "Q 1894 3584 2278 3584 \n",
       "Q 2916 3584 3314 3078 \n",
       "Q 3713 2572 3713 1747 \n",
       "Q 3713 922 3314 415 \n",
       "Q 2916 -91 2278 -91 \n",
       "Q 1894 -91 1617 61 \n",
       "Q 1341 213 1159 525 \n",
       "L 1159 0 \n",
       "L 581 0 \n",
       "L 581 4863 \n",
       "L 1159 4863 \n",
       "L 1159 2969 \n",
       "z\n",
       "\" transform=\"scale(0.015625)\"/>\n",
       "      </defs>\n",
       "      <use xlink:href=\"#DejaVuSans-50\"/>\n",
       "      <use xlink:href=\"#DejaVuSans-72\" x=\"58.552734\"/>\n",
       "      <use xlink:href=\"#DejaVuSans-65\" x=\"97.416016\"/>\n",
       "      <use xlink:href=\"#DejaVuSans-64\" x=\"158.939453\"/>\n",
       "      <use xlink:href=\"#DejaVuSans-69\" x=\"222.416016\"/>\n",
       "      <use xlink:href=\"#DejaVuSans-63\" x=\"250.199219\"/>\n",
       "      <use xlink:href=\"#DejaVuSans-74\" x=\"305.179688\"/>\n",
       "      <use xlink:href=\"#DejaVuSans-65\" x=\"344.388672\"/>\n",
       "      <use xlink:href=\"#DejaVuSans-64\" x=\"405.912109\"/>\n",
       "      <use xlink:href=\"#DejaVuSans-20\" x=\"469.388672\"/>\n",
       "      <use xlink:href=\"#DejaVuSans-6c\" x=\"501.175781\"/>\n",
       "      <use xlink:href=\"#DejaVuSans-61\" x=\"528.958984\"/>\n",
       "      <use xlink:href=\"#DejaVuSans-62\" x=\"590.238281\"/>\n",
       "      <use xlink:href=\"#DejaVuSans-65\" x=\"653.714844\"/>\n",
       "      <use xlink:href=\"#DejaVuSans-6c\" x=\"715.238281\"/>\n",
       "     </g>\n",
       "    </g>\n",
       "   </g>\n",
       "   <g id=\"matplotlib.axis_2\">\n",
       "    <g id=\"ytick_1\">\n",
       "     <g id=\"line2d_4\">\n",
       "      <defs>\n",
       "       <path id=\"m7d9330e82e\" d=\"M 0 0 \n",
       "L -3.5 0 \n",
       "\" style=\"stroke: #000000; stroke-width: 0.8\"/>\n",
       "      </defs>\n",
       "      <g>\n",
       "       <use xlink:href=\"#m7d9330e82e\" x=\"34.240625\" y=\"51.552\" style=\"stroke: #000000; stroke-width: 0.8\"/>\n",
       "      </g>\n",
       "     </g>\n",
       "     <g id=\"text_5\">\n",
       "      <!-- 0 -->\n",
       "      <g transform=\"translate(20.878125 55.351219) scale(0.1 -0.1)\">\n",
       "       <use xlink:href=\"#DejaVuSans-30\"/>\n",
       "      </g>\n",
       "     </g>\n",
       "    </g>\n",
       "    <g id=\"ytick_2\">\n",
       "     <g id=\"line2d_5\">\n",
       "      <g>\n",
       "       <use xlink:href=\"#m7d9330e82e\" x=\"34.240625\" y=\"140.256\" style=\"stroke: #000000; stroke-width: 0.8\"/>\n",
       "      </g>\n",
       "     </g>\n",
       "     <g id=\"text_6\">\n",
       "      <!-- 1 -->\n",
       "      <g transform=\"translate(20.878125 144.055219) scale(0.1 -0.1)\">\n",
       "       <use xlink:href=\"#DejaVuSans-31\"/>\n",
       "      </g>\n",
       "     </g>\n",
       "    </g>\n",
       "    <g id=\"ytick_3\">\n",
       "     <g id=\"line2d_6\">\n",
       "      <g>\n",
       "       <use xlink:href=\"#m7d9330e82e\" x=\"34.240625\" y=\"228.96\" style=\"stroke: #000000; stroke-width: 0.8\"/>\n",
       "      </g>\n",
       "     </g>\n",
       "     <g id=\"text_7\">\n",
       "      <!-- 2 -->\n",
       "      <g transform=\"translate(20.878125 232.759219) scale(0.1 -0.1)\">\n",
       "       <use xlink:href=\"#DejaVuSans-32\"/>\n",
       "      </g>\n",
       "     </g>\n",
       "    </g>\n",
       "    <g id=\"text_8\">\n",
       "     <!-- True label -->\n",
       "     <g transform=\"translate(14.798437 164.555219) rotate(-90) scale(0.1 -0.1)\">\n",
       "      <defs>\n",
       "       <path id=\"DejaVuSans-54\" d=\"M -19 4666 \n",
       "L 3928 4666 \n",
       "L 3928 4134 \n",
       "L 2272 4134 \n",
       "L 2272 0 \n",
       "L 1638 0 \n",
       "L 1638 4134 \n",
       "L -19 4134 \n",
       "L -19 4666 \n",
       "z\n",
       "\" transform=\"scale(0.015625)\"/>\n",
       "       <path id=\"DejaVuSans-75\" d=\"M 544 1381 \n",
       "L 544 3500 \n",
       "L 1119 3500 \n",
       "L 1119 1403 \n",
       "Q 1119 906 1312 657 \n",
       "Q 1506 409 1894 409 \n",
       "Q 2359 409 2629 706 \n",
       "Q 2900 1003 2900 1516 \n",
       "L 2900 3500 \n",
       "L 3475 3500 \n",
       "L 3475 0 \n",
       "L 2900 0 \n",
       "L 2900 538 \n",
       "Q 2691 219 2414 64 \n",
       "Q 2138 -91 1772 -91 \n",
       "Q 1169 -91 856 284 \n",
       "Q 544 659 544 1381 \n",
       "z\n",
       "M 1991 3584 \n",
       "L 1991 3584 \n",
       "z\n",
       "\" transform=\"scale(0.015625)\"/>\n",
       "      </defs>\n",
       "      <use xlink:href=\"#DejaVuSans-54\"/>\n",
       "      <use xlink:href=\"#DejaVuSans-72\" x=\"46.333984\"/>\n",
       "      <use xlink:href=\"#DejaVuSans-75\" x=\"87.447266\"/>\n",
       "      <use xlink:href=\"#DejaVuSans-65\" x=\"150.826172\"/>\n",
       "      <use xlink:href=\"#DejaVuSans-20\" x=\"212.349609\"/>\n",
       "      <use xlink:href=\"#DejaVuSans-6c\" x=\"244.136719\"/>\n",
       "      <use xlink:href=\"#DejaVuSans-61\" x=\"271.919922\"/>\n",
       "      <use xlink:href=\"#DejaVuSans-62\" x=\"333.199219\"/>\n",
       "      <use xlink:href=\"#DejaVuSans-65\" x=\"396.675781\"/>\n",
       "      <use xlink:href=\"#DejaVuSans-6c\" x=\"458.199219\"/>\n",
       "     </g>\n",
       "    </g>\n",
       "   </g>\n",
       "   <g id=\"patch_3\">\n",
       "    <path d=\"M 34.240625 273.312 \n",
       "L 34.240625 7.2 \n",
       "\" style=\"fill: none; stroke: #000000; stroke-width: 0.8; stroke-linejoin: miter; stroke-linecap: square\"/>\n",
       "   </g>\n",
       "   <g id=\"patch_4\">\n",
       "    <path d=\"M 300.352625 273.312 \n",
       "L 300.352625 7.2 \n",
       "\" style=\"fill: none; stroke: #000000; stroke-width: 0.8; stroke-linejoin: miter; stroke-linecap: square\"/>\n",
       "   </g>\n",
       "   <g id=\"patch_5\">\n",
       "    <path d=\"M 34.240625 273.312 \n",
       "L 300.352625 273.312 \n",
       "\" style=\"fill: none; stroke: #000000; stroke-width: 0.8; stroke-linejoin: miter; stroke-linecap: square\"/>\n",
       "   </g>\n",
       "   <g id=\"patch_6\">\n",
       "    <path d=\"M 34.240625 7.2 \n",
       "L 300.352625 7.2 \n",
       "\" style=\"fill: none; stroke: #000000; stroke-width: 0.8; stroke-linejoin: miter; stroke-linecap: square\"/>\n",
       "   </g>\n",
       "   <g id=\"text_9\">\n",
       "    <!-- 1466 -->\n",
       "    <g style=\"fill: #440154\" transform=\"translate(65.867625 54.311375) scale(0.1 -0.1)\">\n",
       "     <defs>\n",
       "      <path id=\"DejaVuSans-34\" d=\"M 2419 4116 \n",
       "L 825 1625 \n",
       "L 2419 1625 \n",
       "L 2419 4116 \n",
       "z\n",
       "M 2253 4666 \n",
       "L 3047 4666 \n",
       "L 3047 1625 \n",
       "L 3713 1625 \n",
       "L 3713 1100 \n",
       "L 3047 1100 \n",
       "L 3047 0 \n",
       "L 2419 0 \n",
       "L 2419 1100 \n",
       "L 313 1100 \n",
       "L 313 1709 \n",
       "L 2253 4666 \n",
       "z\n",
       "\" transform=\"scale(0.015625)\"/>\n",
       "      <path id=\"DejaVuSans-36\" d=\"M 2113 2584 \n",
       "Q 1688 2584 1439 2293 \n",
       "Q 1191 2003 1191 1497 \n",
       "Q 1191 994 1439 701 \n",
       "Q 1688 409 2113 409 \n",
       "Q 2538 409 2786 701 \n",
       "Q 3034 994 3034 1497 \n",
       "Q 3034 2003 2786 2293 \n",
       "Q 2538 2584 2113 2584 \n",
       "z\n",
       "M 3366 4563 \n",
       "L 3366 3988 \n",
       "Q 3128 4100 2886 4159 \n",
       "Q 2644 4219 2406 4219 \n",
       "Q 1781 4219 1451 3797 \n",
       "Q 1122 3375 1075 2522 \n",
       "Q 1259 2794 1537 2939 \n",
       "Q 1816 3084 2150 3084 \n",
       "Q 2853 3084 3261 2657 \n",
       "Q 3669 2231 3669 1497 \n",
       "Q 3669 778 3244 343 \n",
       "Q 2819 -91 2113 -91 \n",
       "Q 1303 -91 875 529 \n",
       "Q 447 1150 447 2328 \n",
       "Q 447 3434 972 4092 \n",
       "Q 1497 4750 2381 4750 \n",
       "Q 2619 4750 2861 4703 \n",
       "Q 3103 4656 3366 4563 \n",
       "z\n",
       "\" transform=\"scale(0.015625)\"/>\n",
       "     </defs>\n",
       "     <use xlink:href=\"#DejaVuSans-31\"/>\n",
       "     <use xlink:href=\"#DejaVuSans-34\" x=\"63.623047\"/>\n",
       "     <use xlink:href=\"#DejaVuSans-36\" x=\"127.246094\"/>\n",
       "     <use xlink:href=\"#DejaVuSans-36\" x=\"190.869141\"/>\n",
       "    </g>\n",
       "   </g>\n",
       "   <g id=\"text_10\">\n",
       "    <!-- 47 -->\n",
       "    <g style=\"fill: #fde725\" transform=\"translate(160.934125 54.311375) scale(0.1 -0.1)\">\n",
       "     <defs>\n",
       "      <path id=\"DejaVuSans-37\" d=\"M 525 4666 \n",
       "L 3525 4666 \n",
       "L 3525 4397 \n",
       "L 1831 0 \n",
       "L 1172 0 \n",
       "L 2766 4134 \n",
       "L 525 4134 \n",
       "L 525 4666 \n",
       "z\n",
       "\" transform=\"scale(0.015625)\"/>\n",
       "     </defs>\n",
       "     <use xlink:href=\"#DejaVuSans-34\"/>\n",
       "     <use xlink:href=\"#DejaVuSans-37\" x=\"63.623047\"/>\n",
       "    </g>\n",
       "   </g>\n",
       "   <g id=\"text_11\">\n",
       "    <!-- 42 -->\n",
       "    <g style=\"fill: #fde725\" transform=\"translate(249.638125 54.311375) scale(0.1 -0.1)\">\n",
       "     <use xlink:href=\"#DejaVuSans-34\"/>\n",
       "     <use xlink:href=\"#DejaVuSans-32\" x=\"63.623047\"/>\n",
       "    </g>\n",
       "   </g>\n",
       "   <g id=\"text_12\">\n",
       "    <!-- 83 -->\n",
       "    <g style=\"fill: #fde725\" transform=\"translate(72.230125 143.015375) scale(0.1 -0.1)\">\n",
       "     <defs>\n",
       "      <path id=\"DejaVuSans-38\" d=\"M 2034 2216 \n",
       "Q 1584 2216 1326 1975 \n",
       "Q 1069 1734 1069 1313 \n",
       "Q 1069 891 1326 650 \n",
       "Q 1584 409 2034 409 \n",
       "Q 2484 409 2743 651 \n",
       "Q 3003 894 3003 1313 \n",
       "Q 3003 1734 2745 1975 \n",
       "Q 2488 2216 2034 2216 \n",
       "z\n",
       "M 1403 2484 \n",
       "Q 997 2584 770 2862 \n",
       "Q 544 3141 544 3541 \n",
       "Q 544 4100 942 4425 \n",
       "Q 1341 4750 2034 4750 \n",
       "Q 2731 4750 3128 4425 \n",
       "Q 3525 4100 3525 3541 \n",
       "Q 3525 3141 3298 2862 \n",
       "Q 3072 2584 2669 2484 \n",
       "Q 3125 2378 3379 2068 \n",
       "Q 3634 1759 3634 1313 \n",
       "Q 3634 634 3220 271 \n",
       "Q 2806 -91 2034 -91 \n",
       "Q 1263 -91 848 271 \n",
       "Q 434 634 434 1313 \n",
       "Q 434 1759 690 2068 \n",
       "Q 947 2378 1403 2484 \n",
       "z\n",
       "M 1172 3481 \n",
       "Q 1172 3119 1398 2916 \n",
       "Q 1625 2713 2034 2713 \n",
       "Q 2441 2713 2670 2916 \n",
       "Q 2900 3119 2900 3481 \n",
       "Q 2900 3844 2670 4047 \n",
       "Q 2441 4250 2034 4250 \n",
       "Q 1625 4250 1398 4047 \n",
       "Q 1172 3844 1172 3481 \n",
       "z\n",
       "\" transform=\"scale(0.015625)\"/>\n",
       "      <path id=\"DejaVuSans-33\" d=\"M 2597 2516 \n",
       "Q 3050 2419 3304 2112 \n",
       "Q 3559 1806 3559 1356 \n",
       "Q 3559 666 3084 287 \n",
       "Q 2609 -91 1734 -91 \n",
       "Q 1441 -91 1130 -33 \n",
       "Q 819 25 488 141 \n",
       "L 488 750 \n",
       "Q 750 597 1062 519 \n",
       "Q 1375 441 1716 441 \n",
       "Q 2309 441 2620 675 \n",
       "Q 2931 909 2931 1356 \n",
       "Q 2931 1769 2642 2001 \n",
       "Q 2353 2234 1838 2234 \n",
       "L 1294 2234 \n",
       "L 1294 2753 \n",
       "L 1863 2753 \n",
       "Q 2328 2753 2575 2939 \n",
       "Q 2822 3125 2822 3475 \n",
       "Q 2822 3834 2567 4026 \n",
       "Q 2313 4219 1838 4219 \n",
       "Q 1578 4219 1281 4162 \n",
       "Q 984 4106 628 3988 \n",
       "L 628 4550 \n",
       "Q 988 4650 1302 4700 \n",
       "Q 1616 4750 1894 4750 \n",
       "Q 2613 4750 3031 4423 \n",
       "Q 3450 4097 3450 3541 \n",
       "Q 3450 3153 3228 2886 \n",
       "Q 3006 2619 2597 2516 \n",
       "z\n",
       "\" transform=\"scale(0.015625)\"/>\n",
       "     </defs>\n",
       "     <use xlink:href=\"#DejaVuSans-38\"/>\n",
       "     <use xlink:href=\"#DejaVuSans-33\" x=\"63.623047\"/>\n",
       "    </g>\n",
       "   </g>\n",
       "   <g id=\"text_13\">\n",
       "    <!-- 1371 -->\n",
       "    <g style=\"fill: #440154\" transform=\"translate(154.571625 143.015375) scale(0.1 -0.1)\">\n",
       "     <use xlink:href=\"#DejaVuSans-31\"/>\n",
       "     <use xlink:href=\"#DejaVuSans-33\" x=\"63.623047\"/>\n",
       "     <use xlink:href=\"#DejaVuSans-37\" x=\"127.246094\"/>\n",
       "     <use xlink:href=\"#DejaVuSans-31\" x=\"190.869141\"/>\n",
       "    </g>\n",
       "   </g>\n",
       "   <g id=\"text_14\">\n",
       "    <!-- 37 -->\n",
       "    <g style=\"fill: #fde725\" transform=\"translate(249.638125 143.015375) scale(0.1 -0.1)\">\n",
       "     <use xlink:href=\"#DejaVuSans-33\"/>\n",
       "     <use xlink:href=\"#DejaVuSans-37\" x=\"63.623047\"/>\n",
       "    </g>\n",
       "   </g>\n",
       "   <g id=\"text_15\">\n",
       "    <!-- 25 -->\n",
       "    <g style=\"fill: #fde725\" transform=\"translate(72.230125 231.719375) scale(0.1 -0.1)\">\n",
       "     <defs>\n",
       "      <path id=\"DejaVuSans-35\" d=\"M 691 4666 \n",
       "L 3169 4666 \n",
       "L 3169 4134 \n",
       "L 1269 4134 \n",
       "L 1269 2991 \n",
       "Q 1406 3038 1543 3061 \n",
       "Q 1681 3084 1819 3084 \n",
       "Q 2600 3084 3056 2656 \n",
       "Q 3513 2228 3513 1497 \n",
       "Q 3513 744 3044 326 \n",
       "Q 2575 -91 1722 -91 \n",
       "Q 1428 -91 1123 -41 \n",
       "Q 819 9 494 109 \n",
       "L 494 744 \n",
       "Q 775 591 1075 516 \n",
       "Q 1375 441 1709 441 \n",
       "Q 2250 441 2565 725 \n",
       "Q 2881 1009 2881 1497 \n",
       "Q 2881 1984 2565 2268 \n",
       "Q 2250 2553 1709 2553 \n",
       "Q 1456 2553 1204 2497 \n",
       "Q 953 2441 691 2322 \n",
       "L 691 4666 \n",
       "z\n",
       "\" transform=\"scale(0.015625)\"/>\n",
       "     </defs>\n",
       "     <use xlink:href=\"#DejaVuSans-32\"/>\n",
       "     <use xlink:href=\"#DejaVuSans-35\" x=\"63.623047\"/>\n",
       "    </g>\n",
       "   </g>\n",
       "   <g id=\"text_16\">\n",
       "    <!-- 18 -->\n",
       "    <g style=\"fill: #fde725\" transform=\"translate(160.934125 231.719375) scale(0.1 -0.1)\">\n",
       "     <use xlink:href=\"#DejaVuSans-31\"/>\n",
       "     <use xlink:href=\"#DejaVuSans-38\" x=\"63.623047\"/>\n",
       "    </g>\n",
       "   </g>\n",
       "   <g id=\"text_17\">\n",
       "    <!-- 2404 -->\n",
       "    <g style=\"fill: #440154\" transform=\"translate(243.275625 231.719375) scale(0.1 -0.1)\">\n",
       "     <use xlink:href=\"#DejaVuSans-32\"/>\n",
       "     <use xlink:href=\"#DejaVuSans-34\" x=\"63.623047\"/>\n",
       "     <use xlink:href=\"#DejaVuSans-30\" x=\"127.246094\"/>\n",
       "     <use xlink:href=\"#DejaVuSans-34\" x=\"190.869141\"/>\n",
       "    </g>\n",
       "   </g>\n",
       "  </g>\n",
       "  <g id=\"axes_2\">\n",
       "   <g id=\"patch_7\">\n",
       "    <path d=\"M 318.208625 273.312 \n",
       "L 331.514225 273.312 \n",
       "L 331.514225 7.2 \n",
       "L 318.208625 7.2 \n",
       "z\n",
       "\" style=\"fill: #ffffff\"/>\n",
       "   </g>\n",
       "   <g id=\"patch_8\">\n",
       "    <path clip-path=\"url(#p90cfa3ada4)\" style=\"fill: #ffffff; stroke: #ffffff; stroke-width: 0.01; stroke-linejoin: miter\"/>\n",
       "   </g>\n",
       "   <image xlink:href=\"data:image/png;base64,\n",
       "iVBORw0KGgoAAAANSUhEUgAAABIAAAFyCAYAAAD4TYq5AAAB8UlEQVR4nO2d2w0CMQwEnUtKowT6L4VQgvkYodHKLmCVfdhJjtOxXut9C6iHAKmqOrUYrLOexQBRK+I0CqZWHDUGiHQNSraPWtmoYTkC7acGm48a59oku6tg17KTPTttU0rXdNRsrp0r1IgC8lHLTTaVI8z+YNemafsyJpvBMSb75jbthVwTJpsKZPI8ElLjXGOAspuWARJeIYz2Q0BGauNaBxS80wbPI+roZ6Q2gWyBdN0fPNiGWl/Rlxqba8KZrdNoqPU11P4JFKwR8jZcKan5Rm3wLqKjNhr1JWza5FGbS200agtb0cyjviaQPwBF28+ca5Pt97kWHUgMKDXZPrGVyWbs94ktdM3XtD6NJtk9EPSziPF85Ask17QVq9HKtT+aGgSEdT8ltlAjHzVwO7JRg5gpqXG9huDUeZI18lGDgIJde6CDVrBrwmQPtR+AhMmmqAW7ZgMCNaLutEJqwa7lziPQtQ8FpNMouWkh17aPGucao5Gwafdo1AIZkx07ancwNWyDpJqWWpFxOxIetIZaB0R1v3EXoQabsGmD5xHnmq1pwZ3W5hrYa9i9X6dR8MzOnUfcfU3nGhjI2Kc13GATniFljzSMTat7IwqcR0ydLdQI+o4WtSRyZmPUbB8uAV3TUeNcg/6qwKgRRk32Gf4vtfqN5qlVmUMAAAAASUVORK5CYII=\" id=\"image01e7925216\" transform=\"scale(1 -1) translate(0 -266.4)\" x=\"318.24\" y=\"-6.48\" width=\"12.96\" height=\"266.4\"/>\n",
       "   <g id=\"matplotlib.axis_3\"/>\n",
       "   <g id=\"matplotlib.axis_4\">\n",
       "    <g id=\"ytick_4\">\n",
       "     <g id=\"line2d_7\">\n",
       "      <defs>\n",
       "       <path id=\"m3a8e2380e9\" d=\"M 0 0 \n",
       "L 3.5 0 \n",
       "\" style=\"stroke: #000000; stroke-width: 0.8\"/>\n",
       "      </defs>\n",
       "      <g>\n",
       "       <use xlink:href=\"#m3a8e2380e9\" x=\"331.514225\" y=\"219.554253\" style=\"stroke: #000000; stroke-width: 0.8\"/>\n",
       "      </g>\n",
       "     </g>\n",
       "     <g id=\"text_18\">\n",
       "      <!-- 500 -->\n",
       "      <g transform=\"translate(338.514225 223.353472) scale(0.1 -0.1)\">\n",
       "       <use xlink:href=\"#DejaVuSans-35\"/>\n",
       "       <use xlink:href=\"#DejaVuSans-30\" x=\"63.623047\"/>\n",
       "       <use xlink:href=\"#DejaVuSans-30\" x=\"127.246094\"/>\n",
       "      </g>\n",
       "     </g>\n",
       "    </g>\n",
       "    <g id=\"ytick_5\">\n",
       "     <g id=\"line2d_8\">\n",
       "      <g>\n",
       "       <use xlink:href=\"#m3a8e2380e9\" x=\"331.514225\" y=\"163.788956\" style=\"stroke: #000000; stroke-width: 0.8\"/>\n",
       "      </g>\n",
       "     </g>\n",
       "     <g id=\"text_19\">\n",
       "      <!-- 1000 -->\n",
       "      <g transform=\"translate(338.514225 167.588174) scale(0.1 -0.1)\">\n",
       "       <use xlink:href=\"#DejaVuSans-31\"/>\n",
       "       <use xlink:href=\"#DejaVuSans-30\" x=\"63.623047\"/>\n",
       "       <use xlink:href=\"#DejaVuSans-30\" x=\"127.246094\"/>\n",
       "       <use xlink:href=\"#DejaVuSans-30\" x=\"190.869141\"/>\n",
       "      </g>\n",
       "     </g>\n",
       "    </g>\n",
       "    <g id=\"ytick_6\">\n",
       "     <g id=\"line2d_9\">\n",
       "      <g>\n",
       "       <use xlink:href=\"#m3a8e2380e9\" x=\"331.514225\" y=\"108.023658\" style=\"stroke: #000000; stroke-width: 0.8\"/>\n",
       "      </g>\n",
       "     </g>\n",
       "     <g id=\"text_20\">\n",
       "      <!-- 1500 -->\n",
       "      <g transform=\"translate(338.514225 111.822877) scale(0.1 -0.1)\">\n",
       "       <use xlink:href=\"#DejaVuSans-31\"/>\n",
       "       <use xlink:href=\"#DejaVuSans-35\" x=\"63.623047\"/>\n",
       "       <use xlink:href=\"#DejaVuSans-30\" x=\"127.246094\"/>\n",
       "       <use xlink:href=\"#DejaVuSans-30\" x=\"190.869141\"/>\n",
       "      </g>\n",
       "     </g>\n",
       "    </g>\n",
       "    <g id=\"ytick_7\">\n",
       "     <g id=\"line2d_10\">\n",
       "      <g>\n",
       "       <use xlink:href=\"#m3a8e2380e9\" x=\"331.514225\" y=\"52.25836\" style=\"stroke: #000000; stroke-width: 0.8\"/>\n",
       "      </g>\n",
       "     </g>\n",
       "     <g id=\"text_21\">\n",
       "      <!-- 2000 -->\n",
       "      <g transform=\"translate(338.514225 56.057579) scale(0.1 -0.1)\">\n",
       "       <use xlink:href=\"#DejaVuSans-32\"/>\n",
       "       <use xlink:href=\"#DejaVuSans-30\" x=\"63.623047\"/>\n",
       "       <use xlink:href=\"#DejaVuSans-30\" x=\"127.246094\"/>\n",
       "       <use xlink:href=\"#DejaVuSans-30\" x=\"190.869141\"/>\n",
       "      </g>\n",
       "     </g>\n",
       "    </g>\n",
       "   </g>\n",
       "   <g id=\"LineCollection_1\"/>\n",
       "   <g id=\"patch_9\">\n",
       "    <path d=\"M 318.208625 273.312 \n",
       "L 324.861425 273.312 \n",
       "L 331.514225 273.312 \n",
       "L 331.514225 7.2 \n",
       "L 324.861425 7.2 \n",
       "L 318.208625 7.2 \n",
       "L 318.208625 273.312 \n",
       "z\n",
       "\" style=\"fill: none; stroke: #000000; stroke-width: 0.8; stroke-linejoin: miter; stroke-linecap: square\"/>\n",
       "   </g>\n",
       "  </g>\n",
       " </g>\n",
       " <defs>\n",
       "  <clipPath id=\"paa638cf2de\">\n",
       "   <rect x=\"34.240625\" y=\"7.2\" width=\"266.112\" height=\"266.112\"/>\n",
       "  </clipPath>\n",
       "  <clipPath id=\"p90cfa3ada4\">\n",
       "   <rect x=\"318.208625\" y=\"7.2\" width=\"13.3056\" height=\"266.112\"/>\n",
       "  </clipPath>\n",
       " </defs>\n",
       "</svg>\n"
      ],
      "text/plain": [
       "<Figure size 640x480 with 2 Axes>"
      ]
     },
     "metadata": {},
     "output_type": "display_data"
    },
    {
     "name": "stdout",
     "output_type": "stream",
     "text": [
      "              precision    recall  f1-score   support\n",
      "\n",
      "           0     0.9314    0.9428    0.9370      1555\n",
      "           1     0.9547    0.9195    0.9368      1491\n",
      "           2     0.9682    0.9824    0.9753      2447\n",
      "\n",
      "    accuracy                         0.9541      5493\n",
      "   macro avg     0.9514    0.9482    0.9497      5493\n",
      "weighted avg     0.9541    0.9541    0.9540      5493\n",
      "\n"
     ]
    }
   ],
   "source": [
    "fp_rf_noelo_report, fp_rf_noelo_results =\\\n",
    "    hp.class_model_eval_logreg(\n",
    "        fp_rf_noelo, X_train_noelo, X_test_noelo, y_train, y_test,\n",
    "        num_class=3, has_coeffs=False)"
   ]
  },
  {
   "cell_type": "code",
   "execution_count": 152,
   "id": "a897d870",
   "metadata": {
    "ExecuteTime": {
     "end_time": "2022-11-07T05:33:20.400269Z",
     "start_time": "2022-11-07T05:33:14.313698Z"
    }
   },
   "outputs": [
    {
     "name": "stdout",
     "output_type": "stream",
     "text": [
      "Performance on fitted data:\n",
      "Average Decision Tree: 0.9551351843422848\n",
      "Random Forest: 1.0\n",
      "\n",
      "Performance on Test data:\n",
      "Average Decision Tree: 1.0\n",
      "Random Forest: 0.9541234298197706\n"
     ]
    }
   ],
   "source": [
    "hp.rf_trees_and_forest_strength(fp_rf_noelo, X_train_noelo, X_test_noelo, y_train, y_test);"
   ]
  },
  {
   "cell_type": "code",
   "execution_count": null,
   "id": "ac86fc8c",
   "metadata": {
    "ExecuteTime": {
     "end_time": "2022-11-06T22:01:30.782455Z",
     "start_time": "2022-11-06T22:01:30.750572Z"
    }
   },
   "outputs": [],
   "source": [
    "hp.tree_feature_importance(fp_rf_noelo, X_train_noelo)"
   ]
  },
  {
   "cell_type": "markdown",
   "id": "e8adc33c",
   "metadata": {},
   "source": [
    "-----"
   ]
  },
  {
   "cell_type": "code",
   "execution_count": null,
   "id": "64c9625a",
   "metadata": {},
   "outputs": [],
   "source": []
  },
  {
   "cell_type": "code",
   "execution_count": null,
   "id": "b4135255",
   "metadata": {},
   "outputs": [],
   "source": []
  },
  {
   "cell_type": "markdown",
   "id": "a341165d",
   "metadata": {},
   "source": [
    "-----"
   ]
  },
  {
   "cell_type": "markdown",
   "id": "30c8cd95",
   "metadata": {},
   "source": [
    "#### XGBoost"
   ]
  },
  {
   "cell_type": "code",
   "execution_count": null,
   "id": "4da25187",
   "metadata": {
    "ExecuteTime": {
     "end_time": "2022-11-06T22:02:59.049084Z",
     "start_time": "2022-11-06T22:02:50.291468Z"
    }
   },
   "outputs": [],
   "source": [
    "fp_xgb = hp.train_default_xgboost_model(X_train, y_train)"
   ]
  },
  {
   "cell_type": "code",
   "execution_count": null,
   "id": "ef2d54e7",
   "metadata": {
    "ExecuteTime": {
     "end_time": "2022-11-06T22:03:05.082403Z",
     "start_time": "2022-11-06T22:03:04.667507Z"
    }
   },
   "outputs": [],
   "source": [
    "fp_xgb_report, fp_xgb_results =\\\n",
    "    hp.class_model_eval_logreg(\n",
    "        fp_xgb, X_train, X_test, y_train, y_test,\n",
    "        num_class=3, has_coeffs=False)"
   ]
  },
  {
   "cell_type": "code",
   "execution_count": null,
   "id": "9393b3df",
   "metadata": {
    "ExecuteTime": {
     "end_time": "2022-11-06T22:03:30.346718Z",
     "start_time": "2022-11-06T22:03:30.326797Z"
    }
   },
   "outputs": [],
   "source": [
    "hp.tree_feature_importance(fp_xgb, X_train)"
   ]
  },
  {
   "cell_type": "code",
   "execution_count": null,
   "id": "0b8402c3",
   "metadata": {},
   "outputs": [],
   "source": []
  },
  {
   "cell_type": "markdown",
   "id": "12bcb549",
   "metadata": {},
   "source": [
    "----"
   ]
  },
  {
   "cell_type": "markdown",
   "id": "0bcb319d",
   "metadata": {
    "heading_collapsed": true
   },
   "source": [
    "###### NoElo"
   ]
  },
  {
   "cell_type": "code",
   "execution_count": null,
   "id": "a19e9cd9",
   "metadata": {
    "ExecuteTime": {
     "end_time": "2022-11-06T22:01:13.200146Z",
     "start_time": "2022-11-06T22:01:13.183191Z"
    },
    "hidden": true
   },
   "outputs": [],
   "source": [
    "X_train_noelo = X_train.drop(columns=['WhiteElo', 'BlackElo'])\n",
    "X_test_noelo = X_test.drop(columns=['WhiteElo', 'BlackElo'])"
   ]
  },
  {
   "cell_type": "code",
   "execution_count": null,
   "id": "806c0e4b",
   "metadata": {
    "ExecuteTime": {
     "end_time": "2022-11-06T22:05:48.691341Z",
     "start_time": "2022-11-06T22:05:40.323611Z"
    },
    "hidden": true
   },
   "outputs": [],
   "source": [
    "fp_xgb_noelo = hp.train_default_xgboost_model(X_train_noelo, y_train)"
   ]
  },
  {
   "cell_type": "code",
   "execution_count": null,
   "id": "9e3b8c26",
   "metadata": {
    "ExecuteTime": {
     "end_time": "2022-11-06T22:05:55.871642Z",
     "start_time": "2022-11-06T22:05:55.478716Z"
    },
    "code_folding": [],
    "hidden": true
   },
   "outputs": [],
   "source": [
    "fp_xgb_noelo_report, fp_xgb_noelo_results =\\\n",
    "    hp.class_model_eval_logreg(\n",
    "        fp_xgb_noelo, X_train_noelo, X_test_noelo, y_train, y_test,\n",
    "        num_class=3, has_coeffs=False)"
   ]
  },
  {
   "cell_type": "code",
   "execution_count": null,
   "id": "40ab301d",
   "metadata": {
    "ExecuteTime": {
     "end_time": "2022-11-06T22:06:13.382822Z",
     "start_time": "2022-11-06T22:06:13.369859Z"
    },
    "hidden": true
   },
   "outputs": [],
   "source": [
    "hp.tree_feature_importance(fp_xgb_noelo, X_train_noelo)"
   ]
  },
  {
   "cell_type": "markdown",
   "id": "bec0afad",
   "metadata": {
    "hidden": true
   },
   "source": [
    "----"
   ]
  },
  {
   "cell_type": "markdown",
   "id": "d08e16a7",
   "metadata": {},
   "source": [
    "### With GridSearch"
   ]
  },
  {
   "cell_type": "code",
   "execution_count": 6,
   "id": "62ef211d",
   "metadata": {
    "ExecuteTime": {
     "end_time": "2022-11-07T00:56:35.597796Z",
     "start_time": "2022-11-07T00:56:35.574829Z"
    }
   },
   "outputs": [],
   "source": [
    "df_ffpm = joblib.load('E:/data/capstone/cleaned/df_for_fourth_pass_modelling.pkl')"
   ]
  },
  {
   "cell_type": "code",
   "execution_count": 7,
   "id": "52f649d4",
   "metadata": {
    "ExecuteTime": {
     "end_time": "2022-11-07T00:56:35.895363Z",
     "start_time": "2022-11-07T00:56:35.874418Z"
    }
   },
   "outputs": [
    {
     "data": {
      "text/html": [
       "<div>\n",
       "<style scoped>\n",
       "    .dataframe tbody tr th:only-of-type {\n",
       "        vertical-align: middle;\n",
       "    }\n",
       "\n",
       "    .dataframe tbody tr th {\n",
       "        vertical-align: top;\n",
       "    }\n",
       "\n",
       "    .dataframe thead th {\n",
       "        text-align: right;\n",
       "    }\n",
       "</style>\n",
       "<table border=\"1\" class=\"dataframe\">\n",
       "  <thead>\n",
       "    <tr style=\"text-align: right;\">\n",
       "      <th></th>\n",
       "      <th>WhiteElo</th>\n",
       "      <th>WhiteRD</th>\n",
       "      <th>BlackElo</th>\n",
       "      <th>BlackRD</th>\n",
       "      <th>white_played_perc_top_move</th>\n",
       "      <th>black_played_perc_top_move</th>\n",
       "      <th>av_white_emt</th>\n",
       "      <th>av_black_emt</th>\n",
       "      <th>PlyCount</th>\n",
       "      <th>TimeControl_Base</th>\n",
       "      <th>TimeControl_Inc</th>\n",
       "      <th>ECO</th>\n",
       "      <th>WhiteIsComp</th>\n",
       "      <th>BlackIsComp</th>\n",
       "      <th>NoComp</th>\n",
       "    </tr>\n",
       "  </thead>\n",
       "  <tbody>\n",
       "    <tr>\n",
       "      <th>0</th>\n",
       "      <td>2062</td>\n",
       "      <td>0.0</td>\n",
       "      <td>1946</td>\n",
       "      <td>0.0</td>\n",
       "      <td>0.481481</td>\n",
       "      <td>0.307692</td>\n",
       "      <td>6.43074</td>\n",
       "      <td>5.70123</td>\n",
       "      <td>53</td>\n",
       "      <td>300</td>\n",
       "      <td>0</td>\n",
       "      <td>D30</td>\n",
       "      <td>1</td>\n",
       "      <td>0</td>\n",
       "      <td>0</td>\n",
       "    </tr>\n",
       "    <tr>\n",
       "      <th>1</th>\n",
       "      <td>1952</td>\n",
       "      <td>0.0</td>\n",
       "      <td>2056</td>\n",
       "      <td>0.0</td>\n",
       "      <td>0.360000</td>\n",
       "      <td>0.400000</td>\n",
       "      <td>5.84124</td>\n",
       "      <td>5.30484</td>\n",
       "      <td>50</td>\n",
       "      <td>300</td>\n",
       "      <td>0</td>\n",
       "      <td>B50</td>\n",
       "      <td>0</td>\n",
       "      <td>1</td>\n",
       "      <td>0</td>\n",
       "    </tr>\n",
       "    <tr>\n",
       "      <th>2</th>\n",
       "      <td>2050</td>\n",
       "      <td>0.0</td>\n",
       "      <td>1958</td>\n",
       "      <td>0.0</td>\n",
       "      <td>0.565217</td>\n",
       "      <td>0.363636</td>\n",
       "      <td>4.65335</td>\n",
       "      <td>3.18377</td>\n",
       "      <td>45</td>\n",
       "      <td>300</td>\n",
       "      <td>0</td>\n",
       "      <td>C62</td>\n",
       "      <td>1</td>\n",
       "      <td>0</td>\n",
       "      <td>0</td>\n",
       "    </tr>\n",
       "    <tr>\n",
       "      <th>3</th>\n",
       "      <td>1745</td>\n",
       "      <td>0.0</td>\n",
       "      <td>2280</td>\n",
       "      <td>0.0</td>\n",
       "      <td>0.285714</td>\n",
       "      <td>0.619048</td>\n",
       "      <td>7.58914</td>\n",
       "      <td>15.22057</td>\n",
       "      <td>42</td>\n",
       "      <td>900</td>\n",
       "      <td>0</td>\n",
       "      <td>B13</td>\n",
       "      <td>0</td>\n",
       "      <td>1</td>\n",
       "      <td>0</td>\n",
       "    </tr>\n",
       "    <tr>\n",
       "      <th>4</th>\n",
       "      <td>1735</td>\n",
       "      <td>0.0</td>\n",
       "      <td>2279</td>\n",
       "      <td>0.0</td>\n",
       "      <td>0.388889</td>\n",
       "      <td>0.500000</td>\n",
       "      <td>12.53733</td>\n",
       "      <td>17.00678</td>\n",
       "      <td>36</td>\n",
       "      <td>900</td>\n",
       "      <td>0</td>\n",
       "      <td>B01</td>\n",
       "      <td>0</td>\n",
       "      <td>1</td>\n",
       "      <td>0</td>\n",
       "    </tr>\n",
       "  </tbody>\n",
       "</table>\n",
       "</div>"
      ],
      "text/plain": [
       "   WhiteElo  WhiteRD  BlackElo  BlackRD  white_played_perc_top_move  \\\n",
       "0      2062      0.0      1946      0.0                    0.481481   \n",
       "1      1952      0.0      2056      0.0                    0.360000   \n",
       "2      2050      0.0      1958      0.0                    0.565217   \n",
       "3      1745      0.0      2280      0.0                    0.285714   \n",
       "4      1735      0.0      2279      0.0                    0.388889   \n",
       "\n",
       "   black_played_perc_top_move  av_white_emt  av_black_emt  PlyCount  \\\n",
       "0                    0.307692       6.43074       5.70123        53   \n",
       "1                    0.400000       5.84124       5.30484        50   \n",
       "2                    0.363636       4.65335       3.18377        45   \n",
       "3                    0.619048       7.58914      15.22057        42   \n",
       "4                    0.500000      12.53733      17.00678        36   \n",
       "\n",
       "   TimeControl_Base  TimeControl_Inc  ECO  WhiteIsComp  BlackIsComp  NoComp  \n",
       "0               300                0  D30            1            0       0  \n",
       "1               300                0  B50            0            1       0  \n",
       "2               300                0  C62            1            0       0  \n",
       "3               900                0  B13            0            1       0  \n",
       "4               900                0  B01            0            1       0  "
      ]
     },
     "execution_count": 7,
     "metadata": {},
     "output_type": "execute_result"
    }
   ],
   "source": [
    "df_ffpm.head()"
   ]
  },
  {
   "cell_type": "markdown",
   "id": "fce04c28",
   "metadata": {},
   "source": [
    "-----"
   ]
  },
  {
   "cell_type": "markdown",
   "id": "08e2be5d",
   "metadata": {
    "heading_collapsed": true
   },
   "source": [
    "#### X-y split, train-validation-test split, flatten y"
   ]
  },
  {
   "cell_type": "code",
   "execution_count": 8,
   "id": "f2782293",
   "metadata": {
    "ExecuteTime": {
     "end_time": "2022-11-07T00:56:39.272233Z",
     "start_time": "2022-11-07T00:56:39.046242Z"
    },
    "hidden": true
   },
   "outputs": [
    {
     "name": "stdout",
     "output_type": "stream",
     "text": [
      "Some games contain no cheaters\n"
     ]
    }
   ],
   "source": [
    "X, y = hp.X_y_split_simple(df_ffpm)\n",
    "y = hp.y_convert_to_ints(y)"
   ]
  },
  {
   "cell_type": "code",
   "execution_count": 9,
   "id": "a3e15cc0",
   "metadata": {
    "ExecuteTime": {
     "end_time": "2022-11-07T00:56:39.410868Z",
     "start_time": "2022-11-07T00:56:39.319113Z"
    },
    "hidden": true
   },
   "outputs": [],
   "source": [
    "X_remainder, X_test, y_remainder, y_test = train_test_split(X, y, test_size=0.2,\n",
    "                                                            random_state=22, stratify=y)"
   ]
  },
  {
   "cell_type": "code",
   "execution_count": 10,
   "id": "5083883d",
   "metadata": {
    "ExecuteTime": {
     "end_time": "2022-11-07T00:56:39.596344Z",
     "start_time": "2022-11-07T00:56:39.586371Z"
    },
    "hidden": true
   },
   "outputs": [],
   "source": [
    "y_remainder, y_test = hp.flat_y(y_remainder, y_test)"
   ]
  },
  {
   "cell_type": "code",
   "execution_count": 11,
   "id": "0e9da7a0",
   "metadata": {
    "ExecuteTime": {
     "end_time": "2022-11-07T00:56:39.858701Z",
     "start_time": "2022-11-07T00:56:39.852717Z"
    },
    "hidden": true
   },
   "outputs": [
    {
     "name": "stdout",
     "output_type": "stream",
     "text": [
      "The remainder set has 21970 data points.\n",
      "The test set has 5493 data points.\n",
      "The remainder set has 21970 data points.\n",
      "The test set has 5493 data points.\n"
     ]
    }
   ],
   "source": [
    "# Print info on how the data has been split\n",
    "print(f'The remainder set has {len(X_remainder)} data points.')\n",
    "print(f'The test set has {len(X_test)} data points.')\n",
    "\n",
    "# Print info on how the data has been split\n",
    "print(f'The remainder set has {len(y_remainder)} data points.')\n",
    "print(f'The test set has {len(y_test)} data points.')"
   ]
  },
  {
   "cell_type": "markdown",
   "id": "2887c916",
   "metadata": {
    "hidden": true
   },
   "source": [
    "----"
   ]
  },
  {
   "cell_type": "markdown",
   "id": "01cc7434",
   "metadata": {
    "heading_collapsed": true
   },
   "source": [
    "#### Preparing pipeline"
   ]
  },
  {
   "cell_type": "code",
   "execution_count": 12,
   "id": "5ca3ce76",
   "metadata": {
    "ExecuteTime": {
     "end_time": "2022-11-07T00:56:42.193096Z",
     "start_time": "2022-11-07T00:56:42.189107Z"
    },
    "hidden": true
   },
   "outputs": [],
   "source": [
    "# column transformer with scaling\n",
    "ct_scale = ColumnTransformer([\n",
    "    ('normalize', StandardScaler(),\n",
    "     ['WhiteElo', 'WhiteRD', 'BlackElo', 'BlackRD', 'white_played_perc_top_move',\n",
    "                                     'black_played_perc_top_move', 'av_white_emt', 'av_black_emt', 'PlyCount',\n",
    "                                     'TimeControl_Base', 'TimeControl_Inc']),\n",
    "    ('OHE', OneHotEncoder(sparse=False, handle_unknown='ignore'), ['ECO'])], n_jobs=-1\n",
    "    )"
   ]
  },
  {
   "cell_type": "code",
   "execution_count": 13,
   "id": "719112f4",
   "metadata": {
    "ExecuteTime": {
     "end_time": "2022-11-07T00:56:42.473062Z",
     "start_time": "2022-11-07T00:56:42.455109Z"
    },
    "hidden": true
   },
   "outputs": [],
   "source": [
    "# column transformer without scaling\n",
    "ct_unscale = ColumnTransformer([\n",
    "    ('OHE', OneHotEncoder(sparse=False, handle_unknown='ignore'), ['ECO'])],\n",
    "    n_jobs=-1,\n",
    "    remainder='passthrough') # passthrough means that the other columns will be carried through"
   ]
  },
  {
   "cell_type": "code",
   "execution_count": null,
   "id": "8ca96827",
   "metadata": {
    "ExecuteTime": {
     "end_time": "2022-11-07T00:54:55.504229Z",
     "start_time": "2022-11-07T00:54:53.827288Z"
    },
    "code_folding": [
     0
    ],
    "hidden": true
   },
   "outputs": [],
   "source": [
    "# # testing\n",
    "# ct_unscale.fit(X_remainder)\n",
    "# ct_unscale.get_feature_names()[-12:]\n",
    "\n",
    "# # ['OHE__x0_E99',\n",
    "# #  'WhiteElo',\n",
    "# #  'WhiteRD',\n",
    "# #  'BlackElo',\n",
    "# #  'BlackRD',\n",
    "# #  'white_played_perc_top_move',\n",
    "# #  'black_played_perc_top_move',\n",
    "# #  'av_white_emt',\n",
    "# #  'av_black_emt',\n",
    "# #  'PlyCount',\n",
    "# #  'TimeControl_Base',\n",
    "# #  'TimeControl_Inc']"
   ]
  },
  {
   "cell_type": "code",
   "execution_count": null,
   "id": "36331358",
   "metadata": {
    "ExecuteTime": {
     "end_time": "2022-11-07T00:55:06.877642Z",
     "start_time": "2022-11-07T00:55:06.870633Z"
    },
    "code_folding": [
     0
    ],
    "hidden": true
   },
   "outputs": [],
   "source": [
    "# # testing\n",
    "# ct_scale.fit(X_remainder)\n",
    "# ct_scale.get_feature_names_out()\n",
    "\n",
    "# # ['normalize__WhiteElo', 'normalize__WhiteRD', 'normalize__BlackElo',\n",
    "# #        'normalize__BlackRD', 'normalize__white_played_perc_top_move',\n",
    "# #        'normalize__black_played_perc_top_move', 'normalize__av_white_emt',\n",
    "# #        'normalize__av_black_emt', 'normalize__PlyCount',\n",
    "# #        'normalize__TimeControl_Base', 'normalize__TimeControl_Inc',\n",
    "# #        'OHE__ECO_A00', 'OHE__ECO_A01', 'OHE__ECO_A02', 'OHE__ECO_A03',"
   ]
  },
  {
   "cell_type": "code",
   "execution_count": 16,
   "id": "3e274b92",
   "metadata": {
    "ExecuteTime": {
     "end_time": "2022-11-07T00:57:26.406868Z",
     "start_time": "2022-11-07T00:57:26.394868Z"
    },
    "hidden": true
   },
   "outputs": [],
   "source": [
    "cachedir_scale = mkdtemp()\n",
    "cachedir_unscale = mkdtemp()"
   ]
  },
  {
   "cell_type": "code",
   "execution_count": 17,
   "id": "1f0ea8be",
   "metadata": {
    "ExecuteTime": {
     "end_time": "2022-11-07T00:57:37.423231Z",
     "start_time": "2022-11-07T00:57:37.409233Z"
    },
    "hidden": true
   },
   "outputs": [],
   "source": [
    "my_pipeline_scale = Pipeline(steps=[\n",
    "    ('column_transform', ct_scale),\n",
    "    ('model', LogisticRegression())],\n",
    "    memory=cachedir_scale, verbose=True)"
   ]
  },
  {
   "cell_type": "code",
   "execution_count": 18,
   "id": "a95f6147",
   "metadata": {
    "ExecuteTime": {
     "end_time": "2022-11-07T00:57:37.672109Z",
     "start_time": "2022-11-07T00:57:37.664130Z"
    },
    "hidden": true
   },
   "outputs": [],
   "source": [
    "my_pipeline_unscale = Pipeline([\n",
    "    ('column_transform', ct_unscale),\n",
    "    ('model', DecisionTreeClassifier())],\n",
    "    memory=cachedir_unscale, verbose=True)"
   ]
  },
  {
   "cell_type": "markdown",
   "id": "161c984c",
   "metadata": {
    "hidden": true
   },
   "source": [
    "-----"
   ]
  },
  {
   "cell_type": "markdown",
   "id": "f3a7b56f",
   "metadata": {
    "heading_collapsed": true
   },
   "source": [
    "#### Logistic Regression"
   ]
  },
  {
   "cell_type": "code",
   "execution_count": 85,
   "id": "00273494",
   "metadata": {
    "ExecuteTime": {
     "end_time": "2022-11-07T01:31:08.168741Z",
     "start_time": "2022-11-07T01:31:08.154786Z"
    },
    "hidden": true
   },
   "outputs": [],
   "source": [
    "c_values = [.00001, .0001, .001, .1, 1, 10, 100, 1000, 10000]\n",
    "\n",
    "logreg_param_grid = [\n",
    "\n",
    "    {'column_transform': [ct_scale],\n",
    "     'model__n_jobs': [-1], 'model__max_iter': [1000],\n",
    "     'model__solver': ['lbfgs'], 'model__C': c_values, 'model__penalty': ['l2', 'none']},\n",
    "    {'column_transform': [ct_scale],\n",
    "     'model__random_state': [22], 'model__n_jobs': [-1], 'model__max_iter': [1000],\n",
    "     'model__solver': ['liblinear'], 'model__C': c_values, 'model__penalty': ['l1', 'l2']}    \n",
    "]"
   ]
  },
  {
   "cell_type": "code",
   "execution_count": 86,
   "id": "cfc23ab1",
   "metadata": {
    "ExecuteTime": {
     "end_time": "2022-11-07T01:31:08.522546Z",
     "start_time": "2022-11-07T01:31:08.518556Z"
    },
    "code_folding": [
     0
    ],
    "hidden": true
   },
   "outputs": [],
   "source": [
    "# # for testing that it  works\n",
    "\n",
    "# c_values = [.1, 1, 10]\n",
    "\n",
    "# logreg_param_grid = [\n",
    "    \n",
    "#     {'column_transform': [ct_scale],\n",
    "#      'model': [LogisticRegression()], 'model__random_state':  [22],\n",
    "#      'model__n_jobs': [-1], 'model__max_iter': [1000],\n",
    "#      'model__solver': ['lbfgs'], 'model__C': c_values, 'model__penalty': ['l2', 'none']}\n",
    "# ]"
   ]
  },
  {
   "cell_type": "code",
   "execution_count": 87,
   "id": "85a4b6b9",
   "metadata": {
    "ExecuteTime": {
     "end_time": "2022-11-07T01:31:08.859647Z",
     "start_time": "2022-11-07T01:31:08.843659Z"
    },
    "hidden": true
   },
   "outputs": [],
   "source": [
    "logreg_gs = GridSearchCV(\n",
    "    estimator=my_pipeline_scale,\n",
    "    param_grid=logreg_param_grid,\n",
    "    cv=5, n_jobs=-1, verbose=10)"
   ]
  },
  {
   "cell_type": "code",
   "execution_count": 88,
   "id": "8c87c397",
   "metadata": {
    "ExecuteTime": {
     "end_time": "2022-11-07T01:36:15.126079Z",
     "start_time": "2022-11-07T01:31:09.383264Z"
    },
    "hidden": true
   },
   "outputs": [
    {
     "name": "stdout",
     "output_type": "stream",
     "text": [
      "Fitting 5 folds for each of 36 candidates, totalling 180 fits\n",
      "[Pipeline] ............. (step 2 of 2) Processing model, total=   4.7s\n"
     ]
    }
   ],
   "source": [
    "fitted_logreg_gs = logreg_gs.fit(X_remainder, y_remainder)"
   ]
  },
  {
   "cell_type": "code",
   "execution_count": 89,
   "id": "a8c4ddae",
   "metadata": {
    "ExecuteTime": {
     "end_time": "2022-11-07T01:36:15.142036Z",
     "start_time": "2022-11-07T01:36:15.127076Z"
    },
    "hidden": true
   },
   "outputs": [
    {
     "data": {
      "text/plain": [
       "{'column_transform': ColumnTransformer(n_jobs=-1,\n",
       "                   transformers=[('normalize', StandardScaler(),\n",
       "                                  ['WhiteElo', 'WhiteRD', 'BlackElo', 'BlackRD',\n",
       "                                   'white_played_perc_top_move',\n",
       "                                   'black_played_perc_top_move', 'av_white_emt',\n",
       "                                   'av_black_emt', 'PlyCount',\n",
       "                                   'TimeControl_Base', 'TimeControl_Inc']),\n",
       "                                 ('OHE',\n",
       "                                  OneHotEncoder(handle_unknown='ignore',\n",
       "                                                sparse=False),\n",
       "                                  ['ECO'])]),\n",
       " 'model__C': 1,\n",
       " 'model__max_iter': 1000,\n",
       " 'model__n_jobs': -1,\n",
       " 'model__penalty': 'l2',\n",
       " 'model__solver': 'lbfgs'}"
      ]
     },
     "execution_count": 89,
     "metadata": {},
     "output_type": "execute_result"
    }
   ],
   "source": [
    "fitted_logreg_gs.best_params_"
   ]
  },
  {
   "cell_type": "code",
   "execution_count": 90,
   "id": "5e4f7990",
   "metadata": {
    "ExecuteTime": {
     "end_time": "2022-11-07T01:36:15.390375Z",
     "start_time": "2022-11-07T01:36:15.143033Z"
    },
    "hidden": true
   },
   "outputs": [
    {
     "name": "stdout",
     "output_type": "stream",
     "text": [
      "The best logistic regression's accuracy on the remainder set: 0.8941738734638143\n",
      "The best logistic regression's accuracy on the test set: 0.8900418714727836\n"
     ]
    }
   ],
   "source": [
    "# Print the accuracies\n",
    "print(f\"The best logistic regression's accuracy on the remainder set: {fitted_logreg_gs.score(X_remainder, y_remainder)}\")\n",
    "print(f\"The best logistic regression's accuracy on the test set: {fitted_logreg_gs.score(X_test, y_test)}\")"
   ]
  },
  {
   "cell_type": "code",
   "execution_count": null,
   "id": "8ffb0437",
   "metadata": {
    "hidden": true
   },
   "outputs": [],
   "source": []
  },
  {
   "cell_type": "code",
   "execution_count": 91,
   "id": "9941c49f",
   "metadata": {
    "ExecuteTime": {
     "end_time": "2022-11-07T01:36:15.452211Z",
     "start_time": "2022-11-07T01:36:15.392371Z"
    },
    "hidden": true
   },
   "outputs": [
    {
     "data": {
      "text/plain": [
       "['E:/data/capstone/pickled_models/gridsearch/best_logreg.pkl']"
      ]
     },
     "execution_count": 91,
     "metadata": {},
     "output_type": "execute_result"
    }
   ],
   "source": [
    "joblib.dump(fitted_logreg_gs.best_estimator_,\n",
    "            'E:/data/capstone/pickled_models/gridsearch/best_logreg.pkl',\n",
    "            compress=9)"
   ]
  },
  {
   "cell_type": "code",
   "execution_count": null,
   "id": "03963aea",
   "metadata": {
    "hidden": true
   },
   "outputs": [],
   "source": []
  },
  {
   "cell_type": "markdown",
   "id": "971b4cd9",
   "metadata": {
    "hidden": true
   },
   "source": [
    "-----"
   ]
  },
  {
   "cell_type": "markdown",
   "id": "cfb37c3a",
   "metadata": {
    "heading_collapsed": true
   },
   "source": [
    "#### Decision Tree"
   ]
  },
  {
   "cell_type": "code",
   "execution_count": 92,
   "id": "8bb71f50",
   "metadata": {
    "ExecuteTime": {
     "end_time": "2022-11-07T01:36:15.468168Z",
     "start_time": "2022-11-07T01:36:15.453208Z"
    },
    "hidden": true
   },
   "outputs": [],
   "source": [
    "# for testing that it  works\n",
    "\n",
    "dt_param_grid = [\n",
    "    \n",
    "    {'column_transform': [ct_unscale],\n",
    "     'model': [DecisionTreeClassifier()],\n",
    "     'model__criterion': ['gini', 'entropy'], 'model__splitter': ['best', 'random'],\n",
    "     'model__max_depth': [None, 50, 100, 150], 'model__min_samples_split': [2, 4, 6],\n",
    "     'model__min_samples_leaf': [1, 2, 4, 5], 'model__max_features': ['sqrt', 'auto', 'log2', None]\n",
    "    }\n",
    "]"
   ]
  },
  {
   "cell_type": "code",
   "execution_count": 93,
   "id": "6fdeea52",
   "metadata": {
    "ExecuteTime": {
     "end_time": "2022-11-07T01:36:15.484126Z",
     "start_time": "2022-11-07T01:36:15.469166Z"
    },
    "hidden": true
   },
   "outputs": [],
   "source": [
    "dt_gs = GridSearchCV(\n",
    "    my_pipeline_unscale,\n",
    "    param_grid=dt_param_grid,\n",
    "    cv=5, n_jobs=-1, verbose=10)"
   ]
  },
  {
   "cell_type": "code",
   "execution_count": 94,
   "id": "6409ca9e",
   "metadata": {
    "ExecuteTime": {
     "end_time": "2022-11-07T01:40:49.020851Z",
     "start_time": "2022-11-07T01:36:15.485124Z"
    },
    "hidden": true
   },
   "outputs": [
    {
     "name": "stdout",
     "output_type": "stream",
     "text": [
      "Fitting 5 folds for each of 768 candidates, totalling 3840 fits\n",
      "[Pipeline] ............. (step 2 of 2) Processing model, total=   0.9s\n"
     ]
    }
   ],
   "source": [
    "fitted_dt_gs = dt_gs.fit(X_remainder, y_remainder)"
   ]
  },
  {
   "cell_type": "code",
   "execution_count": 95,
   "id": "d34600a1",
   "metadata": {
    "ExecuteTime": {
     "end_time": "2022-11-07T01:40:49.035781Z",
     "start_time": "2022-11-07T01:40:49.021818Z"
    },
    "hidden": true
   },
   "outputs": [
    {
     "data": {
      "text/html": [
       "<style>#sk-container-id-6 {color: black;background-color: white;}#sk-container-id-6 pre{padding: 0;}#sk-container-id-6 div.sk-toggleable {background-color: white;}#sk-container-id-6 label.sk-toggleable__label {cursor: pointer;display: block;width: 100%;margin-bottom: 0;padding: 0.3em;box-sizing: border-box;text-align: center;}#sk-container-id-6 label.sk-toggleable__label-arrow:before {content: \"▸\";float: left;margin-right: 0.25em;color: #696969;}#sk-container-id-6 label.sk-toggleable__label-arrow:hover:before {color: black;}#sk-container-id-6 div.sk-estimator:hover label.sk-toggleable__label-arrow:before {color: black;}#sk-container-id-6 div.sk-toggleable__content {max-height: 0;max-width: 0;overflow: hidden;text-align: left;background-color: #f0f8ff;}#sk-container-id-6 div.sk-toggleable__content pre {margin: 0.2em;color: black;border-radius: 0.25em;background-color: #f0f8ff;}#sk-container-id-6 input.sk-toggleable__control:checked~div.sk-toggleable__content {max-height: 200px;max-width: 100%;overflow: auto;}#sk-container-id-6 input.sk-toggleable__control:checked~label.sk-toggleable__label-arrow:before {content: \"▾\";}#sk-container-id-6 div.sk-estimator input.sk-toggleable__control:checked~label.sk-toggleable__label {background-color: #d4ebff;}#sk-container-id-6 div.sk-label input.sk-toggleable__control:checked~label.sk-toggleable__label {background-color: #d4ebff;}#sk-container-id-6 input.sk-hidden--visually {border: 0;clip: rect(1px 1px 1px 1px);clip: rect(1px, 1px, 1px, 1px);height: 1px;margin: -1px;overflow: hidden;padding: 0;position: absolute;width: 1px;}#sk-container-id-6 div.sk-estimator {font-family: monospace;background-color: #f0f8ff;border: 1px dotted black;border-radius: 0.25em;box-sizing: border-box;margin-bottom: 0.5em;}#sk-container-id-6 div.sk-estimator:hover {background-color: #d4ebff;}#sk-container-id-6 div.sk-parallel-item::after {content: \"\";width: 100%;border-bottom: 1px solid gray;flex-grow: 1;}#sk-container-id-6 div.sk-label:hover label.sk-toggleable__label {background-color: #d4ebff;}#sk-container-id-6 div.sk-serial::before {content: \"\";position: absolute;border-left: 1px solid gray;box-sizing: border-box;top: 0;bottom: 0;left: 50%;z-index: 0;}#sk-container-id-6 div.sk-serial {display: flex;flex-direction: column;align-items: center;background-color: white;padding-right: 0.2em;padding-left: 0.2em;position: relative;}#sk-container-id-6 div.sk-item {position: relative;z-index: 1;}#sk-container-id-6 div.sk-parallel {display: flex;align-items: stretch;justify-content: center;background-color: white;position: relative;}#sk-container-id-6 div.sk-item::before, #sk-container-id-6 div.sk-parallel-item::before {content: \"\";position: absolute;border-left: 1px solid gray;box-sizing: border-box;top: 0;bottom: 0;left: 50%;z-index: -1;}#sk-container-id-6 div.sk-parallel-item {display: flex;flex-direction: column;z-index: 1;position: relative;background-color: white;}#sk-container-id-6 div.sk-parallel-item:first-child::after {align-self: flex-end;width: 50%;}#sk-container-id-6 div.sk-parallel-item:last-child::after {align-self: flex-start;width: 50%;}#sk-container-id-6 div.sk-parallel-item:only-child::after {width: 0;}#sk-container-id-6 div.sk-dashed-wrapped {border: 1px dashed gray;margin: 0 0.4em 0.5em 0.4em;box-sizing: border-box;padding-bottom: 0.4em;background-color: white;}#sk-container-id-6 div.sk-label label {font-family: monospace;font-weight: bold;display: inline-block;line-height: 1.2em;}#sk-container-id-6 div.sk-label-container {text-align: center;}#sk-container-id-6 div.sk-container {/* jupyter's `normalize.less` sets `[hidden] { display: none; }` but bootstrap.min.css set `[hidden] { display: none !important; }` so we also need the `!important` here to be able to override the default hidden behavior on the sphinx rendered scikit-learn.org. See: https://github.com/scikit-learn/scikit-learn/issues/21755 */display: inline-block !important;position: relative;}#sk-container-id-6 div.sk-text-repr-fallback {display: none;}</style><div id=\"sk-container-id-6\" class=\"sk-top-container\"><div class=\"sk-text-repr-fallback\"><pre>Pipeline(memory=&#x27;C:\\\\Users\\\\Emanuel\\\\AppData\\\\Local\\\\Temp\\\\tmp0drc9493&#x27;,\n",
       "         steps=[(&#x27;column_transform&#x27;,\n",
       "                 ColumnTransformer(n_jobs=-1, remainder=&#x27;passthrough&#x27;,\n",
       "                                   transformers=[(&#x27;OHE&#x27;,\n",
       "                                                  OneHotEncoder(handle_unknown=&#x27;ignore&#x27;,\n",
       "                                                                sparse=False),\n",
       "                                                  [&#x27;ECO&#x27;])])),\n",
       "                (&#x27;model&#x27;, DecisionTreeClassifier(max_depth=50))],\n",
       "         verbose=True)</pre><b>In a Jupyter environment, please rerun this cell to show the HTML representation or trust the notebook. <br />On GitHub, the HTML representation is unable to render, please try loading this page with nbviewer.org.</b></div><div class=\"sk-container\" hidden><div class=\"sk-item sk-dashed-wrapped\"><div class=\"sk-label-container\"><div class=\"sk-label sk-toggleable\"><input class=\"sk-toggleable__control sk-hidden--visually\" id=\"sk-estimator-id-36\" type=\"checkbox\" ><label for=\"sk-estimator-id-36\" class=\"sk-toggleable__label sk-toggleable__label-arrow\">Pipeline</label><div class=\"sk-toggleable__content\"><pre>Pipeline(memory=&#x27;C:\\\\Users\\\\Emanuel\\\\AppData\\\\Local\\\\Temp\\\\tmp0drc9493&#x27;,\n",
       "         steps=[(&#x27;column_transform&#x27;,\n",
       "                 ColumnTransformer(n_jobs=-1, remainder=&#x27;passthrough&#x27;,\n",
       "                                   transformers=[(&#x27;OHE&#x27;,\n",
       "                                                  OneHotEncoder(handle_unknown=&#x27;ignore&#x27;,\n",
       "                                                                sparse=False),\n",
       "                                                  [&#x27;ECO&#x27;])])),\n",
       "                (&#x27;model&#x27;, DecisionTreeClassifier(max_depth=50))],\n",
       "         verbose=True)</pre></div></div></div><div class=\"sk-serial\"><div class=\"sk-item sk-dashed-wrapped\"><div class=\"sk-label-container\"><div class=\"sk-label sk-toggleable\"><input class=\"sk-toggleable__control sk-hidden--visually\" id=\"sk-estimator-id-37\" type=\"checkbox\" ><label for=\"sk-estimator-id-37\" class=\"sk-toggleable__label sk-toggleable__label-arrow\">column_transform: ColumnTransformer</label><div class=\"sk-toggleable__content\"><pre>ColumnTransformer(n_jobs=-1, remainder=&#x27;passthrough&#x27;,\n",
       "                  transformers=[(&#x27;OHE&#x27;,\n",
       "                                 OneHotEncoder(handle_unknown=&#x27;ignore&#x27;,\n",
       "                                               sparse=False),\n",
       "                                 [&#x27;ECO&#x27;])])</pre></div></div></div><div class=\"sk-parallel\"><div class=\"sk-parallel-item\"><div class=\"sk-item\"><div class=\"sk-label-container\"><div class=\"sk-label sk-toggleable\"><input class=\"sk-toggleable__control sk-hidden--visually\" id=\"sk-estimator-id-38\" type=\"checkbox\" ><label for=\"sk-estimator-id-38\" class=\"sk-toggleable__label sk-toggleable__label-arrow\">OHE</label><div class=\"sk-toggleable__content\"><pre>[&#x27;ECO&#x27;]</pre></div></div></div><div class=\"sk-serial\"><div class=\"sk-item\"><div class=\"sk-estimator sk-toggleable\"><input class=\"sk-toggleable__control sk-hidden--visually\" id=\"sk-estimator-id-39\" type=\"checkbox\" ><label for=\"sk-estimator-id-39\" class=\"sk-toggleable__label sk-toggleable__label-arrow\">OneHotEncoder</label><div class=\"sk-toggleable__content\"><pre>OneHotEncoder(handle_unknown=&#x27;ignore&#x27;, sparse=False)</pre></div></div></div></div></div></div><div class=\"sk-parallel-item\"><div class=\"sk-item\"><div class=\"sk-label-container\"><div class=\"sk-label sk-toggleable\"><input class=\"sk-toggleable__control sk-hidden--visually\" id=\"sk-estimator-id-40\" type=\"checkbox\" ><label for=\"sk-estimator-id-40\" class=\"sk-toggleable__label sk-toggleable__label-arrow\">remainder</label><div class=\"sk-toggleable__content\"><pre>[&#x27;WhiteElo&#x27;, &#x27;WhiteRD&#x27;, &#x27;BlackElo&#x27;, &#x27;BlackRD&#x27;, &#x27;white_played_perc_top_move&#x27;, &#x27;black_played_perc_top_move&#x27;, &#x27;av_white_emt&#x27;, &#x27;av_black_emt&#x27;, &#x27;PlyCount&#x27;, &#x27;TimeControl_Base&#x27;, &#x27;TimeControl_Inc&#x27;]</pre></div></div></div><div class=\"sk-serial\"><div class=\"sk-item\"><div class=\"sk-estimator sk-toggleable\"><input class=\"sk-toggleable__control sk-hidden--visually\" id=\"sk-estimator-id-41\" type=\"checkbox\" ><label for=\"sk-estimator-id-41\" class=\"sk-toggleable__label sk-toggleable__label-arrow\">passthrough</label><div class=\"sk-toggleable__content\"><pre>passthrough</pre></div></div></div></div></div></div></div></div><div class=\"sk-item\"><div class=\"sk-estimator sk-toggleable\"><input class=\"sk-toggleable__control sk-hidden--visually\" id=\"sk-estimator-id-42\" type=\"checkbox\" ><label for=\"sk-estimator-id-42\" class=\"sk-toggleable__label sk-toggleable__label-arrow\">DecisionTreeClassifier</label><div class=\"sk-toggleable__content\"><pre>DecisionTreeClassifier(max_depth=50)</pre></div></div></div></div></div></div></div>"
      ],
      "text/plain": [
       "Pipeline(memory='C:\\\\Users\\\\Emanuel\\\\AppData\\\\Local\\\\Temp\\\\tmp0drc9493',\n",
       "         steps=[('column_transform',\n",
       "                 ColumnTransformer(n_jobs=-1, remainder='passthrough',\n",
       "                                   transformers=[('OHE',\n",
       "                                                  OneHotEncoder(handle_unknown='ignore',\n",
       "                                                                sparse=False),\n",
       "                                                  ['ECO'])])),\n",
       "                ('model', DecisionTreeClassifier(max_depth=50))],\n",
       "         verbose=True)"
      ]
     },
     "execution_count": 95,
     "metadata": {},
     "output_type": "execute_result"
    }
   ],
   "source": [
    "fitted_dt_gs.best_estimator_"
   ]
  },
  {
   "cell_type": "code",
   "execution_count": 96,
   "id": "6c4d8bbc",
   "metadata": {
    "ExecuteTime": {
     "end_time": "2022-11-07T02:00:28.045258Z",
     "start_time": "2022-11-07T02:00:28.031296Z"
    },
    "hidden": true
   },
   "outputs": [
    {
     "data": {
      "text/plain": [
       "{'column_transform': ColumnTransformer(n_jobs=-1, remainder='passthrough',\n",
       "                   transformers=[('OHE',\n",
       "                                  OneHotEncoder(handle_unknown='ignore',\n",
       "                                                sparse=False),\n",
       "                                  ['ECO'])]),\n",
       " 'model': DecisionTreeClassifier(max_depth=50),\n",
       " 'model__criterion': 'gini',\n",
       " 'model__max_depth': 50,\n",
       " 'model__max_features': None,\n",
       " 'model__min_samples_leaf': 1,\n",
       " 'model__min_samples_split': 2,\n",
       " 'model__splitter': 'best'}"
      ]
     },
     "execution_count": 96,
     "metadata": {},
     "output_type": "execute_result"
    }
   ],
   "source": [
    "fitted_dt_gs.best_params_"
   ]
  },
  {
   "cell_type": "code",
   "execution_count": 97,
   "id": "639b4c29",
   "metadata": {
    "ExecuteTime": {
     "end_time": "2022-11-07T01:40:49.300078Z",
     "start_time": "2022-11-07T01:40:49.053734Z"
    },
    "hidden": true
   },
   "outputs": [
    {
     "name": "stdout",
     "output_type": "stream",
     "text": [
      "The best decistion tree's accuracy on the remainder set: 1.0\n",
      "The best decistion tree's accuracy on the test set: 0.9746950664482068\n"
     ]
    }
   ],
   "source": [
    "# Print the accuracies\n",
    "print(f\"The best decistion tree's accuracy on the remainder set: {fitted_dt_gs.score(X_remainder, y_remainder)}\")\n",
    "print(f\"The best decistion tree's accuracy on the test set: {fitted_dt_gs.score(X_test, y_test)}\")"
   ]
  },
  {
   "cell_type": "code",
   "execution_count": 98,
   "id": "1195eb07",
   "metadata": {
    "ExecuteTime": {
     "end_time": "2022-11-07T01:40:49.346953Z",
     "start_time": "2022-11-07T01:40:49.301076Z"
    },
    "hidden": true
   },
   "outputs": [
    {
     "data": {
      "text/plain": [
       "['E:/data/capstone/pickled_models/gridsearch/best_dt.pkl']"
      ]
     },
     "execution_count": 98,
     "metadata": {},
     "output_type": "execute_result"
    }
   ],
   "source": [
    "joblib.dump(fitted_dt_gs.best_estimator_,\n",
    "            'E:/data/capstone/pickled_models/gridsearch/best_dt.pkl',\n",
    "            compress=9)"
   ]
  },
  {
   "cell_type": "code",
   "execution_count": null,
   "id": "e60cb63d",
   "metadata": {
    "hidden": true
   },
   "outputs": [],
   "source": []
  },
  {
   "cell_type": "code",
   "execution_count": null,
   "id": "08f4727b",
   "metadata": {
    "hidden": true
   },
   "outputs": [],
   "source": []
  },
  {
   "cell_type": "markdown",
   "id": "49862602",
   "metadata": {
    "hidden": true
   },
   "source": [
    "-----"
   ]
  },
  {
   "cell_type": "markdown",
   "id": "5fa7c5a9",
   "metadata": {
    "heading_collapsed": true
   },
   "source": [
    "#### Random Forest"
   ]
  },
  {
   "cell_type": "code",
   "execution_count": null,
   "id": "0a17a48a",
   "metadata": {
    "hidden": true
   },
   "outputs": [],
   "source": []
  },
  {
   "cell_type": "code",
   "execution_count": null,
   "id": "ec60ce49",
   "metadata": {
    "hidden": true
   },
   "outputs": [],
   "source": [
    "# depends on what the best dt was"
   ]
  },
  {
   "cell_type": "code",
   "execution_count": 99,
   "id": "c405a0de",
   "metadata": {
    "ExecuteTime": {
     "end_time": "2022-11-07T01:49:29.310196Z",
     "start_time": "2022-11-07T01:49:29.296233Z"
    },
    "hidden": true
   },
   "outputs": [],
   "source": [
    "# for testing that it  works\n",
    "\n",
    "rf_param_grid = [\n",
    "    \n",
    "    {'column_transform': [ct_unscale],\n",
    "     'model': [RandomForestClassifier()],\n",
    "     'model__n_estimators': [25, 50, 100], 'model__criterion': ['gini', 'entropy'],\n",
    "     'model__max_depth': [None, 50, 100, 150], 'model__min_samples_split': [2, 4, 6],\n",
    "     'model__min_samples_leaf': [1], 'model__max_features': ['sqrt']\n",
    "    }\n",
    "]"
   ]
  },
  {
   "cell_type": "code",
   "execution_count": 100,
   "id": "02c0df7f",
   "metadata": {
    "ExecuteTime": {
     "end_time": "2022-11-07T01:49:29.792056Z",
     "start_time": "2022-11-07T01:49:29.774104Z"
    },
    "hidden": true
   },
   "outputs": [],
   "source": [
    "rf_gs = GridSearchCV(\n",
    "    my_pipeline_unscale,\n",
    "    param_grid=rf_param_grid,\n",
    "    cv=5, n_jobs=-1, verbose=10)"
   ]
  },
  {
   "cell_type": "code",
   "execution_count": 101,
   "id": "d1972847",
   "metadata": {
    "ExecuteTime": {
     "end_time": "2022-11-07T01:53:10.480722Z",
     "start_time": "2022-11-07T01:49:30.314078Z"
    },
    "hidden": true
   },
   "outputs": [
    {
     "name": "stdout",
     "output_type": "stream",
     "text": [
      "Fitting 5 folds for each of 72 candidates, totalling 360 fits\n",
      "[Pipeline] ............. (step 2 of 2) Processing model, total=   5.2s\n"
     ]
    }
   ],
   "source": [
    "fitted_rf_gs = rf_gs.fit(X_remainder, y_remainder)"
   ]
  },
  {
   "cell_type": "code",
   "execution_count": 102,
   "id": "427cc329",
   "metadata": {
    "ExecuteTime": {
     "end_time": "2022-11-07T01:53:10.496680Z",
     "start_time": "2022-11-07T01:53:10.481721Z"
    },
    "hidden": true
   },
   "outputs": [
    {
     "data": {
      "text/html": [
       "<style>#sk-container-id-7 {color: black;background-color: white;}#sk-container-id-7 pre{padding: 0;}#sk-container-id-7 div.sk-toggleable {background-color: white;}#sk-container-id-7 label.sk-toggleable__label {cursor: pointer;display: block;width: 100%;margin-bottom: 0;padding: 0.3em;box-sizing: border-box;text-align: center;}#sk-container-id-7 label.sk-toggleable__label-arrow:before {content: \"▸\";float: left;margin-right: 0.25em;color: #696969;}#sk-container-id-7 label.sk-toggleable__label-arrow:hover:before {color: black;}#sk-container-id-7 div.sk-estimator:hover label.sk-toggleable__label-arrow:before {color: black;}#sk-container-id-7 div.sk-toggleable__content {max-height: 0;max-width: 0;overflow: hidden;text-align: left;background-color: #f0f8ff;}#sk-container-id-7 div.sk-toggleable__content pre {margin: 0.2em;color: black;border-radius: 0.25em;background-color: #f0f8ff;}#sk-container-id-7 input.sk-toggleable__control:checked~div.sk-toggleable__content {max-height: 200px;max-width: 100%;overflow: auto;}#sk-container-id-7 input.sk-toggleable__control:checked~label.sk-toggleable__label-arrow:before {content: \"▾\";}#sk-container-id-7 div.sk-estimator input.sk-toggleable__control:checked~label.sk-toggleable__label {background-color: #d4ebff;}#sk-container-id-7 div.sk-label input.sk-toggleable__control:checked~label.sk-toggleable__label {background-color: #d4ebff;}#sk-container-id-7 input.sk-hidden--visually {border: 0;clip: rect(1px 1px 1px 1px);clip: rect(1px, 1px, 1px, 1px);height: 1px;margin: -1px;overflow: hidden;padding: 0;position: absolute;width: 1px;}#sk-container-id-7 div.sk-estimator {font-family: monospace;background-color: #f0f8ff;border: 1px dotted black;border-radius: 0.25em;box-sizing: border-box;margin-bottom: 0.5em;}#sk-container-id-7 div.sk-estimator:hover {background-color: #d4ebff;}#sk-container-id-7 div.sk-parallel-item::after {content: \"\";width: 100%;border-bottom: 1px solid gray;flex-grow: 1;}#sk-container-id-7 div.sk-label:hover label.sk-toggleable__label {background-color: #d4ebff;}#sk-container-id-7 div.sk-serial::before {content: \"\";position: absolute;border-left: 1px solid gray;box-sizing: border-box;top: 0;bottom: 0;left: 50%;z-index: 0;}#sk-container-id-7 div.sk-serial {display: flex;flex-direction: column;align-items: center;background-color: white;padding-right: 0.2em;padding-left: 0.2em;position: relative;}#sk-container-id-7 div.sk-item {position: relative;z-index: 1;}#sk-container-id-7 div.sk-parallel {display: flex;align-items: stretch;justify-content: center;background-color: white;position: relative;}#sk-container-id-7 div.sk-item::before, #sk-container-id-7 div.sk-parallel-item::before {content: \"\";position: absolute;border-left: 1px solid gray;box-sizing: border-box;top: 0;bottom: 0;left: 50%;z-index: -1;}#sk-container-id-7 div.sk-parallel-item {display: flex;flex-direction: column;z-index: 1;position: relative;background-color: white;}#sk-container-id-7 div.sk-parallel-item:first-child::after {align-self: flex-end;width: 50%;}#sk-container-id-7 div.sk-parallel-item:last-child::after {align-self: flex-start;width: 50%;}#sk-container-id-7 div.sk-parallel-item:only-child::after {width: 0;}#sk-container-id-7 div.sk-dashed-wrapped {border: 1px dashed gray;margin: 0 0.4em 0.5em 0.4em;box-sizing: border-box;padding-bottom: 0.4em;background-color: white;}#sk-container-id-7 div.sk-label label {font-family: monospace;font-weight: bold;display: inline-block;line-height: 1.2em;}#sk-container-id-7 div.sk-label-container {text-align: center;}#sk-container-id-7 div.sk-container {/* jupyter's `normalize.less` sets `[hidden] { display: none; }` but bootstrap.min.css set `[hidden] { display: none !important; }` so we also need the `!important` here to be able to override the default hidden behavior on the sphinx rendered scikit-learn.org. See: https://github.com/scikit-learn/scikit-learn/issues/21755 */display: inline-block !important;position: relative;}#sk-container-id-7 div.sk-text-repr-fallback {display: none;}</style><div id=\"sk-container-id-7\" class=\"sk-top-container\"><div class=\"sk-text-repr-fallback\"><pre>Pipeline(memory=&#x27;C:\\\\Users\\\\Emanuel\\\\AppData\\\\Local\\\\Temp\\\\tmp0drc9493&#x27;,\n",
       "         steps=[(&#x27;column_transform&#x27;,\n",
       "                 ColumnTransformer(n_jobs=-1, remainder=&#x27;passthrough&#x27;,\n",
       "                                   transformers=[(&#x27;OHE&#x27;,\n",
       "                                                  OneHotEncoder(handle_unknown=&#x27;ignore&#x27;,\n",
       "                                                                sparse=False),\n",
       "                                                  [&#x27;ECO&#x27;])])),\n",
       "                (&#x27;model&#x27;,\n",
       "                 RandomForestClassifier(max_depth=150, min_samples_split=4))],\n",
       "         verbose=True)</pre><b>In a Jupyter environment, please rerun this cell to show the HTML representation or trust the notebook. <br />On GitHub, the HTML representation is unable to render, please try loading this page with nbviewer.org.</b></div><div class=\"sk-container\" hidden><div class=\"sk-item sk-dashed-wrapped\"><div class=\"sk-label-container\"><div class=\"sk-label sk-toggleable\"><input class=\"sk-toggleable__control sk-hidden--visually\" id=\"sk-estimator-id-43\" type=\"checkbox\" ><label for=\"sk-estimator-id-43\" class=\"sk-toggleable__label sk-toggleable__label-arrow\">Pipeline</label><div class=\"sk-toggleable__content\"><pre>Pipeline(memory=&#x27;C:\\\\Users\\\\Emanuel\\\\AppData\\\\Local\\\\Temp\\\\tmp0drc9493&#x27;,\n",
       "         steps=[(&#x27;column_transform&#x27;,\n",
       "                 ColumnTransformer(n_jobs=-1, remainder=&#x27;passthrough&#x27;,\n",
       "                                   transformers=[(&#x27;OHE&#x27;,\n",
       "                                                  OneHotEncoder(handle_unknown=&#x27;ignore&#x27;,\n",
       "                                                                sparse=False),\n",
       "                                                  [&#x27;ECO&#x27;])])),\n",
       "                (&#x27;model&#x27;,\n",
       "                 RandomForestClassifier(max_depth=150, min_samples_split=4))],\n",
       "         verbose=True)</pre></div></div></div><div class=\"sk-serial\"><div class=\"sk-item sk-dashed-wrapped\"><div class=\"sk-label-container\"><div class=\"sk-label sk-toggleable\"><input class=\"sk-toggleable__control sk-hidden--visually\" id=\"sk-estimator-id-44\" type=\"checkbox\" ><label for=\"sk-estimator-id-44\" class=\"sk-toggleable__label sk-toggleable__label-arrow\">column_transform: ColumnTransformer</label><div class=\"sk-toggleable__content\"><pre>ColumnTransformer(n_jobs=-1, remainder=&#x27;passthrough&#x27;,\n",
       "                  transformers=[(&#x27;OHE&#x27;,\n",
       "                                 OneHotEncoder(handle_unknown=&#x27;ignore&#x27;,\n",
       "                                               sparse=False),\n",
       "                                 [&#x27;ECO&#x27;])])</pre></div></div></div><div class=\"sk-parallel\"><div class=\"sk-parallel-item\"><div class=\"sk-item\"><div class=\"sk-label-container\"><div class=\"sk-label sk-toggleable\"><input class=\"sk-toggleable__control sk-hidden--visually\" id=\"sk-estimator-id-45\" type=\"checkbox\" ><label for=\"sk-estimator-id-45\" class=\"sk-toggleable__label sk-toggleable__label-arrow\">OHE</label><div class=\"sk-toggleable__content\"><pre>[&#x27;ECO&#x27;]</pre></div></div></div><div class=\"sk-serial\"><div class=\"sk-item\"><div class=\"sk-estimator sk-toggleable\"><input class=\"sk-toggleable__control sk-hidden--visually\" id=\"sk-estimator-id-46\" type=\"checkbox\" ><label for=\"sk-estimator-id-46\" class=\"sk-toggleable__label sk-toggleable__label-arrow\">OneHotEncoder</label><div class=\"sk-toggleable__content\"><pre>OneHotEncoder(handle_unknown=&#x27;ignore&#x27;, sparse=False)</pre></div></div></div></div></div></div><div class=\"sk-parallel-item\"><div class=\"sk-item\"><div class=\"sk-label-container\"><div class=\"sk-label sk-toggleable\"><input class=\"sk-toggleable__control sk-hidden--visually\" id=\"sk-estimator-id-47\" type=\"checkbox\" ><label for=\"sk-estimator-id-47\" class=\"sk-toggleable__label sk-toggleable__label-arrow\">remainder</label><div class=\"sk-toggleable__content\"><pre>[&#x27;WhiteElo&#x27;, &#x27;WhiteRD&#x27;, &#x27;BlackElo&#x27;, &#x27;BlackRD&#x27;, &#x27;white_played_perc_top_move&#x27;, &#x27;black_played_perc_top_move&#x27;, &#x27;av_white_emt&#x27;, &#x27;av_black_emt&#x27;, &#x27;PlyCount&#x27;, &#x27;TimeControl_Base&#x27;, &#x27;TimeControl_Inc&#x27;]</pre></div></div></div><div class=\"sk-serial\"><div class=\"sk-item\"><div class=\"sk-estimator sk-toggleable\"><input class=\"sk-toggleable__control sk-hidden--visually\" id=\"sk-estimator-id-48\" type=\"checkbox\" ><label for=\"sk-estimator-id-48\" class=\"sk-toggleable__label sk-toggleable__label-arrow\">passthrough</label><div class=\"sk-toggleable__content\"><pre>passthrough</pre></div></div></div></div></div></div></div></div><div class=\"sk-item\"><div class=\"sk-estimator sk-toggleable\"><input class=\"sk-toggleable__control sk-hidden--visually\" id=\"sk-estimator-id-49\" type=\"checkbox\" ><label for=\"sk-estimator-id-49\" class=\"sk-toggleable__label sk-toggleable__label-arrow\">RandomForestClassifier</label><div class=\"sk-toggleable__content\"><pre>RandomForestClassifier(max_depth=150, min_samples_split=4)</pre></div></div></div></div></div></div></div>"
      ],
      "text/plain": [
       "Pipeline(memory='C:\\\\Users\\\\Emanuel\\\\AppData\\\\Local\\\\Temp\\\\tmp0drc9493',\n",
       "         steps=[('column_transform',\n",
       "                 ColumnTransformer(n_jobs=-1, remainder='passthrough',\n",
       "                                   transformers=[('OHE',\n",
       "                                                  OneHotEncoder(handle_unknown='ignore',\n",
       "                                                                sparse=False),\n",
       "                                                  ['ECO'])])),\n",
       "                ('model',\n",
       "                 RandomForestClassifier(max_depth=150, min_samples_split=4))],\n",
       "         verbose=True)"
      ]
     },
     "execution_count": 102,
     "metadata": {},
     "output_type": "execute_result"
    }
   ],
   "source": [
    "fitted_rf_gs.best_estimator_"
   ]
  },
  {
   "cell_type": "code",
   "execution_count": 103,
   "id": "2d86f3ab",
   "metadata": {
    "ExecuteTime": {
     "end_time": "2022-11-07T02:00:28.045258Z",
     "start_time": "2022-11-07T02:00:28.031296Z"
    },
    "hidden": true
   },
   "outputs": [
    {
     "data": {
      "text/plain": [
       "{'column_transform': ColumnTransformer(n_jobs=-1, remainder='passthrough',\n",
       "                   transformers=[('OHE',\n",
       "                                  OneHotEncoder(handle_unknown='ignore',\n",
       "                                                sparse=False),\n",
       "                                  ['ECO'])]),\n",
       " 'model': RandomForestClassifier(max_depth=150, min_samples_split=4),\n",
       " 'model__criterion': 'gini',\n",
       " 'model__max_depth': 150,\n",
       " 'model__max_features': 'sqrt',\n",
       " 'model__min_samples_leaf': 1,\n",
       " 'model__min_samples_split': 4,\n",
       " 'model__n_estimators': 100}"
      ]
     },
     "execution_count": 103,
     "metadata": {},
     "output_type": "execute_result"
    }
   ],
   "source": [
    "fitted_rf_gs.best_params_"
   ]
  },
  {
   "cell_type": "code",
   "execution_count": 104,
   "id": "655b1a93",
   "metadata": {
    "ExecuteTime": {
     "end_time": "2022-11-07T01:53:11.317630Z",
     "start_time": "2022-11-07T01:53:10.513635Z"
    },
    "hidden": true
   },
   "outputs": [
    {
     "name": "stdout",
     "output_type": "stream",
     "text": [
      "The best decistion tree's accuracy on the remainder set: 0.999954483386436\n",
      "The best decistion tree's accuracy on the test set: 0.9863462588749318\n"
     ]
    }
   ],
   "source": [
    "# Print the accuracies\n",
    "print(f\"The best decistion tree's accuracy on the remainder set: {fitted_rf_gs.score(X_remainder, y_remainder)}\")\n",
    "print(f\"The best decistion tree's accuracy on the test set: {fitted_rf_gs.score(X_test, y_test)}\")"
   ]
  },
  {
   "cell_type": "code",
   "execution_count": null,
   "id": "21870d7c",
   "metadata": {
    "hidden": true
   },
   "outputs": [],
   "source": []
  },
  {
   "cell_type": "code",
   "execution_count": 105,
   "id": "cea1c09b",
   "metadata": {
    "ExecuteTime": {
     "end_time": "2022-11-07T01:53:19.424589Z",
     "start_time": "2022-11-07T01:53:11.318522Z"
    },
    "hidden": true
   },
   "outputs": [
    {
     "data": {
      "text/plain": [
       "['E:/data/capstone/pickled_models/gridsearch/best_rf.pkl']"
      ]
     },
     "execution_count": 105,
     "metadata": {},
     "output_type": "execute_result"
    }
   ],
   "source": [
    "joblib.dump(fitted_rf_gs.best_estimator_,\n",
    "            'E:/data/capstone/pickled_models/gridsearch/best_rf.pkl',\n",
    "            compress=9)"
   ]
  },
  {
   "cell_type": "code",
   "execution_count": null,
   "id": "45758b9f",
   "metadata": {
    "hidden": true
   },
   "outputs": [],
   "source": []
  },
  {
   "cell_type": "markdown",
   "id": "008eb6b2",
   "metadata": {
    "hidden": true
   },
   "source": [
    "-----"
   ]
  },
  {
   "cell_type": "markdown",
   "id": "d608b5b2",
   "metadata": {
    "heading_collapsed": true
   },
   "source": [
    "#### XGBoost"
   ]
  },
  {
   "cell_type": "code",
   "execution_count": 106,
   "id": "d7281a57",
   "metadata": {
    "ExecuteTime": {
     "end_time": "2022-11-07T01:53:19.439276Z",
     "start_time": "2022-11-07T01:53:19.426326Z"
    },
    "hidden": true
   },
   "outputs": [],
   "source": [
    "# for testing that it  works\n",
    "\n",
    "xgb_param_grid = [\n",
    "    \n",
    "    {'column_transform': [ct_unscale],\n",
    "     'model': [XGBClassifier()],\n",
    "     'model__n_estimators': [100], 'model__learning_rate': [0.3, 0.8, 1.5], 'model__gamma': [0],\n",
    "     'model__max_depth': [6], 'model__max_delta_step': [0, 1],\n",
    "     'model__sampling_method': ['uniform', 'gradient_based'],\n",
    "     'model__lambda': [1], 'model__verbosity': [1]\n",
    "    }\n",
    "]"
   ]
  },
  {
   "cell_type": "code",
   "execution_count": 107,
   "id": "95a4a6e2",
   "metadata": {
    "ExecuteTime": {
     "end_time": "2022-11-07T01:53:19.455236Z",
     "start_time": "2022-11-07T01:53:19.440249Z"
    },
    "hidden": true
   },
   "outputs": [],
   "source": [
    "xgb_gs = GridSearchCV(\n",
    "    my_pipeline_unscale,\n",
    "    param_grid=xgb_param_grid,\n",
    "    cv=5, n_jobs=-1, verbose=10)"
   ]
  },
  {
   "cell_type": "code",
   "execution_count": 108,
   "id": "219cb00b",
   "metadata": {
    "ExecuteTime": {
     "end_time": "2022-11-07T02:00:27.982426Z",
     "start_time": "2022-11-07T01:53:19.456208Z"
    },
    "hidden": true
   },
   "outputs": [
    {
     "name": "stdout",
     "output_type": "stream",
     "text": [
      "Fitting 5 folds for each of 12 candidates, totalling 60 fits\n",
      "[Pipeline] ............. (step 2 of 2) Processing model, total=   8.8s\n"
     ]
    }
   ],
   "source": [
    "fitted_xgb_gs = xgb_gs.fit(X_remainder, y_remainder)"
   ]
  },
  {
   "cell_type": "code",
   "execution_count": 109,
   "id": "03f7c0e9",
   "metadata": {
    "ExecuteTime": {
     "end_time": "2022-11-07T02:00:28.029301Z",
     "start_time": "2022-11-07T02:00:27.983424Z"
    },
    "hidden": true
   },
   "outputs": [
    {
     "data": {
      "text/html": [
       "<style>#sk-container-id-8 {color: black;background-color: white;}#sk-container-id-8 pre{padding: 0;}#sk-container-id-8 div.sk-toggleable {background-color: white;}#sk-container-id-8 label.sk-toggleable__label {cursor: pointer;display: block;width: 100%;margin-bottom: 0;padding: 0.3em;box-sizing: border-box;text-align: center;}#sk-container-id-8 label.sk-toggleable__label-arrow:before {content: \"▸\";float: left;margin-right: 0.25em;color: #696969;}#sk-container-id-8 label.sk-toggleable__label-arrow:hover:before {color: black;}#sk-container-id-8 div.sk-estimator:hover label.sk-toggleable__label-arrow:before {color: black;}#sk-container-id-8 div.sk-toggleable__content {max-height: 0;max-width: 0;overflow: hidden;text-align: left;background-color: #f0f8ff;}#sk-container-id-8 div.sk-toggleable__content pre {margin: 0.2em;color: black;border-radius: 0.25em;background-color: #f0f8ff;}#sk-container-id-8 input.sk-toggleable__control:checked~div.sk-toggleable__content {max-height: 200px;max-width: 100%;overflow: auto;}#sk-container-id-8 input.sk-toggleable__control:checked~label.sk-toggleable__label-arrow:before {content: \"▾\";}#sk-container-id-8 div.sk-estimator input.sk-toggleable__control:checked~label.sk-toggleable__label {background-color: #d4ebff;}#sk-container-id-8 div.sk-label input.sk-toggleable__control:checked~label.sk-toggleable__label {background-color: #d4ebff;}#sk-container-id-8 input.sk-hidden--visually {border: 0;clip: rect(1px 1px 1px 1px);clip: rect(1px, 1px, 1px, 1px);height: 1px;margin: -1px;overflow: hidden;padding: 0;position: absolute;width: 1px;}#sk-container-id-8 div.sk-estimator {font-family: monospace;background-color: #f0f8ff;border: 1px dotted black;border-radius: 0.25em;box-sizing: border-box;margin-bottom: 0.5em;}#sk-container-id-8 div.sk-estimator:hover {background-color: #d4ebff;}#sk-container-id-8 div.sk-parallel-item::after {content: \"\";width: 100%;border-bottom: 1px solid gray;flex-grow: 1;}#sk-container-id-8 div.sk-label:hover label.sk-toggleable__label {background-color: #d4ebff;}#sk-container-id-8 div.sk-serial::before {content: \"\";position: absolute;border-left: 1px solid gray;box-sizing: border-box;top: 0;bottom: 0;left: 50%;z-index: 0;}#sk-container-id-8 div.sk-serial {display: flex;flex-direction: column;align-items: center;background-color: white;padding-right: 0.2em;padding-left: 0.2em;position: relative;}#sk-container-id-8 div.sk-item {position: relative;z-index: 1;}#sk-container-id-8 div.sk-parallel {display: flex;align-items: stretch;justify-content: center;background-color: white;position: relative;}#sk-container-id-8 div.sk-item::before, #sk-container-id-8 div.sk-parallel-item::before {content: \"\";position: absolute;border-left: 1px solid gray;box-sizing: border-box;top: 0;bottom: 0;left: 50%;z-index: -1;}#sk-container-id-8 div.sk-parallel-item {display: flex;flex-direction: column;z-index: 1;position: relative;background-color: white;}#sk-container-id-8 div.sk-parallel-item:first-child::after {align-self: flex-end;width: 50%;}#sk-container-id-8 div.sk-parallel-item:last-child::after {align-self: flex-start;width: 50%;}#sk-container-id-8 div.sk-parallel-item:only-child::after {width: 0;}#sk-container-id-8 div.sk-dashed-wrapped {border: 1px dashed gray;margin: 0 0.4em 0.5em 0.4em;box-sizing: border-box;padding-bottom: 0.4em;background-color: white;}#sk-container-id-8 div.sk-label label {font-family: monospace;font-weight: bold;display: inline-block;line-height: 1.2em;}#sk-container-id-8 div.sk-label-container {text-align: center;}#sk-container-id-8 div.sk-container {/* jupyter's `normalize.less` sets `[hidden] { display: none; }` but bootstrap.min.css set `[hidden] { display: none !important; }` so we also need the `!important` here to be able to override the default hidden behavior on the sphinx rendered scikit-learn.org. See: https://github.com/scikit-learn/scikit-learn/issues/21755 */display: inline-block !important;position: relative;}#sk-container-id-8 div.sk-text-repr-fallback {display: none;}</style><div id=\"sk-container-id-8\" class=\"sk-top-container\"><div class=\"sk-text-repr-fallback\"><pre>Pipeline(memory=&#x27;C:\\\\Users\\\\Emanuel\\\\AppData\\\\Local\\\\Temp\\\\tmp0drc9493&#x27;,\n",
       "         steps=[(&#x27;column_transform&#x27;,\n",
       "                 ColumnTransformer(n_jobs=-1, remainder=&#x27;passthrough&#x27;,\n",
       "                                   transformers=[(&#x27;OHE&#x27;,\n",
       "                                                  OneHotEncoder(handle_unknown=&#x27;ignore&#x27;,\n",
       "                                                                sparse=False),\n",
       "                                                  [&#x27;ECO&#x27;])])),\n",
       "                (&#x27;model&#x27;,\n",
       "                 XGBClassifier(base_score=0.5, booster=&#x27;gbtree&#x27;, callbacks=None,\n",
       "                               colsample_bylevel=1, colsample_bynode=1,\n",
       "                               colsa...\n",
       "                               feature_types=None, gamma=0, gpu_id=-1,\n",
       "                               grow_policy=&#x27;depthwise&#x27;, importance_type=None,\n",
       "                               interaction_constraints=&#x27;&#x27;, lambda=1,\n",
       "                               learning_rate=0.3, max_bin=256,\n",
       "                               max_cat_threshold=64, max_cat_to_onehot=4,\n",
       "                               max_delta_step=0, max_depth=6, max_leaves=0,\n",
       "                               min_child_weight=1, missing=nan,\n",
       "                               monotone_constraints=&#x27;()&#x27;, n_estimators=100,\n",
       "                               n_jobs=0, num_parallel_tree=1,\n",
       "                               objective=&#x27;multi:softprob&#x27;, ...))],\n",
       "         verbose=True)</pre><b>In a Jupyter environment, please rerun this cell to show the HTML representation or trust the notebook. <br />On GitHub, the HTML representation is unable to render, please try loading this page with nbviewer.org.</b></div><div class=\"sk-container\" hidden><div class=\"sk-item sk-dashed-wrapped\"><div class=\"sk-label-container\"><div class=\"sk-label sk-toggleable\"><input class=\"sk-toggleable__control sk-hidden--visually\" id=\"sk-estimator-id-50\" type=\"checkbox\" ><label for=\"sk-estimator-id-50\" class=\"sk-toggleable__label sk-toggleable__label-arrow\">Pipeline</label><div class=\"sk-toggleable__content\"><pre>Pipeline(memory=&#x27;C:\\\\Users\\\\Emanuel\\\\AppData\\\\Local\\\\Temp\\\\tmp0drc9493&#x27;,\n",
       "         steps=[(&#x27;column_transform&#x27;,\n",
       "                 ColumnTransformer(n_jobs=-1, remainder=&#x27;passthrough&#x27;,\n",
       "                                   transformers=[(&#x27;OHE&#x27;,\n",
       "                                                  OneHotEncoder(handle_unknown=&#x27;ignore&#x27;,\n",
       "                                                                sparse=False),\n",
       "                                                  [&#x27;ECO&#x27;])])),\n",
       "                (&#x27;model&#x27;,\n",
       "                 XGBClassifier(base_score=0.5, booster=&#x27;gbtree&#x27;, callbacks=None,\n",
       "                               colsample_bylevel=1, colsample_bynode=1,\n",
       "                               colsa...\n",
       "                               feature_types=None, gamma=0, gpu_id=-1,\n",
       "                               grow_policy=&#x27;depthwise&#x27;, importance_type=None,\n",
       "                               interaction_constraints=&#x27;&#x27;, lambda=1,\n",
       "                               learning_rate=0.3, max_bin=256,\n",
       "                               max_cat_threshold=64, max_cat_to_onehot=4,\n",
       "                               max_delta_step=0, max_depth=6, max_leaves=0,\n",
       "                               min_child_weight=1, missing=nan,\n",
       "                               monotone_constraints=&#x27;()&#x27;, n_estimators=100,\n",
       "                               n_jobs=0, num_parallel_tree=1,\n",
       "                               objective=&#x27;multi:softprob&#x27;, ...))],\n",
       "         verbose=True)</pre></div></div></div><div class=\"sk-serial\"><div class=\"sk-item sk-dashed-wrapped\"><div class=\"sk-label-container\"><div class=\"sk-label sk-toggleable\"><input class=\"sk-toggleable__control sk-hidden--visually\" id=\"sk-estimator-id-51\" type=\"checkbox\" ><label for=\"sk-estimator-id-51\" class=\"sk-toggleable__label sk-toggleable__label-arrow\">column_transform: ColumnTransformer</label><div class=\"sk-toggleable__content\"><pre>ColumnTransformer(n_jobs=-1, remainder=&#x27;passthrough&#x27;,\n",
       "                  transformers=[(&#x27;OHE&#x27;,\n",
       "                                 OneHotEncoder(handle_unknown=&#x27;ignore&#x27;,\n",
       "                                               sparse=False),\n",
       "                                 [&#x27;ECO&#x27;])])</pre></div></div></div><div class=\"sk-parallel\"><div class=\"sk-parallel-item\"><div class=\"sk-item\"><div class=\"sk-label-container\"><div class=\"sk-label sk-toggleable\"><input class=\"sk-toggleable__control sk-hidden--visually\" id=\"sk-estimator-id-52\" type=\"checkbox\" ><label for=\"sk-estimator-id-52\" class=\"sk-toggleable__label sk-toggleable__label-arrow\">OHE</label><div class=\"sk-toggleable__content\"><pre>[&#x27;ECO&#x27;]</pre></div></div></div><div class=\"sk-serial\"><div class=\"sk-item\"><div class=\"sk-estimator sk-toggleable\"><input class=\"sk-toggleable__control sk-hidden--visually\" id=\"sk-estimator-id-53\" type=\"checkbox\" ><label for=\"sk-estimator-id-53\" class=\"sk-toggleable__label sk-toggleable__label-arrow\">OneHotEncoder</label><div class=\"sk-toggleable__content\"><pre>OneHotEncoder(handle_unknown=&#x27;ignore&#x27;, sparse=False)</pre></div></div></div></div></div></div><div class=\"sk-parallel-item\"><div class=\"sk-item\"><div class=\"sk-label-container\"><div class=\"sk-label sk-toggleable\"><input class=\"sk-toggleable__control sk-hidden--visually\" id=\"sk-estimator-id-54\" type=\"checkbox\" ><label for=\"sk-estimator-id-54\" class=\"sk-toggleable__label sk-toggleable__label-arrow\">remainder</label><div class=\"sk-toggleable__content\"><pre>[&#x27;WhiteElo&#x27;, &#x27;WhiteRD&#x27;, &#x27;BlackElo&#x27;, &#x27;BlackRD&#x27;, &#x27;white_played_perc_top_move&#x27;, &#x27;black_played_perc_top_move&#x27;, &#x27;av_white_emt&#x27;, &#x27;av_black_emt&#x27;, &#x27;PlyCount&#x27;, &#x27;TimeControl_Base&#x27;, &#x27;TimeControl_Inc&#x27;]</pre></div></div></div><div class=\"sk-serial\"><div class=\"sk-item\"><div class=\"sk-estimator sk-toggleable\"><input class=\"sk-toggleable__control sk-hidden--visually\" id=\"sk-estimator-id-55\" type=\"checkbox\" ><label for=\"sk-estimator-id-55\" class=\"sk-toggleable__label sk-toggleable__label-arrow\">passthrough</label><div class=\"sk-toggleable__content\"><pre>passthrough</pre></div></div></div></div></div></div></div></div><div class=\"sk-item\"><div class=\"sk-estimator sk-toggleable\"><input class=\"sk-toggleable__control sk-hidden--visually\" id=\"sk-estimator-id-56\" type=\"checkbox\" ><label for=\"sk-estimator-id-56\" class=\"sk-toggleable__label sk-toggleable__label-arrow\">XGBClassifier</label><div class=\"sk-toggleable__content\"><pre>XGBClassifier(base_score=0.5, booster=&#x27;gbtree&#x27;, callbacks=None,\n",
       "              colsample_bylevel=1, colsample_bynode=1, colsample_bytree=1,\n",
       "              early_stopping_rounds=None, enable_categorical=False,\n",
       "              eval_metric=None, feature_types=None, gamma=0, gpu_id=-1,\n",
       "              grow_policy=&#x27;depthwise&#x27;, importance_type=None,\n",
       "              interaction_constraints=&#x27;&#x27;, lambda=1, learning_rate=0.3,\n",
       "              max_bin=256, max_cat_threshold=64, max_cat_to_onehot=4,\n",
       "              max_delta_step=0, max_depth=6, max_leaves=0, min_child_weight=1,\n",
       "              missing=nan, monotone_constraints=&#x27;()&#x27;, n_estimators=100,\n",
       "              n_jobs=0, num_parallel_tree=1, objective=&#x27;multi:softprob&#x27;, ...)</pre></div></div></div></div></div></div></div>"
      ],
      "text/plain": [
       "Pipeline(memory='C:\\\\Users\\\\Emanuel\\\\AppData\\\\Local\\\\Temp\\\\tmp0drc9493',\n",
       "         steps=[('column_transform',\n",
       "                 ColumnTransformer(n_jobs=-1, remainder='passthrough',\n",
       "                                   transformers=[('OHE',\n",
       "                                                  OneHotEncoder(handle_unknown='ignore',\n",
       "                                                                sparse=False),\n",
       "                                                  ['ECO'])])),\n",
       "                ('model',\n",
       "                 XGBClassifier(base_score=0.5, booster='gbtree', callbacks=None,\n",
       "                               colsample_bylevel=1, colsample_bynode=1,\n",
       "                               colsa...\n",
       "                               feature_types=None, gamma=0, gpu_id=-1,\n",
       "                               grow_policy='depthwise', importance_type=None,\n",
       "                               interaction_constraints='', lambda=1,\n",
       "                               learning_rate=0.3, max_bin=256,\n",
       "                               max_cat_threshold=64, max_cat_to_onehot=4,\n",
       "                               max_delta_step=0, max_depth=6, max_leaves=0,\n",
       "                               min_child_weight=1, missing=nan,\n",
       "                               monotone_constraints='()', n_estimators=100,\n",
       "                               n_jobs=0, num_parallel_tree=1,\n",
       "                               objective='multi:softprob', ...))],\n",
       "         verbose=True)"
      ]
     },
     "execution_count": 109,
     "metadata": {},
     "output_type": "execute_result"
    }
   ],
   "source": [
    "fitted_xgb_gs.best_estimator_"
   ]
  },
  {
   "cell_type": "code",
   "execution_count": 110,
   "id": "fc5356aa",
   "metadata": {
    "ExecuteTime": {
     "end_time": "2022-11-07T02:00:28.045258Z",
     "start_time": "2022-11-07T02:00:28.031296Z"
    },
    "hidden": true
   },
   "outputs": [
    {
     "data": {
      "text/plain": [
       "{'column_transform': ColumnTransformer(n_jobs=-1, remainder='passthrough',\n",
       "                   transformers=[('OHE',\n",
       "                                  OneHotEncoder(handle_unknown='ignore',\n",
       "                                                sparse=False),\n",
       "                                  ['ECO'])]),\n",
       " 'model': XGBClassifier(base_score=None, booster=None, callbacks=None,\n",
       "               colsample_bylevel=None, colsample_bynode=None,\n",
       "               colsample_bytree=None, early_stopping_rounds=None,\n",
       "               enable_categorical=False, eval_metric=None, feature_types=None,\n",
       "               gamma=0, gpu_id=None, grow_policy=None, importance_type=None,\n",
       "               interaction_constraints=None, lambda=1, learning_rate=0.3,\n",
       "               max_bin=None, max_cat_threshold=None, max_cat_to_onehot=None,\n",
       "               max_delta_step=0, max_depth=6, max_leaves=None,\n",
       "               min_child_weight=None, missing=nan, monotone_constraints=None,\n",
       "               n_estimators=100, n_jobs=None, num_parallel_tree=None,\n",
       "               predictor=None, ...),\n",
       " 'model__gamma': 0,\n",
       " 'model__lambda': 1,\n",
       " 'model__learning_rate': 0.3,\n",
       " 'model__max_delta_step': 0,\n",
       " 'model__max_depth': 6,\n",
       " 'model__n_estimators': 100,\n",
       " 'model__sampling_method': 'uniform',\n",
       " 'model__verbosity': 1}"
      ]
     },
     "execution_count": 110,
     "metadata": {},
     "output_type": "execute_result"
    }
   ],
   "source": [
    "fitted_xgb_gs.best_params_"
   ]
  },
  {
   "cell_type": "code",
   "execution_count": 111,
   "id": "0b98447b",
   "metadata": {
    "ExecuteTime": {
     "end_time": "2022-11-07T02:00:28.353451Z",
     "start_time": "2022-11-07T02:00:28.046256Z"
    },
    "hidden": true
   },
   "outputs": [
    {
     "name": "stdout",
     "output_type": "stream",
     "text": [
      "The best decistion tree's accuracy on the remainder set: 0.9994538006372325\n",
      "The best decistion tree's accuracy on the test set: 0.9881667576916076\n"
     ]
    }
   ],
   "source": [
    "# Print the accuracies\n",
    "print(f\"The best decistion tree's accuracy on the remainder set: {fitted_xgb_gs.score(X_remainder, y_remainder)}\")\n",
    "print(f\"The best decistion tree's accuracy on the test set: {fitted_xgb_gs.score(X_test, y_test)}\")"
   ]
  },
  {
   "cell_type": "code",
   "execution_count": 113,
   "id": "5899d67f",
   "metadata": {
    "ExecuteTime": {
     "end_time": "2022-11-07T02:06:19.386114Z",
     "start_time": "2022-11-07T02:06:19.264466Z"
    },
    "hidden": true
   },
   "outputs": [
    {
     "data": {
      "text/plain": [
       "['E:/data/capstone/pickled_models/gridsearch/best_xgbost.pkl']"
      ]
     },
     "execution_count": 113,
     "metadata": {},
     "output_type": "execute_result"
    }
   ],
   "source": [
    "joblib.dump(fitted_xgb_gs.best_estimator_,\n",
    "            'E:/data/capstone/pickled_models/gridsearch/best_xgbost.pkl',\n",
    "            compress=9)"
   ]
  },
  {
   "cell_type": "code",
   "execution_count": null,
   "id": "e41e8131",
   "metadata": {
    "hidden": true
   },
   "outputs": [],
   "source": []
  },
  {
   "cell_type": "markdown",
   "id": "9171023c",
   "metadata": {
    "hidden": true
   },
   "source": [
    "-----"
   ]
  },
  {
   "cell_type": "markdown",
   "id": "326b47b5",
   "metadata": {
    "hidden": true
   },
   "source": [
    "-----"
   ]
  },
  {
   "cell_type": "markdown",
   "id": "e1ab6b1c",
   "metadata": {
    "hidden": true
   },
   "source": [
    "-----"
   ]
  },
  {
   "cell_type": "code",
   "execution_count": null,
   "id": "2dddbbc1",
   "metadata": {
    "hidden": true
   },
   "outputs": [],
   "source": []
  },
  {
   "cell_type": "markdown",
   "id": "ca3818ee",
   "metadata": {},
   "source": [
    "## To do:"
   ]
  },
  {
   "cell_type": "markdown",
   "id": "5557665c",
   "metadata": {},
   "source": [
    "1. Make draft narrative \n",
    "6. What is the difference in average time per move for humans vs computers:\n",
    "    + Is it very different in different time length of games?\n",
    "8. Retrain models using the new features (incrementally? - retrain every time I put a new feature in maybe)\n",
    "9. Do GridSearches for the models (except KNN)\n",
    "\n",
    "\n",
    "12. Do cursory overview of original variables and their distributions, multicollinearities and correlation to the outcome\n",
    "\n",
    "\n",
    "13. Do overview of engineered variables and their distributions, multicollinearities and correlation to the outcome\n",
    "    + Proportion of moves matching the top recommendation\n",
    "    + Average time per move\n",
    "\n",
    "\n",
    "5. How many different types of titled players are there? (Maybe it's an indication as to why there seems to be a bimodal distribution.)\n",
    "    + In both rated and unrated\n",
    "    + In rated\n",
    "    + In unrated\n",
    "\n",
    "\n",
    "14. Classification models to use are LogReg, DT, RF, XGBoost (maybe KNN)\n",
    "\n",
    "\n",
    "15. Compare the evaluation scores from Muninn and from Vostro\n",
    "\n",
    "\n",
    "\"For each new feature created, take some time to review their distributions. If not normal, (i.e. hopefully bimodal), can you gain insight into why not. The hope is that the variable shows a bimodal distribution for cheaters and non-cheaters. Also check how relevant the feature is likely to be for your model by plotting it against the target variable, and check for multicollinearity.\""
   ]
  },
  {
   "cell_type": "markdown",
   "id": "4eccdba3",
   "metadata": {},
   "source": [
    "-----"
   ]
  },
  {
   "cell_type": "markdown",
   "id": "c8ad66e3",
   "metadata": {},
   "source": [
    "\n",
    "1. What is the largest difference in elo between players in a match as well as across all games: {done for now - this is leading me to prioritise games where both players elos are within an absolute elo range rather than pick games where players are within a certain elo-distance; this is because by comparing the abs_elo_diff in rated hour_ CvH and rated HvH games it seems the mean, std, and max are quite comparable so the elo distance will not be used as a feature/for filtering.}\n",
    "    + Titled games:\n",
    "        - Rated {done}\n",
    "        - Unrated\n",
    "    + CvH games:\n",
    "        - Rated {done}\n",
    "        - Unrated\n",
    "3. Play with the hue setting on the CvH distribution graphs to understand why there is a bimodal distribution (i.e. is it the timeformat [lightning, blitz, standard], is it the rated/unrated etc.) {the computer program name is a big contributor}\n",
    "4. Do CvH checks on non-filtered dataframe: (computers can lose)\n",
    "    + Put conditionals in the clean pickles on what steps to keep or discard {done}\n",
    "    + What is the distribution of how many computers beat people? {done - 61% of computers win}\n",
    "    + What is the elo distribution if I keep games where the computer loses?\n",
    "2. Set up how to train DT, KNN and XGBoost\n",
    "6. Because most games are between 3-5 minutes (HvH games), what are the implications of picking games from CvH that last much longer? {too much of a rabbit hole - out of scope of project}\n",
    "7. How many games are there between 1600-2857? {done - there are 224224 total}\n",
    "2. Remove elos and retrain: {done}\n",
    "    + Remove both elos and retrain models \n",
    "13. Using the calculated evaluations, make new features\n",
    "    + Proportion of moves matching the top recommendation {done}\n",
    "    + Proportion of moves matching a top 3 recommendation\n",
    "    + In cases where the top recommendation was significantly better than the other recommendations (quanitfy with some threshold), how often was that particular move chosen?"
   ]
  },
  {
   "cell_type": "markdown",
   "id": "ee3bef4f",
   "metadata": {},
   "source": [
    "-----"
   ]
  },
  {
   "cell_type": "markdown",
   "id": "8cd2ad80",
   "metadata": {},
   "source": [
    "### Remove elos and retrain"
   ]
  },
  {
   "cell_type": "code",
   "execution_count": null,
   "id": "d2c83e40",
   "metadata": {},
   "outputs": [],
   "source": []
  },
  {
   "cell_type": "code",
   "execution_count": null,
   "id": "3d94d270",
   "metadata": {},
   "outputs": [],
   "source": []
  },
  {
   "cell_type": "markdown",
   "id": "4222e1ec",
   "metadata": {},
   "source": [
    "--------"
   ]
  },
  {
   "cell_type": "code",
   "execution_count": null,
   "id": "663a33f9",
   "metadata": {},
   "outputs": [],
   "source": []
  },
  {
   "cell_type": "code",
   "execution_count": null,
   "id": "e737d051",
   "metadata": {},
   "outputs": [],
   "source": []
  },
  {
   "cell_type": "code",
   "execution_count": null,
   "id": "21736fce",
   "metadata": {},
   "outputs": [],
   "source": []
  },
  {
   "cell_type": "markdown",
   "id": "929ab05b",
   "metadata": {},
   "source": [
    "-------"
   ]
  },
  {
   "cell_type": "markdown",
   "id": "87c3bfc2",
   "metadata": {},
   "source": [
    "## Getting Stockfish "
   ]
  },
  {
   "cell_type": "markdown",
   "id": "05f6bfc3",
   "metadata": {
    "heading_collapsed": true
   },
   "source": [
    "### Without chess module"
   ]
  },
  {
   "cell_type": "code",
   "execution_count": null,
   "id": "0e10f460",
   "metadata": {
    "ExecuteTime": {
     "end_time": "2022-10-31T23:45:39.347515Z",
     "start_time": "2022-10-31T23:45:39.325545Z"
    },
    "code_folding": [
     0
    ],
    "hidden": true
   },
   "outputs": [],
   "source": [
    "### Trying without using chess module:\n",
    "\n",
    "# # df with event info to separate rated and unrated\n",
    "\n",
    "# df_2022_2018_CvH_distinv = joblib.load(\n",
    "#     './data/preprocessed/2022_2018_CvH_distinv_withevent.pkl')\n",
    "\n",
    "\n",
    "\n",
    "# # starting with multi-pv, then do single-pv, \n",
    "\n",
    "# # Muninn has 8 cores => set threads to 4\n",
    "# # Vostro has ...\n",
    "\n",
    "# sf_ = Stockfish(path='./stockfish_15_win_x64_ssse/stockfish_15_x64_ssse.exe',\n",
    "#         depth=20,\n",
    "#         parameters={\n",
    "#             \"Threads\": 7,\n",
    "#             \"Hash\": 4096,\n",
    "#             \"MultiPV\": 1,\n",
    "#             \"Skill Level\": 20        \n",
    "            \n",
    "#             }\n",
    "#         )\n",
    "\n",
    "# # sf_ = Stockfish(path='./stockfish_15_win_x64_ssse/stockfish_15_x64_ssse.exe',\n",
    "# #         depth=20,\n",
    "# #         parameters={\n",
    "# #             \"Threads\": 1,\n",
    "# #             \"Hash\": 1024,\n",
    "# #             \"MultiPV\": 5,\n",
    "# #             \"Skill Level\": 20        \n",
    "            \n",
    "# #             }\n",
    "# #         )\n",
    "\n",
    "# # sf_ = Stockfish(path='./stockfish_15_win_x64_ssse/stockfish_15_x64_ssse.exe',\n",
    "# #         depth=5,\n",
    "# #         parameters={\n",
    "# #             \"Threads\": 4,\n",
    "# #             \"Hash\": 1024,\n",
    "# #             \"MultiPV\": 1,\n",
    "# #             \"Skill Level\": 20        \n",
    "            \n",
    "# #             }\n",
    "# #         )\n",
    "\n",
    "# # sf.update_engine_parameters()\n",
    "\n",
    "# # chess.engine.SimpleEngine.popen_uci()\n",
    "\n",
    "# eval_ = sf_.get_evaluation()\n",
    "# eval_\n",
    "\n",
    "# # eval_5 = sf_.get_evaluation()\n",
    "# # eval_5 # {'type': 'cp', 'value': 19}\n",
    "\n",
    "# best_move_timed = sf_.get_best_move_time()\n",
    "# best_move_timed\n",
    "# # Time for stockfish to determine best move in milliseconds (int)\n",
    "\n",
    "# # best_move_timed_5 = sf_.get_best_move_time()\n",
    "# # best_move_timed_5 # 'd2d4'\n",
    "# # # Time for stockfish to determine best move in milliseconds (int)\n",
    "\n",
    "# best_move_ = sf_.get_best_move()\n",
    "# best_move_\n",
    "\n",
    "# # best_move_5 = sf_.get_best_move()\n",
    "# # best_move_5 # 'c2c4'\n",
    "\n",
    "# top_moves_ = sf_.get_top_moves()\n",
    "# top_moves_\n",
    "\n",
    "# # top_moves_5 = sf_.get_top_moves()\n",
    "# # top_moves_5\n",
    "# # [{'Move': 'e2e4', 'Centipawn': 50, 'Mate': None},\n",
    "# #  {'Move': 'g1f3', 'Centipawn': 50, 'Mate': None},\n",
    "# #  {'Move': 'd2d4', 'Centipawn': 45, 'Mate': None},\n",
    "# #  {'Move': 'c2c4', 'Centipawn': 34, 'Mate': None},\n",
    "# #  {'Move': 'g2g3', 'Centipawn': 21, 'Mate': None}]\n",
    "\n",
    "# # sf_.get_fen_position()\n",
    "# # sf_.get_parameters()\n",
    "# # sf_.info;\n",
    "\n",
    "# display(type(eval_)) # dict\n",
    "# display(type(best_move_timed)) # str\n",
    "# display(type(best_move_)) # str\n",
    "# display(type(top_moves_)) # list\n",
    "\n",
    "\n",
    "\n",
    "\n",
    "\n",
    "# ----\n",
    "\n",
    "# # sf_pv1 = Stockfish(path='./stockfish_15_win_x64_ssse/stockfish_15_x64_ssse.exe',\n",
    "# #         depth=20,\n",
    "# #         parameters={\n",
    "# #             \"Threads\": 4,\n",
    "# #             \"Hash\": 4096,\n",
    "# #             \"MultiPV\": 1,\n",
    "# #             \"Skill Level\": 20        \n",
    "            \n",
    "# #             }\n",
    "# #         )\n",
    "\n",
    "# # sf_pv1.get_best_move()\n",
    "\n",
    "# # sf_pv1.get_top_moves()\n",
    "\n",
    "# # sf_pv1.get_evaluation()\n",
    "\n",
    "# # sf_pv1.info;\n",
    "\n",
    "# # sf_pv1.make_moves_from_current_position()\n",
    "\n",
    "# # As far as I know here on lichess it is pure mathematics:\n",
    "\n",
    "# # inacc. = 0.5-1 deviation (EngineProposal-Your move)\n",
    "# # mistake = 1-2 deviation\n",
    "# # blunder > 2 deviation\n",
    "\n",
    "# # (you'll find the exact values somewhere in the forum or the FAQ)\n",
    "\n",
    "# # sf_pv1.\n",
    "\n",
    "# -----\n",
    "\n",
    "# sample = joblib.load('./data/raw/pickles/2018_CvH.pkl')\n",
    "\n",
    "# sample.head(1)\n",
    "\n",
    "# zipped_games_moves = zip(sample.moves)\n",
    "\n",
    "# next(zipped_games_moves)[0][0]\n",
    "\n",
    "# type(next(zipped_games_moves)[0]) # list\n",
    "\n",
    "# next(zipped_games_moves)[0]\n",
    "\n",
    "# next_game = next(zipped_games_moves)[0]\n",
    "\n",
    "# next_game\n",
    "\n",
    "# next_game[0]\n",
    "\n",
    "# sf_.set_position()\n",
    "\n",
    "# board=chess.Board()\n",
    "\n",
    "# test__ = board.push_san(next_game[0])\n",
    "\n",
    "# test__.uci()\n",
    "\n",
    "# sf_.make_moves_from_current_position([test__.uci()])\n",
    "\n",
    "# sf_.get_fen_position()\n",
    "\n",
    "# top_moves_ = sf_.get_top_moves()\n",
    "# top_moves_\n",
    "\n",
    "\n",
    "\n",
    "# # For each game, \n",
    "\n",
    "# # # For each position,\n",
    "\n",
    "# # # # Get the best 5 moves as a list, append to a list \n",
    "\n",
    "# # # Loop for moves in a single game\n",
    "# # evaluations_ = []\n",
    "# # sf_.set_position()\n",
    "# # board=chess.Board()\n",
    "# # for move in next_game:\n",
    "# #     evalution_ = sf_.get_top_moves()\n",
    "# #     move_ = board.push_san(move)\n",
    "# #     sf_.make_moves_from_current_position([move_])\n",
    "    \n",
    "# #     evaluations_.append(evalution_)\n",
    "    \n",
    "    \n",
    "\n",
    "# def get_evaluations(game):\n",
    "#     # Loop for moves in a single game\n",
    "#     evaluations_ = []\n",
    "#     sf_.set_position()\n",
    "#     board=chess.Board()\n",
    "#     for move in game:\n",
    "#         evalution_ = sf_.get_top_moves()\n",
    "#         move_ = board.push_san(move)\n",
    "#         sf_.make_moves_from_current_position([move_])\n",
    "\n",
    "#         evaluations_.append(evalution_)\n",
    "#     return evaluations_\n",
    "    \n",
    "    \n",
    "\n",
    "# evaluations_test = get_evaluations(next_game)\n",
    "\n",
    "# evaluations_test;\n",
    "\n",
    "# # type(evaluations_test) # list\n",
    "\n",
    "# # len(evaluations_test) # 19\n",
    "\n",
    "# # len(next_game) # 19\n",
    "\n",
    "# # sys.getsizeof(evaluations_) # 248\n",
    "\n",
    "# # sys.getsizeof(evaluations_test) # 248\n",
    "\n",
    "# # sys.getsizeof(next_game) # 216\n",
    "\n",
    "# # sys.getsizeof(df_2022_2018_CvH_distinv) # 290903604\n",
    "\n",
    "# # sys.getsizeof(df_2022_2018_CvH_distinv.moves) # 106755928\n",
    "\n",
    "# # sys.getsizeof(np.uint8(0)) # 25\n",
    "\n",
    "# # sys.getsizeof(np.int8(0)) # 25\n",
    "\n",
    "# # sys.getsizeof(1) # 25\n",
    "\n",
    "# testing = [get_evaluations(game[0]) for game in zip(sample.iloc[0:10].moves)]\n",
    "\n",
    "# len(testing) # 10\n",
    "\n",
    "# sys.getsizeof(testing) #184\n",
    "\n",
    "# sys.getsizeof(testing[0])\n",
    "\n",
    "\n",
    "\n",
    "# zipped_games_moves = zip(sample.moves)\n",
    "\n",
    "# next(zipped_games_moves)[0]\n",
    "\n",
    "\n",
    "\n",
    "# -----\n",
    "\n",
    "# sf_ = Stockfish(path='./stockfish_15_win_x64_ssse/stockfish_15_x64_ssse.exe',\n",
    "#         depth=20,\n",
    "#         parameters={\n",
    "#             \"Threads\": 7,\n",
    "#             \"Hash\": 4096,\n",
    "#             \"MultiPV\": 1,\n",
    "#             \"Skill Level\": 20        \n",
    "            \n",
    "#             }\n",
    "#         )\n",
    "\n",
    "# def get_evaluations(game):\n",
    "#     # Loop for moves in a single game\n",
    "#     evaluations_ = []\n",
    "#     sf_.set_position()\n",
    "#     board=chess.Board()\n",
    "#     for move in game:\n",
    "#         evalution_ = sf_.get_top_moves()\n",
    "#         move_ = board.push_san(move)\n",
    "#         sf_.make_moves_from_current_position([move_])\n",
    "\n",
    "#         evaluations_.append(evalution_)\n",
    "#     return evaluations_\n",
    "    \n",
    "    \n",
    "\n",
    "# def get_all_evaluations(df):\n",
    "#     list_of_all_evaluations = [\n",
    "#         get_evaluations(game[0]) for game in zip(df.moves)\n",
    "#     ]\n",
    "#     return list_of_all_evaluations\n",
    "\n",
    "# # sys.getsizeof(df_2022_2018_CvH_distinv) # 290903604\n",
    "\n",
    "# # sys.getsizeof(df_2022_2018_CvH_distinv.moves) # 106755928\n",
    "\n",
    "\n",
    "\n",
    "\n",
    "\n",
    "# df_2021_2017_titled_distinv = joblib.load(\n",
    "#     './data/preprocessed/2021_2017_titled_distinv.pkl')\n",
    "\n",
    "# # sys.getsizeof(df_2021_2017_titled_distinv) # 163583172\n",
    "\n",
    "# list_2021_2017_titled_distinv_evaluations = get_all_evaluations(df_2021_2017_titled_distinv)\n",
    "\n",
    "# joblib.dump(list_2021_2017_titled_distinv_evaluations,\n",
    "#            '~/Desktop/data/capstone/preprocessed/titled_evaluations.pkl',\n",
    "#            compress=9)\n",
    "\n",
    "\n",
    "\n",
    "\n",
    "\n",
    "# df_2022_2018_CvH_distinv = joblib.load('./data/preprocessed/2022_2018_CvH_distinv_withevent.pkl')\n",
    "\n",
    "# # sys.getsizeof(df_2022_2018_HvH) # 138398944\n",
    "\n",
    "# list_df_2022_2018_CvH_distinv_evaluations = get_all_evaluations(df_2022_2018_CvH_distinv)\n",
    "\n",
    "# joblib.dump(list_df_2022_2018_CvH_distinv_evaluations,\n",
    "#            '~/Desktop/data/capstone/preprocessed/2022_2018_CvH_distinv_evaluations.pkl',\n",
    "#            compress=9)\n",
    "\n",
    "# ----\n",
    "\n",
    "# nums=[1,2,3]\n",
    "# i_nums=iter(nums)\n",
    "\n",
    "# while True:\n",
    "#     try:\n",
    "#         item=next(i_nums)\n",
    "#         print(item)\n",
    "#     except StopIteration:\n",
    "#         break\n",
    "\n",
    "\n",
    "\n",
    "\n",
    "\n"
   ]
  },
  {
   "cell_type": "markdown",
   "id": "eb8a87a2",
   "metadata": {
    "hidden": true
   },
   "source": [
    "----"
   ]
  },
  {
   "cell_type": "markdown",
   "id": "03ae9378",
   "metadata": {
    "heading_collapsed": true
   },
   "source": [
    "### With chess module"
   ]
  },
  {
   "cell_type": "code",
   "execution_count": null,
   "id": "6987416d",
   "metadata": {
    "ExecuteTime": {
     "end_time": "2022-11-03T13:11:43.115396Z",
     "start_time": "2022-11-03T13:11:43.099396Z"
    },
    "hidden": true
   },
   "outputs": [],
   "source": [
    "# path_Muninn='C:/Users/Emanuel/Desktop/data/capstone/preprocessed/evaluations/log.txt'\n",
    "# path_Vostro='C:/Users/MaNiL/Desktop/data/capstone/preprocessed/evaluations/log.txt'"
   ]
  },
  {
   "cell_type": "code",
   "execution_count": null,
   "id": "b5f7b948",
   "metadata": {
    "ExecuteTime": {
     "end_time": "2022-11-03T13:11:43.570265Z",
     "start_time": "2022-11-03T13:11:43.553270Z"
    },
    "code_folding": [
     0
    ],
    "hidden": true
   },
   "outputs": [],
   "source": [
    "# ## Muninn\n",
    "\n",
    "# engine = chess.engine.SimpleEngine.popen_uci('./stockfish_15_win_x64_ssse/stockfish_15_x64_ssse.exe')\n",
    "\n",
    "# engine.configure({\"Hash\": 4096})\n",
    "\n",
    "# engine.configure({\"Threads\": 8})\n",
    "\n",
    "# # engine.configure({\"MultiPV\": 5})\n",
    "\n",
    "# engine.configure({\"Skill level\": 20})\n",
    "\n",
    "# engine.configure({\"Debug Log File\": \\\n",
    "#                   f'{path_Muninn}'})\n",
    "\n",
    "# engine.configure({\"Move Overhead\": 100})\n",
    "\n",
    "# engine.configure({\"Slow Mover\": 20})\n",
    "\n",
    "# limit = chess.engine.Limit(time=0.1, depth=25)"
   ]
  },
  {
   "cell_type": "code",
   "execution_count": null,
   "id": "7832edab",
   "metadata": {
    "ExecuteTime": {
     "end_time": "2022-11-03T13:11:44.087238Z",
     "start_time": "2022-11-03T13:11:43.984198Z"
    },
    "hidden": true
   },
   "outputs": [],
   "source": [
    "# ## Vostro\n",
    "\n",
    "# engine = chess.engine.SimpleEngine.popen_uci('./stockfish_15_win_x64_ssse/stockfish_15_x64_ssse.exe')\n",
    "\n",
    "# engine.configure({\"Hash\": 1024})\n",
    "\n",
    "# engine.configure({\"Threads\": 14})\n",
    "\n",
    "# # engine.configure({\"MultiPV\": 5})\n",
    "\n",
    "# engine.configure({\"Skill level\": 20})\n",
    "\n",
    "# engine.configure({\"Debug Log File\": \\\n",
    "#                   f'{path_Vostro}'})\n",
    "\n",
    "# engine.configure({\"Move Overhead\": 100})\n",
    "\n",
    "# engine.configure({\"Slow Mover\": 20})\n",
    "\n",
    "# limit = chess.engine.Limit(time=0.1, depth=25)"
   ]
  },
  {
   "cell_type": "code",
   "execution_count": null,
   "id": "42ebf2e5",
   "metadata": {
    "ExecuteTime": {
     "end_time": "2022-11-03T13:11:48.750996Z",
     "start_time": "2022-11-03T13:11:48.746988Z"
    },
    "code_folding": [
     0
    ],
    "hidden": true
   },
   "outputs": [],
   "source": [
    "# def evaluate_game(game):\n",
    "#     # Loop for moves in a single game\n",
    "#     evaluations_ = []\n",
    "#     board=chess.Board()\n",
    "#     for move in game:\n",
    "#         evalution_ = engine.analyse(board, limit, multipv='5')\n",
    "#         board.push_san(move)\n",
    "\n",
    "#         evaluations_.append(evalution_)\n",
    "    \n",
    "    \n",
    "#     return evaluations_"
   ]
  },
  {
   "cell_type": "code",
   "execution_count": null,
   "id": "9be397f8",
   "metadata": {
    "ExecuteTime": {
     "end_time": "2022-11-01T22:05:19.712541Z",
     "start_time": "2022-11-01T22:05:19.699576Z"
    },
    "code_folding": [
     0
    ],
    "hidden": true
   },
   "outputs": [],
   "source": [
    "# def evaluate_games(df, save_rate=1000, path='./'): # risky to use function on many games in case something goes wrong\n",
    "#     list_of_evaluations = []\n",
    "#     game_count = 0\n",
    "    \n",
    "#     for game in zip(df.moves):    \n",
    "#         try:\n",
    "#             game_eval_ = evaluate_game(game[0])\n",
    "#             list_of_evaluations.append(game_eval_)\n",
    "\n",
    "#             game_count+=1\n",
    "\n",
    "#             if game_count%save_rate==0:\n",
    "#                 print(f'{game_count} games completed\\nSaving now...')\n",
    "#                 joblib.dump(list_of_evaluations, \n",
    "#                             f'{path}{game_count}_.pkl',\n",
    "#                            compress=3)\n",
    "#                 t=time.localtime()[0:6]\n",
    "#                 print(f'Saved at {t[0]}/{t[1]}/{t[2]} {t[3]}:{t[4]}:{t[5]}')\n",
    "#             elif game_count%100==0:\n",
    "#                 print(f'{game_count}')\n",
    "#                 t=time.localtime()[0:6]\n",
    "#                 print(f'At {t[0]}/{t[1]}/{t[2]} {t[3]}:{t[4]}:{t[5]}')\n",
    "#             else:\n",
    "#                 pass\n",
    "    \n",
    "#         except KeyboardInterrupt:\n",
    "#             print('Keyboard Interrupt')\n",
    "#             print(f'{game_count}')\n",
    "#             return list_of_evaluations\n",
    "# #             break\n",
    "    \n",
    "#         except:\n",
    "#             list_of_evaluations.append(['Error occured'])\n",
    "\n",
    "#             game_count+=1        \n",
    "\n",
    "#             print(f'Error occured on game {game_count}')\n",
    "        \n",
    "#     return list_of_evaluations"
   ]
  },
  {
   "cell_type": "code",
   "execution_count": null,
   "id": "f85c6e35",
   "metadata": {
    "ExecuteTime": {
     "end_time": "2022-11-02T01:38:01.310034Z",
     "start_time": "2022-11-02T01:38:01.293147Z"
    },
    "code_folding": [],
    "hidden": true,
    "scrolled": true
   },
   "outputs": [],
   "source": [
    "# ## Evaluating multiple games, starting at 0, with try-except\n",
    "# df_=\n",
    "\n",
    "# list_of_evaluations = []\n",
    "# game_count = 0\n",
    "# # path='C:/Users/Emanuel/Desktop/data/capstone/preprocessed/evaluations/'\n",
    "# path='C:/Users/MaNiL/Desktop/data/capstone/preprocessed/evaluations/log.txt'\n",
    "# for game in zip(df_.moves):\n",
    "#     try:\n",
    "#         game_eval_ = evaluate_game(game[0])\n",
    "#         list_of_evaluations.append(game_eval_)\n",
    "\n",
    "#         game_count+=1\n",
    "\n",
    "#         if game_count%1000==0:\n",
    "#             print(f'{game_count} games completed\\nSaving now...')\n",
    "#             joblib.dump(list_of_evaluations, \n",
    "#                         f'{path}{game_count}_.pkl',\n",
    "#                        compress=3)\n",
    "#             t=time.localtime()[0:6]\n",
    "#             print(f'Saved at {t[0]}/{t[1]}/{t[2]} {t[3]}:{t[4]}:{t[5]}')\n",
    "#         elif game_count%100==0:\n",
    "#             print(f'{game_count}')\n",
    "#             t=time.localtime()[0:6]\n",
    "#             print(f'At {t[0]}/{t[1]}/{t[2]} {t[3]}:{t[4]}:{t[5]}')\n",
    "#         else:\n",
    "#             pass\n",
    "        \n",
    "#     except KeyboardInterrupt:\n",
    "#         print('Keyboard Interrupt')\n",
    "#         print(f'{game_count}')\n",
    "#         break\n",
    "        \n",
    "#     except:\n",
    "#         list_of_evaluations.append(['Error occured'])\n",
    "                \n",
    "#         game_count+=1\n",
    "        \n",
    "#         print(f'Error occured on game {game_count}')"
   ]
  },
  {
   "cell_type": "markdown",
   "id": "19f03797",
   "metadata": {
    "hidden": true
   },
   "source": [
    "-------"
   ]
  },
  {
   "cell_type": "markdown",
   "id": "adbceb2e",
   "metadata": {
    "hidden": true
   },
   "source": [
    "Testing for comparison between Muninn and Vostro"
   ]
  },
  {
   "cell_type": "code",
   "execution_count": null,
   "id": "739f3287",
   "metadata": {
    "ExecuteTime": {
     "end_time": "2022-11-02T11:34:05.281806Z",
     "start_time": "2022-11-02T11:34:05.253767Z"
    },
    "hidden": true
   },
   "outputs": [],
   "source": [
    "# titled test"
   ]
  },
  {
   "cell_type": "code",
   "execution_count": null,
   "id": "af8a892b",
   "metadata": {
    "ExecuteTime": {
     "end_time": "2022-11-03T13:33:59.707430Z",
     "start_time": "2022-11-03T13:12:00.564116Z"
    },
    "hidden": true
   },
   "outputs": [],
   "source": [
    "# df_for_titled=joblib.load('./data/preprocessed/evaluations/titled/2021_2017_titled_distinv_allmoves.pkl')\n",
    "# comparison_list=joblib.load('./data/preprocessed/evaluations/titled/6000_.pkl')"
   ]
  },
  {
   "cell_type": "code",
   "execution_count": null,
   "id": "1190bb13",
   "metadata": {
    "ExecuteTime": {
     "end_time": "2022-11-03T13:39:10.214895Z",
     "start_time": "2022-11-03T13:33:59.746653Z"
    },
    "code_folding": [],
    "hidden": true,
    "scrolled": true
   },
   "outputs": [],
   "source": [
    "# ## Evaluating multiple games, starting at 0, with try-except\n",
    "# df_=df_for_titled\n",
    "\n",
    "# list_of_evaluations = []\n",
    "# game_count = 0\n",
    "# # path='C:/Users/Emanuel/Desktop/data/capstone/preprocessed/evaluations/'\n",
    "# path='C:/Users/MaNiL/Desktop/data/capstone/preprocessed/evaluations/'\n",
    "# for game in zip(df_.moves):\n",
    "#     try:\n",
    "#         game_eval_ = evaluate_game(game[0])\n",
    "#         list_of_evaluations.append(game_eval_)\n",
    "\n",
    "#         game_count+=1\n",
    "\n",
    "#         if game_count%1000==0:\n",
    "#             print(f'{game_count} games completed\\nSaving now...')\n",
    "#             joblib.dump(list_of_evaluations, \n",
    "#                         f'{path}{game_count}_.pkl',\n",
    "#                        compress=3)\n",
    "#             t=time.localtime()[0:6]\n",
    "#             print(f'Saved at {t[0]}/{t[1]}/{t[2]} {t[3]}:{t[4]}:{t[5]}')\n",
    "#         elif game_count%100==0:\n",
    "#             print(f'{game_count}')\n",
    "#             t=time.localtime()[0:6]\n",
    "#             print(f'At {t[0]}/{t[1]}/{t[2]} {t[3]}:{t[4]}:{t[5]}')\n",
    "#         else:\n",
    "#             pass\n",
    "        \n",
    "#     except KeyboardInterrupt:\n",
    "#         print('Keyboard Interrupt')\n",
    "#         print(f'{game_count}')\n",
    "#         break\n",
    "        \n",
    "#     except:\n",
    "#         list_of_evaluations.append(['Error occured'])\n",
    "                \n",
    "#         game_count+=1\n",
    "        \n",
    "#         print(f'Error occured on game {game_count}')"
   ]
  },
  {
   "cell_type": "code",
   "execution_count": null,
   "id": "b8702dda",
   "metadata": {
    "ExecuteTime": {
     "end_time": "2022-11-03T13:39:32.846082Z",
     "start_time": "2022-11-03T13:39:32.839112Z"
    },
    "hidden": true
   },
   "outputs": [],
   "source": [
    "# vostro_titled_test_list = list_of_evaluations.copy()"
   ]
  },
  {
   "cell_type": "code",
   "execution_count": null,
   "id": "aa659004",
   "metadata": {
    "ExecuteTime": {
     "end_time": "2022-11-03T13:42:07.773346Z",
     "start_time": "2022-11-03T13:42:07.763371Z"
    },
    "hidden": true
   },
   "outputs": [],
   "source": [
    "# joblib.dump(vostro_titled_test_list,\n",
    "#            f'./data/preprocessed/evaluations/titled/vostro_titled_test_list.pkl',\n",
    "#            compress=9)"
   ]
  },
  {
   "cell_type": "markdown",
   "id": "247763f9",
   "metadata": {
    "hidden": true
   },
   "source": [
    "-------"
   ]
  },
  {
   "cell_type": "markdown",
   "id": "0370f5f3",
   "metadata": {
    "heading_collapsed": true
   },
   "source": [
    "## Functions to write:"
   ]
  },
  {
   "cell_type": "code",
   "execution_count": null,
   "id": "7f90cb5c",
   "metadata": {
    "ExecuteTime": {
     "end_time": "2022-10-20T21:37:07.070307Z",
     "start_time": "2022-10-20T21:37:07.056345Z"
    },
    "hidden": true
   },
   "outputs": [],
   "source": [
    "# Write function that compares ply count to "
   ]
  },
  {
   "cell_type": "code",
   "execution_count": null,
   "id": "1b3330e4",
   "metadata": {
    "hidden": true
   },
   "outputs": [],
   "source": []
  },
  {
   "cell_type": "code",
   "execution_count": null,
   "id": "c2271f5a",
   "metadata": {
    "hidden": true
   },
   "outputs": [],
   "source": []
  },
  {
   "cell_type": "code",
   "execution_count": null,
   "id": "5e12516a",
   "metadata": {
    "ExecuteTime": {
     "end_time": "2022-10-20T21:37:07.086265Z",
     "start_time": "2022-10-20T21:37:07.071305Z"
    },
    "hidden": true
   },
   "outputs": [],
   "source": [
    "# Write function to check that the length of emt matches ply"
   ]
  },
  {
   "cell_type": "code",
   "execution_count": null,
   "id": "d5693c9f",
   "metadata": {
    "hidden": true
   },
   "outputs": [],
   "source": []
  },
  {
   "cell_type": "code",
   "execution_count": null,
   "id": "e769c509",
   "metadata": {
    "hidden": true
   },
   "outputs": [],
   "source": []
  },
  {
   "cell_type": "code",
   "execution_count": null,
   "id": "7a1ddd29",
   "metadata": {
    "ExecuteTime": {
     "end_time": "2022-10-20T21:37:07.102222Z",
     "start_time": "2022-10-20T21:37:07.087262Z"
    },
    "hidden": true
   },
   "outputs": [],
   "source": [
    "# Write function that checks all the emt have 'emt' in them and not 'clk'"
   ]
  },
  {
   "cell_type": "code",
   "execution_count": null,
   "id": "18e0303f",
   "metadata": {
    "hidden": true
   },
   "outputs": [],
   "source": []
  },
  {
   "cell_type": "code",
   "execution_count": null,
   "id": "a916266a",
   "metadata": {
    "hidden": true
   },
   "outputs": [],
   "source": []
  },
  {
   "cell_type": "code",
   "execution_count": null,
   "id": "b4783d79",
   "metadata": {
    "ExecuteTime": {
     "end_time": "2022-10-20T21:37:07.118180Z",
     "start_time": "2022-10-20T21:37:07.103220Z"
    },
    "hidden": true
   },
   "outputs": [],
   "source": [
    "# Write function to check that none of the emt values are missing"
   ]
  },
  {
   "cell_type": "code",
   "execution_count": null,
   "id": "d9abd753",
   "metadata": {
    "hidden": true
   },
   "outputs": [],
   "source": []
  },
  {
   "cell_type": "code",
   "execution_count": null,
   "id": "f265cb09",
   "metadata": {
    "hidden": true
   },
   "outputs": [],
   "source": []
  },
  {
   "cell_type": "code",
   "execution_count": null,
   "id": "973c2493",
   "metadata": {
    "hidden": true
   },
   "outputs": [],
   "source": []
  },
  {
   "cell_type": "markdown",
   "id": "553c4e3c",
   "metadata": {
    "hidden": true
   },
   "source": [
    "-----"
   ]
  },
  {
   "cell_type": "markdown",
   "id": "557e3f74",
   "metadata": {
    "heading_collapsed": true
   },
   "source": [
    "## Modeling"
   ]
  },
  {
   "cell_type": "code",
   "execution_count": null,
   "id": "e7c63e56",
   "metadata": {
    "hidden": true
   },
   "outputs": [],
   "source": []
  },
  {
   "cell_type": "markdown",
   "id": "7b82fd8c",
   "metadata": {
    "hidden": true
   },
   "source": [
    "------"
   ]
  },
  {
   "cell_type": "markdown",
   "id": "7362299b",
   "metadata": {
    "hidden": true
   },
   "source": [
    "- For now, as I don't have engine evaluations, how do I go about making a classification when it isn't immediately binary i.e. 3 options: white cheating, black cheating, no cheating. \n",
    "\n",
    "- Do all the games start from the starting position?\n",
    "- Does the game being an otb or online game influence how likely a win/draw is? \n",
    "- Is there any noticeable difference in patterns across different elo categories?\n",
    "- What is the distribution of elo? Across humans and computers? How do I take into account the same player and that their elo is changing over time? Do I treat each as independent? \n",
    "- What is the distribution of game length? Does it vary by elo? (Probably yes ?)\n",
    "- What is the distribution of computer-ELO? Are there bots that are low elo? Could this be because people are able to 'set' the strength of the computer opponent? If so this could mess up predictions, think about whether or not they should be removed, maybe they can be kept as 'test-cases' of how well we can predict 'cheaters' who cheat at low-elo."
   ]
  },
  {
   "cell_type": "markdown",
   "id": "0ec18c78",
   "metadata": {
    "heading_collapsed": true
   },
   "source": [
    "# Considerations:"
   ]
  },
  {
   "cell_type": "markdown",
   "id": "91035b30",
   "metadata": {
    "hidden": true
   },
   "source": [
    "Using ELO difference/metric as a feature in predicting expected outcome of game.\n",
    "- Using opening played as a feature in predicting if cheater or not.\n",
    "- Use an engine to evaluate sequences of chess moves played in a game to learn average centipawn loss/gain, the centipawn loss/gain for each move, the number of innacuracies, mistakes, blunders. \n",
    "- How many opening moves to eliminate?\n",
    "\n",
    "\n",
    "\n",
    "- Lichess games offer "
   ]
  },
  {
   "cell_type": "code",
   "execution_count": null,
   "id": "7d52d6e8",
   "metadata": {
    "hidden": true
   },
   "outputs": [],
   "source": []
  },
  {
   "cell_type": "markdown",
   "id": "f7c98a32",
   "metadata": {
    "heading_collapsed": true
   },
   "source": [
    "# Notes from Data Skeptic:"
   ]
  },
  {
   "cell_type": "markdown",
   "id": "b385bcfb",
   "metadata": {
    "hidden": true
   },
   "source": [
    "- Humans tend to make little blunders all the time \"oh I didn't notice this idea, luckily my position still holds\".\n",
    "- Computers tend to keep their options open, X was able to demonstrate that humans, if they see an attack, will try to play it and force an early crisis in the game.\n",
    "- In aggregates of 100-200 moves, X believes you can then determine with confidence if someone was cheating.\n",
    "- \"Distance metric (of two probabilities?)\" : \"You can't just say deterministically what is the computer's move. It depends on many variables such as the depth of search, [pv or multi-pv], the identity of the computer program, even how much hash memory you've given it. There's a variation there (i.e. a probability distribution). The human being is a distribution, often fallable distribution, of options.\"\n",
    "- Originally going to use 'fidelity' which is a distance measure between distributions, which often comes up in computational physics. A former student recommended the 'Yensen-Shannon divergence (?)' which would solve a problem of 'Koblak-Leibler (?)' divergence of being too hair trigger in the treatment of blunders but it lacked other properties which X needed. \n",
    "- Wound up doing something 'highly elementary': maps given analysis of positions in a game, and parameters denoting the strength and particulars of the human player, he maps each chess move to probabilities, as if he were painting that move on the faces of many sided dice. And then he treats the chess position as a roll of those dice, so for this player, there's a 49% chance of selecting Ng5, 27% for Qg4, and so on down the line. After that, he can tap into the very simple stats theory of Bernoulli distributions (rolls of dice, flips of coins), and not only project the expected mean number of agreements, but also the projected variance, from the Bernoulli distribution theory, and thereby project confidence intervals, and since he's estimating a sample mean, the CLT comes into play, so he's working with a normal distribution and can use a z-score framework for his statistical projections. \n",
    "- If there is a clear stand-out move (e.g. only one move that keeps you alive in the position) then not only will the computer find it, it is highly likely that the good human player will find it. Whereas, even if you have just 10 moves in a game, where each move there were 4 highly reasonable options, which X's model would assign probabilities say between 20-25% each, and you consistently select the option that shows as preferred in X's computer test (...something about Modulo and distribution), if you match the computer's preferred move for 10 or more moves in a row, that a mllion to one probability.\n",
    "- Two modes of chess analysis with comp: multi-pv mode where comp has equal depth of search to all reasonable options in a position, single-pv is regular playing mode where computer focuses its resources on the move it thinks best and one or two competing moves. A lot of the art of practical computers playig against each others is how quickly can they prune away the sub-optimal moves. For his model, he needs to know the values of all the reasonalbe moves that the player might be considering, and the general landscape or shape of the position (either forcing or lots of options etc.).\n",
    "- For the training set, he has 10,000 games of multi-pv data, he took those games wehre each player is at one of the century points in the chess rating; for each of the levels above 2000 (Expert) he exhaustively chose games where both players were within 10 or so of those century points, run those games and he has his training data for yay-rated players. He is then therefor able to relate his two main model parameters to strength on that elo scale. Supplementing this he has a vast amount of single-pv (basically every top rated game in the recorded history of chess - over 200,000 games total). \n",
    "- He also routinely screens about 80,000 games out of the world's top events every year (codified as screening mode - he can get a first look at the play and relate it to the distributions of tens of thousands of performances of players at all ranks to see how much of an apparent outlier it is. \n",
    "- About a surprise winner: when he ran the screening test the player was on the edge of the red zone, but when he ran the full test based on the training data (multi-pv mode) it gave a z-score under 1.5 (the minimum was 2 for any kind of statistical significance) meaning it was unlikely that the player was cheaitng (his GM opponent was over-eager in trying to win and ended up losing). \n",
    "- He talks a little about how the arbiters, given their chess domain knowledge, likely made the right decision as they would have been able to see the situation on the ground (i.e. seen the critical positions, how the GM was winning, then made a mistake etc.). \n",
    "- Up until about 2+ years ago, the highest z-score he got in cases he was involved in was about 3.5, which corresponds to 4,300-to-1 odds against a Null hypothesis. Although very important, what it really means is that's the incidence of such a deviation occuring naturally among non-cheating players. Every week there are more than 1000 players taking part in tournaments around the globe, significant enough tto be aggregated on 'the week in chess'/'the weekend chess' by Mike 'Crowder'(?). You have to be aware of how your sample was selected or if there were any other factors which brought it to your attention apart from people going over the games with computers and noting a high correspondence. He believes that there has to be independent evidence. \n",
    "- [Section talking about comparing the quality of moves in a player's games in a tournament where there were known to be transmissions and expected-transmissionless games and how the differnce in quality of moves was about 3200 compared to 2550, so this was another indicator that the player was cheating.]\n",
    "- Up until Jan 2013 he did not get any z-scores above 3.5, but then suddenly z-scores above 5 (even closer to 6) ..."
   ]
  },
  {
   "cell_type": "markdown",
   "id": "18961b17",
   "metadata": {},
   "source": [
    "# Appendix:"
   ]
  },
  {
   "cell_type": "markdown",
   "id": "07e00688",
   "metadata": {
    "heading_collapsed": true
   },
   "source": [
    "## Figuring out how to get emt:"
   ]
  },
  {
   "cell_type": "code",
   "execution_count": null,
   "id": "848023ef",
   "metadata": {
    "ExecuteTime": {
     "end_time": "2022-10-20T21:37:07.559883Z",
     "start_time": "2022-10-20T21:37:07.559883Z"
    },
    "hidden": true
   },
   "outputs": [],
   "source": [
    "pgn = open(\"data/raw_data/2022/ficsgamesdb_search_262781.pgn\")\n",
    "game = chess.pgn.read_game(pgn)"
   ]
  },
  {
   "cell_type": "code",
   "execution_count": null,
   "id": "916cecda",
   "metadata": {
    "ExecuteTime": {
     "end_time": "2022-10-20T21:37:07.560880Z",
     "start_time": "2022-10-20T21:37:07.560880Z"
    },
    "hidden": true
   },
   "outputs": [],
   "source": [
    "print(game)"
   ]
  },
  {
   "cell_type": "markdown",
   "id": "cec207a2",
   "metadata": {
    "hidden": true
   },
   "source": [
    "%emt refers to the time used on a move. %clk refers to actual clock time. "
   ]
  },
  {
   "cell_type": "markdown",
   "id": "732adc15",
   "metadata": {
    "hidden": true
   },
   "source": [
    "From the pgn we can see time spent per move. "
   ]
  },
  {
   "cell_type": "code",
   "execution_count": null,
   "id": "a2929055",
   "metadata": {
    "ExecuteTime": {
     "end_time": "2022-10-20T21:37:07.561877Z",
     "start_time": "2022-10-20T21:37:07.561877Z"
    },
    "hidden": true
   },
   "outputs": [],
   "source": [
    "type(game)"
   ]
  },
  {
   "cell_type": "code",
   "execution_count": null,
   "id": "a6d5c4ef",
   "metadata": {
    "ExecuteTime": {
     "end_time": "2022-10-20T21:37:07.563871Z",
     "start_time": "2022-10-20T21:37:07.563871Z"
    },
    "hidden": true
   },
   "outputs": [],
   "source": [
    "game.mainline()"
   ]
  },
  {
   "cell_type": "code",
   "execution_count": null,
   "id": "c6edeaa9",
   "metadata": {
    "ExecuteTime": {
     "end_time": "2022-10-20T21:37:07.564868Z",
     "start_time": "2022-10-20T21:37:07.564868Z"
    },
    "hidden": true
   },
   "outputs": [],
   "source": [
    "game.board().san(game.variation(0).move)"
   ]
  },
  {
   "cell_type": "code",
   "execution_count": null,
   "id": "dd3985dd",
   "metadata": {
    "ExecuteTime": {
     "end_time": "2022-10-20T21:37:07.565865Z",
     "start_time": "2022-10-20T21:37:07.565865Z"
    },
    "hidden": true
   },
   "outputs": [],
   "source": [
    "game.headers"
   ]
  },
  {
   "cell_type": "code",
   "execution_count": null,
   "id": "6bcdf858",
   "metadata": {
    "ExecuteTime": {
     "end_time": "2022-10-20T21:37:07.566891Z",
     "start_time": "2022-10-20T21:37:07.566891Z"
    },
    "hidden": true
   },
   "outputs": [],
   "source": [
    "game.mainline()"
   ]
  },
  {
   "cell_type": "code",
   "execution_count": null,
   "id": "967a106f",
   "metadata": {
    "ExecuteTime": {
     "end_time": "2022-10-20T21:37:07.567860Z",
     "start_time": "2022-10-20T21:37:07.567860Z"
    },
    "hidden": true
   },
   "outputs": [],
   "source": [
    "for node in game.mainline():\n",
    "    print(node.move, node.emt(), node.clock())\n",
    "    print(node.comment)"
   ]
  },
  {
   "cell_type": "code",
   "execution_count": null,
   "id": "07074a9c",
   "metadata": {
    "ExecuteTime": {
     "end_time": "2022-10-20T21:37:07.568858Z",
     "start_time": "2022-10-20T21:37:07.568858Z"
    },
    "hidden": true
   },
   "outputs": [],
   "source": [
    "help(game)"
   ]
  },
  {
   "cell_type": "code",
   "execution_count": null,
   "id": "4c8d9795",
   "metadata": {
    "ExecuteTime": {
     "end_time": "2022-10-20T21:37:07.569856Z",
     "start_time": "2022-10-20T21:37:07.569856Z"
    },
    "hidden": true
   },
   "outputs": [],
   "source": [
    "# seems like the emt is in the game.comment"
   ]
  },
  {
   "cell_type": "code",
   "execution_count": null,
   "id": "2d9c1ca7",
   "metadata": {
    "ExecuteTime": {
     "end_time": "2022-10-20T21:37:07.570853Z",
     "start_time": "2022-10-20T21:37:07.570853Z"
    },
    "hidden": true
   },
   "outputs": [],
   "source": [
    "game.variation(0).comment"
   ]
  },
  {
   "cell_type": "code",
   "execution_count": null,
   "id": "301640d8",
   "metadata": {
    "ExecuteTime": {
     "end_time": "2022-10-20T21:37:07.571850Z",
     "start_time": "2022-10-20T21:37:07.571850Z"
    },
    "hidden": true
   },
   "outputs": [],
   "source": [
    "teste_ = pd.read_json(\"data/raw_data/json/2017/ficsgamesdb_search_262781.json\")"
   ]
  },
  {
   "cell_type": "code",
   "execution_count": null,
   "id": "4fd88510",
   "metadata": {
    "ExecuteTime": {
     "end_time": "2022-10-20T21:37:07.572848Z",
     "start_time": "2022-10-20T21:37:07.572848Z"
    },
    "hidden": true
   },
   "outputs": [],
   "source": [
    "teste_.moves"
   ]
  },
  {
   "cell_type": "code",
   "execution_count": null,
   "id": "68f89a94",
   "metadata": {
    "ExecuteTime": {
     "end_time": "2022-10-20T21:37:07.573845Z",
     "start_time": "2022-10-20T21:37:07.573845Z"
    },
    "hidden": true
   },
   "outputs": [],
   "source": [
    "teste_.loc[0];"
   ]
  },
  {
   "cell_type": "code",
   "execution_count": null,
   "id": "929cfe56",
   "metadata": {
    "ExecuteTime": {
     "end_time": "2022-10-20T21:37:07.574842Z",
     "start_time": "2022-10-20T21:37:07.574842Z"
    },
    "hidden": true
   },
   "outputs": [],
   "source": [
    "teste_.columns"
   ]
  },
  {
   "cell_type": "markdown",
   "id": "45305cac",
   "metadata": {
    "heading_collapsed": true
   },
   "source": [
    "## Making df column and dtype helper:"
   ]
  },
  {
   "cell_type": "code",
   "execution_count": null,
   "id": "17b5225a",
   "metadata": {
    "ExecuteTime": {
     "end_time": "2022-10-20T21:37:07.575839Z",
     "start_time": "2022-10-20T21:37:07.575839Z"
    },
    "hidden": true
   },
   "outputs": [],
   "source": [
    "df.columns"
   ]
  },
  {
   "cell_type": "code",
   "execution_count": null,
   "id": "7383b6a5",
   "metadata": {
    "ExecuteTime": {
     "end_time": "2022-10-20T21:37:07.576837Z",
     "start_time": "2022-10-20T21:37:07.576837Z"
    },
    "hidden": true
   },
   "outputs": [],
   "source": [
    "columns = list(df.columns)\n",
    "columns"
   ]
  },
  {
   "cell_type": "code",
   "execution_count": null,
   "id": "30e8746e",
   "metadata": {
    "ExecuteTime": {
     "end_time": "2022-10-20T21:37:07.577834Z",
     "start_time": "2022-10-20T21:37:07.577834Z"
    },
    "hidden": true
   },
   "outputs": [],
   "source": [
    "list(df.dtypes);"
   ]
  },
  {
   "cell_type": "code",
   "execution_count": null,
   "id": "6fad7544",
   "metadata": {
    "ExecuteTime": {
     "end_time": "2022-10-20T21:37:07.578831Z",
     "start_time": "2022-10-20T21:37:07.578831Z"
    },
    "hidden": true,
    "scrolled": false
   },
   "outputs": [],
   "source": [
    "df.dtypes.reset_index().head()"
   ]
  },
  {
   "cell_type": "code",
   "execution_count": null,
   "id": "b72eb594",
   "metadata": {
    "ExecuteTime": {
     "end_time": "2022-10-20T21:37:07.579829Z",
     "start_time": "2022-10-20T21:37:07.579829Z"
    },
    "hidden": true
   },
   "outputs": [],
   "source": [
    "df.dtypes.reset_index().loc[:,0]"
   ]
  },
  {
   "cell_type": "code",
   "execution_count": null,
   "id": "e621b415",
   "metadata": {
    "ExecuteTime": {
     "end_time": "2022-10-20T21:37:07.580826Z",
     "start_time": "2022-10-20T21:37:07.580826Z"
    },
    "hidden": true
   },
   "outputs": [],
   "source": [
    "df.WhiteElo.dtype == np.int64"
   ]
  },
  {
   "cell_type": "code",
   "execution_count": null,
   "id": "94ab2731",
   "metadata": {
    "ExecuteTime": {
     "end_time": "2022-10-20T21:37:07.581824Z",
     "start_time": "2022-10-20T21:37:07.581824Z"
    },
    "hidden": true
   },
   "outputs": [],
   "source": [
    "df.WhiteElo.dtype == 'int64'"
   ]
  },
  {
   "cell_type": "code",
   "execution_count": null,
   "id": "7ee7e4db",
   "metadata": {
    "ExecuteTime": {
     "end_time": "2022-10-20T21:37:07.582821Z",
     "start_time": "2022-10-20T21:37:07.582821Z"
    },
    "hidden": true
   },
   "outputs": [],
   "source": [
    "df.Event.dtype == 'O'"
   ]
  },
  {
   "cell_type": "code",
   "execution_count": null,
   "id": "4a40925b",
   "metadata": {
    "ExecuteTime": {
     "end_time": "2022-10-20T21:37:07.583819Z",
     "start_time": "2022-10-20T21:37:07.583819Z"
    },
    "hidden": true
   },
   "outputs": [],
   "source": [
    "df.Date.dtype == '<M8[ns]'"
   ]
  },
  {
   "cell_type": "code",
   "execution_count": null,
   "id": "b4f6c70b",
   "metadata": {
    "ExecuteTime": {
     "end_time": "2022-10-20T21:37:07.584815Z",
     "start_time": "2022-10-20T21:37:07.584815Z"
    },
    "hidden": true
   },
   "outputs": [],
   "source": [
    "df.Date.dtype == 'datetime64[ns]'"
   ]
  },
  {
   "cell_type": "code",
   "execution_count": null,
   "id": "6748bd16",
   "metadata": {
    "ExecuteTime": {
     "end_time": "2022-10-20T21:37:07.585812Z",
     "start_time": "2022-10-20T21:37:07.585812Z"
    },
    "hidden": true
   },
   "outputs": [],
   "source": [
    "#     def dtype_checker(df, schema):\n",
    "#         wrong_dtypes = [[i, j] for i, j in schema.items() if i in df.columns and df[i].dtype!=j]\n",
    "#         if len(wrong_dtypes)!=0:\n",
    "#             for row in [f'Column {k[0]} does not match datatype {k[1]}' for k in wrong_dtypes]:\n",
    "#                 print(row)\n",
    "#             return False\n",
    "#         else:\n",
    "#             return True"
   ]
  },
  {
   "cell_type": "code",
   "execution_count": null,
   "id": "ef76cf0a",
   "metadata": {
    "ExecuteTime": {
     "end_time": "2022-10-20T21:37:07.586810Z",
     "start_time": "2022-10-20T21:37:07.586810Z"
    },
    "code_folding": [
     0
    ],
    "hidden": true
   },
   "outputs": [],
   "source": [
    "#     expected_schema = {\n",
    "#         'Event': 'object',\n",
    "#         'Site': 'object',\n",
    "#         'Date': 'datetime64[ns]',\n",
    "#         'Round': 'object',\n",
    "#         'White': 'object',\n",
    "#         'Black': 'object',\n",
    "#         'Result': 'object',\n",
    "#         'BlackClock': 'object',\n",
    "#         'BlackElo':  'int64',\n",
    "#         'BlackIsComp': 'object',\n",
    "#         'BlackRD': 'float64',\n",
    "#         'ECO': 'object',\n",
    "#         'FICSGamesDBGameNo':  'int64',\n",
    "#         'PlyCount':  'int64',\n",
    "#         'Time': 'object',\n",
    "#         'TimeControl': 'object',\n",
    "#         'WhiteClock': 'object',\n",
    "#         'WhiteElo':  'int64',\n",
    "#         'WhiteRD': 'float64',\n",
    "#         'emt': 'object',\n",
    "#         'moves': 'object',\n",
    "#         'WhiteIsComp': 'object'  \n",
    "#     }"
   ]
  },
  {
   "cell_type": "code",
   "execution_count": null,
   "id": "e3477b4b",
   "metadata": {
    "ExecuteTime": {
     "end_time": "2022-10-20T21:37:07.587807Z",
     "start_time": "2022-10-20T21:37:07.587807Z"
    },
    "hidden": true
   },
   "outputs": [],
   "source": [
    "# dtype_checker(df, expected_schema)"
   ]
  },
  {
   "cell_type": "code",
   "execution_count": null,
   "id": "937e997c",
   "metadata": {
    "ExecuteTime": {
     "end_time": "2022-10-20T21:37:07.588805Z",
     "start_time": "2022-10-20T21:37:07.588805Z"
    },
    "hidden": true
   },
   "outputs": [],
   "source": [
    "# def schema_checker(df, cols):\n",
    "#     missing_cols = [i for i in cols if i not in df.columns]\n",
    "#     if len(missing_cols)!=0:\n",
    "#         for col in [f'Column {i} not found' for i in missing_cols]:\n",
    "#             print(col)\n",
    "#         return False\n",
    "#     else:\n",
    "#         return True"
   ]
  },
  {
   "cell_type": "code",
   "execution_count": null,
   "id": "87cf1d68",
   "metadata": {
    "ExecuteTime": {
     "end_time": "2022-10-20T21:37:07.589802Z",
     "start_time": "2022-10-20T21:37:07.589802Z"
    },
    "hidden": true
   },
   "outputs": [],
   "source": [
    "# schema_checker(df, expected_schema.keys())"
   ]
  },
  {
   "cell_type": "code",
   "execution_count": null,
   "id": "81c60eea",
   "metadata": {
    "ExecuteTime": {
     "end_time": "2022-10-20T21:37:07.590801Z",
     "start_time": "2022-10-20T21:37:07.590801Z"
    },
    "hidden": true
   },
   "outputs": [],
   "source": [
    "# df_wrong = df.copy().rename(columns={'BlackRD': 'Wrongs'})"
   ]
  },
  {
   "cell_type": "code",
   "execution_count": null,
   "id": "7e43b7f2",
   "metadata": {
    "ExecuteTime": {
     "end_time": "2022-10-20T21:37:07.591796Z",
     "start_time": "2022-10-20T21:37:07.591796Z"
    },
    "hidden": true
   },
   "outputs": [],
   "source": [
    "# schema_checker(df_wrong, expected_schema.keys())"
   ]
  },
  {
   "cell_type": "markdown",
   "id": "9745c3f7",
   "metadata": {
    "heading_collapsed": true
   },
   "source": [
    "## Making XIsComp helper:"
   ]
  },
  {
   "cell_type": "code",
   "execution_count": null,
   "id": "a0acbabc",
   "metadata": {
    "ExecuteTime": {
     "end_time": "2022-10-20T21:37:07.592794Z",
     "start_time": "2022-10-20T21:37:07.592794Z"
    },
    "hidden": true
   },
   "outputs": [],
   "source": [
    "# def change_comp_columns(df):\n",
    "#     ## make copy df\n",
    "\n",
    "#     nocomp_df = df.copy()\n",
    "    \n",
    "#     ## check number of unique in blackiscomp and whiteiscomp (should be 2)\n",
    "#     assert all([nocomp_df[x].nunique(dropna=False)==2 for x in ['WhiteIsComp', 'BlackIsComp']]), 'More than two unique values in a XIsComp column (including nan)'\n",
    "    \n",
    "#     ## check one of the unique values are 'Yes'\n",
    "#     assert all(['Yes' in nocomp_df[x].unique() for x in ['WhiteIsComp', 'BlackIsComp']]), 'Missing \"Yes\" in one of the XIsComp column'\n",
    "\n",
    "#     ## assign 1 and 0 to blackiscomp and whiteiscomp\n",
    "\n",
    "#     nocomp_df['WhiteIsComp'] = np.where(nocomp_df['WhiteIsComp']=='Yes', np.int8(1), np.int8(0))\n",
    "#     nocomp_df['BlackIsComp'] = np.where(nocomp_df['BlackIsComp']=='Yes', np.int8(1), np.int8(0))\n",
    "\n",
    "#     ## make new 'nocomp' column which depends on blackiscomp==1 and whiteiscomp==1\n",
    "\n",
    "#     nocomp_df['NoComp'] = np.where(zip(nocomp_df['WhiteIsComp'], nocomp_df['BlackIsComp'])==[0, 0], np.int8(1), np.int8(0))\n",
    "    \n",
    "#     return nocomp_df"
   ]
  },
  {
   "cell_type": "code",
   "execution_count": null,
   "id": "55509645",
   "metadata": {
    "ExecuteTime": {
     "end_time": "2022-10-20T21:37:07.593791Z",
     "start_time": "2022-10-20T21:37:07.593791Z"
    },
    "hidden": true
   },
   "outputs": [],
   "source": [
    "# nocomp_df_test = hp.change_comp_columns(df)\n",
    "\n",
    "# # validating the shape is (2, 0) if there are only games with cheaters (i.e. XIsComp==1)\n",
    "# nocomp_df_test[['BlackIsComp', 'WhiteIsComp', 'NoComp']].groupby(['BlackIsComp', 'WhiteIsComp', 'NoComp']).count()\n",
    "\n",
    "# nocomp_df_test[['BlackIsComp', 'WhiteIsComp', 'NoComp']].groupby([\n",
    "#     'BlackIsComp', 'WhiteIsComp', 'NoComp']).count().shape[0]; # 2\n",
    "\n",
    "\n",
    "# # validating the shape is (3, 0) if there is at least one entry that is NoComp==1\n",
    "# nocomp_df_test_2  = nocomp_df_test.copy()\n",
    "# nocomp_df_test_2.loc[0,['BlackIsComp', 'WhiteIsComp', 'NoComp']] = [0, 0, 1]\n",
    "# nocomp_df_test_2[['BlackIsComp', 'WhiteIsComp', 'NoComp']].iloc[0]\n",
    "# nocomp_df_test_2[['BlackIsComp', 'WhiteIsComp', 'NoComp']].groupby(['BlackIsComp', 'WhiteIsComp', 'NoComp']).count()\n",
    "\n",
    "# nocomp_df_test_2[['BlackIsComp', 'WhiteIsComp', 'NoComp']].groupby([\n",
    "#     'BlackIsComp', 'WhiteIsComp', 'NoComp']).count().shape[0]; # 3"
   ]
  },
  {
   "cell_type": "code",
   "execution_count": null,
   "id": "0e844a82",
   "metadata": {
    "ExecuteTime": {
     "end_time": "2022-10-20T21:37:07.594789Z",
     "start_time": "2022-10-20T21:37:07.594789Z"
    },
    "hidden": true
   },
   "outputs": [],
   "source": [
    "# make 'nocomp' column:\n",
    "\n",
    "## make copy df\n",
    "\n",
    "nocomp_df = df.copy()\n",
    "\n",
    "## check number of unique in blackiscomp and whiteiscomp (should be 2)\n",
    "\n",
    "# white_comp_unique_num = nocomp_df.WhiteIsComp.nunique(dropna=False)\n",
    "# black_comp_unique_num = nocomp_df.BlackIsComp.nunique(dropna=False)\n",
    "# comp_unique_num = [nocomp_df[x].nunique(dropna=False) for x in ['WhiteIsComp', 'BlackIsComp']]\n",
    "# print(comp_unique_num) # [2, 2]\n",
    "# print(all(comp_unique_num))\n",
    "# comp_unique_num_is2 = np.array([nocomp_df[x].nunique(dropna=False)==2 for x in ['WhiteIsComp', 'BlackIsComp']]).all()\n",
    "# assert np.array([nocomp_df[x].nunique(dropna=False)==2 for x in ['WhiteIsComp', 'BlackIsComp']]).all()==True, 'More than two unique values in a XIsComp column (including nan)'\n",
    "# print(comp_unique_num_is2)\n",
    "comp_unique_num_is2 = all([nocomp_df[x].nunique(dropna=False)==2 for x in ['WhiteIsComp', 'BlackIsComp']])\n",
    "# print(comp_unique_num_is2)\n",
    "\n",
    "# bla = np.array([nocomp_df[x].nunique(dropna=False)==2 for x in ['WhiteIsComp', 'BlackIsComp']])\n",
    "# bla[0]=False\n",
    "# print(all(bla)) # False\n",
    "\n",
    "\n",
    "## check one of the unique values are 'Yes'\n",
    "\n",
    "has_yes_list = ['Yes' in nocomp_df[x].unique() for x in ['WhiteIsComp', 'BlackIsComp']]\n",
    "# print(has_yes_list) # [True, True]\n",
    "has_yes = all(has_yes_list)\n",
    "# print(has_yes)\n",
    "\n",
    "## assign 1 and 0 to blackiscomp and whiteiscomp\n",
    "\n",
    "# nocomp_df['WhiteIsComp'] = nocomp_df['WhiteIsComp'].apply(lambda x: np.int8(1) if x=='Yes' else np.int8(0))\n",
    "# nocomp_df['BlackIsComp'] = nocomp_df['BlackIsComp'].apply(lambda x: np.int8(1) if x=='Yes' else np.int8(0))\n",
    "\n",
    "nocomp_df['WhiteIsComp'] = np.where(nocomp_df['WhiteIsComp']=='Yes', np.int8(1), np.int8(0))\n",
    "nocomp_df['BlackIsComp'] = np.where(nocomp_df['BlackIsComp']=='Yes', np.int8(1), np.int8(0))\n",
    "\n",
    "\n",
    "#---#\n",
    "\n",
    "## make new 'nocomp' column which depends on blackiscomp==1 and whiteiscomp==1\n",
    "\n",
    "# fastest is:\n",
    "nocomp_df['NoComp'] = np.where(next(zip(nocomp_df['WhiteIsComp'], nocomp_df['BlackIsComp']))==(0, 0), \n",
    "                               np.int8(1),\n",
    "                               np.int8(0))\n",
    "\n",
    "# testing was done to compare speeds\n"
   ]
  },
  {
   "cell_type": "code",
   "execution_count": null,
   "id": "5b38a51d",
   "metadata": {
    "ExecuteTime": {
     "end_time": "2022-10-22T12:58:34.463743Z",
     "start_time": "2022-10-22T12:58:34.453792Z"
    },
    "hidden": true
   },
   "outputs": [],
   "source": [
    "# compare speed of np.array(...).all() and all([...])\n",
    "\n",
    "# all([...]) marginally faster\n",
    "\n",
    "# # %%timeit # 1.58 ms ± 55.5 µs per loop (mean ± std. dev. of 7 runs, 1,000 loops each)\n",
    "# nocomp_df = df.copy()\n",
    "# comp_unique_num_is2 = np.array([nocomp_df[x].nunique(dropna=False)==2 for x in ['WhiteIsComp', 'BlackIsComp']]).all()\n",
    "# comp_unique_num_is2\n",
    "\n",
    "# # %%timeit # 1.51 ms ± 18.5 µs per loop (mean ± std. dev. of 7 runs, 1,000 loops each)\n",
    "# nocomp_df = df.copy()\n",
    "# comp_unique_num_is2 = all([nocomp_df[x].nunique(dropna=False)==2 for x in ['WhiteIsComp', 'BlackIsComp']])\n",
    "# comp_unique_num_is2"
   ]
  },
  {
   "cell_type": "code",
   "execution_count": null,
   "id": "53c17435",
   "metadata": {
    "ExecuteTime": {
     "end_time": "2022-10-20T21:37:07.596784Z",
     "start_time": "2022-10-20T21:37:07.596784Z"
    },
    "code_folding": [
     0
    ],
    "hidden": true
   },
   "outputs": [],
   "source": [
    "# Compare np.where and df.apply speed:\n",
    "\n",
    "# # timing np.where\n",
    "# nocomp_df = df.copy()\n",
    "# nocomp_df['WhiteIsComp'] = np.where(nocomp_df['WhiteIsComp']=='Yes', np.int8(1), np.int8(0))\n",
    "# nocomp_df['BlackIsComp'] = np.where(nocomp_df['BlackIsComp']=='Yes', np.int8(1), np.int8(0))\n",
    "\n",
    "\n",
    "#-----#\n",
    "\n",
    "# any([np.int8(0), np.int8(1)]) # True\n",
    "\n",
    "# zip(nocomp_df['WhiteIsComp'], nocomp_df['BlackIsComp']) # <zip at 0x2ac85d24c40>\n",
    "\n",
    "# for element in zip(nocomp_df['WhiteIsComp'], nocomp_df['BlackIsComp']):\n",
    "#     print(element)\n",
    "\n",
    "# [np.int8(0) if any(element) else np.int8(1) for element in zip(nocomp_df['WhiteIsComp'], nocomp_df['BlackIsComp'])]\n",
    "\n",
    "# pd.Series([np.int8(1) if all(element) else np.int8(0) for element in zip(nocomp_df['WhiteIsComp'], nocomp_df['BlackIsComp'])])\n",
    "\n",
    "# nocomp_df['NoComp'] = [np.int8(0) if any(element) else np.int8(1) for element in zip(nocomp_df['WhiteIsComp'], nocomp_df['BlackIsComp'])]\n",
    "\n",
    "# nocomp_df['NoComp'].any() # False\n",
    "\n",
    "# nocomp_df['NoComp'] = np.where(zip(nocomp_df['WhiteIsComp'], nocomp_df['BlackIsComp'])==[0, 0], np.int8(1), np.int8(0))\n",
    "# np.int8(0)==0 # True\n",
    "# np.int8(1)==1 # True\n",
    "\n",
    "# nocomp_df['NoComp'].any() # False \n",
    "\n",
    "# nocomp_df['WhiteIsComp']==1 # Series of True and False\n",
    "\n",
    "#------#\n",
    "\n",
    "# # %%timeit # 54.6 ms ± 420 µs per loop (mean ± std. dev. of 7 runs, 10 loops each)\n",
    "# # timing df.apply()\n",
    "# nocomp_df = df.copy()\n",
    "# nocomp_df['WhiteIsComp'] = nocomp_df['WhiteIsComp'].apply(lambda x: np.int8(1) if x=='Yes' else np.int8(0))\n",
    "# nocomp_df['BlackIsComp'] = nocomp_df['BlackIsComp'].apply(lambda x: np.int8(1) if x=='Yes' else np.int8(0))"
   ]
  },
  {
   "cell_type": "code",
   "execution_count": null,
   "id": "03593231",
   "metadata": {
    "ExecuteTime": {
     "end_time": "2022-10-22T14:27:12.092676Z",
     "start_time": "2022-10-22T14:27:12.078741Z"
    },
    "hidden": true
   },
   "outputs": [],
   "source": [
    "# # Comparing 3 methods for making NoComp column (on Muninn):\n",
    "\n",
    "nocomp_df = df_2018_test.copy()\n",
    "nocomp_df['WhiteIsComp'] = np.where(nocomp_df['WhiteIsComp']=='Yes', np.int8(1), np.int8(0))\n",
    "nocomp_df['BlackIsComp'] = np.where(nocomp_df['BlackIsComp']=='Yes', np.int8(1), np.int8(0))\n",
    "\n",
    "# #--#"
   ]
  },
  {
   "cell_type": "code",
   "execution_count": null,
   "id": "e46673e3",
   "metadata": {
    "ExecuteTime": {
     "end_time": "2022-10-22T14:19:18.554364Z",
     "start_time": "2022-10-22T14:19:18.547355Z"
    },
    "code_folding": [],
    "hidden": true
   },
   "outputs": [],
   "source": [
    "# # %%timeit # 156 ms ± 517 µs per loop (mean ± std. dev. of 7 runs, 10 loops each)\n",
    "\n",
    "# # .apply()\n",
    "\n",
    "# nocomp_df['NoComp'] = nocomp_df.apply(lambda x: np.int8(1) if (x['WhiteIsComp']!=1 and \\\n",
    "#                                                                x['BlackIsComp']!=1) else np.int8(0), axis=1)"
   ]
  },
  {
   "cell_type": "code",
   "execution_count": null,
   "id": "40ef49a2",
   "metadata": {
    "ExecuteTime": {
     "end_time": "2022-10-22T14:19:20.355537Z",
     "start_time": "2022-10-22T14:19:20.337852Z"
    },
    "hidden": true
   },
   "outputs": [],
   "source": [
    "# apply_ = nocomp_df['NoComp'].copy()"
   ]
  },
  {
   "cell_type": "code",
   "execution_count": null,
   "id": "e20e50b7",
   "metadata": {
    "ExecuteTime": {
     "end_time": "2022-10-22T14:19:15.384682Z",
     "start_time": "2022-10-22T14:19:15.379669Z"
    },
    "hidden": true
   },
   "outputs": [],
   "source": [
    "# apply_;"
   ]
  },
  {
   "cell_type": "code",
   "execution_count": null,
   "id": "0b9db2cc",
   "metadata": {
    "ExecuteTime": {
     "end_time": "2022-10-22T14:15:47.350477Z",
     "start_time": "2022-10-22T14:15:47.338486Z"
    },
    "hidden": true
   },
   "outputs": [],
   "source": [
    "#--#"
   ]
  },
  {
   "cell_type": "code",
   "execution_count": null,
   "id": "0069f132",
   "metadata": {
    "ExecuteTime": {
     "end_time": "2022-10-22T14:15:47.476498Z",
     "start_time": "2022-10-22T14:15:47.470515Z"
    },
    "code_folding": [],
    "hidden": true
   },
   "outputs": [],
   "source": [
    "# nocomp_df['NoComp'][0:5] # looks good"
   ]
  },
  {
   "cell_type": "code",
   "execution_count": null,
   "id": "7e5b9cdc",
   "metadata": {
    "ExecuteTime": {
     "end_time": "2022-10-22T14:19:42.599471Z",
     "start_time": "2022-10-22T14:19:42.593456Z"
    },
    "code_folding": [],
    "hidden": true
   },
   "outputs": [],
   "source": [
    "# # %%timeit # 49.5 ms ± 164 µs per loop (mean ± std. dev. of 7 runs, 10 loops each)\n",
    "\n",
    "# # list comprehension using 'for element in zip'\n",
    "\n",
    "# nocomp_df['NoComp'] = [np.int8(1) if element==(0, 0) else np.int8(0) for element in \\\n",
    "#                        zip(nocomp_df['WhiteIsComp'], nocomp_df['BlackIsComp'])]\n",
    "\n",
    "# # nocomp_df['NoComp'] = [np.int8(0) if any(element) else np.int8(1) for element in \\\n",
    "# #                        zip(nocomp_df['WhiteIsComp'], nocomp_df['BlackIsComp'])]\n",
    "\n",
    "# # [element for element in \\\n",
    "# #  zip(nocomp_df['WhiteIsComp'], nocomp_df['BlackIsComp'])]"
   ]
  },
  {
   "cell_type": "code",
   "execution_count": null,
   "id": "e381059d",
   "metadata": {
    "ExecuteTime": {
     "end_time": "2022-10-22T14:19:45.311857Z",
     "start_time": "2022-10-22T14:19:45.307876Z"
    },
    "hidden": true
   },
   "outputs": [],
   "source": [
    "# listcompforzip_ = nocomp_df['NoComp'].copy()"
   ]
  },
  {
   "cell_type": "code",
   "execution_count": null,
   "id": "d83a746f",
   "metadata": {
    "ExecuteTime": {
     "end_time": "2022-10-22T14:19:40.028540Z",
     "start_time": "2022-10-22T14:19:40.019587Z"
    },
    "hidden": true
   },
   "outputs": [],
   "source": [
    "# listcompforzip_;"
   ]
  },
  {
   "cell_type": "code",
   "execution_count": null,
   "id": "dd618fd9",
   "metadata": {
    "ExecuteTime": {
     "end_time": "2022-10-22T14:15:48.009005Z",
     "start_time": "2022-10-22T14:15:47.999060Z"
    },
    "hidden": true
   },
   "outputs": [],
   "source": [
    "#--#"
   ]
  },
  {
   "cell_type": "code",
   "execution_count": null,
   "id": "56854751",
   "metadata": {
    "ExecuteTime": {
     "end_time": "2022-10-22T14:15:48.305903Z",
     "start_time": "2022-10-22T14:15:48.292938Z"
    },
    "hidden": true
   },
   "outputs": [],
   "source": [
    "# nocomp_df['NoComp'] # looks good"
   ]
  },
  {
   "cell_type": "code",
   "execution_count": null,
   "id": "6a7d54bd",
   "metadata": {
    "ExecuteTime": {
     "end_time": "2022-10-22T14:17:50.874700Z",
     "start_time": "2022-10-22T14:17:43.986856Z"
    },
    "code_folding": [],
    "hidden": true
   },
   "outputs": [],
   "source": [
    "# # %%timeit # 84.8 µs ± 689 ns per loop (mean ± std. dev. of 7 runs, 10,000 loops each)\n",
    "\n",
    "# # np.where(next(zip()))==(0, 0) \n",
    "\n",
    "\n",
    "# # DON'T WORK:\n",
    "# # nocomp_df['NoComp'] = np.where(list(zip(nocomp_df['WhiteIsComp'], nocomp_df['BlackIsComp']))==(0, 0), # [0, 0] doesn't work\n",
    "# #                                np.int8(1),\n",
    "# #                                np.int8(0)) # doesn't work\n",
    "\n",
    "# # nocomp_df['NoComp'] = np.where(np.array(list(zip(nocomp_df['WhiteIsComp'], nocomp_df['BlackIsComp']))).flat==[0, 0], \n",
    "# #                                np.int8(1),\n",
    "# #                                np.int8(0))\n",
    "\n",
    "\n",
    "# # DOES WORK:\n",
    "# nocomp_df['NoComp'] = np.where(next(zip(nocomp_df['WhiteIsComp'], nocomp_df['BlackIsComp']))==(0, 0), \n",
    "#                                np.int8(1),\n",
    "#                                np.int8(0))\n",
    "\n",
    "# #-#\n",
    "\n",
    "# # both of: \n",
    "# # # np.where(zip(nocomp_df['WhiteIsComp'], nocomp_df['BlackIsComp'])==(0, 0), 1, 0)\n",
    "\n",
    "# # # np.where(zip(nocomp_df['WhiteIsComp'], nocomp_df['BlackIsComp'])==[0, 0], 1, 0)\n",
    "# # return array(0), this is why 'list' is used\n"
   ]
  },
  {
   "cell_type": "code",
   "execution_count": null,
   "id": "a06e7ef6",
   "metadata": {
    "ExecuteTime": {
     "end_time": "2022-10-22T14:13:08.348798Z",
     "start_time": "2022-10-22T14:13:08.327827Z"
    },
    "hidden": true
   },
   "outputs": [],
   "source": [
    "# len(list(zip(*(zip(nocomp_df['WhiteIsComp'], nocomp_df['BlackIsComp'])))))\n",
    "# list(zip(*(zip(nocomp_df['WhiteIsComp'], nocomp_df['BlackIsComp']))))\n",
    "# list(zip(nocomp_df['WhiteIsComp'], nocomp_df['BlackIsComp']))\n",
    "# #==(0, 0)\n",
    "# np.array(list(zip(nocomp_df['WhiteIsComp'], nocomp_df['BlackIsComp'])), ndmin=1).shape\n",
    "\n",
    "# next(zip(nocomp_df['WhiteIsComp'], nocomp_df['BlackIsComp']))"
   ]
  },
  {
   "cell_type": "code",
   "execution_count": null,
   "id": "179a27a0",
   "metadata": {
    "hidden": true
   },
   "outputs": [],
   "source": []
  },
  {
   "cell_type": "code",
   "execution_count": null,
   "id": "a6465509",
   "metadata": {
    "ExecuteTime": {
     "end_time": "2022-10-22T12:41:05.893148Z",
     "start_time": "2022-10-22T12:41:05.888162Z"
    },
    "code_folding": [
     0
    ],
    "hidden": true
   },
   "outputs": [],
   "source": [
    "# list(zip(nocomp_df['WhiteIsComp'], nocomp_df['BlackIsComp']))\n",
    "# [(0, 0),\n",
    "#  (0, 0),\n",
    "#  (0, 0),\n",
    "#  (0, 0),\n",
    "#  (0, 0),\n",
    "#  (0, 0),...."
   ]
  },
  {
   "cell_type": "code",
   "execution_count": null,
   "id": "49277dde",
   "metadata": {
    "ExecuteTime": {
     "end_time": "2022-10-22T14:22:58.718568Z",
     "start_time": "2022-10-22T14:22:58.708595Z"
    },
    "hidden": true
   },
   "outputs": [],
   "source": [
    "# list(zip(nocomp_df['WhiteIsComp'], nocomp_df['BlackIsComp']))[0]==(0, 0)"
   ]
  },
  {
   "cell_type": "code",
   "execution_count": null,
   "id": "293719cf",
   "metadata": {
    "ExecuteTime": {
     "end_time": "2022-10-22T12:41:06.048943Z",
     "start_time": "2022-10-22T12:41:06.031988Z"
    },
    "code_folding": [],
    "hidden": true
   },
   "outputs": [],
   "source": [
    "# bla = zip(nocomp_df['WhiteIsComp'], nocomp_df['BlackIsComp'])\n",
    "# next(bla)\n",
    "# next(bla)==(0, 0) # True"
   ]
  },
  {
   "cell_type": "code",
   "execution_count": null,
   "id": "4f7adbed",
   "metadata": {
    "hidden": true
   },
   "outputs": [],
   "source": []
  },
  {
   "cell_type": "code",
   "execution_count": null,
   "id": "8a1de27e",
   "metadata": {
    "ExecuteTime": {
     "end_time": "2022-10-22T14:17:00.652184Z",
     "start_time": "2022-10-22T14:17:00.634232Z"
    },
    "hidden": true
   },
   "outputs": [],
   "source": [
    "# wherenextzip_ = nocomp_df['NoComp'].copy()"
   ]
  },
  {
   "cell_type": "code",
   "execution_count": null,
   "id": "da0cc54f",
   "metadata": {
    "ExecuteTime": {
     "end_time": "2022-10-22T14:18:39.512624Z",
     "start_time": "2022-10-22T14:18:39.498649Z"
    },
    "hidden": true
   },
   "outputs": [],
   "source": [
    "wherenextzip_;"
   ]
  },
  {
   "cell_type": "code",
   "execution_count": null,
   "id": "3d51dda3",
   "metadata": {
    "ExecuteTime": {
     "end_time": "2022-10-22T12:41:06.639147Z",
     "start_time": "2022-10-22T12:41:06.622195Z"
    },
    "hidden": true
   },
   "outputs": [],
   "source": [
    "#--#"
   ]
  },
  {
   "cell_type": "code",
   "execution_count": null,
   "id": "235952e4",
   "metadata": {
    "ExecuteTime": {
     "end_time": "2022-10-22T14:16:01.732468Z",
     "start_time": "2022-10-22T14:16:01.715513Z"
    },
    "hidden": true
   },
   "outputs": [],
   "source": [
    "# nocomp_df['NoComp'] # looks good"
   ]
  },
  {
   "cell_type": "code",
   "execution_count": null,
   "id": "6f7a3581",
   "metadata": {
    "ExecuteTime": {
     "end_time": "2022-10-22T14:27:17.621066Z",
     "start_time": "2022-10-22T14:27:15.137074Z"
    },
    "hidden": true
   },
   "outputs": [],
   "source": [
    "# # %%timeit # 309 µs ± 3.63 µs per loop (mean ± std. dev. of 7 runs, 1,000 loops each)\n",
    "\n",
    "# # #np.where(df[['a', 'b']].values==[0, 0])\n",
    "\n",
    "# nocomp_df['NoComp'] = np.where((nocomp_df['WhiteIsComp']==0)*(nocomp_df['BlackIsComp']==0),\n",
    "#                                np.int8(1), np.int8(0))"
   ]
  },
  {
   "cell_type": "code",
   "execution_count": null,
   "id": "3c768b57",
   "metadata": {
    "ExecuteTime": {
     "end_time": "2022-10-22T14:17:09.397423Z",
     "start_time": "2022-10-22T14:17:09.386452Z"
    },
    "hidden": true
   },
   "outputs": [],
   "source": [
    "# wheredf_ = nocomp_df['NoComp'].copy()"
   ]
  },
  {
   "cell_type": "code",
   "execution_count": null,
   "id": "22e6cfea",
   "metadata": {
    "ExecuteTime": {
     "end_time": "2022-10-22T14:17:09.756877Z",
     "start_time": "2022-10-22T14:17:09.746876Z"
    },
    "hidden": true
   },
   "outputs": [],
   "source": [
    "wheredf_;"
   ]
  },
  {
   "cell_type": "code",
   "execution_count": null,
   "id": "92fc89c1",
   "metadata": {
    "ExecuteTime": {
     "end_time": "2022-10-22T12:44:14.546629Z",
     "start_time": "2022-10-22T12:44:14.537818Z"
    },
    "hidden": true
   },
   "outputs": [],
   "source": [
    "#--#"
   ]
  },
  {
   "cell_type": "code",
   "execution_count": null,
   "id": "05aaedd1",
   "metadata": {
    "ExecuteTime": {
     "end_time": "2022-10-22T13:19:07.310726Z",
     "start_time": "2022-10-22T13:19:07.302748Z"
    },
    "hidden": true
   },
   "outputs": [],
   "source": [
    "# nocomp_df['NoComp'] # looks good"
   ]
  },
  {
   "cell_type": "code",
   "execution_count": null,
   "id": "6822fffa",
   "metadata": {
    "hidden": true
   },
   "outputs": [],
   "source": []
  },
  {
   "cell_type": "code",
   "execution_count": null,
   "id": "7e1a2690",
   "metadata": {
    "ExecuteTime": {
     "end_time": "2022-10-22T12:44:14.546629Z",
     "start_time": "2022-10-22T12:44:14.537818Z"
    },
    "hidden": true
   },
   "outputs": [],
   "source": [
    "#--#"
   ]
  },
  {
   "cell_type": "code",
   "execution_count": null,
   "id": "218e6e85",
   "metadata": {
    "ExecuteTime": {
     "end_time": "2022-10-22T14:18:54.479452Z",
     "start_time": "2022-10-22T14:18:54.469475Z"
    },
    "hidden": true
   },
   "outputs": [],
   "source": [
    "all(wheredf_==wherenextzip_) # True"
   ]
  },
  {
   "cell_type": "code",
   "execution_count": null,
   "id": "4a9ca543",
   "metadata": {
    "ExecuteTime": {
     "end_time": "2022-10-22T14:20:08.553603Z",
     "start_time": "2022-10-22T14:20:08.542662Z"
    },
    "hidden": true
   },
   "outputs": [],
   "source": [
    "all(listcompforzip_==wherenextzip_) # True"
   ]
  },
  {
   "cell_type": "code",
   "execution_count": null,
   "id": "83322c38",
   "metadata": {
    "ExecuteTime": {
     "end_time": "2022-10-22T14:20:12.588761Z",
     "start_time": "2022-10-22T14:20:12.575796Z"
    },
    "hidden": true
   },
   "outputs": [],
   "source": [
    "all(apply_==wherenextzip_) # True"
   ]
  },
  {
   "cell_type": "code",
   "execution_count": null,
   "id": "e2287816",
   "metadata": {
    "ExecuteTime": {
     "end_time": "2022-10-22T12:44:14.546629Z",
     "start_time": "2022-10-22T12:44:14.537818Z"
    },
    "hidden": true
   },
   "outputs": [],
   "source": [
    "#--#"
   ]
  },
  {
   "cell_type": "code",
   "execution_count": null,
   "id": "5e2132e3",
   "metadata": {
    "hidden": true
   },
   "outputs": [],
   "source": []
  },
  {
   "cell_type": "code",
   "execution_count": null,
   "id": "f8e1b6c1",
   "metadata": {
    "ExecuteTime": {
     "end_time": "2022-10-22T12:35:51.704242Z",
     "start_time": "2022-10-22T12:35:51.697261Z"
    },
    "hidden": true
   },
   "outputs": [],
   "source": [
    "#------#"
   ]
  },
  {
   "cell_type": "code",
   "execution_count": null,
   "id": "c9fdb2e5",
   "metadata": {
    "ExecuteTime": {
     "end_time": "2022-10-20T21:37:07.597781Z",
     "start_time": "2022-10-20T21:37:07.597781Z"
    },
    "hidden": true
   },
   "outputs": [],
   "source": [
    "# trying to do both columns in one apply:\n",
    "\n",
    "# nocomp_df = df.copy()\n",
    "# nocomp_df[['WhiteIsComp', 'BlackIsComp']] = nocomp_df[['WhiteIsComp', 'BlackIsComp']].apply(lambda x: [np.int8(1) if x.loc[y]=='Yes' else np.int8(0) for y in ['WhiteIsComp', 'BlackIsComp']], axis=1)\n",
    "\n",
    "# nocomp_df[['WhiteIsComp', 'BlackIsComp']] = nocomp_df.apply(lambda x: [np.int8(1) if x[y]=='Yes' else np.int8(0) for y in ['WhiteIsComp', 'BlackIsComp']], axis=1)"
   ]
  },
  {
   "cell_type": "code",
   "execution_count": null,
   "id": "479916de",
   "metadata": {
    "ExecuteTime": {
     "end_time": "2022-10-20T21:37:07.598779Z",
     "start_time": "2022-10-20T21:37:07.598779Z"
    },
    "hidden": true
   },
   "outputs": [],
   "source": [
    "# nocomp_df = df.copy()\n",
    "# nocomp_df[['WhiteIsComp', 'BlackIsComp']] = nocomp_df[['WhiteIsComp', 'BlackIsComp']].apply(\n",
    "#     lambda x: [np.int8(1) for y in ['WhiteIsComp', 'BlackIsComp'] if x.loc[y]=='Yes' else np.int8(0)], axis=1)"
   ]
  },
  {
   "cell_type": "code",
   "execution_count": null,
   "id": "2bac00d4",
   "metadata": {
    "ExecuteTime": {
     "end_time": "2022-10-20T21:37:07.600772Z",
     "start_time": "2022-10-20T21:37:07.600772Z"
    },
    "hidden": true
   },
   "outputs": [],
   "source": [
    "# nocomp_df = df.copy()\n",
    "# nocomp_df[['WhiteIsComp', 'BlackIsComp']] = nocomp_df[['WhiteIsComp', 'BlackIsComp']].apply(\n",
    "#     lambda x: np.int8(1) if x=='Yes' else np.int8(0),\n",
    "#     axis=1)"
   ]
  },
  {
   "cell_type": "code",
   "execution_count": null,
   "id": "10114bf9",
   "metadata": {
    "ExecuteTime": {
     "end_time": "2022-10-20T21:37:07.601770Z",
     "start_time": "2022-10-20T21:37:07.601770Z"
    },
    "hidden": true
   },
   "outputs": [],
   "source": [
    "# nocomp_df = df.copy()\n",
    "# nocomp_df[['WhiteIsComp', 'BlackIsComp']] = [row_value.apply(lambda x: np.int8(1) if x=='Yes' else np.int8(0)) for ]\n",
    "\n",
    "\n",
    "\n",
    "# nocomp_df[['WhiteIsComp', 'BlackIsComp']].apply(\n",
    "#     lambda x: np.int8(1) if x=='Yes' else np.int8(0),\n",
    "#     axis=1)"
   ]
  },
  {
   "cell_type": "code",
   "execution_count": null,
   "id": "7851c733",
   "metadata": {
    "ExecuteTime": {
     "end_time": "2022-10-20T21:37:07.602767Z",
     "start_time": "2022-10-20T21:37:07.602767Z"
    },
    "hidden": true
   },
   "outputs": [],
   "source": [
    "# type(df.loc[0]) # Series\n",
    "# display(df.loc[0])"
   ]
  },
  {
   "cell_type": "code",
   "execution_count": null,
   "id": "040da802",
   "metadata": {
    "ExecuteTime": {
     "end_time": "2022-10-20T21:37:07.603764Z",
     "start_time": "2022-10-20T21:37:07.603764Z"
    },
    "hidden": true
   },
   "outputs": [],
   "source": [
    "# row = df.loc[0]\n",
    "# row.loc['ECO']"
   ]
  },
  {
   "cell_type": "code",
   "execution_count": null,
   "id": "b0c42d30",
   "metadata": {
    "ExecuteTime": {
     "end_time": "2022-10-20T21:37:07.604761Z",
     "start_time": "2022-10-20T21:37:07.604761Z"
    },
    "hidden": true
   },
   "outputs": [],
   "source": [
    "# test = row[['BlackIsComp', 'WhiteIsComp']].copy()\n",
    "# type(test) # series"
   ]
  },
  {
   "cell_type": "code",
   "execution_count": null,
   "id": "647ac9ec",
   "metadata": {
    "ExecuteTime": {
     "end_time": "2022-10-20T21:37:07.604761Z",
     "start_time": "2022-10-20T21:37:07.604761Z"
    },
    "hidden": true,
    "scrolled": true
   },
   "outputs": [],
   "source": [
    "# row[['BlackIsComp', 'WhiteIsComp']] = ['yes', 'no'] # SettingWithCopyWarning: A value is trying to be set on a copy of a slice from a DataFrame"
   ]
  },
  {
   "cell_type": "code",
   "execution_count": null,
   "id": "8a36e2f2",
   "metadata": {
    "ExecuteTime": {
     "end_time": "2022-10-20T21:37:07.605759Z",
     "start_time": "2022-10-20T21:37:07.605759Z"
    },
    "hidden": true
   },
   "outputs": [],
   "source": [
    "# row[['BlackIsComp', 'WhiteIsComp']] "
   ]
  },
  {
   "cell_type": "markdown",
   "id": "2690d495",
   "metadata": {
    "heading_collapsed": true
   },
   "source": [
    "## Editing Chess NaN Checker helper:"
   ]
  },
  {
   "cell_type": "code",
   "execution_count": null,
   "id": "79627073",
   "metadata": {
    "ExecuteTime": {
     "end_time": "2022-10-20T21:37:07.606757Z",
     "start_time": "2022-10-20T21:37:07.606757Z"
    },
    "hidden": true
   },
   "outputs": [],
   "source": [
    "# def chess_nan_checker(df, list_of_cols=['BlackIsComp', 'WhiteIsComp']): \n",
    "#     '''\n",
    "#     checks for nan values in the dataframe\n",
    "\n",
    "#     Args:\n",
    "#         df (DataFrame): Pandas dataframe\n",
    "#         list_of_cols (List): List of strings indicating what columns to ignore\n",
    "\n",
    "#     Returns:\n",
    "#         summary (String): returns a summary of nan values\n",
    "#     '''\n",
    "\n",
    "#     assert all([col in df.columns for col in list_of_cols]), f'Passed dataframe does not contain {list_of_cols}'   \n",
    "    \n",
    "#     # are there any nan values?\n",
    "#     any_nan = all(\n",
    "#         df[[x for x in df.columns if x not in list_of_cols]].notna()\n",
    "#     ) # returns True if all values are not NaN\n",
    "#     if any_nan == True:\n",
    "#         return print(f\"This dataframe has 0 NaN values in columns: {list(df[[x for x in df.columns if x not in list_of_cols]].columns)}\")\n",
    "        \n",
    "#     # how many?\n",
    "#     nan_series = df.isna().sum()\n",
    "#     nan_num = nan_series.sum()\n",
    "\n",
    "#     # which variables do they come from\n",
    "\n",
    "#     # list_of_nan_column_loc = \\\n",
    "#     #     [ [df[column], df[column].isna().sum()] for \\\n",
    "#     #         column in df.columns ]\n",
    "\n",
    "#     nan_cols = list(nan_series[nan_series > 0].index)\n",
    "\n",
    "#     # any variables with more than 50% of data missing?\n",
    "#     big_nan_cols = list(nan_series[nan_series/len(df) > 0.5])\n",
    "    \n",
    "#     #summary can be all the info about nans\n",
    "#     summary = f'This dataframe has {nan_num} NaN values'\n",
    "\n",
    "#     if len(nan_cols) > 0:\n",
    "#         summary += f'\\nThe NaN values come from: {nan_cols}'\n",
    "\n",
    "#     if len(big_nan_cols) > 0:\n",
    "#         summary += f'\\nMore than 50% of the data is missing from: {big_nan_cols}'\n",
    "\n",
    "#     return print(summary)"
   ]
  },
  {
   "cell_type": "code",
   "execution_count": null,
   "id": "6ed7fb6d",
   "metadata": {
    "ExecuteTime": {
     "end_time": "2022-10-20T21:37:07.608751Z",
     "start_time": "2022-10-20T21:37:07.608751Z"
    },
    "hidden": true
   },
   "outputs": [],
   "source": [
    "# Testing assertion error of nan_checker\n",
    "\n",
    "# test_list_of_cols = df.copy()\n",
    "# test_list_of_cols.drop(columns='BlackIsComp', inplace=True)\n",
    "\n",
    "# list_of_cols = ['BlackIsComp', 'WhiteIsComp']\n",
    "\n",
    "# assert all([col in test_list_of_cols.columns for col in list_of_cols]), f'Passed dataframe does not contain {list_of_cols}'\n",
    "\n",
    "# any_nan = all(\n",
    "#     df[[x for x in test_list_of_cols.columns if x not in list_of_cols]].notna()\n",
    "# ) # returns True if all values are not NaN\n",
    "# if any_nan == True:\n",
    "# #     return \n",
    "#     print(f\"This dataframe has 0 NaN values in columns: {list(test_list_of_cols[[x for x in df.columns if x not in list_of_cols]].columns)}\")"
   ]
  },
  {
   "cell_type": "markdown",
   "id": "05918b43",
   "metadata": {
    "heading_collapsed": true
   },
   "source": [
    "## Figuring out how to get average time per ply (average emt) for each player helper:"
   ]
  },
  {
   "cell_type": "code",
   "execution_count": null,
   "id": "0548d93d",
   "metadata": {
    "ExecuteTime": {
     "end_time": "2022-11-01T16:25:46.527797Z",
     "start_time": "2022-11-01T16:25:46.517797Z"
    },
    "code_folding": [
     0
    ],
    "hidden": true
   },
   "outputs": [],
   "source": [
    "def get_white_emts(list_of_emts):\n",
    "    '''\n",
    "    Will receive a list of a games emt values\n",
    "    '''\n",
    "    \n",
    "    white_emts = list_of_emts[::2]\n",
    "    return white_emts"
   ]
  },
  {
   "cell_type": "code",
   "execution_count": null,
   "id": "f4ceef9e",
   "metadata": {
    "ExecuteTime": {
     "end_time": "2022-11-01T16:28:27.294291Z",
     "start_time": "2022-11-01T16:28:27.282285Z"
    },
    "code_folding": [
     0
    ],
    "hidden": true
   },
   "outputs": [],
   "source": [
    "def get_black_emts(list_of_emts):\n",
    "    '''\n",
    "    Will receive a list of a games emt values\n",
    "    '''\n",
    "    \n",
    "    black_emts = list_of_emts[1::2]\n",
    "    return black_emts"
   ]
  },
  {
   "cell_type": "code",
   "execution_count": null,
   "id": "6e567b5e",
   "metadata": {
    "ExecuteTime": {
     "end_time": "2022-11-01T16:46:46.200326Z",
     "start_time": "2022-11-01T16:46:46.194326Z"
    },
    "code_folding": [
     0
    ],
    "hidden": true
   },
   "outputs": [],
   "source": [
    "def separate_all_white_and_black_emts(df):\n",
    "    '''\n",
    "    This will receive a dataframe with a column of emt_time (Note: this is not the same as emt, emt_time has only float values)\n",
    "    This will output the dataframe with two new columns: white_emt and black_emt\n",
    "    '''\n",
    "    \n",
    "    df[['white_emt', 'black_emt']]=[[get_white_emts(list_of_emts[0]), get_black_emts(list_of_emts[0])] for list_of_emts in zip(df.emt_time)]\n",
    "    \n",
    "    return df"
   ]
  },
  {
   "cell_type": "code",
   "execution_count": null,
   "id": "126c49d7",
   "metadata": {
    "ExecuteTime": {
     "end_time": "2022-11-01T16:46:46.638621Z",
     "start_time": "2022-11-01T16:46:46.619649Z"
    },
    "code_folding": [
     0
    ],
    "hidden": true
   },
   "outputs": [],
   "source": [
    "def separate_all_white_and_black_average_emts(df, rounded_dp=5):\n",
    "    '''\n",
    "    This will receive a dataframe with a column of emt_time (Note: this is not the same as emt, emt_time has only float values)\n",
    "    This will output the dataframe with two new columns: av_white_emt and av_black_emt\n",
    "    '''\n",
    "    \n",
    "    df[['av_white_emt', 'av_black_emt']]=[[np.round(np.mean(get_white_emts(list_of_emts[0])), rounded_dp), np.round(np.mean(get_black_emts(list_of_emts[0])), rounded_dp)] for list_of_emts in zip(df.emt_time)]\n",
    "    \n",
    "    return df"
   ]
  },
  {
   "cell_type": "code",
   "execution_count": null,
   "id": "cb6c64f7",
   "metadata": {
    "ExecuteTime": {
     "end_time": "2022-11-01T16:25:46.527797Z",
     "start_time": "2022-11-01T16:25:46.517797Z"
    },
    "code_folding": [
     0
    ],
    "hidden": true
   },
   "outputs": [],
   "source": [
    "# def get_white_emts(list_of_emts):\n",
    "#     '''\n",
    "#     Will receive a list of a games emt values\n",
    "#     '''\n",
    "    \n",
    "#     white_emts = list_of_emts[::2]\n",
    "#     return white_emts\n",
    "\n",
    "\n",
    "# def get_black_emts(list_of_emts):\n",
    "#     '''\n",
    "#     Will receive a list of a games emt values\n",
    "#     '''\n",
    "    \n",
    "#     black_emts = list_of_emts[1::2]\n",
    "#     return black_emts\n",
    "\n",
    "\n",
    "# def separate_all_white_and_black_emts(df):\n",
    "#     '''\n",
    "#     This will receive a dataframe with a column of emt_time (Note: this is not the same as emt, emt_time has only float values)\n",
    "#     This will output the dataframe with two new columns: white_emt and black_emt\n",
    "#     '''\n",
    "    \n",
    "#     df[['white_emt', 'black_emt']]=[[get_white_emts(list_of_emts[0]), get_black_emts(list_of_emts[0])] for list_of_emts in zip(df.emt_time)]\n",
    "    \n",
    "#     return df\n",
    "\n",
    "\n",
    "# def separate_all_white_and_black_average_emts(df, rounded_dp=5):\n",
    "#     '''\n",
    "#     This will receive a dataframe with a column of emt_time (Note: this is not the same as emt, emt_time has only float values)\n",
    "#     This will output the dataframe with two new columns: av_white_emt and av_black_emt\n",
    "#     '''\n",
    "    \n",
    "#     df[['av_white_emt', 'av_black_emt']]=[[np.round(np.mean(get_white_emts(list_of_emts[0])), rounded_dp), np.round(np.mean(get_black_emts(list_of_emts[0])), rounded_dp)] for list_of_emts in zip(df.emt_time)]\n",
    "    \n",
    "#     return df"
   ]
  },
  {
   "cell_type": "code",
   "execution_count": null,
   "id": "1d2e1748",
   "metadata": {
    "ExecuteTime": {
     "end_time": "2022-11-01T16:41:46.942998Z",
     "start_time": "2022-11-01T16:41:33.722108Z"
    },
    "code_folding": [
     0
    ],
    "hidden": true
   },
   "outputs": [],
   "source": [
    "# # %%timeit # 163 ms ± 1.79 ms per loop (mean ± std. dev. of 7 runs, 10 loops each)\n",
    "\n",
    "# zeta_[['white_emts', 'black_emts']]=[\n",
    "#     [get_white_emts(list_of_emts[0]), get_black_emts(list_of_emts[0])] for list_of_emts in zip(zeta_.emt_time)]"
   ]
  },
  {
   "cell_type": "code",
   "execution_count": null,
   "id": "2d640baa",
   "metadata": {
    "ExecuteTime": {
     "end_time": "2022-11-01T16:45:57.398168Z",
     "start_time": "2022-11-01T16:45:57.386197Z"
    },
    "code_folding": [
     0
    ],
    "hidden": true
   },
   "outputs": [],
   "source": [
    "# # %%timeit # 175 ms ± 44.9 ms per loop (mean ± std. dev. of 7 runs, 1 loop each)\n",
    "\n",
    "# zeta_[['white_emts', 'black_emts']]=[\n",
    "#     [get_white_emts(list_of_emts), get_black_emts(list_of_emts)] for list_of_emts in zeta_.emt_time]"
   ]
  },
  {
   "cell_type": "code",
   "execution_count": null,
   "id": "d20cef18",
   "metadata": {
    "hidden": true
   },
   "outputs": [],
   "source": []
  },
  {
   "cell_type": "code",
   "execution_count": null,
   "id": "4422ac70",
   "metadata": {
    "hidden": true
   },
   "outputs": [],
   "source": []
  },
  {
   "cell_type": "markdown",
   "id": "28209127",
   "metadata": {
    "hidden": true
   },
   "source": [
    "------"
   ]
  },
  {
   "cell_type": "markdown",
   "id": "85017a4e",
   "metadata": {
    "heading_collapsed": true
   },
   "source": [
    "## Checking PlyCount matches length of moves"
   ]
  },
  {
   "cell_type": "code",
   "execution_count": null,
   "id": "cc31cc4c",
   "metadata": {
    "hidden": true
   },
   "outputs": [],
   "source": []
  },
  {
   "cell_type": "code",
   "execution_count": null,
   "id": "8fdb8b16",
   "metadata": {
    "ExecuteTime": {
     "end_time": "2022-10-24T16:34:04.558617Z",
     "start_time": "2022-10-24T16:34:04.550645Z"
    },
    "hidden": true
   },
   "outputs": [],
   "source": [
    "# Testing:\n",
    "#--#"
   ]
  },
  {
   "cell_type": "code",
   "execution_count": null,
   "id": "4ed03291",
   "metadata": {
    "ExecuteTime": {
     "end_time": "2022-10-24T15:51:07.192806Z",
     "start_time": "2022-10-24T15:51:07.184806Z"
    },
    "hidden": true
   },
   "outputs": [],
   "source": [
    "# np.where(next(zip(...,...))) way: [from previous tinkering]\n",
    "#\n",
    "#\n",
    "# nocomp_df['NoComp'] = np.where(next(zip(nocomp_df['WhiteIsComp'], nocomp_df['BlackIsComp']))==(0, 0), \n",
    "#                                np.int8(1),\n",
    "#                                np.int8(0))\n",
    "#\n",
    "# but maybe it doesn't work here; how can I check if each part is equal to it's respective counterpart?\n",
    "# by calling the 'next(..)' twice and indexing each one?\n",
    "# ==> not possible as it only ever takes the first component of the zip\n",
    "\n",
    "# need to know what the next(zip(...,...)) returns (i.e. what does indexing only once give? is it a list?)...\n",
    "# ...done below"
   ]
  },
  {
   "cell_type": "code",
   "execution_count": null,
   "id": "401fffee",
   "metadata": {
    "ExecuteTime": {
     "end_time": "2022-10-24T16:07:21.012873Z",
     "start_time": "2022-10-24T16:07:21.004906Z"
    },
    "hidden": true
   },
   "outputs": [],
   "source": [
    "# test_ = next(zip(df_2022_2018_CvH_distinv.moves, df_2022_2018_CvH_distinv.PlyCount))\n",
    "# display(test_)\n",
    "# display(test_[0]) \n",
    "# display(type(test_[0])) # list\n",
    "# display(len(test_[0])) # 53\n",
    "# display(test_[1]) #53\n",
    "# display(type(test_[1])) # int"
   ]
  },
  {
   "cell_type": "code",
   "execution_count": null,
   "id": "579e800c",
   "metadata": {
    "ExecuteTime": {
     "end_time": "2022-10-24T16:25:54.687653Z",
     "start_time": "2022-10-24T16:25:54.680656Z"
    },
    "hidden": true
   },
   "outputs": [],
   "source": [
    "# # sanity check of is the np.where(next(zip())) doing what I think it's doing?\n",
    "\n",
    "# df_2022_2018_CvH_distinv['testing_method'] = np.where(next(zip(df_2022_2018_CvH_distinv['WhiteIsComp'],\n",
    "#                                                                df_2022_2018_CvH_distinv['BlackIsComp']))==(0, 0),\n",
    "#                                                       np.int8(1),\n",
    "#                                                       np.int8(0))\n",
    "\n",
    "# all(df_2022_2018_CvH_distinv['testing_method']==df_2022_2018_CvH_distinv['NoComp']) # True\n",
    "\n",
    "\n",
    "# df_2022_2018_HvH.head(1)\n",
    "\n",
    "# df_2022_2018_HvH['testing_method'] = np.where(next(zip(df_2022_2018_HvH['WhiteIsComp'],\n",
    "#                                                                df_2022_2018_HvH['BlackIsComp']))==(0, 0),\n",
    "#                                                       np.int8(1),\n",
    "#                                                       np.int8(0))\n",
    "\n",
    "# all(df_2022_2018_HvH['testing_method']==df_2022_2018_HvH['NoComp']) # True\n",
    "\n",
    "\n",
    "# # Seems like it...."
   ]
  },
  {
   "cell_type": "code",
   "execution_count": null,
   "id": "7cde7ef6",
   "metadata": {
    "ExecuteTime": {
     "end_time": "2022-10-24T16:25:55.869949Z",
     "start_time": "2022-10-24T16:25:55.861948Z"
    },
    "hidden": true
   },
   "outputs": [],
   "source": [
    "# display([next(zip(df_2022_2018_CvH_distinv.moves, df_2022_2018_CvH_distinv.PlyCount))[0], \n",
    "#         next(zip(df_2022_2018_CvH_distinv.moves, df_2022_2018_CvH_distinv.PlyCount))[1]])\n",
    "\n",
    "# display([len(next(zip(df_2022_2018_CvH_distinv.moves, df_2022_2018_CvH_distinv.PlyCount))[0]), \n",
    "#         next(zip(df_2022_2018_CvH_distinv.moves, df_2022_2018_CvH_distinv.PlyCount))[1]]) # [53, 53]\n",
    "\n",
    "# df_2022_2018_CvH_distinv['testing_method'] = np.where(\n",
    "#     len(next(zip(df_2022_2018_CvH_distinv.moves, df_2022_2018_CvH_distinv.PlyCount))[0])==\\\n",
    "#         next(zip(df_2022_2018_CvH_distinv.moves, df_2022_2018_CvH_distinv.PlyCount))[1],\n",
    "#     len(next(zip(df_2022_2018_CvH_distinv.moves, df_2022_2018_CvH_distinv.PlyCount))[0]),\n",
    "#     next(zip(df_2022_2018_CvH_distinv.moves, df_2022_2018_CvH_distinv.PlyCount))[1])\n",
    "# # the above ends up returning a series of all 53, which is wrong\n",
    "\n",
    "# df_2022_2018_CvH_distinv['testing_method'] = np.where(\n",
    "#     len(next(zip(df_2022_2018_CvH_distinv.moves, df_2022_2018_CvH_distinv.PlyCount))[0])==\\\n",
    "#         next(zip(df_2022_2018_CvH_distinv.moves, df_2022_2018_CvH_distinv.PlyCount))[1], True, False)\n",
    "\n",
    "# df_2022_2018_CvH_distinv['testing_method']"
   ]
  },
  {
   "cell_type": "code",
   "execution_count": null,
   "id": "43f09354",
   "metadata": {
    "ExecuteTime": {
     "end_time": "2022-10-24T16:26:43.152343Z",
     "start_time": "2022-10-24T16:26:43.137377Z"
    },
    "hidden": true
   },
   "outputs": [],
   "source": [
    "# Conclusion of above is that it is not possible to compare length of moves and PlyCount in this way (i.e. \n",
    "# by calling next(zip(...,...))) multiple times"
   ]
  },
  {
   "cell_type": "code",
   "execution_count": null,
   "id": "579a4698",
   "metadata": {
    "ExecuteTime": {
     "end_time": "2022-10-24T16:28:01.952049Z",
     "start_time": "2022-10-24T16:28:01.943980Z"
    },
    "hidden": true
   },
   "outputs": [],
   "source": [
    "#--#"
   ]
  },
  {
   "cell_type": "code",
   "execution_count": null,
   "id": "bdad6325",
   "metadata": {
    "ExecuteTime": {
     "end_time": "2022-10-24T15:51:07.192806Z",
     "start_time": "2022-10-24T15:51:07.184806Z"
    },
    "hidden": true
   },
   "outputs": [],
   "source": [
    "# list comprehension for element in zip() way: !fastest of these tested methods!\n",
    "#\n",
    "#\n",
    "# all([len(row[0])==row[1] for row in zip(...,...)])\n"
   ]
  },
  {
   "cell_type": "code",
   "execution_count": null,
   "id": "8da6d41f",
   "metadata": {
    "ExecuteTime": {
     "end_time": "2022-10-24T16:29:13.871457Z",
     "start_time": "2022-10-24T16:29:13.854619Z"
    },
    "hidden": true
   },
   "outputs": [],
   "source": [
    "# [row for row in zip(df_2022_2018_CvH_distinv.moves, df_2022_2018_CvH_distinv.PlyCount)]"
   ]
  },
  {
   "cell_type": "code",
   "execution_count": null,
   "id": "019d22ce",
   "metadata": {
    "ExecuteTime": {
     "end_time": "2022-10-24T16:36:19.285728Z",
     "start_time": "2022-10-24T16:36:19.268760Z"
    },
    "hidden": true
   },
   "outputs": [],
   "source": [
    "# df_2022_2018_CvH_distinv['testing_method'] = \\\n",
    "# [[len(row[0]), row[1]] for row in zip(df_2022_2018_CvH_distinv.moves, df_2022_2018_CvH_distinv.PlyCount)]\n",
    "\n",
    "# df_2022_2018_CvH_distinv['testing_method'].head()\n",
    "\n",
    "# # 0    [53, 53]\n",
    "# # 1    [50, 50]\n",
    "# # 2    [45, 45]\n",
    "# # 3    [42, 42]\n",
    "# # 4    [36, 36]"
   ]
  },
  {
   "cell_type": "code",
   "execution_count": null,
   "id": "328e8518",
   "metadata": {
    "ExecuteTime": {
     "end_time": "2022-10-24T16:32:20.343605Z",
     "start_time": "2022-10-24T16:32:20.259498Z"
    },
    "hidden": true
   },
   "outputs": [],
   "source": [
    "# %%timeit # 69 ms ± 580 µs per loop (mean ± std. dev. of 7 runs, 10 loops each)\n",
    "\n",
    "# all([len(row[0])==row[1] for row in zip(df_2022_2018_CvH_distinv.moves, df_2022_2018_CvH_distinv.PlyCount)]) # True"
   ]
  },
  {
   "cell_type": "code",
   "execution_count": null,
   "id": "ecedb5cb",
   "metadata": {
    "ExecuteTime": {
     "end_time": "2022-10-24T16:27:54.933653Z",
     "start_time": "2022-10-24T16:27:54.925653Z"
    },
    "hidden": true
   },
   "outputs": [],
   "source": [
    "#--#"
   ]
  },
  {
   "cell_type": "code",
   "execution_count": null,
   "id": "db5735f2",
   "metadata": {
    "ExecuteTime": {
     "end_time": "2022-10-24T16:35:32.853576Z",
     "start_time": "2022-10-24T16:35:32.841610Z"
    },
    "hidden": true
   },
   "outputs": [],
   "source": [
    "# list comprehension with:\n",
    "#\n",
    "# [len(df.iloc[index].moves)==df.iloc[index].PlyCount[0] for index in range(df.shape[0])]\n",
    "#\n",
    "# make sure that df.iloc[index] does in fact return the whole row ==> it does"
   ]
  },
  {
   "cell_type": "code",
   "execution_count": null,
   "id": "49e3adb4",
   "metadata": {
    "ExecuteTime": {
     "end_time": "2022-10-24T16:35:34.321155Z",
     "start_time": "2022-10-24T16:35:34.314135Z"
    },
    "hidden": true
   },
   "outputs": [],
   "source": [
    "# type(df_2022_2018_CvH_distinv.iloc[0].moves) # list !!!\n",
    "# len(df_2022_2018_CvH_distinv.iloc[0].moves) # 53\n",
    "# df_2022_2018_CvH_distinv.iloc[0].PlyCount # 53"
   ]
  },
  {
   "cell_type": "code",
   "execution_count": null,
   "id": "a860e528",
   "metadata": {
    "ExecuteTime": {
     "end_time": "2022-10-24T15:58:49.369705Z",
     "start_time": "2022-10-24T15:58:07.223712Z"
    },
    "hidden": true
   },
   "outputs": [],
   "source": [
    "# %%timeit # 42.2 s ± 266 ms per loop (mean ± std. dev. of 7 runs, 1 loop each)\n",
    "\n",
    "# list comp method using index:\n",
    "\n",
    "# ply_movelen_check_list = [len(df_2022_2018_CvH_distinv.iloc[index].moves)==\\\n",
    "#                           df_2022_2018_CvH_distinv.iloc[index].PlyCount for \\\n",
    "#                           index in range(df_2022_2018_CvH_distinv.shape[0])]\n",
    "\n",
    "# all([len(df_2022_2018_CvH_distinv.iloc[index].moves)==\\\n",
    "#      df_2022_2018_CvH_distinv.iloc[index].PlyCount for \\\n",
    "#      index in range(df_2022_2018_CvH_distinv.shape[0])]) # True"
   ]
  },
  {
   "cell_type": "code",
   "execution_count": null,
   "id": "5f5f5852",
   "metadata": {
    "ExecuteTime": {
     "end_time": "2022-10-24T15:51:20.931052Z",
     "start_time": "2022-10-24T15:51:20.913045Z"
    },
    "hidden": true
   },
   "outputs": [],
   "source": [
    "# all(ply_movelen_check_list) # True - all the PlyCounts do match the number of ply in moves"
   ]
  },
  {
   "cell_type": "code",
   "execution_count": null,
   "id": "1d7e44a0",
   "metadata": {
    "ExecuteTime": {
     "end_time": "2022-10-24T16:33:40.940678Z",
     "start_time": "2022-10-24T16:33:40.937678Z"
    },
    "hidden": true
   },
   "outputs": [],
   "source": [
    "#--#"
   ]
  },
  {
   "cell_type": "code",
   "execution_count": null,
   "id": "f6a6a372",
   "metadata": {
    "hidden": true
   },
   "outputs": [],
   "source": []
  },
  {
   "cell_type": "code",
   "execution_count": null,
   "id": "42fc652b",
   "metadata": {
    "hidden": true
   },
   "outputs": [],
   "source": []
  },
  {
   "cell_type": "code",
   "execution_count": null,
   "id": "f70b1c2a",
   "metadata": {
    "hidden": true
   },
   "outputs": [],
   "source": []
  },
  {
   "cell_type": "markdown",
   "id": "a2aa1421",
   "metadata": {
    "hidden": true
   },
   "source": [
    "----"
   ]
  },
  {
   "cell_type": "markdown",
   "id": "a6bd750d",
   "metadata": {},
   "source": [
    "## Next"
   ]
  },
  {
   "cell_type": "code",
   "execution_count": null,
   "id": "35f1d29c",
   "metadata": {},
   "outputs": [],
   "source": []
  },
  {
   "cell_type": "code",
   "execution_count": null,
   "id": "ef62471a",
   "metadata": {},
   "outputs": [],
   "source": []
  },
  {
   "cell_type": "code",
   "execution_count": null,
   "id": "2ef0091d",
   "metadata": {},
   "outputs": [],
   "source": []
  },
  {
   "cell_type": "markdown",
   "id": "d91b10fd",
   "metadata": {},
   "source": [
    "-----"
   ]
  },
  {
   "cell_type": "code",
   "execution_count": null,
   "id": "6dde7a84",
   "metadata": {},
   "outputs": [],
   "source": []
  }
 ],
 "metadata": {
  "kernelspec": {
   "display_name": "capstone_env",
   "language": "python",
   "name": "capstone_env"
  },
  "language_info": {
   "codemirror_mode": {
    "name": "ipython",
    "version": 3
   },
   "file_extension": ".py",
   "mimetype": "text/x-python",
   "name": "python",
   "nbconvert_exporter": "python",
   "pygments_lexer": "ipython3",
   "version": "3.9.13"
  },
  "toc": {
   "base_numbering": 1,
   "nav_menu": {},
   "number_sections": true,
   "sideBar": true,
   "skip_h1_title": false,
   "title_cell": "Table of Contents",
   "title_sidebar": "Contents",
   "toc_cell": false,
   "toc_position": {
    "height": "calc(100% - 180px)",
    "left": "10px",
    "top": "150px",
    "width": "512px"
   },
   "toc_section_display": true,
   "toc_window_display": true
  }
 },
 "nbformat": 4,
 "nbformat_minor": 5
}
