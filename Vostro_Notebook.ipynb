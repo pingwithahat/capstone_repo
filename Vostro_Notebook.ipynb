{
 "cells": [
  {
   "cell_type": "markdown",
   "id": "65f2a87d",
   "metadata": {},
   "source": [
    "# Example of Contents for Loading and Cleaning\n",
    "\n",
    "### Introduction\n",
    "\n",
    "#### Problem Statement\n",
    "\n",
    "#### Data Collection\n",
    "\n",
    "\n",
    "### Loading & Checking\n",
    "\n",
    "#### Data and Column Descriptions\n",
    "\n",
    "\n",
    "### Investigate Columns\n",
    "\n",
    "#### Correcting Data Types\n",
    "\n",
    "#### Remove Null Values?\n",
    "\n",
    "\n",
    "### Creating Features \n",
    "\n",
    "#### Time per ply/move\n",
    "\n",
    "#### Average time per ply"
   ]
  },
  {
   "cell_type": "markdown",
   "id": "461f60f6",
   "metadata": {},
   "source": [
    "# EDA Contents \n",
    "\n",
    "## 'Placeholder'"
   ]
  },
  {
   "cell_type": "markdown",
   "id": "d564d563",
   "metadata": {},
   "source": [
    "# WIP"
   ]
  },
  {
   "cell_type": "markdown",
   "id": "2360f76e",
   "metadata": {},
   "source": [
    "###### Imports"
   ]
  },
  {
   "cell_type": "code",
   "execution_count": 1,
   "id": "86a6145f",
   "metadata": {},
   "outputs": [],
   "source": [
    "import sys\n",
    "import numpy as np\n",
    "import pandas as pd\n",
    "import matplotlib.pyplot as plt\n",
    "import chess\n",
    "import io\n",
    "import sys\n",
    "import chess.pgn\n",
    "from io import StringIO\n",
    "import seaborn as sns\n",
    "\n",
    "import plotly.express as px\n",
    "import plotly.graph_objects as go\n",
    "\n",
    "\n",
    "%matplotlib inline\n",
    "\n",
    "import joblib\n",
    "\n",
    "# import pickle\n",
    "# from sklearn.utils import shuffle\n",
    "# import gc\n",
    "# import logging\n",
    "\n"
   ]
  },
  {
   "cell_type": "markdown",
   "id": "304c08f5",
   "metadata": {},
   "source": [
    "###### helpers"
   ]
  },
  {
   "cell_type": "code",
   "execution_count": 2,
   "id": "9ff9ff09",
   "metadata": {},
   "outputs": [],
   "source": [
    "import detecting_cheaters_in_chess_helpers as hp"
   ]
  },
  {
   "cell_type": "markdown",
   "id": "45666345",
   "metadata": {},
   "source": [
    "['Event', 'Site', 'Date', 'Round', 'White', 'Black', 'Result',\n",
    "       'BlackClock', 'BlackElo', 'BlackIsComp', 'BlackRD', 'ECO',\n",
    "       'FICSGamesDBGameNo', 'PlyCount', 'Time', 'TimeControl', 'WhiteClock',\n",
    "       'WhiteElo', 'WhiteRD', 'emt', 'moves', 'WhiteIsComp', 'NoComp']"
   ]
  },
  {
   "cell_type": "markdown",
   "id": "ee86e032",
   "metadata": {},
   "source": [
    "##### WIP:"
   ]
  },
  {
   "cell_type": "code",
   "execution_count": 3,
   "id": "8b4ff576",
   "metadata": {},
   "outputs": [],
   "source": [
    "df = pd.read_json(\"data/raw_data/json/ficsgamesdb_search_262781.json\")"
   ]
  },
  {
   "cell_type": "code",
   "execution_count": 4,
   "id": "1af46a19",
   "metadata": {},
   "outputs": [],
   "source": [
    "# df = pd.read_json(\"data/raw_data/json/ficsgamesdb_search_ignore_colour_test.json\")"
   ]
  },
  {
   "cell_type": "code",
   "execution_count": 5,
   "id": "85fff6a9",
   "metadata": {},
   "outputs": [],
   "source": [
    "# df = pd.read_json(\"data/raw_data/json/2021/ficsgamesdb_2021_CvH_movetimes_264813.json\")\n",
    "\n",
    "# joblib.dump(df, '2021_CvH.pkl')"
   ]
  },
  {
   "cell_type": "code",
   "execution_count": 6,
   "id": "5e1dc3df",
   "metadata": {},
   "outputs": [],
   "source": [
    "df = joblib.load('2021_CvH.pkl')"
   ]
  },
  {
   "cell_type": "code",
   "execution_count": 7,
   "id": "504ece3b",
   "metadata": {},
   "outputs": [
    {
     "name": "stdout",
     "output_type": "stream",
     "text": [
      "<generator object chess_checker_function.<locals>.dtype_checker.<locals>.<genexpr> at 0x000001CF522A4C10>\n",
      "Expected columns: True \n",
      "Expected dtypes: False\n"
     ]
    }
   ],
   "source": [
    "hp.chess_checker_function(df)"
   ]
  },
  {
   "cell_type": "code",
   "execution_count": 82,
   "id": "64579d30",
   "metadata": {},
   "outputs": [],
   "source": [
    "    def dtype_checker(df, schema):\n",
    "        wrong_dtypes = [[i, j] for i, j in schema.items() if i in df.columns and df[i].dtype!=j]\n",
    "        if len(wrong_dtypes)!=0:\n",
    "            for row in [f'Column {k[0]} does not match datatype {k[1]}' for k in wrong_dtypes]:\n",
    "                print(row)\n",
    "            return False\n",
    "        else:\n",
    "            return True"
   ]
  },
  {
   "cell_type": "code",
   "execution_count": 83,
   "id": "88209de1",
   "metadata": {
    "code_folding": [
     0
    ]
   },
   "outputs": [],
   "source": [
    "    expected_schema = {\n",
    "        'Event': 'object',\n",
    "        'Site': 'object',\n",
    "        'Date': 'datetime64[ns]',\n",
    "        'Round': 'object',\n",
    "        'White': 'object',\n",
    "        'Black': 'object',\n",
    "        'Result': 'object',\n",
    "        'BlackClock': 'object',\n",
    "        'BlackElo':  'int64',\n",
    "        'BlackIsComp': 'object',\n",
    "        'BlackRD': 'float64',\n",
    "        'ECO': 'object',\n",
    "        'FICSGamesDBGameNo':  'int64',\n",
    "        'PlyCount':  'int64',\n",
    "        'Time': 'object',\n",
    "        'TimeControl': 'object',\n",
    "        'WhiteClock': 'object',\n",
    "        'WhiteElo':  'int64',\n",
    "        'WhiteRD': 'float64',\n",
    "        'emt': 'object',\n",
    "        'moves': 'object',\n",
    "        'WhiteIsComp': 'object'  \n",
    "    }"
   ]
  },
  {
   "cell_type": "code",
   "execution_count": 84,
   "id": "d83de2e5",
   "metadata": {},
   "outputs": [
    {
     "name": "stdout",
     "output_type": "stream",
     "text": [
      "Column BlackRD does not match datatype float64\n",
      "Column WhiteRD does not match datatype float64\n"
     ]
    },
    {
     "data": {
      "text/plain": [
       "False"
      ]
     },
     "execution_count": 84,
     "metadata": {},
     "output_type": "execute_result"
    }
   ],
   "source": [
    "dtype_checker(df, expected_schema)"
   ]
  },
  {
   "cell_type": "code",
   "execution_count": null,
   "id": "0e6ebb88",
   "metadata": {},
   "outputs": [],
   "source": [
    "def schema_checker(df, cols):\n",
    "#         for i in cols:\n",
    "#             if i not in df.columns:\n",
    "#                 print(f'Column {i} not found')\n",
    "# #                 return False\n",
    "#         return True\n",
    "    missing_cols = [i for i in cols if i not in df.columns]\n",
    "    if len(missing_cols)!=0:\n",
    "        \n",
    "            print(f'Column {i} not found' for i in missing_cols)\n",
    "            return False\n",
    "    else:\n",
    "        return True"
   ]
  },
  {
   "cell_type": "code",
   "execution_count": 8,
   "id": "fbd271b0",
   "metadata": {},
   "outputs": [
    {
     "name": "stdout",
     "output_type": "stream",
     "text": [
      "<class 'pandas.core.frame.DataFrame'>\n",
      "RangeIndex: 51075 entries, 0 to 51074\n",
      "Data columns (total 22 columns):\n",
      " #   Column             Non-Null Count  Dtype         \n",
      "---  ------             --------------  -----         \n",
      " 0   Event              51075 non-null  object        \n",
      " 1   Site               51075 non-null  object        \n",
      " 2   Date               51075 non-null  datetime64[ns]\n",
      " 3   Round              51075 non-null  object        \n",
      " 4   White              51075 non-null  object        \n",
      " 5   Black              51075 non-null  object        \n",
      " 6   Result             51075 non-null  object        \n",
      " 7   BlackClock         51075 non-null  object        \n",
      " 8   BlackElo           51075 non-null  int64         \n",
      " 9   BlackIsComp        25718 non-null  object        \n",
      " 10  BlackRD            51075 non-null  int64         \n",
      " 11  ECO                51075 non-null  object        \n",
      " 12  FICSGamesDBGameNo  51075 non-null  int64         \n",
      " 13  PlyCount           51075 non-null  int64         \n",
      " 14  Time               51075 non-null  object        \n",
      " 15  TimeControl        51075 non-null  object        \n",
      " 16  WhiteClock         51075 non-null  object        \n",
      " 17  WhiteElo           51075 non-null  int64         \n",
      " 18  WhiteRD            51075 non-null  int64         \n",
      " 19  emt                51075 non-null  object        \n",
      " 20  moves              51075 non-null  object        \n",
      " 21  WhiteIsComp        25357 non-null  object        \n",
      "dtypes: datetime64[ns](1), int64(6), object(15)\n",
      "memory usage: 8.6+ MB\n"
     ]
    }
   ],
   "source": [
    "df.info()"
   ]
  },
  {
   "cell_type": "code",
   "execution_count": 9,
   "id": "5b4576d6",
   "metadata": {
    "scrolled": true
   },
   "outputs": [
    {
     "data": {
      "text/plain": [
       "Index(['Event', 'Site', 'Date', 'Round', 'White', 'Black', 'Result',\n",
       "       'BlackClock', 'BlackElo', 'BlackIsComp', 'BlackRD', 'ECO',\n",
       "       'FICSGamesDBGameNo', 'PlyCount', 'Time', 'TimeControl', 'WhiteClock',\n",
       "       'WhiteElo', 'WhiteRD', 'emt', 'moves', 'WhiteIsComp', 'NoComp'],\n",
       "      dtype='object')"
      ]
     },
     "execution_count": 9,
     "metadata": {},
     "output_type": "execute_result"
    }
   ],
   "source": [
    "nocomp_df_test = hp.change_comp_columns(df)\n",
    "nocomp_df_test.columns"
   ]
  },
  {
   "cell_type": "markdown",
   "id": "c5c5c9c5",
   "metadata": {},
   "source": [
    "['Event', 'Site', 'Date', 'Round', 'White', 'Black', 'Result',\n",
    "       'BlackClock', 'BlackElo', 'BlackIsComp', 'BlackRD', 'ECO',\n",
    "       'FICSGamesDBGameNo', 'PlyCount', 'Time', 'TimeControl', 'WhiteClock',\n",
    "       'WhiteElo', 'WhiteRD', 'emt', 'moves', 'WhiteIsComp', 'NoComp']"
   ]
  },
  {
   "cell_type": "code",
   "execution_count": 10,
   "id": "b6ada80b",
   "metadata": {},
   "outputs": [
    {
     "name": "stdout",
     "output_type": "stream",
     "text": [
      "This dataframe has 0 NaN values in columns: ['Event', 'Site', 'Date', 'Round', 'White', 'Black', 'Result', 'BlackClock', 'BlackElo', 'BlackRD', 'ECO', 'FICSGamesDBGameNo', 'PlyCount', 'Time', 'TimeControl', 'WhiteClock', 'WhiteElo', 'WhiteRD', 'emt', 'moves']\n"
     ]
    }
   ],
   "source": [
    "hp.chess_nan_checker(df)"
   ]
  },
  {
   "cell_type": "code",
   "execution_count": null,
   "id": "dd6b6432",
   "metadata": {},
   "outputs": [],
   "source": [
    "df.info()"
   ]
  },
  {
   "cell_type": "code",
   "execution_count": null,
   "id": "9086c5a6",
   "metadata": {},
   "outputs": [],
   "source": []
  },
  {
   "cell_type": "code",
   "execution_count": null,
   "id": "ab75ece6",
   "metadata": {},
   "outputs": [],
   "source": []
  },
  {
   "cell_type": "code",
   "execution_count": null,
   "id": "7f90cb5c",
   "metadata": {},
   "outputs": [],
   "source": [
    "# Write function that compares ply count to "
   ]
  },
  {
   "cell_type": "code",
   "execution_count": null,
   "id": "1b3330e4",
   "metadata": {},
   "outputs": [],
   "source": []
  },
  {
   "cell_type": "code",
   "execution_count": null,
   "id": "c2271f5a",
   "metadata": {},
   "outputs": [],
   "source": []
  },
  {
   "cell_type": "code",
   "execution_count": null,
   "id": "5e12516a",
   "metadata": {},
   "outputs": [],
   "source": [
    "# Write function to check that the length of emt matches ply"
   ]
  },
  {
   "cell_type": "code",
   "execution_count": null,
   "id": "d5693c9f",
   "metadata": {},
   "outputs": [],
   "source": []
  },
  {
   "cell_type": "code",
   "execution_count": null,
   "id": "e769c509",
   "metadata": {},
   "outputs": [],
   "source": []
  },
  {
   "cell_type": "code",
   "execution_count": null,
   "id": "7a1ddd29",
   "metadata": {},
   "outputs": [],
   "source": [
    "# Write function that checks all the emt have 'emt' in them and not 'clk'"
   ]
  },
  {
   "cell_type": "code",
   "execution_count": null,
   "id": "18e0303f",
   "metadata": {},
   "outputs": [],
   "source": []
  },
  {
   "cell_type": "code",
   "execution_count": null,
   "id": "a916266a",
   "metadata": {},
   "outputs": [],
   "source": []
  },
  {
   "cell_type": "code",
   "execution_count": null,
   "id": "b4783d79",
   "metadata": {},
   "outputs": [],
   "source": [
    "# Write function to check that none of the emt values are missing"
   ]
  },
  {
   "cell_type": "code",
   "execution_count": null,
   "id": "d9abd753",
   "metadata": {},
   "outputs": [],
   "source": []
  },
  {
   "cell_type": "code",
   "execution_count": null,
   "id": "f265cb09",
   "metadata": {},
   "outputs": [],
   "source": []
  },
  {
   "cell_type": "code",
   "execution_count": null,
   "id": "973c2493",
   "metadata": {},
   "outputs": [],
   "source": []
  },
  {
   "cell_type": "code",
   "execution_count": null,
   "id": "8422f963",
   "metadata": {},
   "outputs": [],
   "source": []
  },
  {
   "cell_type": "markdown",
   "id": "11d21b43",
   "metadata": {
    "heading_collapsed": true
   },
   "source": [
    "###### Data and Column Descriptions:"
   ]
  },
  {
   "cell_type": "code",
   "execution_count": null,
   "id": "e55a1009",
   "metadata": {
    "hidden": true
   },
   "outputs": [],
   "source": [
    "## Event:"
   ]
  },
  {
   "cell_type": "code",
   "execution_count": null,
   "id": "2bd3387d",
   "metadata": {
    "hidden": true
   },
   "outputs": [],
   "source": [
    "df['Event'].value_counts();"
   ]
  },
  {
   "cell_type": "markdown",
   "id": "a45440d7",
   "metadata": {
    "hidden": true
   },
   "source": [
    "FICS rated standard game      4942\n",
    "\n",
    "FICS unrated standard game      58"
   ]
  },
  {
   "cell_type": "code",
   "execution_count": null,
   "id": "9e088834",
   "metadata": {
    "hidden": true
   },
   "outputs": [],
   "source": [
    "type(df['Event'][0]);\n",
    "# String"
   ]
  },
  {
   "cell_type": "code",
   "execution_count": null,
   "id": "37943a44",
   "metadata": {
    "hidden": true
   },
   "outputs": [],
   "source": [
    "## Site:"
   ]
  },
  {
   "cell_type": "code",
   "execution_count": null,
   "id": "5155b62f",
   "metadata": {
    "hidden": true
   },
   "outputs": [],
   "source": [
    "df.Site.value_counts();\n",
    "# All 500 are FICS freechess.org"
   ]
  },
  {
   "cell_type": "code",
   "execution_count": null,
   "id": "c2112f55",
   "metadata": {
    "hidden": true
   },
   "outputs": [],
   "source": [
    "type(df.Site[0]);\n",
    "# String"
   ]
  },
  {
   "cell_type": "code",
   "execution_count": null,
   "id": "4b249ff7",
   "metadata": {
    "hidden": true
   },
   "outputs": [],
   "source": [
    "## Date:"
   ]
  },
  {
   "cell_type": "code",
   "execution_count": null,
   "id": "edff2a79",
   "metadata": {
    "hidden": true
   },
   "outputs": [],
   "source": [
    "df.Date.nunique();\n",
    "# 16 unique dates in 2022"
   ]
  },
  {
   "cell_type": "code",
   "execution_count": null,
   "id": "589809e0",
   "metadata": {
    "hidden": true
   },
   "outputs": [],
   "source": [
    "df.Date.value_counts();\n",
    "# All of these games took place in September from 05 to 18"
   ]
  },
  {
   "cell_type": "markdown",
   "id": "9f2773e2",
   "metadata": {
    "hidden": true
   },
   "source": [
    "- 2022-09-18    427\n",
    "- 2022-09-17    403\n",
    "- 2022-09-10    385\n",
    "- 2022-09-16    362\n",
    "- 2022-09-08    360\n",
    "- 2022-09-11    351\n",
    "- 2022-09-12    337\n",
    "- 2022-09-07    322\n",
    "- 2022-09-14    317\n",
    "- 2022-09-19    316\n",
    "- 2022-09-15    315\n",
    "- 2022-09-13    305\n",
    "- 2022-09-09    304\n",
    "- 2022-09-06    255\n",
    "- 2022-09-20    145\n",
    "- 2022-09-05     96"
   ]
  },
  {
   "cell_type": "code",
   "execution_count": null,
   "id": "f1d8e1fe",
   "metadata": {
    "hidden": true
   },
   "outputs": [],
   "source": [
    "df.Date.dtype;\n",
    "# tldr it's datetime"
   ]
  },
  {
   "cell_type": "code",
   "execution_count": null,
   "id": "c03cc59e",
   "metadata": {
    "hidden": true
   },
   "outputs": [],
   "source": [
    "## Round:"
   ]
  },
  {
   "cell_type": "code",
   "execution_count": null,
   "id": "72189747",
   "metadata": {
    "hidden": true
   },
   "outputs": [],
   "source": [
    "df.Round.nunique()"
   ]
  },
  {
   "cell_type": "code",
   "execution_count": null,
   "id": "118abd38",
   "metadata": {
    "hidden": true
   },
   "outputs": [],
   "source": [
    "df.Round.value_counts();\n",
    "# All 5000 are ? in this dataset"
   ]
  },
  {
   "cell_type": "code",
   "execution_count": null,
   "id": "40f87fb5",
   "metadata": {
    "hidden": true
   },
   "outputs": [],
   "source": [
    "## White:"
   ]
  },
  {
   "cell_type": "code",
   "execution_count": null,
   "id": "83e92c23",
   "metadata": {
    "hidden": true
   },
   "outputs": [],
   "source": [
    "## Black:"
   ]
  },
  {
   "cell_type": "code",
   "execution_count": null,
   "id": "a0021589",
   "metadata": {
    "hidden": true
   },
   "outputs": [],
   "source": [
    "## Result:"
   ]
  },
  {
   "cell_type": "code",
   "execution_count": null,
   "id": "92fbfb3b",
   "metadata": {
    "hidden": true
   },
   "outputs": [],
   "source": [
    "## BlackClock:"
   ]
  },
  {
   "cell_type": "code",
   "execution_count": null,
   "id": "732acb43",
   "metadata": {
    "hidden": true
   },
   "outputs": [],
   "source": [
    "## BlackElo:"
   ]
  },
  {
   "cell_type": "code",
   "execution_count": null,
   "id": "1d4b0742",
   "metadata": {
    "hidden": true
   },
   "outputs": [],
   "source": [
    "## BlackIsComp:"
   ]
  },
  {
   "cell_type": "code",
   "execution_count": null,
   "id": "15c4383d",
   "metadata": {
    "hidden": true
   },
   "outputs": [],
   "source": [
    "## BlackRD"
   ]
  },
  {
   "cell_type": "markdown",
   "id": "c7a15da9",
   "metadata": {
    "hidden": true
   },
   "source": [
    "The Reliability Deviation (RD) measures the accuracy of a player's rating, with one RD being equal to one standard deviation. E.g. a player with a rating of 1500 and an RD of 50 has a real strength between 1400 and 1600 (two standard deviations from 1500) with 95% confidence - twice (exactly 1.96) the RD is added and subtracted from their rating to calculate this range. After a game, the amount the rating changes depends on the RD: the change is smaller when the player's RD is low (since their rating is already considered accurate), and also when their opponent's RD is high (since the opponent's RD is high (since the opponent's true rating is not well known, so little information is being gained). The RD value decreases after playing a game but it will increase slowly over time of inactivity."
   ]
  },
  {
   "cell_type": "code",
   "execution_count": null,
   "id": "0c1ba7c1",
   "metadata": {
    "hidden": true
   },
   "outputs": [],
   "source": [
    "## ECO:"
   ]
  },
  {
   "cell_type": "code",
   "execution_count": null,
   "id": "498db501",
   "metadata": {
    "hidden": true
   },
   "outputs": [],
   "source": [
    "## FICSGamesDBGameNo:"
   ]
  },
  {
   "cell_type": "code",
   "execution_count": null,
   "id": "3f07426c",
   "metadata": {
    "hidden": true
   },
   "outputs": [],
   "source": [
    "## PlyCount:"
   ]
  },
  {
   "cell_type": "code",
   "execution_count": null,
   "id": "ffd8279e",
   "metadata": {
    "hidden": true
   },
   "outputs": [],
   "source": [
    "## Time: "
   ]
  },
  {
   "cell_type": "code",
   "execution_count": null,
   "id": "a7577d76",
   "metadata": {
    "hidden": true
   },
   "outputs": [],
   "source": [
    "## TimeControl:"
   ]
  },
  {
   "cell_type": "code",
   "execution_count": null,
   "id": "0083232b",
   "metadata": {
    "hidden": true
   },
   "outputs": [],
   "source": [
    "## WhiteClock:"
   ]
  },
  {
   "cell_type": "code",
   "execution_count": null,
   "id": "6f12468b",
   "metadata": {
    "hidden": true
   },
   "outputs": [],
   "source": [
    "## WhiteElo:"
   ]
  },
  {
   "cell_type": "code",
   "execution_count": null,
   "id": "a790c127",
   "metadata": {
    "hidden": true
   },
   "outputs": [],
   "source": [
    "## WhiteRD:"
   ]
  },
  {
   "cell_type": "code",
   "execution_count": null,
   "id": "7969ba7d",
   "metadata": {
    "hidden": true
   },
   "outputs": [],
   "source": [
    "## emt:"
   ]
  },
  {
   "cell_type": "markdown",
   "id": "2f28d039",
   "metadata": {
    "hidden": true
   },
   "source": [
    "%emt refers to the time used on a move. %clk refers to actual clock time. "
   ]
  },
  {
   "cell_type": "code",
   "execution_count": null,
   "id": "11eafe8b",
   "metadata": {
    "hidden": true
   },
   "outputs": [],
   "source": [
    "## moves:"
   ]
  },
  {
   "cell_type": "code",
   "execution_count": null,
   "id": "3b5efb69",
   "metadata": {
    "hidden": true
   },
   "outputs": [],
   "source": [
    "## WhiteIsComp:"
   ]
  },
  {
   "cell_type": "code",
   "execution_count": null,
   "id": "883d2a06",
   "metadata": {
    "hidden": true
   },
   "outputs": [],
   "source": [
    "## Round? Are there any values for these? Is it useful?\n",
    "## What does BlackClock and WhiteClock mean?\n",
    "## What is Time referring to? "
   ]
  },
  {
   "cell_type": "code",
   "execution_count": null,
   "id": "bd509590",
   "metadata": {
    "hidden": true
   },
   "outputs": [],
   "source": [
    "## I can find the number of moves by dividing Ply by 2 and \n",
    "# roudning down. I can check if this number matches up with \n",
    "# the length of the Moves divided by 2 and rounded down."
   ]
  },
  {
   "cell_type": "markdown",
   "id": "04de4016",
   "metadata": {},
   "source": [
    "#### Initial Data Cleaning"
   ]
  },
  {
   "cell_type": "markdown",
   "id": "6c2201f0",
   "metadata": {
    "heading_collapsed": true
   },
   "source": [
    "###### Missing data:"
   ]
  },
  {
   "cell_type": "markdown",
   "id": "46d510e7",
   "metadata": {
    "hidden": true
   },
   "source": [
    "Are there any rows or columns that have blank, np.NaN, or otherwise missing data? Should they be dropped or replaced?"
   ]
  },
  {
   "cell_type": "code",
   "execution_count": null,
   "id": "b9f40787",
   "metadata": {
    "hidden": true
   },
   "outputs": [],
   "source": [
    "miss_ = df.isnull()\n",
    "miss_.mean(axis=0)"
   ]
  },
  {
   "cell_type": "code",
   "execution_count": null,
   "id": "8d43f414",
   "metadata": {
    "hidden": true
   },
   "outputs": [],
   "source": [
    "print(f\"BlackIsComp: {miss_.mean(axis=0)['BlackIsComp'] * 100}%, WhiteIsComp: {miss_.mean(axis=0)['WhiteIsComp'] * 100}%\")"
   ]
  },
  {
   "cell_type": "code",
   "execution_count": null,
   "id": "6d9e037e",
   "metadata": {
    "hidden": true
   },
   "outputs": [],
   "source": [
    "miss_.mean(axis=0).sum() # 1.0 - as it should be"
   ]
  },
  {
   "cell_type": "markdown",
   "id": "926e77d3",
   "metadata": {
    "hidden": true
   },
   "source": [
    "Any games that are missing emt values?"
   ]
  },
  {
   "cell_type": "code",
   "execution_count": null,
   "id": "9d2d213a",
   "metadata": {
    "hidden": true
   },
   "outputs": [],
   "source": [
    "df.emt[0][0:10]"
   ]
  },
  {
   "cell_type": "markdown",
   "id": "c678df94",
   "metadata": {
    "heading_collapsed": true
   },
   "source": [
    "###### Duplicate data:"
   ]
  },
  {
   "cell_type": "markdown",
   "id": "5d1bb004",
   "metadata": {
    "hidden": true
   },
   "source": [
    "Any duplicate (or redundant) rows or columns?"
   ]
  },
  {
   "cell_type": "code",
   "execution_count": null,
   "id": "40ed127e",
   "metadata": {
    "hidden": true
   },
   "outputs": [],
   "source": [
    "df.info()"
   ]
  },
  {
   "cell_type": "markdown",
   "id": "20871722",
   "metadata": {
    "heading_collapsed": true
   },
   "source": [
    "###### Anomalies:"
   ]
  },
  {
   "cell_type": "markdown",
   "id": "f347ab5d",
   "metadata": {
    "hidden": true
   },
   "source": [
    "Like do the values all make sense? Are there any columns that have rows with values that are not sensible?"
   ]
  },
  {
   "cell_type": "markdown",
   "id": "8eec83e4",
   "metadata": {
    "heading_collapsed": true
   },
   "source": [
    "###### Formatting:"
   ]
  },
  {
   "cell_type": "markdown",
   "id": "130105cb",
   "metadata": {
    "hidden": true
   },
   "source": [
    "Is the data presented in a way that makes sense? Are the variable types correct?"
   ]
  },
  {
   "cell_type": "markdown",
   "id": "1bc34056",
   "metadata": {
    "heading_collapsed": true
   },
   "source": [
    "###### What are the distributions of the each column:"
   ]
  },
  {
   "cell_type": "code",
   "execution_count": null,
   "id": "60b0901e",
   "metadata": {
    "hidden": true
   },
   "outputs": [],
   "source": [
    "# Make plotting function, then in future look at how to map to map\n",
    "# the plotting function to many columns at once"
   ]
  },
  {
   "cell_type": "code",
   "execution_count": null,
   "id": "06ff91d0",
   "metadata": {
    "hidden": true
   },
   "outputs": [],
   "source": [
    "# Make a multi-plot (i.e. subplotting) function"
   ]
  },
  {
   "cell_type": "code",
   "execution_count": null,
   "id": "9d4a68aa",
   "metadata": {
    "hidden": true
   },
   "outputs": [],
   "source": [
    "# plt.figure()\n",
    "\n",
    "# hist = plt.hist(\n",
    "#     x=\n",
    "    \n",
    "#     )"
   ]
  },
  {
   "cell_type": "code",
   "execution_count": null,
   "id": "5d1f5908",
   "metadata": {
    "hidden": true
   },
   "outputs": [],
   "source": [
    "# # Both ELO dist\n",
    "\n",
    "# white_elo = df['WhiteElo'].copy()\n",
    "# black_elo = df['BlackElo'].copy()\n",
    "\n",
    "# elo_df = pd.concat([white_elo, black_elo], axis = 0)\n",
    "# elo_df.reset_index(drop = True, inplace = True)\n",
    "# elo_df.tail();\n",
    "# elo_df.head();\n",
    "# elo_df = pd.DataFrame(data=elo_df, columns=['ELO'])\n",
    "\n",
    "# fig = px.histogram(\n",
    "#     data_frame = elo_df,\n",
    "#     x = 'ELO',\n",
    "# #     nbins=,\n",
    "#     title = 'ELO distribution',\n",
    "# #     color = 'WhiteIsComp',\n",
    "# #     labels = {\n",
    "# #         'value': 'ELO'\n",
    "# #     },\n",
    "#     )\n",
    "\n",
    "# fig.show()"
   ]
  },
  {
   "cell_type": "code",
   "execution_count": null,
   "id": "0a6356d6",
   "metadata": {
    "hidden": true
   },
   "outputs": [],
   "source": [
    "# # White ELO dist\n",
    "\n",
    "# fig = px.histogram(\n",
    "#     data_frame = df,\n",
    "#     x = 'WhiteElo',\n",
    "# #     nbins=,\n",
    "#     title = 'White ELO distribution',\n",
    "# #     color = 'WhiteIsComp',\n",
    "#     )\n",
    "\n",
    "# fig.show()"
   ]
  },
  {
   "cell_type": "code",
   "execution_count": null,
   "id": "3355f6d3",
   "metadata": {
    "hidden": true
   },
   "outputs": [],
   "source": [
    "# Do dist of black, white and black superimposed with different\n",
    "# colours, "
   ]
  },
  {
   "cell_type": "code",
   "execution_count": null,
   "id": "7661a3b9",
   "metadata": {
    "hidden": true
   },
   "outputs": [],
   "source": [
    "# # Histogram\n",
    "\n",
    "# # Separate the data into Male and Female\n",
    "# tips_male = tips_df[tips_df['sex'] == 'Male']\n",
    "# tips_female = tips_df[tips_df['sex'] == 'Female']\n",
    "\n",
    "# # Create the Figure\n",
    "# fig = go.Figure()\n",
    "\n",
    "# # Create the histogram graph objects\n",
    "\n",
    "# # Create dictionary specifying bins sizing\n",
    "# xbins={'start':0, 'end':100, 'size':1}\n",
    "\n",
    "# # We specify histnorm='percent' because we want the percentage of orders, \n",
    "# # not the absolute counts(as there are different numbers of orders for male and female)\n",
    "# male_hist_go = go.Histogram(\n",
    "#     x = tips_male['tip_pct'],\n",
    "#     name='Male',\n",
    "#     xbins=xbins,\n",
    "#     opacity=0.5,\n",
    "#     histnorm='percent')\n",
    "\n",
    "# female_hist_go = go.Histogram(\n",
    "#     x = tips_female['tip_pct'], \n",
    "#     name='Female', \n",
    "#     xbins=xbins,\n",
    "#     opacity=0.5,\n",
    "#     histnorm='percent')\n",
    "\n",
    "# # Add Histogram objects to figure\n",
    "# fig.add_trace(male_hist_go)\n",
    "# fig.add_trace(female_hist_go)\n",
    "\n",
    "# # Specify the Layout\n",
    "# chart_layout = go.Layout(width=800, height=600, title='Distribution of Tip by Gender',\n",
    "#                          xaxis_title='Tip (%)', yaxis_title='Count', barmode='overlay') #barmode needed to overlay\n",
    "\n",
    "# fig.update_layout(chart_layout)\n",
    "\n",
    "# fig.show()"
   ]
  },
  {
   "cell_type": "code",
   "execution_count": null,
   "id": "051f474f",
   "metadata": {
    "hidden": true,
    "scrolled": false
   },
   "outputs": [],
   "source": [
    "# # Distribution of game length:\n",
    "\n",
    "# fig = px.histogram(\n",
    "#     data_frame = df,\n",
    "#     x = 'PlyCount',\n",
    "#     title = 'Distribution of game length'\n",
    "\n",
    "\n",
    "#     )\n",
    "# fig.show()"
   ]
  },
  {
   "cell_type": "code",
   "execution_count": null,
   "id": "0b8b5282",
   "metadata": {
    "hidden": true
   },
   "outputs": [],
   "source": [
    "# Does game length vary by elo category?"
   ]
  },
  {
   "cell_type": "code",
   "execution_count": null,
   "id": "ebe91b1c",
   "metadata": {
    "hidden": true
   },
   "outputs": [],
   "source": []
  },
  {
   "cell_type": "code",
   "execution_count": null,
   "id": "a673c8d5",
   "metadata": {
    "hidden": true
   },
   "outputs": [],
   "source": [
    "# Distribution of time control"
   ]
  },
  {
   "cell_type": "code",
   "execution_count": null,
   "id": "86a9e5e6",
   "metadata": {
    "hidden": true
   },
   "outputs": [],
   "source": [
    "# fig = px.histogram(\n",
    "#     data_frame=iris_df,\n",
    "#     x='petal_width',\n",
    "#     nbins=12,\n",
    "#     title='Petal width distribution',\n",
    "#     labels={\n",
    "#         'petal_width': 'Petal width (cm)'\n",
    "#     }\n",
    "#     )\n",
    "\n",
    "\n",
    "\n",
    "# fig.show()"
   ]
  },
  {
   "cell_type": "code",
   "execution_count": null,
   "id": "cb8c5a20",
   "metadata": {
    "hidden": true
   },
   "outputs": [],
   "source": [
    "# px.box(\n",
    "#     data_frame=iris_df,\n",
    "#     x='species',\n",
    "#     y='petal_width',\n",
    "#     labels={\n",
    "#         'petal_width': 'Petal width (cm)',\n",
    "#         'species': 'Species'\n",
    "#         },\n",
    "#     color='species',\n",
    "#     title='Petal width distribution',\n",
    "#     points='all'\n",
    "#     )"
   ]
  },
  {
   "cell_type": "code",
   "execution_count": null,
   "id": "37a5cc9c",
   "metadata": {
    "hidden": true
   },
   "outputs": [],
   "source": [
    "# plt.figure()\n",
    "\n",
    "# boxplot = sns.boxplot(\n",
    "#     x=''\n",
    "            \n",
    "#             )"
   ]
  },
  {
   "cell_type": "markdown",
   "id": "babcf38d",
   "metadata": {
    "heading_collapsed": true
   },
   "source": [
    "# Questions:"
   ]
  },
  {
   "cell_type": "markdown",
   "id": "7362299b",
   "metadata": {
    "hidden": true
   },
   "source": [
    "- For now, as I don't have engine evaluations, how do I go about making a classification when it isn't immediately binary i.e. 3 options: white cheating, black cheating, no cheating. \n",
    "\n",
    "- Do all the games start from the starting position?\n",
    "- Does the game being an otb or online game influence how likely a win/draw is? \n",
    "- Is there any noticeable difference in patterns across different elo categories?\n",
    "- What is the distribution of elo? Across humans and computers? How do I take into account the same player and that their elo is changing over time? Do I treat each as independent? \n",
    "- What is the distribution of game length? Does it vary by elo? (Probably yes ?)\n",
    "- What is the distribution of computer-ELO? Are there bots that are low elo? Could this be because people are able to 'set' the strength of the computer opponent? If so this could mess up predictions, think about whether or not they should be removed, maybe they can be kept as 'test-cases' of how well we can predict 'cheaters' who cheat at low-elo.\n",
    "- Does the dataset tell me hwo the game ended? (I.e. resignation, checkmate, running out of time etc.)"
   ]
  },
  {
   "cell_type": "markdown",
   "id": "0ec18c78",
   "metadata": {
    "heading_collapsed": true
   },
   "source": [
    "# Considerations:"
   ]
  },
  {
   "cell_type": "markdown",
   "id": "91035b30",
   "metadata": {
    "hidden": true
   },
   "source": [
    "Using ELO difference/metric as a feature in predicting expected outcome of game.\n",
    "- Using opening played as a feature in predicting if cheater or not.\n",
    "- Use an engine to evaluate sequences of chess moves played in a game to learn average centipawn loss/gain, the centipawn loss/gain for each move, the number of innacuracies, mistakes, blunders. \n",
    "- How many opening moves to eliminate?\n",
    "\n",
    "\n",
    "\n",
    "- Lichess games offer "
   ]
  },
  {
   "cell_type": "code",
   "execution_count": null,
   "id": "7d52d6e8",
   "metadata": {
    "hidden": true
   },
   "outputs": [],
   "source": []
  },
  {
   "cell_type": "markdown",
   "id": "f7c98a32",
   "metadata": {
    "heading_collapsed": true
   },
   "source": [
    "# Notes from Data Skeptic:"
   ]
  },
  {
   "cell_type": "markdown",
   "id": "b385bcfb",
   "metadata": {
    "hidden": true
   },
   "source": [
    "- Humans tend to make little blunders all the time \"oh I didn't notice this idea, luckily my position still holds\".\n",
    "- Computers tend to keep their options open, X was able to demonstrate that humans, if they see an attack, will try to play it and force an early crisis in the game.\n",
    "- In aggregates of 100-200 moves, X believes you can then determine with confidence if someone was cheating.\n",
    "- \"Distance metric (of two probabilities?)\" : \"You can't just say deterministically what is the computer's move. It depends on many variables such as the depth of search, [pv or multi-pv], the identity of the computer program, even how much hash memory you've given it. There's a variation there (i.e. a probability distribution). The human being is a distribution, often fallable distribution, of options.\"\n",
    "- Originally going to use 'fidelity' which is a distance measure between distributions, which often comes up in computational physics. A former student recommended the 'Yensen-Shannon divergence (?)' which would solve a problem of 'Koblak-Leibler (?)' divergence of being too hair trigger in the treatment of blunders but it lacked other properties which X needed. \n",
    "- Wound up doing something 'highly elementary': maps given analysis of positions in a game, and parameters denoting the strength and particulars of the human player, he maps each chess move to probabilities, as if he were painting that move on the faces of many sided dice. And then he treats the chess position as a roll of those dice, so for this player, there's a 49% chance of selecting Ng5, 27% for Qg4, and so on down the line. After that, he can tap into the very simple stats theory of Bernoulli distributions (rolls of dice, flips of coins), and not only project the expected mean number of agreements, but also the projected variance, from the Bernoulli distribution theory, and thereby project confidence intervals, and since he's estimating a sample mean, the CLT comes into play, so he's working with a normal distribution and can use a z-score framework for his statistical projections. \n",
    "- If there is a clear stand-out move (e.g. only one move that keeps you alive in the position) then not only will the computer find it, it is highly likely that the good human player will find it. Whereas, even if you have just 10 moves in a game, where each move there were 4 highly reasonable options, which X's model would assign probabilities say between 20-25% each, and you consistently select the option that shows as preferred in X's computer test (...something about Modulo and distribution), if you match the computer's preferred move for 10 or more moves in a row, that a mllion to one probability.\n",
    "- Two modes of chess analysis with comp: multi-pv mode where comp has equal depth of search to all reasonable options in a position, single-pv is regular playing mode where computer focuses its resources on the move it thinks best and one or two competing moves. A lot of the art of practical computers playig against each others is how quickly can they prune away the sub-optimal moves. For his model, he needs to know the values of all the reasonalbe moves that the player might be considering, and the general landscape or shape of the position (either forcing or lots of options etc.).\n",
    "- For the training set, he has 10,000 games of multi-pv data, he took those games wehre each player is at one of the century points in the chess rating; for each of the levels above 2000 (Expert) he exhaustively chose games where both players were within 10 or so of those century points, run those games and he has his training data for yay-rated players. He is then therefor able to relate his two main model parameters to strength on that elo scale. Supplementing this he has a vast amount of single-pv (basically every top rated game in the recorded history of chess - over 200,000 games total). \n",
    "- He also routinely screens about 80,000 games out of the world's top events every year (codified as screening mode - he can get a first look at the play and relate it to the distributions of tens of thousands of performances of players at all ranks to see how much of an apparent outlier it is. \n",
    "- About a surprise winner: when he ran the screening test the player was on the edge of the red zone, but when he ran the full test based on the training data (multi-pv mode) it gave a z-score under 1.5 (the minimum was 2 for any kind of statistical significance) meaning it was unlikely that the player was cheaitng (his GM opponent was over-eager in trying to win and ended up losing). \n",
    "- He talks a little about how the arbiters, given their chess domain knowledge, likely made the right decision as they would have been able to see the situation on the ground (i.e. seen the critical positions, how the GM was winning, then made a mistake etc.). \n",
    "- Up until about 2+ years ago, the highest z-score he got in cases he was involved in was about 3.5, which corresponds to 4,300-to-1 odds against a Null hypothesis. Although very important, what it really means is that's the incidence of such a deviation occuring naturally among non-cheating players. Every week there are more than 1000 players taking part in tournaments around the globe, significant enough tto be aggregated on 'the week in chess'/'the weekend chess' by Mike 'Crowder'(?). You have to be aware of how your sample was selected or if there were any other factors which brought it to your attention apart from people going over the games with computers and noting a high correspondence. He believes that there has to be independent evidence. \n",
    "- [Section talking about comparing the quality of moves in a player's games in a tournament where there were known to be transmissions and expected-transmissionless games and how the differnce in quality of moves was about 3200 compared to 2550, so this was another indicator that the player was cheating.]\n",
    "- Up until Jan 2013 he did not get any z-scores above 3.5, but then suddenly z-scores above 5 (even closer to 6) ..."
   ]
  },
  {
   "cell_type": "markdown",
   "id": "18961b17",
   "metadata": {},
   "source": [
    "# Appendix:"
   ]
  },
  {
   "cell_type": "markdown",
   "id": "07e00688",
   "metadata": {
    "heading_collapsed": true
   },
   "source": [
    "## Figuring out how to get emt:"
   ]
  },
  {
   "cell_type": "code",
   "execution_count": null,
   "id": "848023ef",
   "metadata": {
    "hidden": true
   },
   "outputs": [],
   "source": [
    "pgn = open(\"data/raw_data/2022/ficsgamesdb_search_262781.pgn\")\n",
    "game = chess.pgn.read_game(pgn)"
   ]
  },
  {
   "cell_type": "code",
   "execution_count": null,
   "id": "916cecda",
   "metadata": {
    "hidden": true
   },
   "outputs": [],
   "source": [
    "print(game)"
   ]
  },
  {
   "cell_type": "markdown",
   "id": "cec207a2",
   "metadata": {
    "hidden": true
   },
   "source": [
    "%emt refers to the time used on a move. %clk refers to actual clock time. "
   ]
  },
  {
   "cell_type": "markdown",
   "id": "732adc15",
   "metadata": {
    "hidden": true
   },
   "source": [
    "From the pgn we can see time spent per move. "
   ]
  },
  {
   "cell_type": "code",
   "execution_count": null,
   "id": "a2929055",
   "metadata": {
    "hidden": true
   },
   "outputs": [],
   "source": [
    "type(game)"
   ]
  },
  {
   "cell_type": "code",
   "execution_count": null,
   "id": "a6d5c4ef",
   "metadata": {
    "hidden": true
   },
   "outputs": [],
   "source": [
    "game.mainline()"
   ]
  },
  {
   "cell_type": "code",
   "execution_count": null,
   "id": "c6edeaa9",
   "metadata": {
    "hidden": true
   },
   "outputs": [],
   "source": [
    "game.board().san(game.variation(0).move)"
   ]
  },
  {
   "cell_type": "code",
   "execution_count": null,
   "id": "dd3985dd",
   "metadata": {
    "hidden": true
   },
   "outputs": [],
   "source": [
    "game.headers"
   ]
  },
  {
   "cell_type": "code",
   "execution_count": null,
   "id": "6bcdf858",
   "metadata": {
    "hidden": true
   },
   "outputs": [],
   "source": [
    "game.mainline()"
   ]
  },
  {
   "cell_type": "code",
   "execution_count": null,
   "id": "967a106f",
   "metadata": {
    "hidden": true
   },
   "outputs": [],
   "source": [
    "for node in game.mainline():\n",
    "    print(node.move, node.emt(), node.clock())\n",
    "    print(node.comment)"
   ]
  },
  {
   "cell_type": "code",
   "execution_count": null,
   "id": "07074a9c",
   "metadata": {
    "hidden": true
   },
   "outputs": [],
   "source": [
    "help(game)"
   ]
  },
  {
   "cell_type": "code",
   "execution_count": null,
   "id": "4c8d9795",
   "metadata": {
    "hidden": true
   },
   "outputs": [],
   "source": [
    "# seems like the emt is in the game.comment"
   ]
  },
  {
   "cell_type": "code",
   "execution_count": null,
   "id": "2d9c1ca7",
   "metadata": {
    "hidden": true
   },
   "outputs": [],
   "source": [
    "game.variation(0).comment"
   ]
  },
  {
   "cell_type": "code",
   "execution_count": null,
   "id": "301640d8",
   "metadata": {
    "hidden": true
   },
   "outputs": [],
   "source": [
    "teste_ = pd.read_json(\"data/raw_data/json/2017/ficsgamesdb_search_262781.json\")"
   ]
  },
  {
   "cell_type": "code",
   "execution_count": null,
   "id": "4fd88510",
   "metadata": {
    "hidden": true
   },
   "outputs": [],
   "source": [
    "teste_.moves"
   ]
  },
  {
   "cell_type": "code",
   "execution_count": null,
   "id": "68f89a94",
   "metadata": {
    "hidden": true
   },
   "outputs": [],
   "source": [
    "teste_.loc[0];"
   ]
  },
  {
   "cell_type": "code",
   "execution_count": null,
   "id": "929cfe56",
   "metadata": {
    "hidden": true
   },
   "outputs": [],
   "source": [
    "teste_.columns"
   ]
  },
  {
   "cell_type": "markdown",
   "id": "45305cac",
   "metadata": {
    "heading_collapsed": true
   },
   "source": [
    "## Making df column and dtype helper:"
   ]
  },
  {
   "cell_type": "code",
   "execution_count": null,
   "id": "17b5225a",
   "metadata": {
    "hidden": true
   },
   "outputs": [],
   "source": [
    "df.columns"
   ]
  },
  {
   "cell_type": "code",
   "execution_count": null,
   "id": "7383b6a5",
   "metadata": {
    "hidden": true
   },
   "outputs": [],
   "source": [
    "columns = list(df.columns)\n",
    "columns"
   ]
  },
  {
   "cell_type": "code",
   "execution_count": null,
   "id": "30e8746e",
   "metadata": {
    "hidden": true
   },
   "outputs": [],
   "source": [
    "list(df.dtypes);"
   ]
  },
  {
   "cell_type": "code",
   "execution_count": null,
   "id": "6fad7544",
   "metadata": {
    "hidden": true,
    "scrolled": false
   },
   "outputs": [],
   "source": [
    "df.dtypes.reset_index().head()"
   ]
  },
  {
   "cell_type": "code",
   "execution_count": null,
   "id": "b72eb594",
   "metadata": {
    "hidden": true
   },
   "outputs": [],
   "source": [
    "df.dtypes.reset_index().loc[:,0]"
   ]
  },
  {
   "cell_type": "code",
   "execution_count": null,
   "id": "e621b415",
   "metadata": {
    "hidden": true
   },
   "outputs": [],
   "source": [
    "df.WhiteElo.dtype == np.int64"
   ]
  },
  {
   "cell_type": "code",
   "execution_count": null,
   "id": "94ab2731",
   "metadata": {
    "hidden": true
   },
   "outputs": [],
   "source": [
    "df.WhiteElo.dtype == 'int64'"
   ]
  },
  {
   "cell_type": "code",
   "execution_count": null,
   "id": "7ee7e4db",
   "metadata": {
    "hidden": true
   },
   "outputs": [],
   "source": [
    "df.Event.dtype == 'O'"
   ]
  },
  {
   "cell_type": "code",
   "execution_count": null,
   "id": "4a40925b",
   "metadata": {
    "hidden": true
   },
   "outputs": [],
   "source": [
    "df.Date.dtype == '<M8[ns]'"
   ]
  },
  {
   "cell_type": "code",
   "execution_count": null,
   "id": "b4f6c70b",
   "metadata": {
    "hidden": true
   },
   "outputs": [],
   "source": [
    "df.Date.dtype == 'datetime64[ns]'"
   ]
  },
  {
   "cell_type": "markdown",
   "id": "9745c3f7",
   "metadata": {
    "heading_collapsed": true
   },
   "source": [
    "## Making XIsComp helper:"
   ]
  },
  {
   "cell_type": "code",
   "execution_count": null,
   "id": "a0acbabc",
   "metadata": {
    "hidden": true
   },
   "outputs": [],
   "source": [
    "# def change_comp_columns(df):\n",
    "#     ## make copy df\n",
    "\n",
    "#     nocomp_df = df.copy()\n",
    "    \n",
    "#     ## check number of unique in blackiscomp and whiteiscomp (should be 2)\n",
    "#     assert all([nocomp_df[x].nunique(dropna=False)==2 for x in ['WhiteIsComp', 'BlackIsComp']]), 'More than two unique values in a XIsComp column (including nan)'\n",
    "    \n",
    "#     ## check one of the unique values are 'Yes'\n",
    "#     assert all(['Yes' in nocomp_df[x].unique() for x in ['WhiteIsComp', 'BlackIsComp']]), 'Missing \"Yes\" in one of the XIsComp column'\n",
    "\n",
    "#     ## assign 1 and 0 to blackiscomp and whiteiscomp\n",
    "\n",
    "#     nocomp_df['WhiteIsComp'] = np.where(nocomp_df['WhiteIsComp']=='Yes', np.int8(1), np.int8(0))\n",
    "#     nocomp_df['BlackIsComp'] = np.where(nocomp_df['BlackIsComp']=='Yes', np.int8(1), np.int8(0))\n",
    "\n",
    "#     ## make new 'nocomp' column which depends on blackiscomp==1 and whiteiscomp==1\n",
    "\n",
    "#     nocomp_df['NoComp'] = np.where(zip(nocomp_df['WhiteIsComp'], nocomp_df['BlackIsComp'])==[0, 0], np.int8(1), np.int8(0))\n",
    "    \n",
    "#     return nocomp_df"
   ]
  },
  {
   "cell_type": "code",
   "execution_count": null,
   "id": "55509645",
   "metadata": {
    "hidden": true
   },
   "outputs": [],
   "source": [
    "# nocomp_df_test = hp.change_comp_columns(df)\n",
    "\n",
    "# # validating the shape is (2, 0) if there are only games with cheaters (i.e. XIsComp==1)\n",
    "# nocomp_df_test[['BlackIsComp', 'WhiteIsComp', 'NoComp']].groupby(['BlackIsComp', 'WhiteIsComp', 'NoComp']).count()\n",
    "\n",
    "# nocomp_df_test[['BlackIsComp', 'WhiteIsComp', 'NoComp']].groupby([\n",
    "#     'BlackIsComp', 'WhiteIsComp', 'NoComp']).count().shape[0]; # 2\n",
    "\n",
    "\n",
    "# # validating the shape is (3, 0) if there is at least one entry that is NoComp==1\n",
    "# nocomp_df_test_2  = nocomp_df_test.copy()\n",
    "# nocomp_df_test_2.loc[0,['BlackIsComp', 'WhiteIsComp', 'NoComp']] = [0, 0, 1]\n",
    "# nocomp_df_test_2[['BlackIsComp', 'WhiteIsComp', 'NoComp']].iloc[0]\n",
    "# nocomp_df_test_2[['BlackIsComp', 'WhiteIsComp', 'NoComp']].groupby(['BlackIsComp', 'WhiteIsComp', 'NoComp']).count()\n",
    "\n",
    "# nocomp_df_test_2[['BlackIsComp', 'WhiteIsComp', 'NoComp']].groupby([\n",
    "#     'BlackIsComp', 'WhiteIsComp', 'NoComp']).count().shape[0]; # 3"
   ]
  },
  {
   "cell_type": "code",
   "execution_count": null,
   "id": "0e844a82",
   "metadata": {
    "hidden": true
   },
   "outputs": [],
   "source": [
    "# make 'nocomp' column:\n",
    "\n",
    "## make copy df\n",
    "\n",
    "nocomp_df = df.copy()\n",
    "\n",
    "## check number of unique in blackiscomp and whiteiscomp (should be 2)\n",
    "\n",
    "# white_comp_unique_num = nocomp_df.WhiteIsComp.nunique(dropna=False)\n",
    "# black_comp_unique_num = nocomp_df.BlackIsComp.nunique(dropna=False)\n",
    "# comp_unique_num = [nocomp_df[x].nunique(dropna=False) for x in ['WhiteIsComp', 'BlackIsComp']]\n",
    "# print(comp_unique_num) # [2, 2]\n",
    "# print(all(comp_unique_num))\n",
    "# comp_unique_num_is2 = np.array([nocomp_df[x].nunique(dropna=False)==2 for x in ['WhiteIsComp', 'BlackIsComp']]).all()\n",
    "# assert np.array([nocomp_df[x].nunique(dropna=False)==2 for x in ['WhiteIsComp', 'BlackIsComp']]).all()==True, 'More than two unique values in a XIsComp column (including nan)'\n",
    "# print(comp_unique_num_is2)\n",
    "comp_unique_num_is2 = all([nocomp_df[x].nunique(dropna=False)==2 for x in ['WhiteIsComp', 'BlackIsComp']])\n",
    "# print(comp_unique_num_is2)\n",
    "\n",
    "# bla = np.array([nocomp_df[x].nunique(dropna=False)==2 for x in ['WhiteIsComp', 'BlackIsComp']])\n",
    "# bla[0]=False\n",
    "# print(all(bla)) # False\n",
    "\n",
    "\n",
    "## check one of the unique values are 'Yes'\n",
    "\n",
    "has_yes_list = ['Yes' in nocomp_df[x].unique() for x in ['WhiteIsComp', 'BlackIsComp']]\n",
    "# print(has_yes_list) # [True, True]\n",
    "has_yes = all(has_yes_list)\n",
    "# print(has_yes)\n",
    "\n",
    "## assign 1 and 0 to blackiscomp and whiteiscomp\n",
    "\n",
    "# nocomp_df['WhiteIsComp'] = nocomp_df['WhiteIsComp'].apply(lambda x: np.int8(1) if x=='Yes' else np.int8(0))\n",
    "# nocomp_df['BlackIsComp'] = nocomp_df['BlackIsComp'].apply(lambda x: np.int8(1) if x=='Yes' else np.int8(0))\n",
    "\n",
    "nocomp_df['WhiteIsComp'] = np.where(nocomp_df['WhiteIsComp']=='Yes', np.int8(1), np.int8(0))\n",
    "nocomp_df['BlackIsComp'] = np.where(nocomp_df['BlackIsComp']=='Yes', np.int8(1), np.int8(0))\n",
    "\n",
    "## make new 'nocomp' column which depends on blackiscomp==1 and whiteiscomp==1\n",
    "\n",
    "# nocomp_df['NoComp'] = nocomp_df.apply(lambda x: np.int8(1) if (x['WhiteIsComp']!=1 and \\\n",
    "#                                                                x['BlackIsComp']!=1) else np.int8(0), axis=1)\n",
    "\n",
    "# nocomp_df['NoComp'] = [np.int8(0) if any(element) else np.int8(1) for element in zip(nocomp_df['WhiteIsComp'], nocomp_df['BlackIsComp'])]\n",
    "\n",
    "nocomp_df['NoComp'] = np.where(zip(nocomp_df['WhiteIsComp'], nocomp_df['BlackIsComp'])==[0, 0], np.int8(1), np.int8(0))\n"
   ]
  },
  {
   "cell_type": "code",
   "execution_count": null,
   "id": "5b38a51d",
   "metadata": {
    "hidden": true
   },
   "outputs": [],
   "source": [
    "# compare speed of np.array(...).all() and all([...])\n",
    "\n",
    "# all([...]) marginally faster\n",
    "\n",
    "# # %%timeit # 1.58 ms ± 55.5 µs per loop (mean ± std. dev. of 7 runs, 1,000 loops each)\n",
    "# nocomp_df = df.copy()\n",
    "# comp_unique_num_is2 = np.array([nocomp_df[x].nunique(dropna=False)==2 for x in ['WhiteIsComp', 'BlackIsComp']]).all()\n",
    "# comp_unique_num_is2\n",
    "\n",
    "# # %%timeit # 1.51 ms ± 18.5 µs per loop (mean ± std. dev. of 7 runs, 1,000 loops each)\n",
    "# nocomp_df = df.copy()\n",
    "# comp_unique_num_is2 = all([nocomp_df[x].nunique(dropna=False)==2 for x in ['WhiteIsComp', 'BlackIsComp']])\n",
    "# comp_unique_num_is2"
   ]
  },
  {
   "cell_type": "code",
   "execution_count": null,
   "id": "53c17435",
   "metadata": {
    "hidden": true
   },
   "outputs": [],
   "source": [
    "# Compare np.where and df.apply speed:\n",
    "\n",
    "# # %%timeit # 6.98 ms ± 160 µs per loop (mean ± std. dev. of 7 runs, 100 loops each)\n",
    "#     # using np.where(zip(...)) 3.7 ms ± 158 µs per loop (mean ± std. dev. of 7 runs, 100 loops each)\n",
    "\n",
    "# # timing np.where\n",
    "# nocomp_df = df.copy()\n",
    "# nocomp_df['WhiteIsComp'] = np.where(nocomp_df['WhiteIsComp']=='Yes', np.int8(1), np.int8(0))\n",
    "# nocomp_df['BlackIsComp'] = np.where(nocomp_df['BlackIsComp']=='Yes', np.int8(1), np.int8(0))\n",
    "\n",
    "# # nocomp_df['NoComp'] = [np.int8(0) if any(element) else np.int8(1) for element in zip(nocomp_df['WhiteIsComp'], nocomp_df['BlackIsComp'])]\n",
    "\n",
    "# nocomp_df['NoComp'] = np.where(zip(nocomp_df['WhiteIsComp'], nocomp_df['BlackIsComp'])==[0, 0], np.int8(1), np.int8(0))\n",
    "\n",
    "#-----#\n",
    "\n",
    "# any([np.int8(0), np.int8(1)]) # True\n",
    "\n",
    "# zip(nocomp_df['WhiteIsComp'], nocomp_df['BlackIsComp']) # <zip at 0x2ac85d24c40>\n",
    "\n",
    "# for element in zip(nocomp_df['WhiteIsComp'], nocomp_df['BlackIsComp']):\n",
    "#     print(element)\n",
    "\n",
    "# [np.int8(0) if any(element) else np.int8(1) for element in zip(nocomp_df['WhiteIsComp'], nocomp_df['BlackIsComp'])]\n",
    "\n",
    "# pd.Series([np.int8(1) if all(element) else np.int8(0) for element in zip(nocomp_df['WhiteIsComp'], nocomp_df['BlackIsComp'])])\n",
    "\n",
    "# nocomp_df['NoComp'] = [np.int8(0) if any(element) else np.int8(1) for element in zip(nocomp_df['WhiteIsComp'], nocomp_df['BlackIsComp'])]\n",
    "\n",
    "# nocomp_df['NoComp'].any() # False\n",
    "\n",
    "# nocomp_df['NoComp'] = np.where(zip(nocomp_df['WhiteIsComp'], nocomp_df['BlackIsComp'])==[0, 0], np.int8(1), np.int8(0))\n",
    "# np.int8(0)==0 # True\n",
    "# np.int8(1)==1 # True\n",
    "\n",
    "# nocomp_df['NoComp'].any() # False \n",
    "\n",
    "# nocomp_df['WhiteIsComp']==1 # Series of True and False\n",
    "\n",
    "#------#\n",
    "\n",
    "# # %%timeit # 54.6 ms ± 420 µs per loop (mean ± std. dev. of 7 runs, 10 loops each)\n",
    "# # timing df.apply()\n",
    "# nocomp_df = df.copy()\n",
    "# nocomp_df['WhiteIsComp'] = nocomp_df['WhiteIsComp'].apply(lambda x: np.int8(1) if x=='Yes' else np.int8(0))\n",
    "# nocomp_df['BlackIsComp'] = nocomp_df['BlackIsComp'].apply(lambda x: np.int8(1) if x=='Yes' else np.int8(0))\n",
    "# nocomp_df['NoComp'] = nocomp_df.apply(lambda x: np.int8(1) if (x['WhiteIsComp']!=1 and \\\n",
    "#                                                                x['BlackIsComp']!=1) else np.int8(0), axis=1)"
   ]
  },
  {
   "cell_type": "code",
   "execution_count": null,
   "id": "c9fdb2e5",
   "metadata": {
    "hidden": true
   },
   "outputs": [],
   "source": [
    "# trying to do both columns in one apply:\n",
    "\n",
    "# nocomp_df = df.copy()\n",
    "# nocomp_df[['WhiteIsComp', 'BlackIsComp']] = nocomp_df[['WhiteIsComp', 'BlackIsComp']].apply(lambda x: [np.int8(1) if x.loc[y]=='Yes' else np.int8(0) for y in ['WhiteIsComp', 'BlackIsComp']], axis=1)\n",
    "\n",
    "# nocomp_df[['WhiteIsComp', 'BlackIsComp']] = nocomp_df.apply(lambda x: [np.int8(1) if x[y]=='Yes' else np.int8(0) for y in ['WhiteIsComp', 'BlackIsComp']], axis=1)"
   ]
  },
  {
   "cell_type": "code",
   "execution_count": null,
   "id": "479916de",
   "metadata": {
    "hidden": true
   },
   "outputs": [],
   "source": [
    "# nocomp_df = df.copy()\n",
    "# nocomp_df[['WhiteIsComp', 'BlackIsComp']] = nocomp_df[['WhiteIsComp', 'BlackIsComp']].apply(\n",
    "#     lambda x: [np.int8(1) for y in ['WhiteIsComp', 'BlackIsComp'] if x.loc[y]=='Yes' else np.int8(0)], axis=1)"
   ]
  },
  {
   "cell_type": "code",
   "execution_count": null,
   "id": "2bac00d4",
   "metadata": {
    "hidden": true
   },
   "outputs": [],
   "source": [
    "# nocomp_df = df.copy()\n",
    "# nocomp_df[['WhiteIsComp', 'BlackIsComp']] = nocomp_df[['WhiteIsComp', 'BlackIsComp']].apply(\n",
    "#     lambda x: np.int8(1) if x=='Yes' else np.int8(0),\n",
    "#     axis=1)"
   ]
  },
  {
   "cell_type": "code",
   "execution_count": null,
   "id": "10114bf9",
   "metadata": {
    "hidden": true
   },
   "outputs": [],
   "source": [
    "# nocomp_df = df.copy()\n",
    "# nocomp_df[['WhiteIsComp', 'BlackIsComp']] = [row_value.apply(lambda x: np.int8(1) if x=='Yes' else np.int8(0)) for ]\n",
    "\n",
    "\n",
    "\n",
    "# nocomp_df[['WhiteIsComp', 'BlackIsComp']].apply(\n",
    "#     lambda x: np.int8(1) if x=='Yes' else np.int8(0),\n",
    "#     axis=1)"
   ]
  },
  {
   "cell_type": "code",
   "execution_count": null,
   "id": "7851c733",
   "metadata": {
    "hidden": true
   },
   "outputs": [],
   "source": [
    "# type(df.loc[0]) # Series\n",
    "# display(df.loc[0])"
   ]
  },
  {
   "cell_type": "code",
   "execution_count": null,
   "id": "040da802",
   "metadata": {
    "hidden": true
   },
   "outputs": [],
   "source": [
    "# row = df.loc[0]\n",
    "# row.loc['ECO']"
   ]
  },
  {
   "cell_type": "code",
   "execution_count": null,
   "id": "b0c42d30",
   "metadata": {
    "hidden": true
   },
   "outputs": [],
   "source": [
    "# test = row[['BlackIsComp', 'WhiteIsComp']].copy()\n",
    "# type(test) # series"
   ]
  },
  {
   "cell_type": "code",
   "execution_count": null,
   "id": "647ac9ec",
   "metadata": {
    "hidden": true,
    "scrolled": true
   },
   "outputs": [],
   "source": [
    "# row[['BlackIsComp', 'WhiteIsComp']] = ['yes', 'no'] # SettingWithCopyWarning: A value is trying to be set on a copy of a slice from a DataFrame"
   ]
  },
  {
   "cell_type": "code",
   "execution_count": null,
   "id": "8a36e2f2",
   "metadata": {
    "hidden": true
   },
   "outputs": [],
   "source": [
    "# row[['BlackIsComp', 'WhiteIsComp']] "
   ]
  },
  {
   "cell_type": "markdown",
   "id": "2690d495",
   "metadata": {
    "heading_collapsed": true
   },
   "source": [
    "## Editing Chess NaN Checker helper:"
   ]
  },
  {
   "cell_type": "code",
   "execution_count": null,
   "id": "79627073",
   "metadata": {
    "hidden": true
   },
   "outputs": [],
   "source": [
    "# def chess_nan_checker(df, list_of_cols=['BlackIsComp', 'WhiteIsComp']): \n",
    "#     '''\n",
    "#     checks for nan values in the dataframe\n",
    "\n",
    "#     Args:\n",
    "#         df (DataFrame): Pandas dataframe\n",
    "#         list_of_cols (List): List of strings indicating what columns to ignore\n",
    "\n",
    "#     Returns:\n",
    "#         summary (String): returns a summary of nan values\n",
    "#     '''\n",
    "\n",
    "#     assert all([col in df.columns for col in list_of_cols]), f'Passed dataframe does not contain {list_of_cols}'   \n",
    "    \n",
    "#     # are there any nan values?\n",
    "#     any_nan = all(\n",
    "#         df[[x for x in df.columns if x not in list_of_cols]].notna()\n",
    "#     ) # returns True if all values are not NaN\n",
    "#     if any_nan == True:\n",
    "#         return print(f\"This dataframe has 0 NaN values in columns: {list(df[[x for x in df.columns if x not in list_of_cols]].columns)}\")\n",
    "        \n",
    "#     # how many?\n",
    "#     nan_series = df.isna().sum()\n",
    "#     nan_num = nan_series.sum()\n",
    "\n",
    "#     # which variables do they come from\n",
    "\n",
    "#     # list_of_nan_column_loc = \\\n",
    "#     #     [ [df[column], df[column].isna().sum()] for \\\n",
    "#     #         column in df.columns ]\n",
    "\n",
    "#     nan_cols = list(nan_series[nan_series > 0].index)\n",
    "\n",
    "#     # any variables with more than 50% of data missing?\n",
    "#     big_nan_cols = list(nan_series[nan_series/len(df) > 0.5])\n",
    "    \n",
    "#     #summary can be all the info about nans\n",
    "#     summary = f'This dataframe has {nan_num} NaN values'\n",
    "\n",
    "#     if len(nan_cols) > 0:\n",
    "#         summary += f'\\nThe NaN values come from: {nan_cols}'\n",
    "\n",
    "#     if len(big_nan_cols) > 0:\n",
    "#         summary += f'\\nMore than 50% of the data is missing from: {big_nan_cols}'\n",
    "\n",
    "#     return print(summary)"
   ]
  },
  {
   "cell_type": "code",
   "execution_count": null,
   "id": "6ed7fb6d",
   "metadata": {
    "hidden": true
   },
   "outputs": [],
   "source": [
    "# Testing assertion error of nan_checker\n",
    "\n",
    "# test_list_of_cols = df.copy()\n",
    "# test_list_of_cols.drop(columns='BlackIsComp', inplace=True)\n",
    "\n",
    "# list_of_cols = ['BlackIsComp', 'WhiteIsComp']\n",
    "\n",
    "# assert all([col in test_list_of_cols.columns for col in list_of_cols]), f'Passed dataframe does not contain {list_of_cols}'\n",
    "\n",
    "# any_nan = all(\n",
    "#     df[[x for x in test_list_of_cols.columns if x not in list_of_cols]].notna()\n",
    "# ) # returns True if all values are not NaN\n",
    "# if any_nan == True:\n",
    "# #     return \n",
    "#     print(f\"This dataframe has 0 NaN values in columns: {list(test_list_of_cols[[x for x in df.columns if x not in list_of_cols]].columns)}\")"
   ]
  },
  {
   "cell_type": "markdown",
   "id": "05918b43",
   "metadata": {
    "heading_collapsed": true
   },
   "source": [
    "## Figuring out how to get average time per ply (average emt) for each player helper:"
   ]
  },
  {
   "cell_type": "code",
   "execution_count": null,
   "id": "5e006d41",
   "metadata": {
    "hidden": true
   },
   "outputs": [],
   "source": []
  },
  {
   "cell_type": "code",
   "execution_count": null,
   "id": "d20cef18",
   "metadata": {
    "hidden": true
   },
   "outputs": [],
   "source": []
  },
  {
   "cell_type": "code",
   "execution_count": null,
   "id": "4422ac70",
   "metadata": {
    "hidden": true
   },
   "outputs": [],
   "source": []
  },
  {
   "cell_type": "code",
   "execution_count": null,
   "id": "bf0c900d",
   "metadata": {
    "hidden": true
   },
   "outputs": [],
   "source": []
  }
 ],
 "metadata": {
  "kernelspec": {
   "display_name": "capstone_env",
   "language": "python",
   "name": "capstone_env"
  },
  "language_info": {
   "codemirror_mode": {
    "name": "ipython",
    "version": 3
   },
   "file_extension": ".py",
   "mimetype": "text/x-python",
   "name": "python",
   "nbconvert_exporter": "python",
   "pygments_lexer": "ipython3",
   "version": "3.9.13"
  },
  "toc": {
   "base_numbering": 1,
   "nav_menu": {},
   "number_sections": true,
   "sideBar": true,
   "skip_h1_title": false,
   "title_cell": "Table of Contents",
   "title_sidebar": "Contents",
   "toc_cell": false,
   "toc_position": {},
   "toc_section_display": true,
   "toc_window_display": true
  }
 },
 "nbformat": 4,
 "nbformat_minor": 5
}
