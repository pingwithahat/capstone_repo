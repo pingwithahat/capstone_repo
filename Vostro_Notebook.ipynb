{
 "cells": [
  {
   "cell_type": "code",
   "execution_count": 26,
   "id": "86a6145f",
   "metadata": {},
   "outputs": [],
   "source": [
    "import numpy as np\n",
    "import pandas as pd\n",
    "import matplotlib.pyplot as plt\n",
    "import chess\n",
    "import io\n",
    "import sys\n",
    "import chess.pgn\n",
    "from io import StringIO\n",
    "import seaborn as sns\n",
    "%matplotlib inline\n",
    "\n",
    "\n",
    "import pickle\n",
    "from sklearn.utils import shuffle\n",
    "import gc\n",
    "import logging\n",
    "\n"
   ]
  },
  {
   "cell_type": "code",
   "execution_count": 27,
   "id": "8b4ff576",
   "metadata": {},
   "outputs": [],
   "source": [
    "df = pd.read_json(\"data/raw_data/json/ficsgamesdb_search_262781.json\")"
   ]
  },
  {
   "cell_type": "code",
   "execution_count": 28,
   "id": "6c9cb57d",
   "metadata": {},
   "outputs": [],
   "source": [
    "pgn = open(\"data/raw_data/2022/ficsgamesdb_search_262781.pgn\")\n",
    "game = chess.pgn.read_game(pgn)"
   ]
  },
  {
   "cell_type": "code",
   "execution_count": 29,
   "id": "f21f6e8e",
   "metadata": {},
   "outputs": [
    {
     "name": "stdout",
     "output_type": "stream",
     "text": [
      "[Event \"FICS rated standard game\"]\n",
      "[Site \"FICS freechess.org\"]\n",
      "[Date \"2022.09.20\"]\n",
      "[Round \"?\"]\n",
      "[White \"izwan\"]\n",
      "[Black \"VictoriaBot\"]\n",
      "[Result \"0-1\"]\n",
      "[BlackClock \"0:15:00.000\"]\n",
      "[BlackElo \"1928\"]\n",
      "[BlackIsComp \"Yes\"]\n",
      "[BlackRD \"25.6\"]\n",
      "[ECO \"B20\"]\n",
      "[FICSGamesDBGameNo \"512549078\"]\n",
      "[PlyCount \"80\"]\n",
      "[Time \"10:28:00\"]\n",
      "[TimeControl \"900+0\"]\n",
      "[WhiteClock \"0:15:00.000\"]\n",
      "[WhiteElo \"1903\"]\n",
      "[WhiteRD \"108.6\"]\n",
      "\n",
      "1. e4 { [%emt 0.0] } 1... c5 { [%emt 0.0] } 2. a3 { [%emt 7.154] } 2... Nf6 { [%emt 0.1] } 3. Nc3 { [%emt 14.332] } 3... d6 { [%emt 0.1] } 4. f4 { [%emt 8.438] } 4... Nc6 { [%emt 0.1] } 5. Nf3 { [%emt 2.503] } 5... Bg4 { [%emt 0.1] } 6. Be2 { [%emt 12.605] } 6... e5 { [%emt 0.1] } 7. d3 { [%emt 9.7] } 7... Be7 { [%emt 0.1] } 8. O-O { [%emt 3.444] } 8... O-O { [%emt 0.1] } 9. h3 { [%emt 16.49] } 9... Bxf3 { [%emt 0.1] } 10. Bxf3 { [%emt 3.643] } 10... Qb6 { [%emt 0.1] } 11. Kh2 { [%emt 8.537] } 11... exf4 { [%emt 0.1] } 12. Bxf4 { [%emt 3.724] } 12... Qxb2 { [%emt 0.1] } 13. Ne2 { [%emt 16.085] } 13... Ne5 { [%emt 0.1] } 14. Rb1 { [%emt 10.928] } 14... Qxa3 { [%emt 0.1] } 15. Rxb7 { [%emt 4.285] } 15... Rfe8 { [%emt 0.1] } 16. Bg5 { [%emt 37.557] } 16... Rab8 { [%emt 0.1] } 17. Qb1 { [%emt 81.024] } 17... Nfg4+ { [%emt 0.1] } 18. Bxg4 { [%emt 15.368] } 18... Rxb7 { [%emt 0.1] } 19. Qxb7 { [%emt 18.153] } 19... Bxg5 { [%emt 0.1] } 20. c3 { [%emt 15.797] } 20... Nxg4+ { [%emt 0.1] } 21. hxg4 { [%emt 5.855] } 21... Bf6 { [%emt 0.1] } 22. Kh3 { [%emt 33.025] } 22... a5 { [%emt 0.1] } 23. g5 { [%emt 14.564] } 23... Qa2 { [%emt 0.1] } 24. Nc1 { [%emt 33.431] } 24... Qe6+ { [%emt 0.1] } 25. g4 { [%emt 22.455] } 25... Bxc3 { [%emt 0.1] } 26. Ne2 { [%emt 8.305] } 26... Be5 { [%emt 0.1] } 27. Rd1 { [%emt 29.912] } 27... a4 { [%emt 0.1] } 28. d4 { [%emt 4.62] } 28... cxd4 { [%emt 0.1] } 29. Nxd4 { [%emt 2.089] } 29... Bxd4 { [%emt 0.1] } 30. Rxd4 { [%emt 3.332] } 30... a3 { [%emt 0.1] } 31. Ra4 { [%emt 9.133] } 31... h5 { [%emt 0.1] } 32. gxh6 { [%emt 19.432] } 32... Qxh6+ { [%emt 0.1] } 33. Kg3 { [%emt 15.221] } 33... Qe3+ { [%emt 0.1] } 34. Kh4 { [%emt 2.398] } 34... Qf2+ { [%emt 0.1] } 35. Kh3 { [%emt 7.634] } 35... a2 { [%emt 0.1] } 36. Qa6 { [%emt 31.145] } 36... Re6 { [%emt 0.1] } 37. g5 { [%emt 21.868] } 37... Qf3+ { [%emt 0.1] } 38. Kh2 { [%emt 9.888] } 38... Qh5+ { [%emt 0.1] } 39. Kg3 { [%emt 9.081] } 39... Qxg5+ { [%emt 0.1] } 40. Kh2 { [%emt 1.925] } 40... Rh6# { [%emt 0.1] White checkmated } 0-1\n"
     ]
    }
   ],
   "source": [
    "print(game)"
   ]
  },
  {
   "cell_type": "markdown",
   "id": "fc7562cd",
   "metadata": {},
   "source": [
    "%emt refers to the time used on a move. %clk refers to actual clock time. "
   ]
  },
  {
   "cell_type": "code",
   "execution_count": 30,
   "id": "5df24596",
   "metadata": {},
   "outputs": [
    {
     "name": "stdout",
     "output_type": "stream",
     "text": [
      "<class 'pandas.core.frame.DataFrame'>\n",
      "RangeIndex: 5000 entries, 0 to 4999\n",
      "Data columns (total 21 columns):\n",
      " #   Column             Non-Null Count  Dtype         \n",
      "---  ------             --------------  -----         \n",
      " 0   Event              5000 non-null   object        \n",
      " 1   Site               5000 non-null   object        \n",
      " 2   Date               5000 non-null   datetime64[ns]\n",
      " 3   Round              5000 non-null   object        \n",
      " 4   White              5000 non-null   object        \n",
      " 5   Black              5000 non-null   object        \n",
      " 6   Result             5000 non-null   object        \n",
      " 7   BlackClock         5000 non-null   object        \n",
      " 8   BlackElo           5000 non-null   int64         \n",
      " 9   BlackIsComp        2529 non-null   object        \n",
      " 10  BlackRD            5000 non-null   float64       \n",
      " 11  ECO                5000 non-null   object        \n",
      " 12  FICSGamesDBGameNo  5000 non-null   int64         \n",
      " 13  PlyCount           5000 non-null   int64         \n",
      " 14  Time               5000 non-null   object        \n",
      " 15  TimeControl        5000 non-null   object        \n",
      " 16  WhiteClock         5000 non-null   object        \n",
      " 17  WhiteElo           5000 non-null   int64         \n",
      " 18  WhiteRD            5000 non-null   float64       \n",
      " 19  moves              5000 non-null   object        \n",
      " 20  WhiteIsComp        2471 non-null   object        \n",
      "dtypes: datetime64[ns](1), float64(2), int64(4), object(14)\n",
      "memory usage: 820.4+ KB\n"
     ]
    }
   ],
   "source": [
    "df.info()"
   ]
  },
  {
   "cell_type": "code",
   "execution_count": 31,
   "id": "d16cb561",
   "metadata": {},
   "outputs": [],
   "source": [
    "df.head(2);"
   ]
  },
  {
   "cell_type": "code",
   "execution_count": 32,
   "id": "71c1c9ba",
   "metadata": {},
   "outputs": [
    {
     "name": "stdout",
     "output_type": "stream",
     "text": [
      "['e4', 'c5', 'a3', 'Nf6', 'Nc3', 'd6', 'f4', 'Nc6', 'Nf3', 'Bg4', 'Be2', 'e5', 'd3', 'Be7', 'O-O', 'O-O', 'h3', 'Bxf3', 'Bxf3', 'Qb6', 'Kh2', 'exf4', 'Bxf4', 'Qxb2', 'Ne2', 'Ne5', 'Rb1', 'Qxa3', 'Rxb7', 'Rfe8', 'Bg5', 'Rab8', 'Qb1', 'Nfg4+', 'Bxg4', 'Rxb7', 'Qxb7', 'Bxg5', 'c3', 'Nxg4+', 'hxg4', 'Bf6', 'Kh3', 'a5', 'g5', 'Qa2', 'Nc1', 'Qe6+', 'g4', 'Bxc3', 'Ne2', 'Be5', 'Rd1', 'a4', 'd4', 'cxd4', 'Nxd4', 'Bxd4', 'Rxd4', 'a3', 'Ra4', 'h5', 'gxh6', 'Qxh6+', 'Kg3', 'Qe3+', 'Kh4', 'Qf2+', 'Kh3', 'a2', 'Qa6', 'Re6', 'g5', 'Qf3+', 'Kh2', 'Qh5+', 'Kg3', 'Qxg5+', 'Kh2', 'Rh6#']\n"
     ]
    }
   ],
   "source": [
    "print(df['moves'][0])"
   ]
  },
  {
   "cell_type": "code",
   "execution_count": 33,
   "id": "248775a0",
   "metadata": {},
   "outputs": [],
   "source": [
    "## Round? Are there any values for these? Is it useful?\n",
    "## What does BlackClock and WhiteClock mean?\n",
    "## What is Time referring to? \n",
    "## What is BlackRD? What is WhiteRD?"
   ]
  },
  {
   "cell_type": "markdown",
   "id": "b8179e3f",
   "metadata": {},
   "source": [
    "The Reliability Deviation (RD) measures the accuracy of a player's rating, with one RD being equal to one standard deviation. E.g. a player with a rating of 1500 and an RD of 50 has a real strength between 1400 and 1600 (two standard deviations from 1500) with 95% confidence - twice (exactly 1.96) the RD is added and subtracted from their rating to calculate this range. After a game, the amount the rating changes depends on the RD: the change is smaller when the player's RD is low (since their rating is already considered accurate), and also when their opponent's RD is high (since the opponent's RD is high (since the opponent's true rating is not well known, so little information is being gained). The RD value decreases after playing a game but it will increase slowly over time of inactivity."
   ]
  },
  {
   "cell_type": "code",
   "execution_count": 34,
   "id": "ba56de38",
   "metadata": {},
   "outputs": [],
   "source": [
    "## I can find the number of moves by dividing Ply by 2 and \n",
    "# roudning down. I can check if this number matches up with \n",
    "# the length of the Moves divided by 2 and rounded down."
   ]
  },
  {
   "cell_type": "code",
   "execution_count": 35,
   "id": "e55a1009",
   "metadata": {},
   "outputs": [],
   "source": [
    "## Event:"
   ]
  },
  {
   "cell_type": "code",
   "execution_count": 36,
   "id": "2bd3387d",
   "metadata": {},
   "outputs": [],
   "source": [
    "df['Event'].value_counts();"
   ]
  },
  {
   "cell_type": "markdown",
   "id": "a45440d7",
   "metadata": {},
   "source": [
    "FICS rated standard game      4942\n",
    "\n",
    "FICS unrated standard game      58"
   ]
  },
  {
   "cell_type": "code",
   "execution_count": 37,
   "id": "9e088834",
   "metadata": {},
   "outputs": [],
   "source": [
    "type(df['Event'][0]);\n",
    "# String"
   ]
  },
  {
   "cell_type": "code",
   "execution_count": 38,
   "id": "37943a44",
   "metadata": {},
   "outputs": [],
   "source": [
    "## Site:"
   ]
  },
  {
   "cell_type": "code",
   "execution_count": 39,
   "id": "5155b62f",
   "metadata": {},
   "outputs": [],
   "source": [
    "df.Site.value_counts();\n",
    "# All 500 are FICS freechess.org"
   ]
  },
  {
   "cell_type": "code",
   "execution_count": 40,
   "id": "c2112f55",
   "metadata": {},
   "outputs": [],
   "source": [
    "type(df.Site[0]);\n",
    "# String"
   ]
  },
  {
   "cell_type": "code",
   "execution_count": 41,
   "id": "4b249ff7",
   "metadata": {},
   "outputs": [],
   "source": [
    "## Date:"
   ]
  },
  {
   "cell_type": "code",
   "execution_count": 42,
   "id": "edff2a79",
   "metadata": {},
   "outputs": [],
   "source": [
    "df.Date.nunique();\n",
    "# 16 unique dates in 2022"
   ]
  },
  {
   "cell_type": "code",
   "execution_count": 43,
   "id": "589809e0",
   "metadata": {},
   "outputs": [],
   "source": [
    "df.Date.value_counts();\n",
    "# All of these games took place in September from 05 to 18"
   ]
  },
  {
   "cell_type": "markdown",
   "id": "9f2773e2",
   "metadata": {},
   "source": [
    "- 2022-09-18    427\n",
    "- 2022-09-17    403\n",
    "- 2022-09-10    385\n",
    "- 2022-09-16    362\n",
    "- 2022-09-08    360\n",
    "- 2022-09-11    351\n",
    "- 2022-09-12    337\n",
    "- 2022-09-07    322\n",
    "- 2022-09-14    317\n",
    "- 2022-09-19    316\n",
    "- 2022-09-15    315\n",
    "- 2022-09-13    305\n",
    "- 2022-09-09    304\n",
    "- 2022-09-06    255\n",
    "- 2022-09-20    145\n",
    "- 2022-09-05     96"
   ]
  },
  {
   "cell_type": "code",
   "execution_count": 44,
   "id": "f1d8e1fe",
   "metadata": {},
   "outputs": [],
   "source": [
    "df.Date.dtype;\n",
    "# tldr it's datetime"
   ]
  },
  {
   "cell_type": "code",
   "execution_count": 45,
   "id": "c03cc59e",
   "metadata": {},
   "outputs": [],
   "source": [
    "## Round:"
   ]
  },
  {
   "cell_type": "code",
   "execution_count": 46,
   "id": "72189747",
   "metadata": {},
   "outputs": [
    {
     "data": {
      "text/plain": [
       "1"
      ]
     },
     "execution_count": 46,
     "metadata": {},
     "output_type": "execute_result"
    }
   ],
   "source": [
    "df.Round.nunique()"
   ]
  },
  {
   "cell_type": "code",
   "execution_count": 47,
   "id": "118abd38",
   "metadata": {},
   "outputs": [],
   "source": [
    "df.Round.value_counts();\n",
    "# All 5000 are ? in this dataset"
   ]
  },
  {
   "cell_type": "code",
   "execution_count": 48,
   "id": "40f87fb5",
   "metadata": {},
   "outputs": [],
   "source": [
    "## White:"
   ]
  },
  {
   "cell_type": "code",
   "execution_count": 49,
   "id": "83e92c23",
   "metadata": {},
   "outputs": [],
   "source": [
    "## Black:"
   ]
  },
  {
   "cell_type": "code",
   "execution_count": 50,
   "id": "a0021589",
   "metadata": {},
   "outputs": [],
   "source": [
    "## Result:"
   ]
  },
  {
   "cell_type": "code",
   "execution_count": 51,
   "id": "ffd8279e",
   "metadata": {},
   "outputs": [],
   "source": [
    "## Time: "
   ]
  },
  {
   "cell_type": "code",
   "execution_count": 52,
   "id": "6d37d3ee",
   "metadata": {},
   "outputs": [
    {
     "name": "stdout",
     "output_type": "stream",
     "text": [
      "<class 'pandas.core.frame.DataFrame'>\n",
      "RangeIndex: 5000 entries, 0 to 4999\n",
      "Data columns (total 21 columns):\n",
      " #   Column             Non-Null Count  Dtype         \n",
      "---  ------             --------------  -----         \n",
      " 0   Event              5000 non-null   object        \n",
      " 1   Site               5000 non-null   object        \n",
      " 2   Date               5000 non-null   datetime64[ns]\n",
      " 3   Round              5000 non-null   object        \n",
      " 4   White              5000 non-null   object        \n",
      " 5   Black              5000 non-null   object        \n",
      " 6   Result             5000 non-null   object        \n",
      " 7   BlackClock         5000 non-null   object        \n",
      " 8   BlackElo           5000 non-null   int64         \n",
      " 9   BlackIsComp        2529 non-null   object        \n",
      " 10  BlackRD            5000 non-null   float64       \n",
      " 11  ECO                5000 non-null   object        \n",
      " 12  FICSGamesDBGameNo  5000 non-null   int64         \n",
      " 13  PlyCount           5000 non-null   int64         \n",
      " 14  Time               5000 non-null   object        \n",
      " 15  TimeControl        5000 non-null   object        \n",
      " 16  WhiteClock         5000 non-null   object        \n",
      " 17  WhiteElo           5000 non-null   int64         \n",
      " 18  WhiteRD            5000 non-null   float64       \n",
      " 19  moves              5000 non-null   object        \n",
      " 20  WhiteIsComp        2471 non-null   object        \n",
      "dtypes: datetime64[ns](1), float64(2), int64(4), object(14)\n",
      "memory usage: 820.4+ KB\n"
     ]
    }
   ],
   "source": [
    "df.info()"
   ]
  },
  {
   "cell_type": "markdown",
   "id": "04de4016",
   "metadata": {},
   "source": [
    "#### Initial Data Cleaning"
   ]
  },
  {
   "cell_type": "markdown",
   "id": "46d510e7",
   "metadata": {},
   "source": [
    "##### Missing data:\n",
    "\n",
    "Are there any rows or columns that have blank, np.NaN, or otherwise missing data? Should they be dropped or replaced?"
   ]
  },
  {
   "cell_type": "markdown",
   "id": "5d1bb004",
   "metadata": {},
   "source": [
    "##### Duplicate data:\n",
    "\n",
    "Any duplicate (or redundant) rows or columns?"
   ]
  },
  {
   "cell_type": "markdown",
   "id": "f347ab5d",
   "metadata": {},
   "source": [
    "##### Anomalies:\n",
    "\n",
    "\n",
    "Like do the values all make sense? Are there any columns that have rows with values that are not sensible?"
   ]
  },
  {
   "cell_type": "markdown",
   "id": "130105cb",
   "metadata": {},
   "source": [
    "###### Formatting:\n",
    "\n",
    "Is the data presented in a way that makes sense? Are the variable types correct?"
   ]
  },
  {
   "cell_type": "markdown",
   "id": "1bc34056",
   "metadata": {},
   "source": [
    "###### What are the distributions of the each column:"
   ]
  },
  {
   "cell_type": "code",
   "execution_count": null,
   "id": "60b0901e",
   "metadata": {},
   "outputs": [],
   "source": []
  },
  {
   "cell_type": "markdown",
   "id": "7362299b",
   "metadata": {},
   "source": [
    "# Questions:\n",
    "\n",
    "- Do all the games start from the starting position?\n",
    "- Does the game being an otb or online game influence how likely a win/draw is? \n",
    "- Is there any noticeable difference in patterns across different elo categories?\n",
    "- What is the distribution of elo?\n",
    "- Does the dataset tell me hwo the game ended? (I.e. resignation, checkmate, running out of time etc.)\n"
   ]
  },
  {
   "cell_type": "markdown",
   "id": "91035b30",
   "metadata": {},
   "source": [
    "# Considerations:\n",
    "\n",
    "- Using ELO difference/metric as a feature in predicting expected outcome.\n",
    "- Use an engine to evaluate sequences of chess moves played in a game to learn average centipawn loss/gain, the centipawn loss/gain for each move, the number of innacuracies, mistakes, blunders. \n",
    "\n",
    "\n",
    "\n",
    "- Lichess games offer "
   ]
  },
  {
   "cell_type": "code",
   "execution_count": null,
   "id": "7d52d6e8",
   "metadata": {},
   "outputs": [],
   "source": []
  },
  {
   "cell_type": "markdown",
   "id": "b385bcfb",
   "metadata": {},
   "source": [
    "# Notes from Data Skeptic:\n",
    "\n",
    "- Humans tend to make little blunders all the time \"oh I didn't notice this idea, luckily my position still holds\".\n",
    "- Computers tend to keep their options open, X was able to demonstrate that humans, if they see an attack, will try to play it and force an early crisis in the game.\n",
    "- In aggregates of 100-200 moves, X believes you can then determine with confidence if someone was cheating.\n",
    "- \"Distance metric (of two probabilities?)\" : \"You can't just say deterministically what is the computer's move. It depends on many variables such as the depth of search, [pv or multi-pv], the identity of the computer program, even how much hash memory you've given it. There's a variation there (i.e. a probability distribution). The human being is a distribution, often fallable distribution, of options.\"\n",
    "- Originally going to use 'fidelity' which is a distance measure between distributions, which often comes up in computational physics. A former student recommended the 'Yensen-Shannon divergence (?)' which would solve a problem of 'Koblak-Leibler (?)' divergence of being too hair trigger in the treatment of blunders but it lacked other properties which X needed. \n",
    "- Wound up doing something 'highly elementary': maps given analysis of positions in a game, and parameters denoting the strength and particulars of the human player, he maps each chess move to probabilities, as if he were painting that move on the faces of many sided dice. And then he treats the chess position as a roll of those dice, so for this player, there's a 49% chance of selecting Ng5, 27% for Qg4, and so on down the line. After that, he can tap into the very simple stats theory of Bernoulli distributions (rolls of dice, flips of coins), and not only project the expected mean number of agreements, but also the projected variance, from the Bernoulli distribution theory, and thereby project confidence intervals, and since he's estimating a sample mean, the CLT comes into play, so he's working with a normal distribution and can use a z-score framework for his statistical projections. \n",
    "- If there is a clear stand-out move (e.g. only one move that keeps you alive in the position) then not only will the computer find it, it is highly likely that the good human player will find it. Whereas, even if you have just 10 moves in a game, where each move there were 4 highly reasonable options, which X's model would assign probabilities say between 20-25% each, and you consistently select the option that shows as preferred in X's computer test (...something about Modulo and distribution), if you match the computer's preferred move for 10 or more moves in a row, that a mllion to one probability \n"
   ]
  },
  {
   "cell_type": "code",
   "execution_count": null,
   "id": "7f51ee2d",
   "metadata": {},
   "outputs": [],
   "source": []
  }
 ],
 "metadata": {
  "kernelspec": {
   "display_name": "capstone_env",
   "language": "python",
   "name": "capstone_env"
  },
  "language_info": {
   "codemirror_mode": {
    "name": "ipython",
    "version": 3
   },
   "file_extension": ".py",
   "mimetype": "text/x-python",
   "name": "python",
   "nbconvert_exporter": "python",
   "pygments_lexer": "ipython3",
   "version": "3.9.13"
  },
  "toc": {
   "base_numbering": 1,
   "nav_menu": {},
   "number_sections": true,
   "sideBar": true,
   "skip_h1_title": false,
   "title_cell": "Table of Contents",
   "title_sidebar": "Contents",
   "toc_cell": false,
   "toc_position": {},
   "toc_section_display": true,
   "toc_window_display": false
  }
 },
 "nbformat": 4,
 "nbformat_minor": 5
}
