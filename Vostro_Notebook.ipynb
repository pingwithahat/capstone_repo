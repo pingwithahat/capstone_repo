{
 "cells": [
  {
   "cell_type": "markdown",
   "id": "c3f1d298",
   "metadata": {},
   "source": [
    "# EDA Contents "
   ]
  },
  {
   "cell_type": "markdown",
   "id": "461f60f6",
   "metadata": {
    "heading_collapsed": true
   },
   "source": [
    "## 'Placeholder'"
   ]
  },
  {
   "cell_type": "markdown",
   "id": "d564d563",
   "metadata": {},
   "source": [
    "# WIP"
   ]
  },
  {
   "cell_type": "markdown",
   "id": "2360f76e",
   "metadata": {},
   "source": [
    "## Imports"
   ]
  },
  {
   "cell_type": "markdown",
   "id": "b95471d2",
   "metadata": {},
   "source": [
    "### Main"
   ]
  },
  {
   "cell_type": "code",
   "execution_count": 1,
   "id": "86a6145f",
   "metadata": {
    "ExecuteTime": {
     "end_time": "2022-11-01T13:15:32.762049Z",
     "start_time": "2022-11-01T13:15:30.720578Z"
    }
   },
   "outputs": [],
   "source": [
    "import sys\n",
    "import numpy as np\n",
    "import pandas as pd\n",
    "import matplotlib.pyplot as plt\n",
    "import chess\n",
    "import io\n",
    "import sys\n",
    "import chess.pgn\n",
    "from io import StringIO\n",
    "import seaborn as sns\n",
    "\n",
    "import plotly.express as px\n",
    "import plotly.graph_objects as go\n",
    "\n",
    "\n",
    "%matplotlib inline\n",
    "\n",
    "import joblib\n",
    "\n",
    "# import pickle\n",
    "# from sklearn.utils import shuffle\n",
    "# import gc\n",
    "# import logging\n",
    "\n",
    "\n",
    "from stockfish import Stockfish"
   ]
  },
  {
   "cell_type": "code",
   "execution_count": 2,
   "id": "e4167a91",
   "metadata": {
    "ExecuteTime": {
     "end_time": "2022-11-01T13:15:32.778049Z",
     "start_time": "2022-11-01T13:15:32.764050Z"
    }
   },
   "outputs": [],
   "source": [
    "import warnings\n",
    "warnings.filterwarnings(\"ignore\")"
   ]
  },
  {
   "cell_type": "code",
   "execution_count": 3,
   "id": "8c992c2d",
   "metadata": {
    "ExecuteTime": {
     "end_time": "2022-11-01T13:15:33.062070Z",
     "start_time": "2022-11-01T13:15:32.779049Z"
    }
   },
   "outputs": [],
   "source": [
    "import re\n",
    "from sklearn.preprocessing import OneHotEncoder\n",
    "from sklearn.model_selection import train_test_split, cross_val_score, GridSearchCV \n",
    "from sklearn.preprocessing import StandardScaler, MinMaxScaler\n",
    "from sklearn.linear_model import LogisticRegression\n",
    "from sklearn.svm import SVC\n",
    "from sklearn.tree import DecisionTreeClassifier, plot_tree\n",
    "from sklearn.neighbors import KNeighborsClassifier\n",
    "from sklearn.decomposition import PCA\n",
    "from tempfile import mkdtemp\n",
    "from sklearn.pipeline import Pipeline\n",
    "# from sklearn.pipeline import FeatureUnion\n",
    "from sklearn.compose import ColumnTransformer\n",
    "from sklearn.metrics import classification_report, plot_confusion_matrix, confusion_matrix,\\\n",
    "                            make_scorer, accuracy_score, f1_score\n",
    "from sklearn.ensemble import RandomForestClassifier"
   ]
  },
  {
   "cell_type": "markdown",
   "id": "1d1ac632",
   "metadata": {},
   "source": [
    "---"
   ]
  },
  {
   "cell_type": "markdown",
   "id": "304c08f5",
   "metadata": {},
   "source": [
    "### Helpers"
   ]
  },
  {
   "cell_type": "code",
   "execution_count": 4,
   "id": "25c37d45",
   "metadata": {
    "ExecuteTime": {
     "end_time": "2022-11-01T13:15:33.078069Z",
     "start_time": "2022-11-01T13:15:33.065070Z"
    }
   },
   "outputs": [],
   "source": [
    "# import sys\n",
    "# sys.modules.pop('detecting_cheaters_in_chess_helpers')"
   ]
  },
  {
   "cell_type": "code",
   "execution_count": 5,
   "id": "006946c6",
   "metadata": {
    "ExecuteTime": {
     "end_time": "2022-11-01T13:15:33.094075Z",
     "start_time": "2022-11-01T13:15:33.079070Z"
    }
   },
   "outputs": [],
   "source": [
    "import detecting_cheaters_in_chess_helpers as hp"
   ]
  },
  {
   "cell_type": "markdown",
   "id": "45666345",
   "metadata": {},
   "source": [
    "['Event', 'Site', 'Date', 'Round', 'White', 'Black', 'Result',\n",
    "       'BlackClock', 'BlackElo', 'BlackIsComp', 'BlackRD', 'ECO',\n",
    "       'FICSGamesDBGameNo', 'PlyCount', 'Time', 'TimeControl', 'WhiteClock',\n",
    "       'WhiteElo', 'WhiteRD', 'emt', 'moves', 'WhiteIsComp', 'NoComp']"
   ]
  },
  {
   "cell_type": "markdown",
   "id": "6b49e909",
   "metadata": {},
   "source": [
    "-----"
   ]
  },
  {
   "cell_type": "markdown",
   "id": "3fb256ae",
   "metadata": {
    "heading_collapsed": true
   },
   "source": [
    "## DFs, Pickles, Checks"
   ]
  },
  {
   "cell_type": "markdown",
   "id": "4eff8b12",
   "metadata": {
    "hidden": true
   },
   "source": [
    "### Many pickles (or json)"
   ]
  },
  {
   "cell_type": "markdown",
   "id": "da1f7f2f",
   "metadata": {
    "hidden": true
   },
   "source": [
    "#### 2022"
   ]
  },
  {
   "cell_type": "code",
   "execution_count": null,
   "id": "775f6370",
   "metadata": {
    "ExecuteTime": {
     "end_time": "2022-10-23T15:16:03.282605Z",
     "start_time": "2022-10-23T15:16:03.267645Z"
    },
    "hidden": true
   },
   "outputs": [],
   "source": [
    "# raw_2022_list = [pd.read_json(\n",
    "#     f'C:/Users/MaNiL/Desktop/data/capstone/raw/json/2022/ficsgamesdb_20220{num-17}_CvH_movetimes_2648{num}.json') for num in \\\n",
    "#                 range(18, 27)]"
   ]
  },
  {
   "cell_type": "code",
   "execution_count": null,
   "id": "c79b60e8",
   "metadata": {
    "ExecuteTime": {
     "end_time": "2022-10-23T15:16:03.298563Z",
     "start_time": "2022-10-23T15:16:03.283602Z"
    },
    "hidden": true
   },
   "outputs": [],
   "source": [
    "# raw_2022_list[0].head(1)"
   ]
  },
  {
   "cell_type": "code",
   "execution_count": null,
   "id": "60258d3a",
   "metadata": {
    "ExecuteTime": {
     "end_time": "2022-10-23T15:16:03.314642Z",
     "start_time": "2022-10-23T15:16:03.299560Z"
    },
    "hidden": true
   },
   "outputs": [],
   "source": [
    "# raw_2022 = pd.concat(raw_2022_list).reset_index(drop=True)\n",
    "# raw_2022.shape"
   ]
  },
  {
   "cell_type": "code",
   "execution_count": null,
   "id": "7dc21035",
   "metadata": {
    "ExecuteTime": {
     "end_time": "2022-10-23T15:16:03.329603Z",
     "start_time": "2022-10-23T15:16:03.315640Z"
    },
    "hidden": true
   },
   "outputs": [],
   "source": [
    "# # pickle 2022\n",
    "# joblib.dump(raw_2022, 'C:/Users/MaNiL/Desktop/data/capstone/preprocessed/2022_CvH.pkl')"
   ]
  },
  {
   "cell_type": "markdown",
   "id": "e12b0909",
   "metadata": {
    "heading_collapsed": true,
    "hidden": true
   },
   "source": [
    "#### 2021 and 2020"
   ]
  },
  {
   "cell_type": "code",
   "execution_count": null,
   "id": "fdda8d6d",
   "metadata": {
    "ExecuteTime": {
     "end_time": "2022-10-23T15:16:03.344562Z",
     "start_time": "2022-10-23T15:16:03.330600Z"
    },
    "hidden": true
   },
   "outputs": [],
   "source": [
    "# raw_2021 = joblib.load('./data/2021_CvH.pkl')"
   ]
  },
  {
   "cell_type": "code",
   "execution_count": null,
   "id": "081c7354",
   "metadata": {
    "ExecuteTime": {
     "end_time": "2022-10-23T15:16:03.360520Z",
     "start_time": "2022-10-23T15:16:03.347555Z"
    },
    "hidden": true
   },
   "outputs": [],
   "source": [
    "# raw_2020 = joblib.load('./data/2020_CvH.pkl')"
   ]
  },
  {
   "cell_type": "markdown",
   "id": "1eb2f2d1",
   "metadata": {
    "heading_collapsed": true,
    "hidden": true
   },
   "source": [
    "#### 2019 and 2018"
   ]
  },
  {
   "cell_type": "code",
   "execution_count": null,
   "id": "f7dcb01f",
   "metadata": {
    "ExecuteTime": {
     "end_time": "2022-10-23T15:16:03.376477Z",
     "start_time": "2022-10-23T15:16:03.361517Z"
    },
    "hidden": true
   },
   "outputs": [],
   "source": [
    "# raw_2019_2018_list = [pd.read_json(\n",
    "#     f'C:/Users/MaNiL/Desktop/data/capstone/raw/json/{year}/ficsgamesdb_{year}_CvH_movetimes_2648{val}.json')\\\n",
    "#                       for year, val in zip(['2019', '2018'], ['15', '16'])]"
   ]
  },
  {
   "cell_type": "code",
   "execution_count": null,
   "id": "d2248213",
   "metadata": {
    "ExecuteTime": {
     "end_time": "2022-10-23T15:16:03.392435Z",
     "start_time": "2022-10-23T15:16:03.377475Z"
    },
    "hidden": true
   },
   "outputs": [],
   "source": [
    "# raw_2019_2018_list[0].head(1)"
   ]
  },
  {
   "cell_type": "code",
   "execution_count": null,
   "id": "7e3a67bc",
   "metadata": {
    "ExecuteTime": {
     "end_time": "2022-10-23T15:16:03.408393Z",
     "start_time": "2022-10-23T15:16:03.393433Z"
    },
    "hidden": true,
    "scrolled": true
   },
   "outputs": [],
   "source": [
    "# raw_2019_2018_list[1].head(1)"
   ]
  },
  {
   "cell_type": "code",
   "execution_count": null,
   "id": "514ef614",
   "metadata": {
    "ExecuteTime": {
     "end_time": "2022-10-23T15:16:03.424379Z",
     "start_time": "2022-10-23T15:16:03.409389Z"
    },
    "hidden": true
   },
   "outputs": [],
   "source": [
    "# raw_2019_2018 = pd.concat(raw_2019_2018_list).reset_index(drop=True)"
   ]
  },
  {
   "cell_type": "code",
   "execution_count": null,
   "id": "142106a4",
   "metadata": {
    "ExecuteTime": {
     "end_time": "2022-10-23T15:16:03.440334Z",
     "start_time": "2022-10-23T15:16:03.425352Z"
    },
    "hidden": true
   },
   "outputs": [],
   "source": [
    "# # # pickle 2019 and 2018\n",
    "# joblib.dump(raw_2019_2018_list[0], 'C:/Users/MaNiL/Desktop/data/capstone/preprocessed/2019_CvH.pkl')\n",
    "# joblib.dump(raw_2019_2018_list[1], 'C:/Users/MaNiL/Desktop/data/capstone/preprocessed/2018_CvH.pkl')"
   ]
  },
  {
   "cell_type": "code",
   "execution_count": null,
   "id": "1190cc9d",
   "metadata": {
    "hidden": true
   },
   "outputs": [],
   "source": []
  },
  {
   "cell_type": "markdown",
   "id": "380373e4",
   "metadata": {
    "heading_collapsed": true,
    "hidden": true
   },
   "source": [
    "### Mass concatenation"
   ]
  },
  {
   "cell_type": "code",
   "execution_count": null,
   "id": "b007b681",
   "metadata": {
    "ExecuteTime": {
     "end_time": "2022-10-23T15:16:03.456294Z",
     "start_time": "2022-10-23T15:16:03.441304Z"
    },
    "hidden": true
   },
   "outputs": [],
   "source": [
    "# raw_2022\n",
    "# raw_2021\n",
    "# raw_2020\n",
    "# raw_2019_2018"
   ]
  },
  {
   "cell_type": "code",
   "execution_count": null,
   "id": "fef25f65",
   "metadata": {
    "hidden": true
   },
   "outputs": [],
   "source": []
  },
  {
   "cell_type": "code",
   "execution_count": null,
   "id": "5ee552ce",
   "metadata": {
    "ExecuteTime": {
     "end_time": "2022-10-23T15:16:03.472222Z",
     "start_time": "2022-10-23T15:16:03.458259Z"
    },
    "hidden": true
   },
   "outputs": [],
   "source": [
    "# # on vostro laptop\n",
    "# raw_pickle_list = [joblib.load(f'C:/Users/MaNiL/Desktop/data/capstone/preprocessed/{year}_CvH.pkl') for \\\n",
    "#          year in np.arange(2022, 2017, -1)] # load the pickles from 2022 to 2018 inclusive"
   ]
  },
  {
   "cell_type": "code",
   "execution_count": null,
   "id": "690e92e6",
   "metadata": {
    "ExecuteTime": {
     "end_time": "2022-10-23T15:16:03.488209Z",
     "start_time": "2022-10-23T15:16:03.473219Z"
    },
    "hidden": true
   },
   "outputs": [],
   "source": [
    "# sum([df_.shape[0] for df_ in raw_pickle_list])==pd.concat(raw_pickle_list).shape[0]"
   ]
  },
  {
   "cell_type": "code",
   "execution_count": null,
   "id": "1a071d2a",
   "metadata": {
    "ExecuteTime": {
     "end_time": "2022-10-23T15:16:03.504160Z",
     "start_time": "2022-10-23T15:16:03.489177Z"
    },
    "hidden": true
   },
   "outputs": [],
   "source": [
    "# big_df = hp.concatenate_cleaned_pickles(raw_pickle_list)"
   ]
  },
  {
   "cell_type": "code",
   "execution_count": null,
   "id": "dbbfe97d",
   "metadata": {
    "ExecuteTime": {
     "end_time": "2022-10-23T15:16:03.520124Z",
     "start_time": "2022-10-23T15:16:03.505133Z"
    },
    "hidden": true
   },
   "outputs": [],
   "source": [
    "# X, y = hp.X_y_split_simple(big_df)\n",
    "\n",
    "# y = hp.y_convert_to_ohe_vec(y)"
   ]
  },
  {
   "cell_type": "code",
   "execution_count": null,
   "id": "d839489b",
   "metadata": {
    "ExecuteTime": {
     "end_time": "2022-10-23T15:16:03.535621Z",
     "start_time": "2022-10-23T15:16:03.521091Z"
    },
    "hidden": true
   },
   "outputs": [],
   "source": [
    "# y.head()"
   ]
  },
  {
   "cell_type": "markdown",
   "id": "6734689f",
   "metadata": {
    "hidden": true
   },
   "source": [
    "-----"
   ]
  },
  {
   "cell_type": "markdown",
   "id": "01efeb74",
   "metadata": {
    "heading_collapsed": true,
    "hidden": true
   },
   "source": [
    "### Mass concatenation test"
   ]
  },
  {
   "cell_type": "markdown",
   "id": "d81b78d3",
   "metadata": {
    "heading_collapsed": true,
    "hidden": true
   },
   "source": [
    "#### Only 2022"
   ]
  },
  {
   "cell_type": "code",
   "execution_count": null,
   "id": "cbd064ae",
   "metadata": {
    "ExecuteTime": {
     "end_time": "2022-10-23T15:16:03.551576Z",
     "start_time": "2022-10-23T15:16:03.536585Z"
    },
    "hidden": true
   },
   "outputs": [],
   "source": [
    "# raw_2022 = joblib.load('C:/Users/MaNiL/Desktop/data/capstone/preprocessed/2022_CvH.pkl')"
   ]
  },
  {
   "cell_type": "code",
   "execution_count": null,
   "id": "b04e6383",
   "metadata": {
    "ExecuteTime": {
     "end_time": "2022-10-23T15:16:03.567530Z",
     "start_time": "2022-10-23T15:16:03.552543Z"
    },
    "hidden": true
   },
   "outputs": [],
   "source": [
    "# raw_2022 = hp.change_comp_columns(raw_2022)"
   ]
  },
  {
   "cell_type": "code",
   "execution_count": null,
   "id": "af994e71",
   "metadata": {
    "ExecuteTime": {
     "end_time": "2022-10-23T15:16:03.583460Z",
     "start_time": "2022-10-23T15:16:03.568500Z"
    },
    "hidden": true
   },
   "outputs": [],
   "source": [
    "# raw_2022 = raw_2022.drop(columns=['Taco'])\n",
    "# KeyError: \"['Taco'] not found in axis\"\n"
   ]
  },
  {
   "cell_type": "code",
   "execution_count": null,
   "id": "d77e4dcb",
   "metadata": {
    "ExecuteTime": {
     "end_time": "2022-10-23T15:16:03.599445Z",
     "start_time": "2022-10-23T15:16:03.584458Z"
    },
    "hidden": true
   },
   "outputs": [],
   "source": [
    "# def X_y_split_simple(df):\n",
    "#     X_ = df.drop(columns=['WhiteIsComp', 'BlackIsComp', 'NoComp'])\n",
    "#     y_ = df.loc[:,['WhiteIsComp', 'BlackIsComp', 'NoComp']]\n",
    "#     return X_, y_"
   ]
  },
  {
   "cell_type": "code",
   "execution_count": null,
   "id": "5d66e6b5",
   "metadata": {
    "ExecuteTime": {
     "end_time": "2022-10-23T15:16:03.615402Z",
     "start_time": "2022-10-23T15:16:03.600414Z"
    },
    "hidden": true,
    "scrolled": true
   },
   "outputs": [],
   "source": [
    "# X_, y_ = hp.X_y_split_simple(raw_2022)"
   ]
  },
  {
   "cell_type": "code",
   "execution_count": null,
   "id": "4916dacd",
   "metadata": {
    "ExecuteTime": {
     "end_time": "2022-10-23T15:16:03.630930Z",
     "start_time": "2022-10-23T15:16:03.616372Z"
    },
    "hidden": true
   },
   "outputs": [],
   "source": [
    "# y_.head()"
   ]
  },
  {
   "cell_type": "code",
   "execution_count": null,
   "id": "dad8a107",
   "metadata": {
    "ExecuteTime": {
     "end_time": "2022-10-23T15:16:03.646859Z",
     "start_time": "2022-10-23T15:16:03.636913Z"
    },
    "hidden": true
   },
   "outputs": [],
   "source": [
    "# y_ = hp.y_convert_to_ohe_vec(y_)\n",
    "# y_.head()"
   ]
  },
  {
   "cell_type": "code",
   "execution_count": null,
   "id": "450db16e",
   "metadata": {
    "ExecuteTime": {
     "end_time": "2022-10-23T15:16:03.662841Z",
     "start_time": "2022-10-23T15:16:03.647856Z"
    },
    "hidden": true
   },
   "outputs": [],
   "source": [
    "# y_.shape"
   ]
  },
  {
   "cell_type": "code",
   "execution_count": null,
   "id": "1bcccfd8",
   "metadata": {
    "hidden": true
   },
   "outputs": [],
   "source": []
  },
  {
   "cell_type": "code",
   "execution_count": null,
   "id": "caafaf2e",
   "metadata": {
    "ExecuteTime": {
     "end_time": "2022-10-23T15:16:03.678796Z",
     "start_time": "2022-10-23T15:16:03.663814Z"
    },
    "hidden": true
   },
   "outputs": [],
   "source": [
    "# def y_convert_to_ohe_vec(y):\n",
    "#     '''\n",
    "#     Note: Loss will have to be 'categorical_crossentropy' if y's are one-hot-encoded, 'sparse_categorical_crossentropy' if y's are integers.\n",
    "    \n",
    "#     If all games contain a cheater, return integers for y where:\n",
    "#         0 indicates white was cheating\n",
    "#         1 indicates black was cheating\n",
    "        \n",
    "#     If any games contain no cheaters, return one-hot-encoded arrays for y where:\n",
    "#         [1,0,0] indicates white was cheating\n",
    "#         [0,1,0] indicates black was cheating\n",
    "#         [0,0,1] indicates no-one was cheating\n",
    "        \n",
    "        \n",
    "#     Have a check for explicit 'options=3' where user can input options value, or check len(y.columns)==3\n",
    "#     '''\n",
    "#     if len(y.columns)==3:\n",
    "#         if all(y.NoComp==0):\n",
    "#             y_ = pd.DataFrame(np.where(y.WhiteIsComp==1, 0, 1), columns=['0_WhiteIsComp_1_BlackIsComp'])\n",
    "#             return y_\n",
    "#         else:\n",
    "#             y_ = pd.DataFrame([[row] for row in y.values], columns=['WhiteIsComp_BlackIsComp_NoComp'])\n",
    "#             return y_        \n",
    "#     else:\n",
    "#         return(print('Function only currently supporting y having WhiteIsComp, BlackIsComp, and NoComp'))"
   ]
  },
  {
   "cell_type": "code",
   "execution_count": null,
   "id": "6967ce46",
   "metadata": {
    "ExecuteTime": {
     "end_time": "2022-10-23T15:16:03.694731Z",
     "start_time": "2022-10-23T15:16:03.679771Z"
    },
    "hidden": true
   },
   "outputs": [],
   "source": [
    "# all(y_.NoComp==0)"
   ]
  },
  {
   "cell_type": "code",
   "execution_count": null,
   "id": "b139b70f",
   "metadata": {
    "ExecuteTime": {
     "end_time": "2022-10-23T15:16:03.710715Z",
     "start_time": "2022-10-23T15:16:03.695729Z"
    },
    "hidden": true
   },
   "outputs": [],
   "source": [
    "# (y_.WhiteIsComp==1).head()"
   ]
  },
  {
   "cell_type": "code",
   "execution_count": null,
   "id": "4d4314e1",
   "metadata": {
    "ExecuteTime": {
     "end_time": "2022-10-23T15:16:03.726646Z",
     "start_time": "2022-10-23T15:16:03.711686Z"
    },
    "hidden": true
   },
   "outputs": [],
   "source": [
    "# np.where(y_.WhiteIsComp==1, 0, 1)"
   ]
  },
  {
   "cell_type": "code",
   "execution_count": null,
   "id": "0ca641b5",
   "metadata": {
    "ExecuteTime": {
     "end_time": "2022-10-23T15:16:03.742591Z",
     "start_time": "2022-10-23T15:16:03.727639Z"
    },
    "hidden": true
   },
   "outputs": [],
   "source": [
    "# y_t = y_.copy()\n",
    "# y_t['0_WhiteIsComp_1_BlackIsComp'] = np.where(y_t.WhiteIsComp==1, 0, 1)"
   ]
  },
  {
   "cell_type": "code",
   "execution_count": null,
   "id": "2e9d0dd3",
   "metadata": {
    "ExecuteTime": {
     "end_time": "2022-10-23T15:16:03.758564Z",
     "start_time": "2022-10-23T15:16:03.744587Z"
    },
    "hidden": true
   },
   "outputs": [],
   "source": [
    "# y_t.head(5)"
   ]
  },
  {
   "cell_type": "code",
   "execution_count": null,
   "id": "97369f8f",
   "metadata": {
    "ExecuteTime": {
     "end_time": "2022-10-23T15:16:03.774534Z",
     "start_time": "2022-10-23T15:16:03.759546Z"
    },
    "hidden": true
   },
   "outputs": [],
   "source": [
    "# y_tt = pd.DataFrame(np.where(y_.WhiteIsComp==1, 0, 1), columns=['0_WhiteIsComp_1_BlackIsComp'])\n",
    "# y_tt"
   ]
  },
  {
   "cell_type": "code",
   "execution_count": null,
   "id": "a10f94a5",
   "metadata": {
    "ExecuteTime": {
     "end_time": "2022-10-23T15:16:03.790491Z",
     "start_time": "2022-10-23T15:16:03.775504Z"
    },
    "hidden": true
   },
   "outputs": [],
   "source": [
    "# for row in y_.values:\n",
    "#     print(row)\n",
    "\n",
    "# pd.DataFrame([[row] for row in y_.values], columns=['WhiteIsComp_BlackIsComp_NoComp'])"
   ]
  },
  {
   "cell_type": "code",
   "execution_count": null,
   "id": "3bdf19aa",
   "metadata": {
    "ExecuteTime": {
     "end_time": "2022-10-23T15:16:03.805451Z",
     "start_time": "2022-10-23T15:16:03.791461Z"
    },
    "hidden": true
   },
   "outputs": [],
   "source": [
    "# y_test_ = y_convert_to_ohe_vec(y_)\n",
    "# y_test_"
   ]
  },
  {
   "cell_type": "markdown",
   "id": "8be12628",
   "metadata": {
    "hidden": true
   },
   "source": [
    "-----"
   ]
  },
  {
   "cell_type": "markdown",
   "id": "62fe6ef9",
   "metadata": {
    "heading_collapsed": true,
    "hidden": true
   },
   "source": [
    "#### Only 2021 and 2020"
   ]
  },
  {
   "cell_type": "code",
   "execution_count": null,
   "id": "eeb2361c",
   "metadata": {
    "ExecuteTime": {
     "end_time": "2022-10-23T15:16:03.820411Z",
     "start_time": "2022-10-23T15:16:03.806421Z"
    },
    "hidden": true
   },
   "outputs": [],
   "source": [
    "# only have these two years on one-drive\n",
    "# raw_p = [raw_2021, raw_2020]"
   ]
  },
  {
   "cell_type": "code",
   "execution_count": null,
   "id": "35061b1e",
   "metadata": {
    "ExecuteTime": {
     "end_time": "2022-10-23T15:16:03.836366Z",
     "start_time": "2022-10-23T15:16:03.821381Z"
    },
    "hidden": true
   },
   "outputs": [],
   "source": [
    "# df_2021_2020 = pd.concat(list_cleaned_p).reset_index(drop=True)"
   ]
  },
  {
   "cell_type": "code",
   "execution_count": null,
   "id": "423199bd",
   "metadata": {
    "ExecuteTime": {
     "end_time": "2022-10-23T15:16:03.852326Z",
     "start_time": "2022-10-23T15:16:03.837339Z"
    },
    "hidden": true
   },
   "outputs": [],
   "source": [
    "# df_2021_2020.head(2)"
   ]
  },
  {
   "cell_type": "code",
   "execution_count": null,
   "id": "5e0ffba1",
   "metadata": {
    "ExecuteTime": {
     "end_time": "2022-10-23T15:16:03.868256Z",
     "start_time": "2022-10-23T15:16:03.853296Z"
    },
    "hidden": true
   },
   "outputs": [],
   "source": [
    "# sns.pairplot(df_2021_2020)\n",
    "# plt.show()"
   ]
  },
  {
   "cell_type": "code",
   "execution_count": null,
   "id": "c7326814",
   "metadata": {
    "ExecuteTime": {
     "end_time": "2022-10-23T15:16:03.884241Z",
     "start_time": "2022-10-23T15:16:03.870251Z"
    },
    "hidden": true
   },
   "outputs": [],
   "source": [
    "# X = df_2021_2020.drop(columns=['WhiteIsComp', 'BlackIsComp', 'NoComp'])\n",
    "# y = df_2021_2020.loc[:,['WhiteIsComp', 'BlackIsComp', 'NoComp']]"
   ]
  },
  {
   "cell_type": "code",
   "execution_count": null,
   "id": "612cd65f",
   "metadata": {
    "ExecuteTime": {
     "end_time": "2022-10-23T15:16:03.900196Z",
     "start_time": "2022-10-23T15:16:03.885211Z"
    },
    "hidden": true,
    "scrolled": true
   },
   "outputs": [],
   "source": [
    "# X.head(2)"
   ]
  },
  {
   "cell_type": "code",
   "execution_count": null,
   "id": "ab0a4899",
   "metadata": {
    "ExecuteTime": {
     "end_time": "2022-10-23T15:16:03.915158Z",
     "start_time": "2022-10-23T15:16:03.901168Z"
    },
    "hidden": true
   },
   "outputs": [],
   "source": [
    "# # %%timeit\n",
    "# test_=X.copy()\n",
    "\n",
    "# # test_[['TimeControl_Base', 'TimeControl_Inc']]=[\n",
    "# #     (str.split(x, sep='+')[0], str.split(x, sep='+')[1]) for x in X.TimeControl.values] # 117 ms ± 1.82 ms per loop (mean ± std. dev. of 7 runs, 10 loops each)\n",
    "\n",
    "\n",
    "# # test_[['TimeControl_Base', 'TimeControl_Inc']]=[\n",
    "# #     (str.split(x, sep='+')) for x in X.TimeControl.values] # 110 ms ± 14.6 ms per loop (mean ± std. dev. of 7 runs, 10 loops each)\n",
    "\n",
    "\n",
    "# test_[['TimeControl_Base', 'TimeControl_Inc']]=[\n",
    "#     (int(str.split(x, sep='+')[0]), int(str.split(x, sep='+')[1])) for x in X.TimeControl.values]\n",
    "\n",
    "\n",
    "# test_"
   ]
  },
  {
   "cell_type": "markdown",
   "id": "8cfda3f7",
   "metadata": {
    "hidden": true
   },
   "source": [
    "-----"
   ]
  },
  {
   "cell_type": "markdown",
   "id": "ee4a40d7",
   "metadata": {
    "heading_collapsed": true,
    "hidden": true
   },
   "source": [
    "#### 2022 to 2018 inclusive"
   ]
  },
  {
   "cell_type": "code",
   "execution_count": null,
   "id": "3483494f",
   "metadata": {
    "ExecuteTime": {
     "end_time": "2022-10-24T14:49:02.618421Z",
     "start_time": "2022-10-24T14:48:54.919854Z"
    },
    "hidden": true
   },
   "outputs": [],
   "source": [
    "# # on vostro laptop\n",
    "# raw_p = [joblib.load(f'C:/Users/MaNiL/Desktop/data/capstone/raw/pickles/{year}_CvH.pkl') for \\\n",
    "#          year in np.arange(2022, 2017, -1)] # load the pickles from 2022 to 2018 inclusive"
   ]
  },
  {
   "cell_type": "code",
   "execution_count": null,
   "id": "7ed9cf43",
   "metadata": {
    "ExecuteTime": {
     "end_time": "2022-10-23T15:16:03.947073Z",
     "start_time": "2022-10-23T15:16:03.932085Z"
    },
    "hidden": true
   },
   "outputs": [],
   "source": [
    "# list_cleaned_p = hp.clean_pickles(raw_p)"
   ]
  },
  {
   "cell_type": "code",
   "execution_count": null,
   "id": "8a412bc7",
   "metadata": {
    "ExecuteTime": {
     "end_time": "2022-10-23T15:16:03.963030Z",
     "start_time": "2022-10-23T15:16:03.948043Z"
    },
    "hidden": true
   },
   "outputs": [],
   "source": [
    "# sum([df_.shape[0] for df_ in list_cleaned_p])"
   ]
  },
  {
   "cell_type": "code",
   "execution_count": null,
   "id": "1c07a819",
   "metadata": {
    "ExecuteTime": {
     "end_time": "2022-10-23T15:16:03.978990Z",
     "start_time": "2022-10-23T15:16:03.964000Z"
    },
    "hidden": true
   },
   "outputs": [],
   "source": [
    "# pd.concat(list_cleaned_p).shape"
   ]
  },
  {
   "cell_type": "code",
   "execution_count": null,
   "id": "ed575835",
   "metadata": {
    "ExecuteTime": {
     "end_time": "2022-10-23T15:16:03.993948Z",
     "start_time": "2022-10-23T15:16:03.979986Z"
    },
    "hidden": true
   },
   "outputs": [],
   "source": [
    "# sum([df_.shape[0] for df_ in list_cleaned_p])==pd.concat(list_cleaned_p).shape[0]"
   ]
  },
  {
   "cell_type": "code",
   "execution_count": null,
   "id": "6cc150ef",
   "metadata": {
    "ExecuteTime": {
     "end_time": "2022-10-24T14:50:56.112673Z",
     "start_time": "2022-10-24T14:50:56.104673Z"
    },
    "hidden": true
   },
   "outputs": [],
   "source": [
    "# raw_p[0].head(1)\n",
    "# raw_p[0].columns"
   ]
  },
  {
   "cell_type": "code",
   "execution_count": null,
   "id": "8836416f",
   "metadata": {
    "ExecuteTime": {
     "end_time": "2022-10-24T14:59:22.038535Z",
     "start_time": "2022-10-24T14:59:20.758728Z"
    },
    "hidden": true
   },
   "outputs": [],
   "source": [
    "# df_2022_2018_CvH_raw = hp.concatenate_cleaned_pickles(\n",
    "#     raw_p, list_of_cols=['Event', 'Site', 'Round', 'BlackClock',\n",
    "#                          'FICSGamesDBGameNo', 'Time', 'WhiteClock'])\n",
    "\n",
    "# # Shape pre-drop: (198779, 17)\n",
    "# # Dropping duplicates...\n",
    "# # Shape post-drop: (198539, 17)\n",
    "# #  Duplicates dropped: 240"
   ]
  },
  {
   "cell_type": "code",
   "execution_count": null,
   "id": "dfa0cd50",
   "metadata": {
    "ExecuteTime": {
     "end_time": "2022-10-24T14:56:26.094124Z",
     "start_time": "2022-10-24T14:56:26.080153Z"
    },
    "hidden": true
   },
   "outputs": [],
   "source": [
    "# df_2022_2018_CvH_raw_test = hp.concatenate_cleaned_pickles(\n",
    "#     raw_p, list_of_cols=['Event', 'Site', 'Round', 'BlackClock',\n",
    "#                          'Time', 'WhiteClock'])\n",
    "\n",
    "# # Shape pre-drop: (198779, 18)\n",
    "# # Dropping duplicates...\n",
    "# # Shape post-drop: (198779, 18)\n",
    "# #  Duplicates dropped: 0"
   ]
  },
  {
   "cell_type": "code",
   "execution_count": null,
   "id": "e4788670",
   "metadata": {
    "ExecuteTime": {
     "end_time": "2022-10-24T14:57:53.948354Z",
     "start_time": "2022-10-24T14:57:53.931655Z"
    },
    "hidden": true
   },
   "outputs": [],
   "source": [
    "# df_2022_2018_CvH_raw_test = hp.concatenate_cleaned_pickles(\n",
    "#     raw_p, list_of_cols=['FICSGamesDBGameNo'])\n",
    "\n",
    "# Shape pre-drop: (198779, 23)\n",
    "# Dropping duplicates...\n",
    "# Shape post-drop: (198768, 23)\n",
    "#  Duplicates dropped: 11"
   ]
  },
  {
   "cell_type": "markdown",
   "id": "532c8d1c",
   "metadata": {
    "hidden": true
   },
   "source": [
    "Depending on what columns you drop, there are a different number of duplicates found. This could be investigated further in future."
   ]
  },
  {
   "cell_type": "code",
   "execution_count": null,
   "id": "ab748cd6",
   "metadata": {
    "hidden": true
   },
   "outputs": [],
   "source": []
  },
  {
   "cell_type": "markdown",
   "id": "07871c57",
   "metadata": {
    "hidden": true
   },
   "source": [
    "The below reappears later on in the notebook but I put it here just to remind myself that for some analysis I do keep Event."
   ]
  },
  {
   "cell_type": "code",
   "execution_count": null,
   "id": "587faed7",
   "metadata": {
    "ExecuteTime": {
     "end_time": "2022-10-25T16:26:38.935998Z",
     "start_time": "2022-10-25T16:26:36.426966Z"
    },
    "hidden": true
   },
   "outputs": [],
   "source": [
    "# df_2022_2018_CvH_raw = hp.concatenate_cleaned_pickles(\n",
    "#     raw_p, list_of_cols=['Site', 'Round', 'BlackClock',\n",
    "#                          'FICSGamesDBGameNo', 'Time', 'WhiteClock'])\n",
    "\n",
    "# # All PlyCount values match the length of moves-list\n",
    "# # Shape pre-drop: (198779, 18)\n",
    "# # Dropping duplicates...\n",
    "# # Shape post-drop: (198539, 18)\n",
    "# #  Duplicates dropped: 240"
   ]
  },
  {
   "cell_type": "code",
   "execution_count": null,
   "id": "6f257c82",
   "metadata": {
    "ExecuteTime": {
     "end_time": "2022-10-25T16:32:36.898685Z",
     "start_time": "2022-10-25T16:29:35.393241Z"
    },
    "hidden": true
   },
   "outputs": [],
   "source": [
    "# joblib.dump(df_2022_2018_CvH_raw,\n",
    "#            'C:/Users/MaNiL/Desktop/data/capstone/preprocessed/2022_2018_CvH_distinv_withevent.pkl',\n",
    "#            compress=9)"
   ]
  },
  {
   "cell_type": "code",
   "execution_count": null,
   "id": "8bdd3676",
   "metadata": {
    "hidden": true
   },
   "outputs": [],
   "source": []
  },
  {
   "cell_type": "code",
   "execution_count": null,
   "id": "074c9b47",
   "metadata": {
    "hidden": true
   },
   "outputs": [],
   "source": []
  },
  {
   "cell_type": "markdown",
   "id": "aa52c8fe",
   "metadata": {
    "heading_collapsed": true,
    "hidden": true
   },
   "source": [
    "#### Other"
   ]
  },
  {
   "cell_type": "code",
   "execution_count": null,
   "id": "1af46a19",
   "metadata": {
    "ExecuteTime": {
     "end_time": "2022-10-23T15:16:04.008880Z",
     "start_time": "2022-10-23T15:16:03.994917Z"
    },
    "hidden": true
   },
   "outputs": [],
   "source": [
    "# df = pd.read_json(\"data/raw_data/json/ficsgamesdb_search_ignore_colour_test.json\")"
   ]
  },
  {
   "cell_type": "code",
   "execution_count": null,
   "id": "55cf5d51",
   "metadata": {
    "ExecuteTime": {
     "end_time": "2022-10-23T15:16:04.024866Z",
     "start_time": "2022-10-23T15:16:04.009877Z"
    },
    "hidden": true
   },
   "outputs": [],
   "source": [
    "# # should have 271 games, I think I said it would have 300\n",
    "\n",
    "# df_wrong_num_test = pd.read_json('C:/Users/MaNiL/Desktop/data/capstone/raw/json/First_tests/ignore_colour_wrong_number_fed.json')\n",
    "\n",
    "# print(df_wrong_num_test.shape)\n",
    "# hp.chess_checker_function(df_wrong_num_test)\n",
    "# df_wrong_num_test = hp.change_comp_columns(df)\n",
    "# print(df_wrong_num_test.columns)\n",
    "# hp.chess_nan_checker(df_wrong_num_test)"
   ]
  },
  {
   "cell_type": "code",
   "execution_count": null,
   "id": "85fff6a9",
   "metadata": {
    "ExecuteTime": {
     "end_time": "2022-10-23T15:16:04.040341Z",
     "start_time": "2022-10-23T15:16:04.025835Z"
    },
    "hidden": true
   },
   "outputs": [],
   "source": [
    "# df = pd.read_json(\"C:/Users/MaNiL/Desktop/data/capstone/raw/json/Standard_2021_all_ratings/ficsgamesdb_2021_standard_movetimes_264828.json\")\n",
    "\n",
    "# joblib.dump(df, './data/2021_all_ratings.pkl')"
   ]
  },
  {
   "cell_type": "code",
   "execution_count": null,
   "id": "bde3d0d8",
   "metadata": {
    "ExecuteTime": {
     "end_time": "2022-10-23T15:16:04.055273Z",
     "start_time": "2022-10-23T15:16:04.041310Z"
    },
    "hidden": true
   },
   "outputs": [],
   "source": [
    "# df = joblib.load('./data/2021_CvH.pkl')\n",
    "\n",
    "# # df = joblib.load('C:/Users/Emanuel/OneDrive/My Documents/')\n",
    "\n",
    "# # df = joblib.load('C:/Users/MaNiL/Desktop/data/capstone/preprocessed/2021_CvH.pkl')"
   ]
  },
  {
   "cell_type": "code",
   "execution_count": null,
   "id": "504ece3b",
   "metadata": {
    "ExecuteTime": {
     "end_time": "2022-10-23T15:16:04.071230Z",
     "start_time": "2022-10-23T15:16:04.056270Z"
    },
    "hidden": true
   },
   "outputs": [],
   "source": [
    "# hp.chess_checker_function(df)"
   ]
  },
  {
   "cell_type": "code",
   "execution_count": null,
   "id": "fbd271b0",
   "metadata": {
    "ExecuteTime": {
     "end_time": "2022-10-23T15:16:04.087188Z",
     "start_time": "2022-10-23T15:16:04.072228Z"
    },
    "hidden": true,
    "scrolled": true
   },
   "outputs": [],
   "source": [
    "# df.info()"
   ]
  },
  {
   "cell_type": "code",
   "execution_count": null,
   "id": "5b4576d6",
   "metadata": {
    "ExecuteTime": {
     "end_time": "2022-10-23T15:16:04.103145Z",
     "start_time": "2022-10-23T15:16:04.088185Z"
    },
    "hidden": true,
    "scrolled": true
   },
   "outputs": [],
   "source": [
    "# nocomp_df = hp.change_comp_columns(df)\n",
    "# print(nocomp_df.columns)"
   ]
  },
  {
   "cell_type": "markdown",
   "id": "c5c5c9c5",
   "metadata": {
    "hidden": true
   },
   "source": [
    "['Event', 'Site', 'Date', 'Round', 'White', 'Black', 'Result',\n",
    "       'BlackClock', 'BlackElo', 'BlackIsComp', 'BlackRD', 'ECO',\n",
    "       'FICSGamesDBGameNo', 'PlyCount', 'Time', 'TimeControl', 'WhiteClock',\n",
    "       'WhiteElo', 'WhiteRD', 'emt', 'moves', 'WhiteIsComp', 'NoComp']"
   ]
  },
  {
   "cell_type": "code",
   "execution_count": null,
   "id": "8e956fb9",
   "metadata": {
    "ExecuteTime": {
     "end_time": "2022-10-23T15:16:04.119102Z",
     "start_time": "2022-10-23T15:16:04.104143Z"
    },
    "hidden": true
   },
   "outputs": [],
   "source": [
    "# nocomp_df.head(1)"
   ]
  },
  {
   "cell_type": "code",
   "execution_count": null,
   "id": "8120559f",
   "metadata": {
    "ExecuteTime": {
     "end_time": "2022-10-23T15:16:04.135060Z",
     "start_time": "2022-10-23T15:16:04.120100Z"
    },
    "hidden": true
   },
   "outputs": [],
   "source": [
    "# hp.chess_nan_checker(nocomp_df)"
   ]
  },
  {
   "cell_type": "markdown",
   "id": "0b7e899b",
   "metadata": {
    "hidden": true
   },
   "source": [
    "-----"
   ]
  },
  {
   "cell_type": "markdown",
   "id": "fc835592",
   "metadata": {
    "heading_collapsed": true,
    "hidden": true
   },
   "source": [
    "### Some Cleaning & Inv"
   ]
  },
  {
   "cell_type": "markdown",
   "id": "2f1e57ad",
   "metadata": {
    "heading_collapsed": true,
    "hidden": true
   },
   "source": [
    "#### Separating Standard Games (not imposed in cleaning yet)"
   ]
  },
  {
   "cell_type": "code",
   "execution_count": null,
   "id": "c71b664d",
   "metadata": {
    "ExecuteTime": {
     "end_time": "2022-10-23T15:16:04.151018Z",
     "start_time": "2022-10-23T15:16:04.136057Z"
    },
    "hidden": true
   },
   "outputs": [],
   "source": [
    "# Unique events\n",
    "\n",
    "# nocomp_df[['Event']].head()\n",
    "\n",
    "# nocomp_df['Event'].unique()"
   ]
  },
  {
   "cell_type": "code",
   "execution_count": null,
   "id": "53911d3e",
   "metadata": {
    "ExecuteTime": {
     "end_time": "2022-10-23T15:16:04.166975Z",
     "start_time": "2022-10-23T15:16:04.152015Z"
    },
    "hidden": true
   },
   "outputs": [],
   "source": [
    "# nocomp_df = joblib.load('C:/Users/Emanuel/Desktop/data/capstone/raw/2021_CvH.pkl')\n",
    "# nocomp_df = hp.change_comp_columns(nocomp_df)"
   ]
  },
  {
   "cell_type": "code",
   "execution_count": null,
   "id": "d240f712",
   "metadata": {
    "ExecuteTime": {
     "end_time": "2022-10-23T15:16:04.182932Z",
     "start_time": "2022-10-23T15:16:04.167972Z"
    },
    "hidden": true,
    "scrolled": true
   },
   "outputs": [],
   "source": [
    "# nocomp_df.head(3)"
   ]
  },
  {
   "cell_type": "code",
   "execution_count": null,
   "id": "09d52888",
   "metadata": {
    "ExecuteTime": {
     "end_time": "2022-10-23T15:16:04.198918Z",
     "start_time": "2022-10-23T15:16:04.183929Z"
    },
    "hidden": true
   },
   "outputs": [],
   "source": [
    "# nocomp_df[['Event']].groupby(['Event']).value_counts().sort_values()"
   ]
  },
  {
   "cell_type": "code",
   "execution_count": null,
   "id": "ec790cd1",
   "metadata": {
    "ExecuteTime": {
     "end_time": "2022-10-23T15:16:04.214847Z",
     "start_time": "2022-10-23T15:16:04.199886Z"
    },
    "hidden": true,
    "scrolled": true
   },
   "outputs": [],
   "source": [
    "# test_ = nocomp_df[['Event', 'TimeControl', 'Time', 'Result', 'White', 'WhiteIsComp', 'Black', 'BlackIsComp', 'NoComp']]\n",
    "# test_.head()"
   ]
  },
  {
   "cell_type": "code",
   "execution_count": null,
   "id": "de98ebae",
   "metadata": {
    "ExecuteTime": {
     "end_time": "2022-10-23T15:16:04.230414Z",
     "start_time": "2022-10-23T15:16:04.215844Z"
    },
    "hidden": true
   },
   "outputs": [],
   "source": [
    "# 900/60"
   ]
  },
  {
   "cell_type": "code",
   "execution_count": null,
   "id": "dbc9b33f",
   "metadata": {
    "ExecuteTime": {
     "end_time": "2022-10-23T15:16:04.246371Z",
     "start_time": "2022-10-23T15:16:04.231384Z"
    },
    "hidden": true
   },
   "outputs": [],
   "source": [
    "# event_control = test_.groupby(['Event', 'TimeControl']).count().reset_index().loc[:, ['Event', 'TimeControl']]\n",
    "# event_control"
   ]
  },
  {
   "cell_type": "code",
   "execution_count": null,
   "id": "41653e93",
   "metadata": {
    "ExecuteTime": {
     "end_time": "2022-10-23T15:16:04.262329Z",
     "start_time": "2022-10-23T15:16:04.247341Z"
    },
    "hidden": true
   },
   "outputs": [],
   "source": [
    "# # event_control[ ['standard game' in event_control['Event'].values] ] # doesn't work\n",
    "\n",
    "# # ['standard game' in x for x in event_control['Event'].values]\n",
    "\n",
    "# standard_games = event_control[['standard game' in x for x in event_control['Event'].values]]\n",
    "# display(standard_games.head())\n",
    "# display(standard_games.TimeControl.unique())\n",
    "# standard_games_times = standard_games.TimeControl.unique()"
   ]
  },
  {
   "cell_type": "code",
   "execution_count": null,
   "id": "78ba0c10",
   "metadata": {
    "ExecuteTime": {
     "end_time": "2022-10-23T15:16:04.278286Z",
     "start_time": "2022-10-23T15:16:04.263298Z"
    },
    "hidden": true
   },
   "outputs": [],
   "source": [
    "# blitz_games = event_control[['blitz game' in x for x in event_control['Event'].values]]\n",
    "# display(blitz_games.head())\n",
    "# display(blitz_games.TimeControl.unique())\n",
    "# blitz_games_times = blitz_games.TimeControl.unique()"
   ]
  },
  {
   "cell_type": "code",
   "execution_count": null,
   "id": "575a8ab3",
   "metadata": {
    "ExecuteTime": {
     "end_time": "2022-10-23T15:16:04.294244Z",
     "start_time": "2022-10-23T15:16:04.279257Z"
    },
    "hidden": true
   },
   "outputs": [],
   "source": [
    "# any([b_time in standard_games_times for b_time in blitz_games_times]) # False\n",
    "\n",
    "# # '900+1' in standard_games_times # True"
   ]
  },
  {
   "cell_type": "code",
   "execution_count": null,
   "id": "45007964",
   "metadata": {
    "ExecuteTime": {
     "end_time": "2022-10-23T15:16:04.310201Z",
     "start_time": "2022-10-23T15:16:04.295213Z"
    },
    "hidden": true
   },
   "outputs": [],
   "source": [
    "# standard_game_times_sort = standard_games_times.copy()\n",
    "# standard_game_times_sort=[str.split(x, sep='+') for x in standard_game_times_sort]\n",
    "# standard_game_times_sort = pd.DataFrame([[int(row[0]), int(row[1])] for \\\n",
    "#                                          row in standard_game_times_sort]).sort_values(\n",
    "#     by=0,\n",
    "#     axis=0,\n",
    "#     ascending=False).reset_index(drop=True).rename(columns={1: 'inc'})\n",
    "# standard_game_times_sort.head()"
   ]
  },
  {
   "cell_type": "code",
   "execution_count": null,
   "id": "df708a01",
   "metadata": {
    "ExecuteTime": {
     "end_time": "2022-10-23T15:16:04.326130Z",
     "start_time": "2022-10-23T15:16:04.311170Z"
    },
    "hidden": true,
    "scrolled": true
   },
   "outputs": [],
   "source": [
    "# standard_game_times_sort"
   ]
  },
  {
   "cell_type": "code",
   "execution_count": null,
   "id": "0bdf6ffd",
   "metadata": {
    "ExecuteTime": {
     "end_time": "2022-10-23T15:16:04.341624Z",
     "start_time": "2022-10-23T15:16:04.327127Z"
    },
    "hidden": true
   },
   "outputs": [],
   "source": [
    "# blitz_games_times_sort = blitz_games_times.copy()\n",
    "# blitz_games_times_sort=[str.split(x, sep='+') for x in blitz_games_times_sort]\n",
    "# blitz_games_times_sort = pd.DataFrame([[int(row[0]), int(row[1])] for \\\n",
    "#                                          row in blitz_games_times_sort]).sort_values(\n",
    "#     by=0,\n",
    "#     axis=0,\n",
    "#     ascending=False).reset_index(drop=True).rename(columns={1: 'inc'})\n",
    "# blitz_games_times_sort.head()"
   ]
  },
  {
   "cell_type": "code",
   "execution_count": null,
   "id": "c2871889",
   "metadata": {
    "ExecuteTime": {
     "end_time": "2022-10-23T15:16:04.357583Z",
     "start_time": "2022-10-23T15:16:04.342594Z"
    },
    "hidden": true
   },
   "outputs": [],
   "source": [
    "# s_b_merged = pd.merge(standard_game_times_sort, blitz_games_times_sort, how='outer', on=0, suffixes=('_s', '_b'))"
   ]
  },
  {
   "cell_type": "code",
   "execution_count": null,
   "id": "c039c160",
   "metadata": {
    "ExecuteTime": {
     "end_time": "2022-10-23T15:16:04.373539Z",
     "start_time": "2022-10-23T15:16:04.358550Z"
    },
    "hidden": true
   },
   "outputs": [],
   "source": [
    "# s_b_merged"
   ]
  },
  {
   "cell_type": "code",
   "execution_count": null,
   "id": "9231e940",
   "metadata": {
    "ExecuteTime": {
     "end_time": "2022-10-23T15:16:04.389469Z",
     "start_time": "2022-10-23T15:16:04.374508Z"
    },
    "hidden": true,
    "scrolled": true
   },
   "outputs": [],
   "source": [
    "# for row in s_b_merged.values:\n",
    "#     print(row)"
   ]
  },
  {
   "cell_type": "code",
   "execution_count": null,
   "id": "2faae9d6",
   "metadata": {
    "ExecuteTime": {
     "end_time": "2022-10-23T15:16:04.405457Z",
     "start_time": "2022-10-23T15:16:04.390465Z"
    },
    "hidden": true
   },
   "outputs": [],
   "source": [
    "# np.c_[standard_games_times, blitz_games_times]\n"
   ]
  },
  {
   "cell_type": "code",
   "execution_count": null,
   "id": "92dbde28",
   "metadata": {
    "ExecuteTime": {
     "end_time": "2022-10-23T15:16:04.420414Z",
     "start_time": "2022-10-23T15:16:04.406423Z"
    },
    "hidden": true
   },
   "outputs": [],
   "source": [
    "# nocomp_df['TimeControl'].values"
   ]
  },
  {
   "cell_type": "code",
   "execution_count": null,
   "id": "1a5a21ff",
   "metadata": {
    "ExecuteTime": {
     "end_time": "2022-10-23T15:16:04.435375Z",
     "start_time": "2022-10-23T15:16:04.421383Z"
    },
    "hidden": true
   },
   "outputs": [],
   "source": [
    "# nocomp_df[['3600' in x for x in nocomp_df['TimeControl'].values]].shape # (250, 23)"
   ]
  },
  {
   "cell_type": "code",
   "execution_count": null,
   "id": "1218f2c5",
   "metadata": {
    "ExecuteTime": {
     "end_time": "2022-10-23T15:16:04.451330Z",
     "start_time": "2022-10-23T15:16:04.436343Z"
    },
    "hidden": true
   },
   "outputs": [],
   "source": [
    "# only 250 games in 2021_CvH were started as 60+ minutes; it is possible that games went on for longer than 60 \n",
    "# minutes"
   ]
  },
  {
   "cell_type": "code",
   "execution_count": null,
   "id": "0bc23bba",
   "metadata": {
    "hidden": true
   },
   "outputs": [],
   "source": []
  },
  {
   "cell_type": "markdown",
   "id": "cf783c56",
   "metadata": {
    "hidden": true
   },
   "source": [
    "-----"
   ]
  },
  {
   "cell_type": "markdown",
   "id": "fe339160",
   "metadata": {
    "heading_collapsed": true,
    "hidden": true
   },
   "source": [
    "#### Unique players investigation"
   ]
  },
  {
   "cell_type": "code",
   "execution_count": null,
   "id": "8f52607a",
   "metadata": {
    "hidden": true
   },
   "outputs": [],
   "source": []
  },
  {
   "cell_type": "code",
   "execution_count": null,
   "id": "feec036a",
   "metadata": {
    "hidden": true
   },
   "outputs": [],
   "source": []
  },
  {
   "cell_type": "code",
   "execution_count": null,
   "id": "b0a3c039",
   "metadata": {
    "hidden": true
   },
   "outputs": [],
   "source": []
  },
  {
   "cell_type": "code",
   "execution_count": null,
   "id": "def6088d",
   "metadata": {
    "hidden": true
   },
   "outputs": [],
   "source": []
  },
  {
   "cell_type": "code",
   "execution_count": null,
   "id": "31fb5592",
   "metadata": {
    "hidden": true
   },
   "outputs": [],
   "source": []
  },
  {
   "cell_type": "code",
   "execution_count": null,
   "id": "5af72d84",
   "metadata": {
    "hidden": true
   },
   "outputs": [],
   "source": []
  },
  {
   "cell_type": "code",
   "execution_count": null,
   "id": "c9652114",
   "metadata": {
    "hidden": true
   },
   "outputs": [],
   "source": []
  },
  {
   "cell_type": "markdown",
   "id": "9f304cb3",
   "metadata": {
    "hidden": true
   },
   "source": [
    "----"
   ]
  },
  {
   "cell_type": "markdown",
   "id": "6bfa7ee3",
   "metadata": {
    "heading_collapsed": true,
    "hidden": true
   },
   "source": [
    "#### Get rid of draws "
   ]
  },
  {
   "cell_type": "code",
   "execution_count": null,
   "id": "555f87d4",
   "metadata": {
    "ExecuteTime": {
     "end_time": "2022-10-23T15:16:04.467290Z",
     "start_time": "2022-10-23T15:16:04.452300Z"
    },
    "hidden": true
   },
   "outputs": [],
   "source": [
    "# nocomp_df['Result'].unique()"
   ]
  },
  {
   "cell_type": "code",
   "execution_count": null,
   "id": "6ff121f9",
   "metadata": {
    "ExecuteTime": {
     "end_time": "2022-10-23T15:16:04.483217Z",
     "start_time": "2022-10-23T15:16:04.468257Z"
    },
    "hidden": true
   },
   "outputs": [],
   "source": [
    "# nocomp_df[['WhiteIsComp', 'BlackIsComp','Result']]"
   ]
  },
  {
   "cell_type": "code",
   "execution_count": null,
   "id": "7af1307b",
   "metadata": {
    "ExecuteTime": {
     "end_time": "2022-10-23T15:16:04.514162Z",
     "start_time": "2022-10-23T15:16:04.497180Z"
    },
    "hidden": true
   },
   "outputs": [],
   "source": [
    "# nocomp_df['Result']=='1-0'"
   ]
  },
  {
   "cell_type": "code",
   "execution_count": null,
   "id": "c6de8b39",
   "metadata": {
    "ExecuteTime": {
     "end_time": "2022-10-23T15:16:04.530126Z",
     "start_time": "2022-10-23T15:16:04.515132Z"
    },
    "hidden": true
   },
   "outputs": [],
   "source": [
    "# ## filters\n",
    "\n",
    "# # Computer wins as white \n",
    "# comp_w_w = ((nocomp_df['Result']=='1-0')&(nocomp_df['WhiteIsComp']==1))\n",
    "# # Computer wins as black\n",
    "# comp_b_w = ((nocomp_df['Result']=='0-1')&(nocomp_df['BlackIsComp']==1))\n",
    "# # Draw\n",
    "# no_draw = (nocomp_df['Result']!='1/2-1/2')"
   ]
  },
  {
   "cell_type": "code",
   "execution_count": null,
   "id": "4e1d2da0",
   "metadata": {
    "ExecuteTime": {
     "end_time": "2022-10-23T15:16:04.546077Z",
     "start_time": "2022-10-23T15:16:04.531089Z"
    },
    "hidden": true
   },
   "outputs": [],
   "source": [
    "# right_result_df = nocomp_df[comp_w_w |\n",
    "#                             comp_b_w]"
   ]
  },
  {
   "cell_type": "code",
   "execution_count": null,
   "id": "eb15bff4",
   "metadata": {
    "ExecuteTime": {
     "end_time": "2022-10-23T15:16:04.562006Z",
     "start_time": "2022-10-23T15:16:04.547047Z"
    },
    "hidden": true
   },
   "outputs": [],
   "source": [
    "# right_result_df.shape # (28013, 23)"
   ]
  },
  {
   "cell_type": "code",
   "execution_count": null,
   "id": "3bcc6b30",
   "metadata": {
    "ExecuteTime": {
     "end_time": "2022-10-23T15:16:04.577991Z",
     "start_time": "2022-10-23T15:16:04.563004Z"
    },
    "hidden": true
   },
   "outputs": [],
   "source": [
    "# any(right_result_df['Result']=='1/2-1/2') # no draws"
   ]
  },
  {
   "cell_type": "code",
   "execution_count": null,
   "id": "fb0eda9e",
   "metadata": {
    "ExecuteTime": {
     "end_time": "2022-10-23T15:16:04.592951Z",
     "start_time": "2022-10-23T15:16:04.578961Z"
    },
    "hidden": true
   },
   "outputs": [],
   "source": [
    "# no_draws_df.shape"
   ]
  },
  {
   "cell_type": "markdown",
   "id": "802a364c",
   "metadata": {
    "hidden": true
   },
   "source": [
    "-----"
   ]
  },
  {
   "cell_type": "markdown",
   "id": "33b448b6",
   "metadata": {
    "heading_collapsed": true,
    "hidden": true
   },
   "source": [
    "#### Get rid of lightning games"
   ]
  },
  {
   "cell_type": "code",
   "execution_count": null,
   "id": "b077424b",
   "metadata": {
    "ExecuteTime": {
     "end_time": "2022-10-23T15:16:06.933254Z",
     "start_time": "2022-10-23T15:16:04.593921Z"
    },
    "hidden": true
   },
   "outputs": [],
   "source": [
    "df_2018 = joblib.load('./data/raw/2018_CvH.pkl')"
   ]
  },
  {
   "cell_type": "code",
   "execution_count": null,
   "id": "35fc59e7",
   "metadata": {
    "ExecuteTime": {
     "end_time": "2022-10-23T15:16:06.949184Z",
     "start_time": "2022-10-23T15:16:06.934225Z"
    },
    "hidden": true
   },
   "outputs": [],
   "source": [
    "df_2018.shape"
   ]
  },
  {
   "cell_type": "code",
   "execution_count": null,
   "id": "f76cb9f9",
   "metadata": {
    "ExecuteTime": {
     "end_time": "2022-10-23T15:16:06.980130Z",
     "start_time": "2022-10-23T15:16:06.950182Z"
    },
    "hidden": true
   },
   "outputs": [],
   "source": [
    "df_2018.tail()"
   ]
  },
  {
   "cell_type": "code",
   "execution_count": null,
   "id": "f47f5927",
   "metadata": {
    "ExecuteTime": {
     "end_time": "2022-10-23T15:16:06.996091Z",
     "start_time": "2022-10-23T15:16:06.981099Z"
    },
    "hidden": true
   },
   "outputs": [],
   "source": [
    "df_2018['Event'].unique()"
   ]
  },
  {
   "cell_type": "code",
   "execution_count": null,
   "id": "b0071b25",
   "metadata": {
    "ExecuteTime": {
     "end_time": "2022-10-23T15:16:07.012045Z",
     "start_time": "2022-10-23T15:16:06.997056Z"
    },
    "hidden": true
   },
   "outputs": [],
   "source": [
    "df_2018['Event'].values"
   ]
  },
  {
   "cell_type": "code",
   "execution_count": null,
   "id": "532c4198",
   "metadata": {
    "ExecuteTime": {
     "end_time": "2022-10-23T15:16:07.027004Z",
     "start_time": "2022-10-23T15:16:07.013014Z"
    },
    "hidden": true
   },
   "outputs": [],
   "source": [
    "'lightning game' in df_2018['Event'].values"
   ]
  },
  {
   "cell_type": "code",
   "execution_count": null,
   "id": "9bfdfcac",
   "metadata": {
    "ExecuteTime": {
     "end_time": "2022-10-23T15:16:07.042958Z",
     "start_time": "2022-10-23T15:16:07.027974Z"
    },
    "hidden": true
   },
   "outputs": [],
   "source": [
    "'lightning game' in df_2018[['Event']]"
   ]
  },
  {
   "cell_type": "code",
   "execution_count": null,
   "id": "17e87cf7",
   "metadata": {
    "ExecuteTime": {
     "end_time": "2022-10-23T15:16:07.058891Z",
     "start_time": "2022-10-23T15:16:07.043931Z"
    },
    "hidden": true
   },
   "outputs": [],
   "source": [
    "['lightning game' in df_2018['Event'].values]"
   ]
  },
  {
   "cell_type": "code",
   "execution_count": null,
   "id": "69055ec8",
   "metadata": {
    "ExecuteTime": {
     "end_time": "2022-10-23T15:31:03.853991Z",
     "start_time": "2022-10-23T15:31:03.839031Z"
    },
    "hidden": true
   },
   "outputs": [],
   "source": [
    "[row for row in df_2018['Event'] if 'lightning game' in row];"
   ]
  },
  {
   "cell_type": "code",
   "execution_count": null,
   "id": "03113a37",
   "metadata": {
    "ExecuteTime": {
     "end_time": "2022-10-23T15:16:07.122755Z",
     "start_time": "2022-10-23T15:16:07.091803Z"
    },
    "hidden": true
   },
   "outputs": [],
   "source": [
    "# %%timeit # Muninn: 1.85 ms ± 19.9 µs per loop (mean ± std. dev. of 7 runs, 1,000 loops each)\n",
    "\n",
    "df_2018_lightning = df_2018[['lightning game' in row for row in df_2018.Event]] # (20,22)"
   ]
  },
  {
   "cell_type": "code",
   "execution_count": null,
   "id": "d64d6692",
   "metadata": {
    "ExecuteTime": {
     "end_time": "2022-10-23T15:16:07.138678Z",
     "start_time": "2022-10-23T15:16:07.123718Z"
    },
    "hidden": true
   },
   "outputs": [],
   "source": [
    "# # %%timeit # Muninn: 2.1 ms ± 29.9 µs per loop (mean ± std. dev. of 7 runs, 100 loops each)\n",
    "\n",
    "# # lightning_check = df_2018.apply(lambda x: x if 'lightning game' in x[['Event']] else np.NaN, axis=1)\n",
    "# lightning_check = df_2018['Event'].apply(lambda x: True if 'lightning game' in x else False)\n",
    "# df_2018[lightning_check] # (20, 22)"
   ]
  },
  {
   "cell_type": "code",
   "execution_count": null,
   "id": "b8bc6830",
   "metadata": {
    "ExecuteTime": {
     "end_time": "2022-10-23T15:16:07.154639Z",
     "start_time": "2022-10-23T15:16:07.139675Z"
    },
    "hidden": true
   },
   "outputs": [],
   "source": [
    "df_2018_lightning['TimeControl'];"
   ]
  },
  {
   "cell_type": "code",
   "execution_count": null,
   "id": "e29cfb66",
   "metadata": {
    "hidden": true
   },
   "outputs": [],
   "source": []
  },
  {
   "cell_type": "code",
   "execution_count": null,
   "id": "95eecc4e",
   "metadata": {
    "hidden": true
   },
   "outputs": [],
   "source": []
  },
  {
   "cell_type": "code",
   "execution_count": null,
   "id": "03c3fafb",
   "metadata": {
    "hidden": true
   },
   "outputs": [],
   "source": []
  },
  {
   "cell_type": "code",
   "execution_count": null,
   "id": "d3a0314c",
   "metadata": {
    "hidden": true
   },
   "outputs": [],
   "source": []
  },
  {
   "cell_type": "code",
   "execution_count": null,
   "id": "8e11e6de",
   "metadata": {
    "hidden": true
   },
   "outputs": [],
   "source": []
  },
  {
   "cell_type": "code",
   "execution_count": null,
   "id": "31190758",
   "metadata": {
    "hidden": true
   },
   "outputs": [],
   "source": []
  },
  {
   "cell_type": "markdown",
   "id": "a6626f48",
   "metadata": {
    "hidden": true
   },
   "source": [
    "----"
   ]
  },
  {
   "cell_type": "markdown",
   "id": "b7235712",
   "metadata": {
    "heading_collapsed": true,
    "hidden": true
   },
   "source": [
    "#### Get rid of redundant columns"
   ]
  },
  {
   "cell_type": "code",
   "execution_count": null,
   "id": "be6f5a22",
   "metadata": {
    "ExecuteTime": {
     "end_time": "2022-10-23T15:16:07.170620Z",
     "start_time": "2022-10-23T15:16:07.155632Z"
    },
    "hidden": true
   },
   "outputs": [],
   "source": [
    "# right_result_df.columns"
   ]
  },
  {
   "cell_type": "code",
   "execution_count": null,
   "id": "9434428b",
   "metadata": {
    "ExecuteTime": {
     "end_time": "2022-10-23T15:16:07.186578Z",
     "start_time": "2022-10-23T15:16:07.171590Z"
    },
    "hidden": true
   },
   "outputs": [],
   "source": [
    "# all(right_result_df['WhiteClock']==right_result_df['BlackClock'])"
   ]
  },
  {
   "cell_type": "code",
   "execution_count": null,
   "id": "7d618a98",
   "metadata": {
    "ExecuteTime": {
     "end_time": "2022-10-23T15:16:07.202535Z",
     "start_time": "2022-10-23T15:16:07.187547Z"
    },
    "hidden": true
   },
   "outputs": [],
   "source": [
    "# df_clean = right_result_df.drop(columns=[\n",
    "#     'Event', 'Site', 'Date', 'Round', 'White', 'Black', 'BlackClock', 'FICSGamesDBGameNo', 'Time', 'WhiteClock',\n",
    "#     'Result'\n",
    "# ])"
   ]
  },
  {
   "cell_type": "code",
   "execution_count": null,
   "id": "81c2ec03",
   "metadata": {
    "ExecuteTime": {
     "end_time": "2022-10-23T15:16:07.218492Z",
     "start_time": "2022-10-23T15:16:07.203505Z"
    },
    "hidden": true
   },
   "outputs": [],
   "source": [
    "# df_clean"
   ]
  },
  {
   "cell_type": "code",
   "execution_count": null,
   "id": "525035a1",
   "metadata": {
    "hidden": true
   },
   "outputs": [],
   "source": []
  },
  {
   "cell_type": "markdown",
   "id": "f08dec87",
   "metadata": {
    "hidden": true
   },
   "source": [
    "------"
   ]
  },
  {
   "cell_type": "markdown",
   "id": "d30918e4",
   "metadata": {
    "heading_collapsed": true,
    "hidden": true
   },
   "source": [
    "#### Function to 'clean' any pickle"
   ]
  },
  {
   "cell_type": "markdown",
   "id": "dc6a1f22",
   "metadata": {
    "hidden": true
   },
   "source": [
    "For now, some columns (and row values) remain for initial modelling."
   ]
  },
  {
   "cell_type": "code",
   "execution_count": null,
   "id": "7f6547f9",
   "metadata": {
    "ExecuteTime": {
     "end_time": "2022-10-23T15:16:07.234449Z",
     "start_time": "2022-10-23T15:16:07.220459Z"
    },
    "hidden": true
   },
   "outputs": [],
   "source": [
    "# def clean_pickle(pickle_df):\n",
    "#     hp.chess_checker_function(pickle_df)\n",
    "#     temp_ = hp.change_comp_columns(pickle_df)\n",
    "#     hp.chess_nan_checker(temp_)\n",
    "#     # Computer wins as white \n",
    "#     comp_w_w = ((temp_['Result']=='1-0')&(temp_['WhiteIsComp']==1))\n",
    "#     # Computer wins as black\n",
    "#     comp_b_w = ((temp_['Result']=='0-1')&(temp_['BlackIsComp']==1))\n",
    "#     temp_ = temp_[\n",
    "#         ((temp_['Result']=='1-0')&(temp_['WhiteIsComp']==1))|\n",
    "#         ((temp_['Result']=='0-1')&(temp_['BlackIsComp']==1))]\n",
    "    \n",
    "    \n",
    "#     col_to_drop = [\n",
    "#         'Event', 'Site', 'Date', 'Round', 'White', 'Black', 'BlackClock', 'FICSGamesDBGameNo', 'Time', 'WhiteClock',\n",
    "#         'Result'\n",
    "#         ]\n",
    "    \n",
    "#     temp_ = temp_.drop(columns=col_to_drop)\n",
    "#     print(f'Dropped columns: {col_to_drop}')\n",
    "#     return temp_"
   ]
  },
  {
   "cell_type": "code",
   "execution_count": null,
   "id": "162a6cd5",
   "metadata": {
    "ExecuteTime": {
     "end_time": "2022-10-23T15:16:07.250407Z",
     "start_time": "2022-10-23T15:16:07.235419Z"
    },
    "hidden": true
   },
   "outputs": [],
   "source": [
    "# def clean_pickles(list_of_pickle_df):\n",
    "#     list_of_cleaned_pickle_df = []\n",
    "#     for pickle_df in list_of_pickle_df:\n",
    "#         list_of_cleaned_pickle_df.append(clean_pickle(pickle_df))\n",
    "        \n",
    "#     return list_of_cleaned_pickle_df"
   ]
  },
  {
   "cell_type": "code",
   "execution_count": null,
   "id": "dab7488b",
   "metadata": {
    "ExecuteTime": {
     "end_time": "2022-10-23T15:16:07.266336Z",
     "start_time": "2022-10-23T15:16:07.251377Z"
    },
    "hidden": true
   },
   "outputs": [],
   "source": [
    "# raw_2021 = joblib.load('./data/2021_CvH.pkl')"
   ]
  },
  {
   "cell_type": "code",
   "execution_count": null,
   "id": "be3f025b",
   "metadata": {
    "ExecuteTime": {
     "end_time": "2022-10-23T15:16:07.282293Z",
     "start_time": "2022-10-23T15:16:07.267334Z"
    },
    "hidden": true
   },
   "outputs": [],
   "source": [
    "# raw_2020 = joblib.load('./data/2020_CvH.pkl')"
   ]
  },
  {
   "cell_type": "code",
   "execution_count": null,
   "id": "f6658df3",
   "metadata": {
    "ExecuteTime": {
     "end_time": "2022-10-23T15:16:07.297254Z",
     "start_time": "2022-10-23T15:16:07.283291Z"
    },
    "hidden": true
   },
   "outputs": [],
   "source": [
    "# cleaned_2021 = clean_pickle(raw_2021)"
   ]
  },
  {
   "cell_type": "code",
   "execution_count": null,
   "id": "9b904923",
   "metadata": {
    "ExecuteTime": {
     "end_time": "2022-10-23T15:16:07.313211Z",
     "start_time": "2022-10-23T15:16:07.298251Z"
    },
    "hidden": true
   },
   "outputs": [],
   "source": [
    "# raw_p = [raw_2021, raw_2020]"
   ]
  },
  {
   "cell_type": "code",
   "execution_count": null,
   "id": "afd45aee",
   "metadata": {
    "ExecuteTime": {
     "end_time": "2022-10-23T15:16:07.329169Z",
     "start_time": "2022-10-23T15:16:07.314208Z"
    },
    "hidden": true
   },
   "outputs": [],
   "source": [
    "# list_cleaned_p = clean_pickles(raw_p)"
   ]
  },
  {
   "cell_type": "code",
   "execution_count": null,
   "id": "a137f9ea",
   "metadata": {
    "ExecuteTime": {
     "end_time": "2022-10-23T15:16:07.345126Z",
     "start_time": "2022-10-23T15:16:07.330166Z"
    },
    "hidden": true
   },
   "outputs": [],
   "source": [
    "# type(list_cleaned_p)"
   ]
  },
  {
   "cell_type": "code",
   "execution_count": null,
   "id": "82ccc920",
   "metadata": {
    "ExecuteTime": {
     "end_time": "2022-10-23T15:16:07.361110Z",
     "start_time": "2022-10-23T15:16:07.346123Z"
    },
    "hidden": true
   },
   "outputs": [],
   "source": [
    "# display(list_cleaned_p[0].head(2))\n",
    "# display(list_cleaned_p[0].shape)"
   ]
  },
  {
   "cell_type": "code",
   "execution_count": null,
   "id": "42924168",
   "metadata": {
    "ExecuteTime": {
     "end_time": "2022-10-23T15:16:07.377068Z",
     "start_time": "2022-10-23T15:16:07.362080Z"
    },
    "hidden": true
   },
   "outputs": [],
   "source": [
    "# display(list_cleaned_p[1].head(2))\n",
    "# display(list_cleaned_p[1].shape)"
   ]
  },
  {
   "cell_type": "code",
   "execution_count": null,
   "id": "f5e05afb",
   "metadata": {
    "ExecuteTime": {
     "end_time": "2022-10-23T15:16:07.393030Z",
     "start_time": "2022-10-23T15:16:07.378038Z"
    },
    "hidden": true
   },
   "outputs": [],
   "source": [
    "# list_cleaned_p[0].shape[0]+list_cleaned_p[1].shape[0]"
   ]
  },
  {
   "cell_type": "code",
   "execution_count": null,
   "id": "c4ea5438",
   "metadata": {
    "ExecuteTime": {
     "end_time": "2022-10-23T15:16:07.408956Z",
     "start_time": "2022-10-23T15:16:07.393995Z"
    },
    "hidden": true
   },
   "outputs": [],
   "source": [
    "# pd.concat(list_cleaned_p).shape"
   ]
  },
  {
   "cell_type": "code",
   "execution_count": null,
   "id": "128f679e",
   "metadata": {
    "ExecuteTime": {
     "end_time": "2022-10-23T15:16:07.424940Z",
     "start_time": "2022-10-23T15:16:07.409952Z"
    },
    "hidden": true
   },
   "outputs": [],
   "source": [
    "# list_cleaned_p[0].shape[0]+list_cleaned_p[1].shape[0]==pd.concat(list_cleaned_p).shape[0]"
   ]
  },
  {
   "cell_type": "code",
   "execution_count": null,
   "id": "71dea156",
   "metadata": {
    "hidden": true
   },
   "outputs": [],
   "source": []
  },
  {
   "cell_type": "markdown",
   "id": "d032a860",
   "metadata": {
    "hidden": true
   },
   "source": [
    "-----"
   ]
  },
  {
   "cell_type": "markdown",
   "id": "977e2b1a",
   "metadata": {
    "heading_collapsed": true
   },
   "source": [
    "## First Pass Modelling"
   ]
  },
  {
   "cell_type": "markdown",
   "id": "f3d0dec9",
   "metadata": {
    "heading_collapsed": true,
    "hidden": true
   },
   "source": [
    "### Load and functional cleaning"
   ]
  },
  {
   "cell_type": "code",
   "execution_count": null,
   "id": "4d9bcf46",
   "metadata": {
    "ExecuteTime": {
     "end_time": "2022-10-24T15:15:16.748577Z",
     "start_time": "2022-10-24T15:15:08.187018Z"
    },
    "hidden": true
   },
   "outputs": [],
   "source": [
    "# # on vostro laptop\n",
    "# raw_pickle_list = [joblib.load(f'C:/Users/MaNiL/Desktop/data/capstone/raw/pickles/{year}_CvH.pkl') for \\\n",
    "#          year in np.arange(2022, 2017, -1)] # load the pickles from 2022 to 2018 inclusive"
   ]
  },
  {
   "cell_type": "code",
   "execution_count": null,
   "id": "b452e30a",
   "metadata": {
    "ExecuteTime": {
     "end_time": "2022-10-23T15:16:07.456854Z",
     "start_time": "2022-10-23T15:16:07.441867Z"
    },
    "hidden": true
   },
   "outputs": [],
   "source": [
    "# # on Muninn\n",
    "# raw_pickle_list = [joblib.load(f'C:/Users/Emanuel/Desktop/data/capstone/raw/{year}_CvH.pkl') for \\\n",
    "#          year in np.arange(2022, 2017, -1)] # load the pickles from 2022 to 2018 inclusive"
   ]
  },
  {
   "cell_type": "code",
   "execution_count": null,
   "id": "dd14ae6b",
   "metadata": {
    "ExecuteTime": {
     "end_time": "2022-10-23T15:16:07.471815Z",
     "start_time": "2022-10-23T15:16:07.457825Z"
    },
    "hidden": true
   },
   "outputs": [],
   "source": [
    "# # using cloud-available data (currently only 2021 and 2020)\n",
    "# raw_pickle_list = [joblib.load(f'./data/{year}_CvH.pkl') for \\\n",
    "#          year in np.arange(2021, 2019, -1)] # load the pickles from 2022 to 2018 inclusive"
   ]
  },
  {
   "cell_type": "markdown",
   "id": "869b9935",
   "metadata": {
    "hidden": true
   },
   "source": [
    "Shape sanity check:"
   ]
  },
  {
   "cell_type": "code",
   "execution_count": null,
   "id": "1908d5c2",
   "metadata": {
    "ExecuteTime": {
     "end_time": "2022-10-24T15:15:16.986097Z",
     "start_time": "2022-10-24T15:15:16.750577Z"
    },
    "hidden": true
   },
   "outputs": [],
   "source": [
    "# sum([df_.shape[0] for df_ in raw_pickle_list])==pd.concat(raw_pickle_list).shape[0]"
   ]
  },
  {
   "cell_type": "code",
   "execution_count": null,
   "id": "153b2763",
   "metadata": {
    "ExecuteTime": {
     "end_time": "2022-10-24T15:16:49.868237Z",
     "start_time": "2022-10-24T15:16:49.862251Z"
    },
    "hidden": true
   },
   "outputs": [],
   "source": [
    "# big_df = hp.concatenate_cleaned_pickles(raw_pickle_list)\n",
    "\n",
    "\n",
    "# # Shape pre-drop: (198779, 13)\n",
    "# # Dropping duplicates...\n",
    "# # Shape post-drop: (198521, 13)\n",
    "# #  Duplicates dropped: 258"
   ]
  },
  {
   "cell_type": "code",
   "execution_count": null,
   "id": "362c3397",
   "metadata": {
    "hidden": true
   },
   "outputs": [],
   "source": []
  },
  {
   "cell_type": "code",
   "execution_count": null,
   "id": "3d26ec24",
   "metadata": {
    "ExecuteTime": {
     "end_time": "2022-10-23T15:16:07.519687Z",
     "start_time": "2022-10-23T15:16:07.504699Z"
    },
    "hidden": true
   },
   "outputs": [],
   "source": [
    "# on Muninn\n",
    "# joblib.dump(big_df, 'C:/Users/Emanuel/Desktop/data/capstone/preprocessed/2022_2018_CvH.pkl', compress=7)\n",
    "\n",
    "# big_df = joblib.load('C:/Users/Emanuel/Desktop/data/capstone/preprocessed/2022_2018_CvH.pkl')"
   ]
  },
  {
   "cell_type": "code",
   "execution_count": null,
   "id": "e29335d1",
   "metadata": {
    "ExecuteTime": {
     "end_time": "2022-10-23T20:09:41.653876Z",
     "start_time": "2022-10-23T20:09:35.853670Z"
    },
    "hidden": true
   },
   "outputs": [],
   "source": [
    "# on cloud\n",
    "big_df = joblib.load('./data/preprocessed/2022_2018_CvH.pkl')"
   ]
  },
  {
   "cell_type": "code",
   "execution_count": null,
   "id": "dc6f0c2c",
   "metadata": {
    "hidden": true
   },
   "outputs": [],
   "source": []
  },
  {
   "cell_type": "code",
   "execution_count": null,
   "id": "bd802aaf",
   "metadata": {
    "ExecuteTime": {
     "end_time": "2022-10-24T15:17:09.709193Z",
     "start_time": "2022-10-24T15:17:08.611369Z"
    },
    "hidden": true
   },
   "outputs": [],
   "source": [
    "X, y = hp.X_y_split_simple(big_df)\n",
    "\n",
    "y = hp.y_convert_to_ints(y)"
   ]
  },
  {
   "cell_type": "markdown",
   "id": "6f6f9b53",
   "metadata": {
    "hidden": true
   },
   "source": [
    "------"
   ]
  },
  {
   "cell_type": "markdown",
   "id": "176e14c0",
   "metadata": {
    "heading_collapsed": true,
    "hidden": true
   },
   "source": [
    "### Base Models (no cross-validation)"
   ]
  },
  {
   "cell_type": "markdown",
   "id": "b35439e1",
   "metadata": {
    "heading_collapsed": true,
    "hidden": true
   },
   "source": [
    "#### Further cleaning (no 'emt' or 'moves')"
   ]
  },
  {
   "cell_type": "code",
   "execution_count": null,
   "id": "f725a812",
   "metadata": {
    "ExecuteTime": {
     "end_time": "2022-10-23T20:10:29.689642Z",
     "start_time": "2022-10-23T20:10:29.655535Z"
    },
    "hidden": true
   },
   "outputs": [],
   "source": [
    "y.head()"
   ]
  },
  {
   "cell_type": "code",
   "execution_count": null,
   "id": "d5e83833",
   "metadata": {
    "ExecuteTime": {
     "end_time": "2022-10-23T20:10:31.233970Z",
     "start_time": "2022-10-23T20:10:30.296493Z"
    },
    "hidden": true
   },
   "outputs": [],
   "source": [
    "y.value_counts(normalize=True)*100\n",
    "\n",
    "# WhiteIsComp_BlackIsComp_NoComp\n",
    "# 1                                 50.196201\n",
    "# 0                                 49.803799"
   ]
  },
  {
   "cell_type": "code",
   "execution_count": null,
   "id": "704ef33e",
   "metadata": {
    "ExecuteTime": {
     "end_time": "2022-10-23T20:10:31.249048Z",
     "start_time": "2022-10-23T20:10:31.236892Z"
    },
    "hidden": true
   },
   "outputs": [],
   "source": [
    "y.value_counts();\n",
    "\n",
    "# WhiteIsComp_BlackIsComp_NoComp\n",
    "# 1                              99650\n",
    "# 0                              98871"
   ]
  },
  {
   "cell_type": "markdown",
   "id": "e74f72b8",
   "metadata": {
    "hidden": true
   },
   "source": [
    "Knowing the distribution of the target is important when considering model performance."
   ]
  },
  {
   "cell_type": "code",
   "execution_count": null,
   "id": "731c7a46",
   "metadata": {
    "ExecuteTime": {
     "end_time": "2022-10-23T20:10:32.940685Z",
     "start_time": "2022-10-23T20:10:32.916655Z"
    },
    "hidden": true
   },
   "outputs": [],
   "source": [
    "X.head(2)"
   ]
  },
  {
   "cell_type": "code",
   "execution_count": null,
   "id": "446455d9",
   "metadata": {
    "ExecuteTime": {
     "end_time": "2022-10-23T20:10:33.068560Z",
     "start_time": "2022-10-23T20:10:33.063560Z"
    },
    "hidden": true
   },
   "outputs": [],
   "source": [
    "X.shape # (198779, 10)"
   ]
  },
  {
   "cell_type": "code",
   "execution_count": null,
   "id": "b5b808a3",
   "metadata": {
    "ExecuteTime": {
     "end_time": "2022-10-23T20:10:33.256426Z",
     "start_time": "2022-10-23T20:10:33.236421Z"
    },
    "hidden": true
   },
   "outputs": [],
   "source": [
    "unique_openings = X.ECO.unique()\n",
    "len(unique_openings) # 494"
   ]
  },
  {
   "cell_type": "markdown",
   "id": "d26589e6",
   "metadata": {
    "hidden": true
   },
   "source": [
    "Openings (ECO) will be one hot encoded. "
   ]
  },
  {
   "cell_type": "markdown",
   "id": "92af38f6",
   "metadata": {
    "hidden": true
   },
   "source": [
    "Removing emt and moves for now but feature engineering can be done to them in future (after base models). "
   ]
  },
  {
   "cell_type": "code",
   "execution_count": null,
   "id": "57cf0269",
   "metadata": {
    "ExecuteTime": {
     "end_time": "2022-10-24T15:18:23.406002Z",
     "start_time": "2022-10-24T15:18:23.391001Z"
    },
    "hidden": true
   },
   "outputs": [],
   "source": [
    "X_ = X.drop(columns=['emt', 'moves'])"
   ]
  },
  {
   "cell_type": "code",
   "execution_count": null,
   "id": "8a06c35d",
   "metadata": {
    "ExecuteTime": {
     "end_time": "2022-10-24T15:18:23.843596Z",
     "start_time": "2022-10-24T15:18:23.823588Z"
    },
    "hidden": true
   },
   "outputs": [],
   "source": [
    "X_.head()"
   ]
  },
  {
   "cell_type": "markdown",
   "id": "5c549e3d",
   "metadata": {
    "hidden": true
   },
   "source": [
    "-----"
   ]
  },
  {
   "cell_type": "markdown",
   "id": "6bf5d8cb",
   "metadata": {
    "heading_collapsed": true,
    "hidden": true
   },
   "source": [
    "#### Test Train Split"
   ]
  },
  {
   "cell_type": "code",
   "execution_count": null,
   "id": "53f82baf",
   "metadata": {
    "ExecuteTime": {
     "end_time": "2022-10-23T20:10:36.020347Z",
     "start_time": "2022-10-23T20:10:36.002347Z"
    },
    "hidden": true
   },
   "outputs": [],
   "source": [
    "y"
   ]
  },
  {
   "cell_type": "code",
   "execution_count": null,
   "id": "a28441d0",
   "metadata": {
    "ExecuteTime": {
     "end_time": "2022-10-24T15:18:32.425377Z",
     "start_time": "2022-10-24T15:18:32.039780Z"
    },
    "hidden": true
   },
   "outputs": [],
   "source": [
    "X_train, X_test, y_train, y_test = train_test_split(X_, y, test_size=0.2, random_state=22,\n",
    "                                                                     stratify=y)"
   ]
  },
  {
   "cell_type": "code",
   "execution_count": null,
   "id": "166aea35",
   "metadata": {
    "ExecuteTime": {
     "end_time": "2022-10-23T20:10:37.536159Z",
     "start_time": "2022-10-23T20:10:37.522195Z"
    },
    "hidden": true
   },
   "outputs": [],
   "source": [
    "# X_remainder, X_test, y_remainder, y_test = train_test_split(X_, y, test_size=0.2, random_state=22,\n",
    "#                                                                      stratify=y)\n",
    "\n",
    "# X_train, X_validation, y_train, y_validation = train_test_split(X_remainder, y_remainder, train_size=0.7,\n",
    "#                                                                random_state=22, stratify=y_remainder)"
   ]
  },
  {
   "cell_type": "code",
   "execution_count": null,
   "id": "dda832f6",
   "metadata": {
    "ExecuteTime": {
     "end_time": "2022-10-23T20:10:37.550961Z",
     "start_time": "2022-10-23T20:10:37.537964Z"
    },
    "hidden": true
   },
   "outputs": [],
   "source": [
    "# validation is 30%"
   ]
  },
  {
   "cell_type": "markdown",
   "id": "9ff5eeef",
   "metadata": {
    "hidden": true
   },
   "source": [
    "------"
   ]
  },
  {
   "cell_type": "markdown",
   "id": "f8894c33",
   "metadata": {
    "heading_collapsed": true,
    "hidden": true
   },
   "source": [
    "#### OHE ECO"
   ]
  },
  {
   "cell_type": "code",
   "execution_count": null,
   "id": "ed9af5a8",
   "metadata": {
    "ExecuteTime": {
     "end_time": "2022-10-24T15:18:42.887303Z",
     "start_time": "2022-10-24T15:18:42.882302Z"
    },
    "hidden": true
   },
   "outputs": [],
   "source": [
    "ohe = OneHotEncoder(sparse=False, dtype=np.int8(), handle_unknown='ignore')"
   ]
  },
  {
   "cell_type": "code",
   "execution_count": null,
   "id": "64b5aa7c",
   "metadata": {
    "ExecuteTime": {
     "end_time": "2022-10-23T20:10:38.918099Z",
     "start_time": "2022-10-23T20:10:38.900996Z"
    },
    "hidden": true
   },
   "outputs": [],
   "source": [
    "# ohe.fit(X_train[['ECO']])\n",
    "# X_train_ECO_ohe = ohe.transform(X_train[['ECO']])"
   ]
  },
  {
   "cell_type": "code",
   "execution_count": null,
   "id": "a804b6d6",
   "metadata": {
    "ExecuteTime": {
     "end_time": "2022-10-23T20:10:39.150857Z",
     "start_time": "2022-10-23T20:10:39.135805Z"
    },
    "hidden": true
   },
   "outputs": [],
   "source": [
    "# X_test_ECO_ohe = ohe.transform(X_test[['ECO']])"
   ]
  },
  {
   "cell_type": "code",
   "execution_count": null,
   "id": "6b2f37a1",
   "metadata": {
    "ExecuteTime": {
     "end_time": "2022-10-23T20:10:39.368670Z",
     "start_time": "2022-10-23T20:10:39.355670Z"
    },
    "hidden": true
   },
   "outputs": [],
   "source": [
    "# X_train_ECO_ohe.shape # (55151, 477)"
   ]
  },
  {
   "cell_type": "code",
   "execution_count": null,
   "id": "d97f1a25",
   "metadata": {
    "ExecuteTime": {
     "end_time": "2022-10-23T20:10:39.618250Z",
     "start_time": "2022-10-23T20:10:39.609243Z"
    },
    "hidden": true
   },
   "outputs": [],
   "source": [
    "# ohe.get_feature_names_out()[0:10]"
   ]
  },
  {
   "cell_type": "code",
   "execution_count": null,
   "id": "9afc9503",
   "metadata": {
    "ExecuteTime": {
     "end_time": "2022-10-23T20:10:39.900230Z",
     "start_time": "2022-10-23T20:10:39.883234Z"
    },
    "hidden": true
   },
   "outputs": [],
   "source": [
    "# pd.DataFrame(X_train_ECO_ohe, columns=ohe.get_feature_names_out()).head()"
   ]
  },
  {
   "cell_type": "code",
   "execution_count": null,
   "id": "20f662cd",
   "metadata": {
    "ExecuteTime": {
     "end_time": "2022-10-23T20:10:40.103963Z",
     "start_time": "2022-10-23T20:10:40.099995Z"
    },
    "hidden": true
   },
   "outputs": [],
   "source": [
    "# X_train[['ECO']].head()"
   ]
  },
  {
   "cell_type": "code",
   "execution_count": null,
   "id": "f1de584c",
   "metadata": {
    "ExecuteTime": {
     "end_time": "2022-10-23T20:10:40.585175Z",
     "start_time": "2022-10-23T20:10:40.578169Z"
    },
    "hidden": true
   },
   "outputs": [],
   "source": [
    "# X_train_ = pd.merge(\n",
    "#     left=X_train.drop(columns=['ECO']).reset_index(drop=True),\n",
    "#     right=pd.DataFrame(X_train_ECO_ohe, columns=ohe.get_feature_names_out()),\n",
    "#     how='left',\n",
    "#     left_index=True,\n",
    "#     right_index=True)\n",
    "# # X_train_.head()"
   ]
  },
  {
   "cell_type": "code",
   "execution_count": null,
   "id": "24274c85",
   "metadata": {
    "ExecuteTime": {
     "end_time": "2022-10-24T15:18:45.345673Z",
     "start_time": "2022-10-24T15:18:45.068576Z"
    },
    "hidden": true
   },
   "outputs": [],
   "source": [
    "X_train_ = pd.merge(\n",
    "    left=X_train.drop(columns=['ECO']).reset_index(drop=True),\n",
    "    right=pd.DataFrame(ohe.fit_transform(X_train[['ECO']]), columns=ohe.get_feature_names_out()),\n",
    "    how='left',\n",
    "    left_index=True,\n",
    "    right_index=True)"
   ]
  },
  {
   "cell_type": "code",
   "execution_count": null,
   "id": "4cba568e",
   "metadata": {
    "ExecuteTime": {
     "end_time": "2022-10-24T15:18:45.877251Z",
     "start_time": "2022-10-24T15:18:45.851251Z"
    },
    "hidden": true
   },
   "outputs": [],
   "source": [
    "X_train_.head()"
   ]
  },
  {
   "cell_type": "code",
   "execution_count": null,
   "id": "fd065f4c",
   "metadata": {
    "ExecuteTime": {
     "end_time": "2022-10-23T20:19:20.657800Z",
     "start_time": "2022-10-23T20:19:20.573688Z"
    },
    "hidden": true
   },
   "outputs": [],
   "source": [
    "X_test_ = pd.merge(\n",
    "    left=X_test.drop(columns=['ECO']).reset_index(drop=True),\n",
    "    right=pd.DataFrame(ohe.transform(X_test[['ECO']]), columns=ohe.get_feature_names_out()),\n",
    "    how='left',\n",
    "    left_index=True,\n",
    "    right_index=True)"
   ]
  },
  {
   "cell_type": "code",
   "execution_count": null,
   "id": "4eb9f700",
   "metadata": {
    "ExecuteTime": {
     "end_time": "2022-10-23T20:19:21.296760Z",
     "start_time": "2022-10-23T20:19:21.269766Z"
    },
    "hidden": true
   },
   "outputs": [],
   "source": [
    "X_test_.head() # 5 rows × 499 columns"
   ]
  },
  {
   "cell_type": "markdown",
   "id": "59a98550",
   "metadata": {
    "hidden": true
   },
   "source": [
    "-----"
   ]
  },
  {
   "cell_type": "markdown",
   "id": "c90a21cf",
   "metadata": {
    "heading_collapsed": true,
    "hidden": true
   },
   "source": [
    "#### Scaling"
   ]
  },
  {
   "cell_type": "code",
   "execution_count": null,
   "id": "6bd2a19b",
   "metadata": {
    "ExecuteTime": {
     "end_time": "2022-10-23T20:19:23.912906Z",
     "start_time": "2022-10-23T20:19:23.897910Z"
    },
    "hidden": true
   },
   "outputs": [],
   "source": [
    "stan_scal = StandardScaler()"
   ]
  },
  {
   "cell_type": "code",
   "execution_count": null,
   "id": "f4f5a79b",
   "metadata": {
    "ExecuteTime": {
     "end_time": "2022-10-23T20:19:24.289685Z",
     "start_time": "2022-10-23T20:19:24.180259Z"
    },
    "hidden": true
   },
   "outputs": [],
   "source": [
    "X_train_scaled=X_train_.copy()\n",
    "\n",
    "X_train_scaled[['BlackElo', 'BlackRD',\n",
    "                'PlyCount', 'WhiteElo',\n",
    "                'WhiteRD', 'TimeControl_Base', 'TimeControl_Inc']] = stan_scal.fit_transform(X_train_[[\n",
    "    'BlackElo', 'BlackRD', 'PlyCount', 'WhiteElo', 'WhiteRD', 'TimeControl_Base', 'TimeControl_Inc']])\n",
    "\n",
    "X_test_scaled=X_test_.copy()\n",
    "\n",
    "X_test_scaled[['BlackElo', 'BlackRD',\n",
    "                'PlyCount', 'WhiteElo',\n",
    "                'WhiteRD', 'TimeControl_Base', 'TimeControl_Inc']] = stan_scal.transform(X_test_[[\n",
    "    'BlackElo', 'BlackRD', 'PlyCount', 'WhiteElo', 'WhiteRD', 'TimeControl_Base', 'TimeControl_Inc']])\n",
    "\n"
   ]
  },
  {
   "cell_type": "code",
   "execution_count": null,
   "id": "ce1d8efd",
   "metadata": {
    "ExecuteTime": {
     "end_time": "2022-10-23T20:19:24.817467Z",
     "start_time": "2022-10-23T20:19:24.785393Z"
    },
    "hidden": true
   },
   "outputs": [],
   "source": [
    "display(X_train_scaled.head()) # 5 rows × 499 columns\n",
    "display(X_test_scaled.head()) # 5 rows × 499 columns"
   ]
  },
  {
   "cell_type": "code",
   "execution_count": null,
   "id": "aafc02fb",
   "metadata": {
    "hidden": true
   },
   "outputs": [],
   "source": []
  },
  {
   "cell_type": "markdown",
   "id": "070dcb37",
   "metadata": {
    "hidden": true
   },
   "source": [
    "-----"
   ]
  },
  {
   "cell_type": "markdown",
   "id": "e92e4b74",
   "metadata": {
    "heading_collapsed": true,
    "hidden": true
   },
   "source": [
    "#### Logistic Regression"
   ]
  },
  {
   "cell_type": "code",
   "execution_count": null,
   "id": "6d58b1db",
   "metadata": {
    "ExecuteTime": {
     "end_time": "2022-10-23T15:19:38.106514Z",
     "start_time": "2022-10-23T15:19:38.099539Z"
    },
    "hidden": true
   },
   "outputs": [],
   "source": [
    "# logreg = LogisticRegression(penalty='l2', max_iter=10000,\n",
    "#                            solver='lbfgs', C=1.0) # default settings"
   ]
  },
  {
   "cell_type": "code",
   "execution_count": null,
   "id": "2d80e924",
   "metadata": {
    "ExecuteTime": {
     "end_time": "2022-10-23T15:19:38.778138Z",
     "start_time": "2022-10-23T15:19:38.759161Z"
    },
    "hidden": true
   },
   "outputs": [],
   "source": [
    "# y_train.values.shape"
   ]
  },
  {
   "cell_type": "code",
   "execution_count": null,
   "id": "dad97357",
   "metadata": {
    "ExecuteTime": {
     "end_time": "2022-10-23T15:20:08.094754Z",
     "start_time": "2022-10-23T15:19:53.188411Z"
    },
    "hidden": true
   },
   "outputs": [],
   "source": [
    "# np.reshape(y_train.values, (-1,)).shape # (159023,)\n",
    "\n",
    "# logreg.fit(X_train_scaled, np.reshape(y_train.values, (-1,)))\n",
    "\n",
    "# joblib.dump(logreg, 'C:/Users/Emanuel/Desktop/data/capstone/pickles/first_logreg.pkl', compress=7)"
   ]
  },
  {
   "cell_type": "code",
   "execution_count": null,
   "id": "6307c8e2",
   "metadata": {
    "ExecuteTime": {
     "end_time": "2022-10-23T15:20:38.896462Z",
     "start_time": "2022-10-23T15:20:38.880505Z"
    },
    "hidden": true
   },
   "outputs": [],
   "source": [
    "logreg = joblib.load('./models/first_pass/first_logreg.pkl')"
   ]
  },
  {
   "cell_type": "code",
   "execution_count": null,
   "id": "f31c5503",
   "metadata": {
    "ExecuteTime": {
     "end_time": "2022-10-23T15:20:41.158550Z",
     "start_time": "2022-10-23T15:20:41.148542Z"
    },
    "hidden": true
   },
   "outputs": [],
   "source": [
    "# display(y_train.head())\n",
    "# display(y_test.head())"
   ]
  },
  {
   "cell_type": "code",
   "execution_count": null,
   "id": "78d68a88",
   "metadata": {
    "ExecuteTime": {
     "end_time": "2022-10-23T15:20:42.790573Z",
     "start_time": "2022-10-23T15:20:42.778578Z"
    },
    "hidden": true
   },
   "outputs": [],
   "source": [
    "y_train_ = np.reshape(y_train.values, (-1,))\n",
    "y_test_ = np.reshape(y_test.values, (-1,))"
   ]
  },
  {
   "cell_type": "code",
   "execution_count": null,
   "id": "3629ec28",
   "metadata": {
    "ExecuteTime": {
     "end_time": "2022-10-23T15:20:43.539568Z",
     "start_time": "2022-10-23T15:20:43.522582Z"
    },
    "hidden": true
   },
   "outputs": [],
   "source": [
    "y_train_.shape"
   ]
  },
  {
   "cell_type": "code",
   "execution_count": null,
   "id": "52e6041a",
   "metadata": {
    "ExecuteTime": {
     "end_time": "2022-10-23T15:23:04.234590Z",
     "start_time": "2022-10-23T15:23:04.222663Z"
    },
    "hidden": true
   },
   "outputs": [],
   "source": [
    "# print(f'The accuracy score on the training data is: {logreg.score(X_train_scaled, y_train_)}')\n",
    "# print(f'The accuracy score on the testing data is: {logreg.score(X_test_scaled, y_test_)}')"
   ]
  },
  {
   "cell_type": "code",
   "execution_count": null,
   "id": "4f99ce21",
   "metadata": {
    "ExecuteTime": {
     "end_time": "2022-10-23T15:20:53.921400Z",
     "start_time": "2022-10-23T15:20:53.904445Z"
    },
    "hidden": true
   },
   "outputs": [],
   "source": [
    "# plot_confusion_matrix(logreg, X_test_scaled, y_test_)\n",
    "\n",
    "# logreg_y_pred = logreg.predict(X_test_scaled)\n",
    "# print(classification_report(y_test_, logreg_y_pred))"
   ]
  },
  {
   "cell_type": "code",
   "execution_count": null,
   "id": "78c31e93",
   "metadata": {
    "ExecuteTime": {
     "end_time": "2022-10-23T15:20:56.083257Z",
     "start_time": "2022-10-23T15:20:56.079268Z"
    },
    "hidden": true
   },
   "outputs": [],
   "source": [
    "# logreg_results = pd.DataFrame(\n",
    "#     classification_report(\n",
    "#         y_test_, logreg_y_pred, output_dict=True)).loc[\n",
    "#     ['precision', 'recall', 'f1-score'],\n",
    "#     ['0', '1', 'accuracy']]"
   ]
  },
  {
   "cell_type": "code",
   "execution_count": null,
   "id": "07c51871",
   "metadata": {
    "ExecuteTime": {
     "end_time": "2022-10-23T15:20:56.752260Z",
     "start_time": "2022-10-23T15:20:56.738289Z"
    },
    "hidden": true
   },
   "outputs": [],
   "source": [
    "# log_reg_coefficients = pd.DataFrame(\n",
    "#     data=logreg.coef_, columns=logreg.feature_names_in_)\n",
    "# log_reg_coefficients.T.sort_values(by=0, ascending=False)"
   ]
  },
  {
   "cell_type": "code",
   "execution_count": null,
   "id": "a3a6248c",
   "metadata": {
    "ExecuteTime": {
     "end_time": "2022-10-23T15:22:32.621782Z",
     "start_time": "2022-10-23T15:22:31.997452Z"
    },
    "hidden": true
   },
   "outputs": [],
   "source": [
    "logreg_report, logreg_results, logreg_coefficients = hp.class_model_eval_logreg(\n",
    "    logreg, X_train_scaled, X_test_scaled, y_train_, y_test_)"
   ]
  },
  {
   "cell_type": "code",
   "execution_count": null,
   "id": "99a1b05f",
   "metadata": {
    "ExecuteTime": {
     "end_time": "2022-10-23T15:22:47.364153Z",
     "start_time": "2022-10-23T15:22:47.341215Z"
    },
    "hidden": true
   },
   "outputs": [],
   "source": [
    "log_reg_coefficients = pd.DataFrame(\n",
    "    data=abs(logreg.coef_), columns=logreg.feature_names_in_)\n",
    "\n",
    "log_reg_coefficients.T.rename(columns={0: 'coefficient_weights'}).sort_values(\n",
    "    by='coefficient_weights', ascending=False).head(15)"
   ]
  },
  {
   "cell_type": "markdown",
   "id": "2f32361a",
   "metadata": {
    "hidden": true
   },
   "source": [
    "Should look into these openings ?"
   ]
  },
  {
   "cell_type": "markdown",
   "id": "1ef1f770",
   "metadata": {
    "hidden": true
   },
   "source": [
    "------"
   ]
  },
  {
   "cell_type": "markdown",
   "id": "47a3ae12",
   "metadata": {
    "heading_collapsed": true,
    "hidden": true
   },
   "source": [
    "#### Random Forest"
   ]
  },
  {
   "cell_type": "code",
   "execution_count": null,
   "id": "a16393b7",
   "metadata": {
    "ExecuteTime": {
     "end_time": "2022-10-23T15:23:47.633217Z",
     "start_time": "2022-10-23T15:23:47.620278Z"
    },
    "hidden": true
   },
   "outputs": [],
   "source": [
    "# random_forest = RandomForestClassifier(n_estimators=100) # default values\n",
    "# random_forest.fit(X_train_, y_train)\n",
    " "
   ]
  },
  {
   "cell_type": "code",
   "execution_count": null,
   "id": "acaa0d91",
   "metadata": {
    "ExecuteTime": {
     "end_time": "2022-10-23T15:23:47.805453Z",
     "start_time": "2022-10-23T15:23:47.795478Z"
    },
    "hidden": true
   },
   "outputs": [],
   "source": [
    "# joblib.dump(random_forest, './models/first_pass/first_randfor.pkl', compress=7)"
   ]
  },
  {
   "cell_type": "code",
   "execution_count": null,
   "id": "52189e34",
   "metadata": {
    "ExecuteTime": {
     "end_time": "2022-10-23T15:23:48.534645Z",
     "start_time": "2022-10-23T15:23:47.955422Z"
    },
    "hidden": true
   },
   "outputs": [],
   "source": [
    "random_forest = joblib.load('./models/first_pass/first_randfor.pkl')"
   ]
  },
  {
   "cell_type": "code",
   "execution_count": null,
   "id": "3bbfe6a8",
   "metadata": {
    "ExecuteTime": {
     "end_time": "2022-10-23T15:23:48.565551Z",
     "start_time": "2022-10-23T15:23:48.536612Z"
    },
    "hidden": true
   },
   "outputs": [],
   "source": [
    "X_train_"
   ]
  },
  {
   "cell_type": "code",
   "execution_count": null,
   "id": "7b912b5b",
   "metadata": {
    "ExecuteTime": {
     "end_time": "2022-10-23T15:24:28.250845Z",
     "start_time": "2022-10-23T15:23:48.566532Z"
    },
    "hidden": true
   },
   "outputs": [],
   "source": [
    "decision_tree_train_scores = []\n",
    "for sub_tree in random_forest.estimators_:\n",
    "    decision_tree_train_scores.append(sub_tree.score(X_train_, y_train))\n",
    "    \n",
    "print(\"Performance on fitted data:\")\n",
    "print(f\"Average Decision Tree: {np.mean(decision_tree_train_scores)}\")\n",
    "print(f\"Random Forest: {random_forest.score(X_train_, y_train)}\")"
   ]
  },
  {
   "cell_type": "code",
   "execution_count": null,
   "id": "7db263c2",
   "metadata": {
    "ExecuteTime": {
     "end_time": "2022-10-23T15:24:38.454388Z",
     "start_time": "2022-10-23T15:24:28.251842Z"
    },
    "hidden": true
   },
   "outputs": [],
   "source": [
    "decision_tree_test_scores = []\n",
    "for sub_tree in random_forest.estimators_:\n",
    "    decision_tree_test_scores.append(sub_tree.score(X_test_, y_test))\n",
    "\n",
    "print(\"Performance on Test data:\")\n",
    "print(f\"Average Decision Tree: {np.mean(decision_tree_test_scores)}\")\n",
    "print(f\"Random Forest: {random_forest.score(X_test_, y_test)}\")"
   ]
  },
  {
   "cell_type": "code",
   "execution_count": null,
   "id": "ae89f8a2",
   "metadata": {
    "ExecuteTime": {
     "end_time": "2022-10-23T15:24:38.486336Z",
     "start_time": "2022-10-23T15:24:38.455413Z"
    },
    "hidden": true
   },
   "outputs": [],
   "source": [
    "feature_df = pd.DataFrame(\n",
    "{\"feature_importance\": random_forest.feature_importances_},\n",
    "index=X_train_.columns)\n",
    "\n",
    "feature_df.sort_values(by='feature_importance', ascending=False).head(15)"
   ]
  },
  {
   "cell_type": "markdown",
   "id": "d261bb1a",
   "metadata": {
    "hidden": true
   },
   "source": [
    "-----"
   ]
  },
  {
   "cell_type": "markdown",
   "id": "00b40f5d",
   "metadata": {
    "heading_collapsed": true
   },
   "source": [
    "## Loading in human-only games"
   ]
  },
  {
   "cell_type": "markdown",
   "id": "3764901c",
   "metadata": {
    "heading_collapsed": true,
    "hidden": true
   },
   "source": [
    "###### Reminder of shapes:"
   ]
  },
  {
   "cell_type": "code",
   "execution_count": null,
   "id": "992b41f1",
   "metadata": {
    "ExecuteTime": {
     "end_time": "2022-10-23T15:24:38.502291Z",
     "start_time": "2022-10-23T15:24:38.487303Z"
    },
    "hidden": true
   },
   "outputs": [],
   "source": [
    "# the (non-emt&moves df shapes)\n",
    "display(X_.shape)\n",
    "display(y.value_counts())"
   ]
  },
  {
   "cell_type": "code",
   "execution_count": null,
   "id": "36fe71e5",
   "metadata": {
    "ExecuteTime": {
     "end_time": "2022-10-23T15:24:38.518220Z",
     "start_time": "2022-10-23T15:24:38.503261Z"
    },
    "hidden": true
   },
   "outputs": [],
   "source": [
    "# joblib.load('./data/2022_2018_CvH.pkl').shape # (198779, 13)"
   ]
  },
  {
   "cell_type": "markdown",
   "id": "06106846",
   "metadata": {
    "hidden": true
   },
   "source": [
    "----"
   ]
  },
  {
   "cell_type": "markdown",
   "id": "f16efe5c",
   "metadata": {
    "heading_collapsed": true,
    "hidden": true
   },
   "source": [
    "### Looking at 2021_all_ratings"
   ]
  },
  {
   "cell_type": "code",
   "execution_count": null,
   "id": "a6fd8826",
   "metadata": {
    "ExecuteTime": {
     "end_time": "2022-10-23T15:24:38.533181Z",
     "start_time": "2022-10-23T15:24:38.519218Z"
    },
    "hidden": true
   },
   "outputs": [],
   "source": [
    "# big_df = joblib.load('C:/Users/Emanuel/Desktop/data/capstone/raw/2021_all_ratings.pkl')"
   ]
  },
  {
   "cell_type": "code",
   "execution_count": null,
   "id": "cb659f1c",
   "metadata": {
    "ExecuteTime": {
     "end_time": "2022-10-23T15:24:38.549137Z",
     "start_time": "2022-10-23T15:24:38.534178Z"
    },
    "hidden": true
   },
   "outputs": [],
   "source": [
    "# display(big_df.head(1))\n",
    "# big_df.shape"
   ]
  },
  {
   "cell_type": "code",
   "execution_count": null,
   "id": "0ac77ae4",
   "metadata": {
    "ExecuteTime": {
     "end_time": "2022-10-23T15:24:38.565120Z",
     "start_time": "2022-10-23T15:24:38.550134Z"
    },
    "hidden": true
   },
   "outputs": [],
   "source": [
    "# big_df = hp.clean_pickle(big_df)"
   ]
  },
  {
   "cell_type": "code",
   "execution_count": null,
   "id": "f54501b5",
   "metadata": {
    "ExecuteTime": {
     "end_time": "2022-10-23T15:24:38.581080Z",
     "start_time": "2022-10-23T15:24:38.566093Z"
    },
    "hidden": true
   },
   "outputs": [],
   "source": [
    "# big_df.shape"
   ]
  },
  {
   "cell_type": "code",
   "execution_count": null,
   "id": "45b0fe50",
   "metadata": {
    "ExecuteTime": {
     "end_time": "2022-10-23T15:24:38.597037Z",
     "start_time": "2022-10-23T15:24:38.583047Z"
    },
    "hidden": true
   },
   "outputs": [],
   "source": [
    "# big_df.head(2)"
   ]
  },
  {
   "cell_type": "code",
   "execution_count": null,
   "id": "384bcc41",
   "metadata": {
    "ExecuteTime": {
     "end_time": "2022-10-23T15:24:38.612992Z",
     "start_time": "2022-10-23T15:24:38.598007Z"
    },
    "hidden": true
   },
   "outputs": [],
   "source": [
    "# big_df[big_df['NoComp']==0]"
   ]
  },
  {
   "cell_type": "code",
   "execution_count": null,
   "id": "34c4ff8d",
   "metadata": {
    "ExecuteTime": {
     "end_time": "2022-10-23T15:24:38.628924Z",
     "start_time": "2022-10-23T15:24:38.613964Z"
    },
    "hidden": true
   },
   "outputs": [],
   "source": [
    "# X, y = hp.X_y_split_simple(big_df)\n",
    "\n",
    "# y = hp.y_convert_to_ohe_vec(y)"
   ]
  },
  {
   "cell_type": "markdown",
   "id": "268a24fa",
   "metadata": {
    "hidden": true
   },
   "source": [
    "There are still cheaters in 2021_all_ratings. Another download will be looked at."
   ]
  },
  {
   "cell_type": "markdown",
   "id": "3c4e000e",
   "metadata": {
    "hidden": true
   },
   "source": [
    "-----"
   ]
  },
  {
   "cell_type": "markdown",
   "id": "d6129811",
   "metadata": {
    "heading_collapsed": true,
    "hidden": true
   },
   "source": [
    "### Looking at titled years"
   ]
  },
  {
   "cell_type": "markdown",
   "id": "1a74a960",
   "metadata": {
    "heading_collapsed": true,
    "hidden": true
   },
   "source": [
    "#### Loading titled years as raw_pickle_list"
   ]
  },
  {
   "cell_type": "code",
   "execution_count": null,
   "id": "f6bf9817",
   "metadata": {
    "ExecuteTime": {
     "end_time": "2022-10-24T20:17:09.414902Z",
     "start_time": "2022-10-24T20:17:04.441883Z"
    },
    "hidden": true
   },
   "outputs": [],
   "source": [
    "# # on Muninn\n",
    "# raw_pickle_list = [pd.read_json(\n",
    "#     f'C:/Users/Emanuel/Desktop/data/capstone/raw/json/Titled/ficsgamesdb_{year}_titled_movetimes_26{val}.json') \\\n",
    "#                    for year, val in zip(np.arange(2021, 2016, -1), [4827, 5091, 5092, 5093, 5094])]"
   ]
  },
  {
   "cell_type": "code",
   "execution_count": null,
   "id": "2e4e510d",
   "metadata": {
    "ExecuteTime": {
     "end_time": "2022-10-24T20:16:46.470020Z",
     "start_time": "2022-10-24T20:16:46.374248Z"
    },
    "hidden": true
   },
   "outputs": [],
   "source": [
    "# sum([df_.shape[0] for df_ in raw_pickle_list])==pd.concat(raw_pickle_list).shape[0]"
   ]
  },
  {
   "cell_type": "code",
   "execution_count": null,
   "id": "c3fe41be",
   "metadata": {
    "ExecuteTime": {
     "end_time": "2022-10-24T20:16:55.249754Z",
     "start_time": "2022-10-24T20:16:54.382969Z"
    },
    "hidden": true,
    "scrolled": true
   },
   "outputs": [],
   "source": [
    "# big_df = hp.concatenate_cleaned_pickles(raw_pickle_list)"
   ]
  },
  {
   "cell_type": "code",
   "execution_count": null,
   "id": "4ff972ee",
   "metadata": {
    "ExecuteTime": {
     "end_time": "2022-10-23T15:24:43.953837Z",
     "start_time": "2022-10-23T15:24:43.938877Z"
    },
    "hidden": true
   },
   "outputs": [],
   "source": [
    "# joblib.dump(big_df, 'C:/Users/Emanuel/Desktop/data/capstone/preprocessed/2021_2017_titled.pkl', compress=7)"
   ]
  },
  {
   "cell_type": "markdown",
   "id": "eb8f7089",
   "metadata": {
    "hidden": true
   },
   "source": [
    "----"
   ]
  },
  {
   "cell_type": "markdown",
   "id": "4567591e",
   "metadata": {
    "heading_collapsed": true,
    "hidden": true
   },
   "source": [
    "##### pickle-list-checking-years"
   ]
  },
  {
   "cell_type": "code",
   "execution_count": null,
   "id": "0817ec3e",
   "metadata": {
    "ExecuteTime": {
     "end_time": "2022-10-23T15:24:43.985780Z",
     "start_time": "2022-10-23T15:24:43.978770Z"
    },
    "hidden": true
   },
   "outputs": [],
   "source": [
    "# for i in range(len(raw_pickle_list)):\n",
    "#     print(raw_pickle_list[i].Date.iloc[-10].year)\n",
    "    "
   ]
  },
  {
   "cell_type": "code",
   "execution_count": null,
   "id": "01daa56d",
   "metadata": {
    "ExecuteTime": {
     "end_time": "2022-10-23T15:24:44.159250Z",
     "start_time": "2022-10-23T15:24:44.155264Z"
    },
    "hidden": true
   },
   "outputs": [],
   "source": [
    "# raw_pickle_list[0].columns"
   ]
  },
  {
   "cell_type": "code",
   "execution_count": null,
   "id": "a93f7e4c",
   "metadata": {
    "ExecuteTime": {
     "end_time": "2022-10-23T15:24:44.332024Z",
     "start_time": "2022-10-23T15:24:44.315067Z"
    },
    "hidden": true
   },
   "outputs": [],
   "source": [
    "# df_2020 = raw_pickle_list[1]"
   ]
  },
  {
   "cell_type": "code",
   "execution_count": null,
   "id": "711cf174",
   "metadata": {
    "ExecuteTime": {
     "end_time": "2022-10-23T15:24:44.474124Z",
     "start_time": "2022-10-23T15:24:44.462174Z"
    },
    "hidden": true
   },
   "outputs": [],
   "source": [
    "# df_2019_in_2020_data = df_2020[[row.year==2019 for row in df_2020.Date]] # 38x22\n",
    "# df_2019_in_2020_data.head(1)"
   ]
  },
  {
   "cell_type": "code",
   "execution_count": null,
   "id": "e9b06ea8",
   "metadata": {
    "ExecuteTime": {
     "end_time": "2022-10-23T15:24:44.632295Z",
     "start_time": "2022-10-23T15:24:44.629278Z"
    },
    "hidden": true
   },
   "outputs": [],
   "source": [
    "# df_2019 = raw_pickle_list[2]"
   ]
  },
  {
   "cell_type": "code",
   "execution_count": null,
   "id": "598ef824",
   "metadata": {
    "ExecuteTime": {
     "end_time": "2022-10-23T15:24:44.789995Z",
     "start_time": "2022-10-23T15:24:44.781023Z"
    },
    "hidden": true
   },
   "outputs": [],
   "source": [
    "# df_2019.tail(2)"
   ]
  },
  {
   "cell_type": "code",
   "execution_count": null,
   "id": "03043c97",
   "metadata": {
    "ExecuteTime": {
     "end_time": "2022-10-23T15:24:44.963383Z",
     "start_time": "2022-10-23T15:24:44.957371Z"
    },
    "hidden": true
   },
   "outputs": [],
   "source": [
    "# df_2019.Date.iloc[-1].year"
   ]
  },
  {
   "cell_type": "code",
   "execution_count": null,
   "id": "967f7226",
   "metadata": {
    "ExecuteTime": {
     "end_time": "2022-10-23T15:24:45.121449Z",
     "start_time": "2022-10-23T15:24:45.115465Z"
    },
    "hidden": true
   },
   "outputs": [],
   "source": [
    "# df_2018 = raw_pickle_list[2]"
   ]
  },
  {
   "cell_type": "code",
   "execution_count": null,
   "id": "0276451a",
   "metadata": {
    "ExecuteTime": {
     "end_time": "2022-10-23T15:24:45.295554Z",
     "start_time": "2022-10-23T15:24:45.286553Z"
    },
    "hidden": true
   },
   "outputs": [],
   "source": [
    "df_2017 = raw_pickle_list[-1]"
   ]
  },
  {
   "cell_type": "code",
   "execution_count": null,
   "id": "af6bcb77",
   "metadata": {
    "ExecuteTime": {
     "end_time": "2022-10-23T15:24:45.469836Z",
     "start_time": "2022-10-23T15:24:45.454877Z"
    },
    "hidden": true
   },
   "outputs": [],
   "source": [
    "df_2017['WhiteRD'].value_counts()"
   ]
  },
  {
   "cell_type": "code",
   "execution_count": null,
   "id": "72a863ce",
   "metadata": {
    "ExecuteTime": {
     "end_time": "2022-10-23T15:24:45.659299Z",
     "start_time": "2022-10-23T15:24:45.635398Z"
    },
    "hidden": true
   },
   "outputs": [],
   "source": [
    "df_2017[['BlackRD', 'WhiteRD']]"
   ]
  },
  {
   "cell_type": "code",
   "execution_count": null,
   "id": "cd8c95fe",
   "metadata": {
    "ExecuteTime": {
     "end_time": "2022-10-23T15:24:45.943279Z",
     "start_time": "2022-10-23T15:24:45.769719Z"
    },
    "hidden": true
   },
   "outputs": [],
   "source": [
    "df_2017[(df_2017['BlackRD']=='na') | (df_2017['WhiteRD']=='na')]; # 10720 rows × 22 columns\n",
    "['unrated' in row for row in df_2017[(df_2017['BlackRD']=='na') | (df_2017['WhiteRD']=='na')]['Event']];\n",
    "\n",
    "df_2017[(df_2017['BlackRD']=='na') | (df_2017['WhiteRD']=='na')][\n",
    "    ['unrated' in row for row in df_2017[(df_2017['BlackRD']=='na') | (df_2017['WhiteRD']=='na')]['Event']]\n",
    "];\n",
    "\n",
    "df_2017[['unrated' in row for row in df_2017['Event']]]\n",
    "#.describe()"
   ]
  },
  {
   "cell_type": "code",
   "execution_count": null,
   "id": "d2eb7216",
   "metadata": {
    "ExecuteTime": {
     "end_time": "2022-10-23T15:24:45.975170Z",
     "start_time": "2022-10-23T15:24:45.949239Z"
    },
    "hidden": true
   },
   "outputs": [],
   "source": [
    "(df_2017[['WhiteRD']]=='na' )"
   ]
  },
  {
   "cell_type": "code",
   "execution_count": null,
   "id": "ea7eab67",
   "metadata": {
    "hidden": true
   },
   "outputs": [],
   "source": []
  },
  {
   "cell_type": "markdown",
   "id": "ad5a39b5",
   "metadata": {
    "hidden": true
   },
   "source": [
    "-----"
   ]
  },
  {
   "cell_type": "markdown",
   "id": "123cfcb7",
   "metadata": {
    "heading_collapsed": true,
    "hidden": true
   },
   "source": [
    "#### Loading preprocessed titled pickle and functional cleaning"
   ]
  },
  {
   "cell_type": "code",
   "execution_count": null,
   "id": "8faca889",
   "metadata": {
    "ExecuteTime": {
     "end_time": "2022-10-23T20:20:24.561228Z",
     "start_time": "2022-10-23T20:20:21.716256Z"
    },
    "hidden": true
   },
   "outputs": [],
   "source": [
    "titled_df = joblib.load('./data/preprocessed/2021_2017_titled.pkl')"
   ]
  },
  {
   "cell_type": "code",
   "execution_count": null,
   "id": "6c447e8d",
   "metadata": {
    "ExecuteTime": {
     "end_time": "2022-10-23T20:20:24.577228Z",
     "start_time": "2022-10-23T20:20:24.563228Z"
    },
    "hidden": true
   },
   "outputs": [],
   "source": [
    "titled_df.head(2)"
   ]
  },
  {
   "cell_type": "code",
   "execution_count": null,
   "id": "3010adcf",
   "metadata": {
    "ExecuteTime": {
     "end_time": "2022-10-23T15:24:58.748592Z",
     "start_time": "2022-10-23T15:24:58.733631Z"
    },
    "hidden": true
   },
   "outputs": [],
   "source": [
    "titled_df.shape; # (87869, 13)"
   ]
  },
  {
   "cell_type": "code",
   "execution_count": null,
   "id": "d2c92310",
   "metadata": {
    "hidden": true
   },
   "outputs": [],
   "source": []
  },
  {
   "cell_type": "markdown",
   "id": "0047e6e7",
   "metadata": {
    "hidden": true
   },
   "source": [
    "----"
   ]
  },
  {
   "cell_type": "code",
   "execution_count": null,
   "id": "c7a151c3",
   "metadata": {
    "ExecuteTime": {
     "end_time": "2022-10-23T20:20:25.967172Z",
     "start_time": "2022-10-23T20:20:25.942171Z"
    },
    "hidden": true
   },
   "outputs": [],
   "source": [
    "X_titled, y_titled = hp.X_y_split_simple(titled_df)"
   ]
  },
  {
   "cell_type": "code",
   "execution_count": null,
   "id": "2937834d",
   "metadata": {
    "ExecuteTime": {
     "end_time": "2022-10-23T20:20:26.542463Z",
     "start_time": "2022-10-23T20:20:26.520494Z"
    },
    "hidden": true
   },
   "outputs": [],
   "source": [
    "y_titled.head(2)"
   ]
  },
  {
   "cell_type": "code",
   "execution_count": null,
   "id": "c3b67a33",
   "metadata": {
    "ExecuteTime": {
     "end_time": "2022-10-23T20:20:28.199235Z",
     "start_time": "2022-10-23T20:20:26.870224Z"
    },
    "hidden": true
   },
   "outputs": [],
   "source": [
    "y_titled = hp.y_convert_to_ints(y_titled)"
   ]
  },
  {
   "cell_type": "code",
   "execution_count": null,
   "id": "6f8e5c58",
   "metadata": {
    "ExecuteTime": {
     "end_time": "2022-10-23T20:20:29.288842Z",
     "start_time": "2022-10-23T20:20:29.271775Z"
    },
    "hidden": true
   },
   "outputs": [],
   "source": [
    "y_titled.head(2)"
   ]
  },
  {
   "cell_type": "code",
   "execution_count": null,
   "id": "ac8ae75e",
   "metadata": {
    "ExecuteTime": {
     "end_time": "2022-10-23T20:20:29.525332Z",
     "start_time": "2022-10-23T20:20:29.511332Z"
    },
    "hidden": true
   },
   "outputs": [],
   "source": [
    "y_titled.shape # (87869, 1)"
   ]
  },
  {
   "cell_type": "code",
   "execution_count": null,
   "id": "1108c53b",
   "metadata": {
    "ExecuteTime": {
     "end_time": "2022-10-23T20:20:29.743935Z",
     "start_time": "2022-10-23T20:20:29.722905Z"
    },
    "hidden": true,
    "scrolled": true
   },
   "outputs": [],
   "source": [
    "X_titled.head()"
   ]
  },
  {
   "cell_type": "markdown",
   "id": "cf084ede",
   "metadata": {
    "hidden": true
   },
   "source": [
    "Dropping emt and moves:"
   ]
  },
  {
   "cell_type": "code",
   "execution_count": null,
   "id": "a81ae10e",
   "metadata": {
    "ExecuteTime": {
     "end_time": "2022-10-23T20:20:30.492761Z",
     "start_time": "2022-10-23T20:20:30.482755Z"
    },
    "hidden": true
   },
   "outputs": [],
   "source": [
    "X_titled_ = X_titled.drop(columns=['emt', 'moves'])"
   ]
  },
  {
   "cell_type": "code",
   "execution_count": null,
   "id": "8c6e53ee",
   "metadata": {
    "ExecuteTime": {
     "end_time": "2022-10-23T20:20:30.743681Z",
     "start_time": "2022-10-23T20:20:30.725681Z"
    },
    "hidden": true
   },
   "outputs": [],
   "source": [
    "X_titled_.head()"
   ]
  },
  {
   "cell_type": "markdown",
   "id": "704f1251",
   "metadata": {
    "heading_collapsed": true
   },
   "source": [
    "## Join cheater and human-only"
   ]
  },
  {
   "cell_type": "code",
   "execution_count": null,
   "id": "e374ad17",
   "metadata": {
    "ExecuteTime": {
     "end_time": "2022-10-24T11:28:43.948642Z",
     "start_time": "2022-10-24T11:28:43.389614Z"
    },
    "hidden": true
   },
   "outputs": [],
   "source": [
    "X_CvH_HvH = pd.concat([X_, X_titled_]).reset_index(drop=True)\n",
    "y_CvH_HvH = pd.concat([y, y_titled]).reset_index(drop=True)"
   ]
  },
  {
   "cell_type": "code",
   "execution_count": null,
   "id": "343bd13f",
   "metadata": {
    "ExecuteTime": {
     "end_time": "2022-10-24T11:28:43.950645Z",
     "start_time": "2022-10-24T11:28:43.950645Z"
    },
    "hidden": true
   },
   "outputs": [],
   "source": [
    "# joblib.dump(X_CvH_HvH, 'C:/Users/MaNiL/Desktop/data/capstone/preprocessed/X_CvH_HvH.pkl', compress=9)\n",
    "\n",
    "# joblib.dump(y_CvH_HvH, 'C:/Users/MaNiL/Desktop/data/capstone/preprocessed/y_CvH_HvH.pkl', compress=9)"
   ]
  },
  {
   "cell_type": "code",
   "execution_count": null,
   "id": "6974e171",
   "metadata": {
    "ExecuteTime": {
     "end_time": "2022-10-25T14:26:34.382698Z",
     "start_time": "2022-10-25T14:26:34.193781Z"
    },
    "hidden": true
   },
   "outputs": [],
   "source": [
    "X_CvH_HvH = joblib.load('./data/preprocessed/X_CvH_HvH.pkl')\n",
    "y_CvH_HvH = joblib.load('./data/preprocessed/y_CvH_HvH.pkl')"
   ]
  },
  {
   "cell_type": "code",
   "execution_count": null,
   "id": "ecf5df24",
   "metadata": {
    "ExecuteTime": {
     "end_time": "2022-10-25T14:26:39.077506Z",
     "start_time": "2022-10-25T14:26:39.061461Z"
    },
    "hidden": true
   },
   "outputs": [],
   "source": [
    "X_CvH_HvH"
   ]
  },
  {
   "cell_type": "code",
   "execution_count": null,
   "id": "4b0c88d3",
   "metadata": {
    "ExecuteTime": {
     "end_time": "2022-10-25T14:26:42.130797Z",
     "start_time": "2022-10-25T14:26:42.113798Z"
    },
    "hidden": true
   },
   "outputs": [],
   "source": [
    "y_CvH_HvH"
   ]
  },
  {
   "cell_type": "markdown",
   "id": "c01a55bc",
   "metadata": {
    "hidden": true
   },
   "source": [
    "-----"
   ]
  },
  {
   "cell_type": "markdown",
   "id": "eff60351",
   "metadata": {
    "heading_collapsed": true
   },
   "source": [
    "## Second Pass Modelling"
   ]
  },
  {
   "cell_type": "markdown",
   "id": "ec1c2f7f",
   "metadata": {
    "heading_collapsed": true,
    "hidden": true
   },
   "source": [
    "### Train Test Split"
   ]
  },
  {
   "cell_type": "code",
   "execution_count": null,
   "id": "4a7459fb",
   "metadata": {
    "ExecuteTime": {
     "end_time": "2022-10-23T15:25:32.219784Z",
     "start_time": "2022-10-23T15:25:31.333723Z"
    },
    "hidden": true
   },
   "outputs": [],
   "source": [
    "X_CvH_HvH_train, X_CvH_HvH_test, y_CvH_HvH_train, y_CvH_HvH_test = train_test_split(\n",
    "    X_CvH_HvH, y_CvH_HvH, test_size=0.2, random_state=22, stratify=y_CvH_HvH)"
   ]
  },
  {
   "cell_type": "code",
   "execution_count": null,
   "id": "1dcde683",
   "metadata": {
    "hidden": true
   },
   "outputs": [],
   "source": []
  },
  {
   "cell_type": "code",
   "execution_count": null,
   "id": "866418a0",
   "metadata": {
    "hidden": true
   },
   "outputs": [],
   "source": []
  },
  {
   "cell_type": "markdown",
   "id": "13e40a32",
   "metadata": {
    "hidden": true
   },
   "source": [
    "------"
   ]
  },
  {
   "cell_type": "markdown",
   "id": "6dd3338a",
   "metadata": {
    "heading_collapsed": true,
    "hidden": true
   },
   "source": [
    "### OHE ECO"
   ]
  },
  {
   "cell_type": "code",
   "execution_count": null,
   "id": "20014505",
   "metadata": {
    "ExecuteTime": {
     "end_time": "2022-10-23T15:25:37.660089Z",
     "start_time": "2022-10-23T15:25:37.648123Z"
    },
    "hidden": true
   },
   "outputs": [],
   "source": [
    "# ohe_CvH_HvH = OneHotEncoder(sparse=False, dtype=np.int8(), handle_unknown='ignore')"
   ]
  },
  {
   "cell_type": "code",
   "execution_count": null,
   "id": "1dca2f8d",
   "metadata": {
    "ExecuteTime": {
     "end_time": "2022-10-23T15:25:38.146717Z",
     "start_time": "2022-10-23T15:25:38.136719Z"
    },
    "hidden": true
   },
   "outputs": [],
   "source": [
    "# def OHE_ECO(X_train, X_test):\n",
    "#     ohe_ = OneHotEncoder(sparse=False, dtype=np.int8(), handle_unknown='ignore')\n",
    "#     X_train_temp_ = pd.merge(\n",
    "#         left=X_train.drop(columns=['ECO']).reset_index(drop=True),\n",
    "#         right=pd.DataFrame(ohe_.fit_transform(X_train[['ECO']]),\n",
    "#                            columns=ohe_.get_feature_names_out()),\n",
    "#         how='left',\n",
    "#         left_index=True,\n",
    "#         right_index=True)\n",
    "    \n",
    "#     X_test_temp_ = pd.merge(\n",
    "#         left=X_test.drop(columns=['ECO']).reset_index(drop=True),\n",
    "#         right=pd.DataFrame(ohe_.transform(X_test[['ECO']]),\n",
    "#                            columns=ohe_.get_feature_names_out()),\n",
    "#         how='left',\n",
    "#         left_index=True,\n",
    "#         right_index=True)\n",
    "#     return X_train_temp_, X_test_temp_, ohe_"
   ]
  },
  {
   "cell_type": "code",
   "execution_count": null,
   "id": "b4a74f57",
   "metadata": {
    "ExecuteTime": {
     "end_time": "2022-10-23T15:25:39.622378Z",
     "start_time": "2022-10-23T15:25:38.702836Z"
    },
    "hidden": true
   },
   "outputs": [],
   "source": [
    "X_CvH_HvH_train_, X_CvH_HvH_test_, ohe_CvH_HvH = hp.OHE_ECO(X_CvH_HvH_train, X_CvH_HvH_test)"
   ]
  },
  {
   "cell_type": "code",
   "execution_count": null,
   "id": "3825f0ad",
   "metadata": {
    "ExecuteTime": {
     "end_time": "2022-10-23T15:25:39.637229Z",
     "start_time": "2022-10-23T15:25:39.623267Z"
    },
    "hidden": true
   },
   "outputs": [],
   "source": [
    "X_CvH_HvH_train_.shape"
   ]
  },
  {
   "cell_type": "code",
   "execution_count": null,
   "id": "52a556e5",
   "metadata": {
    "ExecuteTime": {
     "end_time": "2022-10-23T15:25:39.653213Z",
     "start_time": "2022-10-23T15:25:39.638252Z"
    },
    "hidden": true
   },
   "outputs": [],
   "source": [
    "X_CvH_HvH_test_.shape"
   ]
  },
  {
   "cell_type": "code",
   "execution_count": null,
   "id": "f5545e1a",
   "metadata": {
    "hidden": true
   },
   "outputs": [],
   "source": []
  },
  {
   "cell_type": "markdown",
   "id": "f195f97e",
   "metadata": {
    "hidden": true
   },
   "source": [
    "------"
   ]
  },
  {
   "cell_type": "markdown",
   "id": "96c6e5b9",
   "metadata": {
    "heading_collapsed": true,
    "hidden": true
   },
   "source": [
    "### Scale data"
   ]
  },
  {
   "cell_type": "code",
   "execution_count": null,
   "id": "f35369c6",
   "metadata": {
    "ExecuteTime": {
     "end_time": "2022-10-23T15:25:44.891720Z",
     "start_time": "2022-10-23T15:25:44.873740Z"
    },
    "hidden": true
   },
   "outputs": [],
   "source": [
    "stan_scal_CvH_HvH = StandardScaler()"
   ]
  },
  {
   "cell_type": "code",
   "execution_count": null,
   "id": "f11b4077",
   "metadata": {
    "ExecuteTime": {
     "end_time": "2022-10-23T15:25:51.109065Z",
     "start_time": "2022-10-23T15:25:45.083604Z"
    },
    "hidden": true
   },
   "outputs": [],
   "source": [
    "any([any(X_CvH_HvH_train_[col].isna()) for col in X_CvH_HvH_train_.columns]) # Should be False"
   ]
  },
  {
   "cell_type": "markdown",
   "id": "8d5ceb86",
   "metadata": {
    "heading_collapsed": true,
    "hidden": true
   },
   "source": [
    "#### Imputing some BlackRD and WhiteRD values"
   ]
  },
  {
   "cell_type": "code",
   "execution_count": null,
   "id": "8ea9334f",
   "metadata": {
    "ExecuteTime": {
     "end_time": "2022-10-23T15:26:00.662489Z",
     "start_time": "2022-10-23T15:26:00.653487Z"
    },
    "hidden": true
   },
   "outputs": [],
   "source": [
    "# X_CvH_HvH_train_.info(verbose=True)"
   ]
  },
  {
   "cell_type": "code",
   "execution_count": null,
   "id": "41e8a034",
   "metadata": {
    "ExecuteTime": {
     "end_time": "2022-10-23T15:25:51.201786Z",
     "start_time": "2022-10-23T15:25:51.140949Z"
    },
    "hidden": true
   },
   "outputs": [],
   "source": [
    "X_CvH_HvH_train_scaled=X_CvH_HvH_train_.copy()\n",
    "X_CvH_HvH_test_scaled=X_CvH_HvH_test_.copy()"
   ]
  },
  {
   "cell_type": "code",
   "execution_count": null,
   "id": "bf48a62c",
   "metadata": {
    "ExecuteTime": {
     "end_time": "2022-10-23T15:25:51.831441Z",
     "start_time": "2022-10-23T15:25:51.203781Z"
    },
    "hidden": true
   },
   "outputs": [],
   "source": [
    "X_CvH_HvH_train_scaled[['BlackRD', 'WhiteRD']] = np.array([\n",
    "    [np.int8(0) if y=='na' else y for y in x] for x in X_CvH_HvH_train_scaled[['BlackRD', 'WhiteRD']].values\n",
    "    ]) # 402 ms ± 2.73 ms per loop (mean ± std. dev. of 7 runs, 1 loop each)"
   ]
  },
  {
   "cell_type": "code",
   "execution_count": null,
   "id": "8c9eaf7f",
   "metadata": {
    "ExecuteTime": {
     "end_time": "2022-10-23T15:25:53.161918Z",
     "start_time": "2022-10-23T15:25:51.833426Z"
    },
    "hidden": true
   },
   "outputs": [],
   "source": [
    "X_CvH_HvH_test_scaled[['BlackRD', 'WhiteRD']] = np.array([\n",
    "    [np.int8(0) if y=='na' else y for y in x] for x in X_CvH_HvH_test_scaled[['BlackRD', 'WhiteRD']].values\n",
    "    ]) "
   ]
  },
  {
   "cell_type": "code",
   "execution_count": null,
   "id": "04a946cd",
   "metadata": {
    "hidden": true
   },
   "outputs": [],
   "source": []
  },
  {
   "cell_type": "markdown",
   "id": "2e088f9c",
   "metadata": {
    "hidden": true
   },
   "source": [
    "---"
   ]
  },
  {
   "cell_type": "markdown",
   "id": "c8ad1eb8",
   "metadata": {
    "heading_collapsed": true,
    "hidden": true
   },
   "source": [
    "#### Scaling"
   ]
  },
  {
   "cell_type": "code",
   "execution_count": null,
   "id": "d2d7ef59",
   "metadata": {
    "ExecuteTime": {
     "end_time": "2022-10-23T15:26:34.520886Z",
     "start_time": "2022-10-23T15:26:34.154679Z"
    },
    "hidden": true,
    "scrolled": true
   },
   "outputs": [],
   "source": [
    "X_CvH_HvH_train_scaled[['BlackElo', 'BlackRD',\n",
    "                'PlyCount', 'WhiteElo',\n",
    "                'WhiteRD', 'TimeControl_Base', 'TimeControl_Inc']] = stan_scal_CvH_HvH.fit_transform(\n",
    "    X_CvH_HvH_train_scaled[['BlackElo', 'BlackRD', 'PlyCount', 'WhiteElo',\n",
    "                            'WhiteRD', 'TimeControl_Base', 'TimeControl_Inc']])\n",
    "\n",
    "X_CvH_HvH_test_scaled[['BlackElo', 'BlackRD',\n",
    "                'PlyCount', 'WhiteElo',\n",
    "                'WhiteRD', 'TimeControl_Base', 'TimeControl_Inc']] = stan_scal_CvH_HvH.transform(\n",
    "    X_CvH_HvH_test_scaled[['BlackElo', 'BlackRD', 'PlyCount', 'WhiteElo',\n",
    "                           'WhiteRD', 'TimeControl_Base', 'TimeControl_Inc']])\n",
    "\n"
   ]
  },
  {
   "cell_type": "code",
   "execution_count": null,
   "id": "86137d26",
   "metadata": {
    "ExecuteTime": {
     "end_time": "2022-10-23T15:26:34.535875Z",
     "start_time": "2022-10-23T15:26:34.521883Z"
    },
    "hidden": true
   },
   "outputs": [],
   "source": [
    "# X_CvH_HvH_train_scaled.info(verbose=True)"
   ]
  },
  {
   "cell_type": "code",
   "execution_count": null,
   "id": "eb62ad1b",
   "metadata": {
    "ExecuteTime": {
     "end_time": "2022-10-23T15:26:34.739129Z",
     "start_time": "2022-10-23T15:26:34.725167Z"
    },
    "hidden": true
   },
   "outputs": [],
   "source": [
    "X_CvH_HvH_train_scaled.shape"
   ]
  },
  {
   "cell_type": "code",
   "execution_count": null,
   "id": "43d9ce18",
   "metadata": {
    "ExecuteTime": {
     "end_time": "2022-10-23T15:26:35.038048Z",
     "start_time": "2022-10-23T15:26:35.022093Z"
    },
    "hidden": true
   },
   "outputs": [],
   "source": [
    "X_CvH_HvH_test_scaled.shape"
   ]
  },
  {
   "cell_type": "markdown",
   "id": "d598de8e",
   "metadata": {
    "hidden": true
   },
   "source": [
    "-----"
   ]
  },
  {
   "cell_type": "markdown",
   "id": "b24c3de1",
   "metadata": {
    "heading_collapsed": true,
    "hidden": true
   },
   "source": [
    "### Logistic Regression"
   ]
  },
  {
   "cell_type": "code",
   "execution_count": null,
   "id": "1e29dba3",
   "metadata": {
    "ExecuteTime": {
     "end_time": "2022-10-23T15:27:00.571712Z",
     "start_time": "2022-10-23T15:27:00.553760Z"
    },
    "hidden": true
   },
   "outputs": [],
   "source": [
    "logreg_CvH_HvH = LogisticRegression(penalty='l2', max_iter=10000,\n",
    "                           solver='lbfgs', C=1.0) # default settings"
   ]
  },
  {
   "cell_type": "code",
   "execution_count": null,
   "id": "34fb66ed",
   "metadata": {
    "ExecuteTime": {
     "end_time": "2022-10-23T15:27:00.867152Z",
     "start_time": "2022-10-23T15:27:00.853160Z"
    },
    "hidden": true
   },
   "outputs": [],
   "source": [
    "y_CvH_HvH_train.values.shape"
   ]
  },
  {
   "cell_type": "code",
   "execution_count": null,
   "id": "c25725ec",
   "metadata": {
    "ExecuteTime": {
     "end_time": "2022-10-23T15:27:01.227308Z",
     "start_time": "2022-10-23T15:27:01.213345Z"
    },
    "hidden": true
   },
   "outputs": [],
   "source": [
    "np.reshape(y_CvH_HvH_train.values, (-1,)).shape # (159023,)"
   ]
  },
  {
   "cell_type": "code",
   "execution_count": null,
   "id": "8a5b4e07",
   "metadata": {
    "ExecuteTime": {
     "end_time": "2022-10-23T15:27:01.605230Z",
     "start_time": "2022-10-23T15:27:01.588299Z"
    },
    "hidden": true
   },
   "outputs": [],
   "source": [
    "y_CvH_HvH_train_ = np.reshape(y_CvH_HvH_train.values, (-1,))\n",
    "y_CvH_HvH_test_ = np.reshape(y_CvH_HvH_test.values, (-1,))"
   ]
  },
  {
   "cell_type": "code",
   "execution_count": null,
   "id": "eba0d68a",
   "metadata": {
    "ExecuteTime": {
     "end_time": "2022-10-23T15:27:02.430081Z",
     "start_time": "2022-10-23T15:27:02.413100Z"
    },
    "hidden": true
   },
   "outputs": [],
   "source": [
    "X_CvH_HvH_train_scaled.shape"
   ]
  },
  {
   "cell_type": "code",
   "execution_count": null,
   "id": "b5decddf",
   "metadata": {
    "ExecuteTime": {
     "end_time": "2022-10-23T15:27:03.271225Z",
     "start_time": "2022-10-23T15:27:03.254270Z"
    },
    "hidden": true
   },
   "outputs": [],
   "source": [
    "# logreg_CvH_HvH.fit(X_CvH_HvH_train_scaled, y_CvH_HvH_train_)"
   ]
  },
  {
   "cell_type": "code",
   "execution_count": null,
   "id": "33194e9e",
   "metadata": {
    "ExecuteTime": {
     "end_time": "2022-10-23T15:27:03.509193Z",
     "start_time": "2022-10-23T15:27:03.502211Z"
    },
    "hidden": true
   },
   "outputs": [],
   "source": [
    "# joblib.dump(logreg_CvH_HvH, 'C:/Users/Emanuel/Desktop/data/capstone/pickles/first_logreg_CvH_HvH.pkl', compress=7)"
   ]
  },
  {
   "cell_type": "code",
   "execution_count": null,
   "id": "d908c04f",
   "metadata": {
    "ExecuteTime": {
     "end_time": "2022-10-23T15:27:03.851346Z",
     "start_time": "2022-10-23T15:27:03.839351Z"
    },
    "hidden": true
   },
   "outputs": [],
   "source": [
    "logreg_CvH_HvH = joblib.load('./models/first_pass/first_logreg_CvH_HvH.pkl')"
   ]
  },
  {
   "cell_type": "code",
   "execution_count": null,
   "id": "4c74f458",
   "metadata": {
    "ExecuteTime": {
     "end_time": "2022-10-23T15:27:04.494289Z",
     "start_time": "2022-10-23T15:27:04.479329Z"
    },
    "hidden": true
   },
   "outputs": [],
   "source": [
    "y_CvH_HvH_train_.shape"
   ]
  },
  {
   "cell_type": "code",
   "execution_count": null,
   "id": "846ee243",
   "metadata": {
    "ExecuteTime": {
     "end_time": "2022-10-23T15:16:16.600661Z",
     "start_time": "2022-10-23T15:16:16.600661Z"
    },
    "hidden": true
   },
   "outputs": [],
   "source": [
    "# print(f'The accuracy score on the training data is: {logreg_CvH_HvH.score(X_CvH_HvH_train_scaled, y_CvH_HvH_train_)}')\n",
    "# print(f'The accuracy score on the testing data is: {logreg_CvH_HvH.score(X_CvH_HvH_test_scaled, y_CvH_HvH_test_)}')"
   ]
  },
  {
   "cell_type": "code",
   "execution_count": null,
   "id": "8fb69aba",
   "metadata": {
    "ExecuteTime": {
     "end_time": "2022-10-23T15:16:16.601658Z",
     "start_time": "2022-10-23T15:16:16.601658Z"
    },
    "hidden": true
   },
   "outputs": [],
   "source": [
    "# plot_confusion_matrix(logreg_CvH_HvH, X_CvH_HvH_test_scaled, y_CvH_HvH_test_)\n",
    "\n",
    "# logreg_CvH_HvH_y_pred = logreg_CvH_HvH.predict(X_CvH_HvH_test_scaled)\n",
    "# print(classification_report(y_CvH_HvH_test_, logreg_CvH_HvH_y_pred, digits=4))"
   ]
  },
  {
   "cell_type": "code",
   "execution_count": null,
   "id": "1ec9447b",
   "metadata": {
    "ExecuteTime": {
     "end_time": "2022-10-23T15:16:16.603653Z",
     "start_time": "2022-10-23T15:16:16.603653Z"
    },
    "hidden": true
   },
   "outputs": [],
   "source": [
    "# logreg_CvH_HvH_results = pd.DataFrame(\n",
    "#     classification_report(\n",
    "#         y_CvH_HvH_test_, logreg_CvH_HvH_y_pred, output_dict=True)).loc[\n",
    "#     ['precision', 'recall', 'f1-score'],\n",
    "#     ['0', '1', 'accuracy']]"
   ]
  },
  {
   "cell_type": "code",
   "execution_count": null,
   "id": "5ee1b7b4",
   "metadata": {
    "ExecuteTime": {
     "end_time": "2022-10-23T15:16:16.604650Z",
     "start_time": "2022-10-23T15:16:16.604650Z"
    },
    "hidden": true
   },
   "outputs": [],
   "source": [
    "# logreg_CvH_HvH_coefficients = pd.DataFrame(\n",
    "#     data=abs(logreg_CvH_HvH.coef_), columns=logreg_CvH_HvH.feature_names_in_)\n",
    "\n",
    "# # logreg_CvH_HvH_coefficients.T.head(15)\n",
    "\n",
    "# for col in logreg_CvH_HvH_coefficients.T:\n",
    "#     display(logreg_CvH_HvH_coefficients.T[[col]].sort_values(\n",
    "#     by=col, ascending=False).head(15))"
   ]
  },
  {
   "cell_type": "code",
   "execution_count": null,
   "id": "f2abd045",
   "metadata": {
    "hidden": true
   },
   "outputs": [],
   "source": []
  },
  {
   "cell_type": "code",
   "execution_count": null,
   "id": "ab660bd7",
   "metadata": {
    "ExecuteTime": {
     "end_time": "2022-10-23T15:27:09.207787Z",
     "start_time": "2022-10-23T15:27:08.342636Z"
    },
    "hidden": true
   },
   "outputs": [],
   "source": [
    "logreg_CvH_HvH_report, logreg_CvH_HvH_results, logreg_CvH_HvH_coefficients = hp.class_model_eval_logreg(\n",
    "    logreg_CvH_HvH, X_CvH_HvH_train_scaled,\n",
    "    X_CvH_HvH_test_scaled, y_CvH_HvH_train_,\n",
    "    y_CvH_HvH_test_)"
   ]
  },
  {
   "cell_type": "code",
   "execution_count": null,
   "id": "68453c3e",
   "metadata": {
    "hidden": true
   },
   "outputs": [],
   "source": []
  },
  {
   "cell_type": "code",
   "execution_count": null,
   "id": "c79124bf",
   "metadata": {
    "hidden": true
   },
   "outputs": [],
   "source": []
  },
  {
   "cell_type": "markdown",
   "id": "c2ef5f47",
   "metadata": {
    "hidden": true
   },
   "source": [
    "-----"
   ]
  },
  {
   "cell_type": "markdown",
   "id": "5a7760e3",
   "metadata": {
    "heading_collapsed": true,
    "hidden": true
   },
   "source": [
    "###### Making logreg eval function"
   ]
  },
  {
   "cell_type": "code",
   "execution_count": null,
   "id": "d72e4ce1",
   "metadata": {
    "ExecuteTime": {
     "end_time": "2022-10-23T15:27:22.513513Z",
     "start_time": "2022-10-23T15:27:22.495561Z"
    },
    "hidden": true
   },
   "outputs": [],
   "source": [
    "# def class_model_eval_logreg(class_model_, X_train_, X_test_, y_train_, y_test_, digits_=4):\n",
    "#     # print the accuracy on the training and test set\n",
    "#     print(f'The accuracy score on the training data is: {class_model_.score(X_train_, y_train_)}')\n",
    "#     print(f'The accuracy score on the testing data is: {class_model_.score(X_test_, y_test_)}')\n",
    "    \n",
    "#     # plot the confusion matrix\n",
    "#     plot_confusion_matrix(class_model_, X_test_, y_test_)\n",
    "#     plt.show()\n",
    "    \n",
    "#     # classification report\n",
    "#     class_model_pred = class_model_.predict(X_test_)\n",
    "#     report_ = classification_report(y_test_, class_model_pred, digits=digits_)\n",
    "#     print(report_)\n",
    "    \n",
    "#     # model results\n",
    "#     model_results_ = pd.DataFrame(classification_report(y_test_, class_model_pred,\n",
    "#                                                         digits=digits_, output_dict=True)).loc[\n",
    "#         ['precision', 'recall', 'f1-score'],\n",
    "#         ['0', '1', 'accuracy']]\n",
    "    \n",
    "#     # model coefficients\n",
    "#     model_coeffs_ = pd.DataFrame(data=abs(class_model_.coef_),\n",
    "#                                 columns=class_model_.feature_names_in_).T\n",
    "    \n",
    "#     return report_, model_results_, model_coeffs_\n",
    "    \n",
    "    "
   ]
  },
  {
   "cell_type": "code",
   "execution_count": null,
   "id": "cd50cef8",
   "metadata": {
    "ExecuteTime": {
     "end_time": "2022-10-23T15:27:22.778309Z",
     "start_time": "2022-10-23T15:27:22.774325Z"
    },
    "hidden": true
   },
   "outputs": [],
   "source": [
    "# report_test, model_results_test, model_coeffs_test = class_model_eval_logreg(\n",
    "#     logreg_CvH_HvH, X_CvH_HvH_train_scaled,\n",
    "#     X_CvH_HvH_test_scaled, y_CvH_HvH_train_,\n",
    "#     y_CvH_HvH_test_)"
   ]
  },
  {
   "cell_type": "code",
   "execution_count": null,
   "id": "a36571a2",
   "metadata": {
    "ExecuteTime": {
     "end_time": "2022-10-23T15:27:23.044410Z",
     "start_time": "2022-10-23T15:27:23.037405Z"
    },
    "hidden": true
   },
   "outputs": [],
   "source": [
    "# print(report_test)\n",
    "# display(model_results_test)\n",
    "# display(model_coeffs_test)"
   ]
  },
  {
   "cell_type": "code",
   "execution_count": null,
   "id": "a80a76f8",
   "metadata": {
    "ExecuteTime": {
     "end_time": "2022-10-23T15:27:23.530686Z",
     "start_time": "2022-10-23T15:27:23.513735Z"
    },
    "hidden": true
   },
   "outputs": [],
   "source": [
    "# report_test, model_results_test, model_coeffs_test = hp.class_model_eval_logreg(\n",
    "#     logreg_CvH_HvH, X_CvH_HvH_train_scaled,\n",
    "#     X_CvH_HvH_test_scaled, y_CvH_HvH_train_,\n",
    "#     y_CvH_HvH_test_)"
   ]
  },
  {
   "cell_type": "code",
   "execution_count": null,
   "id": "3fa0a328",
   "metadata": {
    "hidden": true
   },
   "outputs": [],
   "source": []
  },
  {
   "cell_type": "markdown",
   "id": "3b5dad73",
   "metadata": {
    "hidden": true
   },
   "source": [
    "-----"
   ]
  },
  {
   "cell_type": "markdown",
   "id": "17fb5200",
   "metadata": {
    "heading_collapsed": true
   },
   "source": [
    "## Investigating distribution and variance of Elo, RD, etc."
   ]
  },
  {
   "cell_type": "markdown",
   "id": "1bc29cff",
   "metadata": {
    "hidden": true
   },
   "source": [
    "### Looking at CvH games"
   ]
  },
  {
   "cell_type": "markdown",
   "id": "3ab32f9d",
   "metadata": {
    "heading_collapsed": true,
    "hidden": true
   },
   "source": [
    "#### Create / Load DataFrame"
   ]
  },
  {
   "cell_type": "code",
   "execution_count": null,
   "id": "460b128b",
   "metadata": {
    "ExecuteTime": {
     "end_time": "2022-10-25T14:22:28.751915Z",
     "start_time": "2022-10-25T14:22:23.366896Z"
    },
    "hidden": true
   },
   "outputs": [],
   "source": [
    "# df_2022_2018_CvH = joblib.load('./data/preprocessed/2022_2018_CvH.pkl')"
   ]
  },
  {
   "cell_type": "code",
   "execution_count": null,
   "id": "35911447",
   "metadata": {
    "ExecuteTime": {
     "end_time": "2022-10-25T14:22:28.783361Z",
     "start_time": "2022-10-25T14:22:28.753804Z"
    },
    "hidden": true
   },
   "outputs": [],
   "source": [
    "# df_2022_2018_CvH.head(1)"
   ]
  },
  {
   "cell_type": "markdown",
   "id": "49cdd7f7",
   "metadata": {
    "hidden": true
   },
   "source": [
    "This pickle does not contain the player names. I may as well go back and use a df which does contain names to see if there are any additional relationships. "
   ]
  },
  {
   "cell_type": "code",
   "execution_count": null,
   "id": "99dc2729",
   "metadata": {
    "ExecuteTime": {
     "end_time": "2022-10-24T14:49:02.618421Z",
     "start_time": "2022-10-24T14:48:54.919854Z"
    },
    "hidden": true
   },
   "outputs": [],
   "source": [
    "# # on vostro laptop\n",
    "# raw_p = [joblib.load(f'C:/Users/MaNiL/Desktop/data/capstone/raw/pickles/{year}_CvH.pkl') for \\\n",
    "#          year in np.arange(2022, 2017, -1)] # load the pickles from 2022 to 2018 inclusive"
   ]
  },
  {
   "cell_type": "code",
   "execution_count": null,
   "id": "d6c257fc",
   "metadata": {
    "ExecuteTime": {
     "end_time": "2022-10-24T14:50:56.112673Z",
     "start_time": "2022-10-24T14:50:56.104673Z"
    },
    "hidden": true
   },
   "outputs": [],
   "source": [
    "# raw_p[0].head(1)\n",
    "# raw_p[0].columns"
   ]
  },
  {
   "cell_type": "code",
   "execution_count": null,
   "id": "7cc6ce7f",
   "metadata": {
    "ExecuteTime": {
     "end_time": "2022-10-24T15:02:25.605635Z",
     "start_time": "2022-10-24T15:02:24.339063Z"
    },
    "hidden": true
   },
   "outputs": [],
   "source": [
    "# df_2022_2018_CvH_raw = hp.concatenate_cleaned_pickles(\n",
    "#     raw_p, list_of_cols=['Event', 'Site', 'Round', 'BlackClock',\n",
    "#                          'FICSGamesDBGameNo', 'Time', 'WhiteClock'])\n",
    "\n",
    "# Shape pre-drop: (198779, 17)\n",
    "# Dropping duplicates...\n",
    "# Shape post-drop: (198539, 17)\n",
    "#  Duplicates dropped: 240"
   ]
  },
  {
   "cell_type": "code",
   "execution_count": null,
   "id": "d267912a",
   "metadata": {
    "ExecuteTime": {
     "end_time": "2022-10-25T16:32:36.898685Z",
     "start_time": "2022-10-25T16:29:35.393241Z"
    },
    "hidden": true
   },
   "outputs": [],
   "source": [
    "# joblib.dump(df_2022_2018_CvH_raw,\n",
    "#            'C:/Users/MaNiL/Desktop/data/capstone/preprocessed/pickles/2022_2018_CvH_distinv.pkl',\n",
    "#            compress=9)"
   ]
  },
  {
   "cell_type": "markdown",
   "id": "29f4b82c",
   "metadata": {
    "hidden": true
   },
   "source": [
    "----"
   ]
  },
  {
   "cell_type": "code",
   "execution_count": null,
   "id": "34c9a800",
   "metadata": {
    "ExecuteTime": {
     "end_time": "2022-10-25T16:26:36.407179Z",
     "start_time": "2022-10-25T16:25:53.031777Z"
    },
    "hidden": true
   },
   "outputs": [],
   "source": [
    "# # on vostro laptop\n",
    "# raw_p = [joblib.load(f'C:/Users/MaNiL/Desktop/data/capstone/raw/pickles/{year}_CvH.pkl') for \\\n",
    "#          year in np.arange(2022, 2017, -1)] # load the pickles from 2022 to 2018 inclusive"
   ]
  },
  {
   "cell_type": "code",
   "execution_count": null,
   "id": "0c59a046",
   "metadata": {
    "ExecuteTime": {
     "end_time": "2022-10-25T16:28:21.029825Z",
     "start_time": "2022-10-25T16:28:20.996773Z"
    },
    "hidden": true
   },
   "outputs": [],
   "source": [
    "# raw_p[0].head(1)\n",
    "# raw_p[0].columns"
   ]
  },
  {
   "cell_type": "code",
   "execution_count": null,
   "id": "d510d978",
   "metadata": {
    "ExecuteTime": {
     "end_time": "2022-10-25T16:26:38.935998Z",
     "start_time": "2022-10-25T16:26:36.426966Z"
    },
    "hidden": true
   },
   "outputs": [],
   "source": [
    "# df_2022_2018_CvH_raw = hp.concatenate_cleaned_pickles(\n",
    "#     raw_p, list_of_cols=['Site', 'Round', 'BlackClock',\n",
    "#                          'FICSGamesDBGameNo', 'Time', 'WhiteClock'])\n",
    "\n",
    "# # All PlyCount values match the length of moves-list\n",
    "# # Shape pre-drop: (198779, 18)\n",
    "# # Dropping duplicates...\n",
    "# # Shape post-drop: (198539, 18)\n",
    "# #  Duplicates dropped: 240"
   ]
  },
  {
   "cell_type": "code",
   "execution_count": null,
   "id": "24671371",
   "metadata": {
    "ExecuteTime": {
     "end_time": "2022-10-25T16:32:36.898685Z",
     "start_time": "2022-10-25T16:29:35.393241Z"
    },
    "hidden": true
   },
   "outputs": [],
   "source": [
    "# joblib.dump(df_2022_2018_CvH_raw,\n",
    "#            'C:/Users/MaNiL/Desktop/data/capstone/preprocessed/2022_2018_CvH_distinv_withevent.pkl',\n",
    "#            compress=9)"
   ]
  },
  {
   "cell_type": "markdown",
   "id": "f0fe1d7f",
   "metadata": {
    "hidden": true
   },
   "source": [
    "-----"
   ]
  },
  {
   "cell_type": "code",
   "execution_count": null,
   "id": "28bc7eb8",
   "metadata": {
    "ExecuteTime": {
     "end_time": "2022-10-25T14:22:34.942383Z",
     "start_time": "2022-10-25T14:22:28.785276Z"
    },
    "hidden": true
   },
   "outputs": [],
   "source": [
    "# # df without event info \n",
    "# df_2022_2018_CvH_distinv = joblib.load(\n",
    "#     './data/preprocessed/2022_2018_CvH_distinv.pkl')"
   ]
  },
  {
   "cell_type": "code",
   "execution_count": null,
   "id": "49774f09",
   "metadata": {
    "ExecuteTime": {
     "end_time": "2022-10-25T14:22:34.942383Z",
     "start_time": "2022-10-25T14:22:28.785276Z"
    },
    "hidden": true
   },
   "outputs": [],
   "source": [
    "# # df with event info to separate rated and unrated\n",
    "\n",
    "# df_2022_2018_CvH_distinv = joblib.load(\n",
    "#     './data/preprocessed/2022_2018_CvH_distinv_withevent.pkl')"
   ]
  },
  {
   "cell_type": "code",
   "execution_count": null,
   "id": "4c984d3b",
   "metadata": {
    "ExecuteTime": {
     "end_time": "2022-10-25T14:22:34.958397Z",
     "start_time": "2022-10-25T14:22:34.945396Z"
    },
    "hidden": true
   },
   "outputs": [],
   "source": [
    "# df_2022_2018_CvH_distinv.head(1)"
   ]
  },
  {
   "cell_type": "markdown",
   "id": "07fcee9f",
   "metadata": {
    "hidden": true
   },
   "source": [
    "-----"
   ]
  },
  {
   "cell_type": "markdown",
   "id": "2b80020c",
   "metadata": {
    "heading_collapsed": true,
    "hidden": true
   },
   "source": [
    "#### Isolating Cheaters"
   ]
  },
  {
   "cell_type": "markdown",
   "id": "1c84b624",
   "metadata": {
    "heading_collapsed": true,
    "hidden": true
   },
   "source": [
    "##### Some tinkering"
   ]
  },
  {
   "cell_type": "code",
   "execution_count": null,
   "id": "eca8d531",
   "metadata": {
    "hidden": true
   },
   "outputs": [],
   "source": [
    "# if white is comp:\n",
    "\n",
    "## store all except ['Black', 'BlackElo', 'BlackIsComp', 'BlackRD', 'WhiteIsComp', 'NoComp']\n",
    "## which is same as storing ['Date', 'ECO', 'PlyCount', 'White', 'WhiteElo', 'WhiteRD', 'emt', 'moves',\n",
    "# 'TimeControl_Base', 'TimeControl_Inc']\n",
    "# is there a speed difference in doing a \"col for col not in [...]\" compared to just  calling cols I want?\n",
    "\n",
    "# if black is comp:\n",
    "\n",
    "## store all except ['White', 'WhiteElo', 'BlackIsComp', 'WhiteRD', 'WhiteIsComp', 'NoComp']\n",
    "## which is same as storing ['Date', 'ECO', 'PlyCount', 'Black', 'BlackElo', 'BlackRD', 'emt', 'moves',\n",
    "# 'TimeControl_Base', 'TimeControl_Inc']\n",
    "\n"
   ]
  },
  {
   "cell_type": "code",
   "execution_count": null,
   "id": "22696fa7",
   "metadata": {
    "ExecuteTime": {
     "end_time": "2022-10-24T22:56:42.236635Z",
     "start_time": "2022-10-24T22:56:42.223669Z"
    },
    "hidden": true
   },
   "outputs": [],
   "source": [
    "# # %%timeit #1min 17s ± 882 ms per loop (mean ± std. dev. of 7 runs, 1 loop each)\n",
    "\n",
    "# testing = [row[1][['Date', 'ECO', 'PlyCount', 'White',\n",
    "#                   'WhiteElo', 'WhiteRD', 'emt', 'moves',\n",
    "#                   'TimeControl_Base', 'TimeControl_Inc']] if row[1]['WhiteIsComp']==1 else\\\n",
    "#            row[1][['Date', 'ECO', 'PlyCount', 'Black',\n",
    "#                   'BlackElo', 'BlackRD', 'emt', 'moves',\n",
    "#                   'TimeControl_Base', 'TimeControl_Inc']] if row[1]['BlackIsComp']==1 else \\\n",
    "#            None for row in df_2022_2018_CvH_distinv.iterrows()]"
   ]
  },
  {
   "cell_type": "code",
   "execution_count": null,
   "id": "78641e96",
   "metadata": {
    "ExecuteTime": {
     "end_time": "2022-10-25T12:34:53.190889Z",
     "start_time": "2022-10-25T12:34:53.184889Z"
    },
    "code_folding": [],
    "hidden": true
   },
   "outputs": [],
   "source": [
    "# # %%timeit # ~ 53\n",
    "\n",
    "# testing = pd.DataFrame([row[1][['Date', 'ECO', 'PlyCount', 'White',\n",
    "#                   'WhiteElo', 'WhiteRD', 'emt', 'moves',\n",
    "#                   'TimeControl_Base', 'TimeControl_Inc']] if row[1]['WhiteIsComp']==1 else\\\n",
    "#            row[1][['Date', 'ECO', 'PlyCount', 'Black',\n",
    "#                   'BlackElo', 'BlackRD', 'emt', 'moves',\n",
    "#                   'TimeControl_Base', 'TimeControl_Inc']] if row[1]['BlackIsComp']==1 else \\\n",
    "#            None for row in df_2022_2018_CvH_distinv.iterrows()])"
   ]
  },
  {
   "cell_type": "code",
   "execution_count": null,
   "id": "95a299e4",
   "metadata": {
    "ExecuteTime": {
     "end_time": "2022-10-25T12:50:21.073590Z",
     "start_time": "2022-10-25T12:50:21.060617Z"
    },
    "hidden": true
   },
   "outputs": [],
   "source": [
    "# testing = pd.DataFrame()"
   ]
  },
  {
   "cell_type": "code",
   "execution_count": null,
   "id": "9595436e",
   "metadata": {
    "ExecuteTime": {
     "end_time": "2022-10-25T12:50:18.654120Z",
     "start_time": "2022-10-25T12:50:18.638149Z"
    },
    "code_folding": [],
    "hidden": true
   },
   "outputs": [],
   "source": [
    "# # %%timeit # ~ 1m 20seconds\n",
    "\n",
    "# testing[['Date', 'ECO', 'PlyCount', 'Cheater',\n",
    "#          'CheaterElo', 'CheaterRD', 'emt', 'moves',\n",
    "#          'TimeControl_Base', 'TimeControl_Inc']] =\\\n",
    "#     [row[1][['Date', 'ECO', 'PlyCount', 'White',\n",
    "#              'WhiteElo', 'WhiteRD', 'emt', 'moves',\n",
    "#              'TimeControl_Base', 'TimeControl_Inc']].rename({\n",
    "#     'White': 'Cheater',\n",
    "#     'WhiteElo': 'CheaterElo',\n",
    "#     'WhiteRD': 'CheaterRD'}) if row[1]['WhiteIsComp']==1 else\\\n",
    "#      row[1][['Date', 'ECO', 'PlyCount', 'Black',\n",
    "#              'BlackElo', 'BlackRD', 'emt', 'moves',\n",
    "#              'TimeControl_Base', 'TimeControl_Inc']].rename({\n",
    "#     'Black': 'Cheater',\n",
    "#     'BlackElo': 'CheaterElo',\n",
    "#     'BlackRD': 'CheaterRD'}) if row[1]['BlackIsComp']==1 else \\\n",
    "#            None for row in df_2022_2018_CvH_distinv.iterrows()]"
   ]
  },
  {
   "cell_type": "code",
   "execution_count": null,
   "id": "0f4e7f2f",
   "metadata": {
    "ExecuteTime": {
     "end_time": "2022-10-25T12:34:54.077180Z",
     "start_time": "2022-10-25T12:34:54.073182Z"
    },
    "code_folding": [],
    "hidden": true
   },
   "outputs": [],
   "source": [
    "# # %%timeit # ~ 1m 19.7seconds\n",
    "\n",
    "# testing = pd.DataFrame([row[1][['Date', 'ECO', 'PlyCount', 'White',\n",
    "#                   'WhiteElo', 'WhiteRD', 'emt', 'moves',\n",
    "#                   'TimeControl_Base', 'TimeControl_Inc']].rename({\n",
    "#     'WhiteElo': 'CheaterElo',\n",
    "#     'WhiteRD': 'CheaterRD'}) if row[1]['WhiteIsComp']==1 else\\\n",
    "#            row[1][['Date', 'ECO', 'PlyCount', 'Black',\n",
    "#                   'BlackElo', 'BlackRD', 'emt', 'moves',\n",
    "#                   'TimeControl_Base', 'TimeControl_Inc']].rename({\n",
    "#     'BlackElo': 'CheaterElo',\n",
    "#     'BlackRD': 'CheaterRD'}) if row[1]['BlackIsComp']==1 else \\\n",
    "#            None for row in df_2022_2018_CvH_distinv.iterrows()])"
   ]
  },
  {
   "cell_type": "code",
   "execution_count": null,
   "id": "8af4c7e6",
   "metadata": {
    "ExecuteTime": {
     "end_time": "2022-10-25T12:35:41.840917Z",
     "start_time": "2022-10-25T12:35:41.833917Z"
    },
    "hidden": true
   },
   "outputs": [],
   "source": [
    "# # %%timeit # 43 s ± 1.18 s per loop (mean ± std. dev. of 7 runs, 1 loop each)\n",
    "\n",
    "# testing = pd.DataFrame([row[1][['Date', 'ECO', 'PlyCount', 'White',\n",
    "#                   'WhiteElo', 'WhiteRD', 'emt', 'moves',\n",
    "#                   'TimeControl_Base', 'TimeControl_Inc']].values if row[1]['WhiteIsComp']==1 else\\\n",
    "#            row[1][['Date', 'ECO', 'PlyCount', 'Black',\n",
    "#                   'BlackElo', 'BlackRD', 'emt', 'moves',\n",
    "#                   'TimeControl_Base', 'TimeControl_Inc']].values if row[1]['BlackIsComp']==1 else \\\n",
    "#            np.NaN for row in df_2022_2018_CvH_distinv.iterrows()])"
   ]
  },
  {
   "cell_type": "markdown",
   "id": "90f5cd1d",
   "metadata": {
    "heading_collapsed": true,
    "hidden": true
   },
   "source": [
    "##### Isolating cheaters"
   ]
  },
  {
   "cell_type": "code",
   "execution_count": null,
   "id": "77d9caca",
   "metadata": {
    "ExecuteTime": {
     "end_time": "2022-10-25T15:30:03.476204Z",
     "start_time": "2022-10-25T15:30:03.220990Z"
    },
    "hidden": true
   },
   "outputs": [],
   "source": [
    "# # %%timeit #143 ms ± 2.03 ms per loop (mean ± std. dev. of 7 runs, 10 loops each)\n",
    "\n",
    "# white_cheaters = df_2022_2018_CvH_distinv[df_2022_2018_CvH_distinv['WhiteIsComp']==1][\n",
    "#     ['Event', 'Date', 'ECO', 'PlyCount', 'White',\n",
    "#      'WhiteElo', 'WhiteRD', 'emt', 'moves',\n",
    "#      'TimeControl_Base', 'TimeControl_Inc']].rename(columns={'White': 'Cheater',\n",
    "#                                                              'WhiteElo': 'CheaterElo',\n",
    "#                                                              'WhiteRD': 'CheaterRD'})\n",
    "# white_cheaters['0_CheaterWasWhite_1_CheaterWasBlack'] = np.int8(0)\n",
    "\n",
    "# black_cheaters = df_2022_2018_CvH_distinv[df_2022_2018_CvH_distinv['BlackIsComp']==1][\n",
    "#     ['Event', 'Date', 'ECO', 'PlyCount', 'Black',\n",
    "#      'BlackElo', 'BlackRD', 'emt', 'moves',\n",
    "#      'TimeControl_Base', 'TimeControl_Inc']].rename(columns={'Black': 'Cheater',\n",
    "#                                                              'BlackElo': 'CheaterElo',\n",
    "#                                                              'BlackRD': 'CheaterRD'})\n",
    "# black_cheaters['0_CheaterWasWhite_1_CheaterWasBlack'] = np.int8(1)\n",
    "\n",
    "# df_2022_2018_C_distinv = pd.concat([\n",
    "#     white_cheaters,\n",
    "#     black_cheaters]).reset_index(drop=True)"
   ]
  },
  {
   "cell_type": "code",
   "execution_count": null,
   "id": "362ee1ac",
   "metadata": {
    "ExecuteTime": {
     "end_time": "2022-10-25T15:40:39.073204Z",
     "start_time": "2022-10-25T15:40:39.054271Z"
    },
    "hidden": true
   },
   "outputs": [],
   "source": [
    "# df_2022_2018_C_distinv.head(1)"
   ]
  },
  {
   "cell_type": "code",
   "execution_count": null,
   "id": "ac8d90bd",
   "metadata": {
    "ExecuteTime": {
     "end_time": "2022-10-25T15:41:01.761249Z",
     "start_time": "2022-10-25T15:41:01.744249Z"
    },
    "hidden": true
   },
   "outputs": [],
   "source": [
    "# df_2022_2018_C_distinv.Cheater.nunique() # 97"
   ]
  },
  {
   "cell_type": "code",
   "execution_count": null,
   "id": "f73bea96",
   "metadata": {
    "ExecuteTime": {
     "end_time": "2022-10-25T15:41:19.797212Z",
     "start_time": "2022-10-25T15:41:19.771200Z"
    },
    "hidden": true
   },
   "outputs": [],
   "source": [
    "# df_2022_2018_C_distinv.Cheater.unique()"
   ]
  },
  {
   "cell_type": "markdown",
   "id": "b482ea64",
   "metadata": {
    "hidden": true
   },
   "source": [
    "------"
   ]
  },
  {
   "cell_type": "markdown",
   "id": "10d66274",
   "metadata": {
    "heading_collapsed": true,
    "hidden": true
   },
   "source": [
    "#### Isolating Non-cheaters"
   ]
  },
  {
   "cell_type": "code",
   "execution_count": null,
   "id": "80d0e68a",
   "metadata": {
    "ExecuteTime": {
     "end_time": "2022-10-25T15:30:46.994305Z",
     "start_time": "2022-10-25T15:30:46.769150Z"
    },
    "hidden": true
   },
   "outputs": [],
   "source": [
    "# # %%timeit #143 ms ± 2.03 ms per loop (mean ± std. dev. of 7 runs, 10 loops each)\n",
    "\n",
    "# white_non_cheaters = df_2022_2018_CvH_distinv[df_2022_2018_CvH_distinv['WhiteIsComp']==0][\n",
    "#     ['Event', 'Date', 'ECO', 'PlyCount', 'White',\n",
    "#      'WhiteElo', 'WhiteRD', 'emt', 'moves',\n",
    "#      'TimeControl_Base', 'TimeControl_Inc']].rename(columns={'White': 'NonCheater',\n",
    "#                                                              'WhiteElo': 'NonCheaterElo',\n",
    "#                                                              'WhiteRD': 'NonCheaterRD'})\n",
    "# white_non_cheaters['0_HumanWasWhite_1_HumanWasBlack'] = np.int8(0)\n",
    "\n",
    "# black_non_cheaters = df_2022_2018_CvH_distinv[df_2022_2018_CvH_distinv['BlackIsComp']==0][\n",
    "#     ['Event', 'Date', 'ECO', 'PlyCount', 'Black',\n",
    "#      'BlackElo', 'BlackRD', 'emt', 'moves',\n",
    "#      'TimeControl_Base', 'TimeControl_Inc']].rename(columns={'Black': 'NonCheater',\n",
    "#                                                              'BlackElo': 'NonCheaterElo',\n",
    "#                                                              'BlackRD': 'NonCheaterRD'})\n",
    "# black_non_cheaters['0_HumanWasWhite_1_HumanWasBlack'] = np.int8(1)\n",
    "\n",
    "# df_2022_2018_H_distinv = pd.concat([\n",
    "#     white_non_cheaters,\n",
    "#     black_non_cheaters]).reset_index(drop=True)"
   ]
  },
  {
   "cell_type": "code",
   "execution_count": null,
   "id": "2eb2778a",
   "metadata": {
    "ExecuteTime": {
     "end_time": "2022-10-25T15:41:31.064269Z",
     "start_time": "2022-10-25T15:41:31.045320Z"
    },
    "hidden": true,
    "scrolled": true
   },
   "outputs": [],
   "source": [
    "# df_2022_2018_H_distinv.head(1)"
   ]
  },
  {
   "cell_type": "code",
   "execution_count": null,
   "id": "d9958535",
   "metadata": {
    "ExecuteTime": {
     "end_time": "2022-10-25T15:41:50.909474Z",
     "start_time": "2022-10-25T15:41:50.879494Z"
    },
    "hidden": true
   },
   "outputs": [],
   "source": [
    "# df_2022_2018_H_distinv.NonCheater.nunique() # 9399"
   ]
  },
  {
   "cell_type": "markdown",
   "id": "7d23af71",
   "metadata": {
    "hidden": true
   },
   "source": [
    "It is encouraging that there are more unique non-cheaters than there are computers. "
   ]
  },
  {
   "cell_type": "code",
   "execution_count": null,
   "id": "9f889916",
   "metadata": {
    "ExecuteTime": {
     "end_time": "2022-10-25T15:42:32.697306Z",
     "start_time": "2022-10-25T15:42:32.667330Z"
    },
    "hidden": true
   },
   "outputs": [],
   "source": [
    "# df_2022_2018_H_distinv.NonCheater.value_counts().head(30)"
   ]
  },
  {
   "cell_type": "markdown",
   "id": "c53de291",
   "metadata": {
    "hidden": true
   },
   "source": [
    "-------"
   ]
  },
  {
   "cell_type": "markdown",
   "id": "72b5ab3d",
   "metadata": {
    "heading_collapsed": true,
    "hidden": true
   },
   "source": [
    "#### Distributions"
   ]
  },
  {
   "cell_type": "code",
   "execution_count": null,
   "id": "6b8a9936",
   "metadata": {
    "ExecuteTime": {
     "end_time": "2022-10-25T15:52:18.218110Z",
     "start_time": "2022-10-25T15:46:30.240369Z"
    },
    "hidden": true
   },
   "outputs": [],
   "source": [
    "# joblib.dump(df_2022_2018_C_distinv, './data/preprocessed/df_2022_2018_C_distinv.pkl',\n",
    "#            compress=9)\n",
    "# joblib.dump(df_2022_2018_H_distinv, './data/preprocessed/df_2022_2018_H_distinv.pkl',\n",
    "#            compress=9)"
   ]
  },
  {
   "cell_type": "code",
   "execution_count": null,
   "id": "269e4290",
   "metadata": {
    "ExecuteTime": {
     "end_time": "2022-10-29T21:43:08.607130Z",
     "start_time": "2022-10-29T21:42:58.798452Z"
    },
    "hidden": true
   },
   "outputs": [],
   "source": [
    "df_2022_2018_C_distinv = joblib.load(\n",
    "    './data/preprocessed/df_2022_2018_C_distinv.pkl')\n",
    "df_2022_2018_H_distinv = joblib.load(\n",
    "    './data/preprocessed/df_2022_2018_H_distinv.pkl')"
   ]
  },
  {
   "cell_type": "code",
   "execution_count": null,
   "id": "366d4925",
   "metadata": {
    "ExecuteTime": {
     "end_time": "2022-10-29T21:43:08.639017Z",
     "start_time": "2022-10-29T21:43:08.608100Z"
    },
    "hidden": true
   },
   "outputs": [],
   "source": [
    "# df_2022_2018_C_distinv.head(2)\n",
    "df_2022_2018_H_distinv.head(2)"
   ]
  },
  {
   "cell_type": "code",
   "execution_count": null,
   "id": "a6cda0a9",
   "metadata": {
    "hidden": true
   },
   "outputs": [],
   "source": []
  },
  {
   "cell_type": "code",
   "execution_count": null,
   "id": "7c72f420",
   "metadata": {
    "hidden": true
   },
   "outputs": [],
   "source": []
  },
  {
   "cell_type": "code",
   "execution_count": null,
   "id": "00734cba",
   "metadata": {
    "ExecuteTime": {
     "end_time": "2022-10-28T12:40:13.949596Z",
     "start_time": "2022-10-28T12:40:10.321707Z"
    },
    "hidden": true
   },
   "outputs": [],
   "source": [
    "# cheaters (rated and unrated)\n",
    "fig = px.histogram(\n",
    "    data_frame=df_2022_2018_C_distinv,\n",
    "    x='CheaterElo',\n",
    "    nbins=(int(df_2022_2018_C_distinv.CheaterElo.describe()['max'] - \\\n",
    "          df_2022_2018_C_distinv.CheaterElo.describe()['min'])),\n",
    "    title='Distribution of Cheater ELO'\n",
    "    \n",
    "    )\n",
    "\n",
    "fig.show()"
   ]
  },
  {
   "cell_type": "code",
   "execution_count": null,
   "id": "58a600c7",
   "metadata": {
    "ExecuteTime": {
     "end_time": "2022-10-28T12:40:14.394595Z",
     "start_time": "2022-10-28T12:40:13.957596Z"
    },
    "hidden": true
   },
   "outputs": [],
   "source": [
    "# non-cheaters (rated and unrated)\n",
    "fig = px.histogram(\n",
    "    data_frame=df_2022_2018_H_distinv,\n",
    "    x='NonCheaterElo',\n",
    "    nbins=(int(df_2022_2018_H_distinv.NonCheaterElo.describe()['max'] - \\\n",
    "          df_2022_2018_H_distinv.NonCheaterElo.describe()['min'])),\n",
    "    title='Distribution of Non-Cheater ELO'\n",
    "    \n",
    "    )\n",
    "\n",
    "fig.show()"
   ]
  },
  {
   "cell_type": "markdown",
   "id": "69ddf0a3",
   "metadata": {
    "hidden": true
   },
   "source": [
    "The spike at 1720-1721 above is probably because there are still unrated games in this dataframe. One's elo doesn't change due to an unrated game which could lead to anomalies like above. It could also be such a spike because that is the elo assigned to new players when they play their first game. Many of these should probably be eliminated from the dataset to minimise the distribution skew.\n",
    "\n",
    "\n",
    "Another thing to investigate is how much is the change in any individual player's elo affecting this distribution i.e. how different would it be if the data was grouped by unique players and their respective elo was averaged across all their games, OR their last elo (date-wise) was used?"
   ]
  },
  {
   "cell_type": "code",
   "execution_count": null,
   "id": "f4bca076",
   "metadata": {
    "ExecuteTime": {
     "end_time": "2022-10-28T12:40:15.120115Z",
     "start_time": "2022-10-28T12:40:14.398594Z"
    },
    "hidden": true
   },
   "outputs": [],
   "source": [
    "# both rated and unrated\n",
    "print('Rated and Unrated:')\n",
    "display(df_2022_2018_C_distinv.CheaterElo.describe().to_frame().T)\n",
    "\n",
    "# # only rated\n",
    "df_2022_2018_C_distinv_rated = df_2022_2018_C_distinv[['rated' in x for x in df_2022_2018_C_distinv.Event]]\n",
    "print('Rated:')\n",
    "display(df_2022_2018_C_distinv.CheaterElo.describe().to_frame().T)\n",
    "\n",
    "# # only unrated\n",
    "df_2022_2018_C_distinv_unrated = df_2022_2018_C_distinv[['unrated' in x for x in df_2022_2018_C_distinv.Event]]\n",
    "print('Unrated:')\n",
    "display(df_2022_2018_C_distinv_unrated.CheaterElo.describe().to_frame().T)"
   ]
  },
  {
   "cell_type": "code",
   "execution_count": null,
   "id": "e947a5ea",
   "metadata": {
    "ExecuteTime": {
     "end_time": "2022-10-28T12:40:15.453116Z",
     "start_time": "2022-10-28T12:40:15.125115Z"
    },
    "hidden": true
   },
   "outputs": [],
   "source": [
    "# both rated and unrated\n",
    "print('Rated and Unrated:')\n",
    "display(df_2022_2018_H_distinv.NonCheaterElo.describe().to_frame().T)\n",
    "\n",
    "# # only rated\n",
    "df_2022_2018_H_distinv_rated = df_2022_2018_H_distinv[['rated' in x for x in df_2022_2018_H_distinv.Event]]\n",
    "print('Rated:')\n",
    "display(df_2022_2018_H_distinv.NonCheaterElo.describe().to_frame().T)\n",
    "\n",
    "# # only unrated\n",
    "df_2022_2018_H_distinv_unrated = df_2022_2018_H_distinv[['unrated' in x for x in df_2022_2018_H_distinv.Event]]\n",
    "print('Unrated:')\n",
    "display(df_2022_2018_H_distinv_unrated.NonCheaterElo.describe().to_frame().T)"
   ]
  },
  {
   "cell_type": "code",
   "execution_count": null,
   "id": "8c2c21d7",
   "metadata": {
    "hidden": true
   },
   "outputs": [],
   "source": []
  },
  {
   "cell_type": "code",
   "execution_count": null,
   "id": "e9db1d44",
   "metadata": {
    "ExecuteTime": {
     "end_time": "2022-10-28T12:40:15.469114Z",
     "start_time": "2022-10-28T12:40:15.458115Z"
    },
    "code_folding": [],
    "hidden": true
   },
   "outputs": [],
   "source": [
    "# # cheaters (unrated)\n",
    "# fig = px.histogram(\n",
    "#     data_frame=df_2022_2018_C_distinv_unrated,\n",
    "#     x='CheaterElo',\n",
    "# #     nbins=(int(df_2022_2018_C_distinv_unrated.CheaterElo.describe()['max'] - \\\n",
    "# #           df_2022_2018_C_distinv_unrated.CheaterElo.describe()['min'])),\n",
    "#     title='Distribution of Cheater ELO in Unrated Games'\n",
    "    \n",
    "#     )\n",
    "\n",
    "# fig.show()\n",
    "\n",
    "# # non-cheaters (unrated)\n",
    "# fig = px.histogram(\n",
    "#     data_frame=df_2022_2018_H_distinv_unrated,\n",
    "#     x='NonCheaterElo',\n",
    "# #     nbins=(int(df_2022_2018_H_distinv_unrated.NonCheaterElo.describe()['max'] - \\\n",
    "# #           df_2022_2018_H_distinv_unrated.NonCheaterElo.describe()['min'])),\n",
    "#     title='Distribution of NonCheater ELO in Unrated Games'\n",
    "    \n",
    "#     )\n",
    "\n",
    "# fig.show()"
   ]
  },
  {
   "cell_type": "code",
   "execution_count": null,
   "id": "4e840b4d",
   "metadata": {
    "hidden": true
   },
   "outputs": [],
   "source": []
  },
  {
   "cell_type": "code",
   "execution_count": null,
   "id": "2ea52e6d",
   "metadata": {
    "ExecuteTime": {
     "end_time": "2022-10-28T12:40:16.011160Z",
     "start_time": "2022-10-28T12:40:15.475121Z"
    },
    "hidden": true
   },
   "outputs": [],
   "source": [
    "fig = go.Figure()\n",
    "fig.add_trace(go.Histogram(x=df_2022_2018_C_distinv_rated['CheaterElo'],\n",
    "                          name='Cheater'))\n",
    "fig.add_trace(go.Histogram(x=df_2022_2018_H_distinv_rated['NonCheaterElo'],\n",
    "                          name='Non-cheater'))\n",
    "\n",
    "fig.update_layout(barmode='overlay',\n",
    "                 title=f'Distribution of Cheater and Non-Cheater Elo in Rated Games',\n",
    "                 xaxis_title='Elo',\n",
    "                 yaxis_title='Count')\n",
    "fig.update_traces(opacity=0.75)\n",
    "\n",
    "fig.show()\n",
    "\n",
    "\n",
    "fig = go.Figure()\n",
    "fig.add_trace(go.Histogram(x=df_2022_2018_C_distinv_unrated['CheaterElo'],\n",
    "                          name='Cheater'))\n",
    "fig.add_trace(go.Histogram(x=df_2022_2018_H_distinv_unrated['NonCheaterElo'],\n",
    "                          name='Non-cheater'))\n",
    "\n",
    "fig.update_layout(barmode='overlay',\n",
    "                 title=f'Distribution of Cheater and Non-Cheater Elo in Unrated Games',\n",
    "                 xaxis_title='Elo',\n",
    "                 yaxis_title='Count')\n",
    "fig.update_traces(opacity=0.75)\n",
    "\n",
    "\n",
    "fig.show()"
   ]
  },
  {
   "cell_type": "code",
   "execution_count": null,
   "id": "41e1bf3a",
   "metadata": {
    "ExecuteTime": {
     "end_time": "2022-10-28T12:40:16.027159Z",
     "start_time": "2022-10-28T12:40:16.015116Z"
    },
    "hidden": true
   },
   "outputs": [],
   "source": [
    "# fig = go.Figure()\n",
    "# fig.add_trace(go.Histogram(x=df_2022_2018_C_distinv_unrated['CheaterElo'],\n",
    "#                           name='Cheater'))\n",
    "# fig.add_trace(go.Histogram(x=df_2022_2018_H_distinv_unrated['NonCheaterElo'],\n",
    "#                           name='Non-cheater'))\n",
    "\n",
    "# fig.update_layout(barmode='overlay',\n",
    "#                  title=f'Distribution of Cheater and Non-Cheater Elo in Unrated Games',\n",
    "#                  xaxis_title='Elo',\n",
    "#                  yaxis_title='Count')\n",
    "# fig.update_traces(opacity=0.75)\n",
    "\n",
    "\n",
    "# fig.show()"
   ]
  },
  {
   "cell_type": "markdown",
   "id": "ecd3211e",
   "metadata": {
    "hidden": true
   },
   "source": [
    "Do the above distributions but across different time controls:"
   ]
  },
  {
   "cell_type": "code",
   "execution_count": null,
   "id": "d89e61ca",
   "metadata": {
    "ExecuteTime": {
     "end_time": "2022-10-28T12:40:16.139231Z",
     "start_time": "2022-10-28T12:40:16.035151Z"
    },
    "hidden": true
   },
   "outputs": [],
   "source": [
    "df_2022_2018_C_distinv_rated_standard = df_2022_2018_C_distinv[[\n",
    "    'rated standard' in x for x in df_2022_2018_C_distinv.Event]]"
   ]
  },
  {
   "cell_type": "code",
   "execution_count": null,
   "id": "4e67ea7e",
   "metadata": {
    "ExecuteTime": {
     "end_time": "2022-10-28T12:40:16.187150Z",
     "start_time": "2022-10-28T12:40:16.144116Z"
    },
    "hidden": true
   },
   "outputs": [],
   "source": [
    "df_2022_2018_C_distinv_rated_standard.head(1) # 87758 rows "
   ]
  },
  {
   "cell_type": "code",
   "execution_count": null,
   "id": "8bf5a00b",
   "metadata": {
    "ExecuteTime": {
     "end_time": "2022-10-28T12:40:16.296161Z",
     "start_time": "2022-10-28T12:40:16.191146Z"
    },
    "hidden": true
   },
   "outputs": [],
   "source": [
    "df_2022_2018_C_distinv_rated_blitz = df_2022_2018_C_distinv[[\n",
    "    'rated blitz' in x for x in df_2022_2018_C_distinv.Event]]"
   ]
  },
  {
   "cell_type": "code",
   "execution_count": null,
   "id": "7fc45d9c",
   "metadata": {
    "ExecuteTime": {
     "end_time": "2022-10-28T12:40:16.328149Z",
     "start_time": "2022-10-28T12:40:16.300154Z"
    },
    "hidden": true
   },
   "outputs": [],
   "source": [
    "df_2022_2018_C_distinv_rated_blitz.head(1)"
   ]
  },
  {
   "cell_type": "code",
   "execution_count": null,
   "id": "7b3dc70d",
   "metadata": {
    "hidden": true
   },
   "outputs": [],
   "source": []
  },
  {
   "cell_type": "code",
   "execution_count": null,
   "id": "869f3bda",
   "metadata": {
    "hidden": true
   },
   "outputs": [],
   "source": []
  },
  {
   "cell_type": "markdown",
   "id": "73192f4f",
   "metadata": {
    "heading_collapsed": true,
    "hidden": true
   },
   "source": [
    "##### Grouping by unique cheaters in unrated and rated"
   ]
  },
  {
   "cell_type": "markdown",
   "id": "2d935753",
   "metadata": {
    "hidden": true
   },
   "source": [
    "Grouping by unique cheaters in unrated:"
   ]
  },
  {
   "cell_type": "code",
   "execution_count": null,
   "id": "7ec1d10e",
   "metadata": {
    "ExecuteTime": {
     "end_time": "2022-10-25T20:26:15.086320Z",
     "start_time": "2022-10-25T20:26:15.063406Z"
    },
    "hidden": true
   },
   "outputs": [],
   "source": [
    "df_2022_2018_C_distinv_unrated.head(2)"
   ]
  },
  {
   "cell_type": "code",
   "execution_count": null,
   "id": "67c6c0c9",
   "metadata": {
    "ExecuteTime": {
     "end_time": "2022-10-25T21:07:23.482632Z",
     "start_time": "2022-10-25T21:07:23.447727Z"
    },
    "hidden": true
   },
   "outputs": [],
   "source": [
    "df_2022_2018_C_distinv_unrated[[\n",
    "    'Cheater', 'CheaterElo', 'CheaterRD',\n",
    "    'TimeControl_Base', 'TimeControl_Inc']].groupby(by=[\n",
    "    'Cheater', 'CheaterElo', 'CheaterRD',\n",
    "    'TimeControl_Base', 'TimeControl_Inc']).count()"
   ]
  },
  {
   "cell_type": "code",
   "execution_count": null,
   "id": "4935ef6f",
   "metadata": {
    "ExecuteTime": {
     "end_time": "2022-10-25T21:06:38.865422Z",
     "start_time": "2022-10-25T21:06:38.857448Z"
    },
    "hidden": true
   },
   "outputs": [],
   "source": [
    "df_2022_2018_C_distinv_unrated.Cheater.nunique()"
   ]
  },
  {
   "cell_type": "code",
   "execution_count": null,
   "id": "9635fc8d",
   "metadata": {
    "ExecuteTime": {
     "end_time": "2022-10-25T21:20:02.546778Z",
     "start_time": "2022-10-25T21:20:02.536804Z"
    },
    "hidden": true
   },
   "outputs": [],
   "source": [
    "df_2022_2018_C_distinv_unrated[['Cheater', 'CheaterElo', 'CheaterRD']].groupby(by=[\n",
    "    'Cheater', 'CheaterElo', 'CheaterRD']).value_counts()\n",
    "\n",
    "# df_2022_2018_C_distinv_unrated.value_counts(subset=['Cheater', 'CheaterElo', 'CheaterRD'])"
   ]
  },
  {
   "cell_type": "code",
   "execution_count": null,
   "id": "312f9044",
   "metadata": {
    "ExecuteTime": {
     "end_time": "2022-10-25T21:19:56.275997Z",
     "start_time": "2022-10-25T21:19:56.256464Z"
    },
    "hidden": true
   },
   "outputs": [],
   "source": [
    "df_2022_2018_C_distinv_unrated.value_counts(subset=['Cheater', 'CheaterElo', 'CheaterRD'])"
   ]
  },
  {
   "cell_type": "code",
   "execution_count": null,
   "id": "2ac050b4",
   "metadata": {
    "ExecuteTime": {
     "end_time": "2022-10-25T21:22:01.121897Z",
     "start_time": "2022-10-25T21:22:01.114891Z"
    },
    "hidden": true
   },
   "outputs": [],
   "source": [
    "df_2022_2018_C_distinv_unrated.value_counts(subset=['Cheater', 'CheaterElo'])"
   ]
  },
  {
   "cell_type": "code",
   "execution_count": null,
   "id": "3360f97d",
   "metadata": {
    "ExecuteTime": {
     "end_time": "2022-10-25T21:28:28.776625Z",
     "start_time": "2022-10-25T21:28:28.757676Z"
    },
    "hidden": true
   },
   "outputs": [],
   "source": [
    "df_2022_2018_C_distinv_unrated.value_counts(subset=['Date', 'Cheater', 'CheaterElo']).reset_index()"
   ]
  },
  {
   "cell_type": "code",
   "execution_count": null,
   "id": "cdc5a384",
   "metadata": {
    "ExecuteTime": {
     "end_time": "2022-10-25T21:32:11.877685Z",
     "start_time": "2022-10-25T21:32:11.855740Z"
    },
    "hidden": true
   },
   "outputs": [],
   "source": [
    "df_2022_2018_C_distinv_unrated.value_counts(subset=[\n",
    "    'Date', 'Cheater','CheaterElo']).reset_index().sort_values(by='Date')"
   ]
  },
  {
   "cell_type": "code",
   "execution_count": null,
   "id": "6a3630e9",
   "metadata": {
    "ExecuteTime": {
     "end_time": "2022-10-25T21:30:40.763302Z",
     "start_time": "2022-10-25T21:30:40.748348Z"
    },
    "hidden": true,
    "scrolled": true
   },
   "outputs": [],
   "source": [
    "df_2022_2018_C_distinv_unrated.value_counts(subset=['Cheater']).reset_index()"
   ]
  },
  {
   "cell_type": "code",
   "execution_count": null,
   "id": "81149d7a",
   "metadata": {
    "hidden": true
   },
   "outputs": [],
   "source": []
  },
  {
   "cell_type": "code",
   "execution_count": null,
   "id": "b2ec7b99",
   "metadata": {
    "hidden": true
   },
   "outputs": [],
   "source": []
  },
  {
   "cell_type": "code",
   "execution_count": null,
   "id": "7b72383a",
   "metadata": {
    "hidden": true
   },
   "outputs": [],
   "source": []
  },
  {
   "cell_type": "markdown",
   "id": "9eed72ea",
   "metadata": {
    "hidden": true
   },
   "source": [
    "Grouping by unique cheaters in rated:"
   ]
  },
  {
   "cell_type": "code",
   "execution_count": null,
   "id": "321985fe",
   "metadata": {
    "ExecuteTime": {
     "end_time": "2022-10-25T21:39:11.999891Z",
     "start_time": "2022-10-25T21:39:11.919547Z"
    },
    "hidden": true
   },
   "outputs": [],
   "source": [
    "df_2022_2018_C_distinv_rated.value_counts(subset=[\n",
    "    'Date', 'Cheater','CheaterElo']).reset_index().sort_values(by='Date')"
   ]
  },
  {
   "cell_type": "code",
   "execution_count": null,
   "id": "c1c1f965",
   "metadata": {
    "ExecuteTime": {
     "end_time": "2022-10-25T22:05:28.651909Z",
     "start_time": "2022-10-25T22:05:28.622958Z"
    },
    "hidden": true
   },
   "outputs": [],
   "source": [
    "df_2022_2018_C_distinv_rated.Cheater.value_counts()"
   ]
  },
  {
   "cell_type": "code",
   "execution_count": null,
   "id": "2aaac236",
   "metadata": {
    "ExecuteTime": {
     "end_time": "2022-10-25T22:05:59.442893Z",
     "start_time": "2022-10-25T22:05:59.385020Z"
    },
    "hidden": true
   },
   "outputs": [],
   "source": [
    "df_2022_2018_C_distinv_rated[\n",
    "    df_2022_2018_C_distinv_rated.Cheater=='exeComp'\n",
    "]"
   ]
  },
  {
   "cell_type": "code",
   "execution_count": null,
   "id": "393fadf4",
   "metadata": {
    "hidden": true
   },
   "outputs": [],
   "source": []
  },
  {
   "cell_type": "code",
   "execution_count": null,
   "id": "1fec9b15",
   "metadata": {
    "hidden": true
   },
   "outputs": [],
   "source": []
  },
  {
   "cell_type": "code",
   "execution_count": null,
   "id": "3a250dfc",
   "metadata": {
    "hidden": true
   },
   "outputs": [],
   "source": []
  },
  {
   "cell_type": "code",
   "execution_count": null,
   "id": "3cb1dfed",
   "metadata": {
    "hidden": true
   },
   "outputs": [],
   "source": [
    "# fig = px.histogram(\n",
    "#     data_frame=iris_df,\n",
    "#     x='petal_width',\n",
    "#     nbins=12,\n",
    "#     title='Petal width distribution',\n",
    "#     labels={\n",
    "#         'petal_width': 'Petal width (cm)'\n",
    "#     }\n",
    "#     )\n",
    "\n",
    "\n",
    "\n",
    "# fig.show()"
   ]
  },
  {
   "cell_type": "code",
   "execution_count": null,
   "id": "f2d6d509",
   "metadata": {
    "hidden": true
   },
   "outputs": [],
   "source": []
  },
  {
   "cell_type": "code",
   "execution_count": null,
   "id": "84074f0d",
   "metadata": {
    "hidden": true
   },
   "outputs": [],
   "source": []
  },
  {
   "cell_type": "code",
   "execution_count": null,
   "id": "53475e6d",
   "metadata": {
    "hidden": true
   },
   "outputs": [],
   "source": []
  },
  {
   "cell_type": "code",
   "execution_count": null,
   "id": "b99015e9",
   "metadata": {
    "hidden": true
   },
   "outputs": [],
   "source": []
  },
  {
   "cell_type": "code",
   "execution_count": null,
   "id": "f0abc9d9",
   "metadata": {
    "hidden": true
   },
   "outputs": [],
   "source": [
    "df_2022_2018_C_distinv.CheaterRD.describe()"
   ]
  },
  {
   "cell_type": "code",
   "execution_count": null,
   "id": "d7a86137",
   "metadata": {
    "hidden": true
   },
   "outputs": [],
   "source": [
    "df_2022_2018_H_distinv.NonCheaterRD.describe()"
   ]
  },
  {
   "cell_type": "code",
   "execution_count": null,
   "id": "88e3518b",
   "metadata": {
    "hidden": true
   },
   "outputs": [],
   "source": []
  },
  {
   "cell_type": "code",
   "execution_count": null,
   "id": "1eb1446b",
   "metadata": {
    "hidden": true
   },
   "outputs": [],
   "source": []
  },
  {
   "cell_type": "code",
   "execution_count": null,
   "id": "6d34b090",
   "metadata": {
    "hidden": true
   },
   "outputs": [],
   "source": []
  },
  {
   "cell_type": "code",
   "execution_count": null,
   "id": "3b3bbd0a",
   "metadata": {
    "hidden": true
   },
   "outputs": [],
   "source": []
  },
  {
   "cell_type": "markdown",
   "id": "38d6cf8e",
   "metadata": {
    "hidden": true
   },
   "source": [
    "#### Looking for the difference in elo between cheater and human:"
   ]
  },
  {
   "cell_type": "code",
   "execution_count": null,
   "id": "40cb533c",
   "metadata": {
    "hidden": true
   },
   "outputs": [],
   "source": [
    "# think about comparing this to the difference in elo between titled players"
   ]
  },
  {
   "cell_type": "code",
   "execution_count": null,
   "id": "bd1df7eb",
   "metadata": {
    "hidden": true
   },
   "outputs": [],
   "source": []
  },
  {
   "cell_type": "code",
   "execution_count": null,
   "id": "800dd256",
   "metadata": {
    "hidden": true
   },
   "outputs": [],
   "source": []
  },
  {
   "cell_type": "code",
   "execution_count": null,
   "id": "2f91c915",
   "metadata": {
    "hidden": true
   },
   "outputs": [],
   "source": []
  },
  {
   "cell_type": "code",
   "execution_count": null,
   "id": "1f600fb3",
   "metadata": {
    "hidden": true
   },
   "outputs": [],
   "source": []
  },
  {
   "cell_type": "code",
   "execution_count": null,
   "id": "9ec6aadb",
   "metadata": {
    "hidden": true
   },
   "outputs": [],
   "source": []
  },
  {
   "cell_type": "code",
   "execution_count": null,
   "id": "6b418740",
   "metadata": {
    "hidden": true
   },
   "outputs": [],
   "source": []
  },
  {
   "cell_type": "code",
   "execution_count": null,
   "id": "a1aa5b35",
   "metadata": {
    "hidden": true
   },
   "outputs": [],
   "source": []
  },
  {
   "cell_type": "markdown",
   "id": "3f3bad14",
   "metadata": {
    "hidden": true
   },
   "source": [
    "------"
   ]
  },
  {
   "cell_type": "markdown",
   "id": "22637f7a",
   "metadata": {
    "hidden": true
   },
   "source": [
    "### Looking at Titled HvH games"
   ]
  },
  {
   "cell_type": "markdown",
   "id": "3584b63d",
   "metadata": {
    "hidden": true
   },
   "source": [
    "#### Create / Load DataFrame"
   ]
  },
  {
   "cell_type": "code",
   "execution_count": null,
   "id": "8b0d78be",
   "metadata": {
    "ExecuteTime": {
     "end_time": "2022-10-26T21:52:30.830210Z",
     "start_time": "2022-10-26T21:52:26.078046Z"
    },
    "hidden": true
   },
   "outputs": [],
   "source": [
    "df_2022_2018_HvH = joblib.load('./data/preprocessed/2021_2017_titled.pkl')"
   ]
  },
  {
   "cell_type": "code",
   "execution_count": null,
   "id": "bdb843ca",
   "metadata": {
    "ExecuteTime": {
     "end_time": "2022-10-26T21:52:30.878204Z",
     "start_time": "2022-10-26T21:52:30.837204Z"
    },
    "hidden": true
   },
   "outputs": [],
   "source": [
    "df_2022_2018_HvH.head(1)"
   ]
  },
  {
   "cell_type": "markdown",
   "id": "4e68200f",
   "metadata": {
    "hidden": true
   },
   "source": [
    "This pickle does not contain the player names. I may as well go back and use a df which does contain names to see if there are any additional relationships. "
   ]
  },
  {
   "cell_type": "code",
   "execution_count": null,
   "id": "f2b89df7",
   "metadata": {
    "ExecuteTime": {
     "end_time": "2022-10-26T21:52:30.894205Z",
     "start_time": "2022-10-26T21:52:30.879204Z"
    },
    "hidden": true
   },
   "outputs": [],
   "source": [
    "# # on Muninn\n",
    "# raw_p = [pd.read_json(\n",
    "#     f'C:/Users/Emanuel/Desktop/data/capstone/raw/json/Titled/ficsgamesdb_{year}_titled_movetimes_26{val}.json') \\\n",
    "#                    for year, val in zip(np.arange(2021, 2016, -1), [4827, 5091, 5092, 5093, 5094])]"
   ]
  },
  {
   "cell_type": "code",
   "execution_count": null,
   "id": "6205238f",
   "metadata": {
    "ExecuteTime": {
     "end_time": "2022-10-26T21:52:30.910204Z",
     "start_time": "2022-10-26T21:52:30.896204Z"
    },
    "hidden": true
   },
   "outputs": [],
   "source": [
    "# # raw_p[0].head(1)\n",
    "# raw_p[0].columns"
   ]
  },
  {
   "cell_type": "code",
   "execution_count": null,
   "id": "fded398c",
   "metadata": {
    "ExecuteTime": {
     "end_time": "2022-10-26T21:52:30.926204Z",
     "start_time": "2022-10-26T21:52:30.912204Z"
    },
    "hidden": true
   },
   "outputs": [],
   "source": [
    "# df_2021_2017_HvH_raw = hp.concatenate_cleaned_pickles(\n",
    "#     raw_p, list_of_cols=['Event', 'Site', 'Round', 'BlackClock',\n",
    "#                          'FICSGamesDBGameNo', 'Time', 'WhiteClock'])\n",
    "\n",
    "# # All PlyCount values match the length of moves-list\n",
    "# # Shape pre-drop: (88017, 17)\n",
    "# # Dropping duplicates...\n",
    "# # Shape post-drop: (87982, 17)\n",
    "# #  Duplicates dropped: 35"
   ]
  },
  {
   "cell_type": "code",
   "execution_count": null,
   "id": "d42275c4",
   "metadata": {
    "ExecuteTime": {
     "end_time": "2022-10-26T21:52:30.942204Z",
     "start_time": "2022-10-26T21:52:30.928204Z"
    },
    "hidden": true
   },
   "outputs": [],
   "source": [
    "# joblib.dump(df_2021_2017_HvH_raw,\n",
    "#            'C:/Users/Emanuel/Desktop/data/capstone/preprocessed/2021_2017_titled_distinv.pkl',\n",
    "#            compress=9)"
   ]
  },
  {
   "cell_type": "code",
   "execution_count": null,
   "id": "de9fb71e",
   "metadata": {
    "ExecuteTime": {
     "end_time": "2022-10-28T12:40:38.133214Z",
     "start_time": "2022-10-28T12:40:16.333115Z"
    },
    "hidden": true
   },
   "outputs": [],
   "source": [
    "df_2021_2017_titled_distinv = joblib.load(\n",
    "    './data/preprocessed/2021_2017_titled_distinv.pkl')"
   ]
  },
  {
   "cell_type": "code",
   "execution_count": null,
   "id": "a734c366",
   "metadata": {
    "ExecuteTime": {
     "end_time": "2022-10-28T12:40:38.225437Z",
     "start_time": "2022-10-28T12:40:38.143938Z"
    },
    "hidden": true
   },
   "outputs": [],
   "source": [
    "df_2021_2017_titled_distinv.head(1)"
   ]
  },
  {
   "cell_type": "code",
   "execution_count": null,
   "id": "e78d3266",
   "metadata": {
    "ExecuteTime": {
     "end_time": "2022-10-28T12:40:38.241366Z",
     "start_time": "2022-10-28T12:40:38.230365Z"
    },
    "hidden": true
   },
   "outputs": [],
   "source": [
    "# show distribution for all games, rated, and unrated games"
   ]
  },
  {
   "cell_type": "code",
   "execution_count": null,
   "id": "c42c9206",
   "metadata": {
    "ExecuteTime": {
     "end_time": "2022-10-28T12:40:38.385365Z",
     "start_time": "2022-10-28T12:40:38.247408Z"
    },
    "hidden": true
   },
   "outputs": [],
   "source": [
    "BlackElo_=df_2021_2017_titled_distinv[['Event', 'Date', 'BlackElo', 'BlackRD']].rename(columns={\n",
    "    'BlackElo': 'Elo',\n",
    "    'BlackRD': 'RD'})\n",
    "WhiteElo_=df_2021_2017_titled_distinv[['Event', 'Date', 'WhiteElo', 'WhiteRD']].rename(columns={\n",
    "    'WhiteElo': 'Elo',\n",
    "    'WhiteRD': 'RD'})\n",
    "\n",
    "Titled_Elos = pd.concat([BlackElo_, WhiteElo_]).reset_index()\n",
    "\n",
    "Titled_Elos.head()"
   ]
  },
  {
   "cell_type": "code",
   "execution_count": null,
   "id": "be7369a2",
   "metadata": {
    "ExecuteTime": {
     "end_time": "2022-10-28T12:40:38.764583Z",
     "start_time": "2022-10-28T12:40:38.391367Z"
    },
    "hidden": true
   },
   "outputs": [],
   "source": [
    "# fig = px.histogram(\n",
    "#     data_frame=Titled_Elos,\n",
    "#     x='Elo',\n",
    "#     nbins=(int(Titled_Elos.Elo.describe()['max'] - \\\n",
    "#           Titled_Elos.Elo.describe()['min'])),\n",
    "#     title='Distribution of Titled PLayer ELO'\n",
    "    \n",
    "#     )\n",
    "\n",
    "# fig.show()\n",
    "\n",
    "fig = px.histogram(\n",
    "    data_frame=Titled_Elos,\n",
    "    x='Elo',\n",
    "#     nbins=(int(Titled_Elos.Elo.describe()['max'] - \\\n",
    "#           Titled_Elos.Elo.describe()['min'])),\n",
    "    title='Distribution of Titled PLayer ELO'\n",
    "    \n",
    "    )\n",
    "\n",
    "fig.show()"
   ]
  },
  {
   "cell_type": "code",
   "execution_count": null,
   "id": "36b750b9",
   "metadata": {
    "hidden": true
   },
   "outputs": [],
   "source": []
  },
  {
   "cell_type": "code",
   "execution_count": null,
   "id": "425c792b",
   "metadata": {
    "hidden": true
   },
   "outputs": [],
   "source": []
  },
  {
   "cell_type": "code",
   "execution_count": null,
   "id": "3da57fea",
   "metadata": {
    "ExecuteTime": {
     "end_time": "2022-10-26T21:52:47.561675Z",
     "start_time": "2022-10-26T21:52:47.546742Z"
    },
    "hidden": true
   },
   "outputs": [],
   "source": [
    "# calculate the difference in elos across opponents for rated and unrated games"
   ]
  },
  {
   "cell_type": "code",
   "execution_count": null,
   "id": "e37895ce",
   "metadata": {
    "ExecuteTime": {
     "end_time": "2022-10-28T12:40:39.461600Z",
     "start_time": "2022-10-28T12:40:38.769587Z"
    },
    "hidden": true
   },
   "outputs": [],
   "source": [
    "fig = px.histogram(\n",
    "    data_frame=Titled_Elos[['rated' in event for event in Titled_Elos.Event]],\n",
    "    x='Elo',\n",
    "#     nbins=(int(Titled_Elos.Elo.describe()['max'] - \\\n",
    "#           Titled_Elos.Elo.describe()['min'])),\n",
    "    title='Distribution of Titled PLayer ELO in Rated Games'\n",
    "    \n",
    "    )\n",
    "\n",
    "fig.show()\n",
    "\n",
    "fig = px.histogram(\n",
    "    data_frame=Titled_Elos[['unrated' in event for event in Titled_Elos.Event]],\n",
    "    x='Elo',\n",
    "#     nbins=(int(Titled_Elos.Elo.describe()['max'] - \\\n",
    "#           Titled_Elos.Elo.describe()['min'])),\n",
    "    title='Distribution of Titled PLayer ELO in Unrated Games'\n",
    "    \n",
    "    )\n",
    "\n",
    "fig.show()"
   ]
  },
  {
   "cell_type": "code",
   "execution_count": null,
   "id": "9c03a230",
   "metadata": {
    "hidden": true
   },
   "outputs": [],
   "source": []
  },
  {
   "cell_type": "code",
   "execution_count": null,
   "id": "dc663500",
   "metadata": {
    "hidden": true
   },
   "outputs": [],
   "source": []
  },
  {
   "cell_type": "code",
   "execution_count": null,
   "id": "80d2341b",
   "metadata": {
    "hidden": true
   },
   "outputs": [],
   "source": []
  },
  {
   "cell_type": "code",
   "execution_count": null,
   "id": "f4c16151",
   "metadata": {
    "hidden": true
   },
   "outputs": [],
   "source": []
  },
  {
   "cell_type": "markdown",
   "id": "74be5a01",
   "metadata": {
    "hidden": true
   },
   "source": [
    "----"
   ]
  },
  {
   "cell_type": "markdown",
   "id": "38d43ad6",
   "metadata": {
    "heading_collapsed": true
   },
   "source": [
    "## Checking PlyCount Matches Length of moves"
   ]
  },
  {
   "cell_type": "code",
   "execution_count": null,
   "id": "6290d814",
   "metadata": {
    "hidden": true
   },
   "outputs": [],
   "source": [
    "# Using df_2022_2018_CvH_distinv for now:"
   ]
  },
  {
   "cell_type": "code",
   "execution_count": null,
   "id": "02347bab",
   "metadata": {
    "ExecuteTime": {
     "end_time": "2022-10-24T15:20:51.530108Z",
     "start_time": "2022-10-24T15:20:40.012445Z"
    },
    "hidden": true
   },
   "outputs": [],
   "source": [
    "df_2022_2018_CvH_distinv = joblib.load(\n",
    "    './data/preprocessed/2022_2018_CvH_distinv.pkl')"
   ]
  },
  {
   "cell_type": "code",
   "execution_count": null,
   "id": "aa67d8bc",
   "metadata": {
    "ExecuteTime": {
     "end_time": "2022-10-24T15:21:09.028162Z",
     "start_time": "2022-10-24T15:21:08.985161Z"
    },
    "hidden": true
   },
   "outputs": [],
   "source": [
    "df_2022_2018_CvH_distinv.head(1)"
   ]
  },
  {
   "cell_type": "code",
   "execution_count": null,
   "id": "f7b9b32a",
   "metadata": {
    "ExecuteTime": {
     "end_time": "2022-10-24T15:45:04.093324Z",
     "start_time": "2022-10-24T15:45:04.073351Z"
    },
    "hidden": true
   },
   "outputs": [],
   "source": [
    "type(df_2022_2018_CvH_distinv.iloc[0].moves) # list !!!\n",
    "# len(df_2022_2018_CvH_distinv.iloc[0].moves)"
   ]
  },
  {
   "cell_type": "code",
   "execution_count": null,
   "id": "95611b46",
   "metadata": {
    "ExecuteTime": {
     "end_time": "2022-10-24T16:37:51.109518Z",
     "start_time": "2022-10-24T16:37:51.019435Z"
    },
    "hidden": true
   },
   "outputs": [],
   "source": [
    "# list comprehension to check for each row\n",
    "\n",
    "# fastest method found in testing\n",
    "\n",
    "ply_movelen_check_list = all(\n",
    "    [len(row[0])==row[1] for row in zip(\n",
    "        df_2022_2018_CvH_distinv.moves, df_2022_2018_CvH_distinv.PlyCount)])\n",
    "ply_movelen_check_list"
   ]
  },
  {
   "cell_type": "markdown",
   "id": "2cb5f203",
   "metadata": {
    "hidden": true
   },
   "source": [
    "----"
   ]
  },
  {
   "cell_type": "markdown",
   "id": "e78f7c0d",
   "metadata": {
    "heading_collapsed": true
   },
   "source": [
    "## Extracting emt"
   ]
  },
  {
   "cell_type": "code",
   "execution_count": 10,
   "id": "f9215491",
   "metadata": {
    "ExecuteTime": {
     "end_time": "2022-10-30T17:05:45.671885Z",
     "start_time": "2022-10-30T17:05:45.653886Z"
    },
    "hidden": true
   },
   "outputs": [
    {
     "data": {
      "text/html": [
       "<div>\n",
       "<style scoped>\n",
       "    .dataframe tbody tr th:only-of-type {\n",
       "        vertical-align: middle;\n",
       "    }\n",
       "\n",
       "    .dataframe tbody tr th {\n",
       "        vertical-align: top;\n",
       "    }\n",
       "\n",
       "    .dataframe thead th {\n",
       "        text-align: right;\n",
       "    }\n",
       "</style>\n",
       "<table border=\"1\" class=\"dataframe\">\n",
       "  <thead>\n",
       "    <tr style=\"text-align: right;\">\n",
       "      <th></th>\n",
       "      <th>Event</th>\n",
       "      <th>Date</th>\n",
       "      <th>White</th>\n",
       "      <th>Black</th>\n",
       "      <th>Result</th>\n",
       "      <th>BlackElo</th>\n",
       "      <th>BlackRD</th>\n",
       "      <th>ECO</th>\n",
       "      <th>PlyCount</th>\n",
       "      <th>WhiteElo</th>\n",
       "      <th>WhiteRD</th>\n",
       "      <th>emt</th>\n",
       "      <th>moves</th>\n",
       "      <th>WhiteIsComp</th>\n",
       "      <th>BlackIsComp</th>\n",
       "      <th>NoComp</th>\n",
       "      <th>TimeControl_Base</th>\n",
       "      <th>TimeControl_Inc</th>\n",
       "    </tr>\n",
       "  </thead>\n",
       "  <tbody>\n",
       "    <tr>\n",
       "      <th>0</th>\n",
       "      <td>FICS rated blitz game</td>\n",
       "      <td>2021-01-03</td>\n",
       "      <td>sviswa</td>\n",
       "      <td>ForgacsJ(FM)</td>\n",
       "      <td>0-1</td>\n",
       "      <td>2047</td>\n",
       "      <td>0</td>\n",
       "      <td>A43</td>\n",
       "      <td>22</td>\n",
       "      <td>1778</td>\n",
       "      <td>0</td>\n",
       "      <td>[[%emt 0.0], [%emt 0.0], [%emt 2.894], [%emt 0...</td>\n",
       "      <td>[d4, c5, d5, g6, Nf3, Bg7, e3, Nf6, Be2, O-O, ...</td>\n",
       "      <td>0</td>\n",
       "      <td>0</td>\n",
       "      <td>1</td>\n",
       "      <td>180</td>\n",
       "      <td>0</td>\n",
       "    </tr>\n",
       "  </tbody>\n",
       "</table>\n",
       "</div>"
      ],
      "text/plain": [
       "                   Event       Date   White         Black Result  BlackElo  \\\n",
       "0  FICS rated blitz game 2021-01-03  sviswa  ForgacsJ(FM)    0-1      2047   \n",
       "\n",
       "  BlackRD  ECO  PlyCount  WhiteElo WhiteRD  \\\n",
       "0       0  A43        22      1778       0   \n",
       "\n",
       "                                                 emt  \\\n",
       "0  [[%emt 0.0], [%emt 0.0], [%emt 2.894], [%emt 0...   \n",
       "\n",
       "                                               moves  WhiteIsComp  \\\n",
       "0  [d4, c5, d5, g6, Nf3, Bg7, e3, Nf6, Be2, O-O, ...            0   \n",
       "\n",
       "   BlackIsComp  NoComp  TimeControl_Base  TimeControl_Inc  \n",
       "0            0       1               180                0  "
      ]
     },
     "execution_count": 10,
     "metadata": {},
     "output_type": "execute_result"
    }
   ],
   "source": [
    "df_2021_2017_titled_distinv.head(1)"
   ]
  },
  {
   "cell_type": "code",
   "execution_count": 194,
   "id": "6e245744",
   "metadata": {
    "ExecuteTime": {
     "end_time": "2022-10-30T23:01:29.078510Z",
     "start_time": "2022-10-30T23:01:29.059463Z"
    },
    "hidden": true
   },
   "outputs": [],
   "source": [
    "sample_emt = df_2021_2017_titled_distinv.emt.sample(20)"
   ]
  },
  {
   "cell_type": "code",
   "execution_count": 196,
   "id": "12659fe0",
   "metadata": {
    "ExecuteTime": {
     "end_time": "2022-10-30T23:01:32.911015Z",
     "start_time": "2022-10-30T23:01:32.907022Z"
    },
    "hidden": true
   },
   "outputs": [],
   "source": [
    "# type(sample_emt) # series"
   ]
  },
  {
   "cell_type": "code",
   "execution_count": 149,
   "id": "65c9154d",
   "metadata": {
    "ExecuteTime": {
     "end_time": "2022-10-30T21:55:28.934906Z",
     "start_time": "2022-10-30T21:55:28.925928Z"
    },
    "hidden": true
   },
   "outputs": [],
   "source": [
    "# sample_emt.shape # (20,)"
   ]
  },
  {
   "cell_type": "code",
   "execution_count": 150,
   "id": "fad18f54",
   "metadata": {
    "ExecuteTime": {
     "end_time": "2022-10-30T21:55:28.996536Z",
     "start_time": "2022-10-30T21:55:28.990568Z"
    },
    "hidden": true
   },
   "outputs": [],
   "source": [
    "# sample_emt.iloc[0][0:]"
   ]
  },
  {
   "cell_type": "code",
   "execution_count": 156,
   "id": "933df862",
   "metadata": {
    "ExecuteTime": {
     "end_time": "2022-10-30T21:56:59.139732Z",
     "start_time": "2022-10-30T21:56:59.131732Z"
    },
    "hidden": true
   },
   "outputs": [],
   "source": [
    "# tm = re.search('[0-9]+\\.[0-9]+', sample_emt.iloc[0][0])\n",
    "# display(tm.)\n",
    "# display(tm.group())\n",
    "# display(float(tm.group()))"
   ]
  },
  {
   "cell_type": "code",
   "execution_count": 140,
   "id": "08fe604f",
   "metadata": {
    "ExecuteTime": {
     "end_time": "2022-10-30T19:44:54.479569Z",
     "start_time": "2022-10-30T19:44:54.474602Z"
    },
    "hidden": true
   },
   "outputs": [],
   "source": [
    "# [float(re.search('[0-9]+\\.[0-9]+', time_).group()) for time_ in sample_emt.iloc[0]]"
   ]
  },
  {
   "cell_type": "code",
   "execution_count": 138,
   "id": "0c3c51bb",
   "metadata": {
    "ExecuteTime": {
     "end_time": "2022-10-30T19:42:34.061790Z",
     "start_time": "2022-10-30T19:42:34.052775Z"
    },
    "hidden": true
   },
   "outputs": [],
   "source": [
    "# def extract_emt_elements(game):\n",
    "#     times_ = [float(re.search('[0-9]+\\.[0-9]+', time_).group()) for time_ in game]\n",
    "#     return times_\n",
    "\n",
    "# def extract_all_emt_elements(series_of_games):\n",
    "#     times_ = [extract_emt_elements(game_) for game_ in series_of_games]\n",
    "#     return times_"
   ]
  },
  {
   "cell_type": "code",
   "execution_count": 154,
   "id": "7179b155",
   "metadata": {
    "ExecuteTime": {
     "end_time": "2022-10-30T21:56:18.125912Z",
     "start_time": "2022-10-30T21:56:18.117914Z"
    },
    "hidden": true
   },
   "outputs": [],
   "source": [
    "# extract_emt_elements(sample_emt.iloc[0]);\n",
    "# extract_emt_elements(sample_emt.iloc[0])==\\\n",
    "# [float(re.search('[0-9]+\\.[0-9]+', time_).group()) for time_ in sample_emt.iloc[0]] # True"
   ]
  },
  {
   "cell_type": "code",
   "execution_count": 155,
   "id": "392471f5",
   "metadata": {
    "ExecuteTime": {
     "end_time": "2022-10-30T21:56:18.281510Z",
     "start_time": "2022-10-30T21:56:18.272514Z"
    },
    "hidden": true
   },
   "outputs": [],
   "source": [
    "# [type(val) for val in sample_emt]\n",
    "# [extract_emt_elements(val) for val in sample_emt]==extract_all_emt_elements(sample_emt) # True"
   ]
  },
  {
   "cell_type": "code",
   "execution_count": 205,
   "id": "dcde009e",
   "metadata": {
    "ExecuteTime": {
     "end_time": "2022-10-30T23:08:16.765769Z",
     "start_time": "2022-10-30T23:08:16.754738Z"
    },
    "hidden": true
   },
   "outputs": [],
   "source": [
    "# extract_all_emt_elements(df_2021_2017_titled_distinv.emt) # works"
   ]
  },
  {
   "cell_type": "code",
   "execution_count": null,
   "id": "fa24354b",
   "metadata": {
    "hidden": true
   },
   "outputs": [],
   "source": []
  },
  {
   "cell_type": "code",
   "execution_count": 248,
   "id": "a56e7f25",
   "metadata": {
    "ExecuteTime": {
     "end_time": "2022-10-30T23:32:58.395889Z",
     "start_time": "2022-10-30T23:32:58.347890Z"
    },
    "hidden": true
   },
   "outputs": [
    {
     "data": {
      "text/html": [
       "<div>\n",
       "<style scoped>\n",
       "    .dataframe tbody tr th:only-of-type {\n",
       "        vertical-align: middle;\n",
       "    }\n",
       "\n",
       "    .dataframe tbody tr th {\n",
       "        vertical-align: top;\n",
       "    }\n",
       "\n",
       "    .dataframe thead th {\n",
       "        text-align: right;\n",
       "    }\n",
       "</style>\n",
       "<table border=\"1\" class=\"dataframe\">\n",
       "  <thead>\n",
       "    <tr style=\"text-align: right;\">\n",
       "      <th></th>\n",
       "      <th>Event</th>\n",
       "      <th>Date</th>\n",
       "      <th>White</th>\n",
       "      <th>Black</th>\n",
       "      <th>Result</th>\n",
       "      <th>BlackElo</th>\n",
       "      <th>BlackRD</th>\n",
       "      <th>ECO</th>\n",
       "      <th>PlyCount</th>\n",
       "      <th>WhiteElo</th>\n",
       "      <th>WhiteRD</th>\n",
       "      <th>emt</th>\n",
       "      <th>moves</th>\n",
       "      <th>WhiteIsComp</th>\n",
       "      <th>BlackIsComp</th>\n",
       "      <th>NoComp</th>\n",
       "      <th>TimeControl_Base</th>\n",
       "      <th>TimeControl_Inc</th>\n",
       "    </tr>\n",
       "  </thead>\n",
       "  <tbody>\n",
       "    <tr>\n",
       "      <th>233</th>\n",
       "      <td>FICS rated blitz game</td>\n",
       "      <td>2021-01-29</td>\n",
       "      <td>Groemaz</td>\n",
       "      <td>ForgacsJ(FM)</td>\n",
       "      <td>0-1</td>\n",
       "      <td>2003</td>\n",
       "      <td>0</td>\n",
       "      <td>A00</td>\n",
       "      <td>0</td>\n",
       "      <td>1801</td>\n",
       "      <td>0</td>\n",
       "      <td>[]</td>\n",
       "      <td>[]</td>\n",
       "      <td>0</td>\n",
       "      <td>0</td>\n",
       "      <td>1</td>\n",
       "      <td>180</td>\n",
       "      <td>0</td>\n",
       "    </tr>\n",
       "    <tr>\n",
       "      <th>276</th>\n",
       "      <td>FICS rated blitz game</td>\n",
       "      <td>2021-02-02</td>\n",
       "      <td>stupidnewbie</td>\n",
       "      <td>ForgacsJ(FM)</td>\n",
       "      <td>1-0</td>\n",
       "      <td>2021</td>\n",
       "      <td>0</td>\n",
       "      <td>A00</td>\n",
       "      <td>0</td>\n",
       "      <td>2015</td>\n",
       "      <td>0</td>\n",
       "      <td>[]</td>\n",
       "      <td>[]</td>\n",
       "      <td>0</td>\n",
       "      <td>0</td>\n",
       "      <td>1</td>\n",
       "      <td>180</td>\n",
       "      <td>0</td>\n",
       "    </tr>\n",
       "  </tbody>\n",
       "</table>\n",
       "</div>"
      ],
      "text/plain": [
       "                     Event       Date         White         Black Result  \\\n",
       "233  FICS rated blitz game 2021-01-29       Groemaz  ForgacsJ(FM)    0-1   \n",
       "276  FICS rated blitz game 2021-02-02  stupidnewbie  ForgacsJ(FM)    1-0   \n",
       "\n",
       "     BlackElo BlackRD  ECO  PlyCount  WhiteElo WhiteRD emt moves  WhiteIsComp  \\\n",
       "233      2003       0  A00         0      1801       0  []    []            0   \n",
       "276      2021       0  A00         0      2015       0  []    []            0   \n",
       "\n",
       "     BlackIsComp  NoComp  TimeControl_Base  TimeControl_Inc  \n",
       "233            0       1               180                0  \n",
       "276            0       1               180                0  "
      ]
     },
     "execution_count": 248,
     "metadata": {},
     "output_type": "execute_result"
    }
   ],
   "source": [
    "games_missing_moves_and_emt = df_2021_2017_titled_distinv[[row==[] for row in df_2021_2017_titled_distinv.emt]]\n",
    "games_missing_moves_and_emt.head(2)"
   ]
  },
  {
   "cell_type": "code",
   "execution_count": 245,
   "id": "73a81b18",
   "metadata": {
    "ExecuteTime": {
     "end_time": "2022-10-30T23:32:00.408464Z",
     "start_time": "2022-10-30T23:32:00.394459Z"
    },
    "hidden": true
   },
   "outputs": [],
   "source": [
    "# get_evaluations(games_missing_moves_and_emt.iloc[0].moves) # []"
   ]
  },
  {
   "cell_type": "code",
   "execution_count": 246,
   "id": "c025efb4",
   "metadata": {
    "ExecuteTime": {
     "end_time": "2022-10-30T23:32:18.527429Z",
     "start_time": "2022-10-30T23:32:18.523471Z"
    },
    "hidden": true
   },
   "outputs": [],
   "source": [
    "# get_all_evaluations(games_missing_moves_and_emt.iloc[0:3]) # [[], [], []]"
   ]
  },
  {
   "cell_type": "code",
   "execution_count": null,
   "id": "9fdbafee",
   "metadata": {
    "hidden": true
   },
   "outputs": [],
   "source": []
  },
  {
   "cell_type": "code",
   "execution_count": 358,
   "id": "3e20e909",
   "metadata": {
    "ExecuteTime": {
     "end_time": "2022-10-31T00:30:56.680552Z",
     "start_time": "2022-10-31T00:30:56.666483Z"
    },
    "hidden": true
   },
   "outputs": [
    {
     "data": {
      "text/plain": [
       "[[], [], []]"
      ]
     },
     "execution_count": 358,
     "metadata": {},
     "output_type": "execute_result"
    }
   ],
   "source": [
    "extract_all_emt_elements(games_missing_moves_and_emt.iloc[0:3].emt) # [[], [], []]"
   ]
  },
  {
   "cell_type": "code",
   "execution_count": 360,
   "id": "c3390ee3",
   "metadata": {
    "ExecuteTime": {
     "end_time": "2022-10-31T00:31:45.076495Z",
     "start_time": "2022-10-31T00:31:45.059491Z"
    },
    "hidden": true
   },
   "outputs": [
    {
     "data": {
      "text/plain": [
       "[]"
      ]
     },
     "execution_count": 360,
     "metadata": {},
     "output_type": "execute_result"
    }
   ],
   "source": [
    "extract_emt_elements(games_missing_moves_and_emt.iloc[0].emt)"
   ]
  },
  {
   "cell_type": "code",
   "execution_count": 365,
   "id": "e394e7fc",
   "metadata": {
    "ExecuteTime": {
     "end_time": "2022-10-31T00:34:19.094476Z",
     "start_time": "2022-10-31T00:34:19.079512Z"
    },
    "hidden": true
   },
   "outputs": [
    {
     "data": {
      "text/plain": [
       "[]"
      ]
     },
     "execution_count": 365,
     "metadata": {},
     "output_type": "execute_result"
    }
   ],
   "source": [
    "how_games_ended(games_missing_moves_and_emt.iloc[0:3].emt) # "
   ]
  },
  {
   "cell_type": "code",
   "execution_count": null,
   "id": "7e92348c",
   "metadata": {
    "hidden": true
   },
   "outputs": [],
   "source": []
  },
  {
   "cell_type": "code",
   "execution_count": 370,
   "id": "9bf652a6",
   "metadata": {
    "ExecuteTime": {
     "end_time": "2022-10-31T00:37:17.334240Z",
     "start_time": "2022-10-31T00:37:17.331183Z"
    },
    "hidden": true
   },
   "outputs": [],
   "source": [
    "# remove games where no moves were played !"
   ]
  },
  {
   "cell_type": "code",
   "execution_count": 382,
   "id": "75b6511e",
   "metadata": {
    "ExecuteTime": {
     "end_time": "2022-10-31T00:49:44.484148Z",
     "start_time": "2022-10-31T00:49:44.473100Z"
    },
    "hidden": true
   },
   "outputs": [],
   "source": [
    "# df_2021_2017_titled_distinv[[df_2021_2017_titled_distinv.moves!=[]]]\n",
    "# df_2021_2017_titled_distinv[[val_!=[] for val_ in df_2021_2017_titled_distinv.moves]].reset_index(drop=True)"
   ]
  },
  {
   "cell_type": "code",
   "execution_count": 400,
   "id": "de176709",
   "metadata": {
    "ExecuteTime": {
     "end_time": "2022-10-31T00:58:20.934694Z",
     "start_time": "2022-10-31T00:58:20.925767Z"
    },
    "hidden": true
   },
   "outputs": [],
   "source": [
    "def drop_no_move_games(df):\n",
    "    if any([val_==[] for val_ in df.moves]):\n",
    "        print(f'Some games have no moves \\nDropping those games...')\n",
    "        temp_ = df[[val_!=[] for val_ in df.moves]].reset_index(drop=True)\n",
    "        return temp_\n",
    "    else:\n",
    "        print('All games have moves')\n",
    "        return df"
   ]
  },
  {
   "cell_type": "code",
   "execution_count": 402,
   "id": "ada54c58",
   "metadata": {
    "ExecuteTime": {
     "end_time": "2022-10-31T00:58:31.278750Z",
     "start_time": "2022-10-31T00:58:31.209675Z"
    },
    "hidden": true
   },
   "outputs": [
    {
     "name": "stdout",
     "output_type": "stream",
     "text": [
      "Some games have no moves \n",
      "Dropping those games...\n"
     ]
    }
   ],
   "source": [
    "test_ = drop_no_move_games(df_2021_2017_titled_distinv)\n",
    "test_;"
   ]
  },
  {
   "cell_type": "code",
   "execution_count": 391,
   "id": "18d9e698",
   "metadata": {
    "ExecuteTime": {
     "end_time": "2022-10-31T00:52:06.873214Z",
     "start_time": "2022-10-31T00:52:06.701396Z"
    },
    "hidden": true
   },
   "outputs": [],
   "source": [
    "how_games_ended(test_.emt);"
   ]
  },
  {
   "cell_type": "code",
   "execution_count": null,
   "id": "c89ecd18",
   "metadata": {
    "hidden": true
   },
   "outputs": [],
   "source": []
  },
  {
   "cell_type": "code",
   "execution_count": 392,
   "id": "1702c394",
   "metadata": {
    "ExecuteTime": {
     "end_time": "2022-10-31T00:52:08.368098Z",
     "start_time": "2022-10-31T00:52:08.353064Z"
    },
    "hidden": true
   },
   "outputs": [],
   "source": [
    "def how_games_ended_confirmed_moves_and_emt(series_of_games_emts):\n",
    "#     series_of_games_emts = [game_ if game_!=[] else ['none'] for game_ in series_of_games_emts]\n",
    "#     endings_ = [re.search('[a-zA-Z]{5}.[a-zA-Z]+.[a-zA-Z]*.[a-zA-Z]*', game_[-1]).group() for game_ in series_of_games_emts]\n",
    "#     endings_ = [re.search('(Black|White).[a-zA-Z]+.[a-zA-Z]*.[a-zA-Z]*', game_[-1]).group() for game_ in series_of_games_emts]\n",
    "    endings_ = [re.search('(Black|White).[a-zA-Z]+.[a-zA-Z]*.[a-zA-Z]*', game_[-1]).group() for game_ in series_of_games_emts]\n",
    "    \n",
    "    return endings_"
   ]
  },
  {
   "cell_type": "code",
   "execution_count": 403,
   "id": "d443c4f8",
   "metadata": {
    "ExecuteTime": {
     "end_time": "2022-10-31T01:01:25.849121Z",
     "start_time": "2022-10-31T01:01:25.681636Z"
    },
    "hidden": true
   },
   "outputs": [],
   "source": [
    "how_games_ended_confirmed_moves(test_.emt);"
   ]
  },
  {
   "cell_type": "code",
   "execution_count": 398,
   "id": "1292f404",
   "metadata": {
    "ExecuteTime": {
     "end_time": "2022-10-31T00:55:10.992335Z",
     "start_time": "2022-10-31T00:55:10.984345Z"
    },
    "hidden": true
   },
   "outputs": [],
   "source": [
    "def any_missing_emt(df):\n",
    "    if any([val_==[] for val_ in df.emt]):\n",
    "        return(print('Some games missing emt values...'))\n",
    "    else:\n",
    "        return(print('No games missing emt values'))"
   ]
  },
  {
   "cell_type": "code",
   "execution_count": 399,
   "id": "6c0324f1",
   "metadata": {
    "ExecuteTime": {
     "end_time": "2022-10-31T00:55:18.743468Z",
     "start_time": "2022-10-31T00:55:18.706485Z"
    },
    "hidden": true
   },
   "outputs": [
    {
     "name": "stdout",
     "output_type": "stream",
     "text": [
      "No games missing emt values\n"
     ]
    }
   ],
   "source": [
    "any_missing_emt(test_)"
   ]
  },
  {
   "cell_type": "markdown",
   "id": "317a8314",
   "metadata": {
    "hidden": true
   },
   "source": [
    "-----"
   ]
  },
  {
   "cell_type": "markdown",
   "id": "58f1876d",
   "metadata": {
    "heading_collapsed": true
   },
   "source": [
    "## Finding how the game ended"
   ]
  },
  {
   "cell_type": "code",
   "execution_count": 111,
   "id": "585de76e",
   "metadata": {
    "ExecuteTime": {
     "end_time": "2022-10-30T18:16:44.896341Z",
     "start_time": "2022-10-30T18:16:44.879292Z"
    },
    "hidden": true
   },
   "outputs": [
    {
     "data": {
      "text/plain": [
       "'[%emt 2.575] Black resigns'"
      ]
     },
     "execution_count": 111,
     "metadata": {},
     "output_type": "execute_result"
    }
   ],
   "source": [
    "sample_emt.iloc[0][-1]"
   ]
  },
  {
   "cell_type": "code",
   "execution_count": 259,
   "id": "0eae011b",
   "metadata": {
    "ExecuteTime": {
     "end_time": "2022-10-30T23:37:01.561379Z",
     "start_time": "2022-10-30T23:37:01.553403Z"
    },
    "hidden": true
   },
   "outputs": [
    {
     "data": {
      "text/plain": [
       "['[%emt 0.0]', '[%emt 0.0]']"
      ]
     },
     "execution_count": 259,
     "metadata": {},
     "output_type": "execute_result"
    }
   ],
   "source": [
    "sample_emt.iloc[0][0:2]"
   ]
  },
  {
   "cell_type": "code",
   "execution_count": 285,
   "id": "66fbff4b",
   "metadata": {
    "ExecuteTime": {
     "end_time": "2022-10-30T23:50:22.987202Z",
     "start_time": "2022-10-30T23:50:22.978205Z"
    },
    "hidden": true
   },
   "outputs": [
    {
     "data": {
      "text/plain": [
       "'[%emt 0.782] White forfeits on time'"
      ]
     },
     "execution_count": 285,
     "metadata": {},
     "output_type": "execute_result"
    }
   ],
   "source": [
    "sample_emt.iloc[0][-1]"
   ]
  },
  {
   "cell_type": "code",
   "execution_count": null,
   "id": "76d114dc",
   "metadata": {
    "hidden": true
   },
   "outputs": [],
   "source": []
  },
  {
   "cell_type": "code",
   "execution_count": 366,
   "id": "c399c1e8",
   "metadata": {
    "ExecuteTime": {
     "end_time": "2022-10-31T00:35:05.084556Z",
     "start_time": "2022-10-31T00:35:05.079583Z"
    },
    "hidden": true
   },
   "outputs": [],
   "source": [
    "def how_games_ended(series_of_games_emts):\n",
    "#     series_of_games_emts = [game_ if game_!=[] else ['none'] for game_ in series_of_games_emts]\n",
    "#     endings_ = [re.search('[a-zA-Z]{5}.[a-zA-Z]+.[a-zA-Z]*.[a-zA-Z]*', game_[-1]).group() for game_ in series_of_games_emts]\n",
    "#     endings_ = [re.search('(Black|White).[a-zA-Z]+.[a-zA-Z]*.[a-zA-Z]*', game_[-1]).group() for game_ in series_of_games_emts]\n",
    "    endings_ = [re.search('(Black|White).[a-zA-Z]+.[a-zA-Z]*.[a-zA-Z]*', game_[-1]).group() if game_!=[] else [] for game_ in series_of_games_emts]\n",
    "    \n",
    "    return endings_"
   ]
  },
  {
   "cell_type": "code",
   "execution_count": 371,
   "id": "8a463776",
   "metadata": {
    "ExecuteTime": {
     "end_time": "2022-10-31T00:42:23.373440Z",
     "start_time": "2022-10-31T00:42:23.358486Z"
    },
    "hidden": true
   },
   "outputs": [],
   "source": [
    "# # display(test_)\n",
    "# display(test_[0])\n",
    "# display(test_[0][-1])"
   ]
  },
  {
   "cell_type": "code",
   "execution_count": 373,
   "id": "1a982ec1",
   "metadata": {
    "ExecuteTime": {
     "end_time": "2022-10-31T00:43:11.103804Z",
     "start_time": "2022-10-31T00:43:10.898757Z"
    },
    "hidden": true
   },
   "outputs": [
    {
     "data": {
      "text/html": [
       "<div>\n",
       "<style scoped>\n",
       "    .dataframe tbody tr th:only-of-type {\n",
       "        vertical-align: middle;\n",
       "    }\n",
       "\n",
       "    .dataframe tbody tr th {\n",
       "        vertical-align: top;\n",
       "    }\n",
       "\n",
       "    .dataframe thead th {\n",
       "        text-align: right;\n",
       "    }\n",
       "</style>\n",
       "<table border=\"1\" class=\"dataframe\">\n",
       "  <thead>\n",
       "    <tr style=\"text-align: right;\">\n",
       "      <th></th>\n",
       "      <th>Event</th>\n",
       "      <th>Date</th>\n",
       "      <th>White</th>\n",
       "      <th>Black</th>\n",
       "      <th>Result</th>\n",
       "      <th>BlackElo</th>\n",
       "      <th>BlackRD</th>\n",
       "      <th>ECO</th>\n",
       "      <th>PlyCount</th>\n",
       "      <th>WhiteElo</th>\n",
       "      <th>WhiteRD</th>\n",
       "      <th>emt</th>\n",
       "      <th>moves</th>\n",
       "      <th>WhiteIsComp</th>\n",
       "      <th>BlackIsComp</th>\n",
       "      <th>NoComp</th>\n",
       "      <th>TimeControl_Base</th>\n",
       "      <th>TimeControl_Inc</th>\n",
       "      <th>endings</th>\n",
       "    </tr>\n",
       "  </thead>\n",
       "  <tbody>\n",
       "    <tr>\n",
       "      <th>0</th>\n",
       "      <td>FICS rated blitz game</td>\n",
       "      <td>2021-01-03</td>\n",
       "      <td>sviswa</td>\n",
       "      <td>ForgacsJ(FM)</td>\n",
       "      <td>0-1</td>\n",
       "      <td>2047</td>\n",
       "      <td>0</td>\n",
       "      <td>A43</td>\n",
       "      <td>22</td>\n",
       "      <td>1778</td>\n",
       "      <td>0</td>\n",
       "      <td>[[%emt 0.0], [%emt 0.0], [%emt 2.894], [%emt 0...</td>\n",
       "      <td>[d4, c5, d5, g6, Nf3, Bg7, e3, Nf6, Be2, O-O, ...</td>\n",
       "      <td>0</td>\n",
       "      <td>0</td>\n",
       "      <td>1</td>\n",
       "      <td>180</td>\n",
       "      <td>0</td>\n",
       "      <td>White resigns</td>\n",
       "    </tr>\n",
       "    <tr>\n",
       "      <th>1</th>\n",
       "      <td>FICS rated blitz game</td>\n",
       "      <td>2021-01-03</td>\n",
       "      <td>ForgacsJ(FM)</td>\n",
       "      <td>EinerWieKeiner</td>\n",
       "      <td>1-0</td>\n",
       "      <td>1900</td>\n",
       "      <td>0</td>\n",
       "      <td>A40</td>\n",
       "      <td>69</td>\n",
       "      <td>2050</td>\n",
       "      <td>0</td>\n",
       "      <td>[[%emt 0.0], [%emt 0.0], [%emt 1.575], [%emt 0...</td>\n",
       "      <td>[d4, g6, Bg5, Bg7, Nc3, d6, Qd2, h6, Bh4, Nf6,...</td>\n",
       "      <td>0</td>\n",
       "      <td>0</td>\n",
       "      <td>1</td>\n",
       "      <td>180</td>\n",
       "      <td>0</td>\n",
       "      <td>Black checkmated</td>\n",
       "    </tr>\n",
       "  </tbody>\n",
       "</table>\n",
       "</div>"
      ],
      "text/plain": [
       "                   Event       Date         White           Black Result  \\\n",
       "0  FICS rated blitz game 2021-01-03        sviswa    ForgacsJ(FM)    0-1   \n",
       "1  FICS rated blitz game 2021-01-03  ForgacsJ(FM)  EinerWieKeiner    1-0   \n",
       "\n",
       "   BlackElo BlackRD  ECO  PlyCount  WhiteElo WhiteRD  \\\n",
       "0      2047       0  A43        22      1778       0   \n",
       "1      1900       0  A40        69      2050       0   \n",
       "\n",
       "                                                 emt  \\\n",
       "0  [[%emt 0.0], [%emt 0.0], [%emt 2.894], [%emt 0...   \n",
       "1  [[%emt 0.0], [%emt 0.0], [%emt 1.575], [%emt 0...   \n",
       "\n",
       "                                               moves  WhiteIsComp  \\\n",
       "0  [d4, c5, d5, g6, Nf3, Bg7, e3, Nf6, Be2, O-O, ...            0   \n",
       "1  [d4, g6, Bg5, Bg7, Nc3, d6, Qd2, h6, Bh4, Nf6,...            0   \n",
       "\n",
       "   BlackIsComp  NoComp  TimeControl_Base  TimeControl_Inc           endings  \n",
       "0            0       1               180                0     White resigns  \n",
       "1            0       1               180                0  Black checkmated  "
      ]
     },
     "execution_count": 373,
     "metadata": {},
     "output_type": "execute_result"
    }
   ],
   "source": [
    "test_ = df_2021_2017_titled_distinv.copy()\n",
    "test_['endings'] = how_games_ended(test_.emt)\n",
    "test_.head(2)"
   ]
  },
  {
   "cell_type": "code",
   "execution_count": null,
   "id": "2b50c8d8",
   "metadata": {
    "hidden": true
   },
   "outputs": [],
   "source": []
  },
  {
   "cell_type": "code",
   "execution_count": 289,
   "id": "cdcb2383",
   "metadata": {
    "ExecuteTime": {
     "end_time": "2022-10-30T23:52:34.400118Z",
     "start_time": "2022-10-30T23:52:21.143617Z"
    },
    "hidden": true
   },
   "outputs": [],
   "source": [
    "allemt = extract_all_emt_elements(df_2021_2017_titled_distinv.emt)"
   ]
  },
  {
   "cell_type": "code",
   "execution_count": 291,
   "id": "0c6cbe5d",
   "metadata": {
    "ExecuteTime": {
     "end_time": "2022-10-30T23:53:05.186418Z",
     "start_time": "2022-10-30T23:53:05.097417Z"
    },
    "hidden": true
   },
   "outputs": [],
   "source": [
    "df_ = df_2021_2017_titled_distinv.copy()\n",
    "df_['emt_val'] = allemt"
   ]
  },
  {
   "cell_type": "code",
   "execution_count": 295,
   "id": "d094ef3d",
   "metadata": {
    "ExecuteTime": {
     "end_time": "2022-10-30T23:54:19.983914Z",
     "start_time": "2022-10-30T23:54:19.942933Z"
    },
    "hidden": true
   },
   "outputs": [
    {
     "data": {
      "text/html": [
       "<div>\n",
       "<style scoped>\n",
       "    .dataframe tbody tr th:only-of-type {\n",
       "        vertical-align: middle;\n",
       "    }\n",
       "\n",
       "    .dataframe tbody tr th {\n",
       "        vertical-align: top;\n",
       "    }\n",
       "\n",
       "    .dataframe thead th {\n",
       "        text-align: right;\n",
       "    }\n",
       "</style>\n",
       "<table border=\"1\" class=\"dataframe\">\n",
       "  <thead>\n",
       "    <tr style=\"text-align: right;\">\n",
       "      <th></th>\n",
       "      <th>Event</th>\n",
       "      <th>Date</th>\n",
       "      <th>White</th>\n",
       "      <th>Black</th>\n",
       "      <th>Result</th>\n",
       "      <th>BlackElo</th>\n",
       "      <th>BlackRD</th>\n",
       "      <th>ECO</th>\n",
       "      <th>PlyCount</th>\n",
       "      <th>WhiteElo</th>\n",
       "      <th>WhiteRD</th>\n",
       "      <th>emt</th>\n",
       "      <th>moves</th>\n",
       "      <th>WhiteIsComp</th>\n",
       "      <th>BlackIsComp</th>\n",
       "      <th>NoComp</th>\n",
       "      <th>TimeControl_Base</th>\n",
       "      <th>TimeControl_Inc</th>\n",
       "      <th>emt_val</th>\n",
       "    </tr>\n",
       "  </thead>\n",
       "  <tbody>\n",
       "    <tr>\n",
       "      <th>233</th>\n",
       "      <td>FICS rated blitz game</td>\n",
       "      <td>2021-01-29</td>\n",
       "      <td>Groemaz</td>\n",
       "      <td>ForgacsJ(FM)</td>\n",
       "      <td>0-1</td>\n",
       "      <td>2003</td>\n",
       "      <td>0</td>\n",
       "      <td>A00</td>\n",
       "      <td>0</td>\n",
       "      <td>1801</td>\n",
       "      <td>0</td>\n",
       "      <td>[]</td>\n",
       "      <td>[]</td>\n",
       "      <td>0</td>\n",
       "      <td>0</td>\n",
       "      <td>1</td>\n",
       "      <td>180</td>\n",
       "      <td>0</td>\n",
       "      <td>[]</td>\n",
       "    </tr>\n",
       "    <tr>\n",
       "      <th>276</th>\n",
       "      <td>FICS rated blitz game</td>\n",
       "      <td>2021-02-02</td>\n",
       "      <td>stupidnewbie</td>\n",
       "      <td>ForgacsJ(FM)</td>\n",
       "      <td>1-0</td>\n",
       "      <td>2021</td>\n",
       "      <td>0</td>\n",
       "      <td>A00</td>\n",
       "      <td>0</td>\n",
       "      <td>2015</td>\n",
       "      <td>0</td>\n",
       "      <td>[]</td>\n",
       "      <td>[]</td>\n",
       "      <td>0</td>\n",
       "      <td>0</td>\n",
       "      <td>1</td>\n",
       "      <td>180</td>\n",
       "      <td>0</td>\n",
       "      <td>[]</td>\n",
       "    </tr>\n",
       "  </tbody>\n",
       "</table>\n",
       "</div>"
      ],
      "text/plain": [
       "                     Event       Date         White         Black Result  \\\n",
       "233  FICS rated blitz game 2021-01-29       Groemaz  ForgacsJ(FM)    0-1   \n",
       "276  FICS rated blitz game 2021-02-02  stupidnewbie  ForgacsJ(FM)    1-0   \n",
       "\n",
       "     BlackElo BlackRD  ECO  PlyCount  WhiteElo WhiteRD emt moves  WhiteIsComp  \\\n",
       "233      2003       0  A00         0      1801       0  []    []            0   \n",
       "276      2021       0  A00         0      2015       0  []    []            0   \n",
       "\n",
       "     BlackIsComp  NoComp  TimeControl_Base  TimeControl_Inc emt_val  \n",
       "233            0       1               180                0      []  \n",
       "276            0       1               180                0      []  "
      ]
     },
     "execution_count": 295,
     "metadata": {},
     "output_type": "execute_result"
    }
   ],
   "source": [
    "df_[[val_==[] for val_ in df_.emt_val]].head(2)"
   ]
  },
  {
   "cell_type": "code",
   "execution_count": null,
   "id": "5d5d95e8",
   "metadata": {
    "hidden": true
   },
   "outputs": [],
   "source": []
  },
  {
   "cell_type": "code",
   "execution_count": null,
   "id": "71856f99",
   "metadata": {
    "hidden": true
   },
   "outputs": [],
   "source": []
  },
  {
   "cell_type": "code",
   "execution_count": null,
   "id": "281a5447",
   "metadata": {
    "hidden": true
   },
   "outputs": [],
   "source": []
  },
  {
   "cell_type": "code",
   "execution_count": 203,
   "id": "e886ba68",
   "metadata": {
    "ExecuteTime": {
     "end_time": "2022-10-30T23:03:54.030400Z",
     "start_time": "2022-10-30T23:03:54.004391Z"
    },
    "hidden": true
   },
   "outputs": [
    {
     "data": {
      "text/plain": [
       "True"
      ]
     },
     "execution_count": 203,
     "metadata": {},
     "output_type": "execute_result"
    }
   ],
   "source": [
    "any([row==[] for row in df_2021_2017_titled_distinv.emt])"
   ]
  },
  {
   "cell_type": "code",
   "execution_count": 199,
   "id": "998b25cf",
   "metadata": {
    "ExecuteTime": {
     "end_time": "2022-10-30T23:02:54.704990Z",
     "start_time": "2022-10-30T23:02:54.687039Z"
    },
    "hidden": true
   },
   "outputs": [],
   "source": [
    "# how_game_ended(sample_emt) # works\n",
    "# how_game_ended(pd.Series(df_2021_2017_titled_distinv.emt)) # list index out of range\n",
    "\n",
    "# test_series_emt_ = df_2021_2017_titled_distinv.emt\n",
    "# how_game_ended(test_series_emt_) # list index out of range"
   ]
  },
  {
   "cell_type": "code",
   "execution_count": null,
   "id": "a41d25de",
   "metadata": {
    "hidden": true
   },
   "outputs": [],
   "source": []
  },
  {
   "cell_type": "code",
   "execution_count": null,
   "id": "d8075abd",
   "metadata": {
    "hidden": true
   },
   "outputs": [],
   "source": []
  },
  {
   "cell_type": "markdown",
   "id": "1657c734",
   "metadata": {
    "hidden": true
   },
   "source": [
    "----"
   ]
  },
  {
   "cell_type": "markdown",
   "id": "2c92d904",
   "metadata": {
    "hidden": true
   },
   "source": [
    "-----"
   ]
  },
  {
   "cell_type": "markdown",
   "id": "ca3818ee",
   "metadata": {},
   "source": [
    "## Other"
   ]
  },
  {
   "cell_type": "markdown",
   "id": "79e84399",
   "metadata": {},
   "source": [
    "1. Write table of contents\n",
    "1. 2. Calculate average time per move\n",
    "2. Remove elos and retrain:\n",
    "    + Remove both elos and retrain models\n",
    "    + Remove white elos and retrain models\n",
    "    + Remove black elos and retrain models\n",
    "3. Play with the hue setting on the CvH distribution graphs to understand why there is a bimodal distribution (i.e. is it the timeformat [lightning, blitz, standard], is it the rated/unrated etc.)\n",
    "4. Do CvH checks on non-filtered dataframe: (computers can lose)\n",
    "    + Put conditionals in the clean pickles on what steps to keep or discard\n",
    "    + What is the distribution of how many computers beat people?\n",
    "    + What is the elo distribution if I keep games where the computer loses?\n",
    "5. How many different types of titled players are there? (Maybe it's an indication as to why there seems to be a bimodal distribution.)\n",
    "    + In both rated and unrated\n",
    "    + In rated\n",
    "    + In unrated\n",
    "6. What is the largest difference in elo between:\n",
    "    + Titled games:\n",
    "        - Rated\n",
    "        - Unrated\n",
    "    + CvH games:\n",
    "        - Rated\n",
    "        - Unrated\n",
    "7. Can I pick CvH games that are in the overlap distribution / don't have an elo difference greater than the biggest titled rated elo difference / {other idea after having done the other steps}\n",
    "\n",
    "\n",
    "12. Do cursory overview of original variables and their distributions, multicollinearities and correlation to the outcome\n",
    "\n",
    "\n",
    "13. Using the calculated evaluations, limit to 3 new features and do investigation into their distributions, multicollinearities and correlation to outcome (look at Mark's message for what features to use and further notes on what tests to do)\n",
    "\n",
    "\n",
    "14. Classification models to use are LogReg, DT, RF, XGBoost (maybe KNN)"
   ]
  },
  {
   "cell_type": "markdown",
   "id": "4eccdba3",
   "metadata": {},
   "source": [
    "-----"
   ]
  },
  {
   "cell_type": "markdown",
   "id": "58a8e619",
   "metadata": {},
   "source": [
    "### Remove elos and retrain"
   ]
  },
  {
   "cell_type": "code",
   "execution_count": null,
   "id": "9e28f821",
   "metadata": {},
   "outputs": [],
   "source": []
  },
  {
   "cell_type": "code",
   "execution_count": null,
   "id": "483a6343",
   "metadata": {},
   "outputs": [],
   "source": []
  },
  {
   "cell_type": "markdown",
   "id": "d92f9a18",
   "metadata": {},
   "source": [
    "--------"
   ]
  },
  {
   "cell_type": "code",
   "execution_count": null,
   "id": "f28f31c2",
   "metadata": {},
   "outputs": [],
   "source": []
  },
  {
   "cell_type": "code",
   "execution_count": null,
   "id": "6fa384a0",
   "metadata": {},
   "outputs": [],
   "source": []
  },
  {
   "cell_type": "code",
   "execution_count": null,
   "id": "aad09eb1",
   "metadata": {},
   "outputs": [],
   "source": []
  },
  {
   "cell_type": "markdown",
   "id": "0ab02fba",
   "metadata": {},
   "source": [
    "-------"
   ]
  },
  {
   "cell_type": "markdown",
   "id": "87c3bfc2",
   "metadata": {
    "heading_collapsed": true
   },
   "source": [
    "## Getting Stockfish "
   ]
  },
  {
   "cell_type": "markdown",
   "id": "3bf9e113",
   "metadata": {
    "heading_collapsed": true,
    "hidden": true
   },
   "source": [
    "### Without chess module"
   ]
  },
  {
   "cell_type": "code",
   "execution_count": 1,
   "id": "0e10f460",
   "metadata": {
    "ExecuteTime": {
     "end_time": "2022-10-31T23:45:39.347515Z",
     "start_time": "2022-10-31T23:45:39.325545Z"
    },
    "code_folding": [
     0
    ],
    "hidden": true
   },
   "outputs": [],
   "source": [
    "### Trying without using chess module:\n",
    "\n",
    "# # df with event info to separate rated and unrated\n",
    "\n",
    "# df_2022_2018_CvH_distinv = joblib.load(\n",
    "#     './data/preprocessed/2022_2018_CvH_distinv_withevent.pkl')\n",
    "\n",
    "\n",
    "\n",
    "# # starting with multi-pv, then do single-pv, \n",
    "\n",
    "# # Muninn has 8 cores => set threads to 4\n",
    "# # Vostro has ...\n",
    "\n",
    "# sf_ = Stockfish(path='./stockfish_15_win_x64_ssse/stockfish_15_x64_ssse.exe',\n",
    "#         depth=20,\n",
    "#         parameters={\n",
    "#             \"Threads\": 7,\n",
    "#             \"Hash\": 4096,\n",
    "#             \"MultiPV\": 1,\n",
    "#             \"Skill Level\": 20        \n",
    "            \n",
    "#             }\n",
    "#         )\n",
    "\n",
    "# # sf_ = Stockfish(path='./stockfish_15_win_x64_ssse/stockfish_15_x64_ssse.exe',\n",
    "# #         depth=20,\n",
    "# #         parameters={\n",
    "# #             \"Threads\": 1,\n",
    "# #             \"Hash\": 1024,\n",
    "# #             \"MultiPV\": 5,\n",
    "# #             \"Skill Level\": 20        \n",
    "            \n",
    "# #             }\n",
    "# #         )\n",
    "\n",
    "# # sf_ = Stockfish(path='./stockfish_15_win_x64_ssse/stockfish_15_x64_ssse.exe',\n",
    "# #         depth=5,\n",
    "# #         parameters={\n",
    "# #             \"Threads\": 4,\n",
    "# #             \"Hash\": 1024,\n",
    "# #             \"MultiPV\": 1,\n",
    "# #             \"Skill Level\": 20        \n",
    "            \n",
    "# #             }\n",
    "# #         )\n",
    "\n",
    "# # sf.update_engine_parameters()\n",
    "\n",
    "# # chess.engine.SimpleEngine.popen_uci()\n",
    "\n",
    "# eval_ = sf_.get_evaluation()\n",
    "# eval_\n",
    "\n",
    "# # eval_5 = sf_.get_evaluation()\n",
    "# # eval_5 # {'type': 'cp', 'value': 19}\n",
    "\n",
    "# best_move_timed = sf_.get_best_move_time()\n",
    "# best_move_timed\n",
    "# # Time for stockfish to determine best move in milliseconds (int)\n",
    "\n",
    "# # best_move_timed_5 = sf_.get_best_move_time()\n",
    "# # best_move_timed_5 # 'd2d4'\n",
    "# # # Time for stockfish to determine best move in milliseconds (int)\n",
    "\n",
    "# best_move_ = sf_.get_best_move()\n",
    "# best_move_\n",
    "\n",
    "# # best_move_5 = sf_.get_best_move()\n",
    "# # best_move_5 # 'c2c4'\n",
    "\n",
    "# top_moves_ = sf_.get_top_moves()\n",
    "# top_moves_\n",
    "\n",
    "# # top_moves_5 = sf_.get_top_moves()\n",
    "# # top_moves_5\n",
    "# # [{'Move': 'e2e4', 'Centipawn': 50, 'Mate': None},\n",
    "# #  {'Move': 'g1f3', 'Centipawn': 50, 'Mate': None},\n",
    "# #  {'Move': 'd2d4', 'Centipawn': 45, 'Mate': None},\n",
    "# #  {'Move': 'c2c4', 'Centipawn': 34, 'Mate': None},\n",
    "# #  {'Move': 'g2g3', 'Centipawn': 21, 'Mate': None}]\n",
    "\n",
    "# # sf_.get_fen_position()\n",
    "# # sf_.get_parameters()\n",
    "# # sf_.info;\n",
    "\n",
    "# display(type(eval_)) # dict\n",
    "# display(type(best_move_timed)) # str\n",
    "# display(type(best_move_)) # str\n",
    "# display(type(top_moves_)) # list\n",
    "\n",
    "\n",
    "\n",
    "\n",
    "\n",
    "# ----\n",
    "\n",
    "# # sf_pv1 = Stockfish(path='./stockfish_15_win_x64_ssse/stockfish_15_x64_ssse.exe',\n",
    "# #         depth=20,\n",
    "# #         parameters={\n",
    "# #             \"Threads\": 4,\n",
    "# #             \"Hash\": 4096,\n",
    "# #             \"MultiPV\": 1,\n",
    "# #             \"Skill Level\": 20        \n",
    "            \n",
    "# #             }\n",
    "# #         )\n",
    "\n",
    "# # sf_pv1.get_best_move()\n",
    "\n",
    "# # sf_pv1.get_top_moves()\n",
    "\n",
    "# # sf_pv1.get_evaluation()\n",
    "\n",
    "# # sf_pv1.info;\n",
    "\n",
    "# # sf_pv1.make_moves_from_current_position()\n",
    "\n",
    "# # As far as I know here on lichess it is pure mathematics:\n",
    "\n",
    "# # inacc. = 0.5-1 deviation (EngineProposal-Your move)\n",
    "# # mistake = 1-2 deviation\n",
    "# # blunder > 2 deviation\n",
    "\n",
    "# # (you'll find the exact values somewhere in the forum or the FAQ)\n",
    "\n",
    "# # sf_pv1.\n",
    "\n",
    "# -----\n",
    "\n",
    "# sample = joblib.load('./data/raw/pickles/2018_CvH.pkl')\n",
    "\n",
    "# sample.head(1)\n",
    "\n",
    "# zipped_games_moves = zip(sample.moves)\n",
    "\n",
    "# next(zipped_games_moves)[0][0]\n",
    "\n",
    "# type(next(zipped_games_moves)[0]) # list\n",
    "\n",
    "# next(zipped_games_moves)[0]\n",
    "\n",
    "# next_game = next(zipped_games_moves)[0]\n",
    "\n",
    "# next_game\n",
    "\n",
    "# next_game[0]\n",
    "\n",
    "# sf_.set_position()\n",
    "\n",
    "# board=chess.Board()\n",
    "\n",
    "# test__ = board.push_san(next_game[0])\n",
    "\n",
    "# test__.uci()\n",
    "\n",
    "# sf_.make_moves_from_current_position([test__.uci()])\n",
    "\n",
    "# sf_.get_fen_position()\n",
    "\n",
    "# top_moves_ = sf_.get_top_moves()\n",
    "# top_moves_\n",
    "\n",
    "\n",
    "\n",
    "# # For each game, \n",
    "\n",
    "# # # For each position,\n",
    "\n",
    "# # # # Get the best 5 moves as a list, append to a list \n",
    "\n",
    "# # # Loop for moves in a single game\n",
    "# # evaluations_ = []\n",
    "# # sf_.set_position()\n",
    "# # board=chess.Board()\n",
    "# # for move in next_game:\n",
    "# #     evalution_ = sf_.get_top_moves()\n",
    "# #     move_ = board.push_san(move)\n",
    "# #     sf_.make_moves_from_current_position([move_])\n",
    "    \n",
    "# #     evaluations_.append(evalution_)\n",
    "    \n",
    "    \n",
    "\n",
    "# def get_evaluations(game):\n",
    "#     # Loop for moves in a single game\n",
    "#     evaluations_ = []\n",
    "#     sf_.set_position()\n",
    "#     board=chess.Board()\n",
    "#     for move in game:\n",
    "#         evalution_ = sf_.get_top_moves()\n",
    "#         move_ = board.push_san(move)\n",
    "#         sf_.make_moves_from_current_position([move_])\n",
    "\n",
    "#         evaluations_.append(evalution_)\n",
    "#     return evaluations_\n",
    "    \n",
    "    \n",
    "\n",
    "# evaluations_test = get_evaluations(next_game)\n",
    "\n",
    "# evaluations_test;\n",
    "\n",
    "# # type(evaluations_test) # list\n",
    "\n",
    "# # len(evaluations_test) # 19\n",
    "\n",
    "# # len(next_game) # 19\n",
    "\n",
    "# # sys.getsizeof(evaluations_) # 248\n",
    "\n",
    "# # sys.getsizeof(evaluations_test) # 248\n",
    "\n",
    "# # sys.getsizeof(next_game) # 216\n",
    "\n",
    "# # sys.getsizeof(df_2022_2018_CvH_distinv) # 290903604\n",
    "\n",
    "# # sys.getsizeof(df_2022_2018_CvH_distinv.moves) # 106755928\n",
    "\n",
    "# # sys.getsizeof(np.uint8(0)) # 25\n",
    "\n",
    "# # sys.getsizeof(np.int8(0)) # 25\n",
    "\n",
    "# # sys.getsizeof(1) # 25\n",
    "\n",
    "# testing = [get_evaluations(game[0]) for game in zip(sample.iloc[0:10].moves)]\n",
    "\n",
    "# len(testing) # 10\n",
    "\n",
    "# sys.getsizeof(testing) #184\n",
    "\n",
    "# sys.getsizeof(testing[0])\n",
    "\n",
    "\n",
    "\n",
    "# zipped_games_moves = zip(sample.moves)\n",
    "\n",
    "# next(zipped_games_moves)[0]\n",
    "\n",
    "\n",
    "\n",
    "# -----\n",
    "\n",
    "# sf_ = Stockfish(path='./stockfish_15_win_x64_ssse/stockfish_15_x64_ssse.exe',\n",
    "#         depth=20,\n",
    "#         parameters={\n",
    "#             \"Threads\": 7,\n",
    "#             \"Hash\": 4096,\n",
    "#             \"MultiPV\": 1,\n",
    "#             \"Skill Level\": 20        \n",
    "            \n",
    "#             }\n",
    "#         )\n",
    "\n",
    "# def get_evaluations(game):\n",
    "#     # Loop for moves in a single game\n",
    "#     evaluations_ = []\n",
    "#     sf_.set_position()\n",
    "#     board=chess.Board()\n",
    "#     for move in game:\n",
    "#         evalution_ = sf_.get_top_moves()\n",
    "#         move_ = board.push_san(move)\n",
    "#         sf_.make_moves_from_current_position([move_])\n",
    "\n",
    "#         evaluations_.append(evalution_)\n",
    "#     return evaluations_\n",
    "    \n",
    "    \n",
    "\n",
    "# def get_all_evaluations(df):\n",
    "#     list_of_all_evaluations = [\n",
    "#         get_evaluations(game[0]) for game in zip(df.moves)\n",
    "#     ]\n",
    "#     return list_of_all_evaluations\n",
    "\n",
    "# # sys.getsizeof(df_2022_2018_CvH_distinv) # 290903604\n",
    "\n",
    "# # sys.getsizeof(df_2022_2018_CvH_distinv.moves) # 106755928\n",
    "\n",
    "\n",
    "\n",
    "\n",
    "\n",
    "# df_2021_2017_titled_distinv = joblib.load(\n",
    "#     './data/preprocessed/2021_2017_titled_distinv.pkl')\n",
    "\n",
    "# # sys.getsizeof(df_2021_2017_titled_distinv) # 163583172\n",
    "\n",
    "# list_2021_2017_titled_distinv_evaluations = get_all_evaluations(df_2021_2017_titled_distinv)\n",
    "\n",
    "# joblib.dump(list_2021_2017_titled_distinv_evaluations,\n",
    "#            '~/Desktop/data/capstone/preprocessed/titled_evaluations.pkl',\n",
    "#            compress=9)\n",
    "\n",
    "\n",
    "\n",
    "\n",
    "\n",
    "# df_2022_2018_CvH_distinv = joblib.load('./data/preprocessed/2022_2018_CvH_distinv_withevent.pkl')\n",
    "\n",
    "# # sys.getsizeof(df_2022_2018_HvH) # 138398944\n",
    "\n",
    "# list_df_2022_2018_CvH_distinv_evaluations = get_all_evaluations(df_2022_2018_CvH_distinv)\n",
    "\n",
    "# joblib.dump(list_df_2022_2018_CvH_distinv_evaluations,\n",
    "#            '~/Desktop/data/capstone/preprocessed/2022_2018_CvH_distinv_evaluations.pkl',\n",
    "#            compress=9)\n",
    "\n",
    "# ----\n",
    "\n",
    "# nums=[1,2,3]\n",
    "# i_nums=iter(nums)\n",
    "\n",
    "# while True:\n",
    "#     try:\n",
    "#         item=next(i_nums)\n",
    "#         print(item)\n",
    "#     except StopIteration:\n",
    "#         break\n",
    "\n",
    "\n",
    "\n",
    "\n",
    "\n"
   ]
  },
  {
   "cell_type": "markdown",
   "id": "eb8a87a2",
   "metadata": {
    "hidden": true
   },
   "source": [
    "----"
   ]
  },
  {
   "cell_type": "markdown",
   "id": "6964b304",
   "metadata": {
    "hidden": true
   },
   "source": [
    "### With chess module"
   ]
  },
  {
   "cell_type": "code",
   "execution_count": null,
   "id": "f7c6f424",
   "metadata": {
    "hidden": true
   },
   "outputs": [],
   "source": []
  },
  {
   "cell_type": "markdown",
   "id": "599c8bc0",
   "metadata": {
    "hidden": true
   },
   "source": [
    "----"
   ]
  },
  {
   "cell_type": "code",
   "execution_count": null,
   "id": "b685b998",
   "metadata": {
    "hidden": true
   },
   "outputs": [],
   "source": []
  },
  {
   "cell_type": "code",
   "execution_count": 11,
   "id": "0e20795e",
   "metadata": {
    "ExecuteTime": {
     "end_time": "2022-11-01T13:23:26.003566Z",
     "start_time": "2022-11-01T13:23:26.000566Z"
    },
    "hidden": true
   },
   "outputs": [],
   "source": [
    "# testing pickle output"
   ]
  },
  {
   "cell_type": "code",
   "execution_count": 6,
   "id": "ce061981",
   "metadata": {
    "ExecuteTime": {
     "end_time": "2022-11-01T13:19:21.446387Z",
     "start_time": "2022-11-01T13:16:11.648306Z"
    },
    "hidden": true
   },
   "outputs": [],
   "source": [
    "# test_pickle = joblib.load('./data/preprocessed/evaluations/3000_.pkl')\n",
    "\n",
    "# len(test_pickle) # 3000\n",
    "# type(test_pickle) # list"
   ]
  },
  {
   "cell_type": "markdown",
   "id": "f07d29fd",
   "metadata": {
    "hidden": true
   },
   "source": [
    "---"
   ]
  },
  {
   "cell_type": "markdown",
   "id": "0370f5f3",
   "metadata": {
    "heading_collapsed": true
   },
   "source": [
    "## Functions to write:"
   ]
  },
  {
   "cell_type": "code",
   "execution_count": null,
   "id": "7f90cb5c",
   "metadata": {
    "ExecuteTime": {
     "end_time": "2022-10-20T21:37:07.070307Z",
     "start_time": "2022-10-20T21:37:07.056345Z"
    },
    "hidden": true
   },
   "outputs": [],
   "source": [
    "# Write function that compares ply count to "
   ]
  },
  {
   "cell_type": "code",
   "execution_count": null,
   "id": "1b3330e4",
   "metadata": {
    "hidden": true
   },
   "outputs": [],
   "source": []
  },
  {
   "cell_type": "code",
   "execution_count": null,
   "id": "c2271f5a",
   "metadata": {
    "hidden": true
   },
   "outputs": [],
   "source": []
  },
  {
   "cell_type": "code",
   "execution_count": null,
   "id": "5e12516a",
   "metadata": {
    "ExecuteTime": {
     "end_time": "2022-10-20T21:37:07.086265Z",
     "start_time": "2022-10-20T21:37:07.071305Z"
    },
    "hidden": true
   },
   "outputs": [],
   "source": [
    "# Write function to check that the length of emt matches ply"
   ]
  },
  {
   "cell_type": "code",
   "execution_count": null,
   "id": "d5693c9f",
   "metadata": {
    "hidden": true
   },
   "outputs": [],
   "source": []
  },
  {
   "cell_type": "code",
   "execution_count": null,
   "id": "e769c509",
   "metadata": {
    "hidden": true
   },
   "outputs": [],
   "source": []
  },
  {
   "cell_type": "code",
   "execution_count": null,
   "id": "7a1ddd29",
   "metadata": {
    "ExecuteTime": {
     "end_time": "2022-10-20T21:37:07.102222Z",
     "start_time": "2022-10-20T21:37:07.087262Z"
    },
    "hidden": true
   },
   "outputs": [],
   "source": [
    "# Write function that checks all the emt have 'emt' in them and not 'clk'"
   ]
  },
  {
   "cell_type": "code",
   "execution_count": null,
   "id": "18e0303f",
   "metadata": {
    "hidden": true
   },
   "outputs": [],
   "source": []
  },
  {
   "cell_type": "code",
   "execution_count": null,
   "id": "a916266a",
   "metadata": {
    "hidden": true
   },
   "outputs": [],
   "source": []
  },
  {
   "cell_type": "code",
   "execution_count": null,
   "id": "b4783d79",
   "metadata": {
    "ExecuteTime": {
     "end_time": "2022-10-20T21:37:07.118180Z",
     "start_time": "2022-10-20T21:37:07.103220Z"
    },
    "hidden": true
   },
   "outputs": [],
   "source": [
    "# Write function to check that none of the emt values are missing"
   ]
  },
  {
   "cell_type": "code",
   "execution_count": null,
   "id": "d9abd753",
   "metadata": {
    "hidden": true
   },
   "outputs": [],
   "source": []
  },
  {
   "cell_type": "code",
   "execution_count": null,
   "id": "f265cb09",
   "metadata": {
    "hidden": true
   },
   "outputs": [],
   "source": []
  },
  {
   "cell_type": "code",
   "execution_count": null,
   "id": "973c2493",
   "metadata": {
    "hidden": true
   },
   "outputs": [],
   "source": []
  },
  {
   "cell_type": "markdown",
   "id": "553c4e3c",
   "metadata": {
    "hidden": true
   },
   "source": [
    "-----"
   ]
  },
  {
   "cell_type": "markdown",
   "id": "557e3f74",
   "metadata": {
    "heading_collapsed": true
   },
   "source": [
    "## Modeling"
   ]
  },
  {
   "cell_type": "code",
   "execution_count": null,
   "id": "e7c63e56",
   "metadata": {
    "hidden": true
   },
   "outputs": [],
   "source": []
  },
  {
   "cell_type": "markdown",
   "id": "7b82fd8c",
   "metadata": {
    "hidden": true
   },
   "source": [
    "------"
   ]
  },
  {
   "cell_type": "markdown",
   "id": "7362299b",
   "metadata": {
    "hidden": true
   },
   "source": [
    "- For now, as I don't have engine evaluations, how do I go about making a classification when it isn't immediately binary i.e. 3 options: white cheating, black cheating, no cheating. \n",
    "\n",
    "- Do all the games start from the starting position?\n",
    "- Does the game being an otb or online game influence how likely a win/draw is? \n",
    "- Is there any noticeable difference in patterns across different elo categories?\n",
    "- What is the distribution of elo? Across humans and computers? How do I take into account the same player and that their elo is changing over time? Do I treat each as independent? \n",
    "- What is the distribution of game length? Does it vary by elo? (Probably yes ?)\n",
    "- What is the distribution of computer-ELO? Are there bots that are low elo? Could this be because people are able to 'set' the strength of the computer opponent? If so this could mess up predictions, think about whether or not they should be removed, maybe they can be kept as 'test-cases' of how well we can predict 'cheaters' who cheat at low-elo."
   ]
  },
  {
   "cell_type": "markdown",
   "id": "0ec18c78",
   "metadata": {
    "heading_collapsed": true
   },
   "source": [
    "# Considerations:"
   ]
  },
  {
   "cell_type": "markdown",
   "id": "91035b30",
   "metadata": {
    "hidden": true
   },
   "source": [
    "Using ELO difference/metric as a feature in predicting expected outcome of game.\n",
    "- Using opening played as a feature in predicting if cheater or not.\n",
    "- Use an engine to evaluate sequences of chess moves played in a game to learn average centipawn loss/gain, the centipawn loss/gain for each move, the number of innacuracies, mistakes, blunders. \n",
    "- How many opening moves to eliminate?\n",
    "\n",
    "\n",
    "\n",
    "- Lichess games offer "
   ]
  },
  {
   "cell_type": "code",
   "execution_count": null,
   "id": "7d52d6e8",
   "metadata": {
    "hidden": true
   },
   "outputs": [],
   "source": []
  },
  {
   "cell_type": "markdown",
   "id": "f7c98a32",
   "metadata": {
    "heading_collapsed": true
   },
   "source": [
    "# Notes from Data Skeptic:"
   ]
  },
  {
   "cell_type": "markdown",
   "id": "b385bcfb",
   "metadata": {
    "hidden": true
   },
   "source": [
    "- Humans tend to make little blunders all the time \"oh I didn't notice this idea, luckily my position still holds\".\n",
    "- Computers tend to keep their options open, X was able to demonstrate that humans, if they see an attack, will try to play it and force an early crisis in the game.\n",
    "- In aggregates of 100-200 moves, X believes you can then determine with confidence if someone was cheating.\n",
    "- \"Distance metric (of two probabilities?)\" : \"You can't just say deterministically what is the computer's move. It depends on many variables such as the depth of search, [pv or multi-pv], the identity of the computer program, even how much hash memory you've given it. There's a variation there (i.e. a probability distribution). The human being is a distribution, often fallable distribution, of options.\"\n",
    "- Originally going to use 'fidelity' which is a distance measure between distributions, which often comes up in computational physics. A former student recommended the 'Yensen-Shannon divergence (?)' which would solve a problem of 'Koblak-Leibler (?)' divergence of being too hair trigger in the treatment of blunders but it lacked other properties which X needed. \n",
    "- Wound up doing something 'highly elementary': maps given analysis of positions in a game, and parameters denoting the strength and particulars of the human player, he maps each chess move to probabilities, as if he were painting that move on the faces of many sided dice. And then he treats the chess position as a roll of those dice, so for this player, there's a 49% chance of selecting Ng5, 27% for Qg4, and so on down the line. After that, he can tap into the very simple stats theory of Bernoulli distributions (rolls of dice, flips of coins), and not only project the expected mean number of agreements, but also the projected variance, from the Bernoulli distribution theory, and thereby project confidence intervals, and since he's estimating a sample mean, the CLT comes into play, so he's working with a normal distribution and can use a z-score framework for his statistical projections. \n",
    "- If there is a clear stand-out move (e.g. only one move that keeps you alive in the position) then not only will the computer find it, it is highly likely that the good human player will find it. Whereas, even if you have just 10 moves in a game, where each move there were 4 highly reasonable options, which X's model would assign probabilities say between 20-25% each, and you consistently select the option that shows as preferred in X's computer test (...something about Modulo and distribution), if you match the computer's preferred move for 10 or more moves in a row, that a mllion to one probability.\n",
    "- Two modes of chess analysis with comp: multi-pv mode where comp has equal depth of search to all reasonable options in a position, single-pv is regular playing mode where computer focuses its resources on the move it thinks best and one or two competing moves. A lot of the art of practical computers playig against each others is how quickly can they prune away the sub-optimal moves. For his model, he needs to know the values of all the reasonalbe moves that the player might be considering, and the general landscape or shape of the position (either forcing or lots of options etc.).\n",
    "- For the training set, he has 10,000 games of multi-pv data, he took those games wehre each player is at one of the century points in the chess rating; for each of the levels above 2000 (Expert) he exhaustively chose games where both players were within 10 or so of those century points, run those games and he has his training data for yay-rated players. He is then therefor able to relate his two main model parameters to strength on that elo scale. Supplementing this he has a vast amount of single-pv (basically every top rated game in the recorded history of chess - over 200,000 games total). \n",
    "- He also routinely screens about 80,000 games out of the world's top events every year (codified as screening mode - he can get a first look at the play and relate it to the distributions of tens of thousands of performances of players at all ranks to see how much of an apparent outlier it is. \n",
    "- About a surprise winner: when he ran the screening test the player was on the edge of the red zone, but when he ran the full test based on the training data (multi-pv mode) it gave a z-score under 1.5 (the minimum was 2 for any kind of statistical significance) meaning it was unlikely that the player was cheaitng (his GM opponent was over-eager in trying to win and ended up losing). \n",
    "- He talks a little about how the arbiters, given their chess domain knowledge, likely made the right decision as they would have been able to see the situation on the ground (i.e. seen the critical positions, how the GM was winning, then made a mistake etc.). \n",
    "- Up until about 2+ years ago, the highest z-score he got in cases he was involved in was about 3.5, which corresponds to 4,300-to-1 odds against a Null hypothesis. Although very important, what it really means is that's the incidence of such a deviation occuring naturally among non-cheating players. Every week there are more than 1000 players taking part in tournaments around the globe, significant enough tto be aggregated on 'the week in chess'/'the weekend chess' by Mike 'Crowder'(?). You have to be aware of how your sample was selected or if there were any other factors which brought it to your attention apart from people going over the games with computers and noting a high correspondence. He believes that there has to be independent evidence. \n",
    "- [Section talking about comparing the quality of moves in a player's games in a tournament where there were known to be transmissions and expected-transmissionless games and how the differnce in quality of moves was about 3200 compared to 2550, so this was another indicator that the player was cheating.]\n",
    "- Up until Jan 2013 he did not get any z-scores above 3.5, but then suddenly z-scores above 5 (even closer to 6) ..."
   ]
  },
  {
   "cell_type": "markdown",
   "id": "18961b17",
   "metadata": {},
   "source": [
    "# Appendix:"
   ]
  },
  {
   "cell_type": "markdown",
   "id": "07e00688",
   "metadata": {
    "heading_collapsed": true
   },
   "source": [
    "## Figuring out how to get emt:"
   ]
  },
  {
   "cell_type": "code",
   "execution_count": null,
   "id": "848023ef",
   "metadata": {
    "ExecuteTime": {
     "end_time": "2022-10-20T21:37:07.559883Z",
     "start_time": "2022-10-20T21:37:07.559883Z"
    },
    "hidden": true
   },
   "outputs": [],
   "source": [
    "pgn = open(\"data/raw_data/2022/ficsgamesdb_search_262781.pgn\")\n",
    "game = chess.pgn.read_game(pgn)"
   ]
  },
  {
   "cell_type": "code",
   "execution_count": null,
   "id": "916cecda",
   "metadata": {
    "ExecuteTime": {
     "end_time": "2022-10-20T21:37:07.560880Z",
     "start_time": "2022-10-20T21:37:07.560880Z"
    },
    "hidden": true
   },
   "outputs": [],
   "source": [
    "print(game)"
   ]
  },
  {
   "cell_type": "markdown",
   "id": "cec207a2",
   "metadata": {
    "hidden": true
   },
   "source": [
    "%emt refers to the time used on a move. %clk refers to actual clock time. "
   ]
  },
  {
   "cell_type": "markdown",
   "id": "732adc15",
   "metadata": {
    "hidden": true
   },
   "source": [
    "From the pgn we can see time spent per move. "
   ]
  },
  {
   "cell_type": "code",
   "execution_count": null,
   "id": "a2929055",
   "metadata": {
    "ExecuteTime": {
     "end_time": "2022-10-20T21:37:07.561877Z",
     "start_time": "2022-10-20T21:37:07.561877Z"
    },
    "hidden": true
   },
   "outputs": [],
   "source": [
    "type(game)"
   ]
  },
  {
   "cell_type": "code",
   "execution_count": null,
   "id": "a6d5c4ef",
   "metadata": {
    "ExecuteTime": {
     "end_time": "2022-10-20T21:37:07.563871Z",
     "start_time": "2022-10-20T21:37:07.563871Z"
    },
    "hidden": true
   },
   "outputs": [],
   "source": [
    "game.mainline()"
   ]
  },
  {
   "cell_type": "code",
   "execution_count": null,
   "id": "c6edeaa9",
   "metadata": {
    "ExecuteTime": {
     "end_time": "2022-10-20T21:37:07.564868Z",
     "start_time": "2022-10-20T21:37:07.564868Z"
    },
    "hidden": true
   },
   "outputs": [],
   "source": [
    "game.board().san(game.variation(0).move)"
   ]
  },
  {
   "cell_type": "code",
   "execution_count": null,
   "id": "dd3985dd",
   "metadata": {
    "ExecuteTime": {
     "end_time": "2022-10-20T21:37:07.565865Z",
     "start_time": "2022-10-20T21:37:07.565865Z"
    },
    "hidden": true
   },
   "outputs": [],
   "source": [
    "game.headers"
   ]
  },
  {
   "cell_type": "code",
   "execution_count": null,
   "id": "6bcdf858",
   "metadata": {
    "ExecuteTime": {
     "end_time": "2022-10-20T21:37:07.566891Z",
     "start_time": "2022-10-20T21:37:07.566891Z"
    },
    "hidden": true
   },
   "outputs": [],
   "source": [
    "game.mainline()"
   ]
  },
  {
   "cell_type": "code",
   "execution_count": null,
   "id": "967a106f",
   "metadata": {
    "ExecuteTime": {
     "end_time": "2022-10-20T21:37:07.567860Z",
     "start_time": "2022-10-20T21:37:07.567860Z"
    },
    "hidden": true
   },
   "outputs": [],
   "source": [
    "for node in game.mainline():\n",
    "    print(node.move, node.emt(), node.clock())\n",
    "    print(node.comment)"
   ]
  },
  {
   "cell_type": "code",
   "execution_count": null,
   "id": "07074a9c",
   "metadata": {
    "ExecuteTime": {
     "end_time": "2022-10-20T21:37:07.568858Z",
     "start_time": "2022-10-20T21:37:07.568858Z"
    },
    "hidden": true
   },
   "outputs": [],
   "source": [
    "help(game)"
   ]
  },
  {
   "cell_type": "code",
   "execution_count": null,
   "id": "4c8d9795",
   "metadata": {
    "ExecuteTime": {
     "end_time": "2022-10-20T21:37:07.569856Z",
     "start_time": "2022-10-20T21:37:07.569856Z"
    },
    "hidden": true
   },
   "outputs": [],
   "source": [
    "# seems like the emt is in the game.comment"
   ]
  },
  {
   "cell_type": "code",
   "execution_count": null,
   "id": "2d9c1ca7",
   "metadata": {
    "ExecuteTime": {
     "end_time": "2022-10-20T21:37:07.570853Z",
     "start_time": "2022-10-20T21:37:07.570853Z"
    },
    "hidden": true
   },
   "outputs": [],
   "source": [
    "game.variation(0).comment"
   ]
  },
  {
   "cell_type": "code",
   "execution_count": null,
   "id": "301640d8",
   "metadata": {
    "ExecuteTime": {
     "end_time": "2022-10-20T21:37:07.571850Z",
     "start_time": "2022-10-20T21:37:07.571850Z"
    },
    "hidden": true
   },
   "outputs": [],
   "source": [
    "teste_ = pd.read_json(\"data/raw_data/json/2017/ficsgamesdb_search_262781.json\")"
   ]
  },
  {
   "cell_type": "code",
   "execution_count": null,
   "id": "4fd88510",
   "metadata": {
    "ExecuteTime": {
     "end_time": "2022-10-20T21:37:07.572848Z",
     "start_time": "2022-10-20T21:37:07.572848Z"
    },
    "hidden": true
   },
   "outputs": [],
   "source": [
    "teste_.moves"
   ]
  },
  {
   "cell_type": "code",
   "execution_count": null,
   "id": "68f89a94",
   "metadata": {
    "ExecuteTime": {
     "end_time": "2022-10-20T21:37:07.573845Z",
     "start_time": "2022-10-20T21:37:07.573845Z"
    },
    "hidden": true
   },
   "outputs": [],
   "source": [
    "teste_.loc[0];"
   ]
  },
  {
   "cell_type": "code",
   "execution_count": null,
   "id": "929cfe56",
   "metadata": {
    "ExecuteTime": {
     "end_time": "2022-10-20T21:37:07.574842Z",
     "start_time": "2022-10-20T21:37:07.574842Z"
    },
    "hidden": true
   },
   "outputs": [],
   "source": [
    "teste_.columns"
   ]
  },
  {
   "cell_type": "markdown",
   "id": "45305cac",
   "metadata": {
    "heading_collapsed": true
   },
   "source": [
    "## Making df column and dtype helper:"
   ]
  },
  {
   "cell_type": "code",
   "execution_count": null,
   "id": "17b5225a",
   "metadata": {
    "ExecuteTime": {
     "end_time": "2022-10-20T21:37:07.575839Z",
     "start_time": "2022-10-20T21:37:07.575839Z"
    },
    "hidden": true
   },
   "outputs": [],
   "source": [
    "df.columns"
   ]
  },
  {
   "cell_type": "code",
   "execution_count": null,
   "id": "7383b6a5",
   "metadata": {
    "ExecuteTime": {
     "end_time": "2022-10-20T21:37:07.576837Z",
     "start_time": "2022-10-20T21:37:07.576837Z"
    },
    "hidden": true
   },
   "outputs": [],
   "source": [
    "columns = list(df.columns)\n",
    "columns"
   ]
  },
  {
   "cell_type": "code",
   "execution_count": null,
   "id": "30e8746e",
   "metadata": {
    "ExecuteTime": {
     "end_time": "2022-10-20T21:37:07.577834Z",
     "start_time": "2022-10-20T21:37:07.577834Z"
    },
    "hidden": true
   },
   "outputs": [],
   "source": [
    "list(df.dtypes);"
   ]
  },
  {
   "cell_type": "code",
   "execution_count": null,
   "id": "6fad7544",
   "metadata": {
    "ExecuteTime": {
     "end_time": "2022-10-20T21:37:07.578831Z",
     "start_time": "2022-10-20T21:37:07.578831Z"
    },
    "hidden": true,
    "scrolled": false
   },
   "outputs": [],
   "source": [
    "df.dtypes.reset_index().head()"
   ]
  },
  {
   "cell_type": "code",
   "execution_count": null,
   "id": "b72eb594",
   "metadata": {
    "ExecuteTime": {
     "end_time": "2022-10-20T21:37:07.579829Z",
     "start_time": "2022-10-20T21:37:07.579829Z"
    },
    "hidden": true
   },
   "outputs": [],
   "source": [
    "df.dtypes.reset_index().loc[:,0]"
   ]
  },
  {
   "cell_type": "code",
   "execution_count": null,
   "id": "e621b415",
   "metadata": {
    "ExecuteTime": {
     "end_time": "2022-10-20T21:37:07.580826Z",
     "start_time": "2022-10-20T21:37:07.580826Z"
    },
    "hidden": true
   },
   "outputs": [],
   "source": [
    "df.WhiteElo.dtype == np.int64"
   ]
  },
  {
   "cell_type": "code",
   "execution_count": null,
   "id": "94ab2731",
   "metadata": {
    "ExecuteTime": {
     "end_time": "2022-10-20T21:37:07.581824Z",
     "start_time": "2022-10-20T21:37:07.581824Z"
    },
    "hidden": true
   },
   "outputs": [],
   "source": [
    "df.WhiteElo.dtype == 'int64'"
   ]
  },
  {
   "cell_type": "code",
   "execution_count": null,
   "id": "7ee7e4db",
   "metadata": {
    "ExecuteTime": {
     "end_time": "2022-10-20T21:37:07.582821Z",
     "start_time": "2022-10-20T21:37:07.582821Z"
    },
    "hidden": true
   },
   "outputs": [],
   "source": [
    "df.Event.dtype == 'O'"
   ]
  },
  {
   "cell_type": "code",
   "execution_count": null,
   "id": "4a40925b",
   "metadata": {
    "ExecuteTime": {
     "end_time": "2022-10-20T21:37:07.583819Z",
     "start_time": "2022-10-20T21:37:07.583819Z"
    },
    "hidden": true
   },
   "outputs": [],
   "source": [
    "df.Date.dtype == '<M8[ns]'"
   ]
  },
  {
   "cell_type": "code",
   "execution_count": null,
   "id": "b4f6c70b",
   "metadata": {
    "ExecuteTime": {
     "end_time": "2022-10-20T21:37:07.584815Z",
     "start_time": "2022-10-20T21:37:07.584815Z"
    },
    "hidden": true
   },
   "outputs": [],
   "source": [
    "df.Date.dtype == 'datetime64[ns]'"
   ]
  },
  {
   "cell_type": "code",
   "execution_count": null,
   "id": "6748bd16",
   "metadata": {
    "ExecuteTime": {
     "end_time": "2022-10-20T21:37:07.585812Z",
     "start_time": "2022-10-20T21:37:07.585812Z"
    },
    "hidden": true
   },
   "outputs": [],
   "source": [
    "#     def dtype_checker(df, schema):\n",
    "#         wrong_dtypes = [[i, j] for i, j in schema.items() if i in df.columns and df[i].dtype!=j]\n",
    "#         if len(wrong_dtypes)!=0:\n",
    "#             for row in [f'Column {k[0]} does not match datatype {k[1]}' for k in wrong_dtypes]:\n",
    "#                 print(row)\n",
    "#             return False\n",
    "#         else:\n",
    "#             return True"
   ]
  },
  {
   "cell_type": "code",
   "execution_count": null,
   "id": "ef76cf0a",
   "metadata": {
    "ExecuteTime": {
     "end_time": "2022-10-20T21:37:07.586810Z",
     "start_time": "2022-10-20T21:37:07.586810Z"
    },
    "code_folding": [
     0
    ],
    "hidden": true
   },
   "outputs": [],
   "source": [
    "#     expected_schema = {\n",
    "#         'Event': 'object',\n",
    "#         'Site': 'object',\n",
    "#         'Date': 'datetime64[ns]',\n",
    "#         'Round': 'object',\n",
    "#         'White': 'object',\n",
    "#         'Black': 'object',\n",
    "#         'Result': 'object',\n",
    "#         'BlackClock': 'object',\n",
    "#         'BlackElo':  'int64',\n",
    "#         'BlackIsComp': 'object',\n",
    "#         'BlackRD': 'float64',\n",
    "#         'ECO': 'object',\n",
    "#         'FICSGamesDBGameNo':  'int64',\n",
    "#         'PlyCount':  'int64',\n",
    "#         'Time': 'object',\n",
    "#         'TimeControl': 'object',\n",
    "#         'WhiteClock': 'object',\n",
    "#         'WhiteElo':  'int64',\n",
    "#         'WhiteRD': 'float64',\n",
    "#         'emt': 'object',\n",
    "#         'moves': 'object',\n",
    "#         'WhiteIsComp': 'object'  \n",
    "#     }"
   ]
  },
  {
   "cell_type": "code",
   "execution_count": null,
   "id": "e3477b4b",
   "metadata": {
    "ExecuteTime": {
     "end_time": "2022-10-20T21:37:07.587807Z",
     "start_time": "2022-10-20T21:37:07.587807Z"
    },
    "hidden": true
   },
   "outputs": [],
   "source": [
    "# dtype_checker(df, expected_schema)"
   ]
  },
  {
   "cell_type": "code",
   "execution_count": null,
   "id": "937e997c",
   "metadata": {
    "ExecuteTime": {
     "end_time": "2022-10-20T21:37:07.588805Z",
     "start_time": "2022-10-20T21:37:07.588805Z"
    },
    "hidden": true
   },
   "outputs": [],
   "source": [
    "# def schema_checker(df, cols):\n",
    "#     missing_cols = [i for i in cols if i not in df.columns]\n",
    "#     if len(missing_cols)!=0:\n",
    "#         for col in [f'Column {i} not found' for i in missing_cols]:\n",
    "#             print(col)\n",
    "#         return False\n",
    "#     else:\n",
    "#         return True"
   ]
  },
  {
   "cell_type": "code",
   "execution_count": null,
   "id": "87cf1d68",
   "metadata": {
    "ExecuteTime": {
     "end_time": "2022-10-20T21:37:07.589802Z",
     "start_time": "2022-10-20T21:37:07.589802Z"
    },
    "hidden": true
   },
   "outputs": [],
   "source": [
    "# schema_checker(df, expected_schema.keys())"
   ]
  },
  {
   "cell_type": "code",
   "execution_count": null,
   "id": "81c60eea",
   "metadata": {
    "ExecuteTime": {
     "end_time": "2022-10-20T21:37:07.590801Z",
     "start_time": "2022-10-20T21:37:07.590801Z"
    },
    "hidden": true
   },
   "outputs": [],
   "source": [
    "# df_wrong = df.copy().rename(columns={'BlackRD': 'Wrongs'})"
   ]
  },
  {
   "cell_type": "code",
   "execution_count": null,
   "id": "7e43b7f2",
   "metadata": {
    "ExecuteTime": {
     "end_time": "2022-10-20T21:37:07.591796Z",
     "start_time": "2022-10-20T21:37:07.591796Z"
    },
    "hidden": true
   },
   "outputs": [],
   "source": [
    "# schema_checker(df_wrong, expected_schema.keys())"
   ]
  },
  {
   "cell_type": "markdown",
   "id": "9745c3f7",
   "metadata": {
    "heading_collapsed": true
   },
   "source": [
    "## Making XIsComp helper:"
   ]
  },
  {
   "cell_type": "code",
   "execution_count": null,
   "id": "a0acbabc",
   "metadata": {
    "ExecuteTime": {
     "end_time": "2022-10-20T21:37:07.592794Z",
     "start_time": "2022-10-20T21:37:07.592794Z"
    },
    "hidden": true
   },
   "outputs": [],
   "source": [
    "# def change_comp_columns(df):\n",
    "#     ## make copy df\n",
    "\n",
    "#     nocomp_df = df.copy()\n",
    "    \n",
    "#     ## check number of unique in blackiscomp and whiteiscomp (should be 2)\n",
    "#     assert all([nocomp_df[x].nunique(dropna=False)==2 for x in ['WhiteIsComp', 'BlackIsComp']]), 'More than two unique values in a XIsComp column (including nan)'\n",
    "    \n",
    "#     ## check one of the unique values are 'Yes'\n",
    "#     assert all(['Yes' in nocomp_df[x].unique() for x in ['WhiteIsComp', 'BlackIsComp']]), 'Missing \"Yes\" in one of the XIsComp column'\n",
    "\n",
    "#     ## assign 1 and 0 to blackiscomp and whiteiscomp\n",
    "\n",
    "#     nocomp_df['WhiteIsComp'] = np.where(nocomp_df['WhiteIsComp']=='Yes', np.int8(1), np.int8(0))\n",
    "#     nocomp_df['BlackIsComp'] = np.where(nocomp_df['BlackIsComp']=='Yes', np.int8(1), np.int8(0))\n",
    "\n",
    "#     ## make new 'nocomp' column which depends on blackiscomp==1 and whiteiscomp==1\n",
    "\n",
    "#     nocomp_df['NoComp'] = np.where(zip(nocomp_df['WhiteIsComp'], nocomp_df['BlackIsComp'])==[0, 0], np.int8(1), np.int8(0))\n",
    "    \n",
    "#     return nocomp_df"
   ]
  },
  {
   "cell_type": "code",
   "execution_count": null,
   "id": "55509645",
   "metadata": {
    "ExecuteTime": {
     "end_time": "2022-10-20T21:37:07.593791Z",
     "start_time": "2022-10-20T21:37:07.593791Z"
    },
    "hidden": true
   },
   "outputs": [],
   "source": [
    "# nocomp_df_test = hp.change_comp_columns(df)\n",
    "\n",
    "# # validating the shape is (2, 0) if there are only games with cheaters (i.e. XIsComp==1)\n",
    "# nocomp_df_test[['BlackIsComp', 'WhiteIsComp', 'NoComp']].groupby(['BlackIsComp', 'WhiteIsComp', 'NoComp']).count()\n",
    "\n",
    "# nocomp_df_test[['BlackIsComp', 'WhiteIsComp', 'NoComp']].groupby([\n",
    "#     'BlackIsComp', 'WhiteIsComp', 'NoComp']).count().shape[0]; # 2\n",
    "\n",
    "\n",
    "# # validating the shape is (3, 0) if there is at least one entry that is NoComp==1\n",
    "# nocomp_df_test_2  = nocomp_df_test.copy()\n",
    "# nocomp_df_test_2.loc[0,['BlackIsComp', 'WhiteIsComp', 'NoComp']] = [0, 0, 1]\n",
    "# nocomp_df_test_2[['BlackIsComp', 'WhiteIsComp', 'NoComp']].iloc[0]\n",
    "# nocomp_df_test_2[['BlackIsComp', 'WhiteIsComp', 'NoComp']].groupby(['BlackIsComp', 'WhiteIsComp', 'NoComp']).count()\n",
    "\n",
    "# nocomp_df_test_2[['BlackIsComp', 'WhiteIsComp', 'NoComp']].groupby([\n",
    "#     'BlackIsComp', 'WhiteIsComp', 'NoComp']).count().shape[0]; # 3"
   ]
  },
  {
   "cell_type": "code",
   "execution_count": null,
   "id": "0e844a82",
   "metadata": {
    "ExecuteTime": {
     "end_time": "2022-10-20T21:37:07.594789Z",
     "start_time": "2022-10-20T21:37:07.594789Z"
    },
    "hidden": true
   },
   "outputs": [],
   "source": [
    "# make 'nocomp' column:\n",
    "\n",
    "## make copy df\n",
    "\n",
    "nocomp_df = df.copy()\n",
    "\n",
    "## check number of unique in blackiscomp and whiteiscomp (should be 2)\n",
    "\n",
    "# white_comp_unique_num = nocomp_df.WhiteIsComp.nunique(dropna=False)\n",
    "# black_comp_unique_num = nocomp_df.BlackIsComp.nunique(dropna=False)\n",
    "# comp_unique_num = [nocomp_df[x].nunique(dropna=False) for x in ['WhiteIsComp', 'BlackIsComp']]\n",
    "# print(comp_unique_num) # [2, 2]\n",
    "# print(all(comp_unique_num))\n",
    "# comp_unique_num_is2 = np.array([nocomp_df[x].nunique(dropna=False)==2 for x in ['WhiteIsComp', 'BlackIsComp']]).all()\n",
    "# assert np.array([nocomp_df[x].nunique(dropna=False)==2 for x in ['WhiteIsComp', 'BlackIsComp']]).all()==True, 'More than two unique values in a XIsComp column (including nan)'\n",
    "# print(comp_unique_num_is2)\n",
    "comp_unique_num_is2 = all([nocomp_df[x].nunique(dropna=False)==2 for x in ['WhiteIsComp', 'BlackIsComp']])\n",
    "# print(comp_unique_num_is2)\n",
    "\n",
    "# bla = np.array([nocomp_df[x].nunique(dropna=False)==2 for x in ['WhiteIsComp', 'BlackIsComp']])\n",
    "# bla[0]=False\n",
    "# print(all(bla)) # False\n",
    "\n",
    "\n",
    "## check one of the unique values are 'Yes'\n",
    "\n",
    "has_yes_list = ['Yes' in nocomp_df[x].unique() for x in ['WhiteIsComp', 'BlackIsComp']]\n",
    "# print(has_yes_list) # [True, True]\n",
    "has_yes = all(has_yes_list)\n",
    "# print(has_yes)\n",
    "\n",
    "## assign 1 and 0 to blackiscomp and whiteiscomp\n",
    "\n",
    "# nocomp_df['WhiteIsComp'] = nocomp_df['WhiteIsComp'].apply(lambda x: np.int8(1) if x=='Yes' else np.int8(0))\n",
    "# nocomp_df['BlackIsComp'] = nocomp_df['BlackIsComp'].apply(lambda x: np.int8(1) if x=='Yes' else np.int8(0))\n",
    "\n",
    "nocomp_df['WhiteIsComp'] = np.where(nocomp_df['WhiteIsComp']=='Yes', np.int8(1), np.int8(0))\n",
    "nocomp_df['BlackIsComp'] = np.where(nocomp_df['BlackIsComp']=='Yes', np.int8(1), np.int8(0))\n",
    "\n",
    "\n",
    "#---#\n",
    "\n",
    "## make new 'nocomp' column which depends on blackiscomp==1 and whiteiscomp==1\n",
    "\n",
    "# fastest is:\n",
    "nocomp_df['NoComp'] = np.where(next(zip(nocomp_df['WhiteIsComp'], nocomp_df['BlackIsComp']))==(0, 0), \n",
    "                               np.int8(1),\n",
    "                               np.int8(0))\n",
    "\n",
    "# testing was done to compare speeds\n"
   ]
  },
  {
   "cell_type": "code",
   "execution_count": null,
   "id": "5b38a51d",
   "metadata": {
    "ExecuteTime": {
     "end_time": "2022-10-22T12:58:34.463743Z",
     "start_time": "2022-10-22T12:58:34.453792Z"
    },
    "hidden": true
   },
   "outputs": [],
   "source": [
    "# compare speed of np.array(...).all() and all([...])\n",
    "\n",
    "# all([...]) marginally faster\n",
    "\n",
    "# # %%timeit # 1.58 ms ± 55.5 µs per loop (mean ± std. dev. of 7 runs, 1,000 loops each)\n",
    "# nocomp_df = df.copy()\n",
    "# comp_unique_num_is2 = np.array([nocomp_df[x].nunique(dropna=False)==2 for x in ['WhiteIsComp', 'BlackIsComp']]).all()\n",
    "# comp_unique_num_is2\n",
    "\n",
    "# # %%timeit # 1.51 ms ± 18.5 µs per loop (mean ± std. dev. of 7 runs, 1,000 loops each)\n",
    "# nocomp_df = df.copy()\n",
    "# comp_unique_num_is2 = all([nocomp_df[x].nunique(dropna=False)==2 for x in ['WhiteIsComp', 'BlackIsComp']])\n",
    "# comp_unique_num_is2"
   ]
  },
  {
   "cell_type": "code",
   "execution_count": null,
   "id": "53c17435",
   "metadata": {
    "ExecuteTime": {
     "end_time": "2022-10-20T21:37:07.596784Z",
     "start_time": "2022-10-20T21:37:07.596784Z"
    },
    "code_folding": [
     0
    ],
    "hidden": true
   },
   "outputs": [],
   "source": [
    "# Compare np.where and df.apply speed:\n",
    "\n",
    "# # timing np.where\n",
    "# nocomp_df = df.copy()\n",
    "# nocomp_df['WhiteIsComp'] = np.where(nocomp_df['WhiteIsComp']=='Yes', np.int8(1), np.int8(0))\n",
    "# nocomp_df['BlackIsComp'] = np.where(nocomp_df['BlackIsComp']=='Yes', np.int8(1), np.int8(0))\n",
    "\n",
    "\n",
    "#-----#\n",
    "\n",
    "# any([np.int8(0), np.int8(1)]) # True\n",
    "\n",
    "# zip(nocomp_df['WhiteIsComp'], nocomp_df['BlackIsComp']) # <zip at 0x2ac85d24c40>\n",
    "\n",
    "# for element in zip(nocomp_df['WhiteIsComp'], nocomp_df['BlackIsComp']):\n",
    "#     print(element)\n",
    "\n",
    "# [np.int8(0) if any(element) else np.int8(1) for element in zip(nocomp_df['WhiteIsComp'], nocomp_df['BlackIsComp'])]\n",
    "\n",
    "# pd.Series([np.int8(1) if all(element) else np.int8(0) for element in zip(nocomp_df['WhiteIsComp'], nocomp_df['BlackIsComp'])])\n",
    "\n",
    "# nocomp_df['NoComp'] = [np.int8(0) if any(element) else np.int8(1) for element in zip(nocomp_df['WhiteIsComp'], nocomp_df['BlackIsComp'])]\n",
    "\n",
    "# nocomp_df['NoComp'].any() # False\n",
    "\n",
    "# nocomp_df['NoComp'] = np.where(zip(nocomp_df['WhiteIsComp'], nocomp_df['BlackIsComp'])==[0, 0], np.int8(1), np.int8(0))\n",
    "# np.int8(0)==0 # True\n",
    "# np.int8(1)==1 # True\n",
    "\n",
    "# nocomp_df['NoComp'].any() # False \n",
    "\n",
    "# nocomp_df['WhiteIsComp']==1 # Series of True and False\n",
    "\n",
    "#------#\n",
    "\n",
    "# # %%timeit # 54.6 ms ± 420 µs per loop (mean ± std. dev. of 7 runs, 10 loops each)\n",
    "# # timing df.apply()\n",
    "# nocomp_df = df.copy()\n",
    "# nocomp_df['WhiteIsComp'] = nocomp_df['WhiteIsComp'].apply(lambda x: np.int8(1) if x=='Yes' else np.int8(0))\n",
    "# nocomp_df['BlackIsComp'] = nocomp_df['BlackIsComp'].apply(lambda x: np.int8(1) if x=='Yes' else np.int8(0))"
   ]
  },
  {
   "cell_type": "code",
   "execution_count": null,
   "id": "03593231",
   "metadata": {
    "ExecuteTime": {
     "end_time": "2022-10-22T14:27:12.092676Z",
     "start_time": "2022-10-22T14:27:12.078741Z"
    },
    "hidden": true
   },
   "outputs": [],
   "source": [
    "# # Comparing 3 methods for making NoComp column (on Muninn):\n",
    "\n",
    "nocomp_df = df_2018_test.copy()\n",
    "nocomp_df['WhiteIsComp'] = np.where(nocomp_df['WhiteIsComp']=='Yes', np.int8(1), np.int8(0))\n",
    "nocomp_df['BlackIsComp'] = np.where(nocomp_df['BlackIsComp']=='Yes', np.int8(1), np.int8(0))\n",
    "\n",
    "# #--#"
   ]
  },
  {
   "cell_type": "code",
   "execution_count": null,
   "id": "e46673e3",
   "metadata": {
    "ExecuteTime": {
     "end_time": "2022-10-22T14:19:18.554364Z",
     "start_time": "2022-10-22T14:19:18.547355Z"
    },
    "code_folding": [],
    "hidden": true
   },
   "outputs": [],
   "source": [
    "# # %%timeit # 156 ms ± 517 µs per loop (mean ± std. dev. of 7 runs, 10 loops each)\n",
    "\n",
    "# # .apply()\n",
    "\n",
    "# nocomp_df['NoComp'] = nocomp_df.apply(lambda x: np.int8(1) if (x['WhiteIsComp']!=1 and \\\n",
    "#                                                                x['BlackIsComp']!=1) else np.int8(0), axis=1)"
   ]
  },
  {
   "cell_type": "code",
   "execution_count": null,
   "id": "40ef49a2",
   "metadata": {
    "ExecuteTime": {
     "end_time": "2022-10-22T14:19:20.355537Z",
     "start_time": "2022-10-22T14:19:20.337852Z"
    },
    "hidden": true
   },
   "outputs": [],
   "source": [
    "# apply_ = nocomp_df['NoComp'].copy()"
   ]
  },
  {
   "cell_type": "code",
   "execution_count": null,
   "id": "e20e50b7",
   "metadata": {
    "ExecuteTime": {
     "end_time": "2022-10-22T14:19:15.384682Z",
     "start_time": "2022-10-22T14:19:15.379669Z"
    },
    "hidden": true
   },
   "outputs": [],
   "source": [
    "# apply_;"
   ]
  },
  {
   "cell_type": "code",
   "execution_count": null,
   "id": "0b9db2cc",
   "metadata": {
    "ExecuteTime": {
     "end_time": "2022-10-22T14:15:47.350477Z",
     "start_time": "2022-10-22T14:15:47.338486Z"
    },
    "hidden": true
   },
   "outputs": [],
   "source": [
    "#--#"
   ]
  },
  {
   "cell_type": "code",
   "execution_count": null,
   "id": "0069f132",
   "metadata": {
    "ExecuteTime": {
     "end_time": "2022-10-22T14:15:47.476498Z",
     "start_time": "2022-10-22T14:15:47.470515Z"
    },
    "code_folding": [],
    "hidden": true
   },
   "outputs": [],
   "source": [
    "# nocomp_df['NoComp'][0:5] # looks good"
   ]
  },
  {
   "cell_type": "code",
   "execution_count": null,
   "id": "7e5b9cdc",
   "metadata": {
    "ExecuteTime": {
     "end_time": "2022-10-22T14:19:42.599471Z",
     "start_time": "2022-10-22T14:19:42.593456Z"
    },
    "code_folding": [],
    "hidden": true
   },
   "outputs": [],
   "source": [
    "# # %%timeit # 49.5 ms ± 164 µs per loop (mean ± std. dev. of 7 runs, 10 loops each)\n",
    "\n",
    "# # list comprehension using 'for element in zip'\n",
    "\n",
    "# nocomp_df['NoComp'] = [np.int8(1) if element==(0, 0) else np.int8(0) for element in \\\n",
    "#                        zip(nocomp_df['WhiteIsComp'], nocomp_df['BlackIsComp'])]\n",
    "\n",
    "# # nocomp_df['NoComp'] = [np.int8(0) if any(element) else np.int8(1) for element in \\\n",
    "# #                        zip(nocomp_df['WhiteIsComp'], nocomp_df['BlackIsComp'])]\n",
    "\n",
    "# # [element for element in \\\n",
    "# #  zip(nocomp_df['WhiteIsComp'], nocomp_df['BlackIsComp'])]"
   ]
  },
  {
   "cell_type": "code",
   "execution_count": null,
   "id": "e381059d",
   "metadata": {
    "ExecuteTime": {
     "end_time": "2022-10-22T14:19:45.311857Z",
     "start_time": "2022-10-22T14:19:45.307876Z"
    },
    "hidden": true
   },
   "outputs": [],
   "source": [
    "# listcompforzip_ = nocomp_df['NoComp'].copy()"
   ]
  },
  {
   "cell_type": "code",
   "execution_count": null,
   "id": "d83a746f",
   "metadata": {
    "ExecuteTime": {
     "end_time": "2022-10-22T14:19:40.028540Z",
     "start_time": "2022-10-22T14:19:40.019587Z"
    },
    "hidden": true
   },
   "outputs": [],
   "source": [
    "# listcompforzip_;"
   ]
  },
  {
   "cell_type": "code",
   "execution_count": null,
   "id": "dd618fd9",
   "metadata": {
    "ExecuteTime": {
     "end_time": "2022-10-22T14:15:48.009005Z",
     "start_time": "2022-10-22T14:15:47.999060Z"
    },
    "hidden": true
   },
   "outputs": [],
   "source": [
    "#--#"
   ]
  },
  {
   "cell_type": "code",
   "execution_count": null,
   "id": "56854751",
   "metadata": {
    "ExecuteTime": {
     "end_time": "2022-10-22T14:15:48.305903Z",
     "start_time": "2022-10-22T14:15:48.292938Z"
    },
    "hidden": true
   },
   "outputs": [],
   "source": [
    "# nocomp_df['NoComp'] # looks good"
   ]
  },
  {
   "cell_type": "code",
   "execution_count": null,
   "id": "6a7d54bd",
   "metadata": {
    "ExecuteTime": {
     "end_time": "2022-10-22T14:17:50.874700Z",
     "start_time": "2022-10-22T14:17:43.986856Z"
    },
    "code_folding": [],
    "hidden": true
   },
   "outputs": [],
   "source": [
    "# # %%timeit # 84.8 µs ± 689 ns per loop (mean ± std. dev. of 7 runs, 10,000 loops each)\n",
    "\n",
    "# # np.where(next(zip()))==(0, 0) \n",
    "\n",
    "\n",
    "# # DON'T WORK:\n",
    "# # nocomp_df['NoComp'] = np.where(list(zip(nocomp_df['WhiteIsComp'], nocomp_df['BlackIsComp']))==(0, 0), # [0, 0] doesn't work\n",
    "# #                                np.int8(1),\n",
    "# #                                np.int8(0)) # doesn't work\n",
    "\n",
    "# # nocomp_df['NoComp'] = np.where(np.array(list(zip(nocomp_df['WhiteIsComp'], nocomp_df['BlackIsComp']))).flat==[0, 0], \n",
    "# #                                np.int8(1),\n",
    "# #                                np.int8(0))\n",
    "\n",
    "\n",
    "# # DOES WORK:\n",
    "# nocomp_df['NoComp'] = np.where(next(zip(nocomp_df['WhiteIsComp'], nocomp_df['BlackIsComp']))==(0, 0), \n",
    "#                                np.int8(1),\n",
    "#                                np.int8(0))\n",
    "\n",
    "# #-#\n",
    "\n",
    "# # both of: \n",
    "# # # np.where(zip(nocomp_df['WhiteIsComp'], nocomp_df['BlackIsComp'])==(0, 0), 1, 0)\n",
    "\n",
    "# # # np.where(zip(nocomp_df['WhiteIsComp'], nocomp_df['BlackIsComp'])==[0, 0], 1, 0)\n",
    "# # return array(0), this is why 'list' is used\n"
   ]
  },
  {
   "cell_type": "code",
   "execution_count": null,
   "id": "a06e7ef6",
   "metadata": {
    "ExecuteTime": {
     "end_time": "2022-10-22T14:13:08.348798Z",
     "start_time": "2022-10-22T14:13:08.327827Z"
    },
    "hidden": true
   },
   "outputs": [],
   "source": [
    "# len(list(zip(*(zip(nocomp_df['WhiteIsComp'], nocomp_df['BlackIsComp'])))))\n",
    "# list(zip(*(zip(nocomp_df['WhiteIsComp'], nocomp_df['BlackIsComp']))))\n",
    "# list(zip(nocomp_df['WhiteIsComp'], nocomp_df['BlackIsComp']))\n",
    "# #==(0, 0)\n",
    "# np.array(list(zip(nocomp_df['WhiteIsComp'], nocomp_df['BlackIsComp'])), ndmin=1).shape\n",
    "\n",
    "# next(zip(nocomp_df['WhiteIsComp'], nocomp_df['BlackIsComp']))"
   ]
  },
  {
   "cell_type": "code",
   "execution_count": null,
   "id": "179a27a0",
   "metadata": {
    "hidden": true
   },
   "outputs": [],
   "source": []
  },
  {
   "cell_type": "code",
   "execution_count": null,
   "id": "a6465509",
   "metadata": {
    "ExecuteTime": {
     "end_time": "2022-10-22T12:41:05.893148Z",
     "start_time": "2022-10-22T12:41:05.888162Z"
    },
    "code_folding": [
     0
    ],
    "hidden": true
   },
   "outputs": [],
   "source": [
    "# list(zip(nocomp_df['WhiteIsComp'], nocomp_df['BlackIsComp']))\n",
    "# [(0, 0),\n",
    "#  (0, 0),\n",
    "#  (0, 0),\n",
    "#  (0, 0),\n",
    "#  (0, 0),\n",
    "#  (0, 0),...."
   ]
  },
  {
   "cell_type": "code",
   "execution_count": null,
   "id": "49277dde",
   "metadata": {
    "ExecuteTime": {
     "end_time": "2022-10-22T14:22:58.718568Z",
     "start_time": "2022-10-22T14:22:58.708595Z"
    },
    "hidden": true
   },
   "outputs": [],
   "source": [
    "# list(zip(nocomp_df['WhiteIsComp'], nocomp_df['BlackIsComp']))[0]==(0, 0)"
   ]
  },
  {
   "cell_type": "code",
   "execution_count": null,
   "id": "293719cf",
   "metadata": {
    "ExecuteTime": {
     "end_time": "2022-10-22T12:41:06.048943Z",
     "start_time": "2022-10-22T12:41:06.031988Z"
    },
    "code_folding": [],
    "hidden": true
   },
   "outputs": [],
   "source": [
    "# bla = zip(nocomp_df['WhiteIsComp'], nocomp_df['BlackIsComp'])\n",
    "# next(bla)\n",
    "# next(bla)==(0, 0) # True"
   ]
  },
  {
   "cell_type": "code",
   "execution_count": null,
   "id": "4f7adbed",
   "metadata": {
    "hidden": true
   },
   "outputs": [],
   "source": []
  },
  {
   "cell_type": "code",
   "execution_count": null,
   "id": "8a1de27e",
   "metadata": {
    "ExecuteTime": {
     "end_time": "2022-10-22T14:17:00.652184Z",
     "start_time": "2022-10-22T14:17:00.634232Z"
    },
    "hidden": true
   },
   "outputs": [],
   "source": [
    "# wherenextzip_ = nocomp_df['NoComp'].copy()"
   ]
  },
  {
   "cell_type": "code",
   "execution_count": null,
   "id": "da0cc54f",
   "metadata": {
    "ExecuteTime": {
     "end_time": "2022-10-22T14:18:39.512624Z",
     "start_time": "2022-10-22T14:18:39.498649Z"
    },
    "hidden": true
   },
   "outputs": [],
   "source": [
    "wherenextzip_;"
   ]
  },
  {
   "cell_type": "code",
   "execution_count": null,
   "id": "3d51dda3",
   "metadata": {
    "ExecuteTime": {
     "end_time": "2022-10-22T12:41:06.639147Z",
     "start_time": "2022-10-22T12:41:06.622195Z"
    },
    "hidden": true
   },
   "outputs": [],
   "source": [
    "#--#"
   ]
  },
  {
   "cell_type": "code",
   "execution_count": null,
   "id": "235952e4",
   "metadata": {
    "ExecuteTime": {
     "end_time": "2022-10-22T14:16:01.732468Z",
     "start_time": "2022-10-22T14:16:01.715513Z"
    },
    "hidden": true
   },
   "outputs": [],
   "source": [
    "# nocomp_df['NoComp'] # looks good"
   ]
  },
  {
   "cell_type": "code",
   "execution_count": null,
   "id": "6f7a3581",
   "metadata": {
    "ExecuteTime": {
     "end_time": "2022-10-22T14:27:17.621066Z",
     "start_time": "2022-10-22T14:27:15.137074Z"
    },
    "hidden": true
   },
   "outputs": [],
   "source": [
    "# # %%timeit # 309 µs ± 3.63 µs per loop (mean ± std. dev. of 7 runs, 1,000 loops each)\n",
    "\n",
    "# # #np.where(df[['a', 'b']].values==[0, 0])\n",
    "\n",
    "# nocomp_df['NoComp'] = np.where((nocomp_df['WhiteIsComp']==0)*(nocomp_df['BlackIsComp']==0),\n",
    "#                                np.int8(1), np.int8(0))"
   ]
  },
  {
   "cell_type": "code",
   "execution_count": null,
   "id": "3c768b57",
   "metadata": {
    "ExecuteTime": {
     "end_time": "2022-10-22T14:17:09.397423Z",
     "start_time": "2022-10-22T14:17:09.386452Z"
    },
    "hidden": true
   },
   "outputs": [],
   "source": [
    "# wheredf_ = nocomp_df['NoComp'].copy()"
   ]
  },
  {
   "cell_type": "code",
   "execution_count": null,
   "id": "22e6cfea",
   "metadata": {
    "ExecuteTime": {
     "end_time": "2022-10-22T14:17:09.756877Z",
     "start_time": "2022-10-22T14:17:09.746876Z"
    },
    "hidden": true
   },
   "outputs": [],
   "source": [
    "wheredf_;"
   ]
  },
  {
   "cell_type": "code",
   "execution_count": null,
   "id": "92fc89c1",
   "metadata": {
    "ExecuteTime": {
     "end_time": "2022-10-22T12:44:14.546629Z",
     "start_time": "2022-10-22T12:44:14.537818Z"
    },
    "hidden": true
   },
   "outputs": [],
   "source": [
    "#--#"
   ]
  },
  {
   "cell_type": "code",
   "execution_count": null,
   "id": "05aaedd1",
   "metadata": {
    "ExecuteTime": {
     "end_time": "2022-10-22T13:19:07.310726Z",
     "start_time": "2022-10-22T13:19:07.302748Z"
    },
    "hidden": true
   },
   "outputs": [],
   "source": [
    "# nocomp_df['NoComp'] # looks good"
   ]
  },
  {
   "cell_type": "code",
   "execution_count": null,
   "id": "6822fffa",
   "metadata": {
    "hidden": true
   },
   "outputs": [],
   "source": []
  },
  {
   "cell_type": "code",
   "execution_count": null,
   "id": "7e1a2690",
   "metadata": {
    "ExecuteTime": {
     "end_time": "2022-10-22T12:44:14.546629Z",
     "start_time": "2022-10-22T12:44:14.537818Z"
    },
    "hidden": true
   },
   "outputs": [],
   "source": [
    "#--#"
   ]
  },
  {
   "cell_type": "code",
   "execution_count": null,
   "id": "218e6e85",
   "metadata": {
    "ExecuteTime": {
     "end_time": "2022-10-22T14:18:54.479452Z",
     "start_time": "2022-10-22T14:18:54.469475Z"
    },
    "hidden": true
   },
   "outputs": [],
   "source": [
    "all(wheredf_==wherenextzip_) # True"
   ]
  },
  {
   "cell_type": "code",
   "execution_count": null,
   "id": "4a9ca543",
   "metadata": {
    "ExecuteTime": {
     "end_time": "2022-10-22T14:20:08.553603Z",
     "start_time": "2022-10-22T14:20:08.542662Z"
    },
    "hidden": true
   },
   "outputs": [],
   "source": [
    "all(listcompforzip_==wherenextzip_) # True"
   ]
  },
  {
   "cell_type": "code",
   "execution_count": null,
   "id": "83322c38",
   "metadata": {
    "ExecuteTime": {
     "end_time": "2022-10-22T14:20:12.588761Z",
     "start_time": "2022-10-22T14:20:12.575796Z"
    },
    "hidden": true
   },
   "outputs": [],
   "source": [
    "all(apply_==wherenextzip_) # True"
   ]
  },
  {
   "cell_type": "code",
   "execution_count": null,
   "id": "e2287816",
   "metadata": {
    "ExecuteTime": {
     "end_time": "2022-10-22T12:44:14.546629Z",
     "start_time": "2022-10-22T12:44:14.537818Z"
    },
    "hidden": true
   },
   "outputs": [],
   "source": [
    "#--#"
   ]
  },
  {
   "cell_type": "code",
   "execution_count": null,
   "id": "5e2132e3",
   "metadata": {
    "hidden": true
   },
   "outputs": [],
   "source": []
  },
  {
   "cell_type": "code",
   "execution_count": null,
   "id": "f8e1b6c1",
   "metadata": {
    "ExecuteTime": {
     "end_time": "2022-10-22T12:35:51.704242Z",
     "start_time": "2022-10-22T12:35:51.697261Z"
    },
    "hidden": true
   },
   "outputs": [],
   "source": [
    "#------#"
   ]
  },
  {
   "cell_type": "code",
   "execution_count": null,
   "id": "c9fdb2e5",
   "metadata": {
    "ExecuteTime": {
     "end_time": "2022-10-20T21:37:07.597781Z",
     "start_time": "2022-10-20T21:37:07.597781Z"
    },
    "hidden": true
   },
   "outputs": [],
   "source": [
    "# trying to do both columns in one apply:\n",
    "\n",
    "# nocomp_df = df.copy()\n",
    "# nocomp_df[['WhiteIsComp', 'BlackIsComp']] = nocomp_df[['WhiteIsComp', 'BlackIsComp']].apply(lambda x: [np.int8(1) if x.loc[y]=='Yes' else np.int8(0) for y in ['WhiteIsComp', 'BlackIsComp']], axis=1)\n",
    "\n",
    "# nocomp_df[['WhiteIsComp', 'BlackIsComp']] = nocomp_df.apply(lambda x: [np.int8(1) if x[y]=='Yes' else np.int8(0) for y in ['WhiteIsComp', 'BlackIsComp']], axis=1)"
   ]
  },
  {
   "cell_type": "code",
   "execution_count": null,
   "id": "479916de",
   "metadata": {
    "ExecuteTime": {
     "end_time": "2022-10-20T21:37:07.598779Z",
     "start_time": "2022-10-20T21:37:07.598779Z"
    },
    "hidden": true
   },
   "outputs": [],
   "source": [
    "# nocomp_df = df.copy()\n",
    "# nocomp_df[['WhiteIsComp', 'BlackIsComp']] = nocomp_df[['WhiteIsComp', 'BlackIsComp']].apply(\n",
    "#     lambda x: [np.int8(1) for y in ['WhiteIsComp', 'BlackIsComp'] if x.loc[y]=='Yes' else np.int8(0)], axis=1)"
   ]
  },
  {
   "cell_type": "code",
   "execution_count": null,
   "id": "2bac00d4",
   "metadata": {
    "ExecuteTime": {
     "end_time": "2022-10-20T21:37:07.600772Z",
     "start_time": "2022-10-20T21:37:07.600772Z"
    },
    "hidden": true
   },
   "outputs": [],
   "source": [
    "# nocomp_df = df.copy()\n",
    "# nocomp_df[['WhiteIsComp', 'BlackIsComp']] = nocomp_df[['WhiteIsComp', 'BlackIsComp']].apply(\n",
    "#     lambda x: np.int8(1) if x=='Yes' else np.int8(0),\n",
    "#     axis=1)"
   ]
  },
  {
   "cell_type": "code",
   "execution_count": null,
   "id": "10114bf9",
   "metadata": {
    "ExecuteTime": {
     "end_time": "2022-10-20T21:37:07.601770Z",
     "start_time": "2022-10-20T21:37:07.601770Z"
    },
    "hidden": true
   },
   "outputs": [],
   "source": [
    "# nocomp_df = df.copy()\n",
    "# nocomp_df[['WhiteIsComp', 'BlackIsComp']] = [row_value.apply(lambda x: np.int8(1) if x=='Yes' else np.int8(0)) for ]\n",
    "\n",
    "\n",
    "\n",
    "# nocomp_df[['WhiteIsComp', 'BlackIsComp']].apply(\n",
    "#     lambda x: np.int8(1) if x=='Yes' else np.int8(0),\n",
    "#     axis=1)"
   ]
  },
  {
   "cell_type": "code",
   "execution_count": null,
   "id": "7851c733",
   "metadata": {
    "ExecuteTime": {
     "end_time": "2022-10-20T21:37:07.602767Z",
     "start_time": "2022-10-20T21:37:07.602767Z"
    },
    "hidden": true
   },
   "outputs": [],
   "source": [
    "# type(df.loc[0]) # Series\n",
    "# display(df.loc[0])"
   ]
  },
  {
   "cell_type": "code",
   "execution_count": null,
   "id": "040da802",
   "metadata": {
    "ExecuteTime": {
     "end_time": "2022-10-20T21:37:07.603764Z",
     "start_time": "2022-10-20T21:37:07.603764Z"
    },
    "hidden": true
   },
   "outputs": [],
   "source": [
    "# row = df.loc[0]\n",
    "# row.loc['ECO']"
   ]
  },
  {
   "cell_type": "code",
   "execution_count": null,
   "id": "b0c42d30",
   "metadata": {
    "ExecuteTime": {
     "end_time": "2022-10-20T21:37:07.604761Z",
     "start_time": "2022-10-20T21:37:07.604761Z"
    },
    "hidden": true
   },
   "outputs": [],
   "source": [
    "# test = row[['BlackIsComp', 'WhiteIsComp']].copy()\n",
    "# type(test) # series"
   ]
  },
  {
   "cell_type": "code",
   "execution_count": null,
   "id": "647ac9ec",
   "metadata": {
    "ExecuteTime": {
     "end_time": "2022-10-20T21:37:07.604761Z",
     "start_time": "2022-10-20T21:37:07.604761Z"
    },
    "hidden": true,
    "scrolled": true
   },
   "outputs": [],
   "source": [
    "# row[['BlackIsComp', 'WhiteIsComp']] = ['yes', 'no'] # SettingWithCopyWarning: A value is trying to be set on a copy of a slice from a DataFrame"
   ]
  },
  {
   "cell_type": "code",
   "execution_count": null,
   "id": "8a36e2f2",
   "metadata": {
    "ExecuteTime": {
     "end_time": "2022-10-20T21:37:07.605759Z",
     "start_time": "2022-10-20T21:37:07.605759Z"
    },
    "hidden": true
   },
   "outputs": [],
   "source": [
    "# row[['BlackIsComp', 'WhiteIsComp']] "
   ]
  },
  {
   "cell_type": "markdown",
   "id": "2690d495",
   "metadata": {
    "heading_collapsed": true
   },
   "source": [
    "## Editing Chess NaN Checker helper:"
   ]
  },
  {
   "cell_type": "code",
   "execution_count": null,
   "id": "79627073",
   "metadata": {
    "ExecuteTime": {
     "end_time": "2022-10-20T21:37:07.606757Z",
     "start_time": "2022-10-20T21:37:07.606757Z"
    },
    "hidden": true
   },
   "outputs": [],
   "source": [
    "# def chess_nan_checker(df, list_of_cols=['BlackIsComp', 'WhiteIsComp']): \n",
    "#     '''\n",
    "#     checks for nan values in the dataframe\n",
    "\n",
    "#     Args:\n",
    "#         df (DataFrame): Pandas dataframe\n",
    "#         list_of_cols (List): List of strings indicating what columns to ignore\n",
    "\n",
    "#     Returns:\n",
    "#         summary (String): returns a summary of nan values\n",
    "#     '''\n",
    "\n",
    "#     assert all([col in df.columns for col in list_of_cols]), f'Passed dataframe does not contain {list_of_cols}'   \n",
    "    \n",
    "#     # are there any nan values?\n",
    "#     any_nan = all(\n",
    "#         df[[x for x in df.columns if x not in list_of_cols]].notna()\n",
    "#     ) # returns True if all values are not NaN\n",
    "#     if any_nan == True:\n",
    "#         return print(f\"This dataframe has 0 NaN values in columns: {list(df[[x for x in df.columns if x not in list_of_cols]].columns)}\")\n",
    "        \n",
    "#     # how many?\n",
    "#     nan_series = df.isna().sum()\n",
    "#     nan_num = nan_series.sum()\n",
    "\n",
    "#     # which variables do they come from\n",
    "\n",
    "#     # list_of_nan_column_loc = \\\n",
    "#     #     [ [df[column], df[column].isna().sum()] for \\\n",
    "#     #         column in df.columns ]\n",
    "\n",
    "#     nan_cols = list(nan_series[nan_series > 0].index)\n",
    "\n",
    "#     # any variables with more than 50% of data missing?\n",
    "#     big_nan_cols = list(nan_series[nan_series/len(df) > 0.5])\n",
    "    \n",
    "#     #summary can be all the info about nans\n",
    "#     summary = f'This dataframe has {nan_num} NaN values'\n",
    "\n",
    "#     if len(nan_cols) > 0:\n",
    "#         summary += f'\\nThe NaN values come from: {nan_cols}'\n",
    "\n",
    "#     if len(big_nan_cols) > 0:\n",
    "#         summary += f'\\nMore than 50% of the data is missing from: {big_nan_cols}'\n",
    "\n",
    "#     return print(summary)"
   ]
  },
  {
   "cell_type": "code",
   "execution_count": null,
   "id": "6ed7fb6d",
   "metadata": {
    "ExecuteTime": {
     "end_time": "2022-10-20T21:37:07.608751Z",
     "start_time": "2022-10-20T21:37:07.608751Z"
    },
    "hidden": true
   },
   "outputs": [],
   "source": [
    "# Testing assertion error of nan_checker\n",
    "\n",
    "# test_list_of_cols = df.copy()\n",
    "# test_list_of_cols.drop(columns='BlackIsComp', inplace=True)\n",
    "\n",
    "# list_of_cols = ['BlackIsComp', 'WhiteIsComp']\n",
    "\n",
    "# assert all([col in test_list_of_cols.columns for col in list_of_cols]), f'Passed dataframe does not contain {list_of_cols}'\n",
    "\n",
    "# any_nan = all(\n",
    "#     df[[x for x in test_list_of_cols.columns if x not in list_of_cols]].notna()\n",
    "# ) # returns True if all values are not NaN\n",
    "# if any_nan == True:\n",
    "# #     return \n",
    "#     print(f\"This dataframe has 0 NaN values in columns: {list(test_list_of_cols[[x for x in df.columns if x not in list_of_cols]].columns)}\")"
   ]
  },
  {
   "cell_type": "markdown",
   "id": "05918b43",
   "metadata": {
    "heading_collapsed": true
   },
   "source": [
    "## Figuring out how to get average time per ply (average emt) for each player helper:"
   ]
  },
  {
   "cell_type": "code",
   "execution_count": null,
   "id": "5e006d41",
   "metadata": {
    "hidden": true
   },
   "outputs": [],
   "source": []
  },
  {
   "cell_type": "code",
   "execution_count": null,
   "id": "d20cef18",
   "metadata": {
    "hidden": true
   },
   "outputs": [],
   "source": []
  },
  {
   "cell_type": "code",
   "execution_count": null,
   "id": "4422ac70",
   "metadata": {
    "hidden": true
   },
   "outputs": [],
   "source": []
  },
  {
   "cell_type": "markdown",
   "id": "28209127",
   "metadata": {
    "hidden": true
   },
   "source": [
    "------"
   ]
  },
  {
   "cell_type": "markdown",
   "id": "85017a4e",
   "metadata": {
    "heading_collapsed": true
   },
   "source": [
    "## Checking PlyCount matches length of moves"
   ]
  },
  {
   "cell_type": "code",
   "execution_count": null,
   "id": "cc31cc4c",
   "metadata": {
    "hidden": true
   },
   "outputs": [],
   "source": []
  },
  {
   "cell_type": "code",
   "execution_count": null,
   "id": "8fdb8b16",
   "metadata": {
    "ExecuteTime": {
     "end_time": "2022-10-24T16:34:04.558617Z",
     "start_time": "2022-10-24T16:34:04.550645Z"
    },
    "hidden": true
   },
   "outputs": [],
   "source": [
    "# Testing:\n",
    "#--#"
   ]
  },
  {
   "cell_type": "code",
   "execution_count": null,
   "id": "4ed03291",
   "metadata": {
    "ExecuteTime": {
     "end_time": "2022-10-24T15:51:07.192806Z",
     "start_time": "2022-10-24T15:51:07.184806Z"
    },
    "hidden": true
   },
   "outputs": [],
   "source": [
    "# np.where(next(zip(...,...))) way: [from previous tinkering]\n",
    "#\n",
    "#\n",
    "# nocomp_df['NoComp'] = np.where(next(zip(nocomp_df['WhiteIsComp'], nocomp_df['BlackIsComp']))==(0, 0), \n",
    "#                                np.int8(1),\n",
    "#                                np.int8(0))\n",
    "#\n",
    "# but maybe it doesn't work here; how can I check if each part is equal to it's respective counterpart?\n",
    "# by calling the 'next(..)' twice and indexing each one?\n",
    "# ==> not possible as it only ever takes the first component of the zip\n",
    "\n",
    "# need to know what the next(zip(...,...)) returns (i.e. what does indexing only once give? is it a list?)...\n",
    "# ...done below"
   ]
  },
  {
   "cell_type": "code",
   "execution_count": null,
   "id": "401fffee",
   "metadata": {
    "ExecuteTime": {
     "end_time": "2022-10-24T16:07:21.012873Z",
     "start_time": "2022-10-24T16:07:21.004906Z"
    },
    "hidden": true
   },
   "outputs": [],
   "source": [
    "# test_ = next(zip(df_2022_2018_CvH_distinv.moves, df_2022_2018_CvH_distinv.PlyCount))\n",
    "# display(test_)\n",
    "# display(test_[0]) \n",
    "# display(type(test_[0])) # list\n",
    "# display(len(test_[0])) # 53\n",
    "# display(test_[1]) #53\n",
    "# display(type(test_[1])) # int"
   ]
  },
  {
   "cell_type": "code",
   "execution_count": null,
   "id": "579e800c",
   "metadata": {
    "ExecuteTime": {
     "end_time": "2022-10-24T16:25:54.687653Z",
     "start_time": "2022-10-24T16:25:54.680656Z"
    },
    "hidden": true
   },
   "outputs": [],
   "source": [
    "# # sanity check of is the np.where(next(zip())) doing what I think it's doing?\n",
    "\n",
    "# df_2022_2018_CvH_distinv['testing_method'] = np.where(next(zip(df_2022_2018_CvH_distinv['WhiteIsComp'],\n",
    "#                                                                df_2022_2018_CvH_distinv['BlackIsComp']))==(0, 0),\n",
    "#                                                       np.int8(1),\n",
    "#                                                       np.int8(0))\n",
    "\n",
    "# all(df_2022_2018_CvH_distinv['testing_method']==df_2022_2018_CvH_distinv['NoComp']) # True\n",
    "\n",
    "\n",
    "# df_2022_2018_HvH.head(1)\n",
    "\n",
    "# df_2022_2018_HvH['testing_method'] = np.where(next(zip(df_2022_2018_HvH['WhiteIsComp'],\n",
    "#                                                                df_2022_2018_HvH['BlackIsComp']))==(0, 0),\n",
    "#                                                       np.int8(1),\n",
    "#                                                       np.int8(0))\n",
    "\n",
    "# all(df_2022_2018_HvH['testing_method']==df_2022_2018_HvH['NoComp']) # True\n",
    "\n",
    "\n",
    "# # Seems like it...."
   ]
  },
  {
   "cell_type": "code",
   "execution_count": null,
   "id": "7cde7ef6",
   "metadata": {
    "ExecuteTime": {
     "end_time": "2022-10-24T16:25:55.869949Z",
     "start_time": "2022-10-24T16:25:55.861948Z"
    },
    "hidden": true
   },
   "outputs": [],
   "source": [
    "# display([next(zip(df_2022_2018_CvH_distinv.moves, df_2022_2018_CvH_distinv.PlyCount))[0], \n",
    "#         next(zip(df_2022_2018_CvH_distinv.moves, df_2022_2018_CvH_distinv.PlyCount))[1]])\n",
    "\n",
    "# display([len(next(zip(df_2022_2018_CvH_distinv.moves, df_2022_2018_CvH_distinv.PlyCount))[0]), \n",
    "#         next(zip(df_2022_2018_CvH_distinv.moves, df_2022_2018_CvH_distinv.PlyCount))[1]]) # [53, 53]\n",
    "\n",
    "# df_2022_2018_CvH_distinv['testing_method'] = np.where(\n",
    "#     len(next(zip(df_2022_2018_CvH_distinv.moves, df_2022_2018_CvH_distinv.PlyCount))[0])==\\\n",
    "#         next(zip(df_2022_2018_CvH_distinv.moves, df_2022_2018_CvH_distinv.PlyCount))[1],\n",
    "#     len(next(zip(df_2022_2018_CvH_distinv.moves, df_2022_2018_CvH_distinv.PlyCount))[0]),\n",
    "#     next(zip(df_2022_2018_CvH_distinv.moves, df_2022_2018_CvH_distinv.PlyCount))[1])\n",
    "# # the above ends up returning a series of all 53, which is wrong\n",
    "\n",
    "# df_2022_2018_CvH_distinv['testing_method'] = np.where(\n",
    "#     len(next(zip(df_2022_2018_CvH_distinv.moves, df_2022_2018_CvH_distinv.PlyCount))[0])==\\\n",
    "#         next(zip(df_2022_2018_CvH_distinv.moves, df_2022_2018_CvH_distinv.PlyCount))[1], True, False)\n",
    "\n",
    "# df_2022_2018_CvH_distinv['testing_method']"
   ]
  },
  {
   "cell_type": "code",
   "execution_count": null,
   "id": "43f09354",
   "metadata": {
    "ExecuteTime": {
     "end_time": "2022-10-24T16:26:43.152343Z",
     "start_time": "2022-10-24T16:26:43.137377Z"
    },
    "hidden": true
   },
   "outputs": [],
   "source": [
    "# Conclusion of above is that it is not possible to compare length of moves and PlyCount in this way (i.e. \n",
    "# by calling next(zip(...,...))) multiple times"
   ]
  },
  {
   "cell_type": "code",
   "execution_count": null,
   "id": "579a4698",
   "metadata": {
    "ExecuteTime": {
     "end_time": "2022-10-24T16:28:01.952049Z",
     "start_time": "2022-10-24T16:28:01.943980Z"
    },
    "hidden": true
   },
   "outputs": [],
   "source": [
    "#--#"
   ]
  },
  {
   "cell_type": "code",
   "execution_count": null,
   "id": "bdad6325",
   "metadata": {
    "ExecuteTime": {
     "end_time": "2022-10-24T15:51:07.192806Z",
     "start_time": "2022-10-24T15:51:07.184806Z"
    },
    "hidden": true
   },
   "outputs": [],
   "source": [
    "# list comprehension for element in zip() way: !fastest of these tested methods!\n",
    "#\n",
    "#\n",
    "# all([len(row[0])==row[1] for row in zip(...,...)])\n"
   ]
  },
  {
   "cell_type": "code",
   "execution_count": null,
   "id": "8da6d41f",
   "metadata": {
    "ExecuteTime": {
     "end_time": "2022-10-24T16:29:13.871457Z",
     "start_time": "2022-10-24T16:29:13.854619Z"
    },
    "hidden": true
   },
   "outputs": [],
   "source": [
    "# [row for row in zip(df_2022_2018_CvH_distinv.moves, df_2022_2018_CvH_distinv.PlyCount)]"
   ]
  },
  {
   "cell_type": "code",
   "execution_count": null,
   "id": "019d22ce",
   "metadata": {
    "ExecuteTime": {
     "end_time": "2022-10-24T16:36:19.285728Z",
     "start_time": "2022-10-24T16:36:19.268760Z"
    },
    "hidden": true
   },
   "outputs": [],
   "source": [
    "# df_2022_2018_CvH_distinv['testing_method'] = \\\n",
    "# [[len(row[0]), row[1]] for row in zip(df_2022_2018_CvH_distinv.moves, df_2022_2018_CvH_distinv.PlyCount)]\n",
    "\n",
    "# df_2022_2018_CvH_distinv['testing_method'].head()\n",
    "\n",
    "# # 0    [53, 53]\n",
    "# # 1    [50, 50]\n",
    "# # 2    [45, 45]\n",
    "# # 3    [42, 42]\n",
    "# # 4    [36, 36]"
   ]
  },
  {
   "cell_type": "code",
   "execution_count": null,
   "id": "328e8518",
   "metadata": {
    "ExecuteTime": {
     "end_time": "2022-10-24T16:32:20.343605Z",
     "start_time": "2022-10-24T16:32:20.259498Z"
    },
    "hidden": true
   },
   "outputs": [],
   "source": [
    "# %%timeit # 69 ms ± 580 µs per loop (mean ± std. dev. of 7 runs, 10 loops each)\n",
    "\n",
    "# all([len(row[0])==row[1] for row in zip(df_2022_2018_CvH_distinv.moves, df_2022_2018_CvH_distinv.PlyCount)]) # True"
   ]
  },
  {
   "cell_type": "code",
   "execution_count": null,
   "id": "ecedb5cb",
   "metadata": {
    "ExecuteTime": {
     "end_time": "2022-10-24T16:27:54.933653Z",
     "start_time": "2022-10-24T16:27:54.925653Z"
    },
    "hidden": true
   },
   "outputs": [],
   "source": [
    "#--#"
   ]
  },
  {
   "cell_type": "code",
   "execution_count": null,
   "id": "db5735f2",
   "metadata": {
    "ExecuteTime": {
     "end_time": "2022-10-24T16:35:32.853576Z",
     "start_time": "2022-10-24T16:35:32.841610Z"
    },
    "hidden": true
   },
   "outputs": [],
   "source": [
    "# list comprehension with:\n",
    "#\n",
    "# [len(df.iloc[index].moves)==df.iloc[index].PlyCount[0] for index in range(df.shape[0])]\n",
    "#\n",
    "# make sure that df.iloc[index] does in fact return the whole row ==> it does"
   ]
  },
  {
   "cell_type": "code",
   "execution_count": null,
   "id": "49e3adb4",
   "metadata": {
    "ExecuteTime": {
     "end_time": "2022-10-24T16:35:34.321155Z",
     "start_time": "2022-10-24T16:35:34.314135Z"
    },
    "hidden": true
   },
   "outputs": [],
   "source": [
    "# type(df_2022_2018_CvH_distinv.iloc[0].moves) # list !!!\n",
    "# len(df_2022_2018_CvH_distinv.iloc[0].moves) # 53\n",
    "# df_2022_2018_CvH_distinv.iloc[0].PlyCount # 53"
   ]
  },
  {
   "cell_type": "code",
   "execution_count": null,
   "id": "a860e528",
   "metadata": {
    "ExecuteTime": {
     "end_time": "2022-10-24T15:58:49.369705Z",
     "start_time": "2022-10-24T15:58:07.223712Z"
    },
    "hidden": true
   },
   "outputs": [],
   "source": [
    "# %%timeit # 42.2 s ± 266 ms per loop (mean ± std. dev. of 7 runs, 1 loop each)\n",
    "\n",
    "# list comp method using index:\n",
    "\n",
    "# ply_movelen_check_list = [len(df_2022_2018_CvH_distinv.iloc[index].moves)==\\\n",
    "#                           df_2022_2018_CvH_distinv.iloc[index].PlyCount for \\\n",
    "#                           index in range(df_2022_2018_CvH_distinv.shape[0])]\n",
    "\n",
    "# all([len(df_2022_2018_CvH_distinv.iloc[index].moves)==\\\n",
    "#      df_2022_2018_CvH_distinv.iloc[index].PlyCount for \\\n",
    "#      index in range(df_2022_2018_CvH_distinv.shape[0])]) # True"
   ]
  },
  {
   "cell_type": "code",
   "execution_count": null,
   "id": "5f5f5852",
   "metadata": {
    "ExecuteTime": {
     "end_time": "2022-10-24T15:51:20.931052Z",
     "start_time": "2022-10-24T15:51:20.913045Z"
    },
    "hidden": true
   },
   "outputs": [],
   "source": [
    "# all(ply_movelen_check_list) # True - all the PlyCounts do match the number of ply in moves"
   ]
  },
  {
   "cell_type": "code",
   "execution_count": null,
   "id": "1d7e44a0",
   "metadata": {
    "ExecuteTime": {
     "end_time": "2022-10-24T16:33:40.940678Z",
     "start_time": "2022-10-24T16:33:40.937678Z"
    },
    "hidden": true
   },
   "outputs": [],
   "source": [
    "#--#"
   ]
  },
  {
   "cell_type": "code",
   "execution_count": null,
   "id": "f6a6a372",
   "metadata": {
    "hidden": true
   },
   "outputs": [],
   "source": []
  },
  {
   "cell_type": "code",
   "execution_count": null,
   "id": "42fc652b",
   "metadata": {
    "hidden": true
   },
   "outputs": [],
   "source": []
  },
  {
   "cell_type": "code",
   "execution_count": null,
   "id": "f70b1c2a",
   "metadata": {
    "hidden": true
   },
   "outputs": [],
   "source": []
  },
  {
   "cell_type": "markdown",
   "id": "a2aa1421",
   "metadata": {
    "hidden": true
   },
   "source": [
    "----"
   ]
  },
  {
   "cell_type": "code",
   "execution_count": null,
   "id": "688818ca",
   "metadata": {
    "hidden": true
   },
   "outputs": [],
   "source": []
  }
 ],
 "metadata": {
  "kernelspec": {
   "display_name": "capstone_env",
   "language": "python",
   "name": "capstone_env"
  },
  "language_info": {
   "codemirror_mode": {
    "name": "ipython",
    "version": 3
   },
   "file_extension": ".py",
   "mimetype": "text/x-python",
   "name": "python",
   "nbconvert_exporter": "python",
   "pygments_lexer": "ipython3",
   "version": "3.9.13"
  },
  "toc": {
   "base_numbering": 1,
   "nav_menu": {},
   "number_sections": true,
   "sideBar": true,
   "skip_h1_title": false,
   "title_cell": "Table of Contents",
   "title_sidebar": "Contents",
   "toc_cell": false,
   "toc_position": {
    "height": "calc(100% - 180px)",
    "left": "10px",
    "top": "150px",
    "width": "512px"
   },
   "toc_section_display": true,
   "toc_window_display": false
  }
 },
 "nbformat": 4,
 "nbformat_minor": 5
}
