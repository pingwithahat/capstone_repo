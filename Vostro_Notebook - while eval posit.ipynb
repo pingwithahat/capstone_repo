{
 "cells": [
  {
   "cell_type": "markdown",
   "id": "c3f1d298",
   "metadata": {},
   "source": [
    "# EDA Contents "
   ]
  },
  {
   "cell_type": "markdown",
   "id": "461f60f6",
   "metadata": {
    "heading_collapsed": true
   },
   "source": [
    "## 'Placeholder'"
   ]
  },
  {
   "cell_type": "markdown",
   "id": "d564d563",
   "metadata": {},
   "source": [
    "# WIP"
   ]
  },
  {
   "cell_type": "markdown",
   "id": "2360f76e",
   "metadata": {},
   "source": [
    "## Imports"
   ]
  },
  {
   "cell_type": "markdown",
   "id": "b95471d2",
   "metadata": {},
   "source": [
    "### Main"
   ]
  },
  {
   "cell_type": "code",
   "execution_count": 82,
   "id": "86a6145f",
   "metadata": {
    "ExecuteTime": {
     "end_time": "2022-10-30T18:05:18.489538Z",
     "start_time": "2022-10-30T18:05:18.472473Z"
    }
   },
   "outputs": [],
   "source": [
    "import sys\n",
    "import numpy as np\n",
    "import pandas as pd\n",
    "import matplotlib.pyplot as plt\n",
    "import chess\n",
    "import io\n",
    "import sys\n",
    "import chess.pgn\n",
    "from io import StringIO\n",
    "import seaborn as sns\n",
    "\n",
    "import plotly.express as px\n",
    "import plotly.graph_objects as go\n",
    "\n",
    "\n",
    "%matplotlib inline\n",
    "\n",
    "import joblib\n",
    "\n",
    "# import pickle\n",
    "# from sklearn.utils import shuffle\n",
    "# import gc\n",
    "# import logging\n",
    "\n",
    "\n",
    "from stockfish import Stockfish"
   ]
  },
  {
   "cell_type": "code",
   "execution_count": 83,
   "id": "e4167a91",
   "metadata": {
    "ExecuteTime": {
     "end_time": "2022-10-30T18:05:18.866246Z",
     "start_time": "2022-10-30T18:05:18.853239Z"
    }
   },
   "outputs": [],
   "source": [
    "import warnings\n",
    "warnings.filterwarnings(\"ignore\")"
   ]
  },
  {
   "cell_type": "code",
   "execution_count": 84,
   "id": "8c992c2d",
   "metadata": {
    "ExecuteTime": {
     "end_time": "2022-10-30T18:05:19.193146Z",
     "start_time": "2022-10-30T18:05:19.184169Z"
    }
   },
   "outputs": [],
   "source": [
    "import re\n",
    "from sklearn.preprocessing import OneHotEncoder\n",
    "from sklearn.model_selection import train_test_split, cross_val_score, GridSearchCV \n",
    "from sklearn.preprocessing import StandardScaler, MinMaxScaler\n",
    "from sklearn.linear_model import LogisticRegression\n",
    "from sklearn.svm import SVC\n",
    "from sklearn.tree import DecisionTreeClassifier, plot_tree\n",
    "from sklearn.neighbors import KNeighborsClassifier\n",
    "from sklearn.decomposition import PCA\n",
    "from tempfile import mkdtemp\n",
    "from sklearn.pipeline import Pipeline\n",
    "# from sklearn.pipeline import FeatureUnion\n",
    "from sklearn.compose import ColumnTransformer\n",
    "from sklearn.metrics import classification_report, plot_confusion_matrix, confusion_matrix,\\\n",
    "                            make_scorer, accuracy_score, f1_score\n",
    "from sklearn.ensemble import RandomForestClassifier"
   ]
  },
  {
   "cell_type": "markdown",
   "id": "1d1ac632",
   "metadata": {},
   "source": [
    "---"
   ]
  },
  {
   "cell_type": "markdown",
   "id": "304c08f5",
   "metadata": {},
   "source": [
    "### Helpers"
   ]
  },
  {
   "cell_type": "code",
   "execution_count": 4,
   "id": "25c37d45",
   "metadata": {
    "ExecuteTime": {
     "end_time": "2022-10-30T16:02:57.092471Z",
     "start_time": "2022-10-30T16:02:57.080507Z"
    }
   },
   "outputs": [],
   "source": [
    "# import sys\n",
    "# sys.modules.pop('detecting_cheaters_in_chess_helpers')"
   ]
  },
  {
   "cell_type": "code",
   "execution_count": 5,
   "id": "006946c6",
   "metadata": {
    "ExecuteTime": {
     "end_time": "2022-10-30T16:02:57.108471Z",
     "start_time": "2022-10-30T16:02:57.096540Z"
    }
   },
   "outputs": [],
   "source": [
    "import detecting_cheaters_in_chess_helpers as hp"
   ]
  },
  {
   "cell_type": "markdown",
   "id": "45666345",
   "metadata": {},
   "source": [
    "['Event', 'Site', 'Date', 'Round', 'White', 'Black', 'Result',\n",
    "       'BlackClock', 'BlackElo', 'BlackIsComp', 'BlackRD', 'ECO',\n",
    "       'FICSGamesDBGameNo', 'PlyCount', 'Time', 'TimeControl', 'WhiteClock',\n",
    "       'WhiteElo', 'WhiteRD', 'emt', 'moves', 'WhiteIsComp', 'NoComp']"
   ]
  },
  {
   "cell_type": "markdown",
   "id": "6b49e909",
   "metadata": {},
   "source": [
    "-----"
   ]
  },
  {
   "cell_type": "markdown",
   "id": "3fb256ae",
   "metadata": {},
   "source": [
    "## DFs, Pickles, Checks"
   ]
  },
  {
   "cell_type": "markdown",
   "id": "4eff8b12",
   "metadata": {
    "heading_collapsed": true
   },
   "source": [
    "### Many pickles (or json)"
   ]
  },
  {
   "cell_type": "markdown",
   "id": "da1f7f2f",
   "metadata": {
    "heading_collapsed": true,
    "hidden": true
   },
   "source": [
    "#### 2022"
   ]
  },
  {
   "cell_type": "code",
   "execution_count": null,
   "id": "775f6370",
   "metadata": {
    "ExecuteTime": {
     "end_time": "2022-10-23T15:16:03.282605Z",
     "start_time": "2022-10-23T15:16:03.267645Z"
    },
    "hidden": true
   },
   "outputs": [],
   "source": [
    "# raw_2022_list = [pd.read_json(\n",
    "#     f'C:/Users/MaNiL/Desktop/data/capstone/raw/json/2022/ficsgamesdb_20220{num-17}_CvH_movetimes_2648{num}.json') for num in \\\n",
    "#                 range(18, 27)]"
   ]
  },
  {
   "cell_type": "code",
   "execution_count": null,
   "id": "c79b60e8",
   "metadata": {
    "ExecuteTime": {
     "end_time": "2022-10-23T15:16:03.298563Z",
     "start_time": "2022-10-23T15:16:03.283602Z"
    },
    "hidden": true
   },
   "outputs": [],
   "source": [
    "# raw_2022_list[0].head(1)"
   ]
  },
  {
   "cell_type": "code",
   "execution_count": null,
   "id": "60258d3a",
   "metadata": {
    "ExecuteTime": {
     "end_time": "2022-10-23T15:16:03.314642Z",
     "start_time": "2022-10-23T15:16:03.299560Z"
    },
    "hidden": true
   },
   "outputs": [],
   "source": [
    "# raw_2022 = pd.concat(raw_2022_list).reset_index(drop=True)\n",
    "# raw_2022.shape"
   ]
  },
  {
   "cell_type": "code",
   "execution_count": null,
   "id": "7dc21035",
   "metadata": {
    "ExecuteTime": {
     "end_time": "2022-10-23T15:16:03.329603Z",
     "start_time": "2022-10-23T15:16:03.315640Z"
    },
    "hidden": true
   },
   "outputs": [],
   "source": [
    "# # pickle 2022\n",
    "# joblib.dump(raw_2022, 'C:/Users/MaNiL/Desktop/data/capstone/preprocessed/2022_CvH.pkl')"
   ]
  },
  {
   "cell_type": "markdown",
   "id": "e12b0909",
   "metadata": {
    "heading_collapsed": true,
    "hidden": true
   },
   "source": [
    "#### 2021 and 2020"
   ]
  },
  {
   "cell_type": "code",
   "execution_count": null,
   "id": "fdda8d6d",
   "metadata": {
    "ExecuteTime": {
     "end_time": "2022-10-23T15:16:03.344562Z",
     "start_time": "2022-10-23T15:16:03.330600Z"
    },
    "hidden": true
   },
   "outputs": [],
   "source": [
    "# raw_2021 = joblib.load('./data/2021_CvH.pkl')"
   ]
  },
  {
   "cell_type": "code",
   "execution_count": null,
   "id": "081c7354",
   "metadata": {
    "ExecuteTime": {
     "end_time": "2022-10-23T15:16:03.360520Z",
     "start_time": "2022-10-23T15:16:03.347555Z"
    },
    "hidden": true
   },
   "outputs": [],
   "source": [
    "# raw_2020 = joblib.load('./data/2020_CvH.pkl')"
   ]
  },
  {
   "cell_type": "markdown",
   "id": "1eb2f2d1",
   "metadata": {
    "heading_collapsed": true,
    "hidden": true
   },
   "source": [
    "#### 2019 and 2018"
   ]
  },
  {
   "cell_type": "code",
   "execution_count": null,
   "id": "f7dcb01f",
   "metadata": {
    "ExecuteTime": {
     "end_time": "2022-10-23T15:16:03.376477Z",
     "start_time": "2022-10-23T15:16:03.361517Z"
    },
    "hidden": true
   },
   "outputs": [],
   "source": [
    "# raw_2019_2018_list = [pd.read_json(\n",
    "#     f'C:/Users/MaNiL/Desktop/data/capstone/raw/json/{year}/ficsgamesdb_{year}_CvH_movetimes_2648{val}.json')\\\n",
    "#                       for year, val in zip(['2019', '2018'], ['15', '16'])]"
   ]
  },
  {
   "cell_type": "code",
   "execution_count": null,
   "id": "d2248213",
   "metadata": {
    "ExecuteTime": {
     "end_time": "2022-10-23T15:16:03.392435Z",
     "start_time": "2022-10-23T15:16:03.377475Z"
    },
    "hidden": true
   },
   "outputs": [],
   "source": [
    "# raw_2019_2018_list[0].head(1)"
   ]
  },
  {
   "cell_type": "code",
   "execution_count": null,
   "id": "7e3a67bc",
   "metadata": {
    "ExecuteTime": {
     "end_time": "2022-10-23T15:16:03.408393Z",
     "start_time": "2022-10-23T15:16:03.393433Z"
    },
    "hidden": true,
    "scrolled": true
   },
   "outputs": [],
   "source": [
    "# raw_2019_2018_list[1].head(1)"
   ]
  },
  {
   "cell_type": "code",
   "execution_count": null,
   "id": "514ef614",
   "metadata": {
    "ExecuteTime": {
     "end_time": "2022-10-23T15:16:03.424379Z",
     "start_time": "2022-10-23T15:16:03.409389Z"
    },
    "hidden": true
   },
   "outputs": [],
   "source": [
    "# raw_2019_2018 = pd.concat(raw_2019_2018_list).reset_index(drop=True)"
   ]
  },
  {
   "cell_type": "code",
   "execution_count": null,
   "id": "142106a4",
   "metadata": {
    "ExecuteTime": {
     "end_time": "2022-10-23T15:16:03.440334Z",
     "start_time": "2022-10-23T15:16:03.425352Z"
    },
    "hidden": true
   },
   "outputs": [],
   "source": [
    "# # # pickle 2019 and 2018\n",
    "# joblib.dump(raw_2019_2018_list[0], 'C:/Users/MaNiL/Desktop/data/capstone/preprocessed/2019_CvH.pkl')\n",
    "# joblib.dump(raw_2019_2018_list[1], 'C:/Users/MaNiL/Desktop/data/capstone/preprocessed/2018_CvH.pkl')"
   ]
  },
  {
   "cell_type": "code",
   "execution_count": null,
   "id": "1190cc9d",
   "metadata": {
    "hidden": true
   },
   "outputs": [],
   "source": []
  },
  {
   "cell_type": "markdown",
   "id": "380373e4",
   "metadata": {
    "heading_collapsed": true
   },
   "source": [
    "### Mass concatenation"
   ]
  },
  {
   "cell_type": "code",
   "execution_count": null,
   "id": "b007b681",
   "metadata": {
    "ExecuteTime": {
     "end_time": "2022-10-23T15:16:03.456294Z",
     "start_time": "2022-10-23T15:16:03.441304Z"
    },
    "hidden": true
   },
   "outputs": [],
   "source": [
    "# raw_2022\n",
    "# raw_2021\n",
    "# raw_2020\n",
    "# raw_2019_2018"
   ]
  },
  {
   "cell_type": "code",
   "execution_count": null,
   "id": "fef25f65",
   "metadata": {
    "hidden": true
   },
   "outputs": [],
   "source": []
  },
  {
   "cell_type": "code",
   "execution_count": null,
   "id": "5ee552ce",
   "metadata": {
    "ExecuteTime": {
     "end_time": "2022-10-23T15:16:03.472222Z",
     "start_time": "2022-10-23T15:16:03.458259Z"
    },
    "hidden": true
   },
   "outputs": [],
   "source": [
    "# # on vostro laptop\n",
    "# raw_pickle_list = [joblib.load(f'C:/Users/MaNiL/Desktop/data/capstone/preprocessed/{year}_CvH.pkl') for \\\n",
    "#          year in np.arange(2022, 2017, -1)] # load the pickles from 2022 to 2018 inclusive"
   ]
  },
  {
   "cell_type": "code",
   "execution_count": null,
   "id": "690e92e6",
   "metadata": {
    "ExecuteTime": {
     "end_time": "2022-10-23T15:16:03.488209Z",
     "start_time": "2022-10-23T15:16:03.473219Z"
    },
    "hidden": true
   },
   "outputs": [],
   "source": [
    "# sum([df_.shape[0] for df_ in raw_pickle_list])==pd.concat(raw_pickle_list).shape[0]"
   ]
  },
  {
   "cell_type": "code",
   "execution_count": null,
   "id": "1a071d2a",
   "metadata": {
    "ExecuteTime": {
     "end_time": "2022-10-23T15:16:03.504160Z",
     "start_time": "2022-10-23T15:16:03.489177Z"
    },
    "hidden": true
   },
   "outputs": [],
   "source": [
    "# big_df = hp.concatenate_cleaned_pickles(raw_pickle_list)"
   ]
  },
  {
   "cell_type": "code",
   "execution_count": null,
   "id": "dbbfe97d",
   "metadata": {
    "ExecuteTime": {
     "end_time": "2022-10-23T15:16:03.520124Z",
     "start_time": "2022-10-23T15:16:03.505133Z"
    },
    "hidden": true
   },
   "outputs": [],
   "source": [
    "# X, y = hp.X_y_split_simple(big_df)\n",
    "\n",
    "# y = hp.y_convert_to_ohe_vec(y)"
   ]
  },
  {
   "cell_type": "code",
   "execution_count": null,
   "id": "d839489b",
   "metadata": {
    "ExecuteTime": {
     "end_time": "2022-10-23T15:16:03.535621Z",
     "start_time": "2022-10-23T15:16:03.521091Z"
    },
    "hidden": true
   },
   "outputs": [],
   "source": [
    "# y.head()"
   ]
  },
  {
   "cell_type": "markdown",
   "id": "6734689f",
   "metadata": {
    "hidden": true
   },
   "source": [
    "-----"
   ]
  },
  {
   "cell_type": "markdown",
   "id": "01efeb74",
   "metadata": {
    "heading_collapsed": true
   },
   "source": [
    "### Mass concatenation test"
   ]
  },
  {
   "cell_type": "markdown",
   "id": "d81b78d3",
   "metadata": {
    "heading_collapsed": true,
    "hidden": true
   },
   "source": [
    "#### Only 2022"
   ]
  },
  {
   "cell_type": "code",
   "execution_count": null,
   "id": "cbd064ae",
   "metadata": {
    "ExecuteTime": {
     "end_time": "2022-10-23T15:16:03.551576Z",
     "start_time": "2022-10-23T15:16:03.536585Z"
    },
    "hidden": true
   },
   "outputs": [],
   "source": [
    "# raw_2022 = joblib.load('C:/Users/MaNiL/Desktop/data/capstone/preprocessed/2022_CvH.pkl')"
   ]
  },
  {
   "cell_type": "code",
   "execution_count": null,
   "id": "b04e6383",
   "metadata": {
    "ExecuteTime": {
     "end_time": "2022-10-23T15:16:03.567530Z",
     "start_time": "2022-10-23T15:16:03.552543Z"
    },
    "hidden": true
   },
   "outputs": [],
   "source": [
    "# raw_2022 = hp.change_comp_columns(raw_2022)"
   ]
  },
  {
   "cell_type": "code",
   "execution_count": null,
   "id": "af994e71",
   "metadata": {
    "ExecuteTime": {
     "end_time": "2022-10-23T15:16:03.583460Z",
     "start_time": "2022-10-23T15:16:03.568500Z"
    },
    "hidden": true
   },
   "outputs": [],
   "source": [
    "# raw_2022 = raw_2022.drop(columns=['Taco'])\n",
    "# KeyError: \"['Taco'] not found in axis\"\n"
   ]
  },
  {
   "cell_type": "code",
   "execution_count": null,
   "id": "d77e4dcb",
   "metadata": {
    "ExecuteTime": {
     "end_time": "2022-10-23T15:16:03.599445Z",
     "start_time": "2022-10-23T15:16:03.584458Z"
    },
    "hidden": true
   },
   "outputs": [],
   "source": [
    "# def X_y_split_simple(df):\n",
    "#     X_ = df.drop(columns=['WhiteIsComp', 'BlackIsComp', 'NoComp'])\n",
    "#     y_ = df.loc[:,['WhiteIsComp', 'BlackIsComp', 'NoComp']]\n",
    "#     return X_, y_"
   ]
  },
  {
   "cell_type": "code",
   "execution_count": null,
   "id": "5d66e6b5",
   "metadata": {
    "ExecuteTime": {
     "end_time": "2022-10-23T15:16:03.615402Z",
     "start_time": "2022-10-23T15:16:03.600414Z"
    },
    "hidden": true,
    "scrolled": true
   },
   "outputs": [],
   "source": [
    "# X_, y_ = hp.X_y_split_simple(raw_2022)"
   ]
  },
  {
   "cell_type": "code",
   "execution_count": null,
   "id": "4916dacd",
   "metadata": {
    "ExecuteTime": {
     "end_time": "2022-10-23T15:16:03.630930Z",
     "start_time": "2022-10-23T15:16:03.616372Z"
    },
    "hidden": true
   },
   "outputs": [],
   "source": [
    "# y_.head()"
   ]
  },
  {
   "cell_type": "code",
   "execution_count": null,
   "id": "dad8a107",
   "metadata": {
    "ExecuteTime": {
     "end_time": "2022-10-23T15:16:03.646859Z",
     "start_time": "2022-10-23T15:16:03.636913Z"
    },
    "hidden": true
   },
   "outputs": [],
   "source": [
    "# y_ = hp.y_convert_to_ohe_vec(y_)\n",
    "# y_.head()"
   ]
  },
  {
   "cell_type": "code",
   "execution_count": null,
   "id": "450db16e",
   "metadata": {
    "ExecuteTime": {
     "end_time": "2022-10-23T15:16:03.662841Z",
     "start_time": "2022-10-23T15:16:03.647856Z"
    },
    "hidden": true
   },
   "outputs": [],
   "source": [
    "# y_.shape"
   ]
  },
  {
   "cell_type": "code",
   "execution_count": null,
   "id": "1bcccfd8",
   "metadata": {
    "hidden": true
   },
   "outputs": [],
   "source": []
  },
  {
   "cell_type": "code",
   "execution_count": null,
   "id": "caafaf2e",
   "metadata": {
    "ExecuteTime": {
     "end_time": "2022-10-23T15:16:03.678796Z",
     "start_time": "2022-10-23T15:16:03.663814Z"
    },
    "hidden": true
   },
   "outputs": [],
   "source": [
    "# def y_convert_to_ohe_vec(y):\n",
    "#     '''\n",
    "#     Note: Loss will have to be 'categorical_crossentropy' if y's are one-hot-encoded, 'sparse_categorical_crossentropy' if y's are integers.\n",
    "    \n",
    "#     If all games contain a cheater, return integers for y where:\n",
    "#         0 indicates white was cheating\n",
    "#         1 indicates black was cheating\n",
    "        \n",
    "#     If any games contain no cheaters, return one-hot-encoded arrays for y where:\n",
    "#         [1,0,0] indicates white was cheating\n",
    "#         [0,1,0] indicates black was cheating\n",
    "#         [0,0,1] indicates no-one was cheating\n",
    "        \n",
    "        \n",
    "#     Have a check for explicit 'options=3' where user can input options value, or check len(y.columns)==3\n",
    "#     '''\n",
    "#     if len(y.columns)==3:\n",
    "#         if all(y.NoComp==0):\n",
    "#             y_ = pd.DataFrame(np.where(y.WhiteIsComp==1, 0, 1), columns=['0_WhiteIsComp_1_BlackIsComp'])\n",
    "#             return y_\n",
    "#         else:\n",
    "#             y_ = pd.DataFrame([[row] for row in y.values], columns=['WhiteIsComp_BlackIsComp_NoComp'])\n",
    "#             return y_        \n",
    "#     else:\n",
    "#         return(print('Function only currently supporting y having WhiteIsComp, BlackIsComp, and NoComp'))"
   ]
  },
  {
   "cell_type": "code",
   "execution_count": null,
   "id": "6967ce46",
   "metadata": {
    "ExecuteTime": {
     "end_time": "2022-10-23T15:16:03.694731Z",
     "start_time": "2022-10-23T15:16:03.679771Z"
    },
    "hidden": true
   },
   "outputs": [],
   "source": [
    "# all(y_.NoComp==0)"
   ]
  },
  {
   "cell_type": "code",
   "execution_count": null,
   "id": "b139b70f",
   "metadata": {
    "ExecuteTime": {
     "end_time": "2022-10-23T15:16:03.710715Z",
     "start_time": "2022-10-23T15:16:03.695729Z"
    },
    "hidden": true
   },
   "outputs": [],
   "source": [
    "# (y_.WhiteIsComp==1).head()"
   ]
  },
  {
   "cell_type": "code",
   "execution_count": null,
   "id": "4d4314e1",
   "metadata": {
    "ExecuteTime": {
     "end_time": "2022-10-23T15:16:03.726646Z",
     "start_time": "2022-10-23T15:16:03.711686Z"
    },
    "hidden": true
   },
   "outputs": [],
   "source": [
    "# np.where(y_.WhiteIsComp==1, 0, 1)"
   ]
  },
  {
   "cell_type": "code",
   "execution_count": null,
   "id": "0ca641b5",
   "metadata": {
    "ExecuteTime": {
     "end_time": "2022-10-23T15:16:03.742591Z",
     "start_time": "2022-10-23T15:16:03.727639Z"
    },
    "hidden": true
   },
   "outputs": [],
   "source": [
    "# y_t = y_.copy()\n",
    "# y_t['0_WhiteIsComp_1_BlackIsComp'] = np.where(y_t.WhiteIsComp==1, 0, 1)"
   ]
  },
  {
   "cell_type": "code",
   "execution_count": null,
   "id": "2e9d0dd3",
   "metadata": {
    "ExecuteTime": {
     "end_time": "2022-10-23T15:16:03.758564Z",
     "start_time": "2022-10-23T15:16:03.744587Z"
    },
    "hidden": true
   },
   "outputs": [],
   "source": [
    "# y_t.head(5)"
   ]
  },
  {
   "cell_type": "code",
   "execution_count": null,
   "id": "97369f8f",
   "metadata": {
    "ExecuteTime": {
     "end_time": "2022-10-23T15:16:03.774534Z",
     "start_time": "2022-10-23T15:16:03.759546Z"
    },
    "hidden": true
   },
   "outputs": [],
   "source": [
    "# y_tt = pd.DataFrame(np.where(y_.WhiteIsComp==1, 0, 1), columns=['0_WhiteIsComp_1_BlackIsComp'])\n",
    "# y_tt"
   ]
  },
  {
   "cell_type": "code",
   "execution_count": null,
   "id": "a10f94a5",
   "metadata": {
    "ExecuteTime": {
     "end_time": "2022-10-23T15:16:03.790491Z",
     "start_time": "2022-10-23T15:16:03.775504Z"
    },
    "hidden": true
   },
   "outputs": [],
   "source": [
    "# for row in y_.values:\n",
    "#     print(row)\n",
    "\n",
    "# pd.DataFrame([[row] for row in y_.values], columns=['WhiteIsComp_BlackIsComp_NoComp'])"
   ]
  },
  {
   "cell_type": "code",
   "execution_count": null,
   "id": "3bdf19aa",
   "metadata": {
    "ExecuteTime": {
     "end_time": "2022-10-23T15:16:03.805451Z",
     "start_time": "2022-10-23T15:16:03.791461Z"
    },
    "hidden": true
   },
   "outputs": [],
   "source": [
    "# y_test_ = y_convert_to_ohe_vec(y_)\n",
    "# y_test_"
   ]
  },
  {
   "cell_type": "markdown",
   "id": "8be12628",
   "metadata": {
    "hidden": true
   },
   "source": [
    "-----"
   ]
  },
  {
   "cell_type": "markdown",
   "id": "62fe6ef9",
   "metadata": {
    "heading_collapsed": true,
    "hidden": true
   },
   "source": [
    "#### Only 2021 and 2020"
   ]
  },
  {
   "cell_type": "code",
   "execution_count": null,
   "id": "eeb2361c",
   "metadata": {
    "ExecuteTime": {
     "end_time": "2022-10-23T15:16:03.820411Z",
     "start_time": "2022-10-23T15:16:03.806421Z"
    },
    "hidden": true
   },
   "outputs": [],
   "source": [
    "# only have these two years on one-drive\n",
    "# raw_p = [raw_2021, raw_2020]"
   ]
  },
  {
   "cell_type": "code",
   "execution_count": null,
   "id": "35061b1e",
   "metadata": {
    "ExecuteTime": {
     "end_time": "2022-10-23T15:16:03.836366Z",
     "start_time": "2022-10-23T15:16:03.821381Z"
    },
    "hidden": true
   },
   "outputs": [],
   "source": [
    "# df_2021_2020 = pd.concat(list_cleaned_p).reset_index(drop=True)"
   ]
  },
  {
   "cell_type": "code",
   "execution_count": null,
   "id": "423199bd",
   "metadata": {
    "ExecuteTime": {
     "end_time": "2022-10-23T15:16:03.852326Z",
     "start_time": "2022-10-23T15:16:03.837339Z"
    },
    "hidden": true
   },
   "outputs": [],
   "source": [
    "# df_2021_2020.head(2)"
   ]
  },
  {
   "cell_type": "code",
   "execution_count": null,
   "id": "5e0ffba1",
   "metadata": {
    "ExecuteTime": {
     "end_time": "2022-10-23T15:16:03.868256Z",
     "start_time": "2022-10-23T15:16:03.853296Z"
    },
    "hidden": true
   },
   "outputs": [],
   "source": [
    "# sns.pairplot(df_2021_2020)\n",
    "# plt.show()"
   ]
  },
  {
   "cell_type": "code",
   "execution_count": null,
   "id": "c7326814",
   "metadata": {
    "ExecuteTime": {
     "end_time": "2022-10-23T15:16:03.884241Z",
     "start_time": "2022-10-23T15:16:03.870251Z"
    },
    "hidden": true
   },
   "outputs": [],
   "source": [
    "# X = df_2021_2020.drop(columns=['WhiteIsComp', 'BlackIsComp', 'NoComp'])\n",
    "# y = df_2021_2020.loc[:,['WhiteIsComp', 'BlackIsComp', 'NoComp']]"
   ]
  },
  {
   "cell_type": "code",
   "execution_count": null,
   "id": "612cd65f",
   "metadata": {
    "ExecuteTime": {
     "end_time": "2022-10-23T15:16:03.900196Z",
     "start_time": "2022-10-23T15:16:03.885211Z"
    },
    "hidden": true,
    "scrolled": true
   },
   "outputs": [],
   "source": [
    "# X.head(2)"
   ]
  },
  {
   "cell_type": "code",
   "execution_count": null,
   "id": "ab0a4899",
   "metadata": {
    "ExecuteTime": {
     "end_time": "2022-10-23T15:16:03.915158Z",
     "start_time": "2022-10-23T15:16:03.901168Z"
    },
    "hidden": true
   },
   "outputs": [],
   "source": [
    "# # %%timeit\n",
    "# test_=X.copy()\n",
    "\n",
    "# # test_[['TimeControl_Base', 'TimeControl_Inc']]=[\n",
    "# #     (str.split(x, sep='+')[0], str.split(x, sep='+')[1]) for x in X.TimeControl.values] # 117 ms ± 1.82 ms per loop (mean ± std. dev. of 7 runs, 10 loops each)\n",
    "\n",
    "\n",
    "# # test_[['TimeControl_Base', 'TimeControl_Inc']]=[\n",
    "# #     (str.split(x, sep='+')) for x in X.TimeControl.values] # 110 ms ± 14.6 ms per loop (mean ± std. dev. of 7 runs, 10 loops each)\n",
    "\n",
    "\n",
    "# test_[['TimeControl_Base', 'TimeControl_Inc']]=[\n",
    "#     (int(str.split(x, sep='+')[0]), int(str.split(x, sep='+')[1])) for x in X.TimeControl.values]\n",
    "\n",
    "\n",
    "# test_"
   ]
  },
  {
   "cell_type": "markdown",
   "id": "8cfda3f7",
   "metadata": {
    "hidden": true
   },
   "source": [
    "-----"
   ]
  },
  {
   "cell_type": "markdown",
   "id": "ee4a40d7",
   "metadata": {
    "heading_collapsed": true,
    "hidden": true
   },
   "source": [
    "#### 2022 to 2018 inclusive"
   ]
  },
  {
   "cell_type": "code",
   "execution_count": null,
   "id": "3483494f",
   "metadata": {
    "ExecuteTime": {
     "end_time": "2022-10-24T14:49:02.618421Z",
     "start_time": "2022-10-24T14:48:54.919854Z"
    },
    "hidden": true
   },
   "outputs": [],
   "source": [
    "# # on vostro laptop\n",
    "# raw_p = [joblib.load(f'C:/Users/MaNiL/Desktop/data/capstone/raw/pickles/{year}_CvH.pkl') for \\\n",
    "#          year in np.arange(2022, 2017, -1)] # load the pickles from 2022 to 2018 inclusive"
   ]
  },
  {
   "cell_type": "code",
   "execution_count": null,
   "id": "7ed9cf43",
   "metadata": {
    "ExecuteTime": {
     "end_time": "2022-10-23T15:16:03.947073Z",
     "start_time": "2022-10-23T15:16:03.932085Z"
    },
    "hidden": true
   },
   "outputs": [],
   "source": [
    "# list_cleaned_p = hp.clean_pickles(raw_p)"
   ]
  },
  {
   "cell_type": "code",
   "execution_count": null,
   "id": "8a412bc7",
   "metadata": {
    "ExecuteTime": {
     "end_time": "2022-10-23T15:16:03.963030Z",
     "start_time": "2022-10-23T15:16:03.948043Z"
    },
    "hidden": true
   },
   "outputs": [],
   "source": [
    "# sum([df_.shape[0] for df_ in list_cleaned_p])"
   ]
  },
  {
   "cell_type": "code",
   "execution_count": null,
   "id": "1c07a819",
   "metadata": {
    "ExecuteTime": {
     "end_time": "2022-10-23T15:16:03.978990Z",
     "start_time": "2022-10-23T15:16:03.964000Z"
    },
    "hidden": true
   },
   "outputs": [],
   "source": [
    "# pd.concat(list_cleaned_p).shape"
   ]
  },
  {
   "cell_type": "code",
   "execution_count": null,
   "id": "ed575835",
   "metadata": {
    "ExecuteTime": {
     "end_time": "2022-10-23T15:16:03.993948Z",
     "start_time": "2022-10-23T15:16:03.979986Z"
    },
    "hidden": true
   },
   "outputs": [],
   "source": [
    "# sum([df_.shape[0] for df_ in list_cleaned_p])==pd.concat(list_cleaned_p).shape[0]"
   ]
  },
  {
   "cell_type": "code",
   "execution_count": null,
   "id": "6cc150ef",
   "metadata": {
    "ExecuteTime": {
     "end_time": "2022-10-24T14:50:56.112673Z",
     "start_time": "2022-10-24T14:50:56.104673Z"
    },
    "hidden": true
   },
   "outputs": [],
   "source": [
    "# raw_p[0].head(1)\n",
    "# raw_p[0].columns"
   ]
  },
  {
   "cell_type": "code",
   "execution_count": null,
   "id": "8836416f",
   "metadata": {
    "ExecuteTime": {
     "end_time": "2022-10-24T14:59:22.038535Z",
     "start_time": "2022-10-24T14:59:20.758728Z"
    },
    "hidden": true
   },
   "outputs": [],
   "source": [
    "# df_2022_2018_CvH_raw = hp.concatenate_cleaned_pickles(\n",
    "#     raw_p, list_of_cols=['Event', 'Site', 'Round', 'BlackClock',\n",
    "#                          'FICSGamesDBGameNo', 'Time', 'WhiteClock'])\n",
    "\n",
    "# # Shape pre-drop: (198779, 17)\n",
    "# # Dropping duplicates...\n",
    "# # Shape post-drop: (198539, 17)\n",
    "# #  Duplicates dropped: 240"
   ]
  },
  {
   "cell_type": "code",
   "execution_count": null,
   "id": "dfa0cd50",
   "metadata": {
    "ExecuteTime": {
     "end_time": "2022-10-24T14:56:26.094124Z",
     "start_time": "2022-10-24T14:56:26.080153Z"
    },
    "hidden": true
   },
   "outputs": [],
   "source": [
    "# df_2022_2018_CvH_raw_test = hp.concatenate_cleaned_pickles(\n",
    "#     raw_p, list_of_cols=['Event', 'Site', 'Round', 'BlackClock',\n",
    "#                          'Time', 'WhiteClock'])\n",
    "\n",
    "# # Shape pre-drop: (198779, 18)\n",
    "# # Dropping duplicates...\n",
    "# # Shape post-drop: (198779, 18)\n",
    "# #  Duplicates dropped: 0"
   ]
  },
  {
   "cell_type": "code",
   "execution_count": null,
   "id": "e4788670",
   "metadata": {
    "ExecuteTime": {
     "end_time": "2022-10-24T14:57:53.948354Z",
     "start_time": "2022-10-24T14:57:53.931655Z"
    },
    "hidden": true
   },
   "outputs": [],
   "source": [
    "# df_2022_2018_CvH_raw_test = hp.concatenate_cleaned_pickles(\n",
    "#     raw_p, list_of_cols=['FICSGamesDBGameNo'])\n",
    "\n",
    "# Shape pre-drop: (198779, 23)\n",
    "# Dropping duplicates...\n",
    "# Shape post-drop: (198768, 23)\n",
    "#  Duplicates dropped: 11"
   ]
  },
  {
   "cell_type": "markdown",
   "id": "532c8d1c",
   "metadata": {
    "hidden": true
   },
   "source": [
    "Depending on what columns you drop, there are a different number of duplicates found. This could be investigated further in future."
   ]
  },
  {
   "cell_type": "code",
   "execution_count": null,
   "id": "ab748cd6",
   "metadata": {
    "hidden": true
   },
   "outputs": [],
   "source": []
  },
  {
   "cell_type": "markdown",
   "id": "07871c57",
   "metadata": {
    "hidden": true
   },
   "source": [
    "The below reappears later on in the notebook but I put it here just to remind myself that for some analysis I do keep Event."
   ]
  },
  {
   "cell_type": "code",
   "execution_count": null,
   "id": "587faed7",
   "metadata": {
    "ExecuteTime": {
     "end_time": "2022-10-25T16:26:38.935998Z",
     "start_time": "2022-10-25T16:26:36.426966Z"
    },
    "hidden": true
   },
   "outputs": [],
   "source": [
    "# df_2022_2018_CvH_raw = hp.concatenate_cleaned_pickles(\n",
    "#     raw_p, list_of_cols=['Site', 'Round', 'BlackClock',\n",
    "#                          'FICSGamesDBGameNo', 'Time', 'WhiteClock'])\n",
    "\n",
    "# # All PlyCount values match the length of moves-list\n",
    "# # Shape pre-drop: (198779, 18)\n",
    "# # Dropping duplicates...\n",
    "# # Shape post-drop: (198539, 18)\n",
    "# #  Duplicates dropped: 240"
   ]
  },
  {
   "cell_type": "code",
   "execution_count": null,
   "id": "6f257c82",
   "metadata": {
    "ExecuteTime": {
     "end_time": "2022-10-25T16:32:36.898685Z",
     "start_time": "2022-10-25T16:29:35.393241Z"
    },
    "hidden": true
   },
   "outputs": [],
   "source": [
    "# joblib.dump(df_2022_2018_CvH_raw,\n",
    "#            'C:/Users/MaNiL/Desktop/data/capstone/preprocessed/2022_2018_CvH_distinv_withevent.pkl',\n",
    "#            compress=9)"
   ]
  },
  {
   "cell_type": "code",
   "execution_count": null,
   "id": "8bdd3676",
   "metadata": {
    "hidden": true
   },
   "outputs": [],
   "source": []
  },
  {
   "cell_type": "code",
   "execution_count": null,
   "id": "074c9b47",
   "metadata": {
    "hidden": true
   },
   "outputs": [],
   "source": []
  },
  {
   "cell_type": "markdown",
   "id": "aa52c8fe",
   "metadata": {
    "heading_collapsed": true,
    "hidden": true
   },
   "source": [
    "#### Other"
   ]
  },
  {
   "cell_type": "code",
   "execution_count": null,
   "id": "1af46a19",
   "metadata": {
    "ExecuteTime": {
     "end_time": "2022-10-23T15:16:04.008880Z",
     "start_time": "2022-10-23T15:16:03.994917Z"
    },
    "hidden": true
   },
   "outputs": [],
   "source": [
    "# df = pd.read_json(\"data/raw_data/json/ficsgamesdb_search_ignore_colour_test.json\")"
   ]
  },
  {
   "cell_type": "code",
   "execution_count": null,
   "id": "55cf5d51",
   "metadata": {
    "ExecuteTime": {
     "end_time": "2022-10-23T15:16:04.024866Z",
     "start_time": "2022-10-23T15:16:04.009877Z"
    },
    "hidden": true
   },
   "outputs": [],
   "source": [
    "# # should have 271 games, I think I said it would have 300\n",
    "\n",
    "# df_wrong_num_test = pd.read_json('C:/Users/MaNiL/Desktop/data/capstone/raw/json/First_tests/ignore_colour_wrong_number_fed.json')\n",
    "\n",
    "# print(df_wrong_num_test.shape)\n",
    "# hp.chess_checker_function(df_wrong_num_test)\n",
    "# df_wrong_num_test = hp.change_comp_columns(df)\n",
    "# print(df_wrong_num_test.columns)\n",
    "# hp.chess_nan_checker(df_wrong_num_test)"
   ]
  },
  {
   "cell_type": "code",
   "execution_count": null,
   "id": "85fff6a9",
   "metadata": {
    "ExecuteTime": {
     "end_time": "2022-10-23T15:16:04.040341Z",
     "start_time": "2022-10-23T15:16:04.025835Z"
    },
    "hidden": true
   },
   "outputs": [],
   "source": [
    "# df = pd.read_json(\"C:/Users/MaNiL/Desktop/data/capstone/raw/json/Standard_2021_all_ratings/ficsgamesdb_2021_standard_movetimes_264828.json\")\n",
    "\n",
    "# joblib.dump(df, './data/2021_all_ratings.pkl')"
   ]
  },
  {
   "cell_type": "code",
   "execution_count": null,
   "id": "bde3d0d8",
   "metadata": {
    "ExecuteTime": {
     "end_time": "2022-10-23T15:16:04.055273Z",
     "start_time": "2022-10-23T15:16:04.041310Z"
    },
    "hidden": true
   },
   "outputs": [],
   "source": [
    "# df = joblib.load('./data/2021_CvH.pkl')\n",
    "\n",
    "# # df = joblib.load('C:/Users/Emanuel/OneDrive/My Documents/')\n",
    "\n",
    "# # df = joblib.load('C:/Users/MaNiL/Desktop/data/capstone/preprocessed/2021_CvH.pkl')"
   ]
  },
  {
   "cell_type": "code",
   "execution_count": null,
   "id": "504ece3b",
   "metadata": {
    "ExecuteTime": {
     "end_time": "2022-10-23T15:16:04.071230Z",
     "start_time": "2022-10-23T15:16:04.056270Z"
    },
    "hidden": true
   },
   "outputs": [],
   "source": [
    "# hp.chess_checker_function(df)"
   ]
  },
  {
   "cell_type": "code",
   "execution_count": null,
   "id": "fbd271b0",
   "metadata": {
    "ExecuteTime": {
     "end_time": "2022-10-23T15:16:04.087188Z",
     "start_time": "2022-10-23T15:16:04.072228Z"
    },
    "hidden": true,
    "scrolled": true
   },
   "outputs": [],
   "source": [
    "# df.info()"
   ]
  },
  {
   "cell_type": "code",
   "execution_count": null,
   "id": "5b4576d6",
   "metadata": {
    "ExecuteTime": {
     "end_time": "2022-10-23T15:16:04.103145Z",
     "start_time": "2022-10-23T15:16:04.088185Z"
    },
    "hidden": true,
    "scrolled": true
   },
   "outputs": [],
   "source": [
    "# nocomp_df = hp.change_comp_columns(df)\n",
    "# print(nocomp_df.columns)"
   ]
  },
  {
   "cell_type": "markdown",
   "id": "c5c5c9c5",
   "metadata": {
    "hidden": true
   },
   "source": [
    "['Event', 'Site', 'Date', 'Round', 'White', 'Black', 'Result',\n",
    "       'BlackClock', 'BlackElo', 'BlackIsComp', 'BlackRD', 'ECO',\n",
    "       'FICSGamesDBGameNo', 'PlyCount', 'Time', 'TimeControl', 'WhiteClock',\n",
    "       'WhiteElo', 'WhiteRD', 'emt', 'moves', 'WhiteIsComp', 'NoComp']"
   ]
  },
  {
   "cell_type": "code",
   "execution_count": null,
   "id": "8e956fb9",
   "metadata": {
    "ExecuteTime": {
     "end_time": "2022-10-23T15:16:04.119102Z",
     "start_time": "2022-10-23T15:16:04.104143Z"
    },
    "hidden": true
   },
   "outputs": [],
   "source": [
    "# nocomp_df.head(1)"
   ]
  },
  {
   "cell_type": "code",
   "execution_count": null,
   "id": "8120559f",
   "metadata": {
    "ExecuteTime": {
     "end_time": "2022-10-23T15:16:04.135060Z",
     "start_time": "2022-10-23T15:16:04.120100Z"
    },
    "hidden": true
   },
   "outputs": [],
   "source": [
    "# hp.chess_nan_checker(nocomp_df)"
   ]
  },
  {
   "cell_type": "markdown",
   "id": "0b7e899b",
   "metadata": {
    "hidden": true
   },
   "source": [
    "-----"
   ]
  },
  {
   "cell_type": "markdown",
   "id": "fc835592",
   "metadata": {
    "heading_collapsed": true
   },
   "source": [
    "### Some Cleaning & Inv"
   ]
  },
  {
   "cell_type": "markdown",
   "id": "2f1e57ad",
   "metadata": {
    "heading_collapsed": true,
    "hidden": true
   },
   "source": [
    "#### Separating Standard Games (not imposed in cleaning yet)"
   ]
  },
  {
   "cell_type": "code",
   "execution_count": null,
   "id": "c71b664d",
   "metadata": {
    "ExecuteTime": {
     "end_time": "2022-10-23T15:16:04.151018Z",
     "start_time": "2022-10-23T15:16:04.136057Z"
    },
    "hidden": true
   },
   "outputs": [],
   "source": [
    "# Unique events\n",
    "\n",
    "# nocomp_df[['Event']].head()\n",
    "\n",
    "# nocomp_df['Event'].unique()"
   ]
  },
  {
   "cell_type": "code",
   "execution_count": null,
   "id": "53911d3e",
   "metadata": {
    "ExecuteTime": {
     "end_time": "2022-10-23T15:16:04.166975Z",
     "start_time": "2022-10-23T15:16:04.152015Z"
    },
    "hidden": true
   },
   "outputs": [],
   "source": [
    "# nocomp_df = joblib.load('C:/Users/Emanuel/Desktop/data/capstone/raw/2021_CvH.pkl')\n",
    "# nocomp_df = hp.change_comp_columns(nocomp_df)"
   ]
  },
  {
   "cell_type": "code",
   "execution_count": null,
   "id": "d240f712",
   "metadata": {
    "ExecuteTime": {
     "end_time": "2022-10-23T15:16:04.182932Z",
     "start_time": "2022-10-23T15:16:04.167972Z"
    },
    "hidden": true,
    "scrolled": true
   },
   "outputs": [],
   "source": [
    "# nocomp_df.head(3)"
   ]
  },
  {
   "cell_type": "code",
   "execution_count": null,
   "id": "09d52888",
   "metadata": {
    "ExecuteTime": {
     "end_time": "2022-10-23T15:16:04.198918Z",
     "start_time": "2022-10-23T15:16:04.183929Z"
    },
    "hidden": true
   },
   "outputs": [],
   "source": [
    "# nocomp_df[['Event']].groupby(['Event']).value_counts().sort_values()"
   ]
  },
  {
   "cell_type": "code",
   "execution_count": null,
   "id": "ec790cd1",
   "metadata": {
    "ExecuteTime": {
     "end_time": "2022-10-23T15:16:04.214847Z",
     "start_time": "2022-10-23T15:16:04.199886Z"
    },
    "hidden": true,
    "scrolled": true
   },
   "outputs": [],
   "source": [
    "# test_ = nocomp_df[['Event', 'TimeControl', 'Time', 'Result', 'White', 'WhiteIsComp', 'Black', 'BlackIsComp', 'NoComp']]\n",
    "# test_.head()"
   ]
  },
  {
   "cell_type": "code",
   "execution_count": null,
   "id": "de98ebae",
   "metadata": {
    "ExecuteTime": {
     "end_time": "2022-10-23T15:16:04.230414Z",
     "start_time": "2022-10-23T15:16:04.215844Z"
    },
    "hidden": true
   },
   "outputs": [],
   "source": [
    "# 900/60"
   ]
  },
  {
   "cell_type": "code",
   "execution_count": null,
   "id": "dbc9b33f",
   "metadata": {
    "ExecuteTime": {
     "end_time": "2022-10-23T15:16:04.246371Z",
     "start_time": "2022-10-23T15:16:04.231384Z"
    },
    "hidden": true
   },
   "outputs": [],
   "source": [
    "# event_control = test_.groupby(['Event', 'TimeControl']).count().reset_index().loc[:, ['Event', 'TimeControl']]\n",
    "# event_control"
   ]
  },
  {
   "cell_type": "code",
   "execution_count": null,
   "id": "41653e93",
   "metadata": {
    "ExecuteTime": {
     "end_time": "2022-10-23T15:16:04.262329Z",
     "start_time": "2022-10-23T15:16:04.247341Z"
    },
    "hidden": true
   },
   "outputs": [],
   "source": [
    "# # event_control[ ['standard game' in event_control['Event'].values] ] # doesn't work\n",
    "\n",
    "# # ['standard game' in x for x in event_control['Event'].values]\n",
    "\n",
    "# standard_games = event_control[['standard game' in x for x in event_control['Event'].values]]\n",
    "# display(standard_games.head())\n",
    "# display(standard_games.TimeControl.unique())\n",
    "# standard_games_times = standard_games.TimeControl.unique()"
   ]
  },
  {
   "cell_type": "code",
   "execution_count": null,
   "id": "78ba0c10",
   "metadata": {
    "ExecuteTime": {
     "end_time": "2022-10-23T15:16:04.278286Z",
     "start_time": "2022-10-23T15:16:04.263298Z"
    },
    "hidden": true
   },
   "outputs": [],
   "source": [
    "# blitz_games = event_control[['blitz game' in x for x in event_control['Event'].values]]\n",
    "# display(blitz_games.head())\n",
    "# display(blitz_games.TimeControl.unique())\n",
    "# blitz_games_times = blitz_games.TimeControl.unique()"
   ]
  },
  {
   "cell_type": "code",
   "execution_count": null,
   "id": "575a8ab3",
   "metadata": {
    "ExecuteTime": {
     "end_time": "2022-10-23T15:16:04.294244Z",
     "start_time": "2022-10-23T15:16:04.279257Z"
    },
    "hidden": true
   },
   "outputs": [],
   "source": [
    "# any([b_time in standard_games_times for b_time in blitz_games_times]) # False\n",
    "\n",
    "# # '900+1' in standard_games_times # True"
   ]
  },
  {
   "cell_type": "code",
   "execution_count": null,
   "id": "45007964",
   "metadata": {
    "ExecuteTime": {
     "end_time": "2022-10-23T15:16:04.310201Z",
     "start_time": "2022-10-23T15:16:04.295213Z"
    },
    "hidden": true
   },
   "outputs": [],
   "source": [
    "# standard_game_times_sort = standard_games_times.copy()\n",
    "# standard_game_times_sort=[str.split(x, sep='+') for x in standard_game_times_sort]\n",
    "# standard_game_times_sort = pd.DataFrame([[int(row[0]), int(row[1])] for \\\n",
    "#                                          row in standard_game_times_sort]).sort_values(\n",
    "#     by=0,\n",
    "#     axis=0,\n",
    "#     ascending=False).reset_index(drop=True).rename(columns={1: 'inc'})\n",
    "# standard_game_times_sort.head()"
   ]
  },
  {
   "cell_type": "code",
   "execution_count": null,
   "id": "df708a01",
   "metadata": {
    "ExecuteTime": {
     "end_time": "2022-10-23T15:16:04.326130Z",
     "start_time": "2022-10-23T15:16:04.311170Z"
    },
    "hidden": true,
    "scrolled": true
   },
   "outputs": [],
   "source": [
    "# standard_game_times_sort"
   ]
  },
  {
   "cell_type": "code",
   "execution_count": null,
   "id": "0bdf6ffd",
   "metadata": {
    "ExecuteTime": {
     "end_time": "2022-10-23T15:16:04.341624Z",
     "start_time": "2022-10-23T15:16:04.327127Z"
    },
    "hidden": true
   },
   "outputs": [],
   "source": [
    "# blitz_games_times_sort = blitz_games_times.copy()\n",
    "# blitz_games_times_sort=[str.split(x, sep='+') for x in blitz_games_times_sort]\n",
    "# blitz_games_times_sort = pd.DataFrame([[int(row[0]), int(row[1])] for \\\n",
    "#                                          row in blitz_games_times_sort]).sort_values(\n",
    "#     by=0,\n",
    "#     axis=0,\n",
    "#     ascending=False).reset_index(drop=True).rename(columns={1: 'inc'})\n",
    "# blitz_games_times_sort.head()"
   ]
  },
  {
   "cell_type": "code",
   "execution_count": null,
   "id": "c2871889",
   "metadata": {
    "ExecuteTime": {
     "end_time": "2022-10-23T15:16:04.357583Z",
     "start_time": "2022-10-23T15:16:04.342594Z"
    },
    "hidden": true
   },
   "outputs": [],
   "source": [
    "# s_b_merged = pd.merge(standard_game_times_sort, blitz_games_times_sort, how='outer', on=0, suffixes=('_s', '_b'))"
   ]
  },
  {
   "cell_type": "code",
   "execution_count": null,
   "id": "c039c160",
   "metadata": {
    "ExecuteTime": {
     "end_time": "2022-10-23T15:16:04.373539Z",
     "start_time": "2022-10-23T15:16:04.358550Z"
    },
    "hidden": true
   },
   "outputs": [],
   "source": [
    "# s_b_merged"
   ]
  },
  {
   "cell_type": "code",
   "execution_count": null,
   "id": "9231e940",
   "metadata": {
    "ExecuteTime": {
     "end_time": "2022-10-23T15:16:04.389469Z",
     "start_time": "2022-10-23T15:16:04.374508Z"
    },
    "hidden": true,
    "scrolled": true
   },
   "outputs": [],
   "source": [
    "# for row in s_b_merged.values:\n",
    "#     print(row)"
   ]
  },
  {
   "cell_type": "code",
   "execution_count": null,
   "id": "2faae9d6",
   "metadata": {
    "ExecuteTime": {
     "end_time": "2022-10-23T15:16:04.405457Z",
     "start_time": "2022-10-23T15:16:04.390465Z"
    },
    "hidden": true
   },
   "outputs": [],
   "source": [
    "# np.c_[standard_games_times, blitz_games_times]\n"
   ]
  },
  {
   "cell_type": "code",
   "execution_count": null,
   "id": "92dbde28",
   "metadata": {
    "ExecuteTime": {
     "end_time": "2022-10-23T15:16:04.420414Z",
     "start_time": "2022-10-23T15:16:04.406423Z"
    },
    "hidden": true
   },
   "outputs": [],
   "source": [
    "# nocomp_df['TimeControl'].values"
   ]
  },
  {
   "cell_type": "code",
   "execution_count": null,
   "id": "1a5a21ff",
   "metadata": {
    "ExecuteTime": {
     "end_time": "2022-10-23T15:16:04.435375Z",
     "start_time": "2022-10-23T15:16:04.421383Z"
    },
    "hidden": true
   },
   "outputs": [],
   "source": [
    "# nocomp_df[['3600' in x for x in nocomp_df['TimeControl'].values]].shape # (250, 23)"
   ]
  },
  {
   "cell_type": "code",
   "execution_count": null,
   "id": "1218f2c5",
   "metadata": {
    "ExecuteTime": {
     "end_time": "2022-10-23T15:16:04.451330Z",
     "start_time": "2022-10-23T15:16:04.436343Z"
    },
    "hidden": true
   },
   "outputs": [],
   "source": [
    "# only 250 games in 2021_CvH were started as 60+ minutes; it is possible that games went on for longer than 60 \n",
    "# minutes"
   ]
  },
  {
   "cell_type": "code",
   "execution_count": null,
   "id": "0bc23bba",
   "metadata": {
    "hidden": true
   },
   "outputs": [],
   "source": []
  },
  {
   "cell_type": "markdown",
   "id": "cf783c56",
   "metadata": {
    "hidden": true
   },
   "source": [
    "-----"
   ]
  },
  {
   "cell_type": "markdown",
   "id": "fe339160",
   "metadata": {
    "heading_collapsed": true,
    "hidden": true
   },
   "source": [
    "#### Unique players investigation"
   ]
  },
  {
   "cell_type": "code",
   "execution_count": null,
   "id": "8f52607a",
   "metadata": {
    "hidden": true
   },
   "outputs": [],
   "source": []
  },
  {
   "cell_type": "code",
   "execution_count": null,
   "id": "feec036a",
   "metadata": {
    "hidden": true
   },
   "outputs": [],
   "source": []
  },
  {
   "cell_type": "code",
   "execution_count": null,
   "id": "b0a3c039",
   "metadata": {
    "hidden": true
   },
   "outputs": [],
   "source": []
  },
  {
   "cell_type": "code",
   "execution_count": null,
   "id": "def6088d",
   "metadata": {
    "hidden": true
   },
   "outputs": [],
   "source": []
  },
  {
   "cell_type": "code",
   "execution_count": null,
   "id": "31fb5592",
   "metadata": {
    "hidden": true
   },
   "outputs": [],
   "source": []
  },
  {
   "cell_type": "code",
   "execution_count": null,
   "id": "5af72d84",
   "metadata": {
    "hidden": true
   },
   "outputs": [],
   "source": []
  },
  {
   "cell_type": "code",
   "execution_count": null,
   "id": "c9652114",
   "metadata": {
    "hidden": true
   },
   "outputs": [],
   "source": []
  },
  {
   "cell_type": "markdown",
   "id": "9f304cb3",
   "metadata": {
    "hidden": true
   },
   "source": [
    "----"
   ]
  },
  {
   "cell_type": "markdown",
   "id": "6bfa7ee3",
   "metadata": {
    "heading_collapsed": true,
    "hidden": true
   },
   "source": [
    "#### Get rid of draws "
   ]
  },
  {
   "cell_type": "code",
   "execution_count": null,
   "id": "555f87d4",
   "metadata": {
    "ExecuteTime": {
     "end_time": "2022-10-23T15:16:04.467290Z",
     "start_time": "2022-10-23T15:16:04.452300Z"
    },
    "hidden": true
   },
   "outputs": [],
   "source": [
    "# nocomp_df['Result'].unique()"
   ]
  },
  {
   "cell_type": "code",
   "execution_count": null,
   "id": "6ff121f9",
   "metadata": {
    "ExecuteTime": {
     "end_time": "2022-10-23T15:16:04.483217Z",
     "start_time": "2022-10-23T15:16:04.468257Z"
    },
    "hidden": true
   },
   "outputs": [],
   "source": [
    "# nocomp_df[['WhiteIsComp', 'BlackIsComp','Result']]"
   ]
  },
  {
   "cell_type": "code",
   "execution_count": null,
   "id": "7af1307b",
   "metadata": {
    "ExecuteTime": {
     "end_time": "2022-10-23T15:16:04.514162Z",
     "start_time": "2022-10-23T15:16:04.497180Z"
    },
    "hidden": true
   },
   "outputs": [],
   "source": [
    "# nocomp_df['Result']=='1-0'"
   ]
  },
  {
   "cell_type": "code",
   "execution_count": null,
   "id": "c6de8b39",
   "metadata": {
    "ExecuteTime": {
     "end_time": "2022-10-23T15:16:04.530126Z",
     "start_time": "2022-10-23T15:16:04.515132Z"
    },
    "hidden": true
   },
   "outputs": [],
   "source": [
    "# ## filters\n",
    "\n",
    "# # Computer wins as white \n",
    "# comp_w_w = ((nocomp_df['Result']=='1-0')&(nocomp_df['WhiteIsComp']==1))\n",
    "# # Computer wins as black\n",
    "# comp_b_w = ((nocomp_df['Result']=='0-1')&(nocomp_df['BlackIsComp']==1))\n",
    "# # Draw\n",
    "# no_draw = (nocomp_df['Result']!='1/2-1/2')"
   ]
  },
  {
   "cell_type": "code",
   "execution_count": null,
   "id": "4e1d2da0",
   "metadata": {
    "ExecuteTime": {
     "end_time": "2022-10-23T15:16:04.546077Z",
     "start_time": "2022-10-23T15:16:04.531089Z"
    },
    "hidden": true
   },
   "outputs": [],
   "source": [
    "# right_result_df = nocomp_df[comp_w_w |\n",
    "#                             comp_b_w]"
   ]
  },
  {
   "cell_type": "code",
   "execution_count": null,
   "id": "eb15bff4",
   "metadata": {
    "ExecuteTime": {
     "end_time": "2022-10-23T15:16:04.562006Z",
     "start_time": "2022-10-23T15:16:04.547047Z"
    },
    "hidden": true
   },
   "outputs": [],
   "source": [
    "# right_result_df.shape # (28013, 23)"
   ]
  },
  {
   "cell_type": "code",
   "execution_count": null,
   "id": "3bcc6b30",
   "metadata": {
    "ExecuteTime": {
     "end_time": "2022-10-23T15:16:04.577991Z",
     "start_time": "2022-10-23T15:16:04.563004Z"
    },
    "hidden": true
   },
   "outputs": [],
   "source": [
    "# any(right_result_df['Result']=='1/2-1/2') # no draws"
   ]
  },
  {
   "cell_type": "code",
   "execution_count": null,
   "id": "fb0eda9e",
   "metadata": {
    "ExecuteTime": {
     "end_time": "2022-10-23T15:16:04.592951Z",
     "start_time": "2022-10-23T15:16:04.578961Z"
    },
    "hidden": true
   },
   "outputs": [],
   "source": [
    "# no_draws_df.shape"
   ]
  },
  {
   "cell_type": "markdown",
   "id": "802a364c",
   "metadata": {
    "hidden": true
   },
   "source": [
    "-----"
   ]
  },
  {
   "cell_type": "markdown",
   "id": "33b448b6",
   "metadata": {
    "heading_collapsed": true,
    "hidden": true
   },
   "source": [
    "#### Get rid of lightning games"
   ]
  },
  {
   "cell_type": "code",
   "execution_count": null,
   "id": "b077424b",
   "metadata": {
    "ExecuteTime": {
     "end_time": "2022-10-23T15:16:06.933254Z",
     "start_time": "2022-10-23T15:16:04.593921Z"
    },
    "hidden": true
   },
   "outputs": [],
   "source": [
    "df_2018 = joblib.load('./data/raw/2018_CvH.pkl')"
   ]
  },
  {
   "cell_type": "code",
   "execution_count": null,
   "id": "35fc59e7",
   "metadata": {
    "ExecuteTime": {
     "end_time": "2022-10-23T15:16:06.949184Z",
     "start_time": "2022-10-23T15:16:06.934225Z"
    },
    "hidden": true
   },
   "outputs": [],
   "source": [
    "df_2018.shape"
   ]
  },
  {
   "cell_type": "code",
   "execution_count": null,
   "id": "f76cb9f9",
   "metadata": {
    "ExecuteTime": {
     "end_time": "2022-10-23T15:16:06.980130Z",
     "start_time": "2022-10-23T15:16:06.950182Z"
    },
    "hidden": true
   },
   "outputs": [],
   "source": [
    "df_2018.tail()"
   ]
  },
  {
   "cell_type": "code",
   "execution_count": null,
   "id": "f47f5927",
   "metadata": {
    "ExecuteTime": {
     "end_time": "2022-10-23T15:16:06.996091Z",
     "start_time": "2022-10-23T15:16:06.981099Z"
    },
    "hidden": true
   },
   "outputs": [],
   "source": [
    "df_2018['Event'].unique()"
   ]
  },
  {
   "cell_type": "code",
   "execution_count": null,
   "id": "b0071b25",
   "metadata": {
    "ExecuteTime": {
     "end_time": "2022-10-23T15:16:07.012045Z",
     "start_time": "2022-10-23T15:16:06.997056Z"
    },
    "hidden": true
   },
   "outputs": [],
   "source": [
    "df_2018['Event'].values"
   ]
  },
  {
   "cell_type": "code",
   "execution_count": null,
   "id": "532c4198",
   "metadata": {
    "ExecuteTime": {
     "end_time": "2022-10-23T15:16:07.027004Z",
     "start_time": "2022-10-23T15:16:07.013014Z"
    },
    "hidden": true
   },
   "outputs": [],
   "source": [
    "'lightning game' in df_2018['Event'].values"
   ]
  },
  {
   "cell_type": "code",
   "execution_count": null,
   "id": "9bfdfcac",
   "metadata": {
    "ExecuteTime": {
     "end_time": "2022-10-23T15:16:07.042958Z",
     "start_time": "2022-10-23T15:16:07.027974Z"
    },
    "hidden": true
   },
   "outputs": [],
   "source": [
    "'lightning game' in df_2018[['Event']]"
   ]
  },
  {
   "cell_type": "code",
   "execution_count": null,
   "id": "17e87cf7",
   "metadata": {
    "ExecuteTime": {
     "end_time": "2022-10-23T15:16:07.058891Z",
     "start_time": "2022-10-23T15:16:07.043931Z"
    },
    "hidden": true
   },
   "outputs": [],
   "source": [
    "['lightning game' in df_2018['Event'].values]"
   ]
  },
  {
   "cell_type": "code",
   "execution_count": null,
   "id": "69055ec8",
   "metadata": {
    "ExecuteTime": {
     "end_time": "2022-10-23T15:31:03.853991Z",
     "start_time": "2022-10-23T15:31:03.839031Z"
    },
    "hidden": true
   },
   "outputs": [],
   "source": [
    "[row for row in df_2018['Event'] if 'lightning game' in row];"
   ]
  },
  {
   "cell_type": "code",
   "execution_count": null,
   "id": "03113a37",
   "metadata": {
    "ExecuteTime": {
     "end_time": "2022-10-23T15:16:07.122755Z",
     "start_time": "2022-10-23T15:16:07.091803Z"
    },
    "hidden": true
   },
   "outputs": [],
   "source": [
    "# %%timeit # Muninn: 1.85 ms ± 19.9 µs per loop (mean ± std. dev. of 7 runs, 1,000 loops each)\n",
    "\n",
    "df_2018_lightning = df_2018[['lightning game' in row for row in df_2018.Event]] # (20,22)"
   ]
  },
  {
   "cell_type": "code",
   "execution_count": null,
   "id": "d64d6692",
   "metadata": {
    "ExecuteTime": {
     "end_time": "2022-10-23T15:16:07.138678Z",
     "start_time": "2022-10-23T15:16:07.123718Z"
    },
    "hidden": true
   },
   "outputs": [],
   "source": [
    "# # %%timeit # Muninn: 2.1 ms ± 29.9 µs per loop (mean ± std. dev. of 7 runs, 100 loops each)\n",
    "\n",
    "# # lightning_check = df_2018.apply(lambda x: x if 'lightning game' in x[['Event']] else np.NaN, axis=1)\n",
    "# lightning_check = df_2018['Event'].apply(lambda x: True if 'lightning game' in x else False)\n",
    "# df_2018[lightning_check] # (20, 22)"
   ]
  },
  {
   "cell_type": "code",
   "execution_count": null,
   "id": "b8bc6830",
   "metadata": {
    "ExecuteTime": {
     "end_time": "2022-10-23T15:16:07.154639Z",
     "start_time": "2022-10-23T15:16:07.139675Z"
    },
    "hidden": true
   },
   "outputs": [],
   "source": [
    "df_2018_lightning['TimeControl'];"
   ]
  },
  {
   "cell_type": "code",
   "execution_count": null,
   "id": "e29cfb66",
   "metadata": {
    "hidden": true
   },
   "outputs": [],
   "source": []
  },
  {
   "cell_type": "code",
   "execution_count": null,
   "id": "95eecc4e",
   "metadata": {
    "hidden": true
   },
   "outputs": [],
   "source": []
  },
  {
   "cell_type": "code",
   "execution_count": null,
   "id": "03c3fafb",
   "metadata": {
    "hidden": true
   },
   "outputs": [],
   "source": []
  },
  {
   "cell_type": "code",
   "execution_count": null,
   "id": "d3a0314c",
   "metadata": {
    "hidden": true
   },
   "outputs": [],
   "source": []
  },
  {
   "cell_type": "code",
   "execution_count": null,
   "id": "8e11e6de",
   "metadata": {
    "hidden": true
   },
   "outputs": [],
   "source": []
  },
  {
   "cell_type": "code",
   "execution_count": null,
   "id": "31190758",
   "metadata": {
    "hidden": true
   },
   "outputs": [],
   "source": []
  },
  {
   "cell_type": "markdown",
   "id": "a6626f48",
   "metadata": {
    "hidden": true
   },
   "source": [
    "----"
   ]
  },
  {
   "cell_type": "markdown",
   "id": "b7235712",
   "metadata": {
    "heading_collapsed": true,
    "hidden": true
   },
   "source": [
    "#### Get rid of redundant columns"
   ]
  },
  {
   "cell_type": "code",
   "execution_count": null,
   "id": "be6f5a22",
   "metadata": {
    "ExecuteTime": {
     "end_time": "2022-10-23T15:16:07.170620Z",
     "start_time": "2022-10-23T15:16:07.155632Z"
    },
    "hidden": true
   },
   "outputs": [],
   "source": [
    "# right_result_df.columns"
   ]
  },
  {
   "cell_type": "code",
   "execution_count": null,
   "id": "9434428b",
   "metadata": {
    "ExecuteTime": {
     "end_time": "2022-10-23T15:16:07.186578Z",
     "start_time": "2022-10-23T15:16:07.171590Z"
    },
    "hidden": true
   },
   "outputs": [],
   "source": [
    "# all(right_result_df['WhiteClock']==right_result_df['BlackClock'])"
   ]
  },
  {
   "cell_type": "code",
   "execution_count": null,
   "id": "7d618a98",
   "metadata": {
    "ExecuteTime": {
     "end_time": "2022-10-23T15:16:07.202535Z",
     "start_time": "2022-10-23T15:16:07.187547Z"
    },
    "hidden": true
   },
   "outputs": [],
   "source": [
    "# df_clean = right_result_df.drop(columns=[\n",
    "#     'Event', 'Site', 'Date', 'Round', 'White', 'Black', 'BlackClock', 'FICSGamesDBGameNo', 'Time', 'WhiteClock',\n",
    "#     'Result'\n",
    "# ])"
   ]
  },
  {
   "cell_type": "code",
   "execution_count": null,
   "id": "81c2ec03",
   "metadata": {
    "ExecuteTime": {
     "end_time": "2022-10-23T15:16:07.218492Z",
     "start_time": "2022-10-23T15:16:07.203505Z"
    },
    "hidden": true
   },
   "outputs": [],
   "source": [
    "# df_clean"
   ]
  },
  {
   "cell_type": "code",
   "execution_count": null,
   "id": "525035a1",
   "metadata": {
    "hidden": true
   },
   "outputs": [],
   "source": []
  },
  {
   "cell_type": "markdown",
   "id": "f08dec87",
   "metadata": {
    "hidden": true
   },
   "source": [
    "------"
   ]
  },
  {
   "cell_type": "markdown",
   "id": "d30918e4",
   "metadata": {
    "heading_collapsed": true,
    "hidden": true
   },
   "source": [
    "#### Function to 'clean' any pickle"
   ]
  },
  {
   "cell_type": "markdown",
   "id": "dc6a1f22",
   "metadata": {
    "hidden": true
   },
   "source": [
    "For now, some columns (and row values) remain for initial modelling."
   ]
  },
  {
   "cell_type": "code",
   "execution_count": null,
   "id": "7f6547f9",
   "metadata": {
    "ExecuteTime": {
     "end_time": "2022-10-23T15:16:07.234449Z",
     "start_time": "2022-10-23T15:16:07.220459Z"
    },
    "hidden": true
   },
   "outputs": [],
   "source": [
    "# def clean_pickle(pickle_df):\n",
    "#     hp.chess_checker_function(pickle_df)\n",
    "#     temp_ = hp.change_comp_columns(pickle_df)\n",
    "#     hp.chess_nan_checker(temp_)\n",
    "#     # Computer wins as white \n",
    "#     comp_w_w = ((temp_['Result']=='1-0')&(temp_['WhiteIsComp']==1))\n",
    "#     # Computer wins as black\n",
    "#     comp_b_w = ((temp_['Result']=='0-1')&(temp_['BlackIsComp']==1))\n",
    "#     temp_ = temp_[\n",
    "#         ((temp_['Result']=='1-0')&(temp_['WhiteIsComp']==1))|\n",
    "#         ((temp_['Result']=='0-1')&(temp_['BlackIsComp']==1))]\n",
    "    \n",
    "    \n",
    "#     col_to_drop = [\n",
    "#         'Event', 'Site', 'Date', 'Round', 'White', 'Black', 'BlackClock', 'FICSGamesDBGameNo', 'Time', 'WhiteClock',\n",
    "#         'Result'\n",
    "#         ]\n",
    "    \n",
    "#     temp_ = temp_.drop(columns=col_to_drop)\n",
    "#     print(f'Dropped columns: {col_to_drop}')\n",
    "#     return temp_"
   ]
  },
  {
   "cell_type": "code",
   "execution_count": null,
   "id": "162a6cd5",
   "metadata": {
    "ExecuteTime": {
     "end_time": "2022-10-23T15:16:07.250407Z",
     "start_time": "2022-10-23T15:16:07.235419Z"
    },
    "hidden": true
   },
   "outputs": [],
   "source": [
    "# def clean_pickles(list_of_pickle_df):\n",
    "#     list_of_cleaned_pickle_df = []\n",
    "#     for pickle_df in list_of_pickle_df:\n",
    "#         list_of_cleaned_pickle_df.append(clean_pickle(pickle_df))\n",
    "        \n",
    "#     return list_of_cleaned_pickle_df"
   ]
  },
  {
   "cell_type": "code",
   "execution_count": null,
   "id": "dab7488b",
   "metadata": {
    "ExecuteTime": {
     "end_time": "2022-10-23T15:16:07.266336Z",
     "start_time": "2022-10-23T15:16:07.251377Z"
    },
    "hidden": true
   },
   "outputs": [],
   "source": [
    "# raw_2021 = joblib.load('./data/2021_CvH.pkl')"
   ]
  },
  {
   "cell_type": "code",
   "execution_count": null,
   "id": "be3f025b",
   "metadata": {
    "ExecuteTime": {
     "end_time": "2022-10-23T15:16:07.282293Z",
     "start_time": "2022-10-23T15:16:07.267334Z"
    },
    "hidden": true
   },
   "outputs": [],
   "source": [
    "# raw_2020 = joblib.load('./data/2020_CvH.pkl')"
   ]
  },
  {
   "cell_type": "code",
   "execution_count": null,
   "id": "f6658df3",
   "metadata": {
    "ExecuteTime": {
     "end_time": "2022-10-23T15:16:07.297254Z",
     "start_time": "2022-10-23T15:16:07.283291Z"
    },
    "hidden": true
   },
   "outputs": [],
   "source": [
    "# cleaned_2021 = clean_pickle(raw_2021)"
   ]
  },
  {
   "cell_type": "code",
   "execution_count": null,
   "id": "9b904923",
   "metadata": {
    "ExecuteTime": {
     "end_time": "2022-10-23T15:16:07.313211Z",
     "start_time": "2022-10-23T15:16:07.298251Z"
    },
    "hidden": true
   },
   "outputs": [],
   "source": [
    "# raw_p = [raw_2021, raw_2020]"
   ]
  },
  {
   "cell_type": "code",
   "execution_count": null,
   "id": "afd45aee",
   "metadata": {
    "ExecuteTime": {
     "end_time": "2022-10-23T15:16:07.329169Z",
     "start_time": "2022-10-23T15:16:07.314208Z"
    },
    "hidden": true
   },
   "outputs": [],
   "source": [
    "# list_cleaned_p = clean_pickles(raw_p)"
   ]
  },
  {
   "cell_type": "code",
   "execution_count": null,
   "id": "a137f9ea",
   "metadata": {
    "ExecuteTime": {
     "end_time": "2022-10-23T15:16:07.345126Z",
     "start_time": "2022-10-23T15:16:07.330166Z"
    },
    "hidden": true
   },
   "outputs": [],
   "source": [
    "# type(list_cleaned_p)"
   ]
  },
  {
   "cell_type": "code",
   "execution_count": null,
   "id": "82ccc920",
   "metadata": {
    "ExecuteTime": {
     "end_time": "2022-10-23T15:16:07.361110Z",
     "start_time": "2022-10-23T15:16:07.346123Z"
    },
    "hidden": true
   },
   "outputs": [],
   "source": [
    "# display(list_cleaned_p[0].head(2))\n",
    "# display(list_cleaned_p[0].shape)"
   ]
  },
  {
   "cell_type": "code",
   "execution_count": null,
   "id": "42924168",
   "metadata": {
    "ExecuteTime": {
     "end_time": "2022-10-23T15:16:07.377068Z",
     "start_time": "2022-10-23T15:16:07.362080Z"
    },
    "hidden": true
   },
   "outputs": [],
   "source": [
    "# display(list_cleaned_p[1].head(2))\n",
    "# display(list_cleaned_p[1].shape)"
   ]
  },
  {
   "cell_type": "code",
   "execution_count": null,
   "id": "f5e05afb",
   "metadata": {
    "ExecuteTime": {
     "end_time": "2022-10-23T15:16:07.393030Z",
     "start_time": "2022-10-23T15:16:07.378038Z"
    },
    "hidden": true
   },
   "outputs": [],
   "source": [
    "# list_cleaned_p[0].shape[0]+list_cleaned_p[1].shape[0]"
   ]
  },
  {
   "cell_type": "code",
   "execution_count": null,
   "id": "c4ea5438",
   "metadata": {
    "ExecuteTime": {
     "end_time": "2022-10-23T15:16:07.408956Z",
     "start_time": "2022-10-23T15:16:07.393995Z"
    },
    "hidden": true
   },
   "outputs": [],
   "source": [
    "# pd.concat(list_cleaned_p).shape"
   ]
  },
  {
   "cell_type": "code",
   "execution_count": null,
   "id": "128f679e",
   "metadata": {
    "ExecuteTime": {
     "end_time": "2022-10-23T15:16:07.424940Z",
     "start_time": "2022-10-23T15:16:07.409952Z"
    },
    "hidden": true
   },
   "outputs": [],
   "source": [
    "# list_cleaned_p[0].shape[0]+list_cleaned_p[1].shape[0]==pd.concat(list_cleaned_p).shape[0]"
   ]
  },
  {
   "cell_type": "code",
   "execution_count": null,
   "id": "71dea156",
   "metadata": {
    "hidden": true
   },
   "outputs": [],
   "source": []
  },
  {
   "cell_type": "markdown",
   "id": "d032a860",
   "metadata": {
    "hidden": true
   },
   "source": [
    "-----"
   ]
  },
  {
   "cell_type": "markdown",
   "id": "977e2b1a",
   "metadata": {
    "heading_collapsed": true
   },
   "source": [
    "## First Pass Modelling"
   ]
  },
  {
   "cell_type": "markdown",
   "id": "f3d0dec9",
   "metadata": {
    "heading_collapsed": true,
    "hidden": true
   },
   "source": [
    "### Load and functional cleaning"
   ]
  },
  {
   "cell_type": "code",
   "execution_count": null,
   "id": "4d9bcf46",
   "metadata": {
    "ExecuteTime": {
     "end_time": "2022-10-24T15:15:16.748577Z",
     "start_time": "2022-10-24T15:15:08.187018Z"
    },
    "hidden": true
   },
   "outputs": [],
   "source": [
    "# # on vostro laptop\n",
    "# raw_pickle_list = [joblib.load(f'C:/Users/MaNiL/Desktop/data/capstone/raw/pickles/{year}_CvH.pkl') for \\\n",
    "#          year in np.arange(2022, 2017, -1)] # load the pickles from 2022 to 2018 inclusive"
   ]
  },
  {
   "cell_type": "code",
   "execution_count": null,
   "id": "b452e30a",
   "metadata": {
    "ExecuteTime": {
     "end_time": "2022-10-23T15:16:07.456854Z",
     "start_time": "2022-10-23T15:16:07.441867Z"
    },
    "hidden": true
   },
   "outputs": [],
   "source": [
    "# # on Muninn\n",
    "# raw_pickle_list = [joblib.load(f'C:/Users/Emanuel/Desktop/data/capstone/raw/{year}_CvH.pkl') for \\\n",
    "#          year in np.arange(2022, 2017, -1)] # load the pickles from 2022 to 2018 inclusive"
   ]
  },
  {
   "cell_type": "code",
   "execution_count": null,
   "id": "dd14ae6b",
   "metadata": {
    "ExecuteTime": {
     "end_time": "2022-10-23T15:16:07.471815Z",
     "start_time": "2022-10-23T15:16:07.457825Z"
    },
    "hidden": true
   },
   "outputs": [],
   "source": [
    "# # using cloud-available data (currently only 2021 and 2020)\n",
    "# raw_pickle_list = [joblib.load(f'./data/{year}_CvH.pkl') for \\\n",
    "#          year in np.arange(2021, 2019, -1)] # load the pickles from 2022 to 2018 inclusive"
   ]
  },
  {
   "cell_type": "markdown",
   "id": "869b9935",
   "metadata": {
    "hidden": true
   },
   "source": [
    "Shape sanity check:"
   ]
  },
  {
   "cell_type": "code",
   "execution_count": null,
   "id": "1908d5c2",
   "metadata": {
    "ExecuteTime": {
     "end_time": "2022-10-24T15:15:16.986097Z",
     "start_time": "2022-10-24T15:15:16.750577Z"
    },
    "hidden": true
   },
   "outputs": [],
   "source": [
    "# sum([df_.shape[0] for df_ in raw_pickle_list])==pd.concat(raw_pickle_list).shape[0]"
   ]
  },
  {
   "cell_type": "code",
   "execution_count": null,
   "id": "153b2763",
   "metadata": {
    "ExecuteTime": {
     "end_time": "2022-10-24T15:16:49.868237Z",
     "start_time": "2022-10-24T15:16:49.862251Z"
    },
    "hidden": true
   },
   "outputs": [],
   "source": [
    "# big_df = hp.concatenate_cleaned_pickles(raw_pickle_list)\n",
    "\n",
    "\n",
    "# # Shape pre-drop: (198779, 13)\n",
    "# # Dropping duplicates...\n",
    "# # Shape post-drop: (198521, 13)\n",
    "# #  Duplicates dropped: 258"
   ]
  },
  {
   "cell_type": "code",
   "execution_count": null,
   "id": "362c3397",
   "metadata": {
    "hidden": true
   },
   "outputs": [],
   "source": []
  },
  {
   "cell_type": "code",
   "execution_count": null,
   "id": "3d26ec24",
   "metadata": {
    "ExecuteTime": {
     "end_time": "2022-10-23T15:16:07.519687Z",
     "start_time": "2022-10-23T15:16:07.504699Z"
    },
    "hidden": true
   },
   "outputs": [],
   "source": [
    "# on Muninn\n",
    "# joblib.dump(big_df, 'C:/Users/Emanuel/Desktop/data/capstone/preprocessed/2022_2018_CvH.pkl', compress=7)\n",
    "\n",
    "# big_df = joblib.load('C:/Users/Emanuel/Desktop/data/capstone/preprocessed/2022_2018_CvH.pkl')"
   ]
  },
  {
   "cell_type": "code",
   "execution_count": null,
   "id": "e29335d1",
   "metadata": {
    "ExecuteTime": {
     "end_time": "2022-10-23T20:09:41.653876Z",
     "start_time": "2022-10-23T20:09:35.853670Z"
    },
    "hidden": true
   },
   "outputs": [],
   "source": [
    "# on cloud\n",
    "big_df = joblib.load('./data/preprocessed/2022_2018_CvH.pkl')"
   ]
  },
  {
   "cell_type": "code",
   "execution_count": null,
   "id": "dc6f0c2c",
   "metadata": {
    "hidden": true
   },
   "outputs": [],
   "source": []
  },
  {
   "cell_type": "code",
   "execution_count": null,
   "id": "bd802aaf",
   "metadata": {
    "ExecuteTime": {
     "end_time": "2022-10-24T15:17:09.709193Z",
     "start_time": "2022-10-24T15:17:08.611369Z"
    },
    "hidden": true
   },
   "outputs": [],
   "source": [
    "X, y = hp.X_y_split_simple(big_df)\n",
    "\n",
    "y = hp.y_convert_to_ints(y)"
   ]
  },
  {
   "cell_type": "markdown",
   "id": "6f6f9b53",
   "metadata": {
    "hidden": true
   },
   "source": [
    "------"
   ]
  },
  {
   "cell_type": "markdown",
   "id": "176e14c0",
   "metadata": {
    "heading_collapsed": true,
    "hidden": true
   },
   "source": [
    "### Base Models (no cross-validation)"
   ]
  },
  {
   "cell_type": "markdown",
   "id": "b35439e1",
   "metadata": {
    "heading_collapsed": true,
    "hidden": true
   },
   "source": [
    "#### Further cleaning (no 'emt' or 'moves')"
   ]
  },
  {
   "cell_type": "code",
   "execution_count": null,
   "id": "f725a812",
   "metadata": {
    "ExecuteTime": {
     "end_time": "2022-10-23T20:10:29.689642Z",
     "start_time": "2022-10-23T20:10:29.655535Z"
    },
    "hidden": true
   },
   "outputs": [],
   "source": [
    "y.head()"
   ]
  },
  {
   "cell_type": "code",
   "execution_count": null,
   "id": "d5e83833",
   "metadata": {
    "ExecuteTime": {
     "end_time": "2022-10-23T20:10:31.233970Z",
     "start_time": "2022-10-23T20:10:30.296493Z"
    },
    "hidden": true
   },
   "outputs": [],
   "source": [
    "y.value_counts(normalize=True)*100\n",
    "\n",
    "# WhiteIsComp_BlackIsComp_NoComp\n",
    "# 1                                 50.196201\n",
    "# 0                                 49.803799"
   ]
  },
  {
   "cell_type": "code",
   "execution_count": null,
   "id": "704ef33e",
   "metadata": {
    "ExecuteTime": {
     "end_time": "2022-10-23T20:10:31.249048Z",
     "start_time": "2022-10-23T20:10:31.236892Z"
    },
    "hidden": true
   },
   "outputs": [],
   "source": [
    "y.value_counts();\n",
    "\n",
    "# WhiteIsComp_BlackIsComp_NoComp\n",
    "# 1                              99650\n",
    "# 0                              98871"
   ]
  },
  {
   "cell_type": "markdown",
   "id": "e74f72b8",
   "metadata": {
    "hidden": true
   },
   "source": [
    "Knowing the distribution of the target is important when considering model performance."
   ]
  },
  {
   "cell_type": "code",
   "execution_count": null,
   "id": "731c7a46",
   "metadata": {
    "ExecuteTime": {
     "end_time": "2022-10-23T20:10:32.940685Z",
     "start_time": "2022-10-23T20:10:32.916655Z"
    },
    "hidden": true
   },
   "outputs": [],
   "source": [
    "X.head(2)"
   ]
  },
  {
   "cell_type": "code",
   "execution_count": null,
   "id": "446455d9",
   "metadata": {
    "ExecuteTime": {
     "end_time": "2022-10-23T20:10:33.068560Z",
     "start_time": "2022-10-23T20:10:33.063560Z"
    },
    "hidden": true
   },
   "outputs": [],
   "source": [
    "X.shape # (198779, 10)"
   ]
  },
  {
   "cell_type": "code",
   "execution_count": null,
   "id": "b5b808a3",
   "metadata": {
    "ExecuteTime": {
     "end_time": "2022-10-23T20:10:33.256426Z",
     "start_time": "2022-10-23T20:10:33.236421Z"
    },
    "hidden": true
   },
   "outputs": [],
   "source": [
    "unique_openings = X.ECO.unique()\n",
    "len(unique_openings) # 494"
   ]
  },
  {
   "cell_type": "markdown",
   "id": "d26589e6",
   "metadata": {
    "hidden": true
   },
   "source": [
    "Openings (ECO) will be one hot encoded. "
   ]
  },
  {
   "cell_type": "markdown",
   "id": "92af38f6",
   "metadata": {
    "hidden": true
   },
   "source": [
    "Removing emt and moves for now but feature engineering can be done to them in future (after base models). "
   ]
  },
  {
   "cell_type": "code",
   "execution_count": null,
   "id": "57cf0269",
   "metadata": {
    "ExecuteTime": {
     "end_time": "2022-10-24T15:18:23.406002Z",
     "start_time": "2022-10-24T15:18:23.391001Z"
    },
    "hidden": true
   },
   "outputs": [],
   "source": [
    "X_ = X.drop(columns=['emt', 'moves'])"
   ]
  },
  {
   "cell_type": "code",
   "execution_count": null,
   "id": "8a06c35d",
   "metadata": {
    "ExecuteTime": {
     "end_time": "2022-10-24T15:18:23.843596Z",
     "start_time": "2022-10-24T15:18:23.823588Z"
    },
    "hidden": true
   },
   "outputs": [],
   "source": [
    "X_.head()"
   ]
  },
  {
   "cell_type": "markdown",
   "id": "5c549e3d",
   "metadata": {
    "hidden": true
   },
   "source": [
    "-----"
   ]
  },
  {
   "cell_type": "markdown",
   "id": "6bf5d8cb",
   "metadata": {
    "heading_collapsed": true,
    "hidden": true
   },
   "source": [
    "#### Test Train Split"
   ]
  },
  {
   "cell_type": "code",
   "execution_count": null,
   "id": "53f82baf",
   "metadata": {
    "ExecuteTime": {
     "end_time": "2022-10-23T20:10:36.020347Z",
     "start_time": "2022-10-23T20:10:36.002347Z"
    },
    "hidden": true
   },
   "outputs": [],
   "source": [
    "y"
   ]
  },
  {
   "cell_type": "code",
   "execution_count": null,
   "id": "a28441d0",
   "metadata": {
    "ExecuteTime": {
     "end_time": "2022-10-24T15:18:32.425377Z",
     "start_time": "2022-10-24T15:18:32.039780Z"
    },
    "hidden": true
   },
   "outputs": [],
   "source": [
    "X_train, X_test, y_train, y_test = train_test_split(X_, y, test_size=0.2, random_state=22,\n",
    "                                                                     stratify=y)"
   ]
  },
  {
   "cell_type": "code",
   "execution_count": null,
   "id": "166aea35",
   "metadata": {
    "ExecuteTime": {
     "end_time": "2022-10-23T20:10:37.536159Z",
     "start_time": "2022-10-23T20:10:37.522195Z"
    },
    "hidden": true
   },
   "outputs": [],
   "source": [
    "# X_remainder, X_test, y_remainder, y_test = train_test_split(X_, y, test_size=0.2, random_state=22,\n",
    "#                                                                      stratify=y)\n",
    "\n",
    "# X_train, X_validation, y_train, y_validation = train_test_split(X_remainder, y_remainder, train_size=0.7,\n",
    "#                                                                random_state=22, stratify=y_remainder)"
   ]
  },
  {
   "cell_type": "code",
   "execution_count": null,
   "id": "dda832f6",
   "metadata": {
    "ExecuteTime": {
     "end_time": "2022-10-23T20:10:37.550961Z",
     "start_time": "2022-10-23T20:10:37.537964Z"
    },
    "hidden": true
   },
   "outputs": [],
   "source": [
    "# validation is 30%"
   ]
  },
  {
   "cell_type": "markdown",
   "id": "9ff5eeef",
   "metadata": {
    "hidden": true
   },
   "source": [
    "------"
   ]
  },
  {
   "cell_type": "markdown",
   "id": "f8894c33",
   "metadata": {
    "heading_collapsed": true,
    "hidden": true
   },
   "source": [
    "#### OHE ECO"
   ]
  },
  {
   "cell_type": "code",
   "execution_count": null,
   "id": "ed9af5a8",
   "metadata": {
    "ExecuteTime": {
     "end_time": "2022-10-24T15:18:42.887303Z",
     "start_time": "2022-10-24T15:18:42.882302Z"
    },
    "hidden": true
   },
   "outputs": [],
   "source": [
    "ohe = OneHotEncoder(sparse=False, dtype=np.int8(), handle_unknown='ignore')"
   ]
  },
  {
   "cell_type": "code",
   "execution_count": null,
   "id": "64b5aa7c",
   "metadata": {
    "ExecuteTime": {
     "end_time": "2022-10-23T20:10:38.918099Z",
     "start_time": "2022-10-23T20:10:38.900996Z"
    },
    "hidden": true
   },
   "outputs": [],
   "source": [
    "# ohe.fit(X_train[['ECO']])\n",
    "# X_train_ECO_ohe = ohe.transform(X_train[['ECO']])"
   ]
  },
  {
   "cell_type": "code",
   "execution_count": null,
   "id": "a804b6d6",
   "metadata": {
    "ExecuteTime": {
     "end_time": "2022-10-23T20:10:39.150857Z",
     "start_time": "2022-10-23T20:10:39.135805Z"
    },
    "hidden": true
   },
   "outputs": [],
   "source": [
    "# X_test_ECO_ohe = ohe.transform(X_test[['ECO']])"
   ]
  },
  {
   "cell_type": "code",
   "execution_count": null,
   "id": "6b2f37a1",
   "metadata": {
    "ExecuteTime": {
     "end_time": "2022-10-23T20:10:39.368670Z",
     "start_time": "2022-10-23T20:10:39.355670Z"
    },
    "hidden": true
   },
   "outputs": [],
   "source": [
    "# X_train_ECO_ohe.shape # (55151, 477)"
   ]
  },
  {
   "cell_type": "code",
   "execution_count": null,
   "id": "d97f1a25",
   "metadata": {
    "ExecuteTime": {
     "end_time": "2022-10-23T20:10:39.618250Z",
     "start_time": "2022-10-23T20:10:39.609243Z"
    },
    "hidden": true
   },
   "outputs": [],
   "source": [
    "# ohe.get_feature_names_out()[0:10]"
   ]
  },
  {
   "cell_type": "code",
   "execution_count": null,
   "id": "9afc9503",
   "metadata": {
    "ExecuteTime": {
     "end_time": "2022-10-23T20:10:39.900230Z",
     "start_time": "2022-10-23T20:10:39.883234Z"
    },
    "hidden": true
   },
   "outputs": [],
   "source": [
    "# pd.DataFrame(X_train_ECO_ohe, columns=ohe.get_feature_names_out()).head()"
   ]
  },
  {
   "cell_type": "code",
   "execution_count": null,
   "id": "20f662cd",
   "metadata": {
    "ExecuteTime": {
     "end_time": "2022-10-23T20:10:40.103963Z",
     "start_time": "2022-10-23T20:10:40.099995Z"
    },
    "hidden": true
   },
   "outputs": [],
   "source": [
    "# X_train[['ECO']].head()"
   ]
  },
  {
   "cell_type": "code",
   "execution_count": null,
   "id": "f1de584c",
   "metadata": {
    "ExecuteTime": {
     "end_time": "2022-10-23T20:10:40.585175Z",
     "start_time": "2022-10-23T20:10:40.578169Z"
    },
    "hidden": true
   },
   "outputs": [],
   "source": [
    "# X_train_ = pd.merge(\n",
    "#     left=X_train.drop(columns=['ECO']).reset_index(drop=True),\n",
    "#     right=pd.DataFrame(X_train_ECO_ohe, columns=ohe.get_feature_names_out()),\n",
    "#     how='left',\n",
    "#     left_index=True,\n",
    "#     right_index=True)\n",
    "# # X_train_.head()"
   ]
  },
  {
   "cell_type": "code",
   "execution_count": null,
   "id": "24274c85",
   "metadata": {
    "ExecuteTime": {
     "end_time": "2022-10-24T15:18:45.345673Z",
     "start_time": "2022-10-24T15:18:45.068576Z"
    },
    "hidden": true
   },
   "outputs": [],
   "source": [
    "X_train_ = pd.merge(\n",
    "    left=X_train.drop(columns=['ECO']).reset_index(drop=True),\n",
    "    right=pd.DataFrame(ohe.fit_transform(X_train[['ECO']]), columns=ohe.get_feature_names_out()),\n",
    "    how='left',\n",
    "    left_index=True,\n",
    "    right_index=True)"
   ]
  },
  {
   "cell_type": "code",
   "execution_count": null,
   "id": "4cba568e",
   "metadata": {
    "ExecuteTime": {
     "end_time": "2022-10-24T15:18:45.877251Z",
     "start_time": "2022-10-24T15:18:45.851251Z"
    },
    "hidden": true
   },
   "outputs": [],
   "source": [
    "X_train_.head()"
   ]
  },
  {
   "cell_type": "code",
   "execution_count": null,
   "id": "fd065f4c",
   "metadata": {
    "ExecuteTime": {
     "end_time": "2022-10-23T20:19:20.657800Z",
     "start_time": "2022-10-23T20:19:20.573688Z"
    },
    "hidden": true
   },
   "outputs": [],
   "source": [
    "X_test_ = pd.merge(\n",
    "    left=X_test.drop(columns=['ECO']).reset_index(drop=True),\n",
    "    right=pd.DataFrame(ohe.transform(X_test[['ECO']]), columns=ohe.get_feature_names_out()),\n",
    "    how='left',\n",
    "    left_index=True,\n",
    "    right_index=True)"
   ]
  },
  {
   "cell_type": "code",
   "execution_count": null,
   "id": "4eb9f700",
   "metadata": {
    "ExecuteTime": {
     "end_time": "2022-10-23T20:19:21.296760Z",
     "start_time": "2022-10-23T20:19:21.269766Z"
    },
    "hidden": true
   },
   "outputs": [],
   "source": [
    "X_test_.head() # 5 rows × 499 columns"
   ]
  },
  {
   "cell_type": "markdown",
   "id": "59a98550",
   "metadata": {
    "hidden": true
   },
   "source": [
    "-----"
   ]
  },
  {
   "cell_type": "markdown",
   "id": "c90a21cf",
   "metadata": {
    "heading_collapsed": true,
    "hidden": true
   },
   "source": [
    "#### Scaling"
   ]
  },
  {
   "cell_type": "code",
   "execution_count": null,
   "id": "6bd2a19b",
   "metadata": {
    "ExecuteTime": {
     "end_time": "2022-10-23T20:19:23.912906Z",
     "start_time": "2022-10-23T20:19:23.897910Z"
    },
    "hidden": true
   },
   "outputs": [],
   "source": [
    "stan_scal = StandardScaler()"
   ]
  },
  {
   "cell_type": "code",
   "execution_count": null,
   "id": "f4f5a79b",
   "metadata": {
    "ExecuteTime": {
     "end_time": "2022-10-23T20:19:24.289685Z",
     "start_time": "2022-10-23T20:19:24.180259Z"
    },
    "hidden": true
   },
   "outputs": [],
   "source": [
    "X_train_scaled=X_train_.copy()\n",
    "\n",
    "X_train_scaled[['BlackElo', 'BlackRD',\n",
    "                'PlyCount', 'WhiteElo',\n",
    "                'WhiteRD', 'TimeControl_Base', 'TimeControl_Inc']] = stan_scal.fit_transform(X_train_[[\n",
    "    'BlackElo', 'BlackRD', 'PlyCount', 'WhiteElo', 'WhiteRD', 'TimeControl_Base', 'TimeControl_Inc']])\n",
    "\n",
    "X_test_scaled=X_test_.copy()\n",
    "\n",
    "X_test_scaled[['BlackElo', 'BlackRD',\n",
    "                'PlyCount', 'WhiteElo',\n",
    "                'WhiteRD', 'TimeControl_Base', 'TimeControl_Inc']] = stan_scal.transform(X_test_[[\n",
    "    'BlackElo', 'BlackRD', 'PlyCount', 'WhiteElo', 'WhiteRD', 'TimeControl_Base', 'TimeControl_Inc']])\n",
    "\n"
   ]
  },
  {
   "cell_type": "code",
   "execution_count": null,
   "id": "ce1d8efd",
   "metadata": {
    "ExecuteTime": {
     "end_time": "2022-10-23T20:19:24.817467Z",
     "start_time": "2022-10-23T20:19:24.785393Z"
    },
    "hidden": true
   },
   "outputs": [],
   "source": [
    "display(X_train_scaled.head()) # 5 rows × 499 columns\n",
    "display(X_test_scaled.head()) # 5 rows × 499 columns"
   ]
  },
  {
   "cell_type": "code",
   "execution_count": null,
   "id": "aafc02fb",
   "metadata": {
    "hidden": true
   },
   "outputs": [],
   "source": []
  },
  {
   "cell_type": "markdown",
   "id": "070dcb37",
   "metadata": {
    "hidden": true
   },
   "source": [
    "-----"
   ]
  },
  {
   "cell_type": "markdown",
   "id": "e92e4b74",
   "metadata": {
    "heading_collapsed": true,
    "hidden": true
   },
   "source": [
    "#### Logistic Regression"
   ]
  },
  {
   "cell_type": "code",
   "execution_count": null,
   "id": "6d58b1db",
   "metadata": {
    "ExecuteTime": {
     "end_time": "2022-10-23T15:19:38.106514Z",
     "start_time": "2022-10-23T15:19:38.099539Z"
    },
    "hidden": true
   },
   "outputs": [],
   "source": [
    "# logreg = LogisticRegression(penalty='l2', max_iter=10000,\n",
    "#                            solver='lbfgs', C=1.0) # default settings"
   ]
  },
  {
   "cell_type": "code",
   "execution_count": null,
   "id": "2d80e924",
   "metadata": {
    "ExecuteTime": {
     "end_time": "2022-10-23T15:19:38.778138Z",
     "start_time": "2022-10-23T15:19:38.759161Z"
    },
    "hidden": true
   },
   "outputs": [],
   "source": [
    "# y_train.values.shape"
   ]
  },
  {
   "cell_type": "code",
   "execution_count": null,
   "id": "dad97357",
   "metadata": {
    "ExecuteTime": {
     "end_time": "2022-10-23T15:20:08.094754Z",
     "start_time": "2022-10-23T15:19:53.188411Z"
    },
    "hidden": true
   },
   "outputs": [],
   "source": [
    "# np.reshape(y_train.values, (-1,)).shape # (159023,)\n",
    "\n",
    "# logreg.fit(X_train_scaled, np.reshape(y_train.values, (-1,)))\n",
    "\n",
    "# joblib.dump(logreg, 'C:/Users/Emanuel/Desktop/data/capstone/pickles/first_logreg.pkl', compress=7)"
   ]
  },
  {
   "cell_type": "code",
   "execution_count": null,
   "id": "6307c8e2",
   "metadata": {
    "ExecuteTime": {
     "end_time": "2022-10-23T15:20:38.896462Z",
     "start_time": "2022-10-23T15:20:38.880505Z"
    },
    "hidden": true
   },
   "outputs": [],
   "source": [
    "logreg = joblib.load('./models/first_pass/first_logreg.pkl')"
   ]
  },
  {
   "cell_type": "code",
   "execution_count": null,
   "id": "f31c5503",
   "metadata": {
    "ExecuteTime": {
     "end_time": "2022-10-23T15:20:41.158550Z",
     "start_time": "2022-10-23T15:20:41.148542Z"
    },
    "hidden": true
   },
   "outputs": [],
   "source": [
    "# display(y_train.head())\n",
    "# display(y_test.head())"
   ]
  },
  {
   "cell_type": "code",
   "execution_count": null,
   "id": "78d68a88",
   "metadata": {
    "ExecuteTime": {
     "end_time": "2022-10-23T15:20:42.790573Z",
     "start_time": "2022-10-23T15:20:42.778578Z"
    },
    "hidden": true
   },
   "outputs": [],
   "source": [
    "y_train_ = np.reshape(y_train.values, (-1,))\n",
    "y_test_ = np.reshape(y_test.values, (-1,))"
   ]
  },
  {
   "cell_type": "code",
   "execution_count": null,
   "id": "3629ec28",
   "metadata": {
    "ExecuteTime": {
     "end_time": "2022-10-23T15:20:43.539568Z",
     "start_time": "2022-10-23T15:20:43.522582Z"
    },
    "hidden": true
   },
   "outputs": [],
   "source": [
    "y_train_.shape"
   ]
  },
  {
   "cell_type": "code",
   "execution_count": null,
   "id": "52e6041a",
   "metadata": {
    "ExecuteTime": {
     "end_time": "2022-10-23T15:23:04.234590Z",
     "start_time": "2022-10-23T15:23:04.222663Z"
    },
    "hidden": true
   },
   "outputs": [],
   "source": [
    "# print(f'The accuracy score on the training data is: {logreg.score(X_train_scaled, y_train_)}')\n",
    "# print(f'The accuracy score on the testing data is: {logreg.score(X_test_scaled, y_test_)}')"
   ]
  },
  {
   "cell_type": "code",
   "execution_count": null,
   "id": "4f99ce21",
   "metadata": {
    "ExecuteTime": {
     "end_time": "2022-10-23T15:20:53.921400Z",
     "start_time": "2022-10-23T15:20:53.904445Z"
    },
    "hidden": true
   },
   "outputs": [],
   "source": [
    "# plot_confusion_matrix(logreg, X_test_scaled, y_test_)\n",
    "\n",
    "# logreg_y_pred = logreg.predict(X_test_scaled)\n",
    "# print(classification_report(y_test_, logreg_y_pred))"
   ]
  },
  {
   "cell_type": "code",
   "execution_count": null,
   "id": "78c31e93",
   "metadata": {
    "ExecuteTime": {
     "end_time": "2022-10-23T15:20:56.083257Z",
     "start_time": "2022-10-23T15:20:56.079268Z"
    },
    "hidden": true
   },
   "outputs": [],
   "source": [
    "# logreg_results = pd.DataFrame(\n",
    "#     classification_report(\n",
    "#         y_test_, logreg_y_pred, output_dict=True)).loc[\n",
    "#     ['precision', 'recall', 'f1-score'],\n",
    "#     ['0', '1', 'accuracy']]"
   ]
  },
  {
   "cell_type": "code",
   "execution_count": null,
   "id": "07c51871",
   "metadata": {
    "ExecuteTime": {
     "end_time": "2022-10-23T15:20:56.752260Z",
     "start_time": "2022-10-23T15:20:56.738289Z"
    },
    "hidden": true
   },
   "outputs": [],
   "source": [
    "# log_reg_coefficients = pd.DataFrame(\n",
    "#     data=logreg.coef_, columns=logreg.feature_names_in_)\n",
    "# log_reg_coefficients.T.sort_values(by=0, ascending=False)"
   ]
  },
  {
   "cell_type": "code",
   "execution_count": null,
   "id": "a3a6248c",
   "metadata": {
    "ExecuteTime": {
     "end_time": "2022-10-23T15:22:32.621782Z",
     "start_time": "2022-10-23T15:22:31.997452Z"
    },
    "hidden": true
   },
   "outputs": [],
   "source": [
    "logreg_report, logreg_results, logreg_coefficients = hp.class_model_eval_logreg(\n",
    "    logreg, X_train_scaled, X_test_scaled, y_train_, y_test_)"
   ]
  },
  {
   "cell_type": "code",
   "execution_count": null,
   "id": "99a1b05f",
   "metadata": {
    "ExecuteTime": {
     "end_time": "2022-10-23T15:22:47.364153Z",
     "start_time": "2022-10-23T15:22:47.341215Z"
    },
    "hidden": true
   },
   "outputs": [],
   "source": [
    "log_reg_coefficients = pd.DataFrame(\n",
    "    data=abs(logreg.coef_), columns=logreg.feature_names_in_)\n",
    "\n",
    "log_reg_coefficients.T.rename(columns={0: 'coefficient_weights'}).sort_values(\n",
    "    by='coefficient_weights', ascending=False).head(15)"
   ]
  },
  {
   "cell_type": "markdown",
   "id": "2f32361a",
   "metadata": {
    "hidden": true
   },
   "source": [
    "Should look into these openings ?"
   ]
  },
  {
   "cell_type": "markdown",
   "id": "1ef1f770",
   "metadata": {
    "hidden": true
   },
   "source": [
    "------"
   ]
  },
  {
   "cell_type": "markdown",
   "id": "47a3ae12",
   "metadata": {
    "heading_collapsed": true,
    "hidden": true
   },
   "source": [
    "#### Random Forest"
   ]
  },
  {
   "cell_type": "code",
   "execution_count": null,
   "id": "a16393b7",
   "metadata": {
    "ExecuteTime": {
     "end_time": "2022-10-23T15:23:47.633217Z",
     "start_time": "2022-10-23T15:23:47.620278Z"
    },
    "hidden": true
   },
   "outputs": [],
   "source": [
    "# random_forest = RandomForestClassifier(n_estimators=100) # default values\n",
    "# random_forest.fit(X_train_, y_train)\n",
    " "
   ]
  },
  {
   "cell_type": "code",
   "execution_count": null,
   "id": "acaa0d91",
   "metadata": {
    "ExecuteTime": {
     "end_time": "2022-10-23T15:23:47.805453Z",
     "start_time": "2022-10-23T15:23:47.795478Z"
    },
    "hidden": true
   },
   "outputs": [],
   "source": [
    "# joblib.dump(random_forest, './models/first_pass/first_randfor.pkl', compress=7)"
   ]
  },
  {
   "cell_type": "code",
   "execution_count": null,
   "id": "52189e34",
   "metadata": {
    "ExecuteTime": {
     "end_time": "2022-10-23T15:23:48.534645Z",
     "start_time": "2022-10-23T15:23:47.955422Z"
    },
    "hidden": true
   },
   "outputs": [],
   "source": [
    "random_forest = joblib.load('./models/first_pass/first_randfor.pkl')"
   ]
  },
  {
   "cell_type": "code",
   "execution_count": null,
   "id": "3bbfe6a8",
   "metadata": {
    "ExecuteTime": {
     "end_time": "2022-10-23T15:23:48.565551Z",
     "start_time": "2022-10-23T15:23:48.536612Z"
    },
    "hidden": true
   },
   "outputs": [],
   "source": [
    "X_train_"
   ]
  },
  {
   "cell_type": "code",
   "execution_count": null,
   "id": "7b912b5b",
   "metadata": {
    "ExecuteTime": {
     "end_time": "2022-10-23T15:24:28.250845Z",
     "start_time": "2022-10-23T15:23:48.566532Z"
    },
    "hidden": true
   },
   "outputs": [],
   "source": [
    "decision_tree_train_scores = []\n",
    "for sub_tree in random_forest.estimators_:\n",
    "    decision_tree_train_scores.append(sub_tree.score(X_train_, y_train))\n",
    "    \n",
    "print(\"Performance on fitted data:\")\n",
    "print(f\"Average Decision Tree: {np.mean(decision_tree_train_scores)}\")\n",
    "print(f\"Random Forest: {random_forest.score(X_train_, y_train)}\")"
   ]
  },
  {
   "cell_type": "code",
   "execution_count": null,
   "id": "7db263c2",
   "metadata": {
    "ExecuteTime": {
     "end_time": "2022-10-23T15:24:38.454388Z",
     "start_time": "2022-10-23T15:24:28.251842Z"
    },
    "hidden": true
   },
   "outputs": [],
   "source": [
    "decision_tree_test_scores = []\n",
    "for sub_tree in random_forest.estimators_:\n",
    "    decision_tree_test_scores.append(sub_tree.score(X_test_, y_test))\n",
    "\n",
    "print(\"Performance on Test data:\")\n",
    "print(f\"Average Decision Tree: {np.mean(decision_tree_test_scores)}\")\n",
    "print(f\"Random Forest: {random_forest.score(X_test_, y_test)}\")"
   ]
  },
  {
   "cell_type": "code",
   "execution_count": null,
   "id": "ae89f8a2",
   "metadata": {
    "ExecuteTime": {
     "end_time": "2022-10-23T15:24:38.486336Z",
     "start_time": "2022-10-23T15:24:38.455413Z"
    },
    "hidden": true
   },
   "outputs": [],
   "source": [
    "feature_df = pd.DataFrame(\n",
    "{\"feature_importance\": random_forest.feature_importances_},\n",
    "index=X_train_.columns)\n",
    "\n",
    "feature_df.sort_values(by='feature_importance', ascending=False).head(15)"
   ]
  },
  {
   "cell_type": "markdown",
   "id": "d261bb1a",
   "metadata": {
    "hidden": true
   },
   "source": [
    "-----"
   ]
  },
  {
   "cell_type": "markdown",
   "id": "00b40f5d",
   "metadata": {
    "heading_collapsed": true
   },
   "source": [
    "## Loading in human-only games"
   ]
  },
  {
   "cell_type": "markdown",
   "id": "3764901c",
   "metadata": {
    "heading_collapsed": true,
    "hidden": true
   },
   "source": [
    "###### Reminder of shapes:"
   ]
  },
  {
   "cell_type": "code",
   "execution_count": null,
   "id": "992b41f1",
   "metadata": {
    "ExecuteTime": {
     "end_time": "2022-10-23T15:24:38.502291Z",
     "start_time": "2022-10-23T15:24:38.487303Z"
    },
    "hidden": true
   },
   "outputs": [],
   "source": [
    "# the (non-emt&moves df shapes)\n",
    "display(X_.shape)\n",
    "display(y.value_counts())"
   ]
  },
  {
   "cell_type": "code",
   "execution_count": null,
   "id": "36fe71e5",
   "metadata": {
    "ExecuteTime": {
     "end_time": "2022-10-23T15:24:38.518220Z",
     "start_time": "2022-10-23T15:24:38.503261Z"
    },
    "hidden": true
   },
   "outputs": [],
   "source": [
    "# joblib.load('./data/2022_2018_CvH.pkl').shape # (198779, 13)"
   ]
  },
  {
   "cell_type": "markdown",
   "id": "06106846",
   "metadata": {
    "hidden": true
   },
   "source": [
    "----"
   ]
  },
  {
   "cell_type": "markdown",
   "id": "f16efe5c",
   "metadata": {
    "heading_collapsed": true,
    "hidden": true
   },
   "source": [
    "### Looking at 2021_all_ratings"
   ]
  },
  {
   "cell_type": "code",
   "execution_count": null,
   "id": "a6fd8826",
   "metadata": {
    "ExecuteTime": {
     "end_time": "2022-10-23T15:24:38.533181Z",
     "start_time": "2022-10-23T15:24:38.519218Z"
    },
    "hidden": true
   },
   "outputs": [],
   "source": [
    "# big_df = joblib.load('C:/Users/Emanuel/Desktop/data/capstone/raw/2021_all_ratings.pkl')"
   ]
  },
  {
   "cell_type": "code",
   "execution_count": null,
   "id": "cb659f1c",
   "metadata": {
    "ExecuteTime": {
     "end_time": "2022-10-23T15:24:38.549137Z",
     "start_time": "2022-10-23T15:24:38.534178Z"
    },
    "hidden": true
   },
   "outputs": [],
   "source": [
    "# display(big_df.head(1))\n",
    "# big_df.shape"
   ]
  },
  {
   "cell_type": "code",
   "execution_count": null,
   "id": "0ac77ae4",
   "metadata": {
    "ExecuteTime": {
     "end_time": "2022-10-23T15:24:38.565120Z",
     "start_time": "2022-10-23T15:24:38.550134Z"
    },
    "hidden": true
   },
   "outputs": [],
   "source": [
    "# big_df = hp.clean_pickle(big_df)"
   ]
  },
  {
   "cell_type": "code",
   "execution_count": null,
   "id": "f54501b5",
   "metadata": {
    "ExecuteTime": {
     "end_time": "2022-10-23T15:24:38.581080Z",
     "start_time": "2022-10-23T15:24:38.566093Z"
    },
    "hidden": true
   },
   "outputs": [],
   "source": [
    "# big_df.shape"
   ]
  },
  {
   "cell_type": "code",
   "execution_count": null,
   "id": "45b0fe50",
   "metadata": {
    "ExecuteTime": {
     "end_time": "2022-10-23T15:24:38.597037Z",
     "start_time": "2022-10-23T15:24:38.583047Z"
    },
    "hidden": true
   },
   "outputs": [],
   "source": [
    "# big_df.head(2)"
   ]
  },
  {
   "cell_type": "code",
   "execution_count": null,
   "id": "384bcc41",
   "metadata": {
    "ExecuteTime": {
     "end_time": "2022-10-23T15:24:38.612992Z",
     "start_time": "2022-10-23T15:24:38.598007Z"
    },
    "hidden": true
   },
   "outputs": [],
   "source": [
    "# big_df[big_df['NoComp']==0]"
   ]
  },
  {
   "cell_type": "code",
   "execution_count": null,
   "id": "34c4ff8d",
   "metadata": {
    "ExecuteTime": {
     "end_time": "2022-10-23T15:24:38.628924Z",
     "start_time": "2022-10-23T15:24:38.613964Z"
    },
    "hidden": true
   },
   "outputs": [],
   "source": [
    "# X, y = hp.X_y_split_simple(big_df)\n",
    "\n",
    "# y = hp.y_convert_to_ohe_vec(y)"
   ]
  },
  {
   "cell_type": "markdown",
   "id": "268a24fa",
   "metadata": {
    "hidden": true
   },
   "source": [
    "There are still cheaters in 2021_all_ratings. Another download will be looked at."
   ]
  },
  {
   "cell_type": "markdown",
   "id": "3c4e000e",
   "metadata": {
    "hidden": true
   },
   "source": [
    "-----"
   ]
  },
  {
   "cell_type": "markdown",
   "id": "d6129811",
   "metadata": {
    "heading_collapsed": true,
    "hidden": true
   },
   "source": [
    "### Looking at titled years"
   ]
  },
  {
   "cell_type": "markdown",
   "id": "1a74a960",
   "metadata": {
    "heading_collapsed": true,
    "hidden": true
   },
   "source": [
    "#### Loading titled years as raw_pickle_list"
   ]
  },
  {
   "cell_type": "code",
   "execution_count": null,
   "id": "f6bf9817",
   "metadata": {
    "ExecuteTime": {
     "end_time": "2022-10-24T20:17:09.414902Z",
     "start_time": "2022-10-24T20:17:04.441883Z"
    },
    "hidden": true
   },
   "outputs": [],
   "source": [
    "# # on Muninn\n",
    "# raw_pickle_list = [pd.read_json(\n",
    "#     f'C:/Users/Emanuel/Desktop/data/capstone/raw/json/Titled/ficsgamesdb_{year}_titled_movetimes_26{val}.json') \\\n",
    "#                    for year, val in zip(np.arange(2021, 2016, -1), [4827, 5091, 5092, 5093, 5094])]"
   ]
  },
  {
   "cell_type": "code",
   "execution_count": null,
   "id": "2e4e510d",
   "metadata": {
    "ExecuteTime": {
     "end_time": "2022-10-24T20:16:46.470020Z",
     "start_time": "2022-10-24T20:16:46.374248Z"
    },
    "hidden": true
   },
   "outputs": [],
   "source": [
    "# sum([df_.shape[0] for df_ in raw_pickle_list])==pd.concat(raw_pickle_list).shape[0]"
   ]
  },
  {
   "cell_type": "code",
   "execution_count": null,
   "id": "c3fe41be",
   "metadata": {
    "ExecuteTime": {
     "end_time": "2022-10-24T20:16:55.249754Z",
     "start_time": "2022-10-24T20:16:54.382969Z"
    },
    "hidden": true,
    "scrolled": true
   },
   "outputs": [],
   "source": [
    "# big_df = hp.concatenate_cleaned_pickles(raw_pickle_list)"
   ]
  },
  {
   "cell_type": "code",
   "execution_count": null,
   "id": "4ff972ee",
   "metadata": {
    "ExecuteTime": {
     "end_time": "2022-10-23T15:24:43.953837Z",
     "start_time": "2022-10-23T15:24:43.938877Z"
    },
    "hidden": true
   },
   "outputs": [],
   "source": [
    "# joblib.dump(big_df, 'C:/Users/Emanuel/Desktop/data/capstone/preprocessed/2021_2017_titled.pkl', compress=7)"
   ]
  },
  {
   "cell_type": "markdown",
   "id": "eb8f7089",
   "metadata": {
    "hidden": true
   },
   "source": [
    "----"
   ]
  },
  {
   "cell_type": "markdown",
   "id": "4567591e",
   "metadata": {
    "heading_collapsed": true,
    "hidden": true
   },
   "source": [
    "##### pickle-list-checking-years"
   ]
  },
  {
   "cell_type": "code",
   "execution_count": null,
   "id": "0817ec3e",
   "metadata": {
    "ExecuteTime": {
     "end_time": "2022-10-23T15:24:43.985780Z",
     "start_time": "2022-10-23T15:24:43.978770Z"
    },
    "hidden": true
   },
   "outputs": [],
   "source": [
    "# for i in range(len(raw_pickle_list)):\n",
    "#     print(raw_pickle_list[i].Date.iloc[-10].year)\n",
    "    "
   ]
  },
  {
   "cell_type": "code",
   "execution_count": null,
   "id": "01daa56d",
   "metadata": {
    "ExecuteTime": {
     "end_time": "2022-10-23T15:24:44.159250Z",
     "start_time": "2022-10-23T15:24:44.155264Z"
    },
    "hidden": true
   },
   "outputs": [],
   "source": [
    "# raw_pickle_list[0].columns"
   ]
  },
  {
   "cell_type": "code",
   "execution_count": null,
   "id": "a93f7e4c",
   "metadata": {
    "ExecuteTime": {
     "end_time": "2022-10-23T15:24:44.332024Z",
     "start_time": "2022-10-23T15:24:44.315067Z"
    },
    "hidden": true
   },
   "outputs": [],
   "source": [
    "# df_2020 = raw_pickle_list[1]"
   ]
  },
  {
   "cell_type": "code",
   "execution_count": null,
   "id": "711cf174",
   "metadata": {
    "ExecuteTime": {
     "end_time": "2022-10-23T15:24:44.474124Z",
     "start_time": "2022-10-23T15:24:44.462174Z"
    },
    "hidden": true
   },
   "outputs": [],
   "source": [
    "# df_2019_in_2020_data = df_2020[[row.year==2019 for row in df_2020.Date]] # 38x22\n",
    "# df_2019_in_2020_data.head(1)"
   ]
  },
  {
   "cell_type": "code",
   "execution_count": null,
   "id": "e9b06ea8",
   "metadata": {
    "ExecuteTime": {
     "end_time": "2022-10-23T15:24:44.632295Z",
     "start_time": "2022-10-23T15:24:44.629278Z"
    },
    "hidden": true
   },
   "outputs": [],
   "source": [
    "# df_2019 = raw_pickle_list[2]"
   ]
  },
  {
   "cell_type": "code",
   "execution_count": null,
   "id": "598ef824",
   "metadata": {
    "ExecuteTime": {
     "end_time": "2022-10-23T15:24:44.789995Z",
     "start_time": "2022-10-23T15:24:44.781023Z"
    },
    "hidden": true
   },
   "outputs": [],
   "source": [
    "# df_2019.tail(2)"
   ]
  },
  {
   "cell_type": "code",
   "execution_count": null,
   "id": "03043c97",
   "metadata": {
    "ExecuteTime": {
     "end_time": "2022-10-23T15:24:44.963383Z",
     "start_time": "2022-10-23T15:24:44.957371Z"
    },
    "hidden": true
   },
   "outputs": [],
   "source": [
    "# df_2019.Date.iloc[-1].year"
   ]
  },
  {
   "cell_type": "code",
   "execution_count": null,
   "id": "967f7226",
   "metadata": {
    "ExecuteTime": {
     "end_time": "2022-10-23T15:24:45.121449Z",
     "start_time": "2022-10-23T15:24:45.115465Z"
    },
    "hidden": true
   },
   "outputs": [],
   "source": [
    "# df_2018 = raw_pickle_list[2]"
   ]
  },
  {
   "cell_type": "code",
   "execution_count": null,
   "id": "0276451a",
   "metadata": {
    "ExecuteTime": {
     "end_time": "2022-10-23T15:24:45.295554Z",
     "start_time": "2022-10-23T15:24:45.286553Z"
    },
    "hidden": true
   },
   "outputs": [],
   "source": [
    "df_2017 = raw_pickle_list[-1]"
   ]
  },
  {
   "cell_type": "code",
   "execution_count": null,
   "id": "af6bcb77",
   "metadata": {
    "ExecuteTime": {
     "end_time": "2022-10-23T15:24:45.469836Z",
     "start_time": "2022-10-23T15:24:45.454877Z"
    },
    "hidden": true
   },
   "outputs": [],
   "source": [
    "df_2017['WhiteRD'].value_counts()"
   ]
  },
  {
   "cell_type": "code",
   "execution_count": null,
   "id": "72a863ce",
   "metadata": {
    "ExecuteTime": {
     "end_time": "2022-10-23T15:24:45.659299Z",
     "start_time": "2022-10-23T15:24:45.635398Z"
    },
    "hidden": true
   },
   "outputs": [],
   "source": [
    "df_2017[['BlackRD', 'WhiteRD']]"
   ]
  },
  {
   "cell_type": "code",
   "execution_count": null,
   "id": "cd8c95fe",
   "metadata": {
    "ExecuteTime": {
     "end_time": "2022-10-23T15:24:45.943279Z",
     "start_time": "2022-10-23T15:24:45.769719Z"
    },
    "hidden": true
   },
   "outputs": [],
   "source": [
    "df_2017[(df_2017['BlackRD']=='na') | (df_2017['WhiteRD']=='na')]; # 10720 rows × 22 columns\n",
    "['unrated' in row for row in df_2017[(df_2017['BlackRD']=='na') | (df_2017['WhiteRD']=='na')]['Event']];\n",
    "\n",
    "df_2017[(df_2017['BlackRD']=='na') | (df_2017['WhiteRD']=='na')][\n",
    "    ['unrated' in row for row in df_2017[(df_2017['BlackRD']=='na') | (df_2017['WhiteRD']=='na')]['Event']]\n",
    "];\n",
    "\n",
    "df_2017[['unrated' in row for row in df_2017['Event']]]\n",
    "#.describe()"
   ]
  },
  {
   "cell_type": "code",
   "execution_count": null,
   "id": "d2eb7216",
   "metadata": {
    "ExecuteTime": {
     "end_time": "2022-10-23T15:24:45.975170Z",
     "start_time": "2022-10-23T15:24:45.949239Z"
    },
    "hidden": true
   },
   "outputs": [],
   "source": [
    "(df_2017[['WhiteRD']]=='na' )"
   ]
  },
  {
   "cell_type": "code",
   "execution_count": null,
   "id": "ea7eab67",
   "metadata": {
    "hidden": true
   },
   "outputs": [],
   "source": []
  },
  {
   "cell_type": "markdown",
   "id": "ad5a39b5",
   "metadata": {
    "hidden": true
   },
   "source": [
    "-----"
   ]
  },
  {
   "cell_type": "markdown",
   "id": "123cfcb7",
   "metadata": {
    "heading_collapsed": true,
    "hidden": true
   },
   "source": [
    "#### Loading preprocessed titled pickle and functional cleaning"
   ]
  },
  {
   "cell_type": "code",
   "execution_count": null,
   "id": "8faca889",
   "metadata": {
    "ExecuteTime": {
     "end_time": "2022-10-23T20:20:24.561228Z",
     "start_time": "2022-10-23T20:20:21.716256Z"
    },
    "hidden": true
   },
   "outputs": [],
   "source": [
    "titled_df = joblib.load('./data/preprocessed/2021_2017_titled.pkl')"
   ]
  },
  {
   "cell_type": "code",
   "execution_count": null,
   "id": "6c447e8d",
   "metadata": {
    "ExecuteTime": {
     "end_time": "2022-10-23T20:20:24.577228Z",
     "start_time": "2022-10-23T20:20:24.563228Z"
    },
    "hidden": true
   },
   "outputs": [],
   "source": [
    "titled_df.head(2)"
   ]
  },
  {
   "cell_type": "code",
   "execution_count": null,
   "id": "3010adcf",
   "metadata": {
    "ExecuteTime": {
     "end_time": "2022-10-23T15:24:58.748592Z",
     "start_time": "2022-10-23T15:24:58.733631Z"
    },
    "hidden": true
   },
   "outputs": [],
   "source": [
    "titled_df.shape; # (87869, 13)"
   ]
  },
  {
   "cell_type": "code",
   "execution_count": null,
   "id": "d2c92310",
   "metadata": {
    "hidden": true
   },
   "outputs": [],
   "source": []
  },
  {
   "cell_type": "markdown",
   "id": "0047e6e7",
   "metadata": {
    "hidden": true
   },
   "source": [
    "----"
   ]
  },
  {
   "cell_type": "code",
   "execution_count": null,
   "id": "c7a151c3",
   "metadata": {
    "ExecuteTime": {
     "end_time": "2022-10-23T20:20:25.967172Z",
     "start_time": "2022-10-23T20:20:25.942171Z"
    },
    "hidden": true
   },
   "outputs": [],
   "source": [
    "X_titled, y_titled = hp.X_y_split_simple(titled_df)"
   ]
  },
  {
   "cell_type": "code",
   "execution_count": null,
   "id": "2937834d",
   "metadata": {
    "ExecuteTime": {
     "end_time": "2022-10-23T20:20:26.542463Z",
     "start_time": "2022-10-23T20:20:26.520494Z"
    },
    "hidden": true
   },
   "outputs": [],
   "source": [
    "y_titled.head(2)"
   ]
  },
  {
   "cell_type": "code",
   "execution_count": null,
   "id": "c3b67a33",
   "metadata": {
    "ExecuteTime": {
     "end_time": "2022-10-23T20:20:28.199235Z",
     "start_time": "2022-10-23T20:20:26.870224Z"
    },
    "hidden": true
   },
   "outputs": [],
   "source": [
    "y_titled = hp.y_convert_to_ints(y_titled)"
   ]
  },
  {
   "cell_type": "code",
   "execution_count": null,
   "id": "6f8e5c58",
   "metadata": {
    "ExecuteTime": {
     "end_time": "2022-10-23T20:20:29.288842Z",
     "start_time": "2022-10-23T20:20:29.271775Z"
    },
    "hidden": true
   },
   "outputs": [],
   "source": [
    "y_titled.head(2)"
   ]
  },
  {
   "cell_type": "code",
   "execution_count": null,
   "id": "ac8ae75e",
   "metadata": {
    "ExecuteTime": {
     "end_time": "2022-10-23T20:20:29.525332Z",
     "start_time": "2022-10-23T20:20:29.511332Z"
    },
    "hidden": true
   },
   "outputs": [],
   "source": [
    "y_titled.shape # (87869, 1)"
   ]
  },
  {
   "cell_type": "code",
   "execution_count": null,
   "id": "1108c53b",
   "metadata": {
    "ExecuteTime": {
     "end_time": "2022-10-23T20:20:29.743935Z",
     "start_time": "2022-10-23T20:20:29.722905Z"
    },
    "hidden": true,
    "scrolled": true
   },
   "outputs": [],
   "source": [
    "X_titled.head()"
   ]
  },
  {
   "cell_type": "markdown",
   "id": "cf084ede",
   "metadata": {
    "hidden": true
   },
   "source": [
    "Dropping emt and moves:"
   ]
  },
  {
   "cell_type": "code",
   "execution_count": null,
   "id": "a81ae10e",
   "metadata": {
    "ExecuteTime": {
     "end_time": "2022-10-23T20:20:30.492761Z",
     "start_time": "2022-10-23T20:20:30.482755Z"
    },
    "hidden": true
   },
   "outputs": [],
   "source": [
    "X_titled_ = X_titled.drop(columns=['emt', 'moves'])"
   ]
  },
  {
   "cell_type": "code",
   "execution_count": null,
   "id": "8c6e53ee",
   "metadata": {
    "ExecuteTime": {
     "end_time": "2022-10-23T20:20:30.743681Z",
     "start_time": "2022-10-23T20:20:30.725681Z"
    },
    "hidden": true
   },
   "outputs": [],
   "source": [
    "X_titled_.head()"
   ]
  },
  {
   "cell_type": "markdown",
   "id": "704f1251",
   "metadata": {
    "heading_collapsed": true
   },
   "source": [
    "## Join cheater and human-only"
   ]
  },
  {
   "cell_type": "code",
   "execution_count": null,
   "id": "e374ad17",
   "metadata": {
    "ExecuteTime": {
     "end_time": "2022-10-24T11:28:43.948642Z",
     "start_time": "2022-10-24T11:28:43.389614Z"
    },
    "hidden": true
   },
   "outputs": [],
   "source": [
    "X_CvH_HvH = pd.concat([X_, X_titled_]).reset_index(drop=True)\n",
    "y_CvH_HvH = pd.concat([y, y_titled]).reset_index(drop=True)"
   ]
  },
  {
   "cell_type": "code",
   "execution_count": null,
   "id": "343bd13f",
   "metadata": {
    "ExecuteTime": {
     "end_time": "2022-10-24T11:28:43.950645Z",
     "start_time": "2022-10-24T11:28:43.950645Z"
    },
    "hidden": true
   },
   "outputs": [],
   "source": [
    "# joblib.dump(X_CvH_HvH, 'C:/Users/MaNiL/Desktop/data/capstone/preprocessed/X_CvH_HvH.pkl', compress=9)\n",
    "\n",
    "# joblib.dump(y_CvH_HvH, 'C:/Users/MaNiL/Desktop/data/capstone/preprocessed/y_CvH_HvH.pkl', compress=9)"
   ]
  },
  {
   "cell_type": "code",
   "execution_count": null,
   "id": "6974e171",
   "metadata": {
    "ExecuteTime": {
     "end_time": "2022-10-25T14:26:34.382698Z",
     "start_time": "2022-10-25T14:26:34.193781Z"
    },
    "hidden": true
   },
   "outputs": [],
   "source": [
    "X_CvH_HvH = joblib.load('./data/preprocessed/X_CvH_HvH.pkl')\n",
    "y_CvH_HvH = joblib.load('./data/preprocessed/y_CvH_HvH.pkl')"
   ]
  },
  {
   "cell_type": "code",
   "execution_count": null,
   "id": "ecf5df24",
   "metadata": {
    "ExecuteTime": {
     "end_time": "2022-10-25T14:26:39.077506Z",
     "start_time": "2022-10-25T14:26:39.061461Z"
    },
    "hidden": true
   },
   "outputs": [],
   "source": [
    "X_CvH_HvH"
   ]
  },
  {
   "cell_type": "code",
   "execution_count": null,
   "id": "4b0c88d3",
   "metadata": {
    "ExecuteTime": {
     "end_time": "2022-10-25T14:26:42.130797Z",
     "start_time": "2022-10-25T14:26:42.113798Z"
    },
    "hidden": true
   },
   "outputs": [],
   "source": [
    "y_CvH_HvH"
   ]
  },
  {
   "cell_type": "markdown",
   "id": "c01a55bc",
   "metadata": {
    "hidden": true
   },
   "source": [
    "-----"
   ]
  },
  {
   "cell_type": "markdown",
   "id": "eff60351",
   "metadata": {
    "heading_collapsed": true
   },
   "source": [
    "## Second Pass Modelling"
   ]
  },
  {
   "cell_type": "markdown",
   "id": "ec1c2f7f",
   "metadata": {
    "heading_collapsed": true,
    "hidden": true
   },
   "source": [
    "### Train Test Split"
   ]
  },
  {
   "cell_type": "code",
   "execution_count": null,
   "id": "4a7459fb",
   "metadata": {
    "ExecuteTime": {
     "end_time": "2022-10-23T15:25:32.219784Z",
     "start_time": "2022-10-23T15:25:31.333723Z"
    },
    "hidden": true
   },
   "outputs": [],
   "source": [
    "X_CvH_HvH_train, X_CvH_HvH_test, y_CvH_HvH_train, y_CvH_HvH_test = train_test_split(\n",
    "    X_CvH_HvH, y_CvH_HvH, test_size=0.2, random_state=22, stratify=y_CvH_HvH)"
   ]
  },
  {
   "cell_type": "code",
   "execution_count": null,
   "id": "1dcde683",
   "metadata": {
    "hidden": true
   },
   "outputs": [],
   "source": []
  },
  {
   "cell_type": "code",
   "execution_count": null,
   "id": "866418a0",
   "metadata": {
    "hidden": true
   },
   "outputs": [],
   "source": []
  },
  {
   "cell_type": "markdown",
   "id": "13e40a32",
   "metadata": {
    "hidden": true
   },
   "source": [
    "------"
   ]
  },
  {
   "cell_type": "markdown",
   "id": "6dd3338a",
   "metadata": {
    "heading_collapsed": true,
    "hidden": true
   },
   "source": [
    "### OHE ECO"
   ]
  },
  {
   "cell_type": "code",
   "execution_count": null,
   "id": "20014505",
   "metadata": {
    "ExecuteTime": {
     "end_time": "2022-10-23T15:25:37.660089Z",
     "start_time": "2022-10-23T15:25:37.648123Z"
    },
    "hidden": true
   },
   "outputs": [],
   "source": [
    "# ohe_CvH_HvH = OneHotEncoder(sparse=False, dtype=np.int8(), handle_unknown='ignore')"
   ]
  },
  {
   "cell_type": "code",
   "execution_count": null,
   "id": "1dca2f8d",
   "metadata": {
    "ExecuteTime": {
     "end_time": "2022-10-23T15:25:38.146717Z",
     "start_time": "2022-10-23T15:25:38.136719Z"
    },
    "hidden": true
   },
   "outputs": [],
   "source": [
    "# def OHE_ECO(X_train, X_test):\n",
    "#     ohe_ = OneHotEncoder(sparse=False, dtype=np.int8(), handle_unknown='ignore')\n",
    "#     X_train_temp_ = pd.merge(\n",
    "#         left=X_train.drop(columns=['ECO']).reset_index(drop=True),\n",
    "#         right=pd.DataFrame(ohe_.fit_transform(X_train[['ECO']]),\n",
    "#                            columns=ohe_.get_feature_names_out()),\n",
    "#         how='left',\n",
    "#         left_index=True,\n",
    "#         right_index=True)\n",
    "    \n",
    "#     X_test_temp_ = pd.merge(\n",
    "#         left=X_test.drop(columns=['ECO']).reset_index(drop=True),\n",
    "#         right=pd.DataFrame(ohe_.transform(X_test[['ECO']]),\n",
    "#                            columns=ohe_.get_feature_names_out()),\n",
    "#         how='left',\n",
    "#         left_index=True,\n",
    "#         right_index=True)\n",
    "#     return X_train_temp_, X_test_temp_, ohe_"
   ]
  },
  {
   "cell_type": "code",
   "execution_count": null,
   "id": "b4a74f57",
   "metadata": {
    "ExecuteTime": {
     "end_time": "2022-10-23T15:25:39.622378Z",
     "start_time": "2022-10-23T15:25:38.702836Z"
    },
    "hidden": true
   },
   "outputs": [],
   "source": [
    "X_CvH_HvH_train_, X_CvH_HvH_test_, ohe_CvH_HvH = hp.OHE_ECO(X_CvH_HvH_train, X_CvH_HvH_test)"
   ]
  },
  {
   "cell_type": "code",
   "execution_count": null,
   "id": "3825f0ad",
   "metadata": {
    "ExecuteTime": {
     "end_time": "2022-10-23T15:25:39.637229Z",
     "start_time": "2022-10-23T15:25:39.623267Z"
    },
    "hidden": true
   },
   "outputs": [],
   "source": [
    "X_CvH_HvH_train_.shape"
   ]
  },
  {
   "cell_type": "code",
   "execution_count": null,
   "id": "52a556e5",
   "metadata": {
    "ExecuteTime": {
     "end_time": "2022-10-23T15:25:39.653213Z",
     "start_time": "2022-10-23T15:25:39.638252Z"
    },
    "hidden": true
   },
   "outputs": [],
   "source": [
    "X_CvH_HvH_test_.shape"
   ]
  },
  {
   "cell_type": "code",
   "execution_count": null,
   "id": "f5545e1a",
   "metadata": {
    "hidden": true
   },
   "outputs": [],
   "source": []
  },
  {
   "cell_type": "markdown",
   "id": "f195f97e",
   "metadata": {
    "hidden": true
   },
   "source": [
    "------"
   ]
  },
  {
   "cell_type": "markdown",
   "id": "96c6e5b9",
   "metadata": {
    "heading_collapsed": true,
    "hidden": true
   },
   "source": [
    "### Scale data"
   ]
  },
  {
   "cell_type": "code",
   "execution_count": null,
   "id": "f35369c6",
   "metadata": {
    "ExecuteTime": {
     "end_time": "2022-10-23T15:25:44.891720Z",
     "start_time": "2022-10-23T15:25:44.873740Z"
    },
    "hidden": true
   },
   "outputs": [],
   "source": [
    "stan_scal_CvH_HvH = StandardScaler()"
   ]
  },
  {
   "cell_type": "code",
   "execution_count": null,
   "id": "f11b4077",
   "metadata": {
    "ExecuteTime": {
     "end_time": "2022-10-23T15:25:51.109065Z",
     "start_time": "2022-10-23T15:25:45.083604Z"
    },
    "hidden": true
   },
   "outputs": [],
   "source": [
    "any([any(X_CvH_HvH_train_[col].isna()) for col in X_CvH_HvH_train_.columns]) # Should be False"
   ]
  },
  {
   "cell_type": "markdown",
   "id": "8d5ceb86",
   "metadata": {
    "heading_collapsed": true,
    "hidden": true
   },
   "source": [
    "#### Imputing some BlackRD and WhiteRD values"
   ]
  },
  {
   "cell_type": "code",
   "execution_count": null,
   "id": "8ea9334f",
   "metadata": {
    "ExecuteTime": {
     "end_time": "2022-10-23T15:26:00.662489Z",
     "start_time": "2022-10-23T15:26:00.653487Z"
    },
    "hidden": true
   },
   "outputs": [],
   "source": [
    "# X_CvH_HvH_train_.info(verbose=True)"
   ]
  },
  {
   "cell_type": "code",
   "execution_count": null,
   "id": "41e8a034",
   "metadata": {
    "ExecuteTime": {
     "end_time": "2022-10-23T15:25:51.201786Z",
     "start_time": "2022-10-23T15:25:51.140949Z"
    },
    "hidden": true
   },
   "outputs": [],
   "source": [
    "X_CvH_HvH_train_scaled=X_CvH_HvH_train_.copy()\n",
    "X_CvH_HvH_test_scaled=X_CvH_HvH_test_.copy()"
   ]
  },
  {
   "cell_type": "code",
   "execution_count": null,
   "id": "bf48a62c",
   "metadata": {
    "ExecuteTime": {
     "end_time": "2022-10-23T15:25:51.831441Z",
     "start_time": "2022-10-23T15:25:51.203781Z"
    },
    "hidden": true
   },
   "outputs": [],
   "source": [
    "X_CvH_HvH_train_scaled[['BlackRD', 'WhiteRD']] = np.array([\n",
    "    [np.int8(0) if y=='na' else y for y in x] for x in X_CvH_HvH_train_scaled[['BlackRD', 'WhiteRD']].values\n",
    "    ]) # 402 ms ± 2.73 ms per loop (mean ± std. dev. of 7 runs, 1 loop each)"
   ]
  },
  {
   "cell_type": "code",
   "execution_count": null,
   "id": "8c9eaf7f",
   "metadata": {
    "ExecuteTime": {
     "end_time": "2022-10-23T15:25:53.161918Z",
     "start_time": "2022-10-23T15:25:51.833426Z"
    },
    "hidden": true
   },
   "outputs": [],
   "source": [
    "X_CvH_HvH_test_scaled[['BlackRD', 'WhiteRD']] = np.array([\n",
    "    [np.int8(0) if y=='na' else y for y in x] for x in X_CvH_HvH_test_scaled[['BlackRD', 'WhiteRD']].values\n",
    "    ]) "
   ]
  },
  {
   "cell_type": "code",
   "execution_count": null,
   "id": "04a946cd",
   "metadata": {
    "hidden": true
   },
   "outputs": [],
   "source": []
  },
  {
   "cell_type": "markdown",
   "id": "2e088f9c",
   "metadata": {
    "hidden": true
   },
   "source": [
    "---"
   ]
  },
  {
   "cell_type": "markdown",
   "id": "c8ad1eb8",
   "metadata": {
    "heading_collapsed": true,
    "hidden": true
   },
   "source": [
    "#### Scaling"
   ]
  },
  {
   "cell_type": "code",
   "execution_count": null,
   "id": "d2d7ef59",
   "metadata": {
    "ExecuteTime": {
     "end_time": "2022-10-23T15:26:34.520886Z",
     "start_time": "2022-10-23T15:26:34.154679Z"
    },
    "hidden": true,
    "scrolled": true
   },
   "outputs": [],
   "source": [
    "X_CvH_HvH_train_scaled[['BlackElo', 'BlackRD',\n",
    "                'PlyCount', 'WhiteElo',\n",
    "                'WhiteRD', 'TimeControl_Base', 'TimeControl_Inc']] = stan_scal_CvH_HvH.fit_transform(\n",
    "    X_CvH_HvH_train_scaled[['BlackElo', 'BlackRD', 'PlyCount', 'WhiteElo',\n",
    "                            'WhiteRD', 'TimeControl_Base', 'TimeControl_Inc']])\n",
    "\n",
    "X_CvH_HvH_test_scaled[['BlackElo', 'BlackRD',\n",
    "                'PlyCount', 'WhiteElo',\n",
    "                'WhiteRD', 'TimeControl_Base', 'TimeControl_Inc']] = stan_scal_CvH_HvH.transform(\n",
    "    X_CvH_HvH_test_scaled[['BlackElo', 'BlackRD', 'PlyCount', 'WhiteElo',\n",
    "                           'WhiteRD', 'TimeControl_Base', 'TimeControl_Inc']])\n",
    "\n"
   ]
  },
  {
   "cell_type": "code",
   "execution_count": null,
   "id": "86137d26",
   "metadata": {
    "ExecuteTime": {
     "end_time": "2022-10-23T15:26:34.535875Z",
     "start_time": "2022-10-23T15:26:34.521883Z"
    },
    "hidden": true
   },
   "outputs": [],
   "source": [
    "# X_CvH_HvH_train_scaled.info(verbose=True)"
   ]
  },
  {
   "cell_type": "code",
   "execution_count": null,
   "id": "eb62ad1b",
   "metadata": {
    "ExecuteTime": {
     "end_time": "2022-10-23T15:26:34.739129Z",
     "start_time": "2022-10-23T15:26:34.725167Z"
    },
    "hidden": true
   },
   "outputs": [],
   "source": [
    "X_CvH_HvH_train_scaled.shape"
   ]
  },
  {
   "cell_type": "code",
   "execution_count": null,
   "id": "43d9ce18",
   "metadata": {
    "ExecuteTime": {
     "end_time": "2022-10-23T15:26:35.038048Z",
     "start_time": "2022-10-23T15:26:35.022093Z"
    },
    "hidden": true
   },
   "outputs": [],
   "source": [
    "X_CvH_HvH_test_scaled.shape"
   ]
  },
  {
   "cell_type": "markdown",
   "id": "d598de8e",
   "metadata": {
    "hidden": true
   },
   "source": [
    "-----"
   ]
  },
  {
   "cell_type": "markdown",
   "id": "b24c3de1",
   "metadata": {
    "heading_collapsed": true,
    "hidden": true
   },
   "source": [
    "### Logistic Regression"
   ]
  },
  {
   "cell_type": "code",
   "execution_count": null,
   "id": "1e29dba3",
   "metadata": {
    "ExecuteTime": {
     "end_time": "2022-10-23T15:27:00.571712Z",
     "start_time": "2022-10-23T15:27:00.553760Z"
    },
    "hidden": true
   },
   "outputs": [],
   "source": [
    "logreg_CvH_HvH = LogisticRegression(penalty='l2', max_iter=10000,\n",
    "                           solver='lbfgs', C=1.0) # default settings"
   ]
  },
  {
   "cell_type": "code",
   "execution_count": null,
   "id": "34fb66ed",
   "metadata": {
    "ExecuteTime": {
     "end_time": "2022-10-23T15:27:00.867152Z",
     "start_time": "2022-10-23T15:27:00.853160Z"
    },
    "hidden": true
   },
   "outputs": [],
   "source": [
    "y_CvH_HvH_train.values.shape"
   ]
  },
  {
   "cell_type": "code",
   "execution_count": null,
   "id": "c25725ec",
   "metadata": {
    "ExecuteTime": {
     "end_time": "2022-10-23T15:27:01.227308Z",
     "start_time": "2022-10-23T15:27:01.213345Z"
    },
    "hidden": true
   },
   "outputs": [],
   "source": [
    "np.reshape(y_CvH_HvH_train.values, (-1,)).shape # (159023,)"
   ]
  },
  {
   "cell_type": "code",
   "execution_count": null,
   "id": "8a5b4e07",
   "metadata": {
    "ExecuteTime": {
     "end_time": "2022-10-23T15:27:01.605230Z",
     "start_time": "2022-10-23T15:27:01.588299Z"
    },
    "hidden": true
   },
   "outputs": [],
   "source": [
    "y_CvH_HvH_train_ = np.reshape(y_CvH_HvH_train.values, (-1,))\n",
    "y_CvH_HvH_test_ = np.reshape(y_CvH_HvH_test.values, (-1,))"
   ]
  },
  {
   "cell_type": "code",
   "execution_count": null,
   "id": "eba0d68a",
   "metadata": {
    "ExecuteTime": {
     "end_time": "2022-10-23T15:27:02.430081Z",
     "start_time": "2022-10-23T15:27:02.413100Z"
    },
    "hidden": true
   },
   "outputs": [],
   "source": [
    "X_CvH_HvH_train_scaled.shape"
   ]
  },
  {
   "cell_type": "code",
   "execution_count": null,
   "id": "b5decddf",
   "metadata": {
    "ExecuteTime": {
     "end_time": "2022-10-23T15:27:03.271225Z",
     "start_time": "2022-10-23T15:27:03.254270Z"
    },
    "hidden": true
   },
   "outputs": [],
   "source": [
    "# logreg_CvH_HvH.fit(X_CvH_HvH_train_scaled, y_CvH_HvH_train_)"
   ]
  },
  {
   "cell_type": "code",
   "execution_count": null,
   "id": "33194e9e",
   "metadata": {
    "ExecuteTime": {
     "end_time": "2022-10-23T15:27:03.509193Z",
     "start_time": "2022-10-23T15:27:03.502211Z"
    },
    "hidden": true
   },
   "outputs": [],
   "source": [
    "# joblib.dump(logreg_CvH_HvH, 'C:/Users/Emanuel/Desktop/data/capstone/pickles/first_logreg_CvH_HvH.pkl', compress=7)"
   ]
  },
  {
   "cell_type": "code",
   "execution_count": null,
   "id": "d908c04f",
   "metadata": {
    "ExecuteTime": {
     "end_time": "2022-10-23T15:27:03.851346Z",
     "start_time": "2022-10-23T15:27:03.839351Z"
    },
    "hidden": true
   },
   "outputs": [],
   "source": [
    "logreg_CvH_HvH = joblib.load('./models/first_pass/first_logreg_CvH_HvH.pkl')"
   ]
  },
  {
   "cell_type": "code",
   "execution_count": null,
   "id": "4c74f458",
   "metadata": {
    "ExecuteTime": {
     "end_time": "2022-10-23T15:27:04.494289Z",
     "start_time": "2022-10-23T15:27:04.479329Z"
    },
    "hidden": true
   },
   "outputs": [],
   "source": [
    "y_CvH_HvH_train_.shape"
   ]
  },
  {
   "cell_type": "code",
   "execution_count": null,
   "id": "846ee243",
   "metadata": {
    "ExecuteTime": {
     "end_time": "2022-10-23T15:16:16.600661Z",
     "start_time": "2022-10-23T15:16:16.600661Z"
    },
    "hidden": true
   },
   "outputs": [],
   "source": [
    "# print(f'The accuracy score on the training data is: {logreg_CvH_HvH.score(X_CvH_HvH_train_scaled, y_CvH_HvH_train_)}')\n",
    "# print(f'The accuracy score on the testing data is: {logreg_CvH_HvH.score(X_CvH_HvH_test_scaled, y_CvH_HvH_test_)}')"
   ]
  },
  {
   "cell_type": "code",
   "execution_count": null,
   "id": "8fb69aba",
   "metadata": {
    "ExecuteTime": {
     "end_time": "2022-10-23T15:16:16.601658Z",
     "start_time": "2022-10-23T15:16:16.601658Z"
    },
    "hidden": true
   },
   "outputs": [],
   "source": [
    "# plot_confusion_matrix(logreg_CvH_HvH, X_CvH_HvH_test_scaled, y_CvH_HvH_test_)\n",
    "\n",
    "# logreg_CvH_HvH_y_pred = logreg_CvH_HvH.predict(X_CvH_HvH_test_scaled)\n",
    "# print(classification_report(y_CvH_HvH_test_, logreg_CvH_HvH_y_pred, digits=4))"
   ]
  },
  {
   "cell_type": "code",
   "execution_count": null,
   "id": "1ec9447b",
   "metadata": {
    "ExecuteTime": {
     "end_time": "2022-10-23T15:16:16.603653Z",
     "start_time": "2022-10-23T15:16:16.603653Z"
    },
    "hidden": true
   },
   "outputs": [],
   "source": [
    "# logreg_CvH_HvH_results = pd.DataFrame(\n",
    "#     classification_report(\n",
    "#         y_CvH_HvH_test_, logreg_CvH_HvH_y_pred, output_dict=True)).loc[\n",
    "#     ['precision', 'recall', 'f1-score'],\n",
    "#     ['0', '1', 'accuracy']]"
   ]
  },
  {
   "cell_type": "code",
   "execution_count": null,
   "id": "5ee1b7b4",
   "metadata": {
    "ExecuteTime": {
     "end_time": "2022-10-23T15:16:16.604650Z",
     "start_time": "2022-10-23T15:16:16.604650Z"
    },
    "hidden": true
   },
   "outputs": [],
   "source": [
    "# logreg_CvH_HvH_coefficients = pd.DataFrame(\n",
    "#     data=abs(logreg_CvH_HvH.coef_), columns=logreg_CvH_HvH.feature_names_in_)\n",
    "\n",
    "# # logreg_CvH_HvH_coefficients.T.head(15)\n",
    "\n",
    "# for col in logreg_CvH_HvH_coefficients.T:\n",
    "#     display(logreg_CvH_HvH_coefficients.T[[col]].sort_values(\n",
    "#     by=col, ascending=False).head(15))"
   ]
  },
  {
   "cell_type": "code",
   "execution_count": null,
   "id": "f2abd045",
   "metadata": {
    "hidden": true
   },
   "outputs": [],
   "source": []
  },
  {
   "cell_type": "code",
   "execution_count": null,
   "id": "ab660bd7",
   "metadata": {
    "ExecuteTime": {
     "end_time": "2022-10-23T15:27:09.207787Z",
     "start_time": "2022-10-23T15:27:08.342636Z"
    },
    "hidden": true
   },
   "outputs": [],
   "source": [
    "logreg_CvH_HvH_report, logreg_CvH_HvH_results, logreg_CvH_HvH_coefficients = hp.class_model_eval_logreg(\n",
    "    logreg_CvH_HvH, X_CvH_HvH_train_scaled,\n",
    "    X_CvH_HvH_test_scaled, y_CvH_HvH_train_,\n",
    "    y_CvH_HvH_test_)"
   ]
  },
  {
   "cell_type": "code",
   "execution_count": null,
   "id": "68453c3e",
   "metadata": {
    "hidden": true
   },
   "outputs": [],
   "source": []
  },
  {
   "cell_type": "code",
   "execution_count": null,
   "id": "c79124bf",
   "metadata": {
    "hidden": true
   },
   "outputs": [],
   "source": []
  },
  {
   "cell_type": "markdown",
   "id": "c2ef5f47",
   "metadata": {
    "hidden": true
   },
   "source": [
    "-----"
   ]
  },
  {
   "cell_type": "markdown",
   "id": "5a7760e3",
   "metadata": {
    "heading_collapsed": true,
    "hidden": true
   },
   "source": [
    "###### Making logreg eval function"
   ]
  },
  {
   "cell_type": "code",
   "execution_count": null,
   "id": "d72e4ce1",
   "metadata": {
    "ExecuteTime": {
     "end_time": "2022-10-23T15:27:22.513513Z",
     "start_time": "2022-10-23T15:27:22.495561Z"
    },
    "hidden": true
   },
   "outputs": [],
   "source": [
    "# def class_model_eval_logreg(class_model_, X_train_, X_test_, y_train_, y_test_, digits_=4):\n",
    "#     # print the accuracy on the training and test set\n",
    "#     print(f'The accuracy score on the training data is: {class_model_.score(X_train_, y_train_)}')\n",
    "#     print(f'The accuracy score on the testing data is: {class_model_.score(X_test_, y_test_)}')\n",
    "    \n",
    "#     # plot the confusion matrix\n",
    "#     plot_confusion_matrix(class_model_, X_test_, y_test_)\n",
    "#     plt.show()\n",
    "    \n",
    "#     # classification report\n",
    "#     class_model_pred = class_model_.predict(X_test_)\n",
    "#     report_ = classification_report(y_test_, class_model_pred, digits=digits_)\n",
    "#     print(report_)\n",
    "    \n",
    "#     # model results\n",
    "#     model_results_ = pd.DataFrame(classification_report(y_test_, class_model_pred,\n",
    "#                                                         digits=digits_, output_dict=True)).loc[\n",
    "#         ['precision', 'recall', 'f1-score'],\n",
    "#         ['0', '1', 'accuracy']]\n",
    "    \n",
    "#     # model coefficients\n",
    "#     model_coeffs_ = pd.DataFrame(data=abs(class_model_.coef_),\n",
    "#                                 columns=class_model_.feature_names_in_).T\n",
    "    \n",
    "#     return report_, model_results_, model_coeffs_\n",
    "    \n",
    "    "
   ]
  },
  {
   "cell_type": "code",
   "execution_count": null,
   "id": "cd50cef8",
   "metadata": {
    "ExecuteTime": {
     "end_time": "2022-10-23T15:27:22.778309Z",
     "start_time": "2022-10-23T15:27:22.774325Z"
    },
    "hidden": true
   },
   "outputs": [],
   "source": [
    "# report_test, model_results_test, model_coeffs_test = class_model_eval_logreg(\n",
    "#     logreg_CvH_HvH, X_CvH_HvH_train_scaled,\n",
    "#     X_CvH_HvH_test_scaled, y_CvH_HvH_train_,\n",
    "#     y_CvH_HvH_test_)"
   ]
  },
  {
   "cell_type": "code",
   "execution_count": null,
   "id": "a36571a2",
   "metadata": {
    "ExecuteTime": {
     "end_time": "2022-10-23T15:27:23.044410Z",
     "start_time": "2022-10-23T15:27:23.037405Z"
    },
    "hidden": true
   },
   "outputs": [],
   "source": [
    "# print(report_test)\n",
    "# display(model_results_test)\n",
    "# display(model_coeffs_test)"
   ]
  },
  {
   "cell_type": "code",
   "execution_count": null,
   "id": "a80a76f8",
   "metadata": {
    "ExecuteTime": {
     "end_time": "2022-10-23T15:27:23.530686Z",
     "start_time": "2022-10-23T15:27:23.513735Z"
    },
    "hidden": true
   },
   "outputs": [],
   "source": [
    "# report_test, model_results_test, model_coeffs_test = hp.class_model_eval_logreg(\n",
    "#     logreg_CvH_HvH, X_CvH_HvH_train_scaled,\n",
    "#     X_CvH_HvH_test_scaled, y_CvH_HvH_train_,\n",
    "#     y_CvH_HvH_test_)"
   ]
  },
  {
   "cell_type": "code",
   "execution_count": null,
   "id": "3fa0a328",
   "metadata": {
    "hidden": true
   },
   "outputs": [],
   "source": []
  },
  {
   "cell_type": "markdown",
   "id": "3b5dad73",
   "metadata": {
    "hidden": true
   },
   "source": [
    "-----"
   ]
  },
  {
   "cell_type": "markdown",
   "id": "17fb5200",
   "metadata": {},
   "source": [
    "## Investigating distribution and variance of Elo, RD, etc."
   ]
  },
  {
   "cell_type": "markdown",
   "id": "1bc29cff",
   "metadata": {},
   "source": [
    "### Looking at CvH games"
   ]
  },
  {
   "cell_type": "markdown",
   "id": "3ab32f9d",
   "metadata": {
    "heading_collapsed": true
   },
   "source": [
    "#### Create / Load DataFrame"
   ]
  },
  {
   "cell_type": "code",
   "execution_count": null,
   "id": "460b128b",
   "metadata": {
    "ExecuteTime": {
     "end_time": "2022-10-25T14:22:28.751915Z",
     "start_time": "2022-10-25T14:22:23.366896Z"
    },
    "hidden": true
   },
   "outputs": [],
   "source": [
    "# df_2022_2018_CvH = joblib.load('./data/preprocessed/2022_2018_CvH.pkl')"
   ]
  },
  {
   "cell_type": "code",
   "execution_count": null,
   "id": "35911447",
   "metadata": {
    "ExecuteTime": {
     "end_time": "2022-10-25T14:22:28.783361Z",
     "start_time": "2022-10-25T14:22:28.753804Z"
    },
    "hidden": true
   },
   "outputs": [],
   "source": [
    "# df_2022_2018_CvH.head(1)"
   ]
  },
  {
   "cell_type": "markdown",
   "id": "49cdd7f7",
   "metadata": {
    "hidden": true
   },
   "source": [
    "This pickle does not contain the player names. I may as well go back and use a df which does contain names to see if there are any additional relationships. "
   ]
  },
  {
   "cell_type": "code",
   "execution_count": null,
   "id": "99dc2729",
   "metadata": {
    "ExecuteTime": {
     "end_time": "2022-10-24T14:49:02.618421Z",
     "start_time": "2022-10-24T14:48:54.919854Z"
    },
    "hidden": true
   },
   "outputs": [],
   "source": [
    "# # on vostro laptop\n",
    "# raw_p = [joblib.load(f'C:/Users/MaNiL/Desktop/data/capstone/raw/pickles/{year}_CvH.pkl') for \\\n",
    "#          year in np.arange(2022, 2017, -1)] # load the pickles from 2022 to 2018 inclusive"
   ]
  },
  {
   "cell_type": "code",
   "execution_count": null,
   "id": "d6c257fc",
   "metadata": {
    "ExecuteTime": {
     "end_time": "2022-10-24T14:50:56.112673Z",
     "start_time": "2022-10-24T14:50:56.104673Z"
    },
    "hidden": true
   },
   "outputs": [],
   "source": [
    "# raw_p[0].head(1)\n",
    "# raw_p[0].columns"
   ]
  },
  {
   "cell_type": "code",
   "execution_count": null,
   "id": "7cc6ce7f",
   "metadata": {
    "ExecuteTime": {
     "end_time": "2022-10-24T15:02:25.605635Z",
     "start_time": "2022-10-24T15:02:24.339063Z"
    },
    "hidden": true
   },
   "outputs": [],
   "source": [
    "# df_2022_2018_CvH_raw = hp.concatenate_cleaned_pickles(\n",
    "#     raw_p, list_of_cols=['Event', 'Site', 'Round', 'BlackClock',\n",
    "#                          'FICSGamesDBGameNo', 'Time', 'WhiteClock'])\n",
    "\n",
    "# Shape pre-drop: (198779, 17)\n",
    "# Dropping duplicates...\n",
    "# Shape post-drop: (198539, 17)\n",
    "#  Duplicates dropped: 240"
   ]
  },
  {
   "cell_type": "code",
   "execution_count": null,
   "id": "d267912a",
   "metadata": {
    "ExecuteTime": {
     "end_time": "2022-10-25T16:32:36.898685Z",
     "start_time": "2022-10-25T16:29:35.393241Z"
    },
    "hidden": true
   },
   "outputs": [],
   "source": [
    "# joblib.dump(df_2022_2018_CvH_raw,\n",
    "#            'C:/Users/MaNiL/Desktop/data/capstone/preprocessed/pickles/2022_2018_CvH_distinv.pkl',\n",
    "#            compress=9)"
   ]
  },
  {
   "cell_type": "markdown",
   "id": "29f4b82c",
   "metadata": {
    "hidden": true
   },
   "source": [
    "----"
   ]
  },
  {
   "cell_type": "code",
   "execution_count": null,
   "id": "34c9a800",
   "metadata": {
    "ExecuteTime": {
     "end_time": "2022-10-25T16:26:36.407179Z",
     "start_time": "2022-10-25T16:25:53.031777Z"
    },
    "hidden": true
   },
   "outputs": [],
   "source": [
    "# # on vostro laptop\n",
    "# raw_p = [joblib.load(f'C:/Users/MaNiL/Desktop/data/capstone/raw/pickles/{year}_CvH.pkl') for \\\n",
    "#          year in np.arange(2022, 2017, -1)] # load the pickles from 2022 to 2018 inclusive"
   ]
  },
  {
   "cell_type": "code",
   "execution_count": null,
   "id": "0c59a046",
   "metadata": {
    "ExecuteTime": {
     "end_time": "2022-10-25T16:28:21.029825Z",
     "start_time": "2022-10-25T16:28:20.996773Z"
    },
    "hidden": true
   },
   "outputs": [],
   "source": [
    "# raw_p[0].head(1)\n",
    "# raw_p[0].columns"
   ]
  },
  {
   "cell_type": "code",
   "execution_count": null,
   "id": "d510d978",
   "metadata": {
    "ExecuteTime": {
     "end_time": "2022-10-25T16:26:38.935998Z",
     "start_time": "2022-10-25T16:26:36.426966Z"
    },
    "hidden": true
   },
   "outputs": [],
   "source": [
    "# df_2022_2018_CvH_raw = hp.concatenate_cleaned_pickles(\n",
    "#     raw_p, list_of_cols=['Site', 'Round', 'BlackClock',\n",
    "#                          'FICSGamesDBGameNo', 'Time', 'WhiteClock'])\n",
    "\n",
    "# # All PlyCount values match the length of moves-list\n",
    "# # Shape pre-drop: (198779, 18)\n",
    "# # Dropping duplicates...\n",
    "# # Shape post-drop: (198539, 18)\n",
    "# #  Duplicates dropped: 240"
   ]
  },
  {
   "cell_type": "code",
   "execution_count": null,
   "id": "24671371",
   "metadata": {
    "ExecuteTime": {
     "end_time": "2022-10-25T16:32:36.898685Z",
     "start_time": "2022-10-25T16:29:35.393241Z"
    },
    "hidden": true
   },
   "outputs": [],
   "source": [
    "# joblib.dump(df_2022_2018_CvH_raw,\n",
    "#            'C:/Users/MaNiL/Desktop/data/capstone/preprocessed/2022_2018_CvH_distinv_withevent.pkl',\n",
    "#            compress=9)"
   ]
  },
  {
   "cell_type": "markdown",
   "id": "f0fe1d7f",
   "metadata": {
    "hidden": true
   },
   "source": [
    "-----"
   ]
  },
  {
   "cell_type": "code",
   "execution_count": null,
   "id": "28bc7eb8",
   "metadata": {
    "ExecuteTime": {
     "end_time": "2022-10-25T14:22:34.942383Z",
     "start_time": "2022-10-25T14:22:28.785276Z"
    },
    "hidden": true
   },
   "outputs": [],
   "source": [
    "# # df without event info \n",
    "# df_2022_2018_CvH_distinv = joblib.load(\n",
    "#     './data/preprocessed/2022_2018_CvH_distinv.pkl')"
   ]
  },
  {
   "cell_type": "code",
   "execution_count": null,
   "id": "49774f09",
   "metadata": {
    "ExecuteTime": {
     "end_time": "2022-10-25T14:22:34.942383Z",
     "start_time": "2022-10-25T14:22:28.785276Z"
    },
    "hidden": true
   },
   "outputs": [],
   "source": [
    "# # df with event info to separate rated and unrated\n",
    "\n",
    "# df_2022_2018_CvH_distinv = joblib.load(\n",
    "#     './data/preprocessed/2022_2018_CvH_distinv_withevent.pkl')"
   ]
  },
  {
   "cell_type": "code",
   "execution_count": null,
   "id": "4c984d3b",
   "metadata": {
    "ExecuteTime": {
     "end_time": "2022-10-25T14:22:34.958397Z",
     "start_time": "2022-10-25T14:22:34.945396Z"
    },
    "hidden": true
   },
   "outputs": [],
   "source": [
    "# df_2022_2018_CvH_distinv.head(1)"
   ]
  },
  {
   "cell_type": "markdown",
   "id": "07fcee9f",
   "metadata": {
    "hidden": true
   },
   "source": [
    "-----"
   ]
  },
  {
   "cell_type": "markdown",
   "id": "2b80020c",
   "metadata": {
    "heading_collapsed": true
   },
   "source": [
    "#### Isolating Cheaters"
   ]
  },
  {
   "cell_type": "markdown",
   "id": "1c84b624",
   "metadata": {
    "heading_collapsed": true,
    "hidden": true
   },
   "source": [
    "##### Some tinkering"
   ]
  },
  {
   "cell_type": "code",
   "execution_count": null,
   "id": "eca8d531",
   "metadata": {
    "hidden": true
   },
   "outputs": [],
   "source": [
    "# if white is comp:\n",
    "\n",
    "## store all except ['Black', 'BlackElo', 'BlackIsComp', 'BlackRD', 'WhiteIsComp', 'NoComp']\n",
    "## which is same as storing ['Date', 'ECO', 'PlyCount', 'White', 'WhiteElo', 'WhiteRD', 'emt', 'moves',\n",
    "# 'TimeControl_Base', 'TimeControl_Inc']\n",
    "# is there a speed difference in doing a \"col for col not in [...]\" compared to just  calling cols I want?\n",
    "\n",
    "# if black is comp:\n",
    "\n",
    "## store all except ['White', 'WhiteElo', 'BlackIsComp', 'WhiteRD', 'WhiteIsComp', 'NoComp']\n",
    "## which is same as storing ['Date', 'ECO', 'PlyCount', 'Black', 'BlackElo', 'BlackRD', 'emt', 'moves',\n",
    "# 'TimeControl_Base', 'TimeControl_Inc']\n",
    "\n"
   ]
  },
  {
   "cell_type": "code",
   "execution_count": null,
   "id": "22696fa7",
   "metadata": {
    "ExecuteTime": {
     "end_time": "2022-10-24T22:56:42.236635Z",
     "start_time": "2022-10-24T22:56:42.223669Z"
    },
    "hidden": true
   },
   "outputs": [],
   "source": [
    "# # %%timeit #1min 17s ± 882 ms per loop (mean ± std. dev. of 7 runs, 1 loop each)\n",
    "\n",
    "# testing = [row[1][['Date', 'ECO', 'PlyCount', 'White',\n",
    "#                   'WhiteElo', 'WhiteRD', 'emt', 'moves',\n",
    "#                   'TimeControl_Base', 'TimeControl_Inc']] if row[1]['WhiteIsComp']==1 else\\\n",
    "#            row[1][['Date', 'ECO', 'PlyCount', 'Black',\n",
    "#                   'BlackElo', 'BlackRD', 'emt', 'moves',\n",
    "#                   'TimeControl_Base', 'TimeControl_Inc']] if row[1]['BlackIsComp']==1 else \\\n",
    "#            None for row in df_2022_2018_CvH_distinv.iterrows()]"
   ]
  },
  {
   "cell_type": "code",
   "execution_count": null,
   "id": "78641e96",
   "metadata": {
    "ExecuteTime": {
     "end_time": "2022-10-25T12:34:53.190889Z",
     "start_time": "2022-10-25T12:34:53.184889Z"
    },
    "code_folding": [],
    "hidden": true
   },
   "outputs": [],
   "source": [
    "# # %%timeit # ~ 53\n",
    "\n",
    "# testing = pd.DataFrame([row[1][['Date', 'ECO', 'PlyCount', 'White',\n",
    "#                   'WhiteElo', 'WhiteRD', 'emt', 'moves',\n",
    "#                   'TimeControl_Base', 'TimeControl_Inc']] if row[1]['WhiteIsComp']==1 else\\\n",
    "#            row[1][['Date', 'ECO', 'PlyCount', 'Black',\n",
    "#                   'BlackElo', 'BlackRD', 'emt', 'moves',\n",
    "#                   'TimeControl_Base', 'TimeControl_Inc']] if row[1]['BlackIsComp']==1 else \\\n",
    "#            None for row in df_2022_2018_CvH_distinv.iterrows()])"
   ]
  },
  {
   "cell_type": "code",
   "execution_count": null,
   "id": "95a299e4",
   "metadata": {
    "ExecuteTime": {
     "end_time": "2022-10-25T12:50:21.073590Z",
     "start_time": "2022-10-25T12:50:21.060617Z"
    },
    "hidden": true
   },
   "outputs": [],
   "source": [
    "# testing = pd.DataFrame()"
   ]
  },
  {
   "cell_type": "code",
   "execution_count": null,
   "id": "9595436e",
   "metadata": {
    "ExecuteTime": {
     "end_time": "2022-10-25T12:50:18.654120Z",
     "start_time": "2022-10-25T12:50:18.638149Z"
    },
    "code_folding": [],
    "hidden": true
   },
   "outputs": [],
   "source": [
    "# # %%timeit # ~ 1m 20seconds\n",
    "\n",
    "# testing[['Date', 'ECO', 'PlyCount', 'Cheater',\n",
    "#          'CheaterElo', 'CheaterRD', 'emt', 'moves',\n",
    "#          'TimeControl_Base', 'TimeControl_Inc']] =\\\n",
    "#     [row[1][['Date', 'ECO', 'PlyCount', 'White',\n",
    "#              'WhiteElo', 'WhiteRD', 'emt', 'moves',\n",
    "#              'TimeControl_Base', 'TimeControl_Inc']].rename({\n",
    "#     'White': 'Cheater',\n",
    "#     'WhiteElo': 'CheaterElo',\n",
    "#     'WhiteRD': 'CheaterRD'}) if row[1]['WhiteIsComp']==1 else\\\n",
    "#      row[1][['Date', 'ECO', 'PlyCount', 'Black',\n",
    "#              'BlackElo', 'BlackRD', 'emt', 'moves',\n",
    "#              'TimeControl_Base', 'TimeControl_Inc']].rename({\n",
    "#     'Black': 'Cheater',\n",
    "#     'BlackElo': 'CheaterElo',\n",
    "#     'BlackRD': 'CheaterRD'}) if row[1]['BlackIsComp']==1 else \\\n",
    "#            None for row in df_2022_2018_CvH_distinv.iterrows()]"
   ]
  },
  {
   "cell_type": "code",
   "execution_count": null,
   "id": "0f4e7f2f",
   "metadata": {
    "ExecuteTime": {
     "end_time": "2022-10-25T12:34:54.077180Z",
     "start_time": "2022-10-25T12:34:54.073182Z"
    },
    "code_folding": [],
    "hidden": true
   },
   "outputs": [],
   "source": [
    "# # %%timeit # ~ 1m 19.7seconds\n",
    "\n",
    "# testing = pd.DataFrame([row[1][['Date', 'ECO', 'PlyCount', 'White',\n",
    "#                   'WhiteElo', 'WhiteRD', 'emt', 'moves',\n",
    "#                   'TimeControl_Base', 'TimeControl_Inc']].rename({\n",
    "#     'WhiteElo': 'CheaterElo',\n",
    "#     'WhiteRD': 'CheaterRD'}) if row[1]['WhiteIsComp']==1 else\\\n",
    "#            row[1][['Date', 'ECO', 'PlyCount', 'Black',\n",
    "#                   'BlackElo', 'BlackRD', 'emt', 'moves',\n",
    "#                   'TimeControl_Base', 'TimeControl_Inc']].rename({\n",
    "#     'BlackElo': 'CheaterElo',\n",
    "#     'BlackRD': 'CheaterRD'}) if row[1]['BlackIsComp']==1 else \\\n",
    "#            None for row in df_2022_2018_CvH_distinv.iterrows()])"
   ]
  },
  {
   "cell_type": "code",
   "execution_count": null,
   "id": "8af4c7e6",
   "metadata": {
    "ExecuteTime": {
     "end_time": "2022-10-25T12:35:41.840917Z",
     "start_time": "2022-10-25T12:35:41.833917Z"
    },
    "hidden": true
   },
   "outputs": [],
   "source": [
    "# # %%timeit # 43 s ± 1.18 s per loop (mean ± std. dev. of 7 runs, 1 loop each)\n",
    "\n",
    "# testing = pd.DataFrame([row[1][['Date', 'ECO', 'PlyCount', 'White',\n",
    "#                   'WhiteElo', 'WhiteRD', 'emt', 'moves',\n",
    "#                   'TimeControl_Base', 'TimeControl_Inc']].values if row[1]['WhiteIsComp']==1 else\\\n",
    "#            row[1][['Date', 'ECO', 'PlyCount', 'Black',\n",
    "#                   'BlackElo', 'BlackRD', 'emt', 'moves',\n",
    "#                   'TimeControl_Base', 'TimeControl_Inc']].values if row[1]['BlackIsComp']==1 else \\\n",
    "#            np.NaN for row in df_2022_2018_CvH_distinv.iterrows()])"
   ]
  },
  {
   "cell_type": "markdown",
   "id": "90f5cd1d",
   "metadata": {
    "heading_collapsed": true,
    "hidden": true
   },
   "source": [
    "##### Isolating cheaters"
   ]
  },
  {
   "cell_type": "code",
   "execution_count": null,
   "id": "77d9caca",
   "metadata": {
    "ExecuteTime": {
     "end_time": "2022-10-25T15:30:03.476204Z",
     "start_time": "2022-10-25T15:30:03.220990Z"
    },
    "hidden": true
   },
   "outputs": [],
   "source": [
    "# # %%timeit #143 ms ± 2.03 ms per loop (mean ± std. dev. of 7 runs, 10 loops each)\n",
    "\n",
    "# white_cheaters = df_2022_2018_CvH_distinv[df_2022_2018_CvH_distinv['WhiteIsComp']==1][\n",
    "#     ['Event', 'Date', 'ECO', 'PlyCount', 'White',\n",
    "#      'WhiteElo', 'WhiteRD', 'emt', 'moves',\n",
    "#      'TimeControl_Base', 'TimeControl_Inc']].rename(columns={'White': 'Cheater',\n",
    "#                                                              'WhiteElo': 'CheaterElo',\n",
    "#                                                              'WhiteRD': 'CheaterRD'})\n",
    "# white_cheaters['0_CheaterWasWhite_1_CheaterWasBlack'] = np.int8(0)\n",
    "\n",
    "# black_cheaters = df_2022_2018_CvH_distinv[df_2022_2018_CvH_distinv['BlackIsComp']==1][\n",
    "#     ['Event', 'Date', 'ECO', 'PlyCount', 'Black',\n",
    "#      'BlackElo', 'BlackRD', 'emt', 'moves',\n",
    "#      'TimeControl_Base', 'TimeControl_Inc']].rename(columns={'Black': 'Cheater',\n",
    "#                                                              'BlackElo': 'CheaterElo',\n",
    "#                                                              'BlackRD': 'CheaterRD'})\n",
    "# black_cheaters['0_CheaterWasWhite_1_CheaterWasBlack'] = np.int8(1)\n",
    "\n",
    "# df_2022_2018_C_distinv = pd.concat([\n",
    "#     white_cheaters,\n",
    "#     black_cheaters]).reset_index(drop=True)"
   ]
  },
  {
   "cell_type": "code",
   "execution_count": null,
   "id": "362ee1ac",
   "metadata": {
    "ExecuteTime": {
     "end_time": "2022-10-25T15:40:39.073204Z",
     "start_time": "2022-10-25T15:40:39.054271Z"
    },
    "hidden": true
   },
   "outputs": [],
   "source": [
    "# df_2022_2018_C_distinv.head(1)"
   ]
  },
  {
   "cell_type": "code",
   "execution_count": null,
   "id": "ac8d90bd",
   "metadata": {
    "ExecuteTime": {
     "end_time": "2022-10-25T15:41:01.761249Z",
     "start_time": "2022-10-25T15:41:01.744249Z"
    },
    "hidden": true
   },
   "outputs": [],
   "source": [
    "# df_2022_2018_C_distinv.Cheater.nunique() # 97"
   ]
  },
  {
   "cell_type": "code",
   "execution_count": null,
   "id": "f73bea96",
   "metadata": {
    "ExecuteTime": {
     "end_time": "2022-10-25T15:41:19.797212Z",
     "start_time": "2022-10-25T15:41:19.771200Z"
    },
    "hidden": true
   },
   "outputs": [],
   "source": [
    "# df_2022_2018_C_distinv.Cheater.unique()"
   ]
  },
  {
   "cell_type": "markdown",
   "id": "b482ea64",
   "metadata": {
    "hidden": true
   },
   "source": [
    "------"
   ]
  },
  {
   "cell_type": "markdown",
   "id": "10d66274",
   "metadata": {
    "heading_collapsed": true
   },
   "source": [
    "#### Isolating Non-cheaters"
   ]
  },
  {
   "cell_type": "code",
   "execution_count": null,
   "id": "80d0e68a",
   "metadata": {
    "ExecuteTime": {
     "end_time": "2022-10-25T15:30:46.994305Z",
     "start_time": "2022-10-25T15:30:46.769150Z"
    },
    "hidden": true
   },
   "outputs": [],
   "source": [
    "# # %%timeit #143 ms ± 2.03 ms per loop (mean ± std. dev. of 7 runs, 10 loops each)\n",
    "\n",
    "# white_non_cheaters = df_2022_2018_CvH_distinv[df_2022_2018_CvH_distinv['WhiteIsComp']==0][\n",
    "#     ['Event', 'Date', 'ECO', 'PlyCount', 'White',\n",
    "#      'WhiteElo', 'WhiteRD', 'emt', 'moves',\n",
    "#      'TimeControl_Base', 'TimeControl_Inc']].rename(columns={'White': 'NonCheater',\n",
    "#                                                              'WhiteElo': 'NonCheaterElo',\n",
    "#                                                              'WhiteRD': 'NonCheaterRD'})\n",
    "# white_non_cheaters['0_HumanWasWhite_1_HumanWasBlack'] = np.int8(0)\n",
    "\n",
    "# black_non_cheaters = df_2022_2018_CvH_distinv[df_2022_2018_CvH_distinv['BlackIsComp']==0][\n",
    "#     ['Event', 'Date', 'ECO', 'PlyCount', 'Black',\n",
    "#      'BlackElo', 'BlackRD', 'emt', 'moves',\n",
    "#      'TimeControl_Base', 'TimeControl_Inc']].rename(columns={'Black': 'NonCheater',\n",
    "#                                                              'BlackElo': 'NonCheaterElo',\n",
    "#                                                              'BlackRD': 'NonCheaterRD'})\n",
    "# black_non_cheaters['0_HumanWasWhite_1_HumanWasBlack'] = np.int8(1)\n",
    "\n",
    "# df_2022_2018_H_distinv = pd.concat([\n",
    "#     white_non_cheaters,\n",
    "#     black_non_cheaters]).reset_index(drop=True)"
   ]
  },
  {
   "cell_type": "code",
   "execution_count": null,
   "id": "2eb2778a",
   "metadata": {
    "ExecuteTime": {
     "end_time": "2022-10-25T15:41:31.064269Z",
     "start_time": "2022-10-25T15:41:31.045320Z"
    },
    "hidden": true,
    "scrolled": true
   },
   "outputs": [],
   "source": [
    "# df_2022_2018_H_distinv.head(1)"
   ]
  },
  {
   "cell_type": "code",
   "execution_count": null,
   "id": "d9958535",
   "metadata": {
    "ExecuteTime": {
     "end_time": "2022-10-25T15:41:50.909474Z",
     "start_time": "2022-10-25T15:41:50.879494Z"
    },
    "hidden": true
   },
   "outputs": [],
   "source": [
    "# df_2022_2018_H_distinv.NonCheater.nunique() # 9399"
   ]
  },
  {
   "cell_type": "markdown",
   "id": "7d23af71",
   "metadata": {
    "hidden": true
   },
   "source": [
    "It is encouraging that there are more unique non-cheaters than there are computers. "
   ]
  },
  {
   "cell_type": "code",
   "execution_count": null,
   "id": "9f889916",
   "metadata": {
    "ExecuteTime": {
     "end_time": "2022-10-25T15:42:32.697306Z",
     "start_time": "2022-10-25T15:42:32.667330Z"
    },
    "hidden": true
   },
   "outputs": [],
   "source": [
    "# df_2022_2018_H_distinv.NonCheater.value_counts().head(30)"
   ]
  },
  {
   "cell_type": "markdown",
   "id": "c53de291",
   "metadata": {
    "hidden": true
   },
   "source": [
    "-------"
   ]
  },
  {
   "cell_type": "markdown",
   "id": "72b5ab3d",
   "metadata": {
    "heading_collapsed": true
   },
   "source": [
    "#### Distributions"
   ]
  },
  {
   "cell_type": "code",
   "execution_count": null,
   "id": "6b8a9936",
   "metadata": {
    "ExecuteTime": {
     "end_time": "2022-10-25T15:52:18.218110Z",
     "start_time": "2022-10-25T15:46:30.240369Z"
    },
    "hidden": true
   },
   "outputs": [],
   "source": [
    "# joblib.dump(df_2022_2018_C_distinv, './data/preprocessed/df_2022_2018_C_distinv.pkl',\n",
    "#            compress=9)\n",
    "# joblib.dump(df_2022_2018_H_distinv, './data/preprocessed/df_2022_2018_H_distinv.pkl',\n",
    "#            compress=9)"
   ]
  },
  {
   "cell_type": "code",
   "execution_count": null,
   "id": "269e4290",
   "metadata": {
    "ExecuteTime": {
     "end_time": "2022-10-29T21:43:08.607130Z",
     "start_time": "2022-10-29T21:42:58.798452Z"
    },
    "hidden": true
   },
   "outputs": [],
   "source": [
    "df_2022_2018_C_distinv = joblib.load(\n",
    "    './data/preprocessed/df_2022_2018_C_distinv.pkl')\n",
    "df_2022_2018_H_distinv = joblib.load(\n",
    "    './data/preprocessed/df_2022_2018_H_distinv.pkl')"
   ]
  },
  {
   "cell_type": "code",
   "execution_count": null,
   "id": "366d4925",
   "metadata": {
    "ExecuteTime": {
     "end_time": "2022-10-29T21:43:08.639017Z",
     "start_time": "2022-10-29T21:43:08.608100Z"
    },
    "hidden": true
   },
   "outputs": [],
   "source": [
    "# df_2022_2018_C_distinv.head(2)\n",
    "df_2022_2018_H_distinv.head(2)"
   ]
  },
  {
   "cell_type": "code",
   "execution_count": null,
   "id": "a6cda0a9",
   "metadata": {
    "hidden": true
   },
   "outputs": [],
   "source": []
  },
  {
   "cell_type": "code",
   "execution_count": null,
   "id": "7c72f420",
   "metadata": {
    "hidden": true
   },
   "outputs": [],
   "source": []
  },
  {
   "cell_type": "code",
   "execution_count": null,
   "id": "00734cba",
   "metadata": {
    "ExecuteTime": {
     "end_time": "2022-10-28T12:40:13.949596Z",
     "start_time": "2022-10-28T12:40:10.321707Z"
    },
    "hidden": true
   },
   "outputs": [],
   "source": [
    "# cheaters (rated and unrated)\n",
    "fig = px.histogram(\n",
    "    data_frame=df_2022_2018_C_distinv,\n",
    "    x='CheaterElo',\n",
    "    nbins=(int(df_2022_2018_C_distinv.CheaterElo.describe()['max'] - \\\n",
    "          df_2022_2018_C_distinv.CheaterElo.describe()['min'])),\n",
    "    title='Distribution of Cheater ELO'\n",
    "    \n",
    "    )\n",
    "\n",
    "fig.show()"
   ]
  },
  {
   "cell_type": "code",
   "execution_count": null,
   "id": "58a600c7",
   "metadata": {
    "ExecuteTime": {
     "end_time": "2022-10-28T12:40:14.394595Z",
     "start_time": "2022-10-28T12:40:13.957596Z"
    },
    "hidden": true
   },
   "outputs": [],
   "source": [
    "# non-cheaters (rated and unrated)\n",
    "fig = px.histogram(\n",
    "    data_frame=df_2022_2018_H_distinv,\n",
    "    x='NonCheaterElo',\n",
    "    nbins=(int(df_2022_2018_H_distinv.NonCheaterElo.describe()['max'] - \\\n",
    "          df_2022_2018_H_distinv.NonCheaterElo.describe()['min'])),\n",
    "    title='Distribution of Non-Cheater ELO'\n",
    "    \n",
    "    )\n",
    "\n",
    "fig.show()"
   ]
  },
  {
   "cell_type": "markdown",
   "id": "69ddf0a3",
   "metadata": {
    "hidden": true
   },
   "source": [
    "The spike at 1720-1721 above is probably because there are still unrated games in this dataframe. One's elo doesn't change due to an unrated game which could lead to anomalies like above. It could also be such a spike because that is the elo assigned to new players when they play their first game. Many of these should probably be eliminated from the dataset to minimise the distribution skew.\n",
    "\n",
    "\n",
    "Another thing to investigate is how much is the change in any individual player's elo affecting this distribution i.e. how different would it be if the data was grouped by unique players and their respective elo was averaged across all their games, OR their last elo (date-wise) was used?"
   ]
  },
  {
   "cell_type": "code",
   "execution_count": null,
   "id": "f4bca076",
   "metadata": {
    "ExecuteTime": {
     "end_time": "2022-10-28T12:40:15.120115Z",
     "start_time": "2022-10-28T12:40:14.398594Z"
    },
    "hidden": true
   },
   "outputs": [],
   "source": [
    "# both rated and unrated\n",
    "print('Rated and Unrated:')\n",
    "display(df_2022_2018_C_distinv.CheaterElo.describe().to_frame().T)\n",
    "\n",
    "# # only rated\n",
    "df_2022_2018_C_distinv_rated = df_2022_2018_C_distinv[['rated' in x for x in df_2022_2018_C_distinv.Event]]\n",
    "print('Rated:')\n",
    "display(df_2022_2018_C_distinv.CheaterElo.describe().to_frame().T)\n",
    "\n",
    "# # only unrated\n",
    "df_2022_2018_C_distinv_unrated = df_2022_2018_C_distinv[['unrated' in x for x in df_2022_2018_C_distinv.Event]]\n",
    "print('Unrated:')\n",
    "display(df_2022_2018_C_distinv_unrated.CheaterElo.describe().to_frame().T)"
   ]
  },
  {
   "cell_type": "code",
   "execution_count": null,
   "id": "e947a5ea",
   "metadata": {
    "ExecuteTime": {
     "end_time": "2022-10-28T12:40:15.453116Z",
     "start_time": "2022-10-28T12:40:15.125115Z"
    },
    "hidden": true
   },
   "outputs": [],
   "source": [
    "# both rated and unrated\n",
    "print('Rated and Unrated:')\n",
    "display(df_2022_2018_H_distinv.NonCheaterElo.describe().to_frame().T)\n",
    "\n",
    "# # only rated\n",
    "df_2022_2018_H_distinv_rated = df_2022_2018_H_distinv[['rated' in x for x in df_2022_2018_H_distinv.Event]]\n",
    "print('Rated:')\n",
    "display(df_2022_2018_H_distinv.NonCheaterElo.describe().to_frame().T)\n",
    "\n",
    "# # only unrated\n",
    "df_2022_2018_H_distinv_unrated = df_2022_2018_H_distinv[['unrated' in x for x in df_2022_2018_H_distinv.Event]]\n",
    "print('Unrated:')\n",
    "display(df_2022_2018_H_distinv_unrated.NonCheaterElo.describe().to_frame().T)"
   ]
  },
  {
   "cell_type": "code",
   "execution_count": null,
   "id": "8c2c21d7",
   "metadata": {
    "hidden": true
   },
   "outputs": [],
   "source": []
  },
  {
   "cell_type": "code",
   "execution_count": null,
   "id": "e9db1d44",
   "metadata": {
    "ExecuteTime": {
     "end_time": "2022-10-28T12:40:15.469114Z",
     "start_time": "2022-10-28T12:40:15.458115Z"
    },
    "code_folding": [],
    "hidden": true
   },
   "outputs": [],
   "source": [
    "# # cheaters (unrated)\n",
    "# fig = px.histogram(\n",
    "#     data_frame=df_2022_2018_C_distinv_unrated,\n",
    "#     x='CheaterElo',\n",
    "# #     nbins=(int(df_2022_2018_C_distinv_unrated.CheaterElo.describe()['max'] - \\\n",
    "# #           df_2022_2018_C_distinv_unrated.CheaterElo.describe()['min'])),\n",
    "#     title='Distribution of Cheater ELO in Unrated Games'\n",
    "    \n",
    "#     )\n",
    "\n",
    "# fig.show()\n",
    "\n",
    "# # non-cheaters (unrated)\n",
    "# fig = px.histogram(\n",
    "#     data_frame=df_2022_2018_H_distinv_unrated,\n",
    "#     x='NonCheaterElo',\n",
    "# #     nbins=(int(df_2022_2018_H_distinv_unrated.NonCheaterElo.describe()['max'] - \\\n",
    "# #           df_2022_2018_H_distinv_unrated.NonCheaterElo.describe()['min'])),\n",
    "#     title='Distribution of NonCheater ELO in Unrated Games'\n",
    "    \n",
    "#     )\n",
    "\n",
    "# fig.show()"
   ]
  },
  {
   "cell_type": "code",
   "execution_count": null,
   "id": "4e840b4d",
   "metadata": {
    "hidden": true
   },
   "outputs": [],
   "source": []
  },
  {
   "cell_type": "code",
   "execution_count": null,
   "id": "2ea52e6d",
   "metadata": {
    "ExecuteTime": {
     "end_time": "2022-10-28T12:40:16.011160Z",
     "start_time": "2022-10-28T12:40:15.475121Z"
    },
    "hidden": true
   },
   "outputs": [],
   "source": [
    "fig = go.Figure()\n",
    "fig.add_trace(go.Histogram(x=df_2022_2018_C_distinv_rated['CheaterElo'],\n",
    "                          name='Cheater'))\n",
    "fig.add_trace(go.Histogram(x=df_2022_2018_H_distinv_rated['NonCheaterElo'],\n",
    "                          name='Non-cheater'))\n",
    "\n",
    "fig.update_layout(barmode='overlay',\n",
    "                 title=f'Distribution of Cheater and Non-Cheater Elo in Rated Games',\n",
    "                 xaxis_title='Elo',\n",
    "                 yaxis_title='Count')\n",
    "fig.update_traces(opacity=0.75)\n",
    "\n",
    "fig.show()\n",
    "\n",
    "\n",
    "fig = go.Figure()\n",
    "fig.add_trace(go.Histogram(x=df_2022_2018_C_distinv_unrated['CheaterElo'],\n",
    "                          name='Cheater'))\n",
    "fig.add_trace(go.Histogram(x=df_2022_2018_H_distinv_unrated['NonCheaterElo'],\n",
    "                          name='Non-cheater'))\n",
    "\n",
    "fig.update_layout(barmode='overlay',\n",
    "                 title=f'Distribution of Cheater and Non-Cheater Elo in Unrated Games',\n",
    "                 xaxis_title='Elo',\n",
    "                 yaxis_title='Count')\n",
    "fig.update_traces(opacity=0.75)\n",
    "\n",
    "\n",
    "fig.show()"
   ]
  },
  {
   "cell_type": "code",
   "execution_count": null,
   "id": "41e1bf3a",
   "metadata": {
    "ExecuteTime": {
     "end_time": "2022-10-28T12:40:16.027159Z",
     "start_time": "2022-10-28T12:40:16.015116Z"
    },
    "hidden": true
   },
   "outputs": [],
   "source": [
    "# fig = go.Figure()\n",
    "# fig.add_trace(go.Histogram(x=df_2022_2018_C_distinv_unrated['CheaterElo'],\n",
    "#                           name='Cheater'))\n",
    "# fig.add_trace(go.Histogram(x=df_2022_2018_H_distinv_unrated['NonCheaterElo'],\n",
    "#                           name='Non-cheater'))\n",
    "\n",
    "# fig.update_layout(barmode='overlay',\n",
    "#                  title=f'Distribution of Cheater and Non-Cheater Elo in Unrated Games',\n",
    "#                  xaxis_title='Elo',\n",
    "#                  yaxis_title='Count')\n",
    "# fig.update_traces(opacity=0.75)\n",
    "\n",
    "\n",
    "# fig.show()"
   ]
  },
  {
   "cell_type": "markdown",
   "id": "ecd3211e",
   "metadata": {
    "hidden": true
   },
   "source": [
    "Do the above distributions but across different time controls:"
   ]
  },
  {
   "cell_type": "code",
   "execution_count": null,
   "id": "d89e61ca",
   "metadata": {
    "ExecuteTime": {
     "end_time": "2022-10-28T12:40:16.139231Z",
     "start_time": "2022-10-28T12:40:16.035151Z"
    },
    "hidden": true
   },
   "outputs": [],
   "source": [
    "df_2022_2018_C_distinv_rated_standard = df_2022_2018_C_distinv[[\n",
    "    'rated standard' in x for x in df_2022_2018_C_distinv.Event]]"
   ]
  },
  {
   "cell_type": "code",
   "execution_count": null,
   "id": "4e67ea7e",
   "metadata": {
    "ExecuteTime": {
     "end_time": "2022-10-28T12:40:16.187150Z",
     "start_time": "2022-10-28T12:40:16.144116Z"
    },
    "hidden": true
   },
   "outputs": [],
   "source": [
    "df_2022_2018_C_distinv_rated_standard.head(1) # 87758 rows "
   ]
  },
  {
   "cell_type": "code",
   "execution_count": null,
   "id": "8bf5a00b",
   "metadata": {
    "ExecuteTime": {
     "end_time": "2022-10-28T12:40:16.296161Z",
     "start_time": "2022-10-28T12:40:16.191146Z"
    },
    "hidden": true
   },
   "outputs": [],
   "source": [
    "df_2022_2018_C_distinv_rated_blitz = df_2022_2018_C_distinv[[\n",
    "    'rated blitz' in x for x in df_2022_2018_C_distinv.Event]]"
   ]
  },
  {
   "cell_type": "code",
   "execution_count": null,
   "id": "7fc45d9c",
   "metadata": {
    "ExecuteTime": {
     "end_time": "2022-10-28T12:40:16.328149Z",
     "start_time": "2022-10-28T12:40:16.300154Z"
    },
    "hidden": true
   },
   "outputs": [],
   "source": [
    "df_2022_2018_C_distinv_rated_blitz.head(1)"
   ]
  },
  {
   "cell_type": "code",
   "execution_count": null,
   "id": "7b3dc70d",
   "metadata": {
    "hidden": true
   },
   "outputs": [],
   "source": []
  },
  {
   "cell_type": "code",
   "execution_count": null,
   "id": "869f3bda",
   "metadata": {
    "hidden": true
   },
   "outputs": [],
   "source": []
  },
  {
   "cell_type": "markdown",
   "id": "73192f4f",
   "metadata": {
    "heading_collapsed": true,
    "hidden": true
   },
   "source": [
    "##### Grouping by unique cheaters in unrated and rated"
   ]
  },
  {
   "cell_type": "markdown",
   "id": "2d935753",
   "metadata": {
    "hidden": true
   },
   "source": [
    "Grouping by unique cheaters in unrated:"
   ]
  },
  {
   "cell_type": "code",
   "execution_count": null,
   "id": "7ec1d10e",
   "metadata": {
    "ExecuteTime": {
     "end_time": "2022-10-25T20:26:15.086320Z",
     "start_time": "2022-10-25T20:26:15.063406Z"
    },
    "hidden": true
   },
   "outputs": [],
   "source": [
    "df_2022_2018_C_distinv_unrated.head(2)"
   ]
  },
  {
   "cell_type": "code",
   "execution_count": null,
   "id": "67c6c0c9",
   "metadata": {
    "ExecuteTime": {
     "end_time": "2022-10-25T21:07:23.482632Z",
     "start_time": "2022-10-25T21:07:23.447727Z"
    },
    "hidden": true
   },
   "outputs": [],
   "source": [
    "df_2022_2018_C_distinv_unrated[[\n",
    "    'Cheater', 'CheaterElo', 'CheaterRD',\n",
    "    'TimeControl_Base', 'TimeControl_Inc']].groupby(by=[\n",
    "    'Cheater', 'CheaterElo', 'CheaterRD',\n",
    "    'TimeControl_Base', 'TimeControl_Inc']).count()"
   ]
  },
  {
   "cell_type": "code",
   "execution_count": null,
   "id": "4935ef6f",
   "metadata": {
    "ExecuteTime": {
     "end_time": "2022-10-25T21:06:38.865422Z",
     "start_time": "2022-10-25T21:06:38.857448Z"
    },
    "hidden": true
   },
   "outputs": [],
   "source": [
    "df_2022_2018_C_distinv_unrated.Cheater.nunique()"
   ]
  },
  {
   "cell_type": "code",
   "execution_count": null,
   "id": "9635fc8d",
   "metadata": {
    "ExecuteTime": {
     "end_time": "2022-10-25T21:20:02.546778Z",
     "start_time": "2022-10-25T21:20:02.536804Z"
    },
    "hidden": true
   },
   "outputs": [],
   "source": [
    "df_2022_2018_C_distinv_unrated[['Cheater', 'CheaterElo', 'CheaterRD']].groupby(by=[\n",
    "    'Cheater', 'CheaterElo', 'CheaterRD']).value_counts()\n",
    "\n",
    "# df_2022_2018_C_distinv_unrated.value_counts(subset=['Cheater', 'CheaterElo', 'CheaterRD'])"
   ]
  },
  {
   "cell_type": "code",
   "execution_count": null,
   "id": "312f9044",
   "metadata": {
    "ExecuteTime": {
     "end_time": "2022-10-25T21:19:56.275997Z",
     "start_time": "2022-10-25T21:19:56.256464Z"
    },
    "hidden": true
   },
   "outputs": [],
   "source": [
    "df_2022_2018_C_distinv_unrated.value_counts(subset=['Cheater', 'CheaterElo', 'CheaterRD'])"
   ]
  },
  {
   "cell_type": "code",
   "execution_count": null,
   "id": "2ac050b4",
   "metadata": {
    "ExecuteTime": {
     "end_time": "2022-10-25T21:22:01.121897Z",
     "start_time": "2022-10-25T21:22:01.114891Z"
    },
    "hidden": true
   },
   "outputs": [],
   "source": [
    "df_2022_2018_C_distinv_unrated.value_counts(subset=['Cheater', 'CheaterElo'])"
   ]
  },
  {
   "cell_type": "code",
   "execution_count": null,
   "id": "3360f97d",
   "metadata": {
    "ExecuteTime": {
     "end_time": "2022-10-25T21:28:28.776625Z",
     "start_time": "2022-10-25T21:28:28.757676Z"
    },
    "hidden": true
   },
   "outputs": [],
   "source": [
    "df_2022_2018_C_distinv_unrated.value_counts(subset=['Date', 'Cheater', 'CheaterElo']).reset_index()"
   ]
  },
  {
   "cell_type": "code",
   "execution_count": null,
   "id": "cdc5a384",
   "metadata": {
    "ExecuteTime": {
     "end_time": "2022-10-25T21:32:11.877685Z",
     "start_time": "2022-10-25T21:32:11.855740Z"
    },
    "hidden": true
   },
   "outputs": [],
   "source": [
    "df_2022_2018_C_distinv_unrated.value_counts(subset=[\n",
    "    'Date', 'Cheater','CheaterElo']).reset_index().sort_values(by='Date')"
   ]
  },
  {
   "cell_type": "code",
   "execution_count": null,
   "id": "6a3630e9",
   "metadata": {
    "ExecuteTime": {
     "end_time": "2022-10-25T21:30:40.763302Z",
     "start_time": "2022-10-25T21:30:40.748348Z"
    },
    "hidden": true,
    "scrolled": true
   },
   "outputs": [],
   "source": [
    "df_2022_2018_C_distinv_unrated.value_counts(subset=['Cheater']).reset_index()"
   ]
  },
  {
   "cell_type": "code",
   "execution_count": null,
   "id": "81149d7a",
   "metadata": {
    "hidden": true
   },
   "outputs": [],
   "source": []
  },
  {
   "cell_type": "code",
   "execution_count": null,
   "id": "b2ec7b99",
   "metadata": {
    "hidden": true
   },
   "outputs": [],
   "source": []
  },
  {
   "cell_type": "code",
   "execution_count": null,
   "id": "7b72383a",
   "metadata": {
    "hidden": true
   },
   "outputs": [],
   "source": []
  },
  {
   "cell_type": "markdown",
   "id": "9eed72ea",
   "metadata": {
    "hidden": true
   },
   "source": [
    "Grouping by unique cheaters in rated:"
   ]
  },
  {
   "cell_type": "code",
   "execution_count": null,
   "id": "321985fe",
   "metadata": {
    "ExecuteTime": {
     "end_time": "2022-10-25T21:39:11.999891Z",
     "start_time": "2022-10-25T21:39:11.919547Z"
    },
    "hidden": true
   },
   "outputs": [],
   "source": [
    "df_2022_2018_C_distinv_rated.value_counts(subset=[\n",
    "    'Date', 'Cheater','CheaterElo']).reset_index().sort_values(by='Date')"
   ]
  },
  {
   "cell_type": "code",
   "execution_count": null,
   "id": "c1c1f965",
   "metadata": {
    "ExecuteTime": {
     "end_time": "2022-10-25T22:05:28.651909Z",
     "start_time": "2022-10-25T22:05:28.622958Z"
    },
    "hidden": true
   },
   "outputs": [],
   "source": [
    "df_2022_2018_C_distinv_rated.Cheater.value_counts()"
   ]
  },
  {
   "cell_type": "code",
   "execution_count": null,
   "id": "2aaac236",
   "metadata": {
    "ExecuteTime": {
     "end_time": "2022-10-25T22:05:59.442893Z",
     "start_time": "2022-10-25T22:05:59.385020Z"
    },
    "hidden": true
   },
   "outputs": [],
   "source": [
    "df_2022_2018_C_distinv_rated[\n",
    "    df_2022_2018_C_distinv_rated.Cheater=='exeComp'\n",
    "]"
   ]
  },
  {
   "cell_type": "code",
   "execution_count": null,
   "id": "393fadf4",
   "metadata": {
    "hidden": true
   },
   "outputs": [],
   "source": []
  },
  {
   "cell_type": "code",
   "execution_count": null,
   "id": "1fec9b15",
   "metadata": {
    "hidden": true
   },
   "outputs": [],
   "source": []
  },
  {
   "cell_type": "code",
   "execution_count": null,
   "id": "3a250dfc",
   "metadata": {
    "hidden": true
   },
   "outputs": [],
   "source": []
  },
  {
   "cell_type": "code",
   "execution_count": null,
   "id": "3cb1dfed",
   "metadata": {
    "hidden": true
   },
   "outputs": [],
   "source": [
    "# fig = px.histogram(\n",
    "#     data_frame=iris_df,\n",
    "#     x='petal_width',\n",
    "#     nbins=12,\n",
    "#     title='Petal width distribution',\n",
    "#     labels={\n",
    "#         'petal_width': 'Petal width (cm)'\n",
    "#     }\n",
    "#     )\n",
    "\n",
    "\n",
    "\n",
    "# fig.show()"
   ]
  },
  {
   "cell_type": "code",
   "execution_count": null,
   "id": "f2d6d509",
   "metadata": {
    "hidden": true
   },
   "outputs": [],
   "source": []
  },
  {
   "cell_type": "code",
   "execution_count": null,
   "id": "84074f0d",
   "metadata": {
    "hidden": true
   },
   "outputs": [],
   "source": []
  },
  {
   "cell_type": "code",
   "execution_count": null,
   "id": "53475e6d",
   "metadata": {
    "hidden": true
   },
   "outputs": [],
   "source": []
  },
  {
   "cell_type": "code",
   "execution_count": null,
   "id": "b99015e9",
   "metadata": {
    "hidden": true
   },
   "outputs": [],
   "source": []
  },
  {
   "cell_type": "code",
   "execution_count": null,
   "id": "f0abc9d9",
   "metadata": {
    "hidden": true
   },
   "outputs": [],
   "source": [
    "df_2022_2018_C_distinv.CheaterRD.describe()"
   ]
  },
  {
   "cell_type": "code",
   "execution_count": null,
   "id": "d7a86137",
   "metadata": {
    "hidden": true
   },
   "outputs": [],
   "source": [
    "df_2022_2018_H_distinv.NonCheaterRD.describe()"
   ]
  },
  {
   "cell_type": "code",
   "execution_count": null,
   "id": "88e3518b",
   "metadata": {
    "hidden": true
   },
   "outputs": [],
   "source": []
  },
  {
   "cell_type": "code",
   "execution_count": null,
   "id": "1eb1446b",
   "metadata": {
    "hidden": true
   },
   "outputs": [],
   "source": []
  },
  {
   "cell_type": "code",
   "execution_count": null,
   "id": "6d34b090",
   "metadata": {
    "hidden": true
   },
   "outputs": [],
   "source": []
  },
  {
   "cell_type": "code",
   "execution_count": null,
   "id": "3b3bbd0a",
   "metadata": {
    "hidden": true
   },
   "outputs": [],
   "source": []
  },
  {
   "cell_type": "markdown",
   "id": "38d6cf8e",
   "metadata": {
    "heading_collapsed": true
   },
   "source": [
    "#### Looking for the difference in elo between cheater and human:"
   ]
  },
  {
   "cell_type": "code",
   "execution_count": null,
   "id": "40cb533c",
   "metadata": {
    "hidden": true
   },
   "outputs": [],
   "source": [
    "# think about comparing this to the difference in elo between titled players"
   ]
  },
  {
   "cell_type": "code",
   "execution_count": null,
   "id": "bd1df7eb",
   "metadata": {
    "hidden": true
   },
   "outputs": [],
   "source": []
  },
  {
   "cell_type": "code",
   "execution_count": null,
   "id": "800dd256",
   "metadata": {
    "hidden": true
   },
   "outputs": [],
   "source": []
  },
  {
   "cell_type": "code",
   "execution_count": null,
   "id": "2f91c915",
   "metadata": {
    "hidden": true
   },
   "outputs": [],
   "source": []
  },
  {
   "cell_type": "code",
   "execution_count": null,
   "id": "1f600fb3",
   "metadata": {
    "hidden": true
   },
   "outputs": [],
   "source": []
  },
  {
   "cell_type": "code",
   "execution_count": null,
   "id": "9ec6aadb",
   "metadata": {
    "hidden": true
   },
   "outputs": [],
   "source": []
  },
  {
   "cell_type": "code",
   "execution_count": null,
   "id": "6b418740",
   "metadata": {
    "hidden": true
   },
   "outputs": [],
   "source": []
  },
  {
   "cell_type": "code",
   "execution_count": null,
   "id": "a1aa5b35",
   "metadata": {
    "hidden": true
   },
   "outputs": [],
   "source": []
  },
  {
   "cell_type": "markdown",
   "id": "3f3bad14",
   "metadata": {
    "hidden": true
   },
   "source": [
    "------"
   ]
  },
  {
   "cell_type": "markdown",
   "id": "22637f7a",
   "metadata": {},
   "source": [
    "### Looking at Titled HvH games"
   ]
  },
  {
   "cell_type": "markdown",
   "id": "3584b63d",
   "metadata": {},
   "source": [
    "#### Create / Load DataFrame"
   ]
  },
  {
   "cell_type": "code",
   "execution_count": 6,
   "id": "8b0d78be",
   "metadata": {
    "ExecuteTime": {
     "end_time": "2022-10-30T17:04:45.103977Z",
     "start_time": "2022-10-30T17:04:42.040762Z"
    }
   },
   "outputs": [],
   "source": [
    "df_2022_2018_HvH = joblib.load('./data/preprocessed/2021_2017_titled.pkl')"
   ]
  },
  {
   "cell_type": "code",
   "execution_count": 7,
   "id": "bdb843ca",
   "metadata": {
    "ExecuteTime": {
     "end_time": "2022-10-30T17:04:45.135630Z",
     "start_time": "2022-10-30T17:04:45.105844Z"
    }
   },
   "outputs": [
    {
     "data": {
      "text/html": [
       "<div>\n",
       "<style scoped>\n",
       "    .dataframe tbody tr th:only-of-type {\n",
       "        vertical-align: middle;\n",
       "    }\n",
       "\n",
       "    .dataframe tbody tr th {\n",
       "        vertical-align: top;\n",
       "    }\n",
       "\n",
       "    .dataframe thead th {\n",
       "        text-align: right;\n",
       "    }\n",
       "</style>\n",
       "<table border=\"1\" class=\"dataframe\">\n",
       "  <thead>\n",
       "    <tr style=\"text-align: right;\">\n",
       "      <th></th>\n",
       "      <th>BlackElo</th>\n",
       "      <th>BlackRD</th>\n",
       "      <th>ECO</th>\n",
       "      <th>PlyCount</th>\n",
       "      <th>WhiteElo</th>\n",
       "      <th>WhiteRD</th>\n",
       "      <th>emt</th>\n",
       "      <th>moves</th>\n",
       "      <th>WhiteIsComp</th>\n",
       "      <th>BlackIsComp</th>\n",
       "      <th>NoComp</th>\n",
       "      <th>TimeControl_Base</th>\n",
       "      <th>TimeControl_Inc</th>\n",
       "    </tr>\n",
       "  </thead>\n",
       "  <tbody>\n",
       "    <tr>\n",
       "      <th>0</th>\n",
       "      <td>2047</td>\n",
       "      <td>0</td>\n",
       "      <td>A43</td>\n",
       "      <td>22</td>\n",
       "      <td>1778</td>\n",
       "      <td>0</td>\n",
       "      <td>[[%emt 0.0], [%emt 0.0], [%emt 2.894], [%emt 0...</td>\n",
       "      <td>[d4, c5, d5, g6, Nf3, Bg7, e3, Nf6, Be2, O-O, ...</td>\n",
       "      <td>0</td>\n",
       "      <td>0</td>\n",
       "      <td>1</td>\n",
       "      <td>180</td>\n",
       "      <td>0</td>\n",
       "    </tr>\n",
       "  </tbody>\n",
       "</table>\n",
       "</div>"
      ],
      "text/plain": [
       "   BlackElo BlackRD  ECO  PlyCount  WhiteElo WhiteRD  \\\n",
       "0      2047       0  A43        22      1778       0   \n",
       "\n",
       "                                                 emt  \\\n",
       "0  [[%emt 0.0], [%emt 0.0], [%emt 2.894], [%emt 0...   \n",
       "\n",
       "                                               moves  WhiteIsComp  \\\n",
       "0  [d4, c5, d5, g6, Nf3, Bg7, e3, Nf6, Be2, O-O, ...            0   \n",
       "\n",
       "   BlackIsComp  NoComp  TimeControl_Base  TimeControl_Inc  \n",
       "0            0       1               180                0  "
      ]
     },
     "execution_count": 7,
     "metadata": {},
     "output_type": "execute_result"
    }
   ],
   "source": [
    "df_2022_2018_HvH.head(1)"
   ]
  },
  {
   "cell_type": "markdown",
   "id": "4e68200f",
   "metadata": {},
   "source": [
    "This pickle does not contain the player names. I may as well go back and use a df which does contain names to see if there are any additional relationships. "
   ]
  },
  {
   "cell_type": "code",
   "execution_count": null,
   "id": "f2b89df7",
   "metadata": {
    "ExecuteTime": {
     "end_time": "2022-10-26T21:52:30.894205Z",
     "start_time": "2022-10-26T21:52:30.879204Z"
    }
   },
   "outputs": [],
   "source": [
    "# # on Muninn\n",
    "# raw_p = [pd.read_json(\n",
    "#     f'C:/Users/Emanuel/Desktop/data/capstone/raw/json/Titled/ficsgamesdb_{year}_titled_movetimes_26{val}.json') \\\n",
    "#                    for year, val in zip(np.arange(2021, 2016, -1), [4827, 5091, 5092, 5093, 5094])]"
   ]
  },
  {
   "cell_type": "code",
   "execution_count": null,
   "id": "6205238f",
   "metadata": {
    "ExecuteTime": {
     "end_time": "2022-10-26T21:52:30.910204Z",
     "start_time": "2022-10-26T21:52:30.896204Z"
    }
   },
   "outputs": [],
   "source": [
    "# # raw_p[0].head(1)\n",
    "# raw_p[0].columns"
   ]
  },
  {
   "cell_type": "code",
   "execution_count": null,
   "id": "fded398c",
   "metadata": {
    "ExecuteTime": {
     "end_time": "2022-10-26T21:52:30.926204Z",
     "start_time": "2022-10-26T21:52:30.912204Z"
    }
   },
   "outputs": [],
   "source": [
    "# df_2021_2017_HvH_raw = hp.concatenate_cleaned_pickles(\n",
    "#     raw_p, list_of_cols=['Event', 'Site', 'Round', 'BlackClock',\n",
    "#                          'FICSGamesDBGameNo', 'Time', 'WhiteClock'])\n",
    "\n",
    "# # All PlyCount values match the length of moves-list\n",
    "# # Shape pre-drop: (88017, 17)\n",
    "# # Dropping duplicates...\n",
    "# # Shape post-drop: (87982, 17)\n",
    "# #  Duplicates dropped: 35"
   ]
  },
  {
   "cell_type": "code",
   "execution_count": null,
   "id": "d42275c4",
   "metadata": {
    "ExecuteTime": {
     "end_time": "2022-10-26T21:52:30.942204Z",
     "start_time": "2022-10-26T21:52:30.928204Z"
    }
   },
   "outputs": [],
   "source": [
    "# joblib.dump(df_2021_2017_HvH_raw,\n",
    "#            'C:/Users/Emanuel/Desktop/data/capstone/preprocessed/2021_2017_titled_distinv.pkl',\n",
    "#            compress=9)"
   ]
  },
  {
   "cell_type": "code",
   "execution_count": 8,
   "id": "de9fb71e",
   "metadata": {
    "ExecuteTime": {
     "end_time": "2022-10-30T17:04:58.450275Z",
     "start_time": "2022-10-30T17:04:54.810668Z"
    }
   },
   "outputs": [],
   "source": [
    "df_2021_2017_titled_distinv = joblib.load(\n",
    "    './data/preprocessed/2021_2017_titled_distinv.pkl')"
   ]
  },
  {
   "cell_type": "code",
   "execution_count": 9,
   "id": "a734c366",
   "metadata": {
    "ExecuteTime": {
     "end_time": "2022-10-30T17:04:58.481004Z",
     "start_time": "2022-10-30T17:04:58.453018Z"
    }
   },
   "outputs": [
    {
     "data": {
      "text/html": [
       "<div>\n",
       "<style scoped>\n",
       "    .dataframe tbody tr th:only-of-type {\n",
       "        vertical-align: middle;\n",
       "    }\n",
       "\n",
       "    .dataframe tbody tr th {\n",
       "        vertical-align: top;\n",
       "    }\n",
       "\n",
       "    .dataframe thead th {\n",
       "        text-align: right;\n",
       "    }\n",
       "</style>\n",
       "<table border=\"1\" class=\"dataframe\">\n",
       "  <thead>\n",
       "    <tr style=\"text-align: right;\">\n",
       "      <th></th>\n",
       "      <th>Event</th>\n",
       "      <th>Date</th>\n",
       "      <th>White</th>\n",
       "      <th>Black</th>\n",
       "      <th>Result</th>\n",
       "      <th>BlackElo</th>\n",
       "      <th>BlackRD</th>\n",
       "      <th>ECO</th>\n",
       "      <th>PlyCount</th>\n",
       "      <th>WhiteElo</th>\n",
       "      <th>WhiteRD</th>\n",
       "      <th>emt</th>\n",
       "      <th>moves</th>\n",
       "      <th>WhiteIsComp</th>\n",
       "      <th>BlackIsComp</th>\n",
       "      <th>NoComp</th>\n",
       "      <th>TimeControl_Base</th>\n",
       "      <th>TimeControl_Inc</th>\n",
       "    </tr>\n",
       "  </thead>\n",
       "  <tbody>\n",
       "    <tr>\n",
       "      <th>0</th>\n",
       "      <td>FICS rated blitz game</td>\n",
       "      <td>2021-01-03</td>\n",
       "      <td>sviswa</td>\n",
       "      <td>ForgacsJ(FM)</td>\n",
       "      <td>0-1</td>\n",
       "      <td>2047</td>\n",
       "      <td>0</td>\n",
       "      <td>A43</td>\n",
       "      <td>22</td>\n",
       "      <td>1778</td>\n",
       "      <td>0</td>\n",
       "      <td>[[%emt 0.0], [%emt 0.0], [%emt 2.894], [%emt 0...</td>\n",
       "      <td>[d4, c5, d5, g6, Nf3, Bg7, e3, Nf6, Be2, O-O, ...</td>\n",
       "      <td>0</td>\n",
       "      <td>0</td>\n",
       "      <td>1</td>\n",
       "      <td>180</td>\n",
       "      <td>0</td>\n",
       "    </tr>\n",
       "  </tbody>\n",
       "</table>\n",
       "</div>"
      ],
      "text/plain": [
       "                   Event       Date   White         Black Result  BlackElo  \\\n",
       "0  FICS rated blitz game 2021-01-03  sviswa  ForgacsJ(FM)    0-1      2047   \n",
       "\n",
       "  BlackRD  ECO  PlyCount  WhiteElo WhiteRD  \\\n",
       "0       0  A43        22      1778       0   \n",
       "\n",
       "                                                 emt  \\\n",
       "0  [[%emt 0.0], [%emt 0.0], [%emt 2.894], [%emt 0...   \n",
       "\n",
       "                                               moves  WhiteIsComp  \\\n",
       "0  [d4, c5, d5, g6, Nf3, Bg7, e3, Nf6, Be2, O-O, ...            0   \n",
       "\n",
       "   BlackIsComp  NoComp  TimeControl_Base  TimeControl_Inc  \n",
       "0            0       1               180                0  "
      ]
     },
     "execution_count": 9,
     "metadata": {},
     "output_type": "execute_result"
    }
   ],
   "source": [
    "df_2021_2017_titled_distinv.head(1)"
   ]
  },
  {
   "cell_type": "code",
   "execution_count": null,
   "id": "e78d3266",
   "metadata": {
    "ExecuteTime": {
     "end_time": "2022-10-28T12:40:38.241366Z",
     "start_time": "2022-10-28T12:40:38.230365Z"
    }
   },
   "outputs": [],
   "source": [
    "# show distribution for all games, rated, and unrated games"
   ]
  },
  {
   "cell_type": "code",
   "execution_count": null,
   "id": "c42c9206",
   "metadata": {
    "ExecuteTime": {
     "end_time": "2022-10-28T12:40:38.385365Z",
     "start_time": "2022-10-28T12:40:38.247408Z"
    }
   },
   "outputs": [],
   "source": [
    "BlackElo_=df_2021_2017_titled_distinv[['Event', 'Date', 'BlackElo', 'BlackRD']].rename(columns={\n",
    "    'BlackElo': 'Elo',\n",
    "    'BlackRD': 'RD'})\n",
    "WhiteElo_=df_2021_2017_titled_distinv[['Event', 'Date', 'WhiteElo', 'WhiteRD']].rename(columns={\n",
    "    'WhiteElo': 'Elo',\n",
    "    'WhiteRD': 'RD'})\n",
    "\n",
    "Titled_Elos = pd.concat([BlackElo_, WhiteElo_]).reset_index()\n",
    "\n",
    "Titled_Elos.head()"
   ]
  },
  {
   "cell_type": "code",
   "execution_count": null,
   "id": "be7369a2",
   "metadata": {
    "ExecuteTime": {
     "end_time": "2022-10-28T12:40:38.764583Z",
     "start_time": "2022-10-28T12:40:38.391367Z"
    }
   },
   "outputs": [],
   "source": [
    "# fig = px.histogram(\n",
    "#     data_frame=Titled_Elos,\n",
    "#     x='Elo',\n",
    "#     nbins=(int(Titled_Elos.Elo.describe()['max'] - \\\n",
    "#           Titled_Elos.Elo.describe()['min'])),\n",
    "#     title='Distribution of Titled PLayer ELO'\n",
    "    \n",
    "#     )\n",
    "\n",
    "# fig.show()\n",
    "\n",
    "fig = px.histogram(\n",
    "    data_frame=Titled_Elos,\n",
    "    x='Elo',\n",
    "#     nbins=(int(Titled_Elos.Elo.describe()['max'] - \\\n",
    "#           Titled_Elos.Elo.describe()['min'])),\n",
    "    title='Distribution of Titled PLayer ELO'\n",
    "    \n",
    "    )\n",
    "\n",
    "fig.show()"
   ]
  },
  {
   "cell_type": "code",
   "execution_count": null,
   "id": "36b750b9",
   "metadata": {},
   "outputs": [],
   "source": []
  },
  {
   "cell_type": "code",
   "execution_count": null,
   "id": "425c792b",
   "metadata": {},
   "outputs": [],
   "source": []
  },
  {
   "cell_type": "code",
   "execution_count": null,
   "id": "3da57fea",
   "metadata": {
    "ExecuteTime": {
     "end_time": "2022-10-26T21:52:47.561675Z",
     "start_time": "2022-10-26T21:52:47.546742Z"
    }
   },
   "outputs": [],
   "source": [
    "# calculate the difference in elos across opponents for rated and unrated games"
   ]
  },
  {
   "cell_type": "code",
   "execution_count": null,
   "id": "e37895ce",
   "metadata": {
    "ExecuteTime": {
     "end_time": "2022-10-28T12:40:39.461600Z",
     "start_time": "2022-10-28T12:40:38.769587Z"
    }
   },
   "outputs": [],
   "source": [
    "fig = px.histogram(\n",
    "    data_frame=Titled_Elos[['rated' in event for event in Titled_Elos.Event]],\n",
    "    x='Elo',\n",
    "#     nbins=(int(Titled_Elos.Elo.describe()['max'] - \\\n",
    "#           Titled_Elos.Elo.describe()['min'])),\n",
    "    title='Distribution of Titled PLayer ELO in Rated Games'\n",
    "    \n",
    "    )\n",
    "\n",
    "fig.show()\n",
    "\n",
    "fig = px.histogram(\n",
    "    data_frame=Titled_Elos[['unrated' in event for event in Titled_Elos.Event]],\n",
    "    x='Elo',\n",
    "#     nbins=(int(Titled_Elos.Elo.describe()['max'] - \\\n",
    "#           Titled_Elos.Elo.describe()['min'])),\n",
    "    title='Distribution of Titled PLayer ELO in Unrated Games'\n",
    "    \n",
    "    )\n",
    "\n",
    "fig.show()"
   ]
  },
  {
   "cell_type": "code",
   "execution_count": null,
   "id": "9c03a230",
   "metadata": {},
   "outputs": [],
   "source": []
  },
  {
   "cell_type": "code",
   "execution_count": null,
   "id": "dc663500",
   "metadata": {},
   "outputs": [],
   "source": []
  },
  {
   "cell_type": "code",
   "execution_count": null,
   "id": "80d2341b",
   "metadata": {},
   "outputs": [],
   "source": []
  },
  {
   "cell_type": "code",
   "execution_count": null,
   "id": "f4c16151",
   "metadata": {},
   "outputs": [],
   "source": []
  },
  {
   "cell_type": "markdown",
   "id": "74be5a01",
   "metadata": {},
   "source": [
    "----"
   ]
  },
  {
   "cell_type": "markdown",
   "id": "38d43ad6",
   "metadata": {
    "heading_collapsed": true
   },
   "source": [
    "## Checking PlyCount Matches Length of moves"
   ]
  },
  {
   "cell_type": "code",
   "execution_count": null,
   "id": "6290d814",
   "metadata": {
    "hidden": true
   },
   "outputs": [],
   "source": [
    "# Using df_2022_2018_CvH_distinv for now:"
   ]
  },
  {
   "cell_type": "code",
   "execution_count": null,
   "id": "02347bab",
   "metadata": {
    "ExecuteTime": {
     "end_time": "2022-10-24T15:20:51.530108Z",
     "start_time": "2022-10-24T15:20:40.012445Z"
    },
    "hidden": true
   },
   "outputs": [],
   "source": [
    "df_2022_2018_CvH_distinv = joblib.load(\n",
    "    './data/preprocessed/2022_2018_CvH_distinv.pkl')"
   ]
  },
  {
   "cell_type": "code",
   "execution_count": null,
   "id": "aa67d8bc",
   "metadata": {
    "ExecuteTime": {
     "end_time": "2022-10-24T15:21:09.028162Z",
     "start_time": "2022-10-24T15:21:08.985161Z"
    },
    "hidden": true
   },
   "outputs": [],
   "source": [
    "df_2022_2018_CvH_distinv.head(1)"
   ]
  },
  {
   "cell_type": "code",
   "execution_count": null,
   "id": "f7b9b32a",
   "metadata": {
    "ExecuteTime": {
     "end_time": "2022-10-24T15:45:04.093324Z",
     "start_time": "2022-10-24T15:45:04.073351Z"
    },
    "hidden": true
   },
   "outputs": [],
   "source": [
    "type(df_2022_2018_CvH_distinv.iloc[0].moves) # list !!!\n",
    "# len(df_2022_2018_CvH_distinv.iloc[0].moves)"
   ]
  },
  {
   "cell_type": "code",
   "execution_count": null,
   "id": "95611b46",
   "metadata": {
    "ExecuteTime": {
     "end_time": "2022-10-24T16:37:51.109518Z",
     "start_time": "2022-10-24T16:37:51.019435Z"
    },
    "hidden": true
   },
   "outputs": [],
   "source": [
    "# list comprehension to check for each row\n",
    "\n",
    "# fastest method found in testing\n",
    "\n",
    "ply_movelen_check_list = all(\n",
    "    [len(row[0])==row[1] for row in zip(\n",
    "        df_2022_2018_CvH_distinv.moves, df_2022_2018_CvH_distinv.PlyCount)])\n",
    "ply_movelen_check_list"
   ]
  },
  {
   "cell_type": "code",
   "execution_count": null,
   "id": "142c7a1b",
   "metadata": {
    "hidden": true
   },
   "outputs": [],
   "source": []
  },
  {
   "cell_type": "code",
   "execution_count": null,
   "id": "896f19e1",
   "metadata": {
    "hidden": true
   },
   "outputs": [],
   "source": []
  },
  {
   "cell_type": "code",
   "execution_count": null,
   "id": "8e18fd23",
   "metadata": {
    "hidden": true
   },
   "outputs": [],
   "source": []
  },
  {
   "cell_type": "markdown",
   "id": "2cb5f203",
   "metadata": {
    "hidden": true
   },
   "source": [
    "----"
   ]
  },
  {
   "cell_type": "code",
   "execution_count": null,
   "id": "e9352937",
   "metadata": {
    "hidden": true
   },
   "outputs": [],
   "source": []
  },
  {
   "cell_type": "code",
   "execution_count": null,
   "id": "dccb2c11",
   "metadata": {
    "hidden": true
   },
   "outputs": [],
   "source": []
  },
  {
   "cell_type": "markdown",
   "id": "4eccdba3",
   "metadata": {
    "hidden": true
   },
   "source": [
    "-----"
   ]
  },
  {
   "cell_type": "markdown",
   "id": "87c3bfc2",
   "metadata": {
    "heading_collapsed": true
   },
   "source": [
    "## Getting Stockfish "
   ]
  },
  {
   "cell_type": "code",
   "execution_count": null,
   "id": "0e10f460",
   "metadata": {
    "ExecuteTime": {
     "end_time": "2022-10-30T03:07:10.911984Z",
     "start_time": "2022-10-30T03:07:06.023740Z"
    },
    "hidden": true
   },
   "outputs": [],
   "source": [
    "# df with event info to separate rated and unrated\n",
    "\n",
    "df_2022_2018_CvH_distinv = joblib.load(\n",
    "    './data/preprocessed/2022_2018_CvH_distinv_withevent.pkl')"
   ]
  },
  {
   "cell_type": "code",
   "execution_count": null,
   "id": "3496d23e",
   "metadata": {
    "hidden": true
   },
   "outputs": [],
   "source": []
  },
  {
   "cell_type": "code",
   "execution_count": null,
   "id": "b22004a5",
   "metadata": {
    "hidden": true
   },
   "outputs": [],
   "source": [
    "# starting with multi-pv, then do single-pv, \n",
    "\n",
    "# Muninn has 8 cores => set threads to 4\n",
    "# Vostro has ..."
   ]
  },
  {
   "cell_type": "code",
   "execution_count": null,
   "id": "d148d2e0",
   "metadata": {
    "ExecuteTime": {
     "end_time": "2022-10-30T03:07:52.346850Z",
     "start_time": "2022-10-30T03:07:51.295500Z"
    },
    "hidden": true
   },
   "outputs": [],
   "source": [
    "sf_ = Stockfish(path='./stockfish_15_win_x64_ssse/stockfish_15_x64_ssse.exe',\n",
    "        depth=20,\n",
    "        parameters={\n",
    "            \"Threads\": 7,\n",
    "            \"Hash\": 4096,\n",
    "            \"MultiPV\": 1,\n",
    "            \"Skill Level\": 20        \n",
    "            \n",
    "            }\n",
    "        )"
   ]
  },
  {
   "cell_type": "code",
   "execution_count": null,
   "id": "bfa55de2",
   "metadata": {
    "hidden": true
   },
   "outputs": [],
   "source": [
    "# sf_ = Stockfish(path='./stockfish_15_win_x64_ssse/stockfish_15_x64_ssse.exe',\n",
    "#         depth=20,\n",
    "#         parameters={\n",
    "#             \"Threads\": 1,\n",
    "#             \"Hash\": 1024,\n",
    "#             \"MultiPV\": 5,\n",
    "#             \"Skill Level\": 20        \n",
    "            \n",
    "#             }\n",
    "#         )"
   ]
  },
  {
   "cell_type": "code",
   "execution_count": 238,
   "id": "e60b548b",
   "metadata": {
    "ExecuteTime": {
     "end_time": "2022-10-30T23:29:06.596542Z",
     "start_time": "2022-10-30T23:29:05.775140Z"
    },
    "hidden": true
   },
   "outputs": [],
   "source": [
    "# sf_ = Stockfish(path='./stockfish_15_win_x64_ssse/stockfish_15_x64_ssse.exe',\n",
    "#         depth=5,\n",
    "#         parameters={\n",
    "#             \"Threads\": 4,\n",
    "#             \"Hash\": 1024,\n",
    "#             \"MultiPV\": 1,\n",
    "#             \"Skill Level\": 20        \n",
    "            \n",
    "#             }\n",
    "#         )"
   ]
  },
  {
   "cell_type": "code",
   "execution_count": null,
   "id": "11f3073f",
   "metadata": {
    "ExecuteTime": {
     "end_time": "2022-10-29T22:08:40.319473Z",
     "start_time": "2022-10-29T22:08:40.311497Z"
    },
    "hidden": true
   },
   "outputs": [],
   "source": [
    "# sf.update_engine_parameters()"
   ]
  },
  {
   "cell_type": "code",
   "execution_count": null,
   "id": "6f358696",
   "metadata": {
    "ExecuteTime": {
     "end_time": "2022-10-29T22:08:40.600751Z",
     "start_time": "2022-10-29T22:08:40.582790Z"
    },
    "hidden": true
   },
   "outputs": [],
   "source": [
    "# chess.engine.SimpleEngine.popen_uci()"
   ]
  },
  {
   "cell_type": "code",
   "execution_count": null,
   "id": "e2b3a703",
   "metadata": {
    "ExecuteTime": {
     "end_time": "2022-10-29T22:08:43.840197Z",
     "start_time": "2022-10-29T22:08:43.830221Z"
    },
    "hidden": true
   },
   "outputs": [],
   "source": [
    "eval_ = sf_.get_evaluation()\n",
    "eval_"
   ]
  },
  {
   "cell_type": "code",
   "execution_count": null,
   "id": "16b76b18",
   "metadata": {
    "ExecuteTime": {
     "end_time": "2022-10-29T22:07:21.883225Z",
     "start_time": "2022-10-29T22:07:21.872227Z"
    },
    "hidden": true
   },
   "outputs": [],
   "source": [
    "# eval_5 = sf_.get_evaluation()\n",
    "# eval_5 # {'type': 'cp', 'value': 19}"
   ]
  },
  {
   "cell_type": "code",
   "execution_count": null,
   "id": "cb8e2aca",
   "metadata": {
    "ExecuteTime": {
     "end_time": "2022-10-29T22:08:53.603327Z",
     "start_time": "2022-10-29T22:08:52.590538Z"
    },
    "hidden": true
   },
   "outputs": [],
   "source": [
    "best_move_timed = sf_.get_best_move_time()\n",
    "best_move_timed\n",
    "# Time for stockfish to determine best move in milliseconds (int)"
   ]
  },
  {
   "cell_type": "code",
   "execution_count": null,
   "id": "ed639e44",
   "metadata": {
    "ExecuteTime": {
     "end_time": "2022-10-29T22:06:19.021545Z",
     "start_time": "2022-10-29T22:06:18.013775Z"
    },
    "hidden": true
   },
   "outputs": [],
   "source": [
    "# best_move_timed_5 = sf_.get_best_move_time()\n",
    "# best_move_timed_5 # 'd2d4'\n",
    "# # Time for stockfish to determine best move in milliseconds (int)"
   ]
  },
  {
   "cell_type": "code",
   "execution_count": null,
   "id": "bee49abd",
   "metadata": {
    "ExecuteTime": {
     "end_time": "2022-10-29T22:59:59.971411Z",
     "start_time": "2022-10-29T22:59:59.961412Z"
    },
    "hidden": true
   },
   "outputs": [],
   "source": [
    "best_move_ = sf_.get_best_move()\n",
    "best_move_"
   ]
  },
  {
   "cell_type": "code",
   "execution_count": null,
   "id": "949c070f",
   "metadata": {
    "ExecuteTime": {
     "end_time": "2022-10-29T22:16:49.196029Z",
     "start_time": "2022-10-29T22:16:49.190043Z"
    },
    "hidden": true
   },
   "outputs": [],
   "source": [
    "# best_move_5 = sf_.get_best_move()\n",
    "# best_move_5 # 'c2c4'"
   ]
  },
  {
   "cell_type": "code",
   "execution_count": null,
   "id": "c0e1c0b7",
   "metadata": {
    "ExecuteTime": {
     "end_time": "2022-10-29T23:00:02.958952Z",
     "start_time": "2022-10-29T23:00:02.948954Z"
    },
    "hidden": true
   },
   "outputs": [],
   "source": [
    "top_moves_ = sf_.get_top_moves()\n",
    "top_moves_"
   ]
  },
  {
   "cell_type": "code",
   "execution_count": null,
   "id": "6fa8feec",
   "metadata": {
    "ExecuteTime": {
     "end_time": "2022-10-29T22:09:14.204148Z",
     "start_time": "2022-10-29T22:09:14.186193Z"
    },
    "hidden": true
   },
   "outputs": [],
   "source": [
    "# top_moves_5 = sf_.get_top_moves()\n",
    "# top_moves_5\n",
    "# [{'Move': 'e2e4', 'Centipawn': 50, 'Mate': None},\n",
    "#  {'Move': 'g1f3', 'Centipawn': 50, 'Mate': None},\n",
    "#  {'Move': 'd2d4', 'Centipawn': 45, 'Mate': None},\n",
    "#  {'Move': 'c2c4', 'Centipawn': 34, 'Mate': None},\n",
    "#  {'Move': 'g2g3', 'Centipawn': 21, 'Mate': None}]"
   ]
  },
  {
   "cell_type": "code",
   "execution_count": null,
   "id": "12e52819",
   "metadata": {
    "ExecuteTime": {
     "end_time": "2022-10-23T21:04:16.108413Z",
     "start_time": "2022-10-23T21:04:16.101415Z"
    },
    "hidden": true
   },
   "outputs": [],
   "source": [
    "# sf_.get_fen_position()\n",
    "# sf_.get_parameters()\n",
    "# sf_.info;"
   ]
  },
  {
   "cell_type": "code",
   "execution_count": null,
   "id": "72bd284d",
   "metadata": {
    "ExecuteTime": {
     "end_time": "2022-10-29T22:14:47.931947Z",
     "start_time": "2022-10-29T22:14:47.922969Z"
    },
    "hidden": true
   },
   "outputs": [],
   "source": [
    "display(type(eval_)) # dict\n",
    "display(type(best_move_timed)) # str\n",
    "display(type(best_move_)) # str\n",
    "display(type(top_moves_)) # list"
   ]
  },
  {
   "cell_type": "code",
   "execution_count": null,
   "id": "341a0b2c",
   "metadata": {
    "hidden": true
   },
   "outputs": [],
   "source": []
  },
  {
   "cell_type": "code",
   "execution_count": null,
   "id": "95bc2323",
   "metadata": {
    "hidden": true
   },
   "outputs": [],
   "source": []
  },
  {
   "cell_type": "markdown",
   "id": "8d96b386",
   "metadata": {
    "hidden": true
   },
   "source": [
    "----"
   ]
  },
  {
   "cell_type": "code",
   "execution_count": null,
   "id": "f065a865",
   "metadata": {
    "ExecuteTime": {
     "end_time": "2022-10-23T20:58:46.427351Z",
     "start_time": "2022-10-23T20:58:43.025153Z"
    },
    "hidden": true
   },
   "outputs": [],
   "source": [
    "# sf_pv1 = Stockfish(path='./stockfish_15_win_x64_ssse/stockfish_15_x64_ssse.exe',\n",
    "#         depth=20,\n",
    "#         parameters={\n",
    "#             \"Threads\": 4,\n",
    "#             \"Hash\": 4096,\n",
    "#             \"MultiPV\": 1,\n",
    "#             \"Skill Level\": 20        \n",
    "            \n",
    "#             }\n",
    "#         )"
   ]
  },
  {
   "cell_type": "code",
   "execution_count": null,
   "id": "3a5f36e6",
   "metadata": {
    "ExecuteTime": {
     "end_time": "2022-10-29T22:04:16.791613Z",
     "start_time": "2022-10-29T22:04:16.775651Z"
    },
    "hidden": true
   },
   "outputs": [],
   "source": [
    "# sf_pv1.get_best_move()"
   ]
  },
  {
   "cell_type": "code",
   "execution_count": null,
   "id": "429e736a",
   "metadata": {
    "ExecuteTime": {
     "end_time": "2022-10-29T22:04:18.476804Z",
     "start_time": "2022-10-29T22:04:18.462834Z"
    },
    "hidden": true
   },
   "outputs": [],
   "source": [
    "# sf_pv1.get_top_moves()"
   ]
  },
  {
   "cell_type": "code",
   "execution_count": null,
   "id": "23a69778",
   "metadata": {
    "ExecuteTime": {
     "end_time": "2022-10-29T22:04:20.702365Z",
     "start_time": "2022-10-29T22:04:20.694385Z"
    },
    "hidden": true
   },
   "outputs": [],
   "source": [
    "# sf_pv1.get_evaluation()"
   ]
  },
  {
   "cell_type": "code",
   "execution_count": null,
   "id": "e4dbfaa6",
   "metadata": {
    "ExecuteTime": {
     "end_time": "2022-10-29T22:04:21.846595Z",
     "start_time": "2022-10-29T22:04:21.837621Z"
    },
    "hidden": true
   },
   "outputs": [],
   "source": [
    "# sf_pv1.info;"
   ]
  },
  {
   "cell_type": "code",
   "execution_count": null,
   "id": "3e5bf100",
   "metadata": {
    "ExecuteTime": {
     "end_time": "2022-10-23T21:09:34.262817Z",
     "start_time": "2022-10-23T21:09:34.251855Z"
    },
    "hidden": true
   },
   "outputs": [],
   "source": [
    "# sf_pv1.make_moves_from_current_position()"
   ]
  },
  {
   "cell_type": "code",
   "execution_count": null,
   "id": "4bc5663c",
   "metadata": {
    "ExecuteTime": {
     "end_time": "2022-10-23T21:23:56.623141Z",
     "start_time": "2022-10-23T21:23:56.608118Z"
    },
    "hidden": true
   },
   "outputs": [],
   "source": [
    "# As far as I know here on lichess it is pure mathematics:\n",
    "\n",
    "# inacc. = 0.5-1 deviation (EngineProposal-Your move)\n",
    "# mistake = 1-2 deviation\n",
    "# blunder > 2 deviation\n",
    "\n",
    "# (you'll find the exact values somewhere in the forum or the FAQ)"
   ]
  },
  {
   "cell_type": "code",
   "execution_count": null,
   "id": "b43e8fad",
   "metadata": {
    "ExecuteTime": {
     "end_time": "2022-10-29T22:04:25.080558Z",
     "start_time": "2022-10-29T22:04:25.069584Z"
    },
    "hidden": true
   },
   "outputs": [],
   "source": [
    "# sf_pv1."
   ]
  },
  {
   "cell_type": "markdown",
   "id": "0239585e",
   "metadata": {
    "hidden": true
   },
   "source": [
    "-----"
   ]
  },
  {
   "cell_type": "code",
   "execution_count": null,
   "id": "9d26d200",
   "metadata": {
    "ExecuteTime": {
     "end_time": "2022-10-29T21:47:00.886719Z",
     "start_time": "2022-10-29T21:46:57.834302Z"
    },
    "hidden": true
   },
   "outputs": [],
   "source": [
    "sample = joblib.load('./data/raw/pickles/2018_CvH.pkl')"
   ]
  },
  {
   "cell_type": "code",
   "execution_count": null,
   "id": "a9c911dc",
   "metadata": {
    "ExecuteTime": {
     "end_time": "2022-10-29T21:47:00.917492Z",
     "start_time": "2022-10-29T21:47:00.887717Z"
    },
    "hidden": true
   },
   "outputs": [],
   "source": [
    "sample.head(1)"
   ]
  },
  {
   "cell_type": "code",
   "execution_count": null,
   "id": "e2e43dee",
   "metadata": {
    "ExecuteTime": {
     "end_time": "2022-10-29T23:01:14.134140Z",
     "start_time": "2022-10-29T23:01:14.124165Z"
    },
    "hidden": true
   },
   "outputs": [],
   "source": [
    "zipped_games_moves = zip(sample.moves)"
   ]
  },
  {
   "cell_type": "code",
   "execution_count": null,
   "id": "ca9404b4",
   "metadata": {
    "ExecuteTime": {
     "end_time": "2022-10-30T00:01:36.014257Z",
     "start_time": "2022-10-30T00:01:35.996307Z"
    },
    "hidden": true
   },
   "outputs": [],
   "source": [
    "next(zipped_games_moves)[0][0]"
   ]
  },
  {
   "cell_type": "code",
   "execution_count": null,
   "id": "97397825",
   "metadata": {
    "ExecuteTime": {
     "end_time": "2022-10-29T23:58:18.634491Z",
     "start_time": "2022-10-29T23:58:18.630501Z"
    },
    "hidden": true
   },
   "outputs": [],
   "source": [
    "type(next(zipped_games_moves)[0]) # list"
   ]
  },
  {
   "cell_type": "code",
   "execution_count": null,
   "id": "a0411880",
   "metadata": {
    "ExecuteTime": {
     "end_time": "2022-10-30T00:02:39.740691Z",
     "start_time": "2022-10-30T00:02:39.732715Z"
    },
    "hidden": true,
    "scrolled": true
   },
   "outputs": [],
   "source": [
    "next(zipped_games_moves)[0]"
   ]
  },
  {
   "cell_type": "code",
   "execution_count": null,
   "id": "d31b28bb",
   "metadata": {
    "ExecuteTime": {
     "end_time": "2022-10-30T02:27:07.532989Z",
     "start_time": "2022-10-30T02:27:07.526009Z"
    },
    "hidden": true
   },
   "outputs": [],
   "source": [
    "next_game = next(zipped_games_moves)[0]"
   ]
  },
  {
   "cell_type": "code",
   "execution_count": null,
   "id": "4ff9e003",
   "metadata": {
    "ExecuteTime": {
     "end_time": "2022-10-30T02:27:08.191258Z",
     "start_time": "2022-10-30T02:27:08.176271Z"
    },
    "hidden": true,
    "scrolled": true
   },
   "outputs": [],
   "source": [
    "next_game"
   ]
  },
  {
   "cell_type": "code",
   "execution_count": null,
   "id": "a5e62c9a",
   "metadata": {
    "ExecuteTime": {
     "end_time": "2022-10-30T01:21:50.749435Z",
     "start_time": "2022-10-30T01:21:50.736470Z"
    },
    "hidden": true
   },
   "outputs": [],
   "source": [
    "next_game[0]"
   ]
  },
  {
   "cell_type": "code",
   "execution_count": null,
   "id": "fa0e6c63",
   "metadata": {
    "ExecuteTime": {
     "end_time": "2022-10-30T01:17:50.519591Z",
     "start_time": "2022-10-30T01:17:50.391931Z"
    },
    "hidden": true
   },
   "outputs": [],
   "source": [
    "sf_.set_position()"
   ]
  },
  {
   "cell_type": "code",
   "execution_count": null,
   "id": "954ff3f5",
   "metadata": {
    "ExecuteTime": {
     "end_time": "2022-10-30T01:17:53.441947Z",
     "start_time": "2022-10-30T01:17:53.435963Z"
    },
    "hidden": true
   },
   "outputs": [],
   "source": [
    "board=chess.Board()"
   ]
  },
  {
   "cell_type": "code",
   "execution_count": null,
   "id": "946c5809",
   "metadata": {
    "ExecuteTime": {
     "end_time": "2022-10-30T01:18:04.639869Z",
     "start_time": "2022-10-30T01:18:04.633884Z"
    },
    "hidden": true
   },
   "outputs": [],
   "source": [
    "test__ = board.push_san(next_game[0])"
   ]
  },
  {
   "cell_type": "code",
   "execution_count": null,
   "id": "8eda03fd",
   "metadata": {
    "ExecuteTime": {
     "end_time": "2022-10-30T01:18:05.965891Z",
     "start_time": "2022-10-30T01:18:05.952898Z"
    },
    "hidden": true
   },
   "outputs": [],
   "source": [
    "test__.uci()"
   ]
  },
  {
   "cell_type": "code",
   "execution_count": null,
   "id": "5e4c8eb2",
   "metadata": {
    "ExecuteTime": {
     "end_time": "2022-10-30T01:18:09.521234Z",
     "start_time": "2022-10-30T01:18:09.506242Z"
    },
    "hidden": true
   },
   "outputs": [],
   "source": [
    "sf_.make_moves_from_current_position([test__.uci()])"
   ]
  },
  {
   "cell_type": "code",
   "execution_count": null,
   "id": "f29288a4",
   "metadata": {
    "ExecuteTime": {
     "end_time": "2022-10-30T01:18:10.904199Z",
     "start_time": "2022-10-30T01:18:10.891206Z"
    },
    "hidden": true
   },
   "outputs": [],
   "source": [
    "sf_.get_fen_position()"
   ]
  },
  {
   "cell_type": "code",
   "execution_count": null,
   "id": "5ec860ed",
   "metadata": {
    "ExecuteTime": {
     "end_time": "2022-10-30T01:18:40.018073Z",
     "start_time": "2022-10-30T01:18:39.998099Z"
    },
    "hidden": true
   },
   "outputs": [],
   "source": [
    "top_moves_ = sf_.get_top_moves()\n",
    "top_moves_"
   ]
  },
  {
   "cell_type": "code",
   "execution_count": null,
   "id": "7671dea1",
   "metadata": {
    "hidden": true
   },
   "outputs": [],
   "source": []
  },
  {
   "cell_type": "code",
   "execution_count": null,
   "id": "112a2836",
   "metadata": {
    "ExecuteTime": {
     "end_time": "2022-10-29T21:47:36.174896Z",
     "start_time": "2022-10-29T21:47:36.161931Z"
    },
    "hidden": true
   },
   "outputs": [],
   "source": [
    "# For each game, \n",
    "\n",
    "# # For each position,\n",
    "\n",
    "# # # Get the best 5 moves as a list, append to a list "
   ]
  },
  {
   "cell_type": "code",
   "execution_count": 7,
   "id": "082d07ae",
   "metadata": {
    "ExecuteTime": {
     "end_time": "2022-10-30T03:13:05.589922Z",
     "start_time": "2022-10-30T03:13:05.578924Z"
    },
    "hidden": true
   },
   "outputs": [],
   "source": [
    "# # Loop for moves in a single game\n",
    "# evaluations_ = []\n",
    "# sf_.set_position()\n",
    "# board=chess.Board()\n",
    "# for move in next_game:\n",
    "#     evalution_ = sf_.get_top_moves()\n",
    "#     move_ = board.push_san(move)\n",
    "#     sf_.make_moves_from_current_position([move_])\n",
    "    \n",
    "#     evaluations_.append(evalution_)\n",
    "    \n",
    "    "
   ]
  },
  {
   "cell_type": "code",
   "execution_count": 237,
   "id": "4e49b61d",
   "metadata": {
    "ExecuteTime": {
     "end_time": "2022-10-30T23:28:45.092125Z",
     "start_time": "2022-10-30T23:28:45.086157Z"
    },
    "hidden": true
   },
   "outputs": [],
   "source": [
    "# def get_evaluations(game):\n",
    "#     # Loop for moves in a single game\n",
    "#     evaluations_ = []\n",
    "#     sf_.set_position()\n",
    "#     board=chess.Board()\n",
    "#     for move in game:\n",
    "#         evalution_ = sf_.get_top_moves()\n",
    "#         move_ = board.push_san(move)\n",
    "#         sf_.make_moves_from_current_position([move_])\n",
    "\n",
    "#         evaluations_.append(evalution_)\n",
    "#     return evaluations_\n",
    "    \n",
    "    "
   ]
  },
  {
   "cell_type": "code",
   "execution_count": null,
   "id": "81cbd5b9",
   "metadata": {
    "ExecuteTime": {
     "end_time": "2022-10-30T03:12:58.423068Z",
     "start_time": "2022-10-30T03:12:58.423068Z"
    },
    "hidden": true
   },
   "outputs": [],
   "source": [
    "evaluations_test = get_evaluations(next_game)"
   ]
  },
  {
   "cell_type": "code",
   "execution_count": null,
   "id": "b72d40f2",
   "metadata": {
    "ExecuteTime": {
     "end_time": "2022-10-30T02:29:00.209532Z",
     "start_time": "2022-10-30T02:29:00.198562Z"
    },
    "hidden": true
   },
   "outputs": [],
   "source": [
    "evaluations_test;"
   ]
  },
  {
   "cell_type": "code",
   "execution_count": null,
   "id": "b5634986",
   "metadata": {
    "ExecuteTime": {
     "end_time": "2022-10-30T02:42:40.537728Z",
     "start_time": "2022-10-30T02:42:40.525732Z"
    },
    "hidden": true
   },
   "outputs": [],
   "source": [
    "# type(evaluations_test) # list"
   ]
  },
  {
   "cell_type": "code",
   "execution_count": null,
   "id": "176dd582",
   "metadata": {
    "ExecuteTime": {
     "end_time": "2022-10-30T02:42:23.623540Z",
     "start_time": "2022-10-30T02:42:23.605588Z"
    },
    "hidden": true,
    "scrolled": true
   },
   "outputs": [],
   "source": [
    "# len(evaluations_test) # 19\n",
    "\n",
    "# len(next_game) # 19\n",
    "\n",
    "# sys.getsizeof(evaluations_) # 248\n",
    "\n",
    "# sys.getsizeof(evaluations_test) # 248\n",
    "\n",
    "# sys.getsizeof(next_game) # 216\n",
    "\n",
    "# sys.getsizeof(df_2022_2018_CvH_distinv) # 290903604\n",
    "\n",
    "# sys.getsizeof(df_2022_2018_CvH_distinv.moves) # 106755928\n",
    "\n",
    "# sys.getsizeof(np.uint8(0)) # 25\n",
    "\n",
    "# sys.getsizeof(np.int8(0)) # 25\n",
    "\n",
    "# sys.getsizeof(1) # 25"
   ]
  },
  {
   "cell_type": "code",
   "execution_count": null,
   "id": "d32b8cec",
   "metadata": {
    "ExecuteTime": {
     "end_time": "2022-10-30T02:56:54.112795Z",
     "start_time": "2022-10-30T02:56:52.037986Z"
    },
    "hidden": true
   },
   "outputs": [],
   "source": [
    "testing = [get_evaluations(game[0]) for game in zip(sample.iloc[0:10].moves)]"
   ]
  },
  {
   "cell_type": "code",
   "execution_count": null,
   "id": "ae45c133",
   "metadata": {
    "ExecuteTime": {
     "end_time": "2022-10-30T02:57:15.077488Z",
     "start_time": "2022-10-30T02:57:15.065492Z"
    },
    "hidden": true
   },
   "outputs": [],
   "source": [
    "len(testing) # 10"
   ]
  },
  {
   "cell_type": "code",
   "execution_count": null,
   "id": "5d40332d",
   "metadata": {
    "ExecuteTime": {
     "end_time": "2022-10-30T03:03:01.653080Z",
     "start_time": "2022-10-30T03:03:01.636152Z"
    },
    "hidden": true
   },
   "outputs": [],
   "source": [
    "sys.getsizeof(testing) #184"
   ]
  },
  {
   "cell_type": "code",
   "execution_count": null,
   "id": "ac9991cd",
   "metadata": {
    "ExecuteTime": {
     "end_time": "2022-10-30T03:02:56.950237Z",
     "start_time": "2022-10-30T03:02:56.939266Z"
    },
    "hidden": true
   },
   "outputs": [],
   "source": [
    "sys.getsizeof(testing[0])"
   ]
  },
  {
   "cell_type": "code",
   "execution_count": null,
   "id": "73d404d0",
   "metadata": {
    "hidden": true
   },
   "outputs": [],
   "source": []
  },
  {
   "cell_type": "code",
   "execution_count": null,
   "id": "0ff2ef77",
   "metadata": {
    "ExecuteTime": {
     "end_time": "2022-10-29T23:01:14.134140Z",
     "start_time": "2022-10-29T23:01:14.124165Z"
    },
    "hidden": true
   },
   "outputs": [],
   "source": [
    "zipped_games_moves = zip(sample.moves)\n",
    "\n",
    "next(zipped_games_moves)[0]"
   ]
  },
  {
   "cell_type": "code",
   "execution_count": null,
   "id": "ee540dcf",
   "metadata": {
    "hidden": true
   },
   "outputs": [],
   "source": []
  },
  {
   "cell_type": "markdown",
   "id": "5b0c5bf4",
   "metadata": {
    "hidden": true
   },
   "source": [
    "-----"
   ]
  },
  {
   "cell_type": "code",
   "execution_count": 782,
   "id": "11b9adb7",
   "metadata": {
    "ExecuteTime": {
     "end_time": "2022-10-31T21:03:25.469163Z",
     "start_time": "2022-10-31T21:03:14.458799Z"
    },
    "hidden": true
   },
   "outputs": [],
   "source": [
    "sf_ = Stockfish(path='./stockfish_15_win_x64_ssse/stockfish_15_x64_ssse.exe',\n",
    "        depth=20,\n",
    "        parameters={\n",
    "            \"Threads\": 7,\n",
    "            \"Hash\": 4096,\n",
    "            \"MultiPV\": 1,\n",
    "            \"Skill Level\": 20        \n",
    "            \n",
    "            }\n",
    "        )"
   ]
  },
  {
   "cell_type": "code",
   "execution_count": 779,
   "id": "3be69f01",
   "metadata": {
    "ExecuteTime": {
     "end_time": "2022-10-31T21:02:57.509797Z",
     "start_time": "2022-10-31T21:02:57.489797Z"
    },
    "hidden": true
   },
   "outputs": [],
   "source": [
    "def get_evaluations(game):\n",
    "    # Loop for moves in a single game\n",
    "    evaluations_ = []\n",
    "    sf_.set_position()\n",
    "    board=chess.Board()\n",
    "    for move in game:\n",
    "        evalution_ = sf_.get_top_moves()\n",
    "        move_ = board.push_san(move)\n",
    "        sf_.make_moves_from_current_position([move_])\n",
    "\n",
    "        evaluations_.append(evalution_)\n",
    "    return evaluations_\n",
    "    \n",
    "    "
   ]
  },
  {
   "cell_type": "code",
   "execution_count": null,
   "id": "4c118a96",
   "metadata": {
    "ExecuteTime": {
     "end_time": "2022-10-31T21:07:25.288178Z",
     "start_time": "2022-10-31T21:07:25.288178Z"
    },
    "hidden": true
   },
   "outputs": [],
   "source": [
    "def get_all_evaluations(df):\n",
    "    list_of_all_evaluations = [\n",
    "        get_evaluations(game[0]) for game in zip(df.moves)\n",
    "    ]\n",
    "    return list_of_all_evaluations"
   ]
  },
  {
   "cell_type": "code",
   "execution_count": 12,
   "id": "4e8246f4",
   "metadata": {
    "ExecuteTime": {
     "end_time": "2022-10-30T03:13:20.468745Z",
     "start_time": "2022-10-30T03:13:20.464756Z"
    },
    "hidden": true
   },
   "outputs": [],
   "source": [
    "# sys.getsizeof(df_2022_2018_CvH_distinv) # 290903604"
   ]
  },
  {
   "cell_type": "code",
   "execution_count": 13,
   "id": "66b5aae5",
   "metadata": {
    "ExecuteTime": {
     "end_time": "2022-10-30T03:13:21.556385Z",
     "start_time": "2022-10-30T03:13:21.538431Z"
    },
    "hidden": true
   },
   "outputs": [],
   "source": [
    "# sys.getsizeof(df_2022_2018_CvH_distinv.moves) # 106755928"
   ]
  },
  {
   "cell_type": "code",
   "execution_count": null,
   "id": "e641a589",
   "metadata": {
    "hidden": true
   },
   "outputs": [],
   "source": []
  },
  {
   "cell_type": "code",
   "execution_count": null,
   "id": "4dc841df",
   "metadata": {
    "hidden": true
   },
   "outputs": [],
   "source": []
  },
  {
   "cell_type": "code",
   "execution_count": 781,
   "id": "603c6302",
   "metadata": {
    "ExecuteTime": {
     "end_time": "2022-10-31T21:03:09.633629Z",
     "start_time": "2022-10-31T21:03:01.781397Z"
    },
    "hidden": true
   },
   "outputs": [],
   "source": [
    "df_2021_2017_titled_distinv = joblib.load(\n",
    "    './data/preprocessed/2021_2017_titled_distinv.pkl')"
   ]
  },
  {
   "cell_type": "code",
   "execution_count": 23,
   "id": "8da08a11",
   "metadata": {
    "ExecuteTime": {
     "end_time": "2022-10-30T03:16:25.855077Z",
     "start_time": "2022-10-30T03:16:25.848068Z"
    },
    "hidden": true
   },
   "outputs": [],
   "source": [
    "# sys.getsizeof(df_2021_2017_titled_distinv) # 163583172"
   ]
  },
  {
   "cell_type": "code",
   "execution_count": 783,
   "id": "5824b742",
   "metadata": {
    "ExecuteTime": {
     "end_time": "2022-10-31T21:04:08.573458Z",
     "start_time": "2022-10-31T21:03:40.165931Z"
    },
    "hidden": true,
    "scrolled": true
   },
   "outputs": [
    {
     "ename": "KeyboardInterrupt",
     "evalue": "",
     "output_type": "error",
     "traceback": [
      "\u001b[1;31m---------------------------------------------------------------------------\u001b[0m",
      "\u001b[1;31mKeyboardInterrupt\u001b[0m                         Traceback (most recent call last)",
      "Cell \u001b[1;32mIn [783], line 1\u001b[0m\n\u001b[1;32m----> 1\u001b[0m list_2021_2017_titled_distinv_evaluations \u001b[38;5;241m=\u001b[39m get_all_evaluations(df_2021_2017_titled_distinv)\n",
      "Cell \u001b[1;32mIn [780], line 2\u001b[0m, in \u001b[0;36mget_all_evaluations\u001b[1;34m(df)\u001b[0m\n\u001b[0;32m      1\u001b[0m \u001b[38;5;28;01mdef\u001b[39;00m \u001b[38;5;21mget_all_evaluations\u001b[39m(df):\n\u001b[1;32m----> 2\u001b[0m     list_of_all_evaluations \u001b[38;5;241m=\u001b[39m [\n\u001b[0;32m      3\u001b[0m         get_evaluations(game[\u001b[38;5;241m0\u001b[39m]) \u001b[38;5;28;01mfor\u001b[39;00m game \u001b[38;5;129;01min\u001b[39;00m \u001b[38;5;28mzip\u001b[39m(df\u001b[38;5;241m.\u001b[39mmoves)\n\u001b[0;32m      4\u001b[0m     ]\n\u001b[0;32m      5\u001b[0m     \u001b[38;5;28;01mreturn\u001b[39;00m list_of_all_evaluations\n",
      "Cell \u001b[1;32mIn [780], line 3\u001b[0m, in \u001b[0;36m<listcomp>\u001b[1;34m(.0)\u001b[0m\n\u001b[0;32m      1\u001b[0m \u001b[38;5;28;01mdef\u001b[39;00m \u001b[38;5;21mget_all_evaluations\u001b[39m(df):\n\u001b[0;32m      2\u001b[0m     list_of_all_evaluations \u001b[38;5;241m=\u001b[39m [\n\u001b[1;32m----> 3\u001b[0m         \u001b[43mget_evaluations\u001b[49m\u001b[43m(\u001b[49m\u001b[43mgame\u001b[49m\u001b[43m[\u001b[49m\u001b[38;5;241;43m0\u001b[39;49m\u001b[43m]\u001b[49m\u001b[43m)\u001b[49m \u001b[38;5;28;01mfor\u001b[39;00m game \u001b[38;5;129;01min\u001b[39;00m \u001b[38;5;28mzip\u001b[39m(df\u001b[38;5;241m.\u001b[39mmoves)\n\u001b[0;32m      4\u001b[0m     ]\n\u001b[0;32m      5\u001b[0m     \u001b[38;5;28;01mreturn\u001b[39;00m list_of_all_evaluations\n",
      "Cell \u001b[1;32mIn [779], line 7\u001b[0m, in \u001b[0;36mget_evaluations\u001b[1;34m(game)\u001b[0m\n\u001b[0;32m      5\u001b[0m board\u001b[38;5;241m=\u001b[39mchess\u001b[38;5;241m.\u001b[39mBoard()\n\u001b[0;32m      6\u001b[0m \u001b[38;5;28;01mfor\u001b[39;00m move \u001b[38;5;129;01min\u001b[39;00m game:\n\u001b[1;32m----> 7\u001b[0m     evalution_ \u001b[38;5;241m=\u001b[39m \u001b[43msf_\u001b[49m\u001b[38;5;241;43m.\u001b[39;49m\u001b[43mget_top_moves\u001b[49m\u001b[43m(\u001b[49m\u001b[43m)\u001b[49m\n\u001b[0;32m      8\u001b[0m     move_ \u001b[38;5;241m=\u001b[39m board\u001b[38;5;241m.\u001b[39mpush_san(move)\n\u001b[0;32m      9\u001b[0m     sf_\u001b[38;5;241m.\u001b[39mmake_moves_from_current_position([move_])\n",
      "File \u001b[1;32m~\\anaconda3\\envs\\capstone_env\\lib\\site-packages\\stockfish\\models.py:540\u001b[0m, in \u001b[0;36mStockfish.get_top_moves\u001b[1;34m(self, num_top_moves)\u001b[0m\n\u001b[0;32m    538\u001b[0m lines \u001b[38;5;241m=\u001b[39m []\n\u001b[0;32m    539\u001b[0m \u001b[38;5;28;01mwhile\u001b[39;00m \u001b[38;5;28;01mTrue\u001b[39;00m:\n\u001b[1;32m--> 540\u001b[0m     text \u001b[38;5;241m=\u001b[39m \u001b[38;5;28;43mself\u001b[39;49m\u001b[38;5;241;43m.\u001b[39;49m\u001b[43m_read_line\u001b[49m\u001b[43m(\u001b[49m\u001b[43m)\u001b[49m\n\u001b[0;32m    541\u001b[0m     splitted_text \u001b[38;5;241m=\u001b[39m text\u001b[38;5;241m.\u001b[39msplit(\u001b[38;5;124m\"\u001b[39m\u001b[38;5;124m \u001b[39m\u001b[38;5;124m\"\u001b[39m)\n\u001b[0;32m    542\u001b[0m     lines\u001b[38;5;241m.\u001b[39mappend(splitted_text)\n",
      "File \u001b[1;32m~\\anaconda3\\envs\\capstone_env\\lib\\site-packages\\stockfish\\models.py:161\u001b[0m, in \u001b[0;36mStockfish._read_line\u001b[1;34m(self)\u001b[0m\n\u001b[0;32m    159\u001b[0m \u001b[38;5;28;01mif\u001b[39;00m \u001b[38;5;28mself\u001b[39m\u001b[38;5;241m.\u001b[39m_stockfish\u001b[38;5;241m.\u001b[39mpoll() \u001b[38;5;129;01mis\u001b[39;00m \u001b[38;5;129;01mnot\u001b[39;00m \u001b[38;5;28;01mNone\u001b[39;00m:\n\u001b[0;32m    160\u001b[0m     \u001b[38;5;28;01mraise\u001b[39;00m StockfishException(\u001b[38;5;124m\"\u001b[39m\u001b[38;5;124mThe Stockfish process has crashed\u001b[39m\u001b[38;5;124m\"\u001b[39m)\n\u001b[1;32m--> 161\u001b[0m \u001b[38;5;28;01mreturn\u001b[39;00m \u001b[38;5;28;43mself\u001b[39;49m\u001b[38;5;241;43m.\u001b[39;49m\u001b[43m_stockfish\u001b[49m\u001b[38;5;241;43m.\u001b[39;49m\u001b[43mstdout\u001b[49m\u001b[38;5;241;43m.\u001b[39;49m\u001b[43mreadline\u001b[49m\u001b[43m(\u001b[49m\u001b[43m)\u001b[49m\u001b[38;5;241m.\u001b[39mstrip()\n",
      "File \u001b[1;32m~\\anaconda3\\envs\\capstone_env\\lib\\encodings\\cp1252.py:22\u001b[0m, in \u001b[0;36mIncrementalDecoder.decode\u001b[1;34m(self, input, final)\u001b[0m\n\u001b[0;32m     21\u001b[0m \u001b[38;5;28;01mclass\u001b[39;00m \u001b[38;5;21;01mIncrementalDecoder\u001b[39;00m(codecs\u001b[38;5;241m.\u001b[39mIncrementalDecoder):\n\u001b[1;32m---> 22\u001b[0m     \u001b[38;5;28;01mdef\u001b[39;00m \u001b[38;5;21mdecode\u001b[39m(\u001b[38;5;28mself\u001b[39m, \u001b[38;5;28minput\u001b[39m, final\u001b[38;5;241m=\u001b[39m\u001b[38;5;28;01mFalse\u001b[39;00m):\n\u001b[0;32m     23\u001b[0m         \u001b[38;5;28;01mreturn\u001b[39;00m codecs\u001b[38;5;241m.\u001b[39mcharmap_decode(\u001b[38;5;28minput\u001b[39m,\u001b[38;5;28mself\u001b[39m\u001b[38;5;241m.\u001b[39merrors,decoding_table)[\u001b[38;5;241m0\u001b[39m]\n",
      "\u001b[1;31mKeyboardInterrupt\u001b[0m: "
     ]
    }
   ],
   "source": [
    "list_2021_2017_titled_distinv_evaluations = get_all_evaluations(df_2021_2017_titled_distinv)"
   ]
  },
  {
   "cell_type": "code",
   "execution_count": null,
   "id": "f61e61e8",
   "metadata": {
    "hidden": true
   },
   "outputs": [],
   "source": []
  },
  {
   "cell_type": "code",
   "execution_count": null,
   "id": "4ee336c7",
   "metadata": {
    "ExecuteTime": {
     "start_time": "2022-10-30T03:42:58.035Z"
    },
    "hidden": true
   },
   "outputs": [],
   "source": [
    "joblib.dump(list_2021_2017_titled_distinv_evaluations,\n",
    "           '~/Desktop/data/capstone/preprocessed/titled_evaluations.pkl',\n",
    "           compress=9)"
   ]
  },
  {
   "cell_type": "code",
   "execution_count": null,
   "id": "28235270",
   "metadata": {
    "hidden": true
   },
   "outputs": [],
   "source": []
  },
  {
   "cell_type": "code",
   "execution_count": null,
   "id": "46bfbd96",
   "metadata": {
    "hidden": true
   },
   "outputs": [],
   "source": []
  },
  {
   "cell_type": "code",
   "execution_count": null,
   "id": "18dc8201",
   "metadata": {
    "ExecuteTime": {
     "start_time": "2022-10-30T03:58:12.723Z"
    },
    "hidden": true
   },
   "outputs": [],
   "source": [
    "df_2022_2018_CvH_distinv = joblib.load('./data/preprocessed/2022_2018_CvH_distinv_withevent.pkl')"
   ]
  },
  {
   "cell_type": "code",
   "execution_count": 22,
   "id": "8ba11e9f",
   "metadata": {
    "ExecuteTime": {
     "end_time": "2022-10-30T03:16:19.401486Z",
     "start_time": "2022-10-30T03:16:19.389496Z"
    },
    "hidden": true
   },
   "outputs": [],
   "source": [
    "# sys.getsizeof(df_2022_2018_HvH) # 138398944"
   ]
  },
  {
   "cell_type": "code",
   "execution_count": null,
   "id": "6e8a335f",
   "metadata": {
    "ExecuteTime": {
     "start_time": "2022-10-30T03:58:34.899Z"
    },
    "hidden": true
   },
   "outputs": [],
   "source": [
    "list_df_2022_2018_CvH_distinv_evaluations = get_all_evaluations(df_2022_2018_CvH_distinv)"
   ]
  },
  {
   "cell_type": "code",
   "execution_count": null,
   "id": "9a7617d2",
   "metadata": {
    "ExecuteTime": {
     "start_time": "2022-10-30T03:58:35.980Z"
    },
    "hidden": true
   },
   "outputs": [],
   "source": [
    "joblib.dump(list_df_2022_2018_CvH_distinv_evaluations,\n",
    "           '~/Desktop/data/capstone/preprocessed/2022_2018_CvH_distinv_evaluations.pkl',\n",
    "           compress=9)"
   ]
  },
  {
   "cell_type": "markdown",
   "id": "4c50adf3",
   "metadata": {
    "hidden": true
   },
   "source": [
    "----"
   ]
  },
  {
   "cell_type": "code",
   "execution_count": null,
   "id": "598de4bf",
   "metadata": {
    "ExecuteTime": {
     "end_time": "2022-10-30T01:31:59.334578Z",
     "start_time": "2022-10-30T01:31:59.313634Z"
    },
    "hidden": true
   },
   "outputs": [],
   "source": [
    "nums=[1,2,3]\n",
    "i_nums=iter(nums)\n",
    "\n",
    "while True:\n",
    "    try:\n",
    "        item=next(i_nums)\n",
    "        print(item)\n",
    "    except StopIteration:\n",
    "        break"
   ]
  },
  {
   "cell_type": "code",
   "execution_count": null,
   "id": "06133b40",
   "metadata": {
    "hidden": true
   },
   "outputs": [],
   "source": []
  },
  {
   "cell_type": "code",
   "execution_count": null,
   "id": "efbfd411",
   "metadata": {
    "hidden": true
   },
   "outputs": [],
   "source": []
  },
  {
   "cell_type": "code",
   "execution_count": null,
   "id": "ee42d0a7",
   "metadata": {
    "hidden": true
   },
   "outputs": [],
   "source": []
  },
  {
   "cell_type": "markdown",
   "id": "eb8a87a2",
   "metadata": {
    "hidden": true
   },
   "source": [
    "----"
   ]
  },
  {
   "cell_type": "markdown",
   "id": "0b9dc073",
   "metadata": {},
   "source": [
    "## Section to merge into main file"
   ]
  },
  {
   "cell_type": "markdown",
   "id": "da9954ba",
   "metadata": {
    "heading_collapsed": true
   },
   "source": [
    "### Extracting emt"
   ]
  },
  {
   "cell_type": "code",
   "execution_count": 10,
   "id": "f9215491",
   "metadata": {
    "ExecuteTime": {
     "end_time": "2022-10-30T17:05:45.671885Z",
     "start_time": "2022-10-30T17:05:45.653886Z"
    },
    "hidden": true
   },
   "outputs": [
    {
     "data": {
      "text/html": [
       "<div>\n",
       "<style scoped>\n",
       "    .dataframe tbody tr th:only-of-type {\n",
       "        vertical-align: middle;\n",
       "    }\n",
       "\n",
       "    .dataframe tbody tr th {\n",
       "        vertical-align: top;\n",
       "    }\n",
       "\n",
       "    .dataframe thead th {\n",
       "        text-align: right;\n",
       "    }\n",
       "</style>\n",
       "<table border=\"1\" class=\"dataframe\">\n",
       "  <thead>\n",
       "    <tr style=\"text-align: right;\">\n",
       "      <th></th>\n",
       "      <th>Event</th>\n",
       "      <th>Date</th>\n",
       "      <th>White</th>\n",
       "      <th>Black</th>\n",
       "      <th>Result</th>\n",
       "      <th>BlackElo</th>\n",
       "      <th>BlackRD</th>\n",
       "      <th>ECO</th>\n",
       "      <th>PlyCount</th>\n",
       "      <th>WhiteElo</th>\n",
       "      <th>WhiteRD</th>\n",
       "      <th>emt</th>\n",
       "      <th>moves</th>\n",
       "      <th>WhiteIsComp</th>\n",
       "      <th>BlackIsComp</th>\n",
       "      <th>NoComp</th>\n",
       "      <th>TimeControl_Base</th>\n",
       "      <th>TimeControl_Inc</th>\n",
       "    </tr>\n",
       "  </thead>\n",
       "  <tbody>\n",
       "    <tr>\n",
       "      <th>0</th>\n",
       "      <td>FICS rated blitz game</td>\n",
       "      <td>2021-01-03</td>\n",
       "      <td>sviswa</td>\n",
       "      <td>ForgacsJ(FM)</td>\n",
       "      <td>0-1</td>\n",
       "      <td>2047</td>\n",
       "      <td>0</td>\n",
       "      <td>A43</td>\n",
       "      <td>22</td>\n",
       "      <td>1778</td>\n",
       "      <td>0</td>\n",
       "      <td>[[%emt 0.0], [%emt 0.0], [%emt 2.894], [%emt 0...</td>\n",
       "      <td>[d4, c5, d5, g6, Nf3, Bg7, e3, Nf6, Be2, O-O, ...</td>\n",
       "      <td>0</td>\n",
       "      <td>0</td>\n",
       "      <td>1</td>\n",
       "      <td>180</td>\n",
       "      <td>0</td>\n",
       "    </tr>\n",
       "  </tbody>\n",
       "</table>\n",
       "</div>"
      ],
      "text/plain": [
       "                   Event       Date   White         Black Result  BlackElo  \\\n",
       "0  FICS rated blitz game 2021-01-03  sviswa  ForgacsJ(FM)    0-1      2047   \n",
       "\n",
       "  BlackRD  ECO  PlyCount  WhiteElo WhiteRD  \\\n",
       "0       0  A43        22      1778       0   \n",
       "\n",
       "                                                 emt  \\\n",
       "0  [[%emt 0.0], [%emt 0.0], [%emt 2.894], [%emt 0...   \n",
       "\n",
       "                                               moves  WhiteIsComp  \\\n",
       "0  [d4, c5, d5, g6, Nf3, Bg7, e3, Nf6, Be2, O-O, ...            0   \n",
       "\n",
       "   BlackIsComp  NoComp  TimeControl_Base  TimeControl_Inc  \n",
       "0            0       1               180                0  "
      ]
     },
     "execution_count": 10,
     "metadata": {},
     "output_type": "execute_result"
    }
   ],
   "source": [
    "df_2021_2017_titled_distinv.head(1)"
   ]
  },
  {
   "cell_type": "code",
   "execution_count": 194,
   "id": "6e245744",
   "metadata": {
    "ExecuteTime": {
     "end_time": "2022-10-30T23:01:29.078510Z",
     "start_time": "2022-10-30T23:01:29.059463Z"
    },
    "hidden": true
   },
   "outputs": [],
   "source": [
    "sample_emt = df_2021_2017_titled_distinv.emt.sample(20)"
   ]
  },
  {
   "cell_type": "code",
   "execution_count": 196,
   "id": "12659fe0",
   "metadata": {
    "ExecuteTime": {
     "end_time": "2022-10-30T23:01:32.911015Z",
     "start_time": "2022-10-30T23:01:32.907022Z"
    },
    "hidden": true
   },
   "outputs": [],
   "source": [
    "# type(sample_emt) # series"
   ]
  },
  {
   "cell_type": "code",
   "execution_count": 149,
   "id": "65c9154d",
   "metadata": {
    "ExecuteTime": {
     "end_time": "2022-10-30T21:55:28.934906Z",
     "start_time": "2022-10-30T21:55:28.925928Z"
    },
    "hidden": true
   },
   "outputs": [],
   "source": [
    "# sample_emt.shape # (20,)"
   ]
  },
  {
   "cell_type": "code",
   "execution_count": 150,
   "id": "fad18f54",
   "metadata": {
    "ExecuteTime": {
     "end_time": "2022-10-30T21:55:28.996536Z",
     "start_time": "2022-10-30T21:55:28.990568Z"
    },
    "hidden": true
   },
   "outputs": [],
   "source": [
    "# sample_emt.iloc[0][0:]"
   ]
  },
  {
   "cell_type": "code",
   "execution_count": 156,
   "id": "933df862",
   "metadata": {
    "ExecuteTime": {
     "end_time": "2022-10-30T21:56:59.139732Z",
     "start_time": "2022-10-30T21:56:59.131732Z"
    },
    "hidden": true
   },
   "outputs": [],
   "source": [
    "# tm = re.search('[0-9]+\\.[0-9]+', sample_emt.iloc[0][0])\n",
    "# display(tm.)\n",
    "# display(tm.group())\n",
    "# display(float(tm.group()))"
   ]
  },
  {
   "cell_type": "code",
   "execution_count": 140,
   "id": "08fe604f",
   "metadata": {
    "ExecuteTime": {
     "end_time": "2022-10-30T19:44:54.479569Z",
     "start_time": "2022-10-30T19:44:54.474602Z"
    },
    "hidden": true
   },
   "outputs": [],
   "source": [
    "# [float(re.search('[0-9]+\\.[0-9]+', time_).group()) for time_ in sample_emt.iloc[0]]"
   ]
  },
  {
   "cell_type": "code",
   "execution_count": 138,
   "id": "0c3c51bb",
   "metadata": {
    "ExecuteTime": {
     "end_time": "2022-10-30T19:42:34.061790Z",
     "start_time": "2022-10-30T19:42:34.052775Z"
    },
    "hidden": true
   },
   "outputs": [],
   "source": [
    "# def extract_emt_elements(game):\n",
    "#     times_ = [float(re.search('[0-9]+\\.[0-9]+', time_).group()) for time_ in game]\n",
    "#     return times_\n",
    "\n",
    "# def extract_all_emt_elements(series_of_games):\n",
    "#     times_ = [extract_emt_elements(game_) for game_ in series_of_games]\n",
    "#     return times_"
   ]
  },
  {
   "cell_type": "code",
   "execution_count": 154,
   "id": "7179b155",
   "metadata": {
    "ExecuteTime": {
     "end_time": "2022-10-30T21:56:18.125912Z",
     "start_time": "2022-10-30T21:56:18.117914Z"
    },
    "hidden": true
   },
   "outputs": [],
   "source": [
    "# extract_emt_elements(sample_emt.iloc[0]);\n",
    "# extract_emt_elements(sample_emt.iloc[0])==\\\n",
    "# [float(re.search('[0-9]+\\.[0-9]+', time_).group()) for time_ in sample_emt.iloc[0]] # True"
   ]
  },
  {
   "cell_type": "code",
   "execution_count": 155,
   "id": "392471f5",
   "metadata": {
    "ExecuteTime": {
     "end_time": "2022-10-30T21:56:18.281510Z",
     "start_time": "2022-10-30T21:56:18.272514Z"
    },
    "hidden": true
   },
   "outputs": [],
   "source": [
    "# [type(val) for val in sample_emt]\n",
    "# [extract_emt_elements(val) for val in sample_emt]==extract_all_emt_elements(sample_emt) # True"
   ]
  },
  {
   "cell_type": "code",
   "execution_count": 205,
   "id": "dcde009e",
   "metadata": {
    "ExecuteTime": {
     "end_time": "2022-10-30T23:08:16.765769Z",
     "start_time": "2022-10-30T23:08:16.754738Z"
    },
    "hidden": true
   },
   "outputs": [],
   "source": [
    "# extract_all_emt_elements(df_2021_2017_titled_distinv.emt) # works"
   ]
  },
  {
   "cell_type": "code",
   "execution_count": null,
   "id": "fa24354b",
   "metadata": {
    "hidden": true
   },
   "outputs": [],
   "source": []
  },
  {
   "cell_type": "code",
   "execution_count": 248,
   "id": "a56e7f25",
   "metadata": {
    "ExecuteTime": {
     "end_time": "2022-10-30T23:32:58.395889Z",
     "start_time": "2022-10-30T23:32:58.347890Z"
    },
    "hidden": true
   },
   "outputs": [
    {
     "data": {
      "text/html": [
       "<div>\n",
       "<style scoped>\n",
       "    .dataframe tbody tr th:only-of-type {\n",
       "        vertical-align: middle;\n",
       "    }\n",
       "\n",
       "    .dataframe tbody tr th {\n",
       "        vertical-align: top;\n",
       "    }\n",
       "\n",
       "    .dataframe thead th {\n",
       "        text-align: right;\n",
       "    }\n",
       "</style>\n",
       "<table border=\"1\" class=\"dataframe\">\n",
       "  <thead>\n",
       "    <tr style=\"text-align: right;\">\n",
       "      <th></th>\n",
       "      <th>Event</th>\n",
       "      <th>Date</th>\n",
       "      <th>White</th>\n",
       "      <th>Black</th>\n",
       "      <th>Result</th>\n",
       "      <th>BlackElo</th>\n",
       "      <th>BlackRD</th>\n",
       "      <th>ECO</th>\n",
       "      <th>PlyCount</th>\n",
       "      <th>WhiteElo</th>\n",
       "      <th>WhiteRD</th>\n",
       "      <th>emt</th>\n",
       "      <th>moves</th>\n",
       "      <th>WhiteIsComp</th>\n",
       "      <th>BlackIsComp</th>\n",
       "      <th>NoComp</th>\n",
       "      <th>TimeControl_Base</th>\n",
       "      <th>TimeControl_Inc</th>\n",
       "    </tr>\n",
       "  </thead>\n",
       "  <tbody>\n",
       "    <tr>\n",
       "      <th>233</th>\n",
       "      <td>FICS rated blitz game</td>\n",
       "      <td>2021-01-29</td>\n",
       "      <td>Groemaz</td>\n",
       "      <td>ForgacsJ(FM)</td>\n",
       "      <td>0-1</td>\n",
       "      <td>2003</td>\n",
       "      <td>0</td>\n",
       "      <td>A00</td>\n",
       "      <td>0</td>\n",
       "      <td>1801</td>\n",
       "      <td>0</td>\n",
       "      <td>[]</td>\n",
       "      <td>[]</td>\n",
       "      <td>0</td>\n",
       "      <td>0</td>\n",
       "      <td>1</td>\n",
       "      <td>180</td>\n",
       "      <td>0</td>\n",
       "    </tr>\n",
       "    <tr>\n",
       "      <th>276</th>\n",
       "      <td>FICS rated blitz game</td>\n",
       "      <td>2021-02-02</td>\n",
       "      <td>stupidnewbie</td>\n",
       "      <td>ForgacsJ(FM)</td>\n",
       "      <td>1-0</td>\n",
       "      <td>2021</td>\n",
       "      <td>0</td>\n",
       "      <td>A00</td>\n",
       "      <td>0</td>\n",
       "      <td>2015</td>\n",
       "      <td>0</td>\n",
       "      <td>[]</td>\n",
       "      <td>[]</td>\n",
       "      <td>0</td>\n",
       "      <td>0</td>\n",
       "      <td>1</td>\n",
       "      <td>180</td>\n",
       "      <td>0</td>\n",
       "    </tr>\n",
       "  </tbody>\n",
       "</table>\n",
       "</div>"
      ],
      "text/plain": [
       "                     Event       Date         White         Black Result  \\\n",
       "233  FICS rated blitz game 2021-01-29       Groemaz  ForgacsJ(FM)    0-1   \n",
       "276  FICS rated blitz game 2021-02-02  stupidnewbie  ForgacsJ(FM)    1-0   \n",
       "\n",
       "     BlackElo BlackRD  ECO  PlyCount  WhiteElo WhiteRD emt moves  WhiteIsComp  \\\n",
       "233      2003       0  A00         0      1801       0  []    []            0   \n",
       "276      2021       0  A00         0      2015       0  []    []            0   \n",
       "\n",
       "     BlackIsComp  NoComp  TimeControl_Base  TimeControl_Inc  \n",
       "233            0       1               180                0  \n",
       "276            0       1               180                0  "
      ]
     },
     "execution_count": 248,
     "metadata": {},
     "output_type": "execute_result"
    }
   ],
   "source": [
    "games_missing_moves_and_emt = df_2021_2017_titled_distinv[[row==[] for row in df_2021_2017_titled_distinv.emt]]\n",
    "games_missing_moves_and_emt.head(2)"
   ]
  },
  {
   "cell_type": "code",
   "execution_count": 245,
   "id": "73a81b18",
   "metadata": {
    "ExecuteTime": {
     "end_time": "2022-10-30T23:32:00.408464Z",
     "start_time": "2022-10-30T23:32:00.394459Z"
    },
    "hidden": true
   },
   "outputs": [],
   "source": [
    "# get_evaluations(games_missing_moves_and_emt.iloc[0].moves) # []"
   ]
  },
  {
   "cell_type": "code",
   "execution_count": 246,
   "id": "c025efb4",
   "metadata": {
    "ExecuteTime": {
     "end_time": "2022-10-30T23:32:18.527429Z",
     "start_time": "2022-10-30T23:32:18.523471Z"
    },
    "hidden": true
   },
   "outputs": [],
   "source": [
    "# get_all_evaluations(games_missing_moves_and_emt.iloc[0:3]) # [[], [], []]"
   ]
  },
  {
   "cell_type": "code",
   "execution_count": null,
   "id": "9fdbafee",
   "metadata": {
    "hidden": true
   },
   "outputs": [],
   "source": []
  },
  {
   "cell_type": "code",
   "execution_count": 358,
   "id": "3e20e909",
   "metadata": {
    "ExecuteTime": {
     "end_time": "2022-10-31T00:30:56.680552Z",
     "start_time": "2022-10-31T00:30:56.666483Z"
    },
    "hidden": true
   },
   "outputs": [
    {
     "data": {
      "text/plain": [
       "[[], [], []]"
      ]
     },
     "execution_count": 358,
     "metadata": {},
     "output_type": "execute_result"
    }
   ],
   "source": [
    "extract_all_emt_elements(games_missing_moves_and_emt.iloc[0:3].emt) # [[], [], []]"
   ]
  },
  {
   "cell_type": "code",
   "execution_count": 360,
   "id": "c3390ee3",
   "metadata": {
    "ExecuteTime": {
     "end_time": "2022-10-31T00:31:45.076495Z",
     "start_time": "2022-10-31T00:31:45.059491Z"
    },
    "hidden": true
   },
   "outputs": [
    {
     "data": {
      "text/plain": [
       "[]"
      ]
     },
     "execution_count": 360,
     "metadata": {},
     "output_type": "execute_result"
    }
   ],
   "source": [
    "extract_emt_elements(games_missing_moves_and_emt.iloc[0].emt)"
   ]
  },
  {
   "cell_type": "code",
   "execution_count": 365,
   "id": "e394e7fc",
   "metadata": {
    "ExecuteTime": {
     "end_time": "2022-10-31T00:34:19.094476Z",
     "start_time": "2022-10-31T00:34:19.079512Z"
    },
    "hidden": true
   },
   "outputs": [
    {
     "data": {
      "text/plain": [
       "[]"
      ]
     },
     "execution_count": 365,
     "metadata": {},
     "output_type": "execute_result"
    }
   ],
   "source": [
    "how_games_ended(games_missing_moves_and_emt.iloc[0:3].emt) # "
   ]
  },
  {
   "cell_type": "code",
   "execution_count": null,
   "id": "7e92348c",
   "metadata": {
    "hidden": true
   },
   "outputs": [],
   "source": []
  },
  {
   "cell_type": "code",
   "execution_count": 370,
   "id": "9bf652a6",
   "metadata": {
    "ExecuteTime": {
     "end_time": "2022-10-31T00:37:17.334240Z",
     "start_time": "2022-10-31T00:37:17.331183Z"
    },
    "hidden": true
   },
   "outputs": [],
   "source": [
    "# remove games where no moves were played !"
   ]
  },
  {
   "cell_type": "code",
   "execution_count": 382,
   "id": "75b6511e",
   "metadata": {
    "ExecuteTime": {
     "end_time": "2022-10-31T00:49:44.484148Z",
     "start_time": "2022-10-31T00:49:44.473100Z"
    },
    "hidden": true
   },
   "outputs": [],
   "source": [
    "# df_2021_2017_titled_distinv[[df_2021_2017_titled_distinv.moves!=[]]]\n",
    "# df_2021_2017_titled_distinv[[val_!=[] for val_ in df_2021_2017_titled_distinv.moves]].reset_index(drop=True)"
   ]
  },
  {
   "cell_type": "code",
   "execution_count": 400,
   "id": "de176709",
   "metadata": {
    "ExecuteTime": {
     "end_time": "2022-10-31T00:58:20.934694Z",
     "start_time": "2022-10-31T00:58:20.925767Z"
    },
    "hidden": true
   },
   "outputs": [],
   "source": [
    "def drop_no_move_games(df):\n",
    "    if any([val_==[] for val_ in df.moves]):\n",
    "        print(f'Some games have no moves \\nDropping those games...')\n",
    "        temp_ = df[[val_!=[] for val_ in df.moves]].reset_index(drop=True)\n",
    "        return temp_\n",
    "    else:\n",
    "        print('All games have moves')\n",
    "        return df"
   ]
  },
  {
   "cell_type": "code",
   "execution_count": 402,
   "id": "ada54c58",
   "metadata": {
    "ExecuteTime": {
     "end_time": "2022-10-31T00:58:31.278750Z",
     "start_time": "2022-10-31T00:58:31.209675Z"
    },
    "hidden": true
   },
   "outputs": [
    {
     "name": "stdout",
     "output_type": "stream",
     "text": [
      "Some games have no moves \n",
      "Dropping those games...\n"
     ]
    }
   ],
   "source": [
    "test_ = drop_no_move_games(df_2021_2017_titled_distinv)\n",
    "test_;"
   ]
  },
  {
   "cell_type": "code",
   "execution_count": 391,
   "id": "18d9e698",
   "metadata": {
    "ExecuteTime": {
     "end_time": "2022-10-31T00:52:06.873214Z",
     "start_time": "2022-10-31T00:52:06.701396Z"
    },
    "hidden": true
   },
   "outputs": [],
   "source": [
    "how_games_ended(test_.emt);"
   ]
  },
  {
   "cell_type": "code",
   "execution_count": null,
   "id": "c89ecd18",
   "metadata": {
    "hidden": true
   },
   "outputs": [],
   "source": []
  },
  {
   "cell_type": "code",
   "execution_count": 392,
   "id": "1702c394",
   "metadata": {
    "ExecuteTime": {
     "end_time": "2022-10-31T00:52:08.368098Z",
     "start_time": "2022-10-31T00:52:08.353064Z"
    },
    "hidden": true
   },
   "outputs": [],
   "source": [
    "def how_games_ended_confirmed_moves_and_emt(series_of_games_emts):\n",
    "#     series_of_games_emts = [game_ if game_!=[] else ['none'] for game_ in series_of_games_emts]\n",
    "#     endings_ = [re.search('[a-zA-Z]{5}.[a-zA-Z]+.[a-zA-Z]*.[a-zA-Z]*', game_[-1]).group() for game_ in series_of_games_emts]\n",
    "#     endings_ = [re.search('(Black|White).[a-zA-Z]+.[a-zA-Z]*.[a-zA-Z]*', game_[-1]).group() for game_ in series_of_games_emts]\n",
    "    endings_ = [re.search('(Black|White).[a-zA-Z]+.[a-zA-Z]*.[a-zA-Z]*', game_[-1]).group() for game_ in series_of_games_emts]\n",
    "    \n",
    "    return endings_"
   ]
  },
  {
   "cell_type": "code",
   "execution_count": 403,
   "id": "d443c4f8",
   "metadata": {
    "ExecuteTime": {
     "end_time": "2022-10-31T01:01:25.849121Z",
     "start_time": "2022-10-31T01:01:25.681636Z"
    },
    "hidden": true
   },
   "outputs": [],
   "source": [
    "how_games_ended_confirmed_moves(test_.emt);"
   ]
  },
  {
   "cell_type": "code",
   "execution_count": 398,
   "id": "1292f404",
   "metadata": {
    "ExecuteTime": {
     "end_time": "2022-10-31T00:55:10.992335Z",
     "start_time": "2022-10-31T00:55:10.984345Z"
    },
    "hidden": true
   },
   "outputs": [],
   "source": [
    "def any_missing_emt(df):\n",
    "    if any([val_==[] for val_ in df.emt]):\n",
    "        return(print('Some games missing emt values...'))\n",
    "    else:\n",
    "        return(print('No games missing emt values'))"
   ]
  },
  {
   "cell_type": "code",
   "execution_count": 399,
   "id": "6c0324f1",
   "metadata": {
    "ExecuteTime": {
     "end_time": "2022-10-31T00:55:18.743468Z",
     "start_time": "2022-10-31T00:55:18.706485Z"
    },
    "hidden": true
   },
   "outputs": [
    {
     "name": "stdout",
     "output_type": "stream",
     "text": [
      "No games missing emt values\n"
     ]
    }
   ],
   "source": [
    "any_missing_emt(test_)"
   ]
  },
  {
   "cell_type": "code",
   "execution_count": null,
   "id": "79091b12",
   "metadata": {
    "hidden": true
   },
   "outputs": [],
   "source": []
  },
  {
   "cell_type": "code",
   "execution_count": null,
   "id": "72f15ede",
   "metadata": {
    "hidden": true
   },
   "outputs": [],
   "source": []
  },
  {
   "cell_type": "code",
   "execution_count": null,
   "id": "8b776ecd",
   "metadata": {
    "hidden": true
   },
   "outputs": [],
   "source": [
    "# do the get_all_evaluations but put a conditional statement in there that will pickle things "
   ]
  },
  {
   "cell_type": "code",
   "execution_count": null,
   "id": "24d6f9ac",
   "metadata": {
    "hidden": true
   },
   "outputs": [],
   "source": []
  },
  {
   "cell_type": "code",
   "execution_count": null,
   "id": "207912e2",
   "metadata": {
    "hidden": true
   },
   "outputs": [],
   "source": []
  },
  {
   "cell_type": "markdown",
   "id": "317a8314",
   "metadata": {
    "hidden": true
   },
   "source": [
    "-----"
   ]
  },
  {
   "cell_type": "markdown",
   "id": "bd9c146e",
   "metadata": {},
   "source": [
    "### Finding how the game ended"
   ]
  },
  {
   "cell_type": "code",
   "execution_count": 111,
   "id": "585de76e",
   "metadata": {
    "ExecuteTime": {
     "end_time": "2022-10-30T18:16:44.896341Z",
     "start_time": "2022-10-30T18:16:44.879292Z"
    }
   },
   "outputs": [
    {
     "data": {
      "text/plain": [
       "'[%emt 2.575] Black resigns'"
      ]
     },
     "execution_count": 111,
     "metadata": {},
     "output_type": "execute_result"
    }
   ],
   "source": [
    "sample_emt.iloc[0][-1]"
   ]
  },
  {
   "cell_type": "code",
   "execution_count": 259,
   "id": "0eae011b",
   "metadata": {
    "ExecuteTime": {
     "end_time": "2022-10-30T23:37:01.561379Z",
     "start_time": "2022-10-30T23:37:01.553403Z"
    }
   },
   "outputs": [
    {
     "data": {
      "text/plain": [
       "['[%emt 0.0]', '[%emt 0.0]']"
      ]
     },
     "execution_count": 259,
     "metadata": {},
     "output_type": "execute_result"
    }
   ],
   "source": [
    "sample_emt.iloc[0][0:2]"
   ]
  },
  {
   "cell_type": "code",
   "execution_count": 285,
   "id": "66fbff4b",
   "metadata": {
    "ExecuteTime": {
     "end_time": "2022-10-30T23:50:22.987202Z",
     "start_time": "2022-10-30T23:50:22.978205Z"
    }
   },
   "outputs": [
    {
     "data": {
      "text/plain": [
       "'[%emt 0.782] White forfeits on time'"
      ]
     },
     "execution_count": 285,
     "metadata": {},
     "output_type": "execute_result"
    }
   ],
   "source": [
    "sample_emt.iloc[0][-1]"
   ]
  },
  {
   "cell_type": "code",
   "execution_count": null,
   "id": "76d114dc",
   "metadata": {},
   "outputs": [],
   "source": []
  },
  {
   "cell_type": "code",
   "execution_count": 366,
   "id": "c399c1e8",
   "metadata": {
    "ExecuteTime": {
     "end_time": "2022-10-31T00:35:05.084556Z",
     "start_time": "2022-10-31T00:35:05.079583Z"
    }
   },
   "outputs": [],
   "source": [
    "def how_games_ended(series_of_games_emts):\n",
    "#     series_of_games_emts = [game_ if game_!=[] else ['none'] for game_ in series_of_games_emts]\n",
    "#     endings_ = [re.search('[a-zA-Z]{5}.[a-zA-Z]+.[a-zA-Z]*.[a-zA-Z]*', game_[-1]).group() for game_ in series_of_games_emts]\n",
    "#     endings_ = [re.search('(Black|White).[a-zA-Z]+.[a-zA-Z]*.[a-zA-Z]*', game_[-1]).group() for game_ in series_of_games_emts]\n",
    "    endings_ = [re.search('(Black|White).[a-zA-Z]+.[a-zA-Z]*.[a-zA-Z]*', game_[-1]).group() if game_!=[] else [] for game_ in series_of_games_emts]\n",
    "    \n",
    "    return endings_"
   ]
  },
  {
   "cell_type": "code",
   "execution_count": 371,
   "id": "8a463776",
   "metadata": {
    "ExecuteTime": {
     "end_time": "2022-10-31T00:42:23.373440Z",
     "start_time": "2022-10-31T00:42:23.358486Z"
    }
   },
   "outputs": [],
   "source": [
    "# # display(test_)\n",
    "# display(test_[0])\n",
    "# display(test_[0][-1])"
   ]
  },
  {
   "cell_type": "code",
   "execution_count": 373,
   "id": "1a982ec1",
   "metadata": {
    "ExecuteTime": {
     "end_time": "2022-10-31T00:43:11.103804Z",
     "start_time": "2022-10-31T00:43:10.898757Z"
    }
   },
   "outputs": [
    {
     "data": {
      "text/html": [
       "<div>\n",
       "<style scoped>\n",
       "    .dataframe tbody tr th:only-of-type {\n",
       "        vertical-align: middle;\n",
       "    }\n",
       "\n",
       "    .dataframe tbody tr th {\n",
       "        vertical-align: top;\n",
       "    }\n",
       "\n",
       "    .dataframe thead th {\n",
       "        text-align: right;\n",
       "    }\n",
       "</style>\n",
       "<table border=\"1\" class=\"dataframe\">\n",
       "  <thead>\n",
       "    <tr style=\"text-align: right;\">\n",
       "      <th></th>\n",
       "      <th>Event</th>\n",
       "      <th>Date</th>\n",
       "      <th>White</th>\n",
       "      <th>Black</th>\n",
       "      <th>Result</th>\n",
       "      <th>BlackElo</th>\n",
       "      <th>BlackRD</th>\n",
       "      <th>ECO</th>\n",
       "      <th>PlyCount</th>\n",
       "      <th>WhiteElo</th>\n",
       "      <th>WhiteRD</th>\n",
       "      <th>emt</th>\n",
       "      <th>moves</th>\n",
       "      <th>WhiteIsComp</th>\n",
       "      <th>BlackIsComp</th>\n",
       "      <th>NoComp</th>\n",
       "      <th>TimeControl_Base</th>\n",
       "      <th>TimeControl_Inc</th>\n",
       "      <th>endings</th>\n",
       "    </tr>\n",
       "  </thead>\n",
       "  <tbody>\n",
       "    <tr>\n",
       "      <th>0</th>\n",
       "      <td>FICS rated blitz game</td>\n",
       "      <td>2021-01-03</td>\n",
       "      <td>sviswa</td>\n",
       "      <td>ForgacsJ(FM)</td>\n",
       "      <td>0-1</td>\n",
       "      <td>2047</td>\n",
       "      <td>0</td>\n",
       "      <td>A43</td>\n",
       "      <td>22</td>\n",
       "      <td>1778</td>\n",
       "      <td>0</td>\n",
       "      <td>[[%emt 0.0], [%emt 0.0], [%emt 2.894], [%emt 0...</td>\n",
       "      <td>[d4, c5, d5, g6, Nf3, Bg7, e3, Nf6, Be2, O-O, ...</td>\n",
       "      <td>0</td>\n",
       "      <td>0</td>\n",
       "      <td>1</td>\n",
       "      <td>180</td>\n",
       "      <td>0</td>\n",
       "      <td>White resigns</td>\n",
       "    </tr>\n",
       "    <tr>\n",
       "      <th>1</th>\n",
       "      <td>FICS rated blitz game</td>\n",
       "      <td>2021-01-03</td>\n",
       "      <td>ForgacsJ(FM)</td>\n",
       "      <td>EinerWieKeiner</td>\n",
       "      <td>1-0</td>\n",
       "      <td>1900</td>\n",
       "      <td>0</td>\n",
       "      <td>A40</td>\n",
       "      <td>69</td>\n",
       "      <td>2050</td>\n",
       "      <td>0</td>\n",
       "      <td>[[%emt 0.0], [%emt 0.0], [%emt 1.575], [%emt 0...</td>\n",
       "      <td>[d4, g6, Bg5, Bg7, Nc3, d6, Qd2, h6, Bh4, Nf6,...</td>\n",
       "      <td>0</td>\n",
       "      <td>0</td>\n",
       "      <td>1</td>\n",
       "      <td>180</td>\n",
       "      <td>0</td>\n",
       "      <td>Black checkmated</td>\n",
       "    </tr>\n",
       "  </tbody>\n",
       "</table>\n",
       "</div>"
      ],
      "text/plain": [
       "                   Event       Date         White           Black Result  \\\n",
       "0  FICS rated blitz game 2021-01-03        sviswa    ForgacsJ(FM)    0-1   \n",
       "1  FICS rated blitz game 2021-01-03  ForgacsJ(FM)  EinerWieKeiner    1-0   \n",
       "\n",
       "   BlackElo BlackRD  ECO  PlyCount  WhiteElo WhiteRD  \\\n",
       "0      2047       0  A43        22      1778       0   \n",
       "1      1900       0  A40        69      2050       0   \n",
       "\n",
       "                                                 emt  \\\n",
       "0  [[%emt 0.0], [%emt 0.0], [%emt 2.894], [%emt 0...   \n",
       "1  [[%emt 0.0], [%emt 0.0], [%emt 1.575], [%emt 0...   \n",
       "\n",
       "                                               moves  WhiteIsComp  \\\n",
       "0  [d4, c5, d5, g6, Nf3, Bg7, e3, Nf6, Be2, O-O, ...            0   \n",
       "1  [d4, g6, Bg5, Bg7, Nc3, d6, Qd2, h6, Bh4, Nf6,...            0   \n",
       "\n",
       "   BlackIsComp  NoComp  TimeControl_Base  TimeControl_Inc           endings  \n",
       "0            0       1               180                0     White resigns  \n",
       "1            0       1               180                0  Black checkmated  "
      ]
     },
     "execution_count": 373,
     "metadata": {},
     "output_type": "execute_result"
    }
   ],
   "source": [
    "test_ = df_2021_2017_titled_distinv.copy()\n",
    "test_['endings'] = how_games_ended(test_.emt)\n",
    "test_.head(2)"
   ]
  },
  {
   "cell_type": "code",
   "execution_count": null,
   "id": "2b50c8d8",
   "metadata": {},
   "outputs": [],
   "source": []
  },
  {
   "cell_type": "code",
   "execution_count": 289,
   "id": "cdcb2383",
   "metadata": {
    "ExecuteTime": {
     "end_time": "2022-10-30T23:52:34.400118Z",
     "start_time": "2022-10-30T23:52:21.143617Z"
    }
   },
   "outputs": [],
   "source": [
    "allemt = extract_all_emt_elements(df_2021_2017_titled_distinv.emt)"
   ]
  },
  {
   "cell_type": "code",
   "execution_count": 291,
   "id": "0c6cbe5d",
   "metadata": {
    "ExecuteTime": {
     "end_time": "2022-10-30T23:53:05.186418Z",
     "start_time": "2022-10-30T23:53:05.097417Z"
    }
   },
   "outputs": [],
   "source": [
    "df_ = df_2021_2017_titled_distinv.copy()\n",
    "df_['emt_val'] = allemt"
   ]
  },
  {
   "cell_type": "code",
   "execution_count": 295,
   "id": "d094ef3d",
   "metadata": {
    "ExecuteTime": {
     "end_time": "2022-10-30T23:54:19.983914Z",
     "start_time": "2022-10-30T23:54:19.942933Z"
    }
   },
   "outputs": [
    {
     "data": {
      "text/html": [
       "<div>\n",
       "<style scoped>\n",
       "    .dataframe tbody tr th:only-of-type {\n",
       "        vertical-align: middle;\n",
       "    }\n",
       "\n",
       "    .dataframe tbody tr th {\n",
       "        vertical-align: top;\n",
       "    }\n",
       "\n",
       "    .dataframe thead th {\n",
       "        text-align: right;\n",
       "    }\n",
       "</style>\n",
       "<table border=\"1\" class=\"dataframe\">\n",
       "  <thead>\n",
       "    <tr style=\"text-align: right;\">\n",
       "      <th></th>\n",
       "      <th>Event</th>\n",
       "      <th>Date</th>\n",
       "      <th>White</th>\n",
       "      <th>Black</th>\n",
       "      <th>Result</th>\n",
       "      <th>BlackElo</th>\n",
       "      <th>BlackRD</th>\n",
       "      <th>ECO</th>\n",
       "      <th>PlyCount</th>\n",
       "      <th>WhiteElo</th>\n",
       "      <th>WhiteRD</th>\n",
       "      <th>emt</th>\n",
       "      <th>moves</th>\n",
       "      <th>WhiteIsComp</th>\n",
       "      <th>BlackIsComp</th>\n",
       "      <th>NoComp</th>\n",
       "      <th>TimeControl_Base</th>\n",
       "      <th>TimeControl_Inc</th>\n",
       "      <th>emt_val</th>\n",
       "    </tr>\n",
       "  </thead>\n",
       "  <tbody>\n",
       "    <tr>\n",
       "      <th>233</th>\n",
       "      <td>FICS rated blitz game</td>\n",
       "      <td>2021-01-29</td>\n",
       "      <td>Groemaz</td>\n",
       "      <td>ForgacsJ(FM)</td>\n",
       "      <td>0-1</td>\n",
       "      <td>2003</td>\n",
       "      <td>0</td>\n",
       "      <td>A00</td>\n",
       "      <td>0</td>\n",
       "      <td>1801</td>\n",
       "      <td>0</td>\n",
       "      <td>[]</td>\n",
       "      <td>[]</td>\n",
       "      <td>0</td>\n",
       "      <td>0</td>\n",
       "      <td>1</td>\n",
       "      <td>180</td>\n",
       "      <td>0</td>\n",
       "      <td>[]</td>\n",
       "    </tr>\n",
       "    <tr>\n",
       "      <th>276</th>\n",
       "      <td>FICS rated blitz game</td>\n",
       "      <td>2021-02-02</td>\n",
       "      <td>stupidnewbie</td>\n",
       "      <td>ForgacsJ(FM)</td>\n",
       "      <td>1-0</td>\n",
       "      <td>2021</td>\n",
       "      <td>0</td>\n",
       "      <td>A00</td>\n",
       "      <td>0</td>\n",
       "      <td>2015</td>\n",
       "      <td>0</td>\n",
       "      <td>[]</td>\n",
       "      <td>[]</td>\n",
       "      <td>0</td>\n",
       "      <td>0</td>\n",
       "      <td>1</td>\n",
       "      <td>180</td>\n",
       "      <td>0</td>\n",
       "      <td>[]</td>\n",
       "    </tr>\n",
       "  </tbody>\n",
       "</table>\n",
       "</div>"
      ],
      "text/plain": [
       "                     Event       Date         White         Black Result  \\\n",
       "233  FICS rated blitz game 2021-01-29       Groemaz  ForgacsJ(FM)    0-1   \n",
       "276  FICS rated blitz game 2021-02-02  stupidnewbie  ForgacsJ(FM)    1-0   \n",
       "\n",
       "     BlackElo BlackRD  ECO  PlyCount  WhiteElo WhiteRD emt moves  WhiteIsComp  \\\n",
       "233      2003       0  A00         0      1801       0  []    []            0   \n",
       "276      2021       0  A00         0      2015       0  []    []            0   \n",
       "\n",
       "     BlackIsComp  NoComp  TimeControl_Base  TimeControl_Inc emt_val  \n",
       "233            0       1               180                0      []  \n",
       "276            0       1               180                0      []  "
      ]
     },
     "execution_count": 295,
     "metadata": {},
     "output_type": "execute_result"
    }
   ],
   "source": [
    "df_[[val_==[] for val_ in df_.emt_val]].head(2)"
   ]
  },
  {
   "cell_type": "code",
   "execution_count": null,
   "id": "5d5d95e8",
   "metadata": {},
   "outputs": [],
   "source": []
  },
  {
   "cell_type": "code",
   "execution_count": null,
   "id": "71856f99",
   "metadata": {},
   "outputs": [],
   "source": []
  },
  {
   "cell_type": "code",
   "execution_count": null,
   "id": "281a5447",
   "metadata": {},
   "outputs": [],
   "source": []
  },
  {
   "cell_type": "code",
   "execution_count": 203,
   "id": "e886ba68",
   "metadata": {
    "ExecuteTime": {
     "end_time": "2022-10-30T23:03:54.030400Z",
     "start_time": "2022-10-30T23:03:54.004391Z"
    }
   },
   "outputs": [
    {
     "data": {
      "text/plain": [
       "True"
      ]
     },
     "execution_count": 203,
     "metadata": {},
     "output_type": "execute_result"
    }
   ],
   "source": [
    "any([row==[] for row in df_2021_2017_titled_distinv.emt])"
   ]
  },
  {
   "cell_type": "code",
   "execution_count": 199,
   "id": "998b25cf",
   "metadata": {
    "ExecuteTime": {
     "end_time": "2022-10-30T23:02:54.704990Z",
     "start_time": "2022-10-30T23:02:54.687039Z"
    }
   },
   "outputs": [],
   "source": [
    "# how_game_ended(sample_emt) # works\n",
    "# how_game_ended(pd.Series(df_2021_2017_titled_distinv.emt)) # list index out of range\n",
    "\n",
    "# test_series_emt_ = df_2021_2017_titled_distinv.emt\n",
    "# how_game_ended(test_series_emt_) # list index out of range"
   ]
  },
  {
   "cell_type": "code",
   "execution_count": null,
   "id": "64843999",
   "metadata": {},
   "outputs": [],
   "source": []
  },
  {
   "cell_type": "code",
   "execution_count": null,
   "id": "a41d25de",
   "metadata": {},
   "outputs": [],
   "source": []
  },
  {
   "cell_type": "code",
   "execution_count": null,
   "id": "d8075abd",
   "metadata": {},
   "outputs": [],
   "source": []
  },
  {
   "cell_type": "markdown",
   "id": "1657c734",
   "metadata": {},
   "source": [
    "----"
   ]
  },
  {
   "cell_type": "markdown",
   "id": "0549cfb4",
   "metadata": {},
   "source": [
    "### Finding good parameters of stockfish"
   ]
  },
  {
   "cell_type": "markdown",
   "id": "36ab6d77",
   "metadata": {},
   "source": [
    "#### Test 1"
   ]
  },
  {
   "cell_type": "code",
   "execution_count": 634,
   "id": "1374f9ca",
   "metadata": {
    "ExecuteTime": {
     "end_time": "2022-10-31T16:54:43.630088Z",
     "start_time": "2022-10-31T16:54:43.226257Z"
    }
   },
   "outputs": [],
   "source": [
    "sf_ = Stockfish(path='./stockfish_15_win_x64_ssse/stockfish_15_x64_ssse.exe',\n",
    "        depth=20,\n",
    "        parameters={\n",
    "            \"Threads\": 4,\n",
    "            \"Hash\": 1024,\n",
    "            \"MultiPV\": 1,\n",
    "            \"Skill Level\": 20,\n",
    "            \"Debug Log File\": 'C:/Users/MaNiL/Desktop/data/capstone/preprocessed/evaluations/log.txt',\n",
    "            \"Move Overhead\": 1,\n",
    "            \"Slow Mover\": 20\n",
    "#             , \"SyzygyPath\": ' '\n",
    "            \n",
    "            }\n",
    "        )"
   ]
  },
  {
   "cell_type": "code",
   "execution_count": 635,
   "id": "e4c93e97",
   "metadata": {
    "ExecuteTime": {
     "end_time": "2022-10-31T16:54:44.613292Z",
     "start_time": "2022-10-31T16:54:44.604281Z"
    }
   },
   "outputs": [
    {
     "data": {
      "text/plain": [
       "{'Debug Log File': 'C:/Users/MaNiL/Desktop/data/capstone/preprocessed/evaluations/log.txt',\n",
       " 'Contempt': 0,\n",
       " 'Min Split Depth': 0,\n",
       " 'Ponder': 'false',\n",
       " 'MultiPV': 1,\n",
       " 'Skill Level': 20,\n",
       " 'Move Overhead': 1,\n",
       " 'Minimum Thinking Time': 20,\n",
       " 'Slow Mover': 20,\n",
       " 'UCI_Chess960': 'false',\n",
       " 'UCI_LimitStrength': 'false',\n",
       " 'UCI_Elo': 1350,\n",
       " 'Threads': 4,\n",
       " 'Hash': 1024}"
      ]
     },
     "execution_count": 635,
     "metadata": {},
     "output_type": "execute_result"
    }
   ],
   "source": [
    "sf_.get_parameters()"
   ]
  },
  {
   "cell_type": "code",
   "execution_count": 636,
   "id": "39602cfd",
   "metadata": {
    "ExecuteTime": {
     "end_time": "2022-10-31T16:54:45.518714Z",
     "start_time": "2022-10-31T16:54:45.455660Z"
    }
   },
   "outputs": [],
   "source": [
    "sf_.set_position()"
   ]
  },
  {
   "cell_type": "code",
   "execution_count": 640,
   "id": "f2d1b7b5",
   "metadata": {
    "ExecuteTime": {
     "end_time": "2022-10-31T16:56:46.817250Z",
     "start_time": "2022-10-31T16:56:46.812277Z"
    }
   },
   "outputs": [],
   "source": [
    "# sf_.get_top_moves(5) # 3.34s\n",
    "\n",
    "# [{'Move': 'c2c4', 'Centipawn': 43, 'Mate': None},\n",
    "#  {'Move': 'd2d4', 'Centipawn': 42, 'Mate': None},\n",
    "#  {'Move': 'e2e4', 'Centipawn': 34, 'Mate': None},\n",
    "#  {'Move': 'g1f3', 'Centipawn': 34, 'Mate': None},\n",
    "#  {'Move': 'e2e3', 'Centipawn': 23, 'Mate': None}]"
   ]
  },
  {
   "cell_type": "code",
   "execution_count": 639,
   "id": "29c03b4c",
   "metadata": {
    "ExecuteTime": {
     "end_time": "2022-10-31T16:56:44.715773Z",
     "start_time": "2022-10-31T16:56:44.706764Z"
    }
   },
   "outputs": [],
   "source": [
    "# t=time.time()\n",
    "# get_evaluations(df_2021_2017_titled_distinv.moves[0]) # 1m 4.23s\n",
    "# t2=time.time()\n",
    "# t2-t # 1m 20s\n",
    "# # 82.31242609024048"
   ]
  },
  {
   "cell_type": "markdown",
   "id": "fbd09152",
   "metadata": {},
   "source": [
    "-----"
   ]
  },
  {
   "cell_type": "markdown",
   "id": "0456f4aa",
   "metadata": {},
   "source": [
    "#### Test 2"
   ]
  },
  {
   "cell_type": "code",
   "execution_count": null,
   "id": "9e24896c",
   "metadata": {},
   "outputs": [],
   "source": [
    "# only increasing move-overhead to 100"
   ]
  },
  {
   "cell_type": "code",
   "execution_count": 629,
   "id": "ecdf17df",
   "metadata": {
    "ExecuteTime": {
     "end_time": "2022-10-31T16:50:21.629262Z",
     "start_time": "2022-10-31T16:50:21.321534Z"
    }
   },
   "outputs": [],
   "source": [
    "sf_ = Stockfish(path='./stockfish_15_win_x64_ssse/stockfish_15_x64_ssse.exe',\n",
    "        depth=20,\n",
    "        parameters={\n",
    "            \"Threads\": 4,\n",
    "            \"Hash\": 1024,\n",
    "            \"MultiPV\": 1,\n",
    "            \"Skill Level\": 20,\n",
    "            \"Debug Log File\": 'C:/Users/MaNiL/Desktop/data/capstone/preprocessed/evaluations/log.txt',\n",
    "            \"Move Overhead\": 100,\n",
    "            \"Slow Mover\": 20\n",
    "#             , \"SyzygyPath\": ' '\n",
    "            \n",
    "            }\n",
    "        )"
   ]
  },
  {
   "cell_type": "code",
   "execution_count": 630,
   "id": "9d0be911",
   "metadata": {
    "ExecuteTime": {
     "end_time": "2022-10-31T16:50:21.846492Z",
     "start_time": "2022-10-31T16:50:21.833578Z"
    }
   },
   "outputs": [
    {
     "data": {
      "text/plain": [
       "{'Debug Log File': 'C:/Users/MaNiL/Desktop/data/capstone/preprocessed/evaluations/log.txt',\n",
       " 'Contempt': 0,\n",
       " 'Min Split Depth': 0,\n",
       " 'Ponder': 'false',\n",
       " 'MultiPV': 1,\n",
       " 'Skill Level': 20,\n",
       " 'Move Overhead': 100,\n",
       " 'Minimum Thinking Time': 20,\n",
       " 'Slow Mover': 20,\n",
       " 'UCI_Chess960': 'false',\n",
       " 'UCI_LimitStrength': 'false',\n",
       " 'UCI_Elo': 1350,\n",
       " 'Threads': 4,\n",
       " 'Hash': 1024}"
      ]
     },
     "execution_count": 630,
     "metadata": {},
     "output_type": "execute_result"
    }
   ],
   "source": [
    "sf_.get_parameters()"
   ]
  },
  {
   "cell_type": "code",
   "execution_count": 631,
   "id": "c167dceb",
   "metadata": {
    "ExecuteTime": {
     "end_time": "2022-10-31T16:50:23.324204Z",
     "start_time": "2022-10-31T16:50:23.262117Z"
    }
   },
   "outputs": [],
   "source": [
    "sf_.set_position()"
   ]
  },
  {
   "cell_type": "code",
   "execution_count": 632,
   "id": "d2fa6a19",
   "metadata": {
    "ExecuteTime": {
     "end_time": "2022-10-31T16:50:26.182362Z",
     "start_time": "2022-10-31T16:50:24.214413Z"
    }
   },
   "outputs": [
    {
     "data": {
      "text/plain": [
       "[{'Move': 'd2d4', 'Centipawn': 40, 'Mate': None},\n",
       " {'Move': 'e2e4', 'Centipawn': 40, 'Mate': None},\n",
       " {'Move': 'g1f3', 'Centipawn': 37, 'Mate': None},\n",
       " {'Move': 'c2c4', 'Centipawn': 34, 'Mate': None},\n",
       " {'Move': 'g2g3', 'Centipawn': 29, 'Mate': None}]"
      ]
     },
     "execution_count": 632,
     "metadata": {},
     "output_type": "execute_result"
    }
   ],
   "source": [
    "# sf_.get_top_moves(5) # 1.97s\n",
    "\n",
    "# [{'Move': 'd2d4', 'Centipawn': 40, 'Mate': None},\n",
    "#  {'Move': 'e2e4', 'Centipawn': 40, 'Mate': None},\n",
    "#  {'Move': 'g1f3', 'Centipawn': 37, 'Mate': None},\n",
    "#  {'Move': 'c2c4', 'Centipawn': 34, 'Mate': None},\n",
    "#  {'Move': 'g2g3', 'Centipawn': 29, 'Mate': None}]"
   ]
  },
  {
   "cell_type": "code",
   "execution_count": 633,
   "id": "b633ed70",
   "metadata": {
    "ExecuteTime": {
     "end_time": "2022-10-31T16:51:56.048136Z",
     "start_time": "2022-10-31T16:50:45.077906Z"
    }
   },
   "outputs": [
    {
     "data": {
      "text/plain": [
       "70.95432043075562"
      ]
     },
     "execution_count": 633,
     "metadata": {},
     "output_type": "execute_result"
    }
   ],
   "source": [
    "t=time.time()\n",
    "get_evaluations(df_2021_2017_titled_distinv.moves[0])\n",
    "t2=time.time()\n",
    "t2-t\n",
    "# 70.95432043075562"
   ]
  },
  {
   "cell_type": "markdown",
   "id": "dadc438d",
   "metadata": {},
   "source": [
    "-----"
   ]
  },
  {
   "cell_type": "markdown",
   "id": "6c543310",
   "metadata": {},
   "source": [
    "#### Test 3"
   ]
  },
  {
   "cell_type": "code",
   "execution_count": null,
   "id": "ec57756f",
   "metadata": {},
   "outputs": [],
   "source": [
    "# changing slow mover to 1"
   ]
  },
  {
   "cell_type": "code",
   "execution_count": 647,
   "id": "4964a2a4",
   "metadata": {
    "ExecuteTime": {
     "end_time": "2022-10-31T16:59:43.266940Z",
     "start_time": "2022-10-31T16:59:43.009272Z"
    }
   },
   "outputs": [],
   "source": [
    "sf_ = Stockfish(path='./stockfish_15_win_x64_ssse/stockfish_15_x64_ssse.exe',\n",
    "        depth=20,\n",
    "        parameters={\n",
    "            \"Threads\": 4,\n",
    "            \"Hash\": 1024,\n",
    "            \"MultiPV\": 1,\n",
    "            \"Skill Level\": 20,\n",
    "            \"Debug Log File\": 'C:/Users/MaNiL/Desktop/data/capstone/preprocessed/evaluations/log.txt',\n",
    "            \"Move Overhead\": 100,\n",
    "            \"Slow Mover\": 1\n",
    "            \n",
    "            }\n",
    "        )"
   ]
  },
  {
   "cell_type": "code",
   "execution_count": 648,
   "id": "197ae726",
   "metadata": {
    "ExecuteTime": {
     "end_time": "2022-10-31T16:59:43.470970Z",
     "start_time": "2022-10-31T16:59:43.463970Z"
    }
   },
   "outputs": [
    {
     "data": {
      "text/plain": [
       "{'Debug Log File': 'C:/Users/MaNiL/Desktop/data/capstone/preprocessed/evaluations/log.txt',\n",
       " 'Contempt': 0,\n",
       " 'Min Split Depth': 0,\n",
       " 'Ponder': 'false',\n",
       " 'MultiPV': 1,\n",
       " 'Skill Level': 20,\n",
       " 'Move Overhead': 100,\n",
       " 'Minimum Thinking Time': 20,\n",
       " 'Slow Mover': 1,\n",
       " 'UCI_Chess960': 'false',\n",
       " 'UCI_LimitStrength': 'false',\n",
       " 'UCI_Elo': 1350,\n",
       " 'Threads': 4,\n",
       " 'Hash': 1024}"
      ]
     },
     "execution_count": 648,
     "metadata": {},
     "output_type": "execute_result"
    }
   ],
   "source": [
    "sf_.get_parameters()"
   ]
  },
  {
   "cell_type": "code",
   "execution_count": 649,
   "id": "67bc6913",
   "metadata": {
    "ExecuteTime": {
     "end_time": "2022-10-31T16:59:44.467272Z",
     "start_time": "2022-10-31T16:59:44.415226Z"
    }
   },
   "outputs": [],
   "source": [
    "sf_.set_position()"
   ]
  },
  {
   "cell_type": "code",
   "execution_count": 650,
   "id": "c055c5c4",
   "metadata": {
    "ExecuteTime": {
     "end_time": "2022-10-31T16:59:49.037818Z",
     "start_time": "2022-10-31T16:59:47.279957Z"
    }
   },
   "outputs": [
    {
     "data": {
      "text/plain": [
       "[{'Move': 'g1f3', 'Centipawn': 48, 'Mate': None},\n",
       " {'Move': 'c2c4', 'Centipawn': 43, 'Mate': None},\n",
       " {'Move': 'd2d4', 'Centipawn': 38, 'Mate': None},\n",
       " {'Move': 'e2e4', 'Centipawn': 31, 'Mate': None},\n",
       " {'Move': 'e2e3', 'Centipawn': 15, 'Mate': None}]"
      ]
     },
     "execution_count": 650,
     "metadata": {},
     "output_type": "execute_result"
    }
   ],
   "source": [
    "# sf_.get_top_moves(5) # 1.76s\n",
    "\n",
    "# [{'Move': 'g1f3', 'Centipawn': 48, 'Mate': None},\n",
    "#  {'Move': 'c2c4', 'Centipawn': 43, 'Mate': None},\n",
    "#  {'Move': 'd2d4', 'Centipawn': 38, 'Mate': None},\n",
    "#  {'Move': 'e2e4', 'Centipawn': 31, 'Mate': None},\n",
    "#  {'Move': 'e2e3', 'Centipawn': 15, 'Mate': None}]"
   ]
  },
  {
   "cell_type": "code",
   "execution_count": 652,
   "id": "2deba76c",
   "metadata": {
    "ExecuteTime": {
     "end_time": "2022-10-31T17:01:56.543020Z",
     "start_time": "2022-10-31T17:01:56.530019Z"
    }
   },
   "outputs": [],
   "source": [
    "# t=time.time()\n",
    "# get_evaluations(df_2021_2017_titled_distinv.moves[0])\n",
    "# t2=time.time()\n",
    "# t2-t\n",
    "# # 82.00540208816528"
   ]
  },
  {
   "cell_type": "markdown",
   "id": "d1e002b0",
   "metadata": {},
   "source": [
    "-----"
   ]
  },
  {
   "cell_type": "markdown",
   "id": "d13d730f",
   "metadata": {},
   "source": [
    "#### Test 4"
   ]
  },
  {
   "cell_type": "code",
   "execution_count": 653,
   "id": "cafa6df1",
   "metadata": {
    "ExecuteTime": {
     "end_time": "2022-10-31T17:02:16.867417Z",
     "start_time": "2022-10-31T17:02:16.858449Z"
    }
   },
   "outputs": [],
   "source": [
    "# Increasing slow mover to 100"
   ]
  },
  {
   "cell_type": "code",
   "execution_count": 654,
   "id": "47269834",
   "metadata": {
    "ExecuteTime": {
     "end_time": "2022-10-31T17:02:32.432385Z",
     "start_time": "2022-10-31T17:02:32.046098Z"
    }
   },
   "outputs": [],
   "source": [
    "sf_ = Stockfish(path='./stockfish_15_win_x64_ssse/stockfish_15_x64_ssse.exe',\n",
    "        depth=20,\n",
    "        parameters={\n",
    "            \"Threads\": 4,\n",
    "            \"Hash\": 1024,\n",
    "            \"MultiPV\": 1,\n",
    "            \"Skill Level\": 20,\n",
    "            \"Debug Log File\": 'C:/Users/MaNiL/Desktop/data/capstone/preprocessed/evaluations/log.txt',\n",
    "            \"Move Overhead\": 100,\n",
    "            \"Slow Mover\": 100\n",
    "            \n",
    "            }\n",
    "        )"
   ]
  },
  {
   "cell_type": "code",
   "execution_count": 655,
   "id": "caa4a1a6",
   "metadata": {
    "ExecuteTime": {
     "end_time": "2022-10-31T17:02:32.526075Z",
     "start_time": "2022-10-31T17:02:32.517077Z"
    }
   },
   "outputs": [
    {
     "data": {
      "text/plain": [
       "{'Debug Log File': 'C:/Users/MaNiL/Desktop/data/capstone/preprocessed/evaluations/log.txt',\n",
       " 'Contempt': 0,\n",
       " 'Min Split Depth': 0,\n",
       " 'Ponder': 'false',\n",
       " 'MultiPV': 1,\n",
       " 'Skill Level': 20,\n",
       " 'Move Overhead': 100,\n",
       " 'Minimum Thinking Time': 20,\n",
       " 'Slow Mover': 100,\n",
       " 'UCI_Chess960': 'false',\n",
       " 'UCI_LimitStrength': 'false',\n",
       " 'UCI_Elo': 1350,\n",
       " 'Threads': 4,\n",
       " 'Hash': 1024}"
      ]
     },
     "execution_count": 655,
     "metadata": {},
     "output_type": "execute_result"
    }
   ],
   "source": [
    "sf_.get_parameters()"
   ]
  },
  {
   "cell_type": "code",
   "execution_count": 673,
   "id": "01c41989",
   "metadata": {
    "ExecuteTime": {
     "end_time": "2022-10-31T17:12:51.489325Z",
     "start_time": "2022-10-31T17:12:51.423280Z"
    }
   },
   "outputs": [],
   "source": [
    "sf_.set_position()"
   ]
  },
  {
   "cell_type": "code",
   "execution_count": 657,
   "id": "9828dfb4",
   "metadata": {
    "ExecuteTime": {
     "end_time": "2022-10-31T17:02:39.802808Z",
     "start_time": "2022-10-31T17:02:38.311800Z"
    }
   },
   "outputs": [
    {
     "data": {
      "text/plain": [
       "[{'Move': 'd2d4', 'Centipawn': 40, 'Mate': None},\n",
       " {'Move': 'g1f3', 'Centipawn': 40, 'Mate': None},\n",
       " {'Move': 'c2c4', 'Centipawn': 40, 'Mate': None},\n",
       " {'Move': 'e2e4', 'Centipawn': 40, 'Mate': None},\n",
       " {'Move': 'g2g3', 'Centipawn': 29, 'Mate': None}]"
      ]
     },
     "execution_count": 657,
     "metadata": {},
     "output_type": "execute_result"
    }
   ],
   "source": [
    "# sf_.get_top_moves(5) # 1.49s\n",
    "\n",
    "# [{'Move': 'd2d4', 'Centipawn': 40, 'Mate': None},\n",
    "#  {'Move': 'g1f3', 'Centipawn': 40, 'Mate': None},\n",
    "#  {'Move': 'c2c4', 'Centipawn': 40, 'Mate': None},\n",
    "#  {'Move': 'e2e4', 'Centipawn': 40, 'Mate': None},\n",
    "#  {'Move': 'g2g3', 'Centipawn': 29, 'Mate': None}]"
   ]
  },
  {
   "cell_type": "code",
   "execution_count": 658,
   "id": "1b60d028",
   "metadata": {
    "ExecuteTime": {
     "end_time": "2022-10-31T17:04:18.258898Z",
     "start_time": "2022-10-31T17:02:57.962922Z"
    }
   },
   "outputs": [
    {
     "data": {
      "text/plain": [
       "80.28699994087219"
      ]
     },
     "execution_count": 658,
     "metadata": {},
     "output_type": "execute_result"
    }
   ],
   "source": [
    "# t=time.time()\n",
    "# get_evaluations(df_2021_2017_titled_distinv.moves[0])\n",
    "# t2=time.time()\n",
    "# t2-t\n",
    "# # 80.28699994087219"
   ]
  },
  {
   "cell_type": "markdown",
   "id": "f6998ebb",
   "metadata": {},
   "source": [
    "-----"
   ]
  },
  {
   "cell_type": "markdown",
   "id": "ee679639",
   "metadata": {},
   "source": [
    "#### Using chess"
   ]
  },
  {
   "cell_type": "code",
   "execution_count": 666,
   "id": "62b9ec00",
   "metadata": {
    "ExecuteTime": {
     "end_time": "2022-10-31T17:09:25.573935Z",
     "start_time": "2022-10-31T17:09:25.286855Z"
    }
   },
   "outputs": [],
   "source": [
    "# engine = chess.engine.popen_uci(Stockfish(path='./stockfish_15_win_x64_ssse/stockfish_15_x64_ssse.exe',\n",
    "#         depth=20,\n",
    "#         parameters={\n",
    "#             \"Threads\": 4,\n",
    "#             \"Hash\": 1024,\n",
    "#             \"MultiPV\": 1,\n",
    "#             \"Skill Level\": 20,\n",
    "#             \"Debug Log File\": 'C:/Users/MaNiL/Desktop/data/capstone/preprocessed/evaluations/log.txt',\n",
    "#             \"Move Overhead\": 100,\n",
    "#             \"Slow Mover\": 100\n",
    "            \n",
    "#             }\n",
    "#         ))"
   ]
  },
  {
   "cell_type": "code",
   "execution_count": 755,
   "id": "18e656ec",
   "metadata": {
    "ExecuteTime": {
     "end_time": "2022-10-31T17:52:20.506814Z",
     "start_time": "2022-10-31T17:52:20.431752Z"
    }
   },
   "outputs": [],
   "source": [
    "engine = chess.engine.SimpleEngine.popen_uci('./stockfish_15_win_x64_ssse/stockfish_15_x64_ssse.exe')"
   ]
  },
  {
   "cell_type": "code",
   "execution_count": 704,
   "id": "cc6d2f20",
   "metadata": {
    "ExecuteTime": {
     "end_time": "2022-10-31T17:34:54.314522Z",
     "start_time": "2022-10-31T17:34:54.297544Z"
    }
   },
   "outputs": [
    {
     "data": {
      "text/plain": [
       "Option(name='Hash', type='spin', default=16, min=1, max=33554432, var=[])"
      ]
     },
     "metadata": {},
     "output_type": "display_data"
    },
    {
     "data": {
      "text/plain": [
       "Option(name='Threads', type='spin', default=1, min=1, max=512, var=[])"
      ]
     },
     "metadata": {},
     "output_type": "display_data"
    },
    {
     "data": {
      "text/plain": [
       "Option(name='MultiPV', type='spin', default=1, min=1, max=500, var=[])"
      ]
     },
     "metadata": {},
     "output_type": "display_data"
    },
    {
     "data": {
      "text/plain": [
       "Option(name='Skill Level', type='spin', default=20, min=0, max=20, var=[])"
      ]
     },
     "metadata": {},
     "output_type": "display_data"
    },
    {
     "data": {
      "text/plain": [
       "Option(name='Debug Log File', type='string', default='', min=None, max=None, var=[])"
      ]
     },
     "metadata": {},
     "output_type": "display_data"
    },
    {
     "data": {
      "text/plain": [
       "Option(name='Move Overhead', type='spin', default=10, min=0, max=5000, var=[])"
      ]
     },
     "metadata": {},
     "output_type": "display_data"
    },
    {
     "data": {
      "text/plain": [
       "Option(name='Slow Mover', type='spin', default=100, min=10, max=1000, var=[])"
      ]
     },
     "metadata": {},
     "output_type": "display_data"
    }
   ],
   "source": [
    "display(engine.options[\"Hash\"])\n",
    "\n",
    "display(engine.options[\"Threads\"])\n",
    "\n",
    "display(engine.options[\"MultiPV\"])\n",
    "\n",
    "display(engine.options[\"Skill level\"])\n",
    "\n",
    "display(engine.options[\"Debug Log File\"])\n",
    "\n",
    "display(engine.options[\"Move Overhead\"])\n",
    "\n",
    "display(engine.options[\"Slow Mover\"])"
   ]
  },
  {
   "cell_type": "code",
   "execution_count": 756,
   "id": "0dff6a1f",
   "metadata": {
    "ExecuteTime": {
     "end_time": "2022-10-31T17:52:23.397827Z",
     "start_time": "2022-10-31T17:52:23.380867Z"
    }
   },
   "outputs": [],
   "source": [
    "engine.configure({\"Hash\": 1024})\n",
    "\n",
    "engine.configure({\"Threads\": 4})\n",
    "\n",
    "# engine.configure({\"MultiPV\": 5})\n",
    "\n",
    "engine.configure({\"Skill level\": 20})\n",
    "\n",
    "engine.configure({\"Debug Log File\": \\\n",
    "                  'C:/Users/MaNiL/Desktop/data/capstone/preprocessed/evaluations/log.txt'})\n",
    "\n",
    "engine.configure({\"Move Overhead\": 100})\n",
    "\n",
    "engine.configure({\"Slow Mover\": 20})"
   ]
  },
  {
   "cell_type": "code",
   "execution_count": 764,
   "id": "047c2cc5",
   "metadata": {
    "ExecuteTime": {
     "end_time": "2022-10-31T17:53:11.954075Z",
     "start_time": "2022-10-31T17:53:11.948074Z"
    }
   },
   "outputs": [
    {
     "data": {
      "text/plain": [
       "<coroutine object UciProtocol.configure at 0x000001D51F346D40>"
      ]
     },
     "execution_count": 764,
     "metadata": {},
     "output_type": "execute_result"
    }
   ],
   "source": [
    "engine.protocol.configure({\"Hash\": 2048})"
   ]
  },
  {
   "cell_type": "code",
   "execution_count": 712,
   "id": "e3db5042",
   "metadata": {
    "ExecuteTime": {
     "end_time": "2022-10-31T17:39:23.118773Z",
     "start_time": "2022-10-31T17:39:23.101773Z"
    }
   },
   "outputs": [
    {
     "data": {
      "text/plain": [
       "Option(name='Hash', type='spin', default=16, min=1, max=33554432, var=[])"
      ]
     },
     "metadata": {},
     "output_type": "display_data"
    }
   ],
   "source": [
    "display(engine.options[\"Hash\"])"
   ]
  },
  {
   "cell_type": "code",
   "execution_count": 763,
   "id": "81697e47",
   "metadata": {
    "ExecuteTime": {
     "end_time": "2022-10-31T17:53:04.766374Z",
     "start_time": "2022-10-31T17:53:04.755371Z"
    }
   },
   "outputs": [],
   "source": [
    "# display(engine.options[\"Hash\"])\n",
    "\n",
    "# display(engine.options[\"Threads\"])\n",
    "\n",
    "# display(engine.options[\"MultiPV\"])\n",
    "\n",
    "# display(engine.options[\"Skill level\"])\n",
    "\n",
    "# display(engine.options[\"Debug Log File\"])\n",
    "\n",
    "# display(engine.options[\"Move Overhead\"])\n",
    "\n",
    "# display(engine.options[\"Slow Mover\"])"
   ]
  },
  {
   "cell_type": "code",
   "execution_count": null,
   "id": "4cd6bea5",
   "metadata": {},
   "outputs": [],
   "source": []
  },
  {
   "cell_type": "code",
   "execution_count": null,
   "id": "6cc0aee9",
   "metadata": {},
   "outputs": [],
   "source": []
  },
  {
   "cell_type": "code",
   "execution_count": null,
   "id": "84e85061",
   "metadata": {},
   "outputs": [],
   "source": []
  },
  {
   "cell_type": "code",
   "execution_count": 765,
   "id": "3c797b0f",
   "metadata": {
    "ExecuteTime": {
     "end_time": "2022-10-31T17:53:16.991591Z",
     "start_time": "2022-10-31T17:53:16.983593Z"
    }
   },
   "outputs": [],
   "source": [
    "board = chess.Board()\n",
    "limit = chess.engine.Limit(time=1, depth=25)"
   ]
  },
  {
   "cell_type": "code",
   "execution_count": 739,
   "id": "ad9f7d48",
   "metadata": {
    "ExecuteTime": {
     "end_time": "2022-10-31T17:50:10.226406Z",
     "start_time": "2022-10-31T17:50:10.212407Z"
    }
   },
   "outputs": [
    {
     "data": {
      "image/svg+xml": [
       "<svg xmlns=\"http://www.w3.org/2000/svg\" xmlns:xlink=\"http://www.w3.org/1999/xlink\" version=\"1.2\" baseProfile=\"tiny\" viewBox=\"0 0 390 390\" width=\"390\" height=\"390\"><desc><pre>r n b q k b n r\n",
       "p p p p p p p p\n",
       ". . . . . . . .\n",
       ". . . . . . . .\n",
       ". . . . . . . .\n",
       ". . . . . . . .\n",
       "P P P P P P P P\n",
       "R N B Q K B N R</pre></desc><defs><g id=\"white-pawn\" class=\"white pawn\"><path d=\"M22.5 9c-2.21 0-4 1.79-4 4 0 .89.29 1.71.78 2.38C17.33 16.5 16 18.59 16 21c0 2.03.94 3.84 2.41 5.03-3 1.06-7.41 5.55-7.41 13.47h23c0-7.92-4.41-12.41-7.41-13.47 1.47-1.19 2.41-3 2.41-5.03 0-2.41-1.33-4.5-3.28-5.62.49-.67.78-1.49.78-2.38 0-2.21-1.79-4-4-4z\" fill=\"#fff\" stroke=\"#000\" stroke-width=\"1.5\" stroke-linecap=\"round\" /></g><g id=\"white-knight\" class=\"white knight\" fill=\"none\" fill-rule=\"evenodd\" stroke=\"#000\" stroke-width=\"1.5\" stroke-linecap=\"round\" stroke-linejoin=\"round\"><path d=\"M 22,10 C 32.5,11 38.5,18 38,39 L 15,39 C 15,30 25,32.5 23,18\" style=\"fill:#ffffff; stroke:#000000;\" /><path d=\"M 24,18 C 24.38,20.91 18.45,25.37 16,27 C 13,29 13.18,31.34 11,31 C 9.958,30.06 12.41,27.96 11,28 C 10,28 11.19,29.23 10,30 C 9,30 5.997,31 6,26 C 6,24 12,14 12,14 C 12,14 13.89,12.1 14,10.5 C 13.27,9.506 13.5,8.5 13.5,7.5 C 14.5,6.5 16.5,10 16.5,10 L 18.5,10 C 18.5,10 19.28,8.008 21,7 C 22,7 22,10 22,10\" style=\"fill:#ffffff; stroke:#000000;\" /><path d=\"M 9.5 25.5 A 0.5 0.5 0 1 1 8.5,25.5 A 0.5 0.5 0 1 1 9.5 25.5 z\" style=\"fill:#000000; stroke:#000000;\" /><path d=\"M 15 15.5 A 0.5 1.5 0 1 1 14,15.5 A 0.5 1.5 0 1 1 15 15.5 z\" transform=\"matrix(0.866,0.5,-0.5,0.866,9.693,-5.173)\" style=\"fill:#000000; stroke:#000000;\" /></g><g id=\"white-bishop\" class=\"white bishop\" fill=\"none\" fill-rule=\"evenodd\" stroke=\"#000\" stroke-width=\"1.5\" stroke-linecap=\"round\" stroke-linejoin=\"round\"><g fill=\"#fff\" stroke-linecap=\"butt\"><path d=\"M9 36c3.39-.97 10.11.43 13.5-2 3.39 2.43 10.11 1.03 13.5 2 0 0 1.65.54 3 2-.68.97-1.65.99-3 .5-3.39-.97-10.11.46-13.5-1-3.39 1.46-10.11.03-13.5 1-1.354.49-2.323.47-3-.5 1.354-1.94 3-2 3-2zM15 32c2.5 2.5 12.5 2.5 15 0 .5-1.5 0-2 0-2 0-2.5-2.5-4-2.5-4 5.5-1.5 6-11.5-5-15.5-11 4-10.5 14-5 15.5 0 0-2.5 1.5-2.5 4 0 0-.5.5 0 2zM25 8a2.5 2.5 0 1 1-5 0 2.5 2.5 0 1 1 5 0z\" /></g><path d=\"M17.5 26h10M15 30h15m-7.5-14.5v5M20 18h5\" stroke-linejoin=\"miter\" /></g><g id=\"white-rook\" class=\"white rook\" fill=\"#fff\" fill-rule=\"evenodd\" stroke=\"#000\" stroke-width=\"1.5\" stroke-linecap=\"round\" stroke-linejoin=\"round\"><path d=\"M9 39h27v-3H9v3zM12 36v-4h21v4H12zM11 14V9h4v2h5V9h5v2h5V9h4v5\" stroke-linecap=\"butt\" /><path d=\"M34 14l-3 3H14l-3-3\" /><path d=\"M31 17v12.5H14V17\" stroke-linecap=\"butt\" stroke-linejoin=\"miter\" /><path d=\"M31 29.5l1.5 2.5h-20l1.5-2.5\" /><path d=\"M11 14h23\" fill=\"none\" stroke-linejoin=\"miter\" /></g><g id=\"white-queen\" class=\"white queen\" fill=\"#fff\" fill-rule=\"evenodd\" stroke=\"#000\" stroke-width=\"1.5\" stroke-linecap=\"round\" stroke-linejoin=\"round\"><path d=\"M8 12a2 2 0 1 1-4 0 2 2 0 1 1 4 0zM24.5 7.5a2 2 0 1 1-4 0 2 2 0 1 1 4 0zM41 12a2 2 0 1 1-4 0 2 2 0 1 1 4 0zM16 8.5a2 2 0 1 1-4 0 2 2 0 1 1 4 0zM33 9a2 2 0 1 1-4 0 2 2 0 1 1 4 0z\" /><path d=\"M9 26c8.5-1.5 21-1.5 27 0l2-12-7 11V11l-5.5 13.5-3-15-3 15-5.5-14V25L7 14l2 12zM9 26c0 2 1.5 2 2.5 4 1 1.5 1 1 .5 3.5-1.5 1-1.5 2.5-1.5 2.5-1.5 1.5.5 2.5.5 2.5 6.5 1 16.5 1 23 0 0 0 1.5-1 0-2.5 0 0 .5-1.5-1-2.5-.5-2.5-.5-2 .5-3.5 1-2 2.5-2 2.5-4-8.5-1.5-18.5-1.5-27 0z\" stroke-linecap=\"butt\" /><path d=\"M11.5 30c3.5-1 18.5-1 22 0M12 33.5c6-1 15-1 21 0\" fill=\"none\" /></g><g id=\"white-king\" class=\"white king\" fill=\"none\" fill-rule=\"evenodd\" stroke=\"#000\" stroke-width=\"1.5\" stroke-linecap=\"round\" stroke-linejoin=\"round\"><path d=\"M22.5 11.63V6M20 8h5\" stroke-linejoin=\"miter\" /><path d=\"M22.5 25s4.5-7.5 3-10.5c0 0-1-2.5-3-2.5s-3 2.5-3 2.5c-1.5 3 3 10.5 3 10.5\" fill=\"#fff\" stroke-linecap=\"butt\" stroke-linejoin=\"miter\" /><path d=\"M11.5 37c5.5 3.5 15.5 3.5 21 0v-7s9-4.5 6-10.5c-4-6.5-13.5-3.5-16 4V27v-3.5c-3.5-7.5-13-10.5-16-4-3 6 5 10 5 10V37z\" fill=\"#fff\" /><path d=\"M11.5 30c5.5-3 15.5-3 21 0m-21 3.5c5.5-3 15.5-3 21 0m-21 3.5c5.5-3 15.5-3 21 0\" /></g><g id=\"black-pawn\" class=\"black pawn\"><path d=\"M22.5 9c-2.21 0-4 1.79-4 4 0 .89.29 1.71.78 2.38C17.33 16.5 16 18.59 16 21c0 2.03.94 3.84 2.41 5.03-3 1.06-7.41 5.55-7.41 13.47h23c0-7.92-4.41-12.41-7.41-13.47 1.47-1.19 2.41-3 2.41-5.03 0-2.41-1.33-4.5-3.28-5.62.49-.67.78-1.49.78-2.38 0-2.21-1.79-4-4-4z\" fill=\"#000\" stroke=\"#000\" stroke-width=\"1.5\" stroke-linecap=\"round\" /></g><g id=\"black-knight\" class=\"black knight\" fill=\"none\" fill-rule=\"evenodd\" stroke=\"#000\" stroke-width=\"1.5\" stroke-linecap=\"round\" stroke-linejoin=\"round\"><path d=\"M 22,10 C 32.5,11 38.5,18 38,39 L 15,39 C 15,30 25,32.5 23,18\" style=\"fill:#000000; stroke:#000000;\" /><path d=\"M 24,18 C 24.38,20.91 18.45,25.37 16,27 C 13,29 13.18,31.34 11,31 C 9.958,30.06 12.41,27.96 11,28 C 10,28 11.19,29.23 10,30 C 9,30 5.997,31 6,26 C 6,24 12,14 12,14 C 12,14 13.89,12.1 14,10.5 C 13.27,9.506 13.5,8.5 13.5,7.5 C 14.5,6.5 16.5,10 16.5,10 L 18.5,10 C 18.5,10 19.28,8.008 21,7 C 22,7 22,10 22,10\" style=\"fill:#000000; stroke:#000000;\" /><path d=\"M 9.5 25.5 A 0.5 0.5 0 1 1 8.5,25.5 A 0.5 0.5 0 1 1 9.5 25.5 z\" style=\"fill:#ececec; stroke:#ececec;\" /><path d=\"M 15 15.5 A 0.5 1.5 0 1 1 14,15.5 A 0.5 1.5 0 1 1 15 15.5 z\" transform=\"matrix(0.866,0.5,-0.5,0.866,9.693,-5.173)\" style=\"fill:#ececec; stroke:#ececec;\" /><path d=\"M 24.55,10.4 L 24.1,11.85 L 24.6,12 C 27.75,13 30.25,14.49 32.5,18.75 C 34.75,23.01 35.75,29.06 35.25,39 L 35.2,39.5 L 37.45,39.5 L 37.5,39 C 38,28.94 36.62,22.15 34.25,17.66 C 31.88,13.17 28.46,11.02 25.06,10.5 L 24.55,10.4 z \" style=\"fill:#ececec; stroke:none;\" /></g><g id=\"black-bishop\" class=\"black bishop\" fill=\"none\" fill-rule=\"evenodd\" stroke=\"#000\" stroke-width=\"1.5\" stroke-linecap=\"round\" stroke-linejoin=\"round\"><path d=\"M9 36c3.39-.97 10.11.43 13.5-2 3.39 2.43 10.11 1.03 13.5 2 0 0 1.65.54 3 2-.68.97-1.65.99-3 .5-3.39-.97-10.11.46-13.5-1-3.39 1.46-10.11.03-13.5 1-1.354.49-2.323.47-3-.5 1.354-1.94 3-2 3-2zm6-4c2.5 2.5 12.5 2.5 15 0 .5-1.5 0-2 0-2 0-2.5-2.5-4-2.5-4 5.5-1.5 6-11.5-5-15.5-11 4-10.5 14-5 15.5 0 0-2.5 1.5-2.5 4 0 0-.5.5 0 2zM25 8a2.5 2.5 0 1 1-5 0 2.5 2.5 0 1 1 5 0z\" fill=\"#000\" stroke-linecap=\"butt\" /><path d=\"M17.5 26h10M15 30h15m-7.5-14.5v5M20 18h5\" stroke=\"#fff\" stroke-linejoin=\"miter\" /></g><g id=\"black-rook\" class=\"black rook\" fill=\"#000\" fill-rule=\"evenodd\" stroke=\"#000\" stroke-width=\"1.5\" stroke-linecap=\"round\" stroke-linejoin=\"round\"><path d=\"M9 39h27v-3H9v3zM12.5 32l1.5-2.5h17l1.5 2.5h-20zM12 36v-4h21v4H12z\" stroke-linecap=\"butt\" /><path d=\"M14 29.5v-13h17v13H14z\" stroke-linecap=\"butt\" stroke-linejoin=\"miter\" /><path d=\"M14 16.5L11 14h23l-3 2.5H14zM11 14V9h4v2h5V9h5v2h5V9h4v5H11z\" stroke-linecap=\"butt\" /><path d=\"M12 35.5h21M13 31.5h19M14 29.5h17M14 16.5h17M11 14h23\" fill=\"none\" stroke=\"#fff\" stroke-width=\"1\" stroke-linejoin=\"miter\" /></g><g id=\"black-queen\" class=\"black queen\" fill=\"#000\" fill-rule=\"evenodd\" stroke=\"#000\" stroke-width=\"1.5\" stroke-linecap=\"round\" stroke-linejoin=\"round\"><g fill=\"#000\" stroke=\"none\"><circle cx=\"6\" cy=\"12\" r=\"2.75\" /><circle cx=\"14\" cy=\"9\" r=\"2.75\" /><circle cx=\"22.5\" cy=\"8\" r=\"2.75\" /><circle cx=\"31\" cy=\"9\" r=\"2.75\" /><circle cx=\"39\" cy=\"12\" r=\"2.75\" /></g><path d=\"M9 26c8.5-1.5 21-1.5 27 0l2.5-12.5L31 25l-.3-14.1-5.2 13.6-3-14.5-3 14.5-5.2-13.6L14 25 6.5 13.5 9 26zM9 26c0 2 1.5 2 2.5 4 1 1.5 1 1 .5 3.5-1.5 1-1.5 2.5-1.5 2.5-1.5 1.5.5 2.5.5 2.5 6.5 1 16.5 1 23 0 0 0 1.5-1 0-2.5 0 0 .5-1.5-1-2.5-.5-2.5-.5-2 .5-3.5 1-2 2.5-2 2.5-4-8.5-1.5-18.5-1.5-27 0z\" stroke-linecap=\"butt\" /><path d=\"M11 38.5a35 35 1 0 0 23 0\" fill=\"none\" stroke-linecap=\"butt\" /><path d=\"M11 29a35 35 1 0 1 23 0M12.5 31.5h20M11.5 34.5a35 35 1 0 0 22 0M10.5 37.5a35 35 1 0 0 24 0\" fill=\"none\" stroke=\"#fff\" /></g><g id=\"black-king\" class=\"black king\" fill=\"none\" fill-rule=\"evenodd\" stroke=\"#000\" stroke-width=\"1.5\" stroke-linecap=\"round\" stroke-linejoin=\"round\"><path d=\"M22.5 11.63V6\" stroke-linejoin=\"miter\" /><path d=\"M22.5 25s4.5-7.5 3-10.5c0 0-1-2.5-3-2.5s-3 2.5-3 2.5c-1.5 3 3 10.5 3 10.5\" fill=\"#000\" stroke-linecap=\"butt\" stroke-linejoin=\"miter\" /><path d=\"M11.5 37c5.5 3.5 15.5 3.5 21 0v-7s9-4.5 6-10.5c-4-6.5-13.5-3.5-16 4V27v-3.5c-3.5-7.5-13-10.5-16-4-3 6 5 10 5 10V37z\" fill=\"#000\" /><path d=\"M20 8h5\" stroke-linejoin=\"miter\" /><path d=\"M32 29.5s8.5-4 6.03-9.65C34.15 14 25 18 22.5 24.5l.01 2.1-.01-2.1C20 18 9.906 14 6.997 19.85c-2.497 5.65 4.853 9 4.853 9M11.5 30c5.5-3 15.5-3 21 0m-21 3.5c5.5-3 15.5-3 21 0m-21 3.5c5.5-3 15.5-3 21 0\" stroke=\"#fff\" /></g></defs><rect x=\"0\" y=\"0\" width=\"390\" height=\"390\" fill=\"#212121\" /><g transform=\"translate(20, 0) scale(0.75, 0.75)\" fill=\"#e5e5e5\" stroke=\"#e5e5e5\"><path d=\"M23.328 10.016q-1.742 0-2.414.398-.672.398-.672 1.36 0 .765.5 1.218.508.445 1.375.445 1.196 0 1.914-.843.727-.852.727-2.258v-.32zm2.867-.594v4.992h-1.437v-1.328q-.492.797-1.227 1.18-.734.375-1.797.375-1.343 0-2.14-.75-.79-.758-.79-2.024 0-1.476.985-2.226.992-.75 2.953-.75h2.016V8.75q0-.992-.656-1.531-.649-.547-1.829-.547-.75 0-1.46.18-.711.18-1.368.539V6.062q.79-.304 1.532-.453.742-.156 1.445-.156 1.898 0 2.836.984.937.985.937 2.985z\" /></g><g transform=\"translate(20, 375) scale(0.75, 0.75)\" fill=\"#e5e5e5\" stroke=\"#e5e5e5\"><path d=\"M23.328 10.016q-1.742 0-2.414.398-.672.398-.672 1.36 0 .765.5 1.218.508.445 1.375.445 1.196 0 1.914-.843.727-.852.727-2.258v-.32zm2.867-.594v4.992h-1.437v-1.328q-.492.797-1.227 1.18-.734.375-1.797.375-1.343 0-2.14-.75-.79-.758-.79-2.024 0-1.476.985-2.226.992-.75 2.953-.75h2.016V8.75q0-.992-.656-1.531-.649-.547-1.829-.547-.75 0-1.46.18-.711.18-1.368.539V6.062q.79-.304 1.532-.453.742-.156 1.445-.156 1.898 0 2.836.984.937.985.937 2.985z\" /></g><g transform=\"translate(65, 0) scale(0.75, 0.75)\" fill=\"#e5e5e5\" stroke=\"#e5e5e5\"><path d=\"M24.922 10.047q0-1.586-.656-2.485-.649-.906-1.79-.906-1.14 0-1.796.906-.649.899-.649 2.485 0 1.586.649 2.492.656.898 1.797.898 1.14 0 1.789-.898.656-.906.656-2.492zm-4.89-3.055q.452-.781 1.14-1.156.695-.383 1.656-.383 1.594 0 2.586 1.266 1 1.265 1 3.328 0 2.062-1 3.328-.992 1.266-2.586 1.266-.96 0-1.656-.375-.688-.383-1.14-1.164v1.312h-1.446V2.258h1.445z\" /></g><g transform=\"translate(65, 375) scale(0.75, 0.75)\" fill=\"#e5e5e5\" stroke=\"#e5e5e5\"><path d=\"M24.922 10.047q0-1.586-.656-2.485-.649-.906-1.79-.906-1.14 0-1.796.906-.649.899-.649 2.485 0 1.586.649 2.492.656.898 1.797.898 1.14 0 1.789-.898.656-.906.656-2.492zm-4.89-3.055q.452-.781 1.14-1.156.695-.383 1.656-.383 1.594 0 2.586 1.266 1 1.265 1 3.328 0 2.062-1 3.328-.992 1.266-2.586 1.266-.96 0-1.656-.375-.688-.383-1.14-1.164v1.312h-1.446V2.258h1.445z\" /></g><g transform=\"translate(110, 0) scale(0.75, 0.75)\" fill=\"#e5e5e5\" stroke=\"#e5e5e5\"><path d=\"M25.96 6v1.344q-.608-.336-1.226-.5-.609-.172-1.234-.172-1.398 0-2.172.89-.773.883-.773 2.485 0 1.601.773 2.492.774.883 2.172.883.625 0 1.234-.164.618-.172 1.227-.508v1.328q-.602.281-1.25.422-.64.14-1.367.14-1.977 0-3.14-1.242-1.165-1.242-1.165-3.351 0-2.14 1.172-3.367 1.18-1.227 3.227-1.227.664 0 1.296.14.633.134 1.227.407z\" /></g><g transform=\"translate(110, 375) scale(0.75, 0.75)\" fill=\"#e5e5e5\" stroke=\"#e5e5e5\"><path d=\"M25.96 6v1.344q-.608-.336-1.226-.5-.609-.172-1.234-.172-1.398 0-2.172.89-.773.883-.773 2.485 0 1.601.773 2.492.774.883 2.172.883.625 0 1.234-.164.618-.172 1.227-.508v1.328q-.602.281-1.25.422-.64.14-1.367.14-1.977 0-3.14-1.242-1.165-1.242-1.165-3.351 0-2.14 1.172-3.367 1.18-1.227 3.227-1.227.664 0 1.296.14.633.134 1.227.407z\" /></g><g transform=\"translate(155, 0) scale(0.75, 0.75)\" fill=\"#e5e5e5\" stroke=\"#e5e5e5\"><path d=\"M24.973 6.992V2.258h1.437v12.156h-1.437v-1.312q-.453.78-1.149 1.164-.687.375-1.656.375-1.586 0-2.586-1.266-.992-1.266-.992-3.328 0-2.063.992-3.328 1-1.266 2.586-1.266.969 0 1.656.383.696.375 1.149 1.156zm-4.899 3.055q0 1.586.649 2.492.656.898 1.797.898 1.14 0 1.796-.898.657-.906.657-2.492 0-1.586-.657-2.485-.656-.906-1.796-.906-1.141 0-1.797.906-.649.899-.649 2.485z\" /></g><g transform=\"translate(155, 375) scale(0.75, 0.75)\" fill=\"#e5e5e5\" stroke=\"#e5e5e5\"><path d=\"M24.973 6.992V2.258h1.437v12.156h-1.437v-1.312q-.453.78-1.149 1.164-.687.375-1.656.375-1.586 0-2.586-1.266-.992-1.266-.992-3.328 0-2.063.992-3.328 1-1.266 2.586-1.266.969 0 1.656.383.696.375 1.149 1.156zm-4.899 3.055q0 1.586.649 2.492.656.898 1.797.898 1.14 0 1.796-.898.657-.906.657-2.492 0-1.586-.657-2.485-.656-.906-1.796-.906-1.141 0-1.797.906-.649.899-.649 2.485z\" /></g><g transform=\"translate(200, 0) scale(0.75, 0.75)\" fill=\"#e5e5e5\" stroke=\"#e5e5e5\"><path d=\"M26.555 9.68v.703h-6.61q.094 1.484.89 2.265.806.774 2.235.774.828 0 1.602-.203.781-.203 1.547-.61v1.36q-.774.328-1.586.5-.813.172-1.649.172-2.093 0-3.32-1.22-1.219-1.218-1.219-3.296 0-2.148 1.157-3.406 1.164-1.266 3.132-1.266 1.766 0 2.79 1.14 1.03 1.134 1.03 3.087zm-1.438-.422q-.015-1.18-.664-1.883-.64-.703-1.703-.703-1.203 0-1.93.68-.718.68-.828 1.914z\" /></g><g transform=\"translate(200, 375) scale(0.75, 0.75)\" fill=\"#e5e5e5\" stroke=\"#e5e5e5\"><path d=\"M26.555 9.68v.703h-6.61q.094 1.484.89 2.265.806.774 2.235.774.828 0 1.602-.203.781-.203 1.547-.61v1.36q-.774.328-1.586.5-.813.172-1.649.172-2.093 0-3.32-1.22-1.219-1.218-1.219-3.296 0-2.148 1.157-3.406 1.164-1.266 3.132-1.266 1.766 0 2.79 1.14 1.03 1.134 1.03 3.087zm-1.438-.422q-.015-1.18-.664-1.883-.64-.703-1.703-.703-1.203 0-1.93.68-.718.68-.828 1.914z\" /></g><g transform=\"translate(245, 0) scale(0.75, 0.75)\" fill=\"#e5e5e5\" stroke=\"#e5e5e5\"><path d=\"M25.285 2.258v1.195H23.91q-.773 0-1.078.313-.297.312-.297 1.125v.773h2.367v1.117h-2.367v7.633H21.09V6.781h-1.375V5.664h1.375v-.61q0-1.46.68-2.124.68-.672 2.156-.672z\" /></g><g transform=\"translate(245, 375) scale(0.75, 0.75)\" fill=\"#e5e5e5\" stroke=\"#e5e5e5\"><path d=\"M25.285 2.258v1.195H23.91q-.773 0-1.078.313-.297.312-.297 1.125v.773h2.367v1.117h-2.367v7.633H21.09V6.781h-1.375V5.664h1.375v-.61q0-1.46.68-2.124.68-.672 2.156-.672z\" /></g><g transform=\"translate(290, 0) scale(0.75, 0.75)\" fill=\"#e5e5e5\" stroke=\"#e5e5e5\"><path d=\"M24.973 9.937q0-1.562-.649-2.421-.64-.86-1.804-.86-1.157 0-1.805.86-.64.859-.64 2.421 0 1.555.64 2.415.648.859 1.805.859 1.164 0 1.804-.86.649-.859.649-2.414zm1.437 3.391q0 2.234-.992 3.32-.992 1.094-3.04 1.094-.757 0-1.429-.117-.672-.11-1.304-.344v-1.398q.632.344 1.25.508.617.164 1.257.164 1.414 0 2.118-.743.703-.734.703-2.226v-.711q-.446.773-1.141 1.156-.695.383-1.664.383-1.61 0-2.594-1.227-.984-1.226-.984-3.25 0-2.03.984-3.257.985-1.227 2.594-1.227.969 0 1.664.383t1.14 1.156V5.664h1.438z\" /></g><g transform=\"translate(290, 375) scale(0.75, 0.75)\" fill=\"#e5e5e5\" stroke=\"#e5e5e5\"><path d=\"M24.973 9.937q0-1.562-.649-2.421-.64-.86-1.804-.86-1.157 0-1.805.86-.64.859-.64 2.421 0 1.555.64 2.415.648.859 1.805.859 1.164 0 1.804-.86.649-.859.649-2.414zm1.437 3.391q0 2.234-.992 3.32-.992 1.094-3.04 1.094-.757 0-1.429-.117-.672-.11-1.304-.344v-1.398q.632.344 1.25.508.617.164 1.257.164 1.414 0 2.118-.743.703-.734.703-2.226v-.711q-.446.773-1.141 1.156-.695.383-1.664.383-1.61 0-2.594-1.227-.984-1.226-.984-3.25 0-2.03.984-3.257.985-1.227 2.594-1.227.969 0 1.664.383t1.14 1.156V5.664h1.438z\" /></g><g transform=\"translate(335, 0) scale(0.75, 0.75)\" fill=\"#e5e5e5\" stroke=\"#e5e5e5\"><path d=\"M26.164 9.133v5.281h-1.437V9.18q0-1.243-.485-1.86-.484-.617-1.453-.617-1.164 0-1.836.742-.672.742-.672 2.024v4.945h-1.445V2.258h1.445v4.765q.516-.789 1.211-1.18.703-.39 1.617-.39 1.508 0 2.282.938.773.93.773 2.742z\" /></g><g transform=\"translate(335, 375) scale(0.75, 0.75)\" fill=\"#e5e5e5\" stroke=\"#e5e5e5\"><path d=\"M26.164 9.133v5.281h-1.437V9.18q0-1.243-.485-1.86-.484-.617-1.453-.617-1.164 0-1.836.742-.672.742-.672 2.024v4.945h-1.445V2.258h1.445v4.765q.516-.789 1.211-1.18.703-.39 1.617-.39 1.508 0 2.282.938.773.93.773 2.742z\" /></g><g transform=\"translate(0, 335) scale(0.75, 0.75)\" fill=\"#e5e5e5\" stroke=\"#e5e5e5\"><path d=\"M6.754 26.996h2.578v-8.898l-2.805.562v-1.437l2.79-.563h1.578v10.336h2.578v1.328h-6.72z\" /></g><g transform=\"translate(375, 335) scale(0.75, 0.75)\" fill=\"#e5e5e5\" stroke=\"#e5e5e5\"><path d=\"M6.754 26.996h2.578v-8.898l-2.805.562v-1.437l2.79-.563h1.578v10.336h2.578v1.328h-6.72z\" /></g><g transform=\"translate(0, 290) scale(0.75, 0.75)\" fill=\"#e5e5e5\" stroke=\"#e5e5e5\"><path d=\"M8.195 26.996h5.508v1.328H6.297v-1.328q.898-.93 2.445-2.492 1.555-1.57 1.953-2.024.758-.851 1.055-1.437.305-.594.305-1.164 0-.93-.657-1.516-.648-.586-1.695-.586-.742 0-1.57.258-.82.258-1.758.781v-1.593q.953-.383 1.781-.578.828-.196 1.516-.196 1.812 0 2.89.906 1.079.907 1.079 2.422 0 .72-.274 1.368-.265.64-.976 1.515-.196.227-1.243 1.313-1.046 1.078-2.953 3.023z\" /></g><g transform=\"translate(375, 290) scale(0.75, 0.75)\" fill=\"#e5e5e5\" stroke=\"#e5e5e5\"><path d=\"M8.195 26.996h5.508v1.328H6.297v-1.328q.898-.93 2.445-2.492 1.555-1.57 1.953-2.024.758-.851 1.055-1.437.305-.594.305-1.164 0-.93-.657-1.516-.648-.586-1.695-.586-.742 0-1.57.258-.82.258-1.758.781v-1.593q.953-.383 1.781-.578.828-.196 1.516-.196 1.812 0 2.89.906 1.079.907 1.079 2.422 0 .72-.274 1.368-.265.64-.976 1.515-.196.227-1.243 1.313-1.046 1.078-2.953 3.023z\" /></g><g transform=\"translate(0, 245) scale(0.75, 0.75)\" fill=\"#e5e5e5\" stroke=\"#e5e5e5\"><path d=\"M11.434 22.035q1.132.242 1.765 1.008.64.766.64 1.89 0 1.727-1.187 2.672-1.187.946-3.375.946-.734 0-1.515-.149-.774-.14-1.602-.43V26.45q.656.383 1.438.578.78.196 1.632.196 1.485 0 2.258-.586.782-.586.782-1.703 0-1.032-.727-1.61-.719-.586-2.008-.586h-1.36v-1.297h1.423q1.164 0 1.78-.46.618-.47.618-1.344 0-.899-.64-1.375-.633-.485-1.82-.485-.65 0-1.391.141-.743.14-1.633.437V16.95q.898-.25 1.68-.375.788-.125 1.484-.125 1.797 0 2.844.82 1.046.813 1.046 2.204 0 .968-.554 1.64-.555.664-1.578.922z\" /></g><g transform=\"translate(375, 245) scale(0.75, 0.75)\" fill=\"#e5e5e5\" stroke=\"#e5e5e5\"><path d=\"M11.434 22.035q1.132.242 1.765 1.008.64.766.64 1.89 0 1.727-1.187 2.672-1.187.946-3.375.946-.734 0-1.515-.149-.774-.14-1.602-.43V26.45q.656.383 1.438.578.78.196 1.632.196 1.485 0 2.258-.586.782-.586.782-1.703 0-1.032-.727-1.61-.719-.586-2.008-.586h-1.36v-1.297h1.423q1.164 0 1.78-.46.618-.47.618-1.344 0-.899-.64-1.375-.633-.485-1.82-.485-.65 0-1.391.141-.743.14-1.633.437V16.95q.898-.25 1.68-.375.788-.125 1.484-.125 1.797 0 2.844.82 1.046.813 1.046 2.204 0 .968-.554 1.64-.555.664-1.578.922z\" /></g><g transform=\"translate(0, 200) scale(0.75, 0.75)\" fill=\"#e5e5e5\" stroke=\"#e5e5e5\"><path d=\"M11.016 18.035L7.03 24.262h3.985zm-.414-1.375h1.984v7.602h1.664v1.312h-1.664v2.75h-1.57v-2.75H5.75v-1.523z\" /></g><g transform=\"translate(375, 200) scale(0.75, 0.75)\" fill=\"#e5e5e5\" stroke=\"#e5e5e5\"><path d=\"M11.016 18.035L7.03 24.262h3.985zm-.414-1.375h1.984v7.602h1.664v1.312h-1.664v2.75h-1.57v-2.75H5.75v-1.523z\" /></g><g transform=\"translate(0, 155) scale(0.75, 0.75)\" fill=\"#e5e5e5\" stroke=\"#e5e5e5\"><path d=\"M6.719 16.66h6.195v1.328h-4.75v2.86q.344-.118.688-.172.343-.063.687-.063 1.953 0 3.094 1.07 1.14 1.07 1.14 2.899 0 1.883-1.171 2.93-1.172 1.039-3.305 1.039-.735 0-1.5-.125-.758-.125-1.57-.375v-1.586q.703.383 1.453.57.75.188 1.586.188 1.351 0 2.14-.711.79-.711.79-1.93 0-1.219-.79-1.93-.789-.71-2.14-.71-.633 0-1.266.14-.625.14-1.281.438z\" /></g><g transform=\"translate(375, 155) scale(0.75, 0.75)\" fill=\"#e5e5e5\" stroke=\"#e5e5e5\"><path d=\"M6.719 16.66h6.195v1.328h-4.75v2.86q.344-.118.688-.172.343-.063.687-.063 1.953 0 3.094 1.07 1.14 1.07 1.14 2.899 0 1.883-1.171 2.93-1.172 1.039-3.305 1.039-.735 0-1.5-.125-.758-.125-1.57-.375v-1.586q.703.383 1.453.57.75.188 1.586.188 1.351 0 2.14-.711.79-.711.79-1.93 0-1.219-.79-1.93-.789-.71-2.14-.71-.633 0-1.266.14-.625.14-1.281.438z\" /></g><g transform=\"translate(0, 110) scale(0.75, 0.75)\" fill=\"#e5e5e5\" stroke=\"#e5e5e5\"><path d=\"M10.137 21.863q-1.063 0-1.688.727-.617.726-.617 1.992 0 1.258.617 1.992.625.727 1.688.727 1.062 0 1.68-.727.624-.734.624-1.992 0-1.266-.625-1.992-.617-.727-1.68-.727zm3.133-4.945v1.437q-.594-.28-1.204-.43-.601-.148-1.195-.148-1.562 0-2.39 1.055-.82 1.055-.938 3.188.46-.68 1.156-1.04.696-.367 1.531-.367 1.758 0 2.774 1.07 1.023 1.063 1.023 2.899 0 1.797-1.062 2.883-1.063 1.086-2.828 1.086-2.024 0-3.094-1.547-1.07-1.555-1.07-4.5 0-2.766 1.312-4.406 1.313-1.649 3.524-1.649.593 0 1.195.117.61.118 1.266.352z\" /></g><g transform=\"translate(375, 110) scale(0.75, 0.75)\" fill=\"#e5e5e5\" stroke=\"#e5e5e5\"><path d=\"M10.137 21.863q-1.063 0-1.688.727-.617.726-.617 1.992 0 1.258.617 1.992.625.727 1.688.727 1.062 0 1.68-.727.624-.734.624-1.992 0-1.266-.625-1.992-.617-.727-1.68-.727zm3.133-4.945v1.437q-.594-.28-1.204-.43-.601-.148-1.195-.148-1.562 0-2.39 1.055-.82 1.055-.938 3.188.46-.68 1.156-1.04.696-.367 1.531-.367 1.758 0 2.774 1.07 1.023 1.063 1.023 2.899 0 1.797-1.062 2.883-1.063 1.086-2.828 1.086-2.024 0-3.094-1.547-1.07-1.555-1.07-4.5 0-2.766 1.312-4.406 1.313-1.649 3.524-1.649.593 0 1.195.117.61.118 1.266.352z\" /></g><g transform=\"translate(0, 65) scale(0.75, 0.75)\" fill=\"#e5e5e5\" stroke=\"#e5e5e5\"><path d=\"M6.25 16.66h7.5v.672L9.516 28.324H7.867l3.985-10.336H6.25z\" /></g><g transform=\"translate(375, 65) scale(0.75, 0.75)\" fill=\"#e5e5e5\" stroke=\"#e5e5e5\"><path d=\"M6.25 16.66h7.5v.672L9.516 28.324H7.867l3.985-10.336H6.25z\" /></g><g transform=\"translate(0, 20) scale(0.75, 0.75)\" fill=\"#e5e5e5\" stroke=\"#e5e5e5\"><path d=\"M10 22.785q-1.125 0-1.773.602-.641.601-.641 1.656t.64 1.656q.649.602 1.774.602t1.773-.602q.649-.61.649-1.656 0-1.055-.649-1.656-.64-.602-1.773-.602zm-1.578-.672q-1.016-.25-1.586-.945-.563-.695-.563-1.695 0-1.399.993-2.211 1-.813 2.734-.813 1.742 0 2.734.813.993.812.993 2.21 0 1-.57 1.696-.563.695-1.571.945 1.14.266 1.773 1.04.641.773.641 1.89 0 1.695-1.04 2.602-1.03.906-2.96.906t-2.969-.906Q6 26.738 6 25.043q0-1.117.64-1.89.641-.774 1.782-1.04zm-.578-2.492q0 .906.562 1.414.57.508 1.594.508 1.016 0 1.586-.508.578-.508.578-1.414 0-.906-.578-1.414-.57-.508-1.586-.508-1.023 0-1.594.508-.562.508-.562 1.414z\" /></g><g transform=\"translate(375, 20) scale(0.75, 0.75)\" fill=\"#e5e5e5\" stroke=\"#e5e5e5\"><path d=\"M10 22.785q-1.125 0-1.773.602-.641.601-.641 1.656t.64 1.656q.649.602 1.774.602t1.773-.602q.649-.61.649-1.656 0-1.055-.649-1.656-.64-.602-1.773-.602zm-1.578-.672q-1.016-.25-1.586-.945-.563-.695-.563-1.695 0-1.399.993-2.211 1-.813 2.734-.813 1.742 0 2.734.813.993.812.993 2.21 0 1-.57 1.696-.563.695-1.571.945 1.14.266 1.773 1.04.641.773.641 1.89 0 1.695-1.04 2.602-1.03.906-2.96.906t-2.969-.906Q6 26.738 6 25.043q0-1.117.64-1.89.641-.774 1.782-1.04zm-.578-2.492q0 .906.562 1.414.57.508 1.594.508 1.016 0 1.586-.508.578-.508.578-1.414 0-.906-.578-1.414-.57-.508-1.586-.508-1.023 0-1.594.508-.562.508-.562 1.414z\" /></g><rect x=\"15\" y=\"330\" width=\"45\" height=\"45\" class=\"square dark a1\" stroke=\"none\" fill=\"#d18b47\" /><rect x=\"60\" y=\"330\" width=\"45\" height=\"45\" class=\"square light b1\" stroke=\"none\" fill=\"#ffce9e\" /><rect x=\"105\" y=\"330\" width=\"45\" height=\"45\" class=\"square dark c1\" stroke=\"none\" fill=\"#d18b47\" /><rect x=\"150\" y=\"330\" width=\"45\" height=\"45\" class=\"square light d1\" stroke=\"none\" fill=\"#ffce9e\" /><rect x=\"195\" y=\"330\" width=\"45\" height=\"45\" class=\"square dark e1\" stroke=\"none\" fill=\"#d18b47\" /><rect x=\"240\" y=\"330\" width=\"45\" height=\"45\" class=\"square light f1\" stroke=\"none\" fill=\"#ffce9e\" /><rect x=\"285\" y=\"330\" width=\"45\" height=\"45\" class=\"square dark g1\" stroke=\"none\" fill=\"#d18b47\" /><rect x=\"330\" y=\"330\" width=\"45\" height=\"45\" class=\"square light h1\" stroke=\"none\" fill=\"#ffce9e\" /><rect x=\"15\" y=\"285\" width=\"45\" height=\"45\" class=\"square light a2\" stroke=\"none\" fill=\"#ffce9e\" /><rect x=\"60\" y=\"285\" width=\"45\" height=\"45\" class=\"square dark b2\" stroke=\"none\" fill=\"#d18b47\" /><rect x=\"105\" y=\"285\" width=\"45\" height=\"45\" class=\"square light c2\" stroke=\"none\" fill=\"#ffce9e\" /><rect x=\"150\" y=\"285\" width=\"45\" height=\"45\" class=\"square dark d2\" stroke=\"none\" fill=\"#d18b47\" /><rect x=\"195\" y=\"285\" width=\"45\" height=\"45\" class=\"square light e2\" stroke=\"none\" fill=\"#ffce9e\" /><rect x=\"240\" y=\"285\" width=\"45\" height=\"45\" class=\"square dark f2\" stroke=\"none\" fill=\"#d18b47\" /><rect x=\"285\" y=\"285\" width=\"45\" height=\"45\" class=\"square light g2\" stroke=\"none\" fill=\"#ffce9e\" /><rect x=\"330\" y=\"285\" width=\"45\" height=\"45\" class=\"square dark h2\" stroke=\"none\" fill=\"#d18b47\" /><rect x=\"15\" y=\"240\" width=\"45\" height=\"45\" class=\"square dark a3\" stroke=\"none\" fill=\"#d18b47\" /><rect x=\"60\" y=\"240\" width=\"45\" height=\"45\" class=\"square light b3\" stroke=\"none\" fill=\"#ffce9e\" /><rect x=\"105\" y=\"240\" width=\"45\" height=\"45\" class=\"square dark c3\" stroke=\"none\" fill=\"#d18b47\" /><rect x=\"150\" y=\"240\" width=\"45\" height=\"45\" class=\"square light d3\" stroke=\"none\" fill=\"#ffce9e\" /><rect x=\"195\" y=\"240\" width=\"45\" height=\"45\" class=\"square dark e3\" stroke=\"none\" fill=\"#d18b47\" /><rect x=\"240\" y=\"240\" width=\"45\" height=\"45\" class=\"square light f3\" stroke=\"none\" fill=\"#ffce9e\" /><rect x=\"285\" y=\"240\" width=\"45\" height=\"45\" class=\"square dark g3\" stroke=\"none\" fill=\"#d18b47\" /><rect x=\"330\" y=\"240\" width=\"45\" height=\"45\" class=\"square light h3\" stroke=\"none\" fill=\"#ffce9e\" /><rect x=\"15\" y=\"195\" width=\"45\" height=\"45\" class=\"square light a4\" stroke=\"none\" fill=\"#ffce9e\" /><rect x=\"60\" y=\"195\" width=\"45\" height=\"45\" class=\"square dark b4\" stroke=\"none\" fill=\"#d18b47\" /><rect x=\"105\" y=\"195\" width=\"45\" height=\"45\" class=\"square light c4\" stroke=\"none\" fill=\"#ffce9e\" /><rect x=\"150\" y=\"195\" width=\"45\" height=\"45\" class=\"square dark d4\" stroke=\"none\" fill=\"#d18b47\" /><rect x=\"195\" y=\"195\" width=\"45\" height=\"45\" class=\"square light e4\" stroke=\"none\" fill=\"#ffce9e\" /><rect x=\"240\" y=\"195\" width=\"45\" height=\"45\" class=\"square dark f4\" stroke=\"none\" fill=\"#d18b47\" /><rect x=\"285\" y=\"195\" width=\"45\" height=\"45\" class=\"square light g4\" stroke=\"none\" fill=\"#ffce9e\" /><rect x=\"330\" y=\"195\" width=\"45\" height=\"45\" class=\"square dark h4\" stroke=\"none\" fill=\"#d18b47\" /><rect x=\"15\" y=\"150\" width=\"45\" height=\"45\" class=\"square dark a5\" stroke=\"none\" fill=\"#d18b47\" /><rect x=\"60\" y=\"150\" width=\"45\" height=\"45\" class=\"square light b5\" stroke=\"none\" fill=\"#ffce9e\" /><rect x=\"105\" y=\"150\" width=\"45\" height=\"45\" class=\"square dark c5\" stroke=\"none\" fill=\"#d18b47\" /><rect x=\"150\" y=\"150\" width=\"45\" height=\"45\" class=\"square light d5\" stroke=\"none\" fill=\"#ffce9e\" /><rect x=\"195\" y=\"150\" width=\"45\" height=\"45\" class=\"square dark e5\" stroke=\"none\" fill=\"#d18b47\" /><rect x=\"240\" y=\"150\" width=\"45\" height=\"45\" class=\"square light f5\" stroke=\"none\" fill=\"#ffce9e\" /><rect x=\"285\" y=\"150\" width=\"45\" height=\"45\" class=\"square dark g5\" stroke=\"none\" fill=\"#d18b47\" /><rect x=\"330\" y=\"150\" width=\"45\" height=\"45\" class=\"square light h5\" stroke=\"none\" fill=\"#ffce9e\" /><rect x=\"15\" y=\"105\" width=\"45\" height=\"45\" class=\"square light a6\" stroke=\"none\" fill=\"#ffce9e\" /><rect x=\"60\" y=\"105\" width=\"45\" height=\"45\" class=\"square dark b6\" stroke=\"none\" fill=\"#d18b47\" /><rect x=\"105\" y=\"105\" width=\"45\" height=\"45\" class=\"square light c6\" stroke=\"none\" fill=\"#ffce9e\" /><rect x=\"150\" y=\"105\" width=\"45\" height=\"45\" class=\"square dark d6\" stroke=\"none\" fill=\"#d18b47\" /><rect x=\"195\" y=\"105\" width=\"45\" height=\"45\" class=\"square light e6\" stroke=\"none\" fill=\"#ffce9e\" /><rect x=\"240\" y=\"105\" width=\"45\" height=\"45\" class=\"square dark f6\" stroke=\"none\" fill=\"#d18b47\" /><rect x=\"285\" y=\"105\" width=\"45\" height=\"45\" class=\"square light g6\" stroke=\"none\" fill=\"#ffce9e\" /><rect x=\"330\" y=\"105\" width=\"45\" height=\"45\" class=\"square dark h6\" stroke=\"none\" fill=\"#d18b47\" /><rect x=\"15\" y=\"60\" width=\"45\" height=\"45\" class=\"square dark a7\" stroke=\"none\" fill=\"#d18b47\" /><rect x=\"60\" y=\"60\" width=\"45\" height=\"45\" class=\"square light b7\" stroke=\"none\" fill=\"#ffce9e\" /><rect x=\"105\" y=\"60\" width=\"45\" height=\"45\" class=\"square dark c7\" stroke=\"none\" fill=\"#d18b47\" /><rect x=\"150\" y=\"60\" width=\"45\" height=\"45\" class=\"square light d7\" stroke=\"none\" fill=\"#ffce9e\" /><rect x=\"195\" y=\"60\" width=\"45\" height=\"45\" class=\"square dark e7\" stroke=\"none\" fill=\"#d18b47\" /><rect x=\"240\" y=\"60\" width=\"45\" height=\"45\" class=\"square light f7\" stroke=\"none\" fill=\"#ffce9e\" /><rect x=\"285\" y=\"60\" width=\"45\" height=\"45\" class=\"square dark g7\" stroke=\"none\" fill=\"#d18b47\" /><rect x=\"330\" y=\"60\" width=\"45\" height=\"45\" class=\"square light h7\" stroke=\"none\" fill=\"#ffce9e\" /><rect x=\"15\" y=\"15\" width=\"45\" height=\"45\" class=\"square light a8\" stroke=\"none\" fill=\"#ffce9e\" /><rect x=\"60\" y=\"15\" width=\"45\" height=\"45\" class=\"square dark b8\" stroke=\"none\" fill=\"#d18b47\" /><rect x=\"105\" y=\"15\" width=\"45\" height=\"45\" class=\"square light c8\" stroke=\"none\" fill=\"#ffce9e\" /><rect x=\"150\" y=\"15\" width=\"45\" height=\"45\" class=\"square dark d8\" stroke=\"none\" fill=\"#d18b47\" /><rect x=\"195\" y=\"15\" width=\"45\" height=\"45\" class=\"square light e8\" stroke=\"none\" fill=\"#ffce9e\" /><rect x=\"240\" y=\"15\" width=\"45\" height=\"45\" class=\"square dark f8\" stroke=\"none\" fill=\"#d18b47\" /><rect x=\"285\" y=\"15\" width=\"45\" height=\"45\" class=\"square light g8\" stroke=\"none\" fill=\"#ffce9e\" /><rect x=\"330\" y=\"15\" width=\"45\" height=\"45\" class=\"square dark h8\" stroke=\"none\" fill=\"#d18b47\" /><use href=\"#white-rook\" xlink:href=\"#white-rook\" transform=\"translate(15, 330)\" /><use href=\"#white-knight\" xlink:href=\"#white-knight\" transform=\"translate(60, 330)\" /><use href=\"#white-bishop\" xlink:href=\"#white-bishop\" transform=\"translate(105, 330)\" /><use href=\"#white-queen\" xlink:href=\"#white-queen\" transform=\"translate(150, 330)\" /><use href=\"#white-king\" xlink:href=\"#white-king\" transform=\"translate(195, 330)\" /><use href=\"#white-bishop\" xlink:href=\"#white-bishop\" transform=\"translate(240, 330)\" /><use href=\"#white-knight\" xlink:href=\"#white-knight\" transform=\"translate(285, 330)\" /><use href=\"#white-rook\" xlink:href=\"#white-rook\" transform=\"translate(330, 330)\" /><use href=\"#white-pawn\" xlink:href=\"#white-pawn\" transform=\"translate(15, 285)\" /><use href=\"#white-pawn\" xlink:href=\"#white-pawn\" transform=\"translate(60, 285)\" /><use href=\"#white-pawn\" xlink:href=\"#white-pawn\" transform=\"translate(105, 285)\" /><use href=\"#white-pawn\" xlink:href=\"#white-pawn\" transform=\"translate(150, 285)\" /><use href=\"#white-pawn\" xlink:href=\"#white-pawn\" transform=\"translate(195, 285)\" /><use href=\"#white-pawn\" xlink:href=\"#white-pawn\" transform=\"translate(240, 285)\" /><use href=\"#white-pawn\" xlink:href=\"#white-pawn\" transform=\"translate(285, 285)\" /><use href=\"#white-pawn\" xlink:href=\"#white-pawn\" transform=\"translate(330, 285)\" /><use href=\"#black-pawn\" xlink:href=\"#black-pawn\" transform=\"translate(15, 60)\" /><use href=\"#black-pawn\" xlink:href=\"#black-pawn\" transform=\"translate(60, 60)\" /><use href=\"#black-pawn\" xlink:href=\"#black-pawn\" transform=\"translate(105, 60)\" /><use href=\"#black-pawn\" xlink:href=\"#black-pawn\" transform=\"translate(150, 60)\" /><use href=\"#black-pawn\" xlink:href=\"#black-pawn\" transform=\"translate(195, 60)\" /><use href=\"#black-pawn\" xlink:href=\"#black-pawn\" transform=\"translate(240, 60)\" /><use href=\"#black-pawn\" xlink:href=\"#black-pawn\" transform=\"translate(285, 60)\" /><use href=\"#black-pawn\" xlink:href=\"#black-pawn\" transform=\"translate(330, 60)\" /><use href=\"#black-rook\" xlink:href=\"#black-rook\" transform=\"translate(15, 15)\" /><use href=\"#black-knight\" xlink:href=\"#black-knight\" transform=\"translate(60, 15)\" /><use href=\"#black-bishop\" xlink:href=\"#black-bishop\" transform=\"translate(105, 15)\" /><use href=\"#black-queen\" xlink:href=\"#black-queen\" transform=\"translate(150, 15)\" /><use href=\"#black-king\" xlink:href=\"#black-king\" transform=\"translate(195, 15)\" /><use href=\"#black-bishop\" xlink:href=\"#black-bishop\" transform=\"translate(240, 15)\" /><use href=\"#black-knight\" xlink:href=\"#black-knight\" transform=\"translate(285, 15)\" /><use href=\"#black-rook\" xlink:href=\"#black-rook\" transform=\"translate(330, 15)\" /></svg>"
      ],
      "text/plain": [
       "Board('rnbqkbnr/pppppppp/8/8/8/8/PPPPPPPP/RNBQKBNR w KQkq - 0 1')"
      ]
     },
     "execution_count": 739,
     "metadata": {},
     "output_type": "execute_result"
    }
   ],
   "source": [
    "board"
   ]
  },
  {
   "cell_type": "code",
   "execution_count": 766,
   "id": "eb9e8db2",
   "metadata": {
    "ExecuteTime": {
     "end_time": "2022-10-31T17:53:18.429483Z",
     "start_time": "2022-10-31T17:53:17.408402Z"
    }
   },
   "outputs": [
    {
     "data": {
      "text/plain": [
       "[{'string': 'NNUE evaluation using nn-6877cd24400e.nnue enabled',\n",
       "  'depth': 21,\n",
       "  'seldepth': 31,\n",
       "  'multipv': 1,\n",
       "  'score': PovScore(Cp(+37), WHITE),\n",
       "  'nodes': 5093698,\n",
       "  'nps': 5088609,\n",
       "  'tbhits': 0,\n",
       "  'time': 1.001,\n",
       "  'pv': [Move.from_uci('e2e4'),\n",
       "   Move.from_uci('e7e6'),\n",
       "   Move.from_uci('d2d4'),\n",
       "   Move.from_uci('d7d5'),\n",
       "   Move.from_uci('b1c3'),\n",
       "   Move.from_uci('g8f6'),\n",
       "   Move.from_uci('e4e5'),\n",
       "   Move.from_uci('f6d7'),\n",
       "   Move.from_uci('f2f4'),\n",
       "   Move.from_uci('c7c5'),\n",
       "   Move.from_uci('g1f3'),\n",
       "   Move.from_uci('b8c6'),\n",
       "   Move.from_uci('c1e3'),\n",
       "   Move.from_uci('a7a6'),\n",
       "   Move.from_uci('d1d2'),\n",
       "   Move.from_uci('b7b5'),\n",
       "   Move.from_uci('a2a3'),\n",
       "   Move.from_uci('d8a5'),\n",
       "   Move.from_uci('h2h4'),\n",
       "   Move.from_uci('b5b4'),\n",
       "   Move.from_uci('c3e2'),\n",
       "   Move.from_uci('b4a3'),\n",
       "   Move.from_uci('d2a5')],\n",
       "  'hashfull': 39},\n",
       " {'depth': 21,\n",
       "  'seldepth': 31,\n",
       "  'multipv': 2,\n",
       "  'score': PovScore(Cp(+33), WHITE),\n",
       "  'nodes': 5093698,\n",
       "  'nps': 5088609,\n",
       "  'tbhits': 0,\n",
       "  'time': 1.001,\n",
       "  'pv': [Move.from_uci('d2d4'),\n",
       "   Move.from_uci('g8f6'),\n",
       "   Move.from_uci('c2c4'),\n",
       "   Move.from_uci('c7c6'),\n",
       "   Move.from_uci('b1c3'),\n",
       "   Move.from_uci('d7d5'),\n",
       "   Move.from_uci('c4d5'),\n",
       "   Move.from_uci('c6d5'),\n",
       "   Move.from_uci('c1f4'),\n",
       "   Move.from_uci('e7e6'),\n",
       "   Move.from_uci('e2e3'),\n",
       "   Move.from_uci('f8d6'),\n",
       "   Move.from_uci('f1b5'),\n",
       "   Move.from_uci('b8c6'),\n",
       "   Move.from_uci('g1e2'),\n",
       "   Move.from_uci('e8g8'),\n",
       "   Move.from_uci('e1g1'),\n",
       "   Move.from_uci('d6f4'),\n",
       "   Move.from_uci('e2f4'),\n",
       "   Move.from_uci('c8d7'),\n",
       "   Move.from_uci('f4d3'),\n",
       "   Move.from_uci('c6a5')],\n",
       "  'hashfull': 39},\n",
       " {'depth': 21,\n",
       "  'seldepth': 31,\n",
       "  'multipv': 3,\n",
       "  'score': PovScore(Cp(+32), WHITE),\n",
       "  'nodes': 5093698,\n",
       "  'nps': 5088609,\n",
       "  'tbhits': 0,\n",
       "  'time': 1.001,\n",
       "  'pv': [Move.from_uci('c2c4'),\n",
       "   Move.from_uci('g8f6'),\n",
       "   Move.from_uci('g2g3'),\n",
       "   Move.from_uci('c7c6'),\n",
       "   Move.from_uci('f1g2'),\n",
       "   Move.from_uci('d7d5'),\n",
       "   Move.from_uci('g1f3'),\n",
       "   Move.from_uci('g7g6'),\n",
       "   Move.from_uci('e1g1'),\n",
       "   Move.from_uci('f8g7'),\n",
       "   Move.from_uci('d2d4'),\n",
       "   Move.from_uci('d5c4'),\n",
       "   Move.from_uci('a2a4'),\n",
       "   Move.from_uci('e8g8'),\n",
       "   Move.from_uci('b1a3'),\n",
       "   Move.from_uci('b8a6'),\n",
       "   Move.from_uci('a3c4'),\n",
       "   Move.from_uci('c6c5'),\n",
       "   Move.from_uci('b2b3'),\n",
       "   Move.from_uci('c8f5'),\n",
       "   Move.from_uci('c1b2'),\n",
       "   Move.from_uci('f5e4'),\n",
       "   Move.from_uci('a1c1'),\n",
       "   Move.from_uci('a8c8'),\n",
       "   Move.from_uci('h2h4')],\n",
       "  'hashfull': 39},\n",
       " {'depth': 20,\n",
       "  'seldepth': 23,\n",
       "  'multipv': 4,\n",
       "  'score': PovScore(Cp(+25), WHITE),\n",
       "  'nodes': 5093698,\n",
       "  'nps': 5088609,\n",
       "  'tbhits': 0,\n",
       "  'time': 1.001,\n",
       "  'pv': [Move.from_uci('g1f3'),\n",
       "   Move.from_uci('d7d5'),\n",
       "   Move.from_uci('d2d4'),\n",
       "   Move.from_uci('g8f6'),\n",
       "   Move.from_uci('c2c4'),\n",
       "   Move.from_uci('e7e6'),\n",
       "   Move.from_uci('g2g3'),\n",
       "   Move.from_uci('d5c4'),\n",
       "   Move.from_uci('f1g2'),\n",
       "   Move.from_uci('f8b4'),\n",
       "   Move.from_uci('c1d2'),\n",
       "   Move.from_uci('c7c5'),\n",
       "   Move.from_uci('e1g1'),\n",
       "   Move.from_uci('e8g8'),\n",
       "   Move.from_uci('d2b4'),\n",
       "   Move.from_uci('c5b4'),\n",
       "   Move.from_uci('d1c2'),\n",
       "   Move.from_uci('c8d7'),\n",
       "   Move.from_uci('c2c4'),\n",
       "   Move.from_uci('d8b6'),\n",
       "   Move.from_uci('f1c1')],\n",
       "  'hashfull': 39},\n",
       " {'depth': 20,\n",
       "  'seldepth': 27,\n",
       "  'multipv': 5,\n",
       "  'score': PovScore(Cp(+15), WHITE),\n",
       "  'nodes': 5093698,\n",
       "  'nps': 5088609,\n",
       "  'tbhits': 0,\n",
       "  'time': 1.001,\n",
       "  'pv': [Move.from_uci('g2g3'),\n",
       "   Move.from_uci('d7d5'),\n",
       "   Move.from_uci('g1f3'),\n",
       "   Move.from_uci('c7c5'),\n",
       "   Move.from_uci('f1g2'),\n",
       "   Move.from_uci('g8f6'),\n",
       "   Move.from_uci('d2d4'),\n",
       "   Move.from_uci('c5d4'),\n",
       "   Move.from_uci('e1g1'),\n",
       "   Move.from_uci('e7e6'),\n",
       "   Move.from_uci('f3d4'),\n",
       "   Move.from_uci('e6e5'),\n",
       "   Move.from_uci('d4b3'),\n",
       "   Move.from_uci('c8e6'),\n",
       "   Move.from_uci('e2e4'),\n",
       "   Move.from_uci('d5d4'),\n",
       "   Move.from_uci('c2c3'),\n",
       "   Move.from_uci('d4d3'),\n",
       "   Move.from_uci('c1g5'),\n",
       "   Move.from_uci('b8c6'),\n",
       "   Move.from_uci('b3c1'),\n",
       "   Move.from_uci('h7h6'),\n",
       "   Move.from_uci('g5f6'),\n",
       "   Move.from_uci('d8f6'),\n",
       "   Move.from_uci('c1d3'),\n",
       "   Move.from_uci('e8c8')],\n",
       "  'hashfull': 39}]"
      ]
     },
     "execution_count": 766,
     "metadata": {},
     "output_type": "execute_result"
    }
   ],
   "source": [
    "engine.analyse(board, limit, multipv='5')"
   ]
  },
  {
   "cell_type": "code",
   "execution_count": 767,
   "id": "988b0659",
   "metadata": {
    "ExecuteTime": {
     "end_time": "2022-10-31T17:53:25.900412Z",
     "start_time": "2022-10-31T17:53:25.883404Z"
    }
   },
   "outputs": [
    {
     "data": {
      "text/plain": [
       "Move.from_uci('d2d4')"
      ]
     },
     "execution_count": 767,
     "metadata": {},
     "output_type": "execute_result"
    }
   ],
   "source": [
    "board.push_san('d4')"
   ]
  },
  {
   "cell_type": "code",
   "execution_count": 768,
   "id": "7c5d01d9",
   "metadata": {
    "ExecuteTime": {
     "end_time": "2022-10-31T17:53:26.522849Z",
     "start_time": "2022-10-31T17:53:26.507872Z"
    }
   },
   "outputs": [
    {
     "data": {
      "image/svg+xml": [
       "<svg xmlns=\"http://www.w3.org/2000/svg\" xmlns:xlink=\"http://www.w3.org/1999/xlink\" version=\"1.2\" baseProfile=\"tiny\" viewBox=\"0 0 390 390\" width=\"390\" height=\"390\"><desc><pre>r n b q k b n r\n",
       "p p p p p p p p\n",
       ". . . . . . . .\n",
       ". . . . . . . .\n",
       ". . . P . . . .\n",
       ". . . . . . . .\n",
       "P P P . P P P P\n",
       "R N B Q K B N R</pre></desc><defs><g id=\"white-pawn\" class=\"white pawn\"><path d=\"M22.5 9c-2.21 0-4 1.79-4 4 0 .89.29 1.71.78 2.38C17.33 16.5 16 18.59 16 21c0 2.03.94 3.84 2.41 5.03-3 1.06-7.41 5.55-7.41 13.47h23c0-7.92-4.41-12.41-7.41-13.47 1.47-1.19 2.41-3 2.41-5.03 0-2.41-1.33-4.5-3.28-5.62.49-.67.78-1.49.78-2.38 0-2.21-1.79-4-4-4z\" fill=\"#fff\" stroke=\"#000\" stroke-width=\"1.5\" stroke-linecap=\"round\" /></g><g id=\"white-knight\" class=\"white knight\" fill=\"none\" fill-rule=\"evenodd\" stroke=\"#000\" stroke-width=\"1.5\" stroke-linecap=\"round\" stroke-linejoin=\"round\"><path d=\"M 22,10 C 32.5,11 38.5,18 38,39 L 15,39 C 15,30 25,32.5 23,18\" style=\"fill:#ffffff; stroke:#000000;\" /><path d=\"M 24,18 C 24.38,20.91 18.45,25.37 16,27 C 13,29 13.18,31.34 11,31 C 9.958,30.06 12.41,27.96 11,28 C 10,28 11.19,29.23 10,30 C 9,30 5.997,31 6,26 C 6,24 12,14 12,14 C 12,14 13.89,12.1 14,10.5 C 13.27,9.506 13.5,8.5 13.5,7.5 C 14.5,6.5 16.5,10 16.5,10 L 18.5,10 C 18.5,10 19.28,8.008 21,7 C 22,7 22,10 22,10\" style=\"fill:#ffffff; stroke:#000000;\" /><path d=\"M 9.5 25.5 A 0.5 0.5 0 1 1 8.5,25.5 A 0.5 0.5 0 1 1 9.5 25.5 z\" style=\"fill:#000000; stroke:#000000;\" /><path d=\"M 15 15.5 A 0.5 1.5 0 1 1 14,15.5 A 0.5 1.5 0 1 1 15 15.5 z\" transform=\"matrix(0.866,0.5,-0.5,0.866,9.693,-5.173)\" style=\"fill:#000000; stroke:#000000;\" /></g><g id=\"white-bishop\" class=\"white bishop\" fill=\"none\" fill-rule=\"evenodd\" stroke=\"#000\" stroke-width=\"1.5\" stroke-linecap=\"round\" stroke-linejoin=\"round\"><g fill=\"#fff\" stroke-linecap=\"butt\"><path d=\"M9 36c3.39-.97 10.11.43 13.5-2 3.39 2.43 10.11 1.03 13.5 2 0 0 1.65.54 3 2-.68.97-1.65.99-3 .5-3.39-.97-10.11.46-13.5-1-3.39 1.46-10.11.03-13.5 1-1.354.49-2.323.47-3-.5 1.354-1.94 3-2 3-2zM15 32c2.5 2.5 12.5 2.5 15 0 .5-1.5 0-2 0-2 0-2.5-2.5-4-2.5-4 5.5-1.5 6-11.5-5-15.5-11 4-10.5 14-5 15.5 0 0-2.5 1.5-2.5 4 0 0-.5.5 0 2zM25 8a2.5 2.5 0 1 1-5 0 2.5 2.5 0 1 1 5 0z\" /></g><path d=\"M17.5 26h10M15 30h15m-7.5-14.5v5M20 18h5\" stroke-linejoin=\"miter\" /></g><g id=\"white-rook\" class=\"white rook\" fill=\"#fff\" fill-rule=\"evenodd\" stroke=\"#000\" stroke-width=\"1.5\" stroke-linecap=\"round\" stroke-linejoin=\"round\"><path d=\"M9 39h27v-3H9v3zM12 36v-4h21v4H12zM11 14V9h4v2h5V9h5v2h5V9h4v5\" stroke-linecap=\"butt\" /><path d=\"M34 14l-3 3H14l-3-3\" /><path d=\"M31 17v12.5H14V17\" stroke-linecap=\"butt\" stroke-linejoin=\"miter\" /><path d=\"M31 29.5l1.5 2.5h-20l1.5-2.5\" /><path d=\"M11 14h23\" fill=\"none\" stroke-linejoin=\"miter\" /></g><g id=\"white-queen\" class=\"white queen\" fill=\"#fff\" fill-rule=\"evenodd\" stroke=\"#000\" stroke-width=\"1.5\" stroke-linecap=\"round\" stroke-linejoin=\"round\"><path d=\"M8 12a2 2 0 1 1-4 0 2 2 0 1 1 4 0zM24.5 7.5a2 2 0 1 1-4 0 2 2 0 1 1 4 0zM41 12a2 2 0 1 1-4 0 2 2 0 1 1 4 0zM16 8.5a2 2 0 1 1-4 0 2 2 0 1 1 4 0zM33 9a2 2 0 1 1-4 0 2 2 0 1 1 4 0z\" /><path d=\"M9 26c8.5-1.5 21-1.5 27 0l2-12-7 11V11l-5.5 13.5-3-15-3 15-5.5-14V25L7 14l2 12zM9 26c0 2 1.5 2 2.5 4 1 1.5 1 1 .5 3.5-1.5 1-1.5 2.5-1.5 2.5-1.5 1.5.5 2.5.5 2.5 6.5 1 16.5 1 23 0 0 0 1.5-1 0-2.5 0 0 .5-1.5-1-2.5-.5-2.5-.5-2 .5-3.5 1-2 2.5-2 2.5-4-8.5-1.5-18.5-1.5-27 0z\" stroke-linecap=\"butt\" /><path d=\"M11.5 30c3.5-1 18.5-1 22 0M12 33.5c6-1 15-1 21 0\" fill=\"none\" /></g><g id=\"white-king\" class=\"white king\" fill=\"none\" fill-rule=\"evenodd\" stroke=\"#000\" stroke-width=\"1.5\" stroke-linecap=\"round\" stroke-linejoin=\"round\"><path d=\"M22.5 11.63V6M20 8h5\" stroke-linejoin=\"miter\" /><path d=\"M22.5 25s4.5-7.5 3-10.5c0 0-1-2.5-3-2.5s-3 2.5-3 2.5c-1.5 3 3 10.5 3 10.5\" fill=\"#fff\" stroke-linecap=\"butt\" stroke-linejoin=\"miter\" /><path d=\"M11.5 37c5.5 3.5 15.5 3.5 21 0v-7s9-4.5 6-10.5c-4-6.5-13.5-3.5-16 4V27v-3.5c-3.5-7.5-13-10.5-16-4-3 6 5 10 5 10V37z\" fill=\"#fff\" /><path d=\"M11.5 30c5.5-3 15.5-3 21 0m-21 3.5c5.5-3 15.5-3 21 0m-21 3.5c5.5-3 15.5-3 21 0\" /></g><g id=\"black-pawn\" class=\"black pawn\"><path d=\"M22.5 9c-2.21 0-4 1.79-4 4 0 .89.29 1.71.78 2.38C17.33 16.5 16 18.59 16 21c0 2.03.94 3.84 2.41 5.03-3 1.06-7.41 5.55-7.41 13.47h23c0-7.92-4.41-12.41-7.41-13.47 1.47-1.19 2.41-3 2.41-5.03 0-2.41-1.33-4.5-3.28-5.62.49-.67.78-1.49.78-2.38 0-2.21-1.79-4-4-4z\" fill=\"#000\" stroke=\"#000\" stroke-width=\"1.5\" stroke-linecap=\"round\" /></g><g id=\"black-knight\" class=\"black knight\" fill=\"none\" fill-rule=\"evenodd\" stroke=\"#000\" stroke-width=\"1.5\" stroke-linecap=\"round\" stroke-linejoin=\"round\"><path d=\"M 22,10 C 32.5,11 38.5,18 38,39 L 15,39 C 15,30 25,32.5 23,18\" style=\"fill:#000000; stroke:#000000;\" /><path d=\"M 24,18 C 24.38,20.91 18.45,25.37 16,27 C 13,29 13.18,31.34 11,31 C 9.958,30.06 12.41,27.96 11,28 C 10,28 11.19,29.23 10,30 C 9,30 5.997,31 6,26 C 6,24 12,14 12,14 C 12,14 13.89,12.1 14,10.5 C 13.27,9.506 13.5,8.5 13.5,7.5 C 14.5,6.5 16.5,10 16.5,10 L 18.5,10 C 18.5,10 19.28,8.008 21,7 C 22,7 22,10 22,10\" style=\"fill:#000000; stroke:#000000;\" /><path d=\"M 9.5 25.5 A 0.5 0.5 0 1 1 8.5,25.5 A 0.5 0.5 0 1 1 9.5 25.5 z\" style=\"fill:#ececec; stroke:#ececec;\" /><path d=\"M 15 15.5 A 0.5 1.5 0 1 1 14,15.5 A 0.5 1.5 0 1 1 15 15.5 z\" transform=\"matrix(0.866,0.5,-0.5,0.866,9.693,-5.173)\" style=\"fill:#ececec; stroke:#ececec;\" /><path d=\"M 24.55,10.4 L 24.1,11.85 L 24.6,12 C 27.75,13 30.25,14.49 32.5,18.75 C 34.75,23.01 35.75,29.06 35.25,39 L 35.2,39.5 L 37.45,39.5 L 37.5,39 C 38,28.94 36.62,22.15 34.25,17.66 C 31.88,13.17 28.46,11.02 25.06,10.5 L 24.55,10.4 z \" style=\"fill:#ececec; stroke:none;\" /></g><g id=\"black-bishop\" class=\"black bishop\" fill=\"none\" fill-rule=\"evenodd\" stroke=\"#000\" stroke-width=\"1.5\" stroke-linecap=\"round\" stroke-linejoin=\"round\"><path d=\"M9 36c3.39-.97 10.11.43 13.5-2 3.39 2.43 10.11 1.03 13.5 2 0 0 1.65.54 3 2-.68.97-1.65.99-3 .5-3.39-.97-10.11.46-13.5-1-3.39 1.46-10.11.03-13.5 1-1.354.49-2.323.47-3-.5 1.354-1.94 3-2 3-2zm6-4c2.5 2.5 12.5 2.5 15 0 .5-1.5 0-2 0-2 0-2.5-2.5-4-2.5-4 5.5-1.5 6-11.5-5-15.5-11 4-10.5 14-5 15.5 0 0-2.5 1.5-2.5 4 0 0-.5.5 0 2zM25 8a2.5 2.5 0 1 1-5 0 2.5 2.5 0 1 1 5 0z\" fill=\"#000\" stroke-linecap=\"butt\" /><path d=\"M17.5 26h10M15 30h15m-7.5-14.5v5M20 18h5\" stroke=\"#fff\" stroke-linejoin=\"miter\" /></g><g id=\"black-rook\" class=\"black rook\" fill=\"#000\" fill-rule=\"evenodd\" stroke=\"#000\" stroke-width=\"1.5\" stroke-linecap=\"round\" stroke-linejoin=\"round\"><path d=\"M9 39h27v-3H9v3zM12.5 32l1.5-2.5h17l1.5 2.5h-20zM12 36v-4h21v4H12z\" stroke-linecap=\"butt\" /><path d=\"M14 29.5v-13h17v13H14z\" stroke-linecap=\"butt\" stroke-linejoin=\"miter\" /><path d=\"M14 16.5L11 14h23l-3 2.5H14zM11 14V9h4v2h5V9h5v2h5V9h4v5H11z\" stroke-linecap=\"butt\" /><path d=\"M12 35.5h21M13 31.5h19M14 29.5h17M14 16.5h17M11 14h23\" fill=\"none\" stroke=\"#fff\" stroke-width=\"1\" stroke-linejoin=\"miter\" /></g><g id=\"black-queen\" class=\"black queen\" fill=\"#000\" fill-rule=\"evenodd\" stroke=\"#000\" stroke-width=\"1.5\" stroke-linecap=\"round\" stroke-linejoin=\"round\"><g fill=\"#000\" stroke=\"none\"><circle cx=\"6\" cy=\"12\" r=\"2.75\" /><circle cx=\"14\" cy=\"9\" r=\"2.75\" /><circle cx=\"22.5\" cy=\"8\" r=\"2.75\" /><circle cx=\"31\" cy=\"9\" r=\"2.75\" /><circle cx=\"39\" cy=\"12\" r=\"2.75\" /></g><path d=\"M9 26c8.5-1.5 21-1.5 27 0l2.5-12.5L31 25l-.3-14.1-5.2 13.6-3-14.5-3 14.5-5.2-13.6L14 25 6.5 13.5 9 26zM9 26c0 2 1.5 2 2.5 4 1 1.5 1 1 .5 3.5-1.5 1-1.5 2.5-1.5 2.5-1.5 1.5.5 2.5.5 2.5 6.5 1 16.5 1 23 0 0 0 1.5-1 0-2.5 0 0 .5-1.5-1-2.5-.5-2.5-.5-2 .5-3.5 1-2 2.5-2 2.5-4-8.5-1.5-18.5-1.5-27 0z\" stroke-linecap=\"butt\" /><path d=\"M11 38.5a35 35 1 0 0 23 0\" fill=\"none\" stroke-linecap=\"butt\" /><path d=\"M11 29a35 35 1 0 1 23 0M12.5 31.5h20M11.5 34.5a35 35 1 0 0 22 0M10.5 37.5a35 35 1 0 0 24 0\" fill=\"none\" stroke=\"#fff\" /></g><g id=\"black-king\" class=\"black king\" fill=\"none\" fill-rule=\"evenodd\" stroke=\"#000\" stroke-width=\"1.5\" stroke-linecap=\"round\" stroke-linejoin=\"round\"><path d=\"M22.5 11.63V6\" stroke-linejoin=\"miter\" /><path d=\"M22.5 25s4.5-7.5 3-10.5c0 0-1-2.5-3-2.5s-3 2.5-3 2.5c-1.5 3 3 10.5 3 10.5\" fill=\"#000\" stroke-linecap=\"butt\" stroke-linejoin=\"miter\" /><path d=\"M11.5 37c5.5 3.5 15.5 3.5 21 0v-7s9-4.5 6-10.5c-4-6.5-13.5-3.5-16 4V27v-3.5c-3.5-7.5-13-10.5-16-4-3 6 5 10 5 10V37z\" fill=\"#000\" /><path d=\"M20 8h5\" stroke-linejoin=\"miter\" /><path d=\"M32 29.5s8.5-4 6.03-9.65C34.15 14 25 18 22.5 24.5l.01 2.1-.01-2.1C20 18 9.906 14 6.997 19.85c-2.497 5.65 4.853 9 4.853 9M11.5 30c5.5-3 15.5-3 21 0m-21 3.5c5.5-3 15.5-3 21 0m-21 3.5c5.5-3 15.5-3 21 0\" stroke=\"#fff\" /></g></defs><rect x=\"0\" y=\"0\" width=\"390\" height=\"390\" fill=\"#212121\" /><g transform=\"translate(20, 0) scale(0.75, 0.75)\" fill=\"#e5e5e5\" stroke=\"#e5e5e5\"><path d=\"M23.328 10.016q-1.742 0-2.414.398-.672.398-.672 1.36 0 .765.5 1.218.508.445 1.375.445 1.196 0 1.914-.843.727-.852.727-2.258v-.32zm2.867-.594v4.992h-1.437v-1.328q-.492.797-1.227 1.18-.734.375-1.797.375-1.343 0-2.14-.75-.79-.758-.79-2.024 0-1.476.985-2.226.992-.75 2.953-.75h2.016V8.75q0-.992-.656-1.531-.649-.547-1.829-.547-.75 0-1.46.18-.711.18-1.368.539V6.062q.79-.304 1.532-.453.742-.156 1.445-.156 1.898 0 2.836.984.937.985.937 2.985z\" /></g><g transform=\"translate(20, 375) scale(0.75, 0.75)\" fill=\"#e5e5e5\" stroke=\"#e5e5e5\"><path d=\"M23.328 10.016q-1.742 0-2.414.398-.672.398-.672 1.36 0 .765.5 1.218.508.445 1.375.445 1.196 0 1.914-.843.727-.852.727-2.258v-.32zm2.867-.594v4.992h-1.437v-1.328q-.492.797-1.227 1.18-.734.375-1.797.375-1.343 0-2.14-.75-.79-.758-.79-2.024 0-1.476.985-2.226.992-.75 2.953-.75h2.016V8.75q0-.992-.656-1.531-.649-.547-1.829-.547-.75 0-1.46.18-.711.18-1.368.539V6.062q.79-.304 1.532-.453.742-.156 1.445-.156 1.898 0 2.836.984.937.985.937 2.985z\" /></g><g transform=\"translate(65, 0) scale(0.75, 0.75)\" fill=\"#e5e5e5\" stroke=\"#e5e5e5\"><path d=\"M24.922 10.047q0-1.586-.656-2.485-.649-.906-1.79-.906-1.14 0-1.796.906-.649.899-.649 2.485 0 1.586.649 2.492.656.898 1.797.898 1.14 0 1.789-.898.656-.906.656-2.492zm-4.89-3.055q.452-.781 1.14-1.156.695-.383 1.656-.383 1.594 0 2.586 1.266 1 1.265 1 3.328 0 2.062-1 3.328-.992 1.266-2.586 1.266-.96 0-1.656-.375-.688-.383-1.14-1.164v1.312h-1.446V2.258h1.445z\" /></g><g transform=\"translate(65, 375) scale(0.75, 0.75)\" fill=\"#e5e5e5\" stroke=\"#e5e5e5\"><path d=\"M24.922 10.047q0-1.586-.656-2.485-.649-.906-1.79-.906-1.14 0-1.796.906-.649.899-.649 2.485 0 1.586.649 2.492.656.898 1.797.898 1.14 0 1.789-.898.656-.906.656-2.492zm-4.89-3.055q.452-.781 1.14-1.156.695-.383 1.656-.383 1.594 0 2.586 1.266 1 1.265 1 3.328 0 2.062-1 3.328-.992 1.266-2.586 1.266-.96 0-1.656-.375-.688-.383-1.14-1.164v1.312h-1.446V2.258h1.445z\" /></g><g transform=\"translate(110, 0) scale(0.75, 0.75)\" fill=\"#e5e5e5\" stroke=\"#e5e5e5\"><path d=\"M25.96 6v1.344q-.608-.336-1.226-.5-.609-.172-1.234-.172-1.398 0-2.172.89-.773.883-.773 2.485 0 1.601.773 2.492.774.883 2.172.883.625 0 1.234-.164.618-.172 1.227-.508v1.328q-.602.281-1.25.422-.64.14-1.367.14-1.977 0-3.14-1.242-1.165-1.242-1.165-3.351 0-2.14 1.172-3.367 1.18-1.227 3.227-1.227.664 0 1.296.14.633.134 1.227.407z\" /></g><g transform=\"translate(110, 375) scale(0.75, 0.75)\" fill=\"#e5e5e5\" stroke=\"#e5e5e5\"><path d=\"M25.96 6v1.344q-.608-.336-1.226-.5-.609-.172-1.234-.172-1.398 0-2.172.89-.773.883-.773 2.485 0 1.601.773 2.492.774.883 2.172.883.625 0 1.234-.164.618-.172 1.227-.508v1.328q-.602.281-1.25.422-.64.14-1.367.14-1.977 0-3.14-1.242-1.165-1.242-1.165-3.351 0-2.14 1.172-3.367 1.18-1.227 3.227-1.227.664 0 1.296.14.633.134 1.227.407z\" /></g><g transform=\"translate(155, 0) scale(0.75, 0.75)\" fill=\"#e5e5e5\" stroke=\"#e5e5e5\"><path d=\"M24.973 6.992V2.258h1.437v12.156h-1.437v-1.312q-.453.78-1.149 1.164-.687.375-1.656.375-1.586 0-2.586-1.266-.992-1.266-.992-3.328 0-2.063.992-3.328 1-1.266 2.586-1.266.969 0 1.656.383.696.375 1.149 1.156zm-4.899 3.055q0 1.586.649 2.492.656.898 1.797.898 1.14 0 1.796-.898.657-.906.657-2.492 0-1.586-.657-2.485-.656-.906-1.796-.906-1.141 0-1.797.906-.649.899-.649 2.485z\" /></g><g transform=\"translate(155, 375) scale(0.75, 0.75)\" fill=\"#e5e5e5\" stroke=\"#e5e5e5\"><path d=\"M24.973 6.992V2.258h1.437v12.156h-1.437v-1.312q-.453.78-1.149 1.164-.687.375-1.656.375-1.586 0-2.586-1.266-.992-1.266-.992-3.328 0-2.063.992-3.328 1-1.266 2.586-1.266.969 0 1.656.383.696.375 1.149 1.156zm-4.899 3.055q0 1.586.649 2.492.656.898 1.797.898 1.14 0 1.796-.898.657-.906.657-2.492 0-1.586-.657-2.485-.656-.906-1.796-.906-1.141 0-1.797.906-.649.899-.649 2.485z\" /></g><g transform=\"translate(200, 0) scale(0.75, 0.75)\" fill=\"#e5e5e5\" stroke=\"#e5e5e5\"><path d=\"M26.555 9.68v.703h-6.61q.094 1.484.89 2.265.806.774 2.235.774.828 0 1.602-.203.781-.203 1.547-.61v1.36q-.774.328-1.586.5-.813.172-1.649.172-2.093 0-3.32-1.22-1.219-1.218-1.219-3.296 0-2.148 1.157-3.406 1.164-1.266 3.132-1.266 1.766 0 2.79 1.14 1.03 1.134 1.03 3.087zm-1.438-.422q-.015-1.18-.664-1.883-.64-.703-1.703-.703-1.203 0-1.93.68-.718.68-.828 1.914z\" /></g><g transform=\"translate(200, 375) scale(0.75, 0.75)\" fill=\"#e5e5e5\" stroke=\"#e5e5e5\"><path d=\"M26.555 9.68v.703h-6.61q.094 1.484.89 2.265.806.774 2.235.774.828 0 1.602-.203.781-.203 1.547-.61v1.36q-.774.328-1.586.5-.813.172-1.649.172-2.093 0-3.32-1.22-1.219-1.218-1.219-3.296 0-2.148 1.157-3.406 1.164-1.266 3.132-1.266 1.766 0 2.79 1.14 1.03 1.134 1.03 3.087zm-1.438-.422q-.015-1.18-.664-1.883-.64-.703-1.703-.703-1.203 0-1.93.68-.718.68-.828 1.914z\" /></g><g transform=\"translate(245, 0) scale(0.75, 0.75)\" fill=\"#e5e5e5\" stroke=\"#e5e5e5\"><path d=\"M25.285 2.258v1.195H23.91q-.773 0-1.078.313-.297.312-.297 1.125v.773h2.367v1.117h-2.367v7.633H21.09V6.781h-1.375V5.664h1.375v-.61q0-1.46.68-2.124.68-.672 2.156-.672z\" /></g><g transform=\"translate(245, 375) scale(0.75, 0.75)\" fill=\"#e5e5e5\" stroke=\"#e5e5e5\"><path d=\"M25.285 2.258v1.195H23.91q-.773 0-1.078.313-.297.312-.297 1.125v.773h2.367v1.117h-2.367v7.633H21.09V6.781h-1.375V5.664h1.375v-.61q0-1.46.68-2.124.68-.672 2.156-.672z\" /></g><g transform=\"translate(290, 0) scale(0.75, 0.75)\" fill=\"#e5e5e5\" stroke=\"#e5e5e5\"><path d=\"M24.973 9.937q0-1.562-.649-2.421-.64-.86-1.804-.86-1.157 0-1.805.86-.64.859-.64 2.421 0 1.555.64 2.415.648.859 1.805.859 1.164 0 1.804-.86.649-.859.649-2.414zm1.437 3.391q0 2.234-.992 3.32-.992 1.094-3.04 1.094-.757 0-1.429-.117-.672-.11-1.304-.344v-1.398q.632.344 1.25.508.617.164 1.257.164 1.414 0 2.118-.743.703-.734.703-2.226v-.711q-.446.773-1.141 1.156-.695.383-1.664.383-1.61 0-2.594-1.227-.984-1.226-.984-3.25 0-2.03.984-3.257.985-1.227 2.594-1.227.969 0 1.664.383t1.14 1.156V5.664h1.438z\" /></g><g transform=\"translate(290, 375) scale(0.75, 0.75)\" fill=\"#e5e5e5\" stroke=\"#e5e5e5\"><path d=\"M24.973 9.937q0-1.562-.649-2.421-.64-.86-1.804-.86-1.157 0-1.805.86-.64.859-.64 2.421 0 1.555.64 2.415.648.859 1.805.859 1.164 0 1.804-.86.649-.859.649-2.414zm1.437 3.391q0 2.234-.992 3.32-.992 1.094-3.04 1.094-.757 0-1.429-.117-.672-.11-1.304-.344v-1.398q.632.344 1.25.508.617.164 1.257.164 1.414 0 2.118-.743.703-.734.703-2.226v-.711q-.446.773-1.141 1.156-.695.383-1.664.383-1.61 0-2.594-1.227-.984-1.226-.984-3.25 0-2.03.984-3.257.985-1.227 2.594-1.227.969 0 1.664.383t1.14 1.156V5.664h1.438z\" /></g><g transform=\"translate(335, 0) scale(0.75, 0.75)\" fill=\"#e5e5e5\" stroke=\"#e5e5e5\"><path d=\"M26.164 9.133v5.281h-1.437V9.18q0-1.243-.485-1.86-.484-.617-1.453-.617-1.164 0-1.836.742-.672.742-.672 2.024v4.945h-1.445V2.258h1.445v4.765q.516-.789 1.211-1.18.703-.39 1.617-.39 1.508 0 2.282.938.773.93.773 2.742z\" /></g><g transform=\"translate(335, 375) scale(0.75, 0.75)\" fill=\"#e5e5e5\" stroke=\"#e5e5e5\"><path d=\"M26.164 9.133v5.281h-1.437V9.18q0-1.243-.485-1.86-.484-.617-1.453-.617-1.164 0-1.836.742-.672.742-.672 2.024v4.945h-1.445V2.258h1.445v4.765q.516-.789 1.211-1.18.703-.39 1.617-.39 1.508 0 2.282.938.773.93.773 2.742z\" /></g><g transform=\"translate(0, 335) scale(0.75, 0.75)\" fill=\"#e5e5e5\" stroke=\"#e5e5e5\"><path d=\"M6.754 26.996h2.578v-8.898l-2.805.562v-1.437l2.79-.563h1.578v10.336h2.578v1.328h-6.72z\" /></g><g transform=\"translate(375, 335) scale(0.75, 0.75)\" fill=\"#e5e5e5\" stroke=\"#e5e5e5\"><path d=\"M6.754 26.996h2.578v-8.898l-2.805.562v-1.437l2.79-.563h1.578v10.336h2.578v1.328h-6.72z\" /></g><g transform=\"translate(0, 290) scale(0.75, 0.75)\" fill=\"#e5e5e5\" stroke=\"#e5e5e5\"><path d=\"M8.195 26.996h5.508v1.328H6.297v-1.328q.898-.93 2.445-2.492 1.555-1.57 1.953-2.024.758-.851 1.055-1.437.305-.594.305-1.164 0-.93-.657-1.516-.648-.586-1.695-.586-.742 0-1.57.258-.82.258-1.758.781v-1.593q.953-.383 1.781-.578.828-.196 1.516-.196 1.812 0 2.89.906 1.079.907 1.079 2.422 0 .72-.274 1.368-.265.64-.976 1.515-.196.227-1.243 1.313-1.046 1.078-2.953 3.023z\" /></g><g transform=\"translate(375, 290) scale(0.75, 0.75)\" fill=\"#e5e5e5\" stroke=\"#e5e5e5\"><path d=\"M8.195 26.996h5.508v1.328H6.297v-1.328q.898-.93 2.445-2.492 1.555-1.57 1.953-2.024.758-.851 1.055-1.437.305-.594.305-1.164 0-.93-.657-1.516-.648-.586-1.695-.586-.742 0-1.57.258-.82.258-1.758.781v-1.593q.953-.383 1.781-.578.828-.196 1.516-.196 1.812 0 2.89.906 1.079.907 1.079 2.422 0 .72-.274 1.368-.265.64-.976 1.515-.196.227-1.243 1.313-1.046 1.078-2.953 3.023z\" /></g><g transform=\"translate(0, 245) scale(0.75, 0.75)\" fill=\"#e5e5e5\" stroke=\"#e5e5e5\"><path d=\"M11.434 22.035q1.132.242 1.765 1.008.64.766.64 1.89 0 1.727-1.187 2.672-1.187.946-3.375.946-.734 0-1.515-.149-.774-.14-1.602-.43V26.45q.656.383 1.438.578.78.196 1.632.196 1.485 0 2.258-.586.782-.586.782-1.703 0-1.032-.727-1.61-.719-.586-2.008-.586h-1.36v-1.297h1.423q1.164 0 1.78-.46.618-.47.618-1.344 0-.899-.64-1.375-.633-.485-1.82-.485-.65 0-1.391.141-.743.14-1.633.437V16.95q.898-.25 1.68-.375.788-.125 1.484-.125 1.797 0 2.844.82 1.046.813 1.046 2.204 0 .968-.554 1.64-.555.664-1.578.922z\" /></g><g transform=\"translate(375, 245) scale(0.75, 0.75)\" fill=\"#e5e5e5\" stroke=\"#e5e5e5\"><path d=\"M11.434 22.035q1.132.242 1.765 1.008.64.766.64 1.89 0 1.727-1.187 2.672-1.187.946-3.375.946-.734 0-1.515-.149-.774-.14-1.602-.43V26.45q.656.383 1.438.578.78.196 1.632.196 1.485 0 2.258-.586.782-.586.782-1.703 0-1.032-.727-1.61-.719-.586-2.008-.586h-1.36v-1.297h1.423q1.164 0 1.78-.46.618-.47.618-1.344 0-.899-.64-1.375-.633-.485-1.82-.485-.65 0-1.391.141-.743.14-1.633.437V16.95q.898-.25 1.68-.375.788-.125 1.484-.125 1.797 0 2.844.82 1.046.813 1.046 2.204 0 .968-.554 1.64-.555.664-1.578.922z\" /></g><g transform=\"translate(0, 200) scale(0.75, 0.75)\" fill=\"#e5e5e5\" stroke=\"#e5e5e5\"><path d=\"M11.016 18.035L7.03 24.262h3.985zm-.414-1.375h1.984v7.602h1.664v1.312h-1.664v2.75h-1.57v-2.75H5.75v-1.523z\" /></g><g transform=\"translate(375, 200) scale(0.75, 0.75)\" fill=\"#e5e5e5\" stroke=\"#e5e5e5\"><path d=\"M11.016 18.035L7.03 24.262h3.985zm-.414-1.375h1.984v7.602h1.664v1.312h-1.664v2.75h-1.57v-2.75H5.75v-1.523z\" /></g><g transform=\"translate(0, 155) scale(0.75, 0.75)\" fill=\"#e5e5e5\" stroke=\"#e5e5e5\"><path d=\"M6.719 16.66h6.195v1.328h-4.75v2.86q.344-.118.688-.172.343-.063.687-.063 1.953 0 3.094 1.07 1.14 1.07 1.14 2.899 0 1.883-1.171 2.93-1.172 1.039-3.305 1.039-.735 0-1.5-.125-.758-.125-1.57-.375v-1.586q.703.383 1.453.57.75.188 1.586.188 1.351 0 2.14-.711.79-.711.79-1.93 0-1.219-.79-1.93-.789-.71-2.14-.71-.633 0-1.266.14-.625.14-1.281.438z\" /></g><g transform=\"translate(375, 155) scale(0.75, 0.75)\" fill=\"#e5e5e5\" stroke=\"#e5e5e5\"><path d=\"M6.719 16.66h6.195v1.328h-4.75v2.86q.344-.118.688-.172.343-.063.687-.063 1.953 0 3.094 1.07 1.14 1.07 1.14 2.899 0 1.883-1.171 2.93-1.172 1.039-3.305 1.039-.735 0-1.5-.125-.758-.125-1.57-.375v-1.586q.703.383 1.453.57.75.188 1.586.188 1.351 0 2.14-.711.79-.711.79-1.93 0-1.219-.79-1.93-.789-.71-2.14-.71-.633 0-1.266.14-.625.14-1.281.438z\" /></g><g transform=\"translate(0, 110) scale(0.75, 0.75)\" fill=\"#e5e5e5\" stroke=\"#e5e5e5\"><path d=\"M10.137 21.863q-1.063 0-1.688.727-.617.726-.617 1.992 0 1.258.617 1.992.625.727 1.688.727 1.062 0 1.68-.727.624-.734.624-1.992 0-1.266-.625-1.992-.617-.727-1.68-.727zm3.133-4.945v1.437q-.594-.28-1.204-.43-.601-.148-1.195-.148-1.562 0-2.39 1.055-.82 1.055-.938 3.188.46-.68 1.156-1.04.696-.367 1.531-.367 1.758 0 2.774 1.07 1.023 1.063 1.023 2.899 0 1.797-1.062 2.883-1.063 1.086-2.828 1.086-2.024 0-3.094-1.547-1.07-1.555-1.07-4.5 0-2.766 1.312-4.406 1.313-1.649 3.524-1.649.593 0 1.195.117.61.118 1.266.352z\" /></g><g transform=\"translate(375, 110) scale(0.75, 0.75)\" fill=\"#e5e5e5\" stroke=\"#e5e5e5\"><path d=\"M10.137 21.863q-1.063 0-1.688.727-.617.726-.617 1.992 0 1.258.617 1.992.625.727 1.688.727 1.062 0 1.68-.727.624-.734.624-1.992 0-1.266-.625-1.992-.617-.727-1.68-.727zm3.133-4.945v1.437q-.594-.28-1.204-.43-.601-.148-1.195-.148-1.562 0-2.39 1.055-.82 1.055-.938 3.188.46-.68 1.156-1.04.696-.367 1.531-.367 1.758 0 2.774 1.07 1.023 1.063 1.023 2.899 0 1.797-1.062 2.883-1.063 1.086-2.828 1.086-2.024 0-3.094-1.547-1.07-1.555-1.07-4.5 0-2.766 1.312-4.406 1.313-1.649 3.524-1.649.593 0 1.195.117.61.118 1.266.352z\" /></g><g transform=\"translate(0, 65) scale(0.75, 0.75)\" fill=\"#e5e5e5\" stroke=\"#e5e5e5\"><path d=\"M6.25 16.66h7.5v.672L9.516 28.324H7.867l3.985-10.336H6.25z\" /></g><g transform=\"translate(375, 65) scale(0.75, 0.75)\" fill=\"#e5e5e5\" stroke=\"#e5e5e5\"><path d=\"M6.25 16.66h7.5v.672L9.516 28.324H7.867l3.985-10.336H6.25z\" /></g><g transform=\"translate(0, 20) scale(0.75, 0.75)\" fill=\"#e5e5e5\" stroke=\"#e5e5e5\"><path d=\"M10 22.785q-1.125 0-1.773.602-.641.601-.641 1.656t.64 1.656q.649.602 1.774.602t1.773-.602q.649-.61.649-1.656 0-1.055-.649-1.656-.64-.602-1.773-.602zm-1.578-.672q-1.016-.25-1.586-.945-.563-.695-.563-1.695 0-1.399.993-2.211 1-.813 2.734-.813 1.742 0 2.734.813.993.812.993 2.21 0 1-.57 1.696-.563.695-1.571.945 1.14.266 1.773 1.04.641.773.641 1.89 0 1.695-1.04 2.602-1.03.906-2.96.906t-2.969-.906Q6 26.738 6 25.043q0-1.117.64-1.89.641-.774 1.782-1.04zm-.578-2.492q0 .906.562 1.414.57.508 1.594.508 1.016 0 1.586-.508.578-.508.578-1.414 0-.906-.578-1.414-.57-.508-1.586-.508-1.023 0-1.594.508-.562.508-.562 1.414z\" /></g><g transform=\"translate(375, 20) scale(0.75, 0.75)\" fill=\"#e5e5e5\" stroke=\"#e5e5e5\"><path d=\"M10 22.785q-1.125 0-1.773.602-.641.601-.641 1.656t.64 1.656q.649.602 1.774.602t1.773-.602q.649-.61.649-1.656 0-1.055-.649-1.656-.64-.602-1.773-.602zm-1.578-.672q-1.016-.25-1.586-.945-.563-.695-.563-1.695 0-1.399.993-2.211 1-.813 2.734-.813 1.742 0 2.734.813.993.812.993 2.21 0 1-.57 1.696-.563.695-1.571.945 1.14.266 1.773 1.04.641.773.641 1.89 0 1.695-1.04 2.602-1.03.906-2.96.906t-2.969-.906Q6 26.738 6 25.043q0-1.117.64-1.89.641-.774 1.782-1.04zm-.578-2.492q0 .906.562 1.414.57.508 1.594.508 1.016 0 1.586-.508.578-.508.578-1.414 0-.906-.578-1.414-.57-.508-1.586-.508-1.023 0-1.594.508-.562.508-.562 1.414z\" /></g><rect x=\"15\" y=\"330\" width=\"45\" height=\"45\" class=\"square dark a1\" stroke=\"none\" fill=\"#d18b47\" /><rect x=\"60\" y=\"330\" width=\"45\" height=\"45\" class=\"square light b1\" stroke=\"none\" fill=\"#ffce9e\" /><rect x=\"105\" y=\"330\" width=\"45\" height=\"45\" class=\"square dark c1\" stroke=\"none\" fill=\"#d18b47\" /><rect x=\"150\" y=\"330\" width=\"45\" height=\"45\" class=\"square light d1\" stroke=\"none\" fill=\"#ffce9e\" /><rect x=\"195\" y=\"330\" width=\"45\" height=\"45\" class=\"square dark e1\" stroke=\"none\" fill=\"#d18b47\" /><rect x=\"240\" y=\"330\" width=\"45\" height=\"45\" class=\"square light f1\" stroke=\"none\" fill=\"#ffce9e\" /><rect x=\"285\" y=\"330\" width=\"45\" height=\"45\" class=\"square dark g1\" stroke=\"none\" fill=\"#d18b47\" /><rect x=\"330\" y=\"330\" width=\"45\" height=\"45\" class=\"square light h1\" stroke=\"none\" fill=\"#ffce9e\" /><rect x=\"15\" y=\"285\" width=\"45\" height=\"45\" class=\"square light a2\" stroke=\"none\" fill=\"#ffce9e\" /><rect x=\"60\" y=\"285\" width=\"45\" height=\"45\" class=\"square dark b2\" stroke=\"none\" fill=\"#d18b47\" /><rect x=\"105\" y=\"285\" width=\"45\" height=\"45\" class=\"square light c2\" stroke=\"none\" fill=\"#ffce9e\" /><rect x=\"150\" y=\"285\" width=\"45\" height=\"45\" class=\"square dark lastmove d2\" stroke=\"none\" fill=\"#aaa23b\" /><rect x=\"195\" y=\"285\" width=\"45\" height=\"45\" class=\"square light e2\" stroke=\"none\" fill=\"#ffce9e\" /><rect x=\"240\" y=\"285\" width=\"45\" height=\"45\" class=\"square dark f2\" stroke=\"none\" fill=\"#d18b47\" /><rect x=\"285\" y=\"285\" width=\"45\" height=\"45\" class=\"square light g2\" stroke=\"none\" fill=\"#ffce9e\" /><rect x=\"330\" y=\"285\" width=\"45\" height=\"45\" class=\"square dark h2\" stroke=\"none\" fill=\"#d18b47\" /><rect x=\"15\" y=\"240\" width=\"45\" height=\"45\" class=\"square dark a3\" stroke=\"none\" fill=\"#d18b47\" /><rect x=\"60\" y=\"240\" width=\"45\" height=\"45\" class=\"square light b3\" stroke=\"none\" fill=\"#ffce9e\" /><rect x=\"105\" y=\"240\" width=\"45\" height=\"45\" class=\"square dark c3\" stroke=\"none\" fill=\"#d18b47\" /><rect x=\"150\" y=\"240\" width=\"45\" height=\"45\" class=\"square light d3\" stroke=\"none\" fill=\"#ffce9e\" /><rect x=\"195\" y=\"240\" width=\"45\" height=\"45\" class=\"square dark e3\" stroke=\"none\" fill=\"#d18b47\" /><rect x=\"240\" y=\"240\" width=\"45\" height=\"45\" class=\"square light f3\" stroke=\"none\" fill=\"#ffce9e\" /><rect x=\"285\" y=\"240\" width=\"45\" height=\"45\" class=\"square dark g3\" stroke=\"none\" fill=\"#d18b47\" /><rect x=\"330\" y=\"240\" width=\"45\" height=\"45\" class=\"square light h3\" stroke=\"none\" fill=\"#ffce9e\" /><rect x=\"15\" y=\"195\" width=\"45\" height=\"45\" class=\"square light a4\" stroke=\"none\" fill=\"#ffce9e\" /><rect x=\"60\" y=\"195\" width=\"45\" height=\"45\" class=\"square dark b4\" stroke=\"none\" fill=\"#d18b47\" /><rect x=\"105\" y=\"195\" width=\"45\" height=\"45\" class=\"square light c4\" stroke=\"none\" fill=\"#ffce9e\" /><rect x=\"150\" y=\"195\" width=\"45\" height=\"45\" class=\"square dark lastmove d4\" stroke=\"none\" fill=\"#aaa23b\" /><rect x=\"195\" y=\"195\" width=\"45\" height=\"45\" class=\"square light e4\" stroke=\"none\" fill=\"#ffce9e\" /><rect x=\"240\" y=\"195\" width=\"45\" height=\"45\" class=\"square dark f4\" stroke=\"none\" fill=\"#d18b47\" /><rect x=\"285\" y=\"195\" width=\"45\" height=\"45\" class=\"square light g4\" stroke=\"none\" fill=\"#ffce9e\" /><rect x=\"330\" y=\"195\" width=\"45\" height=\"45\" class=\"square dark h4\" stroke=\"none\" fill=\"#d18b47\" /><rect x=\"15\" y=\"150\" width=\"45\" height=\"45\" class=\"square dark a5\" stroke=\"none\" fill=\"#d18b47\" /><rect x=\"60\" y=\"150\" width=\"45\" height=\"45\" class=\"square light b5\" stroke=\"none\" fill=\"#ffce9e\" /><rect x=\"105\" y=\"150\" width=\"45\" height=\"45\" class=\"square dark c5\" stroke=\"none\" fill=\"#d18b47\" /><rect x=\"150\" y=\"150\" width=\"45\" height=\"45\" class=\"square light d5\" stroke=\"none\" fill=\"#ffce9e\" /><rect x=\"195\" y=\"150\" width=\"45\" height=\"45\" class=\"square dark e5\" stroke=\"none\" fill=\"#d18b47\" /><rect x=\"240\" y=\"150\" width=\"45\" height=\"45\" class=\"square light f5\" stroke=\"none\" fill=\"#ffce9e\" /><rect x=\"285\" y=\"150\" width=\"45\" height=\"45\" class=\"square dark g5\" stroke=\"none\" fill=\"#d18b47\" /><rect x=\"330\" y=\"150\" width=\"45\" height=\"45\" class=\"square light h5\" stroke=\"none\" fill=\"#ffce9e\" /><rect x=\"15\" y=\"105\" width=\"45\" height=\"45\" class=\"square light a6\" stroke=\"none\" fill=\"#ffce9e\" /><rect x=\"60\" y=\"105\" width=\"45\" height=\"45\" class=\"square dark b6\" stroke=\"none\" fill=\"#d18b47\" /><rect x=\"105\" y=\"105\" width=\"45\" height=\"45\" class=\"square light c6\" stroke=\"none\" fill=\"#ffce9e\" /><rect x=\"150\" y=\"105\" width=\"45\" height=\"45\" class=\"square dark d6\" stroke=\"none\" fill=\"#d18b47\" /><rect x=\"195\" y=\"105\" width=\"45\" height=\"45\" class=\"square light e6\" stroke=\"none\" fill=\"#ffce9e\" /><rect x=\"240\" y=\"105\" width=\"45\" height=\"45\" class=\"square dark f6\" stroke=\"none\" fill=\"#d18b47\" /><rect x=\"285\" y=\"105\" width=\"45\" height=\"45\" class=\"square light g6\" stroke=\"none\" fill=\"#ffce9e\" /><rect x=\"330\" y=\"105\" width=\"45\" height=\"45\" class=\"square dark h6\" stroke=\"none\" fill=\"#d18b47\" /><rect x=\"15\" y=\"60\" width=\"45\" height=\"45\" class=\"square dark a7\" stroke=\"none\" fill=\"#d18b47\" /><rect x=\"60\" y=\"60\" width=\"45\" height=\"45\" class=\"square light b7\" stroke=\"none\" fill=\"#ffce9e\" /><rect x=\"105\" y=\"60\" width=\"45\" height=\"45\" class=\"square dark c7\" stroke=\"none\" fill=\"#d18b47\" /><rect x=\"150\" y=\"60\" width=\"45\" height=\"45\" class=\"square light d7\" stroke=\"none\" fill=\"#ffce9e\" /><rect x=\"195\" y=\"60\" width=\"45\" height=\"45\" class=\"square dark e7\" stroke=\"none\" fill=\"#d18b47\" /><rect x=\"240\" y=\"60\" width=\"45\" height=\"45\" class=\"square light f7\" stroke=\"none\" fill=\"#ffce9e\" /><rect x=\"285\" y=\"60\" width=\"45\" height=\"45\" class=\"square dark g7\" stroke=\"none\" fill=\"#d18b47\" /><rect x=\"330\" y=\"60\" width=\"45\" height=\"45\" class=\"square light h7\" stroke=\"none\" fill=\"#ffce9e\" /><rect x=\"15\" y=\"15\" width=\"45\" height=\"45\" class=\"square light a8\" stroke=\"none\" fill=\"#ffce9e\" /><rect x=\"60\" y=\"15\" width=\"45\" height=\"45\" class=\"square dark b8\" stroke=\"none\" fill=\"#d18b47\" /><rect x=\"105\" y=\"15\" width=\"45\" height=\"45\" class=\"square light c8\" stroke=\"none\" fill=\"#ffce9e\" /><rect x=\"150\" y=\"15\" width=\"45\" height=\"45\" class=\"square dark d8\" stroke=\"none\" fill=\"#d18b47\" /><rect x=\"195\" y=\"15\" width=\"45\" height=\"45\" class=\"square light e8\" stroke=\"none\" fill=\"#ffce9e\" /><rect x=\"240\" y=\"15\" width=\"45\" height=\"45\" class=\"square dark f8\" stroke=\"none\" fill=\"#d18b47\" /><rect x=\"285\" y=\"15\" width=\"45\" height=\"45\" class=\"square light g8\" stroke=\"none\" fill=\"#ffce9e\" /><rect x=\"330\" y=\"15\" width=\"45\" height=\"45\" class=\"square dark h8\" stroke=\"none\" fill=\"#d18b47\" /><use href=\"#white-rook\" xlink:href=\"#white-rook\" transform=\"translate(15, 330)\" /><use href=\"#white-knight\" xlink:href=\"#white-knight\" transform=\"translate(60, 330)\" /><use href=\"#white-bishop\" xlink:href=\"#white-bishop\" transform=\"translate(105, 330)\" /><use href=\"#white-queen\" xlink:href=\"#white-queen\" transform=\"translate(150, 330)\" /><use href=\"#white-king\" xlink:href=\"#white-king\" transform=\"translate(195, 330)\" /><use href=\"#white-bishop\" xlink:href=\"#white-bishop\" transform=\"translate(240, 330)\" /><use href=\"#white-knight\" xlink:href=\"#white-knight\" transform=\"translate(285, 330)\" /><use href=\"#white-rook\" xlink:href=\"#white-rook\" transform=\"translate(330, 330)\" /><use href=\"#white-pawn\" xlink:href=\"#white-pawn\" transform=\"translate(15, 285)\" /><use href=\"#white-pawn\" xlink:href=\"#white-pawn\" transform=\"translate(60, 285)\" /><use href=\"#white-pawn\" xlink:href=\"#white-pawn\" transform=\"translate(105, 285)\" /><use href=\"#white-pawn\" xlink:href=\"#white-pawn\" transform=\"translate(195, 285)\" /><use href=\"#white-pawn\" xlink:href=\"#white-pawn\" transform=\"translate(240, 285)\" /><use href=\"#white-pawn\" xlink:href=\"#white-pawn\" transform=\"translate(285, 285)\" /><use href=\"#white-pawn\" xlink:href=\"#white-pawn\" transform=\"translate(330, 285)\" /><use href=\"#white-pawn\" xlink:href=\"#white-pawn\" transform=\"translate(150, 195)\" /><use href=\"#black-pawn\" xlink:href=\"#black-pawn\" transform=\"translate(15, 60)\" /><use href=\"#black-pawn\" xlink:href=\"#black-pawn\" transform=\"translate(60, 60)\" /><use href=\"#black-pawn\" xlink:href=\"#black-pawn\" transform=\"translate(105, 60)\" /><use href=\"#black-pawn\" xlink:href=\"#black-pawn\" transform=\"translate(150, 60)\" /><use href=\"#black-pawn\" xlink:href=\"#black-pawn\" transform=\"translate(195, 60)\" /><use href=\"#black-pawn\" xlink:href=\"#black-pawn\" transform=\"translate(240, 60)\" /><use href=\"#black-pawn\" xlink:href=\"#black-pawn\" transform=\"translate(285, 60)\" /><use href=\"#black-pawn\" xlink:href=\"#black-pawn\" transform=\"translate(330, 60)\" /><use href=\"#black-rook\" xlink:href=\"#black-rook\" transform=\"translate(15, 15)\" /><use href=\"#black-knight\" xlink:href=\"#black-knight\" transform=\"translate(60, 15)\" /><use href=\"#black-bishop\" xlink:href=\"#black-bishop\" transform=\"translate(105, 15)\" /><use href=\"#black-queen\" xlink:href=\"#black-queen\" transform=\"translate(150, 15)\" /><use href=\"#black-king\" xlink:href=\"#black-king\" transform=\"translate(195, 15)\" /><use href=\"#black-bishop\" xlink:href=\"#black-bishop\" transform=\"translate(240, 15)\" /><use href=\"#black-knight\" xlink:href=\"#black-knight\" transform=\"translate(285, 15)\" /><use href=\"#black-rook\" xlink:href=\"#black-rook\" transform=\"translate(330, 15)\" /></svg>"
      ],
      "text/plain": [
       "Board('rnbqkbnr/pppppppp/8/8/3P4/8/PPP1PPPP/RNBQKBNR b KQkq - 0 1')"
      ]
     },
     "execution_count": 768,
     "metadata": {},
     "output_type": "execute_result"
    }
   ],
   "source": [
    "board"
   ]
  },
  {
   "cell_type": "code",
   "execution_count": 769,
   "id": "10cb8b70",
   "metadata": {
    "ExecuteTime": {
     "end_time": "2022-10-31T17:53:28.124867Z",
     "start_time": "2022-10-31T17:53:27.106066Z"
    }
   },
   "outputs": [
    {
     "data": {
      "text/plain": [
       "[{'string': 'NNUE evaluation using nn-6877cd24400e.nnue enabled',\n",
       "  'depth': 20,\n",
       "  'seldepth': 24,\n",
       "  'multipv': 1,\n",
       "  'score': PovScore(Cp(-25), BLACK),\n",
       "  'nodes': 4821616,\n",
       "  'nps': 4816799,\n",
       "  'tbhits': 0,\n",
       "  'time': 1.001,\n",
       "  'pv': [Move.from_uci('g8f6'),\n",
       "   Move.from_uci('c2c4'),\n",
       "   Move.from_uci('c7c6'),\n",
       "   Move.from_uci('b1c3'),\n",
       "   Move.from_uci('d7d5'),\n",
       "   Move.from_uci('c4d5'),\n",
       "   Move.from_uci('c6d5'),\n",
       "   Move.from_uci('c1f4'),\n",
       "   Move.from_uci('e7e6'),\n",
       "   Move.from_uci('e2e3'),\n",
       "   Move.from_uci('f8d6'),\n",
       "   Move.from_uci('f4d6'),\n",
       "   Move.from_uci('d8d6'),\n",
       "   Move.from_uci('a1c1'),\n",
       "   Move.from_uci('e8g8'),\n",
       "   Move.from_uci('f1d3'),\n",
       "   Move.from_uci('b8c6'),\n",
       "   Move.from_uci('g1f3'),\n",
       "   Move.from_uci('c8d7'),\n",
       "   Move.from_uci('e1g1'),\n",
       "   Move.from_uci('f8c8'),\n",
       "   Move.from_uci('f1e1')],\n",
       "  'hashfull': 36},\n",
       " {'depth': 20,\n",
       "  'seldepth': 28,\n",
       "  'multipv': 2,\n",
       "  'score': PovScore(Cp(-32), BLACK),\n",
       "  'nodes': 4821616,\n",
       "  'nps': 4816799,\n",
       "  'tbhits': 0,\n",
       "  'time': 1.001,\n",
       "  'pv': [Move.from_uci('d7d5'),\n",
       "   Move.from_uci('c2c4'),\n",
       "   Move.from_uci('c7c6'),\n",
       "   Move.from_uci('b1c3'),\n",
       "   Move.from_uci('d5c4'),\n",
       "   Move.from_uci('e2e3'),\n",
       "   Move.from_uci('b7b5'),\n",
       "   Move.from_uci('a2a4'),\n",
       "   Move.from_uci('b5b4'),\n",
       "   Move.from_uci('c3e4'),\n",
       "   Move.from_uci('d8d5'),\n",
       "   Move.from_uci('e4d2'),\n",
       "   Move.from_uci('c4c3'),\n",
       "   Move.from_uci('b2c3'),\n",
       "   Move.from_uci('b4c3'),\n",
       "   Move.from_uci('d2b1'),\n",
       "   Move.from_uci('e7e5'),\n",
       "   Move.from_uci('d4e5'),\n",
       "   Move.from_uci('f8b4'),\n",
       "   Move.from_uci('d1d5'),\n",
       "   Move.from_uci('c6d5'),\n",
       "   Move.from_uci('f1b5'),\n",
       "   Move.from_uci('c8d7'),\n",
       "   Move.from_uci('g1e2'),\n",
       "   Move.from_uci('a7a6'),\n",
       "   Move.from_uci('b5d7'),\n",
       "   Move.from_uci('b8d7'),\n",
       "   Move.from_uci('b1c3')],\n",
       "  'hashfull': 36},\n",
       " {'depth': 20,\n",
       "  'seldepth': 30,\n",
       "  'multipv': 3,\n",
       "  'score': PovScore(Cp(-32), BLACK),\n",
       "  'nodes': 4821616,\n",
       "  'nps': 4816799,\n",
       "  'tbhits': 0,\n",
       "  'time': 1.001,\n",
       "  'pv': [Move.from_uci('c7c6'),\n",
       "   Move.from_uci('e2e4'),\n",
       "   Move.from_uci('d7d5'),\n",
       "   Move.from_uci('e4e5'),\n",
       "   Move.from_uci('c6c5'),\n",
       "   Move.from_uci('g1f3'),\n",
       "   Move.from_uci('c5d4'),\n",
       "   Move.from_uci('d1d4'),\n",
       "   Move.from_uci('e7e6'),\n",
       "   Move.from_uci('d4f4'),\n",
       "   Move.from_uci('b8c6'),\n",
       "   Move.from_uci('f1d3'),\n",
       "   Move.from_uci('c6b4'),\n",
       "   Move.from_uci('b1c3'),\n",
       "   Move.from_uci('b4d3'),\n",
       "   Move.from_uci('c2d3'),\n",
       "   Move.from_uci('g8e7'),\n",
       "   Move.from_uci('h2h4'),\n",
       "   Move.from_uci('h7h5'),\n",
       "   Move.from_uci('c3e2'),\n",
       "   Move.from_uci('c8d7'),\n",
       "   Move.from_uci('e1g1'),\n",
       "   Move.from_uci('e7f5'),\n",
       "   Move.from_uci('e2g3')],\n",
       "  'hashfull': 36},\n",
       " {'depth': 20,\n",
       "  'seldepth': 31,\n",
       "  'multipv': 4,\n",
       "  'score': PovScore(Cp(-36), BLACK),\n",
       "  'nodes': 4821616,\n",
       "  'nps': 4816799,\n",
       "  'tbhits': 0,\n",
       "  'time': 1.001,\n",
       "  'pv': [Move.from_uci('e7e6'),\n",
       "   Move.from_uci('e2e4'),\n",
       "   Move.from_uci('d7d5'),\n",
       "   Move.from_uci('b1c3'),\n",
       "   Move.from_uci('g8f6'),\n",
       "   Move.from_uci('e4e5'),\n",
       "   Move.from_uci('f6d7'),\n",
       "   Move.from_uci('f2f4'),\n",
       "   Move.from_uci('c7c5'),\n",
       "   Move.from_uci('g1f3'),\n",
       "   Move.from_uci('b8c6'),\n",
       "   Move.from_uci('c1e3'),\n",
       "   Move.from_uci('a7a6'),\n",
       "   Move.from_uci('d1d2'),\n",
       "   Move.from_uci('b7b5'),\n",
       "   Move.from_uci('h2h4'),\n",
       "   Move.from_uci('c6d4'),\n",
       "   Move.from_uci('f3d4'),\n",
       "   Move.from_uci('c5d4'),\n",
       "   Move.from_uci('e3d4'),\n",
       "   Move.from_uci('b5b4'),\n",
       "   Move.from_uci('c3e2'),\n",
       "   Move.from_uci('a6a5'),\n",
       "   Move.from_uci('f4f5'),\n",
       "   Move.from_uci('f8c5'),\n",
       "   Move.from_uci('h4h5'),\n",
       "   Move.from_uci('d8b6'),\n",
       "   Move.from_uci('h5h6')],\n",
       "  'hashfull': 36},\n",
       " {'depth': 20,\n",
       "  'seldepth': 28,\n",
       "  'multipv': 5,\n",
       "  'score': PovScore(Cp(-66), BLACK),\n",
       "  'nodes': 4821616,\n",
       "  'nps': 4816799,\n",
       "  'tbhits': 0,\n",
       "  'time': 1.001,\n",
       "  'pv': [Move.from_uci('d7d6'),\n",
       "   Move.from_uci('g1f3'),\n",
       "   Move.from_uci('g7g6'),\n",
       "   Move.from_uci('b1c3'),\n",
       "   Move.from_uci('g8f6'),\n",
       "   Move.from_uci('e2e4'),\n",
       "   Move.from_uci('f8g7'),\n",
       "   Move.from_uci('c1e3'),\n",
       "   Move.from_uci('e8g8'),\n",
       "   Move.from_uci('d1d2'),\n",
       "   Move.from_uci('d6d5'),\n",
       "   Move.from_uci('e4d5'),\n",
       "   Move.from_uci('f6d5'),\n",
       "   Move.from_uci('e3h6'),\n",
       "   Move.from_uci('d8d6'),\n",
       "   Move.from_uci('h6g7'),\n",
       "   Move.from_uci('g8g7'),\n",
       "   Move.from_uci('c3d5'),\n",
       "   Move.from_uci('d6d5'),\n",
       "   Move.from_uci('f1e2'),\n",
       "   Move.from_uci('f8d8'),\n",
       "   Move.from_uci('h2h4'),\n",
       "   Move.from_uci('h7h5'),\n",
       "   Move.from_uci('c2c4'),\n",
       "   Move.from_uci('d5d6'),\n",
       "   Move.from_uci('c4c5')],\n",
       "  'hashfull': 36}]"
      ]
     },
     "execution_count": 769,
     "metadata": {},
     "output_type": "execute_result"
    }
   ],
   "source": [
    "engine.analyse(board, limit, multipv='5')\n",
    "# engine.analyse(board, limit)"
   ]
  },
  {
   "cell_type": "code",
   "execution_count": 778,
   "id": "411796c3",
   "metadata": {
    "ExecuteTime": {
     "end_time": "2022-10-31T18:02:23.488108Z",
     "start_time": "2022-10-31T18:02:22.464264Z"
    }
   },
   "outputs": [
    {
     "data": {
      "text/plain": [
       "[{'string': 'NNUE evaluation using nn-6877cd24400e.nnue enabled',\n",
       "  'depth': 23,\n",
       "  'seldepth': 30,\n",
       "  'multipv': 1,\n",
       "  'nodes': 5044834,\n",
       "  'nps': 5039794,\n",
       "  'tbhits': 0,\n",
       "  'time': 1.001,\n",
       "  'pv': [Move.from_uci('d7d5'),\n",
       "   Move.from_uci('c2c4'),\n",
       "   Move.from_uci('e7e6'),\n",
       "   Move.from_uci('g1f3'),\n",
       "   Move.from_uci('b8d7'),\n",
       "   Move.from_uci('c4d5'),\n",
       "   Move.from_uci('e6d5'),\n",
       "   Move.from_uci('c1f4'),\n",
       "   Move.from_uci('g8f6'),\n",
       "   Move.from_uci('e2e3'),\n",
       "   Move.from_uci('f6h5'),\n",
       "   Move.from_uci('f4g5'),\n",
       "   Move.from_uci('f8e7'),\n",
       "   Move.from_uci('g5e7'),\n",
       "   Move.from_uci('d8e7'),\n",
       "   Move.from_uci('b1c3'),\n",
       "   Move.from_uci('c7c6'),\n",
       "   Move.from_uci('f1e2'),\n",
       "   Move.from_uci('e8g8'),\n",
       "   Move.from_uci('e1g1'),\n",
       "   Move.from_uci('h5f6'),\n",
       "   Move.from_uci('e2d3'),\n",
       "   Move.from_uci('f6e4'),\n",
       "   Move.from_uci('d1c2'),\n",
       "   Move.from_uci('d7f6'),\n",
       "   Move.from_uci('a2a4'),\n",
       "   Move.from_uci('a7a5'),\n",
       "   Move.from_uci('f3e5'),\n",
       "   Move.from_uci('e4c3')],\n",
       "  'hashfull': 33},\n",
       " {'depth': 23,\n",
       "  'seldepth': 34,\n",
       "  'multipv': 2,\n",
       "  'nodes': 5044834,\n",
       "  'nps': 5039794,\n",
       "  'tbhits': 0,\n",
       "  'time': 1.001,\n",
       "  'pv': [Move.from_uci('e7e6'),\n",
       "   Move.from_uci('c2c4'),\n",
       "   Move.from_uci('d7d5'),\n",
       "   Move.from_uci('g1f3'),\n",
       "   Move.from_uci('b8d7'),\n",
       "   Move.from_uci('c4d5'),\n",
       "   Move.from_uci('e6d5'),\n",
       "   Move.from_uci('c1f4'),\n",
       "   Move.from_uci('g8f6'),\n",
       "   Move.from_uci('b1c3'),\n",
       "   Move.from_uci('c7c6'),\n",
       "   Move.from_uci('e2e3'),\n",
       "   Move.from_uci('f6h5'),\n",
       "   Move.from_uci('f4g5'),\n",
       "   Move.from_uci('f8e7'),\n",
       "   Move.from_uci('g5e7'),\n",
       "   Move.from_uci('d8e7'),\n",
       "   Move.from_uci('f1e2'),\n",
       "   Move.from_uci('g7g6'),\n",
       "   Move.from_uci('e1g1'),\n",
       "   Move.from_uci('e8g8'),\n",
       "   Move.from_uci('f1e1'),\n",
       "   Move.from_uci('h5g7'),\n",
       "   Move.from_uci('a1c1'),\n",
       "   Move.from_uci('d7f6'),\n",
       "   Move.from_uci('f3e5'),\n",
       "   Move.from_uci('c8f5'),\n",
       "   Move.from_uci('h2h3')],\n",
       "  'hashfull': 33},\n",
       " {'depth': 23,\n",
       "  'seldepth': 34,\n",
       "  'multipv': 3,\n",
       "  'nodes': 5044834,\n",
       "  'nps': 5039794,\n",
       "  'tbhits': 0,\n",
       "  'time': 1.001,\n",
       "  'pv': [Move.from_uci('g8f6'), Move.from_uci('c2c4')],\n",
       "  'hashfull': 33},\n",
       " {'depth': 22,\n",
       "  'seldepth': 30,\n",
       "  'multipv': 4,\n",
       "  'nodes': 5044834,\n",
       "  'nps': 5039794,\n",
       "  'tbhits': 0,\n",
       "  'time': 1.001,\n",
       "  'pv': [Move.from_uci('c7c6'),\n",
       "   Move.from_uci('e2e4'),\n",
       "   Move.from_uci('d7d5'),\n",
       "   Move.from_uci('b1d2'),\n",
       "   Move.from_uci('d5e4'),\n",
       "   Move.from_uci('d2e4'),\n",
       "   Move.from_uci('g8f6'),\n",
       "   Move.from_uci('e4f6'),\n",
       "   Move.from_uci('e7f6'),\n",
       "   Move.from_uci('f1c4'),\n",
       "   Move.from_uci('b8d7'),\n",
       "   Move.from_uci('c4d3'),\n",
       "   Move.from_uci('f8d6'),\n",
       "   Move.from_uci('d1e2'),\n",
       "   Move.from_uci('d6e7'),\n",
       "   Move.from_uci('g1f3'),\n",
       "   Move.from_uci('e8g8'),\n",
       "   Move.from_uci('e1g1'),\n",
       "   Move.from_uci('f8e8'),\n",
       "   Move.from_uci('f1e1'),\n",
       "   Move.from_uci('d7f8'),\n",
       "   Move.from_uci('h2h3'),\n",
       "   Move.from_uci('c8e6'),\n",
       "   Move.from_uci('c2c4'),\n",
       "   Move.from_uci('d8d7'),\n",
       "   Move.from_uci('e2c2'),\n",
       "   Move.from_uci('e7b4'),\n",
       "   Move.from_uci('e1e4')],\n",
       "  'hashfull': 33},\n",
       " {'depth': 22,\n",
       "  'seldepth': 26,\n",
       "  'multipv': 5,\n",
       "  'nodes': 5044834,\n",
       "  'nps': 5039794,\n",
       "  'tbhits': 0,\n",
       "  'time': 1.001,\n",
       "  'pv': [Move.from_uci('d7d6'),\n",
       "   Move.from_uci('e2e4'),\n",
       "   Move.from_uci('g8f6'),\n",
       "   Move.from_uci('b1c3'),\n",
       "   Move.from_uci('e7e5'),\n",
       "   Move.from_uci('g1f3'),\n",
       "   Move.from_uci('b8d7'),\n",
       "   Move.from_uci('f1c4'),\n",
       "   Move.from_uci('f8e7'),\n",
       "   Move.from_uci('a2a4'),\n",
       "   Move.from_uci('c7c6'),\n",
       "   Move.from_uci('h2h3'),\n",
       "   Move.from_uci('e8g8'),\n",
       "   Move.from_uci('e1g1'),\n",
       "   Move.from_uci('h7h6'),\n",
       "   Move.from_uci('c1e3'),\n",
       "   Move.from_uci('e5d4'),\n",
       "   Move.from_uci('d1d4'),\n",
       "   Move.from_uci('d8c7'),\n",
       "   Move.from_uci('f3h4'),\n",
       "   Move.from_uci('d7e5'),\n",
       "   Move.from_uci('c4b3')],\n",
       "  'hashfull': 33}]"
      ]
     },
     "execution_count": 778,
     "metadata": {},
     "output_type": "execute_result"
    }
   ],
   "source": [
    "engine.analyse(board, limit, multipv='5', info=4)\n",
    "# engine.analyse(board, limit)"
   ]
  },
  {
   "cell_type": "code",
   "execution_count": 770,
   "id": "0fc309b4",
   "metadata": {
    "ExecuteTime": {
     "end_time": "2022-10-31T17:56:27.239779Z",
     "start_time": "2022-10-31T17:56:27.220779Z"
    }
   },
   "outputs": [
    {
     "ename": "AttributeError",
     "evalue": "'SimpleEngine' object has no attribute 'InfoDict'",
     "output_type": "error",
     "traceback": [
      "\u001b[1;31m---------------------------------------------------------------------------\u001b[0m",
      "\u001b[1;31mAttributeError\u001b[0m                            Traceback (most recent call last)",
      "Cell \u001b[1;32mIn [770], line 1\u001b[0m\n\u001b[1;32m----> 1\u001b[0m engine\u001b[38;5;241m.\u001b[39mInfoDict\n",
      "\u001b[1;31mAttributeError\u001b[0m: 'SimpleEngine' object has no attribute 'InfoDict'"
     ]
    }
   ],
   "source": [
    "engine."
   ]
  },
  {
   "cell_type": "code",
   "execution_count": null,
   "id": "29b0143b",
   "metadata": {},
   "outputs": [],
   "source": []
  },
  {
   "cell_type": "code",
   "execution_count": 721,
   "id": "b1eb8af6",
   "metadata": {
    "ExecuteTime": {
     "end_time": "2022-10-31T17:46:51.896712Z",
     "start_time": "2022-10-31T17:46:51.886712Z"
    }
   },
   "outputs": [
    {
     "data": {
      "text/plain": [
       "['d4',\n",
       " 'c5',\n",
       " 'd5',\n",
       " 'g6',\n",
       " 'Nf3',\n",
       " 'Bg7',\n",
       " 'e3',\n",
       " 'Nf6',\n",
       " 'Be2',\n",
       " 'O-O',\n",
       " 'b3',\n",
       " 'b5',\n",
       " 'Bb2',\n",
       " 'Bb7',\n",
       " 'a3',\n",
       " 'Nxd5',\n",
       " 'c4',\n",
       " 'Bxb2',\n",
       " 'Ra2',\n",
       " 'Nc3',\n",
       " 'Qc2',\n",
       " 'Nxa2']"
      ]
     },
     "execution_count": 721,
     "metadata": {},
     "output_type": "execute_result"
    }
   ],
   "source": [
    "df_2021_2017_titled_distinv.moves[0]"
   ]
  },
  {
   "cell_type": "code",
   "execution_count": null,
   "id": "fc724264",
   "metadata": {},
   "outputs": [],
   "source": []
  },
  {
   "cell_type": "code",
   "execution_count": 691,
   "id": "b8ab2328",
   "metadata": {
    "ExecuteTime": {
     "end_time": "2022-10-31T17:26:16.744177Z",
     "start_time": "2022-10-31T17:26:16.734101Z"
    }
   },
   "outputs": [],
   "source": [
    "# engine.analyse(board, limit)\n",
    "# engine.analyse(board, limit)"
   ]
  },
  {
   "cell_type": "code",
   "execution_count": 593,
   "id": "b486fba5",
   "metadata": {
    "ExecuteTime": {
     "end_time": "2022-10-31T16:15:32.502733Z",
     "start_time": "2022-10-31T16:15:32.491782Z"
    }
   },
   "outputs": [],
   "source": [
    "# engine = chess.engine.SimpleEngine.popen_uci(stockfish)\n",
    "# movetimesec = 2\n",
    "# depth = 20\n",
    "# def evaluate_game(game, engine, limit=chess.engine.Limit(time=movetimesec, depth=depth)):\n",
    "#     board = game.board()\n",
    "#     info = engine.analyse(board, limit=limit)"
   ]
  },
  {
   "cell_type": "code",
   "execution_count": null,
   "id": "9f25adc0",
   "metadata": {},
   "outputs": [],
   "source": []
  },
  {
   "cell_type": "markdown",
   "id": "2952ea43",
   "metadata": {},
   "source": [
    "-----"
   ]
  },
  {
   "cell_type": "markdown",
   "id": "86467f1a",
   "metadata": {
    "heading_collapsed": true
   },
   "source": [
    "### Testing interrupting a loop"
   ]
  },
  {
   "cell_type": "code",
   "execution_count": 620,
   "id": "d3b18472",
   "metadata": {
    "ExecuteTime": {
     "end_time": "2022-10-31T16:42:10.974010Z",
     "start_time": "2022-10-31T16:42:10.959031Z"
    },
    "hidden": true
   },
   "outputs": [],
   "source": [
    "# b = []\n",
    "# i=0\n",
    "\n",
    "# while True:\n",
    "#     b.append(i)\n",
    "#     i+=1\n",
    "    \n"
   ]
  },
  {
   "cell_type": "code",
   "execution_count": 619,
   "id": "56cbd800",
   "metadata": {
    "ExecuteTime": {
     "end_time": "2022-10-31T16:42:09.087946Z",
     "start_time": "2022-10-31T16:42:09.074976Z"
    },
    "hidden": true
   },
   "outputs": [],
   "source": [
    "# b"
   ]
  },
  {
   "cell_type": "code",
   "execution_count": 618,
   "id": "6aadac75",
   "metadata": {
    "ExecuteTime": {
     "end_time": "2022-10-31T16:42:07.165491Z",
     "start_time": "2022-10-31T16:42:07.158491Z"
    },
    "hidden": true
   },
   "outputs": [],
   "source": [
    "# len(b) # 85092918"
   ]
  },
  {
   "cell_type": "code",
   "execution_count": null,
   "id": "f974e33b",
   "metadata": {
    "hidden": true
   },
   "outputs": [],
   "source": []
  },
  {
   "cell_type": "markdown",
   "id": "e99051e6",
   "metadata": {
    "hidden": true
   },
   "source": [
    "----"
   ]
  },
  {
   "cell_type": "markdown",
   "id": "72f68c97",
   "metadata": {},
   "source": [
    "### Putting looping pickling in getting evaluation loops and ensuring time cap on how long engine can evaluate for"
   ]
  },
  {
   "cell_type": "code",
   "execution_count": null,
   "id": "44d3f932",
   "metadata": {},
   "outputs": [],
   "source": []
  },
  {
   "cell_type": "code",
   "execution_count": 588,
   "id": "4958c454",
   "metadata": {
    "ExecuteTime": {
     "end_time": "2022-10-31T15:48:20.446385Z",
     "start_time": "2022-10-31T15:48:20.092320Z"
    }
   },
   "outputs": [],
   "source": [
    "sf_ = Stockfish(path='./stockfish_15_win_x64_ssse/stockfish_15_x64_ssse.exe',\n",
    "        depth=5,\n",
    "        parameters={\n",
    "            \"Threads\": 4,\n",
    "            \"Hash\": 1024,\n",
    "            \"MultiPV\": 1,\n",
    "            \"Skill Level\": 20,\n",
    "            \"Debug Log File\": 'C:/Users/MaNiL/Desktop/data/capstone/preprocessed/evaluations/log.txt'\n",
    "#             , \"SyzygyPath\": ' '\n",
    "            \n",
    "            }\n",
    "        )"
   ]
  },
  {
   "cell_type": "code",
   "execution_count": 608,
   "id": "db4bf4d4",
   "metadata": {
    "ExecuteTime": {
     "end_time": "2022-10-31T16:22:06.572609Z",
     "start_time": "2022-10-31T16:22:06.254490Z"
    }
   },
   "outputs": [],
   "source": [
    "sf_ = Stockfish(path='./stockfish_15_win_x64_ssse/stockfish_15_x64_ssse.exe',\n",
    "        depth=20,\n",
    "        parameters={\n",
    "            \"Threads\": 4,\n",
    "            \"Hash\": 1024,\n",
    "            \"MultiPV\": 1,\n",
    "            \"Skill Level\": 20,\n",
    "            \"Debug Log File\": 'C:/Users/MaNiL/Desktop/data/capstone/preprocessed/evaluations/log.txt',\n",
    "            \"Move Overhead\": 1,\n",
    "            \"Slow Mover\": 20\n",
    "#             , \"SyzygyPath\": ' '\n",
    "            \n",
    "            }\n",
    "        )"
   ]
  },
  {
   "cell_type": "code",
   "execution_count": null,
   "id": "87998cef",
   "metadata": {},
   "outputs": [],
   "source": []
  },
  {
   "cell_type": "code",
   "execution_count": null,
   "id": "d139f7df",
   "metadata": {},
   "outputs": [],
   "source": []
  },
  {
   "cell_type": "code",
   "execution_count": 545,
   "id": "2ced3537",
   "metadata": {
    "ExecuteTime": {
     "end_time": "2022-10-31T14:38:44.983888Z",
     "start_time": "2022-10-31T14:38:44.970896Z"
    }
   },
   "outputs": [],
   "source": [
    "# sf_._set_option(\"SyzygyPath\", \" \")"
   ]
  },
  {
   "cell_type": "code",
   "execution_count": null,
   "id": "c5c3eda9",
   "metadata": {},
   "outputs": [],
   "source": []
  },
  {
   "cell_type": "code",
   "execution_count": 593,
   "id": "8aae8928",
   "metadata": {
    "ExecuteTime": {
     "end_time": "2022-10-31T16:15:32.502733Z",
     "start_time": "2022-10-31T16:15:32.491782Z"
    }
   },
   "outputs": [],
   "source": [
    "# engine = chess.engine.SimpleEngine.popen_uci(stockfish)\n",
    "# movetimesec = 2\n",
    "# depth = 20\n",
    "# def evaluate_game(game, engine, limit=chess.engine.Limit(time=movetimesec, depth=depth)):\n",
    "#     board = game.board()\n",
    "#     info = engine.analyse(board, limit=limit)"
   ]
  },
  {
   "cell_type": "code",
   "execution_count": null,
   "id": "4aba6d90",
   "metadata": {},
   "outputs": [],
   "source": []
  },
  {
   "cell_type": "code",
   "execution_count": null,
   "id": "220df522",
   "metadata": {},
   "outputs": [],
   "source": []
  },
  {
   "cell_type": "code",
   "execution_count": 554,
   "id": "9c0427a4",
   "metadata": {
    "ExecuteTime": {
     "end_time": "2022-10-31T15:14:43.974017Z",
     "start_time": "2022-10-31T15:14:43.955045Z"
    }
   },
   "outputs": [],
   "source": [
    "# sf_.set_fen_position('4k3/8/8/5B2/r2BK3/6N1/8/8 w - - 0 1')\n",
    "\n",
    "# sf_.get_evaluation() # {'type': 'cp', 'value': 183}"
   ]
  },
  {
   "cell_type": "code",
   "execution_count": null,
   "id": "e20c5ce8",
   "metadata": {},
   "outputs": [],
   "source": []
  },
  {
   "cell_type": "code",
   "execution_count": 477,
   "id": "25b8c2aa",
   "metadata": {
    "ExecuteTime": {
     "end_time": "2022-10-31T13:03:16.796694Z",
     "start_time": "2022-10-31T13:03:16.779725Z"
    },
    "code_folding": [
     0
    ]
   },
   "outputs": [],
   "source": [
    "# import time\n",
    "\n",
    "# t = time.time()\n",
    "\n",
    "# b = []\n",
    "# for i in range(1000):\n",
    "#     b.append(i**2+np.random.randint(1, 100))\n",
    "\n",
    "# t1 = time.time()\n",
    "\n",
    "# c = []\n",
    "# for i in range(1000):\n",
    "#     c.append(i**2+np.random.randint(1, 100))\n",
    "\n",
    "# t2 = time.time()\n",
    "\n",
    "# total=t1-t\n",
    "# total\n",
    "\n",
    "# t2-t1\n",
    "\n",
    "# times_ = []\n",
    "# t=time.time()\n",
    "# times_.append(t)\n",
    "\n",
    "# b=[]\n",
    "# for j in range(1000):\n",
    "#     for i in range(1000):\n",
    "#         b.append(i**2+np.random.randint(1, 100))\n",
    "#     times_.append(time.time())\n",
    "\n",
    "    \n",
    "\n",
    "# times_[0:3]\n",
    "# # len(b)\n",
    "# # len(times_)"
   ]
  },
  {
   "cell_type": "code",
   "execution_count": 480,
   "id": "570b6555",
   "metadata": {
    "ExecuteTime": {
     "end_time": "2022-10-31T13:04:24.423632Z",
     "start_time": "2022-10-31T13:04:24.418632Z"
    }
   },
   "outputs": [
    {
     "data": {
      "text/plain": [
       "True"
      ]
     },
     "execution_count": 480,
     "metadata": {},
     "output_type": "execute_result"
    }
   ],
   "source": [
    "100 % 10 == 0 "
   ]
  },
  {
   "cell_type": "code",
   "execution_count": null,
   "id": "a80bc76b",
   "metadata": {},
   "outputs": [],
   "source": []
  },
  {
   "cell_type": "code",
   "execution_count": 505,
   "id": "ccfa36e5",
   "metadata": {
    "ExecuteTime": {
     "end_time": "2022-10-31T13:24:36.141227Z",
     "start_time": "2022-10-31T13:24:36.126140Z"
    }
   },
   "outputs": [],
   "source": [
    "def get_evaluations(game):\n",
    "    # Loop for moves in a single game\n",
    "    evaluations_ = []\n",
    "    game_count=0\n",
    "    sf_.set_position()\n",
    "    board=chess.Board()\n",
    "    for move in game:\n",
    "        evalution_ = sf_.get_top_moves()\n",
    "        move_ = board.push_san(move)\n",
    "        sf_.make_moves_from_current_position([move_])\n",
    "\n",
    "        evaluations_.append(evalution_)\n",
    "    \n",
    "    \n",
    "    return evaluations_\n",
    "    \n",
    "    "
   ]
  },
  {
   "cell_type": "code",
   "execution_count": 506,
   "id": "a92f2053",
   "metadata": {
    "ExecuteTime": {
     "end_time": "2022-10-31T13:24:37.828089Z",
     "start_time": "2022-10-31T13:24:37.811197Z"
    }
   },
   "outputs": [],
   "source": [
    "def get_all_evaluations(df):\n",
    "    list_of_all_evaluations = [\n",
    "        get_evaluations(game[0]) for game in zip(df.moves)\n",
    "    ]\n",
    "    return list_of_all_evaluations"
   ]
  },
  {
   "cell_type": "code",
   "execution_count": null,
   "id": "2409a352",
   "metadata": {},
   "outputs": [],
   "source": []
  },
  {
   "cell_type": "code",
   "execution_count": null,
   "id": "67eab159",
   "metadata": {},
   "outputs": [],
   "source": [
    "def get_all_evaluations_saving(df):\n",
    "    for game in zip(df_2021_2017_titled_distinv)"
   ]
  },
  {
   "cell_type": "code",
   "execution_count": 516,
   "id": "0bccaf8d",
   "metadata": {
    "ExecuteTime": {
     "end_time": "2022-10-31T13:29:43.012672Z",
     "start_time": "2022-10-31T13:29:42.997672Z"
    },
    "collapsed": true
   },
   "outputs": [
    {
     "name": "stdout",
     "output_type": "stream",
     "text": [
      "['d4', 'c5', 'd5', 'g6', 'Nf3', 'Bg7', 'e3', 'Nf6', 'Be2', 'O-O', 'b3', 'b5', 'Bb2', 'Bb7', 'a3', 'Nxd5', 'c4', 'Bxb2', 'Ra2', 'Nc3', 'Qc2', 'Nxa2']\n",
      "['d4', 'g6', 'Bg5', 'Bg7', 'Nc3', 'd6', 'Qd2', 'h6', 'Bh4', 'Nf6', 'e4', 'g5', 'Bg3', 'Nh5', 'O-O-O', 'e6', 'Be2', 'Nxg3', 'hxg3', 'Qe7', 'f4', 'Nc6', 'd5', 'Nb4', 'a3', 'Bxc3', 'bxc3', 'Na6', 'Bxa6', 'bxa6', 'fxg5', 'h5', 'Nf3', 'e5', 'Rh4', 'Bg4', 'Rdh1', 'Rg8', 'Rxh5', 'Bxh5', 'Rxh5', 'Rb8', 'Qd3', 'Rb6', 'Qe3', 'c6', 'Nh4', 'cxd5', 'exd5', 'Qb7', 'c4', 'Rb1+', 'Kd2', 'Rh1', 'Rh6', 'Qe7', 'Rf6', 'Rh2', 'Nf5', 'Rxg2+', 'Kc3', 'Qxf6', 'gxf6', 'Kd7', 'Qxa7+', 'Kc8', 'Nxd6+', 'Kd8', 'Qe7#']\n",
      "['d4', 'e6', 'e4', 'd5', 'Nd2', 'Be7', 'Bd3', 'Nf6', 'Ngf3', 'c5', 'dxc5', 'Bxc5', 'O-O', 'O-O', 'Qe2', 'Nc6', 'c3', 'Re8', 'e5', 'Nd7', 'Nb3', 'Be7', 'Nbd4', 'Qc7', 'Bf4', 'h6', 'Bg3', 'Qb6', 'Rfe1', 'Bc5', 'Rad1', 'f5', 'exf6', 'Nxf6', 'Bb1', 'Bd7', 'Ne5', 'Nxe5', 'Bxe5', 'Rf8', 'Qc2', 'Ne4', 'f3', 'Rf5', 'fxe4', 'Rxe5', 'exd5', 'Bxd4+', 'cxd4', 'Rxe1+', 'Rxe1', 'Qxd4+', 'Kh1', 'Kf8', 'dxe6', 'Bc6', 'Rf1+', 'Ke7', 'Qg6', 'Re8', 'Bc2', 'Kd6', 'Rd1', 'Qxd1+', 'Bxd1', 'Rxe6', 'Qg3+', 'Ke7', 'h4', 'g6', 'Bf3', 'Bxf3', 'Qxf3', 'Rb6', 'Qe4+']\n",
      "['c4', 'e6', 'Nc3', 'd5', 'd4', 'Nf6', 'cxd5', 'exd5', 'Bg5', 'c6', 'e3', 'Bf5', 'Qf3', 'Bg6', 'Bxf6', 'Qxf6', 'Qxf6', 'gxf6', 'Nge2', 'Bd6', 'Kd2', 'Nd7', 'Rc1', 'f5', 'g3', 'Nf6', 'Nf4', 'Ne4+', 'Ke2', 'Bxf4', 'gxf4', 'Bh5+', 'f3', 'Nd6', 'Bg2', 'Ke7', 'Kf2', 'Kf6', 'Bf1', 'Rae8', 'Bd3', 'b5', 'Nb1', 'Nc4', 'Rhe1', 'Rc8', 'b3', 'Nb6', 'Rc5', 'Nd7', 'Rc2', 'Rc7', 'Rec1', 'Rhc8', 'Bxb5', 'Ke6', 'Bd3', 'Bg6', 'h4', 'h5', 'Nc3', 'Kd6', 'Na4', 'c5', 'Ba6']\n",
      "['Nf3', 'Nf6', 'g3', 'd5', 'c4', 'c6', 'Bg2', 'Bf5', 'cxd5', 'cxd5', 'Qb3', 'Qb6', 'Qxb6', 'axb6', 'd3', 'Nc6', 'Nc3', 'h6', 'O-O', 'e6', 'Bf4', 'Be7', 'Rfc1', 'O-O', 'Nb5', 'Nd7', 'Nfd4', 'Bg6', 'Nxc6', 'bxc6', 'Rxc6', 'Rfc8', 'Rxc8+', 'Rxc8', 'Rc1', 'Rxc1+', 'Bxc1', 'Bf6', 'b3', 'Nc5', 'Be3', 'Kf8', 'Bd4', 'Be7', 'Na7', 'Nd7', 'a4', 'Nc5', 'Nc8', 'Nxb3', 'Bxb6', 'Bc5', 'a5', 'Bxb6', 'axb6', 'Nc5', 'Nd6', 'Ke7', 'b7', 'Nd7', 'Nb5', 'f6', 'e4', 'dxe4', 'dxe4', 'Nb8', 'e5', 'fxe5', 'Na7', 'Be8', 'Kf1', 'Kd6', 'Ke2', 'Kc5', 'Nc8', 'Bb5+', 'Ke3', 'Nd7', 'Ne7', 'Nb8', 'Bh3', 'Kd6', 'Ng6', 'Bc6', 'Nf8', 'Bd5', 'Ng6', 'Bxb7', 'f4', 'exf4+', 'gxf4', 'Nc6', 'f5', 'e5', 'Nf8', 'Bc8', 'Ne6', 'Bxe6', 'fxe6', 'Ke7', 'Ke4', 'Kf6', 'Kd5', 'Ne7+', 'Kd6', 'g6', 'Kd7', 'h5']\n",
      "['d4', 'd5', 'c4', 'dxc4', 'Nf3', 'Nf6', 'Nc3', 'a6', 'a4', 'Nc6', 'Bg5', 'e6', 'e3', 'Na5', 'Ne5', 'Be7', 'Nxc4', 'Nc6', 'Bd3', 'O-O', 'Rc1', 'Nb4', 'Bb1', 'b5', 'axb5', 'axb5', 'Nxb5', 'Ba6', 'Nba3', 'Qd5', 'Bxf6', 'Bxf6', 'O-O', 'c5', 'dxc5', 'Qxc5', 'Re1', 'Rfd8', 'Qf3', 'Rac8', 'Qe4', 'g6', 'b3', 'Nd5', 'Red1', 'Bb2', 'Rc2', 'Bxa3', 'Nxa3', 'Qxa3', 'Rxc8', 'Rxc8', 'Qd4', 'Qxb3', 'h3', 'Nc3']\n",
      "['c4', 'Nf6', 'Nc3', 'g6', 'e4', 'd6', 'd4', 'Bg7', 'Nf3', 'O-O', 'Bg5', 'Nbd7', 'Qd2', 'c5', 'd5', 'Qa5', 'Be2', 'Re8', 'O-O', 'Nf8', 'Rfe1', 'a6', 'a4', 'Bd7', 'Bf1', 'Qc7', 'h3', 'b6', 'Rad1', 'Rad8', 'e5', 'dxe5', 'Nxe5', 'Qd6', 'Bf4', 'Nh5', 'Bh2', 'b5', 'axb5', 'axb5', 'Nxf7', 'Qxh2+', 'Kxh2', 'Kxf7', 'Nxb5', 'Bxb5', 'cxb5', 'Nf6', 'Bc4', 'Rd6', 'b6', 'Rb8', 'Qa5', 'Rbxb6', 'Qxc5', 'Rxb2', 'Qc7', 'N8d7', 'Rxe7+', 'Kxe7', 'Re1+', 'Kf7', 'Qxd6', 'Rxf2', 'Qe6+', 'Kf8', 'd6']\n",
      "['d4', 'f5', 'Bg5', 'g6', 'e3', 'Nh6', 'c3', 'Nf7', 'Bh4', 'Bg7', 'f3', 'd5', 'Nd2', 'O-O', 'Bd3', 'g5', 'Bg3', 'e5', 'Qc2', 'e4', 'fxe4', 'fxe4', 'Be2', 'Nd7', 'O-O-O', 'c6', 'h4', 'b5', 'hxg5', 'Nxg5', 'Nh3', 'Nxh3', 'gxh3', 'Kh8', 'Bg4', 'Nf6', 'Bxc8', 'Rxc8', 'Be5', 'Rg8', 'Rhg1', 'Nd7', 'Bxg7+', 'Rxg7', 'Rxg7', 'Kxg7', 'Rg1+', 'Kh8', 'Nf1', 'Qf6', 'Qg2', 'Qf7', 'Qg4', 'Rg8', 'Qxg8+', 'Qxg8', 'Rxg8+', 'Kxg8', 'Ng3', 'Kf7', 'Kd2', 'Kg6', 'Ke2', 'a5', 'b3', 'Nb6', 'Kf2', 'a4', 'Ne2', 'a3', 'Kg3', 'Kf5', 'h4', 'Nc8', 'Kh3', 'Nd6', 'Ng3+', 'Kg6', 'Kg4', 'Nb7', 'Nf5', 'Na5', 'Kf4', 'Nxb3', 'Ne7+', 'Kf7', 'Nxc6', 'Nc1', 'Na7', 'Nxa2', 'Nxb5', 'Nc1', 'Nxa3', 'Nd3+', 'Kf5']\n",
      "['d4', 'g6', 'Nf3', 'Bg7', 'e4', 'd6', 'Bc4', 'e6', 'O-O', 'Ne7', 'Bg5', 'h6', 'Bh4', 'O-O', 'Nbd2', 'Nd7', 'c3', 'g5', 'Bg3', 'Ng6', 'Re1', 'Qe7', 'Nf1', 'b6', 'Ne3', 'Bb7', 'd5', 'Kh8', 'Qb3', 'Nc5', 'Qc2', 'c6', 'dxc6', 'Bxc6', 'Nd2', 'Ne5', 'f3', 'Rac8', 'Be2', 'Ba4', 'b3', 'Bd7', 'Nec4', 'f5', 'exf5', 'exf5', 'Ne3', 'f4', 'Nd5', 'Qf7', 'c4', 'fxg3', 'hxg3', 'Bf5', 'Qd1', 'Ned3', 'Rf1', 'Bxa1', 'Qxa1+', 'Qg7', 'Qd1', 'Rce8', 'Bxd3', 'Bxd3', 'Re1', 'Qd4+', 'Kh2', 'Bg6', 'Re7', 'Rxe7', 'Nxe7', 'Qf6', 'Nxg6+', 'Qxg6', 'Qe2', 'Re8', 'Qf2', 'Nd3', 'Qd4+', 'Kh7', 'Ne4', 'Ne5', 'Qd5', 'g4', 'Nxd6', 'gxf3', 'Nxe8', 'f2', 'Nf6+', 'Qxf6', 'Qb7+']\n",
      "['c4', 'Nf6', 'Nc3', 'g6', 'e4', 'd6', 'd4', 'Bg7', 'Bg5', 'O-O', 'Nf3', 'c5', 'd5', 'a6', 'a4', 'Qa5', 'Bd2', 'Qb6', 'a5', 'Qc7', 'h3', 'e6', 'Be2', 'exd5', 'exd5', 'Re8', 'O-O', 'Nbd7', 'Re1', 'Ne5', 'Nxe5', 'Rxe5', 'Bf4', 'Re8', 'Bd3', 'Bd7', 'Qd2', 'Rxe1+', 'Rxe1', 'Qxa5', 'Bxd6', 'b5', 'Be5', 'bxc4', 'Bxc4', 'Bb5', 'Nxb5', 'Qxd2']\n"
     ]
    }
   ],
   "source": [
    "for game in zip(df_2021_2017_titled_distinv[0:10].moves):\n",
    "    print(game[0])"
   ]
  },
  {
   "cell_type": "code",
   "execution_count": null,
   "id": "5136b4ce",
   "metadata": {},
   "outputs": [],
   "source": [
    "    \n",
    "    # keep track of how many games have been analysed\n",
    "    game_count+=1\n",
    "    \n",
    "    if game_count % 10 == 0:\n",
    "        print(f'{game_count} games have been analyzed')\n",
    "        joblib.dump(evaluations_, f'C:/Users/MaNiL/Desktop/data/capstone/preprocessed/evaluations/{game_count}_evaluated')\n",
    "    "
   ]
  },
  {
   "cell_type": "code",
   "execution_count": null,
   "id": "cf66c0dc",
   "metadata": {},
   "outputs": [],
   "source": []
  },
  {
   "cell_type": "code",
   "execution_count": 484,
   "id": "5a2fed8b",
   "metadata": {
    "ExecuteTime": {
     "end_time": "2022-10-31T13:11:54.033460Z",
     "start_time": "2022-10-31T13:11:54.017428Z"
    }
   },
   "outputs": [],
   "source": [
    "# testing"
   ]
  },
  {
   "cell_type": "code",
   "execution_count": 511,
   "id": "54fdc49b",
   "metadata": {
    "ExecuteTime": {
     "end_time": "2022-10-31T13:25:49.073196Z",
     "start_time": "2022-10-31T13:25:49.051188Z"
    }
   },
   "outputs": [],
   "source": [
    "df_2021_2017_titled_distinv.moves[0];\n",
    "test_ = [game for game in df_2021_2017_titled_distinv.moves]"
   ]
  },
  {
   "cell_type": "code",
   "execution_count": 514,
   "id": "5a9d93d8",
   "metadata": {
    "ExecuteTime": {
     "end_time": "2022-10-31T13:26:57.327001Z",
     "start_time": "2022-10-31T13:26:54.794430Z"
    },
    "collapsed": true
   },
   "outputs": [
    {
     "data": {
      "text/plain": [
       "[[[{'Move': 'd2d4', 'Centipawn': 44, 'Mate': None},\n",
       "   {'Move': 'e2e4', 'Centipawn': 39, 'Mate': None},\n",
       "   {'Move': 'c2c4', 'Centipawn': 31, 'Mate': None},\n",
       "   {'Move': 'g1f3', 'Centipawn': 25, 'Mate': None},\n",
       "   {'Move': 'e2e3', 'Centipawn': 14, 'Mate': None}],\n",
       "  [{'Move': 'd7d5', 'Centipawn': 25, 'Mate': None},\n",
       "   {'Move': 'g8f6', 'Centipawn': 26, 'Mate': None},\n",
       "   {'Move': 'c7c6', 'Centipawn': 34, 'Mate': None},\n",
       "   {'Move': 'e7e6', 'Centipawn': 37, 'Mate': None},\n",
       "   {'Move': 'c7c5', 'Centipawn': 46, 'Mate': None}],\n",
       "  [{'Move': 'd4d5', 'Centipawn': 67, 'Mate': None},\n",
       "   {'Move': 'e2e4', 'Centipawn': 42, 'Mate': None},\n",
       "   {'Move': 'd4c5', 'Centipawn': 33, 'Mate': None},\n",
       "   {'Move': 'c2c4', 'Centipawn': 32, 'Mate': None},\n",
       "   {'Move': 'e2e3', 'Centipawn': 27, 'Mate': None}],\n",
       "  [{'Move': 'g7g6', 'Centipawn': 59, 'Mate': None},\n",
       "   {'Move': 'd7d6', 'Centipawn': 59, 'Mate': None},\n",
       "   {'Move': 'g8f6', 'Centipawn': 63, 'Mate': None},\n",
       "   {'Move': 'e7e6', 'Centipawn': 93, 'Mate': None},\n",
       "   {'Move': 'a7a6', 'Centipawn': 100, 'Mate': None}],\n",
       "  [{'Move': 'b1c3', 'Centipawn': 67, 'Mate': None},\n",
       "   {'Move': 'e2e4', 'Centipawn': 66, 'Mate': None},\n",
       "   {'Move': 'a2a4', 'Centipawn': 60, 'Mate': None},\n",
       "   {'Move': 'c2c4', 'Centipawn': 60, 'Mate': None},\n",
       "   {'Move': 'g1f3', 'Centipawn': 57, 'Mate': None}],\n",
       "  [{'Move': 'd7d6', 'Centipawn': 51, 'Mate': None},\n",
       "   {'Move': 'g8f6', 'Centipawn': 53, 'Mate': None},\n",
       "   {'Move': 'f8g7', 'Centipawn': 63, 'Mate': None},\n",
       "   {'Move': 'a7a6', 'Centipawn': 98, 'Mate': None},\n",
       "   {'Move': 'b8a6', 'Centipawn': 106, 'Mate': None}],\n",
       "  [{'Move': 'e2e4', 'Centipawn': 84, 'Mate': None},\n",
       "   {'Move': 'c2c4', 'Centipawn': 83, 'Mate': None},\n",
       "   {'Move': 'a2a4', 'Centipawn': 75, 'Mate': None},\n",
       "   {'Move': 'b1c3', 'Centipawn': 52, 'Mate': None},\n",
       "   {'Move': 'h2h3', 'Centipawn': 43, 'Mate': None}],\n",
       "  [{'Move': 'g8f6', 'Centipawn': 8, 'Mate': None},\n",
       "   {'Move': 'd7d6', 'Centipawn': 25, 'Mate': None},\n",
       "   {'Move': 'e7e6', 'Centipawn': 29, 'Mate': None},\n",
       "   {'Move': 'b7b5', 'Centipawn': 41, 'Mate': None},\n",
       "   {'Move': 'a7a6', 'Centipawn': 62, 'Mate': None}],\n",
       "  [{'Move': 'c2c4', 'Centipawn': 31, 'Mate': None},\n",
       "   {'Move': 'b1c3', 'Centipawn': 23, 'Mate': None},\n",
       "   {'Move': 'f1e2', 'Centipawn': 21, 'Mate': None},\n",
       "   {'Move': 'f1c4', 'Centipawn': 12, 'Mate': None},\n",
       "   {'Move': 'a2a4', 'Centipawn': 8, 'Mate': None}],\n",
       "  [{'Move': 'd7d6', 'Centipawn': 2, 'Mate': None},\n",
       "   {'Move': 'e8g8', 'Centipawn': 5, 'Mate': None},\n",
       "   {'Move': 'e7e6', 'Centipawn': 15, 'Mate': None},\n",
       "   {'Move': 'a7a6', 'Centipawn': 17, 'Mate': None},\n",
       "   {'Move': 'd8a5', 'Centipawn': 31, 'Mate': None}],\n",
       "  [{'Move': 'c2c4', 'Centipawn': 20, 'Mate': None},\n",
       "   {'Move': 'b1c3', 'Centipawn': 14, 'Mate': None},\n",
       "   {'Move': 'a2a4', 'Centipawn': 1, 'Mate': None},\n",
       "   {'Move': 'e1g1', 'Centipawn': 0, 'Mate': None},\n",
       "   {'Move': 'a2a3', 'Centipawn': -16, 'Mate': None}],\n",
       "  [{'Move': 'f6d5', 'Centipawn': -236, 'Mate': None},\n",
       "   {'Move': 'f6e4', 'Centipawn': -192, 'Mate': None},\n",
       "   {'Move': 'e7e6', 'Centipawn': -75, 'Mate': None},\n",
       "   {'Move': 'd7d6', 'Centipawn': -53, 'Mate': None},\n",
       "   {'Move': 'e7e5', 'Centipawn': -36, 'Mate': None}],\n",
       "  [{'Move': 'e1g1', 'Centipawn': -40, 'Mate': None},\n",
       "   {'Move': 'c1b2', 'Centipawn': -46, 'Mate': None},\n",
       "   {'Move': 'a2a4', 'Centipawn': -78, 'Mate': None},\n",
       "   {'Move': 'a2a3', 'Centipawn': -80, 'Mate': None},\n",
       "   {'Move': 'h2h4', 'Centipawn': -140, 'Mate': None}],\n",
       "  [{'Move': 'd8a5', 'Centipawn': -73, 'Mate': None},\n",
       "   {'Move': 'c8b7', 'Centipawn': -16, 'Mate': None},\n",
       "   {'Move': 'b5b4', 'Centipawn': -16, 'Mate': None},\n",
       "   {'Move': 'd8b6', 'Centipawn': -2, 'Mate': None},\n",
       "   {'Move': 'd7d6', 'Centipawn': 0, 'Mate': None}],\n",
       "  [{'Move': 'c2c4', 'Centipawn': 13, 'Mate': None},\n",
       "   {'Move': 'e1g1', 'Centipawn': -17, 'Mate': None},\n",
       "   {'Move': 'a2a4', 'Centipawn': -43, 'Mate': None},\n",
       "   {'Move': 'b1d2', 'Centipawn': -90, 'Mate': None},\n",
       "   {'Move': 'a2a3', 'Centipawn': -128, 'Mate': None}],\n",
       "  [{'Move': 'f6d5', 'Centipawn': -146, 'Mate': None},\n",
       "   {'Move': 'd8a5', 'Centipawn': -128, 'Mate': None},\n",
       "   {'Move': 'b5b4', 'Centipawn': -48, 'Mate': None},\n",
       "   {'Move': 'e7e6', 'Centipawn': -22, 'Mate': None},\n",
       "   {'Move': 'f8e8', 'Centipawn': -10, 'Mate': None}],\n",
       "  [{'Move': 'b2g7', 'Centipawn': -144, 'Mate': None},\n",
       "   {'Move': 'd1c1', 'Centipawn': -184, 'Mate': None},\n",
       "   {'Move': 'a1a2', 'Centipawn': -191, 'Mate': None},\n",
       "   {'Move': 'c2c3', 'Centipawn': -282, 'Mate': None},\n",
       "   {'Move': 'b2e5', 'Centipawn': -289, 'Mate': None}],\n",
       "  [{'Move': 'g7b2', 'Centipawn': -675, 'Mate': None},\n",
       "   {'Move': 'd5e3', 'Centipawn': -471, 'Mate': None},\n",
       "   {'Move': 'b5c4', 'Centipawn': -186, 'Mate': None},\n",
       "   {'Move': 'd5c7', 'Centipawn': -87, 'Mate': None},\n",
       "   {'Move': 'd5f6', 'Centipawn': -53, 'Mate': None}],\n",
       "  [{'Move': 'a1a2', 'Centipawn': -675, 'Mate': None},\n",
       "   {'Move': 'h2h4', 'Centipawn': -896, 'Mate': None},\n",
       "   {'Move': 'c4d5', 'Centipawn': -938, 'Mate': None},\n",
       "   {'Move': 'b1d2', 'Centipawn': -967, 'Mate': None},\n",
       "   {'Move': 'a3a4', 'Centipawn': -968, 'Mate': None}],\n",
       "  [{'Move': 'd5c3', 'Centipawn': -720, 'Mate': None},\n",
       "   {'Move': 'b2c3', 'Centipawn': -652, 'Mate': None},\n",
       "   {'Move': 'd5e3', 'Centipawn': -499, 'Mate': None},\n",
       "   {'Move': 'd8a5', 'Centipawn': -468, 'Mate': None},\n",
       "   {'Move': 'b2g7', 'Centipawn': -372, 'Mate': None}],\n",
       "  [{'Move': 'd1c2', 'Centipawn': -660, 'Mate': None},\n",
       "   {'Move': 'd1d2', 'Centipawn': -670, 'Mate': None},\n",
       "   {'Move': 'b1c3', 'Centipawn': -1048, 'Mate': None},\n",
       "   {'Move': 'a2b2', 'Centipawn': -1052, 'Mate': None},\n",
       "   {'Move': 'd1d3', 'Centipawn': -1124, 'Mate': None}],\n",
       "  [{'Move': 'c3a2', 'Centipawn': -670, 'Mate': None},\n",
       "   {'Move': 'b7f3', 'Centipawn': -503, 'Mate': None},\n",
       "   {'Move': 'b7e4', 'Centipawn': -486, 'Mate': None},\n",
       "   {'Move': 'd8a5', 'Centipawn': -446, 'Mate': None},\n",
       "   {'Move': 'c3b1', 'Centipawn': -431, 'Mate': None}]],\n",
       " [[{'Move': 'e2e4', 'Centipawn': 57, 'Mate': None},\n",
       "   {'Move': 'g1f3', 'Centipawn': 47, 'Mate': None},\n",
       "   {'Move': 'd2d4', 'Centipawn': 45, 'Mate': None},\n",
       "   {'Move': 'c2c4', 'Centipawn': 34, 'Mate': None},\n",
       "   {'Move': 'e2e3', 'Centipawn': 23, 'Mate': None}],\n",
       "  [{'Move': 'g8f6', 'Centipawn': 34, 'Mate': None},\n",
       "   {'Move': 'd7d5', 'Centipawn': 45, 'Mate': None},\n",
       "   {'Move': 'c7c6', 'Centipawn': 49, 'Mate': None},\n",
       "   {'Move': 'a7a6', 'Centipawn': 55, 'Mate': None},\n",
       "   {'Move': 'e7e6', 'Centipawn': 56, 'Mate': None}],\n",
       "  [{'Move': 'e2e4', 'Centipawn': 58, 'Mate': None},\n",
       "   {'Move': 'c2c4', 'Centipawn': 57, 'Mate': None},\n",
       "   {'Move': 'b1c3', 'Centipawn': 49, 'Mate': None},\n",
       "   {'Move': 'g1f3', 'Centipawn': 45, 'Mate': None},\n",
       "   {'Move': 'e2e3', 'Centipawn': 29, 'Mate': None}],\n",
       "  [{'Move': 'f8g7', 'Centipawn': -11, 'Mate': None},\n",
       "   {'Move': 'g8f6', 'Centipawn': 0, 'Mate': None},\n",
       "   {'Move': 'h7h6', 'Centipawn': 3, 'Mate': None},\n",
       "   {'Move': 'd7d5', 'Centipawn': 3, 'Mate': None},\n",
       "   {'Move': 'c7c5', 'Centipawn': 9, 'Mate': None}],\n",
       "  [{'Move': 'b1c3', 'Centipawn': 18, 'Mate': None},\n",
       "   {'Move': 'c2c3', 'Centipawn': 15, 'Mate': None},\n",
       "   {'Move': 'e2e4', 'Centipawn': 13, 'Mate': None},\n",
       "   {'Move': 'g1f3', 'Centipawn': 0, 'Mate': None},\n",
       "   {'Move': 'e2e3', 'Centipawn': -6, 'Mate': None}],\n",
       "  [{'Move': 'd7d5', 'Centipawn': 8, 'Mate': None},\n",
       "   {'Move': 'h7h6', 'Centipawn': 8, 'Mate': None},\n",
       "   {'Move': 'c7c5', 'Centipawn': 17, 'Mate': None},\n",
       "   {'Move': 'c7c6', 'Centipawn': 19, 'Mate': None},\n",
       "   {'Move': 'd7d6', 'Centipawn': 55, 'Mate': None}],\n",
       "  [{'Move': 'd1d2', 'Centipawn': 59, 'Mate': None},\n",
       "   {'Move': 'e2e4', 'Centipawn': 38, 'Mate': None},\n",
       "   {'Move': 'g1f3', 'Centipawn': 27, 'Mate': None},\n",
       "   {'Move': 'e2e3', 'Centipawn': 18, 'Mate': None},\n",
       "   {'Move': 'f2f3', 'Centipawn': 15, 'Mate': None}],\n",
       "  [{'Move': 'b8c6', 'Centipawn': 21, 'Mate': None},\n",
       "   {'Move': 'h7h6', 'Centipawn': 21, 'Mate': None},\n",
       "   {'Move': 'b8d7', 'Centipawn': 29, 'Mate': None},\n",
       "   {'Move': 'd6d5', 'Centipawn': 57, 'Mate': None},\n",
       "   {'Move': 'c7c6', 'Centipawn': 64, 'Mate': None}],\n",
       "  [{'Move': 'g5f4', 'Centipawn': 44, 'Mate': None},\n",
       "   {'Move': 'g5h4', 'Centipawn': 44, 'Mate': None},\n",
       "   {'Move': 'g5e3', 'Centipawn': -21, 'Mate': None},\n",
       "   {'Move': 'g5e7', 'Centipawn': -536, 'Mate': None},\n",
       "   {'Move': 'g1f3', 'Centipawn': -565, 'Mate': None}],\n",
       "  [{'Move': 'b8c6', 'Centipawn': 19, 'Mate': None},\n",
       "   {'Move': 'b8d7', 'Centipawn': 39, 'Mate': None},\n",
       "   {'Move': 'g6g5', 'Centipawn': 46, 'Mate': None},\n",
       "   {'Move': 'd6d5', 'Centipawn': 58, 'Mate': None},\n",
       "   {'Move': 'g8f6', 'Centipawn': 61, 'Mate': None}],\n",
       "  [{'Move': 'e2e4', 'Centipawn': 64, 'Mate': None},\n",
       "   {'Move': 'e1c1', 'Centipawn': 52, 'Mate': None},\n",
       "   {'Move': 'f2f4', 'Centipawn': 43, 'Mate': None},\n",
       "   {'Move': 'f2f3', 'Centipawn': 34, 'Mate': None},\n",
       "   {'Move': 'g1f3', 'Centipawn': 25, 'Mate': None}],\n",
       "  [{'Move': 'b8d7', 'Centipawn': 55, 'Mate': None},\n",
       "   {'Move': 'g6g5', 'Centipawn': 56, 'Mate': None},\n",
       "   {'Move': 'c7c6', 'Centipawn': 81, 'Mate': None},\n",
       "   {'Move': 'e8g8', 'Centipawn': 84, 'Mate': None},\n",
       "   {'Move': 'a7a6', 'Centipawn': 92, 'Mate': None}],\n",
       "  [{'Move': 'h4g3', 'Centipawn': 105, 'Mate': None},\n",
       "   {'Move': 'e4e5', 'Centipawn': -158, 'Mate': None},\n",
       "   {'Move': 'h4g5', 'Centipawn': -177, 'Mate': None},\n",
       "   {'Move': 'g1f3', 'Centipawn': -401, 'Mate': None},\n",
       "   {'Move': 'f2f4', 'Centipawn': -405, 'Mate': None}],\n",
       "  [{'Move': 'f6h5', 'Centipawn': 40, 'Mate': None},\n",
       "   {'Move': 'b8c6', 'Centipawn': 87, 'Mate': None},\n",
       "   {'Move': 'b8d7', 'Centipawn': 88, 'Mate': None},\n",
       "   {'Move': 'a7a6', 'Centipawn': 90, 'Mate': None},\n",
       "   {'Move': 'e8g8', 'Centipawn': 93, 'Mate': None}],\n",
       "  [{'Move': 'g1e2', 'Centipawn': 86, 'Mate': None},\n",
       "   {'Move': 'e1c1', 'Centipawn': 86, 'Mate': None},\n",
       "   {'Move': 'f1c4', 'Centipawn': 54, 'Mate': None},\n",
       "   {'Move': 'g1f3', 'Centipawn': 51, 'Mate': None},\n",
       "   {'Move': 'f1e2', 'Centipawn': 50, 'Mate': None}],\n",
       "  [{'Move': 'b8c6', 'Centipawn': 48, 'Mate': None},\n",
       "   {'Move': 'h5g3', 'Centipawn': 60, 'Mate': None},\n",
       "   {'Move': 'c7c6', 'Centipawn': 71, 'Mate': None},\n",
       "   {'Move': 'a7a6', 'Centipawn': 76, 'Mate': None},\n",
       "   {'Move': 'b8d7', 'Centipawn': 106, 'Mate': None}],\n",
       "  [{'Move': 'f2f4', 'Centipawn': 118, 'Mate': None},\n",
       "   {'Move': 'g1e2', 'Centipawn': 107, 'Mate': None},\n",
       "   {'Move': 'f1e2', 'Centipawn': 93, 'Mate': None},\n",
       "   {'Move': 'd2e3', 'Centipawn': 91, 'Mate': None},\n",
       "   {'Move': 'c1b1', 'Centipawn': 84, 'Mate': None}],\n",
       "  [{'Move': 'h5g3', 'Centipawn': 91, 'Mate': None},\n",
       "   {'Move': 'h5f4', 'Centipawn': 207, 'Mate': None},\n",
       "   {'Move': 'g5g4', 'Centipawn': 219, 'Mate': None},\n",
       "   {'Move': 'h5f6', 'Centipawn': 251, 'Mate': None},\n",
       "   {'Move': 'b7b5', 'Centipawn': 311, 'Mate': None}],\n",
       "  [{'Move': 'h2g3', 'Centipawn': 87, 'Mate': None},\n",
       "   {'Move': 'f2g3', 'Centipawn': 34, 'Mate': None},\n",
       "   {'Move': 'e2b5', 'Centipawn': -365, 'Mate': None},\n",
       "   {'Move': 'f2f4', 'Centipawn': -838, 'Mate': None},\n",
       "   {'Move': 'd2e1', 'Centipawn': -860, 'Mate': None}],\n",
       "  [{'Move': 'b8c6', 'Centipawn': 82, 'Mate': None},\n",
       "   {'Move': 'a7a6', 'Centipawn': 94, 'Mate': None},\n",
       "   {'Move': 'b8d7', 'Centipawn': 100, 'Mate': None},\n",
       "   {'Move': 'c8d7', 'Centipawn': 137, 'Mate': None},\n",
       "   {'Move': 'd8e7', 'Centipawn': 141, 'Mate': None}],\n",
       "  [{'Move': 'c1b1', 'Centipawn': 142, 'Mate': None},\n",
       "   {'Move': 'f2f4', 'Centipawn': 137, 'Mate': None},\n",
       "   {'Move': 'd4d5', 'Centipawn': 130, 'Mate': None},\n",
       "   {'Move': 'd2e3', 'Centipawn': 105, 'Mate': None},\n",
       "   {'Move': 'g1f3', 'Centipawn': 100, 'Mate': None}],\n",
       "  [{'Move': 'b7b6', 'Centipawn': 141, 'Mate': None},\n",
       "   {'Move': 'b8c6', 'Centipawn': 143, 'Mate': None},\n",
       "   {'Move': 'a7a6', 'Centipawn': 150, 'Mate': None},\n",
       "   {'Move': 'c8d7', 'Centipawn': 154, 'Mate': None},\n",
       "   {'Move': 'b8d7', 'Centipawn': 154, 'Mate': None}],\n",
       "  [{'Move': 'd4d5', 'Centipawn': 173, 'Mate': None},\n",
       "   {'Move': 'd2e3', 'Centipawn': 155, 'Mate': None},\n",
       "   {'Move': 'e4e5', 'Centipawn': 117, 'Mate': None},\n",
       "   {'Move': 'e2b5', 'Centipawn': 101, 'Mate': None},\n",
       "   {'Move': 'g1f3', 'Centipawn': 65, 'Mate': None}],\n",
       "  [{'Move': 'c6d4', 'Centipawn': 128, 'Mate': None},\n",
       "   {'Move': 'c6b4', 'Centipawn': 166, 'Mate': None},\n",
       "   {'Move': 'c6d8', 'Centipawn': 193, 'Mate': None},\n",
       "   {'Move': 'c6b8', 'Centipawn': 213, 'Mate': None},\n",
       "   {'Move': 'e6d5', 'Centipawn': 254, 'Mate': None}],\n",
       "  [{'Move': 'g1f3', 'Centipawn': 210, 'Mate': None},\n",
       "   {'Move': 'c1b1', 'Centipawn': 195, 'Mate': None},\n",
       "   {'Move': 'a2a3', 'Centipawn': 177, 'Mate': None},\n",
       "   {'Move': 'e2h5', 'Centipawn': 162, 'Mate': None},\n",
       "   {'Move': 'd1e1', 'Centipawn': 141, 'Mate': None}],\n",
       "  [{'Move': 'g7c3', 'Centipawn': 145, 'Mate': None},\n",
       "   {'Move': 'b4a6', 'Centipawn': 159, 'Mate': None},\n",
       "   {'Move': 'a7a5', 'Centipawn': 220, 'Mate': None},\n",
       "   {'Move': 'g5f4', 'Centipawn': 519, 'Mate': None},\n",
       "   {'Move': 'e6d5', 'Centipawn': 520, 'Mate': None}],\n",
       "  [{'Move': 'b2c3', 'Centipawn': 177, 'Mate': None},\n",
       "   {'Move': 'e2b5', 'Centipawn': 48, 'Mate': None},\n",
       "   {'Move': 'd2e3', 'Centipawn': -71, 'Mate': None},\n",
       "   {'Move': 'd2c3', 'Centipawn': -796, 'Mate': None},\n",
       "   {'Move': 'c1b1', 'Centipawn': -878, 'Mate': None}],\n",
       "  [{'Move': 'b4a6', 'Centipawn': 238, 'Mate': None},\n",
       "   {'Move': 'e6d5', 'Centipawn': 469, 'Mate': None},\n",
       "   {'Move': 'b4c2', 'Centipawn': 504, 'Mate': None},\n",
       "   {'Move': 'a7a5', 'Centipawn': 574, 'Mate': None},\n",
       "   {'Move': 'b4a2', 'Centipawn': 596, 'Mate': None}],\n",
       "  [{'Move': 'e2a6', 'Centipawn': 315, 'Mate': None},\n",
       "   {'Move': 'f4g5', 'Centipawn': 238, 'Mate': None},\n",
       "   {'Move': 'e2b5', 'Centipawn': 209, 'Mate': None},\n",
       "   {'Move': 'g1f3', 'Centipawn': 208, 'Mate': None},\n",
       "   {'Move': 'd5e6', 'Centipawn': 194, 'Mate': None}],\n",
       "  [{'Move': 'b7a6', 'Centipawn': 282, 'Mate': None},\n",
       "   {'Move': 'e6d5', 'Centipawn': 480, 'Mate': None},\n",
       "   {'Move': 'e8f8', 'Centipawn': 641, 'Mate': None},\n",
       "   {'Move': 'c8d7', 'Centipawn': 667, 'Mate': None},\n",
       "   {'Move': 'e6e5', 'Centipawn': 685, 'Mate': None}],\n",
       "  [{'Move': 'f4g5', 'Centipawn': 222, 'Mate': None},\n",
       "   {'Move': 'g1f3', 'Centipawn': 222, 'Mate': None},\n",
       "   {'Move': 'c3c4', 'Centipawn': 206, 'Mate': None},\n",
       "   {'Move': 'd1e1', 'Centipawn': 180, 'Mate': None},\n",
       "   {'Move': 'd2d4', 'Centipawn': 151, 'Mate': None}],\n",
       "  [{'Move': 'h6h5', 'Centipawn': 218, 'Mate': None},\n",
       "   {'Move': 'c8d7', 'Centipawn': 325, 'Mate': None},\n",
       "   {'Move': 'c8b7', 'Centipawn': 338, 'Mate': None},\n",
       "   {'Move': 'e6e5', 'Centipawn': 372, 'Mate': None},\n",
       "   {'Move': 'a8b8', 'Centipawn': 419, 'Mate': None}],\n",
       "  [{'Move': 'g3g4', 'Centipawn': 300, 'Mate': None},\n",
       "   {'Move': 'c3c4', 'Centipawn': 260, 'Mate': None},\n",
       "   {'Move': 'g1f3', 'Centipawn': 245, 'Mate': None},\n",
       "   {'Move': 'd1f1', 'Centipawn': 221, 'Mate': None},\n",
       "   {'Move': 'd1e1', 'Centipawn': 197, 'Mate': None}],\n",
       "  [{'Move': 'e6e5', 'Centipawn': 253, 'Mate': None},\n",
       "   {'Move': 'c8d7', 'Centipawn': 293, 'Mate': None},\n",
       "   {'Move': 'c8b7', 'Centipawn': 317, 'Mate': None},\n",
       "   {'Move': 'a8b8', 'Centipawn': 328, 'Mate': None},\n",
       "   {'Move': 'a6a5', 'Centipawn': 352, 'Mate': None}],\n",
       "  [{'Move': 'd2d3', 'Centipawn': 255, 'Mate': None},\n",
       "   {'Move': 'c3c4', 'Centipawn': 250, 'Mate': None},\n",
       "   {'Move': 'd2e3', 'Centipawn': 246, 'Mate': None},\n",
       "   {'Move': 'd1f1', 'Centipawn': 244, 'Mate': None},\n",
       "   {'Move': 'c1b2', 'Centipawn': 200, 'Mate': None}],\n",
       "  [{'Move': 'c8g4', 'Centipawn': 170, 'Mate': None},\n",
       "   {'Move': 'e7f8', 'Centipawn': 247, 'Mate': None},\n",
       "   {'Move': 'f7f5', 'Centipawn': 271, 'Mate': None},\n",
       "   {'Move': 'f7f6', 'Centipawn': 278, 'Mate': None},\n",
       "   {'Move': 'c8d7', 'Centipawn': 287, 'Mate': None}],\n",
       "  [{'Move': 'd1h1', 'Centipawn': 240, 'Mate': None},\n",
       "   {'Move': 'd1f1', 'Centipawn': 201, 'Mate': None},\n",
       "   {'Move': 'c3c4', 'Centipawn': 198, 'Mate': None},\n",
       "   {'Move': 'd2e3', 'Centipawn': 193, 'Mate': None},\n",
       "   {'Move': 'd2f2', 'Centipawn': 165, 'Mate': None}],\n",
       "  [{'Move': 'e8c8', 'Centipawn': 182, 'Mate': None},\n",
       "   {'Move': 'h8g8', 'Centipawn': 197, 'Mate': None},\n",
       "   {'Move': 'g4d7', 'Centipawn': 291, 'Mate': None},\n",
       "   {'Move': 'h8f8', 'Centipawn': 304, 'Mate': None},\n",
       "   {'Move': 'f7f5', 'Centipawn': 428, 'Mate': None}],\n",
       "  [{'Move': 'f3h2', 'Centipawn': 275, 'Mate': None},\n",
       "   {'Move': 'd2e3', 'Centipawn': 159, 'Mate': None},\n",
       "   {'Move': 'c3c4', 'Centipawn': 153, 'Mate': None},\n",
       "   {'Move': 'h1f1', 'Centipawn': 146, 'Mate': None},\n",
       "   {'Move': 'c1b2', 'Centipawn': 127, 'Mate': None}],\n",
       "  [{'Move': 'g4h5', 'Centipawn': 85, 'Mate': None},\n",
       "   {'Move': 'e8c8', 'Centipawn': 321, 'Mate': None},\n",
       "   {'Move': 'e7d7', 'Centipawn': 343, 'Mate': None},\n",
       "   {'Move': 'a6a5', 'Centipawn': 406, 'Mate': None},\n",
       "   {'Move': 'e8d7', 'Centipawn': 412, 'Mate': None}],\n",
       "  [{'Move': 'h1h5', 'Centipawn': 146, 'Mate': None},\n",
       "   {'Move': 'f3d4', 'Centipawn': -429, 'Mate': None},\n",
       "   {'Move': 'c3c4', 'Centipawn': -471, 'Mate': None},\n",
       "   {'Move': 'h1h4', 'Centipawn': -504, 'Mate': None},\n",
       "   {'Move': 'd2e3', 'Centipawn': -559, 'Mate': None}],\n",
       "  [{'Move': 'e7d7', 'Centipawn': 89, 'Mate': None},\n",
       "   {'Move': 'e8c8', 'Centipawn': 121, 'Mate': None},\n",
       "   {'Move': 'a8b8', 'Centipawn': 127, 'Mate': None},\n",
       "   {'Move': 'e8d8', 'Centipawn': 175, 'Mate': None},\n",
       "   {'Move': 'e8d7', 'Centipawn': 192, 'Mate': None}],\n",
       "  [{'Move': 'd2f2', 'Centipawn': 199, 'Mate': None},\n",
       "   {'Move': 'c3c4', 'Centipawn': 172, 'Mate': None},\n",
       "   {'Move': 'f3h4', 'Centipawn': 161, 'Mate': None},\n",
       "   {'Move': 'd2e3', 'Centipawn': 160, 'Mate': None},\n",
       "   {'Move': 'd2e2', 'Centipawn': 133, 'Mate': None}],\n",
       "  [{'Move': 'e8d8', 'Centipawn': 98, 'Mate': None},\n",
       "   {'Move': 'e7d7', 'Centipawn': 104, 'Mate': None},\n",
       "   {'Move': 'b8b6', 'Centipawn': 117, 'Mate': None},\n",
       "   {'Move': 'a6a5', 'Centipawn': 148, 'Mate': None},\n",
       "   {'Move': 'b8b5', 'Centipawn': 168, 'Mate': None}],\n",
       "  [{'Move': 'f3h4', 'Centipawn': 177, 'Mate': None},\n",
       "   {'Move': 'f3d2', 'Centipawn': 143, 'Mate': None},\n",
       "   {'Move': 'c3c4', 'Centipawn': 130, 'Mate': None},\n",
       "   {'Move': 'd3c4', 'Centipawn': 84, 'Mate': None},\n",
       "   {'Move': 'd3e3', 'Centipawn': 67, 'Mate': None}],\n",
       "  [{'Move': 'e7d7', 'Centipawn': 0, 'Mate': None},\n",
       "   {'Move': 'e8d8', 'Centipawn': 23, 'Mate': None},\n",
       "   {'Move': 'e8d7', 'Centipawn': 36, 'Mate': None},\n",
       "   {'Move': 'c7c6', 'Centipawn': 73, 'Mate': None},\n",
       "   {'Move': 'a6a5', 'Centipawn': 75, 'Mate': None}],\n",
       "  [{'Move': 'h5h7', 'Centipawn': 102, 'Mate': None},\n",
       "   {'Move': 'c3c4', 'Centipawn': 96, 'Mate': None},\n",
       "   {'Move': 'f3d2', 'Centipawn': 89, 'Mate': None},\n",
       "   {'Move': 'h5h6', 'Centipawn': 87, 'Mate': None},\n",
       "   {'Move': 'f3h4', 'Centipawn': 30, 'Mate': None}],\n",
       "  [{'Move': 'c6d5', 'Centipawn': 2, 'Mate': None},\n",
       "   {'Move': 'e7b7', 'Centipawn': 16, 'Mate': None},\n",
       "   {'Move': 'e7d7', 'Centipawn': 44, 'Mate': None},\n",
       "   {'Move': 'e7c7', 'Centipawn': 102, 'Mate': None},\n",
       "   {'Move': 'e8d8', 'Centipawn': 131, 'Mate': None}],\n",
       "  [{'Move': 'h4f5', 'Centipawn': 24, 'Mate': None},\n",
       "   {'Move': 'e4d5', 'Centipawn': -30, 'Mate': None},\n",
       "   {'Move': 'e3d2', 'Centipawn': -76, 'Mate': None},\n",
       "   {'Move': 'c1d2', 'Centipawn': -90, 'Mate': None},\n",
       "   {'Move': 'c3c4', 'Centipawn': -115, 'Mate': None}],\n",
       "  [{'Move': 'e7b7', 'Centipawn': -69, 'Mate': None},\n",
       "   {'Move': 'e8d8', 'Centipawn': 15, 'Mate': None},\n",
       "   {'Move': 'e5e4', 'Centipawn': 74, 'Mate': None},\n",
       "   {'Move': 'e7d7', 'Centipawn': 139, 'Mate': None},\n",
       "   {'Move': 'e7c7', 'Centipawn': 143, 'Mate': None}],\n",
       "  [{'Move': 'e3d3', 'Centipawn': -18, 'Mate': None},\n",
       "   {'Move': 'e3f3', 'Centipawn': -30, 'Mate': None},\n",
       "   {'Move': 'e3e4', 'Centipawn': -168, 'Mate': None},\n",
       "   {'Move': 'c3c4', 'Centipawn': -175, 'Mate': None},\n",
       "   {'Move': 'g3g4', 'Centipawn': -216, 'Mate': None}],\n",
       "  [{'Move': 'b6b1', 'Centipawn': -148, 'Mate': None},\n",
       "   {'Move': 'e8d8', 'Centipawn': -4, 'Mate': None},\n",
       "   {'Move': 'b7c7', 'Centipawn': 56, 'Mate': None},\n",
       "   {'Move': 'e8d7', 'Centipawn': 66, 'Mate': None},\n",
       "   {'Move': 'b7b8', 'Centipawn': 113, 'Mate': None}],\n",
       "  [{'Move': 'c1d2', 'Centipawn': -148, 'Mate': None}],\n",
       "  [{'Move': 'b7b2', 'Centipawn': -148, 'Mate': None},\n",
       "   {'Move': 'e8d8', 'Centipawn': -50, 'Mate': None},\n",
       "   {'Move': 'b1f1', 'Centipawn': -50, 'Mate': None},\n",
       "   {'Move': 'b7c8', 'Centipawn': -12, 'Mate': None},\n",
       "   {'Move': 'b7b6', 'Centipawn': 53, 'Mate': None}],\n",
       "  [{'Move': 'h4f5', 'Centipawn': 367, 'Mate': None},\n",
       "   {'Move': 'g5g6', 'Centipawn': 27, 'Mate': None},\n",
       "   {'Move': 'e3b3', 'Centipawn': -92, 'Mate': None},\n",
       "   {'Move': 'e3e4', 'Centipawn': -112, 'Mate': None},\n",
       "   {'Move': 'd2c3', 'Centipawn': -129, 'Mate': None}],\n",
       "  [{'Move': 'b7b1', 'Centipawn': -625, 'Mate': None},\n",
       "   {'Move': 'b7b2', 'Centipawn': -169, 'Mate': None},\n",
       "   {'Move': 'h1f1', 'Centipawn': -22, 'Mate': None},\n",
       "   {'Move': 'h1a1', 'Centipawn': 0, 'Mate': None},\n",
       "   {'Move': 'h1b1', 'Centipawn': 100, 'Mate': None}],\n",
       "  [{'Move': 'h4f5', 'Centipawn': 317, 'Mate': None},\n",
       "   {'Move': 'g5g6', 'Centipawn': 226, 'Mate': None},\n",
       "   {'Move': 'h6f6', 'Centipawn': 211, 'Mate': None},\n",
       "   {'Move': 'c4c5', 'Centipawn': 158, 'Mate': None},\n",
       "   {'Move': 'h4g6', 'Centipawn': 87, 'Mate': None}],\n",
       "  [{'Move': 'e7c7', 'Centipawn': 102, 'Mate': None},\n",
       "   {'Move': 'e7b7', 'Centipawn': 263, 'Mate': None},\n",
       "   {'Move': 'e8f8', 'Centipawn': 420, 'Mate': None},\n",
       "   {'Move': 'e8d8', 'Centipawn': 501, 'Mate': None},\n",
       "   {'Move': 'h1h2', 'Centipawn': 511, 'Mate': None}],\n",
       "  [{'Move': 'h4f5', 'Centipawn': 511, 'Mate': None},\n",
       "   {'Move': 'c4c5', 'Centipawn': 325, 'Mate': None},\n",
       "   {'Move': 'd2c3', 'Centipawn': 313, 'Mate': None},\n",
       "   {'Move': 'd2c1', 'Centipawn': 278, 'Mate': None},\n",
       "   {'Move': 'd2e2', 'Centipawn': 178, 'Mate': None}],\n",
       "  [{'Move': 'h2g2', 'Centipawn': 575, 'Mate': None},\n",
       "   {'Move': 'e7c7', 'Centipawn': 670, 'Mate': None},\n",
       "   {'Move': 'e7d7', 'Centipawn': 700, 'Mate': None},\n",
       "   {'Move': 'e7f8', 'Centipawn': 743, 'Mate': None},\n",
       "   {'Move': 'g8g6', 'Centipawn': 770, 'Mate': None}],\n",
       "  [{'Move': 'd2c1', 'Centipawn': 636, 'Mate': None},\n",
       "   {'Move': 'd2c3', 'Centipawn': 603, 'Mate': None},\n",
       "   {'Move': 'd2d1', 'Centipawn': 561, 'Mate': None},\n",
       "   {'Move': 'd2e1', 'Centipawn': 412, 'Mate': None},\n",
       "   {'Move': 'd2d3', 'Centipawn': 374, 'Mate': None}],\n",
       "  [{'Move': 'e7d7', 'Centipawn': 450, 'Mate': None},\n",
       "   {'Move': 'e7c7', 'Centipawn': 661, 'Mate': None},\n",
       "   {'Move': 'g2e2', 'Centipawn': 746, 'Mate': None},\n",
       "   {'Move': 'e7f6', 'Centipawn': 777, 'Mate': None},\n",
       "   {'Move': 'g8g6', 'Centipawn': 876, 'Mate': None}],\n",
       "  [{'Move': 'g5f6', 'Centipawn': 808, 'Mate': None},\n",
       "   {'Move': 'f5h4', 'Centipawn': -578, 'Mate': None},\n",
       "   {'Move': 'e3c5', 'Centipawn': -746, 'Mate': None},\n",
       "   {'Move': 'e3b6', 'Centipawn': -752, 'Mate': None},\n",
       "   {'Move': 'e3g1', 'Centipawn': -766, 'Mate': None}],\n",
       "  [{'Move': 'g2g3', 'Centipawn': 752, 'Mate': None},\n",
       "   {'Move': 'e8f8', 'Centipawn': 795, 'Mate': None},\n",
       "   {'Move': 'g8g3', 'Centipawn': 806, 'Mate': None},\n",
       "   {'Move': 'g8g4', 'Centipawn': 852, 'Mate': None},\n",
       "   {'Move': 'g2c2', 'Centipawn': 888, 'Mate': None}],\n",
       "  [{'Move': 'e3a7', 'Centipawn': None, 'Mate': 4},\n",
       "   {'Move': 'g3g4', 'Centipawn': 947, 'Mate': None},\n",
       "   {'Move': 'e3f3', 'Centipawn': 804, 'Mate': None},\n",
       "   {'Move': 'c4c5', 'Centipawn': 802, 'Mate': None},\n",
       "   {'Move': 'a3a4', 'Centipawn': 759, 'Mate': None}],\n",
       "  [{'Move': 'd7d8', 'Centipawn': None, 'Mate': 3},\n",
       "   {'Move': 'd7c8', 'Centipawn': None, 'Mate': 2},\n",
       "   {'Move': 'd7e8', 'Centipawn': None, 'Mate': 1}],\n",
       "  [{'Move': 'f5d6', 'Centipawn': None, 'Mate': 2},\n",
       "   {'Move': 'a7a8', 'Centipawn': None, 'Mate': 5},\n",
       "   {'Move': 'f5e7', 'Centipawn': None, 'Mate': 5},\n",
       "   {'Move': 'c3b2', 'Centipawn': 1498, 'Mate': None},\n",
       "   {'Move': 'c3b4', 'Centipawn': 1400, 'Mate': None}],\n",
       "  [{'Move': 'c8d8', 'Centipawn': None, 'Mate': 1}],\n",
       "  [{'Move': 'a7e7', 'Centipawn': None, 'Mate': 1},\n",
       "   {'Move': 'a7b6', 'Centipawn': None, 'Mate': 3},\n",
       "   {'Move': 'a7a8', 'Centipawn': None, 'Mate': 3},\n",
       "   {'Move': 'a7b8', 'Centipawn': None, 'Mate': 3},\n",
       "   {'Move': 'd6b7', 'Centipawn': None, 'Mate': 3}]],\n",
       " [[{'Move': 'e2e4', 'Centipawn': 49, 'Mate': None},\n",
       "   {'Move': 'd2d4', 'Centipawn': 48, 'Mate': None},\n",
       "   {'Move': 'g1f3', 'Centipawn': 38, 'Mate': None},\n",
       "   {'Move': 'c2c4', 'Centipawn': 35, 'Mate': None},\n",
       "   {'Move': 'e2e3', 'Centipawn': 32, 'Mate': None}],\n",
       "  [{'Move': 'd7d5', 'Centipawn': 40, 'Mate': None},\n",
       "   {'Move': 'c7c6', 'Centipawn': 40, 'Mate': None},\n",
       "   {'Move': 'e7e6', 'Centipawn': 40, 'Mate': None},\n",
       "   {'Move': 'g8f6', 'Centipawn': 41, 'Mate': None},\n",
       "   {'Move': 'a7a6', 'Centipawn': 56, 'Mate': None}],\n",
       "  [{'Move': 'e2e4', 'Centipawn': 67, 'Mate': None},\n",
       "   {'Move': 'b1c3', 'Centipawn': 40, 'Mate': None},\n",
       "   {'Move': 'c2c4', 'Centipawn': 34, 'Mate': None},\n",
       "   {'Move': 'g1f3', 'Centipawn': 25, 'Mate': None},\n",
       "   {'Move': 'e2e3', 'Centipawn': 16, 'Mate': None}],\n",
       "  [{'Move': 'd7d5', 'Centipawn': 40, 'Mate': None},\n",
       "   {'Move': 'a7a6', 'Centipawn': 67, 'Mate': None},\n",
       "   {'Move': 'b8c6', 'Centipawn': 81, 'Mate': None},\n",
       "   {'Move': 'c7c5', 'Centipawn': 83, 'Mate': None},\n",
       "   {'Move': 'c7c6', 'Centipawn': 87, 'Mate': None}],\n",
       "  [{'Move': 'b1c3', 'Centipawn': 43, 'Mate': None},\n",
       "   {'Move': 'b1d2', 'Centipawn': 40, 'Mate': None},\n",
       "   {'Move': 'e4e5', 'Centipawn': 27, 'Mate': None},\n",
       "   {'Move': 'e4d5', 'Centipawn': 3, 'Mate': None},\n",
       "   {'Move': 'f1b5', 'Centipawn': 3, 'Mate': None}],\n",
       "  [{'Move': 'c7c5', 'Centipawn': 16, 'Mate': None},\n",
       "   {'Move': 'a7a6', 'Centipawn': 39, 'Mate': None},\n",
       "   {'Move': 'g8f6', 'Centipawn': 44, 'Mate': None},\n",
       "   {'Move': 'f8e7', 'Centipawn': 56, 'Mate': None},\n",
       "   {'Move': 'c8d7', 'Centipawn': 58, 'Mate': None}],\n",
       "  [{'Move': 'f1d3', 'Centipawn': 66, 'Mate': None},\n",
       "   {'Move': 'e4e5', 'Centipawn': 63, 'Mate': None},\n",
       "   {'Move': 'g1f3', 'Centipawn': 56, 'Mate': None},\n",
       "   {'Move': 'c2c3', 'Centipawn': 42, 'Mate': None},\n",
       "   {'Move': 'f1e2', 'Centipawn': 42, 'Mate': None}],\n",
       "  [{'Move': 'c7c5', 'Centipawn': 41, 'Mate': None},\n",
       "   {'Move': 'a7a5', 'Centipawn': 80, 'Mate': None},\n",
       "   {'Move': 'd5e4', 'Centipawn': 89, 'Mate': None},\n",
       "   {'Move': 'a7a6', 'Centipawn': 96, 'Mate': None},\n",
       "   {'Move': 'h7h6', 'Centipawn': 98, 'Mate': None}],\n",
       "  [{'Move': 'e4e5', 'Centipawn': 92, 'Mate': None},\n",
       "   {'Move': 'c2c3', 'Centipawn': 74, 'Mate': None},\n",
       "   {'Move': 'g1f3', 'Centipawn': 65, 'Mate': None},\n",
       "   {'Move': 'g1e2', 'Centipawn': 59, 'Mate': None},\n",
       "   {'Move': 'h2h4', 'Centipawn': 43, 'Mate': None}],\n",
       "  [{'Move': 'c7c5', 'Centipawn': 38, 'Mate': None},\n",
       "   {'Move': 'f6e4', 'Centipawn': 64, 'Mate': None},\n",
       "   {'Move': 'd5e4', 'Centipawn': 64, 'Mate': None},\n",
       "   {'Move': 'e8g8', 'Centipawn': 66, 'Mate': None},\n",
       "   {'Move': 'a7a5', 'Centipawn': 75, 'Mate': None}],\n",
       "  [{'Move': 'd4c5', 'Centipawn': 57, 'Mate': None},\n",
       "   {'Move': 'e4d5', 'Centipawn': 50, 'Mate': None},\n",
       "   {'Move': 'e4e5', 'Centipawn': 41, 'Mate': None},\n",
       "   {'Move': 'c2c3', 'Centipawn': 29, 'Mate': None},\n",
       "   {'Move': 'e1g1', 'Centipawn': -17, 'Mate': None}],\n",
       "  [{'Move': 'f6e4', 'Centipawn': -2, 'Mate': None},\n",
       "   {'Move': 'd5e4', 'Centipawn': 38, 'Mate': None},\n",
       "   {'Move': 'a7a5', 'Centipawn': 63, 'Mate': None},\n",
       "   {'Move': 'b8a6', 'Centipawn': 68, 'Mate': None},\n",
       "   {'Move': 'b8c6', 'Centipawn': 71, 'Mate': None}],\n",
       "  [{'Move': 'e1g1', 'Centipawn': 90, 'Mate': None},\n",
       "   {'Move': 'e4e5', 'Centipawn': 86, 'Mate': None},\n",
       "   {'Move': 'd1e2', 'Centipawn': 80, 'Mate': None},\n",
       "   {'Move': 'e4d5', 'Centipawn': 75, 'Mate': None},\n",
       "   {'Move': 'd2b3', 'Centipawn': 17, 'Mate': None}],\n",
       "  [{'Move': 'b8c6', 'Centipawn': 66, 'Mate': None},\n",
       "   {'Move': 'a7a5', 'Centipawn': 71, 'Mate': None},\n",
       "   {'Move': 'c5e7', 'Centipawn': 71, 'Mate': None},\n",
       "   {'Move': 'e8g8', 'Centipawn': 81, 'Mate': None},\n",
       "   {'Move': 'h7h6', 'Centipawn': 91, 'Mate': None}],\n",
       "  [{'Move': 'a2a3', 'Centipawn': 87, 'Mate': None},\n",
       "   {'Move': 'd1e2', 'Centipawn': 75, 'Mate': None},\n",
       "   {'Move': 'e4e5', 'Centipawn': 73, 'Mate': None},\n",
       "   {'Move': 'c2c3', 'Centipawn': 64, 'Mate': None},\n",
       "   {'Move': 'b2b3', 'Centipawn': 63, 'Mate': None}],\n",
       "  [{'Move': 'b8c6', 'Centipawn': 53, 'Mate': None},\n",
       "   {'Move': 'c5b6', 'Centipawn': 59, 'Mate': None},\n",
       "   {'Move': 'f6d7', 'Centipawn': 66, 'Mate': None},\n",
       "   {'Move': 'a7a5', 'Centipawn': 69, 'Mate': None},\n",
       "   {'Move': 'h7h6', 'Centipawn': 75, 'Mate': None}],\n",
       "  [{'Move': 'e4e5', 'Centipawn': 56, 'Mate': None},\n",
       "   {'Move': 'c2c3', 'Centipawn': 55, 'Mate': None},\n",
       "   {'Move': 'c2c4', 'Centipawn': 54, 'Mate': None},\n",
       "   {'Move': 'a2a3', 'Centipawn': 32, 'Mate': None},\n",
       "   {'Move': 'h2h3', 'Centipawn': 29, 'Mate': None}],\n",
       "  [{'Move': 'e6e5', 'Centipawn': 24, 'Mate': None},\n",
       "   {'Move': 'c5b6', 'Centipawn': 26, 'Mate': None},\n",
       "   {'Move': 'f6d7', 'Centipawn': 60, 'Mate': None},\n",
       "   {'Move': 'f6g4', 'Centipawn': 64, 'Mate': None},\n",
       "   {'Move': 'f6h5', 'Centipawn': 78, 'Mate': None}],\n",
       "  [{'Move': 'b2b4', 'Centipawn': 108, 'Mate': None},\n",
       "   {'Move': 'e4e5', 'Centipawn': 87, 'Mate': None},\n",
       "   {'Move': 'h2h3', 'Centipawn': 66, 'Mate': None},\n",
       "   {'Move': 'd3c2', 'Centipawn': 62, 'Mate': None},\n",
       "   {'Move': 'd2b3', 'Centipawn': 37, 'Mate': None}],\n",
       "  [{'Move': 'f6d7', 'Centipawn': 91, 'Mate': None},\n",
       "   {'Move': 'f6h5', 'Centipawn': 112, 'Mate': None},\n",
       "   {'Move': 'f6g4', 'Centipawn': 270, 'Mate': None},\n",
       "   {'Move': 'c5b6', 'Centipawn': 313, 'Mate': None},\n",
       "   {'Move': 'h7h6', 'Centipawn': 329, 'Mate': None}],\n",
       "  [{'Move': 'b2b4', 'Centipawn': 112, 'Mate': None},\n",
       "   {'Move': 'd3c2', 'Centipawn': 111, 'Mate': None},\n",
       "   {'Move': 'd2b3', 'Centipawn': 104, 'Mate': None},\n",
       "   {'Move': 'f1e1', 'Centipawn': 87, 'Mate': None},\n",
       "   {'Move': 'f1d1', 'Centipawn': 64, 'Mate': None}],\n",
       "  [{'Move': 'c5b6', 'Centipawn': 73, 'Mate': None},\n",
       "   {'Move': 'f7f5', 'Centipawn': 115, 'Mate': None},\n",
       "   {'Move': 'h7h6', 'Centipawn': 125, 'Mate': None},\n",
       "   {'Move': 'd8c7', 'Centipawn': 132, 'Mate': None},\n",
       "   {'Move': 'c5f8', 'Centipawn': 134, 'Mate': None}],\n",
       "  [{'Move': 'b3d4', 'Centipawn': 144, 'Mate': None},\n",
       "   {'Move': 'f1e1', 'Centipawn': 129, 'Mate': None},\n",
       "   {'Move': 'c1f4', 'Centipawn': 114, 'Mate': None},\n",
       "   {'Move': 'f1d1', 'Centipawn': 108, 'Mate': None},\n",
       "   {'Move': 'c1d2', 'Centipawn': 101, 'Mate': None}],\n",
       "  [{'Move': 'd7c5', 'Centipawn': 107, 'Mate': None},\n",
       "   {'Move': 'a7a6', 'Centipawn': 111, 'Mate': None},\n",
       "   {'Move': 'd7f8', 'Centipawn': 117, 'Mate': None},\n",
       "   {'Move': 'a7a5', 'Centipawn': 120, 'Mate': None},\n",
       "   {'Move': 'd8c7', 'Centipawn': 126, 'Mate': None}],\n",
       "  [{'Move': 'c1f4', 'Centipawn': 161, 'Mate': None},\n",
       "   {'Move': 'f1e1', 'Centipawn': 147, 'Mate': None},\n",
       "   {'Move': 'd4b5', 'Centipawn': 128, 'Mate': None},\n",
       "   {'Move': 'd4c6', 'Centipawn': 66, 'Mate': None},\n",
       "   {'Move': 'e2c2', 'Centipawn': 51, 'Mate': None}],\n",
       "  [{'Move': 'd7c5', 'Centipawn': 125, 'Mate': None},\n",
       "   {'Move': 'd7f8', 'Centipawn': 137, 'Mate': None},\n",
       "   {'Move': 'c6d4', 'Centipawn': 140, 'Mate': None},\n",
       "   {'Move': 'a7a6', 'Centipawn': 151, 'Mate': None},\n",
       "   {'Move': 'c7b6', 'Centipawn': 152, 'Mate': None}],\n",
       "  [{'Move': 'g2g4', 'Centipawn': 190, 'Mate': None},\n",
       "   {'Move': 'a1d1', 'Centipawn': 178, 'Mate': None},\n",
       "   {'Move': 'd3c2', 'Centipawn': 178, 'Mate': None},\n",
       "   {'Move': 'e2e3', 'Centipawn': 171, 'Mate': None},\n",
       "   {'Move': 'a1c1', 'Centipawn': 166, 'Mate': None}],\n",
       "  [{'Move': 'd7c5', 'Centipawn': 85, 'Mate': None},\n",
       "   {'Move': 'c6d4', 'Centipawn': 87, 'Mate': None},\n",
       "   {'Move': 'c7b6', 'Centipawn': 100, 'Mate': None},\n",
       "   {'Move': 'a7a6', 'Centipawn': 109, 'Mate': None},\n",
       "   {'Move': 'e8d8', 'Centipawn': 126, 'Mate': None}],\n",
       "  [{'Move': 'h2h4', 'Centipawn': 136, 'Mate': None},\n",
       "   {'Move': 'd3c2', 'Centipawn': 118, 'Mate': None},\n",
       "   {'Move': 'a1b1', 'Centipawn': 118, 'Mate': None},\n",
       "   {'Move': 'g3f4', 'Centipawn': 111, 'Mate': None},\n",
       "   {'Move': 'a1d1', 'Centipawn': 100, 'Mate': None}],\n",
       "  [{'Move': 'c6d4', 'Centipawn': 77, 'Mate': None},\n",
       "   {'Move': 'd7c5', 'Centipawn': 95, 'Mate': None},\n",
       "   {'Move': 'a7a5', 'Centipawn': 101, 'Mate': None},\n",
       "   {'Move': 'd7f8', 'Centipawn': 114, 'Mate': None},\n",
       "   {'Move': 'a7a6', 'Centipawn': 129, 'Mate': None}],\n",
       "  [{'Move': 'a1d1', 'Centipawn': 168, 'Mate': None},\n",
       "   {'Move': 'e2d2', 'Centipawn': 160, 'Mate': None},\n",
       "   {'Move': 'd4b3', 'Centipawn': 144, 'Mate': None},\n",
       "   {'Move': 'a1c1', 'Centipawn': 137, 'Mate': None},\n",
       "   {'Move': 'e1d1', 'Centipawn': 132, 'Mate': None}],\n",
       "  [{'Move': 'c6d4', 'Centipawn': 87, 'Mate': None},\n",
       "   {'Move': 'c5d4', 'Centipawn': 89, 'Mate': None},\n",
       "   {'Move': 'd7f8', 'Centipawn': 126, 'Mate': None},\n",
       "   {'Move': 'e8d8', 'Centipawn': 162, 'Mate': None},\n",
       "   {'Move': 'c5e7', 'Centipawn': 163, 'Mate': None}],\n",
       "  [{'Move': 'e5f6', 'Centipawn': 275, 'Mate': None},\n",
       "   {'Move': 'd3b1', 'Centipawn': 171, 'Mate': None},\n",
       "   {'Move': 'd3c2', 'Centipawn': 170, 'Mate': None},\n",
       "   {'Move': 'g1h1', 'Centipawn': 137, 'Mate': None},\n",
       "   {'Move': 'g3f4', 'Centipawn': 121, 'Mate': None}],\n",
       "  [{'Move': 'd7f6', 'Centipawn': 288, 'Mate': None},\n",
       "   {'Move': 'e6e5', 'Centipawn': 333, 'Mate': None},\n",
       "   {'Move': 'c5d4', 'Centipawn': 350, 'Mate': None},\n",
       "   {'Move': 'g7g5', 'Centipawn': 568, 'Mate': None},\n",
       "   {'Move': 'c6d4', 'Centipawn': 586, 'Mate': None}],\n",
       "  [{'Move': 'd3g6', 'Centipawn': 368, 'Mate': None},\n",
       "   {'Move': 'd4c6', 'Centipawn': 288, 'Mate': None},\n",
       "   {'Move': 'd4b3', 'Centipawn': 267, 'Mate': None},\n",
       "   {'Move': 'h2h3', 'Centipawn': 242, 'Mate': None},\n",
       "   {'Move': 'd4b5', 'Centipawn': 223, 'Mate': None}],\n",
       "  [{'Move': 'c6d4', 'Centipawn': 195, 'Mate': None},\n",
       "   {'Move': 'c5d4', 'Centipawn': 202, 'Mate': None},\n",
       "   {'Move': 'e6e5', 'Centipawn': 220, 'Mate': None},\n",
       "   {'Move': 'a7a5', 'Centipawn': 230, 'Mate': None},\n",
       "   {'Move': 'c8d7', 'Centipawn': 276, 'Mate': None}],\n",
       "  [{'Move': 'b1g6', 'Centipawn': 276, 'Mate': None},\n",
       "   {'Move': 'd4c6', 'Centipawn': 245, 'Mate': None},\n",
       "   {'Move': 'a2a3', 'Centipawn': 228, 'Mate': None},\n",
       "   {'Move': 'g3h4', 'Centipawn': 228, 'Mate': None},\n",
       "   {'Move': 'd4b3', 'Centipawn': 222, 'Mate': None}],\n",
       "  [{'Move': 'c5d4', 'Centipawn': 186, 'Mate': None},\n",
       "   {'Move': 'c6d4', 'Centipawn': 210, 'Mate': None},\n",
       "   {'Move': 'c6e5', 'Centipawn': 272, 'Mate': None},\n",
       "   {'Move': 'a8d8', 'Centipawn': 276, 'Mate': None},\n",
       "   {'Move': 'b6d8', 'Centipawn': 327, 'Mate': None}],\n",
       "  [{'Move': 'g3e5', 'Centipawn': 204, 'Mate': None},\n",
       "   {'Move': 'e2e5', 'Centipawn': 21, 'Mate': None},\n",
       "   {'Move': 'b2b4', 'Centipawn': -257, 'Mate': None},\n",
       "   {'Move': 'g3h4', 'Centipawn': -385, 'Mate': None},\n",
       "   {'Move': 'e2c2', 'Centipawn': -444, 'Mate': None}],\n",
       "  [{'Move': 'e8f8', 'Centipawn': 202, 'Mate': None},\n",
       "   {'Move': 'c5e7', 'Centipawn': 229, 'Mate': None},\n",
       "   {'Move': 'e8e7', 'Centipawn': 250, 'Mate': None},\n",
       "   {'Move': 'b6a6', 'Centipawn': 271, 'Mate': None},\n",
       "   {'Move': 'g8f8', 'Centipawn': 276, 'Mate': None}],\n",
       "  [{'Move': 'b2b4', 'Centipawn': 242, 'Mate': None},\n",
       "   {'Move': 'h2h3', 'Centipawn': 233, 'Mate': None},\n",
       "   {'Move': 'b2b3', 'Centipawn': 217, 'Mate': None},\n",
       "   {'Move': 'a2a3', 'Centipawn': 204, 'Mate': None},\n",
       "   {'Move': 'f2f4', 'Centipawn': 198, 'Mate': None}],\n",
       "  [{'Move': 'c5d6', 'Centipawn': 163, 'Mate': None},\n",
       "   {'Move': 'a8c8', 'Centipawn': 169, 'Mate': None},\n",
       "   {'Move': 'a7a5', 'Centipawn': 206, 'Mate': None},\n",
       "   {'Move': 'a8e8', 'Centipawn': 213, 'Mate': None},\n",
       "   {'Move': 'f8f7', 'Centipawn': 222, 'Mate': None}],\n",
       "  [{'Move': 'e1e4', 'Centipawn': 534, 'Mate': None},\n",
       "   {'Move': 'f2f3', 'Centipawn': 319, 'Mate': None},\n",
       "   {'Move': 'f2f4', 'Centipawn': 200, 'Mate': None},\n",
       "   {'Move': 'b2b4', 'Centipawn': 162, 'Mate': None},\n",
       "   {'Move': 'e5g3', 'Centipawn': 144, 'Mate': None}],\n",
       "  [{'Move': 'e4f6', 'Centipawn': 261, 'Mate': None},\n",
       "   {'Move': 'f8f5', 'Centipawn': 264, 'Mate': None},\n",
       "   {'Move': 'c5d6', 'Centipawn': 350, 'Mate': None},\n",
       "   {'Move': 'b6a6', 'Centipawn': 361, 'Mate': None},\n",
       "   {'Move': 'c5d4', 'Centipawn': 466, 'Mate': None}],\n",
       "  [{'Move': 'b2b4', 'Centipawn': 312, 'Mate': None},\n",
       "   {'Move': 'e5g7', 'Centipawn': 189, 'Mate': None},\n",
       "   {'Move': 'e1e4', 'Centipawn': 137, 'Mate': None},\n",
       "   {'Move': 'f3f4', 'Centipawn': 114, 'Mate': None},\n",
       "   {'Move': 'g1h1', 'Centipawn': 86, 'Mate': None}],\n",
       "  [{'Move': 'f5e5', 'Centipawn': 55, 'Mate': None},\n",
       "   {'Move': 'f5g5', 'Centipawn': 560, 'Mate': None},\n",
       "   {'Move': 'd5e4', 'Centipawn': 644, 'Mate': None},\n",
       "   {'Move': 'd7a4', 'Centipawn': 691, 'Mate': None},\n",
       "   {'Move': 'f5h5', 'Centipawn': 696, 'Mate': None}],\n",
       "  [{'Move': 'b2b4', 'Centipawn': 56, 'Mate': None},\n",
       "   {'Move': 'g1h1', 'Centipawn': 55, 'Mate': None},\n",
       "   {'Move': 'a2a4', 'Centipawn': -9, 'Mate': None},\n",
       "   {'Move': 'h2h3', 'Centipawn': -19, 'Mate': None},\n",
       "   {'Move': 'e4d5', 'Centipawn': -24, 'Mate': None}],\n",
       "  [{'Move': 'e5e1', 'Centipawn': 139, 'Mate': None},\n",
       "   {'Move': 'c5d4', 'Centipawn': 139, 'Mate': None},\n",
       "   {'Move': 'e5d5', 'Centipawn': 362, 'Mate': None},\n",
       "   {'Move': 'e5f5', 'Centipawn': 424, 'Mate': None},\n",
       "   {'Move': 'd7a4', 'Centipawn': 518, 'Mate': None}],\n",
       "  [{'Move': 'c3d4', 'Centipawn': 139, 'Mate': None},\n",
       "   {'Move': 'g1h1', 'Centipawn': -65, 'Mate': None},\n",
       "   {'Move': 'd1d4', 'Centipawn': -81, 'Mate': None},\n",
       "   {'Move': 'e1e3', 'Centipawn': -671, 'Mate': None},\n",
       "   {'Move': 'c2f2', 'Centipawn': -1691, 'Mate': None}],\n",
       "  [{'Move': 'e5e1', 'Centipawn': 244, 'Mate': None},\n",
       "   {'Move': 'e5g5', 'Centipawn': 496, 'Mate': None},\n",
       "   {'Move': 'b6d4', 'Centipawn': 583, 'Mate': None},\n",
       "   {'Move': 'e5d5', 'Centipawn': 665, 'Mate': None},\n",
       "   {'Move': 'e5f5', 'Centipawn': 814, 'Mate': None}],\n",
       "  [{'Move': 'd1e1', 'Centipawn': 288, 'Mate': None},\n",
       "   {'Move': 'g1f2', 'Centipawn': -937, 'Mate': None}],\n",
       "  [{'Move': 'b6d4', 'Centipawn': 246, 'Mate': None},\n",
       "   {'Move': 'd7b5', 'Centipawn': 458, 'Mate': None},\n",
       "   {'Move': 'g8f8', 'Centipawn': 541, 'Mate': None},\n",
       "   {'Move': 'a8e8', 'Centipawn': 561, 'Mate': None},\n",
       "   {'Move': 'a8c8', 'Centipawn': 676, 'Mate': None}],\n",
       "  [{'Move': 'g1h1', 'Centipawn': 246, 'Mate': None},\n",
       "   {'Move': 'c2f2', 'Centipawn': -135, 'Mate': None},\n",
       "   {'Move': 'g1f1', 'Centipawn': -305, 'Mate': None},\n",
       "   {'Move': 'e1e3', 'Centipawn': -955, 'Mate': None}],\n",
       "  [{'Move': 'e6d5', 'Centipawn': 198, 'Mate': None},\n",
       "   {'Move': 'a8c8', 'Centipawn': 228, 'Mate': None},\n",
       "   {'Move': 'd4d5', 'Centipawn': 239, 'Mate': None},\n",
       "   {'Move': 'd4f6', 'Centipawn': 260, 'Mate': None},\n",
       "   {'Move': 'd7a4', 'Centipawn': 441, 'Mate': None}],\n",
       "  [{'Move': 'd5e6', 'Centipawn': 581, 'Mate': None},\n",
       "   {'Move': 'e1f1', 'Centipawn': 361, 'Mate': None},\n",
       "   {'Move': 'e1d1', 'Centipawn': 239, 'Mate': None},\n",
       "   {'Move': 'd5d6', 'Centipawn': 215, 'Mate': None},\n",
       "   {'Move': 'c2h7', 'Centipawn': 176, 'Mate': None}],\n",
       "  [{'Move': 'd7e8', 'Centipawn': 553, 'Mate': None},\n",
       "   {'Move': 'd7e6', 'Centipawn': 816, 'Mate': None},\n",
       "   {'Move': 'a8e8', 'Centipawn': 892, 'Mate': None},\n",
       "   {'Move': 'd7a4', 'Centipawn': 951, 'Mate': None},\n",
       "   {'Move': 'd7c6', 'Centipawn': 958, 'Mate': None}],\n",
       "  [{'Move': 'e6e7', 'Centipawn': 958, 'Mate': None},\n",
       "   {'Move': 'c2g6', 'Centipawn': 430, 'Mate': None},\n",
       "   {'Move': 'c2f5', 'Centipawn': 430, 'Mate': None},\n",
       "   {'Move': 'e1f1', 'Centipawn': 351, 'Mate': None},\n",
       "   {'Move': 'h2h3', 'Centipawn': 325, 'Mate': None}],\n",
       "  [{'Move': 'f8e7', 'Centipawn': 228, 'Mate': None},\n",
       "   {'Move': 'f8e8', 'Centipawn': 378, 'Mate': None},\n",
       "   {'Move': 'd4f6', 'Centipawn': 941, 'Mate': None},\n",
       "   {'Move': 'c6f3', 'Centipawn': 945, 'Mate': None},\n",
       "   {'Move': 'd4f4', 'Centipawn': 1203, 'Mate': None}],\n",
       "  [{'Move': 'c2b3', 'Centipawn': 308, 'Mate': None},\n",
       "   {'Move': 'f1d1', 'Centipawn': 225, 'Mate': None},\n",
       "   {'Move': 'f1f7', 'Centipawn': 205, 'Mate': None},\n",
       "   {'Move': 'c2f5', 'Centipawn': 165, 'Mate': None},\n",
       "   {'Move': 'h2h3', 'Centipawn': 66, 'Mate': None}],\n",
       "  [{'Move': 'a8f8', 'Centipawn': 17, 'Mate': None},\n",
       "   {'Move': 'a8e8', 'Centipawn': 241, 'Mate': None},\n",
       "   {'Move': 'e7d6', 'Centipawn': 290, 'Mate': None},\n",
       "   {'Move': 'a7a5', 'Centipawn': 310, 'Mate': None},\n",
       "   {'Move': 'a7a6', 'Centipawn': 355, 'Mate': None}],\n",
       "  [{'Move': 'b1f5', 'Centipawn': 275, 'Mate': None},\n",
       "   {'Move': 'g6g3', 'Centipawn': 260, 'Mate': None},\n",
       "   {'Move': 'h2h3', 'Centipawn': 257, 'Mate': None},\n",
       "   {'Move': 'b1d3', 'Centipawn': 246, 'Mate': None},\n",
       "   {'Move': 'g6f7', 'Centipawn': 229, 'Mate': None}],\n",
       "  [{'Move': 'd4b2', 'Centipawn': 83, 'Mate': None},\n",
       "   {'Move': 'd4e5', 'Centipawn': 175, 'Mate': None},\n",
       "   {'Move': 'e8c8', 'Centipawn': 346, 'Mate': None},\n",
       "   {'Move': 'd4e3', 'Centipawn': 351, 'Mate': None},\n",
       "   {'Move': 'd4d2', 'Centipawn': 488, 'Mate': None}],\n",
       "  [{'Move': 'f1d1', 'Centipawn': 603, 'Mate': None},\n",
       "   {'Move': 'e6e7', 'Centipawn': 240, 'Mate': None},\n",
       "   {'Move': 'f1e1', 'Centipawn': 239, 'Mate': None},\n",
       "   {'Move': 'c2f5', 'Centipawn': 203, 'Mate': None},\n",
       "   {'Move': 'c2b3', 'Centipawn': 153, 'Mate': None}],\n",
       "  [{'Move': 'd4d1', 'Centipawn': 716, 'Mate': None},\n",
       "   {'Move': 'd4d5', 'Centipawn': 830, 'Mate': None},\n",
       "   {'Move': 'd6c5', 'Centipawn': 874, 'Mate': None},\n",
       "   {'Move': 'e8e6', 'Centipawn': 909, 'Mate': None},\n",
       "   {'Move': 'c6g2', 'Centipawn': 973, 'Mate': None}],\n",
       "  [{'Move': 'c2d1', 'Centipawn': 777, 'Mate': None}],\n",
       "  [{'Move': 'e8e6', 'Centipawn': 820, 'Mate': None},\n",
       "   {'Move': 'a7a6', 'Centipawn': 851, 'Mate': None},\n",
       "   {'Move': 'c6d5', 'Centipawn': 852, 'Mate': None},\n",
       "   {'Move': 'a7a5', 'Centipawn': 861, 'Mate': None},\n",
       "   {'Move': 'h6h5', 'Centipawn': 875, 'Mate': None}],\n",
       "  [{'Move': 'g6d3', 'Centipawn': 751, 'Mate': None},\n",
       "   {'Move': 'g6g3', 'Centipawn': 729, 'Mate': None},\n",
       "   {'Move': 'd1h5', 'Centipawn': -85, 'Mate': None},\n",
       "   {'Move': 'd1c2', 'Centipawn': -85, 'Mate': None},\n",
       "   {'Move': 'g6e6', 'Centipawn': -145, 'Mate': None}],\n",
       "  [{'Move': 'd6c5', 'Centipawn': 811, 'Mate': None},\n",
       "   {'Move': 'd6e7', 'Centipawn': 827, 'Mate': None},\n",
       "   {'Move': 'e6e5', 'Centipawn': 852, 'Mate': None},\n",
       "   {'Move': 'd6d5', 'Centipawn': 860, 'Mate': None},\n",
       "   {'Move': 'd6d7', 'Centipawn': 885, 'Mate': None}],\n",
       "  [{'Move': 'h2h4', 'Centipawn': 866, 'Mate': None},\n",
       "   {'Move': 'h1g1', 'Centipawn': 816, 'Mate': None},\n",
       "   {'Move': 'h2h3', 'Centipawn': 809, 'Mate': None},\n",
       "   {'Move': 'd1g4', 'Centipawn': 771, 'Mate': None},\n",
       "   {'Move': 'd1b3', 'Centipawn': 731, 'Mate': None}],\n",
       "  [{'Move': 'g7g5', 'Centipawn': 788, 'Mate': None},\n",
       "   {'Move': 'g7g6', 'Centipawn': 806, 'Mate': None},\n",
       "   {'Move': 'e7f8', 'Centipawn': 812, 'Mate': None},\n",
       "   {'Move': 'e7f7', 'Centipawn': 838, 'Mate': None},\n",
       "   {'Move': 'e7f6', 'Centipawn': 851, 'Mate': None}],\n",
       "  [{'Move': 'g3a3', 'Centipawn': 810, 'Mate': None},\n",
       "   {'Move': 'h1h2', 'Centipawn': 790, 'Mate': None},\n",
       "   {'Move': 'd1g4', 'Centipawn': 772, 'Mate': None},\n",
       "   {'Move': 'g3c7', 'Centipawn': 769, 'Mate': None},\n",
       "   {'Move': 'g3c3', 'Centipawn': 755, 'Mate': None}],\n",
       "  [{'Move': 'c6f3', 'Centipawn': 696, 'Mate': None},\n",
       "   {'Move': 'h6h5', 'Centipawn': 736, 'Mate': None},\n",
       "   {'Move': 'a7a5', 'Centipawn': 752, 'Mate': None},\n",
       "   {'Move': 'a7a6', 'Centipawn': 759, 'Mate': None},\n",
       "   {'Move': 'g6g5', 'Centipawn': 762, 'Mate': None}],\n",
       "  [{'Move': 'g3f3', 'Centipawn': 731, 'Mate': None},\n",
       "   {'Move': 'g2f3', 'Centipawn': 664, 'Mate': None},\n",
       "   {'Move': 'g3c7', 'Centipawn': 590, 'Mate': None},\n",
       "   {'Move': 'g3f4', 'Centipawn': 387, 'Mate': None},\n",
       "   {'Move': 'h1h2', 'Centipawn': 234, 'Mate': None}],\n",
       "  [{'Move': 'b7b6', 'Centipawn': 708, 'Mate': None},\n",
       "   {'Move': 'e6b6', 'Centipawn': 728, 'Mate': None},\n",
       "   {'Move': 'b7b5', 'Centipawn': 731, 'Mate': None},\n",
       "   {'Move': 'a7a6', 'Centipawn': 745, 'Mate': None},\n",
       "   {'Move': 'g6g5', 'Centipawn': 748, 'Mate': None}],\n",
       "  [{'Move': 'f3c3', 'Centipawn': 745, 'Mate': None},\n",
       "   {'Move': 'f3a3', 'Centipawn': 732, 'Mate': None},\n",
       "   {'Move': 'f3e3', 'Centipawn': 730, 'Mate': None},\n",
       "   {'Move': 'f3g4', 'Centipawn': 729, 'Mate': None},\n",
       "   {'Move': 'f3e4', 'Centipawn': 721, 'Mate': None}]],\n",
       " [[{'Move': 'e2e4', 'Centipawn': 53, 'Mate': None},\n",
       "   {'Move': 'd2d4', 'Centipawn': 51, 'Mate': None},\n",
       "   {'Move': 'c2c4', 'Centipawn': 36, 'Mate': None},\n",
       "   {'Move': 'g1f3', 'Centipawn': 32, 'Mate': None},\n",
       "   {'Move': 'g2g3', 'Centipawn': 23, 'Mate': None}],\n",
       "  [{'Move': 'e7e6', 'Centipawn': 24, 'Mate': None},\n",
       "   {'Move': 'e7e5', 'Centipawn': 24, 'Mate': None},\n",
       "   {'Move': 'g8f6', 'Centipawn': 25, 'Mate': None},\n",
       "   {'Move': 'c7c5', 'Centipawn': 32, 'Mate': None},\n",
       "   {'Move': 'b8c6', 'Centipawn': 40, 'Mate': None}],\n",
       "  [{'Move': 'd2d4', 'Centipawn': 47, 'Mate': None},\n",
       "   {'Move': 'g1f3', 'Centipawn': 36, 'Mate': None},\n",
       "   {'Move': 'b1c3', 'Centipawn': 35, 'Mate': None},\n",
       "   {'Move': 'e2e3', 'Centipawn': 25, 'Mate': None},\n",
       "   {'Move': 'g2g3', 'Centipawn': 22, 'Mate': None}],\n",
       "  [{'Move': 'd7d5', 'Centipawn': 27, 'Mate': None},\n",
       "   {'Move': 'g8f6', 'Centipawn': 29, 'Mate': None},\n",
       "   {'Move': 'c7c5', 'Centipawn': 30, 'Mate': None},\n",
       "   {'Move': 'c7c6', 'Centipawn': 33, 'Mate': None},\n",
       "   {'Move': 'b8c6', 'Centipawn': 46, 'Mate': None}],\n",
       "  [{'Move': 'd2d4', 'Centipawn': 40, 'Mate': None},\n",
       "   {'Move': 'e2e3', 'Centipawn': 18, 'Mate': None},\n",
       "   {'Move': 'c4d5', 'Centipawn': 15, 'Mate': None},\n",
       "   {'Move': 'g2g3', 'Centipawn': -26, 'Mate': None},\n",
       "   {'Move': 'g1f3', 'Centipawn': -43, 'Mate': None}],\n",
       "  [{'Move': 'g8f6', 'Centipawn': 17, 'Mate': None},\n",
       "   {'Move': 'a7a6', 'Centipawn': 27, 'Mate': None},\n",
       "   {'Move': 'f8e7', 'Centipawn': 32, 'Mate': None},\n",
       "   {'Move': 'f8b4', 'Centipawn': 34, 'Mate': None},\n",
       "   {'Move': 'c7c6', 'Centipawn': 42, 'Mate': None}],\n",
       "  [{'Move': 'c4d5', 'Centipawn': 33, 'Mate': None},\n",
       "   {'Move': 'c1g5', 'Centipawn': 29, 'Mate': None},\n",
       "   {'Move': 'g1f3', 'Centipawn': 26, 'Mate': None},\n",
       "   {'Move': 'g2g3', 'Centipawn': 22, 'Mate': None},\n",
       "   {'Move': 'e2e3', 'Centipawn': 15, 'Mate': None}],\n",
       "  [{'Move': 'e6d5', 'Centipawn': 30, 'Mate': None},\n",
       "   {'Move': 'f6d5', 'Centipawn': 59, 'Mate': None},\n",
       "   {'Move': 'c7c5', 'Centipawn': 148, 'Mate': None},\n",
       "   {'Move': 'c7c6', 'Centipawn': 176, 'Mate': None},\n",
       "   {'Move': 'a7a6', 'Centipawn': 206, 'Mate': None}],\n",
       "  [{'Move': 'c1g5', 'Centipawn': 28, 'Mate': None},\n",
       "   {'Move': 'c1f4', 'Centipawn': 21, 'Mate': None},\n",
       "   {'Move': 'e2e3', 'Centipawn': 20, 'Mate': None},\n",
       "   {'Move': 'g1f3', 'Centipawn': 20, 'Mate': None},\n",
       "   {'Move': 'a2a3', 'Centipawn': 10, 'Mate': None}],\n",
       "  [{'Move': 'c7c6', 'Centipawn': 21, 'Mate': None},\n",
       "   {'Move': 'f8e7', 'Centipawn': 29, 'Mate': None},\n",
       "   {'Move': 'f8b4', 'Centipawn': 38, 'Mate': None},\n",
       "   {'Move': 'b8d7', 'Centipawn': 46, 'Mate': None},\n",
       "   {'Move': 'c8e6', 'Centipawn': 57, 'Mate': None}],\n",
       "  [{'Move': 'd1c2', 'Centipawn': 34, 'Mate': None},\n",
       "   {'Move': 'e2e3', 'Centipawn': 21, 'Mate': None},\n",
       "   {'Move': 'd1b3', 'Centipawn': 20, 'Mate': None},\n",
       "   {'Move': 'g1f3', 'Centipawn': 19, 'Mate': None},\n",
       "   {'Move': 'a2a3', 'Centipawn': 15, 'Mate': None}],\n",
       "  [{'Move': 'h7h6', 'Centipawn': 21, 'Mate': None},\n",
       "   {'Move': 'f8e7', 'Centipawn': 38, 'Mate': None},\n",
       "   {'Move': 'c8f5', 'Centipawn': 40, 'Mate': None},\n",
       "   {'Move': 'b8d7', 'Centipawn': 44, 'Mate': None},\n",
       "   {'Move': 'f8d6', 'Centipawn': 57, 'Mate': None}],\n",
       "  [{'Move': 'd1f3', 'Centipawn': 74, 'Mate': None},\n",
       "   {'Move': 'g5f6', 'Centipawn': 39, 'Mate': None},\n",
       "   {'Move': 'd1b3', 'Centipawn': 37, 'Mate': None},\n",
       "   {'Move': 'f1d3', 'Centipawn': 30, 'Mate': None},\n",
       "   {'Move': 'g1e2', 'Centipawn': 25, 'Mate': None}],\n",
       "  [{'Move': 'g7g6', 'Centipawn': -1, 'Mate': None},\n",
       "   {'Move': 'h7h6', 'Centipawn': 44, 'Mate': None},\n",
       "   {'Move': 'f5g6', 'Centipawn': 59, 'Mate': None},\n",
       "   {'Move': 'f5e6', 'Centipawn': 64, 'Mate': None},\n",
       "   {'Move': 'f5c8', 'Centipawn': 67, 'Mate': None}],\n",
       "  [{'Move': 'g5f6', 'Centipawn': 59, 'Mate': None},\n",
       "   {'Move': 'h2h4', 'Centipawn': 24, 'Mate': None},\n",
       "   {'Move': 'g1e2', 'Centipawn': -32, 'Mate': None},\n",
       "   {'Move': 'g1h3', 'Centipawn': -53, 'Mate': None},\n",
       "   {'Move': 'f3e2', 'Centipawn': -62, 'Mate': None}],\n",
       "  [{'Move': 'd8f6', 'Centipawn': 59, 'Mate': None},\n",
       "   {'Move': 'g7f6', 'Centipawn': 125, 'Mate': None},\n",
       "   {'Move': 'd8b6', 'Centipawn': 279, 'Mate': None},\n",
       "   {'Move': 'd8a5', 'Centipawn': 517, 'Mate': None},\n",
       "   {'Move': 'd8c7', 'Centipawn': 638, 'Mate': None}],\n",
       "  [{'Move': 'f3f6', 'Centipawn': 101, 'Mate': None},\n",
       "   {'Move': 'h2h4', 'Centipawn': 28, 'Mate': None},\n",
       "   {'Move': 'g1e2', 'Centipawn': -10, 'Mate': None},\n",
       "   {'Move': 'f1e2', 'Centipawn': -28, 'Mate': None},\n",
       "   {'Move': 'a2a3', 'Centipawn': -29, 'Mate': None}],\n",
       "  [{'Move': 'g7f6', 'Centipawn': 69, 'Mate': None},\n",
       "   {'Move': 'b8d7', 'Centipawn': 1025, 'Mate': None},\n",
       "   {'Move': 'a7a5', 'Centipawn': 1115, 'Mate': None},\n",
       "   {'Move': 'b8a6', 'Centipawn': 1200, 'Mate': None},\n",
       "   {'Move': 'h7h5', 'Centipawn': 1250, 'Mate': None}],\n",
       "  [{'Move': 'h2h4', 'Centipawn': 78, 'Mate': None},\n",
       "   {'Move': 'g2g3', 'Centipawn': 70, 'Mate': None},\n",
       "   {'Move': 'g1e2', 'Centipawn': 64, 'Mate': None},\n",
       "   {'Move': 'a2a3', 'Centipawn': 49, 'Mate': None},\n",
       "   {'Move': 'f1e2', 'Centipawn': 49, 'Mate': None}],\n",
       "  [{'Move': 'h7h5', 'Centipawn': 55, 'Mate': None},\n",
       "   {'Move': 'b8d7', 'Centipawn': 55, 'Mate': None},\n",
       "   {'Move': 'h8g8', 'Centipawn': 59, 'Mate': None},\n",
       "   {'Move': 'f8d6', 'Centipawn': 60, 'Mate': None},\n",
       "   {'Move': 'b8a6', 'Centipawn': 68, 'Mate': None}],\n",
       "  [{'Move': 'h2h4', 'Centipawn': 60, 'Mate': None},\n",
       "   {'Move': 'g2g3', 'Centipawn': 49, 'Mate': None},\n",
       "   {'Move': 'e1d2', 'Centipawn': 42, 'Mate': None},\n",
       "   {'Move': 'a2a3', 'Centipawn': 39, 'Mate': None},\n",
       "   {'Move': 'a1c1', 'Centipawn': 31, 'Mate': None}],\n",
       "  [{'Move': 'b8d7', 'Centipawn': 26, 'Mate': None},\n",
       "   {'Move': 'h8g8', 'Centipawn': 35, 'Mate': None},\n",
       "   {'Move': 'h7h5', 'Centipawn': 40, 'Mate': None},\n",
       "   {'Move': 'b8a6', 'Centipawn': 46, 'Mate': None},\n",
       "   {'Move': 'e8e7', 'Centipawn': 55, 'Mate': None}],\n",
       "  [{'Move': 'h2h4', 'Centipawn': 26, 'Mate': None},\n",
       "   {'Move': 'e2f4', 'Centipawn': 26, 'Mate': None},\n",
       "   {'Move': 'g2g3', 'Centipawn': 24, 'Mate': None},\n",
       "   {'Move': 'e2c1', 'Centipawn': 16, 'Mate': None},\n",
       "   {'Move': 'a1e1', 'Centipawn': 9, 'Mate': None}],\n",
       "  [{'Move': 'd7b6', 'Centipawn': 0, 'Mate': None},\n",
       "   {'Move': 'h7h5', 'Centipawn': 0, 'Mate': None},\n",
       "   {'Move': 'd7f8', 'Centipawn': 11, 'Mate': None},\n",
       "   {'Move': 'h8g8', 'Centipawn': 21, 'Mate': None},\n",
       "   {'Move': 'f6f5', 'Centipawn': 22, 'Mate': None}],\n",
       "  [{'Move': 'e2f4', 'Centipawn': 28, 'Mate': None},\n",
       "   {'Move': 'h2h4', 'Centipawn': 26, 'Mate': None},\n",
       "   {'Move': 'g2g3', 'Centipawn': 20, 'Mate': None},\n",
       "   {'Move': 'd2e1', 'Centipawn': 8, 'Mate': None},\n",
       "   {'Move': 'f2f3', 'Centipawn': 2, 'Mate': None}],\n",
       "  [{'Move': 'd7f6', 'Centipawn': 21, 'Mate': None},\n",
       "   {'Move': 'd7f8', 'Centipawn': 28, 'Mate': None},\n",
       "   {'Move': 'g6h5', 'Centipawn': 31, 'Mate': None},\n",
       "   {'Move': 'd7b6', 'Centipawn': 37, 'Mate': None},\n",
       "   {'Move': 'h8g8', 'Centipawn': 39, 'Mate': None}],\n",
       "  [{'Move': 'e2f4', 'Centipawn': 37, 'Mate': None},\n",
       "   {'Move': 'd2e1', 'Centipawn': 23, 'Mate': None},\n",
       "   {'Move': 'f1g2', 'Centipawn': 14, 'Mate': None},\n",
       "   {'Move': 'f2f3', 'Centipawn': 13, 'Mate': None},\n",
       "   {'Move': 'a2a3', 'Centipawn': 12, 'Mate': None}],\n",
       "  [{'Move': 'e8d7', 'Centipawn': 26, 'Mate': None},\n",
       "   {'Move': 'e8e7', 'Centipawn': 27, 'Mate': None},\n",
       "   {'Move': 'd6f4', 'Centipawn': 31, 'Mate': None},\n",
       "   {'Move': 'a7a5', 'Centipawn': 32, 'Mate': None},\n",
       "   {'Move': 'f6e4', 'Centipawn': 32, 'Mate': None}],\n",
       "  [{'Move': 'd2e1', 'Centipawn': 38, 'Mate': None},\n",
       "   {'Move': 'd2e2', 'Centipawn': 34, 'Mate': None},\n",
       "   {'Move': 'c3e4', 'Centipawn': -68, 'Mate': None},\n",
       "   {'Move': 'd2c2', 'Centipawn': -362, 'Mate': None},\n",
       "   {'Move': 'd2d3', 'Centipawn': -750, 'Mate': None}],\n",
       "  [{'Move': 'd6f4', 'Centipawn': 24, 'Mate': None},\n",
       "   {'Move': 'e8d7', 'Centipawn': 31, 'Mate': None},\n",
       "   {'Move': 'e8d8', 'Centipawn': 39, 'Mate': None},\n",
       "   {'Move': 'e8e7', 'Centipawn': 40, 'Mate': None},\n",
       "   {'Move': 'a8b8', 'Centipawn': 46, 'Mate': None}],\n",
       "  [{'Move': 'g3f4', 'Centipawn': 36, 'Mate': None},\n",
       "   {'Move': 'e3f4', 'Centipawn': -2, 'Mate': None},\n",
       "   {'Move': 'c3e4', 'Centipawn': -39, 'Mate': None},\n",
       "   {'Move': 'c3d5', 'Centipawn': -604, 'Mate': None},\n",
       "   {'Move': 'f1g2', 'Centipawn': -664, 'Mate': None}],\n",
       "  [{'Move': 'h8g8', 'Centipawn': 1, 'Mate': None},\n",
       "   {'Move': 'e8d7', 'Centipawn': 9, 'Mate': None},\n",
       "   {'Move': 'e8e7', 'Centipawn': 9, 'Mate': None},\n",
       "   {'Move': 'g6h5', 'Centipawn': 10, 'Mate': None},\n",
       "   {'Move': 'a8b8', 'Centipawn': 37, 'Mate': None}],\n",
       "  [{'Move': 'f2f3', 'Centipawn': 14, 'Mate': None},\n",
       "   {'Move': 'e2e1', 'Centipawn': 2, 'Mate': None},\n",
       "   {'Move': 'e2d3', 'Centipawn': -843, 'Mate': None}],\n",
       "  [{'Move': 'e8e7', 'Centipawn': 13, 'Mate': None},\n",
       "   {'Move': 'e8d7', 'Centipawn': 19, 'Mate': None},\n",
       "   {'Move': 'h8f8', 'Centipawn': 21, 'Mate': None},\n",
       "   {'Move': 'h8g8', 'Centipawn': 26, 'Mate': None},\n",
       "   {'Move': 'h7h6', 'Centipawn': 59, 'Mate': None}],\n",
       "  [{'Move': 'e2f2', 'Centipawn': 98, 'Mate': None},\n",
       "   {'Move': 'c3a4', 'Centipawn': 87, 'Mate': None},\n",
       "   {'Move': 'h1g1', 'Centipawn': 65, 'Mate': None},\n",
       "   {'Move': 'a2a3', 'Centipawn': 61, 'Mate': None},\n",
       "   {'Move': 'h2h4', 'Centipawn': 60, 'Mate': None}],\n",
       "  [{'Move': 'b7b5', 'Centipawn': 57, 'Mate': None},\n",
       "   {'Move': 'h8g8', 'Centipawn': 58, 'Mate': None},\n",
       "   {'Move': 'f7f6', 'Centipawn': 62, 'Mate': None},\n",
       "   {'Move': 'd6e4', 'Centipawn': 64, 'Mate': None},\n",
       "   {'Move': 'e8f8', 'Centipawn': 66, 'Mate': None}],\n",
       "  [{'Move': 'e2f2', 'Centipawn': 65, 'Mate': None},\n",
       "   {'Move': 'g2h3', 'Centipawn': 43, 'Mate': None},\n",
       "   {'Move': 'c3a4', 'Centipawn': 42, 'Mate': None},\n",
       "   {'Move': 'h1g1', 'Centipawn': 39, 'Mate': None},\n",
       "   {'Move': 'b2b3', 'Centipawn': 38, 'Mate': None}],\n",
       "  [{'Move': 'a7a5', 'Centipawn': 43, 'Mate': None},\n",
       "   {'Move': 'a8g8', 'Centipawn': 45, 'Mate': None},\n",
       "   {'Move': 'h7h6', 'Centipawn': 51, 'Mate': None},\n",
       "   {'Move': 'a8f8', 'Centipawn': 51, 'Mate': None},\n",
       "   {'Move': 'h8g8', 'Centipawn': 55, 'Mate': None}],\n",
       "  [{'Move': 'g2f1', 'Centipawn': 94, 'Mate': None},\n",
       "   {'Move': 'b2b3', 'Centipawn': 66, 'Mate': None},\n",
       "   {'Move': 'c3a4', 'Centipawn': 64, 'Mate': None},\n",
       "   {'Move': 'h1g1', 'Centipawn': 61, 'Mate': None},\n",
       "   {'Move': 'h2h4', 'Centipawn': 50, 'Mate': None}],\n",
       "  [{'Move': 'a8c8', 'Centipawn': 79, 'Mate': None},\n",
       "   {'Move': 'a8g8', 'Centipawn': 88, 'Mate': None},\n",
       "   {'Move': 'f6e7', 'Centipawn': 88, 'Mate': None},\n",
       "   {'Move': 'h8g8', 'Centipawn': 89, 'Mate': None},\n",
       "   {'Move': 'a8e8', 'Centipawn': 98, 'Mate': None}],\n",
       "  [{'Move': 'b2b4', 'Centipawn': 110, 'Mate': None},\n",
       "   {'Move': 'c3a4', 'Centipawn': 107, 'Mate': None},\n",
       "   {'Move': 'f1d3', 'Centipawn': 107, 'Mate': None},\n",
       "   {'Move': 'f1e2', 'Centipawn': 81, 'Mate': None},\n",
       "   {'Move': 'h1g1', 'Centipawn': 69, 'Mate': None}],\n",
       "  [{'Move': 'e8g8', 'Centipawn': 83, 'Mate': None},\n",
       "   {'Move': 'h8g8', 'Centipawn': 95, 'Mate': None},\n",
       "   {'Move': 'a7a5', 'Centipawn': 101, 'Mate': None},\n",
       "   {'Move': 'e8d8', 'Centipawn': 104, 'Mate': None},\n",
       "   {'Move': 'h8f8', 'Centipawn': 105, 'Mate': None}],\n",
       "  [{'Move': 'a2a4', 'Centipawn': 151, 'Mate': None},\n",
       "   {'Move': 'c3e2', 'Centipawn': 134, 'Mate': None},\n",
       "   {'Move': 'b2b3', 'Centipawn': 130, 'Mate': None},\n",
       "   {'Move': 'h2h4', 'Centipawn': 103, 'Mate': None},\n",
       "   {'Move': 'b2b4', 'Centipawn': 95, 'Mate': None}],\n",
       "  [{'Move': 'd6c4', 'Centipawn': 53, 'Mate': None},\n",
       "   {'Move': 'e8c8', 'Centipawn': 103, 'Mate': None},\n",
       "   {'Move': 'e8e6', 'Centipawn': 153, 'Mate': None},\n",
       "   {'Move': 'h8g8', 'Centipawn': 347, 'Mate': None},\n",
       "   {'Move': 'b5b4', 'Centipawn': 435, 'Mate': None}],\n",
       "  [{'Move': 'h1e1', 'Centipawn': 147, 'Mate': None},\n",
       "   {'Move': 'd3e2', 'Centipawn': 98, 'Mate': None},\n",
       "   {'Move': 'd3c4', 'Centipawn': 2, 'Mate': None},\n",
       "   {'Move': 'c1c3', 'Centipawn': -26, 'Mate': None},\n",
       "   {'Move': 'h1f1', 'Centipawn': -44, 'Mate': None}],\n",
       "  [{'Move': 'c4b2', 'Centipawn': 69, 'Mate': None},\n",
       "   {'Move': 'e8e6', 'Centipawn': 92, 'Mate': None},\n",
       "   {'Move': 'e8c8', 'Centipawn': 128, 'Mate': None},\n",
       "   {'Move': 'h5g6', 'Centipawn': 150, 'Mate': None},\n",
       "   {'Move': 'c4a5', 'Centipawn': 150, 'Mate': None}],\n",
       "  [{'Move': 'd3c4', 'Centipawn': 146, 'Mate': None},\n",
       "   {'Move': 'b2b3', 'Centipawn': 121, 'Mate': None},\n",
       "   {'Move': 'e1e2', 'Centipawn': 102, 'Mate': None},\n",
       "   {'Move': 'c1c2', 'Centipawn': 93, 'Mate': None},\n",
       "   {'Move': 'b2b4', 'Centipawn': 35, 'Mate': None}],\n",
       "  [{'Move': 'c4d6', 'Centipawn': 116, 'Mate': None},\n",
       "   {'Move': 'c4a5', 'Centipawn': 136, 'Mate': None},\n",
       "   {'Move': 'c4b6', 'Centipawn': 140, 'Mate': None},\n",
       "   {'Move': 'c8b8', 'Centipawn': 390, 'Mate': None},\n",
       "   {'Move': 'h8g8', 'Centipawn': 476, 'Mate': None}],\n",
       "  [{'Move': 'c1c2', 'Centipawn': 170, 'Mate': None},\n",
       "   {'Move': 'e1e2', 'Centipawn': 170, 'Mate': None},\n",
       "   {'Move': 'c1c5', 'Centipawn': 153, 'Mate': None},\n",
       "   {'Move': 'c1c3', 'Centipawn': 125, 'Mate': None},\n",
       "   {'Move': 'd3e2', 'Centipawn': 111, 'Mate': None}],\n",
       "  [{'Move': 'b6d7', 'Centipawn': 147, 'Mate': None},\n",
       "   {'Move': 'f6e7', 'Centipawn': 324, 'Mate': None},\n",
       "   {'Move': 'h5g6', 'Centipawn': 363, 'Mate': None},\n",
       "   {'Move': 'h8e8', 'Centipawn': 367, 'Mate': None},\n",
       "   {'Move': 'b5b4', 'Centipawn': 367, 'Mate': None}],\n",
       "  [{'Move': 'c5c2', 'Centipawn': 163, 'Mate': None},\n",
       "   {'Move': 'c5c3', 'Centipawn': 132, 'Mate': None},\n",
       "   {'Move': 'c5c1', 'Centipawn': 129, 'Mate': None},\n",
       "   {'Move': 'b1c3', 'Centipawn': -230, 'Mate': None},\n",
       "   {'Move': 'e1c1', 'Centipawn': -287, 'Mate': None}],\n",
       "  [{'Move': 'a7a6', 'Centipawn': 142, 'Mate': None},\n",
       "   {'Move': 'd7b8', 'Centipawn': 173, 'Mate': None},\n",
       "   {'Move': 'b5b4', 'Centipawn': 218, 'Mate': None},\n",
       "   {'Move': 'c6c5', 'Centipawn': 357, 'Mate': None},\n",
       "   {'Move': 'h5g6', 'Centipawn': 389, 'Mate': None}],\n",
       "  [{'Move': 'd3b5', 'Centipawn': 441, 'Mate': None},\n",
       "   {'Move': 'e1c1', 'Centipawn': 440, 'Mate': None},\n",
       "   {'Move': 'a2a3', 'Centipawn': 203, 'Mate': None},\n",
       "   {'Move': 'd3f1', 'Centipawn': 182, 'Mate': None},\n",
       "   {'Move': 'b1c3', 'Centipawn': 177, 'Mate': None}],\n",
       "  [{'Move': 'h8c8', 'Centipawn': 459, 'Mate': None},\n",
       "   {'Move': 'd7b8', 'Centipawn': 460, 'Mate': None},\n",
       "   {'Move': 'f6e7', 'Centipawn': 476, 'Mate': None},\n",
       "   {'Move': 'b5b4', 'Centipawn': 476, 'Mate': None},\n",
       "   {'Move': 'f6g7', 'Centipawn': 481, 'Mate': None}],\n",
       "  [{'Move': 'd3b5', 'Centipawn': 489, 'Mate': None},\n",
       "   {'Move': 'b1c3', 'Centipawn': 383, 'Mate': None},\n",
       "   {'Move': 'd3f1', 'Centipawn': 288, 'Mate': None},\n",
       "   {'Move': 'a2a3', 'Centipawn': 258, 'Mate': None},\n",
       "   {'Move': 'a2a4', 'Centipawn': 171, 'Mate': None}],\n",
       "  [{'Move': 'd7b8', 'Centipawn': 508, 'Mate': None},\n",
       "   {'Move': 'h5g6', 'Centipawn': 642, 'Mate': None},\n",
       "   {'Move': 'f6e7', 'Centipawn': 644, 'Mate': None},\n",
       "   {'Move': 'f6g7', 'Centipawn': 648, 'Mate': None},\n",
       "   {'Move': 'd7b6', 'Centipawn': 656, 'Mate': None}],\n",
       "  [{'Move': 'c2c6', 'Centipawn': 637, 'Mate': None},\n",
       "   {'Move': 'b5a6', 'Centipawn': 523, 'Mate': None},\n",
       "   {'Move': 'b5d3', 'Centipawn': 481, 'Mate': None},\n",
       "   {'Move': 'b3b4', 'Centipawn': 474, 'Mate': None},\n",
       "   {'Move': 'b5f1', 'Centipawn': 417, 'Mate': None}],\n",
       "  [{'Move': 'e6d6', 'Centipawn': 500, 'Mate': None},\n",
       "   {'Move': 'd7b8', 'Centipawn': 517, 'Mate': None},\n",
       "   {'Move': 'c6c5', 'Centipawn': 527, 'Mate': None},\n",
       "   {'Move': 'd7f8', 'Centipawn': 613, 'Mate': None},\n",
       "   {'Move': 'd7b6', 'Centipawn': 630, 'Mate': None}],\n",
       "  [{'Move': 'd3a6', 'Centipawn': 717, 'Mate': None},\n",
       "   {'Move': 'b3b4', 'Centipawn': 469, 'Mate': None},\n",
       "   {'Move': 'h2h4', 'Centipawn': 432, 'Mate': None},\n",
       "   {'Move': 'b1c3', 'Centipawn': 402, 'Mate': None},\n",
       "   {'Move': 'a2a3', 'Centipawn': 386, 'Mate': None}],\n",
       "  [{'Move': 'e6d6', 'Centipawn': 486, 'Mate': None},\n",
       "   {'Move': 'c6c5', 'Centipawn': 489, 'Mate': None},\n",
       "   {'Move': 'd7b8', 'Centipawn': 492, 'Mate': None},\n",
       "   {'Move': 'd7b6', 'Centipawn': 561, 'Mate': None},\n",
       "   {'Move': 'd7f8', 'Centipawn': 567, 'Mate': None}],\n",
       "  [{'Move': 'd3a6', 'Centipawn': 692, 'Mate': None},\n",
       "   {'Move': 'b3b4', 'Centipawn': 487, 'Mate': None},\n",
       "   {'Move': 'b1a3', 'Centipawn': 479, 'Mate': None},\n",
       "   {'Move': 'b1c3', 'Centipawn': 440, 'Mate': None},\n",
       "   {'Move': 'd3f1', 'Centipawn': 440, 'Mate': None}],\n",
       "  [{'Move': 'a7a5', 'Centipawn': 462, 'Mate': None},\n",
       "   {'Move': 'c8e8', 'Centipawn': 471, 'Mate': None},\n",
       "   {'Move': 'c8b8', 'Centipawn': 493, 'Mate': None},\n",
       "   {'Move': 'c8a8', 'Centipawn': 530, 'Mate': None},\n",
       "   {'Move': 'd7b8', 'Centipawn': 541, 'Mate': None}],\n",
       "  [{'Move': 'd3a6', 'Centipawn': 705, 'Mate': None},\n",
       "   {'Move': 'b3b4', 'Centipawn': 479, 'Mate': None},\n",
       "   {'Move': 'c3e2', 'Centipawn': 462, 'Mate': None},\n",
       "   {'Move': 'f2e2', 'Centipawn': 458, 'Mate': None},\n",
       "   {'Move': 'f2g2', 'Centipawn': 436, 'Mate': None}],\n",
       "  [{'Move': 'a7a5', 'Centipawn': 394, 'Mate': None},\n",
       "   {'Move': 'c8b8', 'Centipawn': 471, 'Mate': None},\n",
       "   {'Move': 'c8g8', 'Centipawn': 480, 'Mate': None},\n",
       "   {'Move': 'c8e8', 'Centipawn': 494, 'Mate': None},\n",
       "   {'Move': 'd7f8', 'Centipawn': 497, 'Mate': None}],\n",
       "  [{'Move': 'a4c3', 'Centipawn': 561, 'Mate': None},\n",
       "   {'Move': 'd3a6', 'Centipawn': 514, 'Mate': None},\n",
       "   {'Move': 'd4c5', 'Centipawn': 404, 'Mate': None},\n",
       "   {'Move': 'a4c5', 'Centipawn': 404, 'Mate': None},\n",
       "   {'Move': 'c2c3', 'Centipawn': 385, 'Mate': None}]],\n",
       " [[{'Move': 'd2d4', 'Centipawn': 47, 'Mate': None},\n",
       "   {'Move': 'c2c4', 'Centipawn': 41, 'Mate': None},\n",
       "   {'Move': 'e2e4', 'Centipawn': 35, 'Mate': None},\n",
       "   {'Move': 'g1f3', 'Centipawn': 28, 'Mate': None},\n",
       "   {'Move': 'g2g3', 'Centipawn': 23, 'Mate': None}],\n",
       "  [{'Move': 'd7d5', 'Centipawn': 22, 'Mate': None},\n",
       "   {'Move': 'c7c5', 'Centipawn': 34, 'Mate': None},\n",
       "   {'Move': 'g8f6', 'Centipawn': 37, 'Mate': None},\n",
       "   {'Move': 'e7e6', 'Centipawn': 39, 'Mate': None},\n",
       "   {'Move': 'g7g6', 'Centipawn': 54, 'Mate': None}],\n",
       "  [{'Move': 'c2c4', 'Centipawn': 40, 'Mate': None},\n",
       "   {'Move': 'd2d4', 'Centipawn': 37, 'Mate': None},\n",
       "   {'Move': 'g2g3', 'Centipawn': 20, 'Mate': None},\n",
       "   {'Move': 'e2e3', 'Centipawn': 17, 'Mate': None},\n",
       "   {'Move': 'a2a3', 'Centipawn': -11, 'Mate': None}],\n",
       "  [{'Move': 'd7d5', 'Centipawn': 16, 'Mate': None},\n",
       "   {'Move': 'g7g6', 'Centipawn': 25, 'Mate': None},\n",
       "   {'Move': 'c7c6', 'Centipawn': 28, 'Mate': None},\n",
       "   {'Move': 'c7c5', 'Centipawn': 32, 'Mate': None},\n",
       "   {'Move': 'e7e6', 'Centipawn': 37, 'Mate': None}],\n",
       "  [{'Move': 'd2d4', 'Centipawn': 47, 'Mate': None},\n",
       "   {'Move': 'f1g2', 'Centipawn': 31, 'Mate': None},\n",
       "   {'Move': 'c2c4', 'Centipawn': 13, 'Mate': None},\n",
       "   {'Move': 'c2c3', 'Centipawn': 8, 'Mate': None},\n",
       "   {'Move': 'b2b3', 'Centipawn': 0, 'Mate': None}],\n",
       "  [{'Move': 'd5c4', 'Centipawn': -25, 'Mate': None},\n",
       "   {'Move': 'd5d4', 'Centipawn': 21, 'Mate': None},\n",
       "   {'Move': 'c7c6', 'Centipawn': 29, 'Mate': None},\n",
       "   {'Move': 'g7g6', 'Centipawn': 31, 'Mate': None},\n",
       "   {'Move': 'b8c6', 'Centipawn': 34, 'Mate': None}],\n",
       "  [{'Move': 'f1g2', 'Centipawn': 39, 'Mate': None},\n",
       "   {'Move': 'd2d4', 'Centipawn': 28, 'Mate': None},\n",
       "   {'Move': 'c4d5', 'Centipawn': 18, 'Mate': None},\n",
       "   {'Move': 'd1a4', 'Centipawn': 8, 'Mate': None},\n",
       "   {'Move': 'd1c2', 'Centipawn': 0, 'Mate': None}],\n",
       "  [{'Move': 'd5c4', 'Centipawn': 17, 'Mate': None},\n",
       "   {'Move': 'g7g6', 'Centipawn': 31, 'Mate': None},\n",
       "   {'Move': 'e7e6', 'Centipawn': 36, 'Mate': None},\n",
       "   {'Move': 'b8d7', 'Centipawn': 48, 'Mate': None},\n",
       "   {'Move': 'c8f5', 'Centipawn': 52, 'Mate': None}],\n",
       "  [{'Move': 'e1g1', 'Centipawn': 59, 'Mate': None},\n",
       "   {'Move': 'd1b3', 'Centipawn': 59, 'Mate': None},\n",
       "   {'Move': 'd1a4', 'Centipawn': 46, 'Mate': None},\n",
       "   {'Move': 'c4d5', 'Centipawn': 38, 'Mate': None},\n",
       "   {'Move': 'b2b3', 'Centipawn': 38, 'Mate': None}],\n",
       "  [{'Move': 'c6d5', 'Centipawn': 38, 'Mate': None},\n",
       "   {'Move': 'f5b1', 'Centipawn': 89, 'Mate': None},\n",
       "   {'Move': 'f6d5', 'Centipawn': 133, 'Mate': None},\n",
       "   {'Move': 'h7h6', 'Centipawn': 143, 'Mate': None},\n",
       "   {'Move': 'g7g6', 'Centipawn': 148, 'Mate': None}],\n",
       "  [{'Move': 'd1b3', 'Centipawn': 46, 'Mate': None},\n",
       "   {'Move': 'd1a4', 'Centipawn': 16, 'Mate': None},\n",
       "   {'Move': 'd2d3', 'Centipawn': 4, 'Mate': None},\n",
       "   {'Move': 'b1c3', 'Centipawn': 1, 'Mate': None},\n",
       "   {'Move': 'f3d4', 'Centipawn': -1, 'Mate': None}],\n",
       "  [{'Move': 'b8c6', 'Centipawn': -8, 'Mate': None},\n",
       "   {'Move': 'd8d7', 'Centipawn': 25, 'Mate': None},\n",
       "   {'Move': 'f5c8', 'Centipawn': 26, 'Mate': None},\n",
       "   {'Move': 'd8b6', 'Centipawn': 32, 'Mate': None},\n",
       "   {'Move': 'b8d7', 'Centipawn': 58, 'Mate': None}],\n",
       "  [{'Move': 'b3b6', 'Centipawn': 32, 'Mate': None},\n",
       "   {'Move': 'e1g1', 'Centipawn': 8, 'Mate': None},\n",
       "   {'Move': 'b1c3', 'Centipawn': 6, 'Mate': None},\n",
       "   {'Move': 'd2d3', 'Centipawn': 6, 'Mate': None},\n",
       "   {'Move': 'f3d4', 'Centipawn': -11, 'Mate': None}],\n",
       "  [{'Move': 'a7b6', 'Centipawn': 28, 'Mate': None},\n",
       "   {'Move': 'b8c6', 'Centipawn': 1208, 'Mate': None},\n",
       "   {'Move': 'f5c8', 'Centipawn': 1230, 'Mate': None},\n",
       "   {'Move': 'b8d7', 'Centipawn': 1279, 'Mate': None},\n",
       "   {'Move': 'b8a6', 'Centipawn': 1336, 'Mate': None}],\n",
       "  [{'Move': 'd2d3', 'Centipawn': 41, 'Mate': None},\n",
       "   {'Move': 'b1c3', 'Centipawn': 41, 'Mate': None},\n",
       "   {'Move': 'a2a3', 'Centipawn': 36, 'Mate': None},\n",
       "   {'Move': 'b1a3', 'Centipawn': 2, 'Mate': None},\n",
       "   {'Move': 'e1g1', 'Centipawn': -3, 'Mate': None}],\n",
       "  [{'Move': 'b8c6', 'Centipawn': 51, 'Mate': None},\n",
       "   {'Move': 'f5d7', 'Centipawn': 58, 'Mate': None},\n",
       "   {'Move': 'h7h6', 'Centipawn': 68, 'Mate': None},\n",
       "   {'Move': 'f5g4', 'Centipawn': 69, 'Mate': None},\n",
       "   {'Move': 'e7e6', 'Centipawn': 70, 'Mate': None}],\n",
       "  [{'Move': 'e1g1', 'Centipawn': 50, 'Mate': None},\n",
       "   {'Move': 'b1c3', 'Centipawn': 42, 'Mate': None},\n",
       "   {'Move': 'c1f4', 'Centipawn': 40, 'Mate': None},\n",
       "   {'Move': 'a2a3', 'Centipawn': 34, 'Mate': None},\n",
       "   {'Move': 'c1g5', 'Centipawn': 25, 'Mate': None}],\n",
       "  [{'Move': 'f5d7', 'Centipawn': 33, 'Mate': None},\n",
       "   {'Move': 'e7e5', 'Centipawn': 39, 'Mate': None},\n",
       "   {'Move': 'a8a5', 'Centipawn': 57, 'Mate': None},\n",
       "   {'Move': 'f5g4', 'Centipawn': 65, 'Mate': None},\n",
       "   {'Move': 'e7e6', 'Centipawn': 90, 'Mate': None}],\n",
       "  [{'Move': 'c1e3', 'Centipawn': 73, 'Mate': None},\n",
       "   {'Move': 'c3b5', 'Centipawn': 54, 'Mate': None},\n",
       "   {'Move': 'f3h4', 'Centipawn': 52, 'Mate': None},\n",
       "   {'Move': 'c1f4', 'Centipawn': 42, 'Mate': None},\n",
       "   {'Move': 'c1d2', 'Centipawn': 32, 'Mate': None}],\n",
       "  [{'Move': 'e7e5', 'Centipawn': 27, 'Mate': None},\n",
       "   {'Move': 'e7e6', 'Centipawn': 53, 'Mate': None},\n",
       "   {'Move': 'f5d7', 'Centipawn': 113, 'Mate': None},\n",
       "   {'Move': 'f5g4', 'Centipawn': 122, 'Mate': None},\n",
       "   {'Move': 'g7g6', 'Centipawn': 138, 'Mate': None}],\n",
       "  [{'Move': 'c3b5', 'Centipawn': 53, 'Mate': None},\n",
       "   {'Move': 'b2b3', 'Centipawn': 44, 'Mate': None},\n",
       "   {'Move': 'c1d2', 'Centipawn': 40, 'Mate': None},\n",
       "   {'Move': 'a2a3', 'Centipawn': 33, 'Mate': None},\n",
       "   {'Move': 'c1f4', 'Centipawn': 25, 'Mate': None}],\n",
       "  [{'Move': 'g7g5', 'Centipawn': 13, 'Mate': None},\n",
       "   {'Move': 'f8c5', 'Centipawn': 19, 'Mate': None},\n",
       "   {'Move': 'f8e7', 'Centipawn': 25, 'Mate': None},\n",
       "   {'Move': 'f5g4', 'Centipawn': 30, 'Mate': None},\n",
       "   {'Move': 'f6h5', 'Centipawn': 70, 'Mate': None}],\n",
       "  [{'Move': 'f1c1', 'Centipawn': 47, 'Mate': None},\n",
       "   {'Move': 'c3b5', 'Centipawn': 38, 'Mate': None},\n",
       "   {'Move': 'h2h4', 'Centipawn': 37, 'Mate': None},\n",
       "   {'Move': 'a2a3', 'Centipawn': 35, 'Mate': None},\n",
       "   {'Move': 'f4e3', 'Centipawn': 13, 'Mate': None}],\n",
       "  [{'Move': 'e8g8', 'Centipawn': 33, 'Mate': None},\n",
       "   {'Move': 'f6d7', 'Centipawn': 33, 'Mate': None},\n",
       "   {'Move': 'f5g4', 'Centipawn': 36, 'Mate': None},\n",
       "   {'Move': 'g7g5', 'Centipawn': 42, 'Mate': None},\n",
       "   {'Move': 'f5h7', 'Centipawn': 52, 'Mate': None}],\n",
       "  [{'Move': 'c3b5', 'Centipawn': 33, 'Mate': None},\n",
       "   {'Move': 'h2h3', 'Centipawn': 25, 'Mate': None},\n",
       "   {'Move': 'f4e3', 'Centipawn': 22, 'Mate': None},\n",
       "   {'Move': 'a2a3', 'Centipawn': 19, 'Mate': None},\n",
       "   {'Move': 'f4d2', 'Centipawn': -5, 'Mate': None}],\n",
       "  [{'Move': 'f6d7', 'Centipawn': 25, 'Mate': None},\n",
       "   {'Move': 'f8c8', 'Centipawn': 44, 'Mate': None},\n",
       "   {'Move': 'e7c5', 'Centipawn': 44, 'Mate': None},\n",
       "   {'Move': 'f5g4', 'Centipawn': 47, 'Mate': None},\n",
       "   {'Move': 'g7g5', 'Centipawn': 47, 'Mate': None}],\n",
       "  [{'Move': 'f4d6', 'Centipawn': 42, 'Mate': None},\n",
       "   {'Move': 'f3d4', 'Centipawn': 33, 'Mate': None},\n",
       "   {'Move': 'f4d2', 'Centipawn': 24, 'Mate': None},\n",
       "   {'Move': 'd3d4', 'Centipawn': 18, 'Mate': None},\n",
       "   {'Move': 'f4e3', 'Centipawn': 17, 'Mate': None}],\n",
       "  [{'Move': 'f5g4', 'Centipawn': 20, 'Mate': None},\n",
       "   {'Move': 'c6d4', 'Centipawn': 24, 'Mate': None},\n",
       "   {'Move': 'e7f6', 'Centipawn': 124, 'Mate': None},\n",
       "   {'Move': 'g7g5', 'Centipawn': 171, 'Mate': None},\n",
       "   {'Move': 'd7f6', 'Centipawn': 233, 'Mate': None}],\n",
       "  [{'Move': 'd4c6', 'Centipawn': 223, 'Mate': None},\n",
       "   {'Move': 'c1c6', 'Centipawn': 0, 'Mate': None},\n",
       "   {'Move': 'f4e3', 'Centipawn': 0, 'Mate': None},\n",
       "   {'Move': 'd4f3', 'Centipawn': -2, 'Mate': None},\n",
       "   {'Move': 'f4d2', 'Centipawn': -7, 'Mate': None}],\n",
       "  [{'Move': 'b7c6', 'Centipawn': 191, 'Mate': None},\n",
       "   {'Move': 'e7f6', 'Centipawn': 404, 'Mate': None},\n",
       "   {'Move': 'e7c5', 'Centipawn': 500, 'Mate': None},\n",
       "   {'Move': 'e7a3', 'Centipawn': 766, 'Mate': None},\n",
       "   {'Move': 'e7g5', 'Centipawn': 802, 'Mate': None}],\n",
       "  [{'Move': 'c1c6', 'Centipawn': 245, 'Mate': None},\n",
       "   {'Move': 'f4d6', 'Centipawn': 29, 'Mate': None},\n",
       "   {'Move': 'b5c3', 'Centipawn': -77, 'Mate': None},\n",
       "   {'Move': 'b5c7', 'Centipawn': -88, 'Mate': None},\n",
       "   {'Move': 'b5a3', 'Centipawn': -162, 'Mate': None}],\n",
       "  [{'Move': 'e7f6', 'Centipawn': 139, 'Mate': None},\n",
       "   {'Move': 'a8a5', 'Centipawn': 206, 'Mate': None},\n",
       "   {'Move': 'a8a4', 'Centipawn': 233, 'Mate': None},\n",
       "   {'Move': 'd7c5', 'Centipawn': 236, 'Mate': None},\n",
       "   {'Move': 'f8c8', 'Centipawn': 245, 'Mate': None}],\n",
       "  [{'Move': 'c6c8', 'Centipawn': 245, 'Mate': None},\n",
       "   {'Move': 'b5a7', 'Centipawn': 175, 'Mate': None},\n",
       "   {'Move': 'c6c7', 'Centipawn': 174, 'Mate': None},\n",
       "   {'Move': 'f4c7', 'Centipawn': 163, 'Mate': None},\n",
       "   {'Move': 'a1c1', 'Centipawn': 138, 'Mate': None}],\n",
       "  [{'Move': 'a8c8', 'Centipawn': 260, 'Mate': None},\n",
       "   {'Move': 'g8h7', 'Centipawn': 1427, 'Mate': None},\n",
       "   {'Move': 'e7f8', 'Centipawn': 1442, 'Mate': None},\n",
       "   {'Move': 'd7f8', 'Centipawn': 1532, 'Mate': None},\n",
       "   {'Move': 'e7d8', 'Centipawn': 1817, 'Mate': None}],\n",
       "  [{'Move': 'a1c1', 'Centipawn': 254, 'Mate': None},\n",
       "   {'Move': 'a2a3', 'Centipawn': 216, 'Mate': None},\n",
       "   {'Move': 'g2f1', 'Centipawn': 167, 'Mate': None},\n",
       "   {'Move': 'b5d4', 'Centipawn': 157, 'Mate': None},\n",
       "   {'Move': 'b2b3', 'Centipawn': 143, 'Mate': None}],\n",
       "  [{'Move': 'c8c1', 'Centipawn': 260, 'Mate': None},\n",
       "   {'Move': 'c8c5', 'Centipawn': 298, 'Mate': None},\n",
       "   {'Move': 'c8d8', 'Centipawn': 337, 'Mate': None},\n",
       "   {'Move': 'c8e8', 'Centipawn': 351, 'Mate': None},\n",
       "   {'Move': 'c8a8', 'Centipawn': 376, 'Mate': None}],\n",
       "  [{'Move': 'f4c1', 'Centipawn': 252, 'Mate': None},\n",
       "   {'Move': 'g2f1', 'Centipawn': -760, 'Mate': None}],\n",
       "  [{'Move': 'd7c5', 'Centipawn': 253, 'Mate': None},\n",
       "   {'Move': 'd7b8', 'Centipawn': 271, 'Mate': None},\n",
       "   {'Move': 'g8f8', 'Centipawn': 275, 'Mate': None},\n",
       "   {'Move': 'g6h5', 'Centipawn': 289, 'Mate': None},\n",
       "   {'Move': 'd7e5', 'Centipawn': 303, 'Mate': None}],\n",
       "  [{'Move': 'f2f4', 'Centipawn': 302, 'Mate': None},\n",
       "   {'Move': 'b2b3', 'Centipawn': 299, 'Mate': None},\n",
       "   {'Move': 'g1f1', 'Centipawn': 295, 'Mate': None},\n",
       "   {'Move': 'g3g4', 'Centipawn': 290, 'Mate': None},\n",
       "   {'Move': 'b2b4', 'Centipawn': 290, 'Mate': None}],\n",
       "  [{'Move': 'g8f8', 'Centipawn': 280, 'Mate': None},\n",
       "   {'Move': 'd7c5', 'Centipawn': 288, 'Mate': None},\n",
       "   {'Move': 'd7b8', 'Centipawn': 305, 'Mate': None},\n",
       "   {'Move': 'f6e7', 'Centipawn': 308, 'Mate': None},\n",
       "   {'Move': 'h6h5', 'Centipawn': 326, 'Mate': None}],\n",
       "  [{'Move': 'c1a3', 'Centipawn': 340, 'Mate': None},\n",
       "   {'Move': 'f2f4', 'Centipawn': 300, 'Mate': None},\n",
       "   {'Move': 'b5c7', 'Centipawn': 289, 'Mate': None},\n",
       "   {'Move': 'c1d2', 'Centipawn': 278, 'Mate': None},\n",
       "   {'Move': 'c1e3', 'Centipawn': 270, 'Mate': None}],\n",
       "  [{'Move': 'g8f8', 'Centipawn': 286, 'Mate': None},\n",
       "   {'Move': 'f6e7', 'Centipawn': 286, 'Mate': None},\n",
       "   {'Move': 'f6b2', 'Centipawn': 298, 'Mate': None},\n",
       "   {'Move': 'f6d8', 'Centipawn': 311, 'Mate': None},\n",
       "   {'Move': 'c5d7', 'Centipawn': 337, 'Mate': None}],\n",
       "  [{'Move': 'b5d6', 'Centipawn': 313, 'Mate': None},\n",
       "   {'Move': 'e3d4', 'Centipawn': 298, 'Mate': None},\n",
       "   {'Move': 'f2f4', 'Centipawn': 287, 'Mate': None},\n",
       "   {'Move': 'f2f3', 'Centipawn': 261, 'Mate': None},\n",
       "   {'Move': 'h2h3', 'Centipawn': 252, 'Mate': None}],\n",
       "  [{'Move': 'f6d8', 'Centipawn': 250, 'Mate': None},\n",
       "   {'Move': 'f6g5', 'Centipawn': 275, 'Mate': None},\n",
       "   {'Move': 'f6d4', 'Centipawn': 287, 'Mate': None},\n",
       "   {'Move': 'f6e7', 'Centipawn': 288, 'Mate': None},\n",
       "   {'Move': 'f8e7', 'Centipawn': 402, 'Mate': None}],\n",
       "  [{'Move': 'g2h3', 'Centipawn': 285, 'Mate': None},\n",
       "   {'Move': 'b5c7', 'Centipawn': 282, 'Mate': None},\n",
       "   {'Move': 'b5a7', 'Centipawn': 256, 'Mate': None},\n",
       "   {'Move': 'd4e3', 'Centipawn': 246, 'Mate': None},\n",
       "   {'Move': 'f2f4', 'Centipawn': 224, 'Mate': None}],\n",
       "  [{'Move': 'g6h5', 'Centipawn': 219, 'Mate': None},\n",
       "   {'Move': 'f7f6', 'Centipawn': 232, 'Mate': None},\n",
       "   {'Move': 'e7d8', 'Centipawn': 271, 'Mate': None},\n",
       "   {'Move': 'h6h5', 'Centipawn': 278, 'Mate': None},\n",
       "   {'Move': 'g6f5', 'Centipawn': 283, 'Mate': None}],\n",
       "  [{'Move': 'd4b2', 'Centipawn': 281, 'Mate': None},\n",
       "   {'Move': 'f2f4', 'Centipawn': 278, 'Mate': None},\n",
       "   {'Move': 'a7b5', 'Centipawn': 273, 'Mate': None},\n",
       "   {'Move': 'g1f1', 'Centipawn': 271, 'Mate': None},\n",
       "   {'Move': 'a7c6', 'Centipawn': 249, 'Mate': None}],\n",
       "  [{'Move': 'd7c5', 'Centipawn': 176, 'Mate': None},\n",
       "   {'Move': 'g6h5', 'Centipawn': 215, 'Mate': None},\n",
       "   {'Move': 'e7a3', 'Centipawn': 227, 'Mate': None},\n",
       "   {'Move': 'f7f6', 'Centipawn': 245, 'Mate': None},\n",
       "   {'Move': 'e7c5', 'Centipawn': 314, 'Mate': None}],\n",
       "  [{'Move': 'a7c8', 'Centipawn': 255, 'Mate': None},\n",
       "   {'Move': 'e2e4', 'Centipawn': 247, 'Mate': None},\n",
       "   {'Move': 'a7c6', 'Centipawn': 231, 'Mate': None},\n",
       "   {'Move': 'd4e3', 'Centipawn': 218, 'Mate': None},\n",
       "   {'Move': 'g2f3', 'Centipawn': 183, 'Mate': None}],\n",
       "  [{'Move': 'c5b3', 'Centipawn': 255, 'Mate': None},\n",
       "   {'Move': 'e7f6', 'Centipawn': 270, 'Mate': None},\n",
       "   {'Move': 'g6h5', 'Centipawn': 308, 'Mate': None},\n",
       "   {'Move': 'e7d8', 'Centipawn': 311, 'Mate': None},\n",
       "   {'Move': 'f7f6', 'Centipawn': 315, 'Mate': None}],\n",
       "  [{'Move': 'd4b6', 'Centipawn': 255, 'Mate': None},\n",
       "   {'Move': 'd4g7', 'Centipawn': 151, 'Mate': None},\n",
       "   {'Move': 'd4e3', 'Centipawn': 113, 'Mate': None},\n",
       "   {'Move': 'd4e5', 'Centipawn': -37, 'Mate': None},\n",
       "   {'Move': 'c8e7', 'Centipawn': -53, 'Mate': None}],\n",
       "  [{'Move': 'e7b4', 'Centipawn': 192, 'Mate': None},\n",
       "   {'Move': 'e7c5', 'Centipawn': 322, 'Mate': None},\n",
       "   {'Move': 'g6h5', 'Centipawn': 326, 'Mate': None},\n",
       "   {'Move': 'f8e8', 'Centipawn': 434, 'Mate': None},\n",
       "   {'Move': 'b3c1', 'Centipawn': 436, 'Mate': None}],\n",
       "  [{'Move': 'a4a5', 'Centipawn': 346, 'Mate': None},\n",
       "   {'Move': 'b6c5', 'Centipawn': 249, 'Mate': None},\n",
       "   {'Move': 'e2e4', 'Centipawn': 196, 'Mate': None},\n",
       "   {'Move': 'g1f1', 'Centipawn': 192, 'Mate': None},\n",
       "   {'Move': 'g2h3', 'Centipawn': 163, 'Mate': None}],\n",
       "  [{'Move': 'c5b6', 'Centipawn': 368, 'Mate': None},\n",
       "   {'Move': 'f7f5', 'Centipawn': 400, 'Mate': None},\n",
       "   {'Move': 'g6h5', 'Centipawn': 409, 'Mate': None},\n",
       "   {'Move': 'f7f6', 'Centipawn': 467, 'Mate': None},\n",
       "   {'Move': 'f8e8', 'Centipawn': 569, 'Mate': None}],\n",
       "  [{'Move': 'a5b6', 'Centipawn': 316, 'Mate': None},\n",
       "   {'Move': 'a5a6', 'Centipawn': 78, 'Mate': None},\n",
       "   {'Move': 'c8b6', 'Centipawn': -4, 'Mate': None},\n",
       "   {'Move': 'g2d5', 'Centipawn': -350, 'Mate': None},\n",
       "   {'Move': 'c8e7', 'Centipawn': -602, 'Mate': None}],\n",
       "  [{'Move': 'b3a5', 'Centipawn': 266, 'Mate': None},\n",
       "   {'Move': 'b3c5', 'Centipawn': 411, 'Mate': None},\n",
       "   {'Move': 'b3d4', 'Centipawn': 415, 'Mate': None},\n",
       "   {'Move': 'g6d3', 'Centipawn': 679, 'Mate': None},\n",
       "   {'Move': 'f8g8', 'Centipawn': 766, 'Mate': None}],\n",
       "  [{'Move': 'e2e4', 'Centipawn': 352, 'Mate': None},\n",
       "   {'Move': 'f2f4', 'Centipawn': 205, 'Mate': None},\n",
       "   {'Move': 'd3d4', 'Centipawn': 173, 'Mate': None},\n",
       "   {'Move': 'c8a7', 'Centipawn': 146, 'Mate': None},\n",
       "   {'Move': 'f2f3', 'Centipawn': 145, 'Mate': None}],\n",
       "  [{'Move': 'f8e7', 'Centipawn': 118, 'Mate': None},\n",
       "   {'Move': 'c5a6', 'Centipawn': 247, 'Mate': None},\n",
       "   {'Move': 'f7f6', 'Centipawn': 275, 'Mate': None},\n",
       "   {'Move': 'c5d7', 'Centipawn': 282, 'Mate': None},\n",
       "   {'Move': 'g6h5', 'Centipawn': 320, 'Mate': None}],\n",
       "  [{'Move': 'b6b7', 'Centipawn': 184, 'Mate': None},\n",
       "   {'Move': 'd6c8', 'Centipawn': 130, 'Mate': None},\n",
       "   {'Move': 'd6b5', 'Centipawn': 19, 'Mate': None},\n",
       "   {'Move': 'd3d4', 'Centipawn': -11, 'Mate': None},\n",
       "   {'Move': 'd6f7', 'Centipawn': -318, 'Mate': None}],\n",
       "  [{'Move': 'c5a6', 'Centipawn': 165, 'Mate': None},\n",
       "   {'Move': 'c5d7', 'Centipawn': 265, 'Mate': None},\n",
       "   {'Move': 'c5b7', 'Centipawn': 621, 'Mate': None},\n",
       "   {'Move': 'e7d6', 'Centipawn': 770, 'Mate': None},\n",
       "   {'Move': 'c5e4', 'Centipawn': 845, 'Mate': None}],\n",
       "  [{'Move': 'd6b5', 'Centipawn': 265, 'Mate': None},\n",
       "   {'Move': 'd6c8', 'Centipawn': 148, 'Mate': None},\n",
       "   {'Move': 'b7b8r', 'Centipawn': -14, 'Mate': None},\n",
       "   {'Move': 'b7b8q', 'Centipawn': -19, 'Mate': None},\n",
       "   {'Move': 'b7b8b', 'Centipawn': -22, 'Mate': None}],\n",
       "  [{'Move': 'f7f6', 'Centipawn': 255, 'Mate': None},\n",
       "   {'Move': 'g6h7', 'Centipawn': 296, 'Mate': None},\n",
       "   {'Move': 'd7b8', 'Centipawn': 304, 'Mate': None},\n",
       "   {'Move': 'f7f5', 'Centipawn': 334, 'Mate': None},\n",
       "   {'Move': 'e7d8', 'Centipawn': 335, 'Mate': None}],\n",
       "  [{'Move': 'b5d4', 'Centipawn': 344, 'Mate': None},\n",
       "   {'Move': 'e2e4', 'Centipawn': 331, 'Mate': None},\n",
       "   {'Move': 'g2h3', 'Centipawn': 327, 'Mate': None},\n",
       "   {'Move': 'f2f4', 'Centipawn': 301, 'Mate': None},\n",
       "   {'Move': 'h2h4', 'Centipawn': 248, 'Mate': None}],\n",
       "  [{'Move': 'd5e4', 'Centipawn': 287, 'Mate': None},\n",
       "   {'Move': 'd7b8', 'Centipawn': 339, 'Mate': None},\n",
       "   {'Move': 'e6e5', 'Centipawn': 350, 'Mate': None},\n",
       "   {'Move': 'g6f7', 'Centipawn': 412, 'Mate': None},\n",
       "   {'Move': 'g6e8', 'Centipawn': 487, 'Mate': None}],\n",
       "  [{'Move': 'd3e4', 'Centipawn': 241, 'Mate': None},\n",
       "   {'Move': 'g2e4', 'Centipawn': 237, 'Mate': None},\n",
       "   {'Move': 'd3d4', 'Centipawn': 146, 'Mate': None},\n",
       "   {'Move': 'g1f1', 'Centipawn': 96, 'Mate': None},\n",
       "   {'Move': 'b7b8b', 'Centipawn': -7, 'Mate': None}],\n",
       "  [{'Move': 'g6f7', 'Centipawn': -58, 'Mate': None},\n",
       "   {'Move': 'e6e5', 'Centipawn': 252, 'Mate': None},\n",
       "   {'Move': 'd7b8', 'Centipawn': 260, 'Mate': None},\n",
       "   {'Move': 'g6h5', 'Centipawn': 300, 'Mate': None},\n",
       "   {'Move': 'g6e8', 'Centipawn': 302, 'Mate': None}],\n",
       "  [{'Move': 'b5d4', 'Centipawn': 253, 'Mate': None},\n",
       "   {'Move': 'f2f3', 'Centipawn': 238, 'Mate': None},\n",
       "   {'Move': 'b5c3', 'Centipawn': 162, 'Mate': None},\n",
       "   {'Move': 'b5a3', 'Centipawn': 126, 'Mate': None},\n",
       "   {'Move': 'f2f4', 'Centipawn': 124, 'Mate': None}],\n",
       "  [{'Move': 'f6e5', 'Centipawn': -659, 'Mate': None},\n",
       "   {'Move': 'e7d7', 'Centipawn': 365, 'Mate': None},\n",
       "   {'Move': 'g6e8', 'Centipawn': 373, 'Mate': None},\n",
       "   {'Move': 'e7d8', 'Centipawn': 417, 'Mate': None},\n",
       "   {'Move': 'g6f7', 'Centipawn': 441, 'Mate': None}],\n",
       "  [{'Move': 'b5c3', 'Centipawn': 92, 'Mate': None},\n",
       "   {'Move': 'h2h4', 'Centipawn': 76, 'Mate': None},\n",
       "   {'Move': 'h2h3', 'Centipawn': 74, 'Mate': None},\n",
       "   {'Move': 'f2f4', 'Centipawn': 45, 'Mate': None},\n",
       "   {'Move': 'g3g4', 'Centipawn': 30, 'Mate': None}],\n",
       "  [{'Move': 'e7d7', 'Centipawn': 26, 'Mate': None},\n",
       "   {'Move': 'e7d6', 'Centipawn': 49, 'Mate': None},\n",
       "   {'Move': 'g6e8', 'Centipawn': 51, 'Mate': None},\n",
       "   {'Move': 'e5e4', 'Centipawn': 113, 'Mate': None},\n",
       "   {'Move': 'e7d8', 'Centipawn': 164, 'Mate': None}],\n",
       "  [{'Move': 'h2h3', 'Centipawn': 85, 'Mate': None},\n",
       "   {'Move': 'a7c8', 'Centipawn': 75, 'Mate': None},\n",
       "   {'Move': 'g1f1', 'Centipawn': 64, 'Mate': None},\n",
       "   {'Move': 'g2h3', 'Centipawn': 56, 'Mate': None},\n",
       "   {'Move': 'g2f1', 'Centipawn': 28, 'Mate': None}],\n",
       "  [{'Move': 'e7d8', 'Centipawn': 2, 'Mate': None},\n",
       "   {'Move': 'e7d6', 'Centipawn': 41, 'Mate': None},\n",
       "   {'Move': 'e7d7', 'Centipawn': 88, 'Mate': None},\n",
       "   {'Move': 'e5e4', 'Centipawn': 110, 'Mate': None},\n",
       "   {'Move': 'g7g5', 'Centipawn': 112, 'Mate': None}],\n",
       "  [{'Move': 'g2h1', 'Centipawn': 108, 'Mate': None},\n",
       "   {'Move': 'g2f3', 'Centipawn': 94, 'Mate': None},\n",
       "   {'Move': 'h2h3', 'Centipawn': 71, 'Mate': None},\n",
       "   {'Move': 'h2h4', 'Centipawn': 70, 'Mate': None},\n",
       "   {'Move': 'g2e4', 'Centipawn': 53, 'Mate': None}],\n",
       "  [{'Move': 'd6c5', 'Centipawn': 71, 'Mate': None},\n",
       "   {'Move': 'd6c7', 'Centipawn': 83, 'Mate': None},\n",
       "   {'Move': 'e8a4', 'Centipawn': 124, 'Mate': None},\n",
       "   {'Move': 'd6d7', 'Centipawn': 138, 'Mate': None},\n",
       "   {'Move': 'g7g5', 'Centipawn': 151, 'Mate': None}],\n",
       "  [{'Move': 'e2d2', 'Centipawn': 102, 'Mate': None},\n",
       "   {'Move': 'e2e3', 'Centipawn': 101, 'Mate': None},\n",
       "   {'Move': 'a7c8', 'Centipawn': 75, 'Mate': None},\n",
       "   {'Move': 'h2h4', 'Centipawn': 64, 'Mate': None},\n",
       "   {'Move': 'e2d3', 'Centipawn': 56, 'Mate': None}],\n",
       "  [{'Move': 'e8c6', 'Centipawn': 21, 'Mate': None},\n",
       "   {'Move': 'e8b5', 'Centipawn': 78, 'Mate': None},\n",
       "   {'Move': 'e8d7', 'Centipawn': 91, 'Mate': None},\n",
       "   {'Move': 'e8a4', 'Centipawn': 108, 'Mate': None},\n",
       "   {'Move': 'e8h5', 'Centipawn': 149, 'Mate': None}],\n",
       "  [{'Move': 'e2e3', 'Centipawn': 102, 'Mate': None},\n",
       "   {'Move': 'e2d2', 'Centipawn': 10, 'Mate': None},\n",
       "   {'Move': 'e2e1', 'Centipawn': 0, 'Mate': None},\n",
       "   {'Move': 'e2d1', 'Centipawn': -19, 'Mate': None},\n",
       "   {'Move': 'e2f3', 'Centipawn': -455, 'Mate': None}],\n",
       "  [{'Move': 'b5c6', 'Centipawn': 100, 'Mate': None},\n",
       "   {'Move': 'b8d7', 'Centipawn': 112, 'Mate': None},\n",
       "   {'Move': 'b5c4', 'Centipawn': 118, 'Mate': None},\n",
       "   {'Move': 'b5a4', 'Centipawn': 128, 'Mate': None},\n",
       "   {'Move': 'b5e8', 'Centipawn': 164, 'Mate': None}],\n",
       "  [{'Move': 'c8a7', 'Centipawn': 199, 'Mate': None},\n",
       "   {'Move': 'g2e4', 'Centipawn': 183, 'Mate': None},\n",
       "   {'Move': 'g2f3', 'Centipawn': 80, 'Mate': None},\n",
       "   {'Move': 'h2h3', 'Centipawn': 23, 'Mate': None},\n",
       "   {'Move': 'h2h4', 'Centipawn': 15, 'Mate': None}],\n",
       "  [{'Move': 'c5b6', 'Centipawn': 10, 'Mate': None},\n",
       "   {'Move': 'c5d6', 'Centipawn': 61, 'Mate': None},\n",
       "   {'Move': 'b5a6', 'Centipawn': 83, 'Mate': None},\n",
       "   {'Move': 'b5a4', 'Centipawn': 108, 'Mate': None},\n",
       "   {'Move': 'd7b8', 'Centipawn': 156, 'Mate': None}],\n",
       "  [{'Move': 'g2h3', 'Centipawn': 183, 'Mate': None},\n",
       "   {'Move': 'g2f3', 'Centipawn': 168, 'Mate': None},\n",
       "   {'Move': 'g3g4', 'Centipawn': 122, 'Mate': None},\n",
       "   {'Move': 'e7g6', 'Centipawn': 92, 'Mate': None},\n",
       "   {'Move': 'e3d2', 'Centipawn': 77, 'Mate': None}],\n",
       "  [{'Move': 'c5d6', 'Centipawn': 17, 'Mate': None},\n",
       "   {'Move': 'b5c4', 'Centipawn': 95, 'Mate': None},\n",
       "   {'Move': 'b5a6', 'Centipawn': 163, 'Mate': None},\n",
       "   {'Move': 'b5e8', 'Centipawn': 180, 'Mate': None},\n",
       "   {'Move': 'b5d7', 'Centipawn': 187, 'Mate': None}],\n",
       "  [{'Move': 'e7c8', 'Centipawn': 131, 'Mate': None},\n",
       "   {'Move': 'e7g6', 'Centipawn': 19, 'Mate': None},\n",
       "   {'Move': 'e7g8', 'Centipawn': -114, 'Mate': None},\n",
       "   {'Move': 'e7f5', 'Centipawn': -458, 'Mate': None},\n",
       "   {'Move': 'e3e4', 'Centipawn': -462, 'Mate': None}],\n",
       "  [{'Move': 'b5c6', 'Centipawn': 20, 'Mate': None},\n",
       "   {'Move': 'b5e8', 'Centipawn': 33, 'Mate': None},\n",
       "   {'Move': 'b5c4', 'Centipawn': 52, 'Mate': None},\n",
       "   {'Move': 'b5a6', 'Centipawn': 70, 'Mate': None},\n",
       "   {'Move': 'b5a4', 'Centipawn': 91, 'Mate': None}],\n",
       "  [{'Move': 'g6f8', 'Centipawn': 19, 'Mate': None},\n",
       "   {'Move': 'g6h8', 'Centipawn': 4, 'Mate': None},\n",
       "   {'Move': 'f2f4', 'Centipawn': 0, 'Mate': None},\n",
       "   {'Move': 'f2f3', 'Centipawn': -14, 'Mate': None},\n",
       "   {'Move': 'h3f1', 'Centipawn': -31, 'Mate': None}],\n",
       "  [{'Move': 'c6b7', 'Centipawn': -160, 'Mate': None},\n",
       "   {'Move': 'c6d5', 'Centipawn': -4, 'Mate': None},\n",
       "   {'Move': 'g7g6', 'Centipawn': 42, 'Mate': None},\n",
       "   {'Move': 'g7g5', 'Centipawn': 67, 'Mate': None},\n",
       "   {'Move': 'd6e7', 'Centipawn': 116, 'Mate': None}],\n",
       "  [{'Move': 'f2f4', 'Centipawn': -9, 'Mate': None},\n",
       "   {'Move': 'f8g6', 'Centipawn': -20, 'Mate': None},\n",
       "   {'Move': 'e3d2', 'Centipawn': -32, 'Mate': None},\n",
       "   {'Move': 'h3g4', 'Centipawn': -36, 'Mate': None},\n",
       "   {'Move': 'e3d3', 'Centipawn': -40, 'Mate': None}],\n",
       "  [{'Move': 'd5b7', 'Centipawn': -47, 'Mate': None},\n",
       "   {'Move': 'b8d7', 'Centipawn': -12, 'Mate': None},\n",
       "   {'Move': 'd5c6', 'Centipawn': 0, 'Mate': None},\n",
       "   {'Move': 'b8a6', 'Centipawn': 3, 'Mate': None},\n",
       "   {'Move': 'd6c7', 'Centipawn': 27, 'Mate': None}],\n",
       "  [{'Move': 'f2f4', 'Centipawn': -32, 'Mate': None},\n",
       "   {'Move': 'e3d2', 'Centipawn': -47, 'Mate': None},\n",
       "   {'Move': 'g6h4', 'Centipawn': -48, 'Mate': None},\n",
       "   {'Move': 'h3f1', 'Centipawn': -49, 'Mate': None},\n",
       "   {'Move': 'h3g4', 'Centipawn': -52, 'Mate': None}],\n",
       "  [{'Move': 'b8d7', 'Centipawn': -35, 'Mate': None},\n",
       "   {'Move': 'b8c6', 'Centipawn': -31, 'Mate': None},\n",
       "   {'Move': 'e5f4', 'Centipawn': -26, 'Mate': None},\n",
       "   {'Move': 'e5e4', 'Centipawn': 8, 'Mate': None},\n",
       "   {'Move': 'b7d5', 'Centipawn': 12, 'Mate': None}],\n",
       "  [{'Move': 'g3f4', 'Centipawn': -24, 'Mate': None},\n",
       "   {'Move': 'g6f4', 'Centipawn': -55, 'Mate': None},\n",
       "   {'Move': 'e3f4', 'Centipawn': -62, 'Mate': None},\n",
       "   {'Move': 'e3d3', 'Centipawn': -347, 'Mate': None},\n",
       "   {'Move': 'e3d4', 'Centipawn': -362, 'Mate': None}],\n",
       "  [{'Move': 'b8d7', 'Centipawn': -45, 'Mate': None},\n",
       "   {'Move': 'b8c6', 'Centipawn': -38, 'Mate': None},\n",
       "   {'Move': 'b8a6', 'Centipawn': -26, 'Mate': None},\n",
       "   {'Move': 'b7a8', 'Centipawn': -19, 'Mate': None},\n",
       "   {'Move': 'b7d5', 'Centipawn': -16, 'Mate': None}],\n",
       "  [{'Move': 'e3f2', 'Centipawn': -16, 'Mate': None},\n",
       "   {'Move': 'h3g4', 'Centipawn': -17, 'Mate': None},\n",
       "   {'Move': 'h3g2', 'Centipawn': -27, 'Mate': None},\n",
       "   {'Move': 'g6f8', 'Centipawn': -31, 'Mate': None},\n",
       "   {'Move': 'e3d3', 'Centipawn': -56, 'Mate': None}],\n",
       "  [{'Move': 'e6e5', 'Centipawn': -71, 'Mate': None},\n",
       "   {'Move': 'e6f5', 'Centipawn': -28, 'Mate': None},\n",
       "   {'Move': 'c6d8', 'Centipawn': -20, 'Mate': None},\n",
       "   {'Move': 'c6e5', 'Centipawn': -12, 'Mate': None},\n",
       "   {'Move': 'b7c8', 'Centipawn': -12, 'Mate': None}],\n",
       "  [{'Move': 'h3g2', 'Centipawn': -93, 'Mate': None},\n",
       "   {'Move': 'g6f8', 'Centipawn': -137, 'Mate': None},\n",
       "   {'Move': 'h3g4', 'Centipawn': -141, 'Mate': None},\n",
       "   {'Move': 'g6h8', 'Centipawn': -158, 'Mate': None},\n",
       "   {'Move': 'e3f2', 'Centipawn': -180, 'Mate': None}],\n",
       "  [{'Move': 'c6d4', 'Centipawn': -179, 'Mate': None},\n",
       "   {'Move': 'b7c8', 'Centipawn': -162, 'Mate': None},\n",
       "   {'Move': 'c6d8', 'Centipawn': -162, 'Mate': None},\n",
       "   {'Move': 'c6b4', 'Centipawn': -117, 'Mate': None},\n",
       "   {'Move': 'c6e7', 'Centipawn': -117, 'Mate': None}],\n",
       "  [{'Move': 'f8g6', 'Centipawn': -126, 'Mate': None},\n",
       "   {'Move': 'e3e4', 'Centipawn': -171, 'Mate': None},\n",
       "   {'Move': 'f8h7', 'Centipawn': -225, 'Mate': None},\n",
       "   {'Move': 'h3g4', 'Centipawn': -296, 'Mate': None},\n",
       "   {'Move': 'f8e6', 'Centipawn': -311, 'Mate': None}],\n",
       "  [{'Move': 'c8e6', 'Centipawn': -334, 'Mate': None},\n",
       "   {'Move': 'g7g6', 'Centipawn': -134, 'Mate': None},\n",
       "   {'Move': 'g7g5', 'Centipawn': -105, 'Mate': None},\n",
       "   {'Move': 'c6e7', 'Centipawn': -46, 'Mate': None},\n",
       "   {'Move': 'c6b4', 'Centipawn': -27, 'Mate': None}],\n",
       "  [{'Move': 'f5e6', 'Centipawn': -341, 'Mate': None},\n",
       "   {'Move': 'e3d2', 'Centipawn': -764, 'Mate': None},\n",
       "   {'Move': 'h3g4', 'Centipawn': -771, 'Mate': None},\n",
       "   {'Move': 'e3e4', 'Centipawn': -771, 'Mate': None},\n",
       "   {'Move': 'e3f2', 'Centipawn': -807, 'Mate': None}],\n",
       "  [{'Move': 'c6d4', 'Centipawn': -231, 'Mate': None},\n",
       "   {'Move': 'g7g6', 'Centipawn': -221, 'Mate': None},\n",
       "   {'Move': 'd6e7', 'Centipawn': -202, 'Mate': None},\n",
       "   {'Move': 'c6e7', 'Centipawn': -197, 'Mate': None},\n",
       "   {'Move': 'h6h5', 'Centipawn': -166, 'Mate': None}],\n",
       "  [{'Move': 'e3e4', 'Centipawn': -212, 'Mate': None},\n",
       "   {'Move': 'h3g4', 'Centipawn': -212, 'Mate': None},\n",
       "   {'Move': 'e3d3', 'Centipawn': -231, 'Mate': None},\n",
       "   {'Move': 'e3f3', 'Centipawn': -231, 'Mate': None},\n",
       "   {'Move': 'h3f5', 'Centipawn': -321, 'Mate': None}],\n",
       "  [{'Move': 'e7f6', 'Centipawn': -227, 'Mate': None},\n",
       "   {'Move': 'e7d6', 'Centipawn': -178, 'Mate': None},\n",
       "   {'Move': 'g7g6', 'Centipawn': -20, 'Mate': None},\n",
       "   {'Move': 'g7g5', 'Centipawn': -20, 'Mate': None},\n",
       "   {'Move': 'e7d8', 'Centipawn': -1, 'Mate': None}],\n",
       "  [{'Move': 'e4d5', 'Centipawn': -167, 'Mate': None},\n",
       "   {'Move': 'h3g4', 'Centipawn': -203, 'Mate': None},\n",
       "   {'Move': 'h3f5', 'Centipawn': -226, 'Mate': None},\n",
       "   {'Move': 'h3g2', 'Centipawn': -286, 'Mate': None},\n",
       "   {'Move': 'h3f1', 'Centipawn': -339, 'Mate': None}],\n",
       "  [{'Move': 'c6e7', 'Centipawn': -140, 'Mate': None},\n",
       "   {'Move': 'c6d4', 'Centipawn': -37, 'Mate': None},\n",
       "   {'Move': 'c6a7', 'Centipawn': -10, 'Mate': None},\n",
       "   {'Move': 'c6d8', 'Centipawn': 0, 'Mate': None},\n",
       "   {'Move': 'c6a5', 'Centipawn': 0, 'Mate': None}],\n",
       "  [{'Move': 'd5c5', 'Centipawn': -140, 'Mate': None},\n",
       "   {'Move': 'd5d6', 'Centipawn': -262, 'Mate': None},\n",
       "   {'Move': 'd5e4', 'Centipawn': -264, 'Mate': None},\n",
       "   {'Move': 'd5c4', 'Centipawn': -264, 'Mate': None}],\n",
       "  [{'Move': 'e5e4', 'Centipawn': -274, 'Mate': None},\n",
       "   {'Move': 'g7g5', 'Centipawn': -209, 'Mate': None},\n",
       "   {'Move': 'h6h5', 'Centipawn': -168, 'Mate': None},\n",
       "   {'Move': 'e7c8', 'Centipawn': -128, 'Mate': None},\n",
       "   {'Move': 'e7g6', 'Centipawn': -102, 'Mate': None}],\n",
       "  [{'Move': 'h3g2', 'Centipawn': -50, 'Mate': None},\n",
       "   {'Move': 'd6c5', 'Centipawn': -169, 'Mate': None},\n",
       "   {'Move': 'h3f1', 'Centipawn': -174, 'Mate': None},\n",
       "   {'Move': 'h3g4', 'Centipawn': -198, 'Mate': None},\n",
       "   {'Move': 'd6d7', 'Centipawn': -216, 'Mate': None}],\n",
       "  [{'Move': 'e5e4', 'Centipawn': -189, 'Mate': None},\n",
       "   {'Move': 'h6h5', 'Centipawn': -143, 'Mate': None},\n",
       "   {'Move': 'e7g8', 'Centipawn': -105, 'Mate': None},\n",
       "   {'Move': 'g6g5', 'Centipawn': -95, 'Mate': None},\n",
       "   {'Move': 'e7d5', 'Centipawn': -54, 'Mate': None}]],\n",
       " [[{'Move': 'e2e4', 'Centipawn': 39, 'Mate': None},\n",
       "   {'Move': 'c2c4', 'Centipawn': 36, 'Mate': None},\n",
       "   {'Move': 'd2d4', 'Centipawn': 36, 'Mate': None},\n",
       "   {'Move': 'e2e3', 'Centipawn': 30, 'Mate': None},\n",
       "   {'Move': 'g1f3', 'Centipawn': 28, 'Mate': None}],\n",
       "  [{'Move': 'e7e6', 'Centipawn': 33, 'Mate': None},\n",
       "   {'Move': 'd7d5', 'Centipawn': 36, 'Mate': None},\n",
       "   {'Move': 'g8f6', 'Centipawn': 36, 'Mate': None},\n",
       "   {'Move': 'c7c6', 'Centipawn': 41, 'Mate': None},\n",
       "   {'Move': 'd7d6', 'Centipawn': 54, 'Mate': None}],\n",
       "  [{'Move': 'c2c4', 'Centipawn': 38, 'Mate': None},\n",
       "   {'Move': 'e2e3', 'Centipawn': 34, 'Mate': None},\n",
       "   {'Move': 'g1f3', 'Centipawn': 32, 'Mate': None},\n",
       "   {'Move': 'g2g3', 'Centipawn': 13, 'Mate': None},\n",
       "   {'Move': 'c1f4', 'Centipawn': 8, 'Mate': None}],\n",
       "  [{'Move': 'e7e6', 'Centipawn': 43, 'Mate': None},\n",
       "   {'Move': 'c7c6', 'Centipawn': 44, 'Mate': None},\n",
       "   {'Move': 'c7c5', 'Centipawn': 53, 'Mate': None},\n",
       "   {'Move': 'd5c4', 'Centipawn': 55, 'Mate': None},\n",
       "   {'Move': 'g7g6', 'Centipawn': 84, 'Mate': None}],\n",
       "  [{'Move': 'g1f3', 'Centipawn': 50, 'Mate': None},\n",
       "   {'Move': 'e2e3', 'Centipawn': 44, 'Mate': None},\n",
       "   {'Move': 'e2e4', 'Centipawn': 37, 'Mate': None},\n",
       "   {'Move': 'b1c3', 'Centipawn': 13, 'Mate': None},\n",
       "   {'Move': 'd1a4', 'Centipawn': 9, 'Mate': None}],\n",
       "  [{'Move': 'a7a6', 'Centipawn': 37, 'Mate': None},\n",
       "   {'Move': 'e7e6', 'Centipawn': 39, 'Mate': None},\n",
       "   {'Move': 'g8f6', 'Centipawn': 42, 'Mate': None},\n",
       "   {'Move': 'c7c5', 'Centipawn': 44, 'Mate': None},\n",
       "   {'Move': 'c7c6', 'Centipawn': 47, 'Mate': None}],\n",
       "  [{'Move': 'b1c3', 'Centipawn': 51, 'Mate': None},\n",
       "   {'Move': 'e2e3', 'Centipawn': 36, 'Mate': None},\n",
       "   {'Move': 'g2g3', 'Centipawn': 33, 'Mate': None},\n",
       "   {'Move': 'd1a4', 'Centipawn': 23, 'Mate': None},\n",
       "   {'Move': 'b1d2', 'Centipawn': -2, 'Mate': None}],\n",
       "  [{'Move': 'a7a6', 'Centipawn': 16, 'Mate': None},\n",
       "   {'Move': 'e7e6', 'Centipawn': 47, 'Mate': None},\n",
       "   {'Move': 'c7c6', 'Centipawn': 50, 'Mate': None},\n",
       "   {'Move': 'c8f5', 'Centipawn': 70, 'Mate': None},\n",
       "   {'Move': 'c7c5', 'Centipawn': 102, 'Mate': None}],\n",
       "  [{'Move': 'a2a4', 'Centipawn': 32, 'Mate': None},\n",
       "   {'Move': 'e2e4', 'Centipawn': 20, 'Mate': None},\n",
       "   {'Move': 'e2e3', 'Centipawn': -17, 'Mate': None},\n",
       "   {'Move': 'c1g5', 'Centipawn': -48, 'Mate': None},\n",
       "   {'Move': 'g2g3', 'Centipawn': -52, 'Mate': None}],\n",
       "  [{'Move': 'b8c6', 'Centipawn': -9, 'Mate': None},\n",
       "   {'Move': 'e7e6', 'Centipawn': 14, 'Mate': None},\n",
       "   {'Move': 'c8f5', 'Centipawn': 32, 'Mate': None},\n",
       "   {'Move': 'c7c5', 'Centipawn': 41, 'Mate': None},\n",
       "   {'Move': 'c8g4', 'Centipawn': 64, 'Mate': None}],\n",
       "  [{'Move': 'e2e4', 'Centipawn': 7, 'Mate': None},\n",
       "   {'Move': 'g2g3', 'Centipawn': -37, 'Mate': None},\n",
       "   {'Move': 'c1g5', 'Centipawn': -39, 'Mate': None},\n",
       "   {'Move': 'a4a5', 'Centipawn': -55, 'Mate': None},\n",
       "   {'Move': 'e2e3', 'Centipawn': -69, 'Mate': None}],\n",
       "  [{'Move': 'c8f5', 'Centipawn': -70, 'Mate': None},\n",
       "   {'Move': 'c6a5', 'Centipawn': -39, 'Mate': None},\n",
       "   {'Move': 'h7h6', 'Centipawn': -39, 'Mate': None},\n",
       "   {'Move': 'c8g4', 'Centipawn': -28, 'Mate': None},\n",
       "   {'Move': 'e7e6', 'Centipawn': -7, 'Mate': None}],\n",
       "  [{'Move': 'e2e4', 'Centipawn': 2, 'Mate': None},\n",
       "   {'Move': 'e2e3', 'Centipawn': -3, 'Mate': None},\n",
       "   {'Move': 'g5h4', 'Centipawn': -36, 'Mate': None},\n",
       "   {'Move': 'g5f6', 'Centipawn': -42, 'Mate': None},\n",
       "   {'Move': 'g2g3', 'Centipawn': -52, 'Mate': None}],\n",
       "  [{'Move': 'c6a5', 'Centipawn': -6, 'Mate': None},\n",
       "   {'Move': 'h7h6', 'Centipawn': 13, 'Mate': None},\n",
       "   {'Move': 'f8b4', 'Centipawn': 51, 'Mate': None},\n",
       "   {'Move': 'c6b4', 'Centipawn': 71, 'Mate': None},\n",
       "   {'Move': 'c8d7', 'Centipawn': 82, 'Mate': None}],\n",
       "  [{'Move': 'f3d2', 'Centipawn': -6, 'Mate': None},\n",
       "   {'Move': 'f3e5', 'Centipawn': -6, 'Mate': None},\n",
       "   {'Move': 'd1c2', 'Centipawn': -6, 'Mate': None},\n",
       "   {'Move': 'f1e2', 'Centipawn': -30, 'Mate': None},\n",
       "   {'Move': 'g5f6', 'Centipawn': -30, 'Mate': None}],\n",
       "  [{'Move': 'f8b4', 'Centipawn': -33, 'Mate': None},\n",
       "   {'Move': 'h7h6', 'Centipawn': -7, 'Mate': None},\n",
       "   {'Move': 'c7c5', 'Centipawn': -6, 'Mate': None},\n",
       "   {'Move': 'a5b3', 'Centipawn': 20, 'Mate': None},\n",
       "   {'Move': 'b7b6', 'Centipawn': 21, 'Mate': None}],\n",
       "  [{'Move': 'e5c4', 'Centipawn': 46, 'Mate': None},\n",
       "   {'Move': 'g5f6', 'Centipawn': 40, 'Mate': None},\n",
       "   {'Move': 'f1c4', 'Centipawn': -1, 'Mate': None},\n",
       "   {'Move': 'g5h4', 'Centipawn': -21, 'Mate': None},\n",
       "   {'Move': 'f1e2', 'Centipawn': -30, 'Mate': None}],\n",
       "  [{'Move': 'a5c4', 'Centipawn': 4, 'Mate': None},\n",
       "   {'Move': 'c7c5', 'Centipawn': 25, 'Mate': None},\n",
       "   {'Move': 'b7b6', 'Centipawn': 26, 'Mate': None},\n",
       "   {'Move': 'c7c6', 'Centipawn': 47, 'Mate': None},\n",
       "   {'Move': 'e7b4', 'Centipawn': 62, 'Mate': None}],\n",
       "  [{'Move': 'g2g3', 'Centipawn': 95, 'Mate': None},\n",
       "   {'Move': 'f1e2', 'Centipawn': 88, 'Mate': None},\n",
       "   {'Move': 'g5h4', 'Centipawn': 77, 'Mate': None},\n",
       "   {'Move': 'a1c1', 'Centipawn': 72, 'Mate': None},\n",
       "   {'Move': 'f1d3', 'Centipawn': 72, 'Mate': None}],\n",
       "  [{'Move': 'c6b4', 'Centipawn': 58, 'Mate': None},\n",
       "   {'Move': 'f6d5', 'Centipawn': 61, 'Mate': None},\n",
       "   {'Move': 'h7h6', 'Centipawn': 71, 'Mate': None},\n",
       "   {'Move': 'b7b6', 'Centipawn': 77, 'Mate': None},\n",
       "   {'Move': 'c8d7', 'Centipawn': 88, 'Mate': None}],\n",
       "  [{'Move': 'c4e5', 'Centipawn': 74, 'Mate': None},\n",
       "   {'Move': 'a1c1', 'Centipawn': 71, 'Mate': None},\n",
       "   {'Move': 'd3b1', 'Centipawn': 69, 'Mate': None},\n",
       "   {'Move': 'e1g1', 'Centipawn': 61, 'Mate': None},\n",
       "   {'Move': 'g5h4', 'Centipawn': 59, 'Mate': None}],\n",
       "  [{'Move': 'b7b5', 'Centipawn': 59, 'Mate': None},\n",
       "   {'Move': 'h7h6', 'Centipawn': 65, 'Mate': None},\n",
       "   {'Move': 'c6b4', 'Centipawn': 65, 'Mate': None},\n",
       "   {'Move': 'f6d5', 'Centipawn': 73, 'Mate': None},\n",
       "   {'Move': 'a8b8', 'Centipawn': 87, 'Mate': None}],\n",
       "  [{'Move': 'd3b1', 'Centipawn': 89, 'Mate': None},\n",
       "   {'Move': 'd3e2', 'Centipawn': 58, 'Mate': None},\n",
       "   {'Move': 'e1g1', 'Centipawn': 46, 'Mate': None},\n",
       "   {'Move': 'c4e5', 'Centipawn': 33, 'Mate': None},\n",
       "   {'Move': 'h2h4', 'Centipawn': 16, 'Mate': None}],\n",
       "  [{'Move': 'b7b5', 'Centipawn': 73, 'Mate': None},\n",
       "   {'Move': 'c7c5', 'Centipawn': 76, 'Mate': None},\n",
       "   {'Move': 'h7h6', 'Centipawn': 87, 'Mate': None},\n",
       "   {'Move': 'f6d5', 'Centipawn': 112, 'Mate': None},\n",
       "   {'Move': 'f6d7', 'Centipawn': 116, 'Mate': None}],\n",
       "  [{'Move': 'd1f3', 'Centipawn': 100, 'Mate': None},\n",
       "   {'Move': 'c4e5', 'Centipawn': 79, 'Mate': None},\n",
       "   {'Move': 'a4b5', 'Centipawn': 76, 'Mate': None},\n",
       "   {'Move': 'g5f6', 'Centipawn': 71, 'Mate': None},\n",
       "   {'Move': 'c4d2', 'Centipawn': 70, 'Mate': None}],\n",
       "  [{'Move': 'a6b5', 'Centipawn': 59, 'Mate': None},\n",
       "   {'Move': 'h7h6', 'Centipawn': 74, 'Mate': None},\n",
       "   {'Move': 'c8b7', 'Centipawn': 79, 'Mate': None},\n",
       "   {'Move': 'f6d7', 'Centipawn': 121, 'Mate': None},\n",
       "   {'Move': 'f6d5', 'Centipawn': 128, 'Mate': None}],\n",
       "  [{'Move': 'c4e5', 'Centipawn': 84, 'Mate': None},\n",
       "   {'Move': 'c3b5', 'Centipawn': 70, 'Mate': None},\n",
       "   {'Move': 'd1f3', 'Centipawn': 60, 'Mate': None},\n",
       "   {'Move': 'c4d2', 'Centipawn': 53, 'Mate': None},\n",
       "   {'Move': 'c4a3', 'Centipawn': 41, 'Mate': None}],\n",
       "  [{'Move': 'd8d5', 'Centipawn': -33, 'Mate': None},\n",
       "   {'Move': 'c8b7', 'Centipawn': -9, 'Mate': None},\n",
       "   {'Move': 'c8a6', 'Centipawn': 0, 'Mate': None},\n",
       "   {'Move': 'a8b8', 'Centipawn': 69, 'Mate': None},\n",
       "   {'Move': 'h7h6', 'Centipawn': 75, 'Mate': None}],\n",
       "  [{'Move': 'g5f6', 'Centipawn': 40, 'Mate': None},\n",
       "   {'Move': 'b5a3', 'Centipawn': -4, 'Mate': None},\n",
       "   {'Move': 'c4a3', 'Centipawn': -69, 'Mate': None},\n",
       "   {'Move': 'e1g1', 'Centipawn': -207, 'Mate': None},\n",
       "   {'Move': 'd1a4', 'Centipawn': -275, 'Mate': None}],\n",
       "  [{'Move': 'd8d5', 'Centipawn': -16, 'Mate': None},\n",
       "   {'Move': 'c7c5', 'Centipawn': -15, 'Mate': None},\n",
       "   {'Move': 'h7h6', 'Centipawn': 5, 'Mate': None},\n",
       "   {'Move': 'a8c8', 'Centipawn': 6, 'Mate': None},\n",
       "   {'Move': 'f6d5', 'Centipawn': 43, 'Mate': None}],\n",
       "  [{'Move': 'g5f6', 'Centipawn': 19, 'Mate': None},\n",
       "   {'Move': 'h2h4', 'Centipawn': -351, 'Mate': None},\n",
       "   {'Move': 'g5h4', 'Centipawn': -425, 'Mate': None},\n",
       "   {'Move': 'g5f4', 'Centipawn': -511, 'Mate': None},\n",
       "   {'Move': 'b1h7', 'Centipawn': -524, 'Mate': None}],\n",
       "  [{'Move': 'e7f6', 'Centipawn': -70, 'Mate': None},\n",
       "   {'Move': 'g7f6', 'Centipawn': 40, 'Mate': None},\n",
       "   {'Move': 'b4a2', 'Centipawn': 314, 'Mate': None},\n",
       "   {'Move': 'd5g2', 'Centipawn': 331, 'Mate': None},\n",
       "   {'Move': 'a6c4', 'Centipawn': 475, 'Mate': None}],\n",
       "  [{'Move': 'e1g1', 'Centipawn': 37, 'Mate': None},\n",
       "   {'Move': 'd1g4', 'Centipawn': 28, 'Mate': None},\n",
       "   {'Move': 'd1f3', 'Centipawn': 7, 'Mate': None},\n",
       "   {'Move': 'f2f3', 'Centipawn': -1, 'Mate': None},\n",
       "   {'Move': 'h1g1', 'Centipawn': -130, 'Mate': None}],\n",
       "  [{'Move': 'f8b8', 'Centipawn': 19, 'Mate': None},\n",
       "   {'Move': 'f8d8', 'Centipawn': 20, 'Mate': None},\n",
       "   {'Move': 'a8b8', 'Centipawn': 25, 'Mate': None},\n",
       "   {'Move': 'a6b7', 'Centipawn': 27, 'Mate': None},\n",
       "   {'Move': 'h7h6', 'Centipawn': 52, 'Mate': None}],\n",
       "  [{'Move': 'c4b6', 'Centipawn': 121, 'Mate': None},\n",
       "   {'Move': 'd1g4', 'Centipawn': 20, 'Mate': None},\n",
       "   {'Move': 'd4c5', 'Centipawn': -29, 'Mate': None},\n",
       "   {'Move': 'f1e1', 'Centipawn': -48, 'Mate': None},\n",
       "   {'Move': 'd1b3', 'Centipawn': -69, 'Mate': None}],\n",
       "  [{'Move': 'a8a7', 'Centipawn': -25, 'Mate': None},\n",
       "   {'Move': 'a8d8', 'Centipawn': -25, 'Mate': None},\n",
       "   {'Move': 'd5c5', 'Centipawn': -10, 'Mate': None},\n",
       "   {'Move': 'a8b8', 'Centipawn': -6, 'Mate': None},\n",
       "   {'Move': 'f8d8', 'Centipawn': 0, 'Mate': None}],\n",
       "  [{'Move': 'c4d6', 'Centipawn': -8, 'Mate': None},\n",
       "   {'Move': 'h2h3', 'Centipawn': -41, 'Mate': None},\n",
       "   {'Move': 'd1a4', 'Centipawn': -48, 'Mate': None},\n",
       "   {'Move': 'b1e4', 'Centipawn': -58, 'Mate': None},\n",
       "   {'Move': 'd1b3', 'Centipawn': -61, 'Mate': None}],\n",
       "  [{'Move': 'a8d8', 'Centipawn': -101, 'Mate': None},\n",
       "   {'Move': 'f8d8', 'Centipawn': -84, 'Mate': None},\n",
       "   {'Move': 'a8c8', 'Centipawn': -82, 'Mate': None},\n",
       "   {'Move': 'f8c8', 'Centipawn': -75, 'Mate': None},\n",
       "   {'Move': 'c5e7', 'Centipawn': -57, 'Mate': None}],\n",
       "  [{'Move': 'd1f3', 'Centipawn': -58, 'Mate': None},\n",
       "   {'Move': 'd1b3', 'Centipawn': -69, 'Mate': None},\n",
       "   {'Move': 'd1a4', 'Centipawn': -84, 'Mate': None},\n",
       "   {'Move': 'd1e2', 'Centipawn': -95, 'Mate': None},\n",
       "   {'Move': 'd1g4', 'Centipawn': -98, 'Mate': None}],\n",
       "  [{'Move': 'a8c8', 'Centipawn': -81, 'Mate': None},\n",
       "   {'Move': 'b4d5', 'Centipawn': -64, 'Mate': None},\n",
       "   {'Move': 'a8b8', 'Centipawn': -57, 'Mate': None},\n",
       "   {'Move': 'c5e7', 'Centipawn': -52, 'Mate': None},\n",
       "   {'Move': 'a8a7', 'Centipawn': -38, 'Mate': None}],\n",
       "  [{'Move': 'h2h3', 'Centipawn': -56, 'Mate': None},\n",
       "   {'Move': 'g2g3', 'Centipawn': -75, 'Mate': None},\n",
       "   {'Move': 'g1h1', 'Centipawn': -87, 'Mate': None},\n",
       "   {'Move': 'f3e2', 'Centipawn': -123, 'Mate': None},\n",
       "   {'Move': 'e3e4', 'Centipawn': -128, 'Mate': None}],\n",
       "  [{'Move': 'f6b2', 'Centipawn': -228, 'Mate': None},\n",
       "   {'Move': 'g7g6', 'Centipawn': -147, 'Mate': None},\n",
       "   {'Move': 'c5h5', 'Centipawn': -115, 'Mate': None},\n",
       "   {'Move': 'h7h6', 'Centipawn': -100, 'Mate': None},\n",
       "   {'Move': 'h7h5', 'Centipawn': -69, 'Mate': None}],\n",
       "  [{'Move': 'c1d1', 'Centipawn': -78, 'Mate': None},\n",
       "   {'Move': 'h2h3', 'Centipawn': -111, 'Mate': None},\n",
       "   {'Move': 'b2b3', 'Centipawn': -123, 'Mate': None},\n",
       "   {'Move': 'h2h4', 'Centipawn': -163, 'Mate': None},\n",
       "   {'Move': 'g1h1', 'Centipawn': -212, 'Mate': None}],\n",
       "  [{'Move': 'b4d5', 'Centipawn': -172, 'Mate': None},\n",
       "   {'Move': 'f6b2', 'Centipawn': -151, 'Mate': None},\n",
       "   {'Move': 'f6g7', 'Centipawn': -150, 'Mate': None},\n",
       "   {'Move': 'g8g7', 'Centipawn': -150, 'Mate': None},\n",
       "   {'Move': 'c5d5', 'Centipawn': -124, 'Mate': None}],\n",
       "  [{'Move': 'e4f3', 'Centipawn': -114, 'Mate': None},\n",
       "   {'Move': 'b1d3', 'Centipawn': -117, 'Mate': None},\n",
       "   {'Move': 'e1d1', 'Centipawn': -150, 'Mate': None},\n",
       "   {'Move': 'b1c2', 'Centipawn': -150, 'Mate': None},\n",
       "   {'Move': 'h2h3', 'Centipawn': -184, 'Mate': None}],\n",
       "  [{'Move': 'f6b2', 'Centipawn': -477, 'Mate': None},\n",
       "   {'Move': 'c8b8', 'Centipawn': -167, 'Mate': None},\n",
       "   {'Move': 'g8g7', 'Centipawn': -150, 'Mate': None},\n",
       "   {'Move': 'd5c3', 'Centipawn': -139, 'Mate': None},\n",
       "   {'Move': 'c5b4', 'Centipawn': -137, 'Mate': None}],\n",
       "  [{'Move': 'b3b4', 'Centipawn': -376, 'Mate': None},\n",
       "   {'Move': 'c4b2', 'Centipawn': -487, 'Mate': None},\n",
       "   {'Move': 'e4h4', 'Centipawn': -540, 'Mate': None},\n",
       "   {'Move': 'e4f3', 'Centipawn': -588, 'Mate': None},\n",
       "   {'Move': 'e4d3', 'Centipawn': -591, 'Mate': None}],\n",
       "  [{'Move': 'd5f6', 'Centipawn': -687, 'Mate': None},\n",
       "   {'Move': 'b2a3', 'Centipawn': -539, 'Mate': None},\n",
       "   {'Move': 'd5c3', 'Centipawn': -386, 'Mate': None},\n",
       "   {'Move': 'b2f6', 'Centipawn': -189, 'Mate': None},\n",
       "   {'Move': 'b2g7', 'Centipawn': -154, 'Mate': None}],\n",
       "  [{'Move': 'c4a3', 'Centipawn': -413, 'Mate': None},\n",
       "   {'Move': 'e4f3', 'Centipawn': -547, 'Mate': None},\n",
       "   {'Move': 'e4e5', 'Centipawn': -601, 'Mate': None},\n",
       "   {'Move': 'g2g3', 'Centipawn': -650, 'Mate': None},\n",
       "   {'Move': 'c2d2', 'Centipawn': -661, 'Mate': None}],\n",
       "  [{'Move': 'c5a3', 'Centipawn': -427, 'Mate': None},\n",
       "   {'Move': 'd5c3', 'Centipawn': -306, 'Mate': None},\n",
       "   {'Move': 'c5b6', 'Centipawn': -257, 'Mate': None},\n",
       "   {'Move': 'd5f6', 'Centipawn': -173, 'Mate': None},\n",
       "   {'Move': 'c5a5', 'Centipawn': -33, 'Mate': None}],\n",
       "  [{'Move': 'e4e5', 'Centipawn': -641, 'Mate': None},\n",
       "   {'Move': 'e4d4', 'Centipawn': -682, 'Mate': None},\n",
       "   {'Move': 'e4g4', 'Centipawn': -683, 'Mate': None},\n",
       "   {'Move': 'c2d2', 'Centipawn': -684, 'Mate': None},\n",
       "   {'Move': 'c2c8', 'Centipawn': -690, 'Mate': None}],\n",
       "  [{'Move': 'd8c8', 'Centipawn': -666, 'Mate': None},\n",
       "   {'Move': 'a6c8', 'Centipawn': -503, 'Mate': None},\n",
       "   {'Move': 'd8f8', 'Centipawn': 499, 'Mate': None},\n",
       "   {'Move': 'a3a5', 'Centipawn': 641, 'Mate': None},\n",
       "   {'Move': 'a3f8', 'Centipawn': 641, 'Mate': None}],\n",
       "  [{'Move': 'e4f3', 'Centipawn': -673, 'Mate': None},\n",
       "   {'Move': 'h2h3', 'Centipawn': -802, 'Mate': None},\n",
       "   {'Move': 'b1d3', 'Centipawn': -825, 'Mate': None},\n",
       "   {'Move': 'e4d4', 'Centipawn': -841, 'Mate': None},\n",
       "   {'Move': 'e4g4', 'Centipawn': -847, 'Mate': None}],\n",
       "  [{'Move': 'c8c1', 'Centipawn': -940, 'Mate': None},\n",
       "   {'Move': 'a6e2', 'Centipawn': -846, 'Mate': None},\n",
       "   {'Move': 'd5c3', 'Centipawn': -841, 'Mate': None},\n",
       "   {'Move': 'a3b4', 'Centipawn': -812, 'Mate': None},\n",
       "   {'Move': 'a3a5', 'Centipawn': -739, 'Mate': None}],\n",
       "  [{'Move': 'g2g4', 'Centipawn': -725, 'Mate': None},\n",
       "   {'Move': 'g1h1', 'Centipawn': -787, 'Mate': None},\n",
       "   {'Move': 'b1e4', 'Centipawn': -820, 'Mate': None},\n",
       "   {'Move': 'f2f3', 'Centipawn': -845, 'Mate': None},\n",
       "   {'Move': 'h2h4', 'Centipawn': -895, 'Mate': None}],\n",
       "  [{'Move': 'd5c3', 'Centipawn': -924, 'Mate': None},\n",
       "   {'Move': 'b3b8', 'Centipawn': -839, 'Mate': None},\n",
       "   {'Move': 'b3c3', 'Centipawn': -820, 'Mate': None},\n",
       "   {'Move': 'a6e2', 'Centipawn': -808, 'Mate': None},\n",
       "   {'Move': 'b3c4', 'Centipawn': -591, 'Mate': None}]],\n",
       " [[{'Move': 'c2c4', 'Centipawn': 52, 'Mate': None},\n",
       "   {'Move': 'd2d4', 'Centipawn': 52, 'Mate': None},\n",
       "   {'Move': 'e2e4', 'Centipawn': 48, 'Mate': None},\n",
       "   {'Move': 'g1f3', 'Centipawn': 31, 'Mate': None},\n",
       "   {'Move': 'g2g3', 'Centipawn': 22, 'Mate': None}],\n",
       "  [{'Move': 'e7e5', 'Centipawn': 22, 'Mate': None},\n",
       "   {'Move': 'g8f6', 'Centipawn': 25, 'Mate': None},\n",
       "   {'Move': 'e7e6', 'Centipawn': 25, 'Mate': None},\n",
       "   {'Move': 'c7c5', 'Centipawn': 29, 'Mate': None},\n",
       "   {'Move': 'b8c6', 'Centipawn': 50, 'Mate': None}],\n",
       "  [{'Move': 'd2d4', 'Centipawn': 32, 'Mate': None},\n",
       "   {'Move': 'g2g3', 'Centipawn': 29, 'Mate': None},\n",
       "   {'Move': 'g1f3', 'Centipawn': 28, 'Mate': None},\n",
       "   {'Move': 'b1c3', 'Centipawn': 23, 'Mate': None},\n",
       "   {'Move': 'a2a3', 'Centipawn': 2, 'Mate': None}],\n",
       "  [{'Move': 'e7e6', 'Centipawn': 23, 'Mate': None},\n",
       "   {'Move': 'c7c5', 'Centipawn': 31, 'Mate': None},\n",
       "   {'Move': 'e7e5', 'Centipawn': 42, 'Mate': None},\n",
       "   {'Move': 'c7c6', 'Centipawn': 53, 'Mate': None},\n",
       "   {'Move': 'd7d5', 'Centipawn': 61, 'Mate': None}],\n",
       "  [{'Move': 'd2d4', 'Centipawn': 44, 'Mate': None},\n",
       "   {'Move': 'g1f3', 'Centipawn': 37, 'Mate': None},\n",
       "   {'Move': 'e2e4', 'Centipawn': 36, 'Mate': None},\n",
       "   {'Move': 'g2g3', 'Centipawn': 21, 'Mate': None},\n",
       "   {'Move': 'e2e3', 'Centipawn': 16, 'Mate': None}],\n",
       "  [{'Move': 'c7c5', 'Centipawn': 36, 'Mate': None},\n",
       "   {'Move': 'e7e5', 'Centipawn': 47, 'Mate': None},\n",
       "   {'Move': 'd7d6', 'Centipawn': 69, 'Mate': None},\n",
       "   {'Move': 'f8g7', 'Centipawn': 69, 'Mate': None},\n",
       "   {'Move': 'b8c6', 'Centipawn': 72, 'Mate': None}],\n",
       "  [{'Move': 'd2d4', 'Centipawn': 56, 'Mate': None},\n",
       "   {'Move': 'g1f3', 'Centipawn': 48, 'Mate': None},\n",
       "   {'Move': 'g1e2', 'Centipawn': 37, 'Mate': None},\n",
       "   {'Move': 'f1e2', 'Centipawn': 10, 'Mate': None},\n",
       "   {'Move': 'g2g3', 'Centipawn': 5, 'Mate': None}],\n",
       "  [{'Move': 'e7e5', 'Centipawn': 58, 'Mate': None},\n",
       "   {'Move': 'f8g7', 'Centipawn': 69, 'Mate': None},\n",
       "   {'Move': 'b8d7', 'Centipawn': 69, 'Mate': None},\n",
       "   {'Move': 'c7c5', 'Centipawn': 78, 'Mate': None},\n",
       "   {'Move': 'b8a6', 'Centipawn': 81, 'Mate': None}],\n",
       "  [{'Move': 'h2h3', 'Centipawn': 83, 'Mate': None},\n",
       "   {'Move': 'g1f3', 'Centipawn': 83, 'Mate': None},\n",
       "   {'Move': 'f1e2', 'Centipawn': 55, 'Mate': None},\n",
       "   {'Move': 'c1e3', 'Centipawn': 54, 'Mate': None},\n",
       "   {'Move': 'f1d3', 'Centipawn': 50, 'Mate': None}],\n",
       "  [{'Move': 'e8g8', 'Centipawn': 61, 'Mate': None},\n",
       "   {'Move': 'c7c6', 'Centipawn': 72, 'Mate': None},\n",
       "   {'Move': 'b7b6', 'Centipawn': 76, 'Mate': None},\n",
       "   {'Move': 'a7a6', 'Centipawn': 79, 'Mate': None},\n",
       "   {'Move': 'b8d7', 'Centipawn': 82, 'Mate': None}],\n",
       "  [{'Move': 'c1e3', 'Centipawn': 69, 'Mate': None},\n",
       "   {'Move': 'f1d3', 'Centipawn': 60, 'Mate': None},\n",
       "   {'Move': 'f1e2', 'Centipawn': 58, 'Mate': None},\n",
       "   {'Move': 'c1f4', 'Centipawn': 55, 'Mate': None},\n",
       "   {'Move': 'h2h3', 'Centipawn': 51, 'Mate': None}],\n",
       "  [{'Move': 'h7h6', 'Centipawn': 21, 'Mate': None},\n",
       "   {'Move': 'c7c5', 'Centipawn': 28, 'Mate': None},\n",
       "   {'Move': 'c8g4', 'Centipawn': 32, 'Mate': None},\n",
       "   {'Move': 'e7e5', 'Centipawn': 38, 'Mate': None},\n",
       "   {'Move': 'c7c6', 'Centipawn': 67, 'Mate': None}],\n",
       "  [{'Move': 'h2h3', 'Centipawn': 75, 'Mate': None},\n",
       "   {'Move': 'd1c1', 'Centipawn': 69, 'Mate': None},\n",
       "   {'Move': 'd1d2', 'Centipawn': 51, 'Mate': None},\n",
       "   {'Move': 'd1c2', 'Centipawn': 50, 'Mate': None},\n",
       "   {'Move': 'f1e2', 'Centipawn': 38, 'Mate': None}],\n",
       "  [{'Move': 'e7e5', 'Centipawn': 74, 'Mate': None},\n",
       "   {'Move': 'f8e8', 'Centipawn': 81, 'Mate': None},\n",
       "   {'Move': 'b7b6', 'Centipawn': 90, 'Mate': None},\n",
       "   {'Move': 'a7a5', 'Centipawn': 96, 'Mate': None},\n",
       "   {'Move': 'c7c6', 'Centipawn': 100, 'Mate': None}],\n",
       "  [{'Move': 'd4d5', 'Centipawn': 116, 'Mate': None},\n",
       "   {'Move': 'f1e2', 'Centipawn': 81, 'Mate': None},\n",
       "   {'Move': 'a1c1', 'Centipawn': 57, 'Mate': None},\n",
       "   {'Move': 'h2h3', 'Centipawn': 54, 'Mate': None},\n",
       "   {'Move': 'a1d1', 'Centipawn': 54, 'Mate': None}],\n",
       "  [{'Move': 'd8a5', 'Centipawn': 52, 'Mate': None},\n",
       "   {'Move': 'a7a6', 'Centipawn': 82, 'Mate': None},\n",
       "   {'Move': 'f6g4', 'Centipawn': 92, 'Mate': None},\n",
       "   {'Move': 'b7b5', 'Centipawn': 128, 'Mate': None},\n",
       "   {'Move': 'a8b8', 'Centipawn': 134, 'Mate': None}],\n",
       "  [{'Move': 'a2a4', 'Centipawn': 98, 'Mate': None},\n",
       "   {'Move': 'f1d3', 'Centipawn': 95, 'Mate': None},\n",
       "   {'Move': 'h2h3', 'Centipawn': 91, 'Mate': None},\n",
       "   {'Move': 'f1e2', 'Centipawn': 84, 'Mate': None},\n",
       "   {'Move': 'a1c1', 'Centipawn': 81, 'Mate': None}],\n",
       "  [{'Move': 'a7a6', 'Centipawn': 75, 'Mate': None},\n",
       "   {'Move': 'b7b5', 'Centipawn': 75, 'Mate': None},\n",
       "   {'Move': 'd7b6', 'Centipawn': 98, 'Mate': None},\n",
       "   {'Move': 'f8e8', 'Centipawn': 134, 'Mate': None},\n",
       "   {'Move': 'a8b8', 'Centipawn': 136, 'Mate': None}],\n",
       "  [{'Move': 'e1g1', 'Centipawn': 157, 'Mate': None},\n",
       "   {'Move': 'h2h3', 'Centipawn': 154, 'Mate': None},\n",
       "   {'Move': 'a2a4', 'Centipawn': 134, 'Mate': None},\n",
       "   {'Move': 'a2a3', 'Centipawn': 129, 'Mate': None},\n",
       "   {'Move': 'a1b1', 'Centipawn': 122, 'Mate': None}],\n",
       "  [{'Move': 'f6g4', 'Centipawn': 136, 'Mate': None},\n",
       "   {'Move': 'a7a6', 'Centipawn': 150, 'Mate': None},\n",
       "   {'Move': 'a8b8', 'Centipawn': 158, 'Mate': None},\n",
       "   {'Move': 'd7b6', 'Centipawn': 163, 'Mate': None},\n",
       "   {'Move': 'b7b5', 'Centipawn': 177, 'Mate': None}],\n",
       "  [{'Move': 'h2h3', 'Centipawn': 185, 'Mate': None},\n",
       "   {'Move': 'a2a4', 'Centipawn': 185, 'Mate': None},\n",
       "   {'Move': 'a1e1', 'Centipawn': 156, 'Mate': None},\n",
       "   {'Move': 'a2a3', 'Centipawn': 156, 'Mate': None},\n",
       "   {'Move': 'f1e1', 'Centipawn': 148, 'Mate': None}],\n",
       "  [{'Move': 'c8g4', 'Centipawn': 130, 'Mate': None},\n",
       "   {'Move': 'e7e5', 'Centipawn': 163, 'Mate': None},\n",
       "   {'Move': 'e7e6', 'Centipawn': 167, 'Mate': None},\n",
       "   {'Move': 'a7a6', 'Centipawn': 171, 'Mate': None},\n",
       "   {'Move': 'a5c7', 'Centipawn': 189, 'Mate': None}],\n",
       "  [{'Move': 'h2h3', 'Centipawn': 202, 'Mate': None},\n",
       "   {'Move': 'e4e5', 'Centipawn': 148, 'Mate': None},\n",
       "   {'Move': 'g5h6', 'Centipawn': 144, 'Mate': None},\n",
       "   {'Move': 'g5f4', 'Centipawn': 140, 'Mate': None},\n",
       "   {'Move': 'g5e3', 'Centipawn': 132, 'Mate': None}],\n",
       "  [{'Move': 'c8g4', 'Centipawn': 108, 'Mate': None},\n",
       "   {'Move': 'e7e5', 'Centipawn': 156, 'Mate': None},\n",
       "   {'Move': 'f6h5', 'Centipawn': 156, 'Mate': None},\n",
       "   {'Move': 'c8d7', 'Centipawn': 157, 'Mate': None},\n",
       "   {'Move': 'f6g4', 'Centipawn': 176, 'Mate': None}],\n",
       "  [{'Move': 'h2h3', 'Centipawn': 170, 'Mate': None},\n",
       "   {'Move': 'g5f4', 'Centipawn': 158, 'Mate': None},\n",
       "   {'Move': 'a1a3', 'Centipawn': 148, 'Mate': None},\n",
       "   {'Move': 'g1h1', 'Centipawn': 142, 'Mate': None},\n",
       "   {'Move': 'e2d1', 'Centipawn': 133, 'Mate': None}],\n",
       "  [{'Move': 'f6g4', 'Centipawn': 126, 'Mate': None},\n",
       "   {'Move': 'f6h5', 'Centipawn': 128, 'Mate': None},\n",
       "   {'Move': 'e7e5', 'Centipawn': 134, 'Mate': None},\n",
       "   {'Move': 'd7g4', 'Centipawn': 150, 'Mate': None},\n",
       "   {'Move': 'a8b8', 'Centipawn': 164, 'Mate': None}],\n",
       "  [{'Move': 'e4e5', 'Centipawn': 175, 'Mate': None},\n",
       "   {'Move': 'g5h6', 'Centipawn': 168, 'Mate': None},\n",
       "   {'Move': 'h2h3', 'Centipawn': 164, 'Mate': None},\n",
       "   {'Move': 'g5f4', 'Centipawn': 158, 'Mate': None},\n",
       "   {'Move': 'a4a5', 'Centipawn': 141, 'Mate': None}],\n",
       "  [{'Move': 'e7e5', 'Centipawn': 138, 'Mate': None},\n",
       "   {'Move': 'b7b6', 'Centipawn': 195, 'Mate': None},\n",
       "   {'Move': 'a8b8', 'Centipawn': 218, 'Mate': None},\n",
       "   {'Move': 'a8c8', 'Centipawn': 221, 'Mate': None},\n",
       "   {'Move': 'a8d8', 'Centipawn': 226, 'Mate': None}],\n",
       "  [{'Move': 'g5f4', 'Centipawn': 268, 'Mate': None},\n",
       "   {'Move': 'e4e5', 'Centipawn': 247, 'Mate': None},\n",
       "   {'Move': 'a1d1', 'Centipawn': 243, 'Mate': None},\n",
       "   {'Move': 'g5h6', 'Centipawn': 200, 'Mate': None},\n",
       "   {'Move': 'a4a5', 'Centipawn': 140, 'Mate': None}],\n",
       "  [{'Move': 'a8c8', 'Centipawn': 187, 'Mate': None},\n",
       "   {'Move': 'a8d8', 'Centipawn': 222, 'Mate': None},\n",
       "   {'Move': 'a8a7', 'Centipawn': 227, 'Mate': None},\n",
       "   {'Move': 'e7e5', 'Centipawn': 230, 'Mate': None},\n",
       "   {'Move': 'e7e6', 'Centipawn': 230, 'Mate': None}],\n",
       "  [{'Move': 'b2b3', 'Centipawn': 262, 'Mate': None},\n",
       "   {'Move': 'e4e5', 'Centipawn': 244, 'Mate': None},\n",
       "   {'Move': 'g5f4', 'Centipawn': 241, 'Mate': None},\n",
       "   {'Move': 'g5h4', 'Centipawn': 238, 'Mate': None},\n",
       "   {'Move': 'g5h6', 'Centipawn': 202, 'Mate': None}],\n",
       "  [{'Move': 'd6e5', 'Centipawn': 244, 'Mate': None},\n",
       "   {'Move': 'f6h5', 'Centipawn': 419, 'Mate': None},\n",
       "   {'Move': 'b6b5', 'Centipawn': 556, 'Mate': None},\n",
       "   {'Move': 'd7a4', 'Centipawn': 758, 'Mate': None},\n",
       "   {'Move': 'd7h3', 'Centipawn': 759, 'Mate': None}],\n",
       "  [{'Move': 'f3e5', 'Centipawn': 241, 'Mate': None},\n",
       "   {'Move': 'e1e5', 'Centipawn': 208, 'Mate': None},\n",
       "   {'Move': 'f1d3', 'Centipawn': 184, 'Mate': None},\n",
       "   {'Move': 'a4a5', 'Centipawn': 183, 'Mate': None},\n",
       "   {'Move': 'd2e3', 'Centipawn': 172, 'Mate': None}],\n",
       "  [{'Move': 'f6e4', 'Centipawn': 270, 'Mate': None},\n",
       "   {'Move': 'h7h5', 'Centipawn': 301, 'Mate': None},\n",
       "   {'Move': 'd7c8', 'Centipawn': 304, 'Mate': None},\n",
       "   {'Move': 'd8c8', 'Centipawn': 310, 'Mate': None},\n",
       "   {'Move': 'c7b7', 'Centipawn': 322, 'Mate': None}],\n",
       "  [{'Move': 'g5f4', 'Centipawn': 400, 'Mate': None},\n",
       "   {'Move': 'd2f4', 'Centipawn': 362, 'Mate': None},\n",
       "   {'Move': 'g2g4', 'Centipawn': 326, 'Mate': None},\n",
       "   {'Move': 'f2f4', 'Centipawn': 284, 'Mate': None},\n",
       "   {'Move': 'd2e3', 'Centipawn': 283, 'Mate': None}],\n",
       "  [{'Move': 'f6h5', 'Centipawn': 498, 'Mate': None},\n",
       "   {'Move': 'g6g5', 'Centipawn': 588, 'Mate': None},\n",
       "   {'Move': 'a6a5', 'Centipawn': 723, 'Mate': None},\n",
       "   {'Move': 'h7h5', 'Centipawn': 734, 'Mate': None},\n",
       "   {'Move': 'd7f5', 'Centipawn': 760, 'Mate': None}],\n",
       "  [{'Move': 'f4h2', 'Centipawn': 475, 'Mate': None},\n",
       "   {'Move': 'c3e4', 'Centipawn': 308, 'Mate': None},\n",
       "   {'Move': 'g2g3', 'Centipawn': 87, 'Mate': None},\n",
       "   {'Move': 'a4a5', 'Centipawn': 72, 'Mate': None},\n",
       "   {'Move': 'e5d7', 'Centipawn': 52, 'Mate': None}],\n",
       "  [{'Move': 'f7f5', 'Centipawn': 425, 'Mate': None},\n",
       "   {'Move': 'd6f6', 'Centipawn': 701, 'Mate': None},\n",
       "   {'Move': 'd8b8', 'Centipawn': 723, 'Mate': None},\n",
       "   {'Move': 'd8a8', 'Centipawn': 750, 'Mate': None},\n",
       "   {'Move': 'h5f6', 'Centipawn': 778, 'Mate': None}],\n",
       "  [{'Move': 'c4b5', 'Centipawn': 859, 'Mate': None},\n",
       "   {'Move': 'e5f7', 'Centipawn': 829, 'Mate': None},\n",
       "   {'Move': 'a4b5', 'Centipawn': 713, 'Mate': None},\n",
       "   {'Move': 'e5c6', 'Centipawn': 708, 'Mate': None},\n",
       "   {'Move': 'e5d7', 'Centipawn': 688, 'Mate': None}],\n",
       "  [{'Move': 'd6b6', 'Centipawn': 811, 'Mate': None},\n",
       "   {'Move': 'f7f5', 'Centipawn': 818, 'Mate': None},\n",
       "   {'Move': 'a6b5', 'Centipawn': 877, 'Mate': None},\n",
       "   {'Move': 'd8a8', 'Centipawn': 894, 'Mate': None},\n",
       "   {'Move': 'd8b8', 'Centipawn': 937, 'Mate': None}],\n",
       "  [{'Move': 'e5f7', 'Centipawn': 872, 'Mate': None},\n",
       "   {'Move': 'e5c6', 'Centipawn': 813, 'Mate': None},\n",
       "   {'Move': 'g2g4', 'Centipawn': 696, 'Mate': None},\n",
       "   {'Move': 'c4b5', 'Centipawn': 644, 'Mate': None},\n",
       "   {'Move': 'c3b5', 'Centipawn': 575, 'Mate': None}],\n",
       "  [{'Move': 'd6b6', 'Centipawn': 813, 'Mate': None},\n",
       "   {'Move': 'g8f7', 'Centipawn': 881, 'Mate': None},\n",
       "   {'Move': 'b5b4', 'Centipawn': 918, 'Mate': None},\n",
       "   {'Move': 'g7c3', 'Centipawn': 959, 'Mate': None},\n",
       "   {'Move': 'd6h2', 'Centipawn': 995, 'Mate': None}],\n",
       "  [{'Move': 'g1h2', 'Centipawn': 1022, 'Mate': None}],\n",
       "  [{'Move': 'd8c8', 'Centipawn': 1001, 'Mate': None},\n",
       "   {'Move': 'b5b4', 'Centipawn': 1024, 'Mate': None},\n",
       "   {'Move': 'g8f7', 'Centipawn': 1027, 'Mate': None},\n",
       "   {'Move': 'd8b8', 'Centipawn': 1032, 'Mate': None},\n",
       "   {'Move': 'd8a8', 'Centipawn': 1082, 'Mate': None}],\n",
       "  [{'Move': 'c4b5', 'Centipawn': 974, 'Mate': None},\n",
       "   {'Move': 'g2g4', 'Centipawn': 968, 'Mate': None},\n",
       "   {'Move': 'c3e4', 'Centipawn': 966, 'Mate': None},\n",
       "   {'Move': 'g2g3', 'Centipawn': 855, 'Mate': None},\n",
       "   {'Move': 'd5d6', 'Centipawn': 853, 'Mate': None}],\n",
       "  [{'Move': 'e7e5', 'Centipawn': 888, 'Mate': None},\n",
       "   {'Move': 'g7f6', 'Centipawn': 919, 'Mate': None},\n",
       "   {'Move': 'd7b5', 'Centipawn': 948, 'Mate': None},\n",
       "   {'Move': 'f7g8', 'Centipawn': 948, 'Mate': None},\n",
       "   {'Move': 'h5f6', 'Centipawn': 974, 'Mate': None}],\n",
       "  [{'Move': 'c4b5', 'Centipawn': 918, 'Mate': None},\n",
       "   {'Move': 'g2g4', 'Centipawn': 728, 'Mate': None},\n",
       "   {'Move': 'b2b4', 'Centipawn': 532, 'Mate': None},\n",
       "   {'Move': 'd1a1', 'Centipawn': 491, 'Mate': None},\n",
       "   {'Move': 'd2e3', 'Centipawn': 451, 'Mate': None}],\n",
       "  [{'Move': 'f8d7', 'Centipawn': 909, 'Mate': None},\n",
       "   {'Move': 'e7e5', 'Centipawn': 933, 'Mate': None},\n",
       "   {'Move': 'g7d4', 'Centipawn': 952, 'Mate': None},\n",
       "   {'Move': 'e7e6', 'Centipawn': 954, 'Mate': None},\n",
       "   {'Move': 'f7g8', 'Centipawn': 976, 'Mate': None}],\n",
       "  [{'Move': 'f1c4', 'Centipawn': 1110, 'Mate': None},\n",
       "   {'Move': 'd2c2', 'Centipawn': 1013, 'Mate': None},\n",
       "   {'Move': 'd2c1', 'Centipawn': 1010, 'Mate': None},\n",
       "   {'Move': 'g2g3', 'Centipawn': 984, 'Mate': None},\n",
       "   {'Move': 'b2b3', 'Centipawn': 973, 'Mate': None}],\n",
       "  [{'Move': 'd8d6', 'Centipawn': 955, 'Mate': None},\n",
       "   {'Move': 'f8d7', 'Centipawn': 995, 'Mate': None},\n",
       "   {'Move': 'f7g8', 'Centipawn': 999, 'Mate': None},\n",
       "   {'Move': 'f6d7', 'Centipawn': 1007, 'Mate': None},\n",
       "   {'Move': 'd8a8', 'Centipawn': 1128, 'Mate': None}],\n",
       "  [{'Move': 'h2g1', 'Centipawn': 990, 'Mate': None},\n",
       "   {'Move': 'b2b4', 'Centipawn': 972, 'Mate': None},\n",
       "   {'Move': 'b2b3', 'Centipawn': 910, 'Mate': None},\n",
       "   {'Move': 'h2h1', 'Centipawn': 884, 'Mate': None},\n",
       "   {'Move': 'c4a2', 'Centipawn': 868, 'Mate': None}],\n",
       "  [{'Move': 'f8d7', 'Centipawn': 770, 'Mate': None},\n",
       "   {'Move': 'f6d7', 'Centipawn': 874, 'Mate': None},\n",
       "   {'Move': 'f7g8', 'Centipawn': 890, 'Mate': None},\n",
       "   {'Move': 'e8d8', 'Centipawn': 969, 'Mate': None},\n",
       "   {'Move': 'e8b8', 'Centipawn': 981, 'Mate': None}],\n",
       "  [{'Move': 'd2e3', 'Centipawn': 1015, 'Mate': None},\n",
       "   {'Move': 'b2b4', 'Centipawn': 973, 'Mate': None},\n",
       "   {'Move': 'd2e2', 'Centipawn': 877, 'Mate': None},\n",
       "   {'Move': 'b6b7', 'Centipawn': 863, 'Mate': None},\n",
       "   {'Move': 'h2h1', 'Centipawn': 807, 'Mate': None}],\n",
       "  [{'Move': 'f6d7', 'Centipawn': 745, 'Mate': None},\n",
       "   {'Move': 'f8d7', 'Centipawn': 757, 'Mate': None},\n",
       "   {'Move': 'f7g8', 'Centipawn': 765, 'Mate': None},\n",
       "   {'Move': 'b8b7', 'Centipawn': 784, 'Mate': None},\n",
       "   {'Move': 'g7h6', 'Centipawn': 839, 'Mate': None}],\n",
       "  [{'Move': 'a5c5', 'Centipawn': 832, 'Mate': None},\n",
       "   {'Move': 'd1d2', 'Centipawn': 729, 'Mate': None},\n",
       "   {'Move': 'e1e2', 'Centipawn': 729, 'Mate': None},\n",
       "   {'Move': 'h2g1', 'Centipawn': 720, 'Mate': None},\n",
       "   {'Move': 'a5d2', 'Centipawn': 708, 'Mate': None}],\n",
       "  [{'Move': 'b6b2', 'Centipawn': 663, 'Mate': None},\n",
       "   {'Move': 'f6d7', 'Centipawn': 818, 'Mate': None},\n",
       "   {'Move': 'g7h6', 'Centipawn': 845, 'Mate': None},\n",
       "   {'Move': 'h7h5', 'Centipawn': 871, 'Mate': None},\n",
       "   {'Move': 'g6g5', 'Centipawn': 895, 'Mate': None}],\n",
       "  [{'Move': 'd1b1', 'Centipawn': 727, 'Mate': None},\n",
       "   {'Move': 'h2h1', 'Centipawn': 721, 'Mate': None},\n",
       "   {'Move': 'c5e3', 'Centipawn': 719, 'Mate': None},\n",
       "   {'Move': 'c5d4', 'Centipawn': 695, 'Mate': None},\n",
       "   {'Move': 'c5a3', 'Centipawn': 677, 'Mate': None}],\n",
       "  [{'Move': 'f8d7', 'Centipawn': 506, 'Mate': None},\n",
       "   {'Move': 'f6d7', 'Centipawn': 557, 'Mate': None},\n",
       "   {'Move': 'f6g8', 'Centipawn': 596, 'Mate': None},\n",
       "   {'Move': 'f6e4', 'Centipawn': 844, 'Mate': None},\n",
       "   {'Move': 'f7g8', 'Centipawn': 1016, 'Mate': None}],\n",
       "  [{'Move': 'e1e7', 'Centipawn': 678, 'Mate': None},\n",
       "   {'Move': 'd1d3', 'Centipawn': 587, 'Mate': None},\n",
       "   {'Move': 'h2g1', 'Centipawn': 544, 'Mate': None},\n",
       "   {'Move': 'e1e6', 'Centipawn': 543, 'Mate': None},\n",
       "   {'Move': 'c7a7', 'Centipawn': 539, 'Mate': None}],\n",
       "  [{'Move': 'f7e7', 'Centipawn': 914, 'Mate': None},\n",
       "   {'Move': 'f7g8', 'Centipawn': 1195, 'Mate': None},\n",
       "   {'Move': 'f7f8', 'Centipawn': 1357, 'Mate': None}],\n",
       "  [{'Move': 'd1e1', 'Centipawn': 647, 'Mate': None},\n",
       "   {'Move': 'f2f3', 'Centipawn': 190, 'Mate': None},\n",
       "   {'Move': 'h2g1', 'Centipawn': 95, 'Mate': None},\n",
       "   {'Move': 'h2h1', 'Centipawn': 92, 'Mate': None},\n",
       "   {'Move': 'f2f4', 'Centipawn': 54, 'Mate': None}],\n",
       "  [{'Move': 'e7f7', 'Centipawn': 957, 'Mate': None},\n",
       "   {'Move': 'f6e4', 'Centipawn': 973, 'Mate': None},\n",
       "   {'Move': 'e7f8', 'Centipawn': 1001, 'Mate': None},\n",
       "   {'Move': 'b2e2', 'Centipawn': 1084, 'Mate': None},\n",
       "   {'Move': 'd6e6', 'Centipawn': 1767, 'Mate': None}],\n",
       "  [{'Move': 'c7d6', 'Centipawn': 892, 'Mate': None},\n",
       "   {'Move': 'h2g1', 'Centipawn': 128, 'Mate': None},\n",
       "   {'Move': 'e1e6', 'Centipawn': 119, 'Mate': None},\n",
       "   {'Move': 'f2f4', 'Centipawn': 62, 'Mate': None},\n",
       "   {'Move': 'g2g4', 'Centipawn': 36, 'Mate': None}],\n",
       "  [{'Move': 'b2c2', 'Centipawn': 802, 'Mate': None},\n",
       "   {'Move': 'g7f8', 'Centipawn': 814, 'Mate': None},\n",
       "   {'Move': 'f7g8', 'Centipawn': 841, 'Mate': None},\n",
       "   {'Move': 'f6g4', 'Centipawn': 846, 'Mate': None},\n",
       "   {'Move': 'b2d2', 'Centipawn': 905, 'Mate': None}],\n",
       "  [{'Move': 'd6e7', 'Centipawn': 1049, 'Mate': None},\n",
       "   {'Move': 'd6e6', 'Centipawn': 1021, 'Mate': None},\n",
       "   {'Move': 'e1e7', 'Centipawn': 895, 'Mate': None},\n",
       "   {'Move': 'd6c7', 'Centipawn': 830, 'Mate': None},\n",
       "   {'Move': 'h2h1', 'Centipawn': 797, 'Mate': None}],\n",
       "  [{'Move': 'f7f8', 'Centipawn': 1007, 'Mate': None}],\n",
       "  [{'Move': 'h2h1', 'Centipawn': 1178, 'Mate': None},\n",
       "   {'Move': 'c4b5', 'Centipawn': 952, 'Mate': None},\n",
       "   {'Move': 'd5d6', 'Centipawn': 912, 'Mate': None},\n",
       "   {'Move': 'e6e3', 'Centipawn': 892, 'Mate': None},\n",
       "   {'Move': 'c4b3', 'Centipawn': 827, 'Mate': None}]],\n",
       " [[{'Move': 'e2e4', 'Centipawn': 57, 'Mate': None},\n",
       "   {'Move': 'd2d4', 'Centipawn': 39, 'Mate': None},\n",
       "   {'Move': 'g1f3', 'Centipawn': 36, 'Mate': None},\n",
       "   {'Move': 'c2c4', 'Centipawn': 24, 'Mate': None},\n",
       "   {'Move': 'c2c3', 'Centipawn': 12, 'Mate': None}],\n",
       "  [{'Move': 'g8f6', 'Centipawn': 26, 'Mate': None},\n",
       "   {'Move': 'c7c6', 'Centipawn': 34, 'Mate': None},\n",
       "   {'Move': 'd7d5', 'Centipawn': 41, 'Mate': None},\n",
       "   {'Move': 'e7e6', 'Centipawn': 43, 'Mate': None},\n",
       "   {'Move': 'a7a6', 'Centipawn': 62, 'Mate': None}],\n",
       "  [{'Move': 'g1f3', 'Centipawn': 95, 'Mate': None},\n",
       "   {'Move': 'g2g3', 'Centipawn': 95, 'Mate': None},\n",
       "   {'Move': 'c1g5', 'Centipawn': 91, 'Mate': None},\n",
       "   {'Move': 'c2c4', 'Centipawn': 75, 'Mate': None},\n",
       "   {'Move': 'e2e3', 'Centipawn': 75, 'Mate': None}],\n",
       "  [{'Move': 'h7h6', 'Centipawn': 27, 'Mate': None},\n",
       "   {'Move': 'g7g6', 'Centipawn': 61, 'Mate': None},\n",
       "   {'Move': 'd7d6', 'Centipawn': 89, 'Mate': None},\n",
       "   {'Move': 'g8f6', 'Centipawn': 91, 'Mate': None},\n",
       "   {'Move': 'd7d5', 'Centipawn': 91, 'Mate': None}],\n",
       "  [{'Move': 'e2e3', 'Centipawn': 75, 'Mate': None},\n",
       "   {'Move': 'b1c3', 'Centipawn': 73, 'Mate': None},\n",
       "   {'Move': 'c2c4', 'Centipawn': 61, 'Mate': None},\n",
       "   {'Move': 'b1d2', 'Centipawn': 59, 'Mate': None},\n",
       "   {'Move': 'g5h4', 'Centipawn': 43, 'Mate': None}],\n",
       "  [{'Move': 'f8g7', 'Centipawn': 49, 'Mate': None},\n",
       "   {'Move': 'c7c6', 'Centipawn': 68, 'Mate': None},\n",
       "   {'Move': 'h7h6', 'Centipawn': 83, 'Mate': None},\n",
       "   {'Move': 'd7d6', 'Centipawn': 94, 'Mate': None},\n",
       "   {'Move': 'a7a6', 'Centipawn': 102, 'Mate': None}],\n",
       "  [{'Move': 'g1f3', 'Centipawn': 95, 'Mate': None},\n",
       "   {'Move': 'f1c4', 'Centipawn': 85, 'Mate': None},\n",
       "   {'Move': 'a2a3', 'Centipawn': 77, 'Mate': None},\n",
       "   {'Move': 'b1c3', 'Centipawn': 76, 'Mate': None},\n",
       "   {'Move': 'h2h4', 'Centipawn': 74, 'Mate': None}],\n",
       "  [{'Move': 'h6f7', 'Centipawn': 37, 'Mate': None},\n",
       "   {'Move': 'c7c6', 'Centipawn': 42, 'Mate': None},\n",
       "   {'Move': 'f8g7', 'Centipawn': 50, 'Mate': None},\n",
       "   {'Move': 'd7d5', 'Centipawn': 62, 'Mate': None},\n",
       "   {'Move': 'd7d6', 'Centipawn': 80, 'Mate': None}],\n",
       "  [{'Move': 'h2h4', 'Centipawn': 50, 'Mate': None},\n",
       "   {'Move': 'g5h4', 'Centipawn': 40, 'Mate': None},\n",
       "   {'Move': 'g5f4', 'Centipawn': 33, 'Mate': None},\n",
       "   {'Move': 'g1f3', 'Centipawn': 18, 'Mate': None},\n",
       "   {'Move': 'g1h3', 'Centipawn': 15, 'Mate': None}],\n",
       "  [{'Move': 'f8g7', 'Centipawn': 64, 'Mate': None},\n",
       "   {'Move': 'a7a5', 'Centipawn': 64, 'Mate': None},\n",
       "   {'Move': 'c7c6', 'Centipawn': 72, 'Mate': None},\n",
       "   {'Move': 'f8h6', 'Centipawn': 80, 'Mate': None},\n",
       "   {'Move': 'd7d6', 'Centipawn': 80, 'Mate': None}],\n",
       "  [{'Move': 'b1d2', 'Centipawn': 74, 'Mate': None},\n",
       "   {'Move': 'g1f3', 'Centipawn': 73, 'Mate': None},\n",
       "   {'Move': 'f2f4', 'Centipawn': 65, 'Mate': None},\n",
       "   {'Move': 'f1c4', 'Centipawn': 65, 'Mate': None},\n",
       "   {'Move': 'g1h3', 'Centipawn': 63, 'Mate': None}],\n",
       "  [{'Move': 'e8g8', 'Centipawn': 16, 'Mate': None},\n",
       "   {'Move': 'd7d5', 'Centipawn': 34, 'Mate': None},\n",
       "   {'Move': 'c7c5', 'Centipawn': 41, 'Mate': None},\n",
       "   {'Move': 'a7a5', 'Centipawn': 45, 'Mate': None},\n",
       "   {'Move': 'b7b6', 'Centipawn': 50, 'Mate': None}],\n",
       "  [{'Move': 'f3f4', 'Centipawn': 50, 'Mate': None},\n",
       "   {'Move': 'b1d2', 'Centipawn': 39, 'Mate': None},\n",
       "   {'Move': 'f1e2', 'Centipawn': 30, 'Mate': None},\n",
       "   {'Move': 'f1d3', 'Centipawn': 28, 'Mate': None},\n",
       "   {'Move': 'd1b3', 'Centipawn': 12, 'Mate': None}],\n",
       "  [{'Move': 'g6g5', 'Centipawn': 15, 'Mate': None},\n",
       "   {'Move': 'e8g8', 'Centipawn': 23, 'Mate': None},\n",
       "   {'Move': 'c7c5', 'Centipawn': 23, 'Mate': None},\n",
       "   {'Move': 'b8d7', 'Centipawn': 28, 'Mate': None},\n",
       "   {'Move': 'a7a5', 'Centipawn': 40, 'Mate': None}],\n",
       "  [{'Move': 'f1d3', 'Centipawn': 31, 'Mate': None},\n",
       "   {'Move': 'f3f4', 'Centipawn': 28, 'Mate': None},\n",
       "   {'Move': 'g1h3', 'Centipawn': 11, 'Mate': None},\n",
       "   {'Move': 'd1b3', 'Centipawn': 8, 'Mate': None},\n",
       "   {'Move': 'd1c2', 'Centipawn': -5, 'Mate': None}],\n",
       "  [{'Move': 'c7c5', 'Centipawn': 6, 'Mate': None},\n",
       "   {'Move': 'b8d7', 'Centipawn': 19, 'Mate': None},\n",
       "   {'Move': 'g6g5', 'Centipawn': 31, 'Mate': None},\n",
       "   {'Move': 'd8d6', 'Centipawn': 40, 'Mate': None},\n",
       "   {'Move': 'd8d7', 'Centipawn': 44, 'Mate': None}],\n",
       "  [{'Move': 'h4g3', 'Centipawn': 40, 'Mate': None},\n",
       "   {'Move': 'h4f2', 'Centipawn': 36, 'Mate': None},\n",
       "   {'Move': 'h4g5', 'Centipawn': -402, 'Mate': None},\n",
       "   {'Move': 'f3f4', 'Centipawn': -439, 'Mate': None},\n",
       "   {'Move': 'g1h3', 'Centipawn': -486, 'Mate': None}],\n",
       "  [{'Move': 'f5f4', 'Centipawn': 18, 'Mate': None},\n",
       "   {'Move': 'e7e5', 'Centipawn': 21, 'Mate': None},\n",
       "   {'Move': 'c7c5', 'Centipawn': 24, 'Mate': None},\n",
       "   {'Move': 'a7a5', 'Centipawn': 87, 'Mate': None},\n",
       "   {'Move': 'e7e6', 'Centipawn': 103, 'Mate': None}],\n",
       "  [{'Move': 'g1e2', 'Centipawn': 21, 'Mate': None},\n",
       "   {'Move': 'd4e5', 'Centipawn': 19, 'Mate': None},\n",
       "   {'Move': 'h2h4', 'Centipawn': 16, 'Mate': None},\n",
       "   {'Move': 'g3f2', 'Centipawn': 5, 'Mate': None},\n",
       "   {'Move': 'd3c2', 'Centipawn': -27, 'Mate': None}],\n",
       "  [{'Move': 'c7c5', 'Centipawn': -60, 'Mate': None},\n",
       "   {'Move': 'e5e4', 'Centipawn': -42, 'Mate': None},\n",
       "   {'Move': 'b8c6', 'Centipawn': -5, 'Mate': None},\n",
       "   {'Move': 'd8e7', 'Centipawn': -4, 'Mate': None},\n",
       "   {'Move': 'f5f4', 'Centipawn': 11, 'Mate': None}],\n",
       "  [{'Move': 'd3e2', 'Centipawn': -30, 'Mate': None},\n",
       "   {'Move': 'd3f1', 'Centipawn': -41, 'Mate': None},\n",
       "   {'Move': 'f3e4', 'Centipawn': -63, 'Mate': None},\n",
       "   {'Move': 'd2e4', 'Centipawn': -81, 'Mate': None},\n",
       "   {'Move': 'd3b5', 'Centipawn': -133, 'Mate': None}],\n",
       "  [{'Move': 'f5e4', 'Centipawn': -176, 'Mate': None},\n",
       "   {'Move': 'd5e4', 'Centipawn': 9, 'Mate': None},\n",
       "   {'Move': 'c7c5', 'Centipawn': 228, 'Mate': None},\n",
       "   {'Move': 'f7h6', 'Centipawn': 256, 'Mate': None},\n",
       "   {'Move': 'f5f4', 'Centipawn': 309, 'Mate': None}],\n",
       "  [{'Move': 'd3e2', 'Centipawn': -65, 'Mate': None},\n",
       "   {'Move': 'd2e4', 'Centipawn': -88, 'Mate': None},\n",
       "   {'Move': 'd3f1', 'Centipawn': -100, 'Mate': None},\n",
       "   {'Move': 'd3b5', 'Centipawn': -108, 'Mate': None},\n",
       "   {'Move': 'd3e4', 'Centipawn': -291, 'Mate': None}],\n",
       "  [{'Move': 'f7h6', 'Centipawn': -136, 'Mate': None},\n",
       "   {'Move': 'b8c6', 'Centipawn': -116, 'Mate': None},\n",
       "   {'Move': 'f7d6', 'Centipawn': -75, 'Mate': None},\n",
       "   {'Move': 'c7c6', 'Centipawn': -71, 'Mate': None},\n",
       "   {'Move': 'b8d7', 'Centipawn': -63, 'Mate': None}],\n",
       "  [{'Move': 'g1h3', 'Centipawn': -46, 'Mate': None},\n",
       "   {'Move': 'e1c1', 'Centipawn': -64, 'Mate': None},\n",
       "   {'Move': 'a2a3', 'Centipawn': -87, 'Mate': None},\n",
       "   {'Move': 'h2h4', 'Centipawn': -88, 'Mate': None},\n",
       "   {'Move': 'c2b3', 'Centipawn': -95, 'Mate': None}],\n",
       "  [{'Move': 'd7b6', 'Centipawn': -97, 'Mate': None},\n",
       "   {'Move': 'f7h6', 'Centipawn': -89, 'Mate': None},\n",
       "   {'Move': 'c7c6', 'Centipawn': -73, 'Mate': None},\n",
       "   {'Move': 'd7f6', 'Centipawn': -61, 'Mate': None},\n",
       "   {'Move': 'c7c5', 'Centipawn': -22, 'Mate': None}],\n",
       "  [{'Move': 'h2h4', 'Centipawn': 2, 'Mate': None},\n",
       "   {'Move': 'g1h3', 'Centipawn': -47, 'Mate': None},\n",
       "   {'Move': 'd1f1', 'Centipawn': -74, 'Mate': None},\n",
       "   {'Move': 'a2a3', 'Centipawn': -93, 'Mate': None},\n",
       "   {'Move': 'd2f1', 'Centipawn': -96, 'Mate': None}],\n",
       "  [{'Move': 'f7h6', 'Centipawn': -35, 'Mate': None},\n",
       "   {'Move': 'd7b6', 'Centipawn': -23, 'Mate': None},\n",
       "   {'Move': 'd7f6', 'Centipawn': -16, 'Mate': None},\n",
       "   {'Move': 'g7f6', 'Centipawn': 20, 'Mate': None},\n",
       "   {'Move': 'a7a5', 'Centipawn': 40, 'Mate': None}],\n",
       "  [{'Move': 'h4g5', 'Centipawn': 95, 'Mate': None},\n",
       "   {'Move': 'd1f1', 'Centipawn': 59, 'Mate': None},\n",
       "   {'Move': 'c1b1', 'Centipawn': 37, 'Mate': None},\n",
       "   {'Move': 'd1e1', 'Centipawn': 19, 'Mate': None},\n",
       "   {'Move': 'g1h3', 'Centipawn': 3, 'Mate': None}],\n",
       "  [{'Move': 'd8g5', 'Centipawn': 67, 'Mate': None},\n",
       "   {'Move': 'f7g5', 'Centipawn': 111, 'Mate': None},\n",
       "   {'Move': 'b5b4', 'Centipawn': 116, 'Mate': None},\n",
       "   {'Move': 'a7a5', 'Centipawn': 118, 'Mate': None},\n",
       "   {'Move': 'd7b6', 'Centipawn': 119, 'Mate': None}],\n",
       "  [{'Move': 'g3h4', 'Centipawn': 150, 'Mate': None},\n",
       "   {'Move': 'g1h3', 'Centipawn': 125, 'Mate': None},\n",
       "   {'Move': 'h1h5', 'Centipawn': 115, 'Mate': None},\n",
       "   {'Move': 'g3f4', 'Centipawn': 109, 'Mate': None},\n",
       "   {'Move': 'c1b1', 'Centipawn': 100, 'Mate': None}],\n",
       "  [{'Move': 'd7b6', 'Centipawn': 114, 'Mate': None},\n",
       "   {'Move': 'a7a5', 'Centipawn': 118, 'Mate': None},\n",
       "   {'Move': 'g5h3', 'Centipawn': 138, 'Mate': None},\n",
       "   {'Move': 'h7h6', 'Centipawn': 142, 'Mate': None},\n",
       "   {'Move': 'g5e6', 'Centipawn': 162, 'Mate': None}],\n",
       "  [{'Move': 'h1h3', 'Centipawn': 145, 'Mate': None},\n",
       "   {'Move': 'g2h3', 'Centipawn': 41, 'Mate': None},\n",
       "   {'Move': 'd2e4', 'Centipawn': -293, 'Mate': None},\n",
       "   {'Move': 'a2a4', 'Centipawn': -300, 'Mate': None},\n",
       "   {'Move': 'c3c4', 'Centipawn': -303, 'Mate': None}],\n",
       "  [{'Move': 'g7h6', 'Centipawn': 23, 'Mate': None},\n",
       "   {'Move': 'g8h8', 'Centipawn': 46, 'Mate': None},\n",
       "   {'Move': 'd8e7', 'Centipawn': 55, 'Mate': None},\n",
       "   {'Move': 'a7a5', 'Centipawn': 62, 'Mate': None},\n",
       "   {'Move': 'd7b6', 'Centipawn': 67, 'Mate': None}],\n",
       "  [{'Move': 'c1b1', 'Centipawn': 71, 'Mate': None},\n",
       "   {'Move': 'g3d6', 'Centipawn': 57, 'Mate': None},\n",
       "   {'Move': 'e2g4', 'Centipawn': 50, 'Mate': None},\n",
       "   {'Move': 'g3f4', 'Centipawn': 48, 'Mate': None},\n",
       "   {'Move': 'd1g1', 'Centipawn': 43, 'Mate': None}],\n",
       "  [{'Move': 'd8e7', 'Centipawn': 22, 'Mate': None},\n",
       "   {'Move': 'a7a5', 'Centipawn': 33, 'Mate': None},\n",
       "   {'Move': 'd7b6', 'Centipawn': 34, 'Mate': None},\n",
       "   {'Move': 'd7f6', 'Centipawn': 66, 'Mate': None},\n",
       "   {'Move': 'd8g5', 'Centipawn': 68, 'Mate': None}],\n",
       "  [{'Move': 'd1g1', 'Centipawn': 84, 'Mate': None},\n",
       "   {'Move': 'g3f4', 'Centipawn': 75, 'Mate': None},\n",
       "   {'Move': 'd1f1', 'Centipawn': 55, 'Mate': None},\n",
       "   {'Move': 'd2b3', 'Centipawn': 53, 'Mate': None},\n",
       "   {'Move': 'g4e2', 'Centipawn': 50, 'Mate': None}],\n",
       "  [{'Move': 'a8c8', 'Centipawn': 6, 'Mate': None},\n",
       "   {'Move': 'f6h5', 'Centipawn': 50, 'Mate': None},\n",
       "   {'Move': 'd8c8', 'Centipawn': 75, 'Mate': None},\n",
       "   {'Move': 'b5b4', 'Centipawn': 445, 'Mate': None},\n",
       "   {'Move': 'a7a5', 'Centipawn': 551, 'Mate': None}],\n",
       "  [{'Move': 'd1g1', 'Centipawn': 50, 'Mate': None},\n",
       "   {'Move': 'd1f1', 'Centipawn': 36, 'Mate': None},\n",
       "   {'Move': 'h1f1', 'Centipawn': -9, 'Mate': None},\n",
       "   {'Move': 'd1e1', 'Centipawn': -9, 'Mate': None},\n",
       "   {'Move': 'd2b3', 'Centipawn': -18, 'Mate': None}],\n",
       "  [{'Move': 'f6h5', 'Centipawn': -55, 'Mate': None},\n",
       "   {'Move': 'f6d7', 'Centipawn': -32, 'Mate': None},\n",
       "   {'Move': 'd8e7', 'Centipawn': -22, 'Mate': None},\n",
       "   {'Move': 'f6g8', 'Centipawn': 0, 'Mate': None},\n",
       "   {'Move': 'f6e8', 'Centipawn': 29, 'Mate': None}],\n",
       "  [{'Move': 'h1g1', 'Centipawn': 65, 'Mate': None},\n",
       "   {'Move': 'd2b3', 'Centipawn': 40, 'Mate': None},\n",
       "   {'Move': 'd1g1', 'Centipawn': 34, 'Mate': None},\n",
       "   {'Move': 'd1f1', 'Centipawn': 30, 'Mate': None},\n",
       "   {'Move': 'h1f1', 'Centipawn': 7, 'Mate': None}],\n",
       "  [{'Move': 'f6h5', 'Centipawn': 40, 'Mate': None},\n",
       "   {'Move': 'd8e7', 'Centipawn': 40, 'Mate': None},\n",
       "   {'Move': 'f6e8', 'Centipawn': 95, 'Mate': None},\n",
       "   {'Move': 'f6d7', 'Centipawn': 120, 'Mate': None},\n",
       "   {'Move': 'a7a5', 'Centipawn': 149, 'Mate': None}],\n",
       "  [{'Move': 'g1g7', 'Centipawn': 124, 'Mate': None},\n",
       "   {'Move': 'e5g7', 'Centipawn': 98, 'Mate': None},\n",
       "   {'Move': 'e5f4', 'Centipawn': 20, 'Mate': None},\n",
       "   {'Move': 'e5h2', 'Centipawn': -84, 'Mate': None},\n",
       "   {'Move': 'd2e4', 'Centipawn': -128, 'Mate': None}],\n",
       "  [{'Move': 'g8g7', 'Centipawn': 59, 'Mate': None}],\n",
       "  [{'Move': 'g1g7', 'Centipawn': 65, 'Mate': None},\n",
       "   {'Move': 'd2b3', 'Centipawn': 31, 'Mate': None},\n",
       "   {'Move': 'a2a4', 'Centipawn': 16, 'Mate': None},\n",
       "   {'Move': 'c1b1', 'Centipawn': -8, 'Mate': None},\n",
       "   {'Move': 'd2b1', 'Centipawn': -20, 'Mate': None}],\n",
       "  [{'Move': 'h8g7', 'Centipawn': 76, 'Mate': None},\n",
       "   {'Move': 'b5b4', 'Centipawn': 708, 'Mate': None},\n",
       "   {'Move': 'c6c5', 'Centipawn': 736, 'Mate': None},\n",
       "   {'Move': 'd7e5', 'Centipawn': 857, 'Mate': None},\n",
       "   {'Move': 'd7c5', 'Centipawn': 861, 'Mate': None}],\n",
       "  [{'Move': 'd1g1', 'Centipawn': 88, 'Mate': None},\n",
       "   {'Move': 'd2b3', 'Centipawn': 49, 'Mate': None},\n",
       "   {'Move': 'd2f1', 'Centipawn': 13, 'Mate': None},\n",
       "   {'Move': 'd1f1', 'Centipawn': -20, 'Mate': None},\n",
       "   {'Move': 'c1b1', 'Centipawn': -32, 'Mate': None}],\n",
       "  [{'Move': 'g7h8', 'Centipawn': 75, 'Mate': None},\n",
       "   {'Move': 'g7h6', 'Centipawn': 125, 'Mate': None},\n",
       "   {'Move': 'g7f7', 'Centipawn': 137, 'Mate': None},\n",
       "   {'Move': 'g7f8', 'Centipawn': 162, 'Mate': None},\n",
       "   {'Move': 'g7f6', 'Centipawn': 235, 'Mate': None}],\n",
       "  [{'Move': 'd2b3', 'Centipawn': 57, 'Mate': None},\n",
       "   {'Move': 'd2f1', 'Centipawn': 36, 'Mate': None},\n",
       "   {'Move': 'd2b1', 'Centipawn': 27, 'Mate': None},\n",
       "   {'Move': 'c2b3', 'Centipawn': 9, 'Mate': None},\n",
       "   {'Move': 'a2a4', 'Centipawn': 7, 'Mate': None}],\n",
       "  [{'Move': 'd8f6', 'Centipawn': -6, 'Mate': None},\n",
       "   {'Move': 'd8e7', 'Centipawn': 32, 'Mate': None},\n",
       "   {'Move': 'c6c5', 'Centipawn': 49, 'Mate': None},\n",
       "   {'Move': 'a7a5', 'Centipawn': 51, 'Mate': None},\n",
       "   {'Move': 'd8f8', 'Centipawn': 55, 'Mate': None}],\n",
       "  [{'Move': 'c2g2', 'Centipawn': 108, 'Mate': None},\n",
       "   {'Move': 'f1h2', 'Centipawn': 42, 'Mate': None},\n",
       "   {'Move': 'c2h2', 'Centipawn': 27, 'Mate': None},\n",
       "   {'Move': 'c2e2', 'Centipawn': 6, 'Mate': None},\n",
       "   {'Move': 'c1b1', 'Centipawn': -15, 'Mate': None}],\n",
       "  [{'Move': 'f6f7', 'Centipawn': 16, 'Mate': None},\n",
       "   {'Move': 'c6c5', 'Centipawn': 23, 'Mate': None},\n",
       "   {'Move': 'a7a5', 'Centipawn': 59, 'Mate': None},\n",
       "   {'Move': 'c8f8', 'Centipawn': 61, 'Mate': None},\n",
       "   {'Move': 'f6e7', 'Centipawn': 75, 'Mate': None}],\n",
       "  [{'Move': 'g2e2', 'Centipawn': 40, 'Mate': None},\n",
       "   {'Move': 'f1h2', 'Centipawn': 29, 'Mate': None},\n",
       "   {'Move': 'g2g3', 'Centipawn': 23, 'Mate': None},\n",
       "   {'Move': 'f1d2', 'Centipawn': 23, 'Mate': None},\n",
       "   {'Move': 'c1c2', 'Centipawn': 6, 'Mate': None}],\n",
       "  [{'Move': 'c8g8', 'Centipawn': -35, 'Mate': None},\n",
       "   {'Move': 'a7a5', 'Centipawn': -18, 'Mate': None},\n",
       "   {'Move': 'a7a6', 'Centipawn': -2, 'Mate': None},\n",
       "   {'Move': 'c8f8', 'Centipawn': 10, 'Mate': None},\n",
       "   {'Move': 'c8e8', 'Centipawn': 11, 'Mate': None}],\n",
       "  [{'Move': 'g4g8', 'Centipawn': -40, 'Mate': None},\n",
       "   {'Move': 'g4f4', 'Centipawn': -99, 'Mate': None},\n",
       "   {'Move': 'g4g3', 'Centipawn': -758, 'Mate': None},\n",
       "   {'Move': 'f1g3', 'Centipawn': -763, 'Mate': None},\n",
       "   {'Move': 'g4d7', 'Centipawn': -776, 'Mate': None}],\n",
       "  [{'Move': 'f7g8', 'Centipawn': -38, 'Mate': None}],\n",
       "  [{'Move': 'g1g8', 'Centipawn': -41, 'Mate': None},\n",
       "   {'Move': 'f1g3', 'Centipawn': -705, 'Mate': None},\n",
       "   {'Move': 'c1d1', 'Centipawn': -810, 'Mate': None},\n",
       "   {'Move': 'g1g7', 'Centipawn': -823, 'Mate': None},\n",
       "   {'Move': 'g1h1', 'Centipawn': -888, 'Mate': None}],\n",
       "  [{'Move': 'h8g8', 'Centipawn': -50, 'Mate': None}],\n",
       "  [{'Move': 'f1g3', 'Centipawn': -77, 'Mate': None},\n",
       "   {'Move': 'c1d1', 'Centipawn': -79, 'Mate': None},\n",
       "   {'Move': 'c1d2', 'Centipawn': -84, 'Mate': None},\n",
       "   {'Move': 'b2b3', 'Centipawn': -86, 'Mate': None},\n",
       "   {'Move': 'c1c2', 'Centipawn': -87, 'Mate': None}],\n",
       "  [{'Move': 'g8f7', 'Centipawn': -73, 'Mate': None},\n",
       "   {'Move': 'g8g7', 'Centipawn': -73, 'Mate': None},\n",
       "   {'Move': 'd7b6', 'Centipawn': -65, 'Mate': None},\n",
       "   {'Move': 'g8f8', 'Centipawn': -65, 'Mate': None},\n",
       "   {'Move': 'd7f8', 'Centipawn': -48, 'Mate': None}],\n",
       "  [{'Move': 'c1d2', 'Centipawn': -69, 'Mate': None},\n",
       "   {'Move': 'c1d1', 'Centipawn': -69, 'Mate': None},\n",
       "   {'Move': 'g3h5', 'Centipawn': -91, 'Mate': None},\n",
       "   {'Move': 'h3h4', 'Centipawn': -125, 'Mate': None},\n",
       "   {'Move': 'b2b3', 'Centipawn': -132, 'Mate': None}],\n",
       "  [{'Move': 'f7g6', 'Centipawn': -98, 'Mate': None},\n",
       "   {'Move': 'f7f6', 'Centipawn': -84, 'Mate': None},\n",
       "   {'Move': 'd7b6', 'Centipawn': -71, 'Mate': None},\n",
       "   {'Move': 'd7f8', 'Centipawn': -67, 'Mate': None},\n",
       "   {'Move': 'f7g7', 'Centipawn': -66, 'Mate': None}],\n",
       "  [{'Move': 'd2e2', 'Centipawn': -92, 'Mate': None},\n",
       "   {'Move': 'd2e1', 'Centipawn': -95, 'Mate': None},\n",
       "   {'Move': 'h3h4', 'Centipawn': -105, 'Mate': None},\n",
       "   {'Move': 'b2b3', 'Centipawn': -147, 'Mate': None},\n",
       "   {'Move': 'g3e2', 'Centipawn': -299, 'Mate': None}],\n",
       "  [{'Move': 'g6g5', 'Centipawn': -96, 'Mate': None},\n",
       "   {'Move': 'd7b6', 'Centipawn': -85, 'Mate': None},\n",
       "   {'Move': 'h7h5', 'Centipawn': -68, 'Mate': None},\n",
       "   {'Move': 'd7f8', 'Centipawn': -55, 'Mate': None},\n",
       "   {'Move': 'g6f6', 'Centipawn': -46, 'Mate': None}],\n",
       "  [{'Move': 'e2f1', 'Centipawn': -56, 'Mate': None},\n",
       "   {'Move': 'b2b3', 'Centipawn': -61, 'Mate': None},\n",
       "   {'Move': 'e2f2', 'Centipawn': -63, 'Mate': None},\n",
       "   {'Move': 'e2e1', 'Centipawn': -82, 'Mate': None},\n",
       "   {'Move': 'g3f1', 'Centipawn': -112, 'Mate': None}],\n",
       "  [{'Move': 'g6g5', 'Centipawn': -78, 'Mate': None},\n",
       "   {'Move': 'd7f6', 'Centipawn': -76, 'Mate': None},\n",
       "   {'Move': 'd7b6', 'Centipawn': -67, 'Mate': None},\n",
       "   {'Move': 'a5a4', 'Centipawn': -40, 'Mate': None},\n",
       "   {'Move': 'd7f8', 'Centipawn': -33, 'Mate': None}],\n",
       "  [{'Move': 'h3h4', 'Centipawn': -59, 'Mate': None},\n",
       "   {'Move': 'e2f1', 'Centipawn': -74, 'Mate': None},\n",
       "   {'Move': 'e2f2', 'Centipawn': -81, 'Mate': None},\n",
       "   {'Move': 'e2e1', 'Centipawn': -102, 'Mate': None},\n",
       "   {'Move': 'g3f1', 'Centipawn': -114, 'Mate': None}],\n",
       "  [{'Move': 'g6g5', 'Centipawn': -82, 'Mate': None},\n",
       "   {'Move': 'b6c8', 'Centipawn': -31, 'Mate': None},\n",
       "   {'Move': 'a5a4', 'Centipawn': -20, 'Mate': None},\n",
       "   {'Move': 'g6f6', 'Centipawn': -14, 'Mate': None},\n",
       "   {'Move': 'g6g7', 'Centipawn': -7, 'Mate': None}],\n",
       "  [{'Move': 'g3e2', 'Centipawn': -20, 'Mate': None},\n",
       "   {'Move': 'h3h4', 'Centipawn': -32, 'Mate': None},\n",
       "   {'Move': 'g3f1', 'Centipawn': -69, 'Mate': None},\n",
       "   {'Move': 'f2g2', 'Centipawn': -82, 'Mate': None},\n",
       "   {'Move': 'f2g1', 'Centipawn': -87, 'Mate': None}],\n",
       "  [{'Move': 'g6g5', 'Centipawn': -42, 'Mate': None},\n",
       "   {'Move': 'b6c8', 'Centipawn': -28, 'Mate': None},\n",
       "   {'Move': 'a4a3', 'Centipawn': -9, 'Mate': None},\n",
       "   {'Move': 'g6f6', 'Centipawn': -4, 'Mate': None},\n",
       "   {'Move': 'a4b3', 'Centipawn': 0, 'Mate': None}],\n",
       "  [{'Move': 'f2g3', 'Centipawn': 0, 'Mate': None},\n",
       "   {'Move': 'e2f4', 'Centipawn': 0, 'Mate': None},\n",
       "   {'Move': 'f2g2', 'Centipawn': -16, 'Mate': None},\n",
       "   {'Move': 'h3h4', 'Centipawn': -52, 'Mate': None},\n",
       "   {'Move': 'f2g1', 'Centipawn': -81, 'Mate': None}],\n",
       "  [{'Move': 'g6f5', 'Centipawn': 0, 'Mate': None},\n",
       "   {'Move': 'b6c8', 'Centipawn': 0, 'Mate': None},\n",
       "   {'Move': 'g6g7', 'Centipawn': 1, 'Mate': None},\n",
       "   {'Move': 'g6g5', 'Centipawn': 12, 'Mate': None},\n",
       "   {'Move': 'g6f6', 'Centipawn': 16, 'Mate': None}],\n",
       "  [{'Move': 'g3h4', 'Centipawn': 1, 'Mate': None},\n",
       "   {'Move': 'e2f4', 'Centipawn': 0, 'Mate': None},\n",
       "   {'Move': 'g3f2', 'Centipawn': -24, 'Mate': None},\n",
       "   {'Move': 'g3g2', 'Centipawn': -24, 'Mate': None},\n",
       "   {'Move': 'h3h4', 'Centipawn': -28, 'Mate': None}],\n",
       "  [{'Move': 'b6c8', 'Centipawn': -8, 'Mate': None},\n",
       "   {'Move': 'b6d7', 'Centipawn': -8, 'Mate': None},\n",
       "   {'Move': 'b6a8', 'Centipawn': -6, 'Mate': None},\n",
       "   {'Move': 'h7h6', 'Centipawn': 0, 'Mate': None},\n",
       "   {'Move': 'f5f6', 'Centipawn': 4, 'Mate': None}],\n",
       "  [{'Move': 'e2f4', 'Centipawn': 0, 'Mate': None},\n",
       "   {'Move': 'g3h3', 'Centipawn': -6, 'Mate': None},\n",
       "   {'Move': 'e2c1', 'Centipawn': -52, 'Mate': None},\n",
       "   {'Move': 'e2g1', 'Centipawn': -105, 'Mate': None},\n",
       "   {'Move': 'b3b4', 'Centipawn': -162, 'Mate': None}],\n",
       "  [{'Move': 'c8d6', 'Centipawn': -5, 'Mate': None},\n",
       "   {'Move': 'c8e7', 'Centipawn': 0, 'Mate': None},\n",
       "   {'Move': 'h7h6', 'Centipawn': 0, 'Mate': None},\n",
       "   {'Move': 'f5f6', 'Centipawn': 0, 'Mate': None},\n",
       "   {'Move': 'f5g6', 'Centipawn': 0, 'Mate': None}],\n",
       "  [{'Move': 'e2g3', 'Centipawn': 0, 'Mate': None},\n",
       "   {'Move': 'e2f4', 'Centipawn': -13, 'Mate': None},\n",
       "   {'Move': 'h3g3', 'Centipawn': -77, 'Mate': None},\n",
       "   {'Move': 'b3b4', 'Centipawn': -111, 'Mate': None},\n",
       "   {'Move': 'h4h5', 'Centipawn': -183, 'Mate': None}],\n",
       "  [{'Move': 'f5f6', 'Centipawn': 0, 'Mate': None},\n",
       "   {'Move': 'f5g6', 'Centipawn': 0, 'Mate': None},\n",
       "   {'Move': 'f5e6', 'Centipawn': 0, 'Mate': None}],\n",
       "  [{'Move': 'h3g4', 'Centipawn': 0, 'Mate': None},\n",
       "   {'Move': 'h3h2', 'Centipawn': -4, 'Mate': None},\n",
       "   {'Move': 'h3g2', 'Centipawn': -20, 'Mate': None},\n",
       "   {'Move': 'g3e2', 'Centipawn': -48, 'Mate': None},\n",
       "   {'Move': 'b3b4', 'Centipawn': -125, 'Mate': None}],\n",
       "  [{'Move': 'h7h6', 'Centipawn': 0, 'Mate': None},\n",
       "   {'Move': 'g6f6', 'Centipawn': 0, 'Mate': None},\n",
       "   {'Move': 'd6e8', 'Centipawn': 0, 'Mate': None},\n",
       "   {'Move': 'd6b7', 'Centipawn': 0, 'Mate': None},\n",
       "   {'Move': 'd6c8', 'Centipawn': 5, 'Mate': None}],\n",
       "  [{'Move': 'g3e2', 'Centipawn': 5, 'Mate': None},\n",
       "   {'Move': 'g4f4', 'Centipawn': 0, 'Mate': None},\n",
       "   {'Move': 'g3f5', 'Centipawn': 0, 'Mate': None},\n",
       "   {'Move': 'g4h3', 'Centipawn': 0, 'Mate': None},\n",
       "   {'Move': 'g3h5', 'Centipawn': 0, 'Mate': None}],\n",
       "  [{'Move': 'g6f6', 'Centipawn': 0, 'Mate': None},\n",
       "   {'Move': 'b7a5', 'Centipawn': 2, 'Mate': None},\n",
       "   {'Move': 'b7d8', 'Centipawn': 8, 'Mate': None},\n",
       "   {'Move': 'h7h5', 'Centipawn': 28, 'Mate': None},\n",
       "   {'Move': 'g6f7', 'Centipawn': 37, 'Mate': None}],\n",
       "  [{'Move': 'g4f4', 'Centipawn': -73, 'Mate': None},\n",
       "   {'Move': 'b3b4', 'Centipawn': -125, 'Mate': None},\n",
       "   {'Move': 'h4h5', 'Centipawn': -161, 'Mate': None},\n",
       "   {'Move': 'c3c4', 'Centipawn': -208, 'Mate': None},\n",
       "   {'Move': 'f5e7', 'Centipawn': -252, 'Mate': None}],\n",
       "  [{'Move': 'a5b3', 'Centipawn': -268, 'Mate': None},\n",
       "   {'Move': 'g6f6', 'Centipawn': -227, 'Mate': None},\n",
       "   {'Move': 'g6h5', 'Centipawn': -67, 'Mate': None},\n",
       "   {'Move': 'g6f7', 'Centipawn': -4, 'Mate': None},\n",
       "   {'Move': 'h7h6', 'Centipawn': 0, 'Mate': None}],\n",
       "  [{'Move': 'f5e7', 'Centipawn': -276, 'Mate': None},\n",
       "   {'Move': 'a2b3', 'Centipawn': -441, 'Mate': None},\n",
       "   {'Move': 'f4e5', 'Centipawn': -455, 'Mate': None},\n",
       "   {'Move': 'c3c4', 'Centipawn': -468, 'Mate': None},\n",
       "   {'Move': 'f4g4', 'Centipawn': -503, 'Mate': None}],\n",
       "  [{'Move': 'g6f6', 'Centipawn': -276, 'Mate': None},\n",
       "   {'Move': 'g6h5', 'Centipawn': -191, 'Mate': None},\n",
       "   {'Move': 'g6h6', 'Centipawn': -167, 'Mate': None},\n",
       "   {'Move': 'g6f7', 'Centipawn': -117, 'Mate': None},\n",
       "   {'Move': 'g6g7', 'Centipawn': -77, 'Mate': None}],\n",
       "  [{'Move': 'e7c6', 'Centipawn': -117, 'Mate': None},\n",
       "   {'Move': 'e7f5', 'Centipawn': -566, 'Mate': None},\n",
       "   {'Move': 'e7c8', 'Centipawn': -638, 'Mate': None},\n",
       "   {'Move': 'e7g8', 'Centipawn': -655, 'Mate': None},\n",
       "   {'Move': 'a2b3', 'Centipawn': -703, 'Mate': None}],\n",
       "  [{'Move': 'b3c1', 'Centipawn': -117, 'Mate': None},\n",
       "   {'Move': 'b3d2', 'Centipawn': 29, 'Mate': None},\n",
       "   {'Move': 'f7e6', 'Centipawn': 41, 'Mate': None},\n",
       "   {'Move': 'f7f6', 'Centipawn': 169, 'Mate': None},\n",
       "   {'Move': 'f7g6', 'Centipawn': 171, 'Mate': None}],\n",
       "  [{'Move': 'c6a7', 'Centipawn': -75, 'Mate': None},\n",
       "   {'Move': 'c6b4', 'Centipawn': -96, 'Mate': None},\n",
       "   {'Move': 'f4e5', 'Centipawn': -391, 'Mate': None},\n",
       "   {'Move': 'c3c4', 'Centipawn': -409, 'Mate': None},\n",
       "   {'Move': 'h4h5', 'Centipawn': -557, 'Mate': None}],\n",
       "  [{'Move': 'c1e2', 'Centipawn': -444, 'Mate': None},\n",
       "   {'Move': 'f7f6', 'Centipawn': -31, 'Mate': None},\n",
       "   {'Move': 'h7h5', 'Centipawn': -17, 'Mate': None},\n",
       "   {'Move': 'c1a2', 'Centipawn': -1, 'Mate': None},\n",
       "   {'Move': 'b5b4', 'Centipawn': 0, 'Mate': None}],\n",
       "  [{'Move': 'a7b5', 'Centipawn': -4, 'Mate': None},\n",
       "   {'Move': 'c3c4', 'Centipawn': -606, 'Mate': None},\n",
       "   {'Move': 'f4e5', 'Centipawn': -710, 'Mate': None},\n",
       "   {'Move': 'a7c6', 'Centipawn': -725, 'Mate': None},\n",
       "   {'Move': 'a7c8', 'Centipawn': -772, 'Mate': None}],\n",
       "  [{'Move': 'f7e6', 'Centipawn': 31, 'Mate': None},\n",
       "   {'Move': 'f7f6', 'Centipawn': 70, 'Mate': None},\n",
       "   {'Move': 'f7g6', 'Centipawn': 93, 'Mate': None},\n",
       "   {'Move': 'h7h6', 'Centipawn': 113, 'Mate': None},\n",
       "   {'Move': 'a2c1', 'Centipawn': 126, 'Mate': None}],\n",
       "  [{'Move': 'b5a3', 'Centipawn': 134, 'Mate': None},\n",
       "   {'Move': 'c3c4', 'Centipawn': -572, 'Mate': None},\n",
       "   {'Move': 'f4e5', 'Centipawn': -632, 'Mate': None},\n",
       "   {'Move': 'b5c7', 'Centipawn': -646, 'Mate': None},\n",
       "   {'Move': 'f4f5', 'Centipawn': -648, 'Mate': None}],\n",
       "  [{'Move': 'f7f6', 'Centipawn': 111, 'Mate': None},\n",
       "   {'Move': 'c1e2', 'Centipawn': 215, 'Mate': None},\n",
       "   {'Move': 'c1a2', 'Centipawn': 216, 'Mate': None},\n",
       "   {'Move': 'f7e6', 'Centipawn': 230, 'Mate': None},\n",
       "   {'Move': 'c1d3', 'Centipawn': 348, 'Mate': None}],\n",
       "  [{'Move': 'f4f5', 'Centipawn': 348, 'Mate': None},\n",
       "   {'Move': 'f4g5', 'Centipawn': 131, 'Mate': None},\n",
       "   {'Move': 'f4g4', 'Centipawn': 108, 'Mate': None},\n",
       "   {'Move': 'f4g3', 'Centipawn': 44, 'Mate': None}]],\n",
       " [[{'Move': 'e2e4', 'Centipawn': 54, 'Mate': None},\n",
       "   {'Move': 'd2d4', 'Centipawn': 36, 'Mate': None},\n",
       "   {'Move': 'g1f3', 'Centipawn': 31, 'Mate': None},\n",
       "   {'Move': 'c2c4', 'Centipawn': 28, 'Mate': None},\n",
       "   {'Move': 'e2e3', 'Centipawn': 24, 'Mate': None}],\n",
       "  [{'Move': 'g8f6', 'Centipawn': 21, 'Mate': None},\n",
       "   {'Move': 'd7d5', 'Centipawn': 25, 'Mate': None},\n",
       "   {'Move': 'e7e6', 'Centipawn': 25, 'Mate': None},\n",
       "   {'Move': 'c7c6', 'Centipawn': 26, 'Mate': None},\n",
       "   {'Move': 'd7d6', 'Centipawn': 71, 'Mate': None}],\n",
       "  [{'Move': 'c2c4', 'Centipawn': 75, 'Mate': None},\n",
       "   {'Move': 'e2e4', 'Centipawn': 70, 'Mate': None},\n",
       "   {'Move': 'b1c3', 'Centipawn': 38, 'Mate': None},\n",
       "   {'Move': 'g1f3', 'Centipawn': 30, 'Mate': None},\n",
       "   {'Move': 'e2e3', 'Centipawn': 27, 'Mate': None}],\n",
       "  [{'Move': 'g8f6', 'Centipawn': 30, 'Mate': None},\n",
       "   {'Move': 'd7d5', 'Centipawn': 40, 'Mate': None},\n",
       "   {'Move': 'd7d6', 'Centipawn': 51, 'Mate': None},\n",
       "   {'Move': 'f8g7', 'Centipawn': 59, 'Mate': None},\n",
       "   {'Move': 'f7f5', 'Centipawn': 63, 'Mate': None}],\n",
       "  [{'Move': 'e2e4', 'Centipawn': 77, 'Mate': None},\n",
       "   {'Move': 'c2c4', 'Centipawn': 44, 'Mate': None},\n",
       "   {'Move': 'h2h3', 'Centipawn': 44, 'Mate': None},\n",
       "   {'Move': 'b1c3', 'Centipawn': 37, 'Mate': None},\n",
       "   {'Move': 'b1d2', 'Centipawn': 30, 'Mate': None}],\n",
       "  [{'Move': 'd7d6', 'Centipawn': 68, 'Mate': None},\n",
       "   {'Move': 'd7d5', 'Centipawn': 78, 'Mate': None},\n",
       "   {'Move': 'b8c6', 'Centipawn': 80, 'Mate': None},\n",
       "   {'Move': 'c7c6', 'Centipawn': 93, 'Mate': None},\n",
       "   {'Move': 'a7a5', 'Centipawn': 105, 'Mate': None}],\n",
       "  [{'Move': 'f1d3', 'Centipawn': 77, 'Mate': None},\n",
       "   {'Move': 'b1c3', 'Centipawn': 76, 'Mate': None},\n",
       "   {'Move': 'h2h3', 'Centipawn': 71, 'Mate': None},\n",
       "   {'Move': 'f1e2', 'Centipawn': 69, 'Mate': None},\n",
       "   {'Move': 'a2a4', 'Centipawn': 62, 'Mate': None}],\n",
       "  [{'Move': 'g8f6', 'Centipawn': 53, 'Mate': None},\n",
       "   {'Move': 'c7c6', 'Centipawn': 67, 'Mate': None},\n",
       "   {'Move': 'b8c6', 'Centipawn': 68, 'Mate': None},\n",
       "   {'Move': 'e7e6', 'Centipawn': 82, 'Mate': None},\n",
       "   {'Move': 'a7a6', 'Centipawn': 92, 'Mate': None}],\n",
       "  [{'Move': 'e1g1', 'Centipawn': 84, 'Mate': None},\n",
       "   {'Move': 'b1c3', 'Centipawn': 76, 'Mate': None},\n",
       "   {'Move': 'c4b3', 'Centipawn': 72, 'Mate': None},\n",
       "   {'Move': 'd1e2', 'Centipawn': 70, 'Mate': None},\n",
       "   {'Move': 'c1g5', 'Centipawn': 58, 'Mate': None}],\n",
       "  [{'Move': 'b8d7', 'Centipawn': 93, 'Mate': None},\n",
       "   {'Move': 'h7h6', 'Centipawn': 94, 'Mate': None},\n",
       "   {'Move': 'a7a6', 'Centipawn': 95, 'Mate': None},\n",
       "   {'Move': 'b8c6', 'Centipawn': 97, 'Mate': None},\n",
       "   {'Move': 'g8e7', 'Centipawn': 97, 'Mate': None}],\n",
       "  [{'Move': 'b1c3', 'Centipawn': 103, 'Mate': None},\n",
       "   {'Move': 'h2h3', 'Centipawn': 93, 'Mate': None},\n",
       "   {'Move': 'f1e1', 'Centipawn': 86, 'Mate': None},\n",
       "   {'Move': 'c2c3', 'Centipawn': 80, 'Mate': None},\n",
       "   {'Move': 'c4b3', 'Centipawn': 76, 'Mate': None}],\n",
       "  [{'Move': 'h7h6', 'Centipawn': 47, 'Mate': None},\n",
       "   {'Move': 'a7a6', 'Centipawn': 58, 'Mate': None},\n",
       "   {'Move': 'b8d7', 'Centipawn': 61, 'Mate': None},\n",
       "   {'Move': 'b8c6', 'Centipawn': 64, 'Mate': None},\n",
       "   {'Move': 'e8g8', 'Centipawn': 68, 'Mate': None}],\n",
       "  [{'Move': 'g5h4', 'Centipawn': 61, 'Mate': None},\n",
       "   {'Move': 'g5f4', 'Centipawn': 52, 'Mate': None},\n",
       "   {'Move': 'g5e3', 'Centipawn': 33, 'Mate': None},\n",
       "   {'Move': 'g5c1', 'Centipawn': 30, 'Mate': None},\n",
       "   {'Move': 'g5d2', 'Centipawn': 26, 'Mate': None}],\n",
       "  [{'Move': 'b8c6', 'Centipawn': 46, 'Mate': None},\n",
       "   {'Move': 'g6g5', 'Centipawn': 47, 'Mate': None},\n",
       "   {'Move': 'b8d7', 'Centipawn': 52, 'Mate': None},\n",
       "   {'Move': 'e8g8', 'Centipawn': 58, 'Mate': None},\n",
       "   {'Move': 'a7a6', 'Centipawn': 60, 'Mate': None}],\n",
       "  [{'Move': 'c2c3', 'Centipawn': 64, 'Mate': None},\n",
       "   {'Move': 'f1e1', 'Centipawn': 61, 'Mate': None},\n",
       "   {'Move': 'a2a4', 'Centipawn': 52, 'Mate': None},\n",
       "   {'Move': 'c4b3', 'Centipawn': 45, 'Mate': None},\n",
       "   {'Move': 'h2h3', 'Centipawn': 35, 'Mate': None}],\n",
       "  [{'Move': 'g6g5', 'Centipawn': 14, 'Mate': None},\n",
       "   {'Move': 'b8c6', 'Centipawn': 30, 'Mate': None},\n",
       "   {'Move': 'g8h8', 'Centipawn': 35, 'Mate': None},\n",
       "   {'Move': 'd6d5', 'Centipawn': 40, 'Mate': None},\n",
       "   {'Move': 'a7a6', 'Centipawn': 43, 'Mate': None}],\n",
       "  [{'Move': 'f1e1', 'Centipawn': 81, 'Mate': None},\n",
       "   {'Move': 'c2c3', 'Centipawn': 67, 'Mate': None},\n",
       "   {'Move': 'h4g3', 'Centipawn': 60, 'Mate': None},\n",
       "   {'Move': 'c4b3', 'Centipawn': 58, 'Mate': None},\n",
       "   {'Move': 'h2h3', 'Centipawn': 55, 'Mate': None}],\n",
       "  [{'Move': 'g6g5', 'Centipawn': 8, 'Mate': None},\n",
       "   {'Move': 'b7b5', 'Centipawn': 61, 'Mate': None},\n",
       "   {'Move': 'g8h8', 'Centipawn': 64, 'Mate': None},\n",
       "   {'Move': 'c7c5', 'Centipawn': 66, 'Mate': None},\n",
       "   {'Move': 'b7b6', 'Centipawn': 70, 'Mate': None}],\n",
       "  [{'Move': 'f3g5', 'Centipawn': 63, 'Mate': None},\n",
       "   {'Move': 'h4g3', 'Centipawn': 62, 'Mate': None},\n",
       "   {'Move': 'h4g5', 'Centipawn': 13, 'Mate': None},\n",
       "   {'Move': 'g1h1', 'Centipawn': -424, 'Mate': None},\n",
       "   {'Move': 'c4b3', 'Centipawn': -444, 'Mate': None}],\n",
       "  [{'Move': 'b7b5', 'Centipawn': 44, 'Mate': None},\n",
       "   {'Move': 'a7a5', 'Centipawn': 61, 'Mate': None},\n",
       "   {'Move': 'd6d5', 'Centipawn': 67, 'Mate': None},\n",
       "   {'Move': 'b7b6', 'Centipawn': 76, 'Mate': None},\n",
       "   {'Move': 'e6e5', 'Centipawn': 78, 'Mate': None}],\n",
       "  [{'Move': 'd1e2', 'Centipawn': 101, 'Mate': None},\n",
       "   {'Move': 'h2h3', 'Centipawn': 70, 'Mate': None},\n",
       "   {'Move': 'a2a4', 'Centipawn': 54, 'Mate': None},\n",
       "   {'Move': 'f3e1', 'Centipawn': 50, 'Mate': None},\n",
       "   {'Move': 'c4b3', 'Centipawn': 45, 'Mate': None}],\n",
       "  [{'Move': 'g5g4', 'Centipawn': -297, 'Mate': None},\n",
       "   {'Move': 'd7b6', 'Centipawn': -8, 'Mate': None},\n",
       "   {'Move': 'd7f6', 'Centipawn': 59, 'Mate': None},\n",
       "   {'Move': 'a7a5', 'Centipawn': 67, 'Mate': None},\n",
       "   {'Move': 'b7b6', 'Centipawn': 74, 'Mate': None}],\n",
       "  [{'Move': 'd2f1', 'Centipawn': 124, 'Mate': None},\n",
       "   {'Move': 'h2h3', 'Centipawn': 85, 'Mate': None},\n",
       "   {'Move': 'd2b3', 'Centipawn': 79, 'Mate': None},\n",
       "   {'Move': 'e1e2', 'Centipawn': 50, 'Mate': None},\n",
       "   {'Move': 'e1e3', 'Centipawn': 38, 'Mate': None}],\n",
       "  [{'Move': 'b7b6', 'Centipawn': 87, 'Mate': None},\n",
       "   {'Move': 'a7a5', 'Centipawn': 95, 'Mate': None},\n",
       "   {'Move': 'h6h5', 'Centipawn': 113, 'Mate': None},\n",
       "   {'Move': 'a8b8', 'Centipawn': 116, 'Mate': None},\n",
       "   {'Move': 'c7c5', 'Centipawn': 118, 'Mate': None}],\n",
       "  [{'Move': 'f1e3', 'Centipawn': 100, 'Mate': None},\n",
       "   {'Move': 'c4d3', 'Centipawn': 97, 'Mate': None},\n",
       "   {'Move': 'a2a4', 'Centipawn': 91, 'Mate': None},\n",
       "   {'Move': 'a1b1', 'Centipawn': 81, 'Mate': None},\n",
       "   {'Move': 'h2h3', 'Centipawn': 80, 'Mate': None}],\n",
       "  [{'Move': 'd7f6', 'Centipawn': 42, 'Mate': None},\n",
       "   {'Move': 'a7a5', 'Centipawn': 71, 'Mate': None},\n",
       "   {'Move': 'h6h5', 'Centipawn': 78, 'Mate': None},\n",
       "   {'Move': 'c8b7', 'Centipawn': 84, 'Mate': None},\n",
       "   {'Move': 'a8b8', 'Centipawn': 99, 'Mate': None}],\n",
       "  [{'Move': 'd4d5', 'Centipawn': 113, 'Mate': None},\n",
       "   {'Move': 'e3f5', 'Centipawn': 79, 'Mate': None},\n",
       "   {'Move': 'd1d3', 'Centipawn': 74, 'Mate': None},\n",
       "   {'Move': 'f3d2', 'Centipawn': 70, 'Mate': None},\n",
       "   {'Move': 'c4d3', 'Centipawn': 54, 'Mate': None}],\n",
       "  [{'Move': 'g8h7', 'Centipawn': 84, 'Mate': None},\n",
       "   {'Move': 'g8h8', 'Centipawn': 85, 'Mate': None},\n",
       "   {'Move': 'd7e5', 'Centipawn': 86, 'Mate': None},\n",
       "   {'Move': 'd7c5', 'Centipawn': 111, 'Mate': None},\n",
       "   {'Move': 'a8e8', 'Centipawn': 129, 'Mate': None}],\n",
       "  [{'Move': 'c4d3', 'Centipawn': 136, 'Mate': None},\n",
       "   {'Move': 'c4b3', 'Centipawn': 123, 'Mate': None},\n",
       "   {'Move': 'f3d4', 'Centipawn': 94, 'Mate': None},\n",
       "   {'Move': 'd1c2', 'Centipawn': 89, 'Mate': None},\n",
       "   {'Move': 'a2a4', 'Centipawn': 88, 'Mate': None}],\n",
       "  [{'Move': 'h6h5', 'Centipawn': 24, 'Mate': None},\n",
       "   {'Move': 'd7e5', 'Centipawn': 30, 'Mate': None},\n",
       "   {'Move': 'g6e5', 'Centipawn': 40, 'Mate': None},\n",
       "   {'Move': 'g6f4', 'Centipawn': 57, 'Mate': None},\n",
       "   {'Move': 'a7a5', 'Centipawn': 77, 'Mate': None}],\n",
       "  [{'Move': 'b3c2', 'Centipawn': 101, 'Mate': None},\n",
       "   {'Move': 'b3d1', 'Centipawn': -106, 'Mate': None},\n",
       "   {'Move': 'b3a3', 'Centipawn': -182, 'Mate': None},\n",
       "   {'Move': 'b3b4', 'Centipawn': -193, 'Mate': None},\n",
       "   {'Move': 'b3b5', 'Centipawn': -260, 'Mate': None}],\n",
       "  [{'Move': 'g5g4', 'Centipawn': 62, 'Mate': None},\n",
       "   {'Move': 'h6h5', 'Centipawn': 65, 'Mate': None},\n",
       "   {'Move': 'a7a5', 'Centipawn': 75, 'Mate': None},\n",
       "   {'Move': 'c5d7', 'Centipawn': 77, 'Mate': None},\n",
       "   {'Move': 'a7a6', 'Centipawn': 86, 'Mate': None}],\n",
       "  [{'Move': 'f3d4', 'Centipawn': 195, 'Mate': None},\n",
       "   {'Move': 'd5e6', 'Centipawn': 181, 'Mate': None},\n",
       "   {'Move': 'a1d1', 'Centipawn': 111, 'Mate': None},\n",
       "   {'Move': 'h2h3', 'Centipawn': 81, 'Mate': None},\n",
       "   {'Move': 'a1b1', 'Centipawn': 78, 'Mate': None}],\n",
       "  [{'Move': 'b7c6', 'Centipawn': -63, 'Mate': None},\n",
       "   {'Move': 'b7a6', 'Centipawn': 441, 'Mate': None},\n",
       "   {'Move': 'b7c8', 'Centipawn': 471, 'Mate': None},\n",
       "   {'Move': 'c5e4', 'Centipawn': 504, 'Mate': None},\n",
       "   {'Move': 'g5g4', 'Centipawn': 804, 'Mate': None}],\n",
       "  [{'Move': 'f3d2', 'Centipawn': 0, 'Mate': None},\n",
       "   {'Move': 'c4d3', 'Centipawn': -57, 'Mate': None},\n",
       "   {'Move': 'e3f1', 'Centipawn': -119, 'Mate': None},\n",
       "   {'Move': 'a1d1', 'Centipawn': -137, 'Mate': None},\n",
       "   {'Move': 'c4f1', 'Centipawn': -146, 'Mate': None}],\n",
       "  [{'Move': 'e7d7', 'Centipawn': -46, 'Mate': None},\n",
       "   {'Move': 'b6b5', 'Centipawn': -19, 'Mate': None},\n",
       "   {'Move': 'a8d8', 'Centipawn': -14, 'Mate': None},\n",
       "   {'Move': 'h6h5', 'Centipawn': -8, 'Mate': None},\n",
       "   {'Move': 'a8c8', 'Centipawn': -2, 'Mate': None}],\n",
       "  [{'Move': 'b2b4', 'Centipawn': 39, 'Mate': None},\n",
       "   {'Move': 'h2h3', 'Centipawn': 29, 'Mate': None},\n",
       "   {'Move': 'c4e2', 'Centipawn': 23, 'Mate': None},\n",
       "   {'Move': 'f2f3', 'Centipawn': 20, 'Mate': None},\n",
       "   {'Move': 'c4f1', 'Centipawn': 14, 'Mate': None}],\n",
       "  [{'Move': 'a7a5', 'Centipawn': 6, 'Mate': None},\n",
       "   {'Move': 'b6b5', 'Centipawn': 6, 'Mate': None},\n",
       "   {'Move': 'e7c7', 'Centipawn': 10, 'Mate': None},\n",
       "   {'Move': 'h8g8', 'Centipawn': 12, 'Mate': None},\n",
       "   {'Move': 'c6a4', 'Centipawn': 15, 'Mate': None}],\n",
       "  [{'Move': 'c4e2', 'Centipawn': 39, 'Mate': None},\n",
       "   {'Move': 'c4f1', 'Centipawn': 33, 'Mate': None},\n",
       "   {'Move': 'a1d1', 'Centipawn': 9, 'Mate': None},\n",
       "   {'Move': 'd2b3', 'Centipawn': 7, 'Mate': None},\n",
       "   {'Move': 'b2b3', 'Centipawn': -9, 'Mate': None}],\n",
       "  [{'Move': 'e7d7', 'Centipawn': 13, 'Mate': None},\n",
       "   {'Move': 'f8d8', 'Centipawn': 24, 'Mate': None},\n",
       "   {'Move': 'h6h5', 'Centipawn': 24, 'Mate': None},\n",
       "   {'Move': 'h8g8', 'Centipawn': 25, 'Mate': None},\n",
       "   {'Move': 'c6a4', 'Centipawn': 30, 'Mate': None}],\n",
       "  [{'Move': 'b2b3', 'Centipawn': 40, 'Mate': None},\n",
       "   {'Move': 'c2b1', 'Centipawn': 10, 'Mate': None},\n",
       "   {'Move': 'd2b3', 'Centipawn': -60, 'Mate': None},\n",
       "   {'Move': 'c2c1', 'Centipawn': -280, 'Mate': None},\n",
       "   {'Move': 'g3e5', 'Centipawn': -534, 'Mate': None}],\n",
       "  [{'Move': 'a4d7', 'Centipawn': 15, 'Mate': None},\n",
       "   {'Move': 'a4e8', 'Centipawn': 46, 'Mate': None},\n",
       "   {'Move': 'a4c6', 'Centipawn': 49, 'Mate': None},\n",
       "   {'Move': 'b6b5', 'Centipawn': 242, 'Mate': None},\n",
       "   {'Move': 'f7f5', 'Centipawn': 325, 'Mate': None}],\n",
       "  [{'Move': 'd2c4', 'Centipawn': 25, 'Mate': None},\n",
       "   {'Move': 'a1d1', 'Centipawn': 23, 'Mate': None},\n",
       "   {'Move': 'g3f2', 'Centipawn': 16, 'Mate': None},\n",
       "   {'Move': 'e3c4', 'Centipawn': 10, 'Mate': None},\n",
       "   {'Move': 'a2a4', 'Centipawn': 0, 'Mate': None}],\n",
       "  [{'Move': 'b6b5', 'Centipawn': 3, 'Mate': None},\n",
       "   {'Move': 'f8d8', 'Centipawn': 16, 'Mate': None},\n",
       "   {'Move': 'h8g8', 'Centipawn': 16, 'Mate': None},\n",
       "   {'Move': 'c5b7', 'Centipawn': 30, 'Mate': None},\n",
       "   {'Move': 'h6h5', 'Centipawn': 35, 'Mate': None}],\n",
       "  [{'Move': 'c4e5', 'Centipawn': 38, 'Mate': None},\n",
       "   {'Move': 'a2a4', 'Centipawn': 21, 'Mate': None},\n",
       "   {'Move': 'a1d1', 'Centipawn': 1, 'Mate': None},\n",
       "   {'Move': 'g3f2', 'Centipawn': -1, 'Mate': None},\n",
       "   {'Move': 'g3e5', 'Centipawn': -16, 'Mate': None}],\n",
       "  [{'Move': 'e6f5', 'Centipawn': -64, 'Mate': None},\n",
       "   {'Move': 'f8f5', 'Centipawn': 101, 'Mate': None},\n",
       "   {'Move': 'e5f7', 'Centipawn': 138, 'Mate': None},\n",
       "   {'Move': 'b6b5', 'Centipawn': 168, 'Mate': None},\n",
       "   {'Move': 'h6h5', 'Centipawn': 171, 'Mate': None}],\n",
       "  [{'Move': 'g3f2', 'Centipawn': -50, 'Mate': None},\n",
       "   {'Move': 'a1d1', 'Centipawn': -60, 'Mate': None},\n",
       "   {'Move': 'c4e5', 'Centipawn': -61, 'Mate': None},\n",
       "   {'Move': 'a2a4', 'Centipawn': -67, 'Mate': None},\n",
       "   {'Move': 'e2f1', 'Centipawn': -76, 'Mate': None}],\n",
       "  [{'Move': 'f5f4', 'Centipawn': -586, 'Mate': None},\n",
       "   {'Move': 'e7e6', 'Centipawn': -180, 'Mate': None},\n",
       "   {'Move': 'b6b5', 'Centipawn': -133, 'Mate': None},\n",
       "   {'Move': 'e7f7', 'Centipawn': -129, 'Mate': None},\n",
       "   {'Move': 'd7e6', 'Centipawn': -116, 'Mate': None}],\n",
       "  [{'Move': 'a1d1', 'Centipawn': -545, 'Mate': None},\n",
       "   {'Move': 'd2f1', 'Centipawn': -550, 'Mate': None},\n",
       "   {'Move': 'd2c4', 'Centipawn': -556, 'Mate': None},\n",
       "   {'Move': 'e2c4', 'Centipawn': -601, 'Mate': None},\n",
       "   {'Move': 'e2f1', 'Centipawn': -607, 'Mate': None}],\n",
       "  [{'Move': 'e7f7', 'Centipawn': -733, 'Mate': None},\n",
       "   {'Move': 'e7e6', 'Centipawn': -711, 'Mate': None},\n",
       "   {'Move': 'e7e8', 'Centipawn': -450, 'Mate': None},\n",
       "   {'Move': 'e7d8', 'Centipawn': -89, 'Mate': None},\n",
       "   {'Move': 'd7f5', 'Centipawn': 6, 'Mate': None}],\n",
       "  [{'Move': 'e2c4', 'Centipawn': -564, 'Mate': None},\n",
       "   {'Move': 'd2c4', 'Centipawn': -607, 'Mate': None},\n",
       "   {'Move': 'g3f2', 'Centipawn': -663, 'Mate': None},\n",
       "   {'Move': 'a1d1', 'Centipawn': -721, 'Mate': None},\n",
       "   {'Move': 'd2e4', 'Centipawn': -758, 'Mate': None}],\n",
       "  [{'Move': 'f4g3', 'Centipawn': -842, 'Mate': None},\n",
       "   {'Move': 'd7f5', 'Centipawn': -718, 'Mate': None},\n",
       "   {'Move': 'f7f5', 'Centipawn': -275, 'Mate': None},\n",
       "   {'Move': 'e5c4', 'Centipawn': -262, 'Mate': None},\n",
       "   {'Move': 'c8e8', 'Centipawn': -250, 'Mate': None}],\n",
       "  [{'Move': 'h2g3', 'Centipawn': -657, 'Mate': None},\n",
       "   {'Move': 'd2e4', 'Centipawn': -865, 'Mate': None},\n",
       "   {'Move': 'g1h1', 'Centipawn': -873, 'Mate': None},\n",
       "   {'Move': 'a1d1', 'Centipawn': -874, 'Mate': None},\n",
       "   {'Move': 'a2a4', 'Centipawn': -900, 'Mate': None}],\n",
       "  [{'Move': 'e5c6', 'Centipawn': -793, 'Mate': None},\n",
       "   {'Move': 'd7f5', 'Centipawn': -777, 'Mate': None},\n",
       "   {'Move': 'c8e8', 'Centipawn': -776, 'Mate': None},\n",
       "   {'Move': 'c8b8', 'Centipawn': -725, 'Mate': None},\n",
       "   {'Move': 'b6b5', 'Centipawn': -683, 'Mate': None}],\n",
       "  [{'Move': 'c2d1', 'Centipawn': -819, 'Mate': None},\n",
       "   {'Move': 'd2e4', 'Centipawn': -876, 'Mate': None},\n",
       "   {'Move': 'c2c3', 'Centipawn': -995, 'Mate': None},\n",
       "   {'Move': 'c2c1', 'Centipawn': -1012, 'Mate': None},\n",
       "   {'Move': 'c2f5', 'Centipawn': -1130, 'Mate': None}],\n",
       "  [{'Move': 'e5d3', 'Centipawn': -937, 'Mate': None},\n",
       "   {'Move': 'c8e8', 'Centipawn': -844, 'Mate': None},\n",
       "   {'Move': 'c5d3', 'Centipawn': -811, 'Mate': None},\n",
       "   {'Move': 'b6b5', 'Centipawn': -759, 'Mate': None},\n",
       "   {'Move': 'e5c6', 'Centipawn': -700, 'Mate': None}],\n",
       "  [{'Move': 'd5e3', 'Centipawn': -851, 'Mate': None},\n",
       "   {'Move': 'd2f1', 'Centipawn': -879, 'Mate': None},\n",
       "   {'Move': 'e2d3', 'Centipawn': -880, 'Mate': None},\n",
       "   {'Move': 'g3g4', 'Centipawn': -976, 'Mate': None},\n",
       "   {'Move': 'f3f4', 'Centipawn': -1045, 'Mate': None}],\n",
       "  [{'Move': 'g7d4', 'Centipawn': -1881, 'Mate': None},\n",
       "   {'Move': 'd3b2', 'Centipawn': -1145, 'Mate': None},\n",
       "   {'Move': 'c8e8', 'Centipawn': -846, 'Mate': None},\n",
       "   {'Move': 'f5h7', 'Centipawn': -767, 'Mate': None},\n",
       "   {'Move': 'g7a1', 'Centipawn': -733, 'Mate': None}],\n",
       "  [{'Move': 'd1a1', 'Centipawn': -692, 'Mate': None},\n",
       "   {'Move': 'f3f4', 'Centipawn': -1137, 'Mate': None},\n",
       "   {'Move': 'g3g4', 'Centipawn': -1158, 'Mate': None},\n",
       "   {'Move': 'd5e3', 'Centipawn': -1428, 'Mate': None},\n",
       "   {'Move': 'f1e1', 'Centipawn': -1552, 'Mate': None}],\n",
       "  [{'Move': 'f7g7', 'Centipawn': -616, 'Mate': None},\n",
       "   {'Move': 'h8h7', 'Centipawn': -331, 'Mate': None},\n",
       "   {'Move': 'd3e5', 'Centipawn': -317, 'Mate': None},\n",
       "   {'Move': 'h8g8', 'Centipawn': -292, 'Mate': None},\n",
       "   {'Move': 'd3b2', 'Centipawn': -140, 'Mate': None}],\n",
       "  [{'Move': 'g3g4', 'Centipawn': -566, 'Mate': None},\n",
       "   {'Move': 'a1g7', 'Centipawn': -605, 'Mate': None},\n",
       "   {'Move': 'd5e7', 'Centipawn': -760, 'Mate': None},\n",
       "   {'Move': 'b3b4', 'Centipawn': -807, 'Mate': None},\n",
       "   {'Move': 'd2e4', 'Centipawn': -809, 'Mate': None}],\n",
       "  [{'Move': 'b6b5', 'Centipawn': -761, 'Mate': None},\n",
       "   {'Move': 'd3e5', 'Centipawn': -748, 'Mate': None},\n",
       "   {'Move': 'c5d7', 'Centipawn': -738, 'Mate': None},\n",
       "   {'Move': 'f5h7', 'Centipawn': -728, 'Mate': None},\n",
       "   {'Move': 'g7d4', 'Centipawn': -667, 'Mate': None}],\n",
       "  [{'Move': 'e2d3', 'Centipawn': -691, 'Mate': None},\n",
       "   {'Move': 'g3g4', 'Centipawn': -758, 'Mate': None},\n",
       "   {'Move': 'b3b4', 'Centipawn': -791, 'Mate': None},\n",
       "   {'Move': 'd2e4', 'Centipawn': -870, 'Mate': None},\n",
       "   {'Move': 'f3f4', 'Centipawn': -937, 'Mate': None}],\n",
       "  [{'Move': 'f5d3', 'Centipawn': -849, 'Mate': None},\n",
       "   {'Move': 'c5d3', 'Centipawn': -761, 'Mate': None},\n",
       "   {'Move': 'g7d4', 'Centipawn': -403, 'Mate': None},\n",
       "   {'Move': 'f5e6', 'Centipawn': -141, 'Mate': None},\n",
       "   {'Move': 'g5g4', 'Centipawn': -61, 'Mate': None}],\n",
       "  [{'Move': 'f1e1', 'Centipawn': -761, 'Mate': None},\n",
       "   {'Move': 'f1f2', 'Centipawn': -816, 'Mate': None},\n",
       "   {'Move': 'b3b4', 'Centipawn': -873, 'Mate': None},\n",
       "   {'Move': 'g1h2', 'Centipawn': -934, 'Mate': None},\n",
       "   {'Move': 'a2a3', 'Centipawn': -994, 'Mate': None}],\n",
       "  [{'Move': 'e8e1', 'Centipawn': -843, 'Mate': None},\n",
       "   {'Move': 'd3h7', 'Centipawn': -823, 'Mate': None},\n",
       "   {'Move': 'd3c2', 'Centipawn': -781, 'Mate': None},\n",
       "   {'Move': 'e8e6', 'Centipawn': -755, 'Mate': None},\n",
       "   {'Move': 'g5g4', 'Centipawn': -742, 'Mate': None}],\n",
       "  [{'Move': 'g1h2', 'Centipawn': -554, 'Mate': None},\n",
       "   {'Move': 'g1h1', 'Centipawn': -591, 'Mate': None},\n",
       "   {'Move': 'd5e3', 'Centipawn': -927, 'Mate': None},\n",
       "   {'Move': 'e1e3', 'Centipawn': -980, 'Mate': None}],\n",
       "  [{'Move': 'e8e1', 'Centipawn': -737, 'Mate': None},\n",
       "   {'Move': 'd4g7', 'Centipawn': -708, 'Mate': None},\n",
       "   {'Move': 'd3h7', 'Centipawn': -693, 'Mate': None},\n",
       "   {'Move': 'b6b5', 'Centipawn': -668, 'Mate': None},\n",
       "   {'Move': 'd4b2', 'Centipawn': -607, 'Mate': None}],\n",
       "  [{'Move': 'e1e7', 'Centipawn': -601, 'Mate': None},\n",
       "   {'Move': 'a2a3', 'Centipawn': -628, 'Mate': None},\n",
       "   {'Move': 'e1e8', 'Centipawn': -632, 'Mate': None},\n",
       "   {'Move': 'b3b4', 'Centipawn': -680, 'Mate': None},\n",
       "   {'Move': 'g3g4', 'Centipawn': -761, 'Mate': None}],\n",
       "  [{'Move': 'e8e7', 'Centipawn': -824, 'Mate': None},\n",
       "   {'Move': 'g6f7', 'Centipawn': -673, 'Mate': None},\n",
       "   {'Move': 'a7a5', 'Centipawn': -651, 'Mate': None},\n",
       "   {'Move': 'b6b5', 'Centipawn': -620, 'Mate': None},\n",
       "   {'Move': 'c5d3', 'Centipawn': -540, 'Mate': None}],\n",
       "  [{'Move': 'd5e7', 'Centipawn': -824, 'Mate': None},\n",
       "   {'Move': 'b3b4', 'Centipawn': -1106, 'Mate': None},\n",
       "   {'Move': 'a2a3', 'Centipawn': -1180, 'Mate': None},\n",
       "   {'Move': 'f3f4', 'Centipawn': -1195, 'Mate': None},\n",
       "   {'Move': 'h2h1', 'Centipawn': -1211, 'Mate': None}],\n",
       "  [{'Move': 'g6h7', 'Centipawn': -783, 'Mate': None},\n",
       "   {'Move': 'd4g7', 'Centipawn': -743, 'Mate': None},\n",
       "   {'Move': 'g6h5', 'Centipawn': -706, 'Mate': None},\n",
       "   {'Move': 'g6d3', 'Centipawn': -699, 'Mate': None},\n",
       "   {'Move': 'g6e8', 'Centipawn': -654, 'Mate': None}],\n",
       "  [{'Move': 'e7g6', 'Centipawn': -705, 'Mate': None},\n",
       "   {'Move': 'e7d5', 'Centipawn': -745, 'Mate': None},\n",
       "   {'Move': 'd1e1', 'Centipawn': -752, 'Mate': None},\n",
       "   {'Move': 'd1e2', 'Centipawn': -766, 'Mate': None},\n",
       "   {'Move': 'e7c6', 'Centipawn': -812, 'Mate': None}],\n",
       "  [{'Move': 'f6g6', 'Centipawn': -662, 'Mate': None},\n",
       "   {'Move': 'h8g8', 'Centipawn': 291, 'Mate': None},\n",
       "   {'Move': 'h8g7', 'Centipawn': 291, 'Mate': None},\n",
       "   {'Move': 'h8h7', 'Centipawn': 433, 'Mate': None}],\n",
       "  [{'Move': 'a2a4', 'Centipawn': -651, 'Mate': None},\n",
       "   {'Move': 'b3b4', 'Centipawn': -671, 'Mate': None},\n",
       "   {'Move': 'd2f1', 'Centipawn': -708, 'Mate': None},\n",
       "   {'Move': 'h2g1', 'Centipawn': -753, 'Mate': None},\n",
       "   {'Move': 'a2a3', 'Centipawn': -762, 'Mate': None}],\n",
       "  [{'Move': 'g6h5', 'Centipawn': -916, 'Mate': None},\n",
       "   {'Move': 'g6e8', 'Centipawn': -821, 'Mate': None},\n",
       "   {'Move': 'g5g4', 'Centipawn': -815, 'Mate': None},\n",
       "   {'Move': 'g6g7', 'Centipawn': -740, 'Mate': None},\n",
       "   {'Move': 'g6f6', 'Centipawn': -711, 'Mate': None}],\n",
       "  [{'Move': 'e2d1', 'Centipawn': -687, 'Mate': None},\n",
       "   {'Move': 'e2e8', 'Centipawn': -753, 'Mate': None},\n",
       "   {'Move': 'e2f2', 'Centipawn': -763, 'Mate': None},\n",
       "   {'Move': 'd2e4', 'Centipawn': -767, 'Mate': None},\n",
       "   {'Move': 'e2f1', 'Centipawn': -790, 'Mate': None}],\n",
       "  [{'Move': 'h8g8', 'Centipawn': -787, 'Mate': None},\n",
       "   {'Move': 'g5g4', 'Centipawn': -730, 'Mate': None},\n",
       "   {'Move': 'g6g7', 'Centipawn': -722, 'Mate': None},\n",
       "   {'Move': 'c5e6', 'Centipawn': -718, 'Mate': None},\n",
       "   {'Move': 'e8f8', 'Centipawn': -705, 'Mate': None}],\n",
       "  [{'Move': 'f2d4', 'Centipawn': -559, 'Mate': None},\n",
       "   {'Move': 'f2f1', 'Centipawn': -788, 'Mate': None},\n",
       "   {'Move': 'h2g1', 'Centipawn': -855, 'Mate': None},\n",
       "   {'Move': 'd2e4', 'Centipawn': -874, 'Mate': None},\n",
       "   {'Move': 'f2b6', 'Centipawn': -1094, 'Mate': None}],\n",
       "  [{'Move': 'd3e5', 'Centipawn': -659, 'Mate': None},\n",
       "   {'Move': 'h8h7', 'Centipawn': -485, 'Mate': None},\n",
       "   {'Move': 'h8g8', 'Centipawn': -437, 'Mate': None},\n",
       "   {'Move': 'e8e5', 'Centipawn': -184, 'Mate': None},\n",
       "   {'Move': 'g6g7', 'Centipawn': -21, 'Mate': None}],\n",
       "  [{'Move': 'g3g4', 'Centipawn': -588, 'Mate': None},\n",
       "   {'Move': 'd2e4', 'Centipawn': -615, 'Mate': None},\n",
       "   {'Move': 'd2f1', 'Centipawn': -691, 'Mate': None},\n",
       "   {'Move': 'c4c5', 'Centipawn': -697, 'Mate': None},\n",
       "   {'Move': 'd4d5', 'Centipawn': -716, 'Mate': None}],\n",
       "  [{'Move': 'e8e4', 'Centipawn': -595, 'Mate': None},\n",
       "   {'Move': 'd3e5', 'Centipawn': -513, 'Mate': None},\n",
       "   {'Move': 'e8e6', 'Centipawn': -40, 'Mate': None},\n",
       "   {'Move': 'h7g8', 'Centipawn': -18, 'Mate': None},\n",
       "   {'Move': 'e8e5', 'Centipawn': -9, 'Mate': None}],\n",
       "  [{'Move': 'h2g1', 'Centipawn': -350, 'Mate': None},\n",
       "   {'Move': 'a2a3', 'Centipawn': -572, 'Mate': None},\n",
       "   {'Move': 'a2a4', 'Centipawn': -572, 'Mate': None},\n",
       "   {'Move': 'e4d6', 'Centipawn': -573, 'Mate': None},\n",
       "   {'Move': 'd4d5', 'Centipawn': -587, 'Mate': None}],\n",
       "  [{'Move': 'g6h5', 'Centipawn': -712, 'Mate': None},\n",
       "   {'Move': 'e8f8', 'Centipawn': -628, 'Mate': None},\n",
       "   {'Move': 'e8e6', 'Centipawn': -596, 'Mate': None},\n",
       "   {'Move': 'e8e7', 'Centipawn': -589, 'Mate': None},\n",
       "   {'Move': 'a7a6', 'Centipawn': -549, 'Mate': None}],\n",
       "  [{'Move': 'f3f4', 'Centipawn': -339, 'Mate': None},\n",
       "   {'Move': 'e4d6', 'Centipawn': -467, 'Mate': None},\n",
       "   {'Move': 'h2g1', 'Centipawn': -501, 'Mate': None},\n",
       "   {'Move': 'e4f6', 'Centipawn': -512, 'Mate': None},\n",
       "   {'Move': 'd5b7', 'Centipawn': -584, 'Mate': None}],\n",
       "  [{'Move': 'e5f3', 'Centipawn': -834, 'Mate': None},\n",
       "   {'Move': 'e8d8', 'Centipawn': -675, 'Mate': None},\n",
       "   {'Move': 'e8e6', 'Centipawn': -554, 'Mate': None},\n",
       "   {'Move': 'e8e7', 'Centipawn': -548, 'Mate': None},\n",
       "   {'Move': 'g6h5', 'Centipawn': -464, 'Mate': None}],\n",
       "  [{'Move': 'd6e8', 'Centipawn': -205, 'Mate': None},\n",
       "   {'Move': 'g2f3', 'Centipawn': -447, 'Mate': None},\n",
       "   {'Move': 'g3g4', 'Centipawn': -677, 'Mate': None},\n",
       "   {'Move': 'b3b4', 'Centipawn': -789, 'Mate': None},\n",
       "   {'Move': 'd5b7', 'Centipawn': -843, 'Mate': None}],\n",
       "  [{'Move': 'e5g4', 'Centipawn': -621, 'Mate': None},\n",
       "   {'Move': 'f3f2', 'Centipawn': -574, 'Mate': None},\n",
       "   {'Move': 'g6h5', 'Centipawn': -301, 'Mate': None},\n",
       "   {'Move': 'g6e8', 'Centipawn': -229, 'Mate': None},\n",
       "   {'Move': 'g6f5', 'Centipawn': -37, 'Mate': None}],\n",
       "  [{'Move': 'd5e5', 'Centipawn': -611, 'Mate': None},\n",
       "   {'Move': 'd5e4', 'Centipawn': -685, 'Mate': None},\n",
       "   {'Move': 'd5b7', 'Centipawn': -717, 'Mate': None},\n",
       "   {'Move': 'e8f6', 'Centipawn': -771, 'Mate': None},\n",
       "   {'Move': 'd5d4', 'Centipawn': -806, 'Mate': None}],\n",
       "  [{'Move': 'g6f6', 'Centipawn': -852, 'Mate': None},\n",
       "   {'Move': 'h7h8', 'Centipawn': -184, 'Mate': None},\n",
       "   {'Move': 'h7g7', 'Centipawn': -169, 'Mate': None}],\n",
       "  [{'Move': 'd5b7', 'Centipawn': -830, 'Mate': None},\n",
       "   {'Move': 'd5e4', 'Centipawn': -881, 'Mate': None},\n",
       "   {'Move': 'd5d1', 'Centipawn': -883, 'Mate': None},\n",
       "   {'Move': 'd5d4', 'Centipawn': -1034, 'Mate': None},\n",
       "   {'Move': 'c4c5', 'Centipawn': -1231, 'Mate': None}]],\n",
       " [[{'Move': 'e2e4', 'Centipawn': 73, 'Mate': None},\n",
       "   {'Move': 'c2c4', 'Centipawn': 46, 'Mate': None},\n",
       "   {'Move': 'd2d4', 'Centipawn': 44, 'Mate': None},\n",
       "   {'Move': 'g1f3', 'Centipawn': 39, 'Mate': None},\n",
       "   {'Move': 'e2e3', 'Centipawn': 24, 'Mate': None}],\n",
       "  [{'Move': 'e7e5', 'Centipawn': 18, 'Mate': None},\n",
       "   {'Move': 'c7c5', 'Centipawn': 32, 'Mate': None},\n",
       "   {'Move': 'c7c6', 'Centipawn': 39, 'Mate': None},\n",
       "   {'Move': 'g8f6', 'Centipawn': 43, 'Mate': None},\n",
       "   {'Move': 'e7e6', 'Centipawn': 46, 'Mate': None}],\n",
       "  [{'Move': 'd2d4', 'Centipawn': 44, 'Mate': None},\n",
       "   {'Move': 'g1f3', 'Centipawn': 38, 'Mate': None},\n",
       "   {'Move': 'g2g3', 'Centipawn': 33, 'Mate': None},\n",
       "   {'Move': 'b1c3', 'Centipawn': 26, 'Mate': None},\n",
       "   {'Move': 'a2a3', 'Centipawn': 6, 'Mate': None}],\n",
       "  [{'Move': 'e7e5', 'Centipawn': 20, 'Mate': None},\n",
       "   {'Move': 'c7c5', 'Centipawn': 28, 'Mate': None},\n",
       "   {'Move': 'e7e6', 'Centipawn': 47, 'Mate': None},\n",
       "   {'Move': 'd7d5', 'Centipawn': 53, 'Mate': None},\n",
       "   {'Move': 'g7g6', 'Centipawn': 57, 'Mate': None}],\n",
       "  [{'Move': 'd2d4', 'Centipawn': 68, 'Mate': None},\n",
       "   {'Move': 'g1f3', 'Centipawn': 40, 'Mate': None},\n",
       "   {'Move': 'e2e4', 'Centipawn': 37, 'Mate': None},\n",
       "   {'Move': 'g2g3', 'Centipawn': 34, 'Mate': None},\n",
       "   {'Move': 'e2e3', 'Centipawn': 17, 'Mate': None}],\n",
       "  [{'Move': 'c7c5', 'Centipawn': 25, 'Mate': None},\n",
       "   {'Move': 'e7e5', 'Centipawn': 37, 'Mate': None},\n",
       "   {'Move': 'd7d6', 'Centipawn': 49, 'Mate': None},\n",
       "   {'Move': 'f8g7', 'Centipawn': 80, 'Mate': None},\n",
       "   {'Move': 'b8c6', 'Centipawn': 89, 'Mate': None}],\n",
       "  [{'Move': 'd2d4', 'Centipawn': 57, 'Mate': None},\n",
       "   {'Move': 'g1f3', 'Centipawn': 55, 'Mate': None},\n",
       "   {'Move': 'g1e2', 'Centipawn': 14, 'Mate': None},\n",
       "   {'Move': 'h2h3', 'Centipawn': 1, 'Mate': None},\n",
       "   {'Move': 'g2g3', 'Centipawn': 1, 'Mate': None}],\n",
       "  [{'Move': 'b8d7', 'Centipawn': 68, 'Mate': None},\n",
       "   {'Move': 'f8g7', 'Centipawn': 70, 'Mate': None},\n",
       "   {'Move': 'a7a6', 'Centipawn': 70, 'Mate': None},\n",
       "   {'Move': 'e7e5', 'Centipawn': 79, 'Mate': None},\n",
       "   {'Move': 'c7c6', 'Centipawn': 83, 'Mate': None}],\n",
       "  [{'Move': 'g1f3', 'Centipawn': 67, 'Mate': None},\n",
       "   {'Move': 'h2h3', 'Centipawn': 67, 'Mate': None},\n",
       "   {'Move': 'f1e2', 'Centipawn': 55, 'Mate': None},\n",
       "   {'Move': 'c1f4', 'Centipawn': 49, 'Mate': None},\n",
       "   {'Move': 'c1g5', 'Centipawn': 46, 'Mate': None}],\n",
       "  [{'Move': 'e8g8', 'Centipawn': 29, 'Mate': None},\n",
       "   {'Move': 'h7h6', 'Centipawn': 39, 'Mate': None},\n",
       "   {'Move': 'c7c6', 'Centipawn': 58, 'Mate': None},\n",
       "   {'Move': 'b8d7', 'Centipawn': 60, 'Mate': None},\n",
       "   {'Move': 'a7a6', 'Centipawn': 64, 'Mate': None}],\n",
       "  [{'Move': 'd1d2', 'Centipawn': 56, 'Mate': None},\n",
       "   {'Move': 'f1e2', 'Centipawn': 54, 'Mate': None},\n",
       "   {'Move': 'g1f3', 'Centipawn': 54, 'Mate': None},\n",
       "   {'Move': 'h2h3', 'Centipawn': 44, 'Mate': None},\n",
       "   {'Move': 'g1e2', 'Centipawn': 35, 'Mate': None}],\n",
       "  [{'Move': 'h7h6', 'Centipawn': 29, 'Mate': None},\n",
       "   {'Move': 'c8g4', 'Centipawn': 62, 'Mate': None},\n",
       "   {'Move': 'e7e5', 'Centipawn': 62, 'Mate': None},\n",
       "   {'Move': 'c7c5', 'Centipawn': 65, 'Mate': None},\n",
       "   {'Move': 'b8d7', 'Centipawn': 82, 'Mate': None}],\n",
       "  [{'Move': 'd4d5', 'Centipawn': 65, 'Mate': None},\n",
       "   {'Move': 'd4c5', 'Centipawn': 48, 'Mate': None},\n",
       "   {'Move': 'f1e2', 'Centipawn': 42, 'Mate': None},\n",
       "   {'Move': 'h2h3', 'Centipawn': 18, 'Mate': None},\n",
       "   {'Move': 'a1c1', 'Centipawn': -12, 'Mate': None}],\n",
       "  [{'Move': 'h7h6', 'Centipawn': 24, 'Mate': None},\n",
       "   {'Move': 'c8g4', 'Centipawn': 69, 'Mate': None},\n",
       "   {'Move': 'a7a6', 'Centipawn': 69, 'Mate': None},\n",
       "   {'Move': 'd8a5', 'Centipawn': 75, 'Mate': None},\n",
       "   {'Move': 'e7e6', 'Centipawn': 76, 'Mate': None}],\n",
       "  [{'Move': 'h2h3', 'Centipawn': 95, 'Mate': None},\n",
       "   {'Move': 'f1e2', 'Centipawn': 89, 'Mate': None},\n",
       "   {'Move': 'f1d3', 'Centipawn': 84, 'Mate': None},\n",
       "   {'Move': 'd1d2', 'Centipawn': 79, 'Mate': None},\n",
       "   {'Move': 'a2a4', 'Centipawn': 72, 'Mate': None}],\n",
       "  [{'Move': 'e7e6', 'Centipawn': 50, 'Mate': None},\n",
       "   {'Move': 'h7h6', 'Centipawn': 57, 'Mate': None},\n",
       "   {'Move': 'c8g4', 'Centipawn': 75, 'Mate': None},\n",
       "   {'Move': 'f8e8', 'Centipawn': 88, 'Mate': None},\n",
       "   {'Move': 'd8a5', 'Centipawn': 91, 'Mate': None}],\n",
       "  [{'Move': 'f1d3', 'Centipawn': 116, 'Mate': None},\n",
       "   {'Move': 'g5d2', 'Centipawn': 112, 'Mate': None},\n",
       "   {'Move': 'f3d2', 'Centipawn': 109, 'Mate': None},\n",
       "   {'Move': 'd1d2', 'Centipawn': 102, 'Mate': None},\n",
       "   {'Move': 'e4e5', 'Centipawn': -4, 'Mate': None}],\n",
       "  [{'Move': 'c8g4', 'Centipawn': 73, 'Mate': None},\n",
       "   {'Move': 'e7e6', 'Centipawn': 78, 'Mate': None},\n",
       "   {'Move': 'a5c7', 'Centipawn': 95, 'Mate': None},\n",
       "   {'Move': 'a5d8', 'Centipawn': 100, 'Mate': None},\n",
       "   {'Move': 'f8e8', 'Centipawn': 105, 'Mate': None}],\n",
       "  [{'Move': 'f1d3', 'Centipawn': 138, 'Mate': None},\n",
       "   {'Move': 'h2h3', 'Centipawn': 137, 'Mate': None},\n",
       "   {'Move': 'f1e2', 'Centipawn': 126, 'Mate': None},\n",
       "   {'Move': 'a4a5', 'Centipawn': 111, 'Mate': None},\n",
       "   {'Move': 'd1c2', 'Centipawn': 104, 'Mate': None}],\n",
       "  [{'Move': 'b6d8', 'Centipawn': 120, 'Mate': None},\n",
       "   {'Move': 'b6c7', 'Centipawn': 133, 'Mate': None},\n",
       "   {'Move': 'b6a7', 'Centipawn': 175, 'Mate': None},\n",
       "   {'Move': 'b6b2', 'Centipawn': 664, 'Mate': None},\n",
       "   {'Move': 'b6b4', 'Centipawn': 810, 'Mate': None}],\n",
       "  [{'Move': 'f1d3', 'Centipawn': 137, 'Mate': None},\n",
       "   {'Move': 'd1c1', 'Centipawn': 108, 'Mate': None},\n",
       "   {'Move': 'f1e2', 'Centipawn': 102, 'Mate': None},\n",
       "   {'Move': 'h2h3', 'Centipawn': 97, 'Mate': None},\n",
       "   {'Move': 'd1b3', 'Centipawn': 75, 'Mate': None}],\n",
       "  [{'Move': 'e7e6', 'Centipawn': 91, 'Mate': None},\n",
       "   {'Move': 'b8d7', 'Centipawn': 98, 'Mate': None},\n",
       "   {'Move': 'b7b6', 'Centipawn': 112, 'Mate': None},\n",
       "   {'Move': 'b7b5', 'Centipawn': 112, 'Mate': None},\n",
       "   {'Move': 'f8e8', 'Centipawn': 125, 'Mate': None}],\n",
       "  [{'Move': 'f1e2', 'Centipawn': 131, 'Mate': None},\n",
       "   {'Move': 'd1b3', 'Centipawn': 102, 'Mate': None},\n",
       "   {'Move': 'f1d3', 'Centipawn': 100, 'Mate': None},\n",
       "   {'Move': 'd1c2', 'Centipawn': 97, 'Mate': None},\n",
       "   {'Move': 'd1c1', 'Centipawn': 81, 'Mate': None}],\n",
       "  [{'Move': 'e6d5', 'Centipawn': 98, 'Mate': None},\n",
       "   {'Move': 'c8d7', 'Centipawn': 109, 'Mate': None},\n",
       "   {'Move': 'b7b6', 'Centipawn': 124, 'Mate': None},\n",
       "   {'Move': 'b8d7', 'Centipawn': 150, 'Mate': None},\n",
       "   {'Move': 'h7h6', 'Centipawn': 169, 'Mate': None}],\n",
       "  [{'Move': 'c4d5', 'Centipawn': 115, 'Mate': None},\n",
       "   {'Move': 'e4d5', 'Centipawn': 99, 'Mate': None},\n",
       "   {'Move': 'c3d5', 'Centipawn': 8, 'Mate': None},\n",
       "   {'Move': 'e4e5', 'Centipawn': -82, 'Mate': None},\n",
       "   {'Move': 'd2f4', 'Centipawn': -142, 'Mate': None}],\n",
       "  [{'Move': 'b7b6', 'Centipawn': 87, 'Mate': None},\n",
       "   {'Move': 'b8d7', 'Centipawn': 91, 'Mate': None},\n",
       "   {'Move': 'f8e8', 'Centipawn': 93, 'Mate': None},\n",
       "   {'Move': 'c8d7', 'Centipawn': 134, 'Mate': None},\n",
       "   {'Move': 'c8f5', 'Centipawn': 138, 'Mate': None}],\n",
       "  [{'Move': 'e1g1', 'Centipawn': 102, 'Mate': None},\n",
       "   {'Move': 'a1a3', 'Centipawn': 97, 'Mate': None},\n",
       "   {'Move': 'a1a2', 'Centipawn': 67, 'Mate': None},\n",
       "   {'Move': 'd2c1', 'Centipawn': 66, 'Mate': None},\n",
       "   {'Move': 'd2e3', 'Centipawn': 55, 'Mate': None}],\n",
       "  [{'Move': 'b7b6', 'Centipawn': 77, 'Mate': None},\n",
       "   {'Move': 'b8d7', 'Centipawn': 104, 'Mate': None},\n",
       "   {'Move': 'e8e7', 'Centipawn': 142, 'Mate': None},\n",
       "   {'Move': 'f6e4', 'Centipawn': 163, 'Mate': None},\n",
       "   {'Move': 'f6d7', 'Centipawn': 182, 'Mate': None}],\n",
       "  [{'Move': 'e2d3', 'Centipawn': 108, 'Mate': None},\n",
       "   {'Move': 'd1c1', 'Centipawn': 108, 'Mate': None},\n",
       "   {'Move': 'f1e1', 'Centipawn': 108, 'Mate': None},\n",
       "   {'Move': 'a1a3', 'Centipawn': 103, 'Mate': None},\n",
       "   {'Move': 'd1c2', 'Centipawn': 90, 'Mate': None}],\n",
       "  [{'Move': 'b7b6', 'Centipawn': 101, 'Mate': None},\n",
       "   {'Move': 'a8b8', 'Centipawn': 105, 'Mate': None},\n",
       "   {'Move': 'c7b8', 'Centipawn': 119, 'Mate': None},\n",
       "   {'Move': 'h7h5', 'Centipawn': 127, 'Mate': None},\n",
       "   {'Move': 'd7e5', 'Centipawn': 133, 'Mate': None}],\n",
       "  [{'Move': 'c3a4', 'Centipawn': 159, 'Mate': None},\n",
       "   {'Move': 'e2f1', 'Centipawn': 153, 'Mate': None},\n",
       "   {'Move': 'f3e5', 'Centipawn': 137, 'Mate': None},\n",
       "   {'Move': 'g2g4', 'Centipawn': 125, 'Mate': None},\n",
       "   {'Move': 'd2g5', 'Centipawn': 107, 'Mate': None}],\n",
       "  [{'Move': 'e8e5', 'Centipawn': 120, 'Mate': None},\n",
       "   {'Move': 'd6e5', 'Centipawn': 283, 'Mate': None},\n",
       "   {'Move': 'c8h3', 'Centipawn': 634, 'Mate': None},\n",
       "   {'Move': 'b7b5', 'Centipawn': 673, 'Mate': None},\n",
       "   {'Move': 'b7b6', 'Centipawn': 805, 'Mate': None}],\n",
       "  [{'Move': 'd2f4', 'Centipawn': 146, 'Mate': None},\n",
       "   {'Move': 'a1a3', 'Centipawn': 102, 'Mate': None},\n",
       "   {'Move': 'd1b3', 'Centipawn': 100, 'Mate': None},\n",
       "   {'Move': 'd2e3', 'Centipawn': 90, 'Mate': None},\n",
       "   {'Move': 'g2g4', 'Centipawn': 87, 'Mate': None}],\n",
       "  [{'Move': 'e5e7', 'Centipawn': 118, 'Mate': None},\n",
       "   {'Move': 'e5e8', 'Centipawn': 118, 'Mate': None},\n",
       "   {'Move': 'f6d7', 'Centipawn': 257, 'Mate': None},\n",
       "   {'Move': 'e5f5', 'Centipawn': 335, 'Mate': None},\n",
       "   {'Move': 'f6e8', 'Centipawn': 350, 'Mate': None}],\n",
       "  [{'Move': 'c3a4', 'Centipawn': 118, 'Mate': None},\n",
       "   {'Move': 'e2f1', 'Centipawn': 114, 'Mate': None},\n",
       "   {'Move': 'g2g4', 'Centipawn': 98, 'Mate': None},\n",
       "   {'Move': 'e2f3', 'Centipawn': 97, 'Mate': None},\n",
       "   {'Move': 'd1d2', 'Centipawn': 84, 'Mate': None}],\n",
       "  [{'Move': 'e8e1', 'Centipawn': 40, 'Mate': None},\n",
       "   {'Move': 'b7b6', 'Centipawn': 80, 'Mate': None},\n",
       "   {'Move': 'c8d7', 'Centipawn': 80, 'Mate': None},\n",
       "   {'Move': 'a8b8', 'Centipawn': 119, 'Mate': None},\n",
       "   {'Move': 'c7d8', 'Centipawn': 135, 'Mate': None}],\n",
       "  [{'Move': 'e1e8', 'Centipawn': 78, 'Mate': None},\n",
       "   {'Move': 'f4g3', 'Centipawn': 62, 'Mate': None},\n",
       "   {'Move': 'd1b3', 'Centipawn': 53, 'Mate': None},\n",
       "   {'Move': 'd1f3', 'Centipawn': 44, 'Mate': None},\n",
       "   {'Move': 'e1e3', 'Centipawn': 43, 'Mate': None}],\n",
       "  [{'Move': 'b7b6', 'Centipawn': 36, 'Mate': None},\n",
       "   {'Move': 'e8e1', 'Centipawn': 42, 'Mate': None},\n",
       "   {'Move': 'a8b8', 'Centipawn': 78, 'Mate': None},\n",
       "   {'Move': 'f6h5', 'Centipawn': 80, 'Mate': None},\n",
       "   {'Move': 'h7h5', 'Centipawn': 85, 'Mate': None}],\n",
       "  [{'Move': 'a1e1', 'Centipawn': 44, 'Mate': None},\n",
       "   {'Move': 'd2e1', 'Centipawn': 43, 'Mate': None},\n",
       "   {'Move': 'd3f1', 'Centipawn': -1231, 'Mate': None},\n",
       "   {'Move': 'g1h2', 'Centipawn': -1300, 'Mate': None}],\n",
       "  [{'Move': 'b7b6', 'Centipawn': 42, 'Mate': None},\n",
       "   {'Move': 'a8e8', 'Centipawn': 46, 'Mate': None},\n",
       "   {'Move': 'h7h5', 'Centipawn': 46, 'Mate': None},\n",
       "   {'Move': 'a8b8', 'Centipawn': 67, 'Mate': None},\n",
       "   {'Move': 'b7b5', 'Centipawn': 68, 'Mate': None}],\n",
       "  [{'Move': 'f4d6', 'Centipawn': 126, 'Mate': None},\n",
       "   {'Move': 'e1e7', 'Centipawn': 41, 'Mate': None},\n",
       "   {'Move': 'g2g4', 'Centipawn': -33, 'Mate': None},\n",
       "   {'Move': 'g1h2', 'Centipawn': -50, 'Mate': None},\n",
       "   {'Move': 'd3f1', 'Centipawn': -62, 'Mate': None}],\n",
       "  [{'Move': 'a8e8', 'Centipawn': 60, 'Mate': None},\n",
       "   {'Move': 'a5b4', 'Centipawn': 63, 'Mate': None},\n",
       "   {'Move': 'b7b5', 'Centipawn': 66, 'Mate': None},\n",
       "   {'Move': 'h7h5', 'Centipawn': 123, 'Mate': None},\n",
       "   {'Move': 'a8c8', 'Centipawn': 142, 'Mate': None}],\n",
       "  [{'Move': 'd2f4', 'Centipawn': 99, 'Mate': None},\n",
       "   {'Move': 'd6e7', 'Centipawn': 99, 'Mate': None},\n",
       "   {'Move': 'c3b1', 'Centipawn': 76, 'Mate': None},\n",
       "   {'Move': 'g2g4', 'Centipawn': 63, 'Mate': None},\n",
       "   {'Move': 'd3f1', 'Centipawn': 54, 'Mate': None}],\n",
       "  [{'Move': 'a5b6', 'Centipawn': 32, 'Mate': None},\n",
       "   {'Move': 'a5b4', 'Centipawn': 34, 'Mate': None},\n",
       "   {'Move': 'a8e8', 'Centipawn': 34, 'Mate': None},\n",
       "   {'Move': 'h7h6', 'Centipawn': 38, 'Mate': None},\n",
       "   {'Move': 'b5b4', 'Centipawn': 52, 'Mate': None}],\n",
       "  [{'Move': 'd3c4', 'Centipawn': 79, 'Mate': None},\n",
       "   {'Move': 'd3e4', 'Centipawn': 53, 'Mate': None},\n",
       "   {'Move': 'd3e2', 'Centipawn': 32, 'Mate': None},\n",
       "   {'Move': 'd3f1', 'Centipawn': 25, 'Mate': None},\n",
       "   {'Move': 'd3c2', 'Centipawn': 0, 'Mate': None}],\n",
       "  [{'Move': 'a5b4', 'Centipawn': 84, 'Mate': None},\n",
       "   {'Move': 'd7b5', 'Centipawn': 97, 'Mate': None},\n",
       "   {'Move': 'a8e8', 'Centipawn': 130, 'Mate': None},\n",
       "   {'Move': 'a8c8', 'Centipawn': 147, 'Mate': None},\n",
       "   {'Move': 'a5b6', 'Centipawn': 162, 'Mate': None}],\n",
       "  [{'Move': 'e5f6', 'Centipawn': 151, 'Mate': None},\n",
       "   {'Move': 'c4b5', 'Centipawn': 108, 'Mate': None},\n",
       "   {'Move': 'c4a2', 'Centipawn': 104, 'Mate': None},\n",
       "   {'Move': 'b2b3', 'Centipawn': 93, 'Mate': None},\n",
       "   {'Move': 'c4f1', 'Centipawn': 89, 'Mate': None}],\n",
       "  [{'Move': 'a5d2', 'Centipawn': -650, 'Mate': None},\n",
       "   {'Move': 'a6b5', 'Centipawn': 28, 'Mate': None},\n",
       "   {'Move': 'a5a4', 'Centipawn': 702, 'Mate': None},\n",
       "   {'Move': 'a5d8', 'Centipawn': 775, 'Mate': None},\n",
       "   {'Move': 'a5b4', 'Centipawn': 779, 'Mate': None}]]]"
      ]
     },
     "execution_count": 514,
     "metadata": {},
     "output_type": "execute_result"
    }
   ],
   "source": [
    "[get_evaluations(game[0]) for game in zip(df_2021_2017_titled_distinv[0:10].moves)]"
   ]
  },
  {
   "cell_type": "code",
   "execution_count": null,
   "id": "6ac9663d",
   "metadata": {},
   "outputs": [],
   "source": []
  },
  {
   "cell_type": "code",
   "execution_count": 560,
   "id": "a995c101",
   "metadata": {
    "ExecuteTime": {
     "end_time": "2022-10-31T15:19:39.841725Z",
     "start_time": "2022-10-31T15:19:39.838759Z"
    }
   },
   "outputs": [],
   "source": [
    "# df_2021_2017_titled_distinv.shape # (87982, 18)\n",
    "\n",
    "# drop_no_move_games(df_2021_2017_titled_distinv).shape # (87871, 18)"
   ]
  },
  {
   "cell_type": "code",
   "execution_count": null,
   "id": "6f741e51",
   "metadata": {},
   "outputs": [],
   "source": []
  },
  {
   "cell_type": "code",
   "execution_count": 555,
   "id": "00dc14d3",
   "metadata": {
    "ExecuteTime": {
     "end_time": "2022-10-31T15:17:01.995634Z",
     "start_time": "2022-10-31T15:15:45.089104Z"
    }
   },
   "outputs": [],
   "source": [
    "game_0 = get_evaluations(df_2021_2017_titled_distinv.moves[0]) # powerful-fish took 1m 16.9s on laptop"
   ]
  },
  {
   "cell_type": "code",
   "execution_count": 561,
   "id": "61cf9357",
   "metadata": {
    "ExecuteTime": {
     "end_time": "2022-10-31T15:27:43.946225Z",
     "start_time": "2022-10-31T15:27:43.939225Z"
    }
   },
   "outputs": [
    {
     "data": {
      "text/plain": [
       "22"
      ]
     },
     "execution_count": 561,
     "metadata": {},
     "output_type": "execute_result"
    }
   ],
   "source": [
    "# len(game_0) # 22"
   ]
  },
  {
   "cell_type": "code",
   "execution_count": 487,
   "id": "5273351f",
   "metadata": {
    "ExecuteTime": {
     "end_time": "2022-10-31T13:13:31.904247Z",
     "start_time": "2022-10-31T13:12:54.662619Z"
    }
   },
   "outputs": [],
   "source": [
    "games_0_to_101 = get_all_evaluations(df_2021_2017_titled_distinv[0:101])"
   ]
  },
  {
   "cell_type": "code",
   "execution_count": 492,
   "id": "b09602dc",
   "metadata": {
    "ExecuteTime": {
     "end_time": "2022-10-31T13:15:13.667503Z",
     "start_time": "2022-10-31T13:15:13.655476Z"
    }
   },
   "outputs": [
    {
     "data": {
      "text/plain": [
       "[{'Move': 'e2e4', 'Centipawn': 42, 'Mate': None},\n",
       " {'Move': 'g1f3', 'Centipawn': 42, 'Mate': None},\n",
       " {'Move': 'c2c4', 'Centipawn': 40, 'Mate': None},\n",
       " {'Move': 'd2d4', 'Centipawn': 38, 'Mate': None},\n",
       " {'Move': 'g2g3', 'Centipawn': 25, 'Mate': None}]"
      ]
     },
     "execution_count": 492,
     "metadata": {},
     "output_type": "execute_result"
    }
   ],
   "source": [
    "games_0_to_101[0][0]\n",
    "# == game_0"
   ]
  },
  {
   "cell_type": "code",
   "execution_count": 496,
   "id": "779d598d",
   "metadata": {
    "ExecuteTime": {
     "end_time": "2022-10-31T13:16:06.089214Z",
     "start_time": "2022-10-31T13:16:06.073239Z"
    }
   },
   "outputs": [
    {
     "data": {
      "text/plain": [
       "[{'Move': 'e2e4', 'Centipawn': 48, 'Mate': None},\n",
       " {'Move': 'g1f3', 'Centipawn': 36, 'Mate': None},\n",
       " {'Move': 'c2c4', 'Centipawn': 34, 'Mate': None},\n",
       " {'Move': 'd2d4', 'Centipawn': 25, 'Mate': None},\n",
       " {'Move': 'e2e3', 'Centipawn': 24, 'Mate': None}]"
      ]
     },
     "execution_count": 496,
     "metadata": {},
     "output_type": "execute_result"
    }
   ],
   "source": [
    "game_0[0]"
   ]
  },
  {
   "cell_type": "markdown",
   "id": "4d2b704e",
   "metadata": {},
   "source": [
    "-----"
   ]
  },
  {
   "cell_type": "markdown",
   "id": "f683adf6",
   "metadata": {},
   "source": [
    "### Remove elos, retrain models"
   ]
  },
  {
   "cell_type": "code",
   "execution_count": null,
   "id": "3d438c3f",
   "metadata": {},
   "outputs": [],
   "source": []
  },
  {
   "cell_type": "code",
   "execution_count": null,
   "id": "e84d5a20",
   "metadata": {},
   "outputs": [],
   "source": []
  },
  {
   "cell_type": "markdown",
   "id": "fa105450",
   "metadata": {},
   "source": [
    "-------"
   ]
  },
  {
   "cell_type": "markdown",
   "id": "0370f5f3",
   "metadata": {
    "heading_collapsed": true
   },
   "source": [
    "## Functions to write:"
   ]
  },
  {
   "cell_type": "code",
   "execution_count": null,
   "id": "7f90cb5c",
   "metadata": {
    "ExecuteTime": {
     "end_time": "2022-10-20T21:37:07.070307Z",
     "start_time": "2022-10-20T21:37:07.056345Z"
    },
    "hidden": true
   },
   "outputs": [],
   "source": [
    "# Write function that compares ply count to "
   ]
  },
  {
   "cell_type": "code",
   "execution_count": null,
   "id": "1b3330e4",
   "metadata": {
    "hidden": true
   },
   "outputs": [],
   "source": []
  },
  {
   "cell_type": "code",
   "execution_count": null,
   "id": "c2271f5a",
   "metadata": {
    "hidden": true
   },
   "outputs": [],
   "source": []
  },
  {
   "cell_type": "code",
   "execution_count": null,
   "id": "5e12516a",
   "metadata": {
    "ExecuteTime": {
     "end_time": "2022-10-20T21:37:07.086265Z",
     "start_time": "2022-10-20T21:37:07.071305Z"
    },
    "hidden": true
   },
   "outputs": [],
   "source": [
    "# Write function to check that the length of emt matches ply"
   ]
  },
  {
   "cell_type": "code",
   "execution_count": null,
   "id": "d5693c9f",
   "metadata": {
    "hidden": true
   },
   "outputs": [],
   "source": []
  },
  {
   "cell_type": "code",
   "execution_count": null,
   "id": "e769c509",
   "metadata": {
    "hidden": true
   },
   "outputs": [],
   "source": []
  },
  {
   "cell_type": "code",
   "execution_count": null,
   "id": "7a1ddd29",
   "metadata": {
    "ExecuteTime": {
     "end_time": "2022-10-20T21:37:07.102222Z",
     "start_time": "2022-10-20T21:37:07.087262Z"
    },
    "hidden": true
   },
   "outputs": [],
   "source": [
    "# Write function that checks all the emt have 'emt' in them and not 'clk'"
   ]
  },
  {
   "cell_type": "code",
   "execution_count": null,
   "id": "18e0303f",
   "metadata": {
    "hidden": true
   },
   "outputs": [],
   "source": []
  },
  {
   "cell_type": "code",
   "execution_count": null,
   "id": "a916266a",
   "metadata": {
    "hidden": true
   },
   "outputs": [],
   "source": []
  },
  {
   "cell_type": "code",
   "execution_count": null,
   "id": "b4783d79",
   "metadata": {
    "ExecuteTime": {
     "end_time": "2022-10-20T21:37:07.118180Z",
     "start_time": "2022-10-20T21:37:07.103220Z"
    },
    "hidden": true
   },
   "outputs": [],
   "source": [
    "# Write function to check that none of the emt values are missing"
   ]
  },
  {
   "cell_type": "code",
   "execution_count": null,
   "id": "d9abd753",
   "metadata": {
    "hidden": true
   },
   "outputs": [],
   "source": []
  },
  {
   "cell_type": "code",
   "execution_count": null,
   "id": "f265cb09",
   "metadata": {
    "hidden": true
   },
   "outputs": [],
   "source": []
  },
  {
   "cell_type": "code",
   "execution_count": null,
   "id": "973c2493",
   "metadata": {
    "hidden": true
   },
   "outputs": [],
   "source": []
  },
  {
   "cell_type": "markdown",
   "id": "553c4e3c",
   "metadata": {
    "hidden": true
   },
   "source": [
    "-----"
   ]
  },
  {
   "cell_type": "markdown",
   "id": "557e3f74",
   "metadata": {},
   "source": [
    "## Modeling"
   ]
  },
  {
   "cell_type": "code",
   "execution_count": null,
   "id": "e7c63e56",
   "metadata": {},
   "outputs": [],
   "source": []
  },
  {
   "cell_type": "markdown",
   "id": "7b82fd8c",
   "metadata": {},
   "source": [
    "------"
   ]
  },
  {
   "cell_type": "markdown",
   "id": "7362299b",
   "metadata": {},
   "source": [
    "- For now, as I don't have engine evaluations, how do I go about making a classification when it isn't immediately binary i.e. 3 options: white cheating, black cheating, no cheating. \n",
    "\n",
    "- Do all the games start from the starting position?\n",
    "- Does the game being an otb or online game influence how likely a win/draw is? \n",
    "- Is there any noticeable difference in patterns across different elo categories?\n",
    "- What is the distribution of elo? Across humans and computers? How do I take into account the same player and that their elo is changing over time? Do I treat each as independent? \n",
    "- What is the distribution of game length? Does it vary by elo? (Probably yes ?)\n",
    "- What is the distribution of computer-ELO? Are there bots that are low elo? Could this be because people are able to 'set' the strength of the computer opponent? If so this could mess up predictions, think about whether or not they should be removed, maybe they can be kept as 'test-cases' of how well we can predict 'cheaters' who cheat at low-elo.\n",
    "- Does the dataset tell me hwo the game ended? (I.e. resignation, checkmate, running out of time etc.)"
   ]
  },
  {
   "cell_type": "markdown",
   "id": "0ec18c78",
   "metadata": {
    "heading_collapsed": true
   },
   "source": [
    "# Considerations:"
   ]
  },
  {
   "cell_type": "markdown",
   "id": "91035b30",
   "metadata": {
    "hidden": true
   },
   "source": [
    "Using ELO difference/metric as a feature in predicting expected outcome of game.\n",
    "- Using opening played as a feature in predicting if cheater or not.\n",
    "- Use an engine to evaluate sequences of chess moves played in a game to learn average centipawn loss/gain, the centipawn loss/gain for each move, the number of innacuracies, mistakes, blunders. \n",
    "- How many opening moves to eliminate?\n",
    "\n",
    "\n",
    "\n",
    "- Lichess games offer "
   ]
  },
  {
   "cell_type": "code",
   "execution_count": null,
   "id": "7d52d6e8",
   "metadata": {
    "hidden": true
   },
   "outputs": [],
   "source": []
  },
  {
   "cell_type": "markdown",
   "id": "f7c98a32",
   "metadata": {
    "heading_collapsed": true
   },
   "source": [
    "# Notes from Data Skeptic:"
   ]
  },
  {
   "cell_type": "markdown",
   "id": "b385bcfb",
   "metadata": {
    "hidden": true
   },
   "source": [
    "- Humans tend to make little blunders all the time \"oh I didn't notice this idea, luckily my position still holds\".\n",
    "- Computers tend to keep their options open, X was able to demonstrate that humans, if they see an attack, will try to play it and force an early crisis in the game.\n",
    "- In aggregates of 100-200 moves, X believes you can then determine with confidence if someone was cheating.\n",
    "- \"Distance metric (of two probabilities?)\" : \"You can't just say deterministically what is the computer's move. It depends on many variables such as the depth of search, [pv or multi-pv], the identity of the computer program, even how much hash memory you've given it. There's a variation there (i.e. a probability distribution). The human being is a distribution, often fallable distribution, of options.\"\n",
    "- Originally going to use 'fidelity' which is a distance measure between distributions, which often comes up in computational physics. A former student recommended the 'Yensen-Shannon divergence (?)' which would solve a problem of 'Koblak-Leibler (?)' divergence of being too hair trigger in the treatment of blunders but it lacked other properties which X needed. \n",
    "- Wound up doing something 'highly elementary': maps given analysis of positions in a game, and parameters denoting the strength and particulars of the human player, he maps each chess move to probabilities, as if he were painting that move on the faces of many sided dice. And then he treats the chess position as a roll of those dice, so for this player, there's a 49% chance of selecting Ng5, 27% for Qg4, and so on down the line. After that, he can tap into the very simple stats theory of Bernoulli distributions (rolls of dice, flips of coins), and not only project the expected mean number of agreements, but also the projected variance, from the Bernoulli distribution theory, and thereby project confidence intervals, and since he's estimating a sample mean, the CLT comes into play, so he's working with a normal distribution and can use a z-score framework for his statistical projections. \n",
    "- If there is a clear stand-out move (e.g. only one move that keeps you alive in the position) then not only will the computer find it, it is highly likely that the good human player will find it. Whereas, even if you have just 10 moves in a game, where each move there were 4 highly reasonable options, which X's model would assign probabilities say between 20-25% each, and you consistently select the option that shows as preferred in X's computer test (...something about Modulo and distribution), if you match the computer's preferred move for 10 or more moves in a row, that a mllion to one probability.\n",
    "- Two modes of chess analysis with comp: multi-pv mode where comp has equal depth of search to all reasonable options in a position, single-pv is regular playing mode where computer focuses its resources on the move it thinks best and one or two competing moves. A lot of the art of practical computers playig against each others is how quickly can they prune away the sub-optimal moves. For his model, he needs to know the values of all the reasonalbe moves that the player might be considering, and the general landscape or shape of the position (either forcing or lots of options etc.).\n",
    "- For the training set, he has 10,000 games of multi-pv data, he took those games wehre each player is at one of the century points in the chess rating; for each of the levels above 2000 (Expert) he exhaustively chose games where both players were within 10 or so of those century points, run those games and he has his training data for yay-rated players. He is then therefor able to relate his two main model parameters to strength on that elo scale. Supplementing this he has a vast amount of single-pv (basically every top rated game in the recorded history of chess - over 200,000 games total). \n",
    "- He also routinely screens about 80,000 games out of the world's top events every year (codified as screening mode - he can get a first look at the play and relate it to the distributions of tens of thousands of performances of players at all ranks to see how much of an apparent outlier it is. \n",
    "- About a surprise winner: when he ran the screening test the player was on the edge of the red zone, but when he ran the full test based on the training data (multi-pv mode) it gave a z-score under 1.5 (the minimum was 2 for any kind of statistical significance) meaning it was unlikely that the player was cheaitng (his GM opponent was over-eager in trying to win and ended up losing). \n",
    "- He talks a little about how the arbiters, given their chess domain knowledge, likely made the right decision as they would have been able to see the situation on the ground (i.e. seen the critical positions, how the GM was winning, then made a mistake etc.). \n",
    "- Up until about 2+ years ago, the highest z-score he got in cases he was involved in was about 3.5, which corresponds to 4,300-to-1 odds against a Null hypothesis. Although very important, what it really means is that's the incidence of such a deviation occuring naturally among non-cheating players. Every week there are more than 1000 players taking part in tournaments around the globe, significant enough tto be aggregated on 'the week in chess'/'the weekend chess' by Mike 'Crowder'(?). You have to be aware of how your sample was selected or if there were any other factors which brought it to your attention apart from people going over the games with computers and noting a high correspondence. He believes that there has to be independent evidence. \n",
    "- [Section talking about comparing the quality of moves in a player's games in a tournament where there were known to be transmissions and expected-transmissionless games and how the differnce in quality of moves was about 3200 compared to 2550, so this was another indicator that the player was cheating.]\n",
    "- Up until Jan 2013 he did not get any z-scores above 3.5, but then suddenly z-scores above 5 (even closer to 6) ..."
   ]
  },
  {
   "cell_type": "markdown",
   "id": "18961b17",
   "metadata": {},
   "source": [
    "# Appendix:"
   ]
  },
  {
   "cell_type": "markdown",
   "id": "07e00688",
   "metadata": {
    "heading_collapsed": true
   },
   "source": [
    "## Figuring out how to get emt:"
   ]
  },
  {
   "cell_type": "code",
   "execution_count": null,
   "id": "848023ef",
   "metadata": {
    "ExecuteTime": {
     "end_time": "2022-10-20T21:37:07.559883Z",
     "start_time": "2022-10-20T21:37:07.559883Z"
    },
    "hidden": true
   },
   "outputs": [],
   "source": [
    "pgn = open(\"data/raw_data/2022/ficsgamesdb_search_262781.pgn\")\n",
    "game = chess.pgn.read_game(pgn)"
   ]
  },
  {
   "cell_type": "code",
   "execution_count": null,
   "id": "916cecda",
   "metadata": {
    "ExecuteTime": {
     "end_time": "2022-10-20T21:37:07.560880Z",
     "start_time": "2022-10-20T21:37:07.560880Z"
    },
    "hidden": true
   },
   "outputs": [],
   "source": [
    "print(game)"
   ]
  },
  {
   "cell_type": "markdown",
   "id": "cec207a2",
   "metadata": {
    "hidden": true
   },
   "source": [
    "%emt refers to the time used on a move. %clk refers to actual clock time. "
   ]
  },
  {
   "cell_type": "markdown",
   "id": "732adc15",
   "metadata": {
    "hidden": true
   },
   "source": [
    "From the pgn we can see time spent per move. "
   ]
  },
  {
   "cell_type": "code",
   "execution_count": null,
   "id": "a2929055",
   "metadata": {
    "ExecuteTime": {
     "end_time": "2022-10-20T21:37:07.561877Z",
     "start_time": "2022-10-20T21:37:07.561877Z"
    },
    "hidden": true
   },
   "outputs": [],
   "source": [
    "type(game)"
   ]
  },
  {
   "cell_type": "code",
   "execution_count": null,
   "id": "a6d5c4ef",
   "metadata": {
    "ExecuteTime": {
     "end_time": "2022-10-20T21:37:07.563871Z",
     "start_time": "2022-10-20T21:37:07.563871Z"
    },
    "hidden": true
   },
   "outputs": [],
   "source": [
    "game.mainline()"
   ]
  },
  {
   "cell_type": "code",
   "execution_count": null,
   "id": "c6edeaa9",
   "metadata": {
    "ExecuteTime": {
     "end_time": "2022-10-20T21:37:07.564868Z",
     "start_time": "2022-10-20T21:37:07.564868Z"
    },
    "hidden": true
   },
   "outputs": [],
   "source": [
    "game.board().san(game.variation(0).move)"
   ]
  },
  {
   "cell_type": "code",
   "execution_count": null,
   "id": "dd3985dd",
   "metadata": {
    "ExecuteTime": {
     "end_time": "2022-10-20T21:37:07.565865Z",
     "start_time": "2022-10-20T21:37:07.565865Z"
    },
    "hidden": true
   },
   "outputs": [],
   "source": [
    "game.headers"
   ]
  },
  {
   "cell_type": "code",
   "execution_count": null,
   "id": "6bcdf858",
   "metadata": {
    "ExecuteTime": {
     "end_time": "2022-10-20T21:37:07.566891Z",
     "start_time": "2022-10-20T21:37:07.566891Z"
    },
    "hidden": true
   },
   "outputs": [],
   "source": [
    "game.mainline()"
   ]
  },
  {
   "cell_type": "code",
   "execution_count": null,
   "id": "967a106f",
   "metadata": {
    "ExecuteTime": {
     "end_time": "2022-10-20T21:37:07.567860Z",
     "start_time": "2022-10-20T21:37:07.567860Z"
    },
    "hidden": true
   },
   "outputs": [],
   "source": [
    "for node in game.mainline():\n",
    "    print(node.move, node.emt(), node.clock())\n",
    "    print(node.comment)"
   ]
  },
  {
   "cell_type": "code",
   "execution_count": null,
   "id": "07074a9c",
   "metadata": {
    "ExecuteTime": {
     "end_time": "2022-10-20T21:37:07.568858Z",
     "start_time": "2022-10-20T21:37:07.568858Z"
    },
    "hidden": true
   },
   "outputs": [],
   "source": [
    "help(game)"
   ]
  },
  {
   "cell_type": "code",
   "execution_count": null,
   "id": "4c8d9795",
   "metadata": {
    "ExecuteTime": {
     "end_time": "2022-10-20T21:37:07.569856Z",
     "start_time": "2022-10-20T21:37:07.569856Z"
    },
    "hidden": true
   },
   "outputs": [],
   "source": [
    "# seems like the emt is in the game.comment"
   ]
  },
  {
   "cell_type": "code",
   "execution_count": null,
   "id": "2d9c1ca7",
   "metadata": {
    "ExecuteTime": {
     "end_time": "2022-10-20T21:37:07.570853Z",
     "start_time": "2022-10-20T21:37:07.570853Z"
    },
    "hidden": true
   },
   "outputs": [],
   "source": [
    "game.variation(0).comment"
   ]
  },
  {
   "cell_type": "code",
   "execution_count": null,
   "id": "301640d8",
   "metadata": {
    "ExecuteTime": {
     "end_time": "2022-10-20T21:37:07.571850Z",
     "start_time": "2022-10-20T21:37:07.571850Z"
    },
    "hidden": true
   },
   "outputs": [],
   "source": [
    "teste_ = pd.read_json(\"data/raw_data/json/2017/ficsgamesdb_search_262781.json\")"
   ]
  },
  {
   "cell_type": "code",
   "execution_count": null,
   "id": "4fd88510",
   "metadata": {
    "ExecuteTime": {
     "end_time": "2022-10-20T21:37:07.572848Z",
     "start_time": "2022-10-20T21:37:07.572848Z"
    },
    "hidden": true
   },
   "outputs": [],
   "source": [
    "teste_.moves"
   ]
  },
  {
   "cell_type": "code",
   "execution_count": null,
   "id": "68f89a94",
   "metadata": {
    "ExecuteTime": {
     "end_time": "2022-10-20T21:37:07.573845Z",
     "start_time": "2022-10-20T21:37:07.573845Z"
    },
    "hidden": true
   },
   "outputs": [],
   "source": [
    "teste_.loc[0];"
   ]
  },
  {
   "cell_type": "code",
   "execution_count": null,
   "id": "929cfe56",
   "metadata": {
    "ExecuteTime": {
     "end_time": "2022-10-20T21:37:07.574842Z",
     "start_time": "2022-10-20T21:37:07.574842Z"
    },
    "hidden": true
   },
   "outputs": [],
   "source": [
    "teste_.columns"
   ]
  },
  {
   "cell_type": "markdown",
   "id": "45305cac",
   "metadata": {
    "heading_collapsed": true
   },
   "source": [
    "## Making df column and dtype helper:"
   ]
  },
  {
   "cell_type": "code",
   "execution_count": null,
   "id": "17b5225a",
   "metadata": {
    "ExecuteTime": {
     "end_time": "2022-10-20T21:37:07.575839Z",
     "start_time": "2022-10-20T21:37:07.575839Z"
    },
    "hidden": true
   },
   "outputs": [],
   "source": [
    "df.columns"
   ]
  },
  {
   "cell_type": "code",
   "execution_count": null,
   "id": "7383b6a5",
   "metadata": {
    "ExecuteTime": {
     "end_time": "2022-10-20T21:37:07.576837Z",
     "start_time": "2022-10-20T21:37:07.576837Z"
    },
    "hidden": true
   },
   "outputs": [],
   "source": [
    "columns = list(df.columns)\n",
    "columns"
   ]
  },
  {
   "cell_type": "code",
   "execution_count": null,
   "id": "30e8746e",
   "metadata": {
    "ExecuteTime": {
     "end_time": "2022-10-20T21:37:07.577834Z",
     "start_time": "2022-10-20T21:37:07.577834Z"
    },
    "hidden": true
   },
   "outputs": [],
   "source": [
    "list(df.dtypes);"
   ]
  },
  {
   "cell_type": "code",
   "execution_count": null,
   "id": "6fad7544",
   "metadata": {
    "ExecuteTime": {
     "end_time": "2022-10-20T21:37:07.578831Z",
     "start_time": "2022-10-20T21:37:07.578831Z"
    },
    "hidden": true,
    "scrolled": false
   },
   "outputs": [],
   "source": [
    "df.dtypes.reset_index().head()"
   ]
  },
  {
   "cell_type": "code",
   "execution_count": null,
   "id": "b72eb594",
   "metadata": {
    "ExecuteTime": {
     "end_time": "2022-10-20T21:37:07.579829Z",
     "start_time": "2022-10-20T21:37:07.579829Z"
    },
    "hidden": true
   },
   "outputs": [],
   "source": [
    "df.dtypes.reset_index().loc[:,0]"
   ]
  },
  {
   "cell_type": "code",
   "execution_count": null,
   "id": "e621b415",
   "metadata": {
    "ExecuteTime": {
     "end_time": "2022-10-20T21:37:07.580826Z",
     "start_time": "2022-10-20T21:37:07.580826Z"
    },
    "hidden": true
   },
   "outputs": [],
   "source": [
    "df.WhiteElo.dtype == np.int64"
   ]
  },
  {
   "cell_type": "code",
   "execution_count": null,
   "id": "94ab2731",
   "metadata": {
    "ExecuteTime": {
     "end_time": "2022-10-20T21:37:07.581824Z",
     "start_time": "2022-10-20T21:37:07.581824Z"
    },
    "hidden": true
   },
   "outputs": [],
   "source": [
    "df.WhiteElo.dtype == 'int64'"
   ]
  },
  {
   "cell_type": "code",
   "execution_count": null,
   "id": "7ee7e4db",
   "metadata": {
    "ExecuteTime": {
     "end_time": "2022-10-20T21:37:07.582821Z",
     "start_time": "2022-10-20T21:37:07.582821Z"
    },
    "hidden": true
   },
   "outputs": [],
   "source": [
    "df.Event.dtype == 'O'"
   ]
  },
  {
   "cell_type": "code",
   "execution_count": null,
   "id": "4a40925b",
   "metadata": {
    "ExecuteTime": {
     "end_time": "2022-10-20T21:37:07.583819Z",
     "start_time": "2022-10-20T21:37:07.583819Z"
    },
    "hidden": true
   },
   "outputs": [],
   "source": [
    "df.Date.dtype == '<M8[ns]'"
   ]
  },
  {
   "cell_type": "code",
   "execution_count": null,
   "id": "b4f6c70b",
   "metadata": {
    "ExecuteTime": {
     "end_time": "2022-10-20T21:37:07.584815Z",
     "start_time": "2022-10-20T21:37:07.584815Z"
    },
    "hidden": true
   },
   "outputs": [],
   "source": [
    "df.Date.dtype == 'datetime64[ns]'"
   ]
  },
  {
   "cell_type": "code",
   "execution_count": null,
   "id": "6748bd16",
   "metadata": {
    "ExecuteTime": {
     "end_time": "2022-10-20T21:37:07.585812Z",
     "start_time": "2022-10-20T21:37:07.585812Z"
    },
    "hidden": true
   },
   "outputs": [],
   "source": [
    "#     def dtype_checker(df, schema):\n",
    "#         wrong_dtypes = [[i, j] for i, j in schema.items() if i in df.columns and df[i].dtype!=j]\n",
    "#         if len(wrong_dtypes)!=0:\n",
    "#             for row in [f'Column {k[0]} does not match datatype {k[1]}' for k in wrong_dtypes]:\n",
    "#                 print(row)\n",
    "#             return False\n",
    "#         else:\n",
    "#             return True"
   ]
  },
  {
   "cell_type": "code",
   "execution_count": null,
   "id": "ef76cf0a",
   "metadata": {
    "ExecuteTime": {
     "end_time": "2022-10-20T21:37:07.586810Z",
     "start_time": "2022-10-20T21:37:07.586810Z"
    },
    "code_folding": [
     0
    ],
    "hidden": true
   },
   "outputs": [],
   "source": [
    "#     expected_schema = {\n",
    "#         'Event': 'object',\n",
    "#         'Site': 'object',\n",
    "#         'Date': 'datetime64[ns]',\n",
    "#         'Round': 'object',\n",
    "#         'White': 'object',\n",
    "#         'Black': 'object',\n",
    "#         'Result': 'object',\n",
    "#         'BlackClock': 'object',\n",
    "#         'BlackElo':  'int64',\n",
    "#         'BlackIsComp': 'object',\n",
    "#         'BlackRD': 'float64',\n",
    "#         'ECO': 'object',\n",
    "#         'FICSGamesDBGameNo':  'int64',\n",
    "#         'PlyCount':  'int64',\n",
    "#         'Time': 'object',\n",
    "#         'TimeControl': 'object',\n",
    "#         'WhiteClock': 'object',\n",
    "#         'WhiteElo':  'int64',\n",
    "#         'WhiteRD': 'float64',\n",
    "#         'emt': 'object',\n",
    "#         'moves': 'object',\n",
    "#         'WhiteIsComp': 'object'  \n",
    "#     }"
   ]
  },
  {
   "cell_type": "code",
   "execution_count": null,
   "id": "e3477b4b",
   "metadata": {
    "ExecuteTime": {
     "end_time": "2022-10-20T21:37:07.587807Z",
     "start_time": "2022-10-20T21:37:07.587807Z"
    },
    "hidden": true
   },
   "outputs": [],
   "source": [
    "# dtype_checker(df, expected_schema)"
   ]
  },
  {
   "cell_type": "code",
   "execution_count": null,
   "id": "937e997c",
   "metadata": {
    "ExecuteTime": {
     "end_time": "2022-10-20T21:37:07.588805Z",
     "start_time": "2022-10-20T21:37:07.588805Z"
    },
    "hidden": true
   },
   "outputs": [],
   "source": [
    "# def schema_checker(df, cols):\n",
    "#     missing_cols = [i for i in cols if i not in df.columns]\n",
    "#     if len(missing_cols)!=0:\n",
    "#         for col in [f'Column {i} not found' for i in missing_cols]:\n",
    "#             print(col)\n",
    "#         return False\n",
    "#     else:\n",
    "#         return True"
   ]
  },
  {
   "cell_type": "code",
   "execution_count": null,
   "id": "87cf1d68",
   "metadata": {
    "ExecuteTime": {
     "end_time": "2022-10-20T21:37:07.589802Z",
     "start_time": "2022-10-20T21:37:07.589802Z"
    },
    "hidden": true
   },
   "outputs": [],
   "source": [
    "# schema_checker(df, expected_schema.keys())"
   ]
  },
  {
   "cell_type": "code",
   "execution_count": null,
   "id": "81c60eea",
   "metadata": {
    "ExecuteTime": {
     "end_time": "2022-10-20T21:37:07.590801Z",
     "start_time": "2022-10-20T21:37:07.590801Z"
    },
    "hidden": true
   },
   "outputs": [],
   "source": [
    "# df_wrong = df.copy().rename(columns={'BlackRD': 'Wrongs'})"
   ]
  },
  {
   "cell_type": "code",
   "execution_count": null,
   "id": "7e43b7f2",
   "metadata": {
    "ExecuteTime": {
     "end_time": "2022-10-20T21:37:07.591796Z",
     "start_time": "2022-10-20T21:37:07.591796Z"
    },
    "hidden": true
   },
   "outputs": [],
   "source": [
    "# schema_checker(df_wrong, expected_schema.keys())"
   ]
  },
  {
   "cell_type": "markdown",
   "id": "9745c3f7",
   "metadata": {
    "heading_collapsed": true
   },
   "source": [
    "## Making XIsComp helper:"
   ]
  },
  {
   "cell_type": "code",
   "execution_count": null,
   "id": "a0acbabc",
   "metadata": {
    "ExecuteTime": {
     "end_time": "2022-10-20T21:37:07.592794Z",
     "start_time": "2022-10-20T21:37:07.592794Z"
    },
    "hidden": true
   },
   "outputs": [],
   "source": [
    "# def change_comp_columns(df):\n",
    "#     ## make copy df\n",
    "\n",
    "#     nocomp_df = df.copy()\n",
    "    \n",
    "#     ## check number of unique in blackiscomp and whiteiscomp (should be 2)\n",
    "#     assert all([nocomp_df[x].nunique(dropna=False)==2 for x in ['WhiteIsComp', 'BlackIsComp']]), 'More than two unique values in a XIsComp column (including nan)'\n",
    "    \n",
    "#     ## check one of the unique values are 'Yes'\n",
    "#     assert all(['Yes' in nocomp_df[x].unique() for x in ['WhiteIsComp', 'BlackIsComp']]), 'Missing \"Yes\" in one of the XIsComp column'\n",
    "\n",
    "#     ## assign 1 and 0 to blackiscomp and whiteiscomp\n",
    "\n",
    "#     nocomp_df['WhiteIsComp'] = np.where(nocomp_df['WhiteIsComp']=='Yes', np.int8(1), np.int8(0))\n",
    "#     nocomp_df['BlackIsComp'] = np.where(nocomp_df['BlackIsComp']=='Yes', np.int8(1), np.int8(0))\n",
    "\n",
    "#     ## make new 'nocomp' column which depends on blackiscomp==1 and whiteiscomp==1\n",
    "\n",
    "#     nocomp_df['NoComp'] = np.where(zip(nocomp_df['WhiteIsComp'], nocomp_df['BlackIsComp'])==[0, 0], np.int8(1), np.int8(0))\n",
    "    \n",
    "#     return nocomp_df"
   ]
  },
  {
   "cell_type": "code",
   "execution_count": null,
   "id": "55509645",
   "metadata": {
    "ExecuteTime": {
     "end_time": "2022-10-20T21:37:07.593791Z",
     "start_time": "2022-10-20T21:37:07.593791Z"
    },
    "hidden": true
   },
   "outputs": [],
   "source": [
    "# nocomp_df_test = hp.change_comp_columns(df)\n",
    "\n",
    "# # validating the shape is (2, 0) if there are only games with cheaters (i.e. XIsComp==1)\n",
    "# nocomp_df_test[['BlackIsComp', 'WhiteIsComp', 'NoComp']].groupby(['BlackIsComp', 'WhiteIsComp', 'NoComp']).count()\n",
    "\n",
    "# nocomp_df_test[['BlackIsComp', 'WhiteIsComp', 'NoComp']].groupby([\n",
    "#     'BlackIsComp', 'WhiteIsComp', 'NoComp']).count().shape[0]; # 2\n",
    "\n",
    "\n",
    "# # validating the shape is (3, 0) if there is at least one entry that is NoComp==1\n",
    "# nocomp_df_test_2  = nocomp_df_test.copy()\n",
    "# nocomp_df_test_2.loc[0,['BlackIsComp', 'WhiteIsComp', 'NoComp']] = [0, 0, 1]\n",
    "# nocomp_df_test_2[['BlackIsComp', 'WhiteIsComp', 'NoComp']].iloc[0]\n",
    "# nocomp_df_test_2[['BlackIsComp', 'WhiteIsComp', 'NoComp']].groupby(['BlackIsComp', 'WhiteIsComp', 'NoComp']).count()\n",
    "\n",
    "# nocomp_df_test_2[['BlackIsComp', 'WhiteIsComp', 'NoComp']].groupby([\n",
    "#     'BlackIsComp', 'WhiteIsComp', 'NoComp']).count().shape[0]; # 3"
   ]
  },
  {
   "cell_type": "code",
   "execution_count": null,
   "id": "0e844a82",
   "metadata": {
    "ExecuteTime": {
     "end_time": "2022-10-20T21:37:07.594789Z",
     "start_time": "2022-10-20T21:37:07.594789Z"
    },
    "hidden": true
   },
   "outputs": [],
   "source": [
    "# make 'nocomp' column:\n",
    "\n",
    "## make copy df\n",
    "\n",
    "nocomp_df = df.copy()\n",
    "\n",
    "## check number of unique in blackiscomp and whiteiscomp (should be 2)\n",
    "\n",
    "# white_comp_unique_num = nocomp_df.WhiteIsComp.nunique(dropna=False)\n",
    "# black_comp_unique_num = nocomp_df.BlackIsComp.nunique(dropna=False)\n",
    "# comp_unique_num = [nocomp_df[x].nunique(dropna=False) for x in ['WhiteIsComp', 'BlackIsComp']]\n",
    "# print(comp_unique_num) # [2, 2]\n",
    "# print(all(comp_unique_num))\n",
    "# comp_unique_num_is2 = np.array([nocomp_df[x].nunique(dropna=False)==2 for x in ['WhiteIsComp', 'BlackIsComp']]).all()\n",
    "# assert np.array([nocomp_df[x].nunique(dropna=False)==2 for x in ['WhiteIsComp', 'BlackIsComp']]).all()==True, 'More than two unique values in a XIsComp column (including nan)'\n",
    "# print(comp_unique_num_is2)\n",
    "comp_unique_num_is2 = all([nocomp_df[x].nunique(dropna=False)==2 for x in ['WhiteIsComp', 'BlackIsComp']])\n",
    "# print(comp_unique_num_is2)\n",
    "\n",
    "# bla = np.array([nocomp_df[x].nunique(dropna=False)==2 for x in ['WhiteIsComp', 'BlackIsComp']])\n",
    "# bla[0]=False\n",
    "# print(all(bla)) # False\n",
    "\n",
    "\n",
    "## check one of the unique values are 'Yes'\n",
    "\n",
    "has_yes_list = ['Yes' in nocomp_df[x].unique() for x in ['WhiteIsComp', 'BlackIsComp']]\n",
    "# print(has_yes_list) # [True, True]\n",
    "has_yes = all(has_yes_list)\n",
    "# print(has_yes)\n",
    "\n",
    "## assign 1 and 0 to blackiscomp and whiteiscomp\n",
    "\n",
    "# nocomp_df['WhiteIsComp'] = nocomp_df['WhiteIsComp'].apply(lambda x: np.int8(1) if x=='Yes' else np.int8(0))\n",
    "# nocomp_df['BlackIsComp'] = nocomp_df['BlackIsComp'].apply(lambda x: np.int8(1) if x=='Yes' else np.int8(0))\n",
    "\n",
    "nocomp_df['WhiteIsComp'] = np.where(nocomp_df['WhiteIsComp']=='Yes', np.int8(1), np.int8(0))\n",
    "nocomp_df['BlackIsComp'] = np.where(nocomp_df['BlackIsComp']=='Yes', np.int8(1), np.int8(0))\n",
    "\n",
    "\n",
    "#---#\n",
    "\n",
    "## make new 'nocomp' column which depends on blackiscomp==1 and whiteiscomp==1\n",
    "\n",
    "# fastest is:\n",
    "nocomp_df['NoComp'] = np.where(next(zip(nocomp_df['WhiteIsComp'], nocomp_df['BlackIsComp']))==(0, 0), \n",
    "                               np.int8(1),\n",
    "                               np.int8(0))\n",
    "\n",
    "# testing was done to compare speeds\n"
   ]
  },
  {
   "cell_type": "code",
   "execution_count": null,
   "id": "5b38a51d",
   "metadata": {
    "ExecuteTime": {
     "end_time": "2022-10-22T12:58:34.463743Z",
     "start_time": "2022-10-22T12:58:34.453792Z"
    },
    "hidden": true
   },
   "outputs": [],
   "source": [
    "# compare speed of np.array(...).all() and all([...])\n",
    "\n",
    "# all([...]) marginally faster\n",
    "\n",
    "# # %%timeit # 1.58 ms ± 55.5 µs per loop (mean ± std. dev. of 7 runs, 1,000 loops each)\n",
    "# nocomp_df = df.copy()\n",
    "# comp_unique_num_is2 = np.array([nocomp_df[x].nunique(dropna=False)==2 for x in ['WhiteIsComp', 'BlackIsComp']]).all()\n",
    "# comp_unique_num_is2\n",
    "\n",
    "# # %%timeit # 1.51 ms ± 18.5 µs per loop (mean ± std. dev. of 7 runs, 1,000 loops each)\n",
    "# nocomp_df = df.copy()\n",
    "# comp_unique_num_is2 = all([nocomp_df[x].nunique(dropna=False)==2 for x in ['WhiteIsComp', 'BlackIsComp']])\n",
    "# comp_unique_num_is2"
   ]
  },
  {
   "cell_type": "code",
   "execution_count": null,
   "id": "53c17435",
   "metadata": {
    "ExecuteTime": {
     "end_time": "2022-10-20T21:37:07.596784Z",
     "start_time": "2022-10-20T21:37:07.596784Z"
    },
    "code_folding": [
     0
    ],
    "hidden": true
   },
   "outputs": [],
   "source": [
    "# Compare np.where and df.apply speed:\n",
    "\n",
    "# # timing np.where\n",
    "# nocomp_df = df.copy()\n",
    "# nocomp_df['WhiteIsComp'] = np.where(nocomp_df['WhiteIsComp']=='Yes', np.int8(1), np.int8(0))\n",
    "# nocomp_df['BlackIsComp'] = np.where(nocomp_df['BlackIsComp']=='Yes', np.int8(1), np.int8(0))\n",
    "\n",
    "\n",
    "#-----#\n",
    "\n",
    "# any([np.int8(0), np.int8(1)]) # True\n",
    "\n",
    "# zip(nocomp_df['WhiteIsComp'], nocomp_df['BlackIsComp']) # <zip at 0x2ac85d24c40>\n",
    "\n",
    "# for element in zip(nocomp_df['WhiteIsComp'], nocomp_df['BlackIsComp']):\n",
    "#     print(element)\n",
    "\n",
    "# [np.int8(0) if any(element) else np.int8(1) for element in zip(nocomp_df['WhiteIsComp'], nocomp_df['BlackIsComp'])]\n",
    "\n",
    "# pd.Series([np.int8(1) if all(element) else np.int8(0) for element in zip(nocomp_df['WhiteIsComp'], nocomp_df['BlackIsComp'])])\n",
    "\n",
    "# nocomp_df['NoComp'] = [np.int8(0) if any(element) else np.int8(1) for element in zip(nocomp_df['WhiteIsComp'], nocomp_df['BlackIsComp'])]\n",
    "\n",
    "# nocomp_df['NoComp'].any() # False\n",
    "\n",
    "# nocomp_df['NoComp'] = np.where(zip(nocomp_df['WhiteIsComp'], nocomp_df['BlackIsComp'])==[0, 0], np.int8(1), np.int8(0))\n",
    "# np.int8(0)==0 # True\n",
    "# np.int8(1)==1 # True\n",
    "\n",
    "# nocomp_df['NoComp'].any() # False \n",
    "\n",
    "# nocomp_df['WhiteIsComp']==1 # Series of True and False\n",
    "\n",
    "#------#\n",
    "\n",
    "# # %%timeit # 54.6 ms ± 420 µs per loop (mean ± std. dev. of 7 runs, 10 loops each)\n",
    "# # timing df.apply()\n",
    "# nocomp_df = df.copy()\n",
    "# nocomp_df['WhiteIsComp'] = nocomp_df['WhiteIsComp'].apply(lambda x: np.int8(1) if x=='Yes' else np.int8(0))\n",
    "# nocomp_df['BlackIsComp'] = nocomp_df['BlackIsComp'].apply(lambda x: np.int8(1) if x=='Yes' else np.int8(0))"
   ]
  },
  {
   "cell_type": "code",
   "execution_count": null,
   "id": "03593231",
   "metadata": {
    "ExecuteTime": {
     "end_time": "2022-10-22T14:27:12.092676Z",
     "start_time": "2022-10-22T14:27:12.078741Z"
    },
    "hidden": true
   },
   "outputs": [],
   "source": [
    "# # Comparing 3 methods for making NoComp column (on Muninn):\n",
    "\n",
    "nocomp_df = df_2018_test.copy()\n",
    "nocomp_df['WhiteIsComp'] = np.where(nocomp_df['WhiteIsComp']=='Yes', np.int8(1), np.int8(0))\n",
    "nocomp_df['BlackIsComp'] = np.where(nocomp_df['BlackIsComp']=='Yes', np.int8(1), np.int8(0))\n",
    "\n",
    "# #--#"
   ]
  },
  {
   "cell_type": "code",
   "execution_count": null,
   "id": "e46673e3",
   "metadata": {
    "ExecuteTime": {
     "end_time": "2022-10-22T14:19:18.554364Z",
     "start_time": "2022-10-22T14:19:18.547355Z"
    },
    "code_folding": [],
    "hidden": true
   },
   "outputs": [],
   "source": [
    "# # %%timeit # 156 ms ± 517 µs per loop (mean ± std. dev. of 7 runs, 10 loops each)\n",
    "\n",
    "# # .apply()\n",
    "\n",
    "# nocomp_df['NoComp'] = nocomp_df.apply(lambda x: np.int8(1) if (x['WhiteIsComp']!=1 and \\\n",
    "#                                                                x['BlackIsComp']!=1) else np.int8(0), axis=1)"
   ]
  },
  {
   "cell_type": "code",
   "execution_count": null,
   "id": "40ef49a2",
   "metadata": {
    "ExecuteTime": {
     "end_time": "2022-10-22T14:19:20.355537Z",
     "start_time": "2022-10-22T14:19:20.337852Z"
    },
    "hidden": true
   },
   "outputs": [],
   "source": [
    "# apply_ = nocomp_df['NoComp'].copy()"
   ]
  },
  {
   "cell_type": "code",
   "execution_count": null,
   "id": "e20e50b7",
   "metadata": {
    "ExecuteTime": {
     "end_time": "2022-10-22T14:19:15.384682Z",
     "start_time": "2022-10-22T14:19:15.379669Z"
    },
    "hidden": true
   },
   "outputs": [],
   "source": [
    "# apply_;"
   ]
  },
  {
   "cell_type": "code",
   "execution_count": null,
   "id": "0b9db2cc",
   "metadata": {
    "ExecuteTime": {
     "end_time": "2022-10-22T14:15:47.350477Z",
     "start_time": "2022-10-22T14:15:47.338486Z"
    },
    "hidden": true
   },
   "outputs": [],
   "source": [
    "#--#"
   ]
  },
  {
   "cell_type": "code",
   "execution_count": null,
   "id": "0069f132",
   "metadata": {
    "ExecuteTime": {
     "end_time": "2022-10-22T14:15:47.476498Z",
     "start_time": "2022-10-22T14:15:47.470515Z"
    },
    "code_folding": [],
    "hidden": true
   },
   "outputs": [],
   "source": [
    "# nocomp_df['NoComp'][0:5] # looks good"
   ]
  },
  {
   "cell_type": "code",
   "execution_count": null,
   "id": "7e5b9cdc",
   "metadata": {
    "ExecuteTime": {
     "end_time": "2022-10-22T14:19:42.599471Z",
     "start_time": "2022-10-22T14:19:42.593456Z"
    },
    "code_folding": [],
    "hidden": true
   },
   "outputs": [],
   "source": [
    "# # %%timeit # 49.5 ms ± 164 µs per loop (mean ± std. dev. of 7 runs, 10 loops each)\n",
    "\n",
    "# # list comprehension using 'for element in zip'\n",
    "\n",
    "# nocomp_df['NoComp'] = [np.int8(1) if element==(0, 0) else np.int8(0) for element in \\\n",
    "#                        zip(nocomp_df['WhiteIsComp'], nocomp_df['BlackIsComp'])]\n",
    "\n",
    "# # nocomp_df['NoComp'] = [np.int8(0) if any(element) else np.int8(1) for element in \\\n",
    "# #                        zip(nocomp_df['WhiteIsComp'], nocomp_df['BlackIsComp'])]\n",
    "\n",
    "# # [element for element in \\\n",
    "# #  zip(nocomp_df['WhiteIsComp'], nocomp_df['BlackIsComp'])]"
   ]
  },
  {
   "cell_type": "code",
   "execution_count": null,
   "id": "e381059d",
   "metadata": {
    "ExecuteTime": {
     "end_time": "2022-10-22T14:19:45.311857Z",
     "start_time": "2022-10-22T14:19:45.307876Z"
    },
    "hidden": true
   },
   "outputs": [],
   "source": [
    "# listcompforzip_ = nocomp_df['NoComp'].copy()"
   ]
  },
  {
   "cell_type": "code",
   "execution_count": null,
   "id": "d83a746f",
   "metadata": {
    "ExecuteTime": {
     "end_time": "2022-10-22T14:19:40.028540Z",
     "start_time": "2022-10-22T14:19:40.019587Z"
    },
    "hidden": true
   },
   "outputs": [],
   "source": [
    "# listcompforzip_;"
   ]
  },
  {
   "cell_type": "code",
   "execution_count": null,
   "id": "dd618fd9",
   "metadata": {
    "ExecuteTime": {
     "end_time": "2022-10-22T14:15:48.009005Z",
     "start_time": "2022-10-22T14:15:47.999060Z"
    },
    "hidden": true
   },
   "outputs": [],
   "source": [
    "#--#"
   ]
  },
  {
   "cell_type": "code",
   "execution_count": null,
   "id": "56854751",
   "metadata": {
    "ExecuteTime": {
     "end_time": "2022-10-22T14:15:48.305903Z",
     "start_time": "2022-10-22T14:15:48.292938Z"
    },
    "hidden": true
   },
   "outputs": [],
   "source": [
    "# nocomp_df['NoComp'] # looks good"
   ]
  },
  {
   "cell_type": "code",
   "execution_count": null,
   "id": "6a7d54bd",
   "metadata": {
    "ExecuteTime": {
     "end_time": "2022-10-22T14:17:50.874700Z",
     "start_time": "2022-10-22T14:17:43.986856Z"
    },
    "code_folding": [],
    "hidden": true
   },
   "outputs": [],
   "source": [
    "# # %%timeit # 84.8 µs ± 689 ns per loop (mean ± std. dev. of 7 runs, 10,000 loops each)\n",
    "\n",
    "# # np.where(next(zip()))==(0, 0) \n",
    "\n",
    "\n",
    "# # DON'T WORK:\n",
    "# # nocomp_df['NoComp'] = np.where(list(zip(nocomp_df['WhiteIsComp'], nocomp_df['BlackIsComp']))==(0, 0), # [0, 0] doesn't work\n",
    "# #                                np.int8(1),\n",
    "# #                                np.int8(0)) # doesn't work\n",
    "\n",
    "# # nocomp_df['NoComp'] = np.where(np.array(list(zip(nocomp_df['WhiteIsComp'], nocomp_df['BlackIsComp']))).flat==[0, 0], \n",
    "# #                                np.int8(1),\n",
    "# #                                np.int8(0))\n",
    "\n",
    "\n",
    "# # DOES WORK:\n",
    "# nocomp_df['NoComp'] = np.where(next(zip(nocomp_df['WhiteIsComp'], nocomp_df['BlackIsComp']))==(0, 0), \n",
    "#                                np.int8(1),\n",
    "#                                np.int8(0))\n",
    "\n",
    "# #-#\n",
    "\n",
    "# # both of: \n",
    "# # # np.where(zip(nocomp_df['WhiteIsComp'], nocomp_df['BlackIsComp'])==(0, 0), 1, 0)\n",
    "\n",
    "# # # np.where(zip(nocomp_df['WhiteIsComp'], nocomp_df['BlackIsComp'])==[0, 0], 1, 0)\n",
    "# # return array(0), this is why 'list' is used\n"
   ]
  },
  {
   "cell_type": "code",
   "execution_count": null,
   "id": "a06e7ef6",
   "metadata": {
    "ExecuteTime": {
     "end_time": "2022-10-22T14:13:08.348798Z",
     "start_time": "2022-10-22T14:13:08.327827Z"
    },
    "hidden": true
   },
   "outputs": [],
   "source": [
    "# len(list(zip(*(zip(nocomp_df['WhiteIsComp'], nocomp_df['BlackIsComp'])))))\n",
    "# list(zip(*(zip(nocomp_df['WhiteIsComp'], nocomp_df['BlackIsComp']))))\n",
    "# list(zip(nocomp_df['WhiteIsComp'], nocomp_df['BlackIsComp']))\n",
    "# #==(0, 0)\n",
    "# np.array(list(zip(nocomp_df['WhiteIsComp'], nocomp_df['BlackIsComp'])), ndmin=1).shape\n",
    "\n",
    "# next(zip(nocomp_df['WhiteIsComp'], nocomp_df['BlackIsComp']))"
   ]
  },
  {
   "cell_type": "code",
   "execution_count": null,
   "id": "179a27a0",
   "metadata": {
    "hidden": true
   },
   "outputs": [],
   "source": []
  },
  {
   "cell_type": "code",
   "execution_count": null,
   "id": "a6465509",
   "metadata": {
    "ExecuteTime": {
     "end_time": "2022-10-22T12:41:05.893148Z",
     "start_time": "2022-10-22T12:41:05.888162Z"
    },
    "code_folding": [
     0
    ],
    "hidden": true
   },
   "outputs": [],
   "source": [
    "# list(zip(nocomp_df['WhiteIsComp'], nocomp_df['BlackIsComp']))\n",
    "# [(0, 0),\n",
    "#  (0, 0),\n",
    "#  (0, 0),\n",
    "#  (0, 0),\n",
    "#  (0, 0),\n",
    "#  (0, 0),...."
   ]
  },
  {
   "cell_type": "code",
   "execution_count": null,
   "id": "49277dde",
   "metadata": {
    "ExecuteTime": {
     "end_time": "2022-10-22T14:22:58.718568Z",
     "start_time": "2022-10-22T14:22:58.708595Z"
    },
    "hidden": true
   },
   "outputs": [],
   "source": [
    "# list(zip(nocomp_df['WhiteIsComp'], nocomp_df['BlackIsComp']))[0]==(0, 0)"
   ]
  },
  {
   "cell_type": "code",
   "execution_count": null,
   "id": "293719cf",
   "metadata": {
    "ExecuteTime": {
     "end_time": "2022-10-22T12:41:06.048943Z",
     "start_time": "2022-10-22T12:41:06.031988Z"
    },
    "code_folding": [],
    "hidden": true
   },
   "outputs": [],
   "source": [
    "# bla = zip(nocomp_df['WhiteIsComp'], nocomp_df['BlackIsComp'])\n",
    "# next(bla)\n",
    "# next(bla)==(0, 0) # True"
   ]
  },
  {
   "cell_type": "code",
   "execution_count": null,
   "id": "4f7adbed",
   "metadata": {
    "hidden": true
   },
   "outputs": [],
   "source": []
  },
  {
   "cell_type": "code",
   "execution_count": null,
   "id": "8a1de27e",
   "metadata": {
    "ExecuteTime": {
     "end_time": "2022-10-22T14:17:00.652184Z",
     "start_time": "2022-10-22T14:17:00.634232Z"
    },
    "hidden": true
   },
   "outputs": [],
   "source": [
    "# wherenextzip_ = nocomp_df['NoComp'].copy()"
   ]
  },
  {
   "cell_type": "code",
   "execution_count": null,
   "id": "da0cc54f",
   "metadata": {
    "ExecuteTime": {
     "end_time": "2022-10-22T14:18:39.512624Z",
     "start_time": "2022-10-22T14:18:39.498649Z"
    },
    "hidden": true
   },
   "outputs": [],
   "source": [
    "wherenextzip_;"
   ]
  },
  {
   "cell_type": "code",
   "execution_count": null,
   "id": "3d51dda3",
   "metadata": {
    "ExecuteTime": {
     "end_time": "2022-10-22T12:41:06.639147Z",
     "start_time": "2022-10-22T12:41:06.622195Z"
    },
    "hidden": true
   },
   "outputs": [],
   "source": [
    "#--#"
   ]
  },
  {
   "cell_type": "code",
   "execution_count": null,
   "id": "235952e4",
   "metadata": {
    "ExecuteTime": {
     "end_time": "2022-10-22T14:16:01.732468Z",
     "start_time": "2022-10-22T14:16:01.715513Z"
    },
    "hidden": true
   },
   "outputs": [],
   "source": [
    "# nocomp_df['NoComp'] # looks good"
   ]
  },
  {
   "cell_type": "code",
   "execution_count": null,
   "id": "6f7a3581",
   "metadata": {
    "ExecuteTime": {
     "end_time": "2022-10-22T14:27:17.621066Z",
     "start_time": "2022-10-22T14:27:15.137074Z"
    },
    "hidden": true
   },
   "outputs": [],
   "source": [
    "# # %%timeit # 309 µs ± 3.63 µs per loop (mean ± std. dev. of 7 runs, 1,000 loops each)\n",
    "\n",
    "# # #np.where(df[['a', 'b']].values==[0, 0])\n",
    "\n",
    "# nocomp_df['NoComp'] = np.where((nocomp_df['WhiteIsComp']==0)*(nocomp_df['BlackIsComp']==0),\n",
    "#                                np.int8(1), np.int8(0))"
   ]
  },
  {
   "cell_type": "code",
   "execution_count": null,
   "id": "3c768b57",
   "metadata": {
    "ExecuteTime": {
     "end_time": "2022-10-22T14:17:09.397423Z",
     "start_time": "2022-10-22T14:17:09.386452Z"
    },
    "hidden": true
   },
   "outputs": [],
   "source": [
    "# wheredf_ = nocomp_df['NoComp'].copy()"
   ]
  },
  {
   "cell_type": "code",
   "execution_count": null,
   "id": "22e6cfea",
   "metadata": {
    "ExecuteTime": {
     "end_time": "2022-10-22T14:17:09.756877Z",
     "start_time": "2022-10-22T14:17:09.746876Z"
    },
    "hidden": true
   },
   "outputs": [],
   "source": [
    "wheredf_;"
   ]
  },
  {
   "cell_type": "code",
   "execution_count": null,
   "id": "92fc89c1",
   "metadata": {
    "ExecuteTime": {
     "end_time": "2022-10-22T12:44:14.546629Z",
     "start_time": "2022-10-22T12:44:14.537818Z"
    },
    "hidden": true
   },
   "outputs": [],
   "source": [
    "#--#"
   ]
  },
  {
   "cell_type": "code",
   "execution_count": null,
   "id": "05aaedd1",
   "metadata": {
    "ExecuteTime": {
     "end_time": "2022-10-22T13:19:07.310726Z",
     "start_time": "2022-10-22T13:19:07.302748Z"
    },
    "hidden": true
   },
   "outputs": [],
   "source": [
    "# nocomp_df['NoComp'] # looks good"
   ]
  },
  {
   "cell_type": "code",
   "execution_count": null,
   "id": "6822fffa",
   "metadata": {
    "hidden": true
   },
   "outputs": [],
   "source": []
  },
  {
   "cell_type": "code",
   "execution_count": null,
   "id": "7e1a2690",
   "metadata": {
    "ExecuteTime": {
     "end_time": "2022-10-22T12:44:14.546629Z",
     "start_time": "2022-10-22T12:44:14.537818Z"
    },
    "hidden": true
   },
   "outputs": [],
   "source": [
    "#--#"
   ]
  },
  {
   "cell_type": "code",
   "execution_count": null,
   "id": "218e6e85",
   "metadata": {
    "ExecuteTime": {
     "end_time": "2022-10-22T14:18:54.479452Z",
     "start_time": "2022-10-22T14:18:54.469475Z"
    },
    "hidden": true
   },
   "outputs": [],
   "source": [
    "all(wheredf_==wherenextzip_) # True"
   ]
  },
  {
   "cell_type": "code",
   "execution_count": null,
   "id": "4a9ca543",
   "metadata": {
    "ExecuteTime": {
     "end_time": "2022-10-22T14:20:08.553603Z",
     "start_time": "2022-10-22T14:20:08.542662Z"
    },
    "hidden": true
   },
   "outputs": [],
   "source": [
    "all(listcompforzip_==wherenextzip_) # True"
   ]
  },
  {
   "cell_type": "code",
   "execution_count": null,
   "id": "83322c38",
   "metadata": {
    "ExecuteTime": {
     "end_time": "2022-10-22T14:20:12.588761Z",
     "start_time": "2022-10-22T14:20:12.575796Z"
    },
    "hidden": true
   },
   "outputs": [],
   "source": [
    "all(apply_==wherenextzip_) # True"
   ]
  },
  {
   "cell_type": "code",
   "execution_count": null,
   "id": "e2287816",
   "metadata": {
    "ExecuteTime": {
     "end_time": "2022-10-22T12:44:14.546629Z",
     "start_time": "2022-10-22T12:44:14.537818Z"
    },
    "hidden": true
   },
   "outputs": [],
   "source": [
    "#--#"
   ]
  },
  {
   "cell_type": "code",
   "execution_count": null,
   "id": "5e2132e3",
   "metadata": {
    "hidden": true
   },
   "outputs": [],
   "source": []
  },
  {
   "cell_type": "code",
   "execution_count": null,
   "id": "f8e1b6c1",
   "metadata": {
    "ExecuteTime": {
     "end_time": "2022-10-22T12:35:51.704242Z",
     "start_time": "2022-10-22T12:35:51.697261Z"
    },
    "hidden": true
   },
   "outputs": [],
   "source": [
    "#------#"
   ]
  },
  {
   "cell_type": "code",
   "execution_count": null,
   "id": "c9fdb2e5",
   "metadata": {
    "ExecuteTime": {
     "end_time": "2022-10-20T21:37:07.597781Z",
     "start_time": "2022-10-20T21:37:07.597781Z"
    },
    "hidden": true
   },
   "outputs": [],
   "source": [
    "# trying to do both columns in one apply:\n",
    "\n",
    "# nocomp_df = df.copy()\n",
    "# nocomp_df[['WhiteIsComp', 'BlackIsComp']] = nocomp_df[['WhiteIsComp', 'BlackIsComp']].apply(lambda x: [np.int8(1) if x.loc[y]=='Yes' else np.int8(0) for y in ['WhiteIsComp', 'BlackIsComp']], axis=1)\n",
    "\n",
    "# nocomp_df[['WhiteIsComp', 'BlackIsComp']] = nocomp_df.apply(lambda x: [np.int8(1) if x[y]=='Yes' else np.int8(0) for y in ['WhiteIsComp', 'BlackIsComp']], axis=1)"
   ]
  },
  {
   "cell_type": "code",
   "execution_count": null,
   "id": "479916de",
   "metadata": {
    "ExecuteTime": {
     "end_time": "2022-10-20T21:37:07.598779Z",
     "start_time": "2022-10-20T21:37:07.598779Z"
    },
    "hidden": true
   },
   "outputs": [],
   "source": [
    "# nocomp_df = df.copy()\n",
    "# nocomp_df[['WhiteIsComp', 'BlackIsComp']] = nocomp_df[['WhiteIsComp', 'BlackIsComp']].apply(\n",
    "#     lambda x: [np.int8(1) for y in ['WhiteIsComp', 'BlackIsComp'] if x.loc[y]=='Yes' else np.int8(0)], axis=1)"
   ]
  },
  {
   "cell_type": "code",
   "execution_count": null,
   "id": "2bac00d4",
   "metadata": {
    "ExecuteTime": {
     "end_time": "2022-10-20T21:37:07.600772Z",
     "start_time": "2022-10-20T21:37:07.600772Z"
    },
    "hidden": true
   },
   "outputs": [],
   "source": [
    "# nocomp_df = df.copy()\n",
    "# nocomp_df[['WhiteIsComp', 'BlackIsComp']] = nocomp_df[['WhiteIsComp', 'BlackIsComp']].apply(\n",
    "#     lambda x: np.int8(1) if x=='Yes' else np.int8(0),\n",
    "#     axis=1)"
   ]
  },
  {
   "cell_type": "code",
   "execution_count": null,
   "id": "10114bf9",
   "metadata": {
    "ExecuteTime": {
     "end_time": "2022-10-20T21:37:07.601770Z",
     "start_time": "2022-10-20T21:37:07.601770Z"
    },
    "hidden": true
   },
   "outputs": [],
   "source": [
    "# nocomp_df = df.copy()\n",
    "# nocomp_df[['WhiteIsComp', 'BlackIsComp']] = [row_value.apply(lambda x: np.int8(1) if x=='Yes' else np.int8(0)) for ]\n",
    "\n",
    "\n",
    "\n",
    "# nocomp_df[['WhiteIsComp', 'BlackIsComp']].apply(\n",
    "#     lambda x: np.int8(1) if x=='Yes' else np.int8(0),\n",
    "#     axis=1)"
   ]
  },
  {
   "cell_type": "code",
   "execution_count": null,
   "id": "7851c733",
   "metadata": {
    "ExecuteTime": {
     "end_time": "2022-10-20T21:37:07.602767Z",
     "start_time": "2022-10-20T21:37:07.602767Z"
    },
    "hidden": true
   },
   "outputs": [],
   "source": [
    "# type(df.loc[0]) # Series\n",
    "# display(df.loc[0])"
   ]
  },
  {
   "cell_type": "code",
   "execution_count": null,
   "id": "040da802",
   "metadata": {
    "ExecuteTime": {
     "end_time": "2022-10-20T21:37:07.603764Z",
     "start_time": "2022-10-20T21:37:07.603764Z"
    },
    "hidden": true
   },
   "outputs": [],
   "source": [
    "# row = df.loc[0]\n",
    "# row.loc['ECO']"
   ]
  },
  {
   "cell_type": "code",
   "execution_count": null,
   "id": "b0c42d30",
   "metadata": {
    "ExecuteTime": {
     "end_time": "2022-10-20T21:37:07.604761Z",
     "start_time": "2022-10-20T21:37:07.604761Z"
    },
    "hidden": true
   },
   "outputs": [],
   "source": [
    "# test = row[['BlackIsComp', 'WhiteIsComp']].copy()\n",
    "# type(test) # series"
   ]
  },
  {
   "cell_type": "code",
   "execution_count": null,
   "id": "647ac9ec",
   "metadata": {
    "ExecuteTime": {
     "end_time": "2022-10-20T21:37:07.604761Z",
     "start_time": "2022-10-20T21:37:07.604761Z"
    },
    "hidden": true,
    "scrolled": true
   },
   "outputs": [],
   "source": [
    "# row[['BlackIsComp', 'WhiteIsComp']] = ['yes', 'no'] # SettingWithCopyWarning: A value is trying to be set on a copy of a slice from a DataFrame"
   ]
  },
  {
   "cell_type": "code",
   "execution_count": null,
   "id": "8a36e2f2",
   "metadata": {
    "ExecuteTime": {
     "end_time": "2022-10-20T21:37:07.605759Z",
     "start_time": "2022-10-20T21:37:07.605759Z"
    },
    "hidden": true
   },
   "outputs": [],
   "source": [
    "# row[['BlackIsComp', 'WhiteIsComp']] "
   ]
  },
  {
   "cell_type": "markdown",
   "id": "2690d495",
   "metadata": {
    "heading_collapsed": true
   },
   "source": [
    "## Editing Chess NaN Checker helper:"
   ]
  },
  {
   "cell_type": "code",
   "execution_count": null,
   "id": "79627073",
   "metadata": {
    "ExecuteTime": {
     "end_time": "2022-10-20T21:37:07.606757Z",
     "start_time": "2022-10-20T21:37:07.606757Z"
    },
    "hidden": true
   },
   "outputs": [],
   "source": [
    "# def chess_nan_checker(df, list_of_cols=['BlackIsComp', 'WhiteIsComp']): \n",
    "#     '''\n",
    "#     checks for nan values in the dataframe\n",
    "\n",
    "#     Args:\n",
    "#         df (DataFrame): Pandas dataframe\n",
    "#         list_of_cols (List): List of strings indicating what columns to ignore\n",
    "\n",
    "#     Returns:\n",
    "#         summary (String): returns a summary of nan values\n",
    "#     '''\n",
    "\n",
    "#     assert all([col in df.columns for col in list_of_cols]), f'Passed dataframe does not contain {list_of_cols}'   \n",
    "    \n",
    "#     # are there any nan values?\n",
    "#     any_nan = all(\n",
    "#         df[[x for x in df.columns if x not in list_of_cols]].notna()\n",
    "#     ) # returns True if all values are not NaN\n",
    "#     if any_nan == True:\n",
    "#         return print(f\"This dataframe has 0 NaN values in columns: {list(df[[x for x in df.columns if x not in list_of_cols]].columns)}\")\n",
    "        \n",
    "#     # how many?\n",
    "#     nan_series = df.isna().sum()\n",
    "#     nan_num = nan_series.sum()\n",
    "\n",
    "#     # which variables do they come from\n",
    "\n",
    "#     # list_of_nan_column_loc = \\\n",
    "#     #     [ [df[column], df[column].isna().sum()] for \\\n",
    "#     #         column in df.columns ]\n",
    "\n",
    "#     nan_cols = list(nan_series[nan_series > 0].index)\n",
    "\n",
    "#     # any variables with more than 50% of data missing?\n",
    "#     big_nan_cols = list(nan_series[nan_series/len(df) > 0.5])\n",
    "    \n",
    "#     #summary can be all the info about nans\n",
    "#     summary = f'This dataframe has {nan_num} NaN values'\n",
    "\n",
    "#     if len(nan_cols) > 0:\n",
    "#         summary += f'\\nThe NaN values come from: {nan_cols}'\n",
    "\n",
    "#     if len(big_nan_cols) > 0:\n",
    "#         summary += f'\\nMore than 50% of the data is missing from: {big_nan_cols}'\n",
    "\n",
    "#     return print(summary)"
   ]
  },
  {
   "cell_type": "code",
   "execution_count": null,
   "id": "6ed7fb6d",
   "metadata": {
    "ExecuteTime": {
     "end_time": "2022-10-20T21:37:07.608751Z",
     "start_time": "2022-10-20T21:37:07.608751Z"
    },
    "hidden": true
   },
   "outputs": [],
   "source": [
    "# Testing assertion error of nan_checker\n",
    "\n",
    "# test_list_of_cols = df.copy()\n",
    "# test_list_of_cols.drop(columns='BlackIsComp', inplace=True)\n",
    "\n",
    "# list_of_cols = ['BlackIsComp', 'WhiteIsComp']\n",
    "\n",
    "# assert all([col in test_list_of_cols.columns for col in list_of_cols]), f'Passed dataframe does not contain {list_of_cols}'\n",
    "\n",
    "# any_nan = all(\n",
    "#     df[[x for x in test_list_of_cols.columns if x not in list_of_cols]].notna()\n",
    "# ) # returns True if all values are not NaN\n",
    "# if any_nan == True:\n",
    "# #     return \n",
    "#     print(f\"This dataframe has 0 NaN values in columns: {list(test_list_of_cols[[x for x in df.columns if x not in list_of_cols]].columns)}\")"
   ]
  },
  {
   "cell_type": "markdown",
   "id": "05918b43",
   "metadata": {
    "heading_collapsed": true
   },
   "source": [
    "## Figuring out how to get average time per ply (average emt) for each player helper:"
   ]
  },
  {
   "cell_type": "code",
   "execution_count": null,
   "id": "5e006d41",
   "metadata": {
    "hidden": true
   },
   "outputs": [],
   "source": []
  },
  {
   "cell_type": "code",
   "execution_count": null,
   "id": "d20cef18",
   "metadata": {
    "hidden": true
   },
   "outputs": [],
   "source": []
  },
  {
   "cell_type": "code",
   "execution_count": null,
   "id": "4422ac70",
   "metadata": {
    "hidden": true
   },
   "outputs": [],
   "source": []
  },
  {
   "cell_type": "markdown",
   "id": "28209127",
   "metadata": {
    "hidden": true
   },
   "source": [
    "------"
   ]
  },
  {
   "cell_type": "markdown",
   "id": "85017a4e",
   "metadata": {},
   "source": [
    "## Checking PlyCount matches length of moves"
   ]
  },
  {
   "cell_type": "code",
   "execution_count": null,
   "id": "cc31cc4c",
   "metadata": {},
   "outputs": [],
   "source": []
  },
  {
   "cell_type": "code",
   "execution_count": null,
   "id": "8fdb8b16",
   "metadata": {
    "ExecuteTime": {
     "end_time": "2022-10-24T16:34:04.558617Z",
     "start_time": "2022-10-24T16:34:04.550645Z"
    }
   },
   "outputs": [],
   "source": [
    "# Testing:\n",
    "#--#"
   ]
  },
  {
   "cell_type": "code",
   "execution_count": null,
   "id": "4ed03291",
   "metadata": {
    "ExecuteTime": {
     "end_time": "2022-10-24T15:51:07.192806Z",
     "start_time": "2022-10-24T15:51:07.184806Z"
    }
   },
   "outputs": [],
   "source": [
    "# np.where(next(zip(...,...))) way: [from previous tinkering]\n",
    "#\n",
    "#\n",
    "# nocomp_df['NoComp'] = np.where(next(zip(nocomp_df['WhiteIsComp'], nocomp_df['BlackIsComp']))==(0, 0), \n",
    "#                                np.int8(1),\n",
    "#                                np.int8(0))\n",
    "#\n",
    "# but maybe it doesn't work here; how can I check if each part is equal to it's respective counterpart?\n",
    "# by calling the 'next(..)' twice and indexing each one?\n",
    "# ==> not possible as it only ever takes the first component of the zip\n",
    "\n",
    "# need to know what the next(zip(...,...)) returns (i.e. what does indexing only once give? is it a list?)...\n",
    "# ...done below"
   ]
  },
  {
   "cell_type": "code",
   "execution_count": null,
   "id": "401fffee",
   "metadata": {
    "ExecuteTime": {
     "end_time": "2022-10-24T16:07:21.012873Z",
     "start_time": "2022-10-24T16:07:21.004906Z"
    }
   },
   "outputs": [],
   "source": [
    "# test_ = next(zip(df_2022_2018_CvH_distinv.moves, df_2022_2018_CvH_distinv.PlyCount))\n",
    "# display(test_)\n",
    "# display(test_[0]) \n",
    "# display(type(test_[0])) # list\n",
    "# display(len(test_[0])) # 53\n",
    "# display(test_[1]) #53\n",
    "# display(type(test_[1])) # int"
   ]
  },
  {
   "cell_type": "code",
   "execution_count": null,
   "id": "579e800c",
   "metadata": {
    "ExecuteTime": {
     "end_time": "2022-10-24T16:25:54.687653Z",
     "start_time": "2022-10-24T16:25:54.680656Z"
    }
   },
   "outputs": [],
   "source": [
    "# # sanity check of is the np.where(next(zip())) doing what I think it's doing?\n",
    "\n",
    "# df_2022_2018_CvH_distinv['testing_method'] = np.where(next(zip(df_2022_2018_CvH_distinv['WhiteIsComp'],\n",
    "#                                                                df_2022_2018_CvH_distinv['BlackIsComp']))==(0, 0),\n",
    "#                                                       np.int8(1),\n",
    "#                                                       np.int8(0))\n",
    "\n",
    "# all(df_2022_2018_CvH_distinv['testing_method']==df_2022_2018_CvH_distinv['NoComp']) # True\n",
    "\n",
    "\n",
    "# df_2022_2018_HvH.head(1)\n",
    "\n",
    "# df_2022_2018_HvH['testing_method'] = np.where(next(zip(df_2022_2018_HvH['WhiteIsComp'],\n",
    "#                                                                df_2022_2018_HvH['BlackIsComp']))==(0, 0),\n",
    "#                                                       np.int8(1),\n",
    "#                                                       np.int8(0))\n",
    "\n",
    "# all(df_2022_2018_HvH['testing_method']==df_2022_2018_HvH['NoComp']) # True\n",
    "\n",
    "\n",
    "# # Seems like it...."
   ]
  },
  {
   "cell_type": "code",
   "execution_count": null,
   "id": "7cde7ef6",
   "metadata": {
    "ExecuteTime": {
     "end_time": "2022-10-24T16:25:55.869949Z",
     "start_time": "2022-10-24T16:25:55.861948Z"
    }
   },
   "outputs": [],
   "source": [
    "# display([next(zip(df_2022_2018_CvH_distinv.moves, df_2022_2018_CvH_distinv.PlyCount))[0], \n",
    "#         next(zip(df_2022_2018_CvH_distinv.moves, df_2022_2018_CvH_distinv.PlyCount))[1]])\n",
    "\n",
    "# display([len(next(zip(df_2022_2018_CvH_distinv.moves, df_2022_2018_CvH_distinv.PlyCount))[0]), \n",
    "#         next(zip(df_2022_2018_CvH_distinv.moves, df_2022_2018_CvH_distinv.PlyCount))[1]]) # [53, 53]\n",
    "\n",
    "# df_2022_2018_CvH_distinv['testing_method'] = np.where(\n",
    "#     len(next(zip(df_2022_2018_CvH_distinv.moves, df_2022_2018_CvH_distinv.PlyCount))[0])==\\\n",
    "#         next(zip(df_2022_2018_CvH_distinv.moves, df_2022_2018_CvH_distinv.PlyCount))[1],\n",
    "#     len(next(zip(df_2022_2018_CvH_distinv.moves, df_2022_2018_CvH_distinv.PlyCount))[0]),\n",
    "#     next(zip(df_2022_2018_CvH_distinv.moves, df_2022_2018_CvH_distinv.PlyCount))[1])\n",
    "# # the above ends up returning a series of all 53, which is wrong\n",
    "\n",
    "# df_2022_2018_CvH_distinv['testing_method'] = np.where(\n",
    "#     len(next(zip(df_2022_2018_CvH_distinv.moves, df_2022_2018_CvH_distinv.PlyCount))[0])==\\\n",
    "#         next(zip(df_2022_2018_CvH_distinv.moves, df_2022_2018_CvH_distinv.PlyCount))[1], True, False)\n",
    "\n",
    "# df_2022_2018_CvH_distinv['testing_method']"
   ]
  },
  {
   "cell_type": "code",
   "execution_count": null,
   "id": "43f09354",
   "metadata": {
    "ExecuteTime": {
     "end_time": "2022-10-24T16:26:43.152343Z",
     "start_time": "2022-10-24T16:26:43.137377Z"
    }
   },
   "outputs": [],
   "source": [
    "# Conclusion of above is that it is not possible to compare length of moves and PlyCount in this way (i.e. \n",
    "# by calling next(zip(...,...))) multiple times"
   ]
  },
  {
   "cell_type": "code",
   "execution_count": null,
   "id": "579a4698",
   "metadata": {
    "ExecuteTime": {
     "end_time": "2022-10-24T16:28:01.952049Z",
     "start_time": "2022-10-24T16:28:01.943980Z"
    }
   },
   "outputs": [],
   "source": [
    "#--#"
   ]
  },
  {
   "cell_type": "code",
   "execution_count": null,
   "id": "bdad6325",
   "metadata": {
    "ExecuteTime": {
     "end_time": "2022-10-24T15:51:07.192806Z",
     "start_time": "2022-10-24T15:51:07.184806Z"
    }
   },
   "outputs": [],
   "source": [
    "# list comprehension for element in zip() way: !fastest of these tested methods!\n",
    "#\n",
    "#\n",
    "# all([len(row[0])==row[1] for row in zip(...,...)])\n"
   ]
  },
  {
   "cell_type": "code",
   "execution_count": null,
   "id": "8da6d41f",
   "metadata": {
    "ExecuteTime": {
     "end_time": "2022-10-24T16:29:13.871457Z",
     "start_time": "2022-10-24T16:29:13.854619Z"
    }
   },
   "outputs": [],
   "source": [
    "# [row for row in zip(df_2022_2018_CvH_distinv.moves, df_2022_2018_CvH_distinv.PlyCount)]"
   ]
  },
  {
   "cell_type": "code",
   "execution_count": null,
   "id": "019d22ce",
   "metadata": {
    "ExecuteTime": {
     "end_time": "2022-10-24T16:36:19.285728Z",
     "start_time": "2022-10-24T16:36:19.268760Z"
    }
   },
   "outputs": [],
   "source": [
    "# df_2022_2018_CvH_distinv['testing_method'] = \\\n",
    "# [[len(row[0]), row[1]] for row in zip(df_2022_2018_CvH_distinv.moves, df_2022_2018_CvH_distinv.PlyCount)]\n",
    "\n",
    "# df_2022_2018_CvH_distinv['testing_method'].head()\n",
    "\n",
    "# # 0    [53, 53]\n",
    "# # 1    [50, 50]\n",
    "# # 2    [45, 45]\n",
    "# # 3    [42, 42]\n",
    "# # 4    [36, 36]"
   ]
  },
  {
   "cell_type": "code",
   "execution_count": null,
   "id": "328e8518",
   "metadata": {
    "ExecuteTime": {
     "end_time": "2022-10-24T16:32:20.343605Z",
     "start_time": "2022-10-24T16:32:20.259498Z"
    }
   },
   "outputs": [],
   "source": [
    "# %%timeit # 69 ms ± 580 µs per loop (mean ± std. dev. of 7 runs, 10 loops each)\n",
    "\n",
    "# all([len(row[0])==row[1] for row in zip(df_2022_2018_CvH_distinv.moves, df_2022_2018_CvH_distinv.PlyCount)]) # True"
   ]
  },
  {
   "cell_type": "code",
   "execution_count": null,
   "id": "ecedb5cb",
   "metadata": {
    "ExecuteTime": {
     "end_time": "2022-10-24T16:27:54.933653Z",
     "start_time": "2022-10-24T16:27:54.925653Z"
    }
   },
   "outputs": [],
   "source": [
    "#--#"
   ]
  },
  {
   "cell_type": "code",
   "execution_count": null,
   "id": "db5735f2",
   "metadata": {
    "ExecuteTime": {
     "end_time": "2022-10-24T16:35:32.853576Z",
     "start_time": "2022-10-24T16:35:32.841610Z"
    }
   },
   "outputs": [],
   "source": [
    "# list comprehension with:\n",
    "#\n",
    "# [len(df.iloc[index].moves)==df.iloc[index].PlyCount[0] for index in range(df.shape[0])]\n",
    "#\n",
    "# make sure that df.iloc[index] does in fact return the whole row ==> it does"
   ]
  },
  {
   "cell_type": "code",
   "execution_count": null,
   "id": "49e3adb4",
   "metadata": {
    "ExecuteTime": {
     "end_time": "2022-10-24T16:35:34.321155Z",
     "start_time": "2022-10-24T16:35:34.314135Z"
    }
   },
   "outputs": [],
   "source": [
    "# type(df_2022_2018_CvH_distinv.iloc[0].moves) # list !!!\n",
    "# len(df_2022_2018_CvH_distinv.iloc[0].moves) # 53\n",
    "# df_2022_2018_CvH_distinv.iloc[0].PlyCount # 53"
   ]
  },
  {
   "cell_type": "code",
   "execution_count": null,
   "id": "a860e528",
   "metadata": {
    "ExecuteTime": {
     "end_time": "2022-10-24T15:58:49.369705Z",
     "start_time": "2022-10-24T15:58:07.223712Z"
    }
   },
   "outputs": [],
   "source": [
    "# %%timeit # 42.2 s ± 266 ms per loop (mean ± std. dev. of 7 runs, 1 loop each)\n",
    "\n",
    "# list comp method using index:\n",
    "\n",
    "# ply_movelen_check_list = [len(df_2022_2018_CvH_distinv.iloc[index].moves)==\\\n",
    "#                           df_2022_2018_CvH_distinv.iloc[index].PlyCount for \\\n",
    "#                           index in range(df_2022_2018_CvH_distinv.shape[0])]\n",
    "\n",
    "# all([len(df_2022_2018_CvH_distinv.iloc[index].moves)==\\\n",
    "#      df_2022_2018_CvH_distinv.iloc[index].PlyCount for \\\n",
    "#      index in range(df_2022_2018_CvH_distinv.shape[0])]) # True"
   ]
  },
  {
   "cell_type": "code",
   "execution_count": null,
   "id": "5f5f5852",
   "metadata": {
    "ExecuteTime": {
     "end_time": "2022-10-24T15:51:20.931052Z",
     "start_time": "2022-10-24T15:51:20.913045Z"
    }
   },
   "outputs": [],
   "source": [
    "# all(ply_movelen_check_list) # True - all the PlyCounts do match the number of ply in moves"
   ]
  },
  {
   "cell_type": "code",
   "execution_count": null,
   "id": "1d7e44a0",
   "metadata": {
    "ExecuteTime": {
     "end_time": "2022-10-24T16:33:40.940678Z",
     "start_time": "2022-10-24T16:33:40.937678Z"
    }
   },
   "outputs": [],
   "source": [
    "#--#"
   ]
  },
  {
   "cell_type": "code",
   "execution_count": null,
   "id": "f6a6a372",
   "metadata": {},
   "outputs": [],
   "source": []
  },
  {
   "cell_type": "code",
   "execution_count": null,
   "id": "42fc652b",
   "metadata": {},
   "outputs": [],
   "source": []
  },
  {
   "cell_type": "code",
   "execution_count": null,
   "id": "f70b1c2a",
   "metadata": {},
   "outputs": [],
   "source": []
  },
  {
   "cell_type": "markdown",
   "id": "a2aa1421",
   "metadata": {},
   "source": [
    "----"
   ]
  },
  {
   "cell_type": "code",
   "execution_count": null,
   "id": "688818ca",
   "metadata": {},
   "outputs": [],
   "source": []
  }
 ],
 "metadata": {
  "kernelspec": {
   "display_name": "capstone_env",
   "language": "python",
   "name": "capstone_env"
  },
  "language_info": {
   "codemirror_mode": {
    "name": "ipython",
    "version": 3
   },
   "file_extension": ".py",
   "mimetype": "text/x-python",
   "name": "python",
   "nbconvert_exporter": "python",
   "pygments_lexer": "ipython3",
   "version": "3.9.13"
  },
  "toc": {
   "base_numbering": 1,
   "nav_menu": {},
   "number_sections": true,
   "sideBar": true,
   "skip_h1_title": false,
   "title_cell": "Table of Contents",
   "title_sidebar": "Contents",
   "toc_cell": false,
   "toc_position": {
    "height": "calc(100% - 180px)",
    "left": "10px",
    "top": "150px",
    "width": "512px"
   },
   "toc_section_display": true,
   "toc_window_display": false
  }
 },
 "nbformat": 4,
 "nbformat_minor": 5
}
