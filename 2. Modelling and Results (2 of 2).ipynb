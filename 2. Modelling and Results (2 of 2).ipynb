{
 "cells": [
  {
   "cell_type": "markdown",
   "id": "88e26e07",
   "metadata": {},
   "source": [
    "# Modelling and Results"
   ]
  },
  {
   "cell_type": "markdown",
   "id": "38410645",
   "metadata": {
    "heading_collapsed": true
   },
   "source": [
    "## Imports"
   ]
  },
  {
   "cell_type": "code",
   "execution_count": null,
   "id": "08280387",
   "metadata": {
    "ExecuteTime": {
     "end_time": "2022-11-07T08:40:05.863370Z",
     "start_time": "2022-11-07T08:40:04.224664Z"
    },
    "hidden": true
   },
   "outputs": [],
   "source": [
    "import sys\n",
    "import numpy as np\n",
    "import pandas as pd\n",
    "import matplotlib.pyplot as plt\n",
    "import chess\n",
    "import io\n",
    "import sys\n",
    "# import chess.pgn\n",
    "from io import StringIO\n",
    "\n",
    "import plotly.express as px\n",
    "import plotly.graph_objects as go\n",
    "\n",
    "import joblib\n",
    "from tempfile import mkdtemp\n",
    "import re\n",
    "\n",
    "from sklearn.preprocessing import OneHotEncoder, StandardScaler, MinMaxScaler\n",
    "from sklearn.model_selection import train_test_split, cross_val_score, GridSearchCV \n",
    "from sklearn.linear_model import LogisticRegression\n",
    "from sklearn.svm import SVC\n",
    "from sklearn.tree import DecisionTreeClassifier, plot_tree\n",
    "from sklearn.neighbors import KNeighborsClassifier\n",
    "from sklearn.decomposition import PCA\n",
    "from tempfile import mkdtemp\n",
    "from sklearn.pipeline import Pipeline\n",
    "# from sklearn.pipeline import FeatureUnion\n",
    "from sklearn.compose import ColumnTransformer, make_column_selector\n",
    "from sklearn.metrics import classification_report, plot_confusion_matrix, confusion_matrix,\\\n",
    "                            make_scorer, accuracy_score, f1_score\n",
    "from sklearn.ensemble import RandomForestClassifier\n",
    "from xgboost import XGBClassifier"
   ]
  },
  {
   "cell_type": "code",
   "execution_count": null,
   "id": "1a0eaf5a",
   "metadata": {
    "ExecuteTime": {
     "end_time": "2022-11-07T08:40:05.879325Z",
     "start_time": "2022-11-07T08:40:05.865338Z"
    },
    "hidden": true
   },
   "outputs": [],
   "source": [
    "import detecting_cheaters_in_chess_helpers as hp"
   ]
  },
  {
   "cell_type": "code",
   "execution_count": null,
   "id": "19756011",
   "metadata": {
    "ExecuteTime": {
     "end_time": "2022-11-07T08:40:05.895286Z",
     "start_time": "2022-11-07T08:40:05.880298Z"
    },
    "hidden": true
   },
   "outputs": [],
   "source": [
    "import warnings\n",
    "warnings.filterwarnings(\"ignore\")"
   ]
  },
  {
   "cell_type": "code",
   "execution_count": null,
   "id": "4d14b129",
   "metadata": {
    "ExecuteTime": {
     "end_time": "2022-11-07T08:40:05.927174Z",
     "start_time": "2022-11-07T08:40:05.897253Z"
    },
    "hidden": true
   },
   "outputs": [],
   "source": [
    "%matplotlib inline\n",
    "%config InlineBackend.figure_format = 'svg'\n",
    "# plt.style.use('seaborn')"
   ]
  },
  {
   "cell_type": "markdown",
   "id": "269745d6",
   "metadata": {
    "hidden": true
   },
   "source": [
    "----"
   ]
  },
  {
   "cell_type": "markdown",
   "id": "10afa524",
   "metadata": {},
   "source": [
    "## Introduction"
   ]
  },
  {
   "cell_type": "markdown",
   "id": "7d3e4d3b",
   "metadata": {},
   "source": [
    "For this project, the classification models selected were logistic regression, K-nearest neighbours (for the first two rounds of modelling), decision tree, random forest and XGBoost.\n",
    "\n",
    "Accuracy was selected as the overall evaluation metric, though future work should investigate prioritising the $F_{1}$ score, a harmonic mean of the precision and recall scores because a balance must be found between minimising the number of cheaters who are not detected and the number of non-cheaters who are flagged as cheaters."
   ]
  },
  {
   "cell_type": "markdown",
   "id": "7698348f",
   "metadata": {},
   "source": [
    "-----"
   ]
  },
  {
   "cell_type": "markdown",
   "id": "079806c7",
   "metadata": {
    "heading_collapsed": true
   },
   "source": [
    "## First Pass"
   ]
  },
  {
   "cell_type": "markdown",
   "id": "abb452fb",
   "metadata": {
    "heading_collapsed": true,
    "hidden": true
   },
   "source": [
    "### Loading Data"
   ]
  },
  {
   "cell_type": "code",
   "execution_count": null,
   "id": "75650da2",
   "metadata": {
    "hidden": true
   },
   "outputs": [],
   "source": []
  },
  {
   "cell_type": "code",
   "execution_count": null,
   "id": "76f896ca",
   "metadata": {
    "ExecuteTime": {
     "end_time": "2022-11-07T08:40:10.915346Z",
     "start_time": "2022-11-07T08:40:05.928171Z"
    },
    "hidden": true
   },
   "outputs": [],
   "source": [
    "big_df = joblib.load('./data/preprocessed/2022_2018_CvH.pkl')"
   ]
  },
  {
   "cell_type": "code",
   "execution_count": null,
   "id": "18915c73",
   "metadata": {
    "ExecuteTime": {
     "end_time": "2022-11-07T08:40:12.560036Z",
     "start_time": "2022-11-07T08:40:10.916344Z"
    },
    "hidden": true
   },
   "outputs": [],
   "source": [
    "X, y = hp.X_y_split_simple(big_df)\n",
    "\n",
    "y = hp.y_convert_to_ints(y)\n",
    "\n",
    "X_ = X.drop(columns=['emt', 'moves'])"
   ]
  },
  {
   "cell_type": "code",
   "execution_count": null,
   "id": "a0f0c553",
   "metadata": {
    "ExecuteTime": {
     "end_time": "2022-11-07T08:40:13.172418Z",
     "start_time": "2022-11-07T08:40:12.561034Z"
    },
    "hidden": true
   },
   "outputs": [],
   "source": [
    "X_train, X_test, y_train, y_test = train_test_split(X_, y, test_size=0.2, random_state=22,\n",
    "                                                                     stratify=y)"
   ]
  },
  {
   "cell_type": "code",
   "execution_count": null,
   "id": "a0d9eec2",
   "metadata": {
    "ExecuteTime": {
     "end_time": "2022-11-07T08:40:13.187985Z",
     "start_time": "2022-11-07T08:40:13.173392Z"
    },
    "hidden": true
   },
   "outputs": [],
   "source": [
    "y_train_, y_test_ = hp.flat_y(y_train, y_test)"
   ]
  },
  {
   "cell_type": "code",
   "execution_count": null,
   "id": "f5930c35",
   "metadata": {
    "ExecuteTime": {
     "end_time": "2022-11-07T08:40:13.203124Z",
     "start_time": "2022-11-07T08:40:13.188983Z"
    },
    "hidden": true
   },
   "outputs": [],
   "source": [
    "ohe = OneHotEncoder(sparse=False, dtype=np.int8(), handle_unknown='ignore')"
   ]
  },
  {
   "cell_type": "code",
   "execution_count": null,
   "id": "a52e0dfd",
   "metadata": {
    "ExecuteTime": {
     "end_time": "2022-11-07T08:40:13.786493Z",
     "start_time": "2022-11-07T08:40:13.206116Z"
    },
    "hidden": true
   },
   "outputs": [],
   "source": [
    "X_train_ = pd.merge(\n",
    "    left=X_train.drop(columns=['ECO']).reset_index(drop=True),\n",
    "    right=pd.DataFrame(ohe.fit_transform(X_train[['ECO']]), columns=ohe.get_feature_names_out()),\n",
    "    how='left',\n",
    "    left_index=True,\n",
    "    right_index=True)"
   ]
  },
  {
   "cell_type": "code",
   "execution_count": null,
   "id": "bdf09cb5",
   "metadata": {
    "ExecuteTime": {
     "end_time": "2022-11-07T08:40:13.865228Z",
     "start_time": "2022-11-07T08:40:13.787491Z"
    },
    "hidden": true
   },
   "outputs": [],
   "source": [
    "X_test_ = pd.merge(\n",
    "    left=X_test.drop(columns=['ECO']).reset_index(drop=True),\n",
    "    right=pd.DataFrame(ohe.transform(X_test[['ECO']]), columns=ohe.get_feature_names_out()),\n",
    "    how='left',\n",
    "    left_index=True,\n",
    "    right_index=True)"
   ]
  },
  {
   "cell_type": "code",
   "execution_count": null,
   "id": "da6b423d",
   "metadata": {
    "ExecuteTime": {
     "end_time": "2022-11-07T08:40:13.880916Z",
     "start_time": "2022-11-07T08:40:13.866201Z"
    },
    "hidden": true
   },
   "outputs": [],
   "source": [
    "stan_scal = StandardScaler()"
   ]
  },
  {
   "cell_type": "code",
   "execution_count": null,
   "id": "7fe3c512",
   "metadata": {
    "ExecuteTime": {
     "end_time": "2022-11-07T08:40:13.960705Z",
     "start_time": "2022-11-07T08:40:13.881913Z"
    },
    "hidden": true
   },
   "outputs": [],
   "source": [
    "X_train_scaled=X_train_.copy()\n",
    "\n",
    "X_train_scaled[['BlackElo', 'BlackRD',\n",
    "                'PlyCount', 'WhiteElo',\n",
    "                'WhiteRD', 'TimeControl_Base', 'TimeControl_Inc']] = stan_scal.fit_transform(X_train_[[\n",
    "    'BlackElo', 'BlackRD', 'PlyCount', 'WhiteElo', 'WhiteRD', 'TimeControl_Base', 'TimeControl_Inc']])\n",
    "\n",
    "X_test_scaled=X_test_.copy()\n",
    "\n",
    "X_test_scaled[['BlackElo', 'BlackRD',\n",
    "                'PlyCount', 'WhiteElo',\n",
    "                'WhiteRD', 'TimeControl_Base', 'TimeControl_Inc']] = stan_scal.transform(X_test_[[\n",
    "    'BlackElo', 'BlackRD', 'PlyCount', 'WhiteElo', 'WhiteRD', 'TimeControl_Base', 'TimeControl_Inc']])\n",
    "\n"
   ]
  },
  {
   "cell_type": "markdown",
   "id": "e0ac24ee",
   "metadata": {
    "hidden": true
   },
   "source": [
    "----"
   ]
  },
  {
   "cell_type": "markdown",
   "id": "3271fc98",
   "metadata": {
    "heading_collapsed": true,
    "hidden": true
   },
   "source": [
    "### Logistic Regression"
   ]
  },
  {
   "cell_type": "code",
   "execution_count": null,
   "id": "d646ca16",
   "metadata": {
    "ExecuteTime": {
     "end_time": "2022-11-07T08:40:13.975666Z",
     "start_time": "2022-11-07T08:40:13.961703Z"
    },
    "hidden": true
   },
   "outputs": [],
   "source": [
    "# logreg = hp.train_default_logreg_model(X_train_scaled, y_train_)"
   ]
  },
  {
   "cell_type": "code",
   "execution_count": null,
   "id": "278bd57c",
   "metadata": {
    "ExecuteTime": {
     "end_time": "2022-11-07T08:40:13.991651Z",
     "start_time": "2022-11-07T08:40:13.976663Z"
    },
    "hidden": true
   },
   "outputs": [],
   "source": [
    "logreg = joblib.load('data/pickled_models/first/first_logreg.pkl')"
   ]
  },
  {
   "cell_type": "code",
   "execution_count": null,
   "id": "a3a6248c",
   "metadata": {
    "ExecuteTime": {
     "end_time": "2022-11-07T08:40:14.828417Z",
     "start_time": "2022-11-07T08:40:13.992621Z"
    },
    "hidden": true
   },
   "outputs": [],
   "source": [
    "logreg_report, logreg_results, logreg_coefficients = hp.class_model_eval_logreg(\n",
    "    logreg, X_train_scaled, X_test_scaled, y_train_, y_test_)"
   ]
  },
  {
   "cell_type": "code",
   "execution_count": null,
   "id": "99a1b05f",
   "metadata": {
    "ExecuteTime": {
     "end_time": "2022-11-07T08:40:14.844375Z",
     "start_time": "2022-11-07T08:40:14.829414Z"
    },
    "hidden": true
   },
   "outputs": [],
   "source": [
    "log_reg_coefficients = pd.DataFrame(\n",
    "    data=abs(logreg.coef_), columns=logreg.feature_names_in_)\n",
    "\n",
    "log_reg_coefficients.T.rename(columns={0: 'coefficient_weights'}).sort_values(\n",
    "    by='coefficient_weights', ascending=False).head(15)"
   ]
  },
  {
   "cell_type": "code",
   "execution_count": null,
   "id": "cca6b66e",
   "metadata": {
    "hidden": true
   },
   "outputs": [],
   "source": []
  },
  {
   "cell_type": "markdown",
   "id": "5b0d83d9",
   "metadata": {
    "hidden": true
   },
   "source": [
    "-----"
   ]
  },
  {
   "cell_type": "markdown",
   "id": "ca4b08d4",
   "metadata": {
    "heading_collapsed": true,
    "hidden": true
   },
   "source": [
    "### K-Nearest Neighbour"
   ]
  },
  {
   "cell_type": "code",
   "execution_count": null,
   "id": "7a842c7e",
   "metadata": {
    "ExecuteTime": {
     "end_time": "2022-11-07T08:40:15.364032Z",
     "start_time": "2022-11-07T08:40:14.845372Z"
    },
    "hidden": true
   },
   "outputs": [],
   "source": [
    "knn = hp.train_default_knn_model(X_train_scaled, y_train_)"
   ]
  },
  {
   "cell_type": "code",
   "execution_count": null,
   "id": "d963829b",
   "metadata": {
    "ExecuteTime": {
     "end_time": "2022-11-07T08:40:15.379990Z",
     "start_time": "2022-11-07T08:40:15.365002Z"
    },
    "hidden": true
   },
   "outputs": [],
   "source": [
    "# knn = joblib.load('./data/pickled_models/first_knn.pkl')"
   ]
  },
  {
   "cell_type": "code",
   "execution_count": null,
   "id": "c64a2b23",
   "metadata": {
    "ExecuteTime": {
     "end_time": "2022-11-07T08:40:15.395948Z",
     "start_time": "2022-11-07T08:40:15.380959Z"
    },
    "hidden": true
   },
   "outputs": [],
   "source": [
    "# knn_report, knn_model_results = \\\n",
    "#     hp.class_model_eval_logreg(\n",
    "#         knn, X_train_scaled, X_test_scaled, y_train_, y_test_,\n",
    "#         has_coeffs=False)"
   ]
  },
  {
   "cell_type": "code",
   "execution_count": null,
   "id": "6438de99",
   "metadata": {
    "ExecuteTime": {
     "end_time": "2022-11-07T08:40:15.411907Z",
     "start_time": "2022-11-07T08:40:15.396917Z"
    },
    "hidden": true
   },
   "outputs": [],
   "source": [
    "knn_results = joblib.load('./data/pickled_models/first/first_knn_report-results.pkl')"
   ]
  },
  {
   "cell_type": "code",
   "execution_count": null,
   "id": "03449935",
   "metadata": {
    "ExecuteTime": {
     "end_time": "2022-11-07T08:40:15.426838Z",
     "start_time": "2022-11-07T08:40:15.412876Z"
    },
    "hidden": true
   },
   "outputs": [],
   "source": [
    "print(knn_results[0])"
   ]
  },
  {
   "cell_type": "code",
   "execution_count": null,
   "id": "e8097bea",
   "metadata": {
    "ExecuteTime": {
     "end_time": "2022-11-07T08:40:39.524813Z",
     "start_time": "2022-11-07T08:40:15.427836Z"
    },
    "hidden": true
   },
   "outputs": [],
   "source": [
    "conf_matr = plot_confusion_matrix(knn, X_test_scaled, y_test_)\n",
    "plt.show()"
   ]
  },
  {
   "cell_type": "code",
   "execution_count": null,
   "id": "baec0cd0",
   "metadata": {
    "hidden": true
   },
   "outputs": [],
   "source": []
  },
  {
   "cell_type": "markdown",
   "id": "d6f2c4d1",
   "metadata": {
    "hidden": true
   },
   "source": [
    "----"
   ]
  },
  {
   "cell_type": "markdown",
   "id": "695793d9",
   "metadata": {
    "heading_collapsed": true,
    "hidden": true
   },
   "source": [
    "### Decision Tree"
   ]
  },
  {
   "cell_type": "code",
   "execution_count": null,
   "id": "bc4d37b8",
   "metadata": {
    "ExecuteTime": {
     "end_time": "2022-11-07T08:40:41.148534Z",
     "start_time": "2022-11-07T08:40:39.525783Z"
    },
    "hidden": true
   },
   "outputs": [],
   "source": [
    "dt = hp.train_default_dt_model(X_train_, y_train_)"
   ]
  },
  {
   "cell_type": "code",
   "execution_count": null,
   "id": "4f268d2b",
   "metadata": {
    "ExecuteTime": {
     "end_time": "2022-11-07T08:40:41.164488Z",
     "start_time": "2022-11-07T08:40:41.149500Z"
    },
    "hidden": true
   },
   "outputs": [],
   "source": [
    "# dt = joblib.load('data/pickled_models/first/first_dt.pkl')"
   ]
  },
  {
   "cell_type": "code",
   "execution_count": null,
   "id": "735191a4",
   "metadata": {
    "ExecuteTime": {
     "end_time": "2022-11-07T08:40:42.079075Z",
     "start_time": "2022-11-07T08:40:41.165459Z"
    },
    "hidden": true
   },
   "outputs": [],
   "source": [
    "dt_report, dt_model_results = \\\n",
    "    hp.class_model_eval_logreg(\n",
    "        dt, X_train_, X_test_, y_train_, y_test_, has_coeffs=False)"
   ]
  },
  {
   "cell_type": "code",
   "execution_count": null,
   "id": "0367cd14",
   "metadata": {
    "hidden": true
   },
   "outputs": [],
   "source": []
  },
  {
   "cell_type": "markdown",
   "id": "caaddfd0",
   "metadata": {
    "hidden": true
   },
   "source": [
    "-----"
   ]
  },
  {
   "cell_type": "markdown",
   "id": "ca56bcb3",
   "metadata": {
    "heading_collapsed": true,
    "hidden": true
   },
   "source": [
    "### Random Forest"
   ]
  },
  {
   "cell_type": "code",
   "execution_count": null,
   "id": "a1131bd6",
   "metadata": {
    "ExecuteTime": {
     "end_time": "2022-11-07T08:41:01.984545Z",
     "start_time": "2022-11-07T08:40:42.080046Z"
    },
    "hidden": true
   },
   "outputs": [],
   "source": [
    "random_forest = hp.train_default_rf_model(X_train_, y_train_)"
   ]
  },
  {
   "cell_type": "code",
   "execution_count": null,
   "id": "47da5cd3",
   "metadata": {
    "ExecuteTime": {
     "end_time": "2022-11-07T08:41:02.000504Z",
     "start_time": "2022-11-07T08:41:01.990530Z"
    },
    "hidden": true
   },
   "outputs": [],
   "source": [
    "# random_forest = joblib.load('data/pickled_models/first/first_randfor.pkl')"
   ]
  },
  {
   "cell_type": "code",
   "execution_count": null,
   "id": "fb4d91cb",
   "metadata": {
    "ExecuteTime": {
     "end_time": "2022-11-07T08:41:04.454032Z",
     "start_time": "2022-11-07T08:41:02.001501Z"
    },
    "hidden": true
   },
   "outputs": [],
   "source": [
    "random_forest_report, random_forest_model_results = \\\n",
    "    hp.class_model_eval_logreg(\n",
    "        random_forest, X_train_, X_test_, y_train_, y_test_, has_coeffs=False)"
   ]
  },
  {
   "cell_type": "code",
   "execution_count": null,
   "id": "f8f2e220",
   "metadata": {
    "ExecuteTime": {
     "end_time": "2022-11-07T08:41:04.468992Z",
     "start_time": "2022-11-07T08:41:04.456026Z"
    },
    "code_folding": [
     0
    ],
    "hidden": true
   },
   "outputs": [],
   "source": [
    "# decision_tree_train_scores = []\n",
    "# for sub_tree in random_forest.estimators_:\n",
    "#     decision_tree_train_scores.append(sub_tree.score(X_train_, y_train))\n",
    "    \n",
    "# print(\"Performance on fitted data:\")\n",
    "# print(f\"Average Decision Tree: {np.mean(decision_tree_train_scores)}\")\n",
    "# print(f\"Random Forest: {random_forest.score(X_train_, y_train)}\")"
   ]
  },
  {
   "cell_type": "code",
   "execution_count": null,
   "id": "f326e22d",
   "metadata": {
    "ExecuteTime": {
     "end_time": "2022-11-07T08:41:04.484951Z",
     "start_time": "2022-11-07T08:41:04.469990Z"
    },
    "code_folding": [
     0
    ],
    "hidden": true
   },
   "outputs": [],
   "source": [
    "# decision_tree_test_scores = []\n",
    "# for sub_tree in random_forest.estimators_:\n",
    "#     decision_tree_test_scores.append(sub_tree.score(X_test_, y_test))\n",
    "\n",
    "# print(\"Performance on Test data:\")\n",
    "# print(f\"Average Decision Tree: {np.mean(decision_tree_test_scores)}\")\n",
    "# print(f\"Random Forest: {random_forest.score(X_test_, y_test)}\")"
   ]
  },
  {
   "cell_type": "code",
   "execution_count": null,
   "id": "1deb6aae",
   "metadata": {
    "ExecuteTime": {
     "end_time": "2022-11-07T08:41:56.423499Z",
     "start_time": "2022-11-07T08:41:04.485948Z"
    },
    "hidden": true
   },
   "outputs": [],
   "source": [
    "hp.rf_trees_and_forest_strength(random_forest, X_train_, X_test_, y_train_, y_test_);"
   ]
  },
  {
   "cell_type": "code",
   "execution_count": null,
   "id": "254530a4",
   "metadata": {
    "ExecuteTime": {
     "end_time": "2022-11-07T08:41:56.454779Z",
     "start_time": "2022-11-07T08:41:56.424497Z"
    },
    "hidden": true
   },
   "outputs": [],
   "source": [
    "hp.tree_feature_importance(random_forest, X_train_)"
   ]
  },
  {
   "cell_type": "code",
   "execution_count": null,
   "id": "1baa6303",
   "metadata": {
    "hidden": true
   },
   "outputs": [],
   "source": []
  },
  {
   "cell_type": "markdown",
   "id": "0322980d",
   "metadata": {
    "hidden": true
   },
   "source": [
    "----"
   ]
  },
  {
   "cell_type": "markdown",
   "id": "417aea1a",
   "metadata": {
    "heading_collapsed": true,
    "hidden": true
   },
   "source": [
    "### XGBoost"
   ]
  },
  {
   "cell_type": "code",
   "execution_count": null,
   "id": "c2a8dec8",
   "metadata": {
    "ExecuteTime": {
     "end_time": "2022-11-07T08:42:24.432576Z",
     "start_time": "2022-11-07T08:41:56.455777Z"
    },
    "hidden": true
   },
   "outputs": [],
   "source": [
    "XGB = hp.train_default_xgboost_model(X_train_, y_train_)"
   ]
  },
  {
   "cell_type": "code",
   "execution_count": null,
   "id": "15203243",
   "metadata": {
    "ExecuteTime": {
     "end_time": "2022-11-07T08:42:26.151992Z",
     "start_time": "2022-11-07T08:42:24.433573Z"
    },
    "hidden": true
   },
   "outputs": [],
   "source": [
    "xgb_report, xgb_model_results = hp.class_model_eval_logreg(XGB, X_train_, X_test_, y_train_, y_test_,\n",
    "                                                          has_coeffs=False)"
   ]
  },
  {
   "cell_type": "code",
   "execution_count": null,
   "id": "939bae0c",
   "metadata": {
    "hidden": true
   },
   "outputs": [],
   "source": []
  },
  {
   "cell_type": "code",
   "execution_count": null,
   "id": "6290deb3",
   "metadata": {
    "hidden": true
   },
   "outputs": [],
   "source": []
  },
  {
   "cell_type": "markdown",
   "id": "b5283f67",
   "metadata": {
    "hidden": true
   },
   "source": [
    "-----"
   ]
  },
  {
   "cell_type": "markdown",
   "id": "074b609c",
   "metadata": {
    "heading_collapsed": true
   },
   "source": [
    "## Second Pass"
   ]
  },
  {
   "cell_type": "markdown",
   "id": "2db6c13c",
   "metadata": {
    "hidden": true
   },
   "source": [
    "All of the first pass models were suspiciously accurate and the elo of each player was consistently one of the most important features. Games where humans had played against each other was joined with the dataframe to see if this had an impact on the model accuracy."
   ]
  },
  {
   "cell_type": "markdown",
   "id": "7b66e24b",
   "metadata": {
    "heading_collapsed": true,
    "hidden": true
   },
   "source": [
    "### Loading Data"
   ]
  },
  {
   "cell_type": "code",
   "execution_count": null,
   "id": "df8fc5f2",
   "metadata": {
    "ExecuteTime": {
     "end_time": "2022-11-07T08:42:26.278131Z",
     "start_time": "2022-11-07T08:42:26.152990Z"
    },
    "hidden": true
   },
   "outputs": [],
   "source": [
    "X_CvH_HvH = joblib.load('./data/preprocessed/X_CvH_HvH.pkl')\n",
    "y_CvH_HvH = joblib.load('./data/preprocessed/y_CvH_HvH.pkl')"
   ]
  },
  {
   "cell_type": "code",
   "execution_count": null,
   "id": "e930d743",
   "metadata": {
    "ExecuteTime": {
     "end_time": "2022-11-07T08:42:27.177394Z",
     "start_time": "2022-11-07T08:42:26.280127Z"
    },
    "hidden": true
   },
   "outputs": [],
   "source": [
    "X_CvH_HvH_train, X_CvH_HvH_test, y_CvH_HvH_train, y_CvH_HvH_test = train_test_split(\n",
    "    X_CvH_HvH, y_CvH_HvH, test_size=0.2, random_state=22, stratify=y_CvH_HvH)"
   ]
  },
  {
   "cell_type": "code",
   "execution_count": null,
   "id": "0c81c201",
   "metadata": {
    "ExecuteTime": {
     "end_time": "2022-11-07T08:42:27.193323Z",
     "start_time": "2022-11-07T08:42:27.178363Z"
    },
    "hidden": true
   },
   "outputs": [],
   "source": [
    "y_CvH_HvH_train_, y_CvH_HvH_test_ = hp.flat_y(y_CvH_HvH_train, y_CvH_HvH_test)"
   ]
  },
  {
   "cell_type": "code",
   "execution_count": null,
   "id": "c973ee74",
   "metadata": {
    "ExecuteTime": {
     "end_time": "2022-11-07T08:42:28.195765Z",
     "start_time": "2022-11-07T08:42:27.194321Z"
    },
    "hidden": true
   },
   "outputs": [],
   "source": [
    "X_CvH_HvH_train_, X_CvH_HvH_test_, ohe_CvH_HvH = hp.OHE_ECO(X_CvH_HvH_train, X_CvH_HvH_test)"
   ]
  },
  {
   "cell_type": "code",
   "execution_count": null,
   "id": "28a55390",
   "metadata": {
    "ExecuteTime": {
     "end_time": "2022-11-07T08:42:28.257600Z",
     "start_time": "2022-11-07T08:42:28.196733Z"
    },
    "hidden": true
   },
   "outputs": [],
   "source": [
    "X_CvH_HvH_train_scaled=X_CvH_HvH_train_.copy()\n",
    "X_CvH_HvH_test_scaled=X_CvH_HvH_test_.copy()"
   ]
  },
  {
   "cell_type": "code",
   "execution_count": null,
   "id": "d46f76b5",
   "metadata": {
    "ExecuteTime": {
     "end_time": "2022-11-07T08:42:29.348815Z",
     "start_time": "2022-11-07T08:42:28.258570Z"
    },
    "hidden": true
   },
   "outputs": [],
   "source": [
    "X_CvH_HvH_train_scaled[['BlackRD', 'WhiteRD']] = np.array([\n",
    "    [np.int8(0) if y=='na' else y for y in x] for x in X_CvH_HvH_train_scaled[['BlackRD', 'WhiteRD']].values\n",
    "    ]) # 402 ms ± 2.73 ms per loop (mean ± std. dev. of 7 runs, 1 loop each)"
   ]
  },
  {
   "cell_type": "code",
   "execution_count": null,
   "id": "0e768825",
   "metadata": {
    "ExecuteTime": {
     "end_time": "2022-11-07T08:42:29.951956Z",
     "start_time": "2022-11-07T08:42:29.349784Z"
    },
    "hidden": true
   },
   "outputs": [],
   "source": [
    "X_CvH_HvH_test_scaled[['BlackRD', 'WhiteRD']] = np.array([\n",
    "    [np.int8(0) if y=='na' else y for y in x] for x in X_CvH_HvH_test_scaled[['BlackRD', 'WhiteRD']].values\n",
    "    ]) "
   ]
  },
  {
   "cell_type": "code",
   "execution_count": null,
   "id": "5ba6bc68",
   "metadata": {
    "ExecuteTime": {
     "end_time": "2022-11-07T08:42:29.967943Z",
     "start_time": "2022-11-07T08:42:29.952953Z"
    },
    "hidden": true
   },
   "outputs": [],
   "source": [
    "stan_scal_CvH_HvH = StandardScaler()"
   ]
  },
  {
   "cell_type": "code",
   "execution_count": null,
   "id": "0cecb8db",
   "metadata": {
    "ExecuteTime": {
     "end_time": "2022-11-07T08:42:30.347052Z",
     "start_time": "2022-11-07T08:42:29.968911Z"
    },
    "hidden": true
   },
   "outputs": [],
   "source": [
    "X_CvH_HvH_train_scaled[['BlackElo', 'BlackRD',\n",
    "                'PlyCount', 'WhiteElo',\n",
    "                'WhiteRD', 'TimeControl_Base', 'TimeControl_Inc']] = stan_scal_CvH_HvH.fit_transform(\n",
    "    X_CvH_HvH_train_scaled[['BlackElo', 'BlackRD', 'PlyCount', 'WhiteElo',\n",
    "                            'WhiteRD', 'TimeControl_Base', 'TimeControl_Inc']])\n",
    "\n",
    "X_CvH_HvH_test_scaled[['BlackElo', 'BlackRD',\n",
    "                'PlyCount', 'WhiteElo',\n",
    "                'WhiteRD', 'TimeControl_Base', 'TimeControl_Inc']] = stan_scal_CvH_HvH.transform(\n",
    "    X_CvH_HvH_test_scaled[['BlackElo', 'BlackRD', 'PlyCount', 'WhiteElo',\n",
    "                           'WhiteRD', 'TimeControl_Base', 'TimeControl_Inc']])\n",
    "\n"
   ]
  },
  {
   "cell_type": "markdown",
   "id": "1fa53c0c",
   "metadata": {
    "hidden": true
   },
   "source": [
    "----"
   ]
  },
  {
   "cell_type": "markdown",
   "id": "66a7ffdd",
   "metadata": {
    "heading_collapsed": true,
    "hidden": true
   },
   "source": [
    "### Logistic Regression"
   ]
  },
  {
   "cell_type": "code",
   "execution_count": null,
   "id": "3ee84d46",
   "metadata": {
    "ExecuteTime": {
     "end_time": "2022-11-07T08:42:30.363010Z",
     "start_time": "2022-11-07T08:42:30.348049Z"
    },
    "hidden": true
   },
   "outputs": [],
   "source": [
    "# takes a while to run - not recommended\n",
    "# # logreg_CvH_HvH = hp.train_default_logreg_model(X_CvH_HvH_train_scaled, y_CvH_HvH_train_)"
   ]
  },
  {
   "cell_type": "code",
   "execution_count": null,
   "id": "36f632b2",
   "metadata": {
    "ExecuteTime": {
     "end_time": "2022-11-07T08:42:30.377970Z",
     "start_time": "2022-11-07T08:42:30.364007Z"
    },
    "hidden": true
   },
   "outputs": [],
   "source": [
    "logreg_CvH_HvH = joblib.load('data/pickled_models/first/first_logreg_CvH_HvH.pkl')"
   ]
  },
  {
   "cell_type": "code",
   "execution_count": null,
   "id": "c7d74807",
   "metadata": {
    "ExecuteTime": {
     "end_time": "2022-11-07T08:42:31.315499Z",
     "start_time": "2022-11-07T08:42:30.378967Z"
    },
    "hidden": true
   },
   "outputs": [],
   "source": [
    "logreg_CvH_HvH_report, logreg_CvH_HvH_results, logreg_CvH_HvH_coefficients = hp.class_model_eval_logreg(\n",
    "    logreg_CvH_HvH, X_CvH_HvH_train_scaled,\n",
    "    X_CvH_HvH_test_scaled, y_CvH_HvH_train_,\n",
    "    y_CvH_HvH_test_)"
   ]
  },
  {
   "cell_type": "markdown",
   "id": "a526402c",
   "metadata": {
    "hidden": true
   },
   "source": [
    "The accuracy is still suspiciously high. The distribution of elos was investigated and it became clear that the computers had a much higher elo on average than their human counterpart. For the next round of modelling, all elos were removed to see if this would have an effect on the accuracy of the models."
   ]
  },
  {
   "cell_type": "markdown",
   "id": "36e16340",
   "metadata": {
    "hidden": true
   },
   "source": [
    "----"
   ]
  },
  {
   "cell_type": "markdown",
   "id": "bd02a2c2",
   "metadata": {
    "heading_collapsed": true
   },
   "source": [
    "## Third Pass"
   ]
  },
  {
   "cell_type": "markdown",
   "id": "dd9a2b77",
   "metadata": {
    "heading_collapsed": true,
    "hidden": true
   },
   "source": [
    "### CvH"
   ]
  },
  {
   "cell_type": "markdown",
   "id": "157cf7b3",
   "metadata": {
    "heading_collapsed": true,
    "hidden": true
   },
   "source": [
    "#### Data Prep"
   ]
  },
  {
   "cell_type": "code",
   "execution_count": null,
   "id": "e20406a7",
   "metadata": {
    "ExecuteTime": {
     "end_time": "2022-11-07T08:42:36.553004Z",
     "start_time": "2022-11-07T08:42:31.316495Z"
    },
    "hidden": true
   },
   "outputs": [],
   "source": [
    "big_df = joblib.load('./data/preprocessed/2022_2018_CvH.pkl')"
   ]
  },
  {
   "cell_type": "code",
   "execution_count": null,
   "id": "cc80bd2a",
   "metadata": {
    "ExecuteTime": {
     "end_time": "2022-11-07T08:42:38.597766Z",
     "start_time": "2022-11-07T08:42:36.554002Z"
    },
    "hidden": true
   },
   "outputs": [],
   "source": [
    "X, y = hp.X_y_split_simple(big_df)\n",
    "\n",
    "y = hp.y_convert_to_ints(y)"
   ]
  },
  {
   "cell_type": "code",
   "execution_count": null,
   "id": "7ca3fd31",
   "metadata": {
    "ExecuteTime": {
     "end_time": "2022-11-07T08:42:38.628685Z",
     "start_time": "2022-11-07T08:42:38.598736Z"
    },
    "hidden": true
   },
   "outputs": [],
   "source": [
    "X_ = hp.drop_emt_moves(X)"
   ]
  },
  {
   "cell_type": "code",
   "execution_count": null,
   "id": "c18f8642",
   "metadata": {
    "ExecuteTime": {
     "end_time": "2022-11-07T08:42:39.245103Z",
     "start_time": "2022-11-07T08:42:38.629655Z"
    },
    "hidden": true
   },
   "outputs": [],
   "source": [
    "X_train, X_test, y_train, y_test = train_test_split(X_, y, test_size=0.2, random_state=22,\n",
    "                                                                     stratify=y)"
   ]
  },
  {
   "cell_type": "code",
   "execution_count": null,
   "id": "48b2445f",
   "metadata": {
    "ExecuteTime": {
     "end_time": "2022-11-07T08:42:39.261060Z",
     "start_time": "2022-11-07T08:42:39.246100Z"
    },
    "hidden": true
   },
   "outputs": [],
   "source": [
    "y_train_, y_test_ = hp.flat_y(y_train, y_test)"
   ]
  },
  {
   "cell_type": "code",
   "execution_count": null,
   "id": "df84695f",
   "metadata": {
    "ExecuteTime": {
     "end_time": "2022-11-07T08:42:39.881409Z",
     "start_time": "2022-11-07T08:42:39.262058Z"
    },
    "hidden": true
   },
   "outputs": [],
   "source": [
    "X_train_, X_test_, ohe_ = hp.OHE_ECO(X_train, X_test)"
   ]
  },
  {
   "cell_type": "code",
   "execution_count": null,
   "id": "a8aaf062",
   "metadata": {
    "ExecuteTime": {
     "end_time": "2022-11-07T08:42:39.961226Z",
     "start_time": "2022-11-07T08:42:39.882407Z"
    },
    "hidden": true
   },
   "outputs": [],
   "source": [
    "X_train_scaled, X_test_scaled, stan_scaler = hp.stan_scale(X_train_, X_test_, [\n",
    "    'BlackElo', 'BlackRD', 'PlyCount', 'WhiteElo', 'WhiteRD', 'TimeControl_Base', 'TimeControl_Inc'\n",
    "])"
   ]
  },
  {
   "cell_type": "code",
   "execution_count": null,
   "id": "f2cca9e4",
   "metadata": {
    "ExecuteTime": {
     "end_time": "2022-11-07T08:42:40.008075Z",
     "start_time": "2022-11-07T08:42:39.963193Z"
    },
    "hidden": true
   },
   "outputs": [],
   "source": [
    "X_train_scaled=X_train_scaled.drop(columns=['BlackElo', 'WhiteElo'])\n",
    "X_test_scaled=X_test_scaled.drop(columns=['BlackElo', 'WhiteElo'])"
   ]
  },
  {
   "cell_type": "code",
   "execution_count": null,
   "id": "e1d3c544",
   "metadata": {
    "ExecuteTime": {
     "end_time": "2022-11-07T08:42:40.053953Z",
     "start_time": "2022-11-07T08:42:40.009072Z"
    },
    "hidden": true
   },
   "outputs": [],
   "source": [
    "X_train_=X_train_.drop(columns=['BlackElo', 'WhiteElo'])\n",
    "X_test_=X_test_.drop(columns=['BlackElo', 'WhiteElo'])"
   ]
  },
  {
   "cell_type": "markdown",
   "id": "2e46710d",
   "metadata": {
    "hidden": true
   },
   "source": [
    "----"
   ]
  },
  {
   "cell_type": "markdown",
   "id": "f3919832",
   "metadata": {
    "heading_collapsed": true,
    "hidden": true
   },
   "source": [
    "#### Logistic Regression"
   ]
  },
  {
   "cell_type": "code",
   "execution_count": null,
   "id": "9f39c2b4",
   "metadata": {
    "ExecuteTime": {
     "end_time": "2022-11-07T08:42:40.069939Z",
     "start_time": "2022-11-07T08:42:40.054951Z"
    },
    "hidden": true
   },
   "outputs": [],
   "source": [
    "# noelo_logreg_CvH = hp.train_default_logreg_model(X_train_scaled, y_train_)"
   ]
  },
  {
   "cell_type": "code",
   "execution_count": null,
   "id": "b61754c2",
   "metadata": {
    "ExecuteTime": {
     "end_time": "2022-11-07T08:42:40.085897Z",
     "start_time": "2022-11-07T08:42:40.070909Z"
    },
    "hidden": true
   },
   "outputs": [],
   "source": [
    "noelo_logreg_CvH = joblib.load('./data/pickled_models/noelo_CvH_logreg.pkl')"
   ]
  },
  {
   "cell_type": "code",
   "execution_count": null,
   "id": "6aae9d00",
   "metadata": {
    "ExecuteTime": {
     "end_time": "2022-11-07T08:42:40.720206Z",
     "start_time": "2022-11-07T08:42:40.086867Z"
    },
    "hidden": true
   },
   "outputs": [],
   "source": [
    "noelo_logreg_report, noelo_logreg_results, noelo_logreg_coefficients = hp.class_model_eval_logreg(\n",
    "    noelo_logreg_CvH, X_train_scaled, X_test_scaled, y_train_, y_test_)"
   ]
  },
  {
   "cell_type": "code",
   "execution_count": null,
   "id": "4456154a",
   "metadata": {
    "ExecuteTime": {
     "end_time": "2022-11-07T08:42:40.736164Z",
     "start_time": "2022-11-07T08:42:40.721204Z"
    },
    "hidden": true
   },
   "outputs": [],
   "source": [
    "top_coeffs = hp.binary_logreg_ranked_coefs(noelo_logreg_CvH)"
   ]
  },
  {
   "cell_type": "markdown",
   "id": "37a18333",
   "metadata": {
    "hidden": true
   },
   "source": [
    "The accuracy has gone down, as expected. "
   ]
  },
  {
   "cell_type": "markdown",
   "id": "fd09b9c8",
   "metadata": {
    "hidden": true
   },
   "source": [
    "-----"
   ]
  },
  {
   "cell_type": "markdown",
   "id": "1309765e",
   "metadata": {
    "heading_collapsed": true,
    "hidden": true
   },
   "source": [
    "#### K-Nearest Neighbour"
   ]
  },
  {
   "cell_type": "code",
   "execution_count": null,
   "id": "fe57c47d",
   "metadata": {
    "ExecuteTime": {
     "end_time": "2022-11-07T08:42:40.752121Z",
     "start_time": "2022-11-07T08:42:40.737162Z"
    },
    "hidden": true
   },
   "outputs": [],
   "source": [
    "# noelo_knn_CvH = hp.train_default_knn_model(X_train_scaled, y_train_)"
   ]
  },
  {
   "cell_type": "code",
   "execution_count": null,
   "id": "1e08e00b",
   "metadata": {
    "ExecuteTime": {
     "end_time": "2022-11-07T08:42:42.036790Z",
     "start_time": "2022-11-07T08:42:40.753119Z"
    },
    "hidden": true
   },
   "outputs": [],
   "source": [
    "noelo_knn_CvH = joblib.load('./data/pickled_models/noelo_CvH/noelo_CvH_knn.pkl')"
   ]
  },
  {
   "cell_type": "code",
   "execution_count": null,
   "id": "75bbee9b",
   "metadata": {
    "ExecuteTime": {
     "end_time": "2022-11-07T08:42:42.052748Z",
     "start_time": "2022-11-07T08:42:42.037788Z"
    },
    "hidden": true
   },
   "outputs": [],
   "source": [
    "# noelo_knn_report, noelo_knn_results = hp.class_model_eval_logreg(noelo_knn_CvH,\n",
    "#                                                                  X_train_scaled, X_test_scaled, y_train_, y_test_,\n",
    "#                                                                  has_coeffs=False)"
   ]
  },
  {
   "cell_type": "code",
   "execution_count": null,
   "id": "c0f9b4f9",
   "metadata": {
    "ExecuteTime": {
     "end_time": "2022-11-07T08:42:42.068706Z",
     "start_time": "2022-11-07T08:42:42.053746Z"
    },
    "hidden": true
   },
   "outputs": [],
   "source": [
    "noelo_knn_report, noelo_knn_results = joblib.load('./data/pickled_models/noelo_CvH/noelo_CvH_knn_report-results.pkl')"
   ]
  },
  {
   "cell_type": "markdown",
   "id": "b17ed968",
   "metadata": {
    "ExecuteTime": {
     "end_time": "2022-11-07T04:20:18.576050Z",
     "start_time": "2022-11-07T04:20:18.537671Z"
    },
    "hidden": true
   },
   "source": [
    "![title](./data/plots/noelo_CvH_knn_conf_mat.png)"
   ]
  },
  {
   "cell_type": "code",
   "execution_count": null,
   "id": "500e7a45",
   "metadata": {
    "ExecuteTime": {
     "end_time": "2022-11-07T08:42:42.084692Z",
     "start_time": "2022-11-07T08:42:42.069704Z"
    },
    "hidden": true
   },
   "outputs": [],
   "source": [
    "print(noelo_knn_report)\n",
    "\n",
    "display(noelo_knn_results)"
   ]
  },
  {
   "cell_type": "markdown",
   "id": "0e703f92",
   "metadata": {
    "hidden": true
   },
   "source": [
    "-----"
   ]
  },
  {
   "cell_type": "markdown",
   "id": "5900f1ed",
   "metadata": {
    "heading_collapsed": true,
    "hidden": true
   },
   "source": [
    "#### Decision Tree"
   ]
  },
  {
   "cell_type": "code",
   "execution_count": null,
   "id": "cc3c7bb0",
   "metadata": {
    "ExecuteTime": {
     "end_time": "2022-11-07T08:42:42.100006Z",
     "start_time": "2022-11-07T08:42:42.086660Z"
    },
    "hidden": true
   },
   "outputs": [],
   "source": [
    "# noelo_dt_CvH = hp.train_default_dt_model(X_train_scaled, y_train_,\n",
    "#                                      path='./data/pickled_models/', name='noelo_CvH_scaled')"
   ]
  },
  {
   "cell_type": "code",
   "execution_count": null,
   "id": "60617939",
   "metadata": {
    "ExecuteTime": {
     "end_time": "2022-11-07T08:42:42.115964Z",
     "start_time": "2022-11-07T08:42:42.101003Z"
    },
    "hidden": true
   },
   "outputs": [],
   "source": [
    "# noelo_dt_CvH = hp.train_default_dt_model(X_train_, y_train_,\n",
    "#                                      path='./data/pickled_models/', name='noelo_CvH_unscaled')"
   ]
  },
  {
   "cell_type": "code",
   "execution_count": null,
   "id": "8244a838",
   "metadata": {
    "ExecuteTime": {
     "end_time": "2022-11-07T08:42:42.147880Z",
     "start_time": "2022-11-07T08:42:42.116962Z"
    },
    "hidden": true
   },
   "outputs": [],
   "source": [
    "noelo_dt_CvH = joblib.load('./data/pickled_models/noelo_CvH/noelo_CvH_scaled_dt.pkl')"
   ]
  },
  {
   "cell_type": "code",
   "execution_count": null,
   "id": "aecf931c",
   "metadata": {
    "ExecuteTime": {
     "end_time": "2022-11-07T08:42:42.179796Z",
     "start_time": "2022-11-07T08:42:42.148878Z"
    },
    "hidden": true
   },
   "outputs": [],
   "source": [
    "noelo_dt_CvH_unscaled = joblib.load('./data/pickled_models/noelo_CvH/noelo_CvH_unscaled_dt.pkl')"
   ]
  },
  {
   "cell_type": "code",
   "execution_count": null,
   "id": "55585a88",
   "metadata": {
    "ExecuteTime": {
     "end_time": "2022-11-07T08:42:43.087414Z",
     "start_time": "2022-11-07T08:42:42.180793Z"
    },
    "hidden": true
   },
   "outputs": [],
   "source": [
    "noelo_dt_report, noelo_dt_model_results = \\\n",
    "    hp.class_model_eval_logreg(\n",
    "        noelo_dt_CvH, X_train_scaled, X_test_scaled, y_train_, y_test_, has_coeffs=False)"
   ]
  },
  {
   "cell_type": "code",
   "execution_count": null,
   "id": "76f8ca9a",
   "metadata": {
    "ExecuteTime": {
     "end_time": "2022-11-07T08:42:44.024218Z",
     "start_time": "2022-11-07T08:42:43.088411Z"
    },
    "hidden": true
   },
   "outputs": [],
   "source": [
    "noelo_dt_unscaled_report, noelo_dt_unscaled_model_results = \\\n",
    "    hp.class_model_eval_logreg(\n",
    "        noelo_dt_CvH_unscaled, X_train_, X_test_, y_train_, y_test_, has_coeffs=False)"
   ]
  },
  {
   "cell_type": "code",
   "execution_count": null,
   "id": "2cd33781",
   "metadata": {
    "ExecuteTime": {
     "end_time": "2022-11-07T08:42:44.040176Z",
     "start_time": "2022-11-07T08:42:44.025187Z"
    },
    "hidden": true
   },
   "outputs": [],
   "source": [
    "feature_df_dt = hp.tree_feature_importance(noelo_dt_CvH_unscaled, X_train_)\n",
    "feature_df_dt"
   ]
  },
  {
   "cell_type": "markdown",
   "id": "dd33917c",
   "metadata": {
    "hidden": true
   },
   "source": [
    "----"
   ]
  },
  {
   "cell_type": "markdown",
   "id": "3342e9d3",
   "metadata": {
    "heading_collapsed": true,
    "hidden": true
   },
   "source": [
    "#### Random Forest"
   ]
  },
  {
   "cell_type": "code",
   "execution_count": null,
   "id": "38b44bdc",
   "metadata": {
    "ExecuteTime": {
     "end_time": "2022-11-07T08:42:44.056134Z",
     "start_time": "2022-11-07T08:42:44.041145Z"
    },
    "hidden": true
   },
   "outputs": [],
   "source": [
    "# noelo_rf_CvH_unscaled = train_default_rf_model(X_train_, y_train_,\n",
    "#                                      path='./data/pickled_models/', name='noelo_CvH_unscaled')"
   ]
  },
  {
   "cell_type": "code",
   "execution_count": null,
   "id": "5d0bf366",
   "metadata": {
    "ExecuteTime": {
     "end_time": "2022-11-07T08:42:44.072063Z",
     "start_time": "2022-11-07T08:42:44.057103Z"
    },
    "hidden": true
   },
   "outputs": [],
   "source": [
    "# noelo_rf_CvH = hp.train_default_rf_model(X_train_scaled, y_train_,\n",
    "#                                      path='./data/pickled_models/', name='noelo_CvH_scaled')"
   ]
  },
  {
   "cell_type": "code",
   "execution_count": null,
   "id": "ea53253f",
   "metadata": {
    "ExecuteTime": {
     "end_time": "2022-11-07T08:42:44.088049Z",
     "start_time": "2022-11-07T08:42:44.073061Z"
    },
    "hidden": true
   },
   "outputs": [],
   "source": [
    "# noelo_rf_CvH_unscaled = hp.train_default_rf_model(X_train_, y_train_,\n",
    "#                                      path='./data/pickled_models/', name='noelo_CvH_unscaled')"
   ]
  },
  {
   "cell_type": "code",
   "execution_count": null,
   "id": "c828c517",
   "metadata": {
    "ExecuteTime": {
     "end_time": "2022-11-07T08:42:44.104003Z",
     "start_time": "2022-11-07T08:42:44.089020Z"
    },
    "hidden": true
   },
   "outputs": [],
   "source": [
    "# noelo_rf_CvH_scaled = joblib.load('./data/pickled_models/noelo_CvH_scaled_rf.pkl')"
   ]
  },
  {
   "cell_type": "code",
   "execution_count": null,
   "id": "df6b44c4",
   "metadata": {
    "ExecuteTime": {
     "end_time": "2022-11-07T08:42:45.208728Z",
     "start_time": "2022-11-07T08:42:44.104976Z"
    },
    "hidden": true
   },
   "outputs": [],
   "source": [
    "noelo_rf_CvH_unscaled = joblib.load('./data/pickled_models/noelo_CvH/noelo_CvH_unscaled_rf.pkl')"
   ]
  },
  {
   "cell_type": "code",
   "execution_count": null,
   "id": "263d72dd",
   "metadata": {
    "ExecuteTime": {
     "end_time": "2022-11-07T08:42:58.278352Z",
     "start_time": "2022-11-07T08:42:45.209698Z"
    },
    "hidden": true
   },
   "outputs": [],
   "source": [
    "noelo_rf_report, noelo_rf_model_results = \\\n",
    "    hp.class_model_eval_logreg(\n",
    "        noelo_rf_CvH_unscaled, X_train_, X_test_, y_train_, y_test_, has_coeffs=False)"
   ]
  },
  {
   "cell_type": "code",
   "execution_count": null,
   "id": "11524d51",
   "metadata": {
    "ExecuteTime": {
     "end_time": "2022-11-07T08:44:00.401322Z",
     "start_time": "2022-11-07T08:42:58.279323Z"
    },
    "hidden": true
   },
   "outputs": [],
   "source": [
    "hp.rf_trees_and_forest_strength(noelo_rf_CvH_unscaled, X_train_, X_test_, y_train_, y_test_);"
   ]
  },
  {
   "cell_type": "code",
   "execution_count": null,
   "id": "2121a74c",
   "metadata": {
    "ExecuteTime": {
     "end_time": "2022-11-07T08:44:00.449222Z",
     "start_time": "2022-11-07T08:44:00.402319Z"
    },
    "hidden": true
   },
   "outputs": [],
   "source": [
    "test_feature_df_rf = hp.tree_feature_importance(noelo_rf_CvH_unscaled, X_train_)\n",
    "test_feature_df_rf"
   ]
  },
  {
   "cell_type": "markdown",
   "id": "dc66da73",
   "metadata": {
    "hidden": true
   },
   "source": [
    "----"
   ]
  },
  {
   "cell_type": "markdown",
   "id": "fabfb8ee",
   "metadata": {
    "heading_collapsed": true,
    "hidden": true
   },
   "source": [
    "#### XGBoost"
   ]
  },
  {
   "cell_type": "code",
   "execution_count": null,
   "id": "ab4b366e",
   "metadata": {
    "ExecuteTime": {
     "end_time": "2022-11-07T08:44:00.465184Z",
     "start_time": "2022-11-07T08:44:00.451190Z"
    },
    "hidden": true
   },
   "outputs": [],
   "source": [
    "# noelo_xgb_CvH_unscaled = hp.train_default_xgboost_model(X_train_, y_train_)"
   ]
  },
  {
   "cell_type": "code",
   "execution_count": null,
   "id": "ccb9f3bc",
   "metadata": {
    "ExecuteTime": {
     "end_time": "2022-11-07T08:44:00.496071Z",
     "start_time": "2022-11-07T08:44:00.477121Z"
    },
    "hidden": true
   },
   "outputs": [],
   "source": [
    "noelo_xgb_CvH_unscaled = joblib.load('./data/pickled_models/noelo_CvH/noelo_CvH_unscaled_xgb.pkl')"
   ]
  },
  {
   "cell_type": "code",
   "execution_count": null,
   "id": "8efae247",
   "metadata": {
    "ExecuteTime": {
     "end_time": "2022-11-07T08:44:00.511031Z",
     "start_time": "2022-11-07T08:44:00.497069Z"
    },
    "hidden": true
   },
   "outputs": [],
   "source": [
    "# xgb_report, xgb_model_results = hp.class_model_eval_logreg(XGB, X_train_, X_test_, y_train_, y_test_,\n",
    "#                                                           has_coeffs=False)"
   ]
  },
  {
   "cell_type": "code",
   "execution_count": null,
   "id": "7b93514b",
   "metadata": {
    "ExecuteTime": {
     "end_time": "2022-11-07T08:44:02.258419Z",
     "start_time": "2022-11-07T08:44:00.512029Z"
    },
    "hidden": true
   },
   "outputs": [],
   "source": [
    "noelo_xgb_report, noelo_xgb_model_results = \\\n",
    "    hp.class_model_eval_logreg(\n",
    "        noelo_xgb_CvH_unscaled, X_train_, X_test_, y_train_, y_test_, has_coeffs=False)"
   ]
  },
  {
   "cell_type": "code",
   "execution_count": null,
   "id": "8829b901",
   "metadata": {
    "ExecuteTime": {
     "end_time": "2022-11-07T08:44:02.273397Z",
     "start_time": "2022-11-07T08:44:02.259417Z"
    },
    "hidden": true
   },
   "outputs": [],
   "source": [
    "test_feature_df_xgb = hp.tree_feature_importance(noelo_xgb_CvH_unscaled, X_train_)\n",
    "test_feature_df_xgb"
   ]
  },
  {
   "cell_type": "markdown",
   "id": "a5b573fe",
   "metadata": {
    "hidden": true
   },
   "source": [
    "----"
   ]
  },
  {
   "cell_type": "markdown",
   "id": "76ca10ea",
   "metadata": {
    "heading_collapsed": true,
    "hidden": true
   },
   "source": [
    "### CvH and HvH"
   ]
  },
  {
   "cell_type": "markdown",
   "id": "42ab17c2",
   "metadata": {
    "heading_collapsed": true,
    "hidden": true
   },
   "source": [
    "#### Data Prep"
   ]
  },
  {
   "cell_type": "code",
   "execution_count": null,
   "id": "b86af2b0",
   "metadata": {
    "ExecuteTime": {
     "end_time": "2022-11-07T08:44:02.417773Z",
     "start_time": "2022-11-07T08:44:02.274395Z"
    },
    "hidden": true
   },
   "outputs": [],
   "source": [
    "X_CvH_HvH = joblib.load('./data/preprocessed/X_CvH_HvH.pkl')\n",
    "y_CvH_HvH = joblib.load('./data/preprocessed/y_CvH_HvH.pkl')"
   ]
  },
  {
   "cell_type": "code",
   "execution_count": null,
   "id": "16c802b7",
   "metadata": {
    "ExecuteTime": {
     "end_time": "2022-11-07T08:44:03.355532Z",
     "start_time": "2022-11-07T08:44:02.418743Z"
    },
    "hidden": true
   },
   "outputs": [],
   "source": [
    "X_CvH_HvH_train, X_CvH_HvH_test, y_CvH_HvH_train, y_CvH_HvH_test = train_test_split(\n",
    "    X_CvH_HvH, y_CvH_HvH, test_size=0.2, random_state=22, stratify=y_CvH_HvH)"
   ]
  },
  {
   "cell_type": "code",
   "execution_count": null,
   "id": "4d196261",
   "metadata": {
    "ExecuteTime": {
     "end_time": "2022-11-07T08:44:03.371490Z",
     "start_time": "2022-11-07T08:44:03.356529Z"
    },
    "hidden": true
   },
   "outputs": [],
   "source": [
    "y_CvH_HvH_train_, y_CvH_HvH_test_ = hp.flat_y(y_CvH_HvH_train, y_CvH_HvH_test)"
   ]
  },
  {
   "cell_type": "code",
   "execution_count": null,
   "id": "b2e9d812",
   "metadata": {
    "ExecuteTime": {
     "end_time": "2022-11-07T08:44:04.448078Z",
     "start_time": "2022-11-07T08:44:03.372488Z"
    },
    "hidden": true
   },
   "outputs": [],
   "source": [
    "X_CvH_HvH_train_, X_CvH_HvH_test_, ohe_CvH_HvH = hp.OHE_ECO(X_CvH_HvH_train, X_CvH_HvH_test)"
   ]
  },
  {
   "cell_type": "code",
   "execution_count": null,
   "id": "93b2cf50",
   "metadata": {
    "ExecuteTime": {
     "end_time": "2022-11-07T08:44:04.510912Z",
     "start_time": "2022-11-07T08:44:04.450046Z"
    },
    "hidden": true
   },
   "outputs": [],
   "source": [
    "X_CvH_HvH_train_ = hp.drop_uneeded_cols(X_CvH_HvH_train_, ['BlackElo', 'WhiteElo'])\n",
    "X_CvH_HvH_test_ = hp.drop_uneeded_cols(X_CvH_HvH_test_, ['BlackElo', 'WhiteElo'])"
   ]
  },
  {
   "cell_type": "code",
   "execution_count": null,
   "id": "d63d7dca",
   "metadata": {
    "ExecuteTime": {
     "end_time": "2022-11-07T08:44:10.611010Z",
     "start_time": "2022-11-07T08:44:04.511882Z"
    },
    "hidden": true
   },
   "outputs": [],
   "source": [
    "any([any(X_CvH_HvH_train_[col].isna()) for col in X_CvH_HvH_train_.columns]) # Should be False"
   ]
  },
  {
   "cell_type": "code",
   "execution_count": null,
   "id": "7cad0a35",
   "metadata": {
    "ExecuteTime": {
     "end_time": "2022-11-07T08:44:11.846107Z",
     "start_time": "2022-11-07T08:44:10.613007Z"
    },
    "hidden": true
   },
   "outputs": [],
   "source": [
    "X_CvH_HvH_train_[['BlackRD', 'WhiteRD']] = np.array([\n",
    "    [np.int8(0) if y=='na' else np.float16(y) for y in x] for x in X_CvH_HvH_train_[['BlackRD', 'WhiteRD']].values\n",
    "    ]) # 402 ms ± 2.73 ms per loop (mean ± std. dev. of 7 runs, 1 loop each)\n",
    "\n",
    "X_CvH_HvH_test_[['BlackRD', 'WhiteRD']] = np.array([\n",
    "    [np.int8(0) if y=='na' else np.float16(y) for y in x] for x in X_CvH_HvH_test_[['BlackRD', 'WhiteRD']].values\n",
    "    ]) "
   ]
  },
  {
   "cell_type": "code",
   "execution_count": null,
   "id": "f7d7274d",
   "metadata": {
    "ExecuteTime": {
     "end_time": "2022-11-07T08:44:11.939857Z",
     "start_time": "2022-11-07T08:44:11.847077Z"
    },
    "hidden": true
   },
   "outputs": [],
   "source": [
    "display(any([type(val)!=float for val in X_CvH_HvH_train_.BlackRD])) # False\n",
    "display(any([type(val)!=float for val in X_CvH_HvH_train_.WhiteRD])) # False"
   ]
  },
  {
   "cell_type": "code",
   "execution_count": null,
   "id": "8292d38b",
   "metadata": {
    "ExecuteTime": {
     "end_time": "2022-11-07T08:44:12.035580Z",
     "start_time": "2022-11-07T08:44:11.940829Z"
    },
    "hidden": true
   },
   "outputs": [],
   "source": [
    "X_CvH_HvH_train_scaled, X_CvH_HvH_test_scaled, stan_scal_  = hp.stan_scale(X_CvH_HvH_train_,\n",
    "                                                                           X_CvH_HvH_test_,\n",
    "                                                                          ['BlackRD', 'PlyCount', 'WhiteRD',\n",
    "                                                                          'TimeControl_Base', 'TimeControl_Inc'])"
   ]
  },
  {
   "cell_type": "markdown",
   "id": "9ca9c225",
   "metadata": {
    "hidden": true
   },
   "source": [
    "-----"
   ]
  },
  {
   "cell_type": "markdown",
   "id": "8f94b2c2",
   "metadata": {
    "heading_collapsed": true,
    "hidden": true
   },
   "source": [
    "#### Logistic Regression"
   ]
  },
  {
   "cell_type": "code",
   "execution_count": null,
   "id": "c763b8f0",
   "metadata": {
    "ExecuteTime": {
     "end_time": "2022-11-07T08:44:12.051565Z",
     "start_time": "2022-11-07T08:44:12.036577Z"
    },
    "hidden": true
   },
   "outputs": [],
   "source": [
    "# logreg_CvH_HvH_noelo = hp.train_default_logreg_model(X_CvH_HvH_train_scaled,\n",
    "#                                                     y_CvH_HvH_train_)"
   ]
  },
  {
   "cell_type": "code",
   "execution_count": null,
   "id": "81974437",
   "metadata": {
    "ExecuteTime": {
     "end_time": "2022-11-07T08:44:12.067495Z",
     "start_time": "2022-11-07T08:44:12.052536Z"
    },
    "hidden": true
   },
   "outputs": [],
   "source": [
    "logreg_CvH_HvH_noelo = joblib.load('./data/pickled_models/noelo_CvH_HvH/noelo_CvH_HvH_logreg.pkl')"
   ]
  },
  {
   "cell_type": "code",
   "execution_count": null,
   "id": "5f1efbc7",
   "metadata": {
    "ExecuteTime": {
     "end_time": "2022-11-07T08:44:14.351690Z",
     "start_time": "2022-11-07T08:44:12.068492Z"
    },
    "hidden": true
   },
   "outputs": [],
   "source": [
    "noelo_logreg_CvH_HvH_report, noelo_logreg_CvH_HvH_results, noelo_logreg_CvH_HvH_coefficients =\\\n",
    "    hp.class_model_eval_logreg(\n",
    "        logreg_CvH_HvH_noelo, X_CvH_HvH_train_scaled,\n",
    "        X_CvH_HvH_test_scaled, y_CvH_HvH_train_,\n",
    "        y_CvH_HvH_test_,\n",
    "        num_class=3)"
   ]
  },
  {
   "cell_type": "code",
   "execution_count": null,
   "id": "68261849",
   "metadata": {
    "ExecuteTime": {
     "end_time": "2022-11-07T08:44:14.366650Z",
     "start_time": "2022-11-07T08:44:14.353684Z"
    },
    "hidden": true
   },
   "outputs": [],
   "source": [
    "# noelo_logreg_CvH_HvH_results"
   ]
  },
  {
   "cell_type": "code",
   "execution_count": null,
   "id": "e7be080f",
   "metadata": {
    "ExecuteTime": {
     "end_time": "2022-11-07T08:44:14.382609Z",
     "start_time": "2022-11-07T08:44:14.367648Z"
    },
    "hidden": true
   },
   "outputs": [],
   "source": [
    "noelo_logreg_CvH_HvH_coefficients"
   ]
  },
  {
   "cell_type": "code",
   "execution_count": null,
   "id": "23c7bc22",
   "metadata": {
    "ExecuteTime": {
     "end_time": "2022-11-07T08:44:14.413526Z",
     "start_time": "2022-11-07T08:44:14.383606Z"
    },
    "hidden": true
   },
   "outputs": [],
   "source": [
    "for col in noelo_logreg_CvH_HvH_coefficients:\n",
    "    display(noelo_logreg_CvH_HvH_coefficients[[col]].sort_values(\n",
    "    by=col, ascending=False).head(15))"
   ]
  },
  {
   "cell_type": "code",
   "execution_count": null,
   "id": "71d3b1e3",
   "metadata": {
    "hidden": true
   },
   "outputs": [],
   "source": []
  },
  {
   "cell_type": "markdown",
   "id": "c3f99113",
   "metadata": {
    "hidden": true
   },
   "source": [
    "-----"
   ]
  },
  {
   "cell_type": "markdown",
   "id": "ac57bc4f",
   "metadata": {
    "heading_collapsed": true,
    "hidden": true
   },
   "source": [
    "#### K-Nearest Neighbours"
   ]
  },
  {
   "cell_type": "code",
   "execution_count": null,
   "id": "4a48b988",
   "metadata": {
    "ExecuteTime": {
     "end_time": "2022-11-07T08:44:14.429485Z",
     "start_time": "2022-11-07T08:44:14.415522Z"
    },
    "hidden": true
   },
   "outputs": [],
   "source": [
    "# noelo_CvH_HvH_knn = hp.train_default_knn_model(X_CvH_HvH_train_scaled,\n",
    "#                                                y_CvH_HvH_train_,\n",
    "#                                                path='./data/pickled_models/noelo_CvH_HvH/',\n",
    "#                                                name='noelo_CvH_HvH')"
   ]
  },
  {
   "cell_type": "code",
   "execution_count": null,
   "id": "d3afed27",
   "metadata": {
    "ExecuteTime": {
     "end_time": "2022-11-07T08:44:16.424460Z",
     "start_time": "2022-11-07T08:44:14.430482Z"
    },
    "hidden": true
   },
   "outputs": [],
   "source": [
    "noelo_CvH_HvH_knn = joblib.load('./data/pickled_models/noelo_CvH_HvH/noelo_CvH_HvH_knn.pkl')"
   ]
  },
  {
   "cell_type": "code",
   "execution_count": null,
   "id": "8059f01e",
   "metadata": {
    "ExecuteTime": {
     "end_time": "2022-11-07T08:44:16.440415Z",
     "start_time": "2022-11-07T08:44:16.425427Z"
    },
    "hidden": true
   },
   "outputs": [],
   "source": [
    "# noelo_CvH_HvH_knn_report, noelo_CvH_HvH_knn_results, conf_matr_knn = hp.class_model_eval_logreg(\n",
    "#     noelo_CvH_HvH_knn,\n",
    "#     X_CvH_HvH_train_scaled, X_CvH_HvH_test_scaled,\n",
    "#     y_CvH_HvH_train_, y_CvH_HvH_test_,\n",
    "#     has_coeffs=False,\n",
    "#     is_knn_=True,\n",
    "#     num_class=3)"
   ]
  },
  {
   "cell_type": "code",
   "execution_count": null,
   "id": "9c19c212",
   "metadata": {
    "ExecuteTime": {
     "end_time": "2022-11-07T08:44:16.455376Z",
     "start_time": "2022-11-07T08:44:16.441385Z"
    },
    "hidden": true
   },
   "outputs": [],
   "source": [
    "# joblib.dump([noelo_CvH_HvH_knn_report, noelo_CvH_HvH_knn_results],\n",
    "#             './data/pickled_models/noelo_CvH_HvH/noelo_CvH_HvH_knn_report-results.pkl',\n",
    "#             compress=9)"
   ]
  },
  {
   "cell_type": "code",
   "execution_count": null,
   "id": "e0d66718",
   "metadata": {
    "ExecuteTime": {
     "end_time": "2022-11-07T08:44:16.471334Z",
     "start_time": "2022-11-07T08:44:16.456346Z"
    },
    "hidden": true
   },
   "outputs": [],
   "source": [
    "# conf_matr_knn.figure_.savefig('./data/plots/noelo_CvH_HvH_knn_conf_mat.png',dpi=300)"
   ]
  },
  {
   "cell_type": "code",
   "execution_count": null,
   "id": "1dc4710c",
   "metadata": {
    "ExecuteTime": {
     "end_time": "2022-11-07T08:44:16.487297Z",
     "start_time": "2022-11-07T08:44:16.472304Z"
    },
    "hidden": true
   },
   "outputs": [],
   "source": [
    "noelo_CvH_HvH_knn_report, noelo_CvH_HvH_knn_results = joblib.load('./data/pickled_models/noelo_CvH_HvH/noelo_CvH_HvH_knn_report-results.pkl')"
   ]
  },
  {
   "cell_type": "markdown",
   "id": "6094708e",
   "metadata": {
    "hidden": true
   },
   "source": [
    "<img src='./data/plots/noelo_CvH_HvH_knn_conf_mat.png' alt='alt text' />"
   ]
  },
  {
   "cell_type": "code",
   "execution_count": null,
   "id": "a3ad6a97",
   "metadata": {
    "ExecuteTime": {
     "end_time": "2022-11-07T08:44:16.502224Z",
     "start_time": "2022-11-07T08:44:16.489260Z"
    },
    "hidden": true
   },
   "outputs": [],
   "source": [
    "print(noelo_CvH_HvH_knn_report)\n",
    "\n",
    "display(noelo_CvH_HvH_knn_results)"
   ]
  },
  {
   "cell_type": "code",
   "execution_count": null,
   "id": "13257f9d",
   "metadata": {
    "hidden": true
   },
   "outputs": [],
   "source": []
  },
  {
   "cell_type": "markdown",
   "id": "2102f94a",
   "metadata": {
    "hidden": true
   },
   "source": [
    "-----"
   ]
  },
  {
   "cell_type": "markdown",
   "id": "0267e931",
   "metadata": {
    "heading_collapsed": true,
    "hidden": true
   },
   "source": [
    "#### Decision Tree"
   ]
  },
  {
   "cell_type": "code",
   "execution_count": null,
   "id": "d6858283",
   "metadata": {
    "ExecuteTime": {
     "end_time": "2022-11-07T08:44:16.517242Z",
     "start_time": "2022-11-07T08:44:16.503222Z"
    },
    "hidden": true
   },
   "outputs": [],
   "source": [
    "# noelo_CvH_HvH_dt = hp.train_default_dt_model(X_CvH_HvH_train_,\n",
    "#                                              y_CvH_HvH_train_)"
   ]
  },
  {
   "cell_type": "code",
   "execution_count": null,
   "id": "49968e96",
   "metadata": {
    "ExecuteTime": {
     "end_time": "2022-11-07T08:44:16.549158Z",
     "start_time": "2022-11-07T08:44:16.518212Z"
    },
    "hidden": true
   },
   "outputs": [],
   "source": [
    "noelo_CvH_HvH_dt = joblib.load('./data/pickled_models/noelo_CvH_HvH/noelo_CvH_HvH_dt.pkl')"
   ]
  },
  {
   "cell_type": "code",
   "execution_count": null,
   "id": "929cfa6d",
   "metadata": {
    "ExecuteTime": {
     "end_time": "2022-11-07T08:44:24.101635Z",
     "start_time": "2022-11-07T08:44:16.550128Z"
    },
    "hidden": true
   },
   "outputs": [],
   "source": [
    "noelo_CvH_HvH_dt_report, noelo_CvH_HvH_dt_results = hp.class_model_eval_logreg(\n",
    "    noelo_CvH_HvH_dt,\n",
    "    X_CvH_HvH_train_, X_CvH_HvH_test_,\n",
    "    y_CvH_HvH_train_, y_CvH_HvH_test_,\n",
    "    has_coeffs=False,\n",
    "    num_class=3)"
   ]
  },
  {
   "cell_type": "code",
   "execution_count": null,
   "id": "3263b364",
   "metadata": {
    "ExecuteTime": {
     "end_time": "2022-11-07T08:44:24.133551Z",
     "start_time": "2022-11-07T08:44:24.108617Z"
    },
    "hidden": true
   },
   "outputs": [],
   "source": [
    "hp.tree_feature_importance(noelo_CvH_HvH_dt, X_CvH_HvH_train_)"
   ]
  },
  {
   "cell_type": "code",
   "execution_count": null,
   "id": "a52de7d7",
   "metadata": {
    "hidden": true
   },
   "outputs": [],
   "source": []
  },
  {
   "cell_type": "markdown",
   "id": "164e816a",
   "metadata": {
    "hidden": true
   },
   "source": [
    "----"
   ]
  },
  {
   "cell_type": "markdown",
   "id": "01b8c15a",
   "metadata": {
    "heading_collapsed": true,
    "hidden": true
   },
   "source": [
    "#### Random Forest"
   ]
  },
  {
   "cell_type": "code",
   "execution_count": null,
   "id": "3e38c3d9",
   "metadata": {
    "ExecuteTime": {
     "end_time": "2022-11-07T08:44:24.149509Z",
     "start_time": "2022-11-07T08:44:24.135547Z"
    },
    "hidden": true
   },
   "outputs": [],
   "source": [
    "# noelo_CvH_HvH_rf = hp.train_default_rf_model(X_CvH_HvH_train_,\n",
    "#                                              y_CvH_HvH_train_,\n",
    "#                                              path='./data/pickled_models/noelo_CvH_HvH/',\n",
    "#                                              name='noelo_CvH_HvH')"
   ]
  },
  {
   "cell_type": "code",
   "execution_count": null,
   "id": "11d801a1",
   "metadata": {
    "ExecuteTime": {
     "end_time": "2022-11-07T08:44:26.163027Z",
     "start_time": "2022-11-07T08:44:24.151504Z"
    },
    "hidden": true
   },
   "outputs": [],
   "source": [
    "noelo_CvH_HvH_rf = joblib.load('./data/pickled_models/noelo_CvH_HvH/noelo_CvH_HvH_rf.pkl')"
   ]
  },
  {
   "cell_type": "code",
   "execution_count": null,
   "id": "700e4981",
   "metadata": {
    "ExecuteTime": {
     "end_time": "2022-11-07T08:44:32.180431Z",
     "start_time": "2022-11-07T08:44:26.166019Z"
    },
    "hidden": true
   },
   "outputs": [],
   "source": [
    "noelo_CvH_HvH_rf_report, noelo_CvH_HvH_rf_results = hp.class_model_eval_logreg(\n",
    "    noelo_CvH_HvH_rf,\n",
    "    X_CvH_HvH_train_, X_CvH_HvH_test_,\n",
    "    y_CvH_HvH_train_, y_CvH_HvH_test_,\n",
    "    has_coeffs=False,\n",
    "    num_class=3)"
   ]
  },
  {
   "cell_type": "code",
   "execution_count": null,
   "id": "9ecd42ec",
   "metadata": {
    "ExecuteTime": {
     "end_time": "2022-11-07T08:44:32.228313Z",
     "start_time": "2022-11-07T08:44:32.182398Z"
    },
    "hidden": true
   },
   "outputs": [],
   "source": [
    "hp.tree_feature_importance(noelo_CvH_HvH_rf, X_CvH_HvH_train_)"
   ]
  },
  {
   "cell_type": "code",
   "execution_count": null,
   "id": "f9b3de41",
   "metadata": {
    "ExecuteTime": {
     "end_time": "2022-11-07T08:44:32.244235Z",
     "start_time": "2022-11-07T08:44:32.229275Z"
    },
    "hidden": true
   },
   "outputs": [],
   "source": [
    "len(noelo_CvH_HvH_rf.estimators_) # 100"
   ]
  },
  {
   "cell_type": "code",
   "execution_count": null,
   "id": "30c302dd",
   "metadata": {
    "ExecuteTime": {
     "end_time": "2022-11-07T08:45:47.276130Z",
     "start_time": "2022-11-07T08:44:32.247442Z"
    },
    "hidden": true
   },
   "outputs": [],
   "source": [
    "hp.rf_trees_and_forest_strength(noelo_CvH_HvH_rf,\n",
    "                                X_CvH_HvH_train_, X_CvH_HvH_test_,\n",
    "                                y_CvH_HvH_train_, y_CvH_HvH_test_)"
   ]
  },
  {
   "cell_type": "code",
   "execution_count": null,
   "id": "7f721c1e",
   "metadata": {
    "hidden": true
   },
   "outputs": [],
   "source": []
  },
  {
   "cell_type": "markdown",
   "id": "2e8567c8",
   "metadata": {
    "hidden": true
   },
   "source": [
    "-----"
   ]
  },
  {
   "cell_type": "markdown",
   "id": "d7dd5b04",
   "metadata": {
    "heading_collapsed": true,
    "hidden": true
   },
   "source": [
    "#### XGBoost"
   ]
  },
  {
   "cell_type": "code",
   "execution_count": null,
   "id": "ec194986",
   "metadata": {
    "ExecuteTime": {
     "end_time": "2022-11-07T08:45:47.291534Z",
     "start_time": "2022-11-07T08:45:47.277128Z"
    },
    "hidden": true
   },
   "outputs": [],
   "source": [
    "# noelo_CvH_HvH_xgb = hp.train_default_xgboost_model(X_CvH_HvH_train_,\n",
    "#                                                    y_CvH_HvH_train_)"
   ]
  },
  {
   "cell_type": "code",
   "execution_count": null,
   "id": "11bd3773",
   "metadata": {
    "ExecuteTime": {
     "end_time": "2022-11-07T08:45:47.339435Z",
     "start_time": "2022-11-07T08:45:47.293546Z"
    },
    "hidden": true
   },
   "outputs": [],
   "source": [
    "noelo_CvH_HvH_xgb = joblib.load('./data/pickled_models/noelo_CvH_HvH/noelo_CvH_HvH_xgb.pkl')"
   ]
  },
  {
   "cell_type": "code",
   "execution_count": null,
   "id": "d98a486f",
   "metadata": {
    "ExecuteTime": {
     "end_time": "2022-11-07T08:45:49.735097Z",
     "start_time": "2022-11-07T08:45:47.340433Z"
    },
    "hidden": true
   },
   "outputs": [],
   "source": [
    "noelo_CvH_HvH_xgb_report, noelo_CvH_HvH_xgb_results = hp.class_model_eval_logreg(\n",
    "    noelo_CvH_HvH_xgb,\n",
    "    X_CvH_HvH_train_, X_CvH_HvH_test_,\n",
    "    y_CvH_HvH_train_, y_CvH_HvH_test_,\n",
    "    has_coeffs=False,\n",
    "    num_class=3)"
   ]
  },
  {
   "cell_type": "code",
   "execution_count": null,
   "id": "3d797323",
   "metadata": {
    "ExecuteTime": {
     "end_time": "2022-11-07T08:45:49.750991Z",
     "start_time": "2022-11-07T08:45:49.736095Z"
    },
    "hidden": true
   },
   "outputs": [],
   "source": [
    "hp.tree_feature_importance(noelo_CvH_HvH_xgb, X_CvH_HvH_train_)"
   ]
  },
  {
   "cell_type": "code",
   "execution_count": null,
   "id": "66282c4f",
   "metadata": {
    "hidden": true
   },
   "outputs": [],
   "source": []
  },
  {
   "cell_type": "markdown",
   "id": "ad30c8a9",
   "metadata": {
    "hidden": true
   },
   "source": [
    "-------"
   ]
  },
  {
   "cell_type": "markdown",
   "id": "fb4680a1",
   "metadata": {
    "heading_collapsed": true
   },
   "source": [
    "## Modelling Using Engineered Features"
   ]
  },
  {
   "cell_type": "markdown",
   "id": "e42eadc1",
   "metadata": {
    "heading_collapsed": true,
    "hidden": true
   },
   "source": [
    "### Loading"
   ]
  },
  {
   "cell_type": "code",
   "execution_count": null,
   "id": "18a9b8be",
   "metadata": {
    "ExecuteTime": {
     "end_time": "2022-11-07T08:45:49.766949Z",
     "start_time": "2022-11-07T08:45:49.751988Z"
    },
    "code_folding": [
     0
    ],
    "hidden": true
   },
   "outputs": [],
   "source": [
    "wanted_cols = [\n",
    "    'WhiteElo', 'WhiteRD', 'BlackElo', 'BlackRD', 'white_played_perc_top_move', 'black_played_perc_top_move',\n",
    "    'av_white_emt', 'av_black_emt', 'PlyCount', 'TimeControl_Base', 'TimeControl_Inc', 'ECO', 'WhiteIsComp', \n",
    "    'BlackIsComp', 'NoComp']"
   ]
  },
  {
   "cell_type": "code",
   "execution_count": null,
   "id": "ec539adc",
   "metadata": {
    "ExecuteTime": {
     "end_time": "2022-11-07T08:45:49.798865Z",
     "start_time": "2022-11-07T08:45:49.767946Z"
    },
    "hidden": true
   },
   "outputs": [],
   "source": [
    "df_ffpm = joblib.load('data/cleaned/df_for_fourth_pass_modelling.pkl')"
   ]
  },
  {
   "cell_type": "code",
   "execution_count": null,
   "id": "75271563",
   "metadata": {
    "ExecuteTime": {
     "end_time": "2022-11-07T08:45:49.814847Z",
     "start_time": "2022-11-07T08:45:49.799862Z"
    },
    "hidden": true
   },
   "outputs": [],
   "source": [
    "df_ffpm.head()"
   ]
  },
  {
   "cell_type": "markdown",
   "id": "47d16c73",
   "metadata": {
    "hidden": true
   },
   "source": [
    "---"
   ]
  },
  {
   "cell_type": "markdown",
   "id": "f112b3b6",
   "metadata": {
    "heading_collapsed": true,
    "hidden": true
   },
   "source": [
    "### No Cross-validation"
   ]
  },
  {
   "cell_type": "markdown",
   "id": "937d3409",
   "metadata": {
    "heading_collapsed": true,
    "hidden": true
   },
   "source": [
    "#### X-y split, train-test split, flatten y, OHE, scale"
   ]
  },
  {
   "cell_type": "code",
   "execution_count": null,
   "id": "b9504eda",
   "metadata": {
    "ExecuteTime": {
     "end_time": "2022-11-07T08:45:51.361504Z",
     "start_time": "2022-11-07T08:45:49.815820Z"
    },
    "hidden": true
   },
   "outputs": [],
   "source": [
    "X, y = hp.X_y_split_simple(df_ffpm)\n",
    "y = hp.y_convert_to_ints(y)"
   ]
  },
  {
   "cell_type": "code",
   "execution_count": null,
   "id": "05ec4723",
   "metadata": {
    "ExecuteTime": {
     "end_time": "2022-11-07T08:45:51.484180Z",
     "start_time": "2022-11-07T08:45:51.362501Z"
    },
    "hidden": true
   },
   "outputs": [],
   "source": [
    "X_train, X_test, y_train, y_test = train_test_split(X, y, train_size=0.8, random_state=22, stratify=y)\n",
    "\n",
    "y_train, y_test = hp.flat_y(y_train, y_test)"
   ]
  },
  {
   "cell_type": "code",
   "execution_count": null,
   "id": "b3b21974",
   "metadata": {
    "ExecuteTime": {
     "end_time": "2022-11-07T08:45:51.499141Z",
     "start_time": "2022-11-07T08:45:51.485177Z"
    },
    "hidden": true
   },
   "outputs": [],
   "source": [
    "X_train.head()"
   ]
  },
  {
   "cell_type": "code",
   "execution_count": null,
   "id": "faa5c328",
   "metadata": {
    "ExecuteTime": {
     "end_time": "2022-11-07T08:45:51.562574Z",
     "start_time": "2022-11-07T08:45:51.501136Z"
    },
    "hidden": true
   },
   "outputs": [],
   "source": [
    "X_train, X_test, ohe_ = hp.OHE_ECO(X_train, X_test)"
   ]
  },
  {
   "cell_type": "code",
   "execution_count": null,
   "id": "c1475f8d",
   "metadata": {
    "ExecuteTime": {
     "end_time": "2022-11-07T08:45:51.578532Z",
     "start_time": "2022-11-07T08:45:51.563572Z"
    },
    "hidden": true
   },
   "outputs": [],
   "source": [
    "# X_train.shape # (22031, 440)\n",
    "# X_test.shape # (5508, 440)"
   ]
  },
  {
   "cell_type": "code",
   "execution_count": null,
   "id": "bf204706",
   "metadata": {
    "ExecuteTime": {
     "end_time": "2022-11-07T08:45:51.593493Z",
     "start_time": "2022-11-07T08:45:51.579530Z"
    },
    "code_folding": [
     0
    ],
    "hidden": true
   },
   "outputs": [],
   "source": [
    "# wanted_cols[:-4]\n",
    "\n",
    "# # ['WhiteElo',\n",
    "# #  'WhiteRD',\n",
    "# #  'BlackElo',\n",
    "# #  'BlackRD',\n",
    "# #  'white_played_perc_top_move',\n",
    "# #  'black_played_perc_top_move',\n",
    "# #  'av_white_emt',\n",
    "# #  'av_black_emt',\n",
    "# #  'PlyCount',\n",
    "# #  'TimeControl_Base',\n",
    "# #  'TimeControl_Inc']"
   ]
  },
  {
   "cell_type": "code",
   "execution_count": null,
   "id": "8a847b07",
   "metadata": {
    "ExecuteTime": {
     "end_time": "2022-11-07T08:45:51.623415Z",
     "start_time": "2022-11-07T08:45:51.594491Z"
    },
    "hidden": true
   },
   "outputs": [],
   "source": [
    "X_train_scaled, X_test_scaled, stan_scal_ = hp.stan_scale(X_train, X_test, list_of_cols=wanted_cols[:-4])"
   ]
  },
  {
   "cell_type": "code",
   "execution_count": null,
   "id": "453226e9",
   "metadata": {
    "ExecuteTime": {
     "end_time": "2022-11-07T08:45:51.653901Z",
     "start_time": "2022-11-07T08:45:51.624411Z"
    },
    "hidden": true
   },
   "outputs": [],
   "source": [
    "X_train_scaled.head()"
   ]
  },
  {
   "cell_type": "markdown",
   "id": "c25868d5",
   "metadata": {
    "hidden": true
   },
   "source": [
    "-----"
   ]
  },
  {
   "cell_type": "markdown",
   "id": "ecab6f8c",
   "metadata": {
    "heading_collapsed": true,
    "hidden": true
   },
   "source": [
    "#### Logistic Regression"
   ]
  },
  {
   "cell_type": "code",
   "execution_count": null,
   "id": "e2ec34ff",
   "metadata": {
    "ExecuteTime": {
     "end_time": "2022-11-07T08:45:51.669835Z",
     "start_time": "2022-11-07T08:45:51.654875Z"
    },
    "hidden": true
   },
   "outputs": [],
   "source": [
    "# fp_logreg = hp.train_default_logreg_model(X_train_scaled, y_train,\n",
    "#                                           path='E:/data/capstone/pickled_models/fourth_pass/',\n",
    "#                                           name='fp')"
   ]
  },
  {
   "cell_type": "code",
   "execution_count": null,
   "id": "b24b6fca",
   "metadata": {
    "ExecuteTime": {
     "end_time": "2022-11-07T08:45:51.684796Z",
     "start_time": "2022-11-07T08:45:51.670833Z"
    },
    "hidden": true
   },
   "outputs": [],
   "source": [
    "fp_logreg = joblib.load('data/pickled_models/fourth_pass/fp_logreg.pkl')"
   ]
  },
  {
   "cell_type": "code",
   "execution_count": null,
   "id": "cc8a6556",
   "metadata": {
    "ExecuteTime": {
     "end_time": "2022-11-07T08:45:51.917687Z",
     "start_time": "2022-11-07T08:45:51.685793Z"
    },
    "code_folding": [],
    "hidden": true
   },
   "outputs": [],
   "source": [
    "fp_logreg_report, fp_logreg_results, fp_logreg_coefficients =\\\n",
    "    hp.class_model_eval_logreg(\n",
    "        fp_logreg, X_train_scaled, X_test_scaled, y_train, y_test,\n",
    "        num_class=3)"
   ]
  },
  {
   "cell_type": "code",
   "execution_count": null,
   "id": "eaae6402",
   "metadata": {
    "ExecuteTime": {
     "end_time": "2022-11-07T08:45:51.932647Z",
     "start_time": "2022-11-07T08:45:51.918685Z"
    },
    "hidden": true
   },
   "outputs": [],
   "source": [
    "# fp_logreg_coefficients"
   ]
  },
  {
   "cell_type": "code",
   "execution_count": null,
   "id": "d5a60d71",
   "metadata": {
    "ExecuteTime": {
     "end_time": "2022-11-07T08:45:51.963566Z",
     "start_time": "2022-11-07T08:45:51.934642Z"
    },
    "hidden": true,
    "scrolled": true
   },
   "outputs": [],
   "source": [
    "for col in fp_logreg_coefficients:\n",
    "    display(fp_logreg_coefficients[[col]].sort_values(\n",
    "    by=col, ascending=False).head(15))"
   ]
  },
  {
   "cell_type": "code",
   "execution_count": null,
   "id": "5c623b7f",
   "metadata": {
    "hidden": true
   },
   "outputs": [],
   "source": []
  },
  {
   "cell_type": "markdown",
   "id": "bc5b701c",
   "metadata": {
    "hidden": true
   },
   "source": [
    "-----"
   ]
  },
  {
   "cell_type": "markdown",
   "id": "299de85b",
   "metadata": {
    "heading_collapsed": true,
    "hidden": true
   },
   "source": [
    "#### Decision Tree"
   ]
  },
  {
   "cell_type": "code",
   "execution_count": null,
   "id": "ac8a75c0",
   "metadata": {
    "ExecuteTime": {
     "end_time": "2022-11-07T08:45:52.090232Z",
     "start_time": "2022-11-07T08:45:51.964564Z"
    },
    "hidden": true
   },
   "outputs": [],
   "source": [
    "fp_dt = hp.train_default_dt_model(X_train, y_train)"
   ]
  },
  {
   "cell_type": "code",
   "execution_count": null,
   "id": "26341d9f",
   "metadata": {
    "ExecuteTime": {
     "end_time": "2022-11-07T08:45:52.326762Z",
     "start_time": "2022-11-07T08:45:52.091229Z"
    },
    "code_folding": [],
    "hidden": true
   },
   "outputs": [],
   "source": [
    "fp_dt_report, fp_dt_results =\\\n",
    "    hp.class_model_eval_logreg(\n",
    "        fp_dt, X_train, X_test, y_train, y_test,\n",
    "        num_class=3, has_coeffs=False)"
   ]
  },
  {
   "cell_type": "code",
   "execution_count": null,
   "id": "033f33d7",
   "metadata": {
    "ExecuteTime": {
     "end_time": "2022-11-07T08:45:52.342756Z",
     "start_time": "2022-11-07T08:45:52.328758Z"
    },
    "hidden": true
   },
   "outputs": [],
   "source": [
    "hp.tree_feature_importance(fp_dt, X_train)"
   ]
  },
  {
   "cell_type": "markdown",
   "id": "93e177bd",
   "metadata": {
    "hidden": true
   },
   "source": [
    "-----"
   ]
  },
  {
   "cell_type": "markdown",
   "id": "d43cdcd3",
   "metadata": {
    "heading_collapsed": true,
    "hidden": true
   },
   "source": [
    "###### NoElo"
   ]
  },
  {
   "cell_type": "code",
   "execution_count": null,
   "id": "7bd60b5e",
   "metadata": {
    "ExecuteTime": {
     "end_time": "2022-11-07T08:45:52.357681Z",
     "start_time": "2022-11-07T08:45:52.343768Z"
    },
    "hidden": true
   },
   "outputs": [],
   "source": [
    "X_train_noelo = X_train.drop(columns=['WhiteElo', 'BlackElo'])\n",
    "X_test_noelo = X_test.drop(columns=['WhiteElo', 'BlackElo'])"
   ]
  },
  {
   "cell_type": "code",
   "execution_count": null,
   "id": "7971aac2",
   "metadata": {
    "ExecuteTime": {
     "end_time": "2022-11-07T08:45:52.499488Z",
     "start_time": "2022-11-07T08:45:52.358679Z"
    },
    "hidden": true
   },
   "outputs": [],
   "source": [
    "fp_dt_noelo = hp.train_default_dt_model(X_train_noelo, y_train)"
   ]
  },
  {
   "cell_type": "code",
   "execution_count": null,
   "id": "b3abb333",
   "metadata": {
    "ExecuteTime": {
     "end_time": "2022-11-07T08:45:52.733870Z",
     "start_time": "2022-11-07T08:45:52.500485Z"
    },
    "code_folding": [],
    "hidden": true
   },
   "outputs": [],
   "source": [
    "fp_dt_noelo_report, fp_dt_noelo_results =\\\n",
    "    hp.class_model_eval_logreg(\n",
    "        fp_dt_noelo, X_train_noelo, X_test_noelo, y_train, y_test,\n",
    "        num_class=3, has_coeffs=False)"
   ]
  },
  {
   "cell_type": "code",
   "execution_count": null,
   "id": "3d806eed",
   "metadata": {
    "ExecuteTime": {
     "end_time": "2022-11-07T08:45:52.749828Z",
     "start_time": "2022-11-07T08:45:52.734867Z"
    },
    "hidden": true
   },
   "outputs": [],
   "source": [
    "hp.tree_feature_importance(fp_dt_noelo, X_train_noelo)"
   ]
  },
  {
   "cell_type": "markdown",
   "id": "405c7d98",
   "metadata": {
    "hidden": true
   },
   "source": [
    "-----"
   ]
  },
  {
   "cell_type": "markdown",
   "id": "889edc91",
   "metadata": {
    "heading_collapsed": true,
    "hidden": true
   },
   "source": [
    "#### Random Forest"
   ]
  },
  {
   "cell_type": "code",
   "execution_count": null,
   "id": "cf48e807",
   "metadata": {
    "ExecuteTime": {
     "end_time": "2022-11-07T08:45:54.000529Z",
     "start_time": "2022-11-07T08:45:52.750825Z"
    },
    "hidden": true
   },
   "outputs": [],
   "source": [
    "fp_rf = hp.train_default_rf_model(X_train, y_train)"
   ]
  },
  {
   "cell_type": "code",
   "execution_count": null,
   "id": "0fc701c3",
   "metadata": {
    "ExecuteTime": {
     "end_time": "2022-11-07T08:45:55.242270Z",
     "start_time": "2022-11-07T08:45:54.002524Z"
    },
    "hidden": true
   },
   "outputs": [],
   "source": [
    "fp_rf_report, fp_rf_results =\\\n",
    "    hp.class_model_eval_logreg(\n",
    "        fp_rf, X_train, X_test, y_train, y_test,\n",
    "        num_class=3, has_coeffs=False)"
   ]
  },
  {
   "cell_type": "code",
   "execution_count": null,
   "id": "a44ea1aa",
   "metadata": {
    "ExecuteTime": {
     "end_time": "2022-11-07T08:46:01.626723Z",
     "start_time": "2022-11-07T08:45:55.243269Z"
    },
    "hidden": true
   },
   "outputs": [],
   "source": [
    "hp.rf_trees_and_forest_strength(fp_rf, X_train, X_test, y_train, y_test);"
   ]
  },
  {
   "cell_type": "code",
   "execution_count": null,
   "id": "1e054b7d",
   "metadata": {
    "ExecuteTime": {
     "end_time": "2022-11-07T08:46:01.658517Z",
     "start_time": "2022-11-07T08:46:01.627723Z"
    },
    "hidden": true
   },
   "outputs": [],
   "source": [
    "hp.tree_feature_importance(fp_rf, X_train)"
   ]
  },
  {
   "cell_type": "code",
   "execution_count": null,
   "id": "c3c44c53",
   "metadata": {
    "ExecuteTime": {
     "end_time": "2022-11-07T08:46:01.674640Z",
     "start_time": "2022-11-07T08:46:01.659487Z"
    },
    "hidden": true
   },
   "outputs": [],
   "source": [
    "len(fp_rf.estimators_) # 100"
   ]
  },
  {
   "cell_type": "code",
   "execution_count": null,
   "id": "1d16e7fa",
   "metadata": {
    "ExecuteTime": {
     "end_time": "2022-11-07T08:46:01.690406Z",
     "start_time": "2022-11-07T08:46:01.675640Z"
    },
    "code_folding": [
     0
    ],
    "hidden": true
   },
   "outputs": [],
   "source": [
    "# decision_tree_train_scores = []\n",
    "# for sub_tree in fp_rf.estimators_:\n",
    "#     decision_tree_train_scores.append(fp_rf.score(X_train_, y_train))\n",
    "    \n",
    "# print(\"Performance on fitted data:\")\n",
    "# print(f\"Average Decision Tree: {np.mean(decision_tree_train_scores)}\")\n",
    "# print(f\"Random Forest: {fp_rf.score(X_train_, y_train)}\")"
   ]
  },
  {
   "cell_type": "code",
   "execution_count": null,
   "id": "4c407bbb",
   "metadata": {
    "ExecuteTime": {
     "end_time": "2022-11-07T08:46:01.706125Z",
     "start_time": "2022-11-07T08:46:01.691406Z"
    },
    "code_folding": [
     0
    ],
    "hidden": true
   },
   "outputs": [],
   "source": [
    "# decision_tree_test_scores = []\n",
    "# for sub_tree in random_forest.estimators_:\n",
    "#     decision_tree_test_scores.append(sub_tree.score(X_test_, y_test))\n",
    "\n",
    "# print(\"Performance on Test data:\")\n",
    "# print(f\"Average Decision Tree: {np.mean(decision_tree_test_scores)}\")\n",
    "# print(f\"Random Forest: {random_forest.score(X_test_, y_test)}\")"
   ]
  },
  {
   "cell_type": "markdown",
   "id": "5b0b4fc6",
   "metadata": {
    "hidden": true
   },
   "source": [
    "-----"
   ]
  },
  {
   "cell_type": "markdown",
   "id": "24c1bcea",
   "metadata": {
    "heading_collapsed": true,
    "hidden": true
   },
   "source": [
    "###### NoElo"
   ]
  },
  {
   "cell_type": "code",
   "execution_count": null,
   "id": "eeaf1498",
   "metadata": {
    "ExecuteTime": {
     "end_time": "2022-11-07T08:46:01.722111Z",
     "start_time": "2022-11-07T08:46:01.707123Z"
    },
    "hidden": true
   },
   "outputs": [],
   "source": [
    "X_train_noelo = X_train.drop(columns=['WhiteElo', 'BlackElo'])\n",
    "X_test_noelo = X_test.drop(columns=['WhiteElo', 'BlackElo'])"
   ]
  },
  {
   "cell_type": "code",
   "execution_count": null,
   "id": "ab5736bd",
   "metadata": {
    "ExecuteTime": {
     "end_time": "2022-11-07T08:46:02.970191Z",
     "start_time": "2022-11-07T08:46:01.723081Z"
    },
    "hidden": true
   },
   "outputs": [],
   "source": [
    "fp_rf_noelo = hp.train_default_rf_model(X_train_noelo, y_train)"
   ]
  },
  {
   "cell_type": "code",
   "execution_count": null,
   "id": "34807797",
   "metadata": {
    "ExecuteTime": {
     "end_time": "2022-11-07T08:46:03.365364Z",
     "start_time": "2022-11-07T08:46:02.971189Z"
    },
    "code_folding": [],
    "hidden": true
   },
   "outputs": [],
   "source": [
    "fp_rf_noelo_report, fp_rf_noelo_results =\\\n",
    "    hp.class_model_eval_logreg(\n",
    "        fp_rf_noelo, X_train_noelo, X_test_noelo, y_train, y_test,\n",
    "        num_class=3, has_coeffs=False)"
   ]
  },
  {
   "cell_type": "code",
   "execution_count": null,
   "id": "fc883816",
   "metadata": {
    "ExecuteTime": {
     "end_time": "2022-11-07T08:46:09.717334Z",
     "start_time": "2022-11-07T08:46:03.366364Z"
    },
    "hidden": true
   },
   "outputs": [],
   "source": [
    "hp.rf_trees_and_forest_strength(fp_rf_noelo, X_train_noelo, X_test_noelo, y_train, y_test);"
   ]
  },
  {
   "cell_type": "code",
   "execution_count": null,
   "id": "11416e17",
   "metadata": {
    "ExecuteTime": {
     "end_time": "2022-11-07T08:46:09.749312Z",
     "start_time": "2022-11-07T08:46:09.718332Z"
    },
    "hidden": true
   },
   "outputs": [],
   "source": [
    "hp.tree_feature_importance(fp_rf_noelo, X_train_noelo)"
   ]
  },
  {
   "cell_type": "markdown",
   "id": "f198261c",
   "metadata": {
    "hidden": true
   },
   "source": [
    "-----"
   ]
  },
  {
   "cell_type": "code",
   "execution_count": null,
   "id": "dfe87cfc",
   "metadata": {
    "hidden": true
   },
   "outputs": [],
   "source": []
  },
  {
   "cell_type": "code",
   "execution_count": null,
   "id": "0358a495",
   "metadata": {
    "hidden": true
   },
   "outputs": [],
   "source": []
  },
  {
   "cell_type": "markdown",
   "id": "48f30a98",
   "metadata": {
    "hidden": true
   },
   "source": [
    "-----"
   ]
  },
  {
   "cell_type": "markdown",
   "id": "c2ac785c",
   "metadata": {
    "heading_collapsed": true,
    "hidden": true
   },
   "source": [
    "#### XGBoost"
   ]
  },
  {
   "cell_type": "code",
   "execution_count": null,
   "id": "c1f0d2e4",
   "metadata": {
    "ExecuteTime": {
     "end_time": "2022-11-07T08:46:18.363462Z",
     "start_time": "2022-11-07T08:46:09.750310Z"
    },
    "hidden": true
   },
   "outputs": [],
   "source": [
    "fp_xgb = hp.train_default_xgboost_model(X_train, y_train)"
   ]
  },
  {
   "cell_type": "code",
   "execution_count": null,
   "id": "6932b2fb",
   "metadata": {
    "ExecuteTime": {
     "end_time": "2022-11-07T08:46:18.712047Z",
     "start_time": "2022-11-07T08:46:18.364459Z"
    },
    "hidden": true
   },
   "outputs": [],
   "source": [
    "fp_xgb_report, fp_xgb_results =\\\n",
    "    hp.class_model_eval_logreg(\n",
    "        fp_xgb, X_train, X_test, y_train, y_test,\n",
    "        num_class=3, has_coeffs=False)"
   ]
  },
  {
   "cell_type": "code",
   "execution_count": null,
   "id": "2946d6e4",
   "metadata": {
    "ExecuteTime": {
     "end_time": "2022-11-07T08:46:18.728005Z",
     "start_time": "2022-11-07T08:46:18.713045Z"
    },
    "hidden": true
   },
   "outputs": [],
   "source": [
    "hp.tree_feature_importance(fp_xgb, X_train)"
   ]
  },
  {
   "cell_type": "code",
   "execution_count": null,
   "id": "d4e4e419",
   "metadata": {
    "hidden": true
   },
   "outputs": [],
   "source": []
  },
  {
   "cell_type": "markdown",
   "id": "bbb2ae4b",
   "metadata": {
    "hidden": true
   },
   "source": [
    "----"
   ]
  },
  {
   "cell_type": "markdown",
   "id": "3ad29bce",
   "metadata": {
    "heading_collapsed": true,
    "hidden": true
   },
   "source": [
    "### With GridSearch"
   ]
  },
  {
   "cell_type": "code",
   "execution_count": null,
   "id": "f1dcf08d",
   "metadata": {
    "ExecuteTime": {
     "end_time": "2022-11-07T08:46:18.759921Z",
     "start_time": "2022-11-07T08:46:18.730001Z"
    },
    "hidden": true
   },
   "outputs": [],
   "source": [
    "df_ffpm = joblib.load('data/cleaned/df_for_fourth_pass_modelling.pkl')"
   ]
  },
  {
   "cell_type": "code",
   "execution_count": null,
   "id": "b31a9003",
   "metadata": {
    "ExecuteTime": {
     "end_time": "2022-11-07T08:46:18.775879Z",
     "start_time": "2022-11-07T08:46:18.760918Z"
    },
    "hidden": true
   },
   "outputs": [],
   "source": [
    "df_ffpm.head()"
   ]
  },
  {
   "cell_type": "markdown",
   "id": "80096d96",
   "metadata": {
    "hidden": true
   },
   "source": [
    "-----"
   ]
  },
  {
   "cell_type": "markdown",
   "id": "cb5b3f5e",
   "metadata": {
    "heading_collapsed": true,
    "hidden": true
   },
   "source": [
    "#### X-y split, train-validation-test split, flatten y"
   ]
  },
  {
   "cell_type": "code",
   "execution_count": null,
   "id": "fb3a1fce",
   "metadata": {
    "ExecuteTime": {
     "end_time": "2022-11-07T08:46:19.013945Z",
     "start_time": "2022-11-07T08:46:18.776877Z"
    },
    "hidden": true
   },
   "outputs": [],
   "source": [
    "X, y = hp.X_y_split_simple(df_ffpm)\n",
    "y = hp.y_convert_to_ints(y)"
   ]
  },
  {
   "cell_type": "code",
   "execution_count": null,
   "id": "2bd301a3",
   "metadata": {
    "ExecuteTime": {
     "end_time": "2022-11-07T08:46:19.108242Z",
     "start_time": "2022-11-07T08:46:19.014916Z"
    },
    "hidden": true
   },
   "outputs": [],
   "source": [
    "X_remainder, X_test, y_remainder, y_test = train_test_split(X, y, test_size=0.2,\n",
    "                                                            random_state=22, stratify=y)"
   ]
  },
  {
   "cell_type": "code",
   "execution_count": null,
   "id": "30ab3cec",
   "metadata": {
    "ExecuteTime": {
     "end_time": "2022-11-07T08:46:19.124329Z",
     "start_time": "2022-11-07T08:46:19.109241Z"
    },
    "hidden": true
   },
   "outputs": [],
   "source": [
    "y_remainder, y_test = hp.flat_y(y_remainder, y_test)"
   ]
  },
  {
   "cell_type": "code",
   "execution_count": null,
   "id": "4511e7b4",
   "metadata": {
    "ExecuteTime": {
     "end_time": "2022-11-07T08:46:19.140359Z",
     "start_time": "2022-11-07T08:46:19.125316Z"
    },
    "hidden": true
   },
   "outputs": [],
   "source": [
    "# Print info on how the data has been split\n",
    "print(f'The remainder set has {len(X_remainder)} data points.')\n",
    "print(f'The test set has {len(X_test)} data points.')\n",
    "\n",
    "# Print info on how the data has been split\n",
    "print(f'The remainder set has {len(y_remainder)} data points.')\n",
    "print(f'The test set has {len(y_test)} data points.')"
   ]
  },
  {
   "cell_type": "markdown",
   "id": "2583f4f7",
   "metadata": {
    "hidden": true
   },
   "source": [
    "----"
   ]
  },
  {
   "cell_type": "markdown",
   "id": "324c68a4",
   "metadata": {
    "heading_collapsed": true,
    "hidden": true
   },
   "source": [
    "#### Preparing pipeline"
   ]
  },
  {
   "cell_type": "code",
   "execution_count": null,
   "id": "c102d9ac",
   "metadata": {
    "ExecuteTime": {
     "end_time": "2022-11-07T08:46:19.155497Z",
     "start_time": "2022-11-07T08:46:19.141356Z"
    },
    "hidden": true
   },
   "outputs": [],
   "source": [
    "# column transformer with scaling\n",
    "ct_scale = ColumnTransformer([\n",
    "    ('normalize', StandardScaler(),\n",
    "     ['WhiteElo', 'WhiteRD', 'BlackElo', 'BlackRD', 'white_played_perc_top_move',\n",
    "                                     'black_played_perc_top_move', 'av_white_emt', 'av_black_emt', 'PlyCount',\n",
    "                                     'TimeControl_Base', 'TimeControl_Inc']),\n",
    "    ('OHE', OneHotEncoder(sparse=False, handle_unknown='ignore'), ['ECO'])], n_jobs=-1\n",
    "    )"
   ]
  },
  {
   "cell_type": "code",
   "execution_count": null,
   "id": "6130401f",
   "metadata": {
    "ExecuteTime": {
     "end_time": "2022-11-07T08:46:19.171446Z",
     "start_time": "2022-11-07T08:46:19.164443Z"
    },
    "hidden": true
   },
   "outputs": [],
   "source": [
    "# column transformer without scaling\n",
    "ct_unscale = ColumnTransformer([\n",
    "    ('OHE', OneHotEncoder(sparse=False, handle_unknown='ignore'), ['ECO'])],\n",
    "    n_jobs=-1,\n",
    "    remainder='passthrough') # passthrough means that the other columns will be carried through"
   ]
  },
  {
   "cell_type": "code",
   "execution_count": null,
   "id": "113ee079",
   "metadata": {
    "ExecuteTime": {
     "end_time": "2022-11-07T08:46:19.187026Z",
     "start_time": "2022-11-07T08:46:19.172415Z"
    },
    "code_folding": [
     0
    ],
    "hidden": true
   },
   "outputs": [],
   "source": [
    "# # testing\n",
    "# ct_unscale.fit(X_remainder)\n",
    "# ct_unscale.get_feature_names()[-12:]\n",
    "\n",
    "# # ['OHE__x0_E99',\n",
    "# #  'WhiteElo',\n",
    "# #  'WhiteRD',\n",
    "# #  'BlackElo',\n",
    "# #  'BlackRD',\n",
    "# #  'white_played_perc_top_move',\n",
    "# #  'black_played_perc_top_move',\n",
    "# #  'av_white_emt',\n",
    "# #  'av_black_emt',\n",
    "# #  'PlyCount',\n",
    "# #  'TimeControl_Base',\n",
    "# #  'TimeControl_Inc']"
   ]
  },
  {
   "cell_type": "code",
   "execution_count": null,
   "id": "83712dc6",
   "metadata": {
    "ExecuteTime": {
     "end_time": "2022-11-07T08:46:19.202295Z",
     "start_time": "2022-11-07T08:46:19.188050Z"
    },
    "code_folding": [
     0
    ],
    "hidden": true
   },
   "outputs": [],
   "source": [
    "# # testing\n",
    "# ct_scale.fit(X_remainder)\n",
    "# ct_scale.get_feature_names_out()\n",
    "\n",
    "# # ['normalize__WhiteElo', 'normalize__WhiteRD', 'normalize__BlackElo',\n",
    "# #        'normalize__BlackRD', 'normalize__white_played_perc_top_move',\n",
    "# #        'normalize__black_played_perc_top_move', 'normalize__av_white_emt',\n",
    "# #        'normalize__av_black_emt', 'normalize__PlyCount',\n",
    "# #        'normalize__TimeControl_Base', 'normalize__TimeControl_Inc',\n",
    "# #        'OHE__ECO_A00', 'OHE__ECO_A01', 'OHE__ECO_A02', 'OHE__ECO_A03',"
   ]
  },
  {
   "cell_type": "code",
   "execution_count": null,
   "id": "4823ec88",
   "metadata": {
    "ExecuteTime": {
     "end_time": "2022-11-07T08:46:19.218452Z",
     "start_time": "2022-11-07T08:46:19.203187Z"
    },
    "hidden": true
   },
   "outputs": [],
   "source": [
    "cachedir_scale = mkdtemp()\n",
    "cachedir_unscale = mkdtemp()"
   ]
  },
  {
   "cell_type": "code",
   "execution_count": null,
   "id": "4ef89307",
   "metadata": {
    "ExecuteTime": {
     "end_time": "2022-11-07T08:46:19.234291Z",
     "start_time": "2022-11-07T08:46:19.220342Z"
    },
    "hidden": true
   },
   "outputs": [],
   "source": [
    "my_pipeline_scale = Pipeline(steps=[\n",
    "    ('column_transform', ct_scale),\n",
    "    ('model', LogisticRegression())],\n",
    "    memory=cachedir_scale, verbose=True)"
   ]
  },
  {
   "cell_type": "code",
   "execution_count": null,
   "id": "a52d5d40",
   "metadata": {
    "ExecuteTime": {
     "end_time": "2022-11-07T08:46:19.250202Z",
     "start_time": "2022-11-07T08:46:19.235663Z"
    },
    "hidden": true
   },
   "outputs": [],
   "source": [
    "my_pipeline_unscale = Pipeline([\n",
    "    ('column_transform', ct_unscale),\n",
    "    ('model', DecisionTreeClassifier())],\n",
    "    memory=cachedir_unscale, verbose=True)"
   ]
  },
  {
   "cell_type": "markdown",
   "id": "3e7fffa4",
   "metadata": {
    "hidden": true
   },
   "source": [
    "-----"
   ]
  },
  {
   "cell_type": "markdown",
   "id": "e4ae3c80",
   "metadata": {
    "heading_collapsed": true,
    "hidden": true
   },
   "source": [
    "#### Logistic Regression"
   ]
  },
  {
   "cell_type": "code",
   "execution_count": null,
   "id": "a387f96d",
   "metadata": {
    "ExecuteTime": {
     "end_time": "2022-11-07T08:46:19.266215Z",
     "start_time": "2022-11-07T08:46:19.252093Z"
    },
    "hidden": true
   },
   "outputs": [],
   "source": [
    "# c_values = [.00001, .0001, .001, .1, 1, 10, 100, 1000, 10000]\n",
    "\n",
    "# logreg_param_grid = [\n",
    "\n",
    "#     {'column_transform': [ct_scale],\n",
    "#      'model__n_jobs': [-1], 'model__max_iter': [1000],\n",
    "#      'model__solver': ['lbfgs'], 'model__C': c_values, 'model__penalty': ['l2', 'none']},\n",
    "#     {'column_transform': [ct_scale],\n",
    "#      'model__random_state': [22], 'model__n_jobs': [-1], 'model__max_iter': [1000],\n",
    "#      'model__solver': ['liblinear'], 'model__C': c_values, 'model__penalty': ['l1', 'l2']}    \n",
    "# ]"
   ]
  },
  {
   "cell_type": "code",
   "execution_count": null,
   "id": "b1b5ebe2",
   "metadata": {
    "ExecuteTime": {
     "end_time": "2022-11-07T08:46:19.282312Z",
     "start_time": "2022-11-07T08:46:19.267214Z"
    },
    "code_folding": [
     0
    ],
    "hidden": true
   },
   "outputs": [],
   "source": [
    "# # for testing that it  works\n",
    "\n",
    "# c_values = [.1, 1, 10]\n",
    "\n",
    "# logreg_param_grid = [\n",
    "    \n",
    "#     {'column_transform': [ct_scale],\n",
    "#      'model': [LogisticRegression()], 'model__random_state':  [22],\n",
    "#      'model__n_jobs': [-1], 'model__max_iter': [1000],\n",
    "#      'model__solver': ['lbfgs'], 'model__C': c_values, 'model__penalty': ['l2', 'none']}\n",
    "# ]"
   ]
  },
  {
   "cell_type": "code",
   "execution_count": null,
   "id": "85e213d5",
   "metadata": {
    "ExecuteTime": {
     "end_time": "2022-11-07T08:46:19.298361Z",
     "start_time": "2022-11-07T08:46:19.283231Z"
    },
    "hidden": true
   },
   "outputs": [],
   "source": [
    "# logreg_gs = GridSearchCV(\n",
    "#     estimator=my_pipeline_scale,\n",
    "#     param_grid=logreg_param_grid,\n",
    "#     cv=5, n_jobs=-1, verbose=10)"
   ]
  },
  {
   "cell_type": "code",
   "execution_count": null,
   "id": "355b0e14",
   "metadata": {
    "ExecuteTime": {
     "end_time": "2022-11-07T08:46:19.313508Z",
     "start_time": "2022-11-07T08:46:19.299360Z"
    },
    "hidden": true
   },
   "outputs": [],
   "source": [
    "# fitted_logreg_gs = logreg_gs.fit(X_remainder, y_remainder)"
   ]
  },
  {
   "cell_type": "code",
   "execution_count": null,
   "id": "bde2fbe2",
   "metadata": {
    "ExecuteTime": {
     "end_time": "2022-11-07T08:46:19.328695Z",
     "start_time": "2022-11-07T08:46:19.314508Z"
    },
    "hidden": true
   },
   "outputs": [],
   "source": [
    "# fitted_logreg_gs.best_params_"
   ]
  },
  {
   "cell_type": "code",
   "execution_count": null,
   "id": "21fe8004",
   "metadata": {
    "ExecuteTime": {
     "end_time": "2022-11-07T08:46:19.343915Z",
     "start_time": "2022-11-07T08:46:19.330661Z"
    },
    "hidden": true
   },
   "outputs": [],
   "source": [
    "fitted_logreg_gs = joblib.load('data/pickled_models/gridsearch/best_logreg.pkl')"
   ]
  },
  {
   "cell_type": "code",
   "execution_count": null,
   "id": "d5dad576",
   "metadata": {
    "ExecuteTime": {
     "end_time": "2022-11-07T08:46:22.117593Z",
     "start_time": "2022-11-07T08:46:19.344807Z"
    },
    "hidden": true
   },
   "outputs": [],
   "source": [
    "# Print the accuracies\n",
    "print(f\"The best logistic regression's accuracy on the remainder set: {fitted_logreg_gs.score(X_remainder, y_remainder)}\")\n",
    "print(f\"The best logistic regression's accuracy on the test set: {fitted_logreg_gs.score(X_test, y_test)}\")"
   ]
  },
  {
   "cell_type": "code",
   "execution_count": null,
   "id": "0d3b8512",
   "metadata": {
    "hidden": true
   },
   "outputs": [],
   "source": []
  },
  {
   "cell_type": "markdown",
   "id": "cb5164cb",
   "metadata": {
    "hidden": true
   },
   "source": [
    "-----"
   ]
  },
  {
   "cell_type": "markdown",
   "id": "b1fc66be",
   "metadata": {
    "heading_collapsed": true,
    "hidden": true
   },
   "source": [
    "#### Decision Tree"
   ]
  },
  {
   "cell_type": "code",
   "execution_count": null,
   "id": "b4fb2135",
   "metadata": {
    "ExecuteTime": {
     "end_time": "2022-11-07T08:46:22.133551Z",
     "start_time": "2022-11-07T08:46:22.118591Z"
    },
    "hidden": true
   },
   "outputs": [],
   "source": [
    "# # for testing that it  works\n",
    "\n",
    "# dt_param_grid = [\n",
    "    \n",
    "#     {'column_transform': [ct_unscale],\n",
    "#      'model': [DecisionTreeClassifier()],\n",
    "#      'model__criterion': ['gini', 'entropy'], 'model__splitter': ['best', 'random'],\n",
    "#      'model__max_depth': [None, 50, 100, 150], 'model__min_samples_split': [2, 4, 6],\n",
    "#      'model__min_samples_leaf': [1, 2, 4, 5], 'model__max_features': ['sqrt', 'auto', 'log2', None]\n",
    "#     }\n",
    "# ]"
   ]
  },
  {
   "cell_type": "code",
   "execution_count": null,
   "id": "29566d47",
   "metadata": {
    "ExecuteTime": {
     "end_time": "2022-11-07T08:46:22.149509Z",
     "start_time": "2022-11-07T08:46:22.134549Z"
    },
    "hidden": true
   },
   "outputs": [],
   "source": [
    "# dt_gs = GridSearchCV(\n",
    "#     my_pipeline_unscale,\n",
    "#     param_grid=dt_param_grid,\n",
    "#     cv=5, n_jobs=-1, verbose=10)"
   ]
  },
  {
   "cell_type": "code",
   "execution_count": null,
   "id": "3c0869ab",
   "metadata": {
    "ExecuteTime": {
     "end_time": "2022-11-07T08:46:22.165468Z",
     "start_time": "2022-11-07T08:46:22.150507Z"
    },
    "hidden": true
   },
   "outputs": [],
   "source": [
    "# fitted_dt_gs = dt_gs.fit(X_remainder, y_remainder)"
   ]
  },
  {
   "cell_type": "code",
   "execution_count": null,
   "id": "241b14b2",
   "metadata": {
    "ExecuteTime": {
     "end_time": "2022-11-07T08:46:22.181425Z",
     "start_time": "2022-11-07T08:46:22.166465Z"
    },
    "hidden": true
   },
   "outputs": [],
   "source": [
    "# fitted_dt_gs.best_estimator_"
   ]
  },
  {
   "cell_type": "code",
   "execution_count": null,
   "id": "c542b24c",
   "metadata": {
    "ExecuteTime": {
     "end_time": "2022-11-07T08:46:22.197383Z",
     "start_time": "2022-11-07T08:46:22.182423Z"
    },
    "hidden": true
   },
   "outputs": [],
   "source": [
    "# fitted_dt_gs.best_params_"
   ]
  },
  {
   "cell_type": "code",
   "execution_count": null,
   "id": "b9740fcf",
   "metadata": {
    "hidden": true
   },
   "outputs": [],
   "source": []
  },
  {
   "cell_type": "code",
   "execution_count": null,
   "id": "91f9ae40",
   "metadata": {
    "ExecuteTime": {
     "end_time": "2022-11-07T08:46:22.213341Z",
     "start_time": "2022-11-07T08:46:22.198381Z"
    },
    "hidden": true
   },
   "outputs": [],
   "source": [
    "fitted_dt_gs = joblib.load('data/pickled_models/gridsearch/best_dt.pkl')"
   ]
  },
  {
   "cell_type": "code",
   "execution_count": null,
   "id": "4585d804",
   "metadata": {
    "ExecuteTime": {
     "end_time": "2022-11-07T08:46:23.873323Z",
     "start_time": "2022-11-07T08:46:22.214339Z"
    },
    "hidden": true
   },
   "outputs": [],
   "source": [
    "# Print the accuracies\n",
    "print(f\"The best decistion tree's accuracy on the remainder set: {fitted_dt_gs.score(X_remainder, y_remainder)}\")\n",
    "print(f\"The best decistion tree's accuracy on the test set: {fitted_dt_gs.score(X_test, y_test)}\")"
   ]
  },
  {
   "cell_type": "code",
   "execution_count": null,
   "id": "03ca4498",
   "metadata": {
    "hidden": true
   },
   "outputs": [],
   "source": []
  },
  {
   "cell_type": "markdown",
   "id": "d5ec0428",
   "metadata": {
    "hidden": true
   },
   "source": [
    "-----"
   ]
  },
  {
   "cell_type": "markdown",
   "id": "511c67d6",
   "metadata": {
    "heading_collapsed": true,
    "hidden": true
   },
   "source": [
    "#### Random Forest"
   ]
  },
  {
   "cell_type": "code",
   "execution_count": null,
   "id": "457a7d61",
   "metadata": {
    "ExecuteTime": {
     "end_time": "2022-11-07T08:46:23.889203Z",
     "start_time": "2022-11-07T08:46:23.874293Z"
    },
    "hidden": true
   },
   "outputs": [],
   "source": [
    "# # for testing that it  works\n",
    "\n",
    "# rf_param_grid = [\n",
    "    \n",
    "#     {'column_transform': [ct_unscale],\n",
    "#      'model': [RandomForestClassifier()],\n",
    "#      'model__n_estimators': [25, 50, 100], 'model__criterion': ['gini', 'entropy'],\n",
    "#      'model__max_depth': [None, 50, 100, 150], 'model__min_samples_split': [2, 4, 6],\n",
    "#      'model__min_samples_leaf': [1], 'model__max_features': ['sqrt']\n",
    "#     }\n",
    "# ]"
   ]
  },
  {
   "cell_type": "code",
   "execution_count": null,
   "id": "3e57e5da",
   "metadata": {
    "ExecuteTime": {
     "end_time": "2022-11-07T08:46:23.904274Z",
     "start_time": "2022-11-07T08:46:23.890203Z"
    },
    "hidden": true
   },
   "outputs": [],
   "source": [
    "# rf_gs = GridSearchCV(\n",
    "#     my_pipeline_unscale,\n",
    "#     param_grid=rf_param_grid,\n",
    "#     cv=5, n_jobs=-1, verbose=10)"
   ]
  },
  {
   "cell_type": "code",
   "execution_count": null,
   "id": "a445e00a",
   "metadata": {
    "ExecuteTime": {
     "end_time": "2022-11-07T08:46:23.919337Z",
     "start_time": "2022-11-07T08:46:23.905244Z"
    },
    "hidden": true
   },
   "outputs": [],
   "source": [
    "# fitted_rf_gs = rf_gs.fit(X_remainder, y_remainder)"
   ]
  },
  {
   "cell_type": "code",
   "execution_count": null,
   "id": "bf0f0d06",
   "metadata": {
    "ExecuteTime": {
     "end_time": "2022-11-07T08:46:23.934526Z",
     "start_time": "2022-11-07T08:46:23.920340Z"
    },
    "hidden": true
   },
   "outputs": [],
   "source": [
    "# fitted_rf_gs.best_estimator_"
   ]
  },
  {
   "cell_type": "code",
   "execution_count": null,
   "id": "da783221",
   "metadata": {
    "ExecuteTime": {
     "end_time": "2022-11-07T08:46:23.950377Z",
     "start_time": "2022-11-07T08:46:23.935524Z"
    },
    "hidden": true
   },
   "outputs": [],
   "source": [
    "# fitted_rf_gs.best_params_"
   ]
  },
  {
   "cell_type": "code",
   "execution_count": null,
   "id": "6c4e30e7",
   "metadata": {
    "ExecuteTime": {
     "end_time": "2022-11-07T08:46:24.075273Z",
     "start_time": "2022-11-07T08:46:23.951270Z"
    },
    "hidden": true
   },
   "outputs": [],
   "source": [
    "fitted_rf_gs = joblib.load('data/pickled_models/gridsearch/best_rf.pkl')"
   ]
  },
  {
   "cell_type": "code",
   "execution_count": null,
   "id": "ddada8f4",
   "metadata": {
    "ExecuteTime": {
     "end_time": "2022-11-07T08:46:24.883009Z",
     "start_time": "2022-11-07T08:46:24.076605Z"
    },
    "hidden": true
   },
   "outputs": [],
   "source": [
    "# Print the accuracies\n",
    "print(f\"The best decistion tree's accuracy on the remainder set: {fitted_rf_gs.score(X_remainder, y_remainder)}\")\n",
    "print(f\"The best decistion tree's accuracy on the test set: {fitted_rf_gs.score(X_test, y_test)}\")"
   ]
  },
  {
   "cell_type": "code",
   "execution_count": null,
   "id": "2d9cc28d",
   "metadata": {
    "hidden": true
   },
   "outputs": [],
   "source": []
  },
  {
   "cell_type": "markdown",
   "id": "b6e530c2",
   "metadata": {
    "hidden": true
   },
   "source": [
    "-----"
   ]
  },
  {
   "cell_type": "markdown",
   "id": "627d9181",
   "metadata": {
    "heading_collapsed": true,
    "hidden": true
   },
   "source": [
    "#### XGBoost"
   ]
  },
  {
   "cell_type": "code",
   "execution_count": null,
   "id": "caf9342d",
   "metadata": {
    "ExecuteTime": {
     "end_time": "2022-11-07T08:46:24.899062Z",
     "start_time": "2022-11-07T08:46:24.884037Z"
    },
    "hidden": true
   },
   "outputs": [],
   "source": [
    "# # for testing that it  works\n",
    "\n",
    "# xgb_param_grid = [\n",
    "    \n",
    "#     {'column_transform': [ct_unscale],\n",
    "#      'model': [XGBClassifier()],\n",
    "#      'model__n_estimators': [100], 'model__learning_rate': [0.3, 0.8, 1.5], 'model__gamma': [0],\n",
    "#      'model__max_depth': [6], 'model__max_delta_step': [0, 1],\n",
    "#      'model__sampling_method': ['uniform', 'gradient_based'],\n",
    "#      'model__lambda': [1], 'model__verbosity': [1]\n",
    "#     }\n",
    "# ]"
   ]
  },
  {
   "cell_type": "code",
   "execution_count": null,
   "id": "c7cef0ea",
   "metadata": {
    "ExecuteTime": {
     "end_time": "2022-11-07T08:46:24.914293Z",
     "start_time": "2022-11-07T08:46:24.900031Z"
    },
    "hidden": true
   },
   "outputs": [],
   "source": [
    "# xgb_gs = GridSearchCV(\n",
    "#     my_pipeline_unscale,\n",
    "#     param_grid=xgb_param_grid,\n",
    "#     cv=5, n_jobs=-1, verbose=10)"
   ]
  },
  {
   "cell_type": "code",
   "execution_count": null,
   "id": "4802fcc8",
   "metadata": {
    "ExecuteTime": {
     "end_time": "2022-11-07T08:46:24.930420Z",
     "start_time": "2022-11-07T08:46:24.915175Z"
    },
    "hidden": true
   },
   "outputs": [],
   "source": [
    "# fitted_xgb_gs = xgb_gs.fit(X_remainder, y_remainder)"
   ]
  },
  {
   "cell_type": "code",
   "execution_count": null,
   "id": "c503f575",
   "metadata": {
    "ExecuteTime": {
     "end_time": "2022-11-07T08:46:24.946343Z",
     "start_time": "2022-11-07T08:46:24.931311Z"
    },
    "hidden": true
   },
   "outputs": [],
   "source": [
    "# fitted_xgb_gs.best_estimator_"
   ]
  },
  {
   "cell_type": "code",
   "execution_count": null,
   "id": "cdf6ade6",
   "metadata": {
    "ExecuteTime": {
     "end_time": "2022-11-07T08:46:24.961579Z",
     "start_time": "2022-11-07T08:46:24.947343Z"
    },
    "hidden": true
   },
   "outputs": [],
   "source": [
    "# fitted_xgb_gs.best_params_"
   ]
  },
  {
   "cell_type": "code",
   "execution_count": null,
   "id": "260544e8",
   "metadata": {
    "hidden": true
   },
   "outputs": [],
   "source": []
  },
  {
   "cell_type": "code",
   "execution_count": null,
   "id": "2d8c4c18",
   "metadata": {
    "ExecuteTime": {
     "end_time": "2022-11-07T08:46:24.977439Z",
     "start_time": "2022-11-07T08:46:24.962506Z"
    },
    "hidden": true
   },
   "outputs": [],
   "source": [
    "fitted_xgb_gs = joblib.load('data/pickled_models/gridsearch/best_xgbost.pkl')"
   ]
  },
  {
   "cell_type": "code",
   "execution_count": null,
   "id": "3ab9dbc9",
   "metadata": {
    "ExecuteTime": {
     "end_time": "2022-11-07T08:46:25.292607Z",
     "start_time": "2022-11-07T08:46:24.978436Z"
    },
    "hidden": true
   },
   "outputs": [],
   "source": [
    "# Print the accuracies\n",
    "print(f\"The best decistion tree's accuracy on the remainder set: {fitted_xgb_gs.score(X_remainder, y_remainder)}\")\n",
    "print(f\"The best decistion tree's accuracy on the test set: {fitted_xgb_gs.score(X_test, y_test)}\")"
   ]
  },
  {
   "cell_type": "code",
   "execution_count": null,
   "id": "66cc49c7",
   "metadata": {
    "hidden": true
   },
   "outputs": [],
   "source": []
  },
  {
   "cell_type": "markdown",
   "id": "c81511c1",
   "metadata": {
    "hidden": true
   },
   "source": [
    "-----"
   ]
  },
  {
   "cell_type": "markdown",
   "id": "745a05d8",
   "metadata": {},
   "source": [
    "## Results"
   ]
  },
  {
   "cell_type": "markdown",
   "id": "f0133dc8",
   "metadata": {},
   "source": [
    "The first two rounds of modelling ran into problems due to underlying issues with the collected data - primarily that the distribution of elos between humans and computers was so different. By adding games where humans played against other humans and removing each player's elo the accuracy decreased for all models tested.\n",
    "\n",
    "\n",
    "The engineered features of the percentage of moves each side played that was the engine's top recommendation and the average time spent per move improved the accuracy of all models tested, even after only taking games within a certain elo range to address the difference in average elo between humans and engines. This is not surprising as games, where an engine is playing against a human, are likely to have a high percentage of moves matching the engine's top recommendation. What is interesting is that for the logistic regression model using the engineered features, the 15 highest value coefficient for each sub-classification model did not have the percentage of moves that were the engine's top recommendation. In predicting if white or black was cheating, the elo and average time per move were still within the top 7 and 6 respectively, so it is likely that not enough was done to address the difference in average elo of computers and humans, and that because the computers will typically spend the same amount of time per move the average time spent is a strong indicator (though 'smart' cheaters will tamper with this metric by consciously moving slower at different points in the game).\n",
    "\n",
    "\n",
    "For the decision tree, the player's elo, average time per move and percentage of moves that were the engine's top recommendation all were within the top 10 most important features in predicting if a player was cheating. Interestingly, an opening was not the most important feature - instead, time control took the top spot. This suggests in the dataset, the CvH games had a significantly different distribution of time controls to the HvH games. Indeed, even when the elos were removed, all models still performed well due to the engineered features, but the most important features were still the time controls.\n",
    "\n",
    "\n",
    "Future work should investigate further the openings that were the strongest indicator of if white or black was cheating, as one can infer that computers tend to favour particular openings over others. This is indeed a known trait of modern engines, as their playstyle does differ from human players: engines have been noted to play in a way as to keep their options open as long as possible, whereas humans will seek an early conflict which forces the position into more set possibilities.\n"
   ]
  },
  {
   "cell_type": "code",
   "execution_count": null,
   "id": "18e9371f",
   "metadata": {
    "ExecuteTime": {
     "end_time": "2022-11-07T08:46:25.307567Z",
     "start_time": "2022-11-07T08:46:25.293605Z"
    },
    "code_folding": [
     0
    ]
   },
   "outputs": [],
   "source": [
    "First_Models_CvH=pd.DataFrame(data=[[0.9090, 0.9458, 0.9343, 0.9703, 0.9587],\n",
    "                                    [0.8701, 'na', 'na', 'na', 'na'],\n",
    "                                    [0.7532, 0.8428, 0.8455, 0.8927, 0.9286],\n",
    "                                    [0.6911, 0.8126, 0.8554, 0.8960, 0.9093],\n",
    "                                    [0.8900, 'na', 0.9336, 0.9882, 'na'],\n",
    "                                    ['na', 'na', 0.8631, 0.9541, 0.9549],\n",
    "                                    [0.8900, 'na', 0.9747, 0.9863, 0.9881]\n",
    "                                    \n",
    "                                    \n",
    "                                   ],\n",
    "                              index=['CvH', 'CvH&HvH', 'NoElo CvH', 'NoElo CvH&HvH', 'Feat Eng CvH&HvH',\n",
    "                                     'NoElo Feat Eng CvH&HvH', 'Grid Search Feat Eng CvH&HvH'],\n",
    "                              columns=['LogReg', 'KNN', 'DT', 'RF', 'XGBoost'])\n",
    "First_Models_CvH"
   ]
  },
  {
   "cell_type": "markdown",
   "id": "9379dcbb",
   "metadata": {},
   "source": [
    "----"
   ]
  }
 ],
 "metadata": {
  "kernelspec": {
   "display_name": "capstone_env",
   "language": "python",
   "name": "capstone_env"
  },
  "language_info": {
   "codemirror_mode": {
    "name": "ipython",
    "version": 3
   },
   "file_extension": ".py",
   "mimetype": "text/x-python",
   "name": "python",
   "nbconvert_exporter": "python",
   "pygments_lexer": "ipython3",
   "version": "3.9.13"
  },
  "toc": {
   "base_numbering": 1,
   "nav_menu": {},
   "number_sections": true,
   "sideBar": true,
   "skip_h1_title": false,
   "title_cell": "Table of Contents",
   "title_sidebar": "Contents",
   "toc_cell": false,
   "toc_position": {},
   "toc_section_display": true,
   "toc_window_display": true
  }
 },
 "nbformat": 4,
 "nbformat_minor": 5
}
