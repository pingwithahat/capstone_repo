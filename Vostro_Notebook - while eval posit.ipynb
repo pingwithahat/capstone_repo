{
 "cells": [
  {
   "cell_type": "markdown",
   "id": "c3f1d298",
   "metadata": {},
   "source": [
    "# EDA Contents "
   ]
  },
  {
   "cell_type": "markdown",
   "id": "461f60f6",
   "metadata": {
    "heading_collapsed": true
   },
   "source": [
    "## 'Placeholder'"
   ]
  },
  {
   "cell_type": "markdown",
   "id": "d564d563",
   "metadata": {},
   "source": [
    "# WIP"
   ]
  },
  {
   "cell_type": "markdown",
   "id": "2360f76e",
   "metadata": {},
   "source": [
    "## Imports"
   ]
  },
  {
   "cell_type": "markdown",
   "id": "b95471d2",
   "metadata": {},
   "source": [
    "### Main"
   ]
  },
  {
   "cell_type": "code",
   "execution_count": 1,
   "id": "86a6145f",
   "metadata": {
    "ExecuteTime": {
     "end_time": "2022-11-02T23:45:45.066834Z",
     "start_time": "2022-11-02T23:45:42.746797Z"
    }
   },
   "outputs": [],
   "source": [
    "import sys\n",
    "import numpy as np\n",
    "import pandas as pd\n",
    "import matplotlib.pyplot as plt\n",
    "import chess\n",
    "import io\n",
    "import sys\n",
    "import chess.pgn\n",
    "from io import StringIO\n",
    "import seaborn as sns\n",
    "\n",
    "import plotly.express as px\n",
    "import plotly.graph_objects as go\n",
    "\n",
    "\n",
    "%matplotlib inline\n",
    "\n",
    "import joblib\n",
    "import time\n",
    "\n",
    "# import pickle\n",
    "# from sklearn.utils import shuffle\n",
    "# import gc\n",
    "# import logging\n",
    "\n",
    "\n",
    "from stockfish import Stockfish"
   ]
  },
  {
   "cell_type": "code",
   "execution_count": 2,
   "id": "e4167a91",
   "metadata": {
    "ExecuteTime": {
     "end_time": "2022-11-02T23:45:45.089014Z",
     "start_time": "2022-11-02T23:45:45.066834Z"
    }
   },
   "outputs": [],
   "source": [
    "import warnings\n",
    "warnings.filterwarnings(\"ignore\")"
   ]
  },
  {
   "cell_type": "code",
   "execution_count": 3,
   "id": "8c992c2d",
   "metadata": {
    "ExecuteTime": {
     "end_time": "2022-11-02T23:45:45.379971Z",
     "start_time": "2022-11-02T23:45:45.089014Z"
    }
   },
   "outputs": [],
   "source": [
    "import re\n",
    "from sklearn.preprocessing import OneHotEncoder\n",
    "from sklearn.model_selection import train_test_split, cross_val_score, GridSearchCV \n",
    "from sklearn.preprocessing import StandardScaler, MinMaxScaler\n",
    "from sklearn.linear_model import LogisticRegression\n",
    "from sklearn.svm import SVC\n",
    "from sklearn.tree import DecisionTreeClassifier, plot_tree\n",
    "from sklearn.neighbors import KNeighborsClassifier\n",
    "from sklearn.decomposition import PCA\n",
    "from tempfile import mkdtemp\n",
    "from sklearn.pipeline import Pipeline\n",
    "# from sklearn.pipeline import FeatureUnion\n",
    "from sklearn.compose import ColumnTransformer\n",
    "from sklearn.metrics import classification_report, plot_confusion_matrix, confusion_matrix,\\\n",
    "                            make_scorer, accuracy_score, f1_score\n",
    "from sklearn.ensemble import RandomForestClassifier"
   ]
  },
  {
   "cell_type": "markdown",
   "id": "1d1ac632",
   "metadata": {},
   "source": [
    "---"
   ]
  },
  {
   "cell_type": "markdown",
   "id": "304c08f5",
   "metadata": {},
   "source": [
    "### Helpers"
   ]
  },
  {
   "cell_type": "code",
   "execution_count": 4,
   "id": "25c37d45",
   "metadata": {
    "ExecuteTime": {
     "end_time": "2022-11-02T23:45:47.657204Z",
     "start_time": "2022-11-02T23:45:47.641592Z"
    }
   },
   "outputs": [],
   "source": [
    "# import sys\n",
    "# sys.modules.pop('detecting_cheaters_in_chess_helpers')"
   ]
  },
  {
   "cell_type": "code",
   "execution_count": 5,
   "id": "006946c6",
   "metadata": {
    "ExecuteTime": {
     "end_time": "2022-11-02T23:45:47.810957Z",
     "start_time": "2022-11-02T23:45:47.795364Z"
    }
   },
   "outputs": [],
   "source": [
    "import detecting_cheaters_in_chess_helpers as hp"
   ]
  },
  {
   "cell_type": "markdown",
   "id": "45666345",
   "metadata": {},
   "source": [
    "['Event', 'Site', 'Date', 'Round', 'White', 'Black', 'Result',\n",
    "       'BlackClock', 'BlackElo', 'BlackIsComp', 'BlackRD', 'ECO',\n",
    "       'FICSGamesDBGameNo', 'PlyCount', 'Time', 'TimeControl', 'WhiteClock',\n",
    "       'WhiteElo', 'WhiteRD', 'emt', 'moves', 'WhiteIsComp', 'NoComp']"
   ]
  },
  {
   "cell_type": "markdown",
   "id": "6b49e909",
   "metadata": {},
   "source": [
    "-----"
   ]
  },
  {
   "cell_type": "markdown",
   "id": "3fb256ae",
   "metadata": {
    "heading_collapsed": true
   },
   "source": [
    "## DFs, Pickles, Checks"
   ]
  },
  {
   "cell_type": "markdown",
   "id": "4eff8b12",
   "metadata": {
    "heading_collapsed": true,
    "hidden": true
   },
   "source": [
    "### Many pickles (or json)"
   ]
  },
  {
   "cell_type": "markdown",
   "id": "da1f7f2f",
   "metadata": {
    "heading_collapsed": true,
    "hidden": true
   },
   "source": [
    "#### 2022"
   ]
  },
  {
   "cell_type": "code",
   "execution_count": null,
   "id": "775f6370",
   "metadata": {
    "ExecuteTime": {
     "end_time": "2022-10-23T15:16:03.282605Z",
     "start_time": "2022-10-23T15:16:03.267645Z"
    },
    "hidden": true
   },
   "outputs": [],
   "source": [
    "# raw_2022_list = [pd.read_json(\n",
    "#     f'C:/Users/MaNiL/Desktop/data/capstone/raw/json/2022/ficsgamesdb_20220{num-17}_CvH_movetimes_2648{num}.json') for num in \\\n",
    "#                 range(18, 27)]"
   ]
  },
  {
   "cell_type": "code",
   "execution_count": null,
   "id": "c79b60e8",
   "metadata": {
    "ExecuteTime": {
     "end_time": "2022-10-23T15:16:03.298563Z",
     "start_time": "2022-10-23T15:16:03.283602Z"
    },
    "hidden": true
   },
   "outputs": [],
   "source": [
    "# raw_2022_list[0].head(1)"
   ]
  },
  {
   "cell_type": "code",
   "execution_count": null,
   "id": "60258d3a",
   "metadata": {
    "ExecuteTime": {
     "end_time": "2022-10-23T15:16:03.314642Z",
     "start_time": "2022-10-23T15:16:03.299560Z"
    },
    "hidden": true
   },
   "outputs": [],
   "source": [
    "# raw_2022 = pd.concat(raw_2022_list).reset_index(drop=True)\n",
    "# raw_2022.shape"
   ]
  },
  {
   "cell_type": "code",
   "execution_count": null,
   "id": "7dc21035",
   "metadata": {
    "ExecuteTime": {
     "end_time": "2022-10-23T15:16:03.329603Z",
     "start_time": "2022-10-23T15:16:03.315640Z"
    },
    "hidden": true
   },
   "outputs": [],
   "source": [
    "# # pickle 2022\n",
    "# joblib.dump(raw_2022, 'C:/Users/MaNiL/Desktop/data/capstone/preprocessed/2022_CvH.pkl')"
   ]
  },
  {
   "cell_type": "markdown",
   "id": "e12b0909",
   "metadata": {
    "heading_collapsed": true,
    "hidden": true
   },
   "source": [
    "#### 2021 and 2020"
   ]
  },
  {
   "cell_type": "code",
   "execution_count": null,
   "id": "fdda8d6d",
   "metadata": {
    "ExecuteTime": {
     "end_time": "2022-10-23T15:16:03.344562Z",
     "start_time": "2022-10-23T15:16:03.330600Z"
    },
    "hidden": true
   },
   "outputs": [],
   "source": [
    "# raw_2021 = joblib.load('./data/2021_CvH.pkl')"
   ]
  },
  {
   "cell_type": "code",
   "execution_count": null,
   "id": "081c7354",
   "metadata": {
    "ExecuteTime": {
     "end_time": "2022-10-23T15:16:03.360520Z",
     "start_time": "2022-10-23T15:16:03.347555Z"
    },
    "hidden": true
   },
   "outputs": [],
   "source": [
    "# raw_2020 = joblib.load('./data/2020_CvH.pkl')"
   ]
  },
  {
   "cell_type": "markdown",
   "id": "1eb2f2d1",
   "metadata": {
    "heading_collapsed": true,
    "hidden": true
   },
   "source": [
    "#### 2019 and 2018"
   ]
  },
  {
   "cell_type": "code",
   "execution_count": null,
   "id": "f7dcb01f",
   "metadata": {
    "ExecuteTime": {
     "end_time": "2022-10-23T15:16:03.376477Z",
     "start_time": "2022-10-23T15:16:03.361517Z"
    },
    "hidden": true
   },
   "outputs": [],
   "source": [
    "# raw_2019_2018_list = [pd.read_json(\n",
    "#     f'C:/Users/MaNiL/Desktop/data/capstone/raw/json/{year}/ficsgamesdb_{year}_CvH_movetimes_2648{val}.json')\\\n",
    "#                       for year, val in zip(['2019', '2018'], ['15', '16'])]"
   ]
  },
  {
   "cell_type": "code",
   "execution_count": null,
   "id": "d2248213",
   "metadata": {
    "ExecuteTime": {
     "end_time": "2022-10-23T15:16:03.392435Z",
     "start_time": "2022-10-23T15:16:03.377475Z"
    },
    "hidden": true
   },
   "outputs": [],
   "source": [
    "# raw_2019_2018_list[0].head(1)"
   ]
  },
  {
   "cell_type": "code",
   "execution_count": null,
   "id": "7e3a67bc",
   "metadata": {
    "ExecuteTime": {
     "end_time": "2022-10-23T15:16:03.408393Z",
     "start_time": "2022-10-23T15:16:03.393433Z"
    },
    "hidden": true,
    "scrolled": true
   },
   "outputs": [],
   "source": [
    "# raw_2019_2018_list[1].head(1)"
   ]
  },
  {
   "cell_type": "code",
   "execution_count": null,
   "id": "514ef614",
   "metadata": {
    "ExecuteTime": {
     "end_time": "2022-10-23T15:16:03.424379Z",
     "start_time": "2022-10-23T15:16:03.409389Z"
    },
    "hidden": true
   },
   "outputs": [],
   "source": [
    "# raw_2019_2018 = pd.concat(raw_2019_2018_list).reset_index(drop=True)"
   ]
  },
  {
   "cell_type": "code",
   "execution_count": null,
   "id": "142106a4",
   "metadata": {
    "ExecuteTime": {
     "end_time": "2022-10-23T15:16:03.440334Z",
     "start_time": "2022-10-23T15:16:03.425352Z"
    },
    "hidden": true
   },
   "outputs": [],
   "source": [
    "# # # pickle 2019 and 2018\n",
    "# joblib.dump(raw_2019_2018_list[0], 'C:/Users/MaNiL/Desktop/data/capstone/preprocessed/2019_CvH.pkl')\n",
    "# joblib.dump(raw_2019_2018_list[1], 'C:/Users/MaNiL/Desktop/data/capstone/preprocessed/2018_CvH.pkl')"
   ]
  },
  {
   "cell_type": "code",
   "execution_count": null,
   "id": "1190cc9d",
   "metadata": {
    "hidden": true
   },
   "outputs": [],
   "source": []
  },
  {
   "cell_type": "markdown",
   "id": "380373e4",
   "metadata": {
    "heading_collapsed": true,
    "hidden": true
   },
   "source": [
    "### Mass concatenation"
   ]
  },
  {
   "cell_type": "code",
   "execution_count": null,
   "id": "b007b681",
   "metadata": {
    "ExecuteTime": {
     "end_time": "2022-10-23T15:16:03.456294Z",
     "start_time": "2022-10-23T15:16:03.441304Z"
    },
    "hidden": true
   },
   "outputs": [],
   "source": [
    "# raw_2022\n",
    "# raw_2021\n",
    "# raw_2020\n",
    "# raw_2019_2018"
   ]
  },
  {
   "cell_type": "code",
   "execution_count": null,
   "id": "fef25f65",
   "metadata": {
    "hidden": true
   },
   "outputs": [],
   "source": []
  },
  {
   "cell_type": "code",
   "execution_count": null,
   "id": "5ee552ce",
   "metadata": {
    "ExecuteTime": {
     "end_time": "2022-10-23T15:16:03.472222Z",
     "start_time": "2022-10-23T15:16:03.458259Z"
    },
    "hidden": true
   },
   "outputs": [],
   "source": [
    "# # on vostro laptop\n",
    "# raw_pickle_list = [joblib.load(f'C:/Users/MaNiL/Desktop/data/capstone/preprocessed/{year}_CvH.pkl') for \\\n",
    "#          year in np.arange(2022, 2017, -1)] # load the pickles from 2022 to 2018 inclusive"
   ]
  },
  {
   "cell_type": "code",
   "execution_count": null,
   "id": "690e92e6",
   "metadata": {
    "ExecuteTime": {
     "end_time": "2022-10-23T15:16:03.488209Z",
     "start_time": "2022-10-23T15:16:03.473219Z"
    },
    "hidden": true
   },
   "outputs": [],
   "source": [
    "# sum([df_.shape[0] for df_ in raw_pickle_list])==pd.concat(raw_pickle_list).shape[0]"
   ]
  },
  {
   "cell_type": "code",
   "execution_count": null,
   "id": "1a071d2a",
   "metadata": {
    "ExecuteTime": {
     "end_time": "2022-10-23T15:16:03.504160Z",
     "start_time": "2022-10-23T15:16:03.489177Z"
    },
    "hidden": true
   },
   "outputs": [],
   "source": [
    "# big_df = hp.concatenate_cleaned_pickles(raw_pickle_list)"
   ]
  },
  {
   "cell_type": "code",
   "execution_count": null,
   "id": "dbbfe97d",
   "metadata": {
    "ExecuteTime": {
     "end_time": "2022-10-23T15:16:03.520124Z",
     "start_time": "2022-10-23T15:16:03.505133Z"
    },
    "hidden": true
   },
   "outputs": [],
   "source": [
    "# X, y = hp.X_y_split_simple(big_df)\n",
    "\n",
    "# y = hp.y_convert_to_ohe_vec(y)"
   ]
  },
  {
   "cell_type": "code",
   "execution_count": null,
   "id": "d839489b",
   "metadata": {
    "ExecuteTime": {
     "end_time": "2022-10-23T15:16:03.535621Z",
     "start_time": "2022-10-23T15:16:03.521091Z"
    },
    "hidden": true
   },
   "outputs": [],
   "source": [
    "# y.head()"
   ]
  },
  {
   "cell_type": "markdown",
   "id": "6734689f",
   "metadata": {
    "hidden": true
   },
   "source": [
    "-----"
   ]
  },
  {
   "cell_type": "markdown",
   "id": "01efeb74",
   "metadata": {
    "heading_collapsed": true,
    "hidden": true
   },
   "source": [
    "### Mass concatenation test"
   ]
  },
  {
   "cell_type": "markdown",
   "id": "d81b78d3",
   "metadata": {
    "heading_collapsed": true,
    "hidden": true
   },
   "source": [
    "#### Only 2022"
   ]
  },
  {
   "cell_type": "code",
   "execution_count": null,
   "id": "cbd064ae",
   "metadata": {
    "ExecuteTime": {
     "end_time": "2022-10-23T15:16:03.551576Z",
     "start_time": "2022-10-23T15:16:03.536585Z"
    },
    "hidden": true
   },
   "outputs": [],
   "source": [
    "# raw_2022 = joblib.load('C:/Users/MaNiL/Desktop/data/capstone/preprocessed/2022_CvH.pkl')"
   ]
  },
  {
   "cell_type": "code",
   "execution_count": null,
   "id": "b04e6383",
   "metadata": {
    "ExecuteTime": {
     "end_time": "2022-10-23T15:16:03.567530Z",
     "start_time": "2022-10-23T15:16:03.552543Z"
    },
    "hidden": true
   },
   "outputs": [],
   "source": [
    "# raw_2022 = hp.change_comp_columns(raw_2022)"
   ]
  },
  {
   "cell_type": "code",
   "execution_count": null,
   "id": "af994e71",
   "metadata": {
    "ExecuteTime": {
     "end_time": "2022-10-23T15:16:03.583460Z",
     "start_time": "2022-10-23T15:16:03.568500Z"
    },
    "hidden": true
   },
   "outputs": [],
   "source": [
    "# raw_2022 = raw_2022.drop(columns=['Taco'])\n",
    "# KeyError: \"['Taco'] not found in axis\"\n"
   ]
  },
  {
   "cell_type": "code",
   "execution_count": null,
   "id": "d77e4dcb",
   "metadata": {
    "ExecuteTime": {
     "end_time": "2022-10-23T15:16:03.599445Z",
     "start_time": "2022-10-23T15:16:03.584458Z"
    },
    "hidden": true
   },
   "outputs": [],
   "source": [
    "# def X_y_split_simple(df):\n",
    "#     X_ = df.drop(columns=['WhiteIsComp', 'BlackIsComp', 'NoComp'])\n",
    "#     y_ = df.loc[:,['WhiteIsComp', 'BlackIsComp', 'NoComp']]\n",
    "#     return X_, y_"
   ]
  },
  {
   "cell_type": "code",
   "execution_count": null,
   "id": "5d66e6b5",
   "metadata": {
    "ExecuteTime": {
     "end_time": "2022-10-23T15:16:03.615402Z",
     "start_time": "2022-10-23T15:16:03.600414Z"
    },
    "hidden": true,
    "scrolled": true
   },
   "outputs": [],
   "source": [
    "# X_, y_ = hp.X_y_split_simple(raw_2022)"
   ]
  },
  {
   "cell_type": "code",
   "execution_count": null,
   "id": "4916dacd",
   "metadata": {
    "ExecuteTime": {
     "end_time": "2022-10-23T15:16:03.630930Z",
     "start_time": "2022-10-23T15:16:03.616372Z"
    },
    "hidden": true
   },
   "outputs": [],
   "source": [
    "# y_.head()"
   ]
  },
  {
   "cell_type": "code",
   "execution_count": null,
   "id": "dad8a107",
   "metadata": {
    "ExecuteTime": {
     "end_time": "2022-10-23T15:16:03.646859Z",
     "start_time": "2022-10-23T15:16:03.636913Z"
    },
    "hidden": true
   },
   "outputs": [],
   "source": [
    "# y_ = hp.y_convert_to_ohe_vec(y_)\n",
    "# y_.head()"
   ]
  },
  {
   "cell_type": "code",
   "execution_count": null,
   "id": "450db16e",
   "metadata": {
    "ExecuteTime": {
     "end_time": "2022-10-23T15:16:03.662841Z",
     "start_time": "2022-10-23T15:16:03.647856Z"
    },
    "hidden": true
   },
   "outputs": [],
   "source": [
    "# y_.shape"
   ]
  },
  {
   "cell_type": "code",
   "execution_count": null,
   "id": "1bcccfd8",
   "metadata": {
    "hidden": true
   },
   "outputs": [],
   "source": []
  },
  {
   "cell_type": "code",
   "execution_count": null,
   "id": "caafaf2e",
   "metadata": {
    "ExecuteTime": {
     "end_time": "2022-10-23T15:16:03.678796Z",
     "start_time": "2022-10-23T15:16:03.663814Z"
    },
    "hidden": true
   },
   "outputs": [],
   "source": [
    "# def y_convert_to_ohe_vec(y):\n",
    "#     '''\n",
    "#     Note: Loss will have to be 'categorical_crossentropy' if y's are one-hot-encoded, 'sparse_categorical_crossentropy' if y's are integers.\n",
    "    \n",
    "#     If all games contain a cheater, return integers for y where:\n",
    "#         0 indicates white was cheating\n",
    "#         1 indicates black was cheating\n",
    "        \n",
    "#     If any games contain no cheaters, return one-hot-encoded arrays for y where:\n",
    "#         [1,0,0] indicates white was cheating\n",
    "#         [0,1,0] indicates black was cheating\n",
    "#         [0,0,1] indicates no-one was cheating\n",
    "        \n",
    "        \n",
    "#     Have a check for explicit 'options=3' where user can input options value, or check len(y.columns)==3\n",
    "#     '''\n",
    "#     if len(y.columns)==3:\n",
    "#         if all(y.NoComp==0):\n",
    "#             y_ = pd.DataFrame(np.where(y.WhiteIsComp==1, 0, 1), columns=['0_WhiteIsComp_1_BlackIsComp'])\n",
    "#             return y_\n",
    "#         else:\n",
    "#             y_ = pd.DataFrame([[row] for row in y.values], columns=['WhiteIsComp_BlackIsComp_NoComp'])\n",
    "#             return y_        \n",
    "#     else:\n",
    "#         return(print('Function only currently supporting y having WhiteIsComp, BlackIsComp, and NoComp'))"
   ]
  },
  {
   "cell_type": "code",
   "execution_count": null,
   "id": "6967ce46",
   "metadata": {
    "ExecuteTime": {
     "end_time": "2022-10-23T15:16:03.694731Z",
     "start_time": "2022-10-23T15:16:03.679771Z"
    },
    "hidden": true
   },
   "outputs": [],
   "source": [
    "# all(y_.NoComp==0)"
   ]
  },
  {
   "cell_type": "code",
   "execution_count": null,
   "id": "b139b70f",
   "metadata": {
    "ExecuteTime": {
     "end_time": "2022-10-23T15:16:03.710715Z",
     "start_time": "2022-10-23T15:16:03.695729Z"
    },
    "hidden": true
   },
   "outputs": [],
   "source": [
    "# (y_.WhiteIsComp==1).head()"
   ]
  },
  {
   "cell_type": "code",
   "execution_count": null,
   "id": "4d4314e1",
   "metadata": {
    "ExecuteTime": {
     "end_time": "2022-10-23T15:16:03.726646Z",
     "start_time": "2022-10-23T15:16:03.711686Z"
    },
    "hidden": true
   },
   "outputs": [],
   "source": [
    "# np.where(y_.WhiteIsComp==1, 0, 1)"
   ]
  },
  {
   "cell_type": "code",
   "execution_count": null,
   "id": "0ca641b5",
   "metadata": {
    "ExecuteTime": {
     "end_time": "2022-10-23T15:16:03.742591Z",
     "start_time": "2022-10-23T15:16:03.727639Z"
    },
    "hidden": true
   },
   "outputs": [],
   "source": [
    "# y_t = y_.copy()\n",
    "# y_t['0_WhiteIsComp_1_BlackIsComp'] = np.where(y_t.WhiteIsComp==1, 0, 1)"
   ]
  },
  {
   "cell_type": "code",
   "execution_count": null,
   "id": "2e9d0dd3",
   "metadata": {
    "ExecuteTime": {
     "end_time": "2022-10-23T15:16:03.758564Z",
     "start_time": "2022-10-23T15:16:03.744587Z"
    },
    "hidden": true
   },
   "outputs": [],
   "source": [
    "# y_t.head(5)"
   ]
  },
  {
   "cell_type": "code",
   "execution_count": null,
   "id": "97369f8f",
   "metadata": {
    "ExecuteTime": {
     "end_time": "2022-10-23T15:16:03.774534Z",
     "start_time": "2022-10-23T15:16:03.759546Z"
    },
    "hidden": true
   },
   "outputs": [],
   "source": [
    "# y_tt = pd.DataFrame(np.where(y_.WhiteIsComp==1, 0, 1), columns=['0_WhiteIsComp_1_BlackIsComp'])\n",
    "# y_tt"
   ]
  },
  {
   "cell_type": "code",
   "execution_count": null,
   "id": "a10f94a5",
   "metadata": {
    "ExecuteTime": {
     "end_time": "2022-10-23T15:16:03.790491Z",
     "start_time": "2022-10-23T15:16:03.775504Z"
    },
    "hidden": true
   },
   "outputs": [],
   "source": [
    "# for row in y_.values:\n",
    "#     print(row)\n",
    "\n",
    "# pd.DataFrame([[row] for row in y_.values], columns=['WhiteIsComp_BlackIsComp_NoComp'])"
   ]
  },
  {
   "cell_type": "code",
   "execution_count": null,
   "id": "3bdf19aa",
   "metadata": {
    "ExecuteTime": {
     "end_time": "2022-10-23T15:16:03.805451Z",
     "start_time": "2022-10-23T15:16:03.791461Z"
    },
    "hidden": true
   },
   "outputs": [],
   "source": [
    "# y_test_ = y_convert_to_ohe_vec(y_)\n",
    "# y_test_"
   ]
  },
  {
   "cell_type": "markdown",
   "id": "8be12628",
   "metadata": {
    "hidden": true
   },
   "source": [
    "-----"
   ]
  },
  {
   "cell_type": "markdown",
   "id": "62fe6ef9",
   "metadata": {
    "heading_collapsed": true,
    "hidden": true
   },
   "source": [
    "#### Only 2021 and 2020"
   ]
  },
  {
   "cell_type": "code",
   "execution_count": null,
   "id": "eeb2361c",
   "metadata": {
    "ExecuteTime": {
     "end_time": "2022-10-23T15:16:03.820411Z",
     "start_time": "2022-10-23T15:16:03.806421Z"
    },
    "hidden": true
   },
   "outputs": [],
   "source": [
    "# only have these two years on one-drive\n",
    "# raw_p = [raw_2021, raw_2020]"
   ]
  },
  {
   "cell_type": "code",
   "execution_count": null,
   "id": "35061b1e",
   "metadata": {
    "ExecuteTime": {
     "end_time": "2022-10-23T15:16:03.836366Z",
     "start_time": "2022-10-23T15:16:03.821381Z"
    },
    "hidden": true
   },
   "outputs": [],
   "source": [
    "# df_2021_2020 = pd.concat(list_cleaned_p).reset_index(drop=True)"
   ]
  },
  {
   "cell_type": "code",
   "execution_count": null,
   "id": "423199bd",
   "metadata": {
    "ExecuteTime": {
     "end_time": "2022-10-23T15:16:03.852326Z",
     "start_time": "2022-10-23T15:16:03.837339Z"
    },
    "hidden": true
   },
   "outputs": [],
   "source": [
    "# df_2021_2020.head(2)"
   ]
  },
  {
   "cell_type": "code",
   "execution_count": null,
   "id": "5e0ffba1",
   "metadata": {
    "ExecuteTime": {
     "end_time": "2022-10-23T15:16:03.868256Z",
     "start_time": "2022-10-23T15:16:03.853296Z"
    },
    "hidden": true
   },
   "outputs": [],
   "source": [
    "# sns.pairplot(df_2021_2020)\n",
    "# plt.show()"
   ]
  },
  {
   "cell_type": "code",
   "execution_count": null,
   "id": "c7326814",
   "metadata": {
    "ExecuteTime": {
     "end_time": "2022-10-23T15:16:03.884241Z",
     "start_time": "2022-10-23T15:16:03.870251Z"
    },
    "hidden": true
   },
   "outputs": [],
   "source": [
    "# X = df_2021_2020.drop(columns=['WhiteIsComp', 'BlackIsComp', 'NoComp'])\n",
    "# y = df_2021_2020.loc[:,['WhiteIsComp', 'BlackIsComp', 'NoComp']]"
   ]
  },
  {
   "cell_type": "code",
   "execution_count": null,
   "id": "612cd65f",
   "metadata": {
    "ExecuteTime": {
     "end_time": "2022-10-23T15:16:03.900196Z",
     "start_time": "2022-10-23T15:16:03.885211Z"
    },
    "hidden": true,
    "scrolled": true
   },
   "outputs": [],
   "source": [
    "# X.head(2)"
   ]
  },
  {
   "cell_type": "code",
   "execution_count": null,
   "id": "ab0a4899",
   "metadata": {
    "ExecuteTime": {
     "end_time": "2022-10-23T15:16:03.915158Z",
     "start_time": "2022-10-23T15:16:03.901168Z"
    },
    "hidden": true
   },
   "outputs": [],
   "source": [
    "# # %%timeit\n",
    "# test_=X.copy()\n",
    "\n",
    "# # test_[['TimeControl_Base', 'TimeControl_Inc']]=[\n",
    "# #     (str.split(x, sep='+')[0], str.split(x, sep='+')[1]) for x in X.TimeControl.values] # 117 ms ± 1.82 ms per loop (mean ± std. dev. of 7 runs, 10 loops each)\n",
    "\n",
    "\n",
    "# # test_[['TimeControl_Base', 'TimeControl_Inc']]=[\n",
    "# #     (str.split(x, sep='+')) for x in X.TimeControl.values] # 110 ms ± 14.6 ms per loop (mean ± std. dev. of 7 runs, 10 loops each)\n",
    "\n",
    "\n",
    "# test_[['TimeControl_Base', 'TimeControl_Inc']]=[\n",
    "#     (int(str.split(x, sep='+')[0]), int(str.split(x, sep='+')[1])) for x in X.TimeControl.values]\n",
    "\n",
    "\n",
    "# test_"
   ]
  },
  {
   "cell_type": "markdown",
   "id": "8cfda3f7",
   "metadata": {
    "hidden": true
   },
   "source": [
    "-----"
   ]
  },
  {
   "cell_type": "markdown",
   "id": "ee4a40d7",
   "metadata": {
    "heading_collapsed": true,
    "hidden": true
   },
   "source": [
    "#### 2022 to 2018 inclusive"
   ]
  },
  {
   "cell_type": "code",
   "execution_count": null,
   "id": "3483494f",
   "metadata": {
    "ExecuteTime": {
     "end_time": "2022-10-24T14:49:02.618421Z",
     "start_time": "2022-10-24T14:48:54.919854Z"
    },
    "hidden": true
   },
   "outputs": [],
   "source": [
    "# # on vostro laptop\n",
    "# raw_p = [joblib.load(f'C:/Users/MaNiL/Desktop/data/capstone/raw/pickles/{year}_CvH.pkl') for \\\n",
    "#          year in np.arange(2022, 2017, -1)] # load the pickles from 2022 to 2018 inclusive"
   ]
  },
  {
   "cell_type": "code",
   "execution_count": null,
   "id": "7ed9cf43",
   "metadata": {
    "ExecuteTime": {
     "end_time": "2022-10-23T15:16:03.947073Z",
     "start_time": "2022-10-23T15:16:03.932085Z"
    },
    "hidden": true
   },
   "outputs": [],
   "source": [
    "# list_cleaned_p = hp.clean_pickles(raw_p)"
   ]
  },
  {
   "cell_type": "code",
   "execution_count": null,
   "id": "8a412bc7",
   "metadata": {
    "ExecuteTime": {
     "end_time": "2022-10-23T15:16:03.963030Z",
     "start_time": "2022-10-23T15:16:03.948043Z"
    },
    "hidden": true
   },
   "outputs": [],
   "source": [
    "# sum([df_.shape[0] for df_ in list_cleaned_p])"
   ]
  },
  {
   "cell_type": "code",
   "execution_count": null,
   "id": "1c07a819",
   "metadata": {
    "ExecuteTime": {
     "end_time": "2022-10-23T15:16:03.978990Z",
     "start_time": "2022-10-23T15:16:03.964000Z"
    },
    "hidden": true
   },
   "outputs": [],
   "source": [
    "# pd.concat(list_cleaned_p).shape"
   ]
  },
  {
   "cell_type": "code",
   "execution_count": null,
   "id": "ed575835",
   "metadata": {
    "ExecuteTime": {
     "end_time": "2022-10-23T15:16:03.993948Z",
     "start_time": "2022-10-23T15:16:03.979986Z"
    },
    "hidden": true
   },
   "outputs": [],
   "source": [
    "# sum([df_.shape[0] for df_ in list_cleaned_p])==pd.concat(list_cleaned_p).shape[0]"
   ]
  },
  {
   "cell_type": "code",
   "execution_count": null,
   "id": "6cc150ef",
   "metadata": {
    "ExecuteTime": {
     "end_time": "2022-10-24T14:50:56.112673Z",
     "start_time": "2022-10-24T14:50:56.104673Z"
    },
    "hidden": true
   },
   "outputs": [],
   "source": [
    "# raw_p[0].head(1)\n",
    "# raw_p[0].columns"
   ]
  },
  {
   "cell_type": "code",
   "execution_count": null,
   "id": "8836416f",
   "metadata": {
    "ExecuteTime": {
     "end_time": "2022-10-24T14:59:22.038535Z",
     "start_time": "2022-10-24T14:59:20.758728Z"
    },
    "hidden": true
   },
   "outputs": [],
   "source": [
    "# df_2022_2018_CvH_raw = hp.concatenate_cleaned_pickles(\n",
    "#     raw_p, list_of_cols=['Event', 'Site', 'Round', 'BlackClock',\n",
    "#                          'FICSGamesDBGameNo', 'Time', 'WhiteClock'])\n",
    "\n",
    "# # Shape pre-drop: (198779, 17)\n",
    "# # Dropping duplicates...\n",
    "# # Shape post-drop: (198539, 17)\n",
    "# #  Duplicates dropped: 240"
   ]
  },
  {
   "cell_type": "code",
   "execution_count": null,
   "id": "dfa0cd50",
   "metadata": {
    "ExecuteTime": {
     "end_time": "2022-10-24T14:56:26.094124Z",
     "start_time": "2022-10-24T14:56:26.080153Z"
    },
    "hidden": true
   },
   "outputs": [],
   "source": [
    "# df_2022_2018_CvH_raw_test = hp.concatenate_cleaned_pickles(\n",
    "#     raw_p, list_of_cols=['Event', 'Site', 'Round', 'BlackClock',\n",
    "#                          'Time', 'WhiteClock'])\n",
    "\n",
    "# # Shape pre-drop: (198779, 18)\n",
    "# # Dropping duplicates...\n",
    "# # Shape post-drop: (198779, 18)\n",
    "# #  Duplicates dropped: 0"
   ]
  },
  {
   "cell_type": "code",
   "execution_count": null,
   "id": "e4788670",
   "metadata": {
    "ExecuteTime": {
     "end_time": "2022-10-24T14:57:53.948354Z",
     "start_time": "2022-10-24T14:57:53.931655Z"
    },
    "hidden": true
   },
   "outputs": [],
   "source": [
    "# df_2022_2018_CvH_raw_test = hp.concatenate_cleaned_pickles(\n",
    "#     raw_p, list_of_cols=['FICSGamesDBGameNo'])\n",
    "\n",
    "# Shape pre-drop: (198779, 23)\n",
    "# Dropping duplicates...\n",
    "# Shape post-drop: (198768, 23)\n",
    "#  Duplicates dropped: 11"
   ]
  },
  {
   "cell_type": "markdown",
   "id": "532c8d1c",
   "metadata": {
    "hidden": true
   },
   "source": [
    "Depending on what columns you drop, there are a different number of duplicates found. This could be investigated further in future."
   ]
  },
  {
   "cell_type": "code",
   "execution_count": null,
   "id": "ab748cd6",
   "metadata": {
    "hidden": true
   },
   "outputs": [],
   "source": []
  },
  {
   "cell_type": "markdown",
   "id": "07871c57",
   "metadata": {
    "hidden": true
   },
   "source": [
    "The below reappears later on in the notebook but I put it here just to remind myself that for some analysis I do keep Event."
   ]
  },
  {
   "cell_type": "code",
   "execution_count": null,
   "id": "587faed7",
   "metadata": {
    "ExecuteTime": {
     "end_time": "2022-10-25T16:26:38.935998Z",
     "start_time": "2022-10-25T16:26:36.426966Z"
    },
    "hidden": true
   },
   "outputs": [],
   "source": [
    "# df_2022_2018_CvH_raw = hp.concatenate_cleaned_pickles(\n",
    "#     raw_p, list_of_cols=['Site', 'Round', 'BlackClock',\n",
    "#                          'FICSGamesDBGameNo', 'Time', 'WhiteClock'])\n",
    "\n",
    "# # All PlyCount values match the length of moves-list\n",
    "# # Shape pre-drop: (198779, 18)\n",
    "# # Dropping duplicates...\n",
    "# # Shape post-drop: (198539, 18)\n",
    "# #  Duplicates dropped: 240"
   ]
  },
  {
   "cell_type": "code",
   "execution_count": null,
   "id": "6f257c82",
   "metadata": {
    "ExecuteTime": {
     "end_time": "2022-10-25T16:32:36.898685Z",
     "start_time": "2022-10-25T16:29:35.393241Z"
    },
    "hidden": true
   },
   "outputs": [],
   "source": [
    "# joblib.dump(df_2022_2018_CvH_raw,\n",
    "#            'C:/Users/MaNiL/Desktop/data/capstone/preprocessed/2022_2018_CvH_distinv_withevent.pkl',\n",
    "#            compress=9)"
   ]
  },
  {
   "cell_type": "code",
   "execution_count": null,
   "id": "8bdd3676",
   "metadata": {
    "hidden": true
   },
   "outputs": [],
   "source": []
  },
  {
   "cell_type": "code",
   "execution_count": null,
   "id": "074c9b47",
   "metadata": {
    "hidden": true
   },
   "outputs": [],
   "source": []
  },
  {
   "cell_type": "markdown",
   "id": "aa52c8fe",
   "metadata": {
    "heading_collapsed": true,
    "hidden": true
   },
   "source": [
    "#### Other"
   ]
  },
  {
   "cell_type": "code",
   "execution_count": null,
   "id": "1af46a19",
   "metadata": {
    "ExecuteTime": {
     "end_time": "2022-10-23T15:16:04.008880Z",
     "start_time": "2022-10-23T15:16:03.994917Z"
    },
    "hidden": true
   },
   "outputs": [],
   "source": [
    "# df = pd.read_json(\"data/raw_data/json/ficsgamesdb_search_ignore_colour_test.json\")"
   ]
  },
  {
   "cell_type": "code",
   "execution_count": null,
   "id": "55cf5d51",
   "metadata": {
    "ExecuteTime": {
     "end_time": "2022-10-23T15:16:04.024866Z",
     "start_time": "2022-10-23T15:16:04.009877Z"
    },
    "hidden": true
   },
   "outputs": [],
   "source": [
    "# # should have 271 games, I think I said it would have 300\n",
    "\n",
    "# df_wrong_num_test = pd.read_json('C:/Users/MaNiL/Desktop/data/capstone/raw/json/First_tests/ignore_colour_wrong_number_fed.json')\n",
    "\n",
    "# print(df_wrong_num_test.shape)\n",
    "# hp.chess_checker_function(df_wrong_num_test)\n",
    "# df_wrong_num_test = hp.change_comp_columns(df)\n",
    "# print(df_wrong_num_test.columns)\n",
    "# hp.chess_nan_checker(df_wrong_num_test)"
   ]
  },
  {
   "cell_type": "code",
   "execution_count": null,
   "id": "85fff6a9",
   "metadata": {
    "ExecuteTime": {
     "end_time": "2022-10-23T15:16:04.040341Z",
     "start_time": "2022-10-23T15:16:04.025835Z"
    },
    "hidden": true
   },
   "outputs": [],
   "source": [
    "# df = pd.read_json(\"C:/Users/MaNiL/Desktop/data/capstone/raw/json/Standard_2021_all_ratings/ficsgamesdb_2021_standard_movetimes_264828.json\")\n",
    "\n",
    "# joblib.dump(df, './data/2021_all_ratings.pkl')"
   ]
  },
  {
   "cell_type": "code",
   "execution_count": null,
   "id": "bde3d0d8",
   "metadata": {
    "ExecuteTime": {
     "end_time": "2022-10-23T15:16:04.055273Z",
     "start_time": "2022-10-23T15:16:04.041310Z"
    },
    "hidden": true
   },
   "outputs": [],
   "source": [
    "# df = joblib.load('./data/2021_CvH.pkl')\n",
    "\n",
    "# # df = joblib.load('C:/Users/Emanuel/OneDrive/My Documents/')\n",
    "\n",
    "# # df = joblib.load('C:/Users/MaNiL/Desktop/data/capstone/preprocessed/2021_CvH.pkl')"
   ]
  },
  {
   "cell_type": "code",
   "execution_count": null,
   "id": "504ece3b",
   "metadata": {
    "ExecuteTime": {
     "end_time": "2022-10-23T15:16:04.071230Z",
     "start_time": "2022-10-23T15:16:04.056270Z"
    },
    "hidden": true
   },
   "outputs": [],
   "source": [
    "# hp.chess_checker_function(df)"
   ]
  },
  {
   "cell_type": "code",
   "execution_count": null,
   "id": "fbd271b0",
   "metadata": {
    "ExecuteTime": {
     "end_time": "2022-10-23T15:16:04.087188Z",
     "start_time": "2022-10-23T15:16:04.072228Z"
    },
    "hidden": true,
    "scrolled": true
   },
   "outputs": [],
   "source": [
    "# df.info()"
   ]
  },
  {
   "cell_type": "code",
   "execution_count": null,
   "id": "5b4576d6",
   "metadata": {
    "ExecuteTime": {
     "end_time": "2022-10-23T15:16:04.103145Z",
     "start_time": "2022-10-23T15:16:04.088185Z"
    },
    "hidden": true,
    "scrolled": true
   },
   "outputs": [],
   "source": [
    "# nocomp_df = hp.change_comp_columns(df)\n",
    "# print(nocomp_df.columns)"
   ]
  },
  {
   "cell_type": "markdown",
   "id": "c5c5c9c5",
   "metadata": {
    "hidden": true
   },
   "source": [
    "['Event', 'Site', 'Date', 'Round', 'White', 'Black', 'Result',\n",
    "       'BlackClock', 'BlackElo', 'BlackIsComp', 'BlackRD', 'ECO',\n",
    "       'FICSGamesDBGameNo', 'PlyCount', 'Time', 'TimeControl', 'WhiteClock',\n",
    "       'WhiteElo', 'WhiteRD', 'emt', 'moves', 'WhiteIsComp', 'NoComp']"
   ]
  },
  {
   "cell_type": "code",
   "execution_count": null,
   "id": "8e956fb9",
   "metadata": {
    "ExecuteTime": {
     "end_time": "2022-10-23T15:16:04.119102Z",
     "start_time": "2022-10-23T15:16:04.104143Z"
    },
    "hidden": true
   },
   "outputs": [],
   "source": [
    "# nocomp_df.head(1)"
   ]
  },
  {
   "cell_type": "code",
   "execution_count": null,
   "id": "8120559f",
   "metadata": {
    "ExecuteTime": {
     "end_time": "2022-10-23T15:16:04.135060Z",
     "start_time": "2022-10-23T15:16:04.120100Z"
    },
    "hidden": true
   },
   "outputs": [],
   "source": [
    "# hp.chess_nan_checker(nocomp_df)"
   ]
  },
  {
   "cell_type": "markdown",
   "id": "0b7e899b",
   "metadata": {
    "hidden": true
   },
   "source": [
    "-----"
   ]
  },
  {
   "cell_type": "markdown",
   "id": "fc835592",
   "metadata": {
    "heading_collapsed": true,
    "hidden": true
   },
   "source": [
    "### Some Cleaning & Inv"
   ]
  },
  {
   "cell_type": "markdown",
   "id": "2f1e57ad",
   "metadata": {
    "heading_collapsed": true,
    "hidden": true
   },
   "source": [
    "#### Separating Standard Games (not imposed in cleaning yet)"
   ]
  },
  {
   "cell_type": "code",
   "execution_count": null,
   "id": "c71b664d",
   "metadata": {
    "ExecuteTime": {
     "end_time": "2022-10-23T15:16:04.151018Z",
     "start_time": "2022-10-23T15:16:04.136057Z"
    },
    "hidden": true
   },
   "outputs": [],
   "source": [
    "# Unique events\n",
    "\n",
    "# nocomp_df[['Event']].head()\n",
    "\n",
    "# nocomp_df['Event'].unique()"
   ]
  },
  {
   "cell_type": "code",
   "execution_count": null,
   "id": "53911d3e",
   "metadata": {
    "ExecuteTime": {
     "end_time": "2022-10-23T15:16:04.166975Z",
     "start_time": "2022-10-23T15:16:04.152015Z"
    },
    "hidden": true
   },
   "outputs": [],
   "source": [
    "# nocomp_df = joblib.load('C:/Users/Emanuel/Desktop/data/capstone/raw/2021_CvH.pkl')\n",
    "# nocomp_df = hp.change_comp_columns(nocomp_df)"
   ]
  },
  {
   "cell_type": "code",
   "execution_count": null,
   "id": "d240f712",
   "metadata": {
    "ExecuteTime": {
     "end_time": "2022-10-23T15:16:04.182932Z",
     "start_time": "2022-10-23T15:16:04.167972Z"
    },
    "hidden": true,
    "scrolled": true
   },
   "outputs": [],
   "source": [
    "# nocomp_df.head(3)"
   ]
  },
  {
   "cell_type": "code",
   "execution_count": null,
   "id": "09d52888",
   "metadata": {
    "ExecuteTime": {
     "end_time": "2022-10-23T15:16:04.198918Z",
     "start_time": "2022-10-23T15:16:04.183929Z"
    },
    "hidden": true
   },
   "outputs": [],
   "source": [
    "# nocomp_df[['Event']].groupby(['Event']).value_counts().sort_values()"
   ]
  },
  {
   "cell_type": "code",
   "execution_count": null,
   "id": "ec790cd1",
   "metadata": {
    "ExecuteTime": {
     "end_time": "2022-10-23T15:16:04.214847Z",
     "start_time": "2022-10-23T15:16:04.199886Z"
    },
    "hidden": true,
    "scrolled": true
   },
   "outputs": [],
   "source": [
    "# test_ = nocomp_df[['Event', 'TimeControl', 'Time', 'Result', 'White', 'WhiteIsComp', 'Black', 'BlackIsComp', 'NoComp']]\n",
    "# test_.head()"
   ]
  },
  {
   "cell_type": "code",
   "execution_count": null,
   "id": "de98ebae",
   "metadata": {
    "ExecuteTime": {
     "end_time": "2022-10-23T15:16:04.230414Z",
     "start_time": "2022-10-23T15:16:04.215844Z"
    },
    "hidden": true
   },
   "outputs": [],
   "source": [
    "# 900/60"
   ]
  },
  {
   "cell_type": "code",
   "execution_count": null,
   "id": "dbc9b33f",
   "metadata": {
    "ExecuteTime": {
     "end_time": "2022-10-23T15:16:04.246371Z",
     "start_time": "2022-10-23T15:16:04.231384Z"
    },
    "hidden": true
   },
   "outputs": [],
   "source": [
    "# event_control = test_.groupby(['Event', 'TimeControl']).count().reset_index().loc[:, ['Event', 'TimeControl']]\n",
    "# event_control"
   ]
  },
  {
   "cell_type": "code",
   "execution_count": null,
   "id": "41653e93",
   "metadata": {
    "ExecuteTime": {
     "end_time": "2022-10-23T15:16:04.262329Z",
     "start_time": "2022-10-23T15:16:04.247341Z"
    },
    "hidden": true
   },
   "outputs": [],
   "source": [
    "# # event_control[ ['standard game' in event_control['Event'].values] ] # doesn't work\n",
    "\n",
    "# # ['standard game' in x for x in event_control['Event'].values]\n",
    "\n",
    "# standard_games = event_control[['standard game' in x for x in event_control['Event'].values]]\n",
    "# display(standard_games.head())\n",
    "# display(standard_games.TimeControl.unique())\n",
    "# standard_games_times = standard_games.TimeControl.unique()"
   ]
  },
  {
   "cell_type": "code",
   "execution_count": null,
   "id": "78ba0c10",
   "metadata": {
    "ExecuteTime": {
     "end_time": "2022-10-23T15:16:04.278286Z",
     "start_time": "2022-10-23T15:16:04.263298Z"
    },
    "hidden": true
   },
   "outputs": [],
   "source": [
    "# blitz_games = event_control[['blitz game' in x for x in event_control['Event'].values]]\n",
    "# display(blitz_games.head())\n",
    "# display(blitz_games.TimeControl.unique())\n",
    "# blitz_games_times = blitz_games.TimeControl.unique()"
   ]
  },
  {
   "cell_type": "code",
   "execution_count": null,
   "id": "575a8ab3",
   "metadata": {
    "ExecuteTime": {
     "end_time": "2022-10-23T15:16:04.294244Z",
     "start_time": "2022-10-23T15:16:04.279257Z"
    },
    "hidden": true
   },
   "outputs": [],
   "source": [
    "# any([b_time in standard_games_times for b_time in blitz_games_times]) # False\n",
    "\n",
    "# # '900+1' in standard_games_times # True"
   ]
  },
  {
   "cell_type": "code",
   "execution_count": null,
   "id": "45007964",
   "metadata": {
    "ExecuteTime": {
     "end_time": "2022-10-23T15:16:04.310201Z",
     "start_time": "2022-10-23T15:16:04.295213Z"
    },
    "hidden": true
   },
   "outputs": [],
   "source": [
    "# standard_game_times_sort = standard_games_times.copy()\n",
    "# standard_game_times_sort=[str.split(x, sep='+') for x in standard_game_times_sort]\n",
    "# standard_game_times_sort = pd.DataFrame([[int(row[0]), int(row[1])] for \\\n",
    "#                                          row in standard_game_times_sort]).sort_values(\n",
    "#     by=0,\n",
    "#     axis=0,\n",
    "#     ascending=False).reset_index(drop=True).rename(columns={1: 'inc'})\n",
    "# standard_game_times_sort.head()"
   ]
  },
  {
   "cell_type": "code",
   "execution_count": null,
   "id": "df708a01",
   "metadata": {
    "ExecuteTime": {
     "end_time": "2022-10-23T15:16:04.326130Z",
     "start_time": "2022-10-23T15:16:04.311170Z"
    },
    "hidden": true,
    "scrolled": true
   },
   "outputs": [],
   "source": [
    "# standard_game_times_sort"
   ]
  },
  {
   "cell_type": "code",
   "execution_count": null,
   "id": "0bdf6ffd",
   "metadata": {
    "ExecuteTime": {
     "end_time": "2022-10-23T15:16:04.341624Z",
     "start_time": "2022-10-23T15:16:04.327127Z"
    },
    "hidden": true
   },
   "outputs": [],
   "source": [
    "# blitz_games_times_sort = blitz_games_times.copy()\n",
    "# blitz_games_times_sort=[str.split(x, sep='+') for x in blitz_games_times_sort]\n",
    "# blitz_games_times_sort = pd.DataFrame([[int(row[0]), int(row[1])] for \\\n",
    "#                                          row in blitz_games_times_sort]).sort_values(\n",
    "#     by=0,\n",
    "#     axis=0,\n",
    "#     ascending=False).reset_index(drop=True).rename(columns={1: 'inc'})\n",
    "# blitz_games_times_sort.head()"
   ]
  },
  {
   "cell_type": "code",
   "execution_count": null,
   "id": "c2871889",
   "metadata": {
    "ExecuteTime": {
     "end_time": "2022-10-23T15:16:04.357583Z",
     "start_time": "2022-10-23T15:16:04.342594Z"
    },
    "hidden": true
   },
   "outputs": [],
   "source": [
    "# s_b_merged = pd.merge(standard_game_times_sort, blitz_games_times_sort, how='outer', on=0, suffixes=('_s', '_b'))"
   ]
  },
  {
   "cell_type": "code",
   "execution_count": null,
   "id": "c039c160",
   "metadata": {
    "ExecuteTime": {
     "end_time": "2022-10-23T15:16:04.373539Z",
     "start_time": "2022-10-23T15:16:04.358550Z"
    },
    "hidden": true
   },
   "outputs": [],
   "source": [
    "# s_b_merged"
   ]
  },
  {
   "cell_type": "code",
   "execution_count": null,
   "id": "9231e940",
   "metadata": {
    "ExecuteTime": {
     "end_time": "2022-10-23T15:16:04.389469Z",
     "start_time": "2022-10-23T15:16:04.374508Z"
    },
    "hidden": true,
    "scrolled": true
   },
   "outputs": [],
   "source": [
    "# for row in s_b_merged.values:\n",
    "#     print(row)"
   ]
  },
  {
   "cell_type": "code",
   "execution_count": null,
   "id": "2faae9d6",
   "metadata": {
    "ExecuteTime": {
     "end_time": "2022-10-23T15:16:04.405457Z",
     "start_time": "2022-10-23T15:16:04.390465Z"
    },
    "hidden": true
   },
   "outputs": [],
   "source": [
    "# np.c_[standard_games_times, blitz_games_times]\n"
   ]
  },
  {
   "cell_type": "code",
   "execution_count": null,
   "id": "92dbde28",
   "metadata": {
    "ExecuteTime": {
     "end_time": "2022-10-23T15:16:04.420414Z",
     "start_time": "2022-10-23T15:16:04.406423Z"
    },
    "hidden": true
   },
   "outputs": [],
   "source": [
    "# nocomp_df['TimeControl'].values"
   ]
  },
  {
   "cell_type": "code",
   "execution_count": null,
   "id": "1a5a21ff",
   "metadata": {
    "ExecuteTime": {
     "end_time": "2022-10-23T15:16:04.435375Z",
     "start_time": "2022-10-23T15:16:04.421383Z"
    },
    "hidden": true
   },
   "outputs": [],
   "source": [
    "# nocomp_df[['3600' in x for x in nocomp_df['TimeControl'].values]].shape # (250, 23)"
   ]
  },
  {
   "cell_type": "code",
   "execution_count": null,
   "id": "1218f2c5",
   "metadata": {
    "ExecuteTime": {
     "end_time": "2022-10-23T15:16:04.451330Z",
     "start_time": "2022-10-23T15:16:04.436343Z"
    },
    "hidden": true
   },
   "outputs": [],
   "source": [
    "# only 250 games in 2021_CvH were started as 60+ minutes; it is possible that games went on for longer than 60 \n",
    "# minutes"
   ]
  },
  {
   "cell_type": "code",
   "execution_count": null,
   "id": "0bc23bba",
   "metadata": {
    "hidden": true
   },
   "outputs": [],
   "source": []
  },
  {
   "cell_type": "markdown",
   "id": "cf783c56",
   "metadata": {
    "hidden": true
   },
   "source": [
    "-----"
   ]
  },
  {
   "cell_type": "markdown",
   "id": "fe339160",
   "metadata": {
    "heading_collapsed": true,
    "hidden": true
   },
   "source": [
    "#### Unique players investigation"
   ]
  },
  {
   "cell_type": "code",
   "execution_count": null,
   "id": "8f52607a",
   "metadata": {
    "hidden": true
   },
   "outputs": [],
   "source": []
  },
  {
   "cell_type": "code",
   "execution_count": null,
   "id": "feec036a",
   "metadata": {
    "hidden": true
   },
   "outputs": [],
   "source": []
  },
  {
   "cell_type": "code",
   "execution_count": null,
   "id": "b0a3c039",
   "metadata": {
    "hidden": true
   },
   "outputs": [],
   "source": []
  },
  {
   "cell_type": "code",
   "execution_count": null,
   "id": "def6088d",
   "metadata": {
    "hidden": true
   },
   "outputs": [],
   "source": []
  },
  {
   "cell_type": "code",
   "execution_count": null,
   "id": "31fb5592",
   "metadata": {
    "hidden": true
   },
   "outputs": [],
   "source": []
  },
  {
   "cell_type": "code",
   "execution_count": null,
   "id": "5af72d84",
   "metadata": {
    "hidden": true
   },
   "outputs": [],
   "source": []
  },
  {
   "cell_type": "code",
   "execution_count": null,
   "id": "c9652114",
   "metadata": {
    "hidden": true
   },
   "outputs": [],
   "source": []
  },
  {
   "cell_type": "markdown",
   "id": "9f304cb3",
   "metadata": {
    "hidden": true
   },
   "source": [
    "----"
   ]
  },
  {
   "cell_type": "markdown",
   "id": "6bfa7ee3",
   "metadata": {
    "heading_collapsed": true,
    "hidden": true
   },
   "source": [
    "#### Get rid of draws "
   ]
  },
  {
   "cell_type": "code",
   "execution_count": null,
   "id": "555f87d4",
   "metadata": {
    "ExecuteTime": {
     "end_time": "2022-10-23T15:16:04.467290Z",
     "start_time": "2022-10-23T15:16:04.452300Z"
    },
    "hidden": true
   },
   "outputs": [],
   "source": [
    "# nocomp_df['Result'].unique()"
   ]
  },
  {
   "cell_type": "code",
   "execution_count": null,
   "id": "6ff121f9",
   "metadata": {
    "ExecuteTime": {
     "end_time": "2022-10-23T15:16:04.483217Z",
     "start_time": "2022-10-23T15:16:04.468257Z"
    },
    "hidden": true
   },
   "outputs": [],
   "source": [
    "# nocomp_df[['WhiteIsComp', 'BlackIsComp','Result']]"
   ]
  },
  {
   "cell_type": "code",
   "execution_count": null,
   "id": "7af1307b",
   "metadata": {
    "ExecuteTime": {
     "end_time": "2022-10-23T15:16:04.514162Z",
     "start_time": "2022-10-23T15:16:04.497180Z"
    },
    "hidden": true
   },
   "outputs": [],
   "source": [
    "# nocomp_df['Result']=='1-0'"
   ]
  },
  {
   "cell_type": "code",
   "execution_count": null,
   "id": "c6de8b39",
   "metadata": {
    "ExecuteTime": {
     "end_time": "2022-10-23T15:16:04.530126Z",
     "start_time": "2022-10-23T15:16:04.515132Z"
    },
    "hidden": true
   },
   "outputs": [],
   "source": [
    "# ## filters\n",
    "\n",
    "# # Computer wins as white \n",
    "# comp_w_w = ((nocomp_df['Result']=='1-0')&(nocomp_df['WhiteIsComp']==1))\n",
    "# # Computer wins as black\n",
    "# comp_b_w = ((nocomp_df['Result']=='0-1')&(nocomp_df['BlackIsComp']==1))\n",
    "# # Draw\n",
    "# no_draw = (nocomp_df['Result']!='1/2-1/2')"
   ]
  },
  {
   "cell_type": "code",
   "execution_count": null,
   "id": "4e1d2da0",
   "metadata": {
    "ExecuteTime": {
     "end_time": "2022-10-23T15:16:04.546077Z",
     "start_time": "2022-10-23T15:16:04.531089Z"
    },
    "hidden": true
   },
   "outputs": [],
   "source": [
    "# right_result_df = nocomp_df[comp_w_w |\n",
    "#                             comp_b_w]"
   ]
  },
  {
   "cell_type": "code",
   "execution_count": null,
   "id": "eb15bff4",
   "metadata": {
    "ExecuteTime": {
     "end_time": "2022-10-23T15:16:04.562006Z",
     "start_time": "2022-10-23T15:16:04.547047Z"
    },
    "hidden": true
   },
   "outputs": [],
   "source": [
    "# right_result_df.shape # (28013, 23)"
   ]
  },
  {
   "cell_type": "code",
   "execution_count": null,
   "id": "3bcc6b30",
   "metadata": {
    "ExecuteTime": {
     "end_time": "2022-10-23T15:16:04.577991Z",
     "start_time": "2022-10-23T15:16:04.563004Z"
    },
    "hidden": true
   },
   "outputs": [],
   "source": [
    "# any(right_result_df['Result']=='1/2-1/2') # no draws"
   ]
  },
  {
   "cell_type": "code",
   "execution_count": null,
   "id": "fb0eda9e",
   "metadata": {
    "ExecuteTime": {
     "end_time": "2022-10-23T15:16:04.592951Z",
     "start_time": "2022-10-23T15:16:04.578961Z"
    },
    "hidden": true
   },
   "outputs": [],
   "source": [
    "# no_draws_df.shape"
   ]
  },
  {
   "cell_type": "markdown",
   "id": "802a364c",
   "metadata": {
    "hidden": true
   },
   "source": [
    "-----"
   ]
  },
  {
   "cell_type": "markdown",
   "id": "33b448b6",
   "metadata": {
    "heading_collapsed": true,
    "hidden": true
   },
   "source": [
    "#### Get rid of lightning games"
   ]
  },
  {
   "cell_type": "code",
   "execution_count": null,
   "id": "b077424b",
   "metadata": {
    "ExecuteTime": {
     "end_time": "2022-10-23T15:16:06.933254Z",
     "start_time": "2022-10-23T15:16:04.593921Z"
    },
    "hidden": true
   },
   "outputs": [],
   "source": [
    "df_2018 = joblib.load('./data/raw/2018_CvH.pkl')"
   ]
  },
  {
   "cell_type": "code",
   "execution_count": null,
   "id": "35fc59e7",
   "metadata": {
    "ExecuteTime": {
     "end_time": "2022-10-23T15:16:06.949184Z",
     "start_time": "2022-10-23T15:16:06.934225Z"
    },
    "hidden": true
   },
   "outputs": [],
   "source": [
    "df_2018.shape"
   ]
  },
  {
   "cell_type": "code",
   "execution_count": null,
   "id": "f76cb9f9",
   "metadata": {
    "ExecuteTime": {
     "end_time": "2022-10-23T15:16:06.980130Z",
     "start_time": "2022-10-23T15:16:06.950182Z"
    },
    "hidden": true
   },
   "outputs": [],
   "source": [
    "df_2018.tail()"
   ]
  },
  {
   "cell_type": "code",
   "execution_count": null,
   "id": "f47f5927",
   "metadata": {
    "ExecuteTime": {
     "end_time": "2022-10-23T15:16:06.996091Z",
     "start_time": "2022-10-23T15:16:06.981099Z"
    },
    "hidden": true
   },
   "outputs": [],
   "source": [
    "df_2018['Event'].unique()"
   ]
  },
  {
   "cell_type": "code",
   "execution_count": null,
   "id": "b0071b25",
   "metadata": {
    "ExecuteTime": {
     "end_time": "2022-10-23T15:16:07.012045Z",
     "start_time": "2022-10-23T15:16:06.997056Z"
    },
    "hidden": true
   },
   "outputs": [],
   "source": [
    "df_2018['Event'].values"
   ]
  },
  {
   "cell_type": "code",
   "execution_count": null,
   "id": "532c4198",
   "metadata": {
    "ExecuteTime": {
     "end_time": "2022-10-23T15:16:07.027004Z",
     "start_time": "2022-10-23T15:16:07.013014Z"
    },
    "hidden": true
   },
   "outputs": [],
   "source": [
    "'lightning game' in df_2018['Event'].values"
   ]
  },
  {
   "cell_type": "code",
   "execution_count": null,
   "id": "9bfdfcac",
   "metadata": {
    "ExecuteTime": {
     "end_time": "2022-10-23T15:16:07.042958Z",
     "start_time": "2022-10-23T15:16:07.027974Z"
    },
    "hidden": true
   },
   "outputs": [],
   "source": [
    "'lightning game' in df_2018[['Event']]"
   ]
  },
  {
   "cell_type": "code",
   "execution_count": null,
   "id": "17e87cf7",
   "metadata": {
    "ExecuteTime": {
     "end_time": "2022-10-23T15:16:07.058891Z",
     "start_time": "2022-10-23T15:16:07.043931Z"
    },
    "hidden": true
   },
   "outputs": [],
   "source": [
    "['lightning game' in df_2018['Event'].values]"
   ]
  },
  {
   "cell_type": "code",
   "execution_count": null,
   "id": "69055ec8",
   "metadata": {
    "ExecuteTime": {
     "end_time": "2022-10-23T15:31:03.853991Z",
     "start_time": "2022-10-23T15:31:03.839031Z"
    },
    "hidden": true
   },
   "outputs": [],
   "source": [
    "[row for row in df_2018['Event'] if 'lightning game' in row];"
   ]
  },
  {
   "cell_type": "code",
   "execution_count": null,
   "id": "03113a37",
   "metadata": {
    "ExecuteTime": {
     "end_time": "2022-10-23T15:16:07.122755Z",
     "start_time": "2022-10-23T15:16:07.091803Z"
    },
    "hidden": true
   },
   "outputs": [],
   "source": [
    "# %%timeit # Muninn: 1.85 ms ± 19.9 µs per loop (mean ± std. dev. of 7 runs, 1,000 loops each)\n",
    "\n",
    "df_2018_lightning = df_2018[['lightning game' in row for row in df_2018.Event]] # (20,22)"
   ]
  },
  {
   "cell_type": "code",
   "execution_count": null,
   "id": "d64d6692",
   "metadata": {
    "ExecuteTime": {
     "end_time": "2022-10-23T15:16:07.138678Z",
     "start_time": "2022-10-23T15:16:07.123718Z"
    },
    "hidden": true
   },
   "outputs": [],
   "source": [
    "# # %%timeit # Muninn: 2.1 ms ± 29.9 µs per loop (mean ± std. dev. of 7 runs, 100 loops each)\n",
    "\n",
    "# # lightning_check = df_2018.apply(lambda x: x if 'lightning game' in x[['Event']] else np.NaN, axis=1)\n",
    "# lightning_check = df_2018['Event'].apply(lambda x: True if 'lightning game' in x else False)\n",
    "# df_2018[lightning_check] # (20, 22)"
   ]
  },
  {
   "cell_type": "code",
   "execution_count": null,
   "id": "b8bc6830",
   "metadata": {
    "ExecuteTime": {
     "end_time": "2022-10-23T15:16:07.154639Z",
     "start_time": "2022-10-23T15:16:07.139675Z"
    },
    "hidden": true
   },
   "outputs": [],
   "source": [
    "df_2018_lightning['TimeControl'];"
   ]
  },
  {
   "cell_type": "code",
   "execution_count": null,
   "id": "e29cfb66",
   "metadata": {
    "hidden": true
   },
   "outputs": [],
   "source": []
  },
  {
   "cell_type": "code",
   "execution_count": null,
   "id": "95eecc4e",
   "metadata": {
    "hidden": true
   },
   "outputs": [],
   "source": []
  },
  {
   "cell_type": "code",
   "execution_count": null,
   "id": "03c3fafb",
   "metadata": {
    "hidden": true
   },
   "outputs": [],
   "source": []
  },
  {
   "cell_type": "code",
   "execution_count": null,
   "id": "d3a0314c",
   "metadata": {
    "hidden": true
   },
   "outputs": [],
   "source": []
  },
  {
   "cell_type": "code",
   "execution_count": null,
   "id": "8e11e6de",
   "metadata": {
    "hidden": true
   },
   "outputs": [],
   "source": []
  },
  {
   "cell_type": "code",
   "execution_count": null,
   "id": "31190758",
   "metadata": {
    "hidden": true
   },
   "outputs": [],
   "source": []
  },
  {
   "cell_type": "markdown",
   "id": "a6626f48",
   "metadata": {
    "hidden": true
   },
   "source": [
    "----"
   ]
  },
  {
   "cell_type": "markdown",
   "id": "b7235712",
   "metadata": {
    "heading_collapsed": true,
    "hidden": true
   },
   "source": [
    "#### Get rid of redundant columns"
   ]
  },
  {
   "cell_type": "code",
   "execution_count": null,
   "id": "be6f5a22",
   "metadata": {
    "ExecuteTime": {
     "end_time": "2022-10-23T15:16:07.170620Z",
     "start_time": "2022-10-23T15:16:07.155632Z"
    },
    "hidden": true
   },
   "outputs": [],
   "source": [
    "# right_result_df.columns"
   ]
  },
  {
   "cell_type": "code",
   "execution_count": null,
   "id": "9434428b",
   "metadata": {
    "ExecuteTime": {
     "end_time": "2022-10-23T15:16:07.186578Z",
     "start_time": "2022-10-23T15:16:07.171590Z"
    },
    "hidden": true
   },
   "outputs": [],
   "source": [
    "# all(right_result_df['WhiteClock']==right_result_df['BlackClock'])"
   ]
  },
  {
   "cell_type": "code",
   "execution_count": null,
   "id": "7d618a98",
   "metadata": {
    "ExecuteTime": {
     "end_time": "2022-10-23T15:16:07.202535Z",
     "start_time": "2022-10-23T15:16:07.187547Z"
    },
    "hidden": true
   },
   "outputs": [],
   "source": [
    "# df_clean = right_result_df.drop(columns=[\n",
    "#     'Event', 'Site', 'Date', 'Round', 'White', 'Black', 'BlackClock', 'FICSGamesDBGameNo', 'Time', 'WhiteClock',\n",
    "#     'Result'\n",
    "# ])"
   ]
  },
  {
   "cell_type": "code",
   "execution_count": null,
   "id": "81c2ec03",
   "metadata": {
    "ExecuteTime": {
     "end_time": "2022-10-23T15:16:07.218492Z",
     "start_time": "2022-10-23T15:16:07.203505Z"
    },
    "hidden": true
   },
   "outputs": [],
   "source": [
    "# df_clean"
   ]
  },
  {
   "cell_type": "code",
   "execution_count": null,
   "id": "525035a1",
   "metadata": {
    "hidden": true
   },
   "outputs": [],
   "source": []
  },
  {
   "cell_type": "markdown",
   "id": "f08dec87",
   "metadata": {
    "hidden": true
   },
   "source": [
    "------"
   ]
  },
  {
   "cell_type": "markdown",
   "id": "d30918e4",
   "metadata": {
    "heading_collapsed": true,
    "hidden": true
   },
   "source": [
    "#### Function to 'clean' any pickle"
   ]
  },
  {
   "cell_type": "markdown",
   "id": "dc6a1f22",
   "metadata": {
    "hidden": true
   },
   "source": [
    "For now, some columns (and row values) remain for initial modelling."
   ]
  },
  {
   "cell_type": "code",
   "execution_count": null,
   "id": "7f6547f9",
   "metadata": {
    "ExecuteTime": {
     "end_time": "2022-10-23T15:16:07.234449Z",
     "start_time": "2022-10-23T15:16:07.220459Z"
    },
    "hidden": true
   },
   "outputs": [],
   "source": [
    "# def clean_pickle(pickle_df):\n",
    "#     hp.chess_checker_function(pickle_df)\n",
    "#     temp_ = hp.change_comp_columns(pickle_df)\n",
    "#     hp.chess_nan_checker(temp_)\n",
    "#     # Computer wins as white \n",
    "#     comp_w_w = ((temp_['Result']=='1-0')&(temp_['WhiteIsComp']==1))\n",
    "#     # Computer wins as black\n",
    "#     comp_b_w = ((temp_['Result']=='0-1')&(temp_['BlackIsComp']==1))\n",
    "#     temp_ = temp_[\n",
    "#         ((temp_['Result']=='1-0')&(temp_['WhiteIsComp']==1))|\n",
    "#         ((temp_['Result']=='0-1')&(temp_['BlackIsComp']==1))]\n",
    "    \n",
    "    \n",
    "#     col_to_drop = [\n",
    "#         'Event', 'Site', 'Date', 'Round', 'White', 'Black', 'BlackClock', 'FICSGamesDBGameNo', 'Time', 'WhiteClock',\n",
    "#         'Result'\n",
    "#         ]\n",
    "    \n",
    "#     temp_ = temp_.drop(columns=col_to_drop)\n",
    "#     print(f'Dropped columns: {col_to_drop}')\n",
    "#     return temp_"
   ]
  },
  {
   "cell_type": "code",
   "execution_count": null,
   "id": "162a6cd5",
   "metadata": {
    "ExecuteTime": {
     "end_time": "2022-10-23T15:16:07.250407Z",
     "start_time": "2022-10-23T15:16:07.235419Z"
    },
    "hidden": true
   },
   "outputs": [],
   "source": [
    "# def clean_pickles(list_of_pickle_df):\n",
    "#     list_of_cleaned_pickle_df = []\n",
    "#     for pickle_df in list_of_pickle_df:\n",
    "#         list_of_cleaned_pickle_df.append(clean_pickle(pickle_df))\n",
    "        \n",
    "#     return list_of_cleaned_pickle_df"
   ]
  },
  {
   "cell_type": "code",
   "execution_count": null,
   "id": "dab7488b",
   "metadata": {
    "ExecuteTime": {
     "end_time": "2022-10-23T15:16:07.266336Z",
     "start_time": "2022-10-23T15:16:07.251377Z"
    },
    "hidden": true
   },
   "outputs": [],
   "source": [
    "# raw_2021 = joblib.load('./data/2021_CvH.pkl')"
   ]
  },
  {
   "cell_type": "code",
   "execution_count": null,
   "id": "be3f025b",
   "metadata": {
    "ExecuteTime": {
     "end_time": "2022-10-23T15:16:07.282293Z",
     "start_time": "2022-10-23T15:16:07.267334Z"
    },
    "hidden": true
   },
   "outputs": [],
   "source": [
    "# raw_2020 = joblib.load('./data/2020_CvH.pkl')"
   ]
  },
  {
   "cell_type": "code",
   "execution_count": null,
   "id": "f6658df3",
   "metadata": {
    "ExecuteTime": {
     "end_time": "2022-10-23T15:16:07.297254Z",
     "start_time": "2022-10-23T15:16:07.283291Z"
    },
    "hidden": true
   },
   "outputs": [],
   "source": [
    "# cleaned_2021 = clean_pickle(raw_2021)"
   ]
  },
  {
   "cell_type": "code",
   "execution_count": null,
   "id": "9b904923",
   "metadata": {
    "ExecuteTime": {
     "end_time": "2022-10-23T15:16:07.313211Z",
     "start_time": "2022-10-23T15:16:07.298251Z"
    },
    "hidden": true
   },
   "outputs": [],
   "source": [
    "# raw_p = [raw_2021, raw_2020]"
   ]
  },
  {
   "cell_type": "code",
   "execution_count": null,
   "id": "afd45aee",
   "metadata": {
    "ExecuteTime": {
     "end_time": "2022-10-23T15:16:07.329169Z",
     "start_time": "2022-10-23T15:16:07.314208Z"
    },
    "hidden": true
   },
   "outputs": [],
   "source": [
    "# list_cleaned_p = clean_pickles(raw_p)"
   ]
  },
  {
   "cell_type": "code",
   "execution_count": null,
   "id": "a137f9ea",
   "metadata": {
    "ExecuteTime": {
     "end_time": "2022-10-23T15:16:07.345126Z",
     "start_time": "2022-10-23T15:16:07.330166Z"
    },
    "hidden": true
   },
   "outputs": [],
   "source": [
    "# type(list_cleaned_p)"
   ]
  },
  {
   "cell_type": "code",
   "execution_count": null,
   "id": "82ccc920",
   "metadata": {
    "ExecuteTime": {
     "end_time": "2022-10-23T15:16:07.361110Z",
     "start_time": "2022-10-23T15:16:07.346123Z"
    },
    "hidden": true
   },
   "outputs": [],
   "source": [
    "# display(list_cleaned_p[0].head(2))\n",
    "# display(list_cleaned_p[0].shape)"
   ]
  },
  {
   "cell_type": "code",
   "execution_count": null,
   "id": "42924168",
   "metadata": {
    "ExecuteTime": {
     "end_time": "2022-10-23T15:16:07.377068Z",
     "start_time": "2022-10-23T15:16:07.362080Z"
    },
    "hidden": true
   },
   "outputs": [],
   "source": [
    "# display(list_cleaned_p[1].head(2))\n",
    "# display(list_cleaned_p[1].shape)"
   ]
  },
  {
   "cell_type": "code",
   "execution_count": null,
   "id": "f5e05afb",
   "metadata": {
    "ExecuteTime": {
     "end_time": "2022-10-23T15:16:07.393030Z",
     "start_time": "2022-10-23T15:16:07.378038Z"
    },
    "hidden": true
   },
   "outputs": [],
   "source": [
    "# list_cleaned_p[0].shape[0]+list_cleaned_p[1].shape[0]"
   ]
  },
  {
   "cell_type": "code",
   "execution_count": null,
   "id": "c4ea5438",
   "metadata": {
    "ExecuteTime": {
     "end_time": "2022-10-23T15:16:07.408956Z",
     "start_time": "2022-10-23T15:16:07.393995Z"
    },
    "hidden": true
   },
   "outputs": [],
   "source": [
    "# pd.concat(list_cleaned_p).shape"
   ]
  },
  {
   "cell_type": "code",
   "execution_count": null,
   "id": "128f679e",
   "metadata": {
    "ExecuteTime": {
     "end_time": "2022-10-23T15:16:07.424940Z",
     "start_time": "2022-10-23T15:16:07.409952Z"
    },
    "hidden": true
   },
   "outputs": [],
   "source": [
    "# list_cleaned_p[0].shape[0]+list_cleaned_p[1].shape[0]==pd.concat(list_cleaned_p).shape[0]"
   ]
  },
  {
   "cell_type": "code",
   "execution_count": null,
   "id": "71dea156",
   "metadata": {
    "hidden": true
   },
   "outputs": [],
   "source": []
  },
  {
   "cell_type": "markdown",
   "id": "d032a860",
   "metadata": {
    "hidden": true
   },
   "source": [
    "-----"
   ]
  },
  {
   "cell_type": "markdown",
   "id": "977e2b1a",
   "metadata": {
    "heading_collapsed": true
   },
   "source": [
    "## First Pass Modelling"
   ]
  },
  {
   "cell_type": "markdown",
   "id": "f3d0dec9",
   "metadata": {
    "heading_collapsed": true,
    "hidden": true
   },
   "source": [
    "### Load and functional cleaning"
   ]
  },
  {
   "cell_type": "code",
   "execution_count": null,
   "id": "4d9bcf46",
   "metadata": {
    "ExecuteTime": {
     "end_time": "2022-10-24T15:15:16.748577Z",
     "start_time": "2022-10-24T15:15:08.187018Z"
    },
    "hidden": true
   },
   "outputs": [],
   "source": [
    "# # on vostro laptop\n",
    "# raw_pickle_list = [joblib.load(f'C:/Users/MaNiL/Desktop/data/capstone/raw/pickles/{year}_CvH.pkl') for \\\n",
    "#          year in np.arange(2022, 2017, -1)] # load the pickles from 2022 to 2018 inclusive"
   ]
  },
  {
   "cell_type": "code",
   "execution_count": null,
   "id": "b452e30a",
   "metadata": {
    "ExecuteTime": {
     "end_time": "2022-10-23T15:16:07.456854Z",
     "start_time": "2022-10-23T15:16:07.441867Z"
    },
    "hidden": true
   },
   "outputs": [],
   "source": [
    "# # on Muninn\n",
    "# raw_pickle_list = [joblib.load(f'C:/Users/Emanuel/Desktop/data/capstone/raw/{year}_CvH.pkl') for \\\n",
    "#          year in np.arange(2022, 2017, -1)] # load the pickles from 2022 to 2018 inclusive"
   ]
  },
  {
   "cell_type": "code",
   "execution_count": null,
   "id": "dd14ae6b",
   "metadata": {
    "ExecuteTime": {
     "end_time": "2022-10-23T15:16:07.471815Z",
     "start_time": "2022-10-23T15:16:07.457825Z"
    },
    "hidden": true
   },
   "outputs": [],
   "source": [
    "# # using cloud-available data (currently only 2021 and 2020)\n",
    "# raw_pickle_list = [joblib.load(f'./data/{year}_CvH.pkl') for \\\n",
    "#          year in np.arange(2021, 2019, -1)] # load the pickles from 2022 to 2018 inclusive"
   ]
  },
  {
   "cell_type": "markdown",
   "id": "869b9935",
   "metadata": {
    "hidden": true
   },
   "source": [
    "Shape sanity check:"
   ]
  },
  {
   "cell_type": "code",
   "execution_count": null,
   "id": "1908d5c2",
   "metadata": {
    "ExecuteTime": {
     "end_time": "2022-10-24T15:15:16.986097Z",
     "start_time": "2022-10-24T15:15:16.750577Z"
    },
    "hidden": true
   },
   "outputs": [],
   "source": [
    "# sum([df_.shape[0] for df_ in raw_pickle_list])==pd.concat(raw_pickle_list).shape[0]"
   ]
  },
  {
   "cell_type": "code",
   "execution_count": null,
   "id": "153b2763",
   "metadata": {
    "ExecuteTime": {
     "end_time": "2022-10-24T15:16:49.868237Z",
     "start_time": "2022-10-24T15:16:49.862251Z"
    },
    "hidden": true
   },
   "outputs": [],
   "source": [
    "# big_df = hp.concatenate_cleaned_pickles(raw_pickle_list)\n",
    "\n",
    "\n",
    "# # Shape pre-drop: (198779, 13)\n",
    "# # Dropping duplicates...\n",
    "# # Shape post-drop: (198521, 13)\n",
    "# #  Duplicates dropped: 258"
   ]
  },
  {
   "cell_type": "code",
   "execution_count": null,
   "id": "362c3397",
   "metadata": {
    "hidden": true
   },
   "outputs": [],
   "source": []
  },
  {
   "cell_type": "code",
   "execution_count": null,
   "id": "3d26ec24",
   "metadata": {
    "ExecuteTime": {
     "end_time": "2022-10-23T15:16:07.519687Z",
     "start_time": "2022-10-23T15:16:07.504699Z"
    },
    "hidden": true
   },
   "outputs": [],
   "source": [
    "# on Muninn\n",
    "# joblib.dump(big_df, 'C:/Users/Emanuel/Desktop/data/capstone/preprocessed/2022_2018_CvH.pkl', compress=7)\n",
    "\n",
    "# big_df = joblib.load('C:/Users/Emanuel/Desktop/data/capstone/preprocessed/2022_2018_CvH.pkl')"
   ]
  },
  {
   "cell_type": "code",
   "execution_count": null,
   "id": "e29335d1",
   "metadata": {
    "ExecuteTime": {
     "end_time": "2022-10-23T20:09:41.653876Z",
     "start_time": "2022-10-23T20:09:35.853670Z"
    },
    "hidden": true
   },
   "outputs": [],
   "source": [
    "# on cloud\n",
    "big_df = joblib.load('./data/preprocessed/2022_2018_CvH.pkl')"
   ]
  },
  {
   "cell_type": "code",
   "execution_count": null,
   "id": "dc6f0c2c",
   "metadata": {
    "hidden": true
   },
   "outputs": [],
   "source": []
  },
  {
   "cell_type": "code",
   "execution_count": null,
   "id": "bd802aaf",
   "metadata": {
    "ExecuteTime": {
     "end_time": "2022-10-24T15:17:09.709193Z",
     "start_time": "2022-10-24T15:17:08.611369Z"
    },
    "hidden": true
   },
   "outputs": [],
   "source": [
    "X, y = hp.X_y_split_simple(big_df)\n",
    "\n",
    "y = hp.y_convert_to_ints(y)"
   ]
  },
  {
   "cell_type": "markdown",
   "id": "6f6f9b53",
   "metadata": {
    "hidden": true
   },
   "source": [
    "------"
   ]
  },
  {
   "cell_type": "markdown",
   "id": "176e14c0",
   "metadata": {
    "heading_collapsed": true,
    "hidden": true
   },
   "source": [
    "### Base Models (no cross-validation)"
   ]
  },
  {
   "cell_type": "markdown",
   "id": "b35439e1",
   "metadata": {
    "heading_collapsed": true,
    "hidden": true
   },
   "source": [
    "#### Further cleaning (no 'emt' or 'moves')"
   ]
  },
  {
   "cell_type": "code",
   "execution_count": null,
   "id": "f725a812",
   "metadata": {
    "ExecuteTime": {
     "end_time": "2022-10-23T20:10:29.689642Z",
     "start_time": "2022-10-23T20:10:29.655535Z"
    },
    "hidden": true
   },
   "outputs": [],
   "source": [
    "y.head()"
   ]
  },
  {
   "cell_type": "code",
   "execution_count": null,
   "id": "d5e83833",
   "metadata": {
    "ExecuteTime": {
     "end_time": "2022-10-23T20:10:31.233970Z",
     "start_time": "2022-10-23T20:10:30.296493Z"
    },
    "hidden": true
   },
   "outputs": [],
   "source": [
    "y.value_counts(normalize=True)*100\n",
    "\n",
    "# WhiteIsComp_BlackIsComp_NoComp\n",
    "# 1                                 50.196201\n",
    "# 0                                 49.803799"
   ]
  },
  {
   "cell_type": "code",
   "execution_count": null,
   "id": "704ef33e",
   "metadata": {
    "ExecuteTime": {
     "end_time": "2022-10-23T20:10:31.249048Z",
     "start_time": "2022-10-23T20:10:31.236892Z"
    },
    "hidden": true
   },
   "outputs": [],
   "source": [
    "y.value_counts();\n",
    "\n",
    "# WhiteIsComp_BlackIsComp_NoComp\n",
    "# 1                              99650\n",
    "# 0                              98871"
   ]
  },
  {
   "cell_type": "markdown",
   "id": "e74f72b8",
   "metadata": {
    "hidden": true
   },
   "source": [
    "Knowing the distribution of the target is important when considering model performance."
   ]
  },
  {
   "cell_type": "code",
   "execution_count": null,
   "id": "731c7a46",
   "metadata": {
    "ExecuteTime": {
     "end_time": "2022-10-23T20:10:32.940685Z",
     "start_time": "2022-10-23T20:10:32.916655Z"
    },
    "hidden": true
   },
   "outputs": [],
   "source": [
    "X.head(2)"
   ]
  },
  {
   "cell_type": "code",
   "execution_count": null,
   "id": "446455d9",
   "metadata": {
    "ExecuteTime": {
     "end_time": "2022-10-23T20:10:33.068560Z",
     "start_time": "2022-10-23T20:10:33.063560Z"
    },
    "hidden": true
   },
   "outputs": [],
   "source": [
    "X.shape # (198779, 10)"
   ]
  },
  {
   "cell_type": "code",
   "execution_count": null,
   "id": "b5b808a3",
   "metadata": {
    "ExecuteTime": {
     "end_time": "2022-10-23T20:10:33.256426Z",
     "start_time": "2022-10-23T20:10:33.236421Z"
    },
    "hidden": true
   },
   "outputs": [],
   "source": [
    "unique_openings = X.ECO.unique()\n",
    "len(unique_openings) # 494"
   ]
  },
  {
   "cell_type": "markdown",
   "id": "d26589e6",
   "metadata": {
    "hidden": true
   },
   "source": [
    "Openings (ECO) will be one hot encoded. "
   ]
  },
  {
   "cell_type": "markdown",
   "id": "92af38f6",
   "metadata": {
    "hidden": true
   },
   "source": [
    "Removing emt and moves for now but feature engineering can be done to them in future (after base models). "
   ]
  },
  {
   "cell_type": "code",
   "execution_count": null,
   "id": "57cf0269",
   "metadata": {
    "ExecuteTime": {
     "end_time": "2022-10-24T15:18:23.406002Z",
     "start_time": "2022-10-24T15:18:23.391001Z"
    },
    "hidden": true
   },
   "outputs": [],
   "source": [
    "X_ = X.drop(columns=['emt', 'moves'])"
   ]
  },
  {
   "cell_type": "code",
   "execution_count": null,
   "id": "8a06c35d",
   "metadata": {
    "ExecuteTime": {
     "end_time": "2022-10-24T15:18:23.843596Z",
     "start_time": "2022-10-24T15:18:23.823588Z"
    },
    "hidden": true
   },
   "outputs": [],
   "source": [
    "X_.head()"
   ]
  },
  {
   "cell_type": "markdown",
   "id": "5c549e3d",
   "metadata": {
    "hidden": true
   },
   "source": [
    "-----"
   ]
  },
  {
   "cell_type": "markdown",
   "id": "6bf5d8cb",
   "metadata": {
    "heading_collapsed": true,
    "hidden": true
   },
   "source": [
    "#### Test Train Split"
   ]
  },
  {
   "cell_type": "code",
   "execution_count": null,
   "id": "53f82baf",
   "metadata": {
    "ExecuteTime": {
     "end_time": "2022-10-23T20:10:36.020347Z",
     "start_time": "2022-10-23T20:10:36.002347Z"
    },
    "hidden": true
   },
   "outputs": [],
   "source": [
    "y"
   ]
  },
  {
   "cell_type": "code",
   "execution_count": null,
   "id": "a28441d0",
   "metadata": {
    "ExecuteTime": {
     "end_time": "2022-10-24T15:18:32.425377Z",
     "start_time": "2022-10-24T15:18:32.039780Z"
    },
    "hidden": true
   },
   "outputs": [],
   "source": [
    "X_train, X_test, y_train, y_test = train_test_split(X_, y, test_size=0.2, random_state=22,\n",
    "                                                                     stratify=y)"
   ]
  },
  {
   "cell_type": "code",
   "execution_count": null,
   "id": "166aea35",
   "metadata": {
    "ExecuteTime": {
     "end_time": "2022-10-23T20:10:37.536159Z",
     "start_time": "2022-10-23T20:10:37.522195Z"
    },
    "hidden": true
   },
   "outputs": [],
   "source": [
    "# X_remainder, X_test, y_remainder, y_test = train_test_split(X_, y, test_size=0.2, random_state=22,\n",
    "#                                                                      stratify=y)\n",
    "\n",
    "# X_train, X_validation, y_train, y_validation = train_test_split(X_remainder, y_remainder, train_size=0.7,\n",
    "#                                                                random_state=22, stratify=y_remainder)"
   ]
  },
  {
   "cell_type": "code",
   "execution_count": null,
   "id": "dda832f6",
   "metadata": {
    "ExecuteTime": {
     "end_time": "2022-10-23T20:10:37.550961Z",
     "start_time": "2022-10-23T20:10:37.537964Z"
    },
    "hidden": true
   },
   "outputs": [],
   "source": [
    "# validation is 30%"
   ]
  },
  {
   "cell_type": "markdown",
   "id": "9ff5eeef",
   "metadata": {
    "hidden": true
   },
   "source": [
    "------"
   ]
  },
  {
   "cell_type": "markdown",
   "id": "f8894c33",
   "metadata": {
    "heading_collapsed": true,
    "hidden": true
   },
   "source": [
    "#### OHE ECO"
   ]
  },
  {
   "cell_type": "code",
   "execution_count": null,
   "id": "ed9af5a8",
   "metadata": {
    "ExecuteTime": {
     "end_time": "2022-10-24T15:18:42.887303Z",
     "start_time": "2022-10-24T15:18:42.882302Z"
    },
    "hidden": true
   },
   "outputs": [],
   "source": [
    "ohe = OneHotEncoder(sparse=False, dtype=np.int8(), handle_unknown='ignore')"
   ]
  },
  {
   "cell_type": "code",
   "execution_count": null,
   "id": "64b5aa7c",
   "metadata": {
    "ExecuteTime": {
     "end_time": "2022-10-23T20:10:38.918099Z",
     "start_time": "2022-10-23T20:10:38.900996Z"
    },
    "hidden": true
   },
   "outputs": [],
   "source": [
    "# ohe.fit(X_train[['ECO']])\n",
    "# X_train_ECO_ohe = ohe.transform(X_train[['ECO']])"
   ]
  },
  {
   "cell_type": "code",
   "execution_count": null,
   "id": "a804b6d6",
   "metadata": {
    "ExecuteTime": {
     "end_time": "2022-10-23T20:10:39.150857Z",
     "start_time": "2022-10-23T20:10:39.135805Z"
    },
    "hidden": true
   },
   "outputs": [],
   "source": [
    "# X_test_ECO_ohe = ohe.transform(X_test[['ECO']])"
   ]
  },
  {
   "cell_type": "code",
   "execution_count": null,
   "id": "6b2f37a1",
   "metadata": {
    "ExecuteTime": {
     "end_time": "2022-10-23T20:10:39.368670Z",
     "start_time": "2022-10-23T20:10:39.355670Z"
    },
    "hidden": true
   },
   "outputs": [],
   "source": [
    "# X_train_ECO_ohe.shape # (55151, 477)"
   ]
  },
  {
   "cell_type": "code",
   "execution_count": null,
   "id": "d97f1a25",
   "metadata": {
    "ExecuteTime": {
     "end_time": "2022-10-23T20:10:39.618250Z",
     "start_time": "2022-10-23T20:10:39.609243Z"
    },
    "hidden": true
   },
   "outputs": [],
   "source": [
    "# ohe.get_feature_names_out()[0:10]"
   ]
  },
  {
   "cell_type": "code",
   "execution_count": null,
   "id": "9afc9503",
   "metadata": {
    "ExecuteTime": {
     "end_time": "2022-10-23T20:10:39.900230Z",
     "start_time": "2022-10-23T20:10:39.883234Z"
    },
    "hidden": true
   },
   "outputs": [],
   "source": [
    "# pd.DataFrame(X_train_ECO_ohe, columns=ohe.get_feature_names_out()).head()"
   ]
  },
  {
   "cell_type": "code",
   "execution_count": null,
   "id": "20f662cd",
   "metadata": {
    "ExecuteTime": {
     "end_time": "2022-10-23T20:10:40.103963Z",
     "start_time": "2022-10-23T20:10:40.099995Z"
    },
    "hidden": true
   },
   "outputs": [],
   "source": [
    "# X_train[['ECO']].head()"
   ]
  },
  {
   "cell_type": "code",
   "execution_count": null,
   "id": "f1de584c",
   "metadata": {
    "ExecuteTime": {
     "end_time": "2022-10-23T20:10:40.585175Z",
     "start_time": "2022-10-23T20:10:40.578169Z"
    },
    "hidden": true
   },
   "outputs": [],
   "source": [
    "# X_train_ = pd.merge(\n",
    "#     left=X_train.drop(columns=['ECO']).reset_index(drop=True),\n",
    "#     right=pd.DataFrame(X_train_ECO_ohe, columns=ohe.get_feature_names_out()),\n",
    "#     how='left',\n",
    "#     left_index=True,\n",
    "#     right_index=True)\n",
    "# # X_train_.head()"
   ]
  },
  {
   "cell_type": "code",
   "execution_count": null,
   "id": "24274c85",
   "metadata": {
    "ExecuteTime": {
     "end_time": "2022-10-24T15:18:45.345673Z",
     "start_time": "2022-10-24T15:18:45.068576Z"
    },
    "hidden": true
   },
   "outputs": [],
   "source": [
    "X_train_ = pd.merge(\n",
    "    left=X_train.drop(columns=['ECO']).reset_index(drop=True),\n",
    "    right=pd.DataFrame(ohe.fit_transform(X_train[['ECO']]), columns=ohe.get_feature_names_out()),\n",
    "    how='left',\n",
    "    left_index=True,\n",
    "    right_index=True)"
   ]
  },
  {
   "cell_type": "code",
   "execution_count": null,
   "id": "4cba568e",
   "metadata": {
    "ExecuteTime": {
     "end_time": "2022-10-24T15:18:45.877251Z",
     "start_time": "2022-10-24T15:18:45.851251Z"
    },
    "hidden": true
   },
   "outputs": [],
   "source": [
    "X_train_.head()"
   ]
  },
  {
   "cell_type": "code",
   "execution_count": null,
   "id": "fd065f4c",
   "metadata": {
    "ExecuteTime": {
     "end_time": "2022-10-23T20:19:20.657800Z",
     "start_time": "2022-10-23T20:19:20.573688Z"
    },
    "hidden": true
   },
   "outputs": [],
   "source": [
    "X_test_ = pd.merge(\n",
    "    left=X_test.drop(columns=['ECO']).reset_index(drop=True),\n",
    "    right=pd.DataFrame(ohe.transform(X_test[['ECO']]), columns=ohe.get_feature_names_out()),\n",
    "    how='left',\n",
    "    left_index=True,\n",
    "    right_index=True)"
   ]
  },
  {
   "cell_type": "code",
   "execution_count": null,
   "id": "4eb9f700",
   "metadata": {
    "ExecuteTime": {
     "end_time": "2022-10-23T20:19:21.296760Z",
     "start_time": "2022-10-23T20:19:21.269766Z"
    },
    "hidden": true
   },
   "outputs": [],
   "source": [
    "X_test_.head() # 5 rows × 499 columns"
   ]
  },
  {
   "cell_type": "markdown",
   "id": "59a98550",
   "metadata": {
    "hidden": true
   },
   "source": [
    "-----"
   ]
  },
  {
   "cell_type": "markdown",
   "id": "c90a21cf",
   "metadata": {
    "heading_collapsed": true,
    "hidden": true
   },
   "source": [
    "#### Scaling"
   ]
  },
  {
   "cell_type": "code",
   "execution_count": null,
   "id": "6bd2a19b",
   "metadata": {
    "ExecuteTime": {
     "end_time": "2022-10-23T20:19:23.912906Z",
     "start_time": "2022-10-23T20:19:23.897910Z"
    },
    "hidden": true
   },
   "outputs": [],
   "source": [
    "stan_scal = StandardScaler()"
   ]
  },
  {
   "cell_type": "code",
   "execution_count": null,
   "id": "f4f5a79b",
   "metadata": {
    "ExecuteTime": {
     "end_time": "2022-10-23T20:19:24.289685Z",
     "start_time": "2022-10-23T20:19:24.180259Z"
    },
    "hidden": true
   },
   "outputs": [],
   "source": [
    "X_train_scaled=X_train_.copy()\n",
    "\n",
    "X_train_scaled[['BlackElo', 'BlackRD',\n",
    "                'PlyCount', 'WhiteElo',\n",
    "                'WhiteRD', 'TimeControl_Base', 'TimeControl_Inc']] = stan_scal.fit_transform(X_train_[[\n",
    "    'BlackElo', 'BlackRD', 'PlyCount', 'WhiteElo', 'WhiteRD', 'TimeControl_Base', 'TimeControl_Inc']])\n",
    "\n",
    "X_test_scaled=X_test_.copy()\n",
    "\n",
    "X_test_scaled[['BlackElo', 'BlackRD',\n",
    "                'PlyCount', 'WhiteElo',\n",
    "                'WhiteRD', 'TimeControl_Base', 'TimeControl_Inc']] = stan_scal.transform(X_test_[[\n",
    "    'BlackElo', 'BlackRD', 'PlyCount', 'WhiteElo', 'WhiteRD', 'TimeControl_Base', 'TimeControl_Inc']])\n",
    "\n"
   ]
  },
  {
   "cell_type": "code",
   "execution_count": null,
   "id": "ce1d8efd",
   "metadata": {
    "ExecuteTime": {
     "end_time": "2022-10-23T20:19:24.817467Z",
     "start_time": "2022-10-23T20:19:24.785393Z"
    },
    "hidden": true
   },
   "outputs": [],
   "source": [
    "display(X_train_scaled.head()) # 5 rows × 499 columns\n",
    "display(X_test_scaled.head()) # 5 rows × 499 columns"
   ]
  },
  {
   "cell_type": "code",
   "execution_count": null,
   "id": "aafc02fb",
   "metadata": {
    "hidden": true
   },
   "outputs": [],
   "source": []
  },
  {
   "cell_type": "markdown",
   "id": "070dcb37",
   "metadata": {
    "hidden": true
   },
   "source": [
    "-----"
   ]
  },
  {
   "cell_type": "markdown",
   "id": "e92e4b74",
   "metadata": {
    "heading_collapsed": true,
    "hidden": true
   },
   "source": [
    "#### Logistic Regression"
   ]
  },
  {
   "cell_type": "code",
   "execution_count": null,
   "id": "6d58b1db",
   "metadata": {
    "ExecuteTime": {
     "end_time": "2022-10-23T15:19:38.106514Z",
     "start_time": "2022-10-23T15:19:38.099539Z"
    },
    "hidden": true
   },
   "outputs": [],
   "source": [
    "# logreg = LogisticRegression(penalty='l2', max_iter=10000,\n",
    "#                            solver='lbfgs', C=1.0) # default settings"
   ]
  },
  {
   "cell_type": "code",
   "execution_count": null,
   "id": "2d80e924",
   "metadata": {
    "ExecuteTime": {
     "end_time": "2022-10-23T15:19:38.778138Z",
     "start_time": "2022-10-23T15:19:38.759161Z"
    },
    "hidden": true
   },
   "outputs": [],
   "source": [
    "# y_train.values.shape"
   ]
  },
  {
   "cell_type": "code",
   "execution_count": null,
   "id": "dad97357",
   "metadata": {
    "ExecuteTime": {
     "end_time": "2022-10-23T15:20:08.094754Z",
     "start_time": "2022-10-23T15:19:53.188411Z"
    },
    "hidden": true
   },
   "outputs": [],
   "source": [
    "# np.reshape(y_train.values, (-1,)).shape # (159023,)\n",
    "\n",
    "# logreg.fit(X_train_scaled, np.reshape(y_train.values, (-1,)))\n",
    "\n",
    "# joblib.dump(logreg, 'C:/Users/Emanuel/Desktop/data/capstone/pickles/first_logreg.pkl', compress=7)"
   ]
  },
  {
   "cell_type": "code",
   "execution_count": null,
   "id": "6307c8e2",
   "metadata": {
    "ExecuteTime": {
     "end_time": "2022-10-23T15:20:38.896462Z",
     "start_time": "2022-10-23T15:20:38.880505Z"
    },
    "hidden": true
   },
   "outputs": [],
   "source": [
    "logreg = joblib.load('./models/first_pass/first_logreg.pkl')"
   ]
  },
  {
   "cell_type": "code",
   "execution_count": null,
   "id": "f31c5503",
   "metadata": {
    "ExecuteTime": {
     "end_time": "2022-10-23T15:20:41.158550Z",
     "start_time": "2022-10-23T15:20:41.148542Z"
    },
    "hidden": true
   },
   "outputs": [],
   "source": [
    "# display(y_train.head())\n",
    "# display(y_test.head())"
   ]
  },
  {
   "cell_type": "code",
   "execution_count": null,
   "id": "78d68a88",
   "metadata": {
    "ExecuteTime": {
     "end_time": "2022-10-23T15:20:42.790573Z",
     "start_time": "2022-10-23T15:20:42.778578Z"
    },
    "hidden": true
   },
   "outputs": [],
   "source": [
    "y_train_ = np.reshape(y_train.values, (-1,))\n",
    "y_test_ = np.reshape(y_test.values, (-1,))"
   ]
  },
  {
   "cell_type": "code",
   "execution_count": null,
   "id": "3629ec28",
   "metadata": {
    "ExecuteTime": {
     "end_time": "2022-10-23T15:20:43.539568Z",
     "start_time": "2022-10-23T15:20:43.522582Z"
    },
    "hidden": true
   },
   "outputs": [],
   "source": [
    "y_train_.shape"
   ]
  },
  {
   "cell_type": "code",
   "execution_count": null,
   "id": "52e6041a",
   "metadata": {
    "ExecuteTime": {
     "end_time": "2022-10-23T15:23:04.234590Z",
     "start_time": "2022-10-23T15:23:04.222663Z"
    },
    "hidden": true
   },
   "outputs": [],
   "source": [
    "# print(f'The accuracy score on the training data is: {logreg.score(X_train_scaled, y_train_)}')\n",
    "# print(f'The accuracy score on the testing data is: {logreg.score(X_test_scaled, y_test_)}')"
   ]
  },
  {
   "cell_type": "code",
   "execution_count": null,
   "id": "4f99ce21",
   "metadata": {
    "ExecuteTime": {
     "end_time": "2022-10-23T15:20:53.921400Z",
     "start_time": "2022-10-23T15:20:53.904445Z"
    },
    "hidden": true
   },
   "outputs": [],
   "source": [
    "# plot_confusion_matrix(logreg, X_test_scaled, y_test_)\n",
    "\n",
    "# logreg_y_pred = logreg.predict(X_test_scaled)\n",
    "# print(classification_report(y_test_, logreg_y_pred))"
   ]
  },
  {
   "cell_type": "code",
   "execution_count": null,
   "id": "78c31e93",
   "metadata": {
    "ExecuteTime": {
     "end_time": "2022-10-23T15:20:56.083257Z",
     "start_time": "2022-10-23T15:20:56.079268Z"
    },
    "hidden": true
   },
   "outputs": [],
   "source": [
    "# logreg_results = pd.DataFrame(\n",
    "#     classification_report(\n",
    "#         y_test_, logreg_y_pred, output_dict=True)).loc[\n",
    "#     ['precision', 'recall', 'f1-score'],\n",
    "#     ['0', '1', 'accuracy']]"
   ]
  },
  {
   "cell_type": "code",
   "execution_count": null,
   "id": "07c51871",
   "metadata": {
    "ExecuteTime": {
     "end_time": "2022-10-23T15:20:56.752260Z",
     "start_time": "2022-10-23T15:20:56.738289Z"
    },
    "hidden": true
   },
   "outputs": [],
   "source": [
    "# log_reg_coefficients = pd.DataFrame(\n",
    "#     data=logreg.coef_, columns=logreg.feature_names_in_)\n",
    "# log_reg_coefficients.T.sort_values(by=0, ascending=False)"
   ]
  },
  {
   "cell_type": "code",
   "execution_count": null,
   "id": "a3a6248c",
   "metadata": {
    "ExecuteTime": {
     "end_time": "2022-10-23T15:22:32.621782Z",
     "start_time": "2022-10-23T15:22:31.997452Z"
    },
    "hidden": true
   },
   "outputs": [],
   "source": [
    "logreg_report, logreg_results, logreg_coefficients = hp.class_model_eval_logreg(\n",
    "    logreg, X_train_scaled, X_test_scaled, y_train_, y_test_)"
   ]
  },
  {
   "cell_type": "code",
   "execution_count": null,
   "id": "99a1b05f",
   "metadata": {
    "ExecuteTime": {
     "end_time": "2022-10-23T15:22:47.364153Z",
     "start_time": "2022-10-23T15:22:47.341215Z"
    },
    "hidden": true
   },
   "outputs": [],
   "source": [
    "log_reg_coefficients = pd.DataFrame(\n",
    "    data=abs(logreg.coef_), columns=logreg.feature_names_in_)\n",
    "\n",
    "log_reg_coefficients.T.rename(columns={0: 'coefficient_weights'}).sort_values(\n",
    "    by='coefficient_weights', ascending=False).head(15)"
   ]
  },
  {
   "cell_type": "markdown",
   "id": "2f32361a",
   "metadata": {
    "hidden": true
   },
   "source": [
    "Should look into these openings ?"
   ]
  },
  {
   "cell_type": "markdown",
   "id": "1ef1f770",
   "metadata": {
    "hidden": true
   },
   "source": [
    "------"
   ]
  },
  {
   "cell_type": "markdown",
   "id": "47a3ae12",
   "metadata": {
    "heading_collapsed": true,
    "hidden": true
   },
   "source": [
    "#### Random Forest"
   ]
  },
  {
   "cell_type": "code",
   "execution_count": null,
   "id": "a16393b7",
   "metadata": {
    "ExecuteTime": {
     "end_time": "2022-10-23T15:23:47.633217Z",
     "start_time": "2022-10-23T15:23:47.620278Z"
    },
    "hidden": true
   },
   "outputs": [],
   "source": [
    "# random_forest = RandomForestClassifier(n_estimators=100) # default values\n",
    "# random_forest.fit(X_train_, y_train)\n",
    " "
   ]
  },
  {
   "cell_type": "code",
   "execution_count": null,
   "id": "acaa0d91",
   "metadata": {
    "ExecuteTime": {
     "end_time": "2022-10-23T15:23:47.805453Z",
     "start_time": "2022-10-23T15:23:47.795478Z"
    },
    "hidden": true
   },
   "outputs": [],
   "source": [
    "# joblib.dump(random_forest, './models/first_pass/first_randfor.pkl', compress=7)"
   ]
  },
  {
   "cell_type": "code",
   "execution_count": null,
   "id": "52189e34",
   "metadata": {
    "ExecuteTime": {
     "end_time": "2022-10-23T15:23:48.534645Z",
     "start_time": "2022-10-23T15:23:47.955422Z"
    },
    "hidden": true
   },
   "outputs": [],
   "source": [
    "random_forest = joblib.load('./models/first_pass/first_randfor.pkl')"
   ]
  },
  {
   "cell_type": "code",
   "execution_count": null,
   "id": "3bbfe6a8",
   "metadata": {
    "ExecuteTime": {
     "end_time": "2022-10-23T15:23:48.565551Z",
     "start_time": "2022-10-23T15:23:48.536612Z"
    },
    "hidden": true
   },
   "outputs": [],
   "source": [
    "X_train_"
   ]
  },
  {
   "cell_type": "code",
   "execution_count": null,
   "id": "7b912b5b",
   "metadata": {
    "ExecuteTime": {
     "end_time": "2022-10-23T15:24:28.250845Z",
     "start_time": "2022-10-23T15:23:48.566532Z"
    },
    "hidden": true
   },
   "outputs": [],
   "source": [
    "decision_tree_train_scores = []\n",
    "for sub_tree in random_forest.estimators_:\n",
    "    decision_tree_train_scores.append(sub_tree.score(X_train_, y_train))\n",
    "    \n",
    "print(\"Performance on fitted data:\")\n",
    "print(f\"Average Decision Tree: {np.mean(decision_tree_train_scores)}\")\n",
    "print(f\"Random Forest: {random_forest.score(X_train_, y_train)}\")"
   ]
  },
  {
   "cell_type": "code",
   "execution_count": null,
   "id": "7db263c2",
   "metadata": {
    "ExecuteTime": {
     "end_time": "2022-10-23T15:24:38.454388Z",
     "start_time": "2022-10-23T15:24:28.251842Z"
    },
    "hidden": true
   },
   "outputs": [],
   "source": [
    "decision_tree_test_scores = []\n",
    "for sub_tree in random_forest.estimators_:\n",
    "    decision_tree_test_scores.append(sub_tree.score(X_test_, y_test))\n",
    "\n",
    "print(\"Performance on Test data:\")\n",
    "print(f\"Average Decision Tree: {np.mean(decision_tree_test_scores)}\")\n",
    "print(f\"Random Forest: {random_forest.score(X_test_, y_test)}\")"
   ]
  },
  {
   "cell_type": "code",
   "execution_count": null,
   "id": "ae89f8a2",
   "metadata": {
    "ExecuteTime": {
     "end_time": "2022-10-23T15:24:38.486336Z",
     "start_time": "2022-10-23T15:24:38.455413Z"
    },
    "hidden": true
   },
   "outputs": [],
   "source": [
    "feature_df = pd.DataFrame(\n",
    "{\"feature_importance\": random_forest.feature_importances_},\n",
    "index=X_train_.columns)\n",
    "\n",
    "feature_df.sort_values(by='feature_importance', ascending=False).head(15)"
   ]
  },
  {
   "cell_type": "markdown",
   "id": "d261bb1a",
   "metadata": {
    "hidden": true
   },
   "source": [
    "-----"
   ]
  },
  {
   "cell_type": "markdown",
   "id": "00b40f5d",
   "metadata": {
    "heading_collapsed": true
   },
   "source": [
    "## Loading in human-only games"
   ]
  },
  {
   "cell_type": "markdown",
   "id": "3764901c",
   "metadata": {
    "heading_collapsed": true,
    "hidden": true
   },
   "source": [
    "###### Reminder of shapes:"
   ]
  },
  {
   "cell_type": "code",
   "execution_count": null,
   "id": "992b41f1",
   "metadata": {
    "ExecuteTime": {
     "end_time": "2022-10-23T15:24:38.502291Z",
     "start_time": "2022-10-23T15:24:38.487303Z"
    },
    "hidden": true
   },
   "outputs": [],
   "source": [
    "# the (non-emt&moves df shapes)\n",
    "display(X_.shape)\n",
    "display(y.value_counts())"
   ]
  },
  {
   "cell_type": "code",
   "execution_count": null,
   "id": "36fe71e5",
   "metadata": {
    "ExecuteTime": {
     "end_time": "2022-10-23T15:24:38.518220Z",
     "start_time": "2022-10-23T15:24:38.503261Z"
    },
    "hidden": true
   },
   "outputs": [],
   "source": [
    "# joblib.load('./data/2022_2018_CvH.pkl').shape # (198779, 13)"
   ]
  },
  {
   "cell_type": "markdown",
   "id": "06106846",
   "metadata": {
    "hidden": true
   },
   "source": [
    "----"
   ]
  },
  {
   "cell_type": "markdown",
   "id": "f16efe5c",
   "metadata": {
    "heading_collapsed": true,
    "hidden": true
   },
   "source": [
    "### Looking at 2021_all_ratings"
   ]
  },
  {
   "cell_type": "code",
   "execution_count": null,
   "id": "a6fd8826",
   "metadata": {
    "ExecuteTime": {
     "end_time": "2022-10-23T15:24:38.533181Z",
     "start_time": "2022-10-23T15:24:38.519218Z"
    },
    "hidden": true
   },
   "outputs": [],
   "source": [
    "# big_df = joblib.load('C:/Users/Emanuel/Desktop/data/capstone/raw/2021_all_ratings.pkl')"
   ]
  },
  {
   "cell_type": "code",
   "execution_count": null,
   "id": "cb659f1c",
   "metadata": {
    "ExecuteTime": {
     "end_time": "2022-10-23T15:24:38.549137Z",
     "start_time": "2022-10-23T15:24:38.534178Z"
    },
    "hidden": true
   },
   "outputs": [],
   "source": [
    "# display(big_df.head(1))\n",
    "# big_df.shape"
   ]
  },
  {
   "cell_type": "code",
   "execution_count": null,
   "id": "0ac77ae4",
   "metadata": {
    "ExecuteTime": {
     "end_time": "2022-10-23T15:24:38.565120Z",
     "start_time": "2022-10-23T15:24:38.550134Z"
    },
    "hidden": true
   },
   "outputs": [],
   "source": [
    "# big_df = hp.clean_pickle(big_df)"
   ]
  },
  {
   "cell_type": "code",
   "execution_count": null,
   "id": "f54501b5",
   "metadata": {
    "ExecuteTime": {
     "end_time": "2022-10-23T15:24:38.581080Z",
     "start_time": "2022-10-23T15:24:38.566093Z"
    },
    "hidden": true
   },
   "outputs": [],
   "source": [
    "# big_df.shape"
   ]
  },
  {
   "cell_type": "code",
   "execution_count": null,
   "id": "45b0fe50",
   "metadata": {
    "ExecuteTime": {
     "end_time": "2022-10-23T15:24:38.597037Z",
     "start_time": "2022-10-23T15:24:38.583047Z"
    },
    "hidden": true
   },
   "outputs": [],
   "source": [
    "# big_df.head(2)"
   ]
  },
  {
   "cell_type": "code",
   "execution_count": null,
   "id": "384bcc41",
   "metadata": {
    "ExecuteTime": {
     "end_time": "2022-10-23T15:24:38.612992Z",
     "start_time": "2022-10-23T15:24:38.598007Z"
    },
    "hidden": true
   },
   "outputs": [],
   "source": [
    "# big_df[big_df['NoComp']==0]"
   ]
  },
  {
   "cell_type": "code",
   "execution_count": null,
   "id": "34c4ff8d",
   "metadata": {
    "ExecuteTime": {
     "end_time": "2022-10-23T15:24:38.628924Z",
     "start_time": "2022-10-23T15:24:38.613964Z"
    },
    "hidden": true
   },
   "outputs": [],
   "source": [
    "# X, y = hp.X_y_split_simple(big_df)\n",
    "\n",
    "# y = hp.y_convert_to_ohe_vec(y)"
   ]
  },
  {
   "cell_type": "markdown",
   "id": "268a24fa",
   "metadata": {
    "hidden": true
   },
   "source": [
    "There are still cheaters in 2021_all_ratings. Another download will be looked at."
   ]
  },
  {
   "cell_type": "markdown",
   "id": "3c4e000e",
   "metadata": {
    "hidden": true
   },
   "source": [
    "-----"
   ]
  },
  {
   "cell_type": "markdown",
   "id": "d6129811",
   "metadata": {
    "heading_collapsed": true,
    "hidden": true
   },
   "source": [
    "### Looking at titled years"
   ]
  },
  {
   "cell_type": "markdown",
   "id": "1a74a960",
   "metadata": {
    "heading_collapsed": true,
    "hidden": true
   },
   "source": [
    "#### Loading titled years as raw_pickle_list"
   ]
  },
  {
   "cell_type": "code",
   "execution_count": null,
   "id": "f6bf9817",
   "metadata": {
    "ExecuteTime": {
     "end_time": "2022-10-24T20:17:09.414902Z",
     "start_time": "2022-10-24T20:17:04.441883Z"
    },
    "hidden": true
   },
   "outputs": [],
   "source": [
    "# # on Muninn\n",
    "# raw_pickle_list = [pd.read_json(\n",
    "#     f'C:/Users/Emanuel/Desktop/data/capstone/raw/json/Titled/ficsgamesdb_{year}_titled_movetimes_26{val}.json') \\\n",
    "#                    for year, val in zip(np.arange(2021, 2016, -1), [4827, 5091, 5092, 5093, 5094])]"
   ]
  },
  {
   "cell_type": "code",
   "execution_count": null,
   "id": "2e4e510d",
   "metadata": {
    "ExecuteTime": {
     "end_time": "2022-10-24T20:16:46.470020Z",
     "start_time": "2022-10-24T20:16:46.374248Z"
    },
    "hidden": true
   },
   "outputs": [],
   "source": [
    "# sum([df_.shape[0] for df_ in raw_pickle_list])==pd.concat(raw_pickle_list).shape[0]"
   ]
  },
  {
   "cell_type": "code",
   "execution_count": null,
   "id": "c3fe41be",
   "metadata": {
    "ExecuteTime": {
     "end_time": "2022-10-24T20:16:55.249754Z",
     "start_time": "2022-10-24T20:16:54.382969Z"
    },
    "hidden": true,
    "scrolled": true
   },
   "outputs": [],
   "source": [
    "# big_df = hp.concatenate_cleaned_pickles(raw_pickle_list)"
   ]
  },
  {
   "cell_type": "code",
   "execution_count": null,
   "id": "4ff972ee",
   "metadata": {
    "ExecuteTime": {
     "end_time": "2022-10-23T15:24:43.953837Z",
     "start_time": "2022-10-23T15:24:43.938877Z"
    },
    "hidden": true
   },
   "outputs": [],
   "source": [
    "# joblib.dump(big_df, 'C:/Users/Emanuel/Desktop/data/capstone/preprocessed/2021_2017_titled.pkl', compress=7)"
   ]
  },
  {
   "cell_type": "markdown",
   "id": "eb8f7089",
   "metadata": {
    "hidden": true
   },
   "source": [
    "----"
   ]
  },
  {
   "cell_type": "markdown",
   "id": "4567591e",
   "metadata": {
    "heading_collapsed": true,
    "hidden": true
   },
   "source": [
    "##### pickle-list-checking-years"
   ]
  },
  {
   "cell_type": "code",
   "execution_count": null,
   "id": "0817ec3e",
   "metadata": {
    "ExecuteTime": {
     "end_time": "2022-10-23T15:24:43.985780Z",
     "start_time": "2022-10-23T15:24:43.978770Z"
    },
    "hidden": true
   },
   "outputs": [],
   "source": [
    "# for i in range(len(raw_pickle_list)):\n",
    "#     print(raw_pickle_list[i].Date.iloc[-10].year)\n",
    "    "
   ]
  },
  {
   "cell_type": "code",
   "execution_count": null,
   "id": "01daa56d",
   "metadata": {
    "ExecuteTime": {
     "end_time": "2022-10-23T15:24:44.159250Z",
     "start_time": "2022-10-23T15:24:44.155264Z"
    },
    "hidden": true
   },
   "outputs": [],
   "source": [
    "# raw_pickle_list[0].columns"
   ]
  },
  {
   "cell_type": "code",
   "execution_count": null,
   "id": "a93f7e4c",
   "metadata": {
    "ExecuteTime": {
     "end_time": "2022-10-23T15:24:44.332024Z",
     "start_time": "2022-10-23T15:24:44.315067Z"
    },
    "hidden": true
   },
   "outputs": [],
   "source": [
    "# df_2020 = raw_pickle_list[1]"
   ]
  },
  {
   "cell_type": "code",
   "execution_count": null,
   "id": "711cf174",
   "metadata": {
    "ExecuteTime": {
     "end_time": "2022-10-23T15:24:44.474124Z",
     "start_time": "2022-10-23T15:24:44.462174Z"
    },
    "hidden": true
   },
   "outputs": [],
   "source": [
    "# df_2019_in_2020_data = df_2020[[row.year==2019 for row in df_2020.Date]] # 38x22\n",
    "# df_2019_in_2020_data.head(1)"
   ]
  },
  {
   "cell_type": "code",
   "execution_count": null,
   "id": "e9b06ea8",
   "metadata": {
    "ExecuteTime": {
     "end_time": "2022-10-23T15:24:44.632295Z",
     "start_time": "2022-10-23T15:24:44.629278Z"
    },
    "hidden": true
   },
   "outputs": [],
   "source": [
    "# df_2019 = raw_pickle_list[2]"
   ]
  },
  {
   "cell_type": "code",
   "execution_count": null,
   "id": "598ef824",
   "metadata": {
    "ExecuteTime": {
     "end_time": "2022-10-23T15:24:44.789995Z",
     "start_time": "2022-10-23T15:24:44.781023Z"
    },
    "hidden": true
   },
   "outputs": [],
   "source": [
    "# df_2019.tail(2)"
   ]
  },
  {
   "cell_type": "code",
   "execution_count": null,
   "id": "03043c97",
   "metadata": {
    "ExecuteTime": {
     "end_time": "2022-10-23T15:24:44.963383Z",
     "start_time": "2022-10-23T15:24:44.957371Z"
    },
    "hidden": true
   },
   "outputs": [],
   "source": [
    "# df_2019.Date.iloc[-1].year"
   ]
  },
  {
   "cell_type": "code",
   "execution_count": null,
   "id": "967f7226",
   "metadata": {
    "ExecuteTime": {
     "end_time": "2022-10-23T15:24:45.121449Z",
     "start_time": "2022-10-23T15:24:45.115465Z"
    },
    "hidden": true
   },
   "outputs": [],
   "source": [
    "# df_2018 = raw_pickle_list[2]"
   ]
  },
  {
   "cell_type": "code",
   "execution_count": null,
   "id": "0276451a",
   "metadata": {
    "ExecuteTime": {
     "end_time": "2022-10-23T15:24:45.295554Z",
     "start_time": "2022-10-23T15:24:45.286553Z"
    },
    "hidden": true
   },
   "outputs": [],
   "source": [
    "df_2017 = raw_pickle_list[-1]"
   ]
  },
  {
   "cell_type": "code",
   "execution_count": null,
   "id": "af6bcb77",
   "metadata": {
    "ExecuteTime": {
     "end_time": "2022-10-23T15:24:45.469836Z",
     "start_time": "2022-10-23T15:24:45.454877Z"
    },
    "hidden": true
   },
   "outputs": [],
   "source": [
    "df_2017['WhiteRD'].value_counts()"
   ]
  },
  {
   "cell_type": "code",
   "execution_count": null,
   "id": "72a863ce",
   "metadata": {
    "ExecuteTime": {
     "end_time": "2022-10-23T15:24:45.659299Z",
     "start_time": "2022-10-23T15:24:45.635398Z"
    },
    "hidden": true
   },
   "outputs": [],
   "source": [
    "df_2017[['BlackRD', 'WhiteRD']]"
   ]
  },
  {
   "cell_type": "code",
   "execution_count": null,
   "id": "cd8c95fe",
   "metadata": {
    "ExecuteTime": {
     "end_time": "2022-10-23T15:24:45.943279Z",
     "start_time": "2022-10-23T15:24:45.769719Z"
    },
    "hidden": true
   },
   "outputs": [],
   "source": [
    "df_2017[(df_2017['BlackRD']=='na') | (df_2017['WhiteRD']=='na')]; # 10720 rows × 22 columns\n",
    "['unrated' in row for row in df_2017[(df_2017['BlackRD']=='na') | (df_2017['WhiteRD']=='na')]['Event']];\n",
    "\n",
    "df_2017[(df_2017['BlackRD']=='na') | (df_2017['WhiteRD']=='na')][\n",
    "    ['unrated' in row for row in df_2017[(df_2017['BlackRD']=='na') | (df_2017['WhiteRD']=='na')]['Event']]\n",
    "];\n",
    "\n",
    "df_2017[['unrated' in row for row in df_2017['Event']]]\n",
    "#.describe()"
   ]
  },
  {
   "cell_type": "code",
   "execution_count": null,
   "id": "d2eb7216",
   "metadata": {
    "ExecuteTime": {
     "end_time": "2022-10-23T15:24:45.975170Z",
     "start_time": "2022-10-23T15:24:45.949239Z"
    },
    "hidden": true
   },
   "outputs": [],
   "source": [
    "(df_2017[['WhiteRD']]=='na' )"
   ]
  },
  {
   "cell_type": "code",
   "execution_count": null,
   "id": "ea7eab67",
   "metadata": {
    "hidden": true
   },
   "outputs": [],
   "source": []
  },
  {
   "cell_type": "markdown",
   "id": "ad5a39b5",
   "metadata": {
    "hidden": true
   },
   "source": [
    "-----"
   ]
  },
  {
   "cell_type": "markdown",
   "id": "123cfcb7",
   "metadata": {
    "heading_collapsed": true,
    "hidden": true
   },
   "source": [
    "#### Loading preprocessed titled pickle and functional cleaning"
   ]
  },
  {
   "cell_type": "code",
   "execution_count": null,
   "id": "8faca889",
   "metadata": {
    "ExecuteTime": {
     "end_time": "2022-10-23T20:20:24.561228Z",
     "start_time": "2022-10-23T20:20:21.716256Z"
    },
    "hidden": true
   },
   "outputs": [],
   "source": [
    "titled_df = joblib.load('./data/preprocessed/2021_2017_titled.pkl')"
   ]
  },
  {
   "cell_type": "code",
   "execution_count": null,
   "id": "6c447e8d",
   "metadata": {
    "ExecuteTime": {
     "end_time": "2022-10-23T20:20:24.577228Z",
     "start_time": "2022-10-23T20:20:24.563228Z"
    },
    "hidden": true
   },
   "outputs": [],
   "source": [
    "titled_df.head(2)"
   ]
  },
  {
   "cell_type": "code",
   "execution_count": null,
   "id": "3010adcf",
   "metadata": {
    "ExecuteTime": {
     "end_time": "2022-10-23T15:24:58.748592Z",
     "start_time": "2022-10-23T15:24:58.733631Z"
    },
    "hidden": true
   },
   "outputs": [],
   "source": [
    "titled_df.shape; # (87869, 13)"
   ]
  },
  {
   "cell_type": "code",
   "execution_count": null,
   "id": "d2c92310",
   "metadata": {
    "hidden": true
   },
   "outputs": [],
   "source": []
  },
  {
   "cell_type": "markdown",
   "id": "0047e6e7",
   "metadata": {
    "hidden": true
   },
   "source": [
    "----"
   ]
  },
  {
   "cell_type": "code",
   "execution_count": null,
   "id": "c7a151c3",
   "metadata": {
    "ExecuteTime": {
     "end_time": "2022-10-23T20:20:25.967172Z",
     "start_time": "2022-10-23T20:20:25.942171Z"
    },
    "hidden": true
   },
   "outputs": [],
   "source": [
    "X_titled, y_titled = hp.X_y_split_simple(titled_df)"
   ]
  },
  {
   "cell_type": "code",
   "execution_count": null,
   "id": "2937834d",
   "metadata": {
    "ExecuteTime": {
     "end_time": "2022-10-23T20:20:26.542463Z",
     "start_time": "2022-10-23T20:20:26.520494Z"
    },
    "hidden": true
   },
   "outputs": [],
   "source": [
    "y_titled.head(2)"
   ]
  },
  {
   "cell_type": "code",
   "execution_count": null,
   "id": "c3b67a33",
   "metadata": {
    "ExecuteTime": {
     "end_time": "2022-10-23T20:20:28.199235Z",
     "start_time": "2022-10-23T20:20:26.870224Z"
    },
    "hidden": true
   },
   "outputs": [],
   "source": [
    "y_titled = hp.y_convert_to_ints(y_titled)"
   ]
  },
  {
   "cell_type": "code",
   "execution_count": null,
   "id": "6f8e5c58",
   "metadata": {
    "ExecuteTime": {
     "end_time": "2022-10-23T20:20:29.288842Z",
     "start_time": "2022-10-23T20:20:29.271775Z"
    },
    "hidden": true
   },
   "outputs": [],
   "source": [
    "y_titled.head(2)"
   ]
  },
  {
   "cell_type": "code",
   "execution_count": null,
   "id": "ac8ae75e",
   "metadata": {
    "ExecuteTime": {
     "end_time": "2022-10-23T20:20:29.525332Z",
     "start_time": "2022-10-23T20:20:29.511332Z"
    },
    "hidden": true
   },
   "outputs": [],
   "source": [
    "y_titled.shape # (87869, 1)"
   ]
  },
  {
   "cell_type": "code",
   "execution_count": null,
   "id": "1108c53b",
   "metadata": {
    "ExecuteTime": {
     "end_time": "2022-10-23T20:20:29.743935Z",
     "start_time": "2022-10-23T20:20:29.722905Z"
    },
    "hidden": true,
    "scrolled": true
   },
   "outputs": [],
   "source": [
    "X_titled.head()"
   ]
  },
  {
   "cell_type": "markdown",
   "id": "cf084ede",
   "metadata": {
    "hidden": true
   },
   "source": [
    "Dropping emt and moves:"
   ]
  },
  {
   "cell_type": "code",
   "execution_count": null,
   "id": "a81ae10e",
   "metadata": {
    "ExecuteTime": {
     "end_time": "2022-10-23T20:20:30.492761Z",
     "start_time": "2022-10-23T20:20:30.482755Z"
    },
    "hidden": true
   },
   "outputs": [],
   "source": [
    "X_titled_ = X_titled.drop(columns=['emt', 'moves'])"
   ]
  },
  {
   "cell_type": "code",
   "execution_count": null,
   "id": "8c6e53ee",
   "metadata": {
    "ExecuteTime": {
     "end_time": "2022-10-23T20:20:30.743681Z",
     "start_time": "2022-10-23T20:20:30.725681Z"
    },
    "hidden": true
   },
   "outputs": [],
   "source": [
    "X_titled_.head()"
   ]
  },
  {
   "cell_type": "markdown",
   "id": "704f1251",
   "metadata": {
    "heading_collapsed": true
   },
   "source": [
    "## Join cheater and human-only"
   ]
  },
  {
   "cell_type": "code",
   "execution_count": null,
   "id": "e374ad17",
   "metadata": {
    "ExecuteTime": {
     "end_time": "2022-10-24T11:28:43.948642Z",
     "start_time": "2022-10-24T11:28:43.389614Z"
    },
    "hidden": true
   },
   "outputs": [],
   "source": [
    "X_CvH_HvH = pd.concat([X_, X_titled_]).reset_index(drop=True)\n",
    "y_CvH_HvH = pd.concat([y, y_titled]).reset_index(drop=True)"
   ]
  },
  {
   "cell_type": "code",
   "execution_count": null,
   "id": "343bd13f",
   "metadata": {
    "ExecuteTime": {
     "end_time": "2022-10-24T11:28:43.950645Z",
     "start_time": "2022-10-24T11:28:43.950645Z"
    },
    "hidden": true
   },
   "outputs": [],
   "source": [
    "# joblib.dump(X_CvH_HvH, 'C:/Users/MaNiL/Desktop/data/capstone/preprocessed/X_CvH_HvH.pkl', compress=9)\n",
    "\n",
    "# joblib.dump(y_CvH_HvH, 'C:/Users/MaNiL/Desktop/data/capstone/preprocessed/y_CvH_HvH.pkl', compress=9)"
   ]
  },
  {
   "cell_type": "code",
   "execution_count": null,
   "id": "6974e171",
   "metadata": {
    "ExecuteTime": {
     "end_time": "2022-10-25T14:26:34.382698Z",
     "start_time": "2022-10-25T14:26:34.193781Z"
    },
    "hidden": true
   },
   "outputs": [],
   "source": [
    "X_CvH_HvH = joblib.load('./data/preprocessed/X_CvH_HvH.pkl')\n",
    "y_CvH_HvH = joblib.load('./data/preprocessed/y_CvH_HvH.pkl')"
   ]
  },
  {
   "cell_type": "code",
   "execution_count": null,
   "id": "ecf5df24",
   "metadata": {
    "ExecuteTime": {
     "end_time": "2022-10-25T14:26:39.077506Z",
     "start_time": "2022-10-25T14:26:39.061461Z"
    },
    "hidden": true
   },
   "outputs": [],
   "source": [
    "X_CvH_HvH"
   ]
  },
  {
   "cell_type": "code",
   "execution_count": null,
   "id": "4b0c88d3",
   "metadata": {
    "ExecuteTime": {
     "end_time": "2022-10-25T14:26:42.130797Z",
     "start_time": "2022-10-25T14:26:42.113798Z"
    },
    "hidden": true
   },
   "outputs": [],
   "source": [
    "y_CvH_HvH"
   ]
  },
  {
   "cell_type": "markdown",
   "id": "c01a55bc",
   "metadata": {
    "hidden": true
   },
   "source": [
    "-----"
   ]
  },
  {
   "cell_type": "markdown",
   "id": "eff60351",
   "metadata": {
    "heading_collapsed": true
   },
   "source": [
    "## Second Pass Modelling"
   ]
  },
  {
   "cell_type": "markdown",
   "id": "ec1c2f7f",
   "metadata": {
    "heading_collapsed": true,
    "hidden": true
   },
   "source": [
    "### Train Test Split"
   ]
  },
  {
   "cell_type": "code",
   "execution_count": null,
   "id": "4a7459fb",
   "metadata": {
    "ExecuteTime": {
     "end_time": "2022-10-23T15:25:32.219784Z",
     "start_time": "2022-10-23T15:25:31.333723Z"
    },
    "hidden": true
   },
   "outputs": [],
   "source": [
    "X_CvH_HvH_train, X_CvH_HvH_test, y_CvH_HvH_train, y_CvH_HvH_test = train_test_split(\n",
    "    X_CvH_HvH, y_CvH_HvH, test_size=0.2, random_state=22, stratify=y_CvH_HvH)"
   ]
  },
  {
   "cell_type": "code",
   "execution_count": null,
   "id": "1dcde683",
   "metadata": {
    "hidden": true
   },
   "outputs": [],
   "source": []
  },
  {
   "cell_type": "code",
   "execution_count": null,
   "id": "866418a0",
   "metadata": {
    "hidden": true
   },
   "outputs": [],
   "source": []
  },
  {
   "cell_type": "markdown",
   "id": "13e40a32",
   "metadata": {
    "hidden": true
   },
   "source": [
    "------"
   ]
  },
  {
   "cell_type": "markdown",
   "id": "6dd3338a",
   "metadata": {
    "heading_collapsed": true,
    "hidden": true
   },
   "source": [
    "### OHE ECO"
   ]
  },
  {
   "cell_type": "code",
   "execution_count": null,
   "id": "20014505",
   "metadata": {
    "ExecuteTime": {
     "end_time": "2022-10-23T15:25:37.660089Z",
     "start_time": "2022-10-23T15:25:37.648123Z"
    },
    "hidden": true
   },
   "outputs": [],
   "source": [
    "# ohe_CvH_HvH = OneHotEncoder(sparse=False, dtype=np.int8(), handle_unknown='ignore')"
   ]
  },
  {
   "cell_type": "code",
   "execution_count": null,
   "id": "1dca2f8d",
   "metadata": {
    "ExecuteTime": {
     "end_time": "2022-10-23T15:25:38.146717Z",
     "start_time": "2022-10-23T15:25:38.136719Z"
    },
    "hidden": true
   },
   "outputs": [],
   "source": [
    "# def OHE_ECO(X_train, X_test):\n",
    "#     ohe_ = OneHotEncoder(sparse=False, dtype=np.int8(), handle_unknown='ignore')\n",
    "#     X_train_temp_ = pd.merge(\n",
    "#         left=X_train.drop(columns=['ECO']).reset_index(drop=True),\n",
    "#         right=pd.DataFrame(ohe_.fit_transform(X_train[['ECO']]),\n",
    "#                            columns=ohe_.get_feature_names_out()),\n",
    "#         how='left',\n",
    "#         left_index=True,\n",
    "#         right_index=True)\n",
    "    \n",
    "#     X_test_temp_ = pd.merge(\n",
    "#         left=X_test.drop(columns=['ECO']).reset_index(drop=True),\n",
    "#         right=pd.DataFrame(ohe_.transform(X_test[['ECO']]),\n",
    "#                            columns=ohe_.get_feature_names_out()),\n",
    "#         how='left',\n",
    "#         left_index=True,\n",
    "#         right_index=True)\n",
    "#     return X_train_temp_, X_test_temp_, ohe_"
   ]
  },
  {
   "cell_type": "code",
   "execution_count": null,
   "id": "b4a74f57",
   "metadata": {
    "ExecuteTime": {
     "end_time": "2022-10-23T15:25:39.622378Z",
     "start_time": "2022-10-23T15:25:38.702836Z"
    },
    "hidden": true
   },
   "outputs": [],
   "source": [
    "X_CvH_HvH_train_, X_CvH_HvH_test_, ohe_CvH_HvH = hp.OHE_ECO(X_CvH_HvH_train, X_CvH_HvH_test)"
   ]
  },
  {
   "cell_type": "code",
   "execution_count": null,
   "id": "3825f0ad",
   "metadata": {
    "ExecuteTime": {
     "end_time": "2022-10-23T15:25:39.637229Z",
     "start_time": "2022-10-23T15:25:39.623267Z"
    },
    "hidden": true
   },
   "outputs": [],
   "source": [
    "X_CvH_HvH_train_.shape"
   ]
  },
  {
   "cell_type": "code",
   "execution_count": null,
   "id": "52a556e5",
   "metadata": {
    "ExecuteTime": {
     "end_time": "2022-10-23T15:25:39.653213Z",
     "start_time": "2022-10-23T15:25:39.638252Z"
    },
    "hidden": true
   },
   "outputs": [],
   "source": [
    "X_CvH_HvH_test_.shape"
   ]
  },
  {
   "cell_type": "code",
   "execution_count": null,
   "id": "f5545e1a",
   "metadata": {
    "hidden": true
   },
   "outputs": [],
   "source": []
  },
  {
   "cell_type": "markdown",
   "id": "f195f97e",
   "metadata": {
    "hidden": true
   },
   "source": [
    "------"
   ]
  },
  {
   "cell_type": "markdown",
   "id": "96c6e5b9",
   "metadata": {
    "heading_collapsed": true,
    "hidden": true
   },
   "source": [
    "### Scale data"
   ]
  },
  {
   "cell_type": "code",
   "execution_count": null,
   "id": "f35369c6",
   "metadata": {
    "ExecuteTime": {
     "end_time": "2022-10-23T15:25:44.891720Z",
     "start_time": "2022-10-23T15:25:44.873740Z"
    },
    "hidden": true
   },
   "outputs": [],
   "source": [
    "stan_scal_CvH_HvH = StandardScaler()"
   ]
  },
  {
   "cell_type": "code",
   "execution_count": null,
   "id": "f11b4077",
   "metadata": {
    "ExecuteTime": {
     "end_time": "2022-10-23T15:25:51.109065Z",
     "start_time": "2022-10-23T15:25:45.083604Z"
    },
    "hidden": true
   },
   "outputs": [],
   "source": [
    "any([any(X_CvH_HvH_train_[col].isna()) for col in X_CvH_HvH_train_.columns]) # Should be False"
   ]
  },
  {
   "cell_type": "markdown",
   "id": "8d5ceb86",
   "metadata": {
    "heading_collapsed": true,
    "hidden": true
   },
   "source": [
    "#### Imputing some BlackRD and WhiteRD values"
   ]
  },
  {
   "cell_type": "code",
   "execution_count": null,
   "id": "8ea9334f",
   "metadata": {
    "ExecuteTime": {
     "end_time": "2022-10-23T15:26:00.662489Z",
     "start_time": "2022-10-23T15:26:00.653487Z"
    },
    "hidden": true
   },
   "outputs": [],
   "source": [
    "# X_CvH_HvH_train_.info(verbose=True)"
   ]
  },
  {
   "cell_type": "code",
   "execution_count": null,
   "id": "41e8a034",
   "metadata": {
    "ExecuteTime": {
     "end_time": "2022-10-23T15:25:51.201786Z",
     "start_time": "2022-10-23T15:25:51.140949Z"
    },
    "hidden": true
   },
   "outputs": [],
   "source": [
    "X_CvH_HvH_train_scaled=X_CvH_HvH_train_.copy()\n",
    "X_CvH_HvH_test_scaled=X_CvH_HvH_test_.copy()"
   ]
  },
  {
   "cell_type": "code",
   "execution_count": null,
   "id": "bf48a62c",
   "metadata": {
    "ExecuteTime": {
     "end_time": "2022-10-23T15:25:51.831441Z",
     "start_time": "2022-10-23T15:25:51.203781Z"
    },
    "hidden": true
   },
   "outputs": [],
   "source": [
    "X_CvH_HvH_train_scaled[['BlackRD', 'WhiteRD']] = np.array([\n",
    "    [np.int8(0) if y=='na' else y for y in x] for x in X_CvH_HvH_train_scaled[['BlackRD', 'WhiteRD']].values\n",
    "    ]) # 402 ms ± 2.73 ms per loop (mean ± std. dev. of 7 runs, 1 loop each)"
   ]
  },
  {
   "cell_type": "code",
   "execution_count": null,
   "id": "8c9eaf7f",
   "metadata": {
    "ExecuteTime": {
     "end_time": "2022-10-23T15:25:53.161918Z",
     "start_time": "2022-10-23T15:25:51.833426Z"
    },
    "hidden": true
   },
   "outputs": [],
   "source": [
    "X_CvH_HvH_test_scaled[['BlackRD', 'WhiteRD']] = np.array([\n",
    "    [np.int8(0) if y=='na' else y for y in x] for x in X_CvH_HvH_test_scaled[['BlackRD', 'WhiteRD']].values\n",
    "    ]) "
   ]
  },
  {
   "cell_type": "code",
   "execution_count": null,
   "id": "04a946cd",
   "metadata": {
    "hidden": true
   },
   "outputs": [],
   "source": []
  },
  {
   "cell_type": "markdown",
   "id": "2e088f9c",
   "metadata": {
    "hidden": true
   },
   "source": [
    "---"
   ]
  },
  {
   "cell_type": "markdown",
   "id": "c8ad1eb8",
   "metadata": {
    "heading_collapsed": true,
    "hidden": true
   },
   "source": [
    "#### Scaling"
   ]
  },
  {
   "cell_type": "code",
   "execution_count": null,
   "id": "d2d7ef59",
   "metadata": {
    "ExecuteTime": {
     "end_time": "2022-10-23T15:26:34.520886Z",
     "start_time": "2022-10-23T15:26:34.154679Z"
    },
    "hidden": true,
    "scrolled": true
   },
   "outputs": [],
   "source": [
    "X_CvH_HvH_train_scaled[['BlackElo', 'BlackRD',\n",
    "                'PlyCount', 'WhiteElo',\n",
    "                'WhiteRD', 'TimeControl_Base', 'TimeControl_Inc']] = stan_scal_CvH_HvH.fit_transform(\n",
    "    X_CvH_HvH_train_scaled[['BlackElo', 'BlackRD', 'PlyCount', 'WhiteElo',\n",
    "                            'WhiteRD', 'TimeControl_Base', 'TimeControl_Inc']])\n",
    "\n",
    "X_CvH_HvH_test_scaled[['BlackElo', 'BlackRD',\n",
    "                'PlyCount', 'WhiteElo',\n",
    "                'WhiteRD', 'TimeControl_Base', 'TimeControl_Inc']] = stan_scal_CvH_HvH.transform(\n",
    "    X_CvH_HvH_test_scaled[['BlackElo', 'BlackRD', 'PlyCount', 'WhiteElo',\n",
    "                           'WhiteRD', 'TimeControl_Base', 'TimeControl_Inc']])\n",
    "\n"
   ]
  },
  {
   "cell_type": "code",
   "execution_count": null,
   "id": "86137d26",
   "metadata": {
    "ExecuteTime": {
     "end_time": "2022-10-23T15:26:34.535875Z",
     "start_time": "2022-10-23T15:26:34.521883Z"
    },
    "hidden": true
   },
   "outputs": [],
   "source": [
    "# X_CvH_HvH_train_scaled.info(verbose=True)"
   ]
  },
  {
   "cell_type": "code",
   "execution_count": null,
   "id": "eb62ad1b",
   "metadata": {
    "ExecuteTime": {
     "end_time": "2022-10-23T15:26:34.739129Z",
     "start_time": "2022-10-23T15:26:34.725167Z"
    },
    "hidden": true
   },
   "outputs": [],
   "source": [
    "X_CvH_HvH_train_scaled.shape"
   ]
  },
  {
   "cell_type": "code",
   "execution_count": null,
   "id": "43d9ce18",
   "metadata": {
    "ExecuteTime": {
     "end_time": "2022-10-23T15:26:35.038048Z",
     "start_time": "2022-10-23T15:26:35.022093Z"
    },
    "hidden": true
   },
   "outputs": [],
   "source": [
    "X_CvH_HvH_test_scaled.shape"
   ]
  },
  {
   "cell_type": "markdown",
   "id": "d598de8e",
   "metadata": {
    "hidden": true
   },
   "source": [
    "-----"
   ]
  },
  {
   "cell_type": "markdown",
   "id": "b24c3de1",
   "metadata": {
    "heading_collapsed": true,
    "hidden": true
   },
   "source": [
    "### Logistic Regression"
   ]
  },
  {
   "cell_type": "code",
   "execution_count": null,
   "id": "1e29dba3",
   "metadata": {
    "ExecuteTime": {
     "end_time": "2022-10-23T15:27:00.571712Z",
     "start_time": "2022-10-23T15:27:00.553760Z"
    },
    "hidden": true
   },
   "outputs": [],
   "source": [
    "logreg_CvH_HvH = LogisticRegression(penalty='l2', max_iter=10000,\n",
    "                           solver='lbfgs', C=1.0) # default settings"
   ]
  },
  {
   "cell_type": "code",
   "execution_count": null,
   "id": "34fb66ed",
   "metadata": {
    "ExecuteTime": {
     "end_time": "2022-10-23T15:27:00.867152Z",
     "start_time": "2022-10-23T15:27:00.853160Z"
    },
    "hidden": true
   },
   "outputs": [],
   "source": [
    "y_CvH_HvH_train.values.shape"
   ]
  },
  {
   "cell_type": "code",
   "execution_count": null,
   "id": "c25725ec",
   "metadata": {
    "ExecuteTime": {
     "end_time": "2022-10-23T15:27:01.227308Z",
     "start_time": "2022-10-23T15:27:01.213345Z"
    },
    "hidden": true
   },
   "outputs": [],
   "source": [
    "np.reshape(y_CvH_HvH_train.values, (-1,)).shape # (159023,)"
   ]
  },
  {
   "cell_type": "code",
   "execution_count": null,
   "id": "8a5b4e07",
   "metadata": {
    "ExecuteTime": {
     "end_time": "2022-10-23T15:27:01.605230Z",
     "start_time": "2022-10-23T15:27:01.588299Z"
    },
    "hidden": true
   },
   "outputs": [],
   "source": [
    "y_CvH_HvH_train_ = np.reshape(y_CvH_HvH_train.values, (-1,))\n",
    "y_CvH_HvH_test_ = np.reshape(y_CvH_HvH_test.values, (-1,))"
   ]
  },
  {
   "cell_type": "code",
   "execution_count": null,
   "id": "eba0d68a",
   "metadata": {
    "ExecuteTime": {
     "end_time": "2022-10-23T15:27:02.430081Z",
     "start_time": "2022-10-23T15:27:02.413100Z"
    },
    "hidden": true
   },
   "outputs": [],
   "source": [
    "X_CvH_HvH_train_scaled.shape"
   ]
  },
  {
   "cell_type": "code",
   "execution_count": null,
   "id": "b5decddf",
   "metadata": {
    "ExecuteTime": {
     "end_time": "2022-10-23T15:27:03.271225Z",
     "start_time": "2022-10-23T15:27:03.254270Z"
    },
    "hidden": true
   },
   "outputs": [],
   "source": [
    "# logreg_CvH_HvH.fit(X_CvH_HvH_train_scaled, y_CvH_HvH_train_)"
   ]
  },
  {
   "cell_type": "code",
   "execution_count": null,
   "id": "33194e9e",
   "metadata": {
    "ExecuteTime": {
     "end_time": "2022-10-23T15:27:03.509193Z",
     "start_time": "2022-10-23T15:27:03.502211Z"
    },
    "hidden": true
   },
   "outputs": [],
   "source": [
    "# joblib.dump(logreg_CvH_HvH, 'C:/Users/Emanuel/Desktop/data/capstone/pickles/first_logreg_CvH_HvH.pkl', compress=7)"
   ]
  },
  {
   "cell_type": "code",
   "execution_count": null,
   "id": "d908c04f",
   "metadata": {
    "ExecuteTime": {
     "end_time": "2022-10-23T15:27:03.851346Z",
     "start_time": "2022-10-23T15:27:03.839351Z"
    },
    "hidden": true
   },
   "outputs": [],
   "source": [
    "logreg_CvH_HvH = joblib.load('./models/first_pass/first_logreg_CvH_HvH.pkl')"
   ]
  },
  {
   "cell_type": "code",
   "execution_count": null,
   "id": "4c74f458",
   "metadata": {
    "ExecuteTime": {
     "end_time": "2022-10-23T15:27:04.494289Z",
     "start_time": "2022-10-23T15:27:04.479329Z"
    },
    "hidden": true
   },
   "outputs": [],
   "source": [
    "y_CvH_HvH_train_.shape"
   ]
  },
  {
   "cell_type": "code",
   "execution_count": null,
   "id": "846ee243",
   "metadata": {
    "ExecuteTime": {
     "end_time": "2022-10-23T15:16:16.600661Z",
     "start_time": "2022-10-23T15:16:16.600661Z"
    },
    "hidden": true
   },
   "outputs": [],
   "source": [
    "# print(f'The accuracy score on the training data is: {logreg_CvH_HvH.score(X_CvH_HvH_train_scaled, y_CvH_HvH_train_)}')\n",
    "# print(f'The accuracy score on the testing data is: {logreg_CvH_HvH.score(X_CvH_HvH_test_scaled, y_CvH_HvH_test_)}')"
   ]
  },
  {
   "cell_type": "code",
   "execution_count": null,
   "id": "8fb69aba",
   "metadata": {
    "ExecuteTime": {
     "end_time": "2022-10-23T15:16:16.601658Z",
     "start_time": "2022-10-23T15:16:16.601658Z"
    },
    "hidden": true
   },
   "outputs": [],
   "source": [
    "# plot_confusion_matrix(logreg_CvH_HvH, X_CvH_HvH_test_scaled, y_CvH_HvH_test_)\n",
    "\n",
    "# logreg_CvH_HvH_y_pred = logreg_CvH_HvH.predict(X_CvH_HvH_test_scaled)\n",
    "# print(classification_report(y_CvH_HvH_test_, logreg_CvH_HvH_y_pred, digits=4))"
   ]
  },
  {
   "cell_type": "code",
   "execution_count": null,
   "id": "1ec9447b",
   "metadata": {
    "ExecuteTime": {
     "end_time": "2022-10-23T15:16:16.603653Z",
     "start_time": "2022-10-23T15:16:16.603653Z"
    },
    "hidden": true
   },
   "outputs": [],
   "source": [
    "# logreg_CvH_HvH_results = pd.DataFrame(\n",
    "#     classification_report(\n",
    "#         y_CvH_HvH_test_, logreg_CvH_HvH_y_pred, output_dict=True)).loc[\n",
    "#     ['precision', 'recall', 'f1-score'],\n",
    "#     ['0', '1', 'accuracy']]"
   ]
  },
  {
   "cell_type": "code",
   "execution_count": null,
   "id": "5ee1b7b4",
   "metadata": {
    "ExecuteTime": {
     "end_time": "2022-10-23T15:16:16.604650Z",
     "start_time": "2022-10-23T15:16:16.604650Z"
    },
    "hidden": true
   },
   "outputs": [],
   "source": [
    "# logreg_CvH_HvH_coefficients = pd.DataFrame(\n",
    "#     data=abs(logreg_CvH_HvH.coef_), columns=logreg_CvH_HvH.feature_names_in_)\n",
    "\n",
    "# # logreg_CvH_HvH_coefficients.T.head(15)\n",
    "\n",
    "# for col in logreg_CvH_HvH_coefficients.T:\n",
    "#     display(logreg_CvH_HvH_coefficients.T[[col]].sort_values(\n",
    "#     by=col, ascending=False).head(15))"
   ]
  },
  {
   "cell_type": "code",
   "execution_count": null,
   "id": "f2abd045",
   "metadata": {
    "hidden": true
   },
   "outputs": [],
   "source": []
  },
  {
   "cell_type": "code",
   "execution_count": null,
   "id": "ab660bd7",
   "metadata": {
    "ExecuteTime": {
     "end_time": "2022-10-23T15:27:09.207787Z",
     "start_time": "2022-10-23T15:27:08.342636Z"
    },
    "hidden": true
   },
   "outputs": [],
   "source": [
    "logreg_CvH_HvH_report, logreg_CvH_HvH_results, logreg_CvH_HvH_coefficients = hp.class_model_eval_logreg(\n",
    "    logreg_CvH_HvH, X_CvH_HvH_train_scaled,\n",
    "    X_CvH_HvH_test_scaled, y_CvH_HvH_train_,\n",
    "    y_CvH_HvH_test_)"
   ]
  },
  {
   "cell_type": "code",
   "execution_count": null,
   "id": "68453c3e",
   "metadata": {
    "hidden": true
   },
   "outputs": [],
   "source": []
  },
  {
   "cell_type": "code",
   "execution_count": null,
   "id": "c79124bf",
   "metadata": {
    "hidden": true
   },
   "outputs": [],
   "source": []
  },
  {
   "cell_type": "markdown",
   "id": "c2ef5f47",
   "metadata": {
    "hidden": true
   },
   "source": [
    "-----"
   ]
  },
  {
   "cell_type": "markdown",
   "id": "5a7760e3",
   "metadata": {
    "heading_collapsed": true,
    "hidden": true
   },
   "source": [
    "###### Making logreg eval function"
   ]
  },
  {
   "cell_type": "code",
   "execution_count": null,
   "id": "d72e4ce1",
   "metadata": {
    "ExecuteTime": {
     "end_time": "2022-10-23T15:27:22.513513Z",
     "start_time": "2022-10-23T15:27:22.495561Z"
    },
    "hidden": true
   },
   "outputs": [],
   "source": [
    "# def class_model_eval_logreg(class_model_, X_train_, X_test_, y_train_, y_test_, digits_=4):\n",
    "#     # print the accuracy on the training and test set\n",
    "#     print(f'The accuracy score on the training data is: {class_model_.score(X_train_, y_train_)}')\n",
    "#     print(f'The accuracy score on the testing data is: {class_model_.score(X_test_, y_test_)}')\n",
    "    \n",
    "#     # plot the confusion matrix\n",
    "#     plot_confusion_matrix(class_model_, X_test_, y_test_)\n",
    "#     plt.show()\n",
    "    \n",
    "#     # classification report\n",
    "#     class_model_pred = class_model_.predict(X_test_)\n",
    "#     report_ = classification_report(y_test_, class_model_pred, digits=digits_)\n",
    "#     print(report_)\n",
    "    \n",
    "#     # model results\n",
    "#     model_results_ = pd.DataFrame(classification_report(y_test_, class_model_pred,\n",
    "#                                                         digits=digits_, output_dict=True)).loc[\n",
    "#         ['precision', 'recall', 'f1-score'],\n",
    "#         ['0', '1', 'accuracy']]\n",
    "    \n",
    "#     # model coefficients\n",
    "#     model_coeffs_ = pd.DataFrame(data=abs(class_model_.coef_),\n",
    "#                                 columns=class_model_.feature_names_in_).T\n",
    "    \n",
    "#     return report_, model_results_, model_coeffs_\n",
    "    \n",
    "    "
   ]
  },
  {
   "cell_type": "code",
   "execution_count": null,
   "id": "cd50cef8",
   "metadata": {
    "ExecuteTime": {
     "end_time": "2022-10-23T15:27:22.778309Z",
     "start_time": "2022-10-23T15:27:22.774325Z"
    },
    "hidden": true
   },
   "outputs": [],
   "source": [
    "# report_test, model_results_test, model_coeffs_test = class_model_eval_logreg(\n",
    "#     logreg_CvH_HvH, X_CvH_HvH_train_scaled,\n",
    "#     X_CvH_HvH_test_scaled, y_CvH_HvH_train_,\n",
    "#     y_CvH_HvH_test_)"
   ]
  },
  {
   "cell_type": "code",
   "execution_count": null,
   "id": "a36571a2",
   "metadata": {
    "ExecuteTime": {
     "end_time": "2022-10-23T15:27:23.044410Z",
     "start_time": "2022-10-23T15:27:23.037405Z"
    },
    "hidden": true
   },
   "outputs": [],
   "source": [
    "# print(report_test)\n",
    "# display(model_results_test)\n",
    "# display(model_coeffs_test)"
   ]
  },
  {
   "cell_type": "code",
   "execution_count": null,
   "id": "a80a76f8",
   "metadata": {
    "ExecuteTime": {
     "end_time": "2022-10-23T15:27:23.530686Z",
     "start_time": "2022-10-23T15:27:23.513735Z"
    },
    "hidden": true
   },
   "outputs": [],
   "source": [
    "# report_test, model_results_test, model_coeffs_test = hp.class_model_eval_logreg(\n",
    "#     logreg_CvH_HvH, X_CvH_HvH_train_scaled,\n",
    "#     X_CvH_HvH_test_scaled, y_CvH_HvH_train_,\n",
    "#     y_CvH_HvH_test_)"
   ]
  },
  {
   "cell_type": "code",
   "execution_count": null,
   "id": "3fa0a328",
   "metadata": {
    "hidden": true
   },
   "outputs": [],
   "source": []
  },
  {
   "cell_type": "markdown",
   "id": "3b5dad73",
   "metadata": {
    "hidden": true
   },
   "source": [
    "-----"
   ]
  },
  {
   "cell_type": "markdown",
   "id": "17fb5200",
   "metadata": {
    "heading_collapsed": true
   },
   "source": [
    "## Investigating distribution and variance of Elo, RD, etc."
   ]
  },
  {
   "cell_type": "markdown",
   "id": "1bc29cff",
   "metadata": {
    "heading_collapsed": true,
    "hidden": true
   },
   "source": [
    "### Looking at CvH games"
   ]
  },
  {
   "cell_type": "markdown",
   "id": "3ab32f9d",
   "metadata": {
    "heading_collapsed": true,
    "hidden": true
   },
   "source": [
    "#### Create / Load DataFrame"
   ]
  },
  {
   "cell_type": "code",
   "execution_count": null,
   "id": "460b128b",
   "metadata": {
    "ExecuteTime": {
     "end_time": "2022-10-25T14:22:28.751915Z",
     "start_time": "2022-10-25T14:22:23.366896Z"
    },
    "hidden": true
   },
   "outputs": [],
   "source": [
    "# df_2022_2018_CvH = joblib.load('./data/preprocessed/2022_2018_CvH.pkl')"
   ]
  },
  {
   "cell_type": "code",
   "execution_count": null,
   "id": "35911447",
   "metadata": {
    "ExecuteTime": {
     "end_time": "2022-10-25T14:22:28.783361Z",
     "start_time": "2022-10-25T14:22:28.753804Z"
    },
    "hidden": true
   },
   "outputs": [],
   "source": [
    "# df_2022_2018_CvH.head(1)"
   ]
  },
  {
   "cell_type": "markdown",
   "id": "49cdd7f7",
   "metadata": {
    "hidden": true
   },
   "source": [
    "This pickle does not contain the player names. I may as well go back and use a df which does contain names to see if there are any additional relationships. "
   ]
  },
  {
   "cell_type": "code",
   "execution_count": null,
   "id": "99dc2729",
   "metadata": {
    "ExecuteTime": {
     "end_time": "2022-10-24T14:49:02.618421Z",
     "start_time": "2022-10-24T14:48:54.919854Z"
    },
    "hidden": true
   },
   "outputs": [],
   "source": [
    "# # on vostro laptop\n",
    "# raw_p = [joblib.load(f'C:/Users/MaNiL/Desktop/data/capstone/raw/pickles/{year}_CvH.pkl') for \\\n",
    "#          year in np.arange(2022, 2017, -1)] # load the pickles from 2022 to 2018 inclusive"
   ]
  },
  {
   "cell_type": "code",
   "execution_count": null,
   "id": "d6c257fc",
   "metadata": {
    "ExecuteTime": {
     "end_time": "2022-10-24T14:50:56.112673Z",
     "start_time": "2022-10-24T14:50:56.104673Z"
    },
    "hidden": true
   },
   "outputs": [],
   "source": [
    "# raw_p[0].head(1)\n",
    "# raw_p[0].columns"
   ]
  },
  {
   "cell_type": "code",
   "execution_count": null,
   "id": "7cc6ce7f",
   "metadata": {
    "ExecuteTime": {
     "end_time": "2022-10-24T15:02:25.605635Z",
     "start_time": "2022-10-24T15:02:24.339063Z"
    },
    "hidden": true
   },
   "outputs": [],
   "source": [
    "# df_2022_2018_CvH_raw = hp.concatenate_cleaned_pickles(\n",
    "#     raw_p, list_of_cols=['Event', 'Site', 'Round', 'BlackClock',\n",
    "#                          'FICSGamesDBGameNo', 'Time', 'WhiteClock'])\n",
    "\n",
    "# Shape pre-drop: (198779, 17)\n",
    "# Dropping duplicates...\n",
    "# Shape post-drop: (198539, 17)\n",
    "#  Duplicates dropped: 240"
   ]
  },
  {
   "cell_type": "code",
   "execution_count": null,
   "id": "d267912a",
   "metadata": {
    "ExecuteTime": {
     "end_time": "2022-10-25T16:32:36.898685Z",
     "start_time": "2022-10-25T16:29:35.393241Z"
    },
    "hidden": true
   },
   "outputs": [],
   "source": [
    "# joblib.dump(df_2022_2018_CvH_raw,\n",
    "#            'C:/Users/MaNiL/Desktop/data/capstone/preprocessed/pickles/2022_2018_CvH_distinv.pkl',\n",
    "#            compress=9)"
   ]
  },
  {
   "cell_type": "markdown",
   "id": "29f4b82c",
   "metadata": {
    "hidden": true
   },
   "source": [
    "----"
   ]
  },
  {
   "cell_type": "code",
   "execution_count": null,
   "id": "34c9a800",
   "metadata": {
    "ExecuteTime": {
     "end_time": "2022-10-25T16:26:36.407179Z",
     "start_time": "2022-10-25T16:25:53.031777Z"
    },
    "hidden": true
   },
   "outputs": [],
   "source": [
    "# # on vostro laptop\n",
    "# raw_p = [joblib.load(f'C:/Users/MaNiL/Desktop/data/capstone/raw/pickles/{year}_CvH.pkl') for \\\n",
    "#          year in np.arange(2022, 2017, -1)] # load the pickles from 2022 to 2018 inclusive"
   ]
  },
  {
   "cell_type": "code",
   "execution_count": null,
   "id": "0c59a046",
   "metadata": {
    "ExecuteTime": {
     "end_time": "2022-10-25T16:28:21.029825Z",
     "start_time": "2022-10-25T16:28:20.996773Z"
    },
    "hidden": true
   },
   "outputs": [],
   "source": [
    "# raw_p[0].head(1)\n",
    "# raw_p[0].columns"
   ]
  },
  {
   "cell_type": "code",
   "execution_count": null,
   "id": "d510d978",
   "metadata": {
    "ExecuteTime": {
     "end_time": "2022-10-25T16:26:38.935998Z",
     "start_time": "2022-10-25T16:26:36.426966Z"
    },
    "hidden": true
   },
   "outputs": [],
   "source": [
    "# df_2022_2018_CvH_raw = hp.concatenate_cleaned_pickles(\n",
    "#     raw_p, list_of_cols=['Site', 'Round', 'BlackClock',\n",
    "#                          'FICSGamesDBGameNo', 'Time', 'WhiteClock'])\n",
    "\n",
    "# # All PlyCount values match the length of moves-list\n",
    "# # Shape pre-drop: (198779, 18)\n",
    "# # Dropping duplicates...\n",
    "# # Shape post-drop: (198539, 18)\n",
    "# #  Duplicates dropped: 240"
   ]
  },
  {
   "cell_type": "code",
   "execution_count": null,
   "id": "24671371",
   "metadata": {
    "ExecuteTime": {
     "end_time": "2022-10-25T16:32:36.898685Z",
     "start_time": "2022-10-25T16:29:35.393241Z"
    },
    "hidden": true
   },
   "outputs": [],
   "source": [
    "# joblib.dump(df_2022_2018_CvH_raw,\n",
    "#            'C:/Users/MaNiL/Desktop/data/capstone/preprocessed/2022_2018_CvH_distinv_withevent.pkl',\n",
    "#            compress=9)"
   ]
  },
  {
   "cell_type": "markdown",
   "id": "f0fe1d7f",
   "metadata": {
    "hidden": true
   },
   "source": [
    "-----"
   ]
  },
  {
   "cell_type": "code",
   "execution_count": null,
   "id": "28bc7eb8",
   "metadata": {
    "ExecuteTime": {
     "end_time": "2022-10-25T14:22:34.942383Z",
     "start_time": "2022-10-25T14:22:28.785276Z"
    },
    "hidden": true
   },
   "outputs": [],
   "source": [
    "# # df without event info \n",
    "# df_2022_2018_CvH_distinv = joblib.load(\n",
    "#     './data/preprocessed/2022_2018_CvH_distinv.pkl')"
   ]
  },
  {
   "cell_type": "code",
   "execution_count": null,
   "id": "49774f09",
   "metadata": {
    "ExecuteTime": {
     "end_time": "2022-10-25T14:22:34.942383Z",
     "start_time": "2022-10-25T14:22:28.785276Z"
    },
    "hidden": true
   },
   "outputs": [],
   "source": [
    "# # df with event info to separate rated and unrated\n",
    "\n",
    "# df_2022_2018_CvH_distinv = joblib.load(\n",
    "#     './data/preprocessed/2022_2018_CvH_distinv_withevent.pkl')"
   ]
  },
  {
   "cell_type": "code",
   "execution_count": null,
   "id": "4c984d3b",
   "metadata": {
    "ExecuteTime": {
     "end_time": "2022-10-25T14:22:34.958397Z",
     "start_time": "2022-10-25T14:22:34.945396Z"
    },
    "hidden": true
   },
   "outputs": [],
   "source": [
    "# df_2022_2018_CvH_distinv.head(1)"
   ]
  },
  {
   "cell_type": "markdown",
   "id": "07fcee9f",
   "metadata": {
    "hidden": true
   },
   "source": [
    "-----"
   ]
  },
  {
   "cell_type": "markdown",
   "id": "2b80020c",
   "metadata": {
    "heading_collapsed": true,
    "hidden": true
   },
   "source": [
    "#### Isolating Cheaters"
   ]
  },
  {
   "cell_type": "markdown",
   "id": "1c84b624",
   "metadata": {
    "heading_collapsed": true,
    "hidden": true
   },
   "source": [
    "##### Some tinkering"
   ]
  },
  {
   "cell_type": "code",
   "execution_count": null,
   "id": "eca8d531",
   "metadata": {
    "hidden": true
   },
   "outputs": [],
   "source": [
    "# if white is comp:\n",
    "\n",
    "## store all except ['Black', 'BlackElo', 'BlackIsComp', 'BlackRD', 'WhiteIsComp', 'NoComp']\n",
    "## which is same as storing ['Date', 'ECO', 'PlyCount', 'White', 'WhiteElo', 'WhiteRD', 'emt', 'moves',\n",
    "# 'TimeControl_Base', 'TimeControl_Inc']\n",
    "# is there a speed difference in doing a \"col for col not in [...]\" compared to just  calling cols I want?\n",
    "\n",
    "# if black is comp:\n",
    "\n",
    "## store all except ['White', 'WhiteElo', 'BlackIsComp', 'WhiteRD', 'WhiteIsComp', 'NoComp']\n",
    "## which is same as storing ['Date', 'ECO', 'PlyCount', 'Black', 'BlackElo', 'BlackRD', 'emt', 'moves',\n",
    "# 'TimeControl_Base', 'TimeControl_Inc']\n",
    "\n"
   ]
  },
  {
   "cell_type": "code",
   "execution_count": null,
   "id": "22696fa7",
   "metadata": {
    "ExecuteTime": {
     "end_time": "2022-10-24T22:56:42.236635Z",
     "start_time": "2022-10-24T22:56:42.223669Z"
    },
    "hidden": true
   },
   "outputs": [],
   "source": [
    "# # %%timeit #1min 17s ± 882 ms per loop (mean ± std. dev. of 7 runs, 1 loop each)\n",
    "\n",
    "# testing = [row[1][['Date', 'ECO', 'PlyCount', 'White',\n",
    "#                   'WhiteElo', 'WhiteRD', 'emt', 'moves',\n",
    "#                   'TimeControl_Base', 'TimeControl_Inc']] if row[1]['WhiteIsComp']==1 else\\\n",
    "#            row[1][['Date', 'ECO', 'PlyCount', 'Black',\n",
    "#                   'BlackElo', 'BlackRD', 'emt', 'moves',\n",
    "#                   'TimeControl_Base', 'TimeControl_Inc']] if row[1]['BlackIsComp']==1 else \\\n",
    "#            None for row in df_2022_2018_CvH_distinv.iterrows()]"
   ]
  },
  {
   "cell_type": "code",
   "execution_count": null,
   "id": "78641e96",
   "metadata": {
    "ExecuteTime": {
     "end_time": "2022-10-25T12:34:53.190889Z",
     "start_time": "2022-10-25T12:34:53.184889Z"
    },
    "code_folding": [],
    "hidden": true
   },
   "outputs": [],
   "source": [
    "# # %%timeit # ~ 53\n",
    "\n",
    "# testing = pd.DataFrame([row[1][['Date', 'ECO', 'PlyCount', 'White',\n",
    "#                   'WhiteElo', 'WhiteRD', 'emt', 'moves',\n",
    "#                   'TimeControl_Base', 'TimeControl_Inc']] if row[1]['WhiteIsComp']==1 else\\\n",
    "#            row[1][['Date', 'ECO', 'PlyCount', 'Black',\n",
    "#                   'BlackElo', 'BlackRD', 'emt', 'moves',\n",
    "#                   'TimeControl_Base', 'TimeControl_Inc']] if row[1]['BlackIsComp']==1 else \\\n",
    "#            None for row in df_2022_2018_CvH_distinv.iterrows()])"
   ]
  },
  {
   "cell_type": "code",
   "execution_count": null,
   "id": "95a299e4",
   "metadata": {
    "ExecuteTime": {
     "end_time": "2022-10-25T12:50:21.073590Z",
     "start_time": "2022-10-25T12:50:21.060617Z"
    },
    "hidden": true
   },
   "outputs": [],
   "source": [
    "# testing = pd.DataFrame()"
   ]
  },
  {
   "cell_type": "code",
   "execution_count": null,
   "id": "9595436e",
   "metadata": {
    "ExecuteTime": {
     "end_time": "2022-10-25T12:50:18.654120Z",
     "start_time": "2022-10-25T12:50:18.638149Z"
    },
    "code_folding": [],
    "hidden": true
   },
   "outputs": [],
   "source": [
    "# # %%timeit # ~ 1m 20seconds\n",
    "\n",
    "# testing[['Date', 'ECO', 'PlyCount', 'Cheater',\n",
    "#          'CheaterElo', 'CheaterRD', 'emt', 'moves',\n",
    "#          'TimeControl_Base', 'TimeControl_Inc']] =\\\n",
    "#     [row[1][['Date', 'ECO', 'PlyCount', 'White',\n",
    "#              'WhiteElo', 'WhiteRD', 'emt', 'moves',\n",
    "#              'TimeControl_Base', 'TimeControl_Inc']].rename({\n",
    "#     'White': 'Cheater',\n",
    "#     'WhiteElo': 'CheaterElo',\n",
    "#     'WhiteRD': 'CheaterRD'}) if row[1]['WhiteIsComp']==1 else\\\n",
    "#      row[1][['Date', 'ECO', 'PlyCount', 'Black',\n",
    "#              'BlackElo', 'BlackRD', 'emt', 'moves',\n",
    "#              'TimeControl_Base', 'TimeControl_Inc']].rename({\n",
    "#     'Black': 'Cheater',\n",
    "#     'BlackElo': 'CheaterElo',\n",
    "#     'BlackRD': 'CheaterRD'}) if row[1]['BlackIsComp']==1 else \\\n",
    "#            None for row in df_2022_2018_CvH_distinv.iterrows()]"
   ]
  },
  {
   "cell_type": "code",
   "execution_count": null,
   "id": "0f4e7f2f",
   "metadata": {
    "ExecuteTime": {
     "end_time": "2022-10-25T12:34:54.077180Z",
     "start_time": "2022-10-25T12:34:54.073182Z"
    },
    "code_folding": [],
    "hidden": true
   },
   "outputs": [],
   "source": [
    "# # %%timeit # ~ 1m 19.7seconds\n",
    "\n",
    "# testing = pd.DataFrame([row[1][['Date', 'ECO', 'PlyCount', 'White',\n",
    "#                   'WhiteElo', 'WhiteRD', 'emt', 'moves',\n",
    "#                   'TimeControl_Base', 'TimeControl_Inc']].rename({\n",
    "#     'WhiteElo': 'CheaterElo',\n",
    "#     'WhiteRD': 'CheaterRD'}) if row[1]['WhiteIsComp']==1 else\\\n",
    "#            row[1][['Date', 'ECO', 'PlyCount', 'Black',\n",
    "#                   'BlackElo', 'BlackRD', 'emt', 'moves',\n",
    "#                   'TimeControl_Base', 'TimeControl_Inc']].rename({\n",
    "#     'BlackElo': 'CheaterElo',\n",
    "#     'BlackRD': 'CheaterRD'}) if row[1]['BlackIsComp']==1 else \\\n",
    "#            None for row in df_2022_2018_CvH_distinv.iterrows()])"
   ]
  },
  {
   "cell_type": "code",
   "execution_count": null,
   "id": "8af4c7e6",
   "metadata": {
    "ExecuteTime": {
     "end_time": "2022-10-25T12:35:41.840917Z",
     "start_time": "2022-10-25T12:35:41.833917Z"
    },
    "hidden": true
   },
   "outputs": [],
   "source": [
    "# # %%timeit # 43 s ± 1.18 s per loop (mean ± std. dev. of 7 runs, 1 loop each)\n",
    "\n",
    "# testing = pd.DataFrame([row[1][['Date', 'ECO', 'PlyCount', 'White',\n",
    "#                   'WhiteElo', 'WhiteRD', 'emt', 'moves',\n",
    "#                   'TimeControl_Base', 'TimeControl_Inc']].values if row[1]['WhiteIsComp']==1 else\\\n",
    "#            row[1][['Date', 'ECO', 'PlyCount', 'Black',\n",
    "#                   'BlackElo', 'BlackRD', 'emt', 'moves',\n",
    "#                   'TimeControl_Base', 'TimeControl_Inc']].values if row[1]['BlackIsComp']==1 else \\\n",
    "#            np.NaN for row in df_2022_2018_CvH_distinv.iterrows()])"
   ]
  },
  {
   "cell_type": "markdown",
   "id": "90f5cd1d",
   "metadata": {
    "heading_collapsed": true,
    "hidden": true
   },
   "source": [
    "##### Isolating cheaters"
   ]
  },
  {
   "cell_type": "code",
   "execution_count": null,
   "id": "77d9caca",
   "metadata": {
    "ExecuteTime": {
     "end_time": "2022-10-25T15:30:03.476204Z",
     "start_time": "2022-10-25T15:30:03.220990Z"
    },
    "hidden": true
   },
   "outputs": [],
   "source": [
    "# # %%timeit #143 ms ± 2.03 ms per loop (mean ± std. dev. of 7 runs, 10 loops each)\n",
    "\n",
    "# white_cheaters = df_2022_2018_CvH_distinv[df_2022_2018_CvH_distinv['WhiteIsComp']==1][\n",
    "#     ['Event', 'Date', 'ECO', 'PlyCount', 'White',\n",
    "#      'WhiteElo', 'WhiteRD', 'emt', 'moves',\n",
    "#      'TimeControl_Base', 'TimeControl_Inc']].rename(columns={'White': 'Cheater',\n",
    "#                                                              'WhiteElo': 'CheaterElo',\n",
    "#                                                              'WhiteRD': 'CheaterRD'})\n",
    "# white_cheaters['0_CheaterWasWhite_1_CheaterWasBlack'] = np.int8(0)\n",
    "\n",
    "# black_cheaters = df_2022_2018_CvH_distinv[df_2022_2018_CvH_distinv['BlackIsComp']==1][\n",
    "#     ['Event', 'Date', 'ECO', 'PlyCount', 'Black',\n",
    "#      'BlackElo', 'BlackRD', 'emt', 'moves',\n",
    "#      'TimeControl_Base', 'TimeControl_Inc']].rename(columns={'Black': 'Cheater',\n",
    "#                                                              'BlackElo': 'CheaterElo',\n",
    "#                                                              'BlackRD': 'CheaterRD'})\n",
    "# black_cheaters['0_CheaterWasWhite_1_CheaterWasBlack'] = np.int8(1)\n",
    "\n",
    "# df_2022_2018_C_distinv = pd.concat([\n",
    "#     white_cheaters,\n",
    "#     black_cheaters]).reset_index(drop=True)"
   ]
  },
  {
   "cell_type": "code",
   "execution_count": null,
   "id": "362ee1ac",
   "metadata": {
    "ExecuteTime": {
     "end_time": "2022-10-25T15:40:39.073204Z",
     "start_time": "2022-10-25T15:40:39.054271Z"
    },
    "hidden": true
   },
   "outputs": [],
   "source": [
    "# df_2022_2018_C_distinv.head(1)"
   ]
  },
  {
   "cell_type": "code",
   "execution_count": null,
   "id": "ac8d90bd",
   "metadata": {
    "ExecuteTime": {
     "end_time": "2022-10-25T15:41:01.761249Z",
     "start_time": "2022-10-25T15:41:01.744249Z"
    },
    "hidden": true
   },
   "outputs": [],
   "source": [
    "# df_2022_2018_C_distinv.Cheater.nunique() # 97"
   ]
  },
  {
   "cell_type": "code",
   "execution_count": null,
   "id": "f73bea96",
   "metadata": {
    "ExecuteTime": {
     "end_time": "2022-10-25T15:41:19.797212Z",
     "start_time": "2022-10-25T15:41:19.771200Z"
    },
    "hidden": true
   },
   "outputs": [],
   "source": [
    "# df_2022_2018_C_distinv.Cheater.unique()"
   ]
  },
  {
   "cell_type": "markdown",
   "id": "b482ea64",
   "metadata": {
    "hidden": true
   },
   "source": [
    "------"
   ]
  },
  {
   "cell_type": "markdown",
   "id": "10d66274",
   "metadata": {
    "heading_collapsed": true,
    "hidden": true
   },
   "source": [
    "#### Isolating Non-cheaters"
   ]
  },
  {
   "cell_type": "code",
   "execution_count": null,
   "id": "80d0e68a",
   "metadata": {
    "ExecuteTime": {
     "end_time": "2022-10-25T15:30:46.994305Z",
     "start_time": "2022-10-25T15:30:46.769150Z"
    },
    "hidden": true
   },
   "outputs": [],
   "source": [
    "# # %%timeit #143 ms ± 2.03 ms per loop (mean ± std. dev. of 7 runs, 10 loops each)\n",
    "\n",
    "# white_non_cheaters = df_2022_2018_CvH_distinv[df_2022_2018_CvH_distinv['WhiteIsComp']==0][\n",
    "#     ['Event', 'Date', 'ECO', 'PlyCount', 'White',\n",
    "#      'WhiteElo', 'WhiteRD', 'emt', 'moves',\n",
    "#      'TimeControl_Base', 'TimeControl_Inc']].rename(columns={'White': 'NonCheater',\n",
    "#                                                              'WhiteElo': 'NonCheaterElo',\n",
    "#                                                              'WhiteRD': 'NonCheaterRD'})\n",
    "# white_non_cheaters['0_HumanWasWhite_1_HumanWasBlack'] = np.int8(0)\n",
    "\n",
    "# black_non_cheaters = df_2022_2018_CvH_distinv[df_2022_2018_CvH_distinv['BlackIsComp']==0][\n",
    "#     ['Event', 'Date', 'ECO', 'PlyCount', 'Black',\n",
    "#      'BlackElo', 'BlackRD', 'emt', 'moves',\n",
    "#      'TimeControl_Base', 'TimeControl_Inc']].rename(columns={'Black': 'NonCheater',\n",
    "#                                                              'BlackElo': 'NonCheaterElo',\n",
    "#                                                              'BlackRD': 'NonCheaterRD'})\n",
    "# black_non_cheaters['0_HumanWasWhite_1_HumanWasBlack'] = np.int8(1)\n",
    "\n",
    "# df_2022_2018_H_distinv = pd.concat([\n",
    "#     white_non_cheaters,\n",
    "#     black_non_cheaters]).reset_index(drop=True)"
   ]
  },
  {
   "cell_type": "code",
   "execution_count": null,
   "id": "2eb2778a",
   "metadata": {
    "ExecuteTime": {
     "end_time": "2022-10-25T15:41:31.064269Z",
     "start_time": "2022-10-25T15:41:31.045320Z"
    },
    "hidden": true,
    "scrolled": true
   },
   "outputs": [],
   "source": [
    "# df_2022_2018_H_distinv.head(1)"
   ]
  },
  {
   "cell_type": "code",
   "execution_count": null,
   "id": "d9958535",
   "metadata": {
    "ExecuteTime": {
     "end_time": "2022-10-25T15:41:50.909474Z",
     "start_time": "2022-10-25T15:41:50.879494Z"
    },
    "hidden": true
   },
   "outputs": [],
   "source": [
    "# df_2022_2018_H_distinv.NonCheater.nunique() # 9399"
   ]
  },
  {
   "cell_type": "markdown",
   "id": "7d23af71",
   "metadata": {
    "hidden": true
   },
   "source": [
    "It is encouraging that there are more unique non-cheaters than there are computers. "
   ]
  },
  {
   "cell_type": "code",
   "execution_count": null,
   "id": "9f889916",
   "metadata": {
    "ExecuteTime": {
     "end_time": "2022-10-25T15:42:32.697306Z",
     "start_time": "2022-10-25T15:42:32.667330Z"
    },
    "hidden": true
   },
   "outputs": [],
   "source": [
    "# df_2022_2018_H_distinv.NonCheater.value_counts().head(30)"
   ]
  },
  {
   "cell_type": "markdown",
   "id": "c53de291",
   "metadata": {
    "hidden": true
   },
   "source": [
    "-------"
   ]
  },
  {
   "cell_type": "markdown",
   "id": "72b5ab3d",
   "metadata": {
    "heading_collapsed": true,
    "hidden": true
   },
   "source": [
    "#### Distributions"
   ]
  },
  {
   "cell_type": "code",
   "execution_count": null,
   "id": "6b8a9936",
   "metadata": {
    "ExecuteTime": {
     "end_time": "2022-10-25T15:52:18.218110Z",
     "start_time": "2022-10-25T15:46:30.240369Z"
    },
    "hidden": true
   },
   "outputs": [],
   "source": [
    "# joblib.dump(df_2022_2018_C_distinv, './data/preprocessed/df_2022_2018_C_distinv.pkl',\n",
    "#            compress=9)\n",
    "# joblib.dump(df_2022_2018_H_distinv, './data/preprocessed/df_2022_2018_H_distinv.pkl',\n",
    "#            compress=9)"
   ]
  },
  {
   "cell_type": "code",
   "execution_count": null,
   "id": "269e4290",
   "metadata": {
    "ExecuteTime": {
     "end_time": "2022-10-29T21:43:08.607130Z",
     "start_time": "2022-10-29T21:42:58.798452Z"
    },
    "hidden": true
   },
   "outputs": [],
   "source": [
    "df_2022_2018_C_distinv = joblib.load(\n",
    "    './data/preprocessed/df_2022_2018_C_distinv.pkl')\n",
    "df_2022_2018_H_distinv = joblib.load(\n",
    "    './data/preprocessed/df_2022_2018_H_distinv.pkl')"
   ]
  },
  {
   "cell_type": "code",
   "execution_count": null,
   "id": "366d4925",
   "metadata": {
    "ExecuteTime": {
     "end_time": "2022-10-29T21:43:08.639017Z",
     "start_time": "2022-10-29T21:43:08.608100Z"
    },
    "hidden": true
   },
   "outputs": [],
   "source": [
    "# df_2022_2018_C_distinv.head(2)\n",
    "df_2022_2018_H_distinv.head(2)"
   ]
  },
  {
   "cell_type": "code",
   "execution_count": null,
   "id": "a6cda0a9",
   "metadata": {
    "hidden": true
   },
   "outputs": [],
   "source": []
  },
  {
   "cell_type": "code",
   "execution_count": null,
   "id": "7c72f420",
   "metadata": {
    "hidden": true
   },
   "outputs": [],
   "source": []
  },
  {
   "cell_type": "code",
   "execution_count": null,
   "id": "00734cba",
   "metadata": {
    "ExecuteTime": {
     "end_time": "2022-10-28T12:40:13.949596Z",
     "start_time": "2022-10-28T12:40:10.321707Z"
    },
    "hidden": true
   },
   "outputs": [],
   "source": [
    "# cheaters (rated and unrated)\n",
    "fig = px.histogram(\n",
    "    data_frame=df_2022_2018_C_distinv,\n",
    "    x='CheaterElo',\n",
    "    nbins=(int(df_2022_2018_C_distinv.CheaterElo.describe()['max'] - \\\n",
    "          df_2022_2018_C_distinv.CheaterElo.describe()['min'])),\n",
    "    title='Distribution of Cheater ELO'\n",
    "    \n",
    "    )\n",
    "\n",
    "fig.show()"
   ]
  },
  {
   "cell_type": "code",
   "execution_count": null,
   "id": "58a600c7",
   "metadata": {
    "ExecuteTime": {
     "end_time": "2022-10-28T12:40:14.394595Z",
     "start_time": "2022-10-28T12:40:13.957596Z"
    },
    "hidden": true
   },
   "outputs": [],
   "source": [
    "# non-cheaters (rated and unrated)\n",
    "fig = px.histogram(\n",
    "    data_frame=df_2022_2018_H_distinv,\n",
    "    x='NonCheaterElo',\n",
    "    nbins=(int(df_2022_2018_H_distinv.NonCheaterElo.describe()['max'] - \\\n",
    "          df_2022_2018_H_distinv.NonCheaterElo.describe()['min'])),\n",
    "    title='Distribution of Non-Cheater ELO'\n",
    "    \n",
    "    )\n",
    "\n",
    "fig.show()"
   ]
  },
  {
   "cell_type": "markdown",
   "id": "69ddf0a3",
   "metadata": {
    "hidden": true
   },
   "source": [
    "The spike at 1720-1721 above is probably because there are still unrated games in this dataframe. One's elo doesn't change due to an unrated game which could lead to anomalies like above. It could also be such a spike because that is the elo assigned to new players when they play their first game. Many of these should probably be eliminated from the dataset to minimise the distribution skew.\n",
    "\n",
    "\n",
    "Another thing to investigate is how much is the change in any individual player's elo affecting this distribution i.e. how different would it be if the data was grouped by unique players and their respective elo was averaged across all their games, OR their last elo (date-wise) was used?"
   ]
  },
  {
   "cell_type": "code",
   "execution_count": null,
   "id": "f4bca076",
   "metadata": {
    "ExecuteTime": {
     "end_time": "2022-10-28T12:40:15.120115Z",
     "start_time": "2022-10-28T12:40:14.398594Z"
    },
    "hidden": true
   },
   "outputs": [],
   "source": [
    "# both rated and unrated\n",
    "print('Rated and Unrated:')\n",
    "display(df_2022_2018_C_distinv.CheaterElo.describe().to_frame().T)\n",
    "\n",
    "# # only rated\n",
    "df_2022_2018_C_distinv_rated = df_2022_2018_C_distinv[['rated' in x for x in df_2022_2018_C_distinv.Event]]\n",
    "print('Rated:')\n",
    "display(df_2022_2018_C_distinv.CheaterElo.describe().to_frame().T)\n",
    "\n",
    "# # only unrated\n",
    "df_2022_2018_C_distinv_unrated = df_2022_2018_C_distinv[['unrated' in x for x in df_2022_2018_C_distinv.Event]]\n",
    "print('Unrated:')\n",
    "display(df_2022_2018_C_distinv_unrated.CheaterElo.describe().to_frame().T)"
   ]
  },
  {
   "cell_type": "code",
   "execution_count": null,
   "id": "e947a5ea",
   "metadata": {
    "ExecuteTime": {
     "end_time": "2022-10-28T12:40:15.453116Z",
     "start_time": "2022-10-28T12:40:15.125115Z"
    },
    "hidden": true
   },
   "outputs": [],
   "source": [
    "# both rated and unrated\n",
    "print('Rated and Unrated:')\n",
    "display(df_2022_2018_H_distinv.NonCheaterElo.describe().to_frame().T)\n",
    "\n",
    "# # only rated\n",
    "df_2022_2018_H_distinv_rated = df_2022_2018_H_distinv[['rated' in x for x in df_2022_2018_H_distinv.Event]]\n",
    "print('Rated:')\n",
    "display(df_2022_2018_H_distinv.NonCheaterElo.describe().to_frame().T)\n",
    "\n",
    "# # only unrated\n",
    "df_2022_2018_H_distinv_unrated = df_2022_2018_H_distinv[['unrated' in x for x in df_2022_2018_H_distinv.Event]]\n",
    "print('Unrated:')\n",
    "display(df_2022_2018_H_distinv_unrated.NonCheaterElo.describe().to_frame().T)"
   ]
  },
  {
   "cell_type": "code",
   "execution_count": null,
   "id": "8c2c21d7",
   "metadata": {
    "hidden": true
   },
   "outputs": [],
   "source": []
  },
  {
   "cell_type": "code",
   "execution_count": null,
   "id": "e9db1d44",
   "metadata": {
    "ExecuteTime": {
     "end_time": "2022-10-28T12:40:15.469114Z",
     "start_time": "2022-10-28T12:40:15.458115Z"
    },
    "code_folding": [],
    "hidden": true
   },
   "outputs": [],
   "source": [
    "# # cheaters (unrated)\n",
    "# fig = px.histogram(\n",
    "#     data_frame=df_2022_2018_C_distinv_unrated,\n",
    "#     x='CheaterElo',\n",
    "# #     nbins=(int(df_2022_2018_C_distinv_unrated.CheaterElo.describe()['max'] - \\\n",
    "# #           df_2022_2018_C_distinv_unrated.CheaterElo.describe()['min'])),\n",
    "#     title='Distribution of Cheater ELO in Unrated Games'\n",
    "    \n",
    "#     )\n",
    "\n",
    "# fig.show()\n",
    "\n",
    "# # non-cheaters (unrated)\n",
    "# fig = px.histogram(\n",
    "#     data_frame=df_2022_2018_H_distinv_unrated,\n",
    "#     x='NonCheaterElo',\n",
    "# #     nbins=(int(df_2022_2018_H_distinv_unrated.NonCheaterElo.describe()['max'] - \\\n",
    "# #           df_2022_2018_H_distinv_unrated.NonCheaterElo.describe()['min'])),\n",
    "#     title='Distribution of NonCheater ELO in Unrated Games'\n",
    "    \n",
    "#     )\n",
    "\n",
    "# fig.show()"
   ]
  },
  {
   "cell_type": "code",
   "execution_count": null,
   "id": "4e840b4d",
   "metadata": {
    "hidden": true
   },
   "outputs": [],
   "source": []
  },
  {
   "cell_type": "code",
   "execution_count": null,
   "id": "2ea52e6d",
   "metadata": {
    "ExecuteTime": {
     "end_time": "2022-10-28T12:40:16.011160Z",
     "start_time": "2022-10-28T12:40:15.475121Z"
    },
    "hidden": true
   },
   "outputs": [],
   "source": [
    "fig = go.Figure()\n",
    "fig.add_trace(go.Histogram(x=df_2022_2018_C_distinv_rated['CheaterElo'],\n",
    "                          name='Cheater'))\n",
    "fig.add_trace(go.Histogram(x=df_2022_2018_H_distinv_rated['NonCheaterElo'],\n",
    "                          name='Non-cheater'))\n",
    "\n",
    "fig.update_layout(barmode='overlay',\n",
    "                 title=f'Distribution of Cheater and Non-Cheater Elo in Rated Games',\n",
    "                 xaxis_title='Elo',\n",
    "                 yaxis_title='Count')\n",
    "fig.update_traces(opacity=0.75)\n",
    "\n",
    "fig.show()\n",
    "\n",
    "\n",
    "fig = go.Figure()\n",
    "fig.add_trace(go.Histogram(x=df_2022_2018_C_distinv_unrated['CheaterElo'],\n",
    "                          name='Cheater'))\n",
    "fig.add_trace(go.Histogram(x=df_2022_2018_H_distinv_unrated['NonCheaterElo'],\n",
    "                          name='Non-cheater'))\n",
    "\n",
    "fig.update_layout(barmode='overlay',\n",
    "                 title=f'Distribution of Cheater and Non-Cheater Elo in Unrated Games',\n",
    "                 xaxis_title='Elo',\n",
    "                 yaxis_title='Count')\n",
    "fig.update_traces(opacity=0.75)\n",
    "\n",
    "\n",
    "fig.show()"
   ]
  },
  {
   "cell_type": "code",
   "execution_count": null,
   "id": "41e1bf3a",
   "metadata": {
    "ExecuteTime": {
     "end_time": "2022-10-28T12:40:16.027159Z",
     "start_time": "2022-10-28T12:40:16.015116Z"
    },
    "hidden": true
   },
   "outputs": [],
   "source": [
    "# fig = go.Figure()\n",
    "# fig.add_trace(go.Histogram(x=df_2022_2018_C_distinv_unrated['CheaterElo'],\n",
    "#                           name='Cheater'))\n",
    "# fig.add_trace(go.Histogram(x=df_2022_2018_H_distinv_unrated['NonCheaterElo'],\n",
    "#                           name='Non-cheater'))\n",
    "\n",
    "# fig.update_layout(barmode='overlay',\n",
    "#                  title=f'Distribution of Cheater and Non-Cheater Elo in Unrated Games',\n",
    "#                  xaxis_title='Elo',\n",
    "#                  yaxis_title='Count')\n",
    "# fig.update_traces(opacity=0.75)\n",
    "\n",
    "\n",
    "# fig.show()"
   ]
  },
  {
   "cell_type": "markdown",
   "id": "ecd3211e",
   "metadata": {
    "hidden": true
   },
   "source": [
    "Do the above distributions but across different time controls:"
   ]
  },
  {
   "cell_type": "code",
   "execution_count": null,
   "id": "d89e61ca",
   "metadata": {
    "ExecuteTime": {
     "end_time": "2022-10-28T12:40:16.139231Z",
     "start_time": "2022-10-28T12:40:16.035151Z"
    },
    "hidden": true
   },
   "outputs": [],
   "source": [
    "df_2022_2018_C_distinv_rated_standard = df_2022_2018_C_distinv[[\n",
    "    'rated standard' in x for x in df_2022_2018_C_distinv.Event]]"
   ]
  },
  {
   "cell_type": "code",
   "execution_count": null,
   "id": "4e67ea7e",
   "metadata": {
    "ExecuteTime": {
     "end_time": "2022-10-28T12:40:16.187150Z",
     "start_time": "2022-10-28T12:40:16.144116Z"
    },
    "hidden": true
   },
   "outputs": [],
   "source": [
    "df_2022_2018_C_distinv_rated_standard.head(1) # 87758 rows "
   ]
  },
  {
   "cell_type": "code",
   "execution_count": null,
   "id": "8bf5a00b",
   "metadata": {
    "ExecuteTime": {
     "end_time": "2022-10-28T12:40:16.296161Z",
     "start_time": "2022-10-28T12:40:16.191146Z"
    },
    "hidden": true
   },
   "outputs": [],
   "source": [
    "df_2022_2018_C_distinv_rated_blitz = df_2022_2018_C_distinv[[\n",
    "    'rated blitz' in x for x in df_2022_2018_C_distinv.Event]]"
   ]
  },
  {
   "cell_type": "code",
   "execution_count": null,
   "id": "7fc45d9c",
   "metadata": {
    "ExecuteTime": {
     "end_time": "2022-10-28T12:40:16.328149Z",
     "start_time": "2022-10-28T12:40:16.300154Z"
    },
    "hidden": true
   },
   "outputs": [],
   "source": [
    "df_2022_2018_C_distinv_rated_blitz.head(1)"
   ]
  },
  {
   "cell_type": "code",
   "execution_count": null,
   "id": "7b3dc70d",
   "metadata": {
    "hidden": true
   },
   "outputs": [],
   "source": []
  },
  {
   "cell_type": "code",
   "execution_count": null,
   "id": "869f3bda",
   "metadata": {
    "hidden": true
   },
   "outputs": [],
   "source": []
  },
  {
   "cell_type": "markdown",
   "id": "73192f4f",
   "metadata": {
    "heading_collapsed": true,
    "hidden": true
   },
   "source": [
    "##### Grouping by unique cheaters in unrated and rated"
   ]
  },
  {
   "cell_type": "markdown",
   "id": "2d935753",
   "metadata": {
    "hidden": true
   },
   "source": [
    "Grouping by unique cheaters in unrated:"
   ]
  },
  {
   "cell_type": "code",
   "execution_count": null,
   "id": "7ec1d10e",
   "metadata": {
    "ExecuteTime": {
     "end_time": "2022-10-25T20:26:15.086320Z",
     "start_time": "2022-10-25T20:26:15.063406Z"
    },
    "hidden": true
   },
   "outputs": [],
   "source": [
    "df_2022_2018_C_distinv_unrated.head(2)"
   ]
  },
  {
   "cell_type": "code",
   "execution_count": null,
   "id": "67c6c0c9",
   "metadata": {
    "ExecuteTime": {
     "end_time": "2022-10-25T21:07:23.482632Z",
     "start_time": "2022-10-25T21:07:23.447727Z"
    },
    "hidden": true
   },
   "outputs": [],
   "source": [
    "df_2022_2018_C_distinv_unrated[[\n",
    "    'Cheater', 'CheaterElo', 'CheaterRD',\n",
    "    'TimeControl_Base', 'TimeControl_Inc']].groupby(by=[\n",
    "    'Cheater', 'CheaterElo', 'CheaterRD',\n",
    "    'TimeControl_Base', 'TimeControl_Inc']).count()"
   ]
  },
  {
   "cell_type": "code",
   "execution_count": null,
   "id": "4935ef6f",
   "metadata": {
    "ExecuteTime": {
     "end_time": "2022-10-25T21:06:38.865422Z",
     "start_time": "2022-10-25T21:06:38.857448Z"
    },
    "hidden": true
   },
   "outputs": [],
   "source": [
    "df_2022_2018_C_distinv_unrated.Cheater.nunique()"
   ]
  },
  {
   "cell_type": "code",
   "execution_count": null,
   "id": "9635fc8d",
   "metadata": {
    "ExecuteTime": {
     "end_time": "2022-10-25T21:20:02.546778Z",
     "start_time": "2022-10-25T21:20:02.536804Z"
    },
    "hidden": true
   },
   "outputs": [],
   "source": [
    "df_2022_2018_C_distinv_unrated[['Cheater', 'CheaterElo', 'CheaterRD']].groupby(by=[\n",
    "    'Cheater', 'CheaterElo', 'CheaterRD']).value_counts()\n",
    "\n",
    "# df_2022_2018_C_distinv_unrated.value_counts(subset=['Cheater', 'CheaterElo', 'CheaterRD'])"
   ]
  },
  {
   "cell_type": "code",
   "execution_count": null,
   "id": "312f9044",
   "metadata": {
    "ExecuteTime": {
     "end_time": "2022-10-25T21:19:56.275997Z",
     "start_time": "2022-10-25T21:19:56.256464Z"
    },
    "hidden": true
   },
   "outputs": [],
   "source": [
    "df_2022_2018_C_distinv_unrated.value_counts(subset=['Cheater', 'CheaterElo', 'CheaterRD'])"
   ]
  },
  {
   "cell_type": "code",
   "execution_count": null,
   "id": "2ac050b4",
   "metadata": {
    "ExecuteTime": {
     "end_time": "2022-10-25T21:22:01.121897Z",
     "start_time": "2022-10-25T21:22:01.114891Z"
    },
    "hidden": true
   },
   "outputs": [],
   "source": [
    "df_2022_2018_C_distinv_unrated.value_counts(subset=['Cheater', 'CheaterElo'])"
   ]
  },
  {
   "cell_type": "code",
   "execution_count": null,
   "id": "3360f97d",
   "metadata": {
    "ExecuteTime": {
     "end_time": "2022-10-25T21:28:28.776625Z",
     "start_time": "2022-10-25T21:28:28.757676Z"
    },
    "hidden": true
   },
   "outputs": [],
   "source": [
    "df_2022_2018_C_distinv_unrated.value_counts(subset=['Date', 'Cheater', 'CheaterElo']).reset_index()"
   ]
  },
  {
   "cell_type": "code",
   "execution_count": null,
   "id": "cdc5a384",
   "metadata": {
    "ExecuteTime": {
     "end_time": "2022-10-25T21:32:11.877685Z",
     "start_time": "2022-10-25T21:32:11.855740Z"
    },
    "hidden": true
   },
   "outputs": [],
   "source": [
    "df_2022_2018_C_distinv_unrated.value_counts(subset=[\n",
    "    'Date', 'Cheater','CheaterElo']).reset_index().sort_values(by='Date')"
   ]
  },
  {
   "cell_type": "code",
   "execution_count": null,
   "id": "6a3630e9",
   "metadata": {
    "ExecuteTime": {
     "end_time": "2022-10-25T21:30:40.763302Z",
     "start_time": "2022-10-25T21:30:40.748348Z"
    },
    "hidden": true,
    "scrolled": true
   },
   "outputs": [],
   "source": [
    "df_2022_2018_C_distinv_unrated.value_counts(subset=['Cheater']).reset_index()"
   ]
  },
  {
   "cell_type": "code",
   "execution_count": null,
   "id": "81149d7a",
   "metadata": {
    "hidden": true
   },
   "outputs": [],
   "source": []
  },
  {
   "cell_type": "code",
   "execution_count": null,
   "id": "b2ec7b99",
   "metadata": {
    "hidden": true
   },
   "outputs": [],
   "source": []
  },
  {
   "cell_type": "code",
   "execution_count": null,
   "id": "7b72383a",
   "metadata": {
    "hidden": true
   },
   "outputs": [],
   "source": []
  },
  {
   "cell_type": "markdown",
   "id": "9eed72ea",
   "metadata": {
    "hidden": true
   },
   "source": [
    "Grouping by unique cheaters in rated:"
   ]
  },
  {
   "cell_type": "code",
   "execution_count": null,
   "id": "321985fe",
   "metadata": {
    "ExecuteTime": {
     "end_time": "2022-10-25T21:39:11.999891Z",
     "start_time": "2022-10-25T21:39:11.919547Z"
    },
    "hidden": true
   },
   "outputs": [],
   "source": [
    "df_2022_2018_C_distinv_rated.value_counts(subset=[\n",
    "    'Date', 'Cheater','CheaterElo']).reset_index().sort_values(by='Date')"
   ]
  },
  {
   "cell_type": "code",
   "execution_count": null,
   "id": "c1c1f965",
   "metadata": {
    "ExecuteTime": {
     "end_time": "2022-10-25T22:05:28.651909Z",
     "start_time": "2022-10-25T22:05:28.622958Z"
    },
    "hidden": true
   },
   "outputs": [],
   "source": [
    "df_2022_2018_C_distinv_rated.Cheater.value_counts()"
   ]
  },
  {
   "cell_type": "code",
   "execution_count": null,
   "id": "2aaac236",
   "metadata": {
    "ExecuteTime": {
     "end_time": "2022-10-25T22:05:59.442893Z",
     "start_time": "2022-10-25T22:05:59.385020Z"
    },
    "hidden": true
   },
   "outputs": [],
   "source": [
    "df_2022_2018_C_distinv_rated[\n",
    "    df_2022_2018_C_distinv_rated.Cheater=='exeComp'\n",
    "]"
   ]
  },
  {
   "cell_type": "code",
   "execution_count": null,
   "id": "393fadf4",
   "metadata": {
    "hidden": true
   },
   "outputs": [],
   "source": []
  },
  {
   "cell_type": "code",
   "execution_count": null,
   "id": "1fec9b15",
   "metadata": {
    "hidden": true
   },
   "outputs": [],
   "source": []
  },
  {
   "cell_type": "code",
   "execution_count": null,
   "id": "3a250dfc",
   "metadata": {
    "hidden": true
   },
   "outputs": [],
   "source": []
  },
  {
   "cell_type": "code",
   "execution_count": null,
   "id": "3cb1dfed",
   "metadata": {
    "hidden": true
   },
   "outputs": [],
   "source": [
    "# fig = px.histogram(\n",
    "#     data_frame=iris_df,\n",
    "#     x='petal_width',\n",
    "#     nbins=12,\n",
    "#     title='Petal width distribution',\n",
    "#     labels={\n",
    "#         'petal_width': 'Petal width (cm)'\n",
    "#     }\n",
    "#     )\n",
    "\n",
    "\n",
    "\n",
    "# fig.show()"
   ]
  },
  {
   "cell_type": "code",
   "execution_count": null,
   "id": "f2d6d509",
   "metadata": {
    "hidden": true
   },
   "outputs": [],
   "source": []
  },
  {
   "cell_type": "code",
   "execution_count": null,
   "id": "84074f0d",
   "metadata": {
    "hidden": true
   },
   "outputs": [],
   "source": []
  },
  {
   "cell_type": "code",
   "execution_count": null,
   "id": "53475e6d",
   "metadata": {
    "hidden": true
   },
   "outputs": [],
   "source": []
  },
  {
   "cell_type": "code",
   "execution_count": null,
   "id": "b99015e9",
   "metadata": {
    "hidden": true
   },
   "outputs": [],
   "source": []
  },
  {
   "cell_type": "code",
   "execution_count": null,
   "id": "f0abc9d9",
   "metadata": {
    "hidden": true
   },
   "outputs": [],
   "source": [
    "df_2022_2018_C_distinv.CheaterRD.describe()"
   ]
  },
  {
   "cell_type": "code",
   "execution_count": null,
   "id": "d7a86137",
   "metadata": {
    "hidden": true
   },
   "outputs": [],
   "source": [
    "df_2022_2018_H_distinv.NonCheaterRD.describe()"
   ]
  },
  {
   "cell_type": "code",
   "execution_count": null,
   "id": "88e3518b",
   "metadata": {
    "hidden": true
   },
   "outputs": [],
   "source": []
  },
  {
   "cell_type": "code",
   "execution_count": null,
   "id": "1eb1446b",
   "metadata": {
    "hidden": true
   },
   "outputs": [],
   "source": []
  },
  {
   "cell_type": "code",
   "execution_count": null,
   "id": "6d34b090",
   "metadata": {
    "hidden": true
   },
   "outputs": [],
   "source": []
  },
  {
   "cell_type": "code",
   "execution_count": null,
   "id": "3b3bbd0a",
   "metadata": {
    "hidden": true
   },
   "outputs": [],
   "source": []
  },
  {
   "cell_type": "markdown",
   "id": "38d6cf8e",
   "metadata": {
    "heading_collapsed": true,
    "hidden": true
   },
   "source": [
    "#### Looking for the difference in elo between cheater and human:"
   ]
  },
  {
   "cell_type": "code",
   "execution_count": null,
   "id": "40cb533c",
   "metadata": {
    "hidden": true
   },
   "outputs": [],
   "source": [
    "# think about comparing this to the difference in elo between titled players"
   ]
  },
  {
   "cell_type": "code",
   "execution_count": null,
   "id": "bd1df7eb",
   "metadata": {
    "hidden": true
   },
   "outputs": [],
   "source": []
  },
  {
   "cell_type": "code",
   "execution_count": null,
   "id": "800dd256",
   "metadata": {
    "hidden": true
   },
   "outputs": [],
   "source": []
  },
  {
   "cell_type": "code",
   "execution_count": null,
   "id": "2f91c915",
   "metadata": {
    "hidden": true
   },
   "outputs": [],
   "source": []
  },
  {
   "cell_type": "code",
   "execution_count": null,
   "id": "1f600fb3",
   "metadata": {
    "hidden": true
   },
   "outputs": [],
   "source": []
  },
  {
   "cell_type": "code",
   "execution_count": null,
   "id": "9ec6aadb",
   "metadata": {
    "hidden": true
   },
   "outputs": [],
   "source": []
  },
  {
   "cell_type": "code",
   "execution_count": null,
   "id": "6b418740",
   "metadata": {
    "hidden": true
   },
   "outputs": [],
   "source": []
  },
  {
   "cell_type": "code",
   "execution_count": null,
   "id": "a1aa5b35",
   "metadata": {
    "hidden": true
   },
   "outputs": [],
   "source": []
  },
  {
   "cell_type": "markdown",
   "id": "3f3bad14",
   "metadata": {
    "hidden": true
   },
   "source": [
    "------"
   ]
  },
  {
   "cell_type": "markdown",
   "id": "22637f7a",
   "metadata": {
    "heading_collapsed": true,
    "hidden": true
   },
   "source": [
    "### Looking at Titled HvH games"
   ]
  },
  {
   "cell_type": "markdown",
   "id": "3584b63d",
   "metadata": {
    "hidden": true
   },
   "source": [
    "#### Create / Load DataFrame"
   ]
  },
  {
   "cell_type": "code",
   "execution_count": null,
   "id": "8b0d78be",
   "metadata": {
    "ExecuteTime": {
     "end_time": "2022-10-30T17:04:45.103977Z",
     "start_time": "2022-10-30T17:04:42.040762Z"
    },
    "hidden": true
   },
   "outputs": [],
   "source": [
    "df_2022_2018_HvH = joblib.load('./data/preprocessed/2021_2017_titled.pkl')"
   ]
  },
  {
   "cell_type": "code",
   "execution_count": null,
   "id": "bdb843ca",
   "metadata": {
    "ExecuteTime": {
     "end_time": "2022-10-30T17:04:45.135630Z",
     "start_time": "2022-10-30T17:04:45.105844Z"
    },
    "hidden": true
   },
   "outputs": [],
   "source": [
    "df_2022_2018_HvH.head(1)"
   ]
  },
  {
   "cell_type": "markdown",
   "id": "4e68200f",
   "metadata": {
    "hidden": true
   },
   "source": [
    "This pickle does not contain the player names. I may as well go back and use a df which does contain names to see if there are any additional relationships. "
   ]
  },
  {
   "cell_type": "code",
   "execution_count": null,
   "id": "f2b89df7",
   "metadata": {
    "ExecuteTime": {
     "end_time": "2022-10-26T21:52:30.894205Z",
     "start_time": "2022-10-26T21:52:30.879204Z"
    },
    "hidden": true
   },
   "outputs": [],
   "source": [
    "# # on Muninn\n",
    "# raw_p = [pd.read_json(\n",
    "#     f'C:/Users/Emanuel/Desktop/data/capstone/raw/json/Titled/ficsgamesdb_{year}_titled_movetimes_26{val}.json') \\\n",
    "#                    for year, val in zip(np.arange(2021, 2016, -1), [4827, 5091, 5092, 5093, 5094])]"
   ]
  },
  {
   "cell_type": "code",
   "execution_count": null,
   "id": "6205238f",
   "metadata": {
    "ExecuteTime": {
     "end_time": "2022-10-26T21:52:30.910204Z",
     "start_time": "2022-10-26T21:52:30.896204Z"
    },
    "hidden": true
   },
   "outputs": [],
   "source": [
    "# # raw_p[0].head(1)\n",
    "# raw_p[0].columns"
   ]
  },
  {
   "cell_type": "code",
   "execution_count": null,
   "id": "fded398c",
   "metadata": {
    "ExecuteTime": {
     "end_time": "2022-10-26T21:52:30.926204Z",
     "start_time": "2022-10-26T21:52:30.912204Z"
    },
    "hidden": true
   },
   "outputs": [],
   "source": [
    "# df_2021_2017_HvH_raw = hp.concatenate_cleaned_pickles(\n",
    "#     raw_p, list_of_cols=['Event', 'Site', 'Round', 'BlackClock',\n",
    "#                          'FICSGamesDBGameNo', 'Time', 'WhiteClock'])\n",
    "\n",
    "# # All PlyCount values match the length of moves-list\n",
    "# # Shape pre-drop: (88017, 17)\n",
    "# # Dropping duplicates...\n",
    "# # Shape post-drop: (87982, 17)\n",
    "# #  Duplicates dropped: 35"
   ]
  },
  {
   "cell_type": "code",
   "execution_count": null,
   "id": "d42275c4",
   "metadata": {
    "ExecuteTime": {
     "end_time": "2022-10-26T21:52:30.942204Z",
     "start_time": "2022-10-26T21:52:30.928204Z"
    },
    "hidden": true
   },
   "outputs": [],
   "source": [
    "# joblib.dump(df_2021_2017_HvH_raw,\n",
    "#            'C:/Users/Emanuel/Desktop/data/capstone/preprocessed/2021_2017_titled_distinv.pkl',\n",
    "#            compress=9)"
   ]
  },
  {
   "cell_type": "code",
   "execution_count": null,
   "id": "de9fb71e",
   "metadata": {
    "ExecuteTime": {
     "end_time": "2022-10-31T21:41:22.555645Z",
     "start_time": "2022-10-31T21:41:19.976837Z"
    },
    "hidden": true
   },
   "outputs": [],
   "source": [
    "df_2021_2017_titled_distinv = joblib.load(\n",
    "    './data/preprocessed/2021_2017_titled_distinv.pkl')"
   ]
  },
  {
   "cell_type": "code",
   "execution_count": null,
   "id": "a734c366",
   "metadata": {
    "ExecuteTime": {
     "end_time": "2022-10-31T21:41:23.274824Z",
     "start_time": "2022-10-31T21:41:23.248865Z"
    },
    "hidden": true
   },
   "outputs": [],
   "source": [
    "df_2021_2017_titled_distinv.head(1)"
   ]
  },
  {
   "cell_type": "code",
   "execution_count": null,
   "id": "e78d3266",
   "metadata": {
    "ExecuteTime": {
     "end_time": "2022-10-28T12:40:38.241366Z",
     "start_time": "2022-10-28T12:40:38.230365Z"
    },
    "hidden": true
   },
   "outputs": [],
   "source": [
    "# show distribution for all games, rated, and unrated games"
   ]
  },
  {
   "cell_type": "code",
   "execution_count": null,
   "id": "c42c9206",
   "metadata": {
    "ExecuteTime": {
     "end_time": "2022-10-28T12:40:38.385365Z",
     "start_time": "2022-10-28T12:40:38.247408Z"
    },
    "hidden": true
   },
   "outputs": [],
   "source": [
    "BlackElo_=df_2021_2017_titled_distinv[['Event', 'Date', 'BlackElo', 'BlackRD']].rename(columns={\n",
    "    'BlackElo': 'Elo',\n",
    "    'BlackRD': 'RD'})\n",
    "WhiteElo_=df_2021_2017_titled_distinv[['Event', 'Date', 'WhiteElo', 'WhiteRD']].rename(columns={\n",
    "    'WhiteElo': 'Elo',\n",
    "    'WhiteRD': 'RD'})\n",
    "\n",
    "Titled_Elos = pd.concat([BlackElo_, WhiteElo_]).reset_index()\n",
    "\n",
    "Titled_Elos.head()"
   ]
  },
  {
   "cell_type": "code",
   "execution_count": null,
   "id": "be7369a2",
   "metadata": {
    "ExecuteTime": {
     "end_time": "2022-10-28T12:40:38.764583Z",
     "start_time": "2022-10-28T12:40:38.391367Z"
    },
    "hidden": true
   },
   "outputs": [],
   "source": [
    "# fig = px.histogram(\n",
    "#     data_frame=Titled_Elos,\n",
    "#     x='Elo',\n",
    "#     nbins=(int(Titled_Elos.Elo.describe()['max'] - \\\n",
    "#           Titled_Elos.Elo.describe()['min'])),\n",
    "#     title='Distribution of Titled PLayer ELO'\n",
    "    \n",
    "#     )\n",
    "\n",
    "# fig.show()\n",
    "\n",
    "fig = px.histogram(\n",
    "    data_frame=Titled_Elos,\n",
    "    x='Elo',\n",
    "#     nbins=(int(Titled_Elos.Elo.describe()['max'] - \\\n",
    "#           Titled_Elos.Elo.describe()['min'])),\n",
    "    title='Distribution of Titled PLayer ELO'\n",
    "    \n",
    "    )\n",
    "\n",
    "fig.show()"
   ]
  },
  {
   "cell_type": "code",
   "execution_count": null,
   "id": "36b750b9",
   "metadata": {
    "hidden": true
   },
   "outputs": [],
   "source": []
  },
  {
   "cell_type": "code",
   "execution_count": null,
   "id": "425c792b",
   "metadata": {
    "hidden": true
   },
   "outputs": [],
   "source": []
  },
  {
   "cell_type": "code",
   "execution_count": null,
   "id": "3da57fea",
   "metadata": {
    "ExecuteTime": {
     "end_time": "2022-10-26T21:52:47.561675Z",
     "start_time": "2022-10-26T21:52:47.546742Z"
    },
    "hidden": true
   },
   "outputs": [],
   "source": [
    "# calculate the difference in elos across opponents for rated and unrated games"
   ]
  },
  {
   "cell_type": "code",
   "execution_count": null,
   "id": "e37895ce",
   "metadata": {
    "ExecuteTime": {
     "end_time": "2022-10-28T12:40:39.461600Z",
     "start_time": "2022-10-28T12:40:38.769587Z"
    },
    "hidden": true
   },
   "outputs": [],
   "source": [
    "fig = px.histogram(\n",
    "    data_frame=Titled_Elos[['rated' in event for event in Titled_Elos.Event]],\n",
    "    x='Elo',\n",
    "#     nbins=(int(Titled_Elos.Elo.describe()['max'] - \\\n",
    "#           Titled_Elos.Elo.describe()['min'])),\n",
    "    title='Distribution of Titled PLayer ELO in Rated Games'\n",
    "    \n",
    "    )\n",
    "\n",
    "fig.show()\n",
    "\n",
    "fig = px.histogram(\n",
    "    data_frame=Titled_Elos[['unrated' in event for event in Titled_Elos.Event]],\n",
    "    x='Elo',\n",
    "#     nbins=(int(Titled_Elos.Elo.describe()['max'] - \\\n",
    "#           Titled_Elos.Elo.describe()['min'])),\n",
    "    title='Distribution of Titled PLayer ELO in Unrated Games'\n",
    "    \n",
    "    )\n",
    "\n",
    "fig.show()"
   ]
  },
  {
   "cell_type": "code",
   "execution_count": null,
   "id": "9c03a230",
   "metadata": {
    "hidden": true
   },
   "outputs": [],
   "source": []
  },
  {
   "cell_type": "code",
   "execution_count": null,
   "id": "dc663500",
   "metadata": {
    "hidden": true
   },
   "outputs": [],
   "source": []
  },
  {
   "cell_type": "code",
   "execution_count": null,
   "id": "80d2341b",
   "metadata": {
    "hidden": true
   },
   "outputs": [],
   "source": []
  },
  {
   "cell_type": "code",
   "execution_count": null,
   "id": "f4c16151",
   "metadata": {
    "hidden": true
   },
   "outputs": [],
   "source": []
  },
  {
   "cell_type": "markdown",
   "id": "74be5a01",
   "metadata": {
    "hidden": true
   },
   "source": [
    "----"
   ]
  },
  {
   "cell_type": "markdown",
   "id": "38d43ad6",
   "metadata": {
    "heading_collapsed": true
   },
   "source": [
    "## Checking PlyCount Matches Length of moves"
   ]
  },
  {
   "cell_type": "code",
   "execution_count": null,
   "id": "6290d814",
   "metadata": {
    "hidden": true
   },
   "outputs": [],
   "source": [
    "# Using df_2022_2018_CvH_distinv for now:"
   ]
  },
  {
   "cell_type": "code",
   "execution_count": null,
   "id": "02347bab",
   "metadata": {
    "ExecuteTime": {
     "end_time": "2022-10-24T15:20:51.530108Z",
     "start_time": "2022-10-24T15:20:40.012445Z"
    },
    "hidden": true
   },
   "outputs": [],
   "source": [
    "df_2022_2018_CvH_distinv = joblib.load(\n",
    "    './data/preprocessed/2022_2018_CvH_distinv.pkl')"
   ]
  },
  {
   "cell_type": "code",
   "execution_count": null,
   "id": "aa67d8bc",
   "metadata": {
    "ExecuteTime": {
     "end_time": "2022-10-24T15:21:09.028162Z",
     "start_time": "2022-10-24T15:21:08.985161Z"
    },
    "hidden": true
   },
   "outputs": [],
   "source": [
    "df_2022_2018_CvH_distinv.head(1)"
   ]
  },
  {
   "cell_type": "code",
   "execution_count": null,
   "id": "f7b9b32a",
   "metadata": {
    "ExecuteTime": {
     "end_time": "2022-10-24T15:45:04.093324Z",
     "start_time": "2022-10-24T15:45:04.073351Z"
    },
    "hidden": true
   },
   "outputs": [],
   "source": [
    "type(df_2022_2018_CvH_distinv.iloc[0].moves) # list !!!\n",
    "# len(df_2022_2018_CvH_distinv.iloc[0].moves)"
   ]
  },
  {
   "cell_type": "code",
   "execution_count": null,
   "id": "95611b46",
   "metadata": {
    "ExecuteTime": {
     "end_time": "2022-10-24T16:37:51.109518Z",
     "start_time": "2022-10-24T16:37:51.019435Z"
    },
    "hidden": true
   },
   "outputs": [],
   "source": [
    "# list comprehension to check for each row\n",
    "\n",
    "# fastest method found in testing\n",
    "\n",
    "ply_movelen_check_list = all(\n",
    "    [len(row[0])==row[1] for row in zip(\n",
    "        df_2022_2018_CvH_distinv.moves, df_2022_2018_CvH_distinv.PlyCount)])\n",
    "ply_movelen_check_list"
   ]
  },
  {
   "cell_type": "code",
   "execution_count": null,
   "id": "142c7a1b",
   "metadata": {
    "hidden": true
   },
   "outputs": [],
   "source": []
  },
  {
   "cell_type": "code",
   "execution_count": null,
   "id": "896f19e1",
   "metadata": {
    "hidden": true
   },
   "outputs": [],
   "source": []
  },
  {
   "cell_type": "code",
   "execution_count": null,
   "id": "8e18fd23",
   "metadata": {
    "hidden": true
   },
   "outputs": [],
   "source": []
  },
  {
   "cell_type": "markdown",
   "id": "2cb5f203",
   "metadata": {
    "hidden": true
   },
   "source": [
    "----"
   ]
  },
  {
   "cell_type": "code",
   "execution_count": null,
   "id": "e9352937",
   "metadata": {
    "hidden": true
   },
   "outputs": [],
   "source": []
  },
  {
   "cell_type": "code",
   "execution_count": null,
   "id": "dccb2c11",
   "metadata": {
    "hidden": true
   },
   "outputs": [],
   "source": []
  },
  {
   "cell_type": "markdown",
   "id": "4eccdba3",
   "metadata": {
    "hidden": true
   },
   "source": [
    "-----"
   ]
  },
  {
   "cell_type": "markdown",
   "id": "87c3bfc2",
   "metadata": {
    "heading_collapsed": true
   },
   "source": [
    "## Getting Stockfish "
   ]
  },
  {
   "cell_type": "code",
   "execution_count": null,
   "id": "0e10f460",
   "metadata": {
    "ExecuteTime": {
     "end_time": "2022-10-31T22:09:35.614405Z",
     "start_time": "2022-10-31T22:09:30.781693Z"
    },
    "hidden": true
   },
   "outputs": [],
   "source": [
    "# df with event info to separate rated and unrated\n",
    "\n",
    "df_2022_2018_CvH_distinv = joblib.load(\n",
    "    './data/preprocessed/2022_2018_CvH_distinv_withevent.pkl')"
   ]
  },
  {
   "cell_type": "code",
   "execution_count": null,
   "id": "3496d23e",
   "metadata": {
    "hidden": true
   },
   "outputs": [],
   "source": []
  },
  {
   "cell_type": "code",
   "execution_count": null,
   "id": "b22004a5",
   "metadata": {
    "hidden": true
   },
   "outputs": [],
   "source": [
    "# starting with multi-pv, then do single-pv, \n",
    "\n",
    "# Muninn has 8 cores => set threads to 4\n",
    "# Vostro has ..."
   ]
  },
  {
   "cell_type": "code",
   "execution_count": null,
   "id": "d148d2e0",
   "metadata": {
    "ExecuteTime": {
     "end_time": "2022-10-30T03:07:52.346850Z",
     "start_time": "2022-10-30T03:07:51.295500Z"
    },
    "hidden": true
   },
   "outputs": [],
   "source": [
    "# sf_ = Stockfish(path='./stockfish_15_win_x64_ssse/stockfish_15_x64_ssse.exe',\n",
    "#         depth=20,\n",
    "#         parameters={\n",
    "#             \"Threads\": 7,\n",
    "#             \"Hash\": 4096,\n",
    "#             \"MultiPV\": 1,\n",
    "#             \"Skill Level\": 20        \n",
    "            \n",
    "#             }\n",
    "#         )"
   ]
  },
  {
   "cell_type": "code",
   "execution_count": null,
   "id": "bfa55de2",
   "metadata": {
    "hidden": true
   },
   "outputs": [],
   "source": [
    "# sf_ = Stockfish(path='./stockfish_15_win_x64_ssse/stockfish_15_x64_ssse.exe',\n",
    "#         depth=20,\n",
    "#         parameters={\n",
    "#             \"Threads\": 1,\n",
    "#             \"Hash\": 1024,\n",
    "#             \"MultiPV\": 5,\n",
    "#             \"Skill Level\": 20        \n",
    "            \n",
    "#             }\n",
    "#         )"
   ]
  },
  {
   "cell_type": "code",
   "execution_count": null,
   "id": "e60b548b",
   "metadata": {
    "ExecuteTime": {
     "end_time": "2022-10-30T23:29:06.596542Z",
     "start_time": "2022-10-30T23:29:05.775140Z"
    },
    "hidden": true
   },
   "outputs": [],
   "source": [
    "# sf_ = Stockfish(path='./stockfish_15_win_x64_ssse/stockfish_15_x64_ssse.exe',\n",
    "#         depth=5,\n",
    "#         parameters={\n",
    "#             \"Threads\": 4,\n",
    "#             \"Hash\": 1024,\n",
    "#             \"MultiPV\": 1,\n",
    "#             \"Skill Level\": 20        \n",
    "            \n",
    "#             }\n",
    "#         )"
   ]
  },
  {
   "cell_type": "code",
   "execution_count": null,
   "id": "11f3073f",
   "metadata": {
    "ExecuteTime": {
     "end_time": "2022-10-29T22:08:40.319473Z",
     "start_time": "2022-10-29T22:08:40.311497Z"
    },
    "hidden": true
   },
   "outputs": [],
   "source": [
    "# sf.update_engine_parameters()"
   ]
  },
  {
   "cell_type": "code",
   "execution_count": null,
   "id": "6f358696",
   "metadata": {
    "ExecuteTime": {
     "end_time": "2022-10-29T22:08:40.600751Z",
     "start_time": "2022-10-29T22:08:40.582790Z"
    },
    "hidden": true
   },
   "outputs": [],
   "source": [
    "# chess.engine.SimpleEngine.popen_uci()"
   ]
  },
  {
   "cell_type": "code",
   "execution_count": null,
   "id": "e2b3a703",
   "metadata": {
    "ExecuteTime": {
     "end_time": "2022-10-29T22:08:43.840197Z",
     "start_time": "2022-10-29T22:08:43.830221Z"
    },
    "hidden": true
   },
   "outputs": [],
   "source": [
    "eval_ = sf_.get_evaluation()\n",
    "eval_"
   ]
  },
  {
   "cell_type": "code",
   "execution_count": null,
   "id": "16b76b18",
   "metadata": {
    "ExecuteTime": {
     "end_time": "2022-10-29T22:07:21.883225Z",
     "start_time": "2022-10-29T22:07:21.872227Z"
    },
    "hidden": true
   },
   "outputs": [],
   "source": [
    "# eval_5 = sf_.get_evaluation()\n",
    "# eval_5 # {'type': 'cp', 'value': 19}"
   ]
  },
  {
   "cell_type": "code",
   "execution_count": null,
   "id": "cb8e2aca",
   "metadata": {
    "ExecuteTime": {
     "end_time": "2022-10-29T22:08:53.603327Z",
     "start_time": "2022-10-29T22:08:52.590538Z"
    },
    "hidden": true
   },
   "outputs": [],
   "source": [
    "best_move_timed = sf_.get_best_move_time()\n",
    "best_move_timed\n",
    "# Time for stockfish to determine best move in milliseconds (int)"
   ]
  },
  {
   "cell_type": "code",
   "execution_count": null,
   "id": "ed639e44",
   "metadata": {
    "ExecuteTime": {
     "end_time": "2022-10-29T22:06:19.021545Z",
     "start_time": "2022-10-29T22:06:18.013775Z"
    },
    "hidden": true
   },
   "outputs": [],
   "source": [
    "# best_move_timed_5 = sf_.get_best_move_time()\n",
    "# best_move_timed_5 # 'd2d4'\n",
    "# # Time for stockfish to determine best move in milliseconds (int)"
   ]
  },
  {
   "cell_type": "code",
   "execution_count": null,
   "id": "bee49abd",
   "metadata": {
    "ExecuteTime": {
     "end_time": "2022-10-29T22:59:59.971411Z",
     "start_time": "2022-10-29T22:59:59.961412Z"
    },
    "hidden": true
   },
   "outputs": [],
   "source": [
    "best_move_ = sf_.get_best_move()\n",
    "best_move_"
   ]
  },
  {
   "cell_type": "code",
   "execution_count": null,
   "id": "949c070f",
   "metadata": {
    "ExecuteTime": {
     "end_time": "2022-10-29T22:16:49.196029Z",
     "start_time": "2022-10-29T22:16:49.190043Z"
    },
    "hidden": true
   },
   "outputs": [],
   "source": [
    "# best_move_5 = sf_.get_best_move()\n",
    "# best_move_5 # 'c2c4'"
   ]
  },
  {
   "cell_type": "code",
   "execution_count": null,
   "id": "c0e1c0b7",
   "metadata": {
    "ExecuteTime": {
     "end_time": "2022-10-29T23:00:02.958952Z",
     "start_time": "2022-10-29T23:00:02.948954Z"
    },
    "hidden": true
   },
   "outputs": [],
   "source": [
    "top_moves_ = sf_.get_top_moves()\n",
    "top_moves_"
   ]
  },
  {
   "cell_type": "code",
   "execution_count": null,
   "id": "6fa8feec",
   "metadata": {
    "ExecuteTime": {
     "end_time": "2022-10-29T22:09:14.204148Z",
     "start_time": "2022-10-29T22:09:14.186193Z"
    },
    "hidden": true
   },
   "outputs": [],
   "source": [
    "# top_moves_5 = sf_.get_top_moves()\n",
    "# top_moves_5\n",
    "# [{'Move': 'e2e4', 'Centipawn': 50, 'Mate': None},\n",
    "#  {'Move': 'g1f3', 'Centipawn': 50, 'Mate': None},\n",
    "#  {'Move': 'd2d4', 'Centipawn': 45, 'Mate': None},\n",
    "#  {'Move': 'c2c4', 'Centipawn': 34, 'Mate': None},\n",
    "#  {'Move': 'g2g3', 'Centipawn': 21, 'Mate': None}]"
   ]
  },
  {
   "cell_type": "code",
   "execution_count": null,
   "id": "12e52819",
   "metadata": {
    "ExecuteTime": {
     "end_time": "2022-10-23T21:04:16.108413Z",
     "start_time": "2022-10-23T21:04:16.101415Z"
    },
    "hidden": true
   },
   "outputs": [],
   "source": [
    "# sf_.get_fen_position()\n",
    "# sf_.get_parameters()\n",
    "# sf_.info;"
   ]
  },
  {
   "cell_type": "code",
   "execution_count": null,
   "id": "72bd284d",
   "metadata": {
    "ExecuteTime": {
     "end_time": "2022-10-29T22:14:47.931947Z",
     "start_time": "2022-10-29T22:14:47.922969Z"
    },
    "hidden": true
   },
   "outputs": [],
   "source": [
    "display(type(eval_)) # dict\n",
    "display(type(best_move_timed)) # str\n",
    "display(type(best_move_)) # str\n",
    "display(type(top_moves_)) # list"
   ]
  },
  {
   "cell_type": "code",
   "execution_count": null,
   "id": "341a0b2c",
   "metadata": {
    "hidden": true
   },
   "outputs": [],
   "source": []
  },
  {
   "cell_type": "code",
   "execution_count": null,
   "id": "95bc2323",
   "metadata": {
    "hidden": true
   },
   "outputs": [],
   "source": []
  },
  {
   "cell_type": "markdown",
   "id": "8d96b386",
   "metadata": {
    "hidden": true
   },
   "source": [
    "----"
   ]
  },
  {
   "cell_type": "code",
   "execution_count": null,
   "id": "f065a865",
   "metadata": {
    "ExecuteTime": {
     "end_time": "2022-10-23T20:58:46.427351Z",
     "start_time": "2022-10-23T20:58:43.025153Z"
    },
    "hidden": true
   },
   "outputs": [],
   "source": [
    "# sf_pv1 = Stockfish(path='./stockfish_15_win_x64_ssse/stockfish_15_x64_ssse.exe',\n",
    "#         depth=20,\n",
    "#         parameters={\n",
    "#             \"Threads\": 4,\n",
    "#             \"Hash\": 4096,\n",
    "#             \"MultiPV\": 1,\n",
    "#             \"Skill Level\": 20        \n",
    "            \n",
    "#             }\n",
    "#         )"
   ]
  },
  {
   "cell_type": "code",
   "execution_count": null,
   "id": "3a5f36e6",
   "metadata": {
    "ExecuteTime": {
     "end_time": "2022-10-29T22:04:16.791613Z",
     "start_time": "2022-10-29T22:04:16.775651Z"
    },
    "hidden": true
   },
   "outputs": [],
   "source": [
    "# sf_pv1.get_best_move()"
   ]
  },
  {
   "cell_type": "code",
   "execution_count": null,
   "id": "429e736a",
   "metadata": {
    "ExecuteTime": {
     "end_time": "2022-10-29T22:04:18.476804Z",
     "start_time": "2022-10-29T22:04:18.462834Z"
    },
    "hidden": true
   },
   "outputs": [],
   "source": [
    "# sf_pv1.get_top_moves()"
   ]
  },
  {
   "cell_type": "code",
   "execution_count": null,
   "id": "23a69778",
   "metadata": {
    "ExecuteTime": {
     "end_time": "2022-10-29T22:04:20.702365Z",
     "start_time": "2022-10-29T22:04:20.694385Z"
    },
    "hidden": true
   },
   "outputs": [],
   "source": [
    "# sf_pv1.get_evaluation()"
   ]
  },
  {
   "cell_type": "code",
   "execution_count": null,
   "id": "e4dbfaa6",
   "metadata": {
    "ExecuteTime": {
     "end_time": "2022-10-29T22:04:21.846595Z",
     "start_time": "2022-10-29T22:04:21.837621Z"
    },
    "hidden": true
   },
   "outputs": [],
   "source": [
    "# sf_pv1.info;"
   ]
  },
  {
   "cell_type": "code",
   "execution_count": null,
   "id": "3e5bf100",
   "metadata": {
    "ExecuteTime": {
     "end_time": "2022-10-23T21:09:34.262817Z",
     "start_time": "2022-10-23T21:09:34.251855Z"
    },
    "hidden": true
   },
   "outputs": [],
   "source": [
    "# sf_pv1.make_moves_from_current_position()"
   ]
  },
  {
   "cell_type": "code",
   "execution_count": null,
   "id": "4bc5663c",
   "metadata": {
    "ExecuteTime": {
     "end_time": "2022-10-23T21:23:56.623141Z",
     "start_time": "2022-10-23T21:23:56.608118Z"
    },
    "hidden": true
   },
   "outputs": [],
   "source": [
    "# As far as I know here on lichess it is pure mathematics:\n",
    "\n",
    "# inacc. = 0.5-1 deviation (EngineProposal-Your move)\n",
    "# mistake = 1-2 deviation\n",
    "# blunder > 2 deviation\n",
    "\n",
    "# (you'll find the exact values somewhere in the forum or the FAQ)"
   ]
  },
  {
   "cell_type": "code",
   "execution_count": null,
   "id": "b43e8fad",
   "metadata": {
    "ExecuteTime": {
     "end_time": "2022-10-29T22:04:25.080558Z",
     "start_time": "2022-10-29T22:04:25.069584Z"
    },
    "hidden": true
   },
   "outputs": [],
   "source": [
    "# sf_pv1."
   ]
  },
  {
   "cell_type": "markdown",
   "id": "0239585e",
   "metadata": {
    "hidden": true
   },
   "source": [
    "-----"
   ]
  },
  {
   "cell_type": "code",
   "execution_count": null,
   "id": "9d26d200",
   "metadata": {
    "ExecuteTime": {
     "end_time": "2022-10-29T21:47:00.886719Z",
     "start_time": "2022-10-29T21:46:57.834302Z"
    },
    "hidden": true
   },
   "outputs": [],
   "source": [
    "sample = joblib.load('./data/raw/pickles/2018_CvH.pkl')"
   ]
  },
  {
   "cell_type": "code",
   "execution_count": null,
   "id": "a9c911dc",
   "metadata": {
    "ExecuteTime": {
     "end_time": "2022-10-29T21:47:00.917492Z",
     "start_time": "2022-10-29T21:47:00.887717Z"
    },
    "hidden": true
   },
   "outputs": [],
   "source": [
    "sample.head(1)"
   ]
  },
  {
   "cell_type": "code",
   "execution_count": null,
   "id": "e2e43dee",
   "metadata": {
    "ExecuteTime": {
     "end_time": "2022-10-29T23:01:14.134140Z",
     "start_time": "2022-10-29T23:01:14.124165Z"
    },
    "hidden": true
   },
   "outputs": [],
   "source": [
    "zipped_games_moves = zip(sample.moves)"
   ]
  },
  {
   "cell_type": "code",
   "execution_count": null,
   "id": "ca9404b4",
   "metadata": {
    "ExecuteTime": {
     "end_time": "2022-10-30T00:01:36.014257Z",
     "start_time": "2022-10-30T00:01:35.996307Z"
    },
    "hidden": true
   },
   "outputs": [],
   "source": [
    "next(zipped_games_moves)[0][0]"
   ]
  },
  {
   "cell_type": "code",
   "execution_count": null,
   "id": "97397825",
   "metadata": {
    "ExecuteTime": {
     "end_time": "2022-10-29T23:58:18.634491Z",
     "start_time": "2022-10-29T23:58:18.630501Z"
    },
    "hidden": true
   },
   "outputs": [],
   "source": [
    "type(next(zipped_games_moves)[0]) # list"
   ]
  },
  {
   "cell_type": "code",
   "execution_count": null,
   "id": "a0411880",
   "metadata": {
    "ExecuteTime": {
     "end_time": "2022-10-30T00:02:39.740691Z",
     "start_time": "2022-10-30T00:02:39.732715Z"
    },
    "hidden": true,
    "scrolled": true
   },
   "outputs": [],
   "source": [
    "next(zipped_games_moves)[0]"
   ]
  },
  {
   "cell_type": "code",
   "execution_count": null,
   "id": "d31b28bb",
   "metadata": {
    "ExecuteTime": {
     "end_time": "2022-10-30T02:27:07.532989Z",
     "start_time": "2022-10-30T02:27:07.526009Z"
    },
    "hidden": true
   },
   "outputs": [],
   "source": [
    "next_game = next(zipped_games_moves)[0]"
   ]
  },
  {
   "cell_type": "code",
   "execution_count": null,
   "id": "4ff9e003",
   "metadata": {
    "ExecuteTime": {
     "end_time": "2022-10-30T02:27:08.191258Z",
     "start_time": "2022-10-30T02:27:08.176271Z"
    },
    "hidden": true,
    "scrolled": true
   },
   "outputs": [],
   "source": [
    "next_game"
   ]
  },
  {
   "cell_type": "code",
   "execution_count": null,
   "id": "a5e62c9a",
   "metadata": {
    "ExecuteTime": {
     "end_time": "2022-10-30T01:21:50.749435Z",
     "start_time": "2022-10-30T01:21:50.736470Z"
    },
    "hidden": true
   },
   "outputs": [],
   "source": [
    "next_game[0]"
   ]
  },
  {
   "cell_type": "code",
   "execution_count": null,
   "id": "fa0e6c63",
   "metadata": {
    "ExecuteTime": {
     "end_time": "2022-10-30T01:17:50.519591Z",
     "start_time": "2022-10-30T01:17:50.391931Z"
    },
    "hidden": true
   },
   "outputs": [],
   "source": [
    "sf_.set_position()"
   ]
  },
  {
   "cell_type": "code",
   "execution_count": null,
   "id": "954ff3f5",
   "metadata": {
    "ExecuteTime": {
     "end_time": "2022-10-30T01:17:53.441947Z",
     "start_time": "2022-10-30T01:17:53.435963Z"
    },
    "hidden": true
   },
   "outputs": [],
   "source": [
    "board=chess.Board()"
   ]
  },
  {
   "cell_type": "code",
   "execution_count": null,
   "id": "946c5809",
   "metadata": {
    "ExecuteTime": {
     "end_time": "2022-10-30T01:18:04.639869Z",
     "start_time": "2022-10-30T01:18:04.633884Z"
    },
    "hidden": true
   },
   "outputs": [],
   "source": [
    "test__ = board.push_san(next_game[0])"
   ]
  },
  {
   "cell_type": "code",
   "execution_count": null,
   "id": "8eda03fd",
   "metadata": {
    "ExecuteTime": {
     "end_time": "2022-10-30T01:18:05.965891Z",
     "start_time": "2022-10-30T01:18:05.952898Z"
    },
    "hidden": true
   },
   "outputs": [],
   "source": [
    "test__.uci()"
   ]
  },
  {
   "cell_type": "code",
   "execution_count": null,
   "id": "5e4c8eb2",
   "metadata": {
    "ExecuteTime": {
     "end_time": "2022-10-30T01:18:09.521234Z",
     "start_time": "2022-10-30T01:18:09.506242Z"
    },
    "hidden": true
   },
   "outputs": [],
   "source": [
    "sf_.make_moves_from_current_position([test__.uci()])"
   ]
  },
  {
   "cell_type": "code",
   "execution_count": null,
   "id": "f29288a4",
   "metadata": {
    "ExecuteTime": {
     "end_time": "2022-10-30T01:18:10.904199Z",
     "start_time": "2022-10-30T01:18:10.891206Z"
    },
    "hidden": true
   },
   "outputs": [],
   "source": [
    "sf_.get_fen_position()"
   ]
  },
  {
   "cell_type": "code",
   "execution_count": null,
   "id": "5ec860ed",
   "metadata": {
    "ExecuteTime": {
     "end_time": "2022-10-30T01:18:40.018073Z",
     "start_time": "2022-10-30T01:18:39.998099Z"
    },
    "hidden": true
   },
   "outputs": [],
   "source": [
    "top_moves_ = sf_.get_top_moves()\n",
    "top_moves_"
   ]
  },
  {
   "cell_type": "code",
   "execution_count": null,
   "id": "7671dea1",
   "metadata": {
    "hidden": true
   },
   "outputs": [],
   "source": []
  },
  {
   "cell_type": "code",
   "execution_count": null,
   "id": "112a2836",
   "metadata": {
    "ExecuteTime": {
     "end_time": "2022-10-29T21:47:36.174896Z",
     "start_time": "2022-10-29T21:47:36.161931Z"
    },
    "hidden": true
   },
   "outputs": [],
   "source": [
    "# For each game, \n",
    "\n",
    "# # For each position,\n",
    "\n",
    "# # # Get the best 5 moves as a list, append to a list "
   ]
  },
  {
   "cell_type": "code",
   "execution_count": null,
   "id": "082d07ae",
   "metadata": {
    "ExecuteTime": {
     "end_time": "2022-10-30T03:13:05.589922Z",
     "start_time": "2022-10-30T03:13:05.578924Z"
    },
    "hidden": true
   },
   "outputs": [],
   "source": [
    "# # Loop for moves in a single game\n",
    "# evaluations_ = []\n",
    "# sf_.set_position()\n",
    "# board=chess.Board()\n",
    "# for move in next_game:\n",
    "#     evalution_ = sf_.get_top_moves()\n",
    "#     move_ = board.push_san(move)\n",
    "#     sf_.make_moves_from_current_position([move_])\n",
    "    \n",
    "#     evaluations_.append(evalution_)\n",
    "    \n",
    "    "
   ]
  },
  {
   "cell_type": "code",
   "execution_count": null,
   "id": "4e49b61d",
   "metadata": {
    "ExecuteTime": {
     "end_time": "2022-10-30T23:28:45.092125Z",
     "start_time": "2022-10-30T23:28:45.086157Z"
    },
    "hidden": true
   },
   "outputs": [],
   "source": [
    "# def get_evaluations(game):\n",
    "#     # Loop for moves in a single game\n",
    "#     evaluations_ = []\n",
    "#     sf_.set_position()\n",
    "#     board=chess.Board()\n",
    "#     for move in game:\n",
    "#         evalution_ = sf_.get_top_moves()\n",
    "#         move_ = board.push_san(move)\n",
    "#         sf_.make_moves_from_current_position([move_])\n",
    "\n",
    "#         evaluations_.append(evalution_)\n",
    "#     return evaluations_\n",
    "    \n",
    "    "
   ]
  },
  {
   "cell_type": "code",
   "execution_count": null,
   "id": "81cbd5b9",
   "metadata": {
    "ExecuteTime": {
     "end_time": "2022-10-30T03:12:58.423068Z",
     "start_time": "2022-10-30T03:12:58.423068Z"
    },
    "hidden": true
   },
   "outputs": [],
   "source": [
    "evaluations_test = get_evaluations(next_game)"
   ]
  },
  {
   "cell_type": "code",
   "execution_count": null,
   "id": "b72d40f2",
   "metadata": {
    "ExecuteTime": {
     "end_time": "2022-10-30T02:29:00.209532Z",
     "start_time": "2022-10-30T02:29:00.198562Z"
    },
    "hidden": true
   },
   "outputs": [],
   "source": [
    "evaluations_test;"
   ]
  },
  {
   "cell_type": "code",
   "execution_count": null,
   "id": "b5634986",
   "metadata": {
    "ExecuteTime": {
     "end_time": "2022-10-30T02:42:40.537728Z",
     "start_time": "2022-10-30T02:42:40.525732Z"
    },
    "hidden": true
   },
   "outputs": [],
   "source": [
    "# type(evaluations_test) # list"
   ]
  },
  {
   "cell_type": "code",
   "execution_count": null,
   "id": "176dd582",
   "metadata": {
    "ExecuteTime": {
     "end_time": "2022-10-30T02:42:23.623540Z",
     "start_time": "2022-10-30T02:42:23.605588Z"
    },
    "hidden": true,
    "scrolled": true
   },
   "outputs": [],
   "source": [
    "# len(evaluations_test) # 19\n",
    "\n",
    "# len(next_game) # 19\n",
    "\n",
    "# sys.getsizeof(evaluations_) # 248\n",
    "\n",
    "# sys.getsizeof(evaluations_test) # 248\n",
    "\n",
    "# sys.getsizeof(next_game) # 216\n",
    "\n",
    "# sys.getsizeof(df_2022_2018_CvH_distinv) # 290903604\n",
    "\n",
    "# sys.getsizeof(df_2022_2018_CvH_distinv.moves) # 106755928\n",
    "\n",
    "# sys.getsizeof(np.uint8(0)) # 25\n",
    "\n",
    "# sys.getsizeof(np.int8(0)) # 25\n",
    "\n",
    "# sys.getsizeof(1) # 25"
   ]
  },
  {
   "cell_type": "code",
   "execution_count": null,
   "id": "d32b8cec",
   "metadata": {
    "ExecuteTime": {
     "end_time": "2022-10-30T02:56:54.112795Z",
     "start_time": "2022-10-30T02:56:52.037986Z"
    },
    "hidden": true
   },
   "outputs": [],
   "source": [
    "testing = [get_evaluations(game[0]) for game in zip(sample.iloc[0:10].moves)]"
   ]
  },
  {
   "cell_type": "code",
   "execution_count": null,
   "id": "ae45c133",
   "metadata": {
    "ExecuteTime": {
     "end_time": "2022-10-30T02:57:15.077488Z",
     "start_time": "2022-10-30T02:57:15.065492Z"
    },
    "hidden": true
   },
   "outputs": [],
   "source": [
    "len(testing) # 10"
   ]
  },
  {
   "cell_type": "code",
   "execution_count": null,
   "id": "5d40332d",
   "metadata": {
    "ExecuteTime": {
     "end_time": "2022-10-30T03:03:01.653080Z",
     "start_time": "2022-10-30T03:03:01.636152Z"
    },
    "hidden": true
   },
   "outputs": [],
   "source": [
    "sys.getsizeof(testing) #184"
   ]
  },
  {
   "cell_type": "code",
   "execution_count": null,
   "id": "ac9991cd",
   "metadata": {
    "ExecuteTime": {
     "end_time": "2022-10-30T03:02:56.950237Z",
     "start_time": "2022-10-30T03:02:56.939266Z"
    },
    "hidden": true
   },
   "outputs": [],
   "source": [
    "sys.getsizeof(testing[0])"
   ]
  },
  {
   "cell_type": "code",
   "execution_count": null,
   "id": "73d404d0",
   "metadata": {
    "hidden": true
   },
   "outputs": [],
   "source": []
  },
  {
   "cell_type": "code",
   "execution_count": null,
   "id": "0ff2ef77",
   "metadata": {
    "ExecuteTime": {
     "end_time": "2022-10-29T23:01:14.134140Z",
     "start_time": "2022-10-29T23:01:14.124165Z"
    },
    "hidden": true
   },
   "outputs": [],
   "source": [
    "zipped_games_moves = zip(sample.moves)\n",
    "\n",
    "next(zipped_games_moves)[0]"
   ]
  },
  {
   "cell_type": "code",
   "execution_count": null,
   "id": "ee540dcf",
   "metadata": {
    "hidden": true
   },
   "outputs": [],
   "source": []
  },
  {
   "cell_type": "markdown",
   "id": "5b0c5bf4",
   "metadata": {
    "hidden": true
   },
   "source": [
    "-----"
   ]
  },
  {
   "cell_type": "code",
   "execution_count": null,
   "id": "11b9adb7",
   "metadata": {
    "ExecuteTime": {
     "end_time": "2022-10-31T21:03:25.469163Z",
     "start_time": "2022-10-31T21:03:14.458799Z"
    },
    "hidden": true
   },
   "outputs": [],
   "source": [
    "sf_ = Stockfish(path='./stockfish_15_win_x64_ssse/stockfish_15_x64_ssse.exe',\n",
    "        depth=20,\n",
    "        parameters={\n",
    "            \"Threads\": 7,\n",
    "            \"Hash\": 4096,\n",
    "            \"MultiPV\": 1,\n",
    "            \"Skill Level\": 20        \n",
    "            \n",
    "            }\n",
    "        )"
   ]
  },
  {
   "cell_type": "code",
   "execution_count": null,
   "id": "3be69f01",
   "metadata": {
    "ExecuteTime": {
     "end_time": "2022-10-31T21:02:57.509797Z",
     "start_time": "2022-10-31T21:02:57.489797Z"
    },
    "hidden": true
   },
   "outputs": [],
   "source": [
    "def get_evaluations(game):\n",
    "    # Loop for moves in a single game\n",
    "    evaluations_ = []\n",
    "    sf_.set_position()\n",
    "    board=chess.Board()\n",
    "    for move in game:\n",
    "        evalution_ = sf_.get_top_moves()\n",
    "        move_ = board.push_san(move)\n",
    "        sf_.make_moves_from_current_position([move_])\n",
    "\n",
    "        evaluations_.append(evalution_)\n",
    "    return evaluations_\n",
    "    \n",
    "    "
   ]
  },
  {
   "cell_type": "code",
   "execution_count": null,
   "id": "4c118a96",
   "metadata": {
    "ExecuteTime": {
     "end_time": "2022-10-31T21:07:25.288178Z",
     "start_time": "2022-10-31T21:07:25.288178Z"
    },
    "hidden": true
   },
   "outputs": [],
   "source": [
    "def get_all_evaluations(df):\n",
    "    list_of_all_evaluations = [\n",
    "        get_evaluations(game[0]) for game in zip(df.moves)\n",
    "    ]\n",
    "    return list_of_all_evaluations"
   ]
  },
  {
   "cell_type": "code",
   "execution_count": null,
   "id": "4e8246f4",
   "metadata": {
    "ExecuteTime": {
     "end_time": "2022-10-30T03:13:20.468745Z",
     "start_time": "2022-10-30T03:13:20.464756Z"
    },
    "hidden": true
   },
   "outputs": [],
   "source": [
    "# sys.getsizeof(df_2022_2018_CvH_distinv) # 290903604"
   ]
  },
  {
   "cell_type": "code",
   "execution_count": null,
   "id": "66b5aae5",
   "metadata": {
    "ExecuteTime": {
     "end_time": "2022-10-30T03:13:21.556385Z",
     "start_time": "2022-10-30T03:13:21.538431Z"
    },
    "hidden": true
   },
   "outputs": [],
   "source": [
    "# sys.getsizeof(df_2022_2018_CvH_distinv.moves) # 106755928"
   ]
  },
  {
   "cell_type": "code",
   "execution_count": null,
   "id": "e641a589",
   "metadata": {
    "hidden": true
   },
   "outputs": [],
   "source": []
  },
  {
   "cell_type": "code",
   "execution_count": null,
   "id": "4dc841df",
   "metadata": {
    "hidden": true
   },
   "outputs": [],
   "source": []
  },
  {
   "cell_type": "code",
   "execution_count": null,
   "id": "603c6302",
   "metadata": {
    "ExecuteTime": {
     "end_time": "2022-10-31T22:09:42.594581Z",
     "start_time": "2022-10-31T22:09:39.742671Z"
    },
    "hidden": true
   },
   "outputs": [],
   "source": [
    "df_2021_2017_titled_distinv = joblib.load(\n",
    "    './data/preprocessed/2021_2017_titled_distinv.pkl')"
   ]
  },
  {
   "cell_type": "code",
   "execution_count": null,
   "id": "8da08a11",
   "metadata": {
    "ExecuteTime": {
     "end_time": "2022-10-30T03:16:25.855077Z",
     "start_time": "2022-10-30T03:16:25.848068Z"
    },
    "hidden": true
   },
   "outputs": [],
   "source": [
    "# sys.getsizeof(df_2021_2017_titled_distinv) # 163583172"
   ]
  },
  {
   "cell_type": "code",
   "execution_count": null,
   "id": "5824b742",
   "metadata": {
    "ExecuteTime": {
     "end_time": "2022-10-31T21:04:08.573458Z",
     "start_time": "2022-10-31T21:03:40.165931Z"
    },
    "hidden": true,
    "scrolled": true
   },
   "outputs": [],
   "source": [
    "list_2021_2017_titled_distinv_evaluations = get_all_evaluations(df_2021_2017_titled_distinv)"
   ]
  },
  {
   "cell_type": "code",
   "execution_count": null,
   "id": "f61e61e8",
   "metadata": {
    "hidden": true
   },
   "outputs": [],
   "source": []
  },
  {
   "cell_type": "code",
   "execution_count": null,
   "id": "4ee336c7",
   "metadata": {
    "ExecuteTime": {
     "start_time": "2022-10-30T03:42:58.035Z"
    },
    "hidden": true
   },
   "outputs": [],
   "source": [
    "joblib.dump(list_2021_2017_titled_distinv_evaluations,\n",
    "           '~/Desktop/data/capstone/preprocessed/titled_evaluations.pkl',\n",
    "           compress=9)"
   ]
  },
  {
   "cell_type": "code",
   "execution_count": null,
   "id": "28235270",
   "metadata": {
    "hidden": true
   },
   "outputs": [],
   "source": []
  },
  {
   "cell_type": "code",
   "execution_count": null,
   "id": "46bfbd96",
   "metadata": {
    "hidden": true
   },
   "outputs": [],
   "source": []
  },
  {
   "cell_type": "code",
   "execution_count": null,
   "id": "18dc8201",
   "metadata": {
    "ExecuteTime": {
     "start_time": "2022-10-30T03:58:12.723Z"
    },
    "hidden": true
   },
   "outputs": [],
   "source": [
    "df_2022_2018_CvH_distinv = joblib.load('./data/preprocessed/2022_2018_CvH_distinv_withevent.pkl')"
   ]
  },
  {
   "cell_type": "code",
   "execution_count": null,
   "id": "8ba11e9f",
   "metadata": {
    "ExecuteTime": {
     "end_time": "2022-10-30T03:16:19.401486Z",
     "start_time": "2022-10-30T03:16:19.389496Z"
    },
    "hidden": true
   },
   "outputs": [],
   "source": [
    "# sys.getsizeof(df_2022_2018_HvH) # 138398944"
   ]
  },
  {
   "cell_type": "code",
   "execution_count": null,
   "id": "6e8a335f",
   "metadata": {
    "ExecuteTime": {
     "start_time": "2022-10-30T03:58:34.899Z"
    },
    "hidden": true
   },
   "outputs": [],
   "source": [
    "list_df_2022_2018_CvH_distinv_evaluations = get_all_evaluations(df_2022_2018_CvH_distinv)"
   ]
  },
  {
   "cell_type": "code",
   "execution_count": null,
   "id": "9a7617d2",
   "metadata": {
    "ExecuteTime": {
     "start_time": "2022-10-30T03:58:35.980Z"
    },
    "hidden": true
   },
   "outputs": [],
   "source": [
    "joblib.dump(list_df_2022_2018_CvH_distinv_evaluations,\n",
    "           '~/Desktop/data/capstone/preprocessed/2022_2018_CvH_distinv_evaluations.pkl',\n",
    "           compress=9)"
   ]
  },
  {
   "cell_type": "markdown",
   "id": "4c50adf3",
   "metadata": {
    "hidden": true
   },
   "source": [
    "----"
   ]
  },
  {
   "cell_type": "code",
   "execution_count": null,
   "id": "598de4bf",
   "metadata": {
    "ExecuteTime": {
     "end_time": "2022-10-30T01:31:59.334578Z",
     "start_time": "2022-10-30T01:31:59.313634Z"
    },
    "hidden": true
   },
   "outputs": [],
   "source": [
    "nums=[1,2,3]\n",
    "i_nums=iter(nums)\n",
    "\n",
    "while True:\n",
    "    try:\n",
    "        item=next(i_nums)\n",
    "        print(item)\n",
    "    except StopIteration:\n",
    "        break"
   ]
  },
  {
   "cell_type": "code",
   "execution_count": null,
   "id": "06133b40",
   "metadata": {
    "hidden": true
   },
   "outputs": [],
   "source": []
  },
  {
   "cell_type": "code",
   "execution_count": null,
   "id": "efbfd411",
   "metadata": {
    "hidden": true
   },
   "outputs": [],
   "source": []
  },
  {
   "cell_type": "code",
   "execution_count": null,
   "id": "ee42d0a7",
   "metadata": {
    "hidden": true
   },
   "outputs": [],
   "source": []
  },
  {
   "cell_type": "markdown",
   "id": "eb8a87a2",
   "metadata": {
    "hidden": true
   },
   "source": [
    "----"
   ]
  },
  {
   "cell_type": "markdown",
   "id": "0b9dc073",
   "metadata": {},
   "source": [
    "## Section to merge into main file"
   ]
  },
  {
   "cell_type": "markdown",
   "id": "0549cfb4",
   "metadata": {
    "heading_collapsed": true
   },
   "source": [
    "### Finding good parameters of stockfish"
   ]
  },
  {
   "cell_type": "markdown",
   "id": "36ab6d77",
   "metadata": {
    "heading_collapsed": true,
    "hidden": true
   },
   "source": [
    "#### Test 1"
   ]
  },
  {
   "cell_type": "code",
   "execution_count": null,
   "id": "1374f9ca",
   "metadata": {
    "ExecuteTime": {
     "end_time": "2022-10-31T16:54:43.630088Z",
     "start_time": "2022-10-31T16:54:43.226257Z"
    },
    "hidden": true
   },
   "outputs": [],
   "source": [
    "sf_ = Stockfish(path='./stockfish_15_win_x64_ssse/stockfish_15_x64_ssse.exe',\n",
    "        depth=20,\n",
    "        parameters={\n",
    "            \"Threads\": 4,\n",
    "            \"Hash\": 1024,\n",
    "            \"MultiPV\": 1,\n",
    "            \"Skill Level\": 20,\n",
    "            \"Debug Log File\": 'C:/Users/MaNiL/Desktop/data/capstone/preprocessed/evaluations/log.txt',\n",
    "            \"Move Overhead\": 1,\n",
    "            \"Slow Mover\": 20\n",
    "#             , \"SyzygyPath\": ' '\n",
    "            \n",
    "            }\n",
    "        )"
   ]
  },
  {
   "cell_type": "code",
   "execution_count": null,
   "id": "e4c93e97",
   "metadata": {
    "ExecuteTime": {
     "end_time": "2022-10-31T16:54:44.613292Z",
     "start_time": "2022-10-31T16:54:44.604281Z"
    },
    "hidden": true
   },
   "outputs": [],
   "source": [
    "sf_.get_parameters()"
   ]
  },
  {
   "cell_type": "code",
   "execution_count": null,
   "id": "39602cfd",
   "metadata": {
    "ExecuteTime": {
     "end_time": "2022-10-31T16:54:45.518714Z",
     "start_time": "2022-10-31T16:54:45.455660Z"
    },
    "hidden": true
   },
   "outputs": [],
   "source": [
    "sf_.set_position()"
   ]
  },
  {
   "cell_type": "code",
   "execution_count": null,
   "id": "f2d1b7b5",
   "metadata": {
    "ExecuteTime": {
     "end_time": "2022-10-31T16:56:46.817250Z",
     "start_time": "2022-10-31T16:56:46.812277Z"
    },
    "hidden": true
   },
   "outputs": [],
   "source": [
    "# sf_.get_top_moves(5) # 3.34s\n",
    "\n",
    "# [{'Move': 'c2c4', 'Centipawn': 43, 'Mate': None},\n",
    "#  {'Move': 'd2d4', 'Centipawn': 42, 'Mate': None},\n",
    "#  {'Move': 'e2e4', 'Centipawn': 34, 'Mate': None},\n",
    "#  {'Move': 'g1f3', 'Centipawn': 34, 'Mate': None},\n",
    "#  {'Move': 'e2e3', 'Centipawn': 23, 'Mate': None}]"
   ]
  },
  {
   "cell_type": "code",
   "execution_count": null,
   "id": "29c03b4c",
   "metadata": {
    "ExecuteTime": {
     "end_time": "2022-10-31T16:56:44.715773Z",
     "start_time": "2022-10-31T16:56:44.706764Z"
    },
    "hidden": true
   },
   "outputs": [],
   "source": [
    "# t=time.time()\n",
    "# get_evaluations(df_2021_2017_titled_distinv.moves[0]) # 1m 4.23s\n",
    "# t2=time.time()\n",
    "# t2-t # 1m 20s\n",
    "# # 82.31242609024048"
   ]
  },
  {
   "cell_type": "markdown",
   "id": "fbd09152",
   "metadata": {
    "hidden": true
   },
   "source": [
    "-----"
   ]
  },
  {
   "cell_type": "markdown",
   "id": "0456f4aa",
   "metadata": {
    "heading_collapsed": true,
    "hidden": true
   },
   "source": [
    "#### Test 2"
   ]
  },
  {
   "cell_type": "code",
   "execution_count": null,
   "id": "9e24896c",
   "metadata": {
    "hidden": true
   },
   "outputs": [],
   "source": [
    "# only increasing move-overhead to 100"
   ]
  },
  {
   "cell_type": "code",
   "execution_count": null,
   "id": "ecdf17df",
   "metadata": {
    "ExecuteTime": {
     "end_time": "2022-10-31T16:50:21.629262Z",
     "start_time": "2022-10-31T16:50:21.321534Z"
    },
    "hidden": true
   },
   "outputs": [],
   "source": [
    "sf_ = Stockfish(path='./stockfish_15_win_x64_ssse/stockfish_15_x64_ssse.exe',\n",
    "        depth=20,\n",
    "        parameters={\n",
    "            \"Threads\": 4,\n",
    "            \"Hash\": 1024,\n",
    "            \"MultiPV\": 1,\n",
    "            \"Skill Level\": 20,\n",
    "            \"Debug Log File\": 'C:/Users/MaNiL/Desktop/data/capstone/preprocessed/evaluations/log.txt',\n",
    "            \"Move Overhead\": 100,\n",
    "            \"Slow Mover\": 20\n",
    "#             , \"SyzygyPath\": ' '\n",
    "            \n",
    "            }\n",
    "        )"
   ]
  },
  {
   "cell_type": "code",
   "execution_count": null,
   "id": "9d0be911",
   "metadata": {
    "ExecuteTime": {
     "end_time": "2022-10-31T16:50:21.846492Z",
     "start_time": "2022-10-31T16:50:21.833578Z"
    },
    "hidden": true
   },
   "outputs": [],
   "source": [
    "sf_.get_parameters()"
   ]
  },
  {
   "cell_type": "code",
   "execution_count": null,
   "id": "c167dceb",
   "metadata": {
    "ExecuteTime": {
     "end_time": "2022-10-31T16:50:23.324204Z",
     "start_time": "2022-10-31T16:50:23.262117Z"
    },
    "hidden": true
   },
   "outputs": [],
   "source": [
    "sf_.set_position()"
   ]
  },
  {
   "cell_type": "code",
   "execution_count": null,
   "id": "d2fa6a19",
   "metadata": {
    "ExecuteTime": {
     "end_time": "2022-10-31T16:50:26.182362Z",
     "start_time": "2022-10-31T16:50:24.214413Z"
    },
    "hidden": true
   },
   "outputs": [],
   "source": [
    "# sf_.get_top_moves(5) # 1.97s\n",
    "\n",
    "# [{'Move': 'd2d4', 'Centipawn': 40, 'Mate': None},\n",
    "#  {'Move': 'e2e4', 'Centipawn': 40, 'Mate': None},\n",
    "#  {'Move': 'g1f3', 'Centipawn': 37, 'Mate': None},\n",
    "#  {'Move': 'c2c4', 'Centipawn': 34, 'Mate': None},\n",
    "#  {'Move': 'g2g3', 'Centipawn': 29, 'Mate': None}]"
   ]
  },
  {
   "cell_type": "code",
   "execution_count": null,
   "id": "b633ed70",
   "metadata": {
    "ExecuteTime": {
     "end_time": "2022-10-31T16:51:56.048136Z",
     "start_time": "2022-10-31T16:50:45.077906Z"
    },
    "hidden": true
   },
   "outputs": [],
   "source": [
    "t=time.time()\n",
    "get_evaluations(df_2021_2017_titled_distinv.moves[0])\n",
    "t2=time.time()\n",
    "t2-t\n",
    "# 70.95432043075562"
   ]
  },
  {
   "cell_type": "markdown",
   "id": "dadc438d",
   "metadata": {
    "hidden": true
   },
   "source": [
    "-----"
   ]
  },
  {
   "cell_type": "markdown",
   "id": "6c543310",
   "metadata": {
    "heading_collapsed": true,
    "hidden": true
   },
   "source": [
    "#### Test 3"
   ]
  },
  {
   "cell_type": "code",
   "execution_count": null,
   "id": "ec57756f",
   "metadata": {
    "hidden": true
   },
   "outputs": [],
   "source": [
    "# changing slow mover to 1"
   ]
  },
  {
   "cell_type": "code",
   "execution_count": null,
   "id": "4964a2a4",
   "metadata": {
    "ExecuteTime": {
     "end_time": "2022-10-31T16:59:43.266940Z",
     "start_time": "2022-10-31T16:59:43.009272Z"
    },
    "hidden": true
   },
   "outputs": [],
   "source": [
    "sf_ = Stockfish(path='./stockfish_15_win_x64_ssse/stockfish_15_x64_ssse.exe',\n",
    "        depth=20,\n",
    "        parameters={\n",
    "            \"Threads\": 4,\n",
    "            \"Hash\": 1024,\n",
    "            \"MultiPV\": 1,\n",
    "            \"Skill Level\": 20,\n",
    "            \"Debug Log File\": 'C:/Users/MaNiL/Desktop/data/capstone/preprocessed/evaluations/log.txt',\n",
    "            \"Move Overhead\": 100,\n",
    "            \"Slow Mover\": 1\n",
    "            \n",
    "            }\n",
    "        )"
   ]
  },
  {
   "cell_type": "code",
   "execution_count": null,
   "id": "197ae726",
   "metadata": {
    "ExecuteTime": {
     "end_time": "2022-10-31T16:59:43.470970Z",
     "start_time": "2022-10-31T16:59:43.463970Z"
    },
    "hidden": true
   },
   "outputs": [],
   "source": [
    "sf_.get_parameters()"
   ]
  },
  {
   "cell_type": "code",
   "execution_count": null,
   "id": "67bc6913",
   "metadata": {
    "ExecuteTime": {
     "end_time": "2022-10-31T16:59:44.467272Z",
     "start_time": "2022-10-31T16:59:44.415226Z"
    },
    "hidden": true
   },
   "outputs": [],
   "source": [
    "sf_.set_position()"
   ]
  },
  {
   "cell_type": "code",
   "execution_count": null,
   "id": "c055c5c4",
   "metadata": {
    "ExecuteTime": {
     "end_time": "2022-10-31T16:59:49.037818Z",
     "start_time": "2022-10-31T16:59:47.279957Z"
    },
    "hidden": true
   },
   "outputs": [],
   "source": [
    "# sf_.get_top_moves(5) # 1.76s\n",
    "\n",
    "# [{'Move': 'g1f3', 'Centipawn': 48, 'Mate': None},\n",
    "#  {'Move': 'c2c4', 'Centipawn': 43, 'Mate': None},\n",
    "#  {'Move': 'd2d4', 'Centipawn': 38, 'Mate': None},\n",
    "#  {'Move': 'e2e4', 'Centipawn': 31, 'Mate': None},\n",
    "#  {'Move': 'e2e3', 'Centipawn': 15, 'Mate': None}]"
   ]
  },
  {
   "cell_type": "code",
   "execution_count": null,
   "id": "2deba76c",
   "metadata": {
    "ExecuteTime": {
     "end_time": "2022-10-31T17:01:56.543020Z",
     "start_time": "2022-10-31T17:01:56.530019Z"
    },
    "hidden": true
   },
   "outputs": [],
   "source": [
    "# t=time.time()\n",
    "# get_evaluations(df_2021_2017_titled_distinv.moves[0])\n",
    "# t2=time.time()\n",
    "# t2-t\n",
    "# # 82.00540208816528"
   ]
  },
  {
   "cell_type": "markdown",
   "id": "d1e002b0",
   "metadata": {
    "hidden": true
   },
   "source": [
    "-----"
   ]
  },
  {
   "cell_type": "markdown",
   "id": "d13d730f",
   "metadata": {
    "heading_collapsed": true,
    "hidden": true
   },
   "source": [
    "#### Test 4"
   ]
  },
  {
   "cell_type": "code",
   "execution_count": null,
   "id": "cafa6df1",
   "metadata": {
    "ExecuteTime": {
     "end_time": "2022-10-31T17:02:16.867417Z",
     "start_time": "2022-10-31T17:02:16.858449Z"
    },
    "hidden": true
   },
   "outputs": [],
   "source": [
    "# Increasing slow mover to 100"
   ]
  },
  {
   "cell_type": "code",
   "execution_count": null,
   "id": "47269834",
   "metadata": {
    "ExecuteTime": {
     "end_time": "2022-10-31T17:02:32.432385Z",
     "start_time": "2022-10-31T17:02:32.046098Z"
    },
    "hidden": true
   },
   "outputs": [],
   "source": [
    "sf_ = Stockfish(path='./stockfish_15_win_x64_ssse/stockfish_15_x64_ssse.exe',\n",
    "        depth=20,\n",
    "        parameters={\n",
    "            \"Threads\": 4,\n",
    "            \"Hash\": 1024,\n",
    "            \"MultiPV\": 1,\n",
    "            \"Skill Level\": 20,\n",
    "            \"Debug Log File\": 'C:/Users/MaNiL/Desktop/data/capstone/preprocessed/evaluations/log.txt',\n",
    "            \"Move Overhead\": 100,\n",
    "            \"Slow Mover\": 100\n",
    "            \n",
    "            }\n",
    "        )"
   ]
  },
  {
   "cell_type": "code",
   "execution_count": null,
   "id": "caa4a1a6",
   "metadata": {
    "ExecuteTime": {
     "end_time": "2022-10-31T17:02:32.526075Z",
     "start_time": "2022-10-31T17:02:32.517077Z"
    },
    "hidden": true
   },
   "outputs": [],
   "source": [
    "sf_.get_parameters()"
   ]
  },
  {
   "cell_type": "code",
   "execution_count": null,
   "id": "01c41989",
   "metadata": {
    "ExecuteTime": {
     "end_time": "2022-10-31T17:12:51.489325Z",
     "start_time": "2022-10-31T17:12:51.423280Z"
    },
    "hidden": true
   },
   "outputs": [],
   "source": [
    "sf_.set_position()"
   ]
  },
  {
   "cell_type": "code",
   "execution_count": null,
   "id": "9828dfb4",
   "metadata": {
    "ExecuteTime": {
     "end_time": "2022-10-31T17:02:39.802808Z",
     "start_time": "2022-10-31T17:02:38.311800Z"
    },
    "hidden": true
   },
   "outputs": [],
   "source": [
    "# sf_.get_top_moves(5) # 1.49s\n",
    "\n",
    "# [{'Move': 'd2d4', 'Centipawn': 40, 'Mate': None},\n",
    "#  {'Move': 'g1f3', 'Centipawn': 40, 'Mate': None},\n",
    "#  {'Move': 'c2c4', 'Centipawn': 40, 'Mate': None},\n",
    "#  {'Move': 'e2e4', 'Centipawn': 40, 'Mate': None},\n",
    "#  {'Move': 'g2g3', 'Centipawn': 29, 'Mate': None}]"
   ]
  },
  {
   "cell_type": "code",
   "execution_count": null,
   "id": "1b60d028",
   "metadata": {
    "ExecuteTime": {
     "end_time": "2022-10-31T17:04:18.258898Z",
     "start_time": "2022-10-31T17:02:57.962922Z"
    },
    "hidden": true
   },
   "outputs": [],
   "source": [
    "# t=time.time()\n",
    "# get_evaluations(df_2021_2017_titled_distinv.moves[0])\n",
    "# t2=time.time()\n",
    "# t2-t\n",
    "# # 80.28699994087219"
   ]
  },
  {
   "cell_type": "markdown",
   "id": "f6998ebb",
   "metadata": {
    "hidden": true
   },
   "source": [
    "-----"
   ]
  },
  {
   "cell_type": "markdown",
   "id": "ee679639",
   "metadata": {
    "heading_collapsed": true,
    "hidden": true
   },
   "source": [
    "#### Using chess"
   ]
  },
  {
   "cell_type": "code",
   "execution_count": null,
   "id": "62b9ec00",
   "metadata": {
    "ExecuteTime": {
     "end_time": "2022-10-31T17:09:25.573935Z",
     "start_time": "2022-10-31T17:09:25.286855Z"
    },
    "hidden": true
   },
   "outputs": [],
   "source": [
    "# engine = chess.engine.popen_uci(Stockfish(path='./stockfish_15_win_x64_ssse/stockfish_15_x64_ssse.exe',\n",
    "#         depth=20,\n",
    "#         parameters={\n",
    "#             \"Threads\": 4,\n",
    "#             \"Hash\": 1024,\n",
    "#             \"MultiPV\": 1,\n",
    "#             \"Skill Level\": 20,\n",
    "#             \"Debug Log File\": 'C:/Users/MaNiL/Desktop/data/capstone/preprocessed/evaluations/log.txt',\n",
    "#             \"Move Overhead\": 100,\n",
    "#             \"Slow Mover\": 100\n",
    "            \n",
    "#             }\n",
    "#         ))"
   ]
  },
  {
   "cell_type": "code",
   "execution_count": null,
   "id": "0595bf92",
   "metadata": {
    "ExecuteTime": {
     "end_time": "2022-10-31T21:48:35.864733Z",
     "start_time": "2022-10-31T21:48:35.848775Z"
    },
    "hidden": true
   },
   "outputs": [],
   "source": [
    "# sf_ = Stockfish(path='./stockfish_15_win_x64_ssse/stockfish_15_x64_ssse.exe',\n",
    "#         depth=20,\n",
    "#         parameters={\n",
    "#             \"Threads\": 7,\n",
    "#             \"Hash\": 4096,\n",
    "#             \"MultiPV\": 1,\n",
    "#             \"Skill Level\": 20        \n",
    "            \n",
    "#             }\n",
    "#         )"
   ]
  },
  {
   "cell_type": "code",
   "execution_count": null,
   "id": "18e656ec",
   "metadata": {
    "ExecuteTime": {
     "end_time": "2022-10-31T21:49:51.242918Z",
     "start_time": "2022-10-31T21:49:50.926662Z"
    },
    "hidden": true
   },
   "outputs": [],
   "source": [
    "engine = chess.engine.SimpleEngine.popen_uci('./stockfish_15_win_x64_ssse/stockfish_15_x64_ssse.exe')"
   ]
  },
  {
   "cell_type": "code",
   "execution_count": null,
   "id": "cc6d2f20",
   "metadata": {
    "ExecuteTime": {
     "end_time": "2022-10-31T21:49:02.910088Z",
     "start_time": "2022-10-31T21:49:02.903083Z"
    },
    "code_folding": [
     0
    ],
    "hidden": true
   },
   "outputs": [],
   "source": [
    "# display(engine.options[\"Hash\"])\n",
    "\n",
    "# display(engine.options[\"Threads\"])\n",
    "\n",
    "# display(engine.options[\"MultiPV\"])\n",
    "\n",
    "# display(engine.options[\"Skill level\"])\n",
    "\n",
    "# display(engine.options[\"Debug Log File\"])\n",
    "\n",
    "# display(engine.options[\"Move Overhead\"])\n",
    "\n",
    "# display(engine.options[\"Slow Mover\"])"
   ]
  },
  {
   "cell_type": "code",
   "execution_count": null,
   "id": "0dff6a1f",
   "metadata": {
    "ExecuteTime": {
     "end_time": "2022-10-31T21:48:55.168165Z",
     "start_time": "2022-10-31T21:48:55.161184Z"
    },
    "code_folding": [
     0
    ],
    "hidden": true
   },
   "outputs": [],
   "source": [
    "# engine.configure({\"Hash\": 1024})\n",
    "\n",
    "# engine.configure({\"Threads\": 4})\n",
    "\n",
    "# # engine.configure({\"MultiPV\": 5})\n",
    "\n",
    "# engine.configure({\"Skill level\": 20})\n",
    "\n",
    "# engine.configure({\"Debug Log File\": \\\n",
    "#                   'C:/Users/MaNiL/Desktop/data/capstone/preprocessed/evaluations/log.txt'})\n",
    "\n",
    "# engine.configure({\"Move Overhead\": 100})\n",
    "\n",
    "# engine.configure({\"Slow Mover\": 20})"
   ]
  },
  {
   "cell_type": "code",
   "execution_count": null,
   "id": "f9bc4476",
   "metadata": {
    "ExecuteTime": {
     "end_time": "2022-10-31T21:49:52.728323Z",
     "start_time": "2022-10-31T21:49:52.712365Z"
    },
    "hidden": true
   },
   "outputs": [],
   "source": [
    "engine.configure({\"Hash\": 4096})\n",
    "\n",
    "engine.configure({\"Threads\": 7})\n",
    "\n",
    "# engine.configure({\"MultiPV\": 5})\n",
    "\n",
    "engine.configure({\"Skill level\": 20})\n",
    "\n",
    "engine.configure({\"Debug Log File\": \\\n",
    "                  'C:/Users/Emanuel/Desktop/data/capstone/preprocessed/evaluations/log.txt'})\n",
    "\n",
    "engine.configure({\"Move Overhead\": 100})\n",
    "\n",
    "engine.configure({\"Slow Mover\": 20})"
   ]
  },
  {
   "cell_type": "code",
   "execution_count": null,
   "id": "047c2cc5",
   "metadata": {
    "ExecuteTime": {
     "end_time": "2022-10-31T21:50:04.422602Z",
     "start_time": "2022-10-31T21:50:04.415621Z"
    },
    "hidden": true
   },
   "outputs": [],
   "source": [
    "# engine.protocol.configure({\"Hash\": 2048})"
   ]
  },
  {
   "cell_type": "code",
   "execution_count": null,
   "id": "81697e47",
   "metadata": {
    "ExecuteTime": {
     "end_time": "2022-10-31T17:53:04.766374Z",
     "start_time": "2022-10-31T17:53:04.755371Z"
    },
    "code_folding": [
     0
    ],
    "hidden": true
   },
   "outputs": [],
   "source": [
    "# display(engine.options[\"Hash\"])\n",
    "\n",
    "# display(engine.options[\"Threads\"])\n",
    "\n",
    "# display(engine.options[\"MultiPV\"])\n",
    "\n",
    "# display(engine.options[\"Skill level\"])\n",
    "\n",
    "# display(engine.options[\"Debug Log File\"])\n",
    "\n",
    "# display(engine.options[\"Move Overhead\"])\n",
    "\n",
    "# display(engine.options[\"Slow Mover\"])"
   ]
  },
  {
   "cell_type": "code",
   "execution_count": null,
   "id": "4cd6bea5",
   "metadata": {
    "hidden": true
   },
   "outputs": [],
   "source": []
  },
  {
   "cell_type": "code",
   "execution_count": null,
   "id": "6cc0aee9",
   "metadata": {
    "hidden": true
   },
   "outputs": [],
   "source": []
  },
  {
   "cell_type": "code",
   "execution_count": null,
   "id": "84e85061",
   "metadata": {
    "hidden": true
   },
   "outputs": [],
   "source": []
  },
  {
   "cell_type": "code",
   "execution_count": null,
   "id": "3c797b0f",
   "metadata": {
    "ExecuteTime": {
     "end_time": "2022-10-31T21:50:15.455184Z",
     "start_time": "2022-10-31T21:50:15.445211Z"
    },
    "hidden": true
   },
   "outputs": [],
   "source": [
    "board = chess.Board()\n",
    "limit = chess.engine.Limit(time=1, depth=25)"
   ]
  },
  {
   "cell_type": "code",
   "execution_count": null,
   "id": "ad9f7d48",
   "metadata": {
    "ExecuteTime": {
     "end_time": "2022-10-31T21:52:50.812178Z",
     "start_time": "2022-10-31T21:52:50.804199Z"
    },
    "hidden": true
   },
   "outputs": [],
   "source": [
    "# board"
   ]
  },
  {
   "cell_type": "code",
   "execution_count": null,
   "id": "eb9e8db2",
   "metadata": {
    "ExecuteTime": {
     "end_time": "2022-10-31T21:50:21.459405Z",
     "start_time": "2022-10-31T21:50:20.192162Z"
    },
    "hidden": true
   },
   "outputs": [],
   "source": [
    "engine.analyse(board, limit, multipv='5')"
   ]
  },
  {
   "cell_type": "code",
   "execution_count": null,
   "id": "988b0659",
   "metadata": {
    "ExecuteTime": {
     "end_time": "2022-10-31T21:50:47.065269Z",
     "start_time": "2022-10-31T21:50:47.050281Z"
    },
    "hidden": true
   },
   "outputs": [],
   "source": [
    "board.push_san('d4')"
   ]
  },
  {
   "cell_type": "code",
   "execution_count": null,
   "id": "7c5d01d9",
   "metadata": {
    "ExecuteTime": {
     "end_time": "2022-10-31T21:52:45.383495Z",
     "start_time": "2022-10-31T21:52:45.371500Z"
    },
    "hidden": true
   },
   "outputs": [],
   "source": [
    "# board"
   ]
  },
  {
   "cell_type": "code",
   "execution_count": null,
   "id": "10cb8b70",
   "metadata": {
    "ExecuteTime": {
     "end_time": "2022-10-31T21:54:11.935460Z",
     "start_time": "2022-10-31T21:54:10.919148Z"
    },
    "hidden": true
   },
   "outputs": [],
   "source": [
    "engine.analyse(board, limit, multipv='5')"
   ]
  },
  {
   "cell_type": "code",
   "execution_count": null,
   "id": "411796c3",
   "metadata": {
    "ExecuteTime": {
     "end_time": "2022-10-31T21:52:03.013609Z",
     "start_time": "2022-10-31T21:52:03.009622Z"
    },
    "hidden": true
   },
   "outputs": [],
   "source": [
    "# engine.analyse(board, limit, multipv='5', info=4)\n",
    "# # engine.analyse(board, limit)"
   ]
  },
  {
   "cell_type": "code",
   "execution_count": null,
   "id": "b1eb8af6",
   "metadata": {
    "ExecuteTime": {
     "end_time": "2022-10-31T17:46:51.896712Z",
     "start_time": "2022-10-31T17:46:51.886712Z"
    },
    "hidden": true
   },
   "outputs": [],
   "source": [
    "df_2021_2017_titled_distinv.moves[0]"
   ]
  },
  {
   "cell_type": "code",
   "execution_count": null,
   "id": "fc724264",
   "metadata": {
    "hidden": true
   },
   "outputs": [],
   "source": []
  },
  {
   "cell_type": "code",
   "execution_count": null,
   "id": "b486fba5",
   "metadata": {
    "ExecuteTime": {
     "end_time": "2022-10-31T16:15:32.502733Z",
     "start_time": "2022-10-31T16:15:32.491782Z"
    },
    "hidden": true
   },
   "outputs": [],
   "source": [
    "# engine = chess.engine.SimpleEngine.popen_uci(stockfish)\n",
    "# movetimesec = 2\n",
    "# depth = 20\n",
    "# def evaluate_game(game, engine, limit=chess.engine.Limit(time=movetimesec, depth=depth)):\n",
    "#     board = game.board()\n",
    "#     info = engine.analyse(board, limit=limit)"
   ]
  },
  {
   "cell_type": "code",
   "execution_count": null,
   "id": "9f25adc0",
   "metadata": {
    "hidden": true
   },
   "outputs": [],
   "source": []
  },
  {
   "cell_type": "markdown",
   "id": "86467f1a",
   "metadata": {
    "heading_collapsed": true
   },
   "source": [
    "### Testing interrupting a loop"
   ]
  },
  {
   "cell_type": "code",
   "execution_count": null,
   "id": "d3b18472",
   "metadata": {
    "ExecuteTime": {
     "end_time": "2022-10-31T16:42:10.974010Z",
     "start_time": "2022-10-31T16:42:10.959031Z"
    },
    "hidden": true
   },
   "outputs": [],
   "source": [
    "# b = []\n",
    "# i=0\n",
    "\n",
    "# while True:\n",
    "#     b.append(i)\n",
    "#     i+=1\n",
    "    \n"
   ]
  },
  {
   "cell_type": "code",
   "execution_count": null,
   "id": "56cbd800",
   "metadata": {
    "ExecuteTime": {
     "end_time": "2022-10-31T16:42:09.087946Z",
     "start_time": "2022-10-31T16:42:09.074976Z"
    },
    "hidden": true
   },
   "outputs": [],
   "source": [
    "# b"
   ]
  },
  {
   "cell_type": "code",
   "execution_count": null,
   "id": "6aadac75",
   "metadata": {
    "ExecuteTime": {
     "end_time": "2022-10-31T16:42:07.165491Z",
     "start_time": "2022-10-31T16:42:07.158491Z"
    },
    "hidden": true
   },
   "outputs": [],
   "source": [
    "# len(b) # 85092918"
   ]
  },
  {
   "cell_type": "code",
   "execution_count": null,
   "id": "f974e33b",
   "metadata": {
    "hidden": true
   },
   "outputs": [],
   "source": []
  },
  {
   "cell_type": "markdown",
   "id": "e99051e6",
   "metadata": {
    "hidden": true
   },
   "source": [
    "----"
   ]
  },
  {
   "cell_type": "markdown",
   "id": "72f68c97",
   "metadata": {
    "heading_collapsed": true
   },
   "source": [
    "### Putting looping pickling in getting evaluation loops and ensuring time cap on how long engine can evaluate for"
   ]
  },
  {
   "cell_type": "markdown",
   "id": "49f7909b",
   "metadata": {
    "hidden": true
   },
   "source": [
    "Engine instantiation and settings:"
   ]
  },
  {
   "cell_type": "code",
   "execution_count": null,
   "id": "aceadee9",
   "metadata": {
    "ExecuteTime": {
     "end_time": "2022-10-31T23:48:26.264401Z",
     "start_time": "2022-10-31T23:48:26.174134Z"
    },
    "hidden": true
   },
   "outputs": [],
   "source": [
    "engine = chess.engine.SimpleEngine.popen_uci('./stockfish_15_win_x64_ssse/stockfish_15_x64_ssse.exe')\n",
    "\n",
    "engine.configure({\"Hash\": 4096})\n",
    "\n",
    "engine.configure({\"Threads\": 8})\n",
    "\n",
    "# engine.configure({\"MultiPV\": 5})\n",
    "\n",
    "engine.configure({\"Skill level\": 20})\n",
    "\n",
    "engine.configure({\"Debug Log File\": \\\n",
    "                  'C:/Users/Emanuel/Desktop/data/capstone/preprocessed/evaluations/log.txt'})\n",
    "\n",
    "engine.configure({\"Move Overhead\": 100})\n",
    "\n",
    "engine.configure({\"Slow Mover\": 20})\n",
    "\n",
    "limit = chess.engine.Limit(time=0.1, depth=25)"
   ]
  },
  {
   "cell_type": "code",
   "execution_count": null,
   "id": "0f5f7289",
   "metadata": {
    "ExecuteTime": {
     "end_time": "2022-10-31T22:10:44.880332Z",
     "start_time": "2022-10-31T22:10:44.875318Z"
    },
    "hidden": true
   },
   "outputs": [],
   "source": [
    "def evaluate_game(game):\n",
    "    # Loop for moves in a single game\n",
    "    evaluations_ = []\n",
    "    board=chess.Board()\n",
    "    for move in game:\n",
    "        evalution_ = engine.analyse(board, limit, multipv='5')\n",
    "        board.push_san(move)\n",
    "\n",
    "        evaluations_.append(evalution_)\n",
    "    \n",
    "    \n",
    "    return evaluations_\n",
    "    \n",
    "    "
   ]
  },
  {
   "cell_type": "code",
   "execution_count": null,
   "id": "dec229fa",
   "metadata": {
    "ExecuteTime": {
     "end_time": "2022-10-31T23:39:20.140760Z",
     "start_time": "2022-10-31T23:39:20.121840Z"
    },
    "hidden": true
   },
   "outputs": [],
   "source": [
    "def evaluate_games(df, save_rate=1000):\n",
    "    list_of_evaluations = []\n",
    "    game_count = 0\n",
    "    for game in zip(df.moves):\n",
    "        game_eval_ = evaluate_game(game[0])\n",
    "        list_of_evaluations.append(game_eval_)\n",
    "        \n",
    "        game_count+=1\n",
    "        \n",
    "        if game_count%save_rate==0:\n",
    "            print(f'{game_count} games completed\\nSaving now...')\n",
    "            joblib.dump(list_of_evaluations, \n",
    "                        f'C:/Users/Emanuel/Desktop/data/capstone/preprocessed/evaluations/{game_count}_.pkl',\n",
    "                       compress=3)\n",
    "            t=time.localtime()[0:6]\n",
    "            print(f'Saved at {t[0]}/{t[1]}/{t[2]} {t[3]}:{t[4]}:{t[5]}')\n",
    "        else:\n",
    "            pass\n",
    "    \n",
    "    return list_of_evaluations"
   ]
  },
  {
   "cell_type": "code",
   "execution_count": null,
   "id": "380dd42d",
   "metadata": {
    "ExecuteTime": {
     "end_time": "2022-10-31T23:09:12.074493Z",
     "start_time": "2022-10-31T23:09:12.059534Z"
    },
    "hidden": true
   },
   "outputs": [],
   "source": [
    "# testing evaluate_games:\n",
    "\n",
    "games_51 = df_.iloc[0:51]\n",
    "# games_51"
   ]
  },
  {
   "cell_type": "code",
   "execution_count": null,
   "id": "77dc6369",
   "metadata": {
    "ExecuteTime": {
     "end_time": "2022-10-31T23:38:39.135231Z",
     "start_time": "2022-10-31T23:38:39.128250Z"
    },
    "hidden": true
   },
   "outputs": [],
   "source": [
    "# test_6_games_evaluations = evaluate_games(df_.iloc[0:7]) # 48.8 s\n",
    "\n",
    "# 2 games completed\n",
    "# Saving now...\n",
    "# Saved at 2022/10/31 23:36:28\n",
    "# 4 games completed\n",
    "# Saving now...\n",
    "# Saved at 2022/10/31 23:36:43\n",
    "# 6 games completed\n",
    "# Saving now...\n",
    "# Saved at 2022/10/31 23:37:1\n",
    "\n",
    "\n",
    "# test_6_games_evaluations = evaluate_games(df_.iloc[0:7]) # 48.4 s"
   ]
  },
  {
   "cell_type": "code",
   "execution_count": null,
   "id": "9f84a92f",
   "metadata": {
    "ExecuteTime": {
     "end_time": "2022-10-31T23:40:19.830775Z",
     "start_time": "2022-10-31T23:40:19.815815Z"
    },
    "hidden": true
   },
   "outputs": [],
   "source": [
    "# len(test_6_games_evaluations) # 7\n",
    "# test_6_games_evaluations[0][0]"
   ]
  },
  {
   "cell_type": "code",
   "execution_count": null,
   "id": "6373454b",
   "metadata": {
    "hidden": true
   },
   "outputs": [],
   "source": []
  },
  {
   "cell_type": "code",
   "execution_count": null,
   "id": "537333ed",
   "metadata": {
    "ExecuteTime": {
     "end_time": "2022-10-31T23:27:45.921800Z",
     "start_time": "2022-10-31T23:27:45.906840Z"
    },
    "code_folding": [
     0
    ],
    "hidden": true
   },
   "outputs": [],
   "source": [
    "# game_0 = df_2021_2017_titled_distinv.moves[0]\n",
    "\n",
    "# len(game_0) # 22\n",
    "\n",
    "# len(df_2021_2017_titled_distinv.moves[2]) # 75\n",
    "\n",
    "# game_2 = df_2021_2017_titled_distinv.moves[2]\n",
    "\n",
    "# game_2_evaluation_1 = evaluate_game(game_2)\n",
    "\n",
    "# game_0_evaluation_1 = evaluate_game(game_0) # 22.4 s\n",
    "\n",
    "# game_0;\n",
    "\n",
    "\n",
    "\n",
    "# # limit of 0.5 s\n",
    "# game_2_evaluation_05 = evaluate_game(game_2) # 38 s\n",
    "\n",
    "# game_0_evaluation_05 = evaluate_game(game_0) # 11.1 s\n",
    "\n",
    "# # limit of 0.1 s\n",
    "# game_2_evaluation_01 = evaluate_game(game_2) # 8.92 s\n",
    "\n",
    "# game_0_evaluation_01 = evaluate_game(game_0) # 2.29 s"
   ]
  },
  {
   "cell_type": "code",
   "execution_count": null,
   "id": "9fdd9c68",
   "metadata": {
    "hidden": true
   },
   "outputs": [],
   "source": []
  },
  {
   "cell_type": "code",
   "execution_count": null,
   "id": "1ed2d100",
   "metadata": {
    "ExecuteTime": {
     "end_time": "2022-10-31T22:12:46.432885Z",
     "start_time": "2022-10-31T22:12:46.425905Z"
    },
    "hidden": true
   },
   "outputs": [],
   "source": [
    "len(game_0_evaluation) # 22\n",
    "len(game_0_evaluation[0]) # 5"
   ]
  },
  {
   "cell_type": "code",
   "execution_count": null,
   "id": "fee48c49",
   "metadata": {
    "ExecuteTime": {
     "end_time": "2022-10-31T22:10:21.038663Z",
     "start_time": "2022-10-31T22:10:20.976127Z"
    },
    "hidden": true
   },
   "outputs": [],
   "source": [
    "# what is the average length of games in the dataset?\n",
    "\n",
    "df_ = hp.drop_no_move_games(df_2021_2017_titled_distinv)\n",
    "\n",
    "av_len = df_.PlyCount.mean()\n",
    "av_len # 78.41257"
   ]
  },
  {
   "cell_type": "code",
   "execution_count": null,
   "id": "28cb0c4c",
   "metadata": {
    "hidden": true
   },
   "outputs": [],
   "source": []
  },
  {
   "cell_type": "code",
   "execution_count": null,
   "id": "fa1aec00",
   "metadata": {
    "hidden": true
   },
   "outputs": [],
   "source": []
  },
  {
   "cell_type": "code",
   "execution_count": null,
   "id": "4ad7c189",
   "metadata": {
    "ExecuteTime": {
     "end_time": "2022-10-31T22:54:33.537203Z",
     "start_time": "2022-10-31T22:54:33.522200Z"
    },
    "hidden": true
   },
   "outputs": [],
   "source": [
    "# game_2_evaluation_1[0]"
   ]
  },
  {
   "cell_type": "code",
   "execution_count": null,
   "id": "9e1bf47c",
   "metadata": {
    "ExecuteTime": {
     "end_time": "2022-10-31T22:54:43.370853Z",
     "start_time": "2022-10-31T22:54:43.356891Z"
    },
    "hidden": true
   },
   "outputs": [],
   "source": [
    "# game_2_evaluation_1[0][0]['pv'][0] # Move.from_uci('d2d4')"
   ]
  },
  {
   "cell_type": "code",
   "execution_count": null,
   "id": "9f497b99",
   "metadata": {
    "hidden": true
   },
   "outputs": [],
   "source": [
    "# game_2_evaluation_1_ = []"
   ]
  },
  {
   "cell_type": "code",
   "execution_count": null,
   "id": "e739e406",
   "metadata": {
    "ExecuteTime": {
     "end_time": "2022-10-31T22:54:28.567223Z",
     "start_time": "2022-10-31T22:54:28.562271Z"
    },
    "hidden": true
   },
   "outputs": [],
   "source": [
    "# game_2_evaluation_05[0]"
   ]
  },
  {
   "cell_type": "code",
   "execution_count": null,
   "id": "2e24d200",
   "metadata": {
    "ExecuteTime": {
     "end_time": "2022-10-31T22:54:30.562410Z",
     "start_time": "2022-10-31T22:54:30.544457Z"
    },
    "hidden": true
   },
   "outputs": [],
   "source": [
    "# game_2_evaluation_01[0]"
   ]
  },
  {
   "cell_type": "code",
   "execution_count": null,
   "id": "a844669b",
   "metadata": {
    "hidden": true
   },
   "outputs": [],
   "source": []
  },
  {
   "cell_type": "code",
   "execution_count": null,
   "id": "15708030",
   "metadata": {
    "hidden": true
   },
   "outputs": [],
   "source": []
  },
  {
   "cell_type": "markdown",
   "id": "725c73e4",
   "metadata": {
    "hidden": true
   },
   "source": [
    "-----"
   ]
  },
  {
   "cell_type": "markdown",
   "id": "5f43e94f",
   "metadata": {
    "heading_collapsed": true,
    "hidden": true
   },
   "source": [
    "##### Old testing"
   ]
  },
  {
   "cell_type": "code",
   "execution_count": null,
   "id": "9c0427a4",
   "metadata": {
    "ExecuteTime": {
     "end_time": "2022-10-31T23:41:39.897220Z",
     "start_time": "2022-10-31T23:41:39.879268Z"
    },
    "code_folding": [
     0,
     1
    ],
    "hidden": true
   },
   "outputs": [],
   "source": [
    "### Old testing\n",
    "# # sf_.set_fen_position('4k3/8/8/5B2/r2BK3/6N1/8/8 w - - 0 1')\n",
    "\n",
    "# # sf_.get_evaluation() # {'type': 'cp', 'value': 183}\n",
    "\n",
    "\n",
    "\n",
    "# # import time\n",
    "\n",
    "# # t = time.time()\n",
    "\n",
    "# # b = []\n",
    "# # for i in range(1000):\n",
    "# #     b.append(i**2+np.random.randint(1, 100))\n",
    "\n",
    "# # t1 = time.time()\n",
    "\n",
    "# # c = []\n",
    "# # for i in range(1000):\n",
    "# #     c.append(i**2+np.random.randint(1, 100))\n",
    "\n",
    "# # t2 = time.time()\n",
    "\n",
    "# # total=t1-t\n",
    "# # total\n",
    "\n",
    "# # t2-t1\n",
    "\n",
    "# # times_ = []\n",
    "# # t=time.time()\n",
    "# # times_.append(t)\n",
    "\n",
    "# # b=[]\n",
    "# # for j in range(1000):\n",
    "# #     for i in range(1000):\n",
    "# #         b.append(i**2+np.random.randint(1, 100))\n",
    "# #     times_.append(time.time())\n",
    "\n",
    "    \n",
    "\n",
    "# # times_[0:3]\n",
    "# # # len(b)\n",
    "# # # len(times_)\n",
    "\n",
    "# 100 % 10 == 0 \n",
    "\n",
    "\n",
    "\n",
    "# def get_evaluations(game):\n",
    "#     # Loop for moves in a single game\n",
    "#     evaluations_ = []\n",
    "#     game_count=0\n",
    "#     sf_.set_position()\n",
    "#     board=chess.Board()\n",
    "#     for move in game:\n",
    "#         evalution_ = sf_.get_top_moves()\n",
    "#         move_ = board.push_san(move)\n",
    "#         sf_.make_moves_from_current_position([move_])\n",
    "\n",
    "#         evaluations_.append(evalution_)\n",
    "    \n",
    "    \n",
    "#     return evaluations_\n",
    "    \n",
    "    \n",
    "\n",
    "# def get_all_evaluations(df):\n",
    "#     list_of_all_evaluations = [\n",
    "#         get_evaluations(game[0]) for game in zip(df.moves)\n",
    "#     ]\n",
    "#     return list_of_all_evaluations\n",
    "\n",
    "\n",
    "\n",
    "# def get_all_evaluations_saving(df):\n",
    "#     for game in zip(df_2021_2017_titled_distinv)\n",
    "\n",
    "# for game in zip(df_2021_2017_titled_distinv[0:10].moves):\n",
    "#     print(game[0])\n",
    "\n",
    "    \n",
    "#     # keep track of how many games have been analysed\n",
    "#     game_count+=1\n",
    "    \n",
    "#     if game_count % 10 == 0:\n",
    "#         print(f'{game_count} games have been analyzed')\n",
    "#         joblib.dump(evaluations_, f'C:/Users/MaNiL/Desktop/data/capstone/preprocessed/evaluations/{game_count}_evaluated')\n",
    "    \n",
    "\n",
    "\n",
    "\n",
    "# # testing\n",
    "\n",
    "# df_2021_2017_titled_distinv.moves[0];\n",
    "# test_ = [game for game in df_2021_2017_titled_distinv.moves]\n",
    "\n",
    "# [get_evaluations(game[0]) for game in zip(df_2021_2017_titled_distinv[0:10].moves)]\n",
    "\n",
    "\n",
    "\n",
    "# # df_2021_2017_titled_distinv.shape # (87982, 18)\n",
    "\n",
    "# # drop_no_move_games(df_2021_2017_titled_distinv).shape # (87871, 18)\n",
    "\n",
    "\n",
    "\n",
    "# game_0 = get_evaluations(df_2021_2017_titled_distinv.moves[0]) # powerful-fish took 1m 16.9s on laptop\n",
    "\n",
    "# # len(game_0) # 22\n",
    "\n",
    "# games_0_to_101 = get_all_evaluations(df_2021_2017_titled_distinv[0:101])\n",
    "\n",
    "# games_0_to_101[0][0]\n",
    "# # == game_0\n",
    "\n",
    "# game_0[0]"
   ]
  },
  {
   "cell_type": "markdown",
   "id": "4d2b704e",
   "metadata": {
    "hidden": true
   },
   "source": [
    "-----"
   ]
  },
  {
   "cell_type": "markdown",
   "id": "044cd719",
   "metadata": {},
   "source": [
    "### Getting evaluations"
   ]
  },
  {
   "cell_type": "code",
   "execution_count": null,
   "id": "e451bebf",
   "metadata": {
    "ExecuteTime": {
     "end_time": "2022-11-01T22:05:19.328989Z",
     "start_time": "2022-11-01T22:05:16.661036Z"
    }
   },
   "outputs": [],
   "source": [
    "# df_for_titled_eval = joblib.load(\n",
    "#     'C:/Users/Emanuel/Desktop/data/capstone/preprocessed/evaluations/2021_2017_titled_distinv_allmoves.pkl')"
   ]
  },
  {
   "cell_type": "code",
   "execution_count": null,
   "id": "ea2be78c",
   "metadata": {
    "ExecuteTime": {
     "end_time": "2022-11-01T22:05:19.344378Z",
     "start_time": "2022-11-01T22:05:19.330388Z"
    }
   },
   "outputs": [],
   "source": [
    "# df_for_titled_eval.shape # (87871, 18)"
   ]
  },
  {
   "cell_type": "code",
   "execution_count": 6,
   "id": "26b038be",
   "metadata": {
    "ExecuteTime": {
     "end_time": "2022-11-02T23:45:54.912153Z",
     "start_time": "2022-11-02T23:45:54.457902Z"
    }
   },
   "outputs": [],
   "source": [
    "engine = chess.engine.SimpleEngine.popen_uci('./stockfish_15_win_x64_ssse/stockfish_15_x64_ssse.exe')\n",
    "\n",
    "engine.configure({\"Hash\": 4096})\n",
    "\n",
    "engine.configure({\"Threads\": 8})\n",
    "\n",
    "# engine.configure({\"MultiPV\": 5})\n",
    "\n",
    "engine.configure({\"Skill level\": 20})\n",
    "\n",
    "engine.configure({\"Debug Log File\": \\\n",
    "                  'C:/Users/Emanuel/Desktop/data/capstone/preprocessed/evaluations/log.txt'})\n",
    "\n",
    "engine.configure({\"Move Overhead\": 100})\n",
    "\n",
    "engine.configure({\"Slow Mover\": 20})\n",
    "\n",
    "limit = chess.engine.Limit(time=0.1, depth=25)"
   ]
  },
  {
   "cell_type": "code",
   "execution_count": 7,
   "id": "626d2e47",
   "metadata": {
    "ExecuteTime": {
     "end_time": "2022-11-02T23:45:56.847777Z",
     "start_time": "2022-11-02T23:45:56.832156Z"
    },
    "code_folding": [
     0
    ]
   },
   "outputs": [],
   "source": [
    "def evaluate_game(game):\n",
    "    # Loop for moves in a single game\n",
    "    evaluations_ = []\n",
    "    board=chess.Board()\n",
    "    for move in game:\n",
    "        evalution_ = engine.analyse(board, limit, multipv='5')\n",
    "        board.push_san(move)\n",
    "\n",
    "        evaluations_.append(evalution_)\n",
    "    \n",
    "    \n",
    "    return evaluations_"
   ]
  },
  {
   "cell_type": "code",
   "execution_count": null,
   "id": "44d2b7db",
   "metadata": {
    "ExecuteTime": {
     "end_time": "2022-11-01T22:05:19.712541Z",
     "start_time": "2022-11-01T22:05:19.699576Z"
    },
    "code_folding": [
     0
    ]
   },
   "outputs": [],
   "source": [
    "# def evaluate_games(df, save_rate=1000, path='./'): # risky to use function on many games in case something goes wrong\n",
    "#     list_of_evaluations = []\n",
    "#     game_count = 0\n",
    "    \n",
    "#     for game in zip(df.moves):    \n",
    "#         try:\n",
    "#             game_eval_ = evaluate_game(game[0])\n",
    "#             list_of_evaluations.append(game_eval_)\n",
    "\n",
    "#             game_count+=1\n",
    "\n",
    "#             if game_count%save_rate==0:\n",
    "#                 print(f'{game_count} games completed\\nSaving now...')\n",
    "#                 joblib.dump(list_of_evaluations, \n",
    "#                             f'{path}{game_count}_.pkl',\n",
    "#                            compress=3)\n",
    "#                 t=time.localtime()[0:6]\n",
    "#                 print(f'Saved at {t[0]}/{t[1]}/{t[2]} {t[3]}:{t[4]}:{t[5]}')\n",
    "#             elif game_count%100==0:\n",
    "#                 print(f'{game_count}')\n",
    "#                 t=time.localtime()[0:6]\n",
    "#                 print(f'At {t[0]}/{t[1]}/{t[2]} {t[3]}:{t[4]}:{t[5]}')\n",
    "#             else:\n",
    "#                 pass\n",
    "    \n",
    "#         except KeyboardInterrupt:\n",
    "#             print('Keyboard Interrupt')\n",
    "#             print(f'{game_count}')\n",
    "#             return list_of_evaluations\n",
    "# #             break\n",
    "    \n",
    "#         except:\n",
    "#             list_of_evaluations.append(['Error occured'])\n",
    "\n",
    "#             game_count+=1        \n",
    "\n",
    "#             print(f'Error occured on game {game_count}')\n",
    "        \n",
    "#     return list_of_evaluations"
   ]
  },
  {
   "cell_type": "code",
   "execution_count": null,
   "id": "81fd7372",
   "metadata": {
    "ExecuteTime": {
     "end_time": "2022-11-01T21:50:58.012508Z",
     "start_time": "2022-11-01T21:50:57.998516Z"
    },
    "code_folding": [
     0
    ],
    "scrolled": true
   },
   "outputs": [],
   "source": [
    "# ## Evaluating multiple games, starting at 0, with try-except\n",
    "\n",
    "# df_=\n",
    "# list_of_evaluations = []\n",
    "# game_count = 0\n",
    "# path='C:/Users/Emanuel/Desktop/data/capstone/preprocessed/evaluations/'\n",
    "# for game in zip(df_.moves):\n",
    "#     try:\n",
    "#         game_eval_ = evaluate_game(game[0])\n",
    "#         list_of_evaluations.append(game_eval_)\n",
    "\n",
    "#         game_count+=1\n",
    "\n",
    "#         if game_count%1000==0:\n",
    "#             print(f'{game_count} games completed\\nSaving now...')\n",
    "#             joblib.dump(list_of_evaluations, \n",
    "#                         f'{path}{game_count}_.pkl',\n",
    "#                        compress=3)\n",
    "#             t=time.localtime()[0:6]\n",
    "#             print(f'Saved at {t[0]}/{t[1]}/{t[2]} {t[3]}:{t[4]}:{t[5]}')\n",
    "#         elif game_count%100==0:\n",
    "#             print(f'{game_count}')\n",
    "#             t=time.localtime()[0:6]\n",
    "#             print(f'At {t[0]}/{t[1]}/{t[2]} {t[3]}:{t[4]}:{t[5]}')\n",
    "#         else:\n",
    "#             pass\n",
    "        \n",
    "#     except KeyboardInterrupt:\n",
    "#         print('Keyboard Interrupt')\n",
    "#         print(f'{game_count}')\n",
    "#         break\n",
    "        \n",
    "#     except:\n",
    "#         list_of_evaluations.append(['Error occured'])\n",
    "                \n",
    "#         game_count+=1\n",
    "        \n",
    "#         print(f'Error occured on game {game_count}')"
   ]
  },
  {
   "cell_type": "markdown",
   "id": "e00f7f97",
   "metadata": {},
   "source": [
    "-------"
   ]
  },
  {
   "cell_type": "markdown",
   "id": "c73cf183",
   "metadata": {
    "heading_collapsed": true
   },
   "source": [
    "##### Titled matches"
   ]
  },
  {
   "cell_type": "code",
   "execution_count": null,
   "id": "18abdffa",
   "metadata": {
    "ExecuteTime": {
     "end_time": "2022-11-01T21:38:39.932263Z",
     "start_time": "2022-11-01T21:38:39.926280Z"
    },
    "code_folding": [],
    "hidden": true
   },
   "outputs": [],
   "source": [
    "### Evaluating multiple games, starting at 0, no try-except\n",
    "\n",
    "# list_of_evaluations = []\n",
    "# game_count = 0\n",
    "# for game in zip(df_for_titled_eval.moves):\n",
    "#     game_eval_ = evaluate_game(game[0])\n",
    "#     list_of_evaluations.append(game_eval_)\n",
    "\n",
    "#     game_count+=1\n",
    "\n",
    "#     if game_count%1000==0:\n",
    "#         print(f'{game_count} games completed\\nSaving now...')\n",
    "#         joblib.dump(list_of_evaluations, \n",
    "#                     f'C:/Users/Emanuel/Desktop/data/capstone/preprocessed/evaluations/{game_count}_.pkl',\n",
    "#                    compress=3)\n",
    "#         t=time.localtime()[0:6]\n",
    "#         print(f'Saved at {t[0]}/{t[1]}/{t[2]} {t[3]}:{t[4]}:{t[5]}')\n",
    "#     elif game_count%100==0:\n",
    "#         print(f'{game_count}')\n",
    "#         t=time.localtime()[0:6]\n",
    "#         print(f'At {t[0]}/{t[1]}/{t[2]} {t[3]}:{t[4]}:{t[5]}')\n",
    "#     else:\n",
    "#         pass"
   ]
  },
  {
   "cell_type": "code",
   "execution_count": null,
   "id": "94395daa",
   "metadata": {
    "ExecuteTime": {
     "end_time": "2022-11-01T21:50:58.012508Z",
     "start_time": "2022-11-01T21:50:57.998516Z"
    },
    "code_folding": [],
    "hidden": true,
    "scrolled": true
   },
   "outputs": [],
   "source": [
    "### Evaluating multiple games, starting at 0, with try-except\n",
    "\n",
    "# list_of_evaluations = []\n",
    "# game_count = 0\n",
    "# for game in zip(df_for_titled_eval.iloc[4778:].moves):\n",
    "#     try:\n",
    "#         game_eval_ = evaluate_game(game[0])\n",
    "#         list_of_evaluations.append(game_eval_)\n",
    "\n",
    "#         game_count+=1\n",
    "\n",
    "#         if game_count%1000==0:\n",
    "#             print(f'{game_count} games completed\\nSaving now...')\n",
    "#             joblib.dump(list_of_evaluations, \n",
    "#                         f'C:/Users/Emanuel/Desktop/data/capstone/preprocessed/evaluations/{game_count}_.pkl',\n",
    "#                        compress=3)\n",
    "#             t=time.localtime()[0:6]\n",
    "#             print(f'Saved at {t[0]}/{t[1]}/{t[2]} {t[3]}:{t[4]}:{t[5]}')\n",
    "#         elif game_count%100==0:\n",
    "#             print(f'{game_count}')\n",
    "#             t=time.localtime()[0:6]\n",
    "#             print(f'At {t[0]}/{t[1]}/{t[2]} {t[3]}:{t[4]}:{t[5]}')\n",
    "#         else:\n",
    "#             pass\n",
    "        \n",
    "#     except:\n",
    "#         list_of_evaluations.append(['Error occured'])\n",
    "                \n",
    "#         game_count+=1\n",
    "        \n",
    "#         print(f'Error occured on game {game_count}')"
   ]
  },
  {
   "cell_type": "markdown",
   "id": "90e87f50",
   "metadata": {
    "hidden": true
   },
   "source": [
    "----"
   ]
  },
  {
   "cell_type": "markdown",
   "id": "5131dd4d",
   "metadata": {
    "heading_collapsed": true
   },
   "source": [
    "##### Dealing with an error for titled games"
   ]
  },
  {
   "cell_type": "code",
   "execution_count": null,
   "id": "62903e0d",
   "metadata": {
    "ExecuteTime": {
     "end_time": "2022-11-01T19:37:03.148380Z",
     "start_time": "2022-11-01T19:37:03.134418Z"
    },
    "hidden": true
   },
   "outputs": [],
   "source": [
    "# len(list_of_evaluations) # 4778\n",
    "\n",
    "# game_count # 4778"
   ]
  },
  {
   "cell_type": "code",
   "execution_count": null,
   "id": "78c2e2e3",
   "metadata": {
    "ExecuteTime": {
     "end_time": "2022-11-01T19:51:41.849617Z",
     "start_time": "2022-11-01T19:37:37.421716Z"
    },
    "hidden": true
   },
   "outputs": [],
   "source": [
    "# joblib.dump(list_of_evaluations, \n",
    "#                     f'C:/Users/Emanuel/Desktop/data/capstone/preprocessed/evaluations/{game_count}_.pkl',\n",
    "#             compress=9)"
   ]
  },
  {
   "cell_type": "code",
   "execution_count": null,
   "id": "9b424ea4",
   "metadata": {
    "hidden": true
   },
   "outputs": [],
   "source": []
  },
  {
   "cell_type": "code",
   "execution_count": null,
   "id": "d6267cb1",
   "metadata": {
    "ExecuteTime": {
     "end_time": "2022-11-01T21:38:13.656961Z",
     "start_time": "2022-11-01T21:38:13.644968Z"
    },
    "hidden": true
   },
   "outputs": [],
   "source": [
    "# df_for_titled_eval.iloc[4777].moves[-1] # 'Rbc1'\n",
    "\n",
    "# list_of_evaluations[4777][-1]"
   ]
  },
  {
   "cell_type": "code",
   "execution_count": null,
   "id": "b82268a4",
   "metadata": {
    "ExecuteTime": {
     "end_time": "2022-11-01T21:38:02.730809Z",
     "start_time": "2022-11-01T21:38:02.725822Z"
    },
    "hidden": true
   },
   "outputs": [],
   "source": [
    "# test_ = evaluate_game(df_for_titled_eval.iloc[4778].moves)\n",
    "\n",
    "# len(test_) # 152\n",
    "# type(test_) # list\n",
    "\n",
    "# len(list_of_evaluations) # 4778\n",
    "# type(list_of_evaluations) # list\n",
    "\n",
    "# len(list_of_evaluations[-1]) # 55\n",
    "# type(list_of_evaluations[-1]) # list\n",
    "\n",
    "# test_"
   ]
  },
  {
   "cell_type": "code",
   "execution_count": null,
   "id": "d6077fa4",
   "metadata": {
    "hidden": true
   },
   "outputs": [],
   "source": []
  },
  {
   "cell_type": "code",
   "execution_count": null,
   "id": "6d772232",
   "metadata": {
    "ExecuteTime": {
     "end_time": "2022-11-01T20:41:20.244910Z",
     "start_time": "2022-11-01T20:41:20.229840Z"
    },
    "code_folding": [
     0
    ],
    "hidden": true
   },
   "outputs": [],
   "source": [
    "# def how_games_ended(series_of_games_emts):\n",
    "#     '''\n",
    "#     test_ = df_2021_2017_titled_distinv.copy()\n",
    "#     test_['endings'] = how_games_ended(test_.emt)\n",
    "#     test_.head(2)\n",
    "#     '''\n",
    "    \n",
    "# #     series_of_games_emts = [game_ if game_!=[] else ['none'] for game_ in series_of_games_emts]\n",
    "# #     endings_ = [re.search('[a-zA-Z]{5}.[a-zA-Z]+.[a-zA-Z]*.[a-zA-Z]*', game_[-1]).group() for game_ in series_of_games_emts]\n",
    "# #     endings_ = [re.search('(Black|White).[a-zA-Z]+.[a-zA-Z]*.[a-zA-Z]*', game_[-1]).group() for game_ in series_of_games_emts]\n",
    "#     endings_ = [re.search('(Black|White).[a-zA-Z]+.[a-zA-Z]*.[a-zA-Z]*', game_[-1]).group() if game_!=[] else [] for game_ in series_of_games_emts]\n",
    "    \n",
    "#     return endings_"
   ]
  },
  {
   "cell_type": "code",
   "execution_count": null,
   "id": "15cfe86c",
   "metadata": {
    "ExecuteTime": {
     "end_time": "2022-11-01T20:42:03.241645Z",
     "start_time": "2022-11-01T20:42:03.226677Z"
    },
    "hidden": true
   },
   "outputs": [],
   "source": [
    "how_games_ended(df_for_titled_eval.iloc[4777:4779].emt) # checks how the 4778th and 4779th game ended"
   ]
  },
  {
   "cell_type": "markdown",
   "id": "091919fe",
   "metadata": {
    "hidden": true
   },
   "source": [
    "Checking the game for which an error occured:"
   ]
  },
  {
   "cell_type": "code",
   "execution_count": null,
   "id": "ec903300",
   "metadata": {
    "ExecuteTime": {
     "end_time": "2022-11-01T20:43:46.129859Z",
     "start_time": "2022-11-01T20:43:46.122878Z"
    },
    "hidden": true
   },
   "outputs": [],
   "source": [
    "weird_game = zip(df_for_titled_eval.iloc[4778].moves)\n",
    "\n",
    "board_=chess.Board()"
   ]
  },
  {
   "cell_type": "code",
   "execution_count": null,
   "id": "ee3b0144",
   "metadata": {
    "ExecuteTime": {
     "end_time": "2022-11-01T20:45:13.112126Z",
     "start_time": "2022-11-01T20:45:13.101131Z"
    },
    "hidden": true
   },
   "outputs": [],
   "source": [
    "board_.push_san(next(weird_game)[0])\n",
    "board_"
   ]
  },
  {
   "cell_type": "code",
   "execution_count": null,
   "id": "890892f8",
   "metadata": {
    "hidden": true
   },
   "outputs": [],
   "source": []
  },
  {
   "cell_type": "code",
   "execution_count": null,
   "id": "b939a4ef",
   "metadata": {
    "ExecuteTime": {
     "start_time": "2022-11-01T21:33:49.336Z"
    },
    "hidden": true
   },
   "outputs": [],
   "source": [
    "# list_of_evaluations[4778] # IndexError: list index out of range on 4778"
   ]
  },
  {
   "cell_type": "code",
   "execution_count": null,
   "id": "a845835f",
   "metadata": {
    "ExecuteTime": {
     "end_time": "2022-11-01T21:07:27.343608Z",
     "start_time": "2022-11-01T21:07:27.336599Z"
    },
    "hidden": true
   },
   "outputs": [],
   "source": [
    "test_restart=zip(df_for_titled_eval.iloc[4778:].moves)"
   ]
  },
  {
   "cell_type": "code",
   "execution_count": null,
   "id": "0023f770",
   "metadata": {
    "ExecuteTime": {
     "end_time": "2022-11-01T21:07:28.276456Z",
     "start_time": "2022-11-01T21:07:28.264459Z"
    },
    "hidden": true,
    "scrolled": true
   },
   "outputs": [],
   "source": [
    "next(test_restart)"
   ]
  },
  {
   "cell_type": "code",
   "execution_count": null,
   "id": "fc939dfa",
   "metadata": {
    "hidden": true
   },
   "outputs": [],
   "source": []
  },
  {
   "cell_type": "code",
   "execution_count": null,
   "id": "32a966d7",
   "metadata": {
    "ExecuteTime": {
     "start_time": "2022-11-01T22:04:50.753Z"
    },
    "code_folding": [
     0
    ],
    "hidden": true,
    "scrolled": true
   },
   "outputs": [],
   "source": [
    "# ## Testing the looping before restarting - seems to work fine\n",
    "\n",
    "# # It had an error after game 4778, so the loop will be rerun starting from that number (i.e. starting from\n",
    "# # the 4779th game - due to indexing at 0)\n",
    "\n",
    "# # list_of_evaluations = [] # no need to empty the list\n",
    "\n",
    "# list_of_evaluations_testing = []\n",
    "# game_count_ = 4778\n",
    "# path='C:/Users/Emanuel/Desktop/data/capstone/preprocessed/evaluations/'\n",
    "\n",
    "# for game in zip(df_for_titled_eval.iloc[4778:].moves):\n",
    "#     try:\n",
    "#         game_eval_ = evaluate_game(game[0])\n",
    "#         list_of_evaluations_testing.append(game_eval_)\n",
    "\n",
    "#         game_count_+=1\n",
    "\n",
    "#         if game_count_%1000==0:\n",
    "#             print(f'{game_count_} testing games completed\\nSaving now...')\n",
    "#             joblib.dump(list_of_evaluations_testing, \n",
    "#                         f'{path}{game_count_}_testing_.pkl',\n",
    "#                        compress=3)\n",
    "#             t=time.localtime()[0:6]\n",
    "#             print(f'Saved at {t[0]}/{t[1]}/{t[2]} {t[3]}:{t[4]}:{t[5]}')\n",
    "#         elif game_count_%100==0:\n",
    "#             print(f'{game_count_}')\n",
    "#             t=time.localtime()[0:6]\n",
    "#             print(f'At {t[0]}/{t[1]}/{t[2]} {t[3]}:{t[4]}:{t[5]}')\n",
    "#         else:\n",
    "#             pass\n",
    " \n",
    "#     except KeyboardInterrupt:\n",
    "#         print('Keyboard Interrupt')\n",
    "#         print(f'{game_count}')\n",
    "#         break\n",
    "\n",
    "#     except:\n",
    "#         list_of_evaluations_testing.append(['Error occured'])\n",
    "                \n",
    "#         game_count_+=1\n",
    "        \n",
    "#         print(f'Error occured on testing game {game_count_}')\n",
    "#         print(f'{path}')\n"
   ]
  },
  {
   "cell_type": "code",
   "execution_count": null,
   "id": "c3a17ef6",
   "metadata": {
    "hidden": true
   },
   "outputs": [],
   "source": []
  },
  {
   "cell_type": "code",
   "execution_count": null,
   "id": "0a1828ec",
   "metadata": {
    "ExecuteTime": {
     "end_time": "2022-11-01T22:12:36.240559Z",
     "start_time": "2022-11-01T22:05:38.588451Z"
    },
    "hidden": true
   },
   "outputs": [],
   "source": [
    "list_of_evaluations = joblib.load('C:/Users/Emanuel/Desktop/data/capstone/preprocessed/evaluations/4778_.pkl')"
   ]
  },
  {
   "cell_type": "code",
   "execution_count": null,
   "id": "11b95914",
   "metadata": {
    "ExecuteTime": {
     "end_time": "2022-11-01T22:12:36.256520Z",
     "start_time": "2022-11-01T22:12:36.241565Z"
    },
    "hidden": true
   },
   "outputs": [],
   "source": [
    "# display(len(list_of_evaluations))\n",
    "# display(type(list_of_evaluations))\n",
    "# display(list_of_evaluations[-1])"
   ]
  },
  {
   "cell_type": "code",
   "execution_count": null,
   "id": "ea7fd379",
   "metadata": {
    "hidden": true
   },
   "outputs": [],
   "source": []
  },
  {
   "cell_type": "code",
   "execution_count": null,
   "id": "7f0d25d2",
   "metadata": {
    "ExecuteTime": {
     "start_time": "2022-11-01T22:18:38.979Z"
    },
    "hidden": true,
    "scrolled": true
   },
   "outputs": [],
   "source": [
    "# It had an error after game 4778, so the loop will be rerun starting from that number (i.e. starting from\n",
    "# the 4779th game - due to indexing at 0)\n",
    "\n",
    "# list_of_evaluations = [] # no need to empty the list\n",
    "game_count = 4778\n",
    "path='C:/Users/Emanuel/Desktop/data/capstone/preprocessed/evaluations/'\n",
    "for game in zip(df_for_titled_eval.iloc[4778:].moves):\n",
    "    try:\n",
    "        game_eval_ = evaluate_game(game[0])\n",
    "        list_of_evaluations.append(game_eval_)\n",
    "\n",
    "        game_count+=1\n",
    "\n",
    "        if game_count%1000==0:\n",
    "            print(f'{game_count} games completed\\nSaving now...')\n",
    "            joblib.dump(list_of_evaluations, \n",
    "                        f'{path}{game_count}_.pkl',\n",
    "                       compress=3)\n",
    "            t=time.localtime()[0:6]\n",
    "            print(f'Saved at {t[0]}/{t[1]}/{t[2]} {t[3]}:{t[4]}:{t[5]}')\n",
    "        elif game_count%100==0:\n",
    "            print(f'{game_count}')\n",
    "            t=time.localtime()[0:6]\n",
    "            print(f'At {t[0]}/{t[1]}/{t[2]} {t[3]}:{t[4]}:{t[5]}')\n",
    "        else:\n",
    "            pass\n",
    "        \n",
    "    except KeyboardInterrupt:\n",
    "        print('Keyboard Interrupt')\n",
    "        print(f'{game_count}')\n",
    "        break\n",
    "        \n",
    "    except:\n",
    "        list_of_evaluations.append(['Error occured'])\n",
    "                \n",
    "        game_count+=1\n",
    "        \n",
    "        print(f'Error occured on game {game_count}')\n"
   ]
  },
  {
   "cell_type": "code",
   "execution_count": null,
   "id": "df2b4fb6",
   "metadata": {
    "hidden": true
   },
   "outputs": [],
   "source": []
  },
  {
   "cell_type": "markdown",
   "id": "fcfab06f",
   "metadata": {
    "hidden": true
   },
   "source": [
    "-------"
   ]
  },
  {
   "cell_type": "markdown",
   "id": "069a946e",
   "metadata": {},
   "source": [
    "##### Continuing to do more titled games"
   ]
  },
  {
   "cell_type": "code",
   "execution_count": 8,
   "id": "8685f304",
   "metadata": {
    "ExecuteTime": {
     "end_time": "2022-11-02T23:46:36.686592Z",
     "start_time": "2022-11-02T23:46:34.195802Z"
    }
   },
   "outputs": [],
   "source": [
    "df_for_titled_eval = joblib.load('C:/Users/Emanuel/Desktop/data/capstone/preprocessed/evaluations/titled/2021_2017_titled_distinv_allmoves.pkl')"
   ]
  },
  {
   "cell_type": "code",
   "execution_count": 10,
   "id": "a65a887b",
   "metadata": {
    "ExecuteTime": {
     "end_time": "2022-11-02T23:49:57.540499Z",
     "start_time": "2022-11-02T23:49:57.518318Z"
    }
   },
   "outputs": [],
   "source": [
    "# list_of_evaluations=joblib.load('C:/Users/Emanuel/Desktop/data/capstone/preprocessed/evaluations/titled/6000_.pkl')"
   ]
  },
  {
   "cell_type": "code",
   "execution_count": 12,
   "id": "9fe84103",
   "metadata": {
    "ExecuteTime": {
     "end_time": "2022-11-02T23:50:13.714357Z",
     "start_time": "2022-11-02T23:50:13.683114Z"
    }
   },
   "outputs": [],
   "source": [
    "list_of_evaluations = []"
   ]
  },
  {
   "cell_type": "code",
   "execution_count": 13,
   "id": "fb7854b1",
   "metadata": {
    "ExecuteTime": {
     "end_time": "2022-11-02T23:50:14.114575Z",
     "start_time": "2022-11-02T23:50:14.098953Z"
    }
   },
   "outputs": [
    {
     "data": {
      "text/plain": [
       "0"
      ]
     },
     "execution_count": 13,
     "metadata": {},
     "output_type": "execute_result"
    }
   ],
   "source": [
    "len(list_of_evaluations)"
   ]
  },
  {
   "cell_type": "code",
   "execution_count": 14,
   "id": "a0faf09f",
   "metadata": {
    "ExecuteTime": {
     "end_time": "2022-11-02T23:50:18.726542Z",
     "start_time": "2022-11-02T23:50:18.710923Z"
    }
   },
   "outputs": [],
   "source": [
    "# list_of_evaluations[-1]"
   ]
  },
  {
   "cell_type": "code",
   "execution_count": 15,
   "id": "628122d0",
   "metadata": {
    "ExecuteTime": {
     "end_time": "2022-11-02T23:50:19.960389Z",
     "start_time": "2022-11-02T23:50:19.944764Z"
    },
    "collapsed": true
   },
   "outputs": [
    {
     "data": {
      "text/plain": [
       "Event                                           FICS rated blitz game\n",
       "Date                                              2021-09-28 00:00:00\n",
       "White                                                        LSQUARED\n",
       "Black                                                     Maurian(FM)\n",
       "Result                                                            0-1\n",
       "BlackElo                                                         1908\n",
       "BlackRD                                                             0\n",
       "ECO                                                               B06\n",
       "PlyCount                                                           86\n",
       "WhiteElo                                                         1671\n",
       "WhiteRD                                                             0\n",
       "emt                 [[%emt 0.0], [%emt 0.0], [%emt 1.3], [%emt 0.8...\n",
       "moves               [e4, g6, Nf3, Bg7, d4, d6, Bd3, Nc6, c3, Nf6, ...\n",
       "WhiteIsComp                                                         0\n",
       "BlackIsComp                                                         0\n",
       "NoComp                                                              1\n",
       "TimeControl_Base                                                  180\n",
       "TimeControl_Inc                                                     0\n",
       "Name: 5999, dtype: object"
      ]
     },
     "execution_count": 15,
     "metadata": {},
     "output_type": "execute_result"
    }
   ],
   "source": [
    "df_for_titled_eval.iloc[5999]"
   ]
  },
  {
   "cell_type": "code",
   "execution_count": 17,
   "id": "e419cd10",
   "metadata": {
    "ExecuteTime": {
     "end_time": "2022-11-02T23:50:43.736514Z",
     "start_time": "2022-11-02T23:50:35.225224Z"
    }
   },
   "outputs": [],
   "source": [
    "test_=evaluate_game(df_for_titled_eval.iloc[5999].moves)"
   ]
  },
  {
   "cell_type": "code",
   "execution_count": null,
   "id": "810dc631",
   "metadata": {},
   "outputs": [],
   "source": []
  },
  {
   "cell_type": "code",
   "execution_count": 19,
   "id": "4968a8bf",
   "metadata": {
    "ExecuteTime": {
     "end_time": "2022-11-02T23:50:51.107757Z",
     "start_time": "2022-11-02T23:50:51.085545Z"
    },
    "collapsed": true
   },
   "outputs": [
    {
     "data": {
      "text/plain": [
       "['e4',\n",
       " 'g6',\n",
       " 'd4',\n",
       " 'Bg7',\n",
       " 'Nf3',\n",
       " 'd6',\n",
       " 'Nc3',\n",
       " 'a6',\n",
       " 'Be3',\n",
       " 'b5',\n",
       " 'Bd3',\n",
       " 'Bb7',\n",
       " 'O-O',\n",
       " 'Nd7',\n",
       " 'a3',\n",
       " 'Rc8',\n",
       " 'h3',\n",
       " 'c5',\n",
       " 'Ne2',\n",
       " 'c4',\n",
       " 'c3',\n",
       " 'cxd3',\n",
       " 'Qxd3',\n",
       " 'Ngf6',\n",
       " 'e5',\n",
       " 'Ne4',\n",
       " 'd5',\n",
       " 'Nec5',\n",
       " 'Qc2',\n",
       " 'Nxe5',\n",
       " 'Nxe5',\n",
       " 'Bxe5',\n",
       " 'Bh6',\n",
       " 'Bxd5',\n",
       " 'Nd4',\n",
       " 'Ne6',\n",
       " 'Nf3',\n",
       " 'Bxf3',\n",
       " 'gxf3',\n",
       " 'Bg7',\n",
       " 'Be3',\n",
       " 'O-O',\n",
       " 'Qd2',\n",
       " 'Nc5',\n",
       " 'h4',\n",
       " 'Nb3',\n",
       " 'Qe2',\n",
       " 'Nxa1',\n",
       " 'Rxa1',\n",
       " 'Rc4',\n",
       " 'h5',\n",
       " 'e6',\n",
       " 'h6',\n",
       " 'Be5',\n",
       " 'Qd2',\n",
       " 'Qf6',\n",
       " 'f4',\n",
       " 'Bxf4',\n",
       " 'Bxf4',\n",
       " 'Rxf4',\n",
       " 'Qxd6',\n",
       " 'Rxf2',\n",
       " 'Qg3',\n",
       " 'Rf3',\n",
       " 'Qg2',\n",
       " 'Rf5',\n",
       " 'Kh1',\n",
       " 'Rh5+']"
      ]
     },
     "execution_count": 19,
     "metadata": {},
     "output_type": "execute_result"
    }
   ],
   "source": [
    "df_for_titled_eval.iloc[6000].moves"
   ]
  },
  {
   "cell_type": "code",
   "execution_count": null,
   "id": "702dfd54",
   "metadata": {},
   "outputs": [],
   "source": []
  },
  {
   "cell_type": "code",
   "execution_count": 20,
   "id": "eb60113e",
   "metadata": {
    "ExecuteTime": {
     "end_time": "2022-11-03T08:21:23.951163Z",
     "start_time": "2022-11-02T23:53:47.133591Z"
    },
    "scrolled": true
   },
   "outputs": [
    {
     "name": "stdout",
     "output_type": "stream",
     "text": [
      "6100\n",
      "At 2022/11/3 0:5:59\n",
      "6200\n",
      "At 2022/11/3 0:17:42\n",
      "6300\n",
      "At 2022/11/3 0:30:47\n",
      "6400\n",
      "At 2022/11/3 0:43:28\n",
      "6500\n",
      "At 2022/11/3 0:55:48\n",
      "6600\n",
      "At 2022/11/3 1:8:34\n",
      "6700\n",
      "At 2022/11/3 1:20:20\n",
      "6800\n",
      "At 2022/11/3 1:32:41\n",
      "6900\n",
      "At 2022/11/3 1:44:47\n",
      "7000 games completed\n",
      "Saving now...\n",
      "Saved at 2022/11/3 2:0:37\n",
      "7100\n",
      "At 2022/11/3 2:12:46\n",
      "7200\n",
      "At 2022/11/3 2:26:17\n",
      "7300\n",
      "At 2022/11/3 2:38:1\n",
      "7400\n",
      "At 2022/11/3 2:50:10\n",
      "7500\n",
      "At 2022/11/3 3:3:8\n",
      "7600\n",
      "At 2022/11/3 3:15:54\n",
      "7700\n",
      "At 2022/11/3 3:29:35\n",
      "7800\n",
      "At 2022/11/3 3:42:19\n",
      "7900\n",
      "At 2022/11/3 3:55:44\n",
      "8000 games completed\n",
      "Saving now...\n",
      "Saved at 2022/11/3 4:14:9\n",
      "8100\n",
      "At 2022/11/3 4:26:36\n",
      "8200\n",
      "At 2022/11/3 4:38:50\n",
      "8300\n",
      "At 2022/11/3 4:51:47\n",
      "8400\n",
      "At 2022/11/3 5:3:43\n",
      "8500\n",
      "At 2022/11/3 5:16:35\n",
      "8600\n",
      "At 2022/11/3 5:29:34\n",
      "8700\n",
      "At 2022/11/3 5:42:20\n",
      "Error occured on game 8764\n",
      "8800\n",
      "At 2022/11/3 5:55:8\n",
      "8900\n",
      "At 2022/11/3 6:7:15\n",
      "9000 games completed\n",
      "Saving now...\n",
      "Saved at 2022/11/3 6:27:55\n",
      "9100\n",
      "At 2022/11/3 6:40:4\n",
      "9200\n",
      "At 2022/11/3 6:52:23\n",
      "9300\n",
      "At 2022/11/3 7:4:29\n",
      "9400\n",
      "At 2022/11/3 7:17:49\n",
      "9500\n",
      "At 2022/11/3 7:29:47\n",
      "9600\n",
      "At 2022/11/3 7:41:43\n",
      "9700\n",
      "At 2022/11/3 7:54:55\n",
      "9800\n",
      "At 2022/11/3 8:7:32\n",
      "9900\n",
      "At 2022/11/3 8:20:23\n",
      "Keyboard Interrupt\n",
      "9907\n"
     ]
    }
   ],
   "source": [
    "# Continuing from game 6001, so the loop will be rerun starting from that number (i.e. starting from\n",
    "# the 6001st game - due to indexing at 0)\n",
    "\n",
    "# list_of_evaluations = [] # no need to empty the list\n",
    "game_count = 6000\n",
    "path='C:/Users/Emanuel/Desktop/data/capstone/preprocessed/evaluations/'\n",
    "for game in zip(df_for_titled_eval.iloc[6000:].moves):\n",
    "    try:\n",
    "        game_eval_ = evaluate_game(game[0])\n",
    "        list_of_evaluations.append(game_eval_)\n",
    "\n",
    "        game_count+=1\n",
    "\n",
    "        if game_count%1000==0:\n",
    "            print(f'{game_count} games completed\\nSaving now...')\n",
    "            joblib.dump(list_of_evaluations, \n",
    "                        f'{path}{game_count}_needs_joining.pkl',\n",
    "                       compress=3)\n",
    "            t=time.localtime()[0:6]\n",
    "            print(f'Saved at {t[0]}/{t[1]}/{t[2]} {t[3]}:{t[4]}:{t[5]}')\n",
    "        elif game_count%100==0:\n",
    "            print(f'{game_count}')\n",
    "            t=time.localtime()[0:6]\n",
    "            print(f'At {t[0]}/{t[1]}/{t[2]} {t[3]}:{t[4]}:{t[5]}')\n",
    "        else:\n",
    "            pass\n",
    "        \n",
    "    except KeyboardInterrupt:\n",
    "        print('Keyboard Interrupt')\n",
    "        print(f'{game_count}')\n",
    "        break\n",
    "        \n",
    "    except:\n",
    "        list_of_evaluations.append(['Error occured'])\n",
    "                \n",
    "        game_count+=1\n",
    "        \n",
    "        print(f'Error occured on game {game_count}')\n"
   ]
  },
  {
   "cell_type": "markdown",
   "id": "047ec274",
   "metadata": {},
   "source": [
    "Remember that this will need to be concatenated with the 6000_.pkl"
   ]
  },
  {
   "cell_type": "markdown",
   "id": "d6f84feb",
   "metadata": {},
   "source": [
    "-------"
   ]
  },
  {
   "cell_type": "markdown",
   "id": "5a95f442",
   "metadata": {},
   "source": [
    "##### Doing even more (after 9000_needs_joining)"
   ]
  },
  {
   "cell_type": "code",
   "execution_count": 34,
   "id": "b7abefaf",
   "metadata": {
    "ExecuteTime": {
     "end_time": "2022-11-03T23:06:06.294437Z",
     "start_time": "2022-11-03T23:06:06.287456Z"
    }
   },
   "outputs": [],
   "source": [
    "list_of_evaluations = []"
   ]
  },
  {
   "cell_type": "code",
   "execution_count": 35,
   "id": "0f972981",
   "metadata": {
    "ExecuteTime": {
     "end_time": "2022-11-03T23:06:06.823299Z",
     "start_time": "2022-11-03T23:06:06.810306Z"
    }
   },
   "outputs": [
    {
     "data": {
      "text/plain": [
       "0"
      ]
     },
     "execution_count": 35,
     "metadata": {},
     "output_type": "execute_result"
    }
   ],
   "source": [
    "len(list_of_evaluations)"
   ]
  },
  {
   "cell_type": "code",
   "execution_count": 36,
   "id": "4de116ec",
   "metadata": {
    "ExecuteTime": {
     "end_time": "2022-11-04T08:05:06.425711Z",
     "start_time": "2022-11-03T23:06:24.578586Z"
    },
    "scrolled": true
   },
   "outputs": [
    {
     "name": "stdout",
     "output_type": "stream",
     "text": [
      "9100\n",
      "At 2022/11/3 23:18:44\n",
      "9200\n",
      "At 2022/11/3 23:31:3\n",
      "9300\n",
      "At 2022/11/3 23:43:9\n",
      "9400\n",
      "At 2022/11/3 23:56:23\n",
      "9500\n",
      "At 2022/11/4 0:8:21\n",
      "9600\n",
      "At 2022/11/4 0:20:16\n",
      "9700\n",
      "At 2022/11/4 0:33:34\n",
      "9800\n",
      "At 2022/11/4 0:46:6\n",
      "9900\n",
      "At 2022/11/4 0:58:59\n",
      "10000 games completed\n",
      "Saving now...\n",
      "Saved at 2022/11/4 1:13:56\n",
      "10100\n",
      "At 2022/11/4 1:26:28\n",
      "10200\n",
      "At 2022/11/4 1:39:1\n",
      "10300\n",
      "At 2022/11/4 1:51:28\n",
      "10400\n",
      "At 2022/11/4 2:4:16\n",
      "10500\n",
      "At 2022/11/4 2:18:9\n",
      "10600\n",
      "At 2022/11/4 2:30:41\n",
      "10700\n",
      "At 2022/11/4 2:43:49\n",
      "10800\n",
      "At 2022/11/4 2:55:0\n",
      "10900\n",
      "At 2022/11/4 3:7:57\n",
      "11000 games completed\n",
      "Saving now...\n",
      "Saved at 2022/11/4 3:26:40\n",
      "11100\n",
      "At 2022/11/4 3:38:27\n",
      "11200\n",
      "At 2022/11/4 3:51:1\n",
      "11300\n",
      "At 2022/11/4 4:4:50\n",
      "11400\n",
      "At 2022/11/4 4:16:53\n",
      "11500\n",
      "At 2022/11/4 4:29:24\n",
      "11600\n",
      "At 2022/11/4 4:42:28\n",
      "11700\n",
      "At 2022/11/4 4:54:56\n",
      "11800\n",
      "At 2022/11/4 5:8:10\n",
      "11900\n",
      "At 2022/11/4 5:19:58\n",
      "12000 games completed\n",
      "Saving now...\n",
      "Saved at 2022/11/4 5:40:31\n",
      "12100\n",
      "At 2022/11/4 5:51:25\n",
      "12200\n",
      "At 2022/11/4 6:3:4\n",
      "12300\n",
      "At 2022/11/4 6:15:44\n",
      "12400\n",
      "At 2022/11/4 6:27:39\n",
      "12500\n",
      "At 2022/11/4 6:39:58\n",
      "12600\n",
      "At 2022/11/4 6:51:24\n",
      "12700\n",
      "At 2022/11/4 7:4:7\n",
      "12800\n",
      "At 2022/11/4 7:16:28\n",
      "12900\n",
      "At 2022/11/4 7:28:7\n",
      "13000 games completed\n",
      "Saving now...\n",
      "Saved at 2022/11/4 7:50:54\n",
      "13100\n",
      "At 2022/11/4 8:3:24\n",
      "Keyboard Interrupt\n",
      "13115\n"
     ]
    }
   ],
   "source": [
    "# Continuing from game 9001, so the loop will be rerun starting from that number (i.e. starting from\n",
    "# the 6001st game - due to indexing at 0)\n",
    "\n",
    "# list_of_evaluations = [] # no need to empty the list\n",
    "game_count = 9000\n",
    "path='C:/Users/Emanuel/Desktop/data/capstone/preprocessed/evaluations/'\n",
    "for game in zip(df_for_titled_eval.iloc[9000:].moves):\n",
    "    try:\n",
    "        game_eval_ = evaluate_game(game[0])\n",
    "        list_of_evaluations.append(game_eval_)\n",
    "\n",
    "        game_count+=1\n",
    "\n",
    "        if game_count%1000==0:\n",
    "            print(f'{game_count} games completed\\nSaving now...')\n",
    "            joblib.dump(list_of_evaluations, \n",
    "                        f'{path}{game_count}_needs_joining_on_9000_HvH.pkl',\n",
    "                       compress=3)\n",
    "            t=time.localtime()[0:6]\n",
    "            print(f'Saved at {t[0]}/{t[1]}/{t[2]} {t[3]}:{t[4]}:{t[5]}')\n",
    "        elif game_count%100==0:\n",
    "            print(f'{game_count}')\n",
    "            t=time.localtime()[0:6]\n",
    "            print(f'At {t[0]}/{t[1]}/{t[2]} {t[3]}:{t[4]}:{t[5]}')\n",
    "        else:\n",
    "            pass\n",
    "        \n",
    "    except KeyboardInterrupt:\n",
    "        print('Keyboard Interrupt')\n",
    "        print(f'{game_count}')\n",
    "        break\n",
    "        \n",
    "    except:\n",
    "        list_of_evaluations.append(['Error occured'])\n",
    "                \n",
    "        game_count+=1\n",
    "        \n",
    "        print(f'Error occured on game {game_count}')\n"
   ]
  },
  {
   "cell_type": "code",
   "execution_count": 37,
   "id": "6a1e7a26",
   "metadata": {
    "ExecuteTime": {
     "end_time": "2022-11-04T08:05:17.854680Z",
     "start_time": "2022-11-04T08:05:17.839720Z"
    }
   },
   "outputs": [
    {
     "data": {
      "text/plain": [
       "4115"
      ]
     },
     "execution_count": 37,
     "metadata": {},
     "output_type": "execute_result"
    }
   ],
   "source": [
    "len(list_of_evaluations)"
   ]
  },
  {
   "cell_type": "code",
   "execution_count": 39,
   "id": "dfc94968",
   "metadata": {
    "ExecuteTime": {
     "end_time": "2022-11-04T08:14:01.144059Z",
     "start_time": "2022-11-04T08:14:01.128130Z"
    }
   },
   "outputs": [],
   "source": [
    "# joblib.dump(list_of_evaluations, \n",
    "#             f'{path}{game_count}_needs_joining_on_9000_HvH.pkl',\n",
    "#            compress=9)"
   ]
  },
  {
   "cell_type": "code",
   "execution_count": 40,
   "id": "cfff0419",
   "metadata": {
    "ExecuteTime": {
     "end_time": "2022-11-04T08:26:24.590524Z",
     "start_time": "2022-11-04T08:14:20.729846Z"
    }
   },
   "outputs": [
    {
     "data": {
      "text/plain": [
       "['./data/preprocessed/evaluations/titled/13115_needs_joining_on_9000_HvH.pkl']"
      ]
     },
     "execution_count": 40,
     "metadata": {},
     "output_type": "execute_result"
    }
   ],
   "source": [
    "joblib.dump(list_of_evaluations, \n",
    "            f'./data/preprocessed/evaluations/titled/{game_count}_needs_joining_on_9000_HvH.pkl',\n",
    "           compress=9)"
   ]
  },
  {
   "cell_type": "markdown",
   "id": "93ee6c27",
   "metadata": {},
   "source": [
    "-------"
   ]
  },
  {
   "cell_type": "markdown",
   "id": "748bb938",
   "metadata": {
    "heading_collapsed": true
   },
   "source": [
    "##### CvH games"
   ]
  },
  {
   "cell_type": "code",
   "execution_count": null,
   "id": "12a6ba9d",
   "metadata": {
    "hidden": true
   },
   "outputs": [],
   "source": []
  },
  {
   "cell_type": "code",
   "execution_count": null,
   "id": "8cef4f98",
   "metadata": {
    "ExecuteTime": {
     "end_time": "2022-11-02T02:00:41.625644Z",
     "start_time": "2022-11-02T02:00:36.953782Z"
    },
    "hidden": true
   },
   "outputs": [],
   "source": [
    "# # df with event info to separate rated and unrated\n",
    "\n",
    "df_2022_2018_CvH_distinv = joblib.load(\n",
    "    './data/preprocessed/2022_2018_CvH_distinv_withevent.pkl')\n",
    "\n",
    "df_2022_2018_CvH_distinv = hp.drop_no_move_games(df_2022_2018_CvH_distinv)"
   ]
  },
  {
   "cell_type": "code",
   "execution_count": null,
   "id": "2bed4afb",
   "metadata": {
    "ExecuteTime": {
     "end_time": "2022-11-02T02:00:48.729974Z",
     "start_time": "2022-11-02T02:00:48.683081Z"
    },
    "hidden": true
   },
   "outputs": [],
   "source": [
    "hp.any_missing_emt(df_2022_2018_CvH_distinv)"
   ]
  },
  {
   "cell_type": "code",
   "execution_count": null,
   "id": "e17b46b1",
   "metadata": {
    "ExecuteTime": {
     "end_time": "2022-11-02T02:03:25.695346Z",
     "start_time": "2022-11-02T02:03:25.626382Z"
    },
    "hidden": true
   },
   "outputs": [],
   "source": [
    "df_for_CvH_eval=hp.keep_rated_games(df_2022_2018_CvH_distinv)\n",
    "\n",
    "df_for_CvH_eval=df_for_CvH_eval.reset_index(names='OldIndex')"
   ]
  },
  {
   "cell_type": "code",
   "execution_count": null,
   "id": "9ac44572",
   "metadata": {
    "ExecuteTime": {
     "end_time": "2022-11-02T02:05:34.239717Z",
     "start_time": "2022-11-02T02:05:34.208450Z"
    },
    "hidden": true
   },
   "outputs": [],
   "source": [
    "df_for_CvH_eval.head(2)"
   ]
  },
  {
   "cell_type": "code",
   "execution_count": null,
   "id": "b00a9d6f",
   "metadata": {
    "hidden": true
   },
   "outputs": [],
   "source": []
  },
  {
   "cell_type": "code",
   "execution_count": null,
   "id": "2426ed56",
   "metadata": {
    "ExecuteTime": {
     "end_time": "2022-11-02T22:11:35.336140Z",
     "start_time": "2022-11-02T02:07:00.211732Z"
    },
    "code_folding": [],
    "hidden": true,
    "scrolled": true
   },
   "outputs": [],
   "source": [
    "## Evaluating multiple games, starting at 0, with try-except\n",
    "\n",
    "df_=df_for_CvH_eval\n",
    "list_of_evaluations = []\n",
    "game_count = 0\n",
    "path='C:/Users/Emanuel/Desktop/data/capstone/preprocessed/evaluations/'\n",
    "for game in zip(df_.moves):\n",
    "    try:\n",
    "        game_eval_ = evaluate_game(game[0])\n",
    "        list_of_evaluations.append(game_eval_)\n",
    "\n",
    "        game_count+=1\n",
    "\n",
    "        if game_count%1000==0:\n",
    "            print(f'{game_count} games completed\\nSaving now...')\n",
    "            joblib.dump(list_of_evaluations, \n",
    "                        f'{path}{game_count}_.pkl',\n",
    "                       compress=3)\n",
    "            t=time.localtime()[0:6]\n",
    "            print(f'Saved at {t[0]}/{t[1]}/{t[2]} {t[3]}:{t[4]}:{t[5]}')\n",
    "        elif game_count%100==0:\n",
    "            print(f'{game_count}')\n",
    "            t=time.localtime()[0:6]\n",
    "            print(f'At {t[0]}/{t[1]}/{t[2]} {t[3]}:{t[4]}:{t[5]}')\n",
    "        else:\n",
    "            pass\n",
    "        \n",
    "    except KeyboardInterrupt:\n",
    "        print('Keyboard Interrupt')\n",
    "        print(f'{game_count}')\n",
    "        break\n",
    "        \n",
    "    except:\n",
    "        list_of_evaluations.append(['Error occured'])\n",
    "                \n",
    "        game_count+=1\n",
    "        \n",
    "        print(f'Error occured on game {game_count}')"
   ]
  },
  {
   "cell_type": "code",
   "execution_count": null,
   "id": "fccf029f",
   "metadata": {
    "ExecuteTime": {
     "end_time": "2022-11-02T22:11:48.320426Z",
     "start_time": "2022-11-02T22:11:48.285961Z"
    },
    "hidden": true
   },
   "outputs": [],
   "source": [
    "len(list_of_evaluations)"
   ]
  },
  {
   "cell_type": "code",
   "execution_count": null,
   "id": "ba3fec52",
   "metadata": {
    "ExecuteTime": {
     "end_time": "2022-11-02T22:12:51.971825Z",
     "start_time": "2022-11-02T22:12:51.965870Z"
    },
    "hidden": true
   },
   "outputs": [],
   "source": [
    "game_count # 1005"
   ]
  },
  {
   "cell_type": "code",
   "execution_count": null,
   "id": "3eba05bd",
   "metadata": {
    "ExecuteTime": {
     "end_time": "2022-11-02T23:39:40.179308Z",
     "start_time": "2022-11-02T23:39:40.163714Z"
    },
    "hidden": true
   },
   "outputs": [],
   "source": [
    "# joblib.dump(list_of_evaluations, \n",
    "#             f'{path}{game_count}_.pkl',\n",
    "#            compress=9)"
   ]
  },
  {
   "cell_type": "code",
   "execution_count": null,
   "id": "07803a51",
   "metadata": {
    "ExecuteTime": {
     "end_time": "2022-11-02T23:39:45.513731Z",
     "start_time": "2022-11-02T23:39:45.498108Z"
    },
    "hidden": true
   },
   "outputs": [],
   "source": [
    "# joblib.dump(df_for_CvH_eval,\n",
    "#            f'{path}/df_for_CvH_eval.pkl',\n",
    "#            compress=9)"
   ]
  },
  {
   "cell_type": "code",
   "execution_count": null,
   "id": "a093215c",
   "metadata": {
    "ExecuteTime": {
     "end_time": "2022-11-02T23:39:51.292095Z",
     "start_time": "2022-11-02T23:39:51.276442Z"
    },
    "hidden": true
   },
   "outputs": [],
   "source": [
    "# len(list_of_evaluations[-1]) # 62"
   ]
  },
  {
   "cell_type": "code",
   "execution_count": null,
   "id": "4d75edc8",
   "metadata": {
    "ExecuteTime": {
     "end_time": "2022-11-02T23:39:52.633180Z",
     "start_time": "2022-11-02T23:39:52.617526Z"
    },
    "hidden": true,
    "scrolled": true
   },
   "outputs": [],
   "source": [
    "# len(df_for_CvH_eval.iloc[10004].moves) # 62"
   ]
  },
  {
   "cell_type": "code",
   "execution_count": null,
   "id": "76b81bc5",
   "metadata": {
    "hidden": true
   },
   "outputs": [],
   "source": [
    "# double check that the evaluation for game 10005 looks correct, and then continue the evaluation loops"
   ]
  },
  {
   "cell_type": "markdown",
   "id": "015d5506",
   "metadata": {
    "hidden": true
   },
   "source": [
    "----"
   ]
  },
  {
   "cell_type": "markdown",
   "id": "40dedc5d",
   "metadata": {
    "heading_collapsed": true
   },
   "source": [
    "##### Doing more CvH games"
   ]
  },
  {
   "cell_type": "code",
   "execution_count": null,
   "id": "a5e98c00",
   "metadata": {
    "hidden": true
   },
   "outputs": [],
   "source": []
  },
  {
   "cell_type": "code",
   "execution_count": 21,
   "id": "308066d2",
   "metadata": {
    "ExecuteTime": {
     "end_time": "2022-11-03T08:24:45.017066Z",
     "start_time": "2022-11-03T08:24:41.230056Z"
    },
    "hidden": true
   },
   "outputs": [
    {
     "name": "stdout",
     "output_type": "stream",
     "text": [
      "Some games have no moves \n",
      "Dropping those games...\n"
     ]
    }
   ],
   "source": [
    "# # df with event info to separate rated and unrated\n",
    "\n",
    "df_2022_2018_CvH_distinv = joblib.load(\n",
    "    './data/preprocessed/2022_2018_CvH_distinv_withevent.pkl')\n",
    "\n",
    "df_2022_2018_CvH_distinv = hp.drop_no_move_games(df_2022_2018_CvH_distinv)"
   ]
  },
  {
   "cell_type": "code",
   "execution_count": 22,
   "id": "a8bc8483",
   "metadata": {
    "ExecuteTime": {
     "end_time": "2022-11-03T08:24:57.166440Z",
     "start_time": "2022-11-03T08:24:57.119576Z"
    },
    "hidden": true
   },
   "outputs": [
    {
     "name": "stdout",
     "output_type": "stream",
     "text": [
      "No games missing emt values\n"
     ]
    }
   ],
   "source": [
    "hp.any_missing_emt(df_2022_2018_CvH_distinv)"
   ]
  },
  {
   "cell_type": "code",
   "execution_count": 23,
   "id": "895b439a",
   "metadata": {
    "ExecuteTime": {
     "end_time": "2022-11-03T08:24:58.090259Z",
     "start_time": "2022-11-03T08:24:58.005588Z"
    },
    "hidden": true
   },
   "outputs": [],
   "source": [
    "df_for_CvH_eval=hp.keep_rated_games(df_2022_2018_CvH_distinv)\n",
    "\n",
    "df_for_CvH_eval=df_for_CvH_eval.reset_index(names='OldIndex')"
   ]
  },
  {
   "cell_type": "code",
   "execution_count": 24,
   "id": "bfcbc8f7",
   "metadata": {
    "ExecuteTime": {
     "end_time": "2022-11-03T08:24:59.641399Z",
     "start_time": "2022-11-03T08:24:59.610157Z"
    },
    "hidden": true
   },
   "outputs": [
    {
     "data": {
      "text/html": [
       "<div>\n",
       "<style scoped>\n",
       "    .dataframe tbody tr th:only-of-type {\n",
       "        vertical-align: middle;\n",
       "    }\n",
       "\n",
       "    .dataframe tbody tr th {\n",
       "        vertical-align: top;\n",
       "    }\n",
       "\n",
       "    .dataframe thead th {\n",
       "        text-align: right;\n",
       "    }\n",
       "</style>\n",
       "<table border=\"1\" class=\"dataframe\">\n",
       "  <thead>\n",
       "    <tr style=\"text-align: right;\">\n",
       "      <th></th>\n",
       "      <th>OldIndex</th>\n",
       "      <th>Event</th>\n",
       "      <th>Date</th>\n",
       "      <th>White</th>\n",
       "      <th>Black</th>\n",
       "      <th>Result</th>\n",
       "      <th>BlackElo</th>\n",
       "      <th>BlackIsComp</th>\n",
       "      <th>BlackRD</th>\n",
       "      <th>ECO</th>\n",
       "      <th>PlyCount</th>\n",
       "      <th>WhiteElo</th>\n",
       "      <th>WhiteRD</th>\n",
       "      <th>emt</th>\n",
       "      <th>moves</th>\n",
       "      <th>WhiteIsComp</th>\n",
       "      <th>NoComp</th>\n",
       "      <th>TimeControl_Base</th>\n",
       "      <th>TimeControl_Inc</th>\n",
       "    </tr>\n",
       "  </thead>\n",
       "  <tbody>\n",
       "    <tr>\n",
       "      <th>0</th>\n",
       "      <td>0</td>\n",
       "      <td>FICS rated blitz game</td>\n",
       "      <td>2022-01-31</td>\n",
       "      <td>Speyside</td>\n",
       "      <td>Geforce</td>\n",
       "      <td>1-0</td>\n",
       "      <td>1946</td>\n",
       "      <td>0</td>\n",
       "      <td>0.0</td>\n",
       "      <td>D30</td>\n",
       "      <td>53</td>\n",
       "      <td>2062</td>\n",
       "      <td>0.0</td>\n",
       "      <td>[[%emt 0.0], [%emt 0.0], [%emt 0.1], [%emt 0.6...</td>\n",
       "      <td>[d4, d5, c4, c6, Nf3, e6, Qc2, f5, Bf4, Nf6, c...</td>\n",
       "      <td>1</td>\n",
       "      <td>0</td>\n",
       "      <td>300</td>\n",
       "      <td>0</td>\n",
       "    </tr>\n",
       "    <tr>\n",
       "      <th>1</th>\n",
       "      <td>1</td>\n",
       "      <td>FICS rated blitz game</td>\n",
       "      <td>2022-01-31</td>\n",
       "      <td>Geforce</td>\n",
       "      <td>Speyside</td>\n",
       "      <td>0-1</td>\n",
       "      <td>2056</td>\n",
       "      <td>1</td>\n",
       "      <td>0.0</td>\n",
       "      <td>B50</td>\n",
       "      <td>50</td>\n",
       "      <td>1952</td>\n",
       "      <td>0.0</td>\n",
       "      <td>[[%emt 0.0], [%emt 0.0], [%emt 0.862], [%emt 0...</td>\n",
       "      <td>[e4, c5, Nf3, d6, c4, g6, Nc3, Bg7, d3, Nc6, B...</td>\n",
       "      <td>0</td>\n",
       "      <td>0</td>\n",
       "      <td>300</td>\n",
       "      <td>0</td>\n",
       "    </tr>\n",
       "  </tbody>\n",
       "</table>\n",
       "</div>"
      ],
      "text/plain": [
       "   OldIndex                  Event       Date     White     Black Result  \\\n",
       "0         0  FICS rated blitz game 2022-01-31  Speyside   Geforce    1-0   \n",
       "1         1  FICS rated blitz game 2022-01-31   Geforce  Speyside    0-1   \n",
       "\n",
       "   BlackElo  BlackIsComp  BlackRD  ECO  PlyCount  WhiteElo  WhiteRD  \\\n",
       "0      1946            0      0.0  D30        53      2062      0.0   \n",
       "1      2056            1      0.0  B50        50      1952      0.0   \n",
       "\n",
       "                                                 emt  \\\n",
       "0  [[%emt 0.0], [%emt 0.0], [%emt 0.1], [%emt 0.6...   \n",
       "1  [[%emt 0.0], [%emt 0.0], [%emt 0.862], [%emt 0...   \n",
       "\n",
       "                                               moves  WhiteIsComp  NoComp  \\\n",
       "0  [d4, d5, c4, c6, Nf3, e6, Qc2, f5, Bf4, Nf6, c...            1       0   \n",
       "1  [e4, c5, Nf3, d6, c4, g6, Nc3, Bg7, d3, Nc6, B...            0       0   \n",
       "\n",
       "   TimeControl_Base  TimeControl_Inc  \n",
       "0               300                0  \n",
       "1               300                0  "
      ]
     },
     "execution_count": 24,
     "metadata": {},
     "output_type": "execute_result"
    }
   ],
   "source": [
    "df_for_CvH_eval.head(2)"
   ]
  },
  {
   "cell_type": "code",
   "execution_count": 30,
   "id": "51ecffb2",
   "metadata": {
    "ExecuteTime": {
     "end_time": "2022-11-03T21:07:43.475891Z",
     "start_time": "2022-11-03T08:30:33.675994Z"
    },
    "code_folding": [],
    "hidden": true,
    "scrolled": true
   },
   "outputs": [
    {
     "name": "stdout",
     "output_type": "stream",
     "text": [
      "10100\n",
      "At 2022/11/3 8:40:53\n",
      "10200\n",
      "At 2022/11/3 8:51:29\n",
      "10300\n",
      "At 2022/11/3 9:2:36\n",
      "10400\n",
      "At 2022/11/3 9:13:34\n",
      "10500\n",
      "At 2022/11/3 9:26:5\n",
      "10600\n",
      "At 2022/11/3 9:37:2\n",
      "10700\n",
      "At 2022/11/3 9:48:43\n",
      "10800\n",
      "At 2022/11/3 10:1:0\n",
      "10900\n",
      "At 2022/11/3 10:12:59\n",
      "11000 games completed\n",
      "Saving now...\n",
      "Saved at 2022/11/3 10:27:56\n",
      "11100\n",
      "At 2022/11/3 10:38:28\n",
      "11200\n",
      "At 2022/11/3 10:49:0\n",
      "11300\n",
      "At 2022/11/3 11:2:17\n",
      "11400\n",
      "At 2022/11/3 11:14:44\n",
      "11500\n",
      "At 2022/11/3 11:27:18\n",
      "11600\n",
      "At 2022/11/3 11:38:10\n",
      "11700\n",
      "At 2022/11/3 11:49:13\n",
      "11800\n",
      "At 2022/11/3 12:0:47\n",
      "11900\n",
      "At 2022/11/3 12:13:34\n",
      "12000 games completed\n",
      "Saving now...\n",
      "Saved at 2022/11/3 12:29:48\n",
      "12100\n",
      "At 2022/11/3 12:39:24\n",
      "12200\n",
      "At 2022/11/3 12:50:36\n",
      "12300\n",
      "At 2022/11/3 13:2:3\n",
      "12400\n",
      "At 2022/11/3 13:14:11\n",
      "12500\n",
      "At 2022/11/3 13:25:51\n",
      "12600\n",
      "At 2022/11/3 13:36:18\n",
      "12700\n",
      "At 2022/11/3 13:46:3\n",
      "12800\n",
      "At 2022/11/3 13:55:38\n",
      "12900\n",
      "At 2022/11/3 14:4:45\n",
      "13000 games completed\n",
      "Saving now...\n",
      "Saved at 2022/11/3 14:22:5\n",
      "13100\n",
      "At 2022/11/3 14:32:22\n",
      "13200\n",
      "At 2022/11/3 14:43:25\n",
      "13300\n",
      "At 2022/11/3 14:53:45\n",
      "13400\n",
      "At 2022/11/3 15:3:21\n",
      "13500\n",
      "At 2022/11/3 15:14:32\n",
      "13600\n",
      "At 2022/11/3 15:25:30\n",
      "13700\n",
      "At 2022/11/3 15:36:57\n",
      "13800\n",
      "At 2022/11/3 15:47:19\n",
      "13900\n",
      "At 2022/11/3 15:57:58\n",
      "14000 games completed\n",
      "Saving now...\n",
      "Saved at 2022/11/3 16:18:57\n",
      "14100\n",
      "At 2022/11/3 16:28:42\n",
      "14200\n",
      "At 2022/11/3 16:39:11\n",
      "14300\n",
      "At 2022/11/3 16:48:58\n",
      "14400\n",
      "At 2022/11/3 16:59:22\n",
      "14500\n",
      "At 2022/11/3 17:9:49\n",
      "14600\n",
      "At 2022/11/3 17:20:46\n",
      "14700\n",
      "At 2022/11/3 17:31:19\n",
      "14800\n",
      "At 2022/11/3 17:41:29\n",
      "Error occured on game 14857\n",
      "14900\n",
      "At 2022/11/3 17:51:55\n",
      "15000 games completed\n",
      "Saving now...\n",
      "Saved at 2022/11/3 18:14:46\n",
      "15100\n",
      "At 2022/11/3 18:25:39\n",
      "15200\n",
      "At 2022/11/3 18:36:30\n",
      "15300\n",
      "At 2022/11/3 18:47:10\n",
      "15400\n",
      "At 2022/11/3 18:58:23\n",
      "15500\n",
      "At 2022/11/3 19:8:14\n",
      "15600\n",
      "At 2022/11/3 19:19:17\n",
      "15700\n",
      "At 2022/11/3 19:29:20\n",
      "15800\n",
      "At 2022/11/3 19:41:20\n",
      "Error occured on game 15870\n",
      "15900\n",
      "At 2022/11/3 19:51:46\n",
      "16000 games completed\n",
      "Saving now...\n",
      "Saved at 2022/11/3 20:15:34\n",
      "16100\n",
      "At 2022/11/3 20:24:52\n",
      "16200\n",
      "At 2022/11/3 20:35:8\n",
      "16300\n",
      "At 2022/11/3 20:45:9\n",
      "16400\n",
      "At 2022/11/3 20:55:57\n",
      "Error occured on game 16497\n",
      "16500\n",
      "At 2022/11/3 21:6:31\n",
      "Keyboard Interrupt\n",
      "16508\n"
     ]
    }
   ],
   "source": [
    "## Evaluating multiple games, continuing from 10000, with try-except\n",
    "\n",
    "df_=df_for_CvH_eval.iloc[10000:]\n",
    "list_of_evaluations = []\n",
    "game_count = 10000\n",
    "path='C:/Users/Emanuel/Desktop/data/capstone/preprocessed/evaluations/'\n",
    "for game in zip(df_.moves):\n",
    "    try:\n",
    "        game_eval_ = evaluate_game(game[0])\n",
    "        list_of_evaluations.append(game_eval_)\n",
    "\n",
    "        game_count+=1\n",
    "\n",
    "        if game_count%1000==0:\n",
    "            print(f'{game_count} games completed\\nSaving now...')\n",
    "            joblib.dump(list_of_evaluations, \n",
    "                        f'{path}{game_count}_needs_joining_CvH.pkl',\n",
    "                       compress=3)\n",
    "            t=time.localtime()[0:6]\n",
    "            print(f'Saved at {t[0]}/{t[1]}/{t[2]} {t[3]}:{t[4]}:{t[5]}')\n",
    "        elif game_count%100==0:\n",
    "            print(f'{game_count}')\n",
    "            t=time.localtime()[0:6]\n",
    "            print(f'At {t[0]}/{t[1]}/{t[2]} {t[3]}:{t[4]}:{t[5]}')\n",
    "            pass\n",
    "        \n",
    "    except KeyboardInterrupt:\n",
    "        print('Keyboard Interrupt')\n",
    "        print(f'{game_count}')\n",
    "        break\n",
    "        \n",
    "    except:\n",
    "        list_of_evaluations.append(['Error occured'])\n",
    "                \n",
    "        game_count+=1\n",
    "        \n",
    "        print(f'Error occured on game {game_count}')"
   ]
  },
  {
   "cell_type": "code",
   "execution_count": 26,
   "id": "6c04777b",
   "metadata": {
    "ExecuteTime": {
     "end_time": "2022-11-03T08:29:19.223835Z",
     "start_time": "2022-11-03T08:29:19.208238Z"
    },
    "collapsed": true,
    "hidden": true
   },
   "outputs": [
    {
     "data": {
      "text/plain": [
       "[['Error occured'],\n",
       " ['Error occured'],\n",
       " ['Error occured'],\n",
       " ['Error occured'],\n",
       " ['Error occured'],\n",
       " ['Error occured'],\n",
       " ['Error occured'],\n",
       " ['Error occured'],\n",
       " ['Error occured'],\n",
       " ['Error occured'],\n",
       " ['Error occured'],\n",
       " ['Error occured'],\n",
       " ['Error occured'],\n",
       " ['Error occured'],\n",
       " ['Error occured'],\n",
       " ['Error occured'],\n",
       " ['Error occured'],\n",
       " ['Error occured'],\n",
       " ['Error occured'],\n",
       " ['Error occured'],\n",
       " ['Error occured'],\n",
       " ['Error occured'],\n",
       " ['Error occured'],\n",
       " ['Error occured'],\n",
       " ['Error occured'],\n",
       " ['Error occured'],\n",
       " ['Error occured'],\n",
       " ['Error occured'],\n",
       " ['Error occured'],\n",
       " ['Error occured'],\n",
       " ['Error occured'],\n",
       " ['Error occured'],\n",
       " ['Error occured'],\n",
       " ['Error occured'],\n",
       " ['Error occured'],\n",
       " ['Error occured'],\n",
       " ['Error occured'],\n",
       " ['Error occured'],\n",
       " ['Error occured'],\n",
       " ['Error occured'],\n",
       " ['Error occured'],\n",
       " ['Error occured'],\n",
       " ['Error occured'],\n",
       " ['Error occured'],\n",
       " ['Error occured'],\n",
       " ['Error occured'],\n",
       " ['Error occured'],\n",
       " ['Error occured'],\n",
       " ['Error occured'],\n",
       " ['Error occured'],\n",
       " ['Error occured'],\n",
       " ['Error occured'],\n",
       " ['Error occured'],\n",
       " ['Error occured'],\n",
       " ['Error occured'],\n",
       " ['Error occured'],\n",
       " ['Error occured'],\n",
       " ['Error occured'],\n",
       " ['Error occured'],\n",
       " ['Error occured'],\n",
       " ['Error occured'],\n",
       " ['Error occured'],\n",
       " ['Error occured'],\n",
       " ['Error occured'],\n",
       " ['Error occured'],\n",
       " ['Error occured']]"
      ]
     },
     "execution_count": 26,
     "metadata": {},
     "output_type": "execute_result"
    }
   ],
   "source": [
    "list_of_evaluations;"
   ]
  },
  {
   "cell_type": "markdown",
   "id": "6b34a8ec",
   "metadata": {
    "hidden": true
   },
   "source": [
    "Interrupted at 16508"
   ]
  },
  {
   "cell_type": "code",
   "execution_count": 31,
   "id": "b9065617",
   "metadata": {
    "ExecuteTime": {
     "end_time": "2022-11-03T21:07:54.311490Z",
     "start_time": "2022-11-03T21:07:54.292682Z"
    },
    "hidden": true
   },
   "outputs": [
    {
     "data": {
      "text/plain": [
       "6508"
      ]
     },
     "execution_count": 31,
     "metadata": {},
     "output_type": "execute_result"
    }
   ],
   "source": [
    "len(list_of_evaluations) # 6508"
   ]
  },
  {
   "cell_type": "code",
   "execution_count": 32,
   "id": "3be3967c",
   "metadata": {
    "ExecuteTime": {
     "end_time": "2022-11-03T21:27:39.609006Z",
     "start_time": "2022-11-03T21:10:26.583190Z"
    },
    "hidden": true
   },
   "outputs": [
    {
     "data": {
      "text/plain": [
       "['C:/Users/Emanuel/Desktop/data/capstone/preprocessed/evaluations/16508_needs_joining_CvH.pkl']"
      ]
     },
     "execution_count": 32,
     "metadata": {},
     "output_type": "execute_result"
    }
   ],
   "source": [
    "joblib.dump(list_of_evaluations, \n",
    "            f'{path}{game_count}_needs_joining_CvH.pkl',\n",
    "           compress=9)"
   ]
  },
  {
   "cell_type": "markdown",
   "id": "a6c87a83",
   "metadata": {
    "hidden": true
   },
   "source": [
    "----"
   ]
  },
  {
   "cell_type": "markdown",
   "id": "f683adf6",
   "metadata": {},
   "source": [
    "### Remove elos, retrain models"
   ]
  },
  {
   "cell_type": "code",
   "execution_count": null,
   "id": "3d438c3f",
   "metadata": {},
   "outputs": [],
   "source": []
  },
  {
   "cell_type": "code",
   "execution_count": null,
   "id": "e84d5a20",
   "metadata": {},
   "outputs": [],
   "source": []
  },
  {
   "cell_type": "markdown",
   "id": "fa105450",
   "metadata": {},
   "source": [
    "-------"
   ]
  },
  {
   "cell_type": "markdown",
   "id": "0370f5f3",
   "metadata": {},
   "source": [
    "## Functions to write:"
   ]
  },
  {
   "cell_type": "code",
   "execution_count": null,
   "id": "7f90cb5c",
   "metadata": {
    "ExecuteTime": {
     "end_time": "2022-10-20T21:37:07.070307Z",
     "start_time": "2022-10-20T21:37:07.056345Z"
    }
   },
   "outputs": [],
   "source": [
    "# Write function that compares ply count to "
   ]
  },
  {
   "cell_type": "code",
   "execution_count": null,
   "id": "1b3330e4",
   "metadata": {},
   "outputs": [],
   "source": []
  },
  {
   "cell_type": "code",
   "execution_count": null,
   "id": "c2271f5a",
   "metadata": {},
   "outputs": [],
   "source": []
  },
  {
   "cell_type": "code",
   "execution_count": null,
   "id": "5e12516a",
   "metadata": {
    "ExecuteTime": {
     "end_time": "2022-10-20T21:37:07.086265Z",
     "start_time": "2022-10-20T21:37:07.071305Z"
    }
   },
   "outputs": [],
   "source": [
    "# Write function to check that the length of emt matches ply"
   ]
  },
  {
   "cell_type": "code",
   "execution_count": null,
   "id": "d5693c9f",
   "metadata": {},
   "outputs": [],
   "source": []
  },
  {
   "cell_type": "code",
   "execution_count": null,
   "id": "e769c509",
   "metadata": {},
   "outputs": [],
   "source": []
  },
  {
   "cell_type": "code",
   "execution_count": null,
   "id": "7a1ddd29",
   "metadata": {
    "ExecuteTime": {
     "end_time": "2022-10-20T21:37:07.102222Z",
     "start_time": "2022-10-20T21:37:07.087262Z"
    }
   },
   "outputs": [],
   "source": [
    "# Write function that checks all the emt have 'emt' in them and not 'clk'"
   ]
  },
  {
   "cell_type": "code",
   "execution_count": null,
   "id": "18e0303f",
   "metadata": {},
   "outputs": [],
   "source": []
  },
  {
   "cell_type": "code",
   "execution_count": null,
   "id": "a916266a",
   "metadata": {},
   "outputs": [],
   "source": []
  },
  {
   "cell_type": "code",
   "execution_count": null,
   "id": "b4783d79",
   "metadata": {
    "ExecuteTime": {
     "end_time": "2022-10-20T21:37:07.118180Z",
     "start_time": "2022-10-20T21:37:07.103220Z"
    }
   },
   "outputs": [],
   "source": [
    "# Write function to check that none of the emt values are missing"
   ]
  },
  {
   "cell_type": "code",
   "execution_count": null,
   "id": "d9abd753",
   "metadata": {},
   "outputs": [],
   "source": []
  },
  {
   "cell_type": "code",
   "execution_count": null,
   "id": "f265cb09",
   "metadata": {},
   "outputs": [],
   "source": []
  },
  {
   "cell_type": "code",
   "execution_count": null,
   "id": "973c2493",
   "metadata": {},
   "outputs": [],
   "source": []
  },
  {
   "cell_type": "markdown",
   "id": "553c4e3c",
   "metadata": {},
   "source": [
    "-----"
   ]
  },
  {
   "cell_type": "markdown",
   "id": "557e3f74",
   "metadata": {},
   "source": [
    "## Modeling"
   ]
  },
  {
   "cell_type": "code",
   "execution_count": null,
   "id": "e7c63e56",
   "metadata": {},
   "outputs": [],
   "source": []
  },
  {
   "cell_type": "markdown",
   "id": "7b82fd8c",
   "metadata": {},
   "source": [
    "------"
   ]
  },
  {
   "cell_type": "markdown",
   "id": "7362299b",
   "metadata": {},
   "source": [
    "- For now, as I don't have engine evaluations, how do I go about making a classification when it isn't immediately binary i.e. 3 options: white cheating, black cheating, no cheating. \n",
    "\n",
    "- Do all the games start from the starting position?\n",
    "- Does the game being an otb or online game influence how likely a win/draw is? \n",
    "- Is there any noticeable difference in patterns across different elo categories?\n",
    "- What is the distribution of elo? Across humans and computers? How do I take into account the same player and that their elo is changing over time? Do I treat each as independent? \n",
    "- What is the distribution of game length? Does it vary by elo? (Probably yes ?)\n",
    "- What is the distribution of computer-ELO? Are there bots that are low elo? Could this be because people are able to 'set' the strength of the computer opponent? If so this could mess up predictions, think about whether or not they should be removed, maybe they can be kept as 'test-cases' of how well we can predict 'cheaters' who cheat at low-elo.\n",
    "- Does the dataset tell me hwo the game ended? (I.e. resignation, checkmate, running out of time etc.)"
   ]
  },
  {
   "cell_type": "markdown",
   "id": "0ec18c78",
   "metadata": {
    "heading_collapsed": true
   },
   "source": [
    "# Considerations:"
   ]
  },
  {
   "cell_type": "markdown",
   "id": "91035b30",
   "metadata": {
    "hidden": true
   },
   "source": [
    "Using ELO difference/metric as a feature in predicting expected outcome of game.\n",
    "- Using opening played as a feature in predicting if cheater or not.\n",
    "- Use an engine to evaluate sequences of chess moves played in a game to learn average centipawn loss/gain, the centipawn loss/gain for each move, the number of innacuracies, mistakes, blunders. \n",
    "- How many opening moves to eliminate?\n",
    "\n",
    "\n",
    "\n",
    "- Lichess games offer "
   ]
  },
  {
   "cell_type": "code",
   "execution_count": null,
   "id": "7d52d6e8",
   "metadata": {
    "hidden": true
   },
   "outputs": [],
   "source": []
  },
  {
   "cell_type": "markdown",
   "id": "f7c98a32",
   "metadata": {
    "heading_collapsed": true
   },
   "source": [
    "# Notes from Data Skeptic:"
   ]
  },
  {
   "cell_type": "markdown",
   "id": "b385bcfb",
   "metadata": {
    "hidden": true
   },
   "source": [
    "- Humans tend to make little blunders all the time \"oh I didn't notice this idea, luckily my position still holds\".\n",
    "- Computers tend to keep their options open, X was able to demonstrate that humans, if they see an attack, will try to play it and force an early crisis in the game.\n",
    "- In aggregates of 100-200 moves, X believes you can then determine with confidence if someone was cheating.\n",
    "- \"Distance metric (of two probabilities?)\" : \"You can't just say deterministically what is the computer's move. It depends on many variables such as the depth of search, [pv or multi-pv], the identity of the computer program, even how much hash memory you've given it. There's a variation there (i.e. a probability distribution). The human being is a distribution, often fallable distribution, of options.\"\n",
    "- Originally going to use 'fidelity' which is a distance measure between distributions, which often comes up in computational physics. A former student recommended the 'Yensen-Shannon divergence (?)' which would solve a problem of 'Koblak-Leibler (?)' divergence of being too hair trigger in the treatment of blunders but it lacked other properties which X needed. \n",
    "- Wound up doing something 'highly elementary': maps given analysis of positions in a game, and parameters denoting the strength and particulars of the human player, he maps each chess move to probabilities, as if he were painting that move on the faces of many sided dice. And then he treats the chess position as a roll of those dice, so for this player, there's a 49% chance of selecting Ng5, 27% for Qg4, and so on down the line. After that, he can tap into the very simple stats theory of Bernoulli distributions (rolls of dice, flips of coins), and not only project the expected mean number of agreements, but also the projected variance, from the Bernoulli distribution theory, and thereby project confidence intervals, and since he's estimating a sample mean, the CLT comes into play, so he's working with a normal distribution and can use a z-score framework for his statistical projections. \n",
    "- If there is a clear stand-out move (e.g. only one move that keeps you alive in the position) then not only will the computer find it, it is highly likely that the good human player will find it. Whereas, even if you have just 10 moves in a game, where each move there were 4 highly reasonable options, which X's model would assign probabilities say between 20-25% each, and you consistently select the option that shows as preferred in X's computer test (...something about Modulo and distribution), if you match the computer's preferred move for 10 or more moves in a row, that a mllion to one probability.\n",
    "- Two modes of chess analysis with comp: multi-pv mode where comp has equal depth of search to all reasonable options in a position, single-pv is regular playing mode where computer focuses its resources on the move it thinks best and one or two competing moves. A lot of the art of practical computers playig against each others is how quickly can they prune away the sub-optimal moves. For his model, he needs to know the values of all the reasonalbe moves that the player might be considering, and the general landscape or shape of the position (either forcing or lots of options etc.).\n",
    "- For the training set, he has 10,000 games of multi-pv data, he took those games wehre each player is at one of the century points in the chess rating; for each of the levels above 2000 (Expert) he exhaustively chose games where both players were within 10 or so of those century points, run those games and he has his training data for yay-rated players. He is then therefor able to relate his two main model parameters to strength on that elo scale. Supplementing this he has a vast amount of single-pv (basically every top rated game in the recorded history of chess - over 200,000 games total). \n",
    "- He also routinely screens about 80,000 games out of the world's top events every year (codified as screening mode - he can get a first look at the play and relate it to the distributions of tens of thousands of performances of players at all ranks to see how much of an apparent outlier it is. \n",
    "- About a surprise winner: when he ran the screening test the player was on the edge of the red zone, but when he ran the full test based on the training data (multi-pv mode) it gave a z-score under 1.5 (the minimum was 2 for any kind of statistical significance) meaning it was unlikely that the player was cheaitng (his GM opponent was over-eager in trying to win and ended up losing). \n",
    "- He talks a little about how the arbiters, given their chess domain knowledge, likely made the right decision as they would have been able to see the situation on the ground (i.e. seen the critical positions, how the GM was winning, then made a mistake etc.). \n",
    "- Up until about 2+ years ago, the highest z-score he got in cases he was involved in was about 3.5, which corresponds to 4,300-to-1 odds against a Null hypothesis. Although very important, what it really means is that's the incidence of such a deviation occuring naturally among non-cheating players. Every week there are more than 1000 players taking part in tournaments around the globe, significant enough tto be aggregated on 'the week in chess'/'the weekend chess' by Mike 'Crowder'(?). You have to be aware of how your sample was selected or if there were any other factors which brought it to your attention apart from people going over the games with computers and noting a high correspondence. He believes that there has to be independent evidence. \n",
    "- [Section talking about comparing the quality of moves in a player's games in a tournament where there were known to be transmissions and expected-transmissionless games and how the differnce in quality of moves was about 3200 compared to 2550, so this was another indicator that the player was cheating.]\n",
    "- Up until Jan 2013 he did not get any z-scores above 3.5, but then suddenly z-scores above 5 (even closer to 6) ..."
   ]
  },
  {
   "cell_type": "markdown",
   "id": "18961b17",
   "metadata": {},
   "source": [
    "# Appendix:"
   ]
  },
  {
   "cell_type": "markdown",
   "id": "07e00688",
   "metadata": {
    "heading_collapsed": true
   },
   "source": [
    "## Figuring out how to get emt:"
   ]
  },
  {
   "cell_type": "code",
   "execution_count": null,
   "id": "848023ef",
   "metadata": {
    "ExecuteTime": {
     "end_time": "2022-10-20T21:37:07.559883Z",
     "start_time": "2022-10-20T21:37:07.559883Z"
    },
    "hidden": true
   },
   "outputs": [],
   "source": [
    "pgn = open(\"data/raw_data/2022/ficsgamesdb_search_262781.pgn\")\n",
    "game = chess.pgn.read_game(pgn)"
   ]
  },
  {
   "cell_type": "code",
   "execution_count": null,
   "id": "916cecda",
   "metadata": {
    "ExecuteTime": {
     "end_time": "2022-10-20T21:37:07.560880Z",
     "start_time": "2022-10-20T21:37:07.560880Z"
    },
    "hidden": true
   },
   "outputs": [],
   "source": [
    "print(game)"
   ]
  },
  {
   "cell_type": "markdown",
   "id": "cec207a2",
   "metadata": {
    "hidden": true
   },
   "source": [
    "%emt refers to the time used on a move. %clk refers to actual clock time. "
   ]
  },
  {
   "cell_type": "markdown",
   "id": "732adc15",
   "metadata": {
    "hidden": true
   },
   "source": [
    "From the pgn we can see time spent per move. "
   ]
  },
  {
   "cell_type": "code",
   "execution_count": null,
   "id": "a2929055",
   "metadata": {
    "ExecuteTime": {
     "end_time": "2022-10-20T21:37:07.561877Z",
     "start_time": "2022-10-20T21:37:07.561877Z"
    },
    "hidden": true
   },
   "outputs": [],
   "source": [
    "type(game)"
   ]
  },
  {
   "cell_type": "code",
   "execution_count": null,
   "id": "a6d5c4ef",
   "metadata": {
    "ExecuteTime": {
     "end_time": "2022-10-20T21:37:07.563871Z",
     "start_time": "2022-10-20T21:37:07.563871Z"
    },
    "hidden": true
   },
   "outputs": [],
   "source": [
    "game.mainline()"
   ]
  },
  {
   "cell_type": "code",
   "execution_count": null,
   "id": "c6edeaa9",
   "metadata": {
    "ExecuteTime": {
     "end_time": "2022-10-20T21:37:07.564868Z",
     "start_time": "2022-10-20T21:37:07.564868Z"
    },
    "hidden": true
   },
   "outputs": [],
   "source": [
    "game.board().san(game.variation(0).move)"
   ]
  },
  {
   "cell_type": "code",
   "execution_count": null,
   "id": "dd3985dd",
   "metadata": {
    "ExecuteTime": {
     "end_time": "2022-10-20T21:37:07.565865Z",
     "start_time": "2022-10-20T21:37:07.565865Z"
    },
    "hidden": true
   },
   "outputs": [],
   "source": [
    "game.headers"
   ]
  },
  {
   "cell_type": "code",
   "execution_count": null,
   "id": "6bcdf858",
   "metadata": {
    "ExecuteTime": {
     "end_time": "2022-10-20T21:37:07.566891Z",
     "start_time": "2022-10-20T21:37:07.566891Z"
    },
    "hidden": true
   },
   "outputs": [],
   "source": [
    "game.mainline()"
   ]
  },
  {
   "cell_type": "code",
   "execution_count": null,
   "id": "967a106f",
   "metadata": {
    "ExecuteTime": {
     "end_time": "2022-10-20T21:37:07.567860Z",
     "start_time": "2022-10-20T21:37:07.567860Z"
    },
    "hidden": true
   },
   "outputs": [],
   "source": [
    "for node in game.mainline():\n",
    "    print(node.move, node.emt(), node.clock())\n",
    "    print(node.comment)"
   ]
  },
  {
   "cell_type": "code",
   "execution_count": null,
   "id": "07074a9c",
   "metadata": {
    "ExecuteTime": {
     "end_time": "2022-10-20T21:37:07.568858Z",
     "start_time": "2022-10-20T21:37:07.568858Z"
    },
    "hidden": true
   },
   "outputs": [],
   "source": [
    "help(game)"
   ]
  },
  {
   "cell_type": "code",
   "execution_count": null,
   "id": "4c8d9795",
   "metadata": {
    "ExecuteTime": {
     "end_time": "2022-10-20T21:37:07.569856Z",
     "start_time": "2022-10-20T21:37:07.569856Z"
    },
    "hidden": true
   },
   "outputs": [],
   "source": [
    "# seems like the emt is in the game.comment"
   ]
  },
  {
   "cell_type": "code",
   "execution_count": null,
   "id": "2d9c1ca7",
   "metadata": {
    "ExecuteTime": {
     "end_time": "2022-10-20T21:37:07.570853Z",
     "start_time": "2022-10-20T21:37:07.570853Z"
    },
    "hidden": true
   },
   "outputs": [],
   "source": [
    "game.variation(0).comment"
   ]
  },
  {
   "cell_type": "code",
   "execution_count": null,
   "id": "301640d8",
   "metadata": {
    "ExecuteTime": {
     "end_time": "2022-10-20T21:37:07.571850Z",
     "start_time": "2022-10-20T21:37:07.571850Z"
    },
    "hidden": true
   },
   "outputs": [],
   "source": [
    "teste_ = pd.read_json(\"data/raw_data/json/2017/ficsgamesdb_search_262781.json\")"
   ]
  },
  {
   "cell_type": "code",
   "execution_count": null,
   "id": "4fd88510",
   "metadata": {
    "ExecuteTime": {
     "end_time": "2022-10-20T21:37:07.572848Z",
     "start_time": "2022-10-20T21:37:07.572848Z"
    },
    "hidden": true
   },
   "outputs": [],
   "source": [
    "teste_.moves"
   ]
  },
  {
   "cell_type": "code",
   "execution_count": null,
   "id": "68f89a94",
   "metadata": {
    "ExecuteTime": {
     "end_time": "2022-10-20T21:37:07.573845Z",
     "start_time": "2022-10-20T21:37:07.573845Z"
    },
    "hidden": true
   },
   "outputs": [],
   "source": [
    "teste_.loc[0];"
   ]
  },
  {
   "cell_type": "code",
   "execution_count": null,
   "id": "929cfe56",
   "metadata": {
    "ExecuteTime": {
     "end_time": "2022-10-20T21:37:07.574842Z",
     "start_time": "2022-10-20T21:37:07.574842Z"
    },
    "hidden": true
   },
   "outputs": [],
   "source": [
    "teste_.columns"
   ]
  },
  {
   "cell_type": "markdown",
   "id": "45305cac",
   "metadata": {
    "heading_collapsed": true
   },
   "source": [
    "## Making df column and dtype helper:"
   ]
  },
  {
   "cell_type": "code",
   "execution_count": null,
   "id": "17b5225a",
   "metadata": {
    "ExecuteTime": {
     "end_time": "2022-10-20T21:37:07.575839Z",
     "start_time": "2022-10-20T21:37:07.575839Z"
    },
    "hidden": true
   },
   "outputs": [],
   "source": [
    "df.columns"
   ]
  },
  {
   "cell_type": "code",
   "execution_count": null,
   "id": "7383b6a5",
   "metadata": {
    "ExecuteTime": {
     "end_time": "2022-10-20T21:37:07.576837Z",
     "start_time": "2022-10-20T21:37:07.576837Z"
    },
    "hidden": true
   },
   "outputs": [],
   "source": [
    "columns = list(df.columns)\n",
    "columns"
   ]
  },
  {
   "cell_type": "code",
   "execution_count": null,
   "id": "30e8746e",
   "metadata": {
    "ExecuteTime": {
     "end_time": "2022-10-20T21:37:07.577834Z",
     "start_time": "2022-10-20T21:37:07.577834Z"
    },
    "hidden": true
   },
   "outputs": [],
   "source": [
    "list(df.dtypes);"
   ]
  },
  {
   "cell_type": "code",
   "execution_count": null,
   "id": "6fad7544",
   "metadata": {
    "ExecuteTime": {
     "end_time": "2022-10-20T21:37:07.578831Z",
     "start_time": "2022-10-20T21:37:07.578831Z"
    },
    "hidden": true,
    "scrolled": false
   },
   "outputs": [],
   "source": [
    "df.dtypes.reset_index().head()"
   ]
  },
  {
   "cell_type": "code",
   "execution_count": null,
   "id": "b72eb594",
   "metadata": {
    "ExecuteTime": {
     "end_time": "2022-10-20T21:37:07.579829Z",
     "start_time": "2022-10-20T21:37:07.579829Z"
    },
    "hidden": true
   },
   "outputs": [],
   "source": [
    "df.dtypes.reset_index().loc[:,0]"
   ]
  },
  {
   "cell_type": "code",
   "execution_count": null,
   "id": "e621b415",
   "metadata": {
    "ExecuteTime": {
     "end_time": "2022-10-20T21:37:07.580826Z",
     "start_time": "2022-10-20T21:37:07.580826Z"
    },
    "hidden": true
   },
   "outputs": [],
   "source": [
    "df.WhiteElo.dtype == np.int64"
   ]
  },
  {
   "cell_type": "code",
   "execution_count": null,
   "id": "94ab2731",
   "metadata": {
    "ExecuteTime": {
     "end_time": "2022-10-20T21:37:07.581824Z",
     "start_time": "2022-10-20T21:37:07.581824Z"
    },
    "hidden": true
   },
   "outputs": [],
   "source": [
    "df.WhiteElo.dtype == 'int64'"
   ]
  },
  {
   "cell_type": "code",
   "execution_count": null,
   "id": "7ee7e4db",
   "metadata": {
    "ExecuteTime": {
     "end_time": "2022-10-20T21:37:07.582821Z",
     "start_time": "2022-10-20T21:37:07.582821Z"
    },
    "hidden": true
   },
   "outputs": [],
   "source": [
    "df.Event.dtype == 'O'"
   ]
  },
  {
   "cell_type": "code",
   "execution_count": null,
   "id": "4a40925b",
   "metadata": {
    "ExecuteTime": {
     "end_time": "2022-10-20T21:37:07.583819Z",
     "start_time": "2022-10-20T21:37:07.583819Z"
    },
    "hidden": true
   },
   "outputs": [],
   "source": [
    "df.Date.dtype == '<M8[ns]'"
   ]
  },
  {
   "cell_type": "code",
   "execution_count": null,
   "id": "b4f6c70b",
   "metadata": {
    "ExecuteTime": {
     "end_time": "2022-10-20T21:37:07.584815Z",
     "start_time": "2022-10-20T21:37:07.584815Z"
    },
    "hidden": true
   },
   "outputs": [],
   "source": [
    "df.Date.dtype == 'datetime64[ns]'"
   ]
  },
  {
   "cell_type": "code",
   "execution_count": null,
   "id": "6748bd16",
   "metadata": {
    "ExecuteTime": {
     "end_time": "2022-10-20T21:37:07.585812Z",
     "start_time": "2022-10-20T21:37:07.585812Z"
    },
    "hidden": true
   },
   "outputs": [],
   "source": [
    "#     def dtype_checker(df, schema):\n",
    "#         wrong_dtypes = [[i, j] for i, j in schema.items() if i in df.columns and df[i].dtype!=j]\n",
    "#         if len(wrong_dtypes)!=0:\n",
    "#             for row in [f'Column {k[0]} does not match datatype {k[1]}' for k in wrong_dtypes]:\n",
    "#                 print(row)\n",
    "#             return False\n",
    "#         else:\n",
    "#             return True"
   ]
  },
  {
   "cell_type": "code",
   "execution_count": null,
   "id": "ef76cf0a",
   "metadata": {
    "ExecuteTime": {
     "end_time": "2022-10-20T21:37:07.586810Z",
     "start_time": "2022-10-20T21:37:07.586810Z"
    },
    "code_folding": [
     0
    ],
    "hidden": true
   },
   "outputs": [],
   "source": [
    "#     expected_schema = {\n",
    "#         'Event': 'object',\n",
    "#         'Site': 'object',\n",
    "#         'Date': 'datetime64[ns]',\n",
    "#         'Round': 'object',\n",
    "#         'White': 'object',\n",
    "#         'Black': 'object',\n",
    "#         'Result': 'object',\n",
    "#         'BlackClock': 'object',\n",
    "#         'BlackElo':  'int64',\n",
    "#         'BlackIsComp': 'object',\n",
    "#         'BlackRD': 'float64',\n",
    "#         'ECO': 'object',\n",
    "#         'FICSGamesDBGameNo':  'int64',\n",
    "#         'PlyCount':  'int64',\n",
    "#         'Time': 'object',\n",
    "#         'TimeControl': 'object',\n",
    "#         'WhiteClock': 'object',\n",
    "#         'WhiteElo':  'int64',\n",
    "#         'WhiteRD': 'float64',\n",
    "#         'emt': 'object',\n",
    "#         'moves': 'object',\n",
    "#         'WhiteIsComp': 'object'  \n",
    "#     }"
   ]
  },
  {
   "cell_type": "code",
   "execution_count": null,
   "id": "e3477b4b",
   "metadata": {
    "ExecuteTime": {
     "end_time": "2022-10-20T21:37:07.587807Z",
     "start_time": "2022-10-20T21:37:07.587807Z"
    },
    "hidden": true
   },
   "outputs": [],
   "source": [
    "# dtype_checker(df, expected_schema)"
   ]
  },
  {
   "cell_type": "code",
   "execution_count": null,
   "id": "937e997c",
   "metadata": {
    "ExecuteTime": {
     "end_time": "2022-10-20T21:37:07.588805Z",
     "start_time": "2022-10-20T21:37:07.588805Z"
    },
    "hidden": true
   },
   "outputs": [],
   "source": [
    "# def schema_checker(df, cols):\n",
    "#     missing_cols = [i for i in cols if i not in df.columns]\n",
    "#     if len(missing_cols)!=0:\n",
    "#         for col in [f'Column {i} not found' for i in missing_cols]:\n",
    "#             print(col)\n",
    "#         return False\n",
    "#     else:\n",
    "#         return True"
   ]
  },
  {
   "cell_type": "code",
   "execution_count": null,
   "id": "87cf1d68",
   "metadata": {
    "ExecuteTime": {
     "end_time": "2022-10-20T21:37:07.589802Z",
     "start_time": "2022-10-20T21:37:07.589802Z"
    },
    "hidden": true
   },
   "outputs": [],
   "source": [
    "# schema_checker(df, expected_schema.keys())"
   ]
  },
  {
   "cell_type": "code",
   "execution_count": null,
   "id": "81c60eea",
   "metadata": {
    "ExecuteTime": {
     "end_time": "2022-10-20T21:37:07.590801Z",
     "start_time": "2022-10-20T21:37:07.590801Z"
    },
    "hidden": true
   },
   "outputs": [],
   "source": [
    "# df_wrong = df.copy().rename(columns={'BlackRD': 'Wrongs'})"
   ]
  },
  {
   "cell_type": "code",
   "execution_count": null,
   "id": "7e43b7f2",
   "metadata": {
    "ExecuteTime": {
     "end_time": "2022-10-20T21:37:07.591796Z",
     "start_time": "2022-10-20T21:37:07.591796Z"
    },
    "hidden": true
   },
   "outputs": [],
   "source": [
    "# schema_checker(df_wrong, expected_schema.keys())"
   ]
  },
  {
   "cell_type": "markdown",
   "id": "9745c3f7",
   "metadata": {
    "heading_collapsed": true
   },
   "source": [
    "## Making XIsComp helper:"
   ]
  },
  {
   "cell_type": "code",
   "execution_count": null,
   "id": "a0acbabc",
   "metadata": {
    "ExecuteTime": {
     "end_time": "2022-10-20T21:37:07.592794Z",
     "start_time": "2022-10-20T21:37:07.592794Z"
    },
    "hidden": true
   },
   "outputs": [],
   "source": [
    "# def change_comp_columns(df):\n",
    "#     ## make copy df\n",
    "\n",
    "#     nocomp_df = df.copy()\n",
    "    \n",
    "#     ## check number of unique in blackiscomp and whiteiscomp (should be 2)\n",
    "#     assert all([nocomp_df[x].nunique(dropna=False)==2 for x in ['WhiteIsComp', 'BlackIsComp']]), 'More than two unique values in a XIsComp column (including nan)'\n",
    "    \n",
    "#     ## check one of the unique values are 'Yes'\n",
    "#     assert all(['Yes' in nocomp_df[x].unique() for x in ['WhiteIsComp', 'BlackIsComp']]), 'Missing \"Yes\" in one of the XIsComp column'\n",
    "\n",
    "#     ## assign 1 and 0 to blackiscomp and whiteiscomp\n",
    "\n",
    "#     nocomp_df['WhiteIsComp'] = np.where(nocomp_df['WhiteIsComp']=='Yes', np.int8(1), np.int8(0))\n",
    "#     nocomp_df['BlackIsComp'] = np.where(nocomp_df['BlackIsComp']=='Yes', np.int8(1), np.int8(0))\n",
    "\n",
    "#     ## make new 'nocomp' column which depends on blackiscomp==1 and whiteiscomp==1\n",
    "\n",
    "#     nocomp_df['NoComp'] = np.where(zip(nocomp_df['WhiteIsComp'], nocomp_df['BlackIsComp'])==[0, 0], np.int8(1), np.int8(0))\n",
    "    \n",
    "#     return nocomp_df"
   ]
  },
  {
   "cell_type": "code",
   "execution_count": null,
   "id": "55509645",
   "metadata": {
    "ExecuteTime": {
     "end_time": "2022-10-20T21:37:07.593791Z",
     "start_time": "2022-10-20T21:37:07.593791Z"
    },
    "hidden": true
   },
   "outputs": [],
   "source": [
    "# nocomp_df_test = hp.change_comp_columns(df)\n",
    "\n",
    "# # validating the shape is (2, 0) if there are only games with cheaters (i.e. XIsComp==1)\n",
    "# nocomp_df_test[['BlackIsComp', 'WhiteIsComp', 'NoComp']].groupby(['BlackIsComp', 'WhiteIsComp', 'NoComp']).count()\n",
    "\n",
    "# nocomp_df_test[['BlackIsComp', 'WhiteIsComp', 'NoComp']].groupby([\n",
    "#     'BlackIsComp', 'WhiteIsComp', 'NoComp']).count().shape[0]; # 2\n",
    "\n",
    "\n",
    "# # validating the shape is (3, 0) if there is at least one entry that is NoComp==1\n",
    "# nocomp_df_test_2  = nocomp_df_test.copy()\n",
    "# nocomp_df_test_2.loc[0,['BlackIsComp', 'WhiteIsComp', 'NoComp']] = [0, 0, 1]\n",
    "# nocomp_df_test_2[['BlackIsComp', 'WhiteIsComp', 'NoComp']].iloc[0]\n",
    "# nocomp_df_test_2[['BlackIsComp', 'WhiteIsComp', 'NoComp']].groupby(['BlackIsComp', 'WhiteIsComp', 'NoComp']).count()\n",
    "\n",
    "# nocomp_df_test_2[['BlackIsComp', 'WhiteIsComp', 'NoComp']].groupby([\n",
    "#     'BlackIsComp', 'WhiteIsComp', 'NoComp']).count().shape[0]; # 3"
   ]
  },
  {
   "cell_type": "code",
   "execution_count": null,
   "id": "0e844a82",
   "metadata": {
    "ExecuteTime": {
     "end_time": "2022-10-20T21:37:07.594789Z",
     "start_time": "2022-10-20T21:37:07.594789Z"
    },
    "hidden": true
   },
   "outputs": [],
   "source": [
    "# make 'nocomp' column:\n",
    "\n",
    "## make copy df\n",
    "\n",
    "nocomp_df = df.copy()\n",
    "\n",
    "## check number of unique in blackiscomp and whiteiscomp (should be 2)\n",
    "\n",
    "# white_comp_unique_num = nocomp_df.WhiteIsComp.nunique(dropna=False)\n",
    "# black_comp_unique_num = nocomp_df.BlackIsComp.nunique(dropna=False)\n",
    "# comp_unique_num = [nocomp_df[x].nunique(dropna=False) for x in ['WhiteIsComp', 'BlackIsComp']]\n",
    "# print(comp_unique_num) # [2, 2]\n",
    "# print(all(comp_unique_num))\n",
    "# comp_unique_num_is2 = np.array([nocomp_df[x].nunique(dropna=False)==2 for x in ['WhiteIsComp', 'BlackIsComp']]).all()\n",
    "# assert np.array([nocomp_df[x].nunique(dropna=False)==2 for x in ['WhiteIsComp', 'BlackIsComp']]).all()==True, 'More than two unique values in a XIsComp column (including nan)'\n",
    "# print(comp_unique_num_is2)\n",
    "comp_unique_num_is2 = all([nocomp_df[x].nunique(dropna=False)==2 for x in ['WhiteIsComp', 'BlackIsComp']])\n",
    "# print(comp_unique_num_is2)\n",
    "\n",
    "# bla = np.array([nocomp_df[x].nunique(dropna=False)==2 for x in ['WhiteIsComp', 'BlackIsComp']])\n",
    "# bla[0]=False\n",
    "# print(all(bla)) # False\n",
    "\n",
    "\n",
    "## check one of the unique values are 'Yes'\n",
    "\n",
    "has_yes_list = ['Yes' in nocomp_df[x].unique() for x in ['WhiteIsComp', 'BlackIsComp']]\n",
    "# print(has_yes_list) # [True, True]\n",
    "has_yes = all(has_yes_list)\n",
    "# print(has_yes)\n",
    "\n",
    "## assign 1 and 0 to blackiscomp and whiteiscomp\n",
    "\n",
    "# nocomp_df['WhiteIsComp'] = nocomp_df['WhiteIsComp'].apply(lambda x: np.int8(1) if x=='Yes' else np.int8(0))\n",
    "# nocomp_df['BlackIsComp'] = nocomp_df['BlackIsComp'].apply(lambda x: np.int8(1) if x=='Yes' else np.int8(0))\n",
    "\n",
    "nocomp_df['WhiteIsComp'] = np.where(nocomp_df['WhiteIsComp']=='Yes', np.int8(1), np.int8(0))\n",
    "nocomp_df['BlackIsComp'] = np.where(nocomp_df['BlackIsComp']=='Yes', np.int8(1), np.int8(0))\n",
    "\n",
    "\n",
    "#---#\n",
    "\n",
    "## make new 'nocomp' column which depends on blackiscomp==1 and whiteiscomp==1\n",
    "\n",
    "# fastest is:\n",
    "nocomp_df['NoComp'] = np.where(next(zip(nocomp_df['WhiteIsComp'], nocomp_df['BlackIsComp']))==(0, 0), \n",
    "                               np.int8(1),\n",
    "                               np.int8(0))\n",
    "\n",
    "# testing was done to compare speeds\n"
   ]
  },
  {
   "cell_type": "code",
   "execution_count": null,
   "id": "5b38a51d",
   "metadata": {
    "ExecuteTime": {
     "end_time": "2022-10-22T12:58:34.463743Z",
     "start_time": "2022-10-22T12:58:34.453792Z"
    },
    "hidden": true
   },
   "outputs": [],
   "source": [
    "# compare speed of np.array(...).all() and all([...])\n",
    "\n",
    "# all([...]) marginally faster\n",
    "\n",
    "# # %%timeit # 1.58 ms ± 55.5 µs per loop (mean ± std. dev. of 7 runs, 1,000 loops each)\n",
    "# nocomp_df = df.copy()\n",
    "# comp_unique_num_is2 = np.array([nocomp_df[x].nunique(dropna=False)==2 for x in ['WhiteIsComp', 'BlackIsComp']]).all()\n",
    "# comp_unique_num_is2\n",
    "\n",
    "# # %%timeit # 1.51 ms ± 18.5 µs per loop (mean ± std. dev. of 7 runs, 1,000 loops each)\n",
    "# nocomp_df = df.copy()\n",
    "# comp_unique_num_is2 = all([nocomp_df[x].nunique(dropna=False)==2 for x in ['WhiteIsComp', 'BlackIsComp']])\n",
    "# comp_unique_num_is2"
   ]
  },
  {
   "cell_type": "code",
   "execution_count": null,
   "id": "53c17435",
   "metadata": {
    "ExecuteTime": {
     "end_time": "2022-10-20T21:37:07.596784Z",
     "start_time": "2022-10-20T21:37:07.596784Z"
    },
    "code_folding": [
     0
    ],
    "hidden": true
   },
   "outputs": [],
   "source": [
    "# Compare np.where and df.apply speed:\n",
    "\n",
    "# # timing np.where\n",
    "# nocomp_df = df.copy()\n",
    "# nocomp_df['WhiteIsComp'] = np.where(nocomp_df['WhiteIsComp']=='Yes', np.int8(1), np.int8(0))\n",
    "# nocomp_df['BlackIsComp'] = np.where(nocomp_df['BlackIsComp']=='Yes', np.int8(1), np.int8(0))\n",
    "\n",
    "\n",
    "#-----#\n",
    "\n",
    "# any([np.int8(0), np.int8(1)]) # True\n",
    "\n",
    "# zip(nocomp_df['WhiteIsComp'], nocomp_df['BlackIsComp']) # <zip at 0x2ac85d24c40>\n",
    "\n",
    "# for element in zip(nocomp_df['WhiteIsComp'], nocomp_df['BlackIsComp']):\n",
    "#     print(element)\n",
    "\n",
    "# [np.int8(0) if any(element) else np.int8(1) for element in zip(nocomp_df['WhiteIsComp'], nocomp_df['BlackIsComp'])]\n",
    "\n",
    "# pd.Series([np.int8(1) if all(element) else np.int8(0) for element in zip(nocomp_df['WhiteIsComp'], nocomp_df['BlackIsComp'])])\n",
    "\n",
    "# nocomp_df['NoComp'] = [np.int8(0) if any(element) else np.int8(1) for element in zip(nocomp_df['WhiteIsComp'], nocomp_df['BlackIsComp'])]\n",
    "\n",
    "# nocomp_df['NoComp'].any() # False\n",
    "\n",
    "# nocomp_df['NoComp'] = np.where(zip(nocomp_df['WhiteIsComp'], nocomp_df['BlackIsComp'])==[0, 0], np.int8(1), np.int8(0))\n",
    "# np.int8(0)==0 # True\n",
    "# np.int8(1)==1 # True\n",
    "\n",
    "# nocomp_df['NoComp'].any() # False \n",
    "\n",
    "# nocomp_df['WhiteIsComp']==1 # Series of True and False\n",
    "\n",
    "#------#\n",
    "\n",
    "# # %%timeit # 54.6 ms ± 420 µs per loop (mean ± std. dev. of 7 runs, 10 loops each)\n",
    "# # timing df.apply()\n",
    "# nocomp_df = df.copy()\n",
    "# nocomp_df['WhiteIsComp'] = nocomp_df['WhiteIsComp'].apply(lambda x: np.int8(1) if x=='Yes' else np.int8(0))\n",
    "# nocomp_df['BlackIsComp'] = nocomp_df['BlackIsComp'].apply(lambda x: np.int8(1) if x=='Yes' else np.int8(0))"
   ]
  },
  {
   "cell_type": "code",
   "execution_count": null,
   "id": "03593231",
   "metadata": {
    "ExecuteTime": {
     "end_time": "2022-10-22T14:27:12.092676Z",
     "start_time": "2022-10-22T14:27:12.078741Z"
    },
    "hidden": true
   },
   "outputs": [],
   "source": [
    "# # Comparing 3 methods for making NoComp column (on Muninn):\n",
    "\n",
    "nocomp_df = df_2018_test.copy()\n",
    "nocomp_df['WhiteIsComp'] = np.where(nocomp_df['WhiteIsComp']=='Yes', np.int8(1), np.int8(0))\n",
    "nocomp_df['BlackIsComp'] = np.where(nocomp_df['BlackIsComp']=='Yes', np.int8(1), np.int8(0))\n",
    "\n",
    "# #--#"
   ]
  },
  {
   "cell_type": "code",
   "execution_count": null,
   "id": "e46673e3",
   "metadata": {
    "ExecuteTime": {
     "end_time": "2022-10-22T14:19:18.554364Z",
     "start_time": "2022-10-22T14:19:18.547355Z"
    },
    "code_folding": [],
    "hidden": true
   },
   "outputs": [],
   "source": [
    "# # %%timeit # 156 ms ± 517 µs per loop (mean ± std. dev. of 7 runs, 10 loops each)\n",
    "\n",
    "# # .apply()\n",
    "\n",
    "# nocomp_df['NoComp'] = nocomp_df.apply(lambda x: np.int8(1) if (x['WhiteIsComp']!=1 and \\\n",
    "#                                                                x['BlackIsComp']!=1) else np.int8(0), axis=1)"
   ]
  },
  {
   "cell_type": "code",
   "execution_count": null,
   "id": "40ef49a2",
   "metadata": {
    "ExecuteTime": {
     "end_time": "2022-10-22T14:19:20.355537Z",
     "start_time": "2022-10-22T14:19:20.337852Z"
    },
    "hidden": true
   },
   "outputs": [],
   "source": [
    "# apply_ = nocomp_df['NoComp'].copy()"
   ]
  },
  {
   "cell_type": "code",
   "execution_count": null,
   "id": "e20e50b7",
   "metadata": {
    "ExecuteTime": {
     "end_time": "2022-10-22T14:19:15.384682Z",
     "start_time": "2022-10-22T14:19:15.379669Z"
    },
    "hidden": true
   },
   "outputs": [],
   "source": [
    "# apply_;"
   ]
  },
  {
   "cell_type": "code",
   "execution_count": null,
   "id": "0b9db2cc",
   "metadata": {
    "ExecuteTime": {
     "end_time": "2022-10-22T14:15:47.350477Z",
     "start_time": "2022-10-22T14:15:47.338486Z"
    },
    "hidden": true
   },
   "outputs": [],
   "source": [
    "#--#"
   ]
  },
  {
   "cell_type": "code",
   "execution_count": null,
   "id": "0069f132",
   "metadata": {
    "ExecuteTime": {
     "end_time": "2022-10-22T14:15:47.476498Z",
     "start_time": "2022-10-22T14:15:47.470515Z"
    },
    "code_folding": [],
    "hidden": true
   },
   "outputs": [],
   "source": [
    "# nocomp_df['NoComp'][0:5] # looks good"
   ]
  },
  {
   "cell_type": "code",
   "execution_count": null,
   "id": "7e5b9cdc",
   "metadata": {
    "ExecuteTime": {
     "end_time": "2022-10-22T14:19:42.599471Z",
     "start_time": "2022-10-22T14:19:42.593456Z"
    },
    "code_folding": [],
    "hidden": true
   },
   "outputs": [],
   "source": [
    "# # %%timeit # 49.5 ms ± 164 µs per loop (mean ± std. dev. of 7 runs, 10 loops each)\n",
    "\n",
    "# # list comprehension using 'for element in zip'\n",
    "\n",
    "# nocomp_df['NoComp'] = [np.int8(1) if element==(0, 0) else np.int8(0) for element in \\\n",
    "#                        zip(nocomp_df['WhiteIsComp'], nocomp_df['BlackIsComp'])]\n",
    "\n",
    "# # nocomp_df['NoComp'] = [np.int8(0) if any(element) else np.int8(1) for element in \\\n",
    "# #                        zip(nocomp_df['WhiteIsComp'], nocomp_df['BlackIsComp'])]\n",
    "\n",
    "# # [element for element in \\\n",
    "# #  zip(nocomp_df['WhiteIsComp'], nocomp_df['BlackIsComp'])]"
   ]
  },
  {
   "cell_type": "code",
   "execution_count": null,
   "id": "e381059d",
   "metadata": {
    "ExecuteTime": {
     "end_time": "2022-10-22T14:19:45.311857Z",
     "start_time": "2022-10-22T14:19:45.307876Z"
    },
    "hidden": true
   },
   "outputs": [],
   "source": [
    "# listcompforzip_ = nocomp_df['NoComp'].copy()"
   ]
  },
  {
   "cell_type": "code",
   "execution_count": null,
   "id": "d83a746f",
   "metadata": {
    "ExecuteTime": {
     "end_time": "2022-10-22T14:19:40.028540Z",
     "start_time": "2022-10-22T14:19:40.019587Z"
    },
    "hidden": true
   },
   "outputs": [],
   "source": [
    "# listcompforzip_;"
   ]
  },
  {
   "cell_type": "code",
   "execution_count": null,
   "id": "dd618fd9",
   "metadata": {
    "ExecuteTime": {
     "end_time": "2022-10-22T14:15:48.009005Z",
     "start_time": "2022-10-22T14:15:47.999060Z"
    },
    "hidden": true
   },
   "outputs": [],
   "source": [
    "#--#"
   ]
  },
  {
   "cell_type": "code",
   "execution_count": null,
   "id": "56854751",
   "metadata": {
    "ExecuteTime": {
     "end_time": "2022-10-22T14:15:48.305903Z",
     "start_time": "2022-10-22T14:15:48.292938Z"
    },
    "hidden": true
   },
   "outputs": [],
   "source": [
    "# nocomp_df['NoComp'] # looks good"
   ]
  },
  {
   "cell_type": "code",
   "execution_count": null,
   "id": "6a7d54bd",
   "metadata": {
    "ExecuteTime": {
     "end_time": "2022-10-22T14:17:50.874700Z",
     "start_time": "2022-10-22T14:17:43.986856Z"
    },
    "code_folding": [],
    "hidden": true
   },
   "outputs": [],
   "source": [
    "# # %%timeit # 84.8 µs ± 689 ns per loop (mean ± std. dev. of 7 runs, 10,000 loops each)\n",
    "\n",
    "# # np.where(next(zip()))==(0, 0) \n",
    "\n",
    "\n",
    "# # DON'T WORK:\n",
    "# # nocomp_df['NoComp'] = np.where(list(zip(nocomp_df['WhiteIsComp'], nocomp_df['BlackIsComp']))==(0, 0), # [0, 0] doesn't work\n",
    "# #                                np.int8(1),\n",
    "# #                                np.int8(0)) # doesn't work\n",
    "\n",
    "# # nocomp_df['NoComp'] = np.where(np.array(list(zip(nocomp_df['WhiteIsComp'], nocomp_df['BlackIsComp']))).flat==[0, 0], \n",
    "# #                                np.int8(1),\n",
    "# #                                np.int8(0))\n",
    "\n",
    "\n",
    "# # DOES WORK:\n",
    "# nocomp_df['NoComp'] = np.where(next(zip(nocomp_df['WhiteIsComp'], nocomp_df['BlackIsComp']))==(0, 0), \n",
    "#                                np.int8(1),\n",
    "#                                np.int8(0))\n",
    "\n",
    "# #-#\n",
    "\n",
    "# # both of: \n",
    "# # # np.where(zip(nocomp_df['WhiteIsComp'], nocomp_df['BlackIsComp'])==(0, 0), 1, 0)\n",
    "\n",
    "# # # np.where(zip(nocomp_df['WhiteIsComp'], nocomp_df['BlackIsComp'])==[0, 0], 1, 0)\n",
    "# # return array(0), this is why 'list' is used\n"
   ]
  },
  {
   "cell_type": "code",
   "execution_count": null,
   "id": "a06e7ef6",
   "metadata": {
    "ExecuteTime": {
     "end_time": "2022-10-22T14:13:08.348798Z",
     "start_time": "2022-10-22T14:13:08.327827Z"
    },
    "hidden": true
   },
   "outputs": [],
   "source": [
    "# len(list(zip(*(zip(nocomp_df['WhiteIsComp'], nocomp_df['BlackIsComp'])))))\n",
    "# list(zip(*(zip(nocomp_df['WhiteIsComp'], nocomp_df['BlackIsComp']))))\n",
    "# list(zip(nocomp_df['WhiteIsComp'], nocomp_df['BlackIsComp']))\n",
    "# #==(0, 0)\n",
    "# np.array(list(zip(nocomp_df['WhiteIsComp'], nocomp_df['BlackIsComp'])), ndmin=1).shape\n",
    "\n",
    "# next(zip(nocomp_df['WhiteIsComp'], nocomp_df['BlackIsComp']))"
   ]
  },
  {
   "cell_type": "code",
   "execution_count": null,
   "id": "179a27a0",
   "metadata": {
    "hidden": true
   },
   "outputs": [],
   "source": []
  },
  {
   "cell_type": "code",
   "execution_count": null,
   "id": "a6465509",
   "metadata": {
    "ExecuteTime": {
     "end_time": "2022-10-22T12:41:05.893148Z",
     "start_time": "2022-10-22T12:41:05.888162Z"
    },
    "code_folding": [
     0
    ],
    "hidden": true
   },
   "outputs": [],
   "source": [
    "# list(zip(nocomp_df['WhiteIsComp'], nocomp_df['BlackIsComp']))\n",
    "# [(0, 0),\n",
    "#  (0, 0),\n",
    "#  (0, 0),\n",
    "#  (0, 0),\n",
    "#  (0, 0),\n",
    "#  (0, 0),...."
   ]
  },
  {
   "cell_type": "code",
   "execution_count": null,
   "id": "49277dde",
   "metadata": {
    "ExecuteTime": {
     "end_time": "2022-10-22T14:22:58.718568Z",
     "start_time": "2022-10-22T14:22:58.708595Z"
    },
    "hidden": true
   },
   "outputs": [],
   "source": [
    "# list(zip(nocomp_df['WhiteIsComp'], nocomp_df['BlackIsComp']))[0]==(0, 0)"
   ]
  },
  {
   "cell_type": "code",
   "execution_count": null,
   "id": "293719cf",
   "metadata": {
    "ExecuteTime": {
     "end_time": "2022-10-22T12:41:06.048943Z",
     "start_time": "2022-10-22T12:41:06.031988Z"
    },
    "code_folding": [],
    "hidden": true
   },
   "outputs": [],
   "source": [
    "# bla = zip(nocomp_df['WhiteIsComp'], nocomp_df['BlackIsComp'])\n",
    "# next(bla)\n",
    "# next(bla)==(0, 0) # True"
   ]
  },
  {
   "cell_type": "code",
   "execution_count": null,
   "id": "4f7adbed",
   "metadata": {
    "hidden": true
   },
   "outputs": [],
   "source": []
  },
  {
   "cell_type": "code",
   "execution_count": null,
   "id": "8a1de27e",
   "metadata": {
    "ExecuteTime": {
     "end_time": "2022-10-22T14:17:00.652184Z",
     "start_time": "2022-10-22T14:17:00.634232Z"
    },
    "hidden": true
   },
   "outputs": [],
   "source": [
    "# wherenextzip_ = nocomp_df['NoComp'].copy()"
   ]
  },
  {
   "cell_type": "code",
   "execution_count": null,
   "id": "da0cc54f",
   "metadata": {
    "ExecuteTime": {
     "end_time": "2022-10-22T14:18:39.512624Z",
     "start_time": "2022-10-22T14:18:39.498649Z"
    },
    "hidden": true
   },
   "outputs": [],
   "source": [
    "wherenextzip_;"
   ]
  },
  {
   "cell_type": "code",
   "execution_count": null,
   "id": "3d51dda3",
   "metadata": {
    "ExecuteTime": {
     "end_time": "2022-10-22T12:41:06.639147Z",
     "start_time": "2022-10-22T12:41:06.622195Z"
    },
    "hidden": true
   },
   "outputs": [],
   "source": [
    "#--#"
   ]
  },
  {
   "cell_type": "code",
   "execution_count": null,
   "id": "235952e4",
   "metadata": {
    "ExecuteTime": {
     "end_time": "2022-10-22T14:16:01.732468Z",
     "start_time": "2022-10-22T14:16:01.715513Z"
    },
    "hidden": true
   },
   "outputs": [],
   "source": [
    "# nocomp_df['NoComp'] # looks good"
   ]
  },
  {
   "cell_type": "code",
   "execution_count": null,
   "id": "6f7a3581",
   "metadata": {
    "ExecuteTime": {
     "end_time": "2022-10-22T14:27:17.621066Z",
     "start_time": "2022-10-22T14:27:15.137074Z"
    },
    "hidden": true
   },
   "outputs": [],
   "source": [
    "# # %%timeit # 309 µs ± 3.63 µs per loop (mean ± std. dev. of 7 runs, 1,000 loops each)\n",
    "\n",
    "# # #np.where(df[['a', 'b']].values==[0, 0])\n",
    "\n",
    "# nocomp_df['NoComp'] = np.where((nocomp_df['WhiteIsComp']==0)*(nocomp_df['BlackIsComp']==0),\n",
    "#                                np.int8(1), np.int8(0))"
   ]
  },
  {
   "cell_type": "code",
   "execution_count": null,
   "id": "3c768b57",
   "metadata": {
    "ExecuteTime": {
     "end_time": "2022-10-22T14:17:09.397423Z",
     "start_time": "2022-10-22T14:17:09.386452Z"
    },
    "hidden": true
   },
   "outputs": [],
   "source": [
    "# wheredf_ = nocomp_df['NoComp'].copy()"
   ]
  },
  {
   "cell_type": "code",
   "execution_count": null,
   "id": "22e6cfea",
   "metadata": {
    "ExecuteTime": {
     "end_time": "2022-10-22T14:17:09.756877Z",
     "start_time": "2022-10-22T14:17:09.746876Z"
    },
    "hidden": true
   },
   "outputs": [],
   "source": [
    "wheredf_;"
   ]
  },
  {
   "cell_type": "code",
   "execution_count": null,
   "id": "92fc89c1",
   "metadata": {
    "ExecuteTime": {
     "end_time": "2022-10-22T12:44:14.546629Z",
     "start_time": "2022-10-22T12:44:14.537818Z"
    },
    "hidden": true
   },
   "outputs": [],
   "source": [
    "#--#"
   ]
  },
  {
   "cell_type": "code",
   "execution_count": null,
   "id": "05aaedd1",
   "metadata": {
    "ExecuteTime": {
     "end_time": "2022-10-22T13:19:07.310726Z",
     "start_time": "2022-10-22T13:19:07.302748Z"
    },
    "hidden": true
   },
   "outputs": [],
   "source": [
    "# nocomp_df['NoComp'] # looks good"
   ]
  },
  {
   "cell_type": "code",
   "execution_count": null,
   "id": "6822fffa",
   "metadata": {
    "hidden": true
   },
   "outputs": [],
   "source": []
  },
  {
   "cell_type": "code",
   "execution_count": null,
   "id": "7e1a2690",
   "metadata": {
    "ExecuteTime": {
     "end_time": "2022-10-22T12:44:14.546629Z",
     "start_time": "2022-10-22T12:44:14.537818Z"
    },
    "hidden": true
   },
   "outputs": [],
   "source": [
    "#--#"
   ]
  },
  {
   "cell_type": "code",
   "execution_count": null,
   "id": "218e6e85",
   "metadata": {
    "ExecuteTime": {
     "end_time": "2022-10-22T14:18:54.479452Z",
     "start_time": "2022-10-22T14:18:54.469475Z"
    },
    "hidden": true
   },
   "outputs": [],
   "source": [
    "all(wheredf_==wherenextzip_) # True"
   ]
  },
  {
   "cell_type": "code",
   "execution_count": null,
   "id": "4a9ca543",
   "metadata": {
    "ExecuteTime": {
     "end_time": "2022-10-22T14:20:08.553603Z",
     "start_time": "2022-10-22T14:20:08.542662Z"
    },
    "hidden": true
   },
   "outputs": [],
   "source": [
    "all(listcompforzip_==wherenextzip_) # True"
   ]
  },
  {
   "cell_type": "code",
   "execution_count": null,
   "id": "83322c38",
   "metadata": {
    "ExecuteTime": {
     "end_time": "2022-10-22T14:20:12.588761Z",
     "start_time": "2022-10-22T14:20:12.575796Z"
    },
    "hidden": true
   },
   "outputs": [],
   "source": [
    "all(apply_==wherenextzip_) # True"
   ]
  },
  {
   "cell_type": "code",
   "execution_count": null,
   "id": "e2287816",
   "metadata": {
    "ExecuteTime": {
     "end_time": "2022-10-22T12:44:14.546629Z",
     "start_time": "2022-10-22T12:44:14.537818Z"
    },
    "hidden": true
   },
   "outputs": [],
   "source": [
    "#--#"
   ]
  },
  {
   "cell_type": "code",
   "execution_count": null,
   "id": "5e2132e3",
   "metadata": {
    "hidden": true
   },
   "outputs": [],
   "source": []
  },
  {
   "cell_type": "code",
   "execution_count": null,
   "id": "f8e1b6c1",
   "metadata": {
    "ExecuteTime": {
     "end_time": "2022-10-22T12:35:51.704242Z",
     "start_time": "2022-10-22T12:35:51.697261Z"
    },
    "hidden": true
   },
   "outputs": [],
   "source": [
    "#------#"
   ]
  },
  {
   "cell_type": "code",
   "execution_count": null,
   "id": "c9fdb2e5",
   "metadata": {
    "ExecuteTime": {
     "end_time": "2022-10-20T21:37:07.597781Z",
     "start_time": "2022-10-20T21:37:07.597781Z"
    },
    "hidden": true
   },
   "outputs": [],
   "source": [
    "# trying to do both columns in one apply:\n",
    "\n",
    "# nocomp_df = df.copy()\n",
    "# nocomp_df[['WhiteIsComp', 'BlackIsComp']] = nocomp_df[['WhiteIsComp', 'BlackIsComp']].apply(lambda x: [np.int8(1) if x.loc[y]=='Yes' else np.int8(0) for y in ['WhiteIsComp', 'BlackIsComp']], axis=1)\n",
    "\n",
    "# nocomp_df[['WhiteIsComp', 'BlackIsComp']] = nocomp_df.apply(lambda x: [np.int8(1) if x[y]=='Yes' else np.int8(0) for y in ['WhiteIsComp', 'BlackIsComp']], axis=1)"
   ]
  },
  {
   "cell_type": "code",
   "execution_count": null,
   "id": "479916de",
   "metadata": {
    "ExecuteTime": {
     "end_time": "2022-10-20T21:37:07.598779Z",
     "start_time": "2022-10-20T21:37:07.598779Z"
    },
    "hidden": true
   },
   "outputs": [],
   "source": [
    "# nocomp_df = df.copy()\n",
    "# nocomp_df[['WhiteIsComp', 'BlackIsComp']] = nocomp_df[['WhiteIsComp', 'BlackIsComp']].apply(\n",
    "#     lambda x: [np.int8(1) for y in ['WhiteIsComp', 'BlackIsComp'] if x.loc[y]=='Yes' else np.int8(0)], axis=1)"
   ]
  },
  {
   "cell_type": "code",
   "execution_count": null,
   "id": "2bac00d4",
   "metadata": {
    "ExecuteTime": {
     "end_time": "2022-10-20T21:37:07.600772Z",
     "start_time": "2022-10-20T21:37:07.600772Z"
    },
    "hidden": true
   },
   "outputs": [],
   "source": [
    "# nocomp_df = df.copy()\n",
    "# nocomp_df[['WhiteIsComp', 'BlackIsComp']] = nocomp_df[['WhiteIsComp', 'BlackIsComp']].apply(\n",
    "#     lambda x: np.int8(1) if x=='Yes' else np.int8(0),\n",
    "#     axis=1)"
   ]
  },
  {
   "cell_type": "code",
   "execution_count": null,
   "id": "10114bf9",
   "metadata": {
    "ExecuteTime": {
     "end_time": "2022-10-20T21:37:07.601770Z",
     "start_time": "2022-10-20T21:37:07.601770Z"
    },
    "hidden": true
   },
   "outputs": [],
   "source": [
    "# nocomp_df = df.copy()\n",
    "# nocomp_df[['WhiteIsComp', 'BlackIsComp']] = [row_value.apply(lambda x: np.int8(1) if x=='Yes' else np.int8(0)) for ]\n",
    "\n",
    "\n",
    "\n",
    "# nocomp_df[['WhiteIsComp', 'BlackIsComp']].apply(\n",
    "#     lambda x: np.int8(1) if x=='Yes' else np.int8(0),\n",
    "#     axis=1)"
   ]
  },
  {
   "cell_type": "code",
   "execution_count": null,
   "id": "7851c733",
   "metadata": {
    "ExecuteTime": {
     "end_time": "2022-10-20T21:37:07.602767Z",
     "start_time": "2022-10-20T21:37:07.602767Z"
    },
    "hidden": true
   },
   "outputs": [],
   "source": [
    "# type(df.loc[0]) # Series\n",
    "# display(df.loc[0])"
   ]
  },
  {
   "cell_type": "code",
   "execution_count": null,
   "id": "040da802",
   "metadata": {
    "ExecuteTime": {
     "end_time": "2022-10-20T21:37:07.603764Z",
     "start_time": "2022-10-20T21:37:07.603764Z"
    },
    "hidden": true
   },
   "outputs": [],
   "source": [
    "# row = df.loc[0]\n",
    "# row.loc['ECO']"
   ]
  },
  {
   "cell_type": "code",
   "execution_count": null,
   "id": "b0c42d30",
   "metadata": {
    "ExecuteTime": {
     "end_time": "2022-10-20T21:37:07.604761Z",
     "start_time": "2022-10-20T21:37:07.604761Z"
    },
    "hidden": true
   },
   "outputs": [],
   "source": [
    "# test = row[['BlackIsComp', 'WhiteIsComp']].copy()\n",
    "# type(test) # series"
   ]
  },
  {
   "cell_type": "code",
   "execution_count": null,
   "id": "647ac9ec",
   "metadata": {
    "ExecuteTime": {
     "end_time": "2022-10-20T21:37:07.604761Z",
     "start_time": "2022-10-20T21:37:07.604761Z"
    },
    "hidden": true,
    "scrolled": true
   },
   "outputs": [],
   "source": [
    "# row[['BlackIsComp', 'WhiteIsComp']] = ['yes', 'no'] # SettingWithCopyWarning: A value is trying to be set on a copy of a slice from a DataFrame"
   ]
  },
  {
   "cell_type": "code",
   "execution_count": null,
   "id": "8a36e2f2",
   "metadata": {
    "ExecuteTime": {
     "end_time": "2022-10-20T21:37:07.605759Z",
     "start_time": "2022-10-20T21:37:07.605759Z"
    },
    "hidden": true
   },
   "outputs": [],
   "source": [
    "# row[['BlackIsComp', 'WhiteIsComp']] "
   ]
  },
  {
   "cell_type": "markdown",
   "id": "2690d495",
   "metadata": {
    "heading_collapsed": true
   },
   "source": [
    "## Editing Chess NaN Checker helper:"
   ]
  },
  {
   "cell_type": "code",
   "execution_count": null,
   "id": "79627073",
   "metadata": {
    "ExecuteTime": {
     "end_time": "2022-10-20T21:37:07.606757Z",
     "start_time": "2022-10-20T21:37:07.606757Z"
    },
    "hidden": true
   },
   "outputs": [],
   "source": [
    "# def chess_nan_checker(df, list_of_cols=['BlackIsComp', 'WhiteIsComp']): \n",
    "#     '''\n",
    "#     checks for nan values in the dataframe\n",
    "\n",
    "#     Args:\n",
    "#         df (DataFrame): Pandas dataframe\n",
    "#         list_of_cols (List): List of strings indicating what columns to ignore\n",
    "\n",
    "#     Returns:\n",
    "#         summary (String): returns a summary of nan values\n",
    "#     '''\n",
    "\n",
    "#     assert all([col in df.columns for col in list_of_cols]), f'Passed dataframe does not contain {list_of_cols}'   \n",
    "    \n",
    "#     # are there any nan values?\n",
    "#     any_nan = all(\n",
    "#         df[[x for x in df.columns if x not in list_of_cols]].notna()\n",
    "#     ) # returns True if all values are not NaN\n",
    "#     if any_nan == True:\n",
    "#         return print(f\"This dataframe has 0 NaN values in columns: {list(df[[x for x in df.columns if x not in list_of_cols]].columns)}\")\n",
    "        \n",
    "#     # how many?\n",
    "#     nan_series = df.isna().sum()\n",
    "#     nan_num = nan_series.sum()\n",
    "\n",
    "#     # which variables do they come from\n",
    "\n",
    "#     # list_of_nan_column_loc = \\\n",
    "#     #     [ [df[column], df[column].isna().sum()] for \\\n",
    "#     #         column in df.columns ]\n",
    "\n",
    "#     nan_cols = list(nan_series[nan_series > 0].index)\n",
    "\n",
    "#     # any variables with more than 50% of data missing?\n",
    "#     big_nan_cols = list(nan_series[nan_series/len(df) > 0.5])\n",
    "    \n",
    "#     #summary can be all the info about nans\n",
    "#     summary = f'This dataframe has {nan_num} NaN values'\n",
    "\n",
    "#     if len(nan_cols) > 0:\n",
    "#         summary += f'\\nThe NaN values come from: {nan_cols}'\n",
    "\n",
    "#     if len(big_nan_cols) > 0:\n",
    "#         summary += f'\\nMore than 50% of the data is missing from: {big_nan_cols}'\n",
    "\n",
    "#     return print(summary)"
   ]
  },
  {
   "cell_type": "code",
   "execution_count": null,
   "id": "6ed7fb6d",
   "metadata": {
    "ExecuteTime": {
     "end_time": "2022-10-20T21:37:07.608751Z",
     "start_time": "2022-10-20T21:37:07.608751Z"
    },
    "hidden": true
   },
   "outputs": [],
   "source": [
    "# Testing assertion error of nan_checker\n",
    "\n",
    "# test_list_of_cols = df.copy()\n",
    "# test_list_of_cols.drop(columns='BlackIsComp', inplace=True)\n",
    "\n",
    "# list_of_cols = ['BlackIsComp', 'WhiteIsComp']\n",
    "\n",
    "# assert all([col in test_list_of_cols.columns for col in list_of_cols]), f'Passed dataframe does not contain {list_of_cols}'\n",
    "\n",
    "# any_nan = all(\n",
    "#     df[[x for x in test_list_of_cols.columns if x not in list_of_cols]].notna()\n",
    "# ) # returns True if all values are not NaN\n",
    "# if any_nan == True:\n",
    "# #     return \n",
    "#     print(f\"This dataframe has 0 NaN values in columns: {list(test_list_of_cols[[x for x in df.columns if x not in list_of_cols]].columns)}\")"
   ]
  },
  {
   "cell_type": "markdown",
   "id": "05918b43",
   "metadata": {
    "heading_collapsed": true
   },
   "source": [
    "## Figuring out how to get average time per ply (average emt) for each player helper:"
   ]
  },
  {
   "cell_type": "code",
   "execution_count": null,
   "id": "5e006d41",
   "metadata": {
    "hidden": true
   },
   "outputs": [],
   "source": []
  },
  {
   "cell_type": "code",
   "execution_count": null,
   "id": "d20cef18",
   "metadata": {
    "hidden": true
   },
   "outputs": [],
   "source": []
  },
  {
   "cell_type": "code",
   "execution_count": null,
   "id": "4422ac70",
   "metadata": {
    "hidden": true
   },
   "outputs": [],
   "source": []
  },
  {
   "cell_type": "markdown",
   "id": "28209127",
   "metadata": {
    "hidden": true
   },
   "source": [
    "------"
   ]
  },
  {
   "cell_type": "markdown",
   "id": "85017a4e",
   "metadata": {
    "heading_collapsed": true
   },
   "source": [
    "## Checking PlyCount matches length of moves"
   ]
  },
  {
   "cell_type": "code",
   "execution_count": null,
   "id": "cc31cc4c",
   "metadata": {
    "hidden": true
   },
   "outputs": [],
   "source": []
  },
  {
   "cell_type": "code",
   "execution_count": null,
   "id": "8fdb8b16",
   "metadata": {
    "ExecuteTime": {
     "end_time": "2022-10-24T16:34:04.558617Z",
     "start_time": "2022-10-24T16:34:04.550645Z"
    },
    "hidden": true
   },
   "outputs": [],
   "source": [
    "# Testing:\n",
    "#--#"
   ]
  },
  {
   "cell_type": "code",
   "execution_count": null,
   "id": "4ed03291",
   "metadata": {
    "ExecuteTime": {
     "end_time": "2022-10-24T15:51:07.192806Z",
     "start_time": "2022-10-24T15:51:07.184806Z"
    },
    "hidden": true
   },
   "outputs": [],
   "source": [
    "# np.where(next(zip(...,...))) way: [from previous tinkering]\n",
    "#\n",
    "#\n",
    "# nocomp_df['NoComp'] = np.where(next(zip(nocomp_df['WhiteIsComp'], nocomp_df['BlackIsComp']))==(0, 0), \n",
    "#                                np.int8(1),\n",
    "#                                np.int8(0))\n",
    "#\n",
    "# but maybe it doesn't work here; how can I check if each part is equal to it's respective counterpart?\n",
    "# by calling the 'next(..)' twice and indexing each one?\n",
    "# ==> not possible as it only ever takes the first component of the zip\n",
    "\n",
    "# need to know what the next(zip(...,...)) returns (i.e. what does indexing only once give? is it a list?)...\n",
    "# ...done below"
   ]
  },
  {
   "cell_type": "code",
   "execution_count": null,
   "id": "401fffee",
   "metadata": {
    "ExecuteTime": {
     "end_time": "2022-10-24T16:07:21.012873Z",
     "start_time": "2022-10-24T16:07:21.004906Z"
    },
    "hidden": true
   },
   "outputs": [],
   "source": [
    "# test_ = next(zip(df_2022_2018_CvH_distinv.moves, df_2022_2018_CvH_distinv.PlyCount))\n",
    "# display(test_)\n",
    "# display(test_[0]) \n",
    "# display(type(test_[0])) # list\n",
    "# display(len(test_[0])) # 53\n",
    "# display(test_[1]) #53\n",
    "# display(type(test_[1])) # int"
   ]
  },
  {
   "cell_type": "code",
   "execution_count": null,
   "id": "579e800c",
   "metadata": {
    "ExecuteTime": {
     "end_time": "2022-10-24T16:25:54.687653Z",
     "start_time": "2022-10-24T16:25:54.680656Z"
    },
    "hidden": true
   },
   "outputs": [],
   "source": [
    "# # sanity check of is the np.where(next(zip())) doing what I think it's doing?\n",
    "\n",
    "# df_2022_2018_CvH_distinv['testing_method'] = np.where(next(zip(df_2022_2018_CvH_distinv['WhiteIsComp'],\n",
    "#                                                                df_2022_2018_CvH_distinv['BlackIsComp']))==(0, 0),\n",
    "#                                                       np.int8(1),\n",
    "#                                                       np.int8(0))\n",
    "\n",
    "# all(df_2022_2018_CvH_distinv['testing_method']==df_2022_2018_CvH_distinv['NoComp']) # True\n",
    "\n",
    "\n",
    "# df_2022_2018_HvH.head(1)\n",
    "\n",
    "# df_2022_2018_HvH['testing_method'] = np.where(next(zip(df_2022_2018_HvH['WhiteIsComp'],\n",
    "#                                                                df_2022_2018_HvH['BlackIsComp']))==(0, 0),\n",
    "#                                                       np.int8(1),\n",
    "#                                                       np.int8(0))\n",
    "\n",
    "# all(df_2022_2018_HvH['testing_method']==df_2022_2018_HvH['NoComp']) # True\n",
    "\n",
    "\n",
    "# # Seems like it...."
   ]
  },
  {
   "cell_type": "code",
   "execution_count": null,
   "id": "7cde7ef6",
   "metadata": {
    "ExecuteTime": {
     "end_time": "2022-10-24T16:25:55.869949Z",
     "start_time": "2022-10-24T16:25:55.861948Z"
    },
    "hidden": true
   },
   "outputs": [],
   "source": [
    "# display([next(zip(df_2022_2018_CvH_distinv.moves, df_2022_2018_CvH_distinv.PlyCount))[0], \n",
    "#         next(zip(df_2022_2018_CvH_distinv.moves, df_2022_2018_CvH_distinv.PlyCount))[1]])\n",
    "\n",
    "# display([len(next(zip(df_2022_2018_CvH_distinv.moves, df_2022_2018_CvH_distinv.PlyCount))[0]), \n",
    "#         next(zip(df_2022_2018_CvH_distinv.moves, df_2022_2018_CvH_distinv.PlyCount))[1]]) # [53, 53]\n",
    "\n",
    "# df_2022_2018_CvH_distinv['testing_method'] = np.where(\n",
    "#     len(next(zip(df_2022_2018_CvH_distinv.moves, df_2022_2018_CvH_distinv.PlyCount))[0])==\\\n",
    "#         next(zip(df_2022_2018_CvH_distinv.moves, df_2022_2018_CvH_distinv.PlyCount))[1],\n",
    "#     len(next(zip(df_2022_2018_CvH_distinv.moves, df_2022_2018_CvH_distinv.PlyCount))[0]),\n",
    "#     next(zip(df_2022_2018_CvH_distinv.moves, df_2022_2018_CvH_distinv.PlyCount))[1])\n",
    "# # the above ends up returning a series of all 53, which is wrong\n",
    "\n",
    "# df_2022_2018_CvH_distinv['testing_method'] = np.where(\n",
    "#     len(next(zip(df_2022_2018_CvH_distinv.moves, df_2022_2018_CvH_distinv.PlyCount))[0])==\\\n",
    "#         next(zip(df_2022_2018_CvH_distinv.moves, df_2022_2018_CvH_distinv.PlyCount))[1], True, False)\n",
    "\n",
    "# df_2022_2018_CvH_distinv['testing_method']"
   ]
  },
  {
   "cell_type": "code",
   "execution_count": null,
   "id": "43f09354",
   "metadata": {
    "ExecuteTime": {
     "end_time": "2022-10-24T16:26:43.152343Z",
     "start_time": "2022-10-24T16:26:43.137377Z"
    },
    "hidden": true
   },
   "outputs": [],
   "source": [
    "# Conclusion of above is that it is not possible to compare length of moves and PlyCount in this way (i.e. \n",
    "# by calling next(zip(...,...))) multiple times"
   ]
  },
  {
   "cell_type": "code",
   "execution_count": null,
   "id": "579a4698",
   "metadata": {
    "ExecuteTime": {
     "end_time": "2022-10-24T16:28:01.952049Z",
     "start_time": "2022-10-24T16:28:01.943980Z"
    },
    "hidden": true
   },
   "outputs": [],
   "source": [
    "#--#"
   ]
  },
  {
   "cell_type": "code",
   "execution_count": null,
   "id": "bdad6325",
   "metadata": {
    "ExecuteTime": {
     "end_time": "2022-10-24T15:51:07.192806Z",
     "start_time": "2022-10-24T15:51:07.184806Z"
    },
    "hidden": true
   },
   "outputs": [],
   "source": [
    "# list comprehension for element in zip() way: !fastest of these tested methods!\n",
    "#\n",
    "#\n",
    "# all([len(row[0])==row[1] for row in zip(...,...)])\n"
   ]
  },
  {
   "cell_type": "code",
   "execution_count": null,
   "id": "8da6d41f",
   "metadata": {
    "ExecuteTime": {
     "end_time": "2022-10-24T16:29:13.871457Z",
     "start_time": "2022-10-24T16:29:13.854619Z"
    },
    "hidden": true
   },
   "outputs": [],
   "source": [
    "# [row for row in zip(df_2022_2018_CvH_distinv.moves, df_2022_2018_CvH_distinv.PlyCount)]"
   ]
  },
  {
   "cell_type": "code",
   "execution_count": null,
   "id": "019d22ce",
   "metadata": {
    "ExecuteTime": {
     "end_time": "2022-10-24T16:36:19.285728Z",
     "start_time": "2022-10-24T16:36:19.268760Z"
    },
    "hidden": true
   },
   "outputs": [],
   "source": [
    "# df_2022_2018_CvH_distinv['testing_method'] = \\\n",
    "# [[len(row[0]), row[1]] for row in zip(df_2022_2018_CvH_distinv.moves, df_2022_2018_CvH_distinv.PlyCount)]\n",
    "\n",
    "# df_2022_2018_CvH_distinv['testing_method'].head()\n",
    "\n",
    "# # 0    [53, 53]\n",
    "# # 1    [50, 50]\n",
    "# # 2    [45, 45]\n",
    "# # 3    [42, 42]\n",
    "# # 4    [36, 36]"
   ]
  },
  {
   "cell_type": "code",
   "execution_count": null,
   "id": "328e8518",
   "metadata": {
    "ExecuteTime": {
     "end_time": "2022-10-24T16:32:20.343605Z",
     "start_time": "2022-10-24T16:32:20.259498Z"
    },
    "hidden": true
   },
   "outputs": [],
   "source": [
    "# %%timeit # 69 ms ± 580 µs per loop (mean ± std. dev. of 7 runs, 10 loops each)\n",
    "\n",
    "# all([len(row[0])==row[1] for row in zip(df_2022_2018_CvH_distinv.moves, df_2022_2018_CvH_distinv.PlyCount)]) # True"
   ]
  },
  {
   "cell_type": "code",
   "execution_count": null,
   "id": "ecedb5cb",
   "metadata": {
    "ExecuteTime": {
     "end_time": "2022-10-24T16:27:54.933653Z",
     "start_time": "2022-10-24T16:27:54.925653Z"
    },
    "hidden": true
   },
   "outputs": [],
   "source": [
    "#--#"
   ]
  },
  {
   "cell_type": "code",
   "execution_count": null,
   "id": "db5735f2",
   "metadata": {
    "ExecuteTime": {
     "end_time": "2022-10-24T16:35:32.853576Z",
     "start_time": "2022-10-24T16:35:32.841610Z"
    },
    "hidden": true
   },
   "outputs": [],
   "source": [
    "# list comprehension with:\n",
    "#\n",
    "# [len(df.iloc[index].moves)==df.iloc[index].PlyCount[0] for index in range(df.shape[0])]\n",
    "#\n",
    "# make sure that df.iloc[index] does in fact return the whole row ==> it does"
   ]
  },
  {
   "cell_type": "code",
   "execution_count": null,
   "id": "49e3adb4",
   "metadata": {
    "ExecuteTime": {
     "end_time": "2022-10-24T16:35:34.321155Z",
     "start_time": "2022-10-24T16:35:34.314135Z"
    },
    "hidden": true
   },
   "outputs": [],
   "source": [
    "# type(df_2022_2018_CvH_distinv.iloc[0].moves) # list !!!\n",
    "# len(df_2022_2018_CvH_distinv.iloc[0].moves) # 53\n",
    "# df_2022_2018_CvH_distinv.iloc[0].PlyCount # 53"
   ]
  },
  {
   "cell_type": "code",
   "execution_count": null,
   "id": "a860e528",
   "metadata": {
    "ExecuteTime": {
     "end_time": "2022-10-24T15:58:49.369705Z",
     "start_time": "2022-10-24T15:58:07.223712Z"
    },
    "hidden": true
   },
   "outputs": [],
   "source": [
    "# %%timeit # 42.2 s ± 266 ms per loop (mean ± std. dev. of 7 runs, 1 loop each)\n",
    "\n",
    "# list comp method using index:\n",
    "\n",
    "# ply_movelen_check_list = [len(df_2022_2018_CvH_distinv.iloc[index].moves)==\\\n",
    "#                           df_2022_2018_CvH_distinv.iloc[index].PlyCount for \\\n",
    "#                           index in range(df_2022_2018_CvH_distinv.shape[0])]\n",
    "\n",
    "# all([len(df_2022_2018_CvH_distinv.iloc[index].moves)==\\\n",
    "#      df_2022_2018_CvH_distinv.iloc[index].PlyCount for \\\n",
    "#      index in range(df_2022_2018_CvH_distinv.shape[0])]) # True"
   ]
  },
  {
   "cell_type": "code",
   "execution_count": null,
   "id": "5f5f5852",
   "metadata": {
    "ExecuteTime": {
     "end_time": "2022-10-24T15:51:20.931052Z",
     "start_time": "2022-10-24T15:51:20.913045Z"
    },
    "hidden": true
   },
   "outputs": [],
   "source": [
    "# all(ply_movelen_check_list) # True - all the PlyCounts do match the number of ply in moves"
   ]
  },
  {
   "cell_type": "code",
   "execution_count": null,
   "id": "1d7e44a0",
   "metadata": {
    "ExecuteTime": {
     "end_time": "2022-10-24T16:33:40.940678Z",
     "start_time": "2022-10-24T16:33:40.937678Z"
    },
    "hidden": true
   },
   "outputs": [],
   "source": [
    "#--#"
   ]
  },
  {
   "cell_type": "code",
   "execution_count": null,
   "id": "f6a6a372",
   "metadata": {
    "hidden": true
   },
   "outputs": [],
   "source": []
  },
  {
   "cell_type": "code",
   "execution_count": null,
   "id": "42fc652b",
   "metadata": {
    "hidden": true
   },
   "outputs": [],
   "source": []
  },
  {
   "cell_type": "code",
   "execution_count": null,
   "id": "f70b1c2a",
   "metadata": {
    "hidden": true
   },
   "outputs": [],
   "source": []
  },
  {
   "cell_type": "markdown",
   "id": "a2aa1421",
   "metadata": {
    "hidden": true
   },
   "source": [
    "----"
   ]
  },
  {
   "cell_type": "code",
   "execution_count": null,
   "id": "688818ca",
   "metadata": {
    "hidden": true
   },
   "outputs": [],
   "source": []
  }
 ],
 "metadata": {
  "kernelspec": {
   "display_name": "capstone_env",
   "language": "python",
   "name": "capstone_env"
  },
  "language_info": {
   "codemirror_mode": {
    "name": "ipython",
    "version": 3
   },
   "file_extension": ".py",
   "mimetype": "text/x-python",
   "name": "python",
   "nbconvert_exporter": "python",
   "pygments_lexer": "ipython3",
   "version": "3.9.13"
  },
  "toc": {
   "base_numbering": 1,
   "nav_menu": {},
   "number_sections": true,
   "sideBar": true,
   "skip_h1_title": false,
   "title_cell": "Table of Contents",
   "title_sidebar": "Contents",
   "toc_cell": false,
   "toc_position": {
    "height": "calc(100% - 180px)",
    "left": "10px",
    "top": "150px",
    "width": "512px"
   },
   "toc_section_display": true,
   "toc_window_display": false
  }
 },
 "nbformat": 4,
 "nbformat_minor": 5
}
