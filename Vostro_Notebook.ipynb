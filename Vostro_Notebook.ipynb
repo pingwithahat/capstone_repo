{
 "cells": [
  {
   "cell_type": "markdown",
   "id": "65f2a87d",
   "metadata": {},
   "source": [
    "# Example of Contents for Loading and Cleaning\n",
    "\n",
    "### Introduction\n",
    "\n",
    "#### Problem Statement\n",
    "\n",
    "#### Data Collection\n",
    "\n",
    "\n",
    "### Loading & Checking\n",
    "\n",
    "#### Data and Column Descriptions\n",
    "\n",
    "\n",
    "### Investigate Columns\n",
    "\n",
    "#### Correcting Data Types\n",
    "\n",
    "#### Remove Null Values?\n",
    "\n",
    "\n",
    "### Creating Features \n",
    "\n",
    "#### Time per ply/move\n",
    "\n",
    "#### Average time per ply"
   ]
  },
  {
   "cell_type": "markdown",
   "id": "461f60f6",
   "metadata": {},
   "source": [
    "# EDA Contents \n",
    "\n",
    "## 'Placeholder'"
   ]
  },
  {
   "cell_type": "markdown",
   "id": "d564d563",
   "metadata": {},
   "source": [
    "# WIP"
   ]
  },
  {
   "cell_type": "markdown",
   "id": "2360f76e",
   "metadata": {},
   "source": [
    "## Imports"
   ]
  },
  {
   "cell_type": "code",
   "execution_count": 1,
   "id": "86a6145f",
   "metadata": {
    "ExecuteTime": {
     "end_time": "2022-10-20T15:56:50.546351Z",
     "start_time": "2022-10-20T15:56:48.969624Z"
    }
   },
   "outputs": [],
   "source": [
    "import sys\n",
    "import numpy as np\n",
    "import pandas as pd\n",
    "import matplotlib.pyplot as plt\n",
    "import chess\n",
    "import io\n",
    "import sys\n",
    "import chess.pgn\n",
    "from io import StringIO\n",
    "import seaborn as sns\n",
    "\n",
    "# # import plotly.express as px\n",
    "# import plotly.graph_objects as go\n",
    "\n",
    "\n",
    "%matplotlib inline\n",
    "\n",
    "import joblib\n",
    "\n",
    "# import pickle\n",
    "# from sklearn.utils import shuffle\n",
    "# import gc\n",
    "# import logging\n"
   ]
  },
  {
   "cell_type": "code",
   "execution_count": 115,
   "id": "8c992c2d",
   "metadata": {
    "ExecuteTime": {
     "end_time": "2022-10-20T16:10:39.789302Z",
     "start_time": "2022-10-20T16:10:39.686309Z"
    }
   },
   "outputs": [],
   "source": [
    "import re\n",
    "from sklearn.preprocessing import OneHotEncoder\n",
    "from sklearn.model_selection import train_test_split, cross_val_score, GridSearchCV \n",
    "from sklearn.preprocessing import StandardScaler, MinMaxScaler\n",
    "from sklearn.linear_model import LogisticRegression\n",
    "from sklearn.svm import SVC\n",
    "from sklearn.tree import DecisionTreeClassifier, plot_tree\n",
    "from sklearn.neighbors import KNeighborsClassifier\n",
    "from sklearn.decomposition import PCA\n",
    "from tempfile import mkdtemp\n",
    "from sklearn.pipeline import Pipeline\n",
    "# from sklearn.pipeline import FeatureUnion\n",
    "from sklearn.compose import ColumnTransformer\n",
    "from sklearn.metrics import classification_report, plot_confusion_matrix, confusion_matrix,\\\n",
    "                            make_scorer, accuracy_score, f1_score"
   ]
  },
  {
   "cell_type": "markdown",
   "id": "304c08f5",
   "metadata": {},
   "source": [
    "###### helpers"
   ]
  },
  {
   "cell_type": "code",
   "execution_count": 2,
   "id": "9ff9ff09",
   "metadata": {
    "ExecuteTime": {
     "end_time": "2022-10-20T15:56:50.562246Z",
     "start_time": "2022-10-20T15:56:50.548283Z"
    }
   },
   "outputs": [],
   "source": [
    "import detecting_cheaters_in_chess_helpers as hp"
   ]
  },
  {
   "cell_type": "markdown",
   "id": "45666345",
   "metadata": {},
   "source": [
    "['Event', 'Site', 'Date', 'Round', 'White', 'Black', 'Result',\n",
    "       'BlackClock', 'BlackElo', 'BlackIsComp', 'BlackRD', 'ECO',\n",
    "       'FICSGamesDBGameNo', 'PlyCount', 'Time', 'TimeControl', 'WhiteClock',\n",
    "       'WhiteElo', 'WhiteRD', 'emt', 'moves', 'WhiteIsComp', 'NoComp']"
   ]
  },
  {
   "cell_type": "markdown",
   "id": "ee86e032",
   "metadata": {},
   "source": [
    "## WIP:"
   ]
  },
  {
   "cell_type": "markdown",
   "id": "3fb256ae",
   "metadata": {
    "heading_collapsed": true
   },
   "source": [
    "### DFs, Pickles, Checks"
   ]
  },
  {
   "cell_type": "markdown",
   "id": "4eff8b12",
   "metadata": {
    "heading_collapsed": true,
    "hidden": true
   },
   "source": [
    "#### Many pickles (or json)"
   ]
  },
  {
   "cell_type": "markdown",
   "id": "da1f7f2f",
   "metadata": {
    "heading_collapsed": true,
    "hidden": true
   },
   "source": [
    "##### 2022"
   ]
  },
  {
   "cell_type": "code",
   "execution_count": 3,
   "id": "775f6370",
   "metadata": {
    "ExecuteTime": {
     "end_time": "2022-10-20T15:56:50.578469Z",
     "start_time": "2022-10-20T15:56:50.563901Z"
    },
    "hidden": true
   },
   "outputs": [],
   "source": [
    "# raw_2022_list = [pd.read_json(\n",
    "#     f'C:/Users/MaNiL/Desktop/data/capstone/raw/json/2022/ficsgamesdb_20220{num-17}_CvH_movetimes_2648{num}.json') for num in \\\n",
    "#                 range(18, 27)]"
   ]
  },
  {
   "cell_type": "code",
   "execution_count": 4,
   "id": "c79b60e8",
   "metadata": {
    "ExecuteTime": {
     "end_time": "2022-10-20T15:56:50.593779Z",
     "start_time": "2022-10-20T15:56:50.581411Z"
    },
    "hidden": true
   },
   "outputs": [],
   "source": [
    "# raw_2022_list[0].head(1)"
   ]
  },
  {
   "cell_type": "code",
   "execution_count": 5,
   "id": "60258d3a",
   "metadata": {
    "ExecuteTime": {
     "end_time": "2022-10-20T15:56:50.609285Z",
     "start_time": "2022-10-20T15:56:50.596765Z"
    },
    "hidden": true
   },
   "outputs": [],
   "source": [
    "# raw_2022 = pd.concat(raw_2022_list).reset_index(drop=True)\n",
    "# raw_2022.shape"
   ]
  },
  {
   "cell_type": "code",
   "execution_count": 6,
   "id": "7dc21035",
   "metadata": {
    "ExecuteTime": {
     "end_time": "2022-10-20T15:56:50.625330Z",
     "start_time": "2022-10-20T15:56:50.611321Z"
    },
    "hidden": true
   },
   "outputs": [],
   "source": [
    "# # pickle 2022\n",
    "# joblib.dump(raw_2022, 'C:/Users/MaNiL/Desktop/data/capstone/preprocessed/2022_CvH.pkl')"
   ]
  },
  {
   "cell_type": "markdown",
   "id": "e12b0909",
   "metadata": {
    "heading_collapsed": true,
    "hidden": true
   },
   "source": [
    "##### 2021 and 2020"
   ]
  },
  {
   "cell_type": "code",
   "execution_count": 7,
   "id": "fdda8d6d",
   "metadata": {
    "ExecuteTime": {
     "end_time": "2022-10-20T15:56:50.640881Z",
     "start_time": "2022-10-20T15:56:50.627323Z"
    },
    "hidden": true
   },
   "outputs": [],
   "source": [
    "# raw_2021 = joblib.load('./data/2021_CvH.pkl')"
   ]
  },
  {
   "cell_type": "code",
   "execution_count": 8,
   "id": "081c7354",
   "metadata": {
    "ExecuteTime": {
     "end_time": "2022-10-20T15:56:50.656739Z",
     "start_time": "2022-10-20T15:56:50.642815Z"
    },
    "hidden": true
   },
   "outputs": [],
   "source": [
    "# raw_2020 = joblib.load('./data/2020_CvH.pkl')"
   ]
  },
  {
   "cell_type": "markdown",
   "id": "1eb2f2d1",
   "metadata": {
    "heading_collapsed": true,
    "hidden": true
   },
   "source": [
    "##### 2019 and 2018"
   ]
  },
  {
   "cell_type": "code",
   "execution_count": 9,
   "id": "f7dcb01f",
   "metadata": {
    "ExecuteTime": {
     "end_time": "2022-10-20T15:56:50.672865Z",
     "start_time": "2022-10-20T15:56:50.659758Z"
    },
    "hidden": true
   },
   "outputs": [],
   "source": [
    "# raw_2019_2018_list = [pd.read_json(\n",
    "#     f'C:/Users/MaNiL/Desktop/data/capstone/raw/json/{year}/ficsgamesdb_{year}_CvH_movetimes_2648{val}.json')\\\n",
    "#                       for year, val in zip(['2019', '2018'], ['15', '16'])]"
   ]
  },
  {
   "cell_type": "code",
   "execution_count": 10,
   "id": "d2248213",
   "metadata": {
    "ExecuteTime": {
     "end_time": "2022-10-20T15:56:50.688050Z",
     "start_time": "2022-10-20T15:56:50.674889Z"
    },
    "hidden": true
   },
   "outputs": [],
   "source": [
    "# raw_2019_2018_list[0].head(1)"
   ]
  },
  {
   "cell_type": "code",
   "execution_count": 11,
   "id": "7e3a67bc",
   "metadata": {
    "ExecuteTime": {
     "end_time": "2022-10-20T15:56:50.703210Z",
     "start_time": "2022-10-20T15:56:50.690049Z"
    },
    "hidden": true,
    "scrolled": true
   },
   "outputs": [],
   "source": [
    "# raw_2019_2018_list[1].head(1)"
   ]
  },
  {
   "cell_type": "code",
   "execution_count": 12,
   "id": "514ef614",
   "metadata": {
    "ExecuteTime": {
     "end_time": "2022-10-20T15:56:50.719025Z",
     "start_time": "2022-10-20T15:56:50.705178Z"
    },
    "hidden": true
   },
   "outputs": [],
   "source": [
    "# raw_2019_2018 = pd.concat(raw_2019_2018_list).reset_index(drop=True)"
   ]
  },
  {
   "cell_type": "code",
   "execution_count": 13,
   "id": "142106a4",
   "metadata": {
    "ExecuteTime": {
     "end_time": "2022-10-20T15:56:50.733762Z",
     "start_time": "2022-10-20T15:56:50.721073Z"
    },
    "hidden": true
   },
   "outputs": [],
   "source": [
    "# # # pickle 2019 and 2018\n",
    "# joblib.dump(raw_2019_2018_list[0], 'C:/Users/MaNiL/Desktop/data/capstone/preprocessed/2019_CvH.pkl')\n",
    "# joblib.dump(raw_2019_2018_list[1], 'C:/Users/MaNiL/Desktop/data/capstone/preprocessed/2018_CvH.pkl')"
   ]
  },
  {
   "cell_type": "code",
   "execution_count": null,
   "id": "1190cc9d",
   "metadata": {
    "hidden": true
   },
   "outputs": [],
   "source": []
  },
  {
   "cell_type": "markdown",
   "id": "380373e4",
   "metadata": {
    "heading_collapsed": true,
    "hidden": true
   },
   "source": [
    "#### Mass concatenation"
   ]
  },
  {
   "cell_type": "code",
   "execution_count": 14,
   "id": "b007b681",
   "metadata": {
    "ExecuteTime": {
     "end_time": "2022-10-20T15:56:50.748974Z",
     "start_time": "2022-10-20T15:56:50.740858Z"
    },
    "hidden": true
   },
   "outputs": [],
   "source": [
    "# raw_2022\n",
    "# raw_2021\n",
    "# raw_2020\n",
    "# raw_2019_2018"
   ]
  },
  {
   "cell_type": "code",
   "execution_count": null,
   "id": "fef25f65",
   "metadata": {
    "hidden": true
   },
   "outputs": [],
   "source": []
  },
  {
   "cell_type": "code",
   "execution_count": 15,
   "id": "5ee552ce",
   "metadata": {
    "ExecuteTime": {
     "end_time": "2022-10-20T15:56:50.764869Z",
     "start_time": "2022-10-20T15:56:50.749991Z"
    },
    "hidden": true
   },
   "outputs": [],
   "source": [
    "# # on vostro laptop\n",
    "# raw_pickle_list = [joblib.load(f'C:/Users/MaNiL/Desktop/data/capstone/preprocessed/{year}_CvH.pkl') for \\\n",
    "#          year in np.arange(2022, 2017, -1)] # load the pickles from 2022 to 2018 inclusive"
   ]
  },
  {
   "cell_type": "code",
   "execution_count": 16,
   "id": "690e92e6",
   "metadata": {
    "ExecuteTime": {
     "end_time": "2022-10-20T15:56:50.780249Z",
     "start_time": "2022-10-20T15:56:50.767690Z"
    },
    "hidden": true
   },
   "outputs": [],
   "source": [
    "# sum([df_.shape[0] for df_ in raw_pickle_list])==pd.concat(raw_pickle_list).shape[0]"
   ]
  },
  {
   "cell_type": "code",
   "execution_count": 17,
   "id": "1a071d2a",
   "metadata": {
    "ExecuteTime": {
     "end_time": "2022-10-20T15:56:50.796291Z",
     "start_time": "2022-10-20T15:56:50.783179Z"
    },
    "hidden": true
   },
   "outputs": [],
   "source": [
    "# big_df = hp.concatenate_cleaned_pickles(raw_pickle_list)"
   ]
  },
  {
   "cell_type": "code",
   "execution_count": 18,
   "id": "dbbfe97d",
   "metadata": {
    "ExecuteTime": {
     "end_time": "2022-10-20T15:56:50.811333Z",
     "start_time": "2022-10-20T15:56:50.800294Z"
    },
    "hidden": true
   },
   "outputs": [],
   "source": [
    "# X, y = hp.X_y_split_simple(big_df)\n",
    "\n",
    "# y = hp.y_convert_to_ohe_vec(y)"
   ]
  },
  {
   "cell_type": "code",
   "execution_count": 19,
   "id": "d839489b",
   "metadata": {
    "ExecuteTime": {
     "end_time": "2022-10-20T15:56:50.826349Z",
     "start_time": "2022-10-20T15:56:50.813326Z"
    },
    "hidden": true
   },
   "outputs": [],
   "source": [
    "# y.head()"
   ]
  },
  {
   "cell_type": "markdown",
   "id": "6734689f",
   "metadata": {
    "hidden": true
   },
   "source": [
    "-----"
   ]
  },
  {
   "cell_type": "markdown",
   "id": "01efeb74",
   "metadata": {
    "heading_collapsed": true,
    "hidden": true
   },
   "source": [
    "#### Mass concatenation test"
   ]
  },
  {
   "cell_type": "markdown",
   "id": "d81b78d3",
   "metadata": {
    "heading_collapsed": true,
    "hidden": true
   },
   "source": [
    "##### Only 2022"
   ]
  },
  {
   "cell_type": "code",
   "execution_count": 20,
   "id": "cbd064ae",
   "metadata": {
    "ExecuteTime": {
     "end_time": "2022-10-20T15:56:50.841586Z",
     "start_time": "2022-10-20T15:56:50.828354Z"
    },
    "hidden": true
   },
   "outputs": [],
   "source": [
    "# raw_2022 = joblib.load('C:/Users/MaNiL/Desktop/data/capstone/preprocessed/2022_CvH.pkl')"
   ]
  },
  {
   "cell_type": "code",
   "execution_count": 21,
   "id": "b04e6383",
   "metadata": {
    "ExecuteTime": {
     "end_time": "2022-10-20T15:56:50.856285Z",
     "start_time": "2022-10-20T15:56:50.842507Z"
    },
    "hidden": true
   },
   "outputs": [],
   "source": [
    "# raw_2022 = hp.change_comp_columns(raw_2022)"
   ]
  },
  {
   "cell_type": "code",
   "execution_count": 22,
   "id": "af994e71",
   "metadata": {
    "ExecuteTime": {
     "end_time": "2022-10-20T15:56:50.871371Z",
     "start_time": "2022-10-20T15:56:50.857272Z"
    },
    "hidden": true
   },
   "outputs": [],
   "source": [
    "# raw_2022 = raw_2022.drop(columns=['Taco'])\n",
    "# KeyError: \"['Taco'] not found in axis\"\n"
   ]
  },
  {
   "cell_type": "code",
   "execution_count": 23,
   "id": "d77e4dcb",
   "metadata": {
    "ExecuteTime": {
     "end_time": "2022-10-20T15:56:50.886438Z",
     "start_time": "2022-10-20T15:56:50.872410Z"
    },
    "hidden": true
   },
   "outputs": [],
   "source": [
    "# def X_y_split_simple(df):\n",
    "#     X_ = df.drop(columns=['WhiteIsComp', 'BlackIsComp', 'NoComp'])\n",
    "#     y_ = df.loc[:,['WhiteIsComp', 'BlackIsComp', 'NoComp']]\n",
    "#     return X_, y_"
   ]
  },
  {
   "cell_type": "code",
   "execution_count": 24,
   "id": "5d66e6b5",
   "metadata": {
    "ExecuteTime": {
     "end_time": "2022-10-20T15:56:50.902526Z",
     "start_time": "2022-10-20T15:56:50.889554Z"
    },
    "hidden": true,
    "scrolled": true
   },
   "outputs": [],
   "source": [
    "# X_, y_ = hp.X_y_split_simple(raw_2022)"
   ]
  },
  {
   "cell_type": "code",
   "execution_count": 25,
   "id": "4916dacd",
   "metadata": {
    "ExecuteTime": {
     "end_time": "2022-10-20T15:56:50.918630Z",
     "start_time": "2022-10-20T15:56:50.906711Z"
    },
    "hidden": true
   },
   "outputs": [],
   "source": [
    "# y_.head()"
   ]
  },
  {
   "cell_type": "code",
   "execution_count": 26,
   "id": "dad8a107",
   "metadata": {
    "ExecuteTime": {
     "end_time": "2022-10-20T15:56:50.934599Z",
     "start_time": "2022-10-20T15:56:50.920606Z"
    },
    "hidden": true
   },
   "outputs": [],
   "source": [
    "# y_ = hp.y_convert_to_ohe_vec(y_)\n",
    "# y_.head()"
   ]
  },
  {
   "cell_type": "code",
   "execution_count": 27,
   "id": "450db16e",
   "metadata": {
    "ExecuteTime": {
     "end_time": "2022-10-20T15:56:50.949928Z",
     "start_time": "2022-10-20T15:56:50.937896Z"
    },
    "hidden": true
   },
   "outputs": [],
   "source": [
    "# y_.shape"
   ]
  },
  {
   "cell_type": "code",
   "execution_count": null,
   "id": "1bcccfd8",
   "metadata": {
    "hidden": true
   },
   "outputs": [],
   "source": []
  },
  {
   "cell_type": "code",
   "execution_count": 28,
   "id": "caafaf2e",
   "metadata": {
    "ExecuteTime": {
     "end_time": "2022-10-20T15:56:50.965099Z",
     "start_time": "2022-10-20T15:56:50.952963Z"
    },
    "hidden": true
   },
   "outputs": [],
   "source": [
    "# def y_convert_to_ohe_vec(y):\n",
    "#     '''\n",
    "#     Note: Loss will have to be 'categorical_crossentropy' if y's are one-hot-encoded, 'sparse_categorical_crossentropy' if y's are integers.\n",
    "    \n",
    "#     If all games contain a cheater, return integers for y where:\n",
    "#         0 indicates white was cheating\n",
    "#         1 indicates black was cheating\n",
    "        \n",
    "#     If any games contain no cheaters, return one-hot-encoded arrays for y where:\n",
    "#         [1,0,0] indicates white was cheating\n",
    "#         [0,1,0] indicates black was cheating\n",
    "#         [0,0,1] indicates no-one was cheating\n",
    "        \n",
    "        \n",
    "#     Have a check for explicit 'options=3' where user can input options value, or check len(y.columns)==3\n",
    "#     '''\n",
    "#     if len(y.columns)==3:\n",
    "#         if all(y.NoComp==0):\n",
    "#             y_ = pd.DataFrame(np.where(y.WhiteIsComp==1, 0, 1), columns=['0_WhiteIsComp_1_BlackIsComp'])\n",
    "#             return y_\n",
    "#         else:\n",
    "#             y_ = pd.DataFrame([[row] for row in y.values], columns=['WhiteIsComp_BlackIsComp_NoComp'])\n",
    "#             return y_        \n",
    "#     else:\n",
    "#         return(print('Function only currently supporting y having WhiteIsComp, BlackIsComp, and NoComp'))"
   ]
  },
  {
   "cell_type": "code",
   "execution_count": 29,
   "id": "6967ce46",
   "metadata": {
    "ExecuteTime": {
     "end_time": "2022-10-20T15:56:50.980545Z",
     "start_time": "2022-10-20T15:56:50.967542Z"
    },
    "hidden": true
   },
   "outputs": [],
   "source": [
    "# all(y_.NoComp==0)"
   ]
  },
  {
   "cell_type": "code",
   "execution_count": 30,
   "id": "b139b70f",
   "metadata": {
    "ExecuteTime": {
     "end_time": "2022-10-20T15:56:50.995880Z",
     "start_time": "2022-10-20T15:56:50.982710Z"
    },
    "hidden": true
   },
   "outputs": [],
   "source": [
    "# (y_.WhiteIsComp==1).head()"
   ]
  },
  {
   "cell_type": "code",
   "execution_count": 31,
   "id": "4d4314e1",
   "metadata": {
    "ExecuteTime": {
     "end_time": "2022-10-20T15:56:51.011847Z",
     "start_time": "2022-10-20T15:56:50.999797Z"
    },
    "hidden": true
   },
   "outputs": [],
   "source": [
    "# np.where(y_.WhiteIsComp==1, 0, 1)"
   ]
  },
  {
   "cell_type": "code",
   "execution_count": 32,
   "id": "0ca641b5",
   "metadata": {
    "ExecuteTime": {
     "end_time": "2022-10-20T15:56:51.027439Z",
     "start_time": "2022-10-20T15:56:51.015047Z"
    },
    "hidden": true
   },
   "outputs": [],
   "source": [
    "# y_t = y_.copy()\n",
    "# y_t['0_WhiteIsComp_1_BlackIsComp'] = np.where(y_t.WhiteIsComp==1, 0, 1)"
   ]
  },
  {
   "cell_type": "code",
   "execution_count": 33,
   "id": "2e9d0dd3",
   "metadata": {
    "ExecuteTime": {
     "end_time": "2022-10-20T15:56:51.042595Z",
     "start_time": "2022-10-20T15:56:51.031448Z"
    },
    "hidden": true
   },
   "outputs": [],
   "source": [
    "# y_t.head(5)"
   ]
  },
  {
   "cell_type": "code",
   "execution_count": 34,
   "id": "97369f8f",
   "metadata": {
    "ExecuteTime": {
     "end_time": "2022-10-20T15:56:51.057557Z",
     "start_time": "2022-10-20T15:56:51.045561Z"
    },
    "hidden": true
   },
   "outputs": [],
   "source": [
    "# y_tt = pd.DataFrame(np.where(y_.WhiteIsComp==1, 0, 1), columns=['0_WhiteIsComp_1_BlackIsComp'])\n",
    "# y_tt"
   ]
  },
  {
   "cell_type": "code",
   "execution_count": 35,
   "id": "a10f94a5",
   "metadata": {
    "ExecuteTime": {
     "end_time": "2022-10-20T15:56:51.072791Z",
     "start_time": "2022-10-20T15:56:51.060566Z"
    },
    "hidden": true
   },
   "outputs": [],
   "source": [
    "# for row in y_.values:\n",
    "#     print(row)\n",
    "\n",
    "# pd.DataFrame([[row] for row in y_.values], columns=['WhiteIsComp_BlackIsComp_NoComp'])"
   ]
  },
  {
   "cell_type": "code",
   "execution_count": 36,
   "id": "3bdf19aa",
   "metadata": {
    "ExecuteTime": {
     "end_time": "2022-10-20T15:56:51.088046Z",
     "start_time": "2022-10-20T15:56:51.074782Z"
    },
    "hidden": true
   },
   "outputs": [],
   "source": [
    "# y_test_ = y_convert_to_ohe_vec(y_)\n",
    "# y_test_"
   ]
  },
  {
   "cell_type": "markdown",
   "id": "8be12628",
   "metadata": {
    "hidden": true
   },
   "source": [
    "-----"
   ]
  },
  {
   "cell_type": "markdown",
   "id": "62fe6ef9",
   "metadata": {
    "heading_collapsed": true,
    "hidden": true
   },
   "source": [
    "##### Only 2021 and 2020"
   ]
  },
  {
   "cell_type": "code",
   "execution_count": 37,
   "id": "eeb2361c",
   "metadata": {
    "ExecuteTime": {
     "end_time": "2022-10-20T15:56:51.104021Z",
     "start_time": "2022-10-20T15:56:51.090096Z"
    },
    "hidden": true
   },
   "outputs": [],
   "source": [
    "# only have these two years on one-drive\n",
    "# raw_p = [raw_2021, raw_2020]"
   ]
  },
  {
   "cell_type": "code",
   "execution_count": 38,
   "id": "35061b1e",
   "metadata": {
    "ExecuteTime": {
     "end_time": "2022-10-20T15:56:51.120020Z",
     "start_time": "2022-10-20T15:56:51.107016Z"
    },
    "hidden": true
   },
   "outputs": [],
   "source": [
    "# df_2021_2020 = pd.concat(list_cleaned_p).reset_index(drop=True)"
   ]
  },
  {
   "cell_type": "code",
   "execution_count": 39,
   "id": "423199bd",
   "metadata": {
    "ExecuteTime": {
     "end_time": "2022-10-20T15:56:51.136021Z",
     "start_time": "2022-10-20T15:56:51.122009Z"
    },
    "hidden": true
   },
   "outputs": [],
   "source": [
    "# df_2021_2020.head(2)"
   ]
  },
  {
   "cell_type": "code",
   "execution_count": 40,
   "id": "5e0ffba1",
   "metadata": {
    "ExecuteTime": {
     "end_time": "2022-10-20T15:56:51.151954Z",
     "start_time": "2022-10-20T15:56:51.136990Z"
    },
    "hidden": true
   },
   "outputs": [],
   "source": [
    "# sns.pairplot(df_2021_2020)\n",
    "# plt.show()"
   ]
  },
  {
   "cell_type": "code",
   "execution_count": 41,
   "id": "c7326814",
   "metadata": {
    "ExecuteTime": {
     "end_time": "2022-10-20T15:56:51.168025Z",
     "start_time": "2022-10-20T15:56:51.161026Z"
    },
    "hidden": true
   },
   "outputs": [],
   "source": [
    "# X = df_2021_2020.drop(columns=['WhiteIsComp', 'BlackIsComp', 'NoComp'])\n",
    "# y = df_2021_2020.loc[:,['WhiteIsComp', 'BlackIsComp', 'NoComp']]"
   ]
  },
  {
   "cell_type": "code",
   "execution_count": 42,
   "id": "612cd65f",
   "metadata": {
    "ExecuteTime": {
     "end_time": "2022-10-20T15:56:51.184056Z",
     "start_time": "2022-10-20T15:56:51.168979Z"
    },
    "hidden": true,
    "scrolled": true
   },
   "outputs": [],
   "source": [
    "# X.head(2)"
   ]
  },
  {
   "cell_type": "code",
   "execution_count": 43,
   "id": "ab0a4899",
   "metadata": {
    "ExecuteTime": {
     "end_time": "2022-10-20T15:56:51.200023Z",
     "start_time": "2022-10-20T15:56:51.185976Z"
    },
    "hidden": true
   },
   "outputs": [],
   "source": [
    "# # %%timeit\n",
    "# test_=X.copy()\n",
    "\n",
    "# # test_[['TimeControl_Base', 'TimeControl_Inc']]=[\n",
    "# #     (str.split(x, sep='+')[0], str.split(x, sep='+')[1]) for x in X.TimeControl.values] # 117 ms ± 1.82 ms per loop (mean ± std. dev. of 7 runs, 10 loops each)\n",
    "\n",
    "\n",
    "# # test_[['TimeControl_Base', 'TimeControl_Inc']]=[\n",
    "# #     (str.split(x, sep='+')) for x in X.TimeControl.values] # 110 ms ± 14.6 ms per loop (mean ± std. dev. of 7 runs, 10 loops each)\n",
    "\n",
    "\n",
    "# test_[['TimeControl_Base', 'TimeControl_Inc']]=[\n",
    "#     (int(str.split(x, sep='+')[0]), int(str.split(x, sep='+')[1])) for x in X.TimeControl.values]\n",
    "\n",
    "\n",
    "# test_"
   ]
  },
  {
   "cell_type": "markdown",
   "id": "8cfda3f7",
   "metadata": {
    "hidden": true
   },
   "source": [
    "-----"
   ]
  },
  {
   "cell_type": "markdown",
   "id": "ee4a40d7",
   "metadata": {
    "heading_collapsed": true,
    "hidden": true
   },
   "source": [
    "##### 2022 to 2018 inclusive"
   ]
  },
  {
   "cell_type": "code",
   "execution_count": 44,
   "id": "3483494f",
   "metadata": {
    "ExecuteTime": {
     "end_time": "2022-10-20T15:56:51.215986Z",
     "start_time": "2022-10-20T15:56:51.200988Z"
    },
    "hidden": true
   },
   "outputs": [],
   "source": [
    "# # on vostro laptop\n",
    "# raw_p = [joblib.load(f'C:/Users/MaNiL/Desktop/data/capstone/preprocessed/{year}_CvH.pkl') for \\\n",
    "#          year in np.arange(2022, 2017, -1)] # load the pickles from 2022 to 2018 inclusive"
   ]
  },
  {
   "cell_type": "code",
   "execution_count": 45,
   "id": "7ed9cf43",
   "metadata": {
    "ExecuteTime": {
     "end_time": "2022-10-20T15:56:51.231955Z",
     "start_time": "2022-10-20T15:56:51.216977Z"
    },
    "hidden": true
   },
   "outputs": [],
   "source": [
    "# list_cleaned_p = hp.clean_pickles(raw_p)"
   ]
  },
  {
   "cell_type": "code",
   "execution_count": 46,
   "id": "8a412bc7",
   "metadata": {
    "ExecuteTime": {
     "end_time": "2022-10-20T15:56:51.246956Z",
     "start_time": "2022-10-20T15:56:51.232948Z"
    },
    "hidden": true
   },
   "outputs": [],
   "source": [
    "# sum([df_.shape[0] for df_ in list_cleaned_p])"
   ]
  },
  {
   "cell_type": "code",
   "execution_count": 47,
   "id": "1c07a819",
   "metadata": {
    "ExecuteTime": {
     "end_time": "2022-10-20T15:56:51.262966Z",
     "start_time": "2022-10-20T15:56:51.247949Z"
    },
    "hidden": true
   },
   "outputs": [],
   "source": [
    "# pd.concat(list_cleaned_p).shape"
   ]
  },
  {
   "cell_type": "code",
   "execution_count": 48,
   "id": "ed575835",
   "metadata": {
    "ExecuteTime": {
     "end_time": "2022-10-20T15:56:51.278959Z",
     "start_time": "2022-10-20T15:56:51.263948Z"
    },
    "hidden": true
   },
   "outputs": [],
   "source": [
    "# sum([df_.shape[0] for df_ in list_cleaned_p])==pd.concat(list_cleaned_p).shape[0]"
   ]
  },
  {
   "cell_type": "code",
   "execution_count": null,
   "id": "a65a5d8a",
   "metadata": {
    "hidden": true
   },
   "outputs": [],
   "source": []
  },
  {
   "cell_type": "code",
   "execution_count": null,
   "id": "074c9b47",
   "metadata": {
    "hidden": true
   },
   "outputs": [],
   "source": []
  },
  {
   "cell_type": "markdown",
   "id": "aa52c8fe",
   "metadata": {
    "heading_collapsed": true,
    "hidden": true
   },
   "source": [
    "##### Other"
   ]
  },
  {
   "cell_type": "code",
   "execution_count": 49,
   "id": "1af46a19",
   "metadata": {
    "ExecuteTime": {
     "end_time": "2022-10-20T15:56:51.295069Z",
     "start_time": "2022-10-20T15:56:51.279948Z"
    },
    "hidden": true
   },
   "outputs": [],
   "source": [
    "# df = pd.read_json(\"data/raw_data/json/ficsgamesdb_search_ignore_colour_test.json\")"
   ]
  },
  {
   "cell_type": "code",
   "execution_count": 50,
   "id": "55cf5d51",
   "metadata": {
    "ExecuteTime": {
     "end_time": "2022-10-20T15:56:51.311067Z",
     "start_time": "2022-10-20T15:56:51.295992Z"
    },
    "hidden": true
   },
   "outputs": [],
   "source": [
    "# # should have 271 games, I think I said it would have 300\n",
    "\n",
    "# df_wrong_num_test = pd.read_json('C:/Users/MaNiL/Desktop/data/capstone/raw/json/First_tests/ignore_colour_wrong_number_fed.json')\n",
    "\n",
    "# print(df_wrong_num_test.shape)\n",
    "# hp.chess_checker_function(df_wrong_num_test)\n",
    "# df_wrong_num_test = hp.change_comp_columns(df)\n",
    "# print(df_wrong_num_test.columns)\n",
    "# hp.chess_nan_checker(df_wrong_num_test)"
   ]
  },
  {
   "cell_type": "code",
   "execution_count": 51,
   "id": "85fff6a9",
   "metadata": {
    "ExecuteTime": {
     "end_time": "2022-10-20T15:56:51.326057Z",
     "start_time": "2022-10-20T15:56:51.311947Z"
    },
    "hidden": true
   },
   "outputs": [],
   "source": [
    "# df = pd.read_json(\"C:/Users/MaNiL/Desktop/data/capstone/raw/json/Standard_2021_all_ratings/ficsgamesdb_2021_standard_movetimes_264828.json\")\n",
    "\n",
    "# joblib.dump(df, './data/2021_all_ratings.pkl')"
   ]
  },
  {
   "cell_type": "code",
   "execution_count": 52,
   "id": "bde3d0d8",
   "metadata": {
    "ExecuteTime": {
     "end_time": "2022-10-20T15:56:51.341117Z",
     "start_time": "2022-10-20T15:56:51.327031Z"
    },
    "hidden": true
   },
   "outputs": [],
   "source": [
    "# df = joblib.load('./data/2021_CvH.pkl')\n",
    "\n",
    "# # df = joblib.load('C:/Users/Emanuel/OneDrive/My Documents/')\n",
    "\n",
    "# # df = joblib.load('C:/Users/MaNiL/Desktop/data/capstone/preprocessed/2021_CvH.pkl')"
   ]
  },
  {
   "cell_type": "code",
   "execution_count": 53,
   "id": "504ece3b",
   "metadata": {
    "ExecuteTime": {
     "end_time": "2022-10-20T15:56:51.357159Z",
     "start_time": "2022-10-20T15:56:51.342082Z"
    },
    "hidden": true
   },
   "outputs": [],
   "source": [
    "# hp.chess_checker_function(df)"
   ]
  },
  {
   "cell_type": "code",
   "execution_count": 54,
   "id": "fbd271b0",
   "metadata": {
    "ExecuteTime": {
     "end_time": "2022-10-20T15:56:51.373155Z",
     "start_time": "2022-10-20T15:56:51.358117Z"
    },
    "hidden": true,
    "scrolled": true
   },
   "outputs": [],
   "source": [
    "# df.info()"
   ]
  },
  {
   "cell_type": "code",
   "execution_count": 55,
   "id": "5b4576d6",
   "metadata": {
    "ExecuteTime": {
     "end_time": "2022-10-20T15:56:51.389193Z",
     "start_time": "2022-10-20T15:56:51.374115Z"
    },
    "hidden": true,
    "scrolled": true
   },
   "outputs": [],
   "source": [
    "# nocomp_df = hp.change_comp_columns(df)\n",
    "# print(nocomp_df.columns)"
   ]
  },
  {
   "cell_type": "markdown",
   "id": "c5c5c9c5",
   "metadata": {
    "hidden": true
   },
   "source": [
    "['Event', 'Site', 'Date', 'Round', 'White', 'Black', 'Result',\n",
    "       'BlackClock', 'BlackElo', 'BlackIsComp', 'BlackRD', 'ECO',\n",
    "       'FICSGamesDBGameNo', 'PlyCount', 'Time', 'TimeControl', 'WhiteClock',\n",
    "       'WhiteElo', 'WhiteRD', 'emt', 'moves', 'WhiteIsComp', 'NoComp']"
   ]
  },
  {
   "cell_type": "code",
   "execution_count": 56,
   "id": "8e956fb9",
   "metadata": {
    "ExecuteTime": {
     "end_time": "2022-10-20T15:56:51.404626Z",
     "start_time": "2022-10-20T15:56:51.391160Z"
    },
    "hidden": true
   },
   "outputs": [],
   "source": [
    "# nocomp_df.head(1)"
   ]
  },
  {
   "cell_type": "code",
   "execution_count": 57,
   "id": "8120559f",
   "metadata": {
    "ExecuteTime": {
     "end_time": "2022-10-20T15:56:51.419923Z",
     "start_time": "2022-10-20T15:56:51.405588Z"
    },
    "hidden": true
   },
   "outputs": [],
   "source": [
    "# hp.chess_nan_checker(nocomp_df)"
   ]
  },
  {
   "cell_type": "markdown",
   "id": "0b7e899b",
   "metadata": {
    "hidden": true
   },
   "source": [
    "-----"
   ]
  },
  {
   "cell_type": "markdown",
   "id": "fc835592",
   "metadata": {
    "heading_collapsed": true
   },
   "source": [
    "### Some Cleaning & Inv"
   ]
  },
  {
   "cell_type": "markdown",
   "id": "2f1e57ad",
   "metadata": {
    "heading_collapsed": true,
    "hidden": true
   },
   "source": [
    "#### Separating Standard Games (not imposed in cleaning yet)"
   ]
  },
  {
   "cell_type": "code",
   "execution_count": 58,
   "id": "c71b664d",
   "metadata": {
    "ExecuteTime": {
     "end_time": "2022-10-20T15:56:51.435929Z",
     "start_time": "2022-10-20T15:56:51.420894Z"
    },
    "hidden": true
   },
   "outputs": [],
   "source": [
    "# Unique events\n",
    "\n",
    "# nocomp_df[['Event']].head()\n",
    "\n",
    "# nocomp_df['Event'].unique()"
   ]
  },
  {
   "cell_type": "code",
   "execution_count": 59,
   "id": "09d52888",
   "metadata": {
    "ExecuteTime": {
     "end_time": "2022-10-20T15:56:51.450863Z",
     "start_time": "2022-10-20T15:56:51.436891Z"
    },
    "hidden": true
   },
   "outputs": [],
   "source": [
    "# nocomp_df[['Event']].groupby(['Event']).value_counts().sort_values()"
   ]
  },
  {
   "cell_type": "code",
   "execution_count": 60,
   "id": "ec790cd1",
   "metadata": {
    "ExecuteTime": {
     "end_time": "2022-10-20T15:56:51.466873Z",
     "start_time": "2022-10-20T15:56:51.451856Z"
    },
    "hidden": true
   },
   "outputs": [],
   "source": [
    "# test_ = nocomp_df[['Event', 'TimeControl', 'Time', 'Result', 'White', 'WhiteIsComp', 'Black', 'BlackIsComp', 'NoComp']]\n",
    "# test_.head()"
   ]
  },
  {
   "cell_type": "code",
   "execution_count": 61,
   "id": "de98ebae",
   "metadata": {
    "ExecuteTime": {
     "end_time": "2022-10-20T15:56:51.482181Z",
     "start_time": "2022-10-20T15:56:51.467882Z"
    },
    "hidden": true
   },
   "outputs": [],
   "source": [
    "# 900/60"
   ]
  },
  {
   "cell_type": "code",
   "execution_count": 62,
   "id": "dbc9b33f",
   "metadata": {
    "ExecuteTime": {
     "end_time": "2022-10-20T15:56:51.498156Z",
     "start_time": "2022-10-20T15:56:51.483106Z"
    },
    "hidden": true
   },
   "outputs": [],
   "source": [
    "# event_control = test_.groupby(['Event', 'TimeControl']).count().reset_index().loc[:, ['Event', 'TimeControl']]\n",
    "# event_control"
   ]
  },
  {
   "cell_type": "code",
   "execution_count": 63,
   "id": "41653e93",
   "metadata": {
    "ExecuteTime": {
     "end_time": "2022-10-20T15:56:51.514143Z",
     "start_time": "2022-10-20T15:56:51.499107Z"
    },
    "hidden": true
   },
   "outputs": [],
   "source": [
    "# # event_control[ ['standard game' in event_control['Event'].values] ]\n",
    "\n",
    "# # ['standard game' in x for x in event_control['Event'].values]\n",
    "\n",
    "# standard_games = event_control[['standard game' in x for x in event_control['Event'].values]]\n",
    "# display(standard_games.head())\n",
    "# display(standard_games.TimeControl.unique())\n",
    "# standard_games_times = standard_games.TimeControl.unique()"
   ]
  },
  {
   "cell_type": "code",
   "execution_count": 64,
   "id": "78ba0c10",
   "metadata": {
    "ExecuteTime": {
     "end_time": "2022-10-20T15:56:51.529145Z",
     "start_time": "2022-10-20T15:56:51.516157Z"
    },
    "hidden": true
   },
   "outputs": [],
   "source": [
    "# blitz_games = event_control[['blitz game' in x for x in event_control['Event'].values]]\n",
    "# display(blitz_games.head())\n",
    "# display(blitz_games.TimeControl.unique())\n",
    "# blitz_games_times = blitz_games.TimeControl.unique()"
   ]
  },
  {
   "cell_type": "code",
   "execution_count": 65,
   "id": "575a8ab3",
   "metadata": {
    "ExecuteTime": {
     "end_time": "2022-10-20T15:56:51.543981Z",
     "start_time": "2022-10-20T15:56:51.530116Z"
    },
    "hidden": true
   },
   "outputs": [],
   "source": [
    "# any([b_time in standard_games_times for b_time in blitz_games_times]) # False\n",
    "\n",
    "# # '900+1' in standard_games_times # True"
   ]
  },
  {
   "cell_type": "code",
   "execution_count": 66,
   "id": "45007964",
   "metadata": {
    "ExecuteTime": {
     "end_time": "2022-10-20T15:56:51.559108Z",
     "start_time": "2022-10-20T15:56:51.544981Z"
    },
    "hidden": true
   },
   "outputs": [],
   "source": [
    "# standard_game_times_sort = standard_games_times.copy()\n",
    "# standard_game_times_sort=[str.split(x, sep='+') for x in standard_game_times_sort]\n",
    "# standard_game_times_sort = pd.DataFrame([[int(row[0]), int(row[1])] for \\\n",
    "#                                          row in standard_game_times_sort]).sort_values(\n",
    "#     by=0,\n",
    "#     axis=0,\n",
    "#     ascending=False).reset_index(drop=True).rename(columns={1: 'inc'})\n",
    "# standard_game_times_sort.head()"
   ]
  },
  {
   "cell_type": "code",
   "execution_count": 67,
   "id": "df708a01",
   "metadata": {
    "ExecuteTime": {
     "end_time": "2022-10-20T15:56:51.574583Z",
     "start_time": "2022-10-20T15:56:51.560119Z"
    },
    "hidden": true,
    "scrolled": true
   },
   "outputs": [],
   "source": [
    "# standard_game_times_sort"
   ]
  },
  {
   "cell_type": "code",
   "execution_count": 68,
   "id": "0bdf6ffd",
   "metadata": {
    "ExecuteTime": {
     "end_time": "2022-10-20T15:56:51.590223Z",
     "start_time": "2022-10-20T15:56:51.576718Z"
    },
    "hidden": true
   },
   "outputs": [],
   "source": [
    "# blitz_games_times_sort = blitz_games_times.copy()\n",
    "# blitz_games_times_sort=[str.split(x, sep='+') for x in blitz_games_times_sort]\n",
    "# blitz_games_times_sort = pd.DataFrame([[int(row[0]), int(row[1])] for \\\n",
    "#                                          row in blitz_games_times_sort]).sort_values(\n",
    "#     by=0,\n",
    "#     axis=0,\n",
    "#     ascending=False).reset_index(drop=True).rename(columns={1: 'inc'})\n",
    "# blitz_games_times_sort.head()"
   ]
  },
  {
   "cell_type": "code",
   "execution_count": 69,
   "id": "c2871889",
   "metadata": {
    "ExecuteTime": {
     "end_time": "2022-10-20T15:56:51.605865Z",
     "start_time": "2022-10-20T15:56:51.593192Z"
    },
    "hidden": true
   },
   "outputs": [],
   "source": [
    "# s_b_merged = pd.merge(standard_game_times_sort, blitz_games_times_sort, how='outer', on=0, suffixes=('_s', '_b'))"
   ]
  },
  {
   "cell_type": "code",
   "execution_count": 70,
   "id": "c039c160",
   "metadata": {
    "ExecuteTime": {
     "end_time": "2022-10-20T15:56:51.621508Z",
     "start_time": "2022-10-20T15:56:51.608461Z"
    },
    "hidden": true
   },
   "outputs": [],
   "source": [
    "# s_b_merged"
   ]
  },
  {
   "cell_type": "code",
   "execution_count": 71,
   "id": "9231e940",
   "metadata": {
    "ExecuteTime": {
     "end_time": "2022-10-20T15:56:51.637407Z",
     "start_time": "2022-10-20T15:56:51.624545Z"
    },
    "hidden": true,
    "scrolled": true
   },
   "outputs": [],
   "source": [
    "# for row in s_b_merged.values:\n",
    "#     print(row)"
   ]
  },
  {
   "cell_type": "code",
   "execution_count": 72,
   "id": "2faae9d6",
   "metadata": {
    "ExecuteTime": {
     "end_time": "2022-10-20T15:56:51.652734Z",
     "start_time": "2022-10-20T15:56:51.641903Z"
    },
    "hidden": true
   },
   "outputs": [],
   "source": [
    "# np.c_[standard_games_times, blitz_games_times]\n"
   ]
  },
  {
   "cell_type": "code",
   "execution_count": 73,
   "id": "92dbde28",
   "metadata": {
    "ExecuteTime": {
     "end_time": "2022-10-20T15:56:51.668337Z",
     "start_time": "2022-10-20T15:56:51.656137Z"
    },
    "hidden": true
   },
   "outputs": [],
   "source": [
    "# nocomp_df['TimeControl'].values"
   ]
  },
  {
   "cell_type": "code",
   "execution_count": 74,
   "id": "1a5a21ff",
   "metadata": {
    "ExecuteTime": {
     "end_time": "2022-10-20T15:56:51.683560Z",
     "start_time": "2022-10-20T15:56:51.672378Z"
    },
    "hidden": true
   },
   "outputs": [],
   "source": [
    "# nocomp_df[['3600' in x for x in nocomp_df['TimeControl'].values]].shape # (250, 23)"
   ]
  },
  {
   "cell_type": "code",
   "execution_count": 75,
   "id": "1218f2c5",
   "metadata": {
    "ExecuteTime": {
     "end_time": "2022-10-20T15:56:51.699060Z",
     "start_time": "2022-10-20T15:56:51.686612Z"
    },
    "hidden": true
   },
   "outputs": [],
   "source": [
    "# only 250 games in 2021_CvH were started as 60+ minutes; it is possible that games went on for longer than 60 \n",
    "# minutes"
   ]
  },
  {
   "cell_type": "code",
   "execution_count": null,
   "id": "0bc23bba",
   "metadata": {
    "hidden": true
   },
   "outputs": [],
   "source": []
  },
  {
   "cell_type": "markdown",
   "id": "cf783c56",
   "metadata": {
    "hidden": true
   },
   "source": [
    "-----"
   ]
  },
  {
   "cell_type": "markdown",
   "id": "fe339160",
   "metadata": {
    "heading_collapsed": true,
    "hidden": true
   },
   "source": [
    "#### Unique players investigation"
   ]
  },
  {
   "cell_type": "code",
   "execution_count": null,
   "id": "8f52607a",
   "metadata": {
    "hidden": true
   },
   "outputs": [],
   "source": []
  },
  {
   "cell_type": "code",
   "execution_count": null,
   "id": "feec036a",
   "metadata": {
    "hidden": true
   },
   "outputs": [],
   "source": []
  },
  {
   "cell_type": "code",
   "execution_count": null,
   "id": "b0a3c039",
   "metadata": {
    "hidden": true
   },
   "outputs": [],
   "source": []
  },
  {
   "cell_type": "code",
   "execution_count": null,
   "id": "def6088d",
   "metadata": {
    "hidden": true
   },
   "outputs": [],
   "source": []
  },
  {
   "cell_type": "code",
   "execution_count": null,
   "id": "31fb5592",
   "metadata": {
    "hidden": true
   },
   "outputs": [],
   "source": []
  },
  {
   "cell_type": "code",
   "execution_count": null,
   "id": "5af72d84",
   "metadata": {
    "hidden": true
   },
   "outputs": [],
   "source": []
  },
  {
   "cell_type": "code",
   "execution_count": null,
   "id": "c9652114",
   "metadata": {
    "hidden": true
   },
   "outputs": [],
   "source": []
  },
  {
   "cell_type": "markdown",
   "id": "9f304cb3",
   "metadata": {
    "hidden": true
   },
   "source": [
    "----"
   ]
  },
  {
   "cell_type": "markdown",
   "id": "6bfa7ee3",
   "metadata": {
    "heading_collapsed": true,
    "hidden": true
   },
   "source": [
    "#### Get rid of draws "
   ]
  },
  {
   "cell_type": "code",
   "execution_count": 76,
   "id": "555f87d4",
   "metadata": {
    "ExecuteTime": {
     "end_time": "2022-10-20T15:56:51.715041Z",
     "start_time": "2022-10-20T15:56:51.702996Z"
    },
    "hidden": true
   },
   "outputs": [],
   "source": [
    "# nocomp_df['Result'].unique()"
   ]
  },
  {
   "cell_type": "code",
   "execution_count": 77,
   "id": "6ff121f9",
   "metadata": {
    "ExecuteTime": {
     "end_time": "2022-10-20T15:56:51.731053Z",
     "start_time": "2022-10-20T15:56:51.719046Z"
    },
    "hidden": true
   },
   "outputs": [],
   "source": [
    "# nocomp_df[['WhiteIsComp', 'BlackIsComp','Result']]"
   ]
  },
  {
   "cell_type": "code",
   "execution_count": 78,
   "id": "7af1307b",
   "metadata": {
    "ExecuteTime": {
     "end_time": "2022-10-20T15:56:51.746976Z",
     "start_time": "2022-10-20T15:56:51.734061Z"
    },
    "hidden": true
   },
   "outputs": [],
   "source": [
    "# nocomp_df['Result']=='1-0'"
   ]
  },
  {
   "cell_type": "code",
   "execution_count": 79,
   "id": "c6de8b39",
   "metadata": {
    "ExecuteTime": {
     "end_time": "2022-10-20T15:56:51.762117Z",
     "start_time": "2022-10-20T15:56:51.749972Z"
    },
    "hidden": true
   },
   "outputs": [],
   "source": [
    "# ## filters\n",
    "\n",
    "# # Computer wins as white \n",
    "# comp_w_w = ((nocomp_df['Result']=='1-0')&(nocomp_df['WhiteIsComp']==1))\n",
    "# # Computer wins as black\n",
    "# comp_b_w = ((nocomp_df['Result']=='0-1')&(nocomp_df['BlackIsComp']==1))\n",
    "# # Draw\n",
    "# no_draw = (nocomp_df['Result']!='1/2-1/2')"
   ]
  },
  {
   "cell_type": "code",
   "execution_count": 80,
   "id": "4e1d2da0",
   "metadata": {
    "ExecuteTime": {
     "end_time": "2022-10-20T15:56:51.777152Z",
     "start_time": "2022-10-20T15:56:51.765104Z"
    },
    "hidden": true
   },
   "outputs": [],
   "source": [
    "# right_result_df = nocomp_df[comp_w_w |\n",
    "#                             comp_b_w]"
   ]
  },
  {
   "cell_type": "code",
   "execution_count": 81,
   "id": "eb15bff4",
   "metadata": {
    "ExecuteTime": {
     "end_time": "2022-10-20T15:56:51.792840Z",
     "start_time": "2022-10-20T15:56:51.781116Z"
    },
    "hidden": true
   },
   "outputs": [],
   "source": [
    "# right_result_df.shape # (28013, 23)"
   ]
  },
  {
   "cell_type": "code",
   "execution_count": 82,
   "id": "3bcc6b30",
   "metadata": {
    "ExecuteTime": {
     "end_time": "2022-10-20T15:56:51.808849Z",
     "start_time": "2022-10-20T15:56:51.795834Z"
    },
    "hidden": true
   },
   "outputs": [],
   "source": [
    "# any(right_result_df['Result']=='1/2-1/2') # no draws"
   ]
  },
  {
   "cell_type": "code",
   "execution_count": 83,
   "id": "fb0eda9e",
   "metadata": {
    "ExecuteTime": {
     "end_time": "2022-10-20T15:56:51.824107Z",
     "start_time": "2022-10-20T15:56:51.811841Z"
    },
    "hidden": true
   },
   "outputs": [],
   "source": [
    "# no_draws_df.shape"
   ]
  },
  {
   "cell_type": "markdown",
   "id": "802a364c",
   "metadata": {
    "hidden": true
   },
   "source": [
    "-----"
   ]
  },
  {
   "cell_type": "markdown",
   "id": "b7235712",
   "metadata": {
    "heading_collapsed": true,
    "hidden": true
   },
   "source": [
    "#### Get rid of redundant columns"
   ]
  },
  {
   "cell_type": "code",
   "execution_count": 84,
   "id": "be6f5a22",
   "metadata": {
    "ExecuteTime": {
     "end_time": "2022-10-20T15:56:51.840061Z",
     "start_time": "2022-10-20T15:56:51.826117Z"
    },
    "hidden": true
   },
   "outputs": [],
   "source": [
    "# right_result_df.columns"
   ]
  },
  {
   "cell_type": "code",
   "execution_count": 85,
   "id": "9434428b",
   "metadata": {
    "ExecuteTime": {
     "end_time": "2022-10-20T15:56:51.855962Z",
     "start_time": "2022-10-20T15:56:51.842018Z"
    },
    "hidden": true
   },
   "outputs": [],
   "source": [
    "# all(right_result_df['WhiteClock']==right_result_df['BlackClock'])"
   ]
  },
  {
   "cell_type": "code",
   "execution_count": 86,
   "id": "7d618a98",
   "metadata": {
    "ExecuteTime": {
     "end_time": "2022-10-20T15:56:51.871714Z",
     "start_time": "2022-10-20T15:56:51.858639Z"
    },
    "hidden": true
   },
   "outputs": [],
   "source": [
    "# df_clean = right_result_df.drop(columns=[\n",
    "#     'Event', 'Site', 'Date', 'Round', 'White', 'Black', 'BlackClock', 'FICSGamesDBGameNo', 'Time', 'WhiteClock',\n",
    "#     'Result'\n",
    "# ])"
   ]
  },
  {
   "cell_type": "code",
   "execution_count": 87,
   "id": "81c2ec03",
   "metadata": {
    "ExecuteTime": {
     "end_time": "2022-10-20T15:56:51.886826Z",
     "start_time": "2022-10-20T15:56:51.875766Z"
    },
    "hidden": true
   },
   "outputs": [],
   "source": [
    "# df_clean"
   ]
  },
  {
   "cell_type": "code",
   "execution_count": null,
   "id": "525035a1",
   "metadata": {
    "hidden": true
   },
   "outputs": [],
   "source": []
  },
  {
   "cell_type": "markdown",
   "id": "f08dec87",
   "metadata": {
    "hidden": true
   },
   "source": [
    "------"
   ]
  },
  {
   "cell_type": "markdown",
   "id": "d30918e4",
   "metadata": {
    "heading_collapsed": true,
    "hidden": true
   },
   "source": [
    "#### Function to 'clean' any pickle"
   ]
  },
  {
   "cell_type": "markdown",
   "id": "dc6a1f22",
   "metadata": {
    "hidden": true
   },
   "source": [
    "For now, some columns (and row values) remain for initial modelling."
   ]
  },
  {
   "cell_type": "code",
   "execution_count": 88,
   "id": "7f6547f9",
   "metadata": {
    "ExecuteTime": {
     "end_time": "2022-10-20T15:56:51.902301Z",
     "start_time": "2022-10-20T15:56:51.889840Z"
    },
    "hidden": true
   },
   "outputs": [],
   "source": [
    "# def clean_pickle(pickle_df):\n",
    "#     hp.chess_checker_function(pickle_df)\n",
    "#     temp_ = hp.change_comp_columns(pickle_df)\n",
    "#     hp.chess_nan_checker(temp_)\n",
    "#     # Computer wins as white \n",
    "#     comp_w_w = ((temp_['Result']=='1-0')&(temp_['WhiteIsComp']==1))\n",
    "#     # Computer wins as black\n",
    "#     comp_b_w = ((temp_['Result']=='0-1')&(temp_['BlackIsComp']==1))\n",
    "#     temp_ = temp_[\n",
    "#         ((temp_['Result']=='1-0')&(temp_['WhiteIsComp']==1))|\n",
    "#         ((temp_['Result']=='0-1')&(temp_['BlackIsComp']==1))]\n",
    "    \n",
    "    \n",
    "#     col_to_drop = [\n",
    "#         'Event', 'Site', 'Date', 'Round', 'White', 'Black', 'BlackClock', 'FICSGamesDBGameNo', 'Time', 'WhiteClock',\n",
    "#         'Result'\n",
    "#         ]\n",
    "    \n",
    "#     temp_ = temp_.drop(columns=col_to_drop)\n",
    "#     print(f'Dropped columns: {col_to_drop}')\n",
    "#     return temp_"
   ]
  },
  {
   "cell_type": "code",
   "execution_count": 89,
   "id": "162a6cd5",
   "metadata": {
    "ExecuteTime": {
     "end_time": "2022-10-20T15:56:51.917826Z",
     "start_time": "2022-10-20T15:56:51.906290Z"
    },
    "hidden": true
   },
   "outputs": [],
   "source": [
    "# def clean_pickles(list_of_pickle_df):\n",
    "#     list_of_cleaned_pickle_df = []\n",
    "#     for pickle_df in list_of_pickle_df:\n",
    "#         list_of_cleaned_pickle_df.append(clean_pickle(pickle_df))\n",
    "        \n",
    "#     return list_of_cleaned_pickle_df"
   ]
  },
  {
   "cell_type": "code",
   "execution_count": 90,
   "id": "dab7488b",
   "metadata": {
    "ExecuteTime": {
     "end_time": "2022-10-20T15:56:51.933871Z",
     "start_time": "2022-10-20T15:56:51.920832Z"
    },
    "hidden": true
   },
   "outputs": [],
   "source": [
    "# raw_2021 = joblib.load('./data/2021_CvH.pkl')"
   ]
  },
  {
   "cell_type": "code",
   "execution_count": 91,
   "id": "be3f025b",
   "metadata": {
    "ExecuteTime": {
     "end_time": "2022-10-20T15:56:51.949029Z",
     "start_time": "2022-10-20T15:56:51.936866Z"
    },
    "hidden": true
   },
   "outputs": [],
   "source": [
    "# raw_2020 = joblib.load('./data/2020_CvH.pkl')"
   ]
  },
  {
   "cell_type": "code",
   "execution_count": 92,
   "id": "f6658df3",
   "metadata": {
    "ExecuteTime": {
     "end_time": "2022-10-20T15:56:51.964029Z",
     "start_time": "2022-10-20T15:56:51.952038Z"
    },
    "hidden": true
   },
   "outputs": [],
   "source": [
    "# cleaned_2021 = clean_pickle(raw_2021)"
   ]
  },
  {
   "cell_type": "code",
   "execution_count": 93,
   "id": "9b904923",
   "metadata": {
    "ExecuteTime": {
     "end_time": "2022-10-20T15:56:51.980031Z",
     "start_time": "2022-10-20T15:56:51.966026Z"
    },
    "hidden": true
   },
   "outputs": [],
   "source": [
    "# raw_p = [raw_2021, raw_2020]"
   ]
  },
  {
   "cell_type": "code",
   "execution_count": 94,
   "id": "afd45aee",
   "metadata": {
    "ExecuteTime": {
     "end_time": "2022-10-20T15:56:51.995011Z",
     "start_time": "2022-10-20T15:56:51.982033Z"
    },
    "hidden": true
   },
   "outputs": [],
   "source": [
    "# list_cleaned_p = clean_pickles(raw_p)"
   ]
  },
  {
   "cell_type": "code",
   "execution_count": 95,
   "id": "a137f9ea",
   "metadata": {
    "ExecuteTime": {
     "end_time": "2022-10-20T15:56:52.010044Z",
     "start_time": "2022-10-20T15:56:51.997041Z"
    },
    "hidden": true
   },
   "outputs": [],
   "source": [
    "# type(list_cleaned_p)"
   ]
  },
  {
   "cell_type": "code",
   "execution_count": 96,
   "id": "82ccc920",
   "metadata": {
    "ExecuteTime": {
     "end_time": "2022-10-20T15:56:52.025028Z",
     "start_time": "2022-10-20T15:56:52.011983Z"
    },
    "hidden": true
   },
   "outputs": [],
   "source": [
    "# display(list_cleaned_p[0].head(2))\n",
    "# display(list_cleaned_p[0].shape)"
   ]
  },
  {
   "cell_type": "code",
   "execution_count": 97,
   "id": "42924168",
   "metadata": {
    "ExecuteTime": {
     "end_time": "2022-10-20T15:56:52.041022Z",
     "start_time": "2022-10-20T15:56:52.027032Z"
    },
    "hidden": true
   },
   "outputs": [],
   "source": [
    "# display(list_cleaned_p[1].head(2))\n",
    "# display(list_cleaned_p[1].shape)"
   ]
  },
  {
   "cell_type": "code",
   "execution_count": 98,
   "id": "f5e05afb",
   "metadata": {
    "ExecuteTime": {
     "end_time": "2022-10-20T15:56:52.057040Z",
     "start_time": "2022-10-20T15:56:52.043040Z"
    },
    "hidden": true
   },
   "outputs": [],
   "source": [
    "# list_cleaned_p[0].shape[0]+list_cleaned_p[1].shape[0]"
   ]
  },
  {
   "cell_type": "code",
   "execution_count": 99,
   "id": "c4ea5438",
   "metadata": {
    "ExecuteTime": {
     "end_time": "2022-10-20T15:56:52.071944Z",
     "start_time": "2022-10-20T15:56:52.059030Z"
    },
    "hidden": true
   },
   "outputs": [],
   "source": [
    "# pd.concat(list_cleaned_p).shape"
   ]
  },
  {
   "cell_type": "code",
   "execution_count": 100,
   "id": "128f679e",
   "metadata": {
    "ExecuteTime": {
     "end_time": "2022-10-20T15:56:52.087033Z",
     "start_time": "2022-10-20T15:56:52.073028Z"
    },
    "hidden": true
   },
   "outputs": [],
   "source": [
    "# list_cleaned_p[0].shape[0]+list_cleaned_p[1].shape[0]==pd.concat(list_cleaned_p).shape[0]"
   ]
  },
  {
   "cell_type": "code",
   "execution_count": null,
   "id": "71dea156",
   "metadata": {
    "hidden": true
   },
   "outputs": [],
   "source": []
  },
  {
   "cell_type": "markdown",
   "id": "d032a860",
   "metadata": {
    "hidden": true
   },
   "source": [
    "-----"
   ]
  },
  {
   "cell_type": "markdown",
   "id": "977e2b1a",
   "metadata": {},
   "source": [
    "### Modelling"
   ]
  },
  {
   "cell_type": "markdown",
   "id": "f3d0dec9",
   "metadata": {},
   "source": [
    "#### Load and functional cleaning"
   ]
  },
  {
   "cell_type": "code",
   "execution_count": 101,
   "id": "4d9bcf46",
   "metadata": {
    "ExecuteTime": {
     "end_time": "2022-10-20T15:57:00.030263Z",
     "start_time": "2022-10-20T15:56:52.089039Z"
    }
   },
   "outputs": [],
   "source": [
    "# on vostro laptop\n",
    "raw_pickle_list = [joblib.load(f'C:/Users/MaNiL/Desktop/data/capstone/preprocessed/{year}_CvH.pkl') for \\\n",
    "         year in np.arange(2022, 2017, -1)] # load the pickles from 2022 to 2018 inclusive"
   ]
  },
  {
   "cell_type": "code",
   "execution_count": 102,
   "id": "dd14ae6b",
   "metadata": {
    "ExecuteTime": {
     "end_time": "2022-10-20T15:57:00.046206Z",
     "start_time": "2022-10-20T15:57:00.032254Z"
    }
   },
   "outputs": [],
   "source": [
    "# # using cloud-available data (currently only 2021 and 2020)\n",
    "# raw_pickle_list = [joblib.load(f'C:/Users/MaNiL/Desktop/data/capstone/preprocessed/{year}_CvH.pkl') for \\\n",
    "#          year in np.arange(2021, 2019, -1)] # load the pickles from 2022 to 2018 inclusive"
   ]
  },
  {
   "cell_type": "code",
   "execution_count": 103,
   "id": "1908d5c2",
   "metadata": {
    "ExecuteTime": {
     "end_time": "2022-10-20T15:57:00.205410Z",
     "start_time": "2022-10-20T15:57:00.048298Z"
    }
   },
   "outputs": [
    {
     "data": {
      "text/plain": [
       "True"
      ]
     },
     "execution_count": 103,
     "metadata": {},
     "output_type": "execute_result"
    }
   ],
   "source": [
    "sum([df_.shape[0] for df_ in raw_pickle_list])==pd.concat(raw_pickle_list).shape[0]"
   ]
  },
  {
   "cell_type": "code",
   "execution_count": 104,
   "id": "153b2763",
   "metadata": {
    "ExecuteTime": {
     "end_time": "2022-10-20T15:57:01.837567Z",
     "start_time": "2022-10-20T15:57:00.207369Z"
    },
    "collapsed": true
   },
   "outputs": [
    {
     "name": "stdout",
     "output_type": "stream",
     "text": [
      "For year: 2022\n",
      "Expected columns present: True \n",
      "Expected dtypes present: True\n",
      "This dataframe has 0 NaN values in columns: ['Event', 'Site', 'Date', 'Round', 'White', 'Black', 'Result', 'BlackClock', 'BlackElo', 'BlackRD', 'ECO', 'FICSGamesDBGameNo', 'PlyCount', 'Time', 'TimeControl', 'WhiteClock', 'WhiteElo', 'WhiteRD', 'emt', 'moves', 'NoComp']\n",
      "Keeping decisive results...\n",
      "Dropped columns: ['Event', 'Site', 'Date', 'Round', 'White', 'Black', 'BlackClock', 'FICSGamesDBGameNo', 'Time', 'WhiteClock', 'Result']\n",
      "\n",
      "For year: 2021\n",
      "Column BlackRD does not match datatype float64, is actually int64\n",
      "Column WhiteRD does not match datatype float64, is actually int64\n",
      "Expected columns present: True \n",
      "Expected dtypes present: False\n",
      "This dataframe has 0 NaN values in columns: ['Event', 'Site', 'Date', 'Round', 'White', 'Black', 'Result', 'BlackClock', 'BlackElo', 'BlackRD', 'ECO', 'FICSGamesDBGameNo', 'PlyCount', 'Time', 'TimeControl', 'WhiteClock', 'WhiteElo', 'WhiteRD', 'emt', 'moves', 'NoComp']\n",
      "Keeping decisive results...\n",
      "Dropped columns: ['Event', 'Site', 'Date', 'Round', 'White', 'Black', 'BlackClock', 'FICSGamesDBGameNo', 'Time', 'WhiteClock', 'Result']\n",
      "\n",
      "For year: 2020\n",
      "Expected columns present: True \n",
      "Expected dtypes present: True\n",
      "This dataframe has 0 NaN values in columns: ['Event', 'Site', 'Date', 'Round', 'White', 'Black', 'Result', 'BlackClock', 'BlackElo', 'BlackRD', 'ECO', 'FICSGamesDBGameNo', 'PlyCount', 'Time', 'TimeControl', 'WhiteClock', 'WhiteElo', 'WhiteRD', 'emt', 'moves', 'NoComp']\n",
      "Keeping decisive results...\n",
      "Dropped columns: ['Event', 'Site', 'Date', 'Round', 'White', 'Black', 'BlackClock', 'FICSGamesDBGameNo', 'Time', 'WhiteClock', 'Result']\n",
      "\n",
      "For year: 2019\n",
      "Expected columns present: True \n",
      "Expected dtypes present: True\n",
      "This dataframe has 0 NaN values in columns: ['Event', 'Site', 'Date', 'Round', 'White', 'Black', 'Result', 'BlackClock', 'BlackElo', 'BlackRD', 'ECO', 'FICSGamesDBGameNo', 'PlyCount', 'Time', 'TimeControl', 'WhiteClock', 'WhiteElo', 'WhiteRD', 'emt', 'moves', 'NoComp']\n",
      "Keeping decisive results...\n",
      "Dropped columns: ['Event', 'Site', 'Date', 'Round', 'White', 'Black', 'BlackClock', 'FICSGamesDBGameNo', 'Time', 'WhiteClock', 'Result']\n",
      "\n",
      "For year: 2018\n",
      "Expected columns present: True \n",
      "Expected dtypes present: True\n",
      "This dataframe has 0 NaN values in columns: ['Event', 'Site', 'Date', 'Round', 'White', 'Black', 'Result', 'BlackClock', 'BlackElo', 'BlackRD', 'ECO', 'FICSGamesDBGameNo', 'PlyCount', 'Time', 'TimeControl', 'WhiteClock', 'WhiteElo', 'WhiteRD', 'emt', 'moves', 'NoComp']\n",
      "Keeping decisive results...\n",
      "Dropped columns: ['Event', 'Site', 'Date', 'Round', 'White', 'Black', 'BlackClock', 'FICSGamesDBGameNo', 'Time', 'WhiteClock', 'Result']\n",
      "\n"
     ]
    }
   ],
   "source": [
    "big_df = hp.concatenate_cleaned_pickles(raw_pickle_list)"
   ]
  },
  {
   "cell_type": "code",
   "execution_count": 105,
   "id": "bd802aaf",
   "metadata": {
    "ExecuteTime": {
     "end_time": "2022-10-20T15:57:01.885433Z",
     "start_time": "2022-10-20T15:57:01.839387Z"
    }
   },
   "outputs": [],
   "source": [
    "X, y = hp.X_y_split_simple(big_df)\n",
    "\n",
    "y = hp.y_convert_to_ohe_vec(y)"
   ]
  },
  {
   "cell_type": "markdown",
   "id": "6f6f9b53",
   "metadata": {},
   "source": [
    "------"
   ]
  },
  {
   "cell_type": "markdown",
   "id": "176e14c0",
   "metadata": {},
   "source": [
    "#### Base Models"
   ]
  },
  {
   "cell_type": "markdown",
   "id": "b35439e1",
   "metadata": {},
   "source": [
    "##### Further cleaning"
   ]
  },
  {
   "cell_type": "code",
   "execution_count": 106,
   "id": "f725a812",
   "metadata": {
    "ExecuteTime": {
     "end_time": "2022-10-20T15:57:01.901373Z",
     "start_time": "2022-10-20T15:57:01.887405Z"
    }
   },
   "outputs": [
    {
     "data": {
      "text/html": [
       "<div>\n",
       "<style scoped>\n",
       "    .dataframe tbody tr th:only-of-type {\n",
       "        vertical-align: middle;\n",
       "    }\n",
       "\n",
       "    .dataframe tbody tr th {\n",
       "        vertical-align: top;\n",
       "    }\n",
       "\n",
       "    .dataframe thead th {\n",
       "        text-align: right;\n",
       "    }\n",
       "</style>\n",
       "<table border=\"1\" class=\"dataframe\">\n",
       "  <thead>\n",
       "    <tr style=\"text-align: right;\">\n",
       "      <th></th>\n",
       "      <th>0_WhiteIsComp_1_BlackIsComp</th>\n",
       "    </tr>\n",
       "  </thead>\n",
       "  <tbody>\n",
       "    <tr>\n",
       "      <th>0</th>\n",
       "      <td>0</td>\n",
       "    </tr>\n",
       "    <tr>\n",
       "      <th>1</th>\n",
       "      <td>1</td>\n",
       "    </tr>\n",
       "    <tr>\n",
       "      <th>2</th>\n",
       "      <td>0</td>\n",
       "    </tr>\n",
       "    <tr>\n",
       "      <th>3</th>\n",
       "      <td>1</td>\n",
       "    </tr>\n",
       "    <tr>\n",
       "      <th>4</th>\n",
       "      <td>1</td>\n",
       "    </tr>\n",
       "  </tbody>\n",
       "</table>\n",
       "</div>"
      ],
      "text/plain": [
       "   0_WhiteIsComp_1_BlackIsComp\n",
       "0                            0\n",
       "1                            1\n",
       "2                            0\n",
       "3                            1\n",
       "4                            1"
      ]
     },
     "execution_count": 106,
     "metadata": {},
     "output_type": "execute_result"
    }
   ],
   "source": [
    "y.head()"
   ]
  },
  {
   "cell_type": "code",
   "execution_count": 120,
   "id": "d5e83833",
   "metadata": {
    "ExecuteTime": {
     "end_time": "2022-10-20T16:34:45.972201Z",
     "start_time": "2022-10-20T16:34:45.945412Z"
    }
   },
   "outputs": [
    {
     "data": {
      "text/plain": [
       "0_WhiteIsComp_1_BlackIsComp\n",
       "1                              50.197959\n",
       "0                              49.802041\n",
       "dtype: float64"
      ]
     },
     "execution_count": 120,
     "metadata": {},
     "output_type": "execute_result"
    }
   ],
   "source": [
    "y.value_counts(normalize=True)*100"
   ]
  },
  {
   "cell_type": "markdown",
   "id": "e74f72b8",
   "metadata": {},
   "source": [
    "Knowing the distribution of the target is important when considering model performance."
   ]
  },
  {
   "cell_type": "code",
   "execution_count": 107,
   "id": "731c7a46",
   "metadata": {
    "ExecuteTime": {
     "end_time": "2022-10-20T15:57:01.917363Z",
     "start_time": "2022-10-20T15:57:01.903371Z"
    }
   },
   "outputs": [
    {
     "data": {
      "text/html": [
       "<div>\n",
       "<style scoped>\n",
       "    .dataframe tbody tr th:only-of-type {\n",
       "        vertical-align: middle;\n",
       "    }\n",
       "\n",
       "    .dataframe tbody tr th {\n",
       "        vertical-align: top;\n",
       "    }\n",
       "\n",
       "    .dataframe thead th {\n",
       "        text-align: right;\n",
       "    }\n",
       "</style>\n",
       "<table border=\"1\" class=\"dataframe\">\n",
       "  <thead>\n",
       "    <tr style=\"text-align: right;\">\n",
       "      <th></th>\n",
       "      <th>BlackElo</th>\n",
       "      <th>BlackRD</th>\n",
       "      <th>ECO</th>\n",
       "      <th>PlyCount</th>\n",
       "      <th>WhiteElo</th>\n",
       "      <th>WhiteRD</th>\n",
       "      <th>emt</th>\n",
       "      <th>moves</th>\n",
       "      <th>TimeControl_Base</th>\n",
       "      <th>TimeControl_Inc</th>\n",
       "    </tr>\n",
       "  </thead>\n",
       "  <tbody>\n",
       "    <tr>\n",
       "      <th>0</th>\n",
       "      <td>1946</td>\n",
       "      <td>0.0</td>\n",
       "      <td>D30</td>\n",
       "      <td>53</td>\n",
       "      <td>2062</td>\n",
       "      <td>0.0</td>\n",
       "      <td>[[%emt 0.0], [%emt 0.0], [%emt 0.1], [%emt 0.6...</td>\n",
       "      <td>[d4, d5, c4, c6, Nf3, e6, Qc2, f5, Bf4, Nf6, c...</td>\n",
       "      <td>300</td>\n",
       "      <td>0</td>\n",
       "    </tr>\n",
       "    <tr>\n",
       "      <th>1</th>\n",
       "      <td>2056</td>\n",
       "      <td>0.0</td>\n",
       "      <td>B50</td>\n",
       "      <td>50</td>\n",
       "      <td>1952</td>\n",
       "      <td>0.0</td>\n",
       "      <td>[[%emt 0.0], [%emt 0.0], [%emt 0.862], [%emt 0...</td>\n",
       "      <td>[e4, c5, Nf3, d6, c4, g6, Nc3, Bg7, d3, Nc6, B...</td>\n",
       "      <td>300</td>\n",
       "      <td>0</td>\n",
       "    </tr>\n",
       "  </tbody>\n",
       "</table>\n",
       "</div>"
      ],
      "text/plain": [
       "   BlackElo  BlackRD  ECO  PlyCount  WhiteElo  WhiteRD  \\\n",
       "0      1946      0.0  D30        53      2062      0.0   \n",
       "1      2056      0.0  B50        50      1952      0.0   \n",
       "\n",
       "                                                 emt  \\\n",
       "0  [[%emt 0.0], [%emt 0.0], [%emt 0.1], [%emt 0.6...   \n",
       "1  [[%emt 0.0], [%emt 0.0], [%emt 0.862], [%emt 0...   \n",
       "\n",
       "                                               moves  TimeControl_Base  \\\n",
       "0  [d4, d5, c4, c6, Nf3, e6, Qc2, f5, Bf4, Nf6, c...               300   \n",
       "1  [e4, c5, Nf3, d6, c4, g6, Nc3, Bg7, d3, Nc6, B...               300   \n",
       "\n",
       "   TimeControl_Inc  \n",
       "0                0  \n",
       "1                0  "
      ]
     },
     "execution_count": 107,
     "metadata": {},
     "output_type": "execute_result"
    }
   ],
   "source": [
    "X.head(2)"
   ]
  },
  {
   "cell_type": "code",
   "execution_count": 113,
   "id": "446455d9",
   "metadata": {
    "ExecuteTime": {
     "end_time": "2022-10-20T16:05:39.692840Z",
     "start_time": "2022-10-20T16:05:39.680830Z"
    }
   },
   "outputs": [],
   "source": [
    "# X.shape # (198779, 10)"
   ]
  },
  {
   "cell_type": "code",
   "execution_count": 118,
   "id": "b5b808a3",
   "metadata": {
    "ExecuteTime": {
     "end_time": "2022-10-20T16:25:45.987944Z",
     "start_time": "2022-10-20T16:25:45.963140Z"
    }
   },
   "outputs": [
    {
     "data": {
      "text/plain": [
       "494"
      ]
     },
     "execution_count": 118,
     "metadata": {},
     "output_type": "execute_result"
    }
   ],
   "source": [
    "unique_openings = X.ECO.unique()\n",
    "len(unique_openings) # 494"
   ]
  },
  {
   "cell_type": "markdown",
   "id": "d26589e6",
   "metadata": {},
   "source": [
    "Openings (ECO) will be one hot encoded. "
   ]
  },
  {
   "cell_type": "markdown",
   "id": "92af38f6",
   "metadata": {},
   "source": [
    "Removing emt and moves for now but feature engineering can be done to them in future (after base models). "
   ]
  },
  {
   "cell_type": "code",
   "execution_count": 109,
   "id": "57cf0269",
   "metadata": {
    "ExecuteTime": {
     "end_time": "2022-10-20T15:57:01.947842Z",
     "start_time": "2022-10-20T15:57:01.934664Z"
    }
   },
   "outputs": [],
   "source": [
    "X_ = X.drop(columns=['emt', 'moves'])"
   ]
  },
  {
   "cell_type": "code",
   "execution_count": 110,
   "id": "8a06c35d",
   "metadata": {
    "ExecuteTime": {
     "end_time": "2022-10-20T15:57:01.978812Z",
     "start_time": "2022-10-20T15:57:01.956559Z"
    }
   },
   "outputs": [
    {
     "data": {
      "text/html": [
       "<div>\n",
       "<style scoped>\n",
       "    .dataframe tbody tr th:only-of-type {\n",
       "        vertical-align: middle;\n",
       "    }\n",
       "\n",
       "    .dataframe tbody tr th {\n",
       "        vertical-align: top;\n",
       "    }\n",
       "\n",
       "    .dataframe thead th {\n",
       "        text-align: right;\n",
       "    }\n",
       "</style>\n",
       "<table border=\"1\" class=\"dataframe\">\n",
       "  <thead>\n",
       "    <tr style=\"text-align: right;\">\n",
       "      <th></th>\n",
       "      <th>BlackElo</th>\n",
       "      <th>BlackRD</th>\n",
       "      <th>ECO</th>\n",
       "      <th>PlyCount</th>\n",
       "      <th>WhiteElo</th>\n",
       "      <th>WhiteRD</th>\n",
       "      <th>TimeControl_Base</th>\n",
       "      <th>TimeControl_Inc</th>\n",
       "    </tr>\n",
       "  </thead>\n",
       "  <tbody>\n",
       "    <tr>\n",
       "      <th>0</th>\n",
       "      <td>1946</td>\n",
       "      <td>0.0</td>\n",
       "      <td>D30</td>\n",
       "      <td>53</td>\n",
       "      <td>2062</td>\n",
       "      <td>0.0</td>\n",
       "      <td>300</td>\n",
       "      <td>0</td>\n",
       "    </tr>\n",
       "    <tr>\n",
       "      <th>1</th>\n",
       "      <td>2056</td>\n",
       "      <td>0.0</td>\n",
       "      <td>B50</td>\n",
       "      <td>50</td>\n",
       "      <td>1952</td>\n",
       "      <td>0.0</td>\n",
       "      <td>300</td>\n",
       "      <td>0</td>\n",
       "    </tr>\n",
       "    <tr>\n",
       "      <th>2</th>\n",
       "      <td>1958</td>\n",
       "      <td>0.0</td>\n",
       "      <td>C62</td>\n",
       "      <td>45</td>\n",
       "      <td>2050</td>\n",
       "      <td>0.0</td>\n",
       "      <td>300</td>\n",
       "      <td>0</td>\n",
       "    </tr>\n",
       "    <tr>\n",
       "      <th>3</th>\n",
       "      <td>2280</td>\n",
       "      <td>0.0</td>\n",
       "      <td>B13</td>\n",
       "      <td>42</td>\n",
       "      <td>1745</td>\n",
       "      <td>0.0</td>\n",
       "      <td>900</td>\n",
       "      <td>0</td>\n",
       "    </tr>\n",
       "    <tr>\n",
       "      <th>4</th>\n",
       "      <td>2279</td>\n",
       "      <td>0.0</td>\n",
       "      <td>B01</td>\n",
       "      <td>36</td>\n",
       "      <td>1735</td>\n",
       "      <td>0.0</td>\n",
       "      <td>900</td>\n",
       "      <td>0</td>\n",
       "    </tr>\n",
       "  </tbody>\n",
       "</table>\n",
       "</div>"
      ],
      "text/plain": [
       "   BlackElo  BlackRD  ECO  PlyCount  WhiteElo  WhiteRD  TimeControl_Base  \\\n",
       "0      1946      0.0  D30        53      2062      0.0               300   \n",
       "1      2056      0.0  B50        50      1952      0.0               300   \n",
       "2      1958      0.0  C62        45      2050      0.0               300   \n",
       "3      2280      0.0  B13        42      1745      0.0               900   \n",
       "4      2279      0.0  B01        36      1735      0.0               900   \n",
       "\n",
       "   TimeControl_Inc  \n",
       "0                0  \n",
       "1                0  \n",
       "2                0  \n",
       "3                0  \n",
       "4                0  "
      ]
     },
     "execution_count": 110,
     "metadata": {},
     "output_type": "execute_result"
    }
   ],
   "source": [
    "X_.head()"
   ]
  },
  {
   "cell_type": "markdown",
   "id": "5c549e3d",
   "metadata": {},
   "source": [
    "-----"
   ]
  },
  {
   "cell_type": "markdown",
   "id": "b9b1f278",
   "metadata": {},
   "source": [
    "##### No cross-validation"
   ]
  },
  {
   "cell_type": "markdown",
   "id": "6bf5d8cb",
   "metadata": {},
   "source": [
    "###### Test Validation Train Split"
   ]
  },
  {
   "cell_type": "code",
   "execution_count": 122,
   "id": "a28441d0",
   "metadata": {
    "ExecuteTime": {
     "end_time": "2022-10-20T16:35:41.234182Z",
     "start_time": "2022-10-20T16:35:39.952136Z"
    }
   },
   "outputs": [],
   "source": [
    "X_train, X_test, y_train, y_test = train_test_split(X_, y, test_size=0.2, random_state=22,\n",
    "                                                                     stratify=y)"
   ]
  },
  {
   "cell_type": "code",
   "execution_count": 123,
   "id": "166aea35",
   "metadata": {
    "ExecuteTime": {
     "end_time": "2022-10-20T16:36:34.982681Z",
     "start_time": "2022-10-20T16:36:33.955764Z"
    }
   },
   "outputs": [],
   "source": [
    "# X_remainder, X_test, y_remainder, y_test = train_test_split(X_, y, test_size=0.2, random_state=22,\n",
    "#                                                                      stratify=y)\n",
    "\n",
    "# X_train, X_validation, y_train, y_validation = train_test_split(X_remainder, y_remainder, train_size=0.7,\n",
    "#                                                                random_state=22, stratify=y_remainder)"
   ]
  },
  {
   "cell_type": "code",
   "execution_count": null,
   "id": "dda832f6",
   "metadata": {},
   "outputs": [],
   "source": [
    "# validation is 30%"
   ]
  },
  {
   "cell_type": "markdown",
   "id": "9ff5eeef",
   "metadata": {},
   "source": [
    "------"
   ]
  },
  {
   "cell_type": "markdown",
   "id": "f8894c33",
   "metadata": {},
   "source": [
    "###### OHE ECO"
   ]
  },
  {
   "cell_type": "code",
   "execution_count": 124,
   "id": "ed9af5a8",
   "metadata": {
    "ExecuteTime": {
     "end_time": "2022-10-20T16:39:06.959346Z",
     "start_time": "2022-10-20T16:39:06.948075Z"
    }
   },
   "outputs": [],
   "source": [
    "ohe = OneHotEncoder()"
   ]
  },
  {
   "cell_type": "code",
   "execution_count": null,
   "id": "1b24f7dc",
   "metadata": {},
   "outputs": [],
   "source": [
    "# ohe.fit(X_train[['ECO']])\n",
    "\n"
   ]
  },
  {
   "cell_type": "code",
   "execution_count": null,
   "id": "00031e2d",
   "metadata": {},
   "outputs": [],
   "source": []
  },
  {
   "cell_type": "markdown",
   "id": "59a98550",
   "metadata": {},
   "source": [
    "-----"
   ]
  },
  {
   "cell_type": "markdown",
   "id": "c90a21cf",
   "metadata": {},
   "source": [
    "###### Scaling"
   ]
  },
  {
   "cell_type": "code",
   "execution_count": null,
   "id": "f4f5a79b",
   "metadata": {},
   "outputs": [],
   "source": [
    "X_"
   ]
  },
  {
   "cell_type": "code",
   "execution_count": null,
   "id": "c2c4ddde",
   "metadata": {},
   "outputs": [],
   "source": []
  },
  {
   "cell_type": "code",
   "execution_count": null,
   "id": "4604eb11",
   "metadata": {},
   "outputs": [],
   "source": []
  },
  {
   "cell_type": "code",
   "execution_count": null,
   "id": "aafc02fb",
   "metadata": {},
   "outputs": [],
   "source": []
  },
  {
   "cell_type": "markdown",
   "id": "070dcb37",
   "metadata": {},
   "source": [
    "-----"
   ]
  },
  {
   "cell_type": "markdown",
   "id": "383249d2",
   "metadata": {},
   "source": [
    "##### Log Reg"
   ]
  },
  {
   "cell_type": "code",
   "execution_count": null,
   "id": "6d58b1db",
   "metadata": {},
   "outputs": [],
   "source": []
  },
  {
   "cell_type": "code",
   "execution_count": null,
   "id": "dad97357",
   "metadata": {},
   "outputs": [],
   "source": []
  },
  {
   "cell_type": "code",
   "execution_count": null,
   "id": "52e6041a",
   "metadata": {},
   "outputs": [],
   "source": []
  },
  {
   "cell_type": "code",
   "execution_count": null,
   "id": "8c0444ad",
   "metadata": {},
   "outputs": [],
   "source": []
  },
  {
   "cell_type": "markdown",
   "id": "1ef1f770",
   "metadata": {},
   "source": [
    "------"
   ]
  },
  {
   "cell_type": "markdown",
   "id": "7fbe70d2",
   "metadata": {},
   "source": [
    "#### Logistic Regression"
   ]
  },
  {
   "cell_type": "code",
   "execution_count": null,
   "id": "f3558f52",
   "metadata": {},
   "outputs": [],
   "source": []
  },
  {
   "cell_type": "code",
   "execution_count": null,
   "id": "157a58a5",
   "metadata": {},
   "outputs": [],
   "source": []
  },
  {
   "cell_type": "code",
   "execution_count": null,
   "id": "6c302d5a",
   "metadata": {},
   "outputs": [],
   "source": []
  },
  {
   "cell_type": "code",
   "execution_count": null,
   "id": "94491498",
   "metadata": {},
   "outputs": [],
   "source": []
  },
  {
   "cell_type": "code",
   "execution_count": null,
   "id": "3231a4c1",
   "metadata": {},
   "outputs": [],
   "source": []
  },
  {
   "cell_type": "code",
   "execution_count": null,
   "id": "5bd3a0cd",
   "metadata": {},
   "outputs": [],
   "source": []
  },
  {
   "cell_type": "code",
   "execution_count": null,
   "id": "4220d211",
   "metadata": {},
   "outputs": [],
   "source": []
  },
  {
   "cell_type": "code",
   "execution_count": null,
   "id": "d570e57e",
   "metadata": {},
   "outputs": [],
   "source": []
  },
  {
   "cell_type": "code",
   "execution_count": null,
   "id": "9de60767",
   "metadata": {},
   "outputs": [],
   "source": []
  },
  {
   "cell_type": "markdown",
   "id": "a6f996a4",
   "metadata": {},
   "source": [
    "----"
   ]
  },
  {
   "cell_type": "markdown",
   "id": "0370f5f3",
   "metadata": {
    "heading_collapsed": true
   },
   "source": [
    "## Functions to write:"
   ]
  },
  {
   "cell_type": "code",
   "execution_count": 43,
   "id": "7f90cb5c",
   "metadata": {
    "ExecuteTime": {
     "end_time": "2022-10-20T15:48:49.703847Z",
     "start_time": "2022-10-20T15:48:49.692713Z"
    },
    "hidden": true
   },
   "outputs": [],
   "source": [
    "# Write function that compares ply count to "
   ]
  },
  {
   "cell_type": "code",
   "execution_count": null,
   "id": "1b3330e4",
   "metadata": {
    "hidden": true
   },
   "outputs": [],
   "source": []
  },
  {
   "cell_type": "code",
   "execution_count": null,
   "id": "c2271f5a",
   "metadata": {
    "hidden": true
   },
   "outputs": [],
   "source": []
  },
  {
   "cell_type": "code",
   "execution_count": 44,
   "id": "5e12516a",
   "metadata": {
    "ExecuteTime": {
     "end_time": "2022-10-20T15:48:49.719768Z",
     "start_time": "2022-10-20T15:48:49.707852Z"
    },
    "hidden": true
   },
   "outputs": [],
   "source": [
    "# Write function to check that the length of emt matches ply"
   ]
  },
  {
   "cell_type": "code",
   "execution_count": null,
   "id": "d5693c9f",
   "metadata": {
    "hidden": true
   },
   "outputs": [],
   "source": []
  },
  {
   "cell_type": "code",
   "execution_count": null,
   "id": "e769c509",
   "metadata": {
    "hidden": true
   },
   "outputs": [],
   "source": []
  },
  {
   "cell_type": "code",
   "execution_count": 45,
   "id": "7a1ddd29",
   "metadata": {
    "ExecuteTime": {
     "end_time": "2022-10-20T15:48:49.734722Z",
     "start_time": "2022-10-20T15:48:49.722759Z"
    },
    "hidden": true
   },
   "outputs": [],
   "source": [
    "# Write function that checks all the emt have 'emt' in them and not 'clk'"
   ]
  },
  {
   "cell_type": "code",
   "execution_count": null,
   "id": "18e0303f",
   "metadata": {
    "hidden": true
   },
   "outputs": [],
   "source": []
  },
  {
   "cell_type": "code",
   "execution_count": null,
   "id": "a916266a",
   "metadata": {
    "hidden": true
   },
   "outputs": [],
   "source": []
  },
  {
   "cell_type": "code",
   "execution_count": 46,
   "id": "b4783d79",
   "metadata": {
    "ExecuteTime": {
     "end_time": "2022-10-20T15:48:49.749912Z",
     "start_time": "2022-10-20T15:48:49.736767Z"
    },
    "hidden": true
   },
   "outputs": [],
   "source": [
    "# Write function to check that none of the emt values are missing"
   ]
  },
  {
   "cell_type": "code",
   "execution_count": null,
   "id": "d9abd753",
   "metadata": {
    "hidden": true
   },
   "outputs": [],
   "source": []
  },
  {
   "cell_type": "code",
   "execution_count": null,
   "id": "f265cb09",
   "metadata": {
    "hidden": true
   },
   "outputs": [],
   "source": []
  },
  {
   "cell_type": "code",
   "execution_count": null,
   "id": "973c2493",
   "metadata": {
    "hidden": true
   },
   "outputs": [],
   "source": []
  },
  {
   "cell_type": "markdown",
   "id": "553c4e3c",
   "metadata": {
    "hidden": true
   },
   "source": [
    "-----"
   ]
  },
  {
   "cell_type": "markdown",
   "id": "557e3f74",
   "metadata": {
    "heading_collapsed": true
   },
   "source": [
    "## Modeling"
   ]
  },
  {
   "cell_type": "code",
   "execution_count": null,
   "id": "e7c63e56",
   "metadata": {
    "hidden": true
   },
   "outputs": [],
   "source": []
  },
  {
   "cell_type": "markdown",
   "id": "7b82fd8c",
   "metadata": {
    "hidden": true
   },
   "source": [
    "------"
   ]
  },
  {
   "cell_type": "markdown",
   "id": "f76d174f",
   "metadata": {
    "heading_collapsed": true
   },
   "source": [
    "# Post-ish WIP"
   ]
  },
  {
   "cell_type": "markdown",
   "id": "11d21b43",
   "metadata": {
    "heading_collapsed": true,
    "hidden": true
   },
   "source": [
    "## Data and Column Descriptions:"
   ]
  },
  {
   "cell_type": "markdown",
   "id": "8fe191f4",
   "metadata": {
    "heading_collapsed": true,
    "hidden": true
   },
   "source": [
    "### Event:"
   ]
  },
  {
   "cell_type": "code",
   "execution_count": 113,
   "id": "2bd3387d",
   "metadata": {
    "ExecuteTime": {
     "end_time": "2022-10-19T21:39:13.483028Z",
     "start_time": "2022-10-19T21:39:13.467072Z"
    },
    "hidden": true
   },
   "outputs": [],
   "source": [
    "df['Event'].value_counts();"
   ]
  },
  {
   "cell_type": "markdown",
   "id": "a45440d7",
   "metadata": {
    "hidden": true
   },
   "source": [
    "FICS rated standard game      4942\n",
    "\n",
    "FICS unrated standard game      58"
   ]
  },
  {
   "cell_type": "code",
   "execution_count": 114,
   "id": "9e088834",
   "metadata": {
    "ExecuteTime": {
     "end_time": "2022-10-19T21:39:14.398479Z",
     "start_time": "2022-10-19T21:39:14.389510Z"
    },
    "hidden": true
   },
   "outputs": [],
   "source": [
    "type(df['Event'][0]);\n",
    "# String"
   ]
  },
  {
   "cell_type": "markdown",
   "id": "2c5bbdfa",
   "metadata": {
    "hidden": true
   },
   "source": [
    "### Site:"
   ]
  },
  {
   "cell_type": "code",
   "execution_count": 115,
   "id": "5155b62f",
   "metadata": {
    "ExecuteTime": {
     "end_time": "2022-10-19T21:39:16.417112Z",
     "start_time": "2022-10-19T21:39:16.407113Z"
    },
    "hidden": true
   },
   "outputs": [],
   "source": [
    "df.Site.value_counts();\n",
    "# All 500 are FICS freechess.org"
   ]
  },
  {
   "cell_type": "code",
   "execution_count": 116,
   "id": "c2112f55",
   "metadata": {
    "ExecuteTime": {
     "end_time": "2022-10-19T21:39:16.915957Z",
     "start_time": "2022-10-19T21:39:16.908951Z"
    },
    "hidden": true
   },
   "outputs": [],
   "source": [
    "type(df.Site[0]);\n",
    "# String"
   ]
  },
  {
   "cell_type": "markdown",
   "id": "3bbe3c43",
   "metadata": {
    "hidden": true
   },
   "source": [
    "### Date:"
   ]
  },
  {
   "cell_type": "code",
   "execution_count": 117,
   "id": "edff2a79",
   "metadata": {
    "ExecuteTime": {
     "end_time": "2022-10-19T21:39:19.080776Z",
     "start_time": "2022-10-19T21:39:19.067838Z"
    },
    "hidden": true
   },
   "outputs": [],
   "source": [
    "df.Date.nunique();\n",
    "# 16 unique dates in 2022"
   ]
  },
  {
   "cell_type": "code",
   "execution_count": 118,
   "id": "589809e0",
   "metadata": {
    "ExecuteTime": {
     "end_time": "2022-10-19T21:39:19.282300Z",
     "start_time": "2022-10-19T21:39:19.265938Z"
    },
    "hidden": true
   },
   "outputs": [],
   "source": [
    "df.Date.value_counts();\n",
    "# All of these games took place in September from 05 to 18"
   ]
  },
  {
   "cell_type": "markdown",
   "id": "9f2773e2",
   "metadata": {
    "hidden": true
   },
   "source": [
    "- 2022-09-18    427\n",
    "- 2022-09-17    403\n",
    "- 2022-09-10    385\n",
    "- 2022-09-16    362\n",
    "- 2022-09-08    360\n",
    "- 2022-09-11    351\n",
    "- 2022-09-12    337\n",
    "- 2022-09-07    322\n",
    "- 2022-09-14    317\n",
    "- 2022-09-19    316\n",
    "- 2022-09-15    315\n",
    "- 2022-09-13    305\n",
    "- 2022-09-09    304\n",
    "- 2022-09-06    255\n",
    "- 2022-09-20    145\n",
    "- 2022-09-05     96"
   ]
  },
  {
   "cell_type": "code",
   "execution_count": 119,
   "id": "f1d8e1fe",
   "metadata": {
    "ExecuteTime": {
     "end_time": "2022-10-19T21:39:20.402979Z",
     "start_time": "2022-10-19T21:39:20.387993Z"
    },
    "hidden": true
   },
   "outputs": [],
   "source": [
    "df.Date.dtype;\n",
    "# tldr it's datetime"
   ]
  },
  {
   "cell_type": "markdown",
   "id": "305877e3",
   "metadata": {
    "hidden": true
   },
   "source": [
    "### Round:"
   ]
  },
  {
   "cell_type": "code",
   "execution_count": 120,
   "id": "72189747",
   "metadata": {
    "ExecuteTime": {
     "end_time": "2022-10-19T21:39:22.551788Z",
     "start_time": "2022-10-19T21:39:22.539793Z"
    },
    "hidden": true
   },
   "outputs": [
    {
     "data": {
      "text/plain": [
       "1"
      ]
     },
     "execution_count": 120,
     "metadata": {},
     "output_type": "execute_result"
    }
   ],
   "source": [
    "df.Round.nunique()"
   ]
  },
  {
   "cell_type": "code",
   "execution_count": 121,
   "id": "118abd38",
   "metadata": {
    "ExecuteTime": {
     "end_time": "2022-10-19T21:39:23.032898Z",
     "start_time": "2022-10-19T21:39:23.026884Z"
    },
    "hidden": true
   },
   "outputs": [],
   "source": [
    "df.Round.value_counts();\n",
    "# All 5000 are ? in this dataset"
   ]
  },
  {
   "cell_type": "markdown",
   "id": "2a2963e7",
   "metadata": {
    "ExecuteTime": {
     "end_time": "2022-10-19T21:23:38.889020Z",
     "start_time": "2022-10-19T21:23:38.885007Z"
    },
    "hidden": true
   },
   "source": [
    "### White:"
   ]
  },
  {
   "cell_type": "markdown",
   "id": "af9ea733",
   "metadata": {
    "ExecuteTime": {
     "end_time": "2022-10-19T21:39:24.726765Z",
     "start_time": "2022-10-19T21:39:24.709007Z"
    },
    "hidden": true
   },
   "source": [
    "### Black:"
   ]
  },
  {
   "cell_type": "markdown",
   "id": "d3bf4f8b",
   "metadata": {
    "ExecuteTime": {
     "end_time": "2022-10-19T21:39:25.130961Z",
     "start_time": "2022-10-19T21:39:25.125974Z"
    },
    "hidden": true
   },
   "source": [
    "### Result:"
   ]
  },
  {
   "cell_type": "markdown",
   "id": "02a3deb6",
   "metadata": {
    "ExecuteTime": {
     "end_time": "2022-10-19T21:23:39.375908Z",
     "start_time": "2022-10-19T21:23:39.357929Z"
    },
    "hidden": true
   },
   "source": [
    "### BlackClock:"
   ]
  },
  {
   "cell_type": "markdown",
   "id": "8f77746b",
   "metadata": {
    "ExecuteTime": {
     "end_time": "2022-10-19T21:23:39.516682Z",
     "start_time": "2022-10-19T21:23:39.498729Z"
    },
    "hidden": true
   },
   "source": [
    "### BlackElo:"
   ]
  },
  {
   "cell_type": "markdown",
   "id": "67da3f22",
   "metadata": {
    "ExecuteTime": {
     "end_time": "2022-10-19T21:23:39.658435Z",
     "start_time": "2022-10-19T21:23:39.641507Z"
    },
    "hidden": true
   },
   "source": [
    "### BlackIsComp:"
   ]
  },
  {
   "cell_type": "markdown",
   "id": "a1a400b2",
   "metadata": {
    "ExecuteTime": {
     "end_time": "2022-10-19T21:23:39.814493Z",
     "start_time": "2022-10-19T21:23:39.798536Z"
    },
    "hidden": true
   },
   "source": [
    "### BlackRD"
   ]
  },
  {
   "cell_type": "markdown",
   "id": "c7a15da9",
   "metadata": {
    "hidden": true
   },
   "source": [
    "The Reliability Deviation (RD) measures the accuracy of a player's rating, with one RD being equal to one standard deviation. E.g. a player with a rating of 1500 and an RD of 50 has a real strength between 1400 and 1600 (two standard deviations from 1500) with 95% confidence - twice (exactly 1.96) the RD is added and subtracted from their rating to calculate this range. After a game, the amount the rating changes depends on the RD: the change is smaller when the player's RD is low (since their rating is already considered accurate), and also when their opponent's RD is high (since the opponent's RD is high (since the opponent's true rating is not well known, so little information is being gained). The RD value decreases after playing a game but it will increase slowly over time of inactivity."
   ]
  },
  {
   "cell_type": "markdown",
   "id": "c5507fd0",
   "metadata": {
    "ExecuteTime": {
     "end_time": "2022-10-19T21:23:42.445848Z",
     "start_time": "2022-10-19T21:23:42.439836Z"
    },
    "hidden": true
   },
   "source": [
    "### ECO:"
   ]
  },
  {
   "cell_type": "markdown",
   "id": "8084630d",
   "metadata": {
    "ExecuteTime": {
     "end_time": "2022-10-19T21:23:42.602872Z",
     "start_time": "2022-10-19T21:23:42.589889Z"
    },
    "hidden": true
   },
   "source": [
    "### FICSGamesDBGameNo:"
   ]
  },
  {
   "cell_type": "markdown",
   "id": "16cc4d57",
   "metadata": {
    "ExecuteTime": {
     "end_time": "2022-10-19T21:23:42.743906Z",
     "start_time": "2022-10-19T21:23:42.737894Z"
    },
    "hidden": true
   },
   "source": [
    "### PlyCount:"
   ]
  },
  {
   "cell_type": "markdown",
   "id": "7449e8ea",
   "metadata": {
    "ExecuteTime": {
     "end_time": "2022-10-19T21:23:42.915098Z",
     "start_time": "2022-10-19T21:23:42.898030Z"
    },
    "hidden": true
   },
   "source": [
    "### Time: "
   ]
  },
  {
   "cell_type": "markdown",
   "id": "eb03a977",
   "metadata": {
    "ExecuteTime": {
     "end_time": "2022-10-19T21:23:43.071945Z",
     "start_time": "2022-10-19T21:23:43.057956Z"
    },
    "hidden": true
   },
   "source": [
    "### TimeControl:"
   ]
  },
  {
   "cell_type": "markdown",
   "id": "907a3a40",
   "metadata": {
    "ExecuteTime": {
     "end_time": "2022-10-19T21:23:43.228975Z",
     "start_time": "2022-10-19T21:23:43.217977Z"
    },
    "hidden": true
   },
   "source": [
    "### WhiteClock:"
   ]
  },
  {
   "cell_type": "markdown",
   "id": "d1543340",
   "metadata": {
    "ExecuteTime": {
     "end_time": "2022-10-19T21:23:43.414365Z",
     "start_time": "2022-10-19T21:23:43.398023Z"
    },
    "hidden": true
   },
   "source": [
    "### WhiteElo:"
   ]
  },
  {
   "cell_type": "markdown",
   "id": "7023fd52",
   "metadata": {
    "ExecuteTime": {
     "end_time": "2022-10-19T21:23:43.553530Z",
     "start_time": "2022-10-19T21:23:43.547545Z"
    },
    "hidden": true
   },
   "source": [
    "### WhiteRD:"
   ]
  },
  {
   "cell_type": "markdown",
   "id": "b837e4d2",
   "metadata": {
    "ExecuteTime": {
     "end_time": "2022-10-19T21:23:43.709255Z",
     "start_time": "2022-10-19T21:23:43.702247Z"
    },
    "hidden": true
   },
   "source": [
    "### emt:"
   ]
  },
  {
   "cell_type": "markdown",
   "id": "2f28d039",
   "metadata": {
    "hidden": true
   },
   "source": [
    "%emt refers to the time used on a move. %clk refers to actual clock time. "
   ]
  },
  {
   "cell_type": "markdown",
   "id": "55ae1184",
   "metadata": {
    "ExecuteTime": {
     "end_time": "2022-10-19T21:23:45.251591Z",
     "start_time": "2022-10-19T21:23:45.240597Z"
    },
    "hidden": true
   },
   "source": [
    "### moves:"
   ]
  },
  {
   "cell_type": "markdown",
   "id": "965740ed",
   "metadata": {
    "ExecuteTime": {
     "end_time": "2022-10-19T21:23:45.392821Z",
     "start_time": "2022-10-19T21:23:45.378834Z"
    },
    "hidden": true
   },
   "source": [
    "### WhiteIsComp:"
   ]
  },
  {
   "cell_type": "code",
   "execution_count": null,
   "id": "f91a1e84",
   "metadata": {
    "hidden": true
   },
   "outputs": [],
   "source": []
  },
  {
   "cell_type": "markdown",
   "id": "88c900ac",
   "metadata": {
    "hidden": true
   },
   "source": [
    "### Misc"
   ]
  },
  {
   "cell_type": "code",
   "execution_count": 91,
   "id": "883d2a06",
   "metadata": {
    "ExecuteTime": {
     "end_time": "2022-10-19T21:23:45.564443Z",
     "start_time": "2022-10-19T21:23:45.549452Z"
    },
    "hidden": true
   },
   "outputs": [],
   "source": [
    "## Round? Are there any values for these? Is it useful?\n",
    "## What does BlackClock and WhiteClock mean?\n",
    "## What is Time referring to? "
   ]
  },
  {
   "cell_type": "code",
   "execution_count": 92,
   "id": "bd509590",
   "metadata": {
    "ExecuteTime": {
     "end_time": "2022-10-19T21:23:45.750785Z",
     "start_time": "2022-10-19T21:23:45.746796Z"
    },
    "hidden": true
   },
   "outputs": [],
   "source": [
    "## I can find the number of moves by dividing Ply by 2 and \n",
    "# roudning down. I can check if this number matches up with \n",
    "# the length of the Moves divided by 2 and rounded down."
   ]
  },
  {
   "cell_type": "markdown",
   "id": "04de4016",
   "metadata": {
    "heading_collapsed": true,
    "hidden": true
   },
   "source": [
    "## Initial Data Cleaning"
   ]
  },
  {
   "cell_type": "markdown",
   "id": "6c2201f0",
   "metadata": {
    "heading_collapsed": true,
    "hidden": true
   },
   "source": [
    "###### Missing data:"
   ]
  },
  {
   "cell_type": "markdown",
   "id": "46d510e7",
   "metadata": {
    "hidden": true
   },
   "source": [
    "Are there any rows or columns that have blank, np.NaN, or otherwise missing data? Should they be dropped or replaced?"
   ]
  },
  {
   "cell_type": "code",
   "execution_count": 15,
   "id": "b9f40787",
   "metadata": {
    "ExecuteTime": {
     "end_time": "2022-10-18T21:07:48.720300Z",
     "start_time": "2022-10-18T21:07:48.648299Z"
    },
    "hidden": true
   },
   "outputs": [
    {
     "data": {
      "text/plain": [
       "Event                0.000000\n",
       "Site                 0.000000\n",
       "Date                 0.000000\n",
       "Round                0.000000\n",
       "White                0.000000\n",
       "Black                0.000000\n",
       "Result               0.000000\n",
       "BlackClock           0.000000\n",
       "BlackElo             0.000000\n",
       "BlackIsComp          0.496466\n",
       "BlackRD              0.000000\n",
       "ECO                  0.000000\n",
       "FICSGamesDBGameNo    0.000000\n",
       "PlyCount             0.000000\n",
       "Time                 0.000000\n",
       "TimeControl          0.000000\n",
       "WhiteClock           0.000000\n",
       "WhiteElo             0.000000\n",
       "WhiteRD              0.000000\n",
       "emt                  0.000000\n",
       "moves                0.000000\n",
       "WhiteIsComp          0.503534\n",
       "dtype: float64"
      ]
     },
     "execution_count": 15,
     "metadata": {},
     "output_type": "execute_result"
    }
   ],
   "source": [
    "miss_ = df.isnull()\n",
    "miss_.mean(axis=0)"
   ]
  },
  {
   "cell_type": "code",
   "execution_count": 16,
   "id": "8d43f414",
   "metadata": {
    "ExecuteTime": {
     "end_time": "2022-10-18T21:07:51.653631Z",
     "start_time": "2022-10-18T21:07:51.638658Z"
    },
    "hidden": true
   },
   "outputs": [
    {
     "name": "stdout",
     "output_type": "stream",
     "text": [
      "BlackIsComp: 49.64659813999021%, WhiteIsComp: 50.3534018600098%\n"
     ]
    }
   ],
   "source": [
    "print(f\"BlackIsComp: {miss_.mean(axis=0)['BlackIsComp'] * 100}%, WhiteIsComp: {miss_.mean(axis=0)['WhiteIsComp'] * 100}%\")"
   ]
  },
  {
   "cell_type": "code",
   "execution_count": 17,
   "id": "6d9e037e",
   "metadata": {
    "ExecuteTime": {
     "end_time": "2022-10-18T21:07:52.442686Z",
     "start_time": "2022-10-18T21:07:52.424676Z"
    },
    "hidden": true
   },
   "outputs": [
    {
     "data": {
      "text/plain": [
       "1.0"
      ]
     },
     "execution_count": 17,
     "metadata": {},
     "output_type": "execute_result"
    }
   ],
   "source": [
    "miss_.mean(axis=0).sum() # 1.0 - as it should be"
   ]
  },
  {
   "cell_type": "markdown",
   "id": "926e77d3",
   "metadata": {
    "hidden": true
   },
   "source": [
    "Any games that are missing emt values?"
   ]
  },
  {
   "cell_type": "code",
   "execution_count": 18,
   "id": "9d2d213a",
   "metadata": {
    "ExecuteTime": {
     "end_time": "2022-10-18T21:07:56.220008Z",
     "start_time": "2022-10-18T21:07:56.211996Z"
    },
    "hidden": true
   },
   "outputs": [
    {
     "data": {
      "text/plain": [
       "['[%emt 0.0]',\n",
       " '[%emt 0.0]',\n",
       " '[%emt 2.09]',\n",
       " '[%emt 0.115]',\n",
       " '[%emt 0.753]',\n",
       " '[%emt 0.113]',\n",
       " '[%emt 0.77]',\n",
       " '[%emt 0.115]',\n",
       " '[%emt 0.833]',\n",
       " '[%emt 0.113]']"
      ]
     },
     "execution_count": 18,
     "metadata": {},
     "output_type": "execute_result"
    }
   ],
   "source": [
    "df.emt[0][0:10]"
   ]
  },
  {
   "cell_type": "markdown",
   "id": "c678df94",
   "metadata": {
    "heading_collapsed": true,
    "hidden": true
   },
   "source": [
    "###### Duplicate data:"
   ]
  },
  {
   "cell_type": "markdown",
   "id": "5d1bb004",
   "metadata": {
    "hidden": true
   },
   "source": [
    "Any duplicate (or redundant) rows or columns?"
   ]
  },
  {
   "cell_type": "code",
   "execution_count": null,
   "id": "40ed127e",
   "metadata": {
    "hidden": true
   },
   "outputs": [],
   "source": [
    "df.info()"
   ]
  },
  {
   "cell_type": "markdown",
   "id": "20871722",
   "metadata": {
    "heading_collapsed": true,
    "hidden": true
   },
   "source": [
    "###### Anomalies:"
   ]
  },
  {
   "cell_type": "markdown",
   "id": "f347ab5d",
   "metadata": {
    "hidden": true
   },
   "source": [
    "Like do the values all make sense? Are there any columns that have rows with values that are not sensible?"
   ]
  },
  {
   "cell_type": "markdown",
   "id": "8eec83e4",
   "metadata": {
    "heading_collapsed": true,
    "hidden": true
   },
   "source": [
    "###### Formatting:"
   ]
  },
  {
   "cell_type": "markdown",
   "id": "130105cb",
   "metadata": {
    "hidden": true
   },
   "source": [
    "Is the data presented in a way that makes sense? Are the variable types correct?"
   ]
  },
  {
   "cell_type": "markdown",
   "id": "1bc34056",
   "metadata": {
    "heading_collapsed": true,
    "hidden": true
   },
   "source": [
    "###### What are the distributions of the each column:"
   ]
  },
  {
   "cell_type": "code",
   "execution_count": null,
   "id": "60b0901e",
   "metadata": {
    "hidden": true
   },
   "outputs": [],
   "source": [
    "# Make plotting function, then in future look at how to map to map\n",
    "# the plotting function to many columns at once"
   ]
  },
  {
   "cell_type": "code",
   "execution_count": null,
   "id": "06ff91d0",
   "metadata": {
    "hidden": true
   },
   "outputs": [],
   "source": [
    "# Make a multi-plot (i.e. subplotting) function"
   ]
  },
  {
   "cell_type": "code",
   "execution_count": null,
   "id": "9d4a68aa",
   "metadata": {
    "hidden": true
   },
   "outputs": [],
   "source": [
    "# plt.figure()\n",
    "\n",
    "# hist = plt.hist(\n",
    "#     x=\n",
    "    \n",
    "#     )"
   ]
  },
  {
   "cell_type": "code",
   "execution_count": null,
   "id": "5d1f5908",
   "metadata": {
    "hidden": true
   },
   "outputs": [],
   "source": [
    "# # Both ELO dist\n",
    "\n",
    "# white_elo = df['WhiteElo'].copy()\n",
    "# black_elo = df['BlackElo'].copy()\n",
    "\n",
    "# elo_df = pd.concat([white_elo, black_elo], axis = 0)\n",
    "# elo_df.reset_index(drop = True, inplace = True)\n",
    "# elo_df.tail();\n",
    "# elo_df.head();\n",
    "# elo_df = pd.DataFrame(data=elo_df, columns=['ELO'])\n",
    "\n",
    "# fig = px.histogram(\n",
    "#     data_frame = elo_df,\n",
    "#     x = 'ELO',\n",
    "# #     nbins=,\n",
    "#     title = 'ELO distribution',\n",
    "# #     color = 'WhiteIsComp',\n",
    "# #     labels = {\n",
    "# #         'value': 'ELO'\n",
    "# #     },\n",
    "#     )\n",
    "\n",
    "# fig.show()"
   ]
  },
  {
   "cell_type": "code",
   "execution_count": null,
   "id": "0a6356d6",
   "metadata": {
    "hidden": true
   },
   "outputs": [],
   "source": [
    "# # White ELO dist\n",
    "\n",
    "# fig = px.histogram(\n",
    "#     data_frame = df,\n",
    "#     x = 'WhiteElo',\n",
    "# #     nbins=,\n",
    "#     title = 'White ELO distribution',\n",
    "# #     color = 'WhiteIsComp',\n",
    "#     )\n",
    "\n",
    "# fig.show()"
   ]
  },
  {
   "cell_type": "code",
   "execution_count": null,
   "id": "3355f6d3",
   "metadata": {
    "hidden": true
   },
   "outputs": [],
   "source": [
    "# Do dist of black, white and black superimposed with different\n",
    "# colours, "
   ]
  },
  {
   "cell_type": "code",
   "execution_count": null,
   "id": "7661a3b9",
   "metadata": {
    "hidden": true
   },
   "outputs": [],
   "source": [
    "# # Histogram\n",
    "\n",
    "# # Separate the data into Male and Female\n",
    "# tips_male = tips_df[tips_df['sex'] == 'Male']\n",
    "# tips_female = tips_df[tips_df['sex'] == 'Female']\n",
    "\n",
    "# # Create the Figure\n",
    "# fig = go.Figure()\n",
    "\n",
    "# # Create the histogram graph objects\n",
    "\n",
    "# # Create dictionary specifying bins sizing\n",
    "# xbins={'start':0, 'end':100, 'size':1}\n",
    "\n",
    "# # We specify histnorm='percent' because we want the percentage of orders, \n",
    "# # not the absolute counts(as there are different numbers of orders for male and female)\n",
    "# male_hist_go = go.Histogram(\n",
    "#     x = tips_male['tip_pct'],\n",
    "#     name='Male',\n",
    "#     xbins=xbins,\n",
    "#     opacity=0.5,\n",
    "#     histnorm='percent')\n",
    "\n",
    "# female_hist_go = go.Histogram(\n",
    "#     x = tips_female['tip_pct'], \n",
    "#     name='Female', \n",
    "#     xbins=xbins,\n",
    "#     opacity=0.5,\n",
    "#     histnorm='percent')\n",
    "\n",
    "# # Add Histogram objects to figure\n",
    "# fig.add_trace(male_hist_go)\n",
    "# fig.add_trace(female_hist_go)\n",
    "\n",
    "# # Specify the Layout\n",
    "# chart_layout = go.Layout(width=800, height=600, title='Distribution of Tip by Gender',\n",
    "#                          xaxis_title='Tip (%)', yaxis_title='Count', barmode='overlay') #barmode needed to overlay\n",
    "\n",
    "# fig.update_layout(chart_layout)\n",
    "\n",
    "# fig.show()"
   ]
  },
  {
   "cell_type": "code",
   "execution_count": null,
   "id": "051f474f",
   "metadata": {
    "hidden": true,
    "scrolled": false
   },
   "outputs": [],
   "source": [
    "# # Distribution of game length:\n",
    "\n",
    "# fig = px.histogram(\n",
    "#     data_frame = df,\n",
    "#     x = 'PlyCount',\n",
    "#     title = 'Distribution of game length'\n",
    "\n",
    "\n",
    "#     )\n",
    "# fig.show()"
   ]
  },
  {
   "cell_type": "code",
   "execution_count": null,
   "id": "0b8b5282",
   "metadata": {
    "hidden": true
   },
   "outputs": [],
   "source": [
    "# Does game length vary by elo category?"
   ]
  },
  {
   "cell_type": "code",
   "execution_count": null,
   "id": "ebe91b1c",
   "metadata": {
    "hidden": true
   },
   "outputs": [],
   "source": []
  },
  {
   "cell_type": "code",
   "execution_count": null,
   "id": "a673c8d5",
   "metadata": {
    "hidden": true
   },
   "outputs": [],
   "source": [
    "# Distribution of time control"
   ]
  },
  {
   "cell_type": "code",
   "execution_count": null,
   "id": "86a9e5e6",
   "metadata": {
    "hidden": true
   },
   "outputs": [],
   "source": [
    "# fig = px.histogram(\n",
    "#     data_frame=iris_df,\n",
    "#     x='petal_width',\n",
    "#     nbins=12,\n",
    "#     title='Petal width distribution',\n",
    "#     labels={\n",
    "#         'petal_width': 'Petal width (cm)'\n",
    "#     }\n",
    "#     )\n",
    "\n",
    "\n",
    "\n",
    "# fig.show()"
   ]
  },
  {
   "cell_type": "code",
   "execution_count": null,
   "id": "cb8c5a20",
   "metadata": {
    "hidden": true
   },
   "outputs": [],
   "source": [
    "# px.box(\n",
    "#     data_frame=iris_df,\n",
    "#     x='species',\n",
    "#     y='petal_width',\n",
    "#     labels={\n",
    "#         'petal_width': 'Petal width (cm)',\n",
    "#         'species': 'Species'\n",
    "#         },\n",
    "#     color='species',\n",
    "#     title='Petal width distribution',\n",
    "#     points='all'\n",
    "#     )"
   ]
  },
  {
   "cell_type": "code",
   "execution_count": null,
   "id": "37a5cc9c",
   "metadata": {
    "hidden": true
   },
   "outputs": [],
   "source": [
    "# plt.figure()\n",
    "\n",
    "# boxplot = sns.boxplot(\n",
    "#     x=''\n",
    "            \n",
    "#             )"
   ]
  },
  {
   "cell_type": "markdown",
   "id": "babcf38d",
   "metadata": {
    "heading_collapsed": true
   },
   "source": [
    "# Questions:"
   ]
  },
  {
   "cell_type": "markdown",
   "id": "7362299b",
   "metadata": {
    "hidden": true
   },
   "source": [
    "- For now, as I don't have engine evaluations, how do I go about making a classification when it isn't immediately binary i.e. 3 options: white cheating, black cheating, no cheating. \n",
    "\n",
    "- Do all the games start from the starting position?\n",
    "- Does the game being an otb or online game influence how likely a win/draw is? \n",
    "- Is there any noticeable difference in patterns across different elo categories?\n",
    "- What is the distribution of elo? Across humans and computers? How do I take into account the same player and that their elo is changing over time? Do I treat each as independent? \n",
    "- What is the distribution of game length? Does it vary by elo? (Probably yes ?)\n",
    "- What is the distribution of computer-ELO? Are there bots that are low elo? Could this be because people are able to 'set' the strength of the computer opponent? If so this could mess up predictions, think about whether or not they should be removed, maybe they can be kept as 'test-cases' of how well we can predict 'cheaters' who cheat at low-elo.\n",
    "- Does the dataset tell me hwo the game ended? (I.e. resignation, checkmate, running out of time etc.)"
   ]
  },
  {
   "cell_type": "markdown",
   "id": "0ec18c78",
   "metadata": {
    "heading_collapsed": true
   },
   "source": [
    "# Considerations:"
   ]
  },
  {
   "cell_type": "markdown",
   "id": "91035b30",
   "metadata": {
    "hidden": true
   },
   "source": [
    "Using ELO difference/metric as a feature in predicting expected outcome of game.\n",
    "- Using opening played as a feature in predicting if cheater or not.\n",
    "- Use an engine to evaluate sequences of chess moves played in a game to learn average centipawn loss/gain, the centipawn loss/gain for each move, the number of innacuracies, mistakes, blunders. \n",
    "- How many opening moves to eliminate?\n",
    "\n",
    "\n",
    "\n",
    "- Lichess games offer "
   ]
  },
  {
   "cell_type": "code",
   "execution_count": null,
   "id": "7d52d6e8",
   "metadata": {
    "hidden": true
   },
   "outputs": [],
   "source": []
  },
  {
   "cell_type": "markdown",
   "id": "f7c98a32",
   "metadata": {
    "heading_collapsed": true
   },
   "source": [
    "# Notes from Data Skeptic:"
   ]
  },
  {
   "cell_type": "markdown",
   "id": "b385bcfb",
   "metadata": {
    "hidden": true
   },
   "source": [
    "- Humans tend to make little blunders all the time \"oh I didn't notice this idea, luckily my position still holds\".\n",
    "- Computers tend to keep their options open, X was able to demonstrate that humans, if they see an attack, will try to play it and force an early crisis in the game.\n",
    "- In aggregates of 100-200 moves, X believes you can then determine with confidence if someone was cheating.\n",
    "- \"Distance metric (of two probabilities?)\" : \"You can't just say deterministically what is the computer's move. It depends on many variables such as the depth of search, [pv or multi-pv], the identity of the computer program, even how much hash memory you've given it. There's a variation there (i.e. a probability distribution). The human being is a distribution, often fallable distribution, of options.\"\n",
    "- Originally going to use 'fidelity' which is a distance measure between distributions, which often comes up in computational physics. A former student recommended the 'Yensen-Shannon divergence (?)' which would solve a problem of 'Koblak-Leibler (?)' divergence of being too hair trigger in the treatment of blunders but it lacked other properties which X needed. \n",
    "- Wound up doing something 'highly elementary': maps given analysis of positions in a game, and parameters denoting the strength and particulars of the human player, he maps each chess move to probabilities, as if he were painting that move on the faces of many sided dice. And then he treats the chess position as a roll of those dice, so for this player, there's a 49% chance of selecting Ng5, 27% for Qg4, and so on down the line. After that, he can tap into the very simple stats theory of Bernoulli distributions (rolls of dice, flips of coins), and not only project the expected mean number of agreements, but also the projected variance, from the Bernoulli distribution theory, and thereby project confidence intervals, and since he's estimating a sample mean, the CLT comes into play, so he's working with a normal distribution and can use a z-score framework for his statistical projections. \n",
    "- If there is a clear stand-out move (e.g. only one move that keeps you alive in the position) then not only will the computer find it, it is highly likely that the good human player will find it. Whereas, even if you have just 10 moves in a game, where each move there were 4 highly reasonable options, which X's model would assign probabilities say between 20-25% each, and you consistently select the option that shows as preferred in X's computer test (...something about Modulo and distribution), if you match the computer's preferred move for 10 or more moves in a row, that a mllion to one probability.\n",
    "- Two modes of chess analysis with comp: multi-pv mode where comp has equal depth of search to all reasonable options in a position, single-pv is regular playing mode where computer focuses its resources on the move it thinks best and one or two competing moves. A lot of the art of practical computers playig against each others is how quickly can they prune away the sub-optimal moves. For his model, he needs to know the values of all the reasonalbe moves that the player might be considering, and the general landscape or shape of the position (either forcing or lots of options etc.).\n",
    "- For the training set, he has 10,000 games of multi-pv data, he took those games wehre each player is at one of the century points in the chess rating; for each of the levels above 2000 (Expert) he exhaustively chose games where both players were within 10 or so of those century points, run those games and he has his training data for yay-rated players. He is then therefor able to relate his two main model parameters to strength on that elo scale. Supplementing this he has a vast amount of single-pv (basically every top rated game in the recorded history of chess - over 200,000 games total). \n",
    "- He also routinely screens about 80,000 games out of the world's top events every year (codified as screening mode - he can get a first look at the play and relate it to the distributions of tens of thousands of performances of players at all ranks to see how much of an apparent outlier it is. \n",
    "- About a surprise winner: when he ran the screening test the player was on the edge of the red zone, but when he ran the full test based on the training data (multi-pv mode) it gave a z-score under 1.5 (the minimum was 2 for any kind of statistical significance) meaning it was unlikely that the player was cheaitng (his GM opponent was over-eager in trying to win and ended up losing). \n",
    "- He talks a little about how the arbiters, given their chess domain knowledge, likely made the right decision as they would have been able to see the situation on the ground (i.e. seen the critical positions, how the GM was winning, then made a mistake etc.). \n",
    "- Up until about 2+ years ago, the highest z-score he got in cases he was involved in was about 3.5, which corresponds to 4,300-to-1 odds against a Null hypothesis. Although very important, what it really means is that's the incidence of such a deviation occuring naturally among non-cheating players. Every week there are more than 1000 players taking part in tournaments around the globe, significant enough tto be aggregated on 'the week in chess'/'the weekend chess' by Mike 'Crowder'(?). You have to be aware of how your sample was selected or if there were any other factors which brought it to your attention apart from people going over the games with computers and noting a high correspondence. He believes that there has to be independent evidence. \n",
    "- [Section talking about comparing the quality of moves in a player's games in a tournament where there were known to be transmissions and expected-transmissionless games and how the differnce in quality of moves was about 3200 compared to 2550, so this was another indicator that the player was cheating.]\n",
    "- Up until Jan 2013 he did not get any z-scores above 3.5, but then suddenly z-scores above 5 (even closer to 6) ..."
   ]
  },
  {
   "cell_type": "markdown",
   "id": "18961b17",
   "metadata": {
    "heading_collapsed": true
   },
   "source": [
    "# Appendix:"
   ]
  },
  {
   "cell_type": "markdown",
   "id": "07e00688",
   "metadata": {
    "heading_collapsed": true,
    "hidden": true
   },
   "source": [
    "## Figuring out how to get emt:"
   ]
  },
  {
   "cell_type": "code",
   "execution_count": null,
   "id": "848023ef",
   "metadata": {
    "hidden": true
   },
   "outputs": [],
   "source": [
    "pgn = open(\"data/raw_data/2022/ficsgamesdb_search_262781.pgn\")\n",
    "game = chess.pgn.read_game(pgn)"
   ]
  },
  {
   "cell_type": "code",
   "execution_count": null,
   "id": "916cecda",
   "metadata": {
    "hidden": true
   },
   "outputs": [],
   "source": [
    "print(game)"
   ]
  },
  {
   "cell_type": "markdown",
   "id": "cec207a2",
   "metadata": {
    "hidden": true
   },
   "source": [
    "%emt refers to the time used on a move. %clk refers to actual clock time. "
   ]
  },
  {
   "cell_type": "markdown",
   "id": "732adc15",
   "metadata": {
    "hidden": true
   },
   "source": [
    "From the pgn we can see time spent per move. "
   ]
  },
  {
   "cell_type": "code",
   "execution_count": null,
   "id": "a2929055",
   "metadata": {
    "hidden": true
   },
   "outputs": [],
   "source": [
    "type(game)"
   ]
  },
  {
   "cell_type": "code",
   "execution_count": null,
   "id": "a6d5c4ef",
   "metadata": {
    "hidden": true
   },
   "outputs": [],
   "source": [
    "game.mainline()"
   ]
  },
  {
   "cell_type": "code",
   "execution_count": null,
   "id": "c6edeaa9",
   "metadata": {
    "hidden": true
   },
   "outputs": [],
   "source": [
    "game.board().san(game.variation(0).move)"
   ]
  },
  {
   "cell_type": "code",
   "execution_count": null,
   "id": "dd3985dd",
   "metadata": {
    "hidden": true
   },
   "outputs": [],
   "source": [
    "game.headers"
   ]
  },
  {
   "cell_type": "code",
   "execution_count": null,
   "id": "6bcdf858",
   "metadata": {
    "hidden": true
   },
   "outputs": [],
   "source": [
    "game.mainline()"
   ]
  },
  {
   "cell_type": "code",
   "execution_count": null,
   "id": "967a106f",
   "metadata": {
    "hidden": true
   },
   "outputs": [],
   "source": [
    "for node in game.mainline():\n",
    "    print(node.move, node.emt(), node.clock())\n",
    "    print(node.comment)"
   ]
  },
  {
   "cell_type": "code",
   "execution_count": null,
   "id": "07074a9c",
   "metadata": {
    "hidden": true
   },
   "outputs": [],
   "source": [
    "help(game)"
   ]
  },
  {
   "cell_type": "code",
   "execution_count": null,
   "id": "4c8d9795",
   "metadata": {
    "hidden": true
   },
   "outputs": [],
   "source": [
    "# seems like the emt is in the game.comment"
   ]
  },
  {
   "cell_type": "code",
   "execution_count": null,
   "id": "2d9c1ca7",
   "metadata": {
    "hidden": true
   },
   "outputs": [],
   "source": [
    "game.variation(0).comment"
   ]
  },
  {
   "cell_type": "code",
   "execution_count": null,
   "id": "301640d8",
   "metadata": {
    "hidden": true
   },
   "outputs": [],
   "source": [
    "teste_ = pd.read_json(\"data/raw_data/json/2017/ficsgamesdb_search_262781.json\")"
   ]
  },
  {
   "cell_type": "code",
   "execution_count": null,
   "id": "4fd88510",
   "metadata": {
    "hidden": true
   },
   "outputs": [],
   "source": [
    "teste_.moves"
   ]
  },
  {
   "cell_type": "code",
   "execution_count": null,
   "id": "68f89a94",
   "metadata": {
    "hidden": true
   },
   "outputs": [],
   "source": [
    "teste_.loc[0];"
   ]
  },
  {
   "cell_type": "code",
   "execution_count": null,
   "id": "929cfe56",
   "metadata": {
    "hidden": true
   },
   "outputs": [],
   "source": [
    "teste_.columns"
   ]
  },
  {
   "cell_type": "markdown",
   "id": "45305cac",
   "metadata": {
    "heading_collapsed": true,
    "hidden": true
   },
   "source": [
    "## Making df column and dtype helper:"
   ]
  },
  {
   "cell_type": "code",
   "execution_count": null,
   "id": "17b5225a",
   "metadata": {
    "hidden": true
   },
   "outputs": [],
   "source": [
    "df.columns"
   ]
  },
  {
   "cell_type": "code",
   "execution_count": null,
   "id": "7383b6a5",
   "metadata": {
    "hidden": true
   },
   "outputs": [],
   "source": [
    "columns = list(df.columns)\n",
    "columns"
   ]
  },
  {
   "cell_type": "code",
   "execution_count": null,
   "id": "30e8746e",
   "metadata": {
    "hidden": true
   },
   "outputs": [],
   "source": [
    "list(df.dtypes);"
   ]
  },
  {
   "cell_type": "code",
   "execution_count": null,
   "id": "6fad7544",
   "metadata": {
    "hidden": true,
    "scrolled": false
   },
   "outputs": [],
   "source": [
    "df.dtypes.reset_index().head()"
   ]
  },
  {
   "cell_type": "code",
   "execution_count": null,
   "id": "b72eb594",
   "metadata": {
    "hidden": true
   },
   "outputs": [],
   "source": [
    "df.dtypes.reset_index().loc[:,0]"
   ]
  },
  {
   "cell_type": "code",
   "execution_count": null,
   "id": "e621b415",
   "metadata": {
    "hidden": true
   },
   "outputs": [],
   "source": [
    "df.WhiteElo.dtype == np.int64"
   ]
  },
  {
   "cell_type": "code",
   "execution_count": null,
   "id": "94ab2731",
   "metadata": {
    "hidden": true
   },
   "outputs": [],
   "source": [
    "df.WhiteElo.dtype == 'int64'"
   ]
  },
  {
   "cell_type": "code",
   "execution_count": null,
   "id": "7ee7e4db",
   "metadata": {
    "hidden": true
   },
   "outputs": [],
   "source": [
    "df.Event.dtype == 'O'"
   ]
  },
  {
   "cell_type": "code",
   "execution_count": null,
   "id": "4a40925b",
   "metadata": {
    "hidden": true
   },
   "outputs": [],
   "source": [
    "df.Date.dtype == '<M8[ns]'"
   ]
  },
  {
   "cell_type": "code",
   "execution_count": null,
   "id": "b4f6c70b",
   "metadata": {
    "hidden": true
   },
   "outputs": [],
   "source": [
    "df.Date.dtype == 'datetime64[ns]'"
   ]
  },
  {
   "cell_type": "code",
   "execution_count": null,
   "id": "6748bd16",
   "metadata": {
    "hidden": true
   },
   "outputs": [],
   "source": [
    "#     def dtype_checker(df, schema):\n",
    "#         wrong_dtypes = [[i, j] for i, j in schema.items() if i in df.columns and df[i].dtype!=j]\n",
    "#         if len(wrong_dtypes)!=0:\n",
    "#             for row in [f'Column {k[0]} does not match datatype {k[1]}' for k in wrong_dtypes]:\n",
    "#                 print(row)\n",
    "#             return False\n",
    "#         else:\n",
    "#             return True"
   ]
  },
  {
   "cell_type": "code",
   "execution_count": null,
   "id": "ef76cf0a",
   "metadata": {
    "code_folding": [
     0
    ],
    "hidden": true
   },
   "outputs": [],
   "source": [
    "#     expected_schema = {\n",
    "#         'Event': 'object',\n",
    "#         'Site': 'object',\n",
    "#         'Date': 'datetime64[ns]',\n",
    "#         'Round': 'object',\n",
    "#         'White': 'object',\n",
    "#         'Black': 'object',\n",
    "#         'Result': 'object',\n",
    "#         'BlackClock': 'object',\n",
    "#         'BlackElo':  'int64',\n",
    "#         'BlackIsComp': 'object',\n",
    "#         'BlackRD': 'float64',\n",
    "#         'ECO': 'object',\n",
    "#         'FICSGamesDBGameNo':  'int64',\n",
    "#         'PlyCount':  'int64',\n",
    "#         'Time': 'object',\n",
    "#         'TimeControl': 'object',\n",
    "#         'WhiteClock': 'object',\n",
    "#         'WhiteElo':  'int64',\n",
    "#         'WhiteRD': 'float64',\n",
    "#         'emt': 'object',\n",
    "#         'moves': 'object',\n",
    "#         'WhiteIsComp': 'object'  \n",
    "#     }"
   ]
  },
  {
   "cell_type": "code",
   "execution_count": null,
   "id": "e3477b4b",
   "metadata": {
    "hidden": true
   },
   "outputs": [],
   "source": [
    "# dtype_checker(df, expected_schema)"
   ]
  },
  {
   "cell_type": "code",
   "execution_count": null,
   "id": "937e997c",
   "metadata": {
    "hidden": true
   },
   "outputs": [],
   "source": [
    "# def schema_checker(df, cols):\n",
    "#     missing_cols = [i for i in cols if i not in df.columns]\n",
    "#     if len(missing_cols)!=0:\n",
    "#         for col in [f'Column {i} not found' for i in missing_cols]:\n",
    "#             print(col)\n",
    "#         return False\n",
    "#     else:\n",
    "#         return True"
   ]
  },
  {
   "cell_type": "code",
   "execution_count": null,
   "id": "87cf1d68",
   "metadata": {
    "hidden": true
   },
   "outputs": [],
   "source": [
    "# schema_checker(df, expected_schema.keys())"
   ]
  },
  {
   "cell_type": "code",
   "execution_count": null,
   "id": "81c60eea",
   "metadata": {
    "hidden": true
   },
   "outputs": [],
   "source": [
    "# df_wrong = df.copy().rename(columns={'BlackRD': 'Wrongs'})"
   ]
  },
  {
   "cell_type": "code",
   "execution_count": null,
   "id": "7e43b7f2",
   "metadata": {
    "hidden": true
   },
   "outputs": [],
   "source": [
    "# schema_checker(df_wrong, expected_schema.keys())"
   ]
  },
  {
   "cell_type": "markdown",
   "id": "9745c3f7",
   "metadata": {
    "heading_collapsed": true,
    "hidden": true
   },
   "source": [
    "## Making XIsComp helper:"
   ]
  },
  {
   "cell_type": "code",
   "execution_count": null,
   "id": "a0acbabc",
   "metadata": {
    "hidden": true
   },
   "outputs": [],
   "source": [
    "# def change_comp_columns(df):\n",
    "#     ## make copy df\n",
    "\n",
    "#     nocomp_df = df.copy()\n",
    "    \n",
    "#     ## check number of unique in blackiscomp and whiteiscomp (should be 2)\n",
    "#     assert all([nocomp_df[x].nunique(dropna=False)==2 for x in ['WhiteIsComp', 'BlackIsComp']]), 'More than two unique values in a XIsComp column (including nan)'\n",
    "    \n",
    "#     ## check one of the unique values are 'Yes'\n",
    "#     assert all(['Yes' in nocomp_df[x].unique() for x in ['WhiteIsComp', 'BlackIsComp']]), 'Missing \"Yes\" in one of the XIsComp column'\n",
    "\n",
    "#     ## assign 1 and 0 to blackiscomp and whiteiscomp\n",
    "\n",
    "#     nocomp_df['WhiteIsComp'] = np.where(nocomp_df['WhiteIsComp']=='Yes', np.int8(1), np.int8(0))\n",
    "#     nocomp_df['BlackIsComp'] = np.where(nocomp_df['BlackIsComp']=='Yes', np.int8(1), np.int8(0))\n",
    "\n",
    "#     ## make new 'nocomp' column which depends on blackiscomp==1 and whiteiscomp==1\n",
    "\n",
    "#     nocomp_df['NoComp'] = np.where(zip(nocomp_df['WhiteIsComp'], nocomp_df['BlackIsComp'])==[0, 0], np.int8(1), np.int8(0))\n",
    "    \n",
    "#     return nocomp_df"
   ]
  },
  {
   "cell_type": "code",
   "execution_count": null,
   "id": "55509645",
   "metadata": {
    "hidden": true
   },
   "outputs": [],
   "source": [
    "# nocomp_df_test = hp.change_comp_columns(df)\n",
    "\n",
    "# # validating the shape is (2, 0) if there are only games with cheaters (i.e. XIsComp==1)\n",
    "# nocomp_df_test[['BlackIsComp', 'WhiteIsComp', 'NoComp']].groupby(['BlackIsComp', 'WhiteIsComp', 'NoComp']).count()\n",
    "\n",
    "# nocomp_df_test[['BlackIsComp', 'WhiteIsComp', 'NoComp']].groupby([\n",
    "#     'BlackIsComp', 'WhiteIsComp', 'NoComp']).count().shape[0]; # 2\n",
    "\n",
    "\n",
    "# # validating the shape is (3, 0) if there is at least one entry that is NoComp==1\n",
    "# nocomp_df_test_2  = nocomp_df_test.copy()\n",
    "# nocomp_df_test_2.loc[0,['BlackIsComp', 'WhiteIsComp', 'NoComp']] = [0, 0, 1]\n",
    "# nocomp_df_test_2[['BlackIsComp', 'WhiteIsComp', 'NoComp']].iloc[0]\n",
    "# nocomp_df_test_2[['BlackIsComp', 'WhiteIsComp', 'NoComp']].groupby(['BlackIsComp', 'WhiteIsComp', 'NoComp']).count()\n",
    "\n",
    "# nocomp_df_test_2[['BlackIsComp', 'WhiteIsComp', 'NoComp']].groupby([\n",
    "#     'BlackIsComp', 'WhiteIsComp', 'NoComp']).count().shape[0]; # 3"
   ]
  },
  {
   "cell_type": "code",
   "execution_count": null,
   "id": "0e844a82",
   "metadata": {
    "hidden": true
   },
   "outputs": [],
   "source": [
    "# make 'nocomp' column:\n",
    "\n",
    "## make copy df\n",
    "\n",
    "nocomp_df = df.copy()\n",
    "\n",
    "## check number of unique in blackiscomp and whiteiscomp (should be 2)\n",
    "\n",
    "# white_comp_unique_num = nocomp_df.WhiteIsComp.nunique(dropna=False)\n",
    "# black_comp_unique_num = nocomp_df.BlackIsComp.nunique(dropna=False)\n",
    "# comp_unique_num = [nocomp_df[x].nunique(dropna=False) for x in ['WhiteIsComp', 'BlackIsComp']]\n",
    "# print(comp_unique_num) # [2, 2]\n",
    "# print(all(comp_unique_num))\n",
    "# comp_unique_num_is2 = np.array([nocomp_df[x].nunique(dropna=False)==2 for x in ['WhiteIsComp', 'BlackIsComp']]).all()\n",
    "# assert np.array([nocomp_df[x].nunique(dropna=False)==2 for x in ['WhiteIsComp', 'BlackIsComp']]).all()==True, 'More than two unique values in a XIsComp column (including nan)'\n",
    "# print(comp_unique_num_is2)\n",
    "comp_unique_num_is2 = all([nocomp_df[x].nunique(dropna=False)==2 for x in ['WhiteIsComp', 'BlackIsComp']])\n",
    "# print(comp_unique_num_is2)\n",
    "\n",
    "# bla = np.array([nocomp_df[x].nunique(dropna=False)==2 for x in ['WhiteIsComp', 'BlackIsComp']])\n",
    "# bla[0]=False\n",
    "# print(all(bla)) # False\n",
    "\n",
    "\n",
    "## check one of the unique values are 'Yes'\n",
    "\n",
    "has_yes_list = ['Yes' in nocomp_df[x].unique() for x in ['WhiteIsComp', 'BlackIsComp']]\n",
    "# print(has_yes_list) # [True, True]\n",
    "has_yes = all(has_yes_list)\n",
    "# print(has_yes)\n",
    "\n",
    "## assign 1 and 0 to blackiscomp and whiteiscomp\n",
    "\n",
    "# nocomp_df['WhiteIsComp'] = nocomp_df['WhiteIsComp'].apply(lambda x: np.int8(1) if x=='Yes' else np.int8(0))\n",
    "# nocomp_df['BlackIsComp'] = nocomp_df['BlackIsComp'].apply(lambda x: np.int8(1) if x=='Yes' else np.int8(0))\n",
    "\n",
    "nocomp_df['WhiteIsComp'] = np.where(nocomp_df['WhiteIsComp']=='Yes', np.int8(1), np.int8(0))\n",
    "nocomp_df['BlackIsComp'] = np.where(nocomp_df['BlackIsComp']=='Yes', np.int8(1), np.int8(0))\n",
    "\n",
    "## make new 'nocomp' column which depends on blackiscomp==1 and whiteiscomp==1\n",
    "\n",
    "# nocomp_df['NoComp'] = nocomp_df.apply(lambda x: np.int8(1) if (x['WhiteIsComp']!=1 and \\\n",
    "#                                                                x['BlackIsComp']!=1) else np.int8(0), axis=1)\n",
    "\n",
    "# nocomp_df['NoComp'] = [np.int8(0) if any(element) else np.int8(1) for element in zip(nocomp_df['WhiteIsComp'], nocomp_df['BlackIsComp'])]\n",
    "\n",
    "nocomp_df['NoComp'] = np.where(zip(nocomp_df['WhiteIsComp'], nocomp_df['BlackIsComp'])==[0, 0], np.int8(1), np.int8(0))\n"
   ]
  },
  {
   "cell_type": "code",
   "execution_count": null,
   "id": "5b38a51d",
   "metadata": {
    "hidden": true
   },
   "outputs": [],
   "source": [
    "# compare speed of np.array(...).all() and all([...])\n",
    "\n",
    "# all([...]) marginally faster\n",
    "\n",
    "# # %%timeit # 1.58 ms ± 55.5 µs per loop (mean ± std. dev. of 7 runs, 1,000 loops each)\n",
    "# nocomp_df = df.copy()\n",
    "# comp_unique_num_is2 = np.array([nocomp_df[x].nunique(dropna=False)==2 for x in ['WhiteIsComp', 'BlackIsComp']]).all()\n",
    "# comp_unique_num_is2\n",
    "\n",
    "# # %%timeit # 1.51 ms ± 18.5 µs per loop (mean ± std. dev. of 7 runs, 1,000 loops each)\n",
    "# nocomp_df = df.copy()\n",
    "# comp_unique_num_is2 = all([nocomp_df[x].nunique(dropna=False)==2 for x in ['WhiteIsComp', 'BlackIsComp']])\n",
    "# comp_unique_num_is2"
   ]
  },
  {
   "cell_type": "code",
   "execution_count": null,
   "id": "53c17435",
   "metadata": {
    "hidden": true
   },
   "outputs": [],
   "source": [
    "# Compare np.where and df.apply speed:\n",
    "\n",
    "# # %%timeit # 6.98 ms ± 160 µs per loop (mean ± std. dev. of 7 runs, 100 loops each)\n",
    "#     # using np.where(zip(...)) 3.7 ms ± 158 µs per loop (mean ± std. dev. of 7 runs, 100 loops each)\n",
    "\n",
    "# # timing np.where\n",
    "# nocomp_df = df.copy()\n",
    "# nocomp_df['WhiteIsComp'] = np.where(nocomp_df['WhiteIsComp']=='Yes', np.int8(1), np.int8(0))\n",
    "# nocomp_df['BlackIsComp'] = np.where(nocomp_df['BlackIsComp']=='Yes', np.int8(1), np.int8(0))\n",
    "\n",
    "# # nocomp_df['NoComp'] = [np.int8(0) if any(element) else np.int8(1) for element in zip(nocomp_df['WhiteIsComp'], nocomp_df['BlackIsComp'])]\n",
    "\n",
    "# nocomp_df['NoComp'] = np.where(zip(nocomp_df['WhiteIsComp'], nocomp_df['BlackIsComp'])==[0, 0], np.int8(1), np.int8(0))\n",
    "\n",
    "#-----#\n",
    "\n",
    "# any([np.int8(0), np.int8(1)]) # True\n",
    "\n",
    "# zip(nocomp_df['WhiteIsComp'], nocomp_df['BlackIsComp']) # <zip at 0x2ac85d24c40>\n",
    "\n",
    "# for element in zip(nocomp_df['WhiteIsComp'], nocomp_df['BlackIsComp']):\n",
    "#     print(element)\n",
    "\n",
    "# [np.int8(0) if any(element) else np.int8(1) for element in zip(nocomp_df['WhiteIsComp'], nocomp_df['BlackIsComp'])]\n",
    "\n",
    "# pd.Series([np.int8(1) if all(element) else np.int8(0) for element in zip(nocomp_df['WhiteIsComp'], nocomp_df['BlackIsComp'])])\n",
    "\n",
    "# nocomp_df['NoComp'] = [np.int8(0) if any(element) else np.int8(1) for element in zip(nocomp_df['WhiteIsComp'], nocomp_df['BlackIsComp'])]\n",
    "\n",
    "# nocomp_df['NoComp'].any() # False\n",
    "\n",
    "# nocomp_df['NoComp'] = np.where(zip(nocomp_df['WhiteIsComp'], nocomp_df['BlackIsComp'])==[0, 0], np.int8(1), np.int8(0))\n",
    "# np.int8(0)==0 # True\n",
    "# np.int8(1)==1 # True\n",
    "\n",
    "# nocomp_df['NoComp'].any() # False \n",
    "\n",
    "# nocomp_df['WhiteIsComp']==1 # Series of True and False\n",
    "\n",
    "#------#\n",
    "\n",
    "# # %%timeit # 54.6 ms ± 420 µs per loop (mean ± std. dev. of 7 runs, 10 loops each)\n",
    "# # timing df.apply()\n",
    "# nocomp_df = df.copy()\n",
    "# nocomp_df['WhiteIsComp'] = nocomp_df['WhiteIsComp'].apply(lambda x: np.int8(1) if x=='Yes' else np.int8(0))\n",
    "# nocomp_df['BlackIsComp'] = nocomp_df['BlackIsComp'].apply(lambda x: np.int8(1) if x=='Yes' else np.int8(0))\n",
    "# nocomp_df['NoComp'] = nocomp_df.apply(lambda x: np.int8(1) if (x['WhiteIsComp']!=1 and \\\n",
    "#                                                                x['BlackIsComp']!=1) else np.int8(0), axis=1)"
   ]
  },
  {
   "cell_type": "code",
   "execution_count": null,
   "id": "c9fdb2e5",
   "metadata": {
    "hidden": true
   },
   "outputs": [],
   "source": [
    "# trying to do both columns in one apply:\n",
    "\n",
    "# nocomp_df = df.copy()\n",
    "# nocomp_df[['WhiteIsComp', 'BlackIsComp']] = nocomp_df[['WhiteIsComp', 'BlackIsComp']].apply(lambda x: [np.int8(1) if x.loc[y]=='Yes' else np.int8(0) for y in ['WhiteIsComp', 'BlackIsComp']], axis=1)\n",
    "\n",
    "# nocomp_df[['WhiteIsComp', 'BlackIsComp']] = nocomp_df.apply(lambda x: [np.int8(1) if x[y]=='Yes' else np.int8(0) for y in ['WhiteIsComp', 'BlackIsComp']], axis=1)"
   ]
  },
  {
   "cell_type": "code",
   "execution_count": null,
   "id": "479916de",
   "metadata": {
    "hidden": true
   },
   "outputs": [],
   "source": [
    "# nocomp_df = df.copy()\n",
    "# nocomp_df[['WhiteIsComp', 'BlackIsComp']] = nocomp_df[['WhiteIsComp', 'BlackIsComp']].apply(\n",
    "#     lambda x: [np.int8(1) for y in ['WhiteIsComp', 'BlackIsComp'] if x.loc[y]=='Yes' else np.int8(0)], axis=1)"
   ]
  },
  {
   "cell_type": "code",
   "execution_count": null,
   "id": "2bac00d4",
   "metadata": {
    "hidden": true
   },
   "outputs": [],
   "source": [
    "# nocomp_df = df.copy()\n",
    "# nocomp_df[['WhiteIsComp', 'BlackIsComp']] = nocomp_df[['WhiteIsComp', 'BlackIsComp']].apply(\n",
    "#     lambda x: np.int8(1) if x=='Yes' else np.int8(0),\n",
    "#     axis=1)"
   ]
  },
  {
   "cell_type": "code",
   "execution_count": null,
   "id": "10114bf9",
   "metadata": {
    "hidden": true
   },
   "outputs": [],
   "source": [
    "# nocomp_df = df.copy()\n",
    "# nocomp_df[['WhiteIsComp', 'BlackIsComp']] = [row_value.apply(lambda x: np.int8(1) if x=='Yes' else np.int8(0)) for ]\n",
    "\n",
    "\n",
    "\n",
    "# nocomp_df[['WhiteIsComp', 'BlackIsComp']].apply(\n",
    "#     lambda x: np.int8(1) if x=='Yes' else np.int8(0),\n",
    "#     axis=1)"
   ]
  },
  {
   "cell_type": "code",
   "execution_count": null,
   "id": "7851c733",
   "metadata": {
    "hidden": true
   },
   "outputs": [],
   "source": [
    "# type(df.loc[0]) # Series\n",
    "# display(df.loc[0])"
   ]
  },
  {
   "cell_type": "code",
   "execution_count": null,
   "id": "040da802",
   "metadata": {
    "hidden": true
   },
   "outputs": [],
   "source": [
    "# row = df.loc[0]\n",
    "# row.loc['ECO']"
   ]
  },
  {
   "cell_type": "code",
   "execution_count": null,
   "id": "b0c42d30",
   "metadata": {
    "hidden": true
   },
   "outputs": [],
   "source": [
    "# test = row[['BlackIsComp', 'WhiteIsComp']].copy()\n",
    "# type(test) # series"
   ]
  },
  {
   "cell_type": "code",
   "execution_count": null,
   "id": "647ac9ec",
   "metadata": {
    "hidden": true,
    "scrolled": true
   },
   "outputs": [],
   "source": [
    "# row[['BlackIsComp', 'WhiteIsComp']] = ['yes', 'no'] # SettingWithCopyWarning: A value is trying to be set on a copy of a slice from a DataFrame"
   ]
  },
  {
   "cell_type": "code",
   "execution_count": null,
   "id": "8a36e2f2",
   "metadata": {
    "hidden": true
   },
   "outputs": [],
   "source": [
    "# row[['BlackIsComp', 'WhiteIsComp']] "
   ]
  },
  {
   "cell_type": "markdown",
   "id": "2690d495",
   "metadata": {
    "heading_collapsed": true,
    "hidden": true
   },
   "source": [
    "## Editing Chess NaN Checker helper:"
   ]
  },
  {
   "cell_type": "code",
   "execution_count": null,
   "id": "79627073",
   "metadata": {
    "hidden": true
   },
   "outputs": [],
   "source": [
    "# def chess_nan_checker(df, list_of_cols=['BlackIsComp', 'WhiteIsComp']): \n",
    "#     '''\n",
    "#     checks for nan values in the dataframe\n",
    "\n",
    "#     Args:\n",
    "#         df (DataFrame): Pandas dataframe\n",
    "#         list_of_cols (List): List of strings indicating what columns to ignore\n",
    "\n",
    "#     Returns:\n",
    "#         summary (String): returns a summary of nan values\n",
    "#     '''\n",
    "\n",
    "#     assert all([col in df.columns for col in list_of_cols]), f'Passed dataframe does not contain {list_of_cols}'   \n",
    "    \n",
    "#     # are there any nan values?\n",
    "#     any_nan = all(\n",
    "#         df[[x for x in df.columns if x not in list_of_cols]].notna()\n",
    "#     ) # returns True if all values are not NaN\n",
    "#     if any_nan == True:\n",
    "#         return print(f\"This dataframe has 0 NaN values in columns: {list(df[[x for x in df.columns if x not in list_of_cols]].columns)}\")\n",
    "        \n",
    "#     # how many?\n",
    "#     nan_series = df.isna().sum()\n",
    "#     nan_num = nan_series.sum()\n",
    "\n",
    "#     # which variables do they come from\n",
    "\n",
    "#     # list_of_nan_column_loc = \\\n",
    "#     #     [ [df[column], df[column].isna().sum()] for \\\n",
    "#     #         column in df.columns ]\n",
    "\n",
    "#     nan_cols = list(nan_series[nan_series > 0].index)\n",
    "\n",
    "#     # any variables with more than 50% of data missing?\n",
    "#     big_nan_cols = list(nan_series[nan_series/len(df) > 0.5])\n",
    "    \n",
    "#     #summary can be all the info about nans\n",
    "#     summary = f'This dataframe has {nan_num} NaN values'\n",
    "\n",
    "#     if len(nan_cols) > 0:\n",
    "#         summary += f'\\nThe NaN values come from: {nan_cols}'\n",
    "\n",
    "#     if len(big_nan_cols) > 0:\n",
    "#         summary += f'\\nMore than 50% of the data is missing from: {big_nan_cols}'\n",
    "\n",
    "#     return print(summary)"
   ]
  },
  {
   "cell_type": "code",
   "execution_count": null,
   "id": "6ed7fb6d",
   "metadata": {
    "hidden": true
   },
   "outputs": [],
   "source": [
    "# Testing assertion error of nan_checker\n",
    "\n",
    "# test_list_of_cols = df.copy()\n",
    "# test_list_of_cols.drop(columns='BlackIsComp', inplace=True)\n",
    "\n",
    "# list_of_cols = ['BlackIsComp', 'WhiteIsComp']\n",
    "\n",
    "# assert all([col in test_list_of_cols.columns for col in list_of_cols]), f'Passed dataframe does not contain {list_of_cols}'\n",
    "\n",
    "# any_nan = all(\n",
    "#     df[[x for x in test_list_of_cols.columns if x not in list_of_cols]].notna()\n",
    "# ) # returns True if all values are not NaN\n",
    "# if any_nan == True:\n",
    "# #     return \n",
    "#     print(f\"This dataframe has 0 NaN values in columns: {list(test_list_of_cols[[x for x in df.columns if x not in list_of_cols]].columns)}\")"
   ]
  },
  {
   "cell_type": "markdown",
   "id": "05918b43",
   "metadata": {
    "hidden": true
   },
   "source": [
    "## Figuring out how to get average time per ply (average emt) for each player helper:"
   ]
  },
  {
   "cell_type": "code",
   "execution_count": null,
   "id": "5e006d41",
   "metadata": {
    "hidden": true
   },
   "outputs": [],
   "source": []
  },
  {
   "cell_type": "code",
   "execution_count": null,
   "id": "d20cef18",
   "metadata": {
    "hidden": true
   },
   "outputs": [],
   "source": []
  },
  {
   "cell_type": "code",
   "execution_count": null,
   "id": "4422ac70",
   "metadata": {
    "hidden": true
   },
   "outputs": [],
   "source": []
  },
  {
   "cell_type": "code",
   "execution_count": null,
   "id": "bf0c900d",
   "metadata": {
    "hidden": true
   },
   "outputs": [],
   "source": []
  }
 ],
 "metadata": {
  "kernelspec": {
   "display_name": "capstone_env",
   "language": "python",
   "name": "capstone_env"
  },
  "language_info": {
   "codemirror_mode": {
    "name": "ipython",
    "version": 3
   },
   "file_extension": ".py",
   "mimetype": "text/x-python",
   "name": "python",
   "nbconvert_exporter": "python",
   "pygments_lexer": "ipython3",
   "version": "3.9.13"
  },
  "toc": {
   "base_numbering": 1,
   "nav_menu": {},
   "number_sections": true,
   "sideBar": true,
   "skip_h1_title": false,
   "title_cell": "Table of Contents",
   "title_sidebar": "Contents",
   "toc_cell": false,
   "toc_position": {},
   "toc_section_display": true,
   "toc_window_display": false
  }
 },
 "nbformat": 4,
 "nbformat_minor": 5
}
